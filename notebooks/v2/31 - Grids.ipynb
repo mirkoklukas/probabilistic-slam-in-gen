{
 "cells": [
  {
   "cell_type": "code",
   "execution_count": 8,
   "metadata": {},
   "outputs": [],
   "source": [
    "using BenchmarkTools;\n",
    "using LaTeXStrings\n",
    "using Colors, Plots, Images;\n",
    "col = palette(:default);\n",
    "(cgrad::PlotUtils.ContinuousColorGradient)(xs::Vector{Vector{Float64}}) = [cgrad[x] for x in xs];\n",
    "(cgrad::PlotUtils.ContinuousColorGradient)(m::Matrix{Float64}) = reshape(cgrad[m[:]], size(m));\n",
    "using CUDA"
   ]
  },
  {
   "cell_type": "code",
   "execution_count": 18,
   "metadata": {},
   "outputs": [],
   "source": [
    "function logsumexp_cu(x; dim)\n",
    "    c = maximum(x)\n",
    "    return c .+ log.(sum(exp.(x .- c), dims=dim))\n",
    "end\n",
    "\n",
    "function gaussian_logpdf(x, mu, sig)\n",
    "    d = (x .- mu).^2 ./ sig.^2\n",
    "    log_p = - log.(sqrt.(sig * 2 * π)) .- 1/2 * d\n",
    "    return log_p\n",
    "end;"
   ]
  },
  {
   "cell_type": "code",
   "execution_count": 10,
   "metadata": {},
   "outputs": [
    {
     "data": {
      "text/plain": [
       "(100, 3)"
      ]
     },
     "execution_count": 10,
     "metadata": {},
     "output_type": "execute_result"
    }
   ],
   "source": [
    "\n",
    "x   = CUDA.ones(100, 3)\n",
    "mu  = CUDA.ones(100, 3)\n",
    "sig = CUDA.ones(100, 3)\n",
    "\n",
    "logx = gaussian_logpdf(x, mu, sig)\n",
    "size(logx)\n"
   ]
  },
  {
   "cell_type": "code",
   "execution_count": 15,
   "metadata": {},
   "outputs": [
    {
     "data": {
      "text/plain": [
       "50.0"
      ]
     },
     "execution_count": 15,
     "metadata": {},
     "output_type": "execute_result"
    }
   ],
   "source": [
    "x   = CUDA.ones(100, 3, 1, 1)\n",
    "mu  = CUDA.ones(  1, 1, 7, 1)\n",
    "sig = CUDA.ones(  1, 1, 1, 5)\n",
    "\n",
    "logx = gaussian_logpdf(x, mu, sig)\n",
    "size(logx)\n",
    "\n"
   ]
  },
  {
   "cell_type": "code",
   "execution_count": 52,
   "metadata": {},
   "outputs": [
    {
     "data": {
      "text/plain": [
       "0.45828736f0"
      ]
     },
     "execution_count": 52,
     "metadata": {},
     "output_type": "execute_result"
    }
   ],
   "source": [
    "x = CUDA.rand(1,3)\n",
    "x = reshape(x, 1, 3, 1)\n",
    "\n",
    "CUDA.allowscalar(false)\n",
    "\n",
    "CUDA.@allowscalar x[1]"
   ]
  },
  {
   "cell_type": "code",
   "execution_count": 38,
   "metadata": {},
   "outputs": [
    {
     "data": {
      "text/plain": [
       "(2,)"
      ]
     },
     "execution_count": 38,
     "metadata": {},
     "output_type": "execute_result"
    }
   ],
   "source": [
    "k = 2\n",
    "n = 7\n",
    "m = 3\n",
    "\n",
    "x = CUDA.rand(1, n, 1, 2)\n",
    "y = CUDA.rand(k, n, m, 2)\n",
    "\n",
    "sig     = CUDA.rand(1,1,1,1,3,1)\n",
    "outlier = CUDA.rand(1,1,1,1,1,3)\n",
    "sig = 1.0\n",
    "outlier=0.5\n",
    "outlier_vol = 1.0\n",
    "\n",
    "# Line by line...\n",
    "# 1. Compute 1D Gaussians - (n,m,2)\n",
    "# 2. Convert to 2D gausians - (n,m)\n",
    "# 3. Convert to mixture of m 2D gausians (GM) - (n,)\n",
    "# 4. Convert to mixture of `GM` and `anywhere` (D) - (n,)\n",
    "# 5. Convert to Product of D's - ()\n",
    "log_p = gaussian_logpdf(x, y, sig)\n",
    "log_p = sum(log_p, dims=4)\n",
    "log_p = logsumexp_cu(log_p .- log(m), dim=3)\n",
    "log_p_or_any = log.((1 .- outlier).*exp.(log_p) .+ outlier./outlier_vol)\n",
    "log_p = sum(log_p_or_any ,dims=2)\n",
    "log_p = dropdims(log_p, dims=(2,3,4))\n",
    "size(log_p)\n",
    "\n"
   ]
  },
  {
   "cell_type": "code",
   "execution_count": 34,
   "metadata": {},
   "outputs": [
    {
     "data": {
      "text/plain": [
       "2×3×3 CuArray{Float64, 3, CUDA.Mem.DeviceBuffer}:\n",
       "[:, :, 1] =\n",
       " -0.692291  -0.6917    -0.691869\n",
       " -0.697296  -0.696199  -0.696595\n",
       "\n",
       "[:, :, 2] =\n",
       " -8.14596  -8.12666  -8.13306\n",
       " -8.24099  -8.21395  -8.22389\n",
       "\n",
       "[:, :, 3] =\n",
       " -3.78055  -3.77587  -3.77729\n",
       " -3.81413  -3.80621  -3.80909"
      ]
     },
     "execution_count": 34,
     "metadata": {},
     "output_type": "execute_result"
    }
   ],
   "source": [
    "dropdims(log_p, dims=(2,3,4))"
   ]
  },
  {
   "cell_type": "code",
   "execution_count": null,
   "metadata": {},
   "outputs": [],
   "source": []
  }
 ],
 "metadata": {
  "kernelspec": {
   "display_name": "Julia 1.8.3",
   "language": "julia",
   "name": "julia-1.8"
  },
  "language_info": {
   "file_extension": ".jl",
   "mimetype": "application/julia",
   "name": "julia",
   "version": "1.8.3"
  },
  "orig_nbformat": 4
 },
 "nbformat": 4,
 "nbformat_minor": 2
}
