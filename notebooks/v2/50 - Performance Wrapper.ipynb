{
 "cells": [
  {
   "cell_type": "code",
   "execution_count": 50,
   "metadata": {},
   "outputs": [],
   "source": [
    "push!(LOAD_PATH, \"../src\");\n",
    "using Gen\n",
    "push!(LOAD_PATH, ENV[\"probcomp\"]*\"/Gen-Distribution-Zoo/src\")\n",
    "using GenDistributionZoo: ProductDistribution, diagnormal\n",
    "using BenchmarkTools\n",
    "using MyUtils"
   ]
  },
  {
   "cell_type": "code",
   "execution_count": 43,
   "metadata": {},
   "outputs": [],
   "source": [
    "#nbx\n",
    "# Todo: Maybe call it PerformanceWrapper?\n",
    "struct PerformanceWrapper{T,A,B,C} <: Distribution{T}\n",
    "    d::Distribution{T}\n",
    "    argtransform::A\n",
    "    logpdf::B\n",
    "    random::C\n",
    "end\n",
    "PerformanceWrapper(d) = PerformanceWrapper(d, nothing, nothing, nothing)\n",
    "\n",
    "function Gen.random(Q::PerformanceWrapper, args...)\n",
    "    args = Q.argtransform === nothing ?  args : Q.argtransform(args...);\n",
    "    return Q.random === nothing ? Gen.random(Q.d, args...) : Q.random(args...);\n",
    "end\n",
    "(Q::PerformanceWrapper)(args...) = Gen.random(Q, args...)\n",
    "\n",
    "function Gen.logpdf(Q::PerformanceWrapper, x, args...)\n",
    "    args = Q.argtransform === nothing ?  args : Q.argtransform(args...);\n",
    "    return Q.logpdf === nothing ? Gen.logpdf(x, args...) : Q.logpdf(x, args...);\n",
    "end\n",
    "#\n",
    "# Todo: `logpdf_grad` has to be implemented correctly, \n",
    "#       applying the Jacobian of argtransform...\n",
    "#\n",
    "function Gen.logpdf_grad(Q::PerformanceWrapper, x, args...)\n",
    "    args = Q.argtransform === nothing ?  args : Q.argtransform(args...);\n",
    "    return Gen.logpdf_grad(Q.d, x, Q.argtransform(args)...)\n",
    "end\n",
    "Gen.has_output_grad(Q::PerformanceWrapper)    = Gen.has_output_grad(Q.d)\n",
    "Gen.has_argument_grads(Q::PerformanceWrapper) = Tuple(false for _ in Gen.has_argument_grads(Q.d))"
   ]
  },
  {
   "cell_type": "code",
   "execution_count": 27,
   "metadata": {},
   "outputs": [
    {
     "name": "stdout",
     "output_type": "stream",
     "text": [
      "  124.400 ns (0 allocations: 0 bytes)\n",
      "  185.200 ns (2 allocations: 32 bytes)\n",
      "  123.600 ns (0 allocations: 0 bytes)\n"
     ]
    }
   ],
   "source": [
    "@btime Gen.logpdf($normal, 0.0, 0, 1) samples=5 evals=5;\n",
    "\n",
    "d = PerformanceWrapper(normal);\n",
    "@btime Gen.logpdf($d, 0.0, 0, 1)      samples=5 evals=5;\n",
    "\n",
    "d = PerformanceWrapper(normal, (mu, std) -> (mu - 1.0, 2*std), (args...) -> - Inf, nothing);\n",
    "@btime Gen.logpdf($d, 0.0, 0, 1)      samples=5 evals=5;"
   ]
  },
  {
   "cell_type": "code",
   "execution_count": 39,
   "metadata": {},
   "outputs": [
    {
     "name": "stdout",
     "output_type": "stream",
     "text": [
      "  409.600 ns (3 allocations: 240 bytes)\n",
      "  1.151 μs (10 allocations: 480 bytes)\n",
      "  334.400 ns (3 allocations: 240 bytes)\n",
      "  1.059 μs (9 allocations: 512 bytes)\n"
     ]
    }
   ],
   "source": [
    "dnormal = ProductDistribution(normal)\n",
    "\n",
    "@btime diagnormal([0;0],[1,1]) samples=5 evals=5;\n",
    "@btime dnormal([0;0],[1,1]) samples=5 evals=5;\n",
    "\n",
    "@btime logpdf(diagnormal, [0.0;0.0], [0;0],[1,1]) samples=5 evals=5;\n",
    "@btime logpdf(dnormal, [0.0;0.0], [0;0],[1,1])    samples=5 evals=5;"
   ]
  },
  {
   "cell_type": "code",
   "execution_count": 52,
   "metadata": {},
   "outputs": [
    {
     "data": {
      "text/plain": [
       "GenDistributionZoo.HomogeneousProduct{Vector{Float64}}(HeterogeneousMixture{Vector{Float64}}(2, Distribution{Vector{Float64}}[HomogeneousMixture{Vector{Float64}}(GenDistributionZoo.DiagonalNormal(), [1, 1]), GenDistributionZoo.DiagonalNormal()], true, (true, true, true, true, true, true), false, [3, 2], [1, 4]), 1)"
      ]
     },
     "execution_count": 52,
     "metadata": {},
     "output_type": "execute_result"
    }
   ],
   "source": [
    "gm             = HomogeneousMixture(diagnormal, [1, 1])\n",
    "outlier_dist   = diagnormal\n",
    "sensor_mix     = HeterogeneousMixture([gm, outlier_dist])\n",
    "sensor_product = ProductDistribution(sensor_mix)"
   ]
  },
  {
   "cell_type": "code",
   "execution_count": 62,
   "metadata": {},
   "outputs": [
    {
     "name": "stdout",
     "output_type": "stream",
     "text": [
      "  16.075 ms (163182 allocations: 5.77 MiB)\n",
      "  440.169 μs (556 allocations: 48.62 KiB)\n",
      "  452.092 μs (550 allocations: 48.52 KiB)\n"
     ]
    }
   ],
   "source": [
    "include(\"src/sensor_distribution.jl\")\n",
    "\n",
    "function performant_logpdf(x, ỹ, sig, outlier, outlier_vol, zmax)\n",
    "    x_ = CuArray(stack(x))\n",
    "\n",
    "    ỹ_ = CuArray(ỹ)\n",
    "    n = size(ỹ_, 1)\n",
    "    m = size(ỹ_, 2)\n",
    "    ỹ_ = reshape(ỹ_, 1, n, m, 2)\n",
    "\n",
    "    log_p, = sensor_logpdf(x_, ỹ_, sig, outlier, outlier_vol) # CuArray of length 1\n",
    "    return CUDA.@allowscalar log_p[1]\n",
    "end\n",
    "\n",
    "function sensor_product_args(ỹ, sig, outlier, outlier_vol, zmax) \n",
    "    n,m, = size(ỹ)\n",
    "    ỹ_perm = permutedims(ỹ, (1,3,2))\n",
    "    args = (\n",
    "        fill([1-outlier, outlier], n), \n",
    "        fill(1/m, n, m), \n",
    "        ỹ_perm, \n",
    "        fill(sig, n, 2,m), \n",
    "        fill(0.0, n,2), \n",
    "        fill(zmax, n,2)\n",
    "    )\n",
    "    return args\n",
    "end\n",
    "\n",
    "performant_sensor_product = PerformanceWrapper(ProductDistribution(sensor_mix), nothing, performant_logpdf, nothing)\n",
    "\n",
    "\n",
    "ỹ = rand(361, 21, 2)\n",
    "sig         = 0.1\n",
    "outlier     = 0.1\n",
    "outlier_vol = 100.\n",
    "zmax        = 100.\n",
    "args = (ỹ, sig, outlier, outlier_vol, zmax) \n",
    "x = sensor_product(sensor_product_args(args...)...)\n",
    "\n",
    "trans_formed_args = sensor_product_args(args...)\n",
    "\n",
    "@btime logpdf(sensor_product, x, trans_formed_args...) samples=3 evals=3;\n",
    "@btime logpdf(performant_sensor_product, x, args...) samples=3 evals=3;\n",
    "\n",
    "@btime performant_logpdf(x, ỹ, sig, outlier, outlier_vol, zmax) samples=3 evals=3;"
   ]
  },
  {
   "cell_type": "code",
   "execution_count": 42,
   "metadata": {},
   "outputs": [
    {
     "name": "stdout",
     "output_type": "stream",
     "text": [
      "  16.374 ms (163185 allocations: 5.77 MiB)\n"
     ]
    }
   ],
   "source": [
    "\n",
    "\n",
    "ỹ = rand(361, 21, 2)\n",
    "sig         = 0.1\n",
    "outlier     = 0.1\n",
    "outlier_vol = 100.\n",
    "zmax        = 100.\n",
    "args = sensor_product_args(ỹ, sig, outlier, outlier_vol, zmax) \n",
    "x = sensor_product(args...)\n",
    "\n",
    "@btime logpdf(sensor_product, x, args...) samples=3 evals=3;"
   ]
  },
  {
   "cell_type": "code",
   "execution_count": null,
   "metadata": {},
   "outputs": [],
   "source": []
  }
 ],
 "metadata": {
  "kernelspec": {
   "display_name": "Julia 1.8.3",
   "language": "julia",
   "name": "julia-1.8"
  },
  "language_info": {
   "file_extension": ".jl",
   "mimetype": "application/julia",
   "name": "julia",
   "version": "1.8.3"
  },
  "orig_nbformat": 4
 },
 "nbformat": 4,
 "nbformat_minor": 2
}
