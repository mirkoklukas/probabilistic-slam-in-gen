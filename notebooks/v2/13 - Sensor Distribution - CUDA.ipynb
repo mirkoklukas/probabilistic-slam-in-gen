{
 "cells": [
  {
   "cell_type": "code",
   "execution_count": 1,
   "metadata": {},
   "outputs": [
    {
     "data": {
      "text/html": [
       "<style>.rendered_html.text_cell_render {max-width:500px; }</style>"
      ],
      "text/plain": [
       "HTML{String}(\"<style>.rendered_html.text_cell_render {max-width:500px; }</style>\")"
      ]
     },
     "metadata": {},
     "output_type": "display_data"
    },
    {
     "name": "stdout",
     "output_type": "stream",
     "text": [
      "Loading `../data/mit-csail.json` ...\n",
      "\n",
      "\t_zs \tVector{Vector{Float64}}\n",
      "\t_zs_inf \tVector{Vector{Float64}}\n",
      "\t_as \tVector{Float64}\n",
      "\t_zmax \tFloat64\n",
      "\t_ys \tVector{Vector{Vector{Float64}}}\n",
      "\t_ys_inf \tVector{Vector{Vector{Float64}}}\n",
      "\t_num_a \tInt64\n",
      "\t_xs \tVector{Vector{Float64}}\n",
      "\t_hds \tVector{Float64}\n",
      "\t_ps \tVector{Pose}\n",
      "\t_dxs \tVector{Vector{Float64}}\n",
      "\t_dhds \tVector{Float64}\n",
      "\t_us \tVector{Control}\n",
      "\t_T \tInt64\n"
     ]
    }
   ],
   "source": [
    "display(HTML(\"<style>.rendered_html.text_cell_render {max-width:500px; }</style>\"));\n",
    "push!(LOAD_PATH, \"../src\");\n",
    "push!(LOAD_PATH, ENV[\"probcomp\"]*\"/Gen-Distribution-Zoo/src\");\n",
    "\n",
    "include(\"../src/pose.jl\")\n",
    "include(\"src/csail_data.jl\")\n",
    "include(\"../src/cuda_raycaster_point_cloud_b.jl\");"
   ]
  },
  {
   "cell_type": "code",
   "execution_count": 2,
   "metadata": {},
   "outputs": [],
   "source": [
    "\"\"\"\n",
    "    zs_ = cast_cu(ps_::CuArray, ys_::CuArray; fov=2π, zmax=Inf, cell_rad=0.01)\n",
    "\n",
    "Computes depth measurements `zs_` with respect to a matrix of poses `ps_`\n",
    "and a point cloud matrix `ys_` ...\n",
    "\"\"\"\n",
    "function cast_cu(ps_::CuArray, ys_::CuArray; fov=2π, zmax=Inf, cell_rad=0.05)\n",
    "    zs_ = zmax*CUDA.ones(size(ps_, 1), 361)\n",
    "    cast_cu!(zs_, ys_, ps_; fov=fov, cell_rad=cell_rad)\n",
    "    return zs_\n",
    "end;"
   ]
  },
  {
   "attachments": {},
   "cell_type": "markdown",
   "metadata": {},
   "source": [
    "# Sensor distribution - CUDA accelerated"
   ]
  },
  {
   "attachments": {},
   "cell_type": "markdown",
   "metadata": {},
   "source": [
    "## Sliding windows"
   ]
  },
  {
   "cell_type": "code",
   "execution_count": 139,
   "metadata": {},
   "outputs": [],
   "source": [
    "#nbx --fname=src/sensor_distribution.jl\n",
    "using CUDA\n",
    "using Gen\n",
    "using GenDistributionZoo: diagnormal\n",
    "\n",
    "\n",
    "# Todo: handle wrap around smarter?\n",
    "\"\"\"\n",
    "    slw_kernel!(x, w::Int, y)\n",
    "\n",
    "CUDA kernel to compute sliding windows...\n",
    "Takes CuArrays of shape `(k,n)` and `(k,n,m=2w+1)` \n",
    "and fills the latter with ...\n",
    "\"\"\"\n",
    "function slw_kernel!(x, w::Int, y, wrap=false)\n",
    "    \n",
    "    m = 2*w + 1\n",
    "    n = size(x,2)\n",
    "\n",
    "    # Make sure the arrays are \n",
    "    # of the right shape\n",
    "    @assert ndims(x)  == 2\n",
    "    @assert ndims(y)  == ndims(x) + 1\n",
    "    @assert size(x,1) == size(y,1)\n",
    "    @assert size(x,2) == size(y,2)\n",
    "    @assert size(y,3) == m\n",
    "    \n",
    "    # Thread id's\n",
    "    ix = (blockIdx().x - 1) * blockDim().x + threadIdx().x\n",
    "    iy = (blockIdx().y - 1) * blockDim().y + threadIdx().y\n",
    "    iz = (blockIdx().z - 1) * blockDim().z + threadIdx().z\n",
    "    sx = gridDim().x * blockDim().x\n",
    "    sy = gridDim().y * blockDim().y\n",
    "    sz = gridDim().z * blockDim().z\n",
    "        \n",
    "    for j_pose = ix:sx:size(y,1), j_obs = iy:sy:size(y,2), j_mix = iz:sz:size(y,3)\n",
    "        # Transform mixture index in `1:m` \n",
    "        # to offsets in `-w:w`\n",
    "        offset = j_mix-1-w\n",
    "        \n",
    "        j = j_obs + offset\n",
    "        if wrap\n",
    "            j = mod(j - 1 , n) + 1\n",
    "            val = x[j_pose, j]\n",
    "        else\n",
    "            if 1 <= j <= n\n",
    "                val = x[j_pose, j]\n",
    "            else\n",
    "                j = max(min(j,n),1)\n",
    "                val = x[j_pose, j]\n",
    "            end\n",
    "        end\n",
    "        \n",
    "        # Fill entries of `y`\n",
    "        @inbounds y[j_pose, j_obs, j_mix] = val\n",
    "    end\n",
    "    return\n",
    "end\n",
    "\n",
    "\"\"\"\n",
    "```julia\n",
    "    y = slw_cu!(x::CuArray, w::Int; blockdims=(8,8,4))\n",
    "```\n",
    "CUDA-accelerated function computing sliding windows. \n",
    "Takes a CuArray of shape `(k,n)` and returns a CuArray\n",
    "of shape `(k,n,m)`, where `m = 2w+1`....\n",
    "\"\"\"\n",
    "function slw_cu!(x::CuArray, w::Int; blockdims=(8,8,4), wrap=false)\n",
    "    \n",
    "    k = size(x, 1)\n",
    "    n = size(x, 2)\n",
    "    m = 2*w+1\n",
    "    \n",
    "    y = CUDA.ones(k,n,m)\n",
    "    \n",
    "    griddims = cuda_grid((k,n,m), blockdims)\n",
    "    CUDA.@sync begin\n",
    "        @cuda threads=blockdims blocks=griddims slw_kernel!(x, w, y, wrap)\n",
    "    end\n",
    "    \n",
    "    return y\n",
    "end;"
   ]
  },
  {
   "cell_type": "code",
   "execution_count": 4,
   "metadata": {},
   "outputs": [
    {
     "data": {
      "text/plain": [
       "7×5 Matrix{Float32}:\n",
       " 1.0  1.0  1.0  2.0  3.0\n",
       " 1.0  1.0  2.0  3.0  4.0\n",
       " 1.0  2.0  3.0  4.0  5.0\n",
       " 2.0  3.0  4.0  5.0  6.0\n",
       " 3.0  4.0  5.0  6.0  7.0\n",
       " 4.0  5.0  6.0  7.0  7.0\n",
       " 5.0  6.0  7.0  7.0  7.0"
      ]
     },
     "execution_count": 4,
     "metadata": {},
     "output_type": "execute_result"
    }
   ],
   "source": [
    "k = 10\n",
    "n = 7\n",
    "w = 2\n",
    "m = 2*w + 1\n",
    "\n",
    "x  = stack(fill(collect(1.0:n), k))\n",
    "x_ = CuArray(x)\n",
    "\n",
    "y_ = slw_cu!(x_, w, wrap=false)\n",
    "y  = Array(y_);\n",
    "y[1,:,:]"
   ]
  },
  {
   "attachments": {},
   "cell_type": "markdown",
   "metadata": {},
   "source": [
    "## Mixture Components"
   ]
  },
  {
   "attachments": {},
   "cell_type": "markdown",
   "metadata": {},
   "source": [
    "### 2D Mixture"
   ]
  },
  {
   "cell_type": "code",
   "execution_count": 5,
   "metadata": {},
   "outputs": [],
   "source": [
    "#nbx\n",
    "polar_inv_cu(z::CuArray, a::CuArray) = cat(z.*cos.(a), z.*sin.(a), dims=ndims(a)+1);\n",
    "\n",
    "\"\"\"\n",
    "    ys_tilde_ = get_ys_tilde_cu(zs_::CuArray, w::Int)    \n",
    "\n",
    "Takes depth measurements and returns \n",
    "the point clouds for the gaussian mixtures ...\n",
    "Returns array of shape `(k, n, m, 2)` ...\n",
    "\"\"\"\n",
    "function get_ys_tilde_cu(zs_::CuArray, as_::CuArray, w::Int; wrap=false)   \n",
    "\n",
    "    zs_tilde_ = slw_cu!(zs_, w; blockdims=(8,8,4), wrap=wrap)\n",
    "    as_tilde_ = slw_cu!(reshape(as_,1,:), w; blockdims=(8,8,4), wrap=wrap)\n",
    "    ys_tilde_ = polar_inv_cu(zs_tilde_, as_tilde_)\n",
    "    \n",
    "    return ys_tilde_\n",
    "end;"
   ]
  },
  {
   "attachments": {},
   "cell_type": "markdown",
   "metadata": {},
   "source": [
    "### 1D Mixture"
   ]
  },
  {
   "cell_type": "code",
   "execution_count": 173,
   "metadata": {},
   "outputs": [],
   "source": [
    "\"\"\"\n",
    "    log_p = gaussian_logpdf(x, mu, sig)\n",
    "\n",
    "Benchmarks in `33 - CUDA Accelerated Gen Distributions` ...\n",
    "\"\"\"\n",
    "function gaussian_logpdf(x, mu, sig)\n",
    "    d = (x .- mu).^2 ./ sig.^2\n",
    "    log_p = - log.(sig) .- log(sqrt(2π)) .- 1/2 * d\n",
    "    return log_p\n",
    "end;"
   ]
  },
  {
   "cell_type": "code",
   "execution_count": 221,
   "metadata": {},
   "outputs": [
    {
     "data": {
      "text/plain": [
       "get_1d_tilde_cu"
      ]
     },
     "execution_count": 221,
     "metadata": {},
     "output_type": "execute_result"
    }
   ],
   "source": [
    "\"\"\"\n",
    "    ys_tilde_1d_, ws_tilde_1d_ = get_1d_tilde_cu(zs_, as_, w, sig; wrap=false)\n",
    "\"\"\"\n",
    "function get_1d_tilde_cu(zs_, as_, w, sig; wrap=false)\n",
    "    zs_tilde_    = slw_cu!(zs_, w; blockdims=(8,8,4), wrap=wrap)\n",
    "    as_tilde_    = slw_cu!(reshape(as_,1,:), w; blockdims=(8,8,4), wrap=wrap)\n",
    "    as_tilde_    = π/2 .- as_tilde_ .+ reshape(as_,1,:,1)\n",
    "    ds_tilde_1d_ = zs_tilde_ .* cos.(as_tilde_)\n",
    "    ys_tilde_1d_ = zs_tilde_ .* sin.(as_tilde_)\n",
    "    ws_tilde_1d_ = gaussian_logpdf(ds_tilde_1d_, 0.0, sig)\n",
    "    ws_tilde_1d_ = ws_tilde_1d_ .- logsumexp_cu(ws_tilde_1d_, dim=3)\n",
    "    return ys_tilde_1d_, ws_tilde_1d_\n",
    "end"
   ]
  },
  {
   "attachments": {},
   "cell_type": "markdown",
   "metadata": {},
   "source": [
    "## Likelihoods"
   ]
  },
  {
   "attachments": {},
   "cell_type": "markdown",
   "metadata": {},
   "source": [
    "### 1d Likelihood"
   ]
  },
  {
   "cell_type": "code",
   "execution_count": 222,
   "metadata": {},
   "outputs": [],
   "source": [
    "\"\"\"\n",
    "    log_p, pointwise = smc_1d_logpdf(ys_tilde_1d_, ws_tilde_1d_, sig, outlier, outlier_vol; return_pointwise=false)\n",
    "\"\"\"\n",
    "function smc_1d_logpdf(zs_, ys_tilde_1d_, ws_tilde_1d_, sig, outlier, outlier_vol; return_pointwise=false)\n",
    "\n",
    "    log_p = gaussian_logpdf(zs_, ys_tilde_1d_, sig)\n",
    "    log_p = logsumexp_cu(log_p .+ ws_tilde_1d_, dim=3)\n",
    "    log_p = log.((1 .- outlier).*exp.(log_p) .+ outlier./outlier_vol)\n",
    "\n",
    "    pointwise = nothing\n",
    "    if return_pointwise\n",
    "        pointwise = dropdims(log_p, dims=3)\n",
    "    end\n",
    "\n",
    "    log_p = sum(log_p, dims=2)\n",
    "    log_p = dropdims(log_p, dims=(2,3))\n",
    "\n",
    "    return log_p, pointwise\n",
    "end;"
   ]
  },
  {
   "cell_type": "code",
   "execution_count": 227,
   "metadata": {},
   "outputs": [
    {
     "name": "stdout",
     "output_type": "stream",
     "text": [
      "(1, 361)\n",
      "[98.91096822071384]\n"
     ]
    },
    {
     "data": {
      "image/svg+xml": [
       "<?xml version=\"1.0\" encoding=\"utf-8\"?>\n",
       "<svg xmlns=\"http://www.w3.org/2000/svg\" xmlns:xlink=\"http://www.w3.org/1999/xlink\" width=\"200\" height=\"200\" viewBox=\"0 0 800 800\">\n",
       "<defs>\n",
       "  <clipPath id=\"clip790\">\n",
       "    <rect x=\"0\" y=\"0\" width=\"800\" height=\"800\"/>\n",
       "  </clipPath>\n",
       "</defs>\n",
       "<path clip-path=\"url(#clip790)\" d=\"M0 800 L800 800 L800 0 L0 0  Z\" fill=\"#ffffff\" fill-rule=\"evenodd\" fill-opacity=\"1\"/>\n",
       "<defs>\n",
       "  <clipPath id=\"clip791\">\n",
       "    <rect x=\"160\" y=\"80\" width=\"561\" height=\"561\"/>\n",
       "  </clipPath>\n",
       "</defs>\n",
       "<path clip-path=\"url(#clip790)\" d=\"M177.936 677.168 L752.756 677.168 L752.756 47.2441 L177.936 47.2441  Z\" fill=\"#ffffff\" fill-rule=\"evenodd\" fill-opacity=\"1\"/>\n",
       "<defs>\n",
       "  <clipPath id=\"clip792\">\n",
       "    <rect x=\"177\" y=\"47\" width=\"576\" height=\"631\"/>\n",
       "  </clipPath>\n",
       "</defs>\n",
       "<polyline clip-path=\"url(#clip792)\" style=\"stroke:#000000; stroke-linecap:round; stroke-linejoin:round; stroke-width:2; stroke-opacity:0.1; fill:none\" points=\"192.698,677.168 192.698,47.2441 \"/>\n",
       "<polyline clip-path=\"url(#clip792)\" style=\"stroke:#000000; stroke-linecap:round; stroke-linejoin:round; stroke-width:2; stroke-opacity:0.1; fill:none\" points=\"343.332,677.168 343.332,47.2441 \"/>\n",
       "<polyline clip-path=\"url(#clip792)\" style=\"stroke:#000000; stroke-linecap:round; stroke-linejoin:round; stroke-width:2; stroke-opacity:0.1; fill:none\" points=\"493.966,677.168 493.966,47.2441 \"/>\n",
       "<polyline clip-path=\"url(#clip792)\" style=\"stroke:#000000; stroke-linecap:round; stroke-linejoin:round; stroke-width:2; stroke-opacity:0.1; fill:none\" points=\"644.601,677.168 644.601,47.2441 \"/>\n",
       "<polyline clip-path=\"url(#clip790)\" style=\"stroke:#000000; stroke-linecap:round; stroke-linejoin:round; stroke-width:4; stroke-opacity:1; fill:none\" points=\"177.936,677.168 752.756,677.168 \"/>\n",
       "<polyline clip-path=\"url(#clip790)\" style=\"stroke:#000000; stroke-linecap:round; stroke-linejoin:round; stroke-width:4; stroke-opacity:1; fill:none\" points=\"192.698,677.168 192.698,658.27 \"/>\n",
       "<polyline clip-path=\"url(#clip790)\" style=\"stroke:#000000; stroke-linecap:round; stroke-linejoin:round; stroke-width:4; stroke-opacity:1; fill:none\" points=\"343.332,677.168 343.332,658.27 \"/>\n",
       "<polyline clip-path=\"url(#clip790)\" style=\"stroke:#000000; stroke-linecap:round; stroke-linejoin:round; stroke-width:4; stroke-opacity:1; fill:none\" points=\"493.966,677.168 493.966,658.27 \"/>\n",
       "<polyline clip-path=\"url(#clip790)\" style=\"stroke:#000000; stroke-linecap:round; stroke-linejoin:round; stroke-width:4; stroke-opacity:1; fill:none\" points=\"644.601,677.168 644.601,658.27 \"/>\n",
       "<path clip-path=\"url(#clip790)\" d=\"M192.698 695.287 Q189.087 695.287 187.258 698.851 Q185.453 702.393 185.453 709.523 Q185.453 716.629 187.258 720.194 Q189.087 723.735 192.698 723.735 Q196.332 723.735 198.138 720.194 Q199.967 716.629 199.967 709.523 Q199.967 702.393 198.138 698.851 Q196.332 695.287 192.698 695.287 M192.698 691.583 Q198.508 691.583 201.564 696.189 Q204.643 700.773 204.643 709.523 Q204.643 718.249 201.564 722.856 Q198.508 727.439 192.698 727.439 Q186.888 727.439 183.809 722.856 Q180.754 718.249 180.754 709.523 Q180.754 700.773 183.809 696.189 Q186.888 691.583 192.698 691.583 Z\" fill=\"#000000\" fill-rule=\"nonzero\" fill-opacity=\"1\" /><path clip-path=\"url(#clip790)\" d=\"M302.939 722.833 L310.578 722.833 L310.578 696.467 L302.268 698.134 L302.268 693.875 L310.532 692.208 L315.207 692.208 L315.207 722.833 L322.846 722.833 L322.846 726.768 L302.939 726.768 L302.939 722.833 Z\" fill=\"#000000\" fill-rule=\"nonzero\" fill-opacity=\"1\" /><path clip-path=\"url(#clip790)\" d=\"M342.291 695.287 Q338.68 695.287 336.851 698.851 Q335.045 702.393 335.045 709.523 Q335.045 716.629 336.851 720.194 Q338.68 723.735 342.291 723.735 Q345.925 723.735 347.73 720.194 Q349.559 716.629 349.559 709.523 Q349.559 702.393 347.73 698.851 Q345.925 695.287 342.291 695.287 M342.291 691.583 Q348.101 691.583 351.156 696.189 Q354.235 700.773 354.235 709.523 Q354.235 718.249 351.156 722.856 Q348.101 727.439 342.291 727.439 Q336.48 727.439 333.402 722.856 Q330.346 718.249 330.346 709.523 Q330.346 700.773 333.402 696.189 Q336.48 691.583 342.291 691.583 Z\" fill=\"#000000\" fill-rule=\"nonzero\" fill-opacity=\"1\" /><path clip-path=\"url(#clip790)\" d=\"M372.453 695.287 Q368.841 695.287 367.013 698.851 Q365.207 702.393 365.207 709.523 Q365.207 716.629 367.013 720.194 Q368.841 723.735 372.453 723.735 Q376.087 723.735 377.892 720.194 Q379.721 716.629 379.721 709.523 Q379.721 702.393 377.892 698.851 Q376.087 695.287 372.453 695.287 M372.453 691.583 Q378.263 691.583 381.318 696.189 Q384.397 700.773 384.397 709.523 Q384.397 718.249 381.318 722.856 Q378.263 727.439 372.453 727.439 Q366.642 727.439 363.564 722.856 Q360.508 718.249 360.508 709.523 Q360.508 700.773 363.564 696.189 Q366.642 691.583 372.453 691.583 Z\" fill=\"#000000\" fill-rule=\"nonzero\" fill-opacity=\"1\" /><path clip-path=\"url(#clip790)\" d=\"M457.659 722.833 L473.978 722.833 L473.978 726.768 L452.034 726.768 L452.034 722.833 Q454.696 720.078 459.279 715.448 Q463.886 710.796 465.066 709.453 Q467.311 706.93 468.191 705.194 Q469.094 703.435 469.094 701.745 Q469.094 698.99 467.149 697.254 Q465.228 695.518 462.126 695.518 Q459.927 695.518 457.474 696.282 Q455.043 697.046 452.265 698.597 L452.265 693.875 Q455.089 692.74 457.543 692.162 Q459.997 691.583 462.034 691.583 Q467.404 691.583 470.599 694.268 Q473.793 696.953 473.793 701.444 Q473.793 703.574 472.983 705.495 Q472.196 707.393 470.089 709.986 Q469.511 710.657 466.409 713.874 Q463.307 717.069 457.659 722.833 Z\" fill=\"#000000\" fill-rule=\"nonzero\" fill-opacity=\"1\" /><path clip-path=\"url(#clip790)\" d=\"M493.793 695.287 Q490.182 695.287 488.353 698.851 Q486.547 702.393 486.547 709.523 Q486.547 716.629 488.353 720.194 Q490.182 723.735 493.793 723.735 Q497.427 723.735 499.233 720.194 Q501.061 716.629 501.061 709.523 Q501.061 702.393 499.233 698.851 Q497.427 695.287 493.793 695.287 M493.793 691.583 Q499.603 691.583 502.659 696.189 Q505.737 700.773 505.737 709.523 Q505.737 718.249 502.659 722.856 Q499.603 727.439 493.793 727.439 Q487.983 727.439 484.904 722.856 Q481.848 718.249 481.848 709.523 Q481.848 700.773 484.904 696.189 Q487.983 691.583 493.793 691.583 Z\" fill=\"#000000\" fill-rule=\"nonzero\" fill-opacity=\"1\" /><path clip-path=\"url(#clip790)\" d=\"M523.955 695.287 Q520.344 695.287 518.515 698.851 Q516.709 702.393 516.709 709.523 Q516.709 716.629 518.515 720.194 Q520.344 723.735 523.955 723.735 Q527.589 723.735 529.394 720.194 Q531.223 716.629 531.223 709.523 Q531.223 702.393 529.394 698.851 Q527.589 695.287 523.955 695.287 M523.955 691.583 Q529.765 691.583 532.82 696.189 Q535.899 700.773 535.899 709.523 Q535.899 718.249 532.82 722.856 Q529.765 727.439 523.955 727.439 Q518.145 727.439 515.066 722.856 Q512.01 718.249 512.01 709.523 Q512.01 700.773 515.066 696.189 Q518.145 691.583 523.955 691.583 Z\" fill=\"#000000\" fill-rule=\"nonzero\" fill-opacity=\"1\" /><path clip-path=\"url(#clip790)\" d=\"M618.362 708.134 Q621.719 708.851 623.594 711.12 Q625.492 713.388 625.492 716.722 Q625.492 721.837 621.973 724.638 Q618.455 727.439 611.973 727.439 Q609.798 727.439 607.483 726.999 Q605.191 726.583 602.737 725.726 L602.737 721.212 Q604.682 722.347 606.997 722.925 Q609.311 723.504 611.835 723.504 Q616.233 723.504 618.524 721.768 Q620.839 720.032 620.839 716.722 Q620.839 713.666 618.686 711.953 Q616.557 710.217 612.737 710.217 L608.71 710.217 L608.71 706.374 L612.923 706.374 Q616.372 706.374 618.2 705.009 Q620.029 703.62 620.029 701.027 Q620.029 698.365 618.131 696.953 Q616.256 695.518 612.737 695.518 Q610.816 695.518 608.617 695.935 Q606.418 696.351 603.779 697.231 L603.779 693.064 Q606.441 692.324 608.756 691.953 Q611.094 691.583 613.154 691.583 Q618.478 691.583 621.58 694.013 Q624.682 696.421 624.682 700.541 Q624.682 703.412 623.038 705.402 Q621.395 707.37 618.362 708.134 Z\" fill=\"#000000\" fill-rule=\"nonzero\" fill-opacity=\"1\" /><path clip-path=\"url(#clip790)\" d=\"M644.358 695.287 Q640.746 695.287 638.918 698.851 Q637.112 702.393 637.112 709.523 Q637.112 716.629 638.918 720.194 Q640.746 723.735 644.358 723.735 Q647.992 723.735 649.797 720.194 Q651.626 716.629 651.626 709.523 Q651.626 702.393 649.797 698.851 Q647.992 695.287 644.358 695.287 M644.358 691.583 Q650.168 691.583 653.223 696.189 Q656.302 700.773 656.302 709.523 Q656.302 718.249 653.223 722.856 Q650.168 727.439 644.358 727.439 Q638.547 727.439 635.469 722.856 Q632.413 718.249 632.413 709.523 Q632.413 700.773 635.469 696.189 Q638.547 691.583 644.358 691.583 Z\" fill=\"#000000\" fill-rule=\"nonzero\" fill-opacity=\"1\" /><path clip-path=\"url(#clip790)\" d=\"M674.519 695.287 Q670.908 695.287 669.08 698.851 Q667.274 702.393 667.274 709.523 Q667.274 716.629 669.08 720.194 Q670.908 723.735 674.519 723.735 Q678.154 723.735 679.959 720.194 Q681.788 716.629 681.788 709.523 Q681.788 702.393 679.959 698.851 Q678.154 695.287 674.519 695.287 M674.519 691.583 Q680.33 691.583 683.385 696.189 Q686.464 700.773 686.464 709.523 Q686.464 718.249 683.385 722.856 Q680.33 727.439 674.519 727.439 Q668.709 727.439 665.631 722.856 Q662.575 718.249 662.575 709.523 Q662.575 700.773 665.631 696.189 Q668.709 691.583 674.519 691.583 Z\" fill=\"#000000\" fill-rule=\"nonzero\" fill-opacity=\"1\" /><polyline clip-path=\"url(#clip792)\" style=\"stroke:#000000; stroke-linecap:round; stroke-linejoin:round; stroke-width:2; stroke-opacity:0.1; fill:none\" points=\"177.936,607.218 752.756,607.218 \"/>\n",
       "<polyline clip-path=\"url(#clip792)\" style=\"stroke:#000000; stroke-linecap:round; stroke-linejoin:round; stroke-width:2; stroke-opacity:0.1; fill:none\" points=\"177.936,477.247 752.756,477.247 \"/>\n",
       "<polyline clip-path=\"url(#clip792)\" style=\"stroke:#000000; stroke-linecap:round; stroke-linejoin:round; stroke-width:2; stroke-opacity:0.1; fill:none\" points=\"177.936,347.275 752.756,347.275 \"/>\n",
       "<polyline clip-path=\"url(#clip792)\" style=\"stroke:#000000; stroke-linecap:round; stroke-linejoin:round; stroke-width:2; stroke-opacity:0.1; fill:none\" points=\"177.936,217.303 752.756,217.303 \"/>\n",
       "<polyline clip-path=\"url(#clip792)\" style=\"stroke:#000000; stroke-linecap:round; stroke-linejoin:round; stroke-width:2; stroke-opacity:0.1; fill:none\" points=\"177.936,87.331 752.756,87.331 \"/>\n",
       "<polyline clip-path=\"url(#clip790)\" style=\"stroke:#000000; stroke-linecap:round; stroke-linejoin:round; stroke-width:4; stroke-opacity:1; fill:none\" points=\"177.936,677.168 177.936,47.2441 \"/>\n",
       "<polyline clip-path=\"url(#clip790)\" style=\"stroke:#000000; stroke-linecap:round; stroke-linejoin:round; stroke-width:4; stroke-opacity:1; fill:none\" points=\"177.936,607.218 196.834,607.218 \"/>\n",
       "<polyline clip-path=\"url(#clip790)\" style=\"stroke:#000000; stroke-linecap:round; stroke-linejoin:round; stroke-width:4; stroke-opacity:1; fill:none\" points=\"177.936,477.247 196.834,477.247 \"/>\n",
       "<polyline clip-path=\"url(#clip790)\" style=\"stroke:#000000; stroke-linecap:round; stroke-linejoin:round; stroke-width:4; stroke-opacity:1; fill:none\" points=\"177.936,347.275 196.834,347.275 \"/>\n",
       "<polyline clip-path=\"url(#clip790)\" style=\"stroke:#000000; stroke-linecap:round; stroke-linejoin:round; stroke-width:4; stroke-opacity:1; fill:none\" points=\"177.936,217.303 196.834,217.303 \"/>\n",
       "<polyline clip-path=\"url(#clip790)\" style=\"stroke:#000000; stroke-linecap:round; stroke-linejoin:round; stroke-width:4; stroke-opacity:1; fill:none\" points=\"177.936,87.331 196.834,87.331 \"/>\n",
       "<path clip-path=\"url(#clip790)\" d=\"M59.9875 607.67 L89.6633 607.67 L89.6633 611.605 L59.9875 611.605 L59.9875 607.67 Z\" fill=\"#000000\" fill-rule=\"nonzero\" fill-opacity=\"1\" /><path clip-path=\"url(#clip790)\" d=\"M100.566 620.563 L108.205 620.563 L108.205 594.198 L99.8947 595.864 L99.8947 591.605 L108.159 589.938 L112.834 589.938 L112.834 620.563 L120.473 620.563 L120.473 624.498 L100.566 624.498 L100.566 620.563 Z\" fill=\"#000000\" fill-rule=\"nonzero\" fill-opacity=\"1\" /><path clip-path=\"url(#clip790)\" d=\"M129.918 618.619 L134.802 618.619 L134.802 624.498 L129.918 624.498 L129.918 618.619 Z\" fill=\"#000000\" fill-rule=\"nonzero\" fill-opacity=\"1\" /><path clip-path=\"url(#clip790)\" d=\"M145.033 589.938 L163.39 589.938 L163.39 593.874 L149.316 593.874 L149.316 602.346 Q150.334 601.999 151.353 601.837 Q152.371 601.651 153.39 601.651 Q159.177 601.651 162.556 604.823 Q165.936 607.994 165.936 613.411 Q165.936 618.989 162.464 622.091 Q158.992 625.17 152.672 625.17 Q150.496 625.17 148.228 624.799 Q145.982 624.429 143.575 623.688 L143.575 618.989 Q145.658 620.124 147.881 620.679 Q150.103 621.235 152.58 621.235 Q156.584 621.235 158.922 619.128 Q161.26 617.022 161.26 613.411 Q161.26 609.8 158.922 607.693 Q156.584 605.587 152.58 605.587 Q150.705 605.587 148.83 606.003 Q146.978 606.42 145.033 607.3 L145.033 589.938 Z\" fill=\"#000000\" fill-rule=\"nonzero\" fill-opacity=\"1\" /><path clip-path=\"url(#clip790)\" d=\"M58.9921 477.698 L88.6679 477.698 L88.6679 481.633 L58.9921 481.633 L58.9921 477.698 Z\" fill=\"#000000\" fill-rule=\"nonzero\" fill-opacity=\"1\" /><path clip-path=\"url(#clip790)\" d=\"M99.5706 490.591 L107.209 490.591 L107.209 464.226 L98.8993 465.893 L98.8993 461.633 L107.163 459.967 L111.839 459.967 L111.839 490.591 L119.478 490.591 L119.478 494.527 L99.5706 494.527 L99.5706 490.591 Z\" fill=\"#000000\" fill-rule=\"nonzero\" fill-opacity=\"1\" /><path clip-path=\"url(#clip790)\" d=\"M128.922 488.647 L133.807 488.647 L133.807 494.527 L128.922 494.527 L128.922 488.647 Z\" fill=\"#000000\" fill-rule=\"nonzero\" fill-opacity=\"1\" /><path clip-path=\"url(#clip790)\" d=\"M153.992 463.045 Q150.381 463.045 148.552 466.61 Q146.746 470.152 146.746 477.281 Q146.746 484.388 148.552 487.953 Q150.381 491.494 153.992 491.494 Q157.626 491.494 159.431 487.953 Q161.26 484.388 161.26 477.281 Q161.26 470.152 159.431 466.61 Q157.626 463.045 153.992 463.045 M153.992 459.342 Q159.802 459.342 162.857 463.948 Q165.936 468.531 165.936 477.281 Q165.936 486.008 162.857 490.615 Q159.802 495.198 153.992 495.198 Q148.181 495.198 145.103 490.615 Q142.047 486.008 142.047 477.281 Q142.047 468.531 145.103 463.948 Q148.181 459.342 153.992 459.342 Z\" fill=\"#000000\" fill-rule=\"nonzero\" fill-opacity=\"1\" /><path clip-path=\"url(#clip790)\" d=\"M59.9875 347.726 L89.6633 347.726 L89.6633 351.661 L59.9875 351.661 L59.9875 347.726 Z\" fill=\"#000000\" fill-rule=\"nonzero\" fill-opacity=\"1\" /><path clip-path=\"url(#clip790)\" d=\"M109.756 333.073 Q106.145 333.073 104.316 336.638 Q102.51 340.18 102.51 347.309 Q102.51 354.416 104.316 357.981 Q106.145 361.522 109.756 361.522 Q113.39 361.522 115.196 357.981 Q117.024 354.416 117.024 347.309 Q117.024 340.18 115.196 336.638 Q113.39 333.073 109.756 333.073 M109.756 329.37 Q115.566 329.37 118.621 333.976 Q121.7 338.56 121.7 347.309 Q121.7 356.036 118.621 360.643 Q115.566 365.226 109.756 365.226 Q103.946 365.226 100.867 360.643 Q97.8114 356.036 97.8114 347.309 Q97.8114 338.56 100.867 333.976 Q103.946 329.37 109.756 329.37 Z\" fill=\"#000000\" fill-rule=\"nonzero\" fill-opacity=\"1\" /><path clip-path=\"url(#clip790)\" d=\"M129.918 358.675 L134.802 358.675 L134.802 364.555 L129.918 364.555 L129.918 358.675 Z\" fill=\"#000000\" fill-rule=\"nonzero\" fill-opacity=\"1\" /><path clip-path=\"url(#clip790)\" d=\"M145.033 329.995 L163.39 329.995 L163.39 333.93 L149.316 333.93 L149.316 342.402 Q150.334 342.055 151.353 341.893 Q152.371 341.708 153.39 341.708 Q159.177 341.708 162.556 344.879 Q165.936 348.05 165.936 353.467 Q165.936 359.046 162.464 362.147 Q158.992 365.226 152.672 365.226 Q150.496 365.226 148.228 364.856 Q145.982 364.485 143.575 363.745 L143.575 359.046 Q145.658 360.18 147.881 360.735 Q150.103 361.291 152.58 361.291 Q156.584 361.291 158.922 359.184 Q161.26 357.078 161.26 353.467 Q161.26 349.856 158.922 347.749 Q156.584 345.643 152.58 345.643 Q150.705 345.643 148.83 346.059 Q146.978 346.476 145.033 347.356 L145.033 329.995 Z\" fill=\"#000000\" fill-rule=\"nonzero\" fill-opacity=\"1\" /><path clip-path=\"url(#clip790)\" d=\"M108.76 203.102 Q105.149 203.102 103.321 206.666 Q101.515 210.208 101.515 217.338 Q101.515 224.444 103.321 228.009 Q105.149 231.551 108.76 231.551 Q112.395 231.551 114.2 228.009 Q116.029 224.444 116.029 217.338 Q116.029 210.208 114.2 206.666 Q112.395 203.102 108.76 203.102 M108.76 199.398 Q114.571 199.398 117.626 204.004 Q120.705 208.588 120.705 217.338 Q120.705 226.064 117.626 230.671 Q114.571 235.254 108.76 235.254 Q102.95 235.254 99.8715 230.671 Q96.816 226.064 96.816 217.338 Q96.816 208.588 99.8715 204.004 Q102.95 199.398 108.76 199.398 Z\" fill=\"#000000\" fill-rule=\"nonzero\" fill-opacity=\"1\" /><path clip-path=\"url(#clip790)\" d=\"M128.922 228.703 L133.807 228.703 L133.807 234.583 L128.922 234.583 L128.922 228.703 Z\" fill=\"#000000\" fill-rule=\"nonzero\" fill-opacity=\"1\" /><path clip-path=\"url(#clip790)\" d=\"M153.992 203.102 Q150.381 203.102 148.552 206.666 Q146.746 210.208 146.746 217.338 Q146.746 224.444 148.552 228.009 Q150.381 231.551 153.992 231.551 Q157.626 231.551 159.431 228.009 Q161.26 224.444 161.26 217.338 Q161.26 210.208 159.431 206.666 Q157.626 203.102 153.992 203.102 M153.992 199.398 Q159.802 199.398 162.857 204.004 Q165.936 208.588 165.936 217.338 Q165.936 226.064 162.857 230.671 Q159.802 235.254 153.992 235.254 Q148.181 235.254 145.103 230.671 Q142.047 226.064 142.047 217.338 Q142.047 208.588 145.103 204.004 Q148.181 199.398 153.992 199.398 Z\" fill=\"#000000\" fill-rule=\"nonzero\" fill-opacity=\"1\" /><path clip-path=\"url(#clip790)\" d=\"M109.756 73.1297 Q106.145 73.1297 104.316 76.6945 Q102.51 80.2362 102.51 87.3658 Q102.51 94.4722 104.316 98.037 Q106.145 101.579 109.756 101.579 Q113.39 101.579 115.196 98.037 Q117.024 94.4722 117.024 87.3658 Q117.024 80.2362 115.196 76.6945 Q113.39 73.1297 109.756 73.1297 M109.756 69.426 Q115.566 69.426 118.621 74.0325 Q121.7 78.6158 121.7 87.3658 Q121.7 96.0926 118.621 100.699 Q115.566 105.282 109.756 105.282 Q103.946 105.282 100.867 100.699 Q97.8114 96.0926 97.8114 87.3658 Q97.8114 78.6158 100.867 74.0325 Q103.946 69.426 109.756 69.426 Z\" fill=\"#000000\" fill-rule=\"nonzero\" fill-opacity=\"1\" /><path clip-path=\"url(#clip790)\" d=\"M129.918 98.7314 L134.802 98.7314 L134.802 104.611 L129.918 104.611 L129.918 98.7314 Z\" fill=\"#000000\" fill-rule=\"nonzero\" fill-opacity=\"1\" /><path clip-path=\"url(#clip790)\" d=\"M145.033 70.051 L163.39 70.051 L163.39 73.9862 L149.316 73.9862 L149.316 82.4584 Q150.334 82.1112 151.353 81.9491 Q152.371 81.7639 153.39 81.7639 Q159.177 81.7639 162.556 84.9352 Q165.936 88.1065 165.936 93.5231 Q165.936 99.1018 162.464 102.204 Q158.992 105.282 152.672 105.282 Q150.496 105.282 148.228 104.912 Q145.982 104.542 143.575 103.801 L143.575 99.1018 Q145.658 100.236 147.881 100.792 Q150.103 101.347 152.58 101.347 Q156.584 101.347 158.922 99.2407 Q161.26 97.1342 161.26 93.5231 Q161.26 89.912 158.922 87.8056 Q156.584 85.6991 152.58 85.6991 Q150.705 85.6991 148.83 86.1158 Q146.978 86.5324 145.033 87.4121 L145.033 70.051 Z\" fill=\"#000000\" fill-rule=\"nonzero\" fill-opacity=\"1\" /><polyline clip-path=\"url(#clip792)\" style=\"stroke:#009af9; stroke-linecap:round; stroke-linejoin:round; stroke-width:4; stroke-opacity:1; fill:none\" points=\"194.204,65.0721 195.711,65.3414 197.217,65.0721 198.724,65.0724 200.23,65.0727 201.736,65.0822 203.243,65.0931 204.749,65.1054 206.255,65.1577 207.762,65.2125 209.268,65.2694 210.774,65.3966 212.281,65.5047 213.787,65.6368 215.293,65.7713 216.8,65.5433 218.306,65.6564 219.812,65.772 221.319,65.8019 222.825,65.8653 224.331,65.8625 225.838,66.0544 227.344,65.9673 228.85,65.8808 230.357,65.7942 231.863,65.707 233.369,65.7341 234.876,65.6423 236.382,65.5509 237.888,65.8308 239.395,65.6022 240.901,65.5689 242.407,65.5576 243.914,65.5474 245.42,65.5379 246.926,65.5284 248.433,65.5186 249.939,65.4742 251.445,65.423 252.952,65.7552 254.458,65.449 255.964,65.4371 257.471,65.5152 258.977,65.5012 260.484,65.4887 261.99,65.4772 263.496,65.4662 265.003,65.5226 266.509,65.6334 268.015,65.6087 269.522,65.7216 271.028,65.8812 272.534,66.0447 274.041,66.1303 275.547,66.2974 277.053,66.4684 278.56,66.6424 280.066,66.5609 281.572,66.6513 283.079,66.6701 284.585,66.7597 286.091,66.9611 287.598,66.9388 289.104,67.1516 290.61,67.129 292.117,67.2342 293.623,67.3446 295.129,67.2653 296.636,67.3759 298.142,67.3606 299.648,67.6228 301.155,67.9741 302.661,68.4241 304.167,68.7391 305.674,69.4028 307.18,69.6483 308.686,70.182 310.193,70.3487 311.699,70.8938 313.205,70.8896 314.712,71.0863 316.218,71.501 317.724,71.6587 319.231,71.9793 320.737,72.4432 322.244,72.3889 323.75,72.5375 325.256,72.5754 326.763,72.7515 328.269,72.8985 329.775,73.1213 331.282,73.1721 332.788,73.8023 334.294,74.0311 335.801,74.1147 337.307,74.3044 338.813,74.7374 340.32,80.2221 341.826,85.94 343.332,92.6743 344.839,100.301 346.345,108.604 347.851,116.583 349.358,126.316 350.864,137.26 352.37,147.656 353.877,153.856 355.383,157.729 356.889,156.589 358.396,156.299 359.902,153.376 361.408,148.733 362.915,143.954 364.421,139.431 365.927,134.757 367.434,128.841 368.94,123.468 370.446,120.088 371.953,122.507 373.459,124.816 374.965,129.187 376.472,134.451 377.978,140.004 379.484,146.182 380.991,151.97 382.497,157.891 384.004,164.595 385.51,173.736 387.016,182.259 388.523,189.61 390.029,199.331 391.535,206.577 393.042,216.624 394.548,226.342 396.054,233.58 397.561,240.355 399.067,240.976 400.573,237.548 402.08,229.654 403.586,218.933 405.092,208.792 406.599,208.152 408.105,210.494 409.611,198.427 411.118,199.188 412.624,198.801 414.13,203.162 415.637,219.584 417.143,276.067 418.649,337.831 420.156,406.04 421.662,437.679 423.168,452.588 424.675,469.873 426.181,494.315 427.687,517.186 429.194,538.046 430.7,560.04 432.206,585.411 433.713,616.083 435.219,644.641 436.725,659.34 438.232,656.045 439.738,642.878 441.244,622.877 442.751,601.317 444.257,577.31 445.764,545.956 447.27,504.824 448.776,455.428 450.283,272.087 451.789,170.159 453.295,182.393 454.802,149.681 456.308,101.744 457.814,119.035 459.321,218.134 460.827,378.711 462.333,414.958 463.84,449.98 465.346,479.226 466.852,505.423 468.359,528.976 469.865,549.855 471.371,567.998 472.878,581.509 474.384,585.809 475.89,578.152 477.397,562.755 478.903,551.476 480.409,531.48 481.916,492.596 483.422,439.478 484.928,258.394 486.435,171.528 487.941,146.546 489.447,118.39 490.954,105.15 492.46,90.3251 493.966,84.8806 495.473,78.2476 496.979,76.0091 498.485,74.5521 499.992,73.8511 501.498,86.0991 503.004,98.8269 504.511,113.812 506.017,130.516 507.524,150.71 509.03,170.879 510.536,196.662 512.043,224.33 513.549,265.335 515.055,304.678 516.562,345.727 518.068,372.915 519.574,269.891 521.081,247.386 522.587,231.024 524.093,216.334 525.6,204.236 527.106,202.526 528.612,197.898 530.119,194.208 531.625,192.212 533.131,185.982 534.638,179.123 536.144,172.548 537.65,166.126 539.157,161.574 540.663,155.201 542.169,150.315 543.676,145.721 545.182,141.321 546.688,137.258 548.195,133.434 549.701,129.769 551.207,126.094 552.714,122.406 554.22,118.932 555.726,115.54 557.233,112.955 558.739,110.24 560.245,107.597 561.752,104.951 563.258,102.391 564.764,99.9774 566.271,97.7823 567.777,95.7251 569.284,93.8389 570.79,92.2831 572.296,91.1421 573.803,89.7805 575.309,88.6442 576.815,87.6575 578.322,86.8176 579.828,86.12 581.334,85.2858 582.841,84.0808 584.347,82.7245 585.853,81.4751 587.36,80.7487 588.866,79.8587 590.372,78.9219 591.879,78.2386 593.385,77.5296 594.891,76.8069 596.398,76.0815 597.904,75.4038 599.41,74.7356 600.917,74.3512 602.423,74.0111 603.929,73.9532 605.436,73.7106 606.942,73.5426 608.448,73.4508 609.955,73.4359 611.461,73.4978 612.967,73.3366 614.474,73.0223 615.98,72.7955 617.486,72.4407 618.993,72.199 620.499,71.8446 622.005,71.3241 623.512,70.8014 625.018,70.4728 626.524,70.2019 628.031,69.6877 629.537,69.4306 631.044,69.2487 632.55,68.7556 634.056,68.6698 635.563,68.3782 637.069,68.1101 638.575,68.1913 640.082,67.8619 641.588,67.9223 643.094,67.5971 644.601,67.4831 646.107,67.2796 647.613,67.2795 649.12,67.071 650.626,67.1294 652.132,66.9162 653.639,67.0131 655.145,66.6658 656.651,66.4693 658.158,66.2847 659.664,66.2028 661.17,66.2547 662.677,65.9054 664.183,65.9361 665.689,65.9721 667.196,65.8092 668.702,65.7575 670.208,65.927 671.715,65.8672 673.221,65.81 674.727,65.7565 676.234,65.7644 677.74,65.7178 679.246,65.6472 680.753,65.5981 682.259,65.5535 683.765,65.5714 685.272,65.5183 686.778,65.5317 688.284,65.5452 689.791,65.5598 691.297,65.5762 692.804,65.5952 694.31,65.4515 695.816,65.4133 697.323,65.3772 698.829,65.3437 700.335,65.3137 701.842,65.3889 703.348,65.3294 704.854,65.2978 706.361,65.2676 707.867,65.2396 709.373,65.2142 710.88,65.2216 712.386,65.2044 713.892,65.2153 715.399,65.2023 716.905,65.2079 718.411,65.2369 719.918,65.1834 721.424,65.171 722.93,65.158 724.437,65.1451 725.943,65.1328 727.449,65.3333 728.956,65.1115 730.462,65.363 731.968,65.0962 733.475,65.0926 734.981,65.0871 736.487,65.0848 \"/>\n",
       "</svg>\n"
      ]
     },
     "execution_count": 227,
     "metadata": {},
     "output_type": "execute_result"
    }
   ],
   "source": [
    "t = 1050\n",
    "zs_ = CuArray(stack([_zs[t]]))\n",
    "as_ = CuArray(_as);\n",
    "\n",
    "w           = 10\n",
    "sig         = 0.2\n",
    "outlier     = 0.1\n",
    "outlier_vol = 100.\n",
    "\n",
    "ys_tilde_1d_, ws_tilde_1d_ = get_1d_tilde_cu(zs_, as_, w, sig, wrap=false);\n",
    "log_p, pointwise = smc_1d_logpdf(zs_, ys_tilde_1d_, ws_tilde_1d_, sig, outlier, outlier_vol; return_pointwise=true);\n",
    "println(size(pointwise))\n",
    "ls = Array(pointwise)[1,:]\n",
    "\n",
    "println(log_p)\n",
    "# ----------------\n",
    "plot(size=(200,200), legend=nothing)\n",
    "plot!(ls)"
   ]
  },
  {
   "attachments": {},
   "cell_type": "markdown",
   "metadata": {},
   "source": [
    "### 2D Likelihood"
   ]
  },
  {
   "cell_type": "code",
   "execution_count": 171,
   "metadata": {},
   "outputs": [],
   "source": [
    "#nbx\n",
    "function logsumexp_cu(x; dim)\n",
    "    c = maximum(x)\n",
    "    return c .+ log.(sum(exp.(x .- c), dims=dim))\n",
    "end\n",
    "\n",
    "\n",
    "\"\"\"\n",
    "    log_p = gaussian_logpdf(x, mu, sig)\n",
    "\n",
    "Benchmarks in `33 - CUDA Accelerated Gen Distributions` ...\n",
    "\"\"\"\n",
    "function gaussian_logpdf(x, mu, sig)\n",
    "    d = (x .- mu).^2 ./ sig.^2\n",
    "    log_p = - log.(sig) .- log(sqrt(2π)) .- 1/2 * d\n",
    "    return log_p\n",
    "end;"
   ]
  },
  {
   "cell_type": "code",
   "execution_count": 172,
   "metadata": {},
   "outputs": [
    {
     "data": {
      "text/plain": [
       "-Inf"
      ]
     },
     "execution_count": 172,
     "metadata": {},
     "output_type": "execute_result"
    }
   ],
   "source": [
    "for i=1:100\n",
    "    x   = rand()\n",
    "    mu  = rand()\n",
    "    sig = rand()\n",
    "\n",
    "    @assert isapprox(\n",
    "        logpdf(normal, x, mu , sig), \n",
    "        gaussian_logpdf(x, mu, sig))\n",
    "end\n",
    "\n",
    "gaussian_logpdf(x,Inf,1)"
   ]
  },
  {
   "cell_type": "code",
   "execution_count": 105,
   "metadata": {},
   "outputs": [],
   "source": [
    "#nbx\n",
    "\"\"\"\n",
    "    log_p, ptw = sensor_smc_logpdf_cu(x, y, sig, outlier, outlier_vol=1.0; return_pointwise=false)\n",
    "\n",
    "Evaluates the logpdf of an observation `x` (shape: `(n,2)`)\n",
    "with respect to a number of different gaussian mixtures (e.g. from family \n",
    "of different poses) stacked along the first dim of `y` (shape: `(k,n,m,2)`).\n",
    "Returns an array of log probabilities (shape: `(k,)`).\n",
    "\"\"\"\n",
    "function sensor_smc_logpdf_cu(x, y, sig, outlier, outlier_vol=1.0; return_pointwise=false)\n",
    "    @assert size(x,1) == size(y,2)\n",
    "\n",
    "    n = size(y,2)\n",
    "    m = size(y,3)\n",
    "    x = reshape(x, 1, n, 1, 2)\n",
    "    \n",
    "    # Line by line...\n",
    "    # 1. Compute 1D Gaussians - (n,m,2)\n",
    "    # 2. Convert to 2D gausians - (n,m)\n",
    "    # 3. Convert to mixture of m 2D gausians (GM) - (n,)\n",
    "    # 4. Convert to mixture of `GM` and `anywhere` (D) - (n,)\n",
    "    # 5. Convert to Product of D's - ()\n",
    "    log_p = gaussian_logpdf(x, y, sig)\n",
    "    log_p = sum(log_p, dims=4)\n",
    "    log_p = logsumexp_cu(log_p .- log(m), dim=3)\n",
    "    log_p = log.((1 .- outlier).*exp.(log_p) .+ outlier./outlier_vol)\n",
    "    \n",
    "    pointwise = nothing\n",
    "    if return_pointwise\n",
    "        pointwise = dropdims(log_p, dims=(3,4))\n",
    "    end\n",
    "\n",
    "    log_p = sum(log_p, dims=2)\n",
    "    log_p  = dropdims(log_p, dims=(2,3,4))\n",
    "\n",
    "    return log_p, pointwise\n",
    "end;"
   ]
  },
  {
   "cell_type": "code",
   "execution_count": null,
   "metadata": {},
   "outputs": [],
   "source": [
    "# t = 1050\n",
    "# zs_ = CuArray(stack([_zs[t]]))\n",
    "# as_ = CuArray(_as)\n",
    "# w           = 10\n",
    "\n",
    "\n",
    "# ys_tilde_1d_, ws_tilde_1d_ = get_1d_tilde_cu(zs_, as_, w; wrap=false);\n",
    "\n",
    "\n",
    "# sig         = 0.05\n",
    "# outlier     = 0.1\n",
    "# outlier_vol = 100.\n",
    "\n",
    "# log_p, pointwise  = sensor_smc_logpdf_cu(x_, ys_tilde, sig, outlier, outlier_vol; return_pointwise=true)\n",
    "# # size(pointwise)\n",
    "\n",
    "# ls = Array(pointwise)[1,:]\n",
    "# println(log_p)\n",
    "# # ----------------\n",
    "# plot(size=(200,200), legend=nothing)\n",
    "# plot!(ls)"
   ]
  },
  {
   "cell_type": "code",
   "execution_count": 18,
   "metadata": {},
   "outputs": [],
   "source": [
    "push!(LOAD_PATH, ENV[\"probcomp\"]*\"/Gen-Distribution-Zoo/src\");\n",
    "using GenDistributionZoo: diagnormal"
   ]
  },
  {
   "cell_type": "code",
   "execution_count": null,
   "metadata": {},
   "outputs": [],
   "source": [
    "#nbx\n",
    "struct SensorDistribution_CUDA <: Distribution{Vector{Vector{Float64}}} \n",
    "end\n",
    "\n",
    "const sensordist_cu = SensorDistribution_CUDA()\n",
    "\n",
    "function Gen.logpdf(::SensorDistribution_CUDA, x, y_tilde_::CuArray, sig, outlier, outlier_vol=1.0)\n",
    "    \n",
    "    n = size(y_tilde_, 1)\n",
    "    m = size(y_tilde_, 2)\n",
    "    \n",
    "    x_        = CuArray(stack(x))\n",
    "    ys_tilde_ = reshape(y_tilde_, 1, n, m, 2) \n",
    "    \n",
    "    log_p, = sensor_smc_logpdf_cu(x_, ys_tilde_, sig, outlier, outlier_vol) # CuArray of length 1\n",
    "    return CUDA.@allowscalar log_p[1]\n",
    "end\n",
    "\n",
    "function Gen.random(::SensorDistribution_CUDA, y_tilde_::CuArray, sig, outlier, outlier_vol=1.0)\n",
    "    n = size(y_tilde_,1)\n",
    "    m = size(y_tilde_,2)\n",
    "    \n",
    "    # Sample an observation point cloud `x`\n",
    "    x = Vector{Float64}[]\n",
    "    for i=1:n\n",
    "        if bernoulli(outlier)\n",
    "            # Todo: Change that to a uniform distribution, e.g. over a  \n",
    "            #       circular area with radius `zmax`.\n",
    "            x_i = [Inf;Inf]\n",
    "        else\n",
    "            j   = rand(1:m)\n",
    "            y   = Array(y_tilde_[i,j,:])\n",
    "            x_i = diagnormal(y, [sig;sig])\n",
    "\n",
    "        end\n",
    "        push!(x, x_i)\n",
    "    end\n",
    "    \n",
    "    return x\n",
    "end\n",
    "\n",
    "(D::SensorDistribution_CUDA)(args...) = Gen.random(D, args...)\n",
    "Gen.has_output_grad(::SensorDistribution_CUDA)    = false\n",
    "Gen.has_argument_grads(::SensorDistribution_CUDA) = (false, false);"
   ]
  }
 ],
 "metadata": {
  "kernelspec": {
   "display_name": "Julia 1.8.3",
   "language": "julia",
   "name": "julia-1.8"
  },
  "language_info": {
   "file_extension": ".jl",
   "mimetype": "application/julia",
   "name": "julia",
   "version": "1.8.3"
  },
  "orig_nbformat": 4
 },
 "nbformat": 4,
 "nbformat_minor": 2
}
