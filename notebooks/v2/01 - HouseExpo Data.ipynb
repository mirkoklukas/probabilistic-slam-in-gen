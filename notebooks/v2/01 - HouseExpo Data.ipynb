{
 "cells": [
  {
   "cell_type": "code",
   "execution_count": 1,
   "id": "111a642f",
   "metadata": {},
   "outputs": [
    {
     "data": {
      "text/html": [
       "<style>.rendered_html.text_cell_render {max-width:700px; }</style>"
      ],
      "text/plain": [
       "HTML{String}(\"<style>.rendered_html.text_cell_render {max-width:700px; }</style>\")"
      ]
     },
     "metadata": {},
     "output_type": "display_data"
    }
   ],
   "source": [
    "display(HTML(\"<style>.rendered_html.text_cell_render {max-width:700px; }</style>\"));\n",
    "push!(LOAD_PATH, \"../src\");\n",
    "include(\"../src/pose.jl\")"
   ]
  },
  {
   "cell_type": "code",
   "execution_count": 2,
   "id": "f6640165",
   "metadata": {},
   "outputs": [],
   "source": [
    "#nbx --fname=\"src/house_expo_data.jl\"\n",
    "using JLD2\n",
    "using StatsBase: mean\n",
    "using Geometry: bounding_box, Segment\n",
    "using Fmt\n",
    "using MyUtils: summarize_vars\n",
    "\n",
    "fname = \"../data/data_4.jld2\"\n",
    "d = load_object(fname)\n",
    "\n",
    "# Environment\n",
    "_segs   = env_segs = d[:env][:segs];\n",
    "_boxes  = env_segs = d[:env][:clutter];\n",
    "_bb     = bounding_box(_segs)\n",
    "_center = mean(_bb);\n",
    "\n",
    "# Poses\n",
    "_xs   = d[:motion][:x];\n",
    "_hds  = d[:motion][:hd];\n",
    "_ps   = [Pose(x,hd) for (x,hd) in zip(_xs, _hds)];\n",
    "\n",
    "# Controls\n",
    "_dxs  = d[:motion][:dx]\n",
    "_dhds = d[:motion][:dhd]\n",
    "_us   = [Control(dx,dhd) for (dx,dhd) in zip(_dxs, _dhds)]\n",
    "\n",
    "_T = length(_xs);"
   ]
  },
  {
   "cell_type": "code",
   "execution_count": 11,
   "id": "bcb7023d",
   "metadata": {},
   "outputs": [
    {
     "name": "stdout",
     "output_type": "stream",
     "text": [
      "Loading data from `../data/data_4.jld2`, and\n",
      "populating Main namespace with variables:\n",
      "\n",
      "_segs      Vector{Segment}\n",
      "_boxes     Vector{Segment}\n",
      "_center    Vector{Float64}\n",
      "_xs        Vector{Vector{Float64}}\n",
      "_hds       Vector{Float64}\n",
      "_ps        Vector{Pose}\n",
      "_dxs       Vector{Vector{Float64}}\n",
      "_dhds      Vector{Float64}\n",
      "_us        Vector{Control}\n",
      "_T         Int64\n"
     ]
    }
   ],
   "source": [
    "#nbx\n",
    "println(\"Loading data from `$(fname)`, and\\npopulating Main namespace with variables:\\n\")\n",
    "summarize_vars(:(_segs, _boxes, _center, _xs, _hds, _ps, _dxs, _dhds, _us, _T))"
   ]
  },
  {
   "cell_type": "code",
   "execution_count": null,
   "id": "f64feb47",
   "metadata": {},
   "outputs": [],
   "source": []
  }
 ],
 "metadata": {
  "kernelspec": {
   "display_name": "Julia 1.8.3",
   "language": "julia",
   "name": "julia-1.8"
  },
  "language_info": {
   "file_extension": ".jl",
   "mimetype": "application/julia",
   "name": "julia",
   "version": "1.8.3"
  },
  "toc": {
   "base_numbering": 1,
   "nav_menu": {},
   "number_sections": true,
   "sideBar": true,
   "skip_h1_title": true,
   "title_cell": "Table of Contents",
   "title_sidebar": "Contents",
   "toc_cell": false,
   "toc_position": {},
   "toc_section_display": true,
   "toc_window_display": false
  }
 },
 "nbformat": 4,
 "nbformat_minor": 5
}
