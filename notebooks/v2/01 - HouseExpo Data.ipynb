{
 "cells": [
  {
   "cell_type": "code",
   "execution_count": 4,
   "id": "111a642f",
   "metadata": {},
   "outputs": [
    {
     "data": {
      "text/html": [
       "<style>.rendered_html.text_cell_render {max-width:700px; }</style>"
      ],
      "text/plain": [
       "HTML{String}(\"<style>.rendered_html.text_cell_render {max-width:700px; }</style>\")"
      ]
     },
     "metadata": {},
     "output_type": "display_data"
    }
   ],
   "source": [
    "display(HTML(\"<style>.rendered_html.text_cell_render {max-width:700px; }</style>\"));\n",
    "push!(LOAD_PATH, \"../src\");\n",
    "include(\"../src/pose.jl\")"
   ]
  },
  {
   "cell_type": "code",
   "execution_count": 5,
   "id": "f6640165",
   "metadata": {},
   "outputs": [],
   "source": [
    "#nbx --fname=\"src/house_expo_data.jl\"\n",
    "using JLD2\n",
    "using StatsBase: mean\n",
    "using Geometry: bounding_box, Segment\n",
    "using Fmt\n",
    "\n",
    "fname = \"../data/data_4.jld2\"\n",
    "d = load_object(fname)\n",
    "\n",
    "# Environment\n",
    "_segs   = env_segs = d[:env][:segs];\n",
    "_boxes  = env_segs = d[:env][:clutter];\n",
    "_bb     = bounding_box(_segs)\n",
    "_center = mean(_bb);\n",
    "\n",
    "# Poses\n",
    "_xs   = d[:motion][:x];\n",
    "_hds  = d[:motion][:hd];\n",
    "_ps   = [Pose(x,hd) for (x,hd) in zip(_xs, _hds)];\n",
    "\n",
    "# Controls\n",
    "_dxs  = d[:motion][:dx]\n",
    "_dhds = d[:motion][:dhd]\n",
    "_us   = [Control(dx,dhd) for (dx,dhd) in zip(_dxs, _dhds)]\n",
    "\n",
    "_T = length(_xs);"
   ]
  },
  {
   "cell_type": "code",
   "execution_count": 8,
   "id": "bcb7023d",
   "metadata": {},
   "outputs": [
    {
     "name": "stdout",
     "output_type": "stream",
     "text": [
      "Loading `../data/data_4.jld2` ...\n",
      "\n",
      "\t_segs      Vector{Segment}\n",
      "\t_boxes     Vector{Segment}\n",
      "\t_center    Vector{Float64}\n",
      "\t_xs        Vector{Vector{Float64}}\n",
      "\t_hds       Vector{Float64}\n",
      "\t_ps        Vector{Pose}\n",
      "\t_dxs       Vector{Vector{Float64}}\n",
      "\t_dhds      Vector{Float64}\n",
      "\t_us        Vector{Control}\n",
      "\t_T         Int64\n"
     ]
    }
   ],
   "source": [
    "#nbx\n",
    "println(\"Loading `$(fname)` ...\\n\")\n",
    "for x in [:_segs, :_boxes, :_center, :_xs, :_hds, :_ps, :_dxs, :_dhds, :_us, :_T]\n",
    "    local y = getproperty(Main,x)\n",
    "    println(f\"\\t{$(x):<10s} {$(typeof(y))}\")\n",
    "end"
   ]
  }
 ],
 "metadata": {
  "kernelspec": {
   "display_name": "Julia 1.8.3",
   "language": "julia",
   "name": "julia-1.8"
  },
  "language_info": {
   "file_extension": ".jl",
   "mimetype": "application/julia",
   "name": "julia",
   "version": "1.8.3"
  },
  "toc": {
   "base_numbering": 1,
   "nav_menu": {},
   "number_sections": true,
   "sideBar": true,
   "skip_h1_title": true,
   "title_cell": "Table of Contents",
   "title_sidebar": "Contents",
   "toc_cell": false,
   "toc_position": {},
   "toc_section_display": true,
   "toc_window_display": false
  }
 },
 "nbformat": 4,
 "nbformat_minor": 5
}
