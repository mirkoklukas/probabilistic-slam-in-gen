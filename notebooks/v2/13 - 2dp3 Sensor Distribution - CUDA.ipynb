{
 "cells": [
  {
   "cell_type": "code",
   "execution_count": 1,
   "metadata": {},
   "outputs": [
    {
     "data": {
      "text/html": [
       "<style>.rendered_html.text_cell_render {max-width:500px; }</style>"
      ],
      "text/plain": [
       "HTML{String}(\"<style>.rendered_html.text_cell_render {max-width:500px; }</style>\")"
      ]
     },
     "metadata": {},
     "output_type": "display_data"
    }
   ],
   "source": [
    "display(HTML(\"<style>.rendered_html.text_cell_render {max-width:500px; }</style>\"));"
   ]
  },
  {
   "attachments": {},
   "cell_type": "markdown",
   "metadata": {},
   "source": [
    "# Sensor Gen Distribution - CUDA accelerated\n",
    "\n",
    "While it is possible to construct new Gen distributions by combining already defined ones, this approach, while offering flexibility and ease of implementation, may come at the cost of performance. In order to address this potential drawback, Gen provides the capability to define custom Gen distributions by implementing the methods of the Distribution API.\n",
    "\n",
    "We will write a CUDA accelerated custom Gen distribution based on a 2D version of the 3DP3-likelihood, so we can enhance the robot's ability to perceive its surroundings with even greater efficiency.\n",
    "\n",
    "We also write a version that enables us to sample depth images and not point clouds....\n",
    "\n",
    "The main functions we export are:\n",
    "- `sensordist_cu`\n",
    "- `get_2d_mixture_components`\n",
    "- ...\n"
   ]
  },
  {
   "cell_type": "code",
   "execution_count": 53,
   "metadata": {},
   "outputs": [],
   "source": [
    "using Markdown\n",
    "# This is a fix for vscode, because it doesn't like \n",
    "# julia docstrings for whatever reason, and throws a `Katex` error.\n",
    "Base.show(io::IO, ::MIME\"text/latex\", md::Markdown.MD) = plain(io, md)"
   ]
  },
  {
   "cell_type": "code",
   "execution_count": 34,
   "metadata": {},
   "outputs": [
    {
     "name": "stdout",
     "output_type": "stream",
     "text": [
      "Loading `../data/mit-csail.json` ...\n",
      "\n"
     ]
    },
    {
     "name": "stdout",
     "output_type": "stream",
     "text": [
      "\t_zs        Vector{Vector{Float64}}\n",
      "\t_zs_inf    Vector{Vector{Float64}}\n",
      "\t_as        Vector{Float64}\n",
      "\t_zmax      Float64\n",
      "\t_ys        Vector{Vector{Vector{Float64}}}\n",
      "\t_ys_inf    Vector{Vector{Vector{Float64}}}\n",
      "\t_num_a     Int64\n",
      "\t_xs        Vector{Vector{Float64}}\n",
      "\t_hds       Vector{Float64}\n",
      "\t_ps        Vector{Pose}\n",
      "\t_dxs       Vector{Vector{Float64}}\n",
      "\t_dhds      Vector{Float64}\n",
      "\t_us        Vector{Control}\n",
      "\t_T         Int64\n"
     ]
    },
    {
     "data": {
      "text/markdown": [
       "```julia\n",
       "    zs_ = cast_cu(ps_::CuArray, ys_::CuArray;\n",
       "                  fov=2π, num_a=361, zmax=Inf, cell_rad=0.01)\n",
       "```\n",
       "\n",
       "Computes depth measurements `zs_` with respect to a family of stacked poses `ps_` and family of stacked 2d points `ys_` along a fixed number `num_a` of equidistantly spaced angles in the field of view `fov`.\n",
       "\n",
       "Arguments:\n",
       "\n",
       "  * `ps_`: Stack of poses `(k, 3)`\n",
       "  * `ys_`: Reference point cloud `(n, 2)`\n",
       "  * ...\n",
       "\n",
       "Returns:\n",
       "\n",
       "  * `zs_`: Depth measurements in the field of view `(k, num_a)`\n"
      ],
      "text/plain": [
       "\u001b[36m      zs_ = cast_cu(ps_::CuArray, ys_::CuArray;\u001b[39m\n",
       "\u001b[36m                    fov=2π, num_a=361, zmax=Inf, cell_rad=0.01)\u001b[39m\n",
       "\n",
       "  Computes depth measurements \u001b[36mzs_\u001b[39m with respect to a family of stacked poses\n",
       "  \u001b[36mps_\u001b[39m and family of stacked 2d points \u001b[36mys_\u001b[39m along a fixed number \u001b[36mnum_a\u001b[39m of\n",
       "  equidistantly spaced angles in the field of view \u001b[36mfov\u001b[39m.\n",
       "\n",
       "  Arguments:\n",
       "\n",
       "    •  \u001b[36mps_\u001b[39m: Stack of poses \u001b[36m(k, 3)\u001b[39m\n",
       "\n",
       "    •  \u001b[36mys_\u001b[39m: Reference point cloud \u001b[36m(n, 2)\u001b[39m\n",
       "\n",
       "    •  ...\n",
       "\n",
       "  Returns:\n",
       "\n",
       "    •  \u001b[36mzs_\u001b[39m: Depth measurements in the field of view \u001b[36m(k, num_a)\u001b[39m"
      ]
     },
     "metadata": {},
     "output_type": "display_data"
    }
   ],
   "source": [
    "push!(LOAD_PATH, \"../src\");\n",
    "include(\"../src/pose.jl\")\n",
    "include(\"src/csail_data.jl\")\n",
    "include(\"../src/cuda_raycaster_point_cloud_b.jl\");\n",
    "\n",
    "@doc cast_cu"
   ]
  },
  {
   "cell_type": "code",
   "execution_count": 35,
   "metadata": {},
   "outputs": [
    {
     "name": "stderr",
     "output_type": "stream",
     "text": [
      "WARNING: redefinition of constant _cuda. This may fail, cause incorrect answers, or produce other errors.\n"
     ]
    }
   ],
   "source": [
    "#nbx --fname=src/sensor_distribution.jl\n",
    "push!(LOAD_PATH, \"../src\");\n",
    "push!(LOAD_PATH, ENV[\"probcomp\"]*\"/Gen-Distribution-Zoo/src\");\n",
    "using BenchmarkTools\n",
    "using CUDA\n",
    "using Gen\n",
    "using MyUtils # ../src\n",
    "using GenDistributionZoo: diagnormal \n",
    "using Test\n",
    "\n",
    "# CUDA available?\n",
    "# > Reference: https://cuda.juliagpu.org/stable/installation/conditional/\n",
    "const _cuda = Ref(false)\n",
    "function __init__()\n",
    "    _cuda[] = CUDA.functional()\n",
    "end;\n",
    "__init__();"
   ]
  },
  {
   "attachments": {},
   "cell_type": "markdown",
   "metadata": {},
   "source": [
    "We start off with a couple of functions that we need broadcastable versions of: \n",
    " - `polar_inv`, a CUDA version of the invererse of polar coordinate transformation.\n",
    " - `gaussian_logpdf`, a broadcastable Gaussian logpdf.\n",
    " - `logsumexp_slice`, a version of `logsumexp` that can be applied along a dimension."
   ]
  },
  {
   "cell_type": "code",
   "execution_count": 36,
   "metadata": {},
   "outputs": [],
   "source": [
    "#nbx\n",
    "MyUtils.polar_inv(z::CuArray, a::CuArray) = cat(z.*cos.(a), z.*sin.(a), dims=ndims(a)+1);"
   ]
  },
  {
   "cell_type": "code",
   "execution_count": 37,
   "metadata": {},
   "outputs": [],
   "source": [
    "#nbx\n",
    "\"\"\"\n",
    "```julia\n",
    "    log_p = gaussian_logpdf(x, mu, sig)\n",
    "````\n",
    "Broadcastable Gaussian logpdf -- benchmarked in `33 - CUDA Accelerated Gen Distributions`.\n",
    "\"\"\"\n",
    "function gaussian_logpdf(x, mu, sig)\n",
    "    d = (x .- mu).^2 ./ sig.^2\n",
    "    log_p = - log.(sig) .- log(sqrt(2π)) .- 1/2 * d\n",
    "    return log_p\n",
    "end;"
   ]
  },
  {
   "attachments": {},
   "cell_type": "markdown",
   "metadata": {},
   "source": [
    "Just a quick reality check that we did not mess anything up in the definition above."
   ]
  },
  {
   "cell_type": "code",
   "execution_count": 38,
   "metadata": {},
   "outputs": [
    {
     "name": "stdout",
     "output_type": "stream",
     "text": [
      "\u001b[0m\u001b[1mTest Summary:          | \u001b[22m\u001b[32m\u001b[1mPass  \u001b[22m\u001b[39m\u001b[36m\u001b[1mTotal  \u001b[22m\u001b[39m\u001b[0m\u001b[1mTime\u001b[22m\n",
      "Gaussian reality check | \u001b[32m 300  \u001b[39m\u001b[36m  300  \u001b[39m\u001b[0m0.0s\n"
     ]
    }
   ],
   "source": [
    "@testset \"Gaussian reality check\" begin \n",
    "for i=1:100\n",
    "    x   = rand()\n",
    "    mu  = rand()\n",
    "    sig = rand()\n",
    "    \n",
    "    @test isapprox(logpdf(normal,  x, mu, sig), \n",
    "                   gaussian_logpdf(x, mu, sig))\n",
    "    @test gaussian_logpdf(x, Inf, 1.0)   == -Inf\n",
    "    @test gaussian_logpdf(Inf, 0.0, 1.0) == -Inf\n",
    "end \n",
    "end;"
   ]
  },
  {
   "cell_type": "code",
   "execution_count": 39,
   "metadata": {},
   "outputs": [],
   "source": [
    "#nbx\n",
    "\"\"\"\n",
    "```julia\n",
    "  logsumexp_slice(x; dims)\n",
    "```\n",
    "Applies `logsumexp` along specified dimensions.\n",
    "\n",
    "\n",
    "Benchmarks\n",
    "```julia \n",
    "x: (2000, 2000)\n",
    "dims: 2\n",
    "with `check_inf`\n",
    "  CPU  >>  49.887 ms (26 allocations: 30.57 MiB)\n",
    "  CUDA >> 355.932 μs (367 allocations: 19.55 KiB)\n",
    "\n",
    "without `check_inf`\n",
    "  CPU  >>  54.482 ms (20 allocations: 30.56 MiB)\n",
    "  CUDA >>  69.461 μs (142 allocations: 8.06 KiB)\n",
    "```\n",
    "\"\"\"\n",
    "function logsumexp_slice(x::Union{CuArray, Array}; dims, check_inf=true)\n",
    "    c = maximum(x, dims=dims)\n",
    "    y = c .+ log.(sum(exp.(x .- c), dims=dims))\n",
    "    \n",
    "    # Note that if c is -Inf, then y will be NaN.\n",
    "    if check_inf\n",
    "        y[c .== -Inf] .= - Inf\n",
    "    end\n",
    "    return y\n",
    "end;"
   ]
  },
  {
   "cell_type": "code",
   "execution_count": 40,
   "metadata": {},
   "outputs": [
    {
     "data": {
      "text/plain": [
       "(NaN, NaN, NaN, -Inf, -Inf, 1.0)"
      ]
     },
     "metadata": {},
     "output_type": "display_data"
    }
   ],
   "source": [
    "logsumexp([Inf]), \n",
    "logsumexp([Inf,1.]),\n",
    "logsumexp([Inf,-Inf]),\n",
    "logsumexp([-Inf]), \n",
    "logsumexp([-Inf,-Inf]),\n",
    "logsumexp([-Inf, 1.0])"
   ]
  },
  {
   "cell_type": "code",
   "execution_count": 41,
   "metadata": {},
   "outputs": [
    {
     "name": "stdout",
     "output_type": "stream",
     "text": [
      "\u001b[0m\u001b[1mTest Summary:           | \u001b[22m\u001b[32m\u001b[1mPass  \u001b[22m\u001b[39m\u001b[36m\u001b[1mTotal  \u001b[22m\u001b[39m\u001b[0m\u001b[1mTime\u001b[22m\n",
      "Logsumexp reality check | \u001b[32m   4  \u001b[39m\u001b[36m    4  \u001b[39m\u001b[0m0.5s\n"
     ]
    }
   ],
   "source": [
    "# Todo: make sure we tested all the edge cases \n",
    "#       we need (Inf's, NaN's...)\n",
    "@testset \"Logsumexp reality check\" begin \n",
    "    x = rand(10,5)\n",
    "    @test isapprox(\n",
    "        logsumexp_slice(x, dims=2),\n",
    "        log.(sum(exp.(x), dims=2))\n",
    "    )\n",
    "    @test isnan.(logsumexp_slice([Inf; 1.0], dims=1))  == [true]\n",
    "    @test logsumexp_slice([-Inf; 1.0], dims=1) == [1.0]\n",
    "    @test logsumexp_slice([-Inf;-Inf], dims=1) == [-Inf]\n",
    "end;"
   ]
  },
  {
   "cell_type": "code",
   "execution_count": 10,
   "metadata": {},
   "outputs": [
    {
     "name": "stdout",
     "output_type": "stream",
     "text": [
      "x: (2000, 2000)\n"
     ]
    },
    {
     "name": "stdout",
     "output_type": "stream",
     "text": [
      "  49.336 ms (26 allocations: 30.57 MiB)\n"
     ]
    },
    {
     "name": "stdout",
     "output_type": "stream",
     "text": [
      "  422.190 μs (367 allocations: 19.55 KiB)\n"
     ]
    },
    {
     "name": "stdout",
     "output_type": "stream",
     "text": [
      "  49.858 ms (20 allocations: 30.56 MiB)\n"
     ]
    },
    {
     "name": "stdout",
     "output_type": "stream",
     "text": [
      "  64.542 μs (142 allocations: 8.06 KiB)\n"
     ]
    }
   ],
   "source": [
    "x  = rand(2000, 2000)\n",
    "x_ = CuArray(x) \n",
    "\n",
    "function bench_logsumexp(x, dims, check_inf)\n",
    "    logsumexp_slice(x; dims=dims, check_inf=check_inf)\n",
    "end\n",
    "\n",
    "println(\"x: $(size(x))\")\n",
    "@btime bench_logsumexp($x , 2, true)  samples=3 evals=3;\n",
    "@btime bench_logsumexp($x_, 2, true)  samples=3 evals=3;\n",
    "@btime bench_logsumexp($x , 2, false) samples=3 evals=3;\n",
    "@btime bench_logsumexp($x_, 2, false) samples=3 evals=3;"
   ]
  },
  {
   "attachments": {},
   "cell_type": "markdown",
   "metadata": {},
   "source": [
    "## Sliding windows"
   ]
  },
  {
   "attachments": {},
   "cell_type": "markdown",
   "metadata": {},
   "source": [
    "### CPU"
   ]
  },
  {
   "cell_type": "code",
   "execution_count": 11,
   "metadata": {},
   "outputs": [
    {
     "name": "stdout",
     "output_type": "stream",
     "text": [
      "  19.073 μs (3 allocations: 31.56 KiB)\n"
     ]
    }
   ],
   "source": [
    "slviews(z,w,s) = ((@view z[i:i+w-1]) for i in 1:s:length(z)-w+1)\n",
    "function bench_it(n,w,s)\n",
    "    stack(collect(slviews(1:n,4,1)))\n",
    "end\n",
    "@btime bench_it(500,10,1)  samples=3 evals=3;"
   ]
  },
  {
   "cell_type": "code",
   "execution_count": 12,
   "metadata": {},
   "outputs": [
    {
     "name": "stdout",
     "output_type": "stream",
     "text": [
      "  420.706 μs (2466 allocations: 384.28 KiB)\n"
     ]
    }
   ],
   "source": [
    "using IterTools: partition\n",
    "function bench_it(n,w,s)\n",
    "    x = partition(1:n, w, s)\n",
    "    stack(collect.(x))\n",
    "end\n",
    "@btime bench_it(500,10,1)  samples=3 evals=3;"
   ]
  },
  {
   "cell_type": "code",
   "execution_count": 43,
   "metadata": {},
   "outputs": [
    {
     "name": "stdout",
     "output_type": "stream",
     "text": [
      "(500, 500, 41)Array"
     ]
    },
    {
     "name": "stdout",
     "output_type": "stream",
     "text": [
      "{Float64, 3}\n"
     ]
    },
    {
     "name": "stdout",
     "output_type": "stream",
     "text": [
      "  227.988 ms (500021 allocations: 207.90 MiB)\n"
     ]
    }
   ],
   "source": [
    "#nbx\n",
    "import Compat\n",
    "using PaddedViews\n",
    "\n",
    "function slw_cpu(x, w ,s=1; wrap=false, fill=true, fill_val=Inf)\n",
    "    if fill\n",
    "        y = PaddedView(fill_val, x, size(x) .+ (0,2w), (1,w+1))\n",
    "    else\n",
    "        y = PaddedView(fill_val, x, size(x) .+ (0,2w), (1,w+1))\n",
    "        y = Array(y)\n",
    "        y[:,1:w] .= x[:,end-w+1:end]\n",
    "        y[:,end-w+1:end] .= x[:,1:w]\n",
    "    end\n",
    "    I = ((@view y[j, i:i+2w]) for j=1:size(y,1), i in 1:s:size(y,2)-2w)\n",
    "    y = Compat.stack(I)\n",
    "    return permutedims(y, (2,3,1))\n",
    "end;\n",
    "\n",
    "k = 500\n",
    "n = 500\n",
    "w = 20\n",
    "\n",
    "x = rand(k,n)\n",
    "y = slw_cpu(x,w)\n",
    "\n",
    "println(size(y))\n",
    "\n",
    "@btime slw_cpu(x,w)  samples=3 evals=3;"
   ]
  },
  {
   "attachments": {},
   "cell_type": "markdown",
   "metadata": {},
   "source": [
    "### CUDA"
   ]
  },
  {
   "cell_type": "code",
   "execution_count": 44,
   "metadata": {},
   "outputs": [],
   "source": [
    "#nbx \n",
    "\"\"\"\n",
    "```julia\n",
    "    griddims = cuda_grid(datadims::Tuple{Vararg{Int}},\n",
    "                         blockdims::Tuple{Vararg{Int}})\n",
    "```\n",
    "Given data dimensions `datadims` and number of threads\n",
    "in each dimension `blockdims` returns the respective\n",
    "grid dimensions `griddims` such that for each `i` we have\n",
    "```julia\n",
    "    griddims[i] = ceil(Int, datadims[i]/blockdims[i])\n",
    "```\n",
    "\"\"\"\n",
    "function cuda_grid(datadims::Tuple{Vararg{Int}}, blockdims::Tuple{Vararg{Int}})\n",
    "    griddims = ceil.(Int, datadims./blockdims)\n",
    "    return griddims\n",
    "end\n",
    "\n",
    "# Todo: handle wrap around and padding smarter?\n",
    "\"\"\"\n",
    "```julia\n",
    "    slw_kernel!(x, y, w::Int, wrap::Bool, fill::Bool, fill_val::Float64)\n",
    "```\n",
    "CUDA kernel to compute sliding windows.\n",
    "Takes CuArrays of shape `(k,n)` and `(k,n,2w+1)`...\n",
    "\"\"\"\n",
    "function slw_kernel!(x, y, w::Int, wrap::Bool, fill::Bool, fill_val::Float64)\n",
    "    \n",
    "    m = 2*w + 1\n",
    "    n = size(x,2)\n",
    "\n",
    "    # Make sure the arrays are \n",
    "    # of the right shape\n",
    "    @assert ndims(x)  == 2\n",
    "    @assert ndims(y)  == ndims(x) + 1\n",
    "    @assert size(x,1) == size(y,1)\n",
    "    @assert size(x,2) == size(y,2)\n",
    "    @assert size(y,3) == m\n",
    "    \n",
    "    # Thread id's\n",
    "    ix = (blockIdx().x - 1) * blockDim().x + threadIdx().x\n",
    "    iy = (blockIdx().y - 1) * blockDim().y + threadIdx().y\n",
    "    iz = (blockIdx().z - 1) * blockDim().z + threadIdx().z\n",
    "    sx = gridDim().x * blockDim().x\n",
    "    sy = gridDim().y * blockDim().y\n",
    "    sz = gridDim().z * blockDim().z\n",
    "        \n",
    "    for j_pose = ix:sx:size(y,1), j_obs = iy:sy:size(y,2), j_mix = iz:sz:size(y,3)\n",
    "        # Transform mixture index in `1:m` \n",
    "        # to offsets in `-w:w`\n",
    "        offset = j_mix-1-w\n",
    "        \n",
    "        j = j_obs + offset\n",
    "        if !fill\n",
    "            j = mod(j - 1 , n) + 1\n",
    "            val = x[j_pose, j]\n",
    "        else\n",
    "            if 1 <= j <= n\n",
    "                val = x[j_pose, j]\n",
    "            else\n",
    "                if fill\n",
    "                    val = fill_val\n",
    "                else\n",
    "                    j = max(min(j,n),1)\n",
    "                    val = x[j_pose, j]\n",
    "                end\n",
    "            end\n",
    "        end\n",
    "        \n",
    "        # Fill entries of `y`\n",
    "        @inbounds y[j_pose, j_obs, j_mix] = val\n",
    "    end\n",
    "    return\n",
    "end\n",
    "\n",
    "\"\"\"\n",
    "```julia\n",
    "    y_ = slw_cu(x_::CuArray, w::Int; blockdims=(8,8,4), wrap=false, fill=true, fill_val=Inf)\n",
    "```\n",
    "CUDA-accelerated function computing sliding windows. \n",
    "Takes a CuArray of shape `(k,n)` and returns a CuArray\n",
    "of shape `(k,n,m)`, where `m = 2w+1`....\n",
    "\"\"\"\n",
    "function slw_cu(x::CuArray, w::Int; blockdims=(8,8,4), wrap=false, fill=true, fill_val=Inf)\n",
    "    \n",
    "    k = size(x, 1)\n",
    "    n = size(x, 2)\n",
    "    m = 2*w+1\n",
    "    \n",
    "    y = CUDA.ones(k,n,m)\n",
    "    \n",
    "    # `cuda_grid` defined in reaycaster file, I also put it in utils\n",
    "    griddims = cuda_grid((k,n,m), blockdims)\n",
    "    CUDA.@sync begin\n",
    "        @cuda threads=blockdims blocks=griddims slw_kernel!(x, y, w, wrap, fill, fill_val)\n",
    "    end\n",
    "    \n",
    "    return y\n",
    "end;"
   ]
  },
  {
   "cell_type": "code",
   "execution_count": 45,
   "metadata": {},
   "outputs": [
    {
     "name": "stdout",
     "output_type": "stream",
     "text": [
      "  0.000272 seconds (4 allocations: 160 bytes)\n"
     ]
    },
    {
     "name": "stdout",
     "output_type": "stream",
     "text": [
      "  965.795 μs (59 allocations: 3.48 KiB)\n"
     ]
    }
   ],
   "source": [
    "k = 500\n",
    "n = 500\n",
    "w = 20\n",
    "\n",
    "x  = stack(fill(collect(1.0:n), k))\n",
    "@time x_ = CuArray(x)\n",
    "\n",
    "y_ = slw_cu(x_, w, blockdims=(8,8,4), wrap=false, fill=true, fill_val=Inf)\n",
    "y  = Array(y_);\n",
    "y[1,:,:]\n",
    "\n",
    "@btime slw_cu(x_, w, blockdims=(8,8,4), wrap=false, fill=true, fill_val=Inf) samples=3 evals=3;"
   ]
  },
  {
   "attachments": {},
   "cell_type": "markdown",
   "metadata": {},
   "source": [
    "### Combined"
   ]
  },
  {
   "cell_type": "code",
   "execution_count": 46,
   "metadata": {},
   "outputs": [],
   "source": [
    "#nbx\n",
    "\"\"\"\n",
    "    y = slw(x, w::Int; blockdims=(8,8,4), wrap=false, fill=false, fill_val=Inf)\n",
    "\n",
    "Function computing sliding windows, either on the CPU or GPU.\n",
    "Takes a CuArray of shape `(k,n)` and returns a CuArray\n",
    "of shape `(k,n,m)`, where `m = 2w+1`...\n",
    "\"\"\"\n",
    "function slw(x::Array, w::Int; blockdims=(8,8,4), wrap=false, fill=false, fill_val=Inf)\n",
    "    if _cuda[]\n",
    "        x_ = CuArray(x)\n",
    "        y_ = slw_cu(x_, w; blockdims=blockdims, wrap=wrap, fill=fill, fill_val=fill_val)\n",
    "        return Array(y_)\n",
    "    else\n",
    "        return slw_cpu(x, w;  wrap=wrap, fill=fill, fill_val=fill_val)\n",
    "    end\n",
    "end;\n",
    "\n",
    "function slw(x_::CuArray, w::Int; blockdims=(8,8,4), wrap=false, fill=false, fill_val=Inf)\n",
    "    y_ = slw_cu(x_, w; blockdims=blockdims, wrap=wrap, fill=fill, fill_val=fill_val)\n",
    "    return y_\n",
    "end;"
   ]
  },
  {
   "cell_type": "code",
   "execution_count": 49,
   "metadata": {},
   "outputs": [
    {
     "name": "stdout",
     "output_type": "stream",
     "text": [
      "  231.386 ms (500023 allocations: 207.90 MiB)\n"
     ]
    },
    {
     "name": "stdout",
     "output_type": "stream",
     "text": [
      "  32.028 ms (65 allocations: 39.10 MiB)\n"
     ]
    },
    {
     "name": "stdout",
     "output_type": "stream",
     "text": [
      "  833.622 μs (59 allocations: 3.55 KiB)\n"
     ]
    }
   ],
   "source": [
    "k = 500\n",
    "n = 500\n",
    "w = 20\n",
    "\n",
    "x  = stack(fill(collect(1.0:n), k))\n",
    "x_ = CuArray(x)\n",
    "\n",
    "fill_up = true\n",
    "_cuda[] = false;\n",
    "y = slw(x,w; fill=fill_up, fill_val=Inf);\n",
    "@btime slw(x,w; fill=fill_up, fill_val=Inf) samples=3 evals=3;\n",
    "\n",
    "_cuda[] = true;\n",
    "y′ = slw(x,w; fill=fill_up, fill_val=Inf);\n",
    "@btime slw(x,w; fill=fill_up, fill_val=Inf) samples=3 evals=3;\n",
    "@btime slw(x_,w; fill=fill_up, fill_val=Inf) samples=3 evals=3;\n",
    "\n",
    "@assert all(y .== y′)"
   ]
  },
  {
   "attachments": {},
   "cell_type": "markdown",
   "metadata": {},
   "source": [
    "## 2D Sensor Distribution (for point clouds)"
   ]
  },
  {
   "attachments": {},
   "cell_type": "markdown",
   "metadata": {},
   "source": [
    "### Mixture components"
   ]
  },
  {
   "cell_type": "code",
   "execution_count": null,
   "metadata": {},
   "outputs": [],
   "source": [
    "#nbx\n",
    "\"\"\"\n",
    "    ys_tilde_ = get_ys_tilde_cu(zs_::CuArray, w::Int)    \n",
    "\n",
    "Computes the 2d mixture components for the \"2dp3\" likelihood from \n",
    "    depth measurements `zs_` along angles `as_`, and with a filter radius of `w`.\n",
    "    \n",
    "    Arguments:\n",
    "            zs_: Range measurements `(k,n)`\n",
    "            as_: Angles of measuremnts `(n,)`\n",
    "            w:   Filter window radius\n",
    "    \n",
    "    Returns:\n",
    "        CuArray of shape `(k, n, 2w+1, 2)`\n",
    "\"\"\"\n",
    "function get_ys_tilde_cu(zs_::CuArray, as_::CuArray, w::Int; wrap=false, fill=false, fill_val=0.0)   \n",
    "\n",
    "    zs_tilde_ = slw_cu(zs_, w; blockdims=(8,8,4), wrap=wrap)\n",
    "    as_tilde_ = slw_cu(reshape(as_,1,:), w; blockdims=(8,8,4), wrap=wrap)\n",
    "    ys_tilde_ = polar_inv(zs_tilde_, as_tilde_)\n",
    "    \n",
    "    return ys_tilde_\n",
    "end;"
   ]
  },
  {
   "cell_type": "code",
   "execution_count": null,
   "metadata": {},
   "outputs": [],
   "source": [
    "#nbx\n",
    "# Same as above but want to switch \n",
    "# to different name going forward\n",
    "\"\"\"\n",
    "```julia\n",
    "    ỹ_::CuArray = get_2d_mixture_components(z_::CuArray, a_::CuArray, w::Int; \n",
    "                                            wrap=false, fill=true, \n",
    "                                            fill_val_z=Inf, fill_val_a=Inf)\n",
    "```\n",
    "Computes the 2d mixture components for the \"2dp3\" likelihood from a family \n",
    "depth scans `z_` along angles `a_`, and with a filter radius of `w`.\n",
    "\n",
    "Arguments:\n",
    " - `z_`:    Range measurements `(k,n)`\n",
    " - `a_`:    Angles of measuremnts `(n,)`\n",
    " - `w`:     Filter window size\n",
    "\n",
    "Returns:\n",
    " - `ỹ_`: CuArray of shape `(k, n, m, 2)`, where `m=2w+1`\n",
    "\"\"\"\n",
    "function get_2d_mixture_components(z_::CuArray, a_::CuArray, w::Int; \n",
    "                                   wrap=false, fill=true, fill_val_z=Inf, fill_val_a=Inf)\n",
    "    \n",
    "    z̃_ = slw_cu(             z_, w; blockdims=(8,8,4), wrap=wrap, fill=fill, fill_val=fill_val_z)\n",
    "    ã_ = slw_cu(reshape(a_,1,:), w; blockdims=(8,8,4), wrap=wrap, fill=fill, fill_val=fill_val_a)\n",
    "    ỹ_ = polar_inv(z̃_, ã_)\n",
    "    \n",
    "    # Handle Inf's and NaN\n",
    "    ỹ_[isnan.(ỹ_)] .= Inf\n",
    "\n",
    "    return ỹ_\n",
    "end;"
   ]
  },
  {
   "cell_type": "code",
   "execution_count": 52,
   "metadata": {},
   "outputs": [],
   "source": [
    "#nbx\n",
    "\"\"\"\n",
    "```julia\n",
    "    ỹ::Array = get_2d_mixture_components(z::Array, a::Array, w::Int; \n",
    "                                            wrap=false, fill=true, \n",
    "                                            fill_val_z=Inf, fill_val_a=Inf)\n",
    "```\n",
    "Computes the 2d mixture components for the \"2dp3\" likelihood from a family \n",
    "depth scans `z` along angles `a`, and with a filter radius of `w`.\n",
    "\n",
    "Arguments:\n",
    " - `z`:    Range measurements `(k,n)`\n",
    " - `a`:    Angles of measuremnts `(n,)`\n",
    " - `w`:     Filter window size\n",
    "\n",
    "Returns:\n",
    " - `ỹ`: Array of shape `(k, n, m, 2)`, where `m=2w+1`\n",
    "\"\"\"\n",
    "function get_2d_mixture_components(z::Array, a::Array, w::Int; \n",
    "                                   wrap=false, fill=true, \n",
    "                                   fill_val_z=Inf, fill_val_a=Inf)\n",
    "    \n",
    "    if _cuda[]\n",
    "        z_ = CuArray(z)\n",
    "        a_ = CuArray(a)\n",
    "        ỹ_ = get_2d_mixture_components(z_, a_, w; \n",
    "                                        wrap=wrap, fill=fill, \n",
    "                                        fill_val_z=fill_val_z, fill_val_a=fill_val_a)\n",
    "        return Array(ỹ_)\n",
    "    else\n",
    "        return get_2d_mixture_components(z, a, w; \n",
    "                                         wrap=wrap, fill=fill, \n",
    "                                         fill_val_z=fill_val_z, fill_val_a=fill_val_a)\n",
    "    end\n",
    "end;"
   ]
  },
  {
   "attachments": {},
   "cell_type": "markdown",
   "metadata": {},
   "source": [
    "### 2dp3 Likelihood "
   ]
  },
  {
   "cell_type": "code",
   "execution_count": 55,
   "metadata": {},
   "outputs": [],
   "source": [
    "#nbx\n",
    "\"\"\"\n",
    "```julia\n",
    "    log_ps, ptw = sensor_logpdf(x, ỹ, sig, outlier, outlier_vol=1.0; return_pointwise=false)\n",
    "```\n",
    "Evaluates an observation `x` under the 2dp3 likelihood with <br/>\n",
    "a family of mixture components `ỹ` and parameters `sig`, `outlier`, and `outlier_vol`.\n",
    "\n",
    "Arguments:\n",
    " - `x`:  Observation point cloud `(n,2)`\n",
    " - `ỹ`: Family of mixture components `(k,n,m,2)`\n",
    " - ...\n",
    "\n",
    "Returns:\n",
    " - `log_ps`: Log-probs `(k,)`\n",
    " - `ptw`:    Pointwise log-probs for each observation point `(k,n)`\n",
    "\"\"\"\n",
    "function sensor_logpdf(x, ỹ, sig, outlier, outlier_vol=1.0; return_pointwise=false) \n",
    "    @assert size(x,1) == size(ỹ,2)\n",
    "\n",
    "    k = size(ỹ,1)\n",
    "    n = size(ỹ,2)\n",
    "    m = size(ỹ,3)\n",
    "    x = reshape(x, 1, n, 1, 2)\n",
    "    \n",
    "    # Line by line: ...\n",
    "    #   Compute 1D Gaussians (k,n,m,2)\n",
    "    #   Convert to 2D gausians (k,n,m,1)\n",
    "    #   Convert to mixture `gm` of m 2D gausians (k,n,1,1)\n",
    "    #   Convert to mixture of `gm` and `outlier` (k,n,1,1)\n",
    "    log_p = gaussian_logpdf(x, ỹ, sig)\n",
    "    log_p = sum(log_p, dims=4)\n",
    "    log_p = logsumexp_slice(log_p .- log(m), dims=3)\n",
    "    log_p = log.((1 .- outlier).*exp.(log_p) .+ outlier./outlier_vol)\n",
    "    \n",
    "    # If we don't need pointwise logprobs\n",
    "    # we can save us the time and space to copy\n",
    "    pointwise = nothing\n",
    "    if return_pointwise\n",
    "        pointwise = dropdims(log_p, dims=(3,4))\n",
    "    end\n",
    "\n",
    "    # Convert to product of mixtures (k,1,1,1)\n",
    "    log_p = sum(log_p, dims=2)\n",
    "    log_p = dropdims(log_p, dims=(2,3,4))\n",
    "\n",
    "    return log_p, pointwise\n",
    "end\n",
    "# Todo: Make sure we handle Inf's in y correctly --\n",
    "#       that might come from sliding window fills? \n",
    "\n",
    "# Backwards compatibility -- \n",
    "# Same as `sensor_logpdf` above\n",
    "function sensor_smc_logpdf_cu(x, y, sig, outlier, outlier_vol; return_pointwise=false)\n",
    "    return sensor_logpdf(x, y, sig, outlier, outlier_vol; return_pointwise=return_pointwise)\n",
    "end;"
   ]
  },
  {
   "cell_type": "code",
   "execution_count": 56,
   "metadata": {},
   "outputs": [
    {
     "ename": "InterruptException",
     "evalue": "InterruptException:",
     "output_type": "error",
     "traceback": [
      "InterruptException:\n",
      "\n",
      "Stacktrace:\n",
      "  [1] adapt_structure\n",
      "    @ ~/.julia/packages/Adapt/xviDc/src/base.jl:3 [inlined]\n",
      "  [2] adapt\n",
      "    @ ~/.julia/packages/Adapt/xviDc/src/Adapt.jl:40 [inlined]\n",
      "  [3] adapt_structure(to::CUDA.Adaptor, bc::Base.Broadcast.Broadcasted{CUDA.CuArrayStyle{4}, Nothing, typeof(*), Tuple{Base.Broadcast.Broadcasted{Base.Broadcast.DefaultArrayStyle{0}, Nothing, typeof(-), Tuple{Int64, Float64}}, Base.Broadcast.Broadcasted{CUDA.CuArrayStyle{4}, Nothing, typeof(exp), Tuple{Base.Broadcast.Extruded{CuArray{Float64, 4, CUDA.Mem.DeviceBuffer}, NTuple{4, Bool}, NTuple{4, Int64}}}}}})\n",
      "    @ Adapt ~/.julia/packages/Adapt/xviDc/src/base.jl:43\n",
      "  [4] adapt\n",
      "    @ ~/.julia/packages/Adapt/xviDc/src/Adapt.jl:40 [inlined]\n",
      "  [5] Fix1\n",
      "    @ ./operators.jl:1096 [inlined]\n",
      "  [6] map(f::Base.Fix1{typeof(Adapt.adapt), CUDA.Adaptor}, t::Tuple{Base.Broadcast.Broadcasted{CUDA.CuArrayStyle{4}, Nothing, typeof(*), Tuple{Base.Broadcast.Broadcasted{Base.Broadcast.DefaultArrayStyle{0}, Nothing, typeof(-), Tuple{Int64, Float64}}, Base.Broadcast.Broadcasted{CUDA.CuArrayStyle{4}, Nothing, typeof(exp), Tuple{Base.Broadcast.Extruded{CuArray{Float64, 4, CUDA.Mem.DeviceBuffer}, NTuple{4, Bool}, NTuple{4, Int64}}}}}}, Base.Broadcast.Broadcasted{Base.Broadcast.DefaultArrayStyle{0}, Nothing, typeof(/), Tuple{Float64, Float64}}})\n",
      "    @ Base ./tuple.jl:222\n",
      "  [7] adapt_structure\n",
      "    @ ~/.julia/packages/Adapt/xviDc/src/base.jl:3 [inlined]\n",
      "  [8] adapt\n",
      "    @ ~/.julia/packages/Adapt/xviDc/src/Adapt.jl:40 [inlined]\n",
      "  [9] adapt_structure(to::CUDA.Adaptor, bc::Base.Broadcast.Broadcasted{CUDA.CuArrayStyle{4}, Nothing, typeof(+), Tuple{Base.Broadcast.Broadcasted{CUDA.CuArrayStyle{4}, Nothing, typeof(*), Tuple{Base.Broadcast.Broadcasted{Base.Broadcast.DefaultArrayStyle{0}, Nothing, typeof(-), Tuple{Int64, Float64}}, Base.Broadcast.Broadcasted{CUDA.CuArrayStyle{4}, Nothing, typeof(exp), Tuple{Base.Broadcast.Extruded{CuArray{Float64, 4, CUDA.Mem.DeviceBuffer}, NTuple{4, Bool}, NTuple{4, Int64}}}}}}, Base.Broadcast.Broadcasted{Base.Broadcast.DefaultArrayStyle{0}, Nothing, typeof(/), Tuple{Float64, Float64}}}})\n",
      "    @ Adapt ~/.julia/packages/Adapt/xviDc/src/base.jl:43\n",
      " [10] adapt\n",
      "    @ ~/.julia/packages/Adapt/xviDc/src/Adapt.jl:40 [inlined]\n",
      " [11] Fix1\n",
      "    @ ./operators.jl:1096 [inlined]\n",
      " [12] map\n",
      "    @ ./tuple.jl:221 [inlined]\n",
      " [13] adapt_structure\n",
      "    @ ~/.julia/packages/Adapt/xviDc/src/base.jl:3 [inlined]\n",
      " [14] adapt\n",
      "    @ ~/.julia/packages/Adapt/xviDc/src/Adapt.jl:40 [inlined]\n",
      " [15] adapt_structure(to::CUDA.Adaptor, bc::Base.Broadcast.Broadcasted{CUDA.CuArrayStyle{4}, NTuple{4, Base.OneTo{Int64}}, typeof(log), Tuple{Base.Broadcast.Broadcasted{CUDA.CuArrayStyle{4}, Nothing, typeof(+), Tuple{Base.Broadcast.Broadcasted{CUDA.CuArrayStyle{4}, Nothing, typeof(*), Tuple{Base.Broadcast.Broadcasted{Base.Broadcast.DefaultArrayStyle{0}, Nothing, typeof(-), Tuple{Int64, Float64}}, Base.Broadcast.Broadcasted{CUDA.CuArrayStyle{4}, Nothing, typeof(exp), Tuple{Base.Broadcast.Extruded{CuArray{Float64, 4, CUDA.Mem.DeviceBuffer}, NTuple{4, Bool}, NTuple{4, Int64}}}}}}, Base.Broadcast.Broadcasted{Base.Broadcast.DefaultArrayStyle{0}, Nothing, typeof(/), Tuple{Float64, Float64}}}}}})\n",
      "    @ Adapt ~/.julia/packages/Adapt/xviDc/src/base.jl:43\n",
      " [16] adapt\n",
      "    @ ~/.julia/packages/Adapt/xviDc/src/Adapt.jl:40 [inlined]\n",
      " [17] cudaconvert\n",
      "    @ ~/.julia/packages/CUDA/ZdCxS/src/compiler/execution.jl:158 [inlined]\n",
      " [18] map\n",
      "    @ ./tuple.jl:223 [inlined]\n",
      " [19] map\n",
      "    @ ./tuple.jl:224 [inlined]\n",
      " [20] macro expansion\n",
      "    @ ~/.julia/packages/CUDA/ZdCxS/src/compiler/execution.jl:100 [inlined]\n",
      " [21] #launch_heuristic#245\n",
      "    @ ~/.julia/packages/CUDA/ZdCxS/src/gpuarrays.jl:17 [inlined]\n",
      " [22] _copyto!\n",
      "    @ ~/.julia/packages/GPUArrays/TnEpb/src/host/broadcast.jl:65 [inlined]\n",
      " [23] copyto!\n",
      "    @ ~/.julia/packages/GPUArrays/TnEpb/src/host/broadcast.jl:46 [inlined]\n",
      " [24] copy\n",
      "    @ ~/.julia/packages/GPUArrays/TnEpb/src/host/broadcast.jl:37 [inlined]\n",
      " [25] materialize\n",
      "    @ ./broadcast.jl:860 [inlined]\n",
      " [26] sensor_logpdf(x::CuArray{Float64, 2, CUDA.Mem.DeviceBuffer}, ỹ::CuArray{Float64, 4, CUDA.Mem.DeviceBuffer}, sig::Float64, outlier::Float64, outlier_vol::Float64; return_pointwise::Bool)\n",
      "    @ Main ~/workspace/probabilistic-slam-in-gen/notebooks/v2/13 - 2dp3 Sensor Distribution - CUDA.ipynb:34\n",
      " [27] top-level scope\n",
      "    @ ~/workspace/probabilistic-slam-in-gen/notebooks/v2/13 - 2dp3 Sensor Distribution - CUDA.ipynb:20"
     ]
    }
   ],
   "source": [
    "k = 2\n",
    "n = 3\n",
    "m = 3\n",
    "\n",
    "x   = rand(n,2)\n",
    "ys  = rand(k,n,m,2)\n",
    "\n",
    "# Insert some Inf's, that might come \n",
    "# from sliding window fills. \n",
    "ys[1,:,:,:] .= Inf\n",
    "\n",
    "x_  = CuArray(x)\n",
    "ys_ = CuArray(ys)\n",
    "\n",
    "sig         = 1.0\n",
    "outlier     = 0.1\n",
    "outlier_vol = 10.0\n",
    "\n",
    "log_ps , ptw  = sensor_logpdf(x , ys , sig, outlier, outlier_vol; return_pointwise=true)\n",
    "log_ps_, ptw_ = sensor_logpdf(x_, ys_, sig, outlier, outlier_vol; return_pointwise=true)\n",
    "\n",
    "@assert isapprox(log_ps, Array(log_ps_))\n",
    "@assert isapprox(minimum(ptw[1,:]), log(outlier/outlier_vol))\n"
   ]
  },
  {
   "attachments": {},
   "cell_type": "markdown",
   "metadata": {},
   "source": [
    "### Distribution"
   ]
  },
  {
   "cell_type": "code",
   "execution_count": null,
   "metadata": {},
   "outputs": [],
   "source": [
    "#nbx\n",
    "struct SensorDistribution_CUDA <: Distribution{Vector{Vector{Float64}}} \n",
    "end\n",
    "\n",
    "\"\"\"\n",
    "```julia\n",
    "    x = sensordist_cu(ỹ_::CuArray, sig, outlier, outlier_vol=1.0)::Vector{Vector{Float64}}\n",
    "```\n",
    "Distribution from the 2dp3-likelihood. Takes 2d-mixture components `ỹ_` and \n",
    "samples a vector `x` of 2d points.\n",
    "\n",
    "Arguments:\n",
    " - `ỹ_`: 2d-mixture components `(n,m,2)`\n",
    " - ...\n",
    "Returns:\n",
    "- `x`: Observation vector of 2d points.\n",
    "\"\"\"\n",
    "const sensordist_cu = SensorDistribution_CUDA()\n",
    "\n",
    "# Todo:\n",
    "function Gen.logpdf(::SensorDistribution_CUDA, x, ỹ_::CuArray, sig, outlier, outlier_vol=1.0)\n",
    "    n = size(ỹ_, 1)\n",
    "    m = size(ỹ_, 2)\n",
    "    \n",
    "    x_ = CuArray(stack(x))\n",
    "    ỹ_ = reshape(ỹ_, 1, n, m, 2) \n",
    "    \n",
    "    log_p, = sensor_logpdf(x_, ỹ_, sig, outlier, outlier_vol) # CuArray of length 1\n",
    "    return CUDA.@allowscalar log_p[1]\n",
    "end\n",
    "\n",
    "function Gen.random(::SensorDistribution_CUDA, ỹ_::CuArray, sig, outlier, outlier_vol=1.0)\n",
    "    n = size(ỹ_,1)\n",
    "    m = size(ỹ_,2)\n",
    "    \n",
    "    # Sample an observation point cloud `x`\n",
    "    x = Vector{Float64}[]\n",
    "    for i=1:n\n",
    "        if bernoulli(outlier)\n",
    "            # Todo: Change that to a uniform distribution, e.g. over a  \n",
    "            #       circular area with radius `zmax`.\n",
    "            x_i = [Inf;Inf]\n",
    "        else\n",
    "            j   = rand(1:m)\n",
    "            y   = Array(ỹ_[i,j,:])\n",
    "            x_i = diagnormal(y, [sig;sig])\n",
    "\n",
    "        end\n",
    "        push!(x, x_i)\n",
    "    end\n",
    "    \n",
    "    return x\n",
    "end\n",
    "\n",
    "(D::SensorDistribution_CUDA)(args...)             = Gen.random(D, args...)\n",
    "Gen.has_output_grad(::SensorDistribution_CUDA)    = false\n",
    "Gen.has_argument_grads(::SensorDistribution_CUDA) = (false, false);"
   ]
  },
  {
   "cell_type": "code",
   "execution_count": null,
   "metadata": {},
   "outputs": [],
   "source": [
    "n = 500\n",
    "m = 41\n",
    "\n",
    "ys  = rand(n,m,2)\n",
    "ys_ = CuArray(ys)\n",
    "\n",
    "sig         = 1.0\n",
    "outlier     = 0.1\n",
    "outlier_vol = 10.0\n",
    "args = (ys_, sig, outlier, outlier_vol)\n",
    "x = sensordist_cu(args...)\n",
    "logpdf(sensordist_cu, x, args...)\n",
    "\n",
    "println(\"y_: $(size(ys))\")\n",
    "@btime logpdf(sensordist_cu, x, args...) samples=3 evals=3;"
   ]
  },
  {
   "attachments": {},
   "cell_type": "markdown",
   "metadata": {},
   "source": [
    "Benchmark\n",
    "```julia\n",
    "y_: (500, 41, 2)\n",
    "  443.054 μs (598 allocations: 56.33 KiB)\n",
    "```"
   ]
  },
  {
   "cell_type": "code",
   "execution_count": null,
   "metadata": {},
   "outputs": [],
   "source": [
    "t = 1_050\n",
    "zs_ = CuArray(stack([_zs[t]]))\n",
    "as_ = CuArray(_as);\n",
    "\n",
    "w           = 20\n",
    "sig         = 0.6\n",
    "outlier     = 0.1\n",
    "outlier_vol = 100.\n",
    "\n",
    "\n",
    "ỹ_ = get_2d_mixture_components(zs_, as_, w; wrap=false, fill=true, \n",
    "                                            fill_val_z=Inf, fill_val_a = Inf);\n",
    "\n",
    "println(sum(isnan.(ỹ_)))\n",
    "\n",
    "xs = [sensordist_cu(ỹ_[1,:,:,:], sig, outlier, outlier_vol) for i=1:1]\n",
    "xs = reduce(vcat, xs)\n",
    "\n",
    "# ----------------\n",
    "mypl = plot(size=(750,550), aspect_ratio=:equal, ylim=(-5,5))\n",
    "scatter!(_ys_inf[t], markerstrokewidth=0, c=col[1], label=\"Reference (Map)\")\n",
    "args = (\n",
    "    markersize=2, \n",
    "    alpha=1., \n",
    "    markerstrokewidth=1,\n",
    "    c=:magenta\n",
    ")\n",
    "scatter!(xs; args..., label=\"Samples\")\n",
    "display(mypl)"
   ]
  },
  {
   "attachments": {},
   "cell_type": "markdown",
   "metadata": {},
   "source": [
    "## 1D Sensor Distribution"
   ]
  },
  {
   "attachments": {},
   "cell_type": "markdown",
   "metadata": {},
   "source": [
    "### 1D Mixture"
   ]
  },
  {
   "cell_type": "code",
   "execution_count": null,
   "metadata": {},
   "outputs": [],
   "source": [
    "#nbx\n",
    "\"\"\"\n",
    "```julia\n",
    "    ỹ_, w̃_ = get_1d_mixture_components(z_, a_, w, sig; \n",
    "                                       wrap=false, fill=true, \n",
    "                                       fill_val_z=Inf, fill_val_a=Inf)\n",
    "```\n",
    "Computes the 1d mixture components and their weights for the \"2dp3\" likelihood \n",
    "(or rather for the induced line distributions) from depth measurements `z_` \n",
    "along angles `a_`, and with a filter radius of `w`.\n",
    "\n",
    "Arguments:\n",
    " - `z_`: Range measurements `(k,n)`\n",
    " - `a_`: Angles of measuremnts `(n,)`\n",
    " - `w``: Filter window radius\n",
    "\n",
    "Returns:\n",
    " - `ỹ_`: 1d mixture components `(k, n, m)`, where `m2w+1`\n",
    " - `w̃_`: 1d mixture weights `(k, n, m)`, where `m2w+1`\n",
    "\"\"\"\n",
    "function get_1d_mixture_components(z_, a_, w, sig; \n",
    "                                   wrap=false, fill=true, \n",
    "                                   fill_val_z=Inf, fill_val_a=Inf)\n",
    "    a_ = reshape(a_,1,:)\n",
    "    z̃_ = slw_cu!(z_, w; blockdims=(8,8,4), wrap=wrap, fill=fill, fill_val=fill_val_z)\n",
    "    ã_ = slw_cu!(a_, w; blockdims=(8,8,4), wrap=wrap, fill=fill, fill_val=fill_val_a)\n",
    "    \n",
    "    # We compute the projection `ỹ` of the 2d mixtures onto \n",
    "    # the ray through each pixel and their distance `d̃` to the rays.\n",
    "    #\n",
    "    # Note that the embedded point is of the form `[z*cos(a), z*cos(a)]` and \n",
    "    # the projections are given by the dot products with the x- and y-axis.\n",
    "    ã_ = π/2 .- ã_ .+ a_\n",
    "    d̃_ = z̃_ .* cos.(ã_)\n",
    "    ỹ_ = z̃_ .* sin.(ã_)\n",
    "    \n",
    "    # Handle Inf's and NaN\n",
    "    d̃_[isnan.(d̃_)] .= Inf\n",
    "    ỹ_[isnan.(ỹ_)] .= Inf\n",
    "\n",
    "    # Compute normalized mixture weights\n",
    "    w̃_ = gaussian_logpdf(d̃_, 0.0, sig)\n",
    "    w̃_ = w̃_ .- logsumexp_slice(w̃_, dims=3)\n",
    "\n",
    "    return ỹ_, w̃_\n",
    "end;"
   ]
  },
  {
   "cell_type": "code",
   "execution_count": null,
   "metadata": {},
   "outputs": [],
   "source": [
    "t   = 1050\n",
    "zs_ = CuArray(stack([_zs[t]]))\n",
    "as_ = CuArray(_as);\n",
    "\n",
    "w           = 20\n",
    "sig         = 0.1\n",
    "outlier     = 0.1\n",
    "outlier_vol = 100.\n",
    "\n",
    "ys_tilde_, ws_tilde_ = get_1d_mixture_components(zs_, as_, w, sig,\n",
    "                                 wrap=false, fill=true, fill_val_z=Inf, fill_val_a = Inf);\n",
    "\n",
    "sum(isnan.(ys_tilde_)), \n",
    "sum(isnan.(ws_tilde_))"
   ]
  },
  {
   "attachments": {},
   "cell_type": "markdown",
   "metadata": {},
   "source": [
    "### 1d Likelihood"
   ]
  },
  {
   "cell_type": "code",
   "execution_count": null,
   "metadata": {},
   "outputs": [],
   "source": [
    "#nbx\n",
    "\"\"\"\n",
    "    log_ps, ptw = sensor_logpdf_1d(z, ỹ, w̃, sig, outlier, outlier_vol; return_pointwise=false)\n",
    "\n",
    "Evaluates an depth measurement `z` under the 2dp3 likelihood with <br/>\n",
    "a family of 1d mixture components `ỹ` and their weights ` w̃` and <br/>\n",
    "parameters `sig`, `outlier`, and `outlier_vol`.\n",
    "\n",
    "Arguments:\n",
    "    - `z`:  Depth measurements `(n,)`\n",
    "    - `w̃`: Family of mixture components `(k,n,m)`\n",
    "    - `ỹ`: Family of mixture components `(k,n,m)`\n",
    "    - ...\n",
    "\n",
    "Returns:\n",
    "    - `log_ps`: Log-probs `(k,)`\n",
    "    - `ptw`:    Pointwise log-probs for each observation point `(k,n)`\n",
    "\"\"\"\n",
    "function sensor_logpdf_1d(z, ỹ, w̃, sig, outlier, outlier_vol; return_pointwise=false)\n",
    "    \n",
    "    log_ps = gaussian_logpdf(z, ỹ, sig)\n",
    "    log_ps = logsumexp_slice(log_ps .+ w̃, dims=3)\n",
    "    log_ps = log.((1 .- outlier).*exp.(log_ps) .+ outlier./outlier_vol)\n",
    "\n",
    "    ptw = nothing\n",
    "    if return_pointwise\n",
    "        ptw = dropdims(log_ps, dims=3)\n",
    "    end\n",
    "\n",
    "    log_ps = sum(log_ps, dims=2)\n",
    "    log_ps = dropdims(log_ps, dims=(2,3))\n",
    "\n",
    "    return log_ps, ptw\n",
    "end;\n",
    "# Todo: We still have to truncate at zero. This is a distribution over the whole reals, including negative depths."
   ]
  },
  {
   "cell_type": "code",
   "execution_count": null,
   "metadata": {},
   "outputs": [],
   "source": [
    "t = 1_050\n",
    "# -----------------\n",
    "mypl = plot(size=(200,200), aspect_ratio=:equal, legend=nothing)\n",
    "scatter!(_ys_inf[t], markerstrokewidth=0)"
   ]
  },
  {
   "cell_type": "code",
   "execution_count": null,
   "metadata": {},
   "outputs": [],
   "source": [
    "zs_ = CuArray(stack([_zs[t]]))\n",
    "as_ = CuArray(_as);\n",
    "\n",
    "w           = 20\n",
    "sig         = 0.1\n",
    "outlier     = 0.1\n",
    "outlier_vol = 100.\n",
    "\n",
    "ys_tilde_1d_, ws_tilde_1d_ = get_1d_mixture_components(zs_, as_, w, sig,\n",
    "                                 wrap=false, fill=true, fill_val_z=Inf, fill_val_a = Inf);\n",
    "log_p, ptw = sensor_logpdf_1d(zs_, ys_tilde_1d_, ws_tilde_1d_, sig, outlier, outlier_vol; return_pointwise=true);\n",
    "\n",
    "println(size(ys_tilde_1d_), size(ws_tilde_1d_))\n",
    "\n",
    "zs  = repeat(range(0.,10.,50), 1, 361)\n",
    "zs_ = CuArray(zs)\n",
    "log_p, ptw = sensor_logpdf_1d(zs_, ys_tilde_1d_, ws_tilde_1d_, sig, outlier, outlier_vol; return_pointwise=true);\n",
    "\n",
    "\n",
    "# ----------------\n",
    "mypl = plot(size=(450,450), aspect_ratio=:equal)\n",
    "scatter!(_ys_inf[t], markerstrokewidth=0)\n",
    "x = Vector{Float64}[]\n",
    "v = Float64[]\n",
    "for i=1:2:361\n",
    "    x = vcat(x, [polar_inv(z,_as[i]) for z in zs[:,i]])\n",
    "    v = vcat(v, ptw[:,i])\n",
    "end\n",
    "println(minimum(v))\n",
    "perm = sortperm(v)\n",
    "scatter!(x[perm], zcolor=v[perm], color=:viridis, markerstrokewidth=0, markersize=2)\n",
    "mypl"
   ]
  },
  {
   "cell_type": "code",
   "execution_count": null,
   "metadata": {},
   "outputs": [],
   "source": [
    "mu = logsumexp(ys_tilde_1d_ + ws_tilde_1d_, dims=3)[1,:,1]\n",
    "mu = Array(mu)\n",
    "# --------------------\n",
    "mypl = plot(size=(600,250), aspect_ratio=:equal, legend=nothing, title=\"Mean measurement\")\n",
    "scatter!(_ys_inf[t], c=col[1], markerstrokewidth=0, markersize=5)\n",
    "scatter!(polar_inv(mu, _as), c=:magenta, markerstrokewidth=1, markersize=3)"
   ]
  },
  {
   "attachments": {},
   "cell_type": "markdown",
   "metadata": {},
   "source": [
    "### Distribution"
   ]
  },
  {
   "cell_type": "code",
   "execution_count": null,
   "metadata": {},
   "outputs": [],
   "source": [
    "#nbx\n",
    "struct SensorDistribution1d_CUDA <: Distribution{Vector{Float64}}\n",
    "end\n",
    "\n",
    "\"\"\"\n",
    "    z::Vector{Float64} = sensordist1d_cu(ỹ, w̃, sig, outlier, outlier_vol=1.0)\n",
    "\n",
    "Restricted distribution from the 2dp3-likelihood. \n",
    "Takes 1d-mixture components `ỹ` and their weights `w̃`,  and \n",
    "samples a vector `z` of depth values.\n",
    "\n",
    "Arguments:\n",
    " - `ỹ`: 1d-mixture components `(n,m)`\n",
    " - `w̃`: 1d-mixture weights `(n,m)`\n",
    " - ...\n",
    "Returns:\n",
    " - `z`: Observation vector of depth values `(n,)`\n",
    "\"\"\"\n",
    "const sensordist1d_cu = SensorDistribution1d_CUDA()\n",
    "\n",
    "# Todo:\n",
    "function Gen.logpdf(::SensorDistribution1d_CUDA, z, ỹ_, w̃_, sig, outlier, outlier_vol=1.0)\n",
    "    n = size(ỹ, 1)\n",
    "    m = size(ỹ, 2)\n",
    "    \n",
    "    z_ = CuArray(z)\n",
    "    ỹ_ = reshape(ỹ_, 1, n, m) \n",
    "    w̃_ = reshape(w̃_, 1, n, m) \n",
    "    \n",
    "    log_p, = sensor_logpdf_1d(z_, ỹ_, w̃_, sig, outlier, outlier_vol) # CuArray of length 1\n",
    "    return CUDA.@allowscalar log_p[1]\n",
    "end\n",
    "\n",
    "function Gen.random(::SensorDistribution1d_CUDA, ỹ_, w̃_, sig, outlier, outlier_vol=1.0)\n",
    "    n = size(ỹ_,1)\n",
    "    m = size(ỹ_,2)\n",
    "    \n",
    "    # Sample an observation point cloud `x`\n",
    "    z = Float64[]\n",
    "    for i=1:n\n",
    "        if bernoulli(outlier)\n",
    "            # Todo: Change that to a uniform distribution using `zmax`.\n",
    "            z_i = Inf\n",
    "        else\n",
    "            j   = categorical(exp.(w̃_[i,:]) )\n",
    "            z_i = normal(ỹ_[i,j], sig)\n",
    "        end\n",
    "        push!(z, z_i)\n",
    "    end\n",
    "    \n",
    "    return z\n",
    "end\n",
    "\n",
    "(D::SensorDistribution1d_CUDA)(args...)             = Gen.random(D, args...)\n",
    "Gen.has_output_grad(::SensorDistribution1d_CUDA)    = false\n",
    "Gen.has_argument_grads(::SensorDistribution1d_CUDA) = (false, false);"
   ]
  },
  {
   "cell_type": "code",
   "execution_count": null,
   "metadata": {},
   "outputs": [],
   "source": [
    "t = 1_050\n",
    "\n",
    "zs_ = CuArray(stack([_zs[t]]))\n",
    "as_ = CuArray(_as);\n",
    "\n",
    "w           = 20\n",
    "sig         = 0.2\n",
    "outlier     = 0.1\n",
    "outlier_vol = 100.\n",
    "\n",
    "ỹ_, w̃_, = get_1d_mixture_components(zs_, as_, w, sig,\n",
    "                                    wrap=false, fill=true, fill_val_z=Inf, fill_val_a = Inf);\n",
    "ỹ, w̃ = Array(ỹ_), Array(w̃_)\n",
    "\n",
    "z = sensordist1d_cu(ỹ[1,:,:], w̃[1,:,:], sig, outlier, outlier_vol)\n",
    "\n",
    "# ----------------\n",
    "mypl = plot(size=(600,200))\n",
    "plot!(_zs[t], c=col[1], linewidth=12, alpha=0.25, label=\"Reference (Map)\")\n",
    "plot!(z, c=:magenta, marker=:o, markersize=2, label=\"Sample\")\n",
    "display(mypl)"
   ]
  },
  {
   "cell_type": "code",
   "execution_count": null,
   "metadata": {},
   "outputs": [],
   "source": [
    "# ----------------\n",
    "mypl = plot(size=(750,550), aspect_ratio=:equal, ylim=(-5,5))\n",
    "scatter!(_ys_inf[t], markerstrokewidth=0, c=col[1], markersize=5, label=\"Reference (Map)\")\n",
    "\n",
    "args = (\n",
    "    markersize=2, \n",
    "    alpha=1., \n",
    "    markerstrokewidth=1,\n",
    "    c=:magenta\n",
    ")\n",
    "step = 5\n",
    "scatter!(polar_inv(z[1:step:end], _as[1:step:end]); args..., label=\"Samples\")\n",
    "for i=1:30\n",
    "    z = sensordist1d_cu(ỹ[1,:,:], w̃[1,:,:], sig, outlier, outlier_vol)\n",
    "    scatter!(polar_inv(z[1:step:end], _as[1:step:end]); args..., label=nothing)\n",
    "end\n",
    "display(mypl)"
   ]
  },
  {
   "cell_type": "code",
   "execution_count": null,
   "metadata": {},
   "outputs": [],
   "source": []
  }
 ],
 "metadata": {
  "kernelspec": {
   "display_name": "Julia 1.8.3",
   "language": "julia",
   "name": "julia-1.8"
  },
  "language_info": {
   "file_extension": ".jl",
   "mimetype": "application/julia",
   "name": "julia",
   "version": "1.8.3"
  },
  "toc": {
   "base_numbering": 1,
   "nav_menu": {},
   "number_sections": true,
   "sideBar": true,
   "skip_h1_title": false,
   "title_cell": "Table of Contents",
   "title_sidebar": "Contents",
   "toc_cell": false,
   "toc_position": {},
   "toc_section_display": true,
   "toc_window_display": false
  }
 },
 "nbformat": 4,
 "nbformat_minor": 2
}
