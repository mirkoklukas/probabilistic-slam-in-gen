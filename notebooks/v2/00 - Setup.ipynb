{
 "cells": [
  {
   "attachments": {},
   "cell_type": "markdown",
   "metadata": {},
   "source": [
    "# Setup\n",
    "\n",
    "## Notation\n",
    "\n",
    "I usually try and keep variable naming concise and closer to naming conventions in math papers rather than software engineering. I find it is easier to parse research code in that manner. Context to interpret tht variable names should be set in additional notes or documentation.\n",
    "\n",
    "Following a python inspired convention I variables with a leading underscore are not supposed to change, but carry a quite informative name that I'd like to use in the code that follows, i.e. I can write things like the following:\n",
    "\n",
    "```julia\n",
    "ps = [ p+u for (p,u) in zip(_ps, _us) ]\n",
    "```\n",
    "\n",
    "Along those lines I **try** and denote CUDA arrays by a trailing under score, i.e. given an array `x` we denote by `x_` it's CUDA version:\n",
    "\n",
    "```julia\n",
    "x  = rand(100,100)\n",
    "x_ = CuArray(x)\n",
    "```\n",
    "\n",
    "\n"
   ]
  },
  {
   "attachments": {},
   "cell_type": "markdown",
   "metadata": {},
   "source": [
    "## Useful Stuff and Fixes"
   ]
  },
  {
   "cell_type": "code",
   "execution_count": 1,
   "metadata": {},
   "outputs": [],
   "source": [
    "# This is a fix for vscode, because it doesn't like \n",
    "# julia docstrings for whatever reason, and throws a `Katex` error.\n",
    "using Markdown\n",
    "Base.show(io::IO, ::MIME\"text/latex\", md::Markdown.MD) = plain(io, md)"
   ]
  },
  {
   "cell_type": "code",
   "execution_count": 2,
   "metadata": {},
   "outputs": [
    {
     "data": {
      "text/markdown": [
       "# Some title\n",
       "\n",
       "Hello world.\n"
      ],
      "text/plain": [
       "\u001b[1m  Some title\u001b[22m\n",
       "\u001b[1m  ≡≡≡≡≡≡≡≡≡≡≡≡\u001b[22m\n",
       "\n",
       "  Hello world."
      ]
     },
     "metadata": {},
     "output_type": "display_data"
    }
   ],
   "source": [
    "d = Markdown.parse(\"\"\"\n",
    "# Some title\n",
    "Hello world.\n",
    "\"\"\")\n",
    "\n",
    "display(d)"
   ]
  },
  {
   "attachments": {},
   "cell_type": "markdown",
   "metadata": {},
   "source": []
  }
 ],
 "metadata": {
  "kernelspec": {
   "display_name": "Julia 1.8.3",
   "language": "julia",
   "name": "julia-1.8"
  },
  "language_info": {
   "file_extension": ".jl",
   "mimetype": "application/julia",
   "name": "julia",
   "version": "1.8.3"
  },
  "orig_nbformat": 4
 },
 "nbformat": 4,
 "nbformat_minor": 2
}
