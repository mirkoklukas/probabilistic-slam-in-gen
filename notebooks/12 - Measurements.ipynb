{
 "cells": [
  {
   "cell_type": "code",
   "execution_count": 1,
   "id": "560ba0ef",
   "metadata": {},
   "outputs": [
    {
     "data": {
      "text/html": [
       "<style>.rendered_html.text_cell_render {max-width:700px; }</style>"
      ],
      "text/plain": [
       "HTML{String}(\"<style>.rendered_html.text_cell_render {max-width:700px; }</style>\")"
      ]
     },
     "metadata": {},
     "output_type": "display_data"
    }
   ],
   "source": [
    "display(HTML(\"<style>.rendered_html.text_cell_render {max-width:700px; }</style>\"));\n",
    "push!(LOAD_PATH, \"src\");"
   ]
  },
  {
   "cell_type": "code",
   "execution_count": 2,
   "id": "9f20bc9f",
   "metadata": {},
   "outputs": [],
   "source": [
    "include(\"src/pose2d.jl\")"
   ]
  },
  {
   "cell_type": "code",
   "execution_count": 3,
   "id": "4b0babdc",
   "metadata": {},
   "outputs": [],
   "source": [
    "#nbx --fname=src/measurements.jl\n",
    "using Colors, Plots\n",
    "col = palette(:default);\n",
    "using MyUtils\n",
    "using LinearAlgebra: norm"
   ]
  },
  {
   "cell_type": "code",
   "execution_count": 4,
   "id": "3262794f",
   "metadata": {},
   "outputs": [],
   "source": [
    "#nbx\n",
    "\"\"\"\n",
    "    Measurement(z,a)\n",
    "\n",
    "Depth measurement in a specified direction.\n",
    "\"\"\"\n",
    "mutable struct Measurement\n",
    "    z::Float64\n",
    "    a::Float64\n",
    "end\n",
    "Measurement(x::Vector{Float64}) = Measurement(norm(x), atan(x[2],x[1]));\n",
    "tuple(s::Measurement) = (z,a);\n",
    "depth(s::Measurement) = s.z;\n",
    "MyUtils.angle(s::Measurement) = s.a;\n",
    "MyUtils.euclidean(s::Measurement) = [s.z*cos(s.a); s.z*sin(s.a)];\n",
    "MyUtils.polar(s::Measurement) = [s.z;s.a]\n",
    "vector(s::Measurement) = [s.z*cos(s.a); s.z*sin(s.a)];\n",
    "vec(s::Measurement)    = [s.z*cos(s.a); s.z*sin(s.a)];\n",
    "Base.:(*)(s::Measurement, p::Pose) = vector(s) * p;\n",
    "\n",
    "export Measurement, depth, dir, vector, vec, depth, angle"
   ]
  },
  {
   "cell_type": "code",
   "execution_count": 9,
   "id": "591a968a",
   "metadata": {},
   "outputs": [],
   "source": [
    "#nbx\n",
    "function Plots.scatter!(p::Pose, ss::Vector{Measurement}; args...)\n",
    "    xs = vector.(ss) .* p \n",
    "    xs = stack(xs)\n",
    "    scatter!(xs[:,1], xs[:,2]; label=nothing, args...)\n",
    "end\n",
    "\n",
    "Plots.scatter!(ss::Vector{Measurement}, p::Pose; args...) = scatter!(p,ss; args...)\n",
    "Plots.scatter!(ss::Vector{Measurement}; args...) = scatter!(Pose(), ss;args)"
   ]
  },
  {
   "cell_type": "code",
   "execution_count": 10,
   "id": "dca0a74c",
   "metadata": {},
   "outputs": [
    {
     "data": {
      "image/svg+xml": [
       "<?xml version=\"1.0\" encoding=\"utf-8\"?>\n",
       "<svg xmlns=\"http://www.w3.org/2000/svg\" xmlns:xlink=\"http://www.w3.org/1999/xlink\" width=\"200\" height=\"200\" viewBox=\"0 0 800 800\">\n",
       "<defs>\n",
       "  <clipPath id=\"clip070\">\n",
       "    <rect x=\"0\" y=\"0\" width=\"800\" height=\"800\"/>\n",
       "  </clipPath>\n",
       "</defs>\n",
       "<path clip-path=\"url(#clip070)\" d=\"M0 800 L800 800 L800 0 L0 0  Z\" fill=\"#ffffff\" fill-rule=\"evenodd\" fill-opacity=\"1\"/>\n",
       "<defs>\n",
       "  <clipPath id=\"clip071\">\n",
       "    <rect x=\"160\" y=\"80\" width=\"561\" height=\"561\"/>\n",
       "  </clipPath>\n",
       "</defs>\n",
       "<path clip-path=\"url(#clip070)\" d=\"M122.959 677.168 L752.756 677.168 L752.756 47.2441 L122.959 47.2441  Z\" fill=\"#ffffff\" fill-rule=\"evenodd\" fill-opacity=\"1\"/>\n",
       "<defs>\n",
       "  <clipPath id=\"clip072\">\n",
       "    <rect x=\"122\" y=\"47\" width=\"631\" height=\"631\"/>\n",
       "  </clipPath>\n",
       "</defs>\n",
       "<polyline clip-path=\"url(#clip072)\" style=\"stroke:#000000; stroke-linecap:round; stroke-linejoin:round; stroke-width:2; stroke-opacity:0.1; fill:none\" points=\"127.651,677.168 127.651,47.2441 \"/>\n",
       "<polyline clip-path=\"url(#clip072)\" style=\"stroke:#000000; stroke-linecap:round; stroke-linejoin:round; stroke-width:2; stroke-opacity:0.1; fill:none\" points=\"283.133,677.168 283.133,47.2441 \"/>\n",
       "<polyline clip-path=\"url(#clip072)\" style=\"stroke:#000000; stroke-linecap:round; stroke-linejoin:round; stroke-width:2; stroke-opacity:0.1; fill:none\" points=\"438.615,677.168 438.615,47.2441 \"/>\n",
       "<polyline clip-path=\"url(#clip072)\" style=\"stroke:#000000; stroke-linecap:round; stroke-linejoin:round; stroke-width:2; stroke-opacity:0.1; fill:none\" points=\"594.097,677.168 594.097,47.2441 \"/>\n",
       "<polyline clip-path=\"url(#clip072)\" style=\"stroke:#000000; stroke-linecap:round; stroke-linejoin:round; stroke-width:2; stroke-opacity:0.1; fill:none\" points=\"749.578,677.168 749.578,47.2441 \"/>\n",
       "<polyline clip-path=\"url(#clip070)\" style=\"stroke:#000000; stroke-linecap:round; stroke-linejoin:round; stroke-width:4; stroke-opacity:1; fill:none\" points=\"122.959,677.168 752.756,677.168 \"/>\n",
       "<polyline clip-path=\"url(#clip070)\" style=\"stroke:#000000; stroke-linecap:round; stroke-linejoin:round; stroke-width:4; stroke-opacity:1; fill:none\" points=\"127.651,677.168 127.651,658.27 \"/>\n",
       "<polyline clip-path=\"url(#clip070)\" style=\"stroke:#000000; stroke-linecap:round; stroke-linejoin:round; stroke-width:4; stroke-opacity:1; fill:none\" points=\"283.133,677.168 283.133,658.27 \"/>\n",
       "<polyline clip-path=\"url(#clip070)\" style=\"stroke:#000000; stroke-linecap:round; stroke-linejoin:round; stroke-width:4; stroke-opacity:1; fill:none\" points=\"438.615,677.168 438.615,658.27 \"/>\n",
       "<polyline clip-path=\"url(#clip070)\" style=\"stroke:#000000; stroke-linecap:round; stroke-linejoin:round; stroke-width:4; stroke-opacity:1; fill:none\" points=\"594.097,677.168 594.097,658.27 \"/>\n",
       "<polyline clip-path=\"url(#clip070)\" style=\"stroke:#000000; stroke-linecap:round; stroke-linejoin:round; stroke-width:4; stroke-opacity:1; fill:none\" points=\"749.578,677.168 749.578,658.27 \"/>\n",
       "<path clip-path=\"url(#clip070)\" d=\"M127.651 710.356 Q124.318 710.356 122.396 712.138 Q120.498 713.921 120.498 717.046 Q120.498 720.171 122.396 721.953 Q124.318 723.735 127.651 723.735 Q130.984 723.735 132.906 721.953 Q134.827 720.148 134.827 717.046 Q134.827 713.921 132.906 712.138 Q131.007 710.356 127.651 710.356 M122.975 708.365 Q119.966 707.624 118.276 705.564 Q116.609 703.504 116.609 700.541 Q116.609 696.398 119.549 693.99 Q122.512 691.583 127.651 691.583 Q132.813 691.583 135.753 693.99 Q138.693 696.398 138.693 700.541 Q138.693 703.504 137.003 705.564 Q135.336 707.624 132.35 708.365 Q135.73 709.152 137.605 711.444 Q139.503 713.736 139.503 717.046 Q139.503 722.069 136.424 724.754 Q133.368 727.439 127.651 727.439 Q121.933 727.439 118.855 724.754 Q115.799 722.069 115.799 717.046 Q115.799 713.736 117.697 711.444 Q119.595 709.152 122.975 708.365 M121.262 700.981 Q121.262 703.666 122.929 705.171 Q124.619 706.675 127.651 706.675 Q130.66 706.675 132.35 705.171 Q134.063 703.666 134.063 700.981 Q134.063 698.296 132.35 696.791 Q130.66 695.287 127.651 695.287 Q124.619 695.287 122.929 696.791 Q121.262 698.296 121.262 700.981 Z\" fill=\"#000000\" fill-rule=\"evenodd\" fill-opacity=\"1\" /><path clip-path=\"url(#clip070)\" d=\"M273.434 726.05 L273.434 721.791 Q275.193 722.624 276.999 723.064 Q278.804 723.504 280.54 723.504 Q285.17 723.504 287.6 720.402 Q290.054 717.277 290.401 710.935 Q289.059 712.925 286.999 713.99 Q284.938 715.055 282.438 715.055 Q277.253 715.055 274.221 711.93 Q271.212 708.782 271.212 703.342 Q271.212 698.018 274.36 694.8 Q277.508 691.583 282.739 691.583 Q288.735 691.583 291.883 696.189 Q295.054 700.773 295.054 709.523 Q295.054 717.694 291.165 722.578 Q287.299 727.439 280.749 727.439 Q278.989 727.439 277.184 727.092 Q275.378 726.745 273.434 726.05 M282.739 711.398 Q285.887 711.398 287.716 709.245 Q289.568 707.092 289.568 703.342 Q289.568 699.615 287.716 697.462 Q285.887 695.287 282.739 695.287 Q279.591 695.287 277.739 697.462 Q275.911 699.615 275.911 703.342 Q275.911 707.092 277.739 709.245 Q279.591 711.398 282.739 711.398 Z\" fill=\"#000000\" fill-rule=\"evenodd\" fill-opacity=\"1\" /><path clip-path=\"url(#clip070)\" d=\"M413.302 722.833 L420.941 722.833 L420.941 696.467 L412.631 698.134 L412.631 693.875 L420.895 692.208 L425.571 692.208 L425.571 722.833 L433.21 722.833 L433.21 726.768 L413.302 726.768 L413.302 722.833 Z\" fill=\"#000000\" fill-rule=\"evenodd\" fill-opacity=\"1\" /><path clip-path=\"url(#clip070)\" d=\"M452.654 695.287 Q449.043 695.287 447.214 698.851 Q445.409 702.393 445.409 709.523 Q445.409 716.629 447.214 720.194 Q449.043 723.735 452.654 723.735 Q456.288 723.735 458.094 720.194 Q459.922 716.629 459.922 709.523 Q459.922 702.393 458.094 698.851 Q456.288 695.287 452.654 695.287 M452.654 691.583 Q458.464 691.583 461.52 696.189 Q464.598 700.773 464.598 709.523 Q464.598 718.249 461.52 722.856 Q458.464 727.439 452.654 727.439 Q446.844 727.439 443.765 722.856 Q440.71 718.249 440.71 709.523 Q440.71 700.773 443.765 696.189 Q446.844 691.583 452.654 691.583 Z\" fill=\"#000000\" fill-rule=\"evenodd\" fill-opacity=\"1\" /><path clip-path=\"url(#clip070)\" d=\"M569.398 722.833 L577.036 722.833 L577.036 696.467 L568.726 698.134 L568.726 693.875 L576.99 692.208 L581.666 692.208 L581.666 722.833 L589.305 722.833 L589.305 726.768 L569.398 726.768 L569.398 722.833 Z\" fill=\"#000000\" fill-rule=\"evenodd\" fill-opacity=\"1\" /><path clip-path=\"url(#clip070)\" d=\"M599.559 722.833 L607.198 722.833 L607.198 696.467 L598.888 698.134 L598.888 693.875 L607.152 692.208 L611.828 692.208 L611.828 722.833 L619.467 722.833 L619.467 726.768 L599.559 726.768 L599.559 722.833 Z\" fill=\"#000000\" fill-rule=\"evenodd\" fill-opacity=\"1\" /><path clip-path=\"url(#clip070)\" d=\"M725.065 722.833 L732.704 722.833 L732.704 696.467 L724.393 698.134 L724.393 693.875 L732.657 692.208 L737.333 692.208 L737.333 722.833 L744.972 722.833 L744.972 726.768 L725.065 726.768 L725.065 722.833 Z\" fill=\"#000000\" fill-rule=\"evenodd\" fill-opacity=\"1\" /><path clip-path=\"url(#clip070)\" d=\"M758.444 722.833 L774.763 722.833 L774.763 726.768 L752.819 726.768 L752.819 722.833 Q755.481 720.078 760.064 715.448 Q764.671 710.796 765.852 709.453 Q768.097 706.93 768.976 705.194 Q769.879 703.435 769.879 701.745 Q769.879 698.99 767.935 697.254 Q766.014 695.518 762.912 695.518 Q760.713 695.518 758.259 696.282 Q755.828 697.046 753.051 698.597 L753.051 693.875 Q755.875 692.74 758.328 692.162 Q760.782 691.583 762.819 691.583 Q768.189 691.583 771.384 694.268 Q774.578 696.953 774.578 701.444 Q774.578 703.574 773.768 705.495 Q772.981 707.393 770.875 709.986 Q770.296 710.657 767.194 713.874 Q764.092 717.069 758.444 722.833 Z\" fill=\"#000000\" fill-rule=\"evenodd\" fill-opacity=\"1\" /><polyline clip-path=\"url(#clip072)\" style=\"stroke:#000000; stroke-linecap:round; stroke-linejoin:round; stroke-width:2; stroke-opacity:0.1; fill:none\" points=\"122.959,532.301 752.756,532.301 \"/>\n",
       "<polyline clip-path=\"url(#clip072)\" style=\"stroke:#000000; stroke-linecap:round; stroke-linejoin:round; stroke-width:2; stroke-opacity:0.1; fill:none\" points=\"122.959,376.819 752.756,376.819 \"/>\n",
       "<polyline clip-path=\"url(#clip072)\" style=\"stroke:#000000; stroke-linecap:round; stroke-linejoin:round; stroke-width:2; stroke-opacity:0.1; fill:none\" points=\"122.959,221.337 752.756,221.337 \"/>\n",
       "<polyline clip-path=\"url(#clip072)\" style=\"stroke:#000000; stroke-linecap:round; stroke-linejoin:round; stroke-width:2; stroke-opacity:0.1; fill:none\" points=\"122.959,65.8555 752.756,65.8555 \"/>\n",
       "<polyline clip-path=\"url(#clip070)\" style=\"stroke:#000000; stroke-linecap:round; stroke-linejoin:round; stroke-width:4; stroke-opacity:1; fill:none\" points=\"122.959,677.168 122.959,47.2441 \"/>\n",
       "<polyline clip-path=\"url(#clip070)\" style=\"stroke:#000000; stroke-linecap:round; stroke-linejoin:round; stroke-width:4; stroke-opacity:1; fill:none\" points=\"122.959,532.301 141.857,532.301 \"/>\n",
       "<polyline clip-path=\"url(#clip070)\" style=\"stroke:#000000; stroke-linecap:round; stroke-linejoin:round; stroke-width:4; stroke-opacity:1; fill:none\" points=\"122.959,376.819 141.857,376.819 \"/>\n",
       "<polyline clip-path=\"url(#clip070)\" style=\"stroke:#000000; stroke-linecap:round; stroke-linejoin:round; stroke-width:4; stroke-opacity:1; fill:none\" points=\"122.959,221.337 141.857,221.337 \"/>\n",
       "<polyline clip-path=\"url(#clip070)\" style=\"stroke:#000000; stroke-linecap:round; stroke-linejoin:round; stroke-width:4; stroke-opacity:1; fill:none\" points=\"122.959,65.8555 141.857,65.8555 \"/>\n",
       "<path clip-path=\"url(#clip070)\" d=\"M89.3392 548.864 L89.3392 544.604 Q91.0984 545.438 92.904 545.877 Q94.7095 546.317 96.4456 546.317 Q101.075 546.317 103.506 543.215 Q105.959 540.09 106.307 533.748 Q104.964 535.739 102.904 536.803 Q100.844 537.868 98.3438 537.868 Q93.1586 537.868 90.1262 534.743 Q87.117 531.595 87.117 526.155 Q87.117 520.831 90.2651 517.614 Q93.4132 514.396 98.6447 514.396 Q104.64 514.396 107.788 519.003 Q110.959 523.586 110.959 532.336 Q110.959 540.507 107.071 545.391 Q103.205 550.252 96.654 550.252 Q94.8947 550.252 93.0892 549.905 Q91.2836 549.558 89.3392 548.864 M98.6447 534.211 Q101.793 534.211 103.622 532.058 Q105.473 529.905 105.473 526.155 Q105.473 522.428 103.622 520.276 Q101.793 518.1 98.6447 518.1 Q95.4966 518.1 93.6447 520.276 Q91.816 522.428 91.816 526.155 Q91.816 529.905 93.6447 532.058 Q95.4966 534.211 98.6447 534.211 Z\" fill=\"#000000\" fill-rule=\"evenodd\" fill-opacity=\"1\" /><path clip-path=\"url(#clip070)\" d=\"M59.6634 390.164 L67.3023 390.164 L67.3023 363.798 L58.9921 365.465 L58.9921 361.206 L67.256 359.539 L71.9319 359.539 L71.9319 390.164 L79.5707 390.164 L79.5707 394.099 L59.6634 394.099 L59.6634 390.164 Z\" fill=\"#000000\" fill-rule=\"evenodd\" fill-opacity=\"1\" /><path clip-path=\"url(#clip070)\" d=\"M99.0151 362.618 Q95.404 362.618 93.5753 366.183 Q91.7697 369.724 91.7697 376.854 Q91.7697 383.96 93.5753 387.525 Q95.404 391.067 99.0151 391.067 Q102.649 391.067 104.455 387.525 Q106.284 383.96 106.284 376.854 Q106.284 369.724 104.455 366.183 Q102.649 362.618 99.0151 362.618 M99.0151 358.914 Q104.825 358.914 107.881 363.521 Q110.959 368.104 110.959 376.854 Q110.959 385.581 107.881 390.187 Q104.825 394.771 99.0151 394.771 Q93.2049 394.771 90.1262 390.187 Q87.0707 385.581 87.0707 376.854 Q87.0707 368.104 90.1262 363.521 Q93.2049 358.914 99.0151 358.914 Z\" fill=\"#000000\" fill-rule=\"evenodd\" fill-opacity=\"1\" /><path clip-path=\"url(#clip070)\" d=\"M60.8903 234.682 L68.5291 234.682 L68.5291 208.317 L60.219 209.983 L60.219 205.724 L68.4828 204.057 L73.1587 204.057 L73.1587 234.682 L80.7976 234.682 L80.7976 238.617 L60.8903 238.617 L60.8903 234.682 Z\" fill=\"#000000\" fill-rule=\"evenodd\" fill-opacity=\"1\" /><path clip-path=\"url(#clip070)\" d=\"M91.0521 234.682 L98.691 234.682 L98.691 208.317 L90.3808 209.983 L90.3808 205.724 L98.6447 204.057 L103.321 204.057 L103.321 234.682 L110.959 234.682 L110.959 238.617 L91.0521 238.617 L91.0521 234.682 Z\" fill=\"#000000\" fill-rule=\"evenodd\" fill-opacity=\"1\" /><path clip-path=\"url(#clip070)\" d=\"M61.2606 79.2003 L68.8995 79.2003 L68.8995 52.8347 L60.5893 54.5014 L60.5893 50.2421 L68.8532 48.5755 L73.5291 48.5755 L73.5291 79.2003 L81.1679 79.2003 L81.1679 83.1355 L61.2606 83.1355 L61.2606 79.2003 Z\" fill=\"#000000\" fill-rule=\"evenodd\" fill-opacity=\"1\" /><path clip-path=\"url(#clip070)\" d=\"M94.6401 79.2003 L110.959 79.2003 L110.959 83.1355 L89.0151 83.1355 L89.0151 79.2003 Q91.6771 76.4457 96.2604 71.8161 Q100.867 67.1634 102.047 65.8208 Q104.293 63.2976 105.172 61.5615 Q106.075 59.8023 106.075 58.1125 Q106.075 55.3579 104.131 53.6218 Q102.209 51.8857 99.1077 51.8857 Q96.9086 51.8857 94.4549 52.6495 Q92.0244 53.4134 89.2466 54.9643 L89.2466 50.2421 Q92.0707 49.1079 94.5243 48.5292 Q96.978 47.9505 99.0151 47.9505 Q104.385 47.9505 107.58 50.6357 Q110.774 53.3208 110.774 57.8116 Q110.774 59.9412 109.964 61.8625 Q109.177 63.7606 107.071 66.3532 Q106.492 67.0245 103.39 70.242 Q100.288 73.4365 94.6401 79.2003 Z\" fill=\"#000000\" fill-rule=\"evenodd\" fill-opacity=\"1\" /><circle clip-path=\"url(#clip072)\" cx=\"618.115\" cy=\"529.314\" r=\"14.4\" fill=\"#009af9\" fill-rule=\"evenodd\" fill-opacity=\"1\" stroke=\"#000000\" stroke-opacity=\"1\" stroke-width=\"1.6\"/>\n",
       "<circle clip-path=\"url(#clip072)\" cx=\"585.208\" cy=\"208.829\" r=\"14.4\" fill=\"#009af9\" fill-rule=\"evenodd\" fill-opacity=\"1\" stroke=\"#000000\" stroke-opacity=\"1\" stroke-width=\"1.6\"/>\n",
       "<circle clip-path=\"url(#clip072)\" cx=\"623.248\" cy=\"498.781\" r=\"14.4\" fill=\"#009af9\" fill-rule=\"evenodd\" fill-opacity=\"1\" stroke=\"#000000\" stroke-opacity=\"1\" stroke-width=\"1.6\"/>\n",
       "<circle clip-path=\"url(#clip072)\" cx=\"232.435\" cy=\"600.854\" r=\"14.4\" fill=\"#009af9\" fill-rule=\"evenodd\" fill-opacity=\"1\" stroke=\"#000000\" stroke-opacity=\"1\" stroke-width=\"1.6\"/>\n",
       "<circle clip-path=\"url(#clip072)\" cx=\"472.16\" cy=\"648.667\" r=\"14.4\" fill=\"#009af9\" fill-rule=\"evenodd\" fill-opacity=\"1\" stroke=\"#000000\" stroke-opacity=\"1\" stroke-width=\"1.6\"/>\n",
       "<circle clip-path=\"url(#clip072)\" cx=\"501.718\" cy=\"186.447\" r=\"14.4\" fill=\"#009af9\" fill-rule=\"evenodd\" fill-opacity=\"1\" stroke=\"#000000\" stroke-opacity=\"1\" stroke-width=\"1.6\"/>\n",
       "<circle clip-path=\"url(#clip072)\" cx=\"614.994\" cy=\"351.004\" r=\"14.4\" fill=\"#009af9\" fill-rule=\"evenodd\" fill-opacity=\"1\" stroke=\"#000000\" stroke-opacity=\"1\" stroke-width=\"1.6\"/>\n",
       "<circle clip-path=\"url(#clip072)\" cx=\"258.322\" cy=\"196.515\" r=\"14.4\" fill=\"#009af9\" fill-rule=\"evenodd\" fill-opacity=\"1\" stroke=\"#000000\" stroke-opacity=\"1\" stroke-width=\"1.6\"/>\n",
       "<circle clip-path=\"url(#clip072)\" cx=\"211.898\" cy=\"501.984\" r=\"14.4\" fill=\"#009af9\" fill-rule=\"evenodd\" fill-opacity=\"1\" stroke=\"#000000\" stroke-opacity=\"1\" stroke-width=\"1.6\"/>\n",
       "<circle clip-path=\"url(#clip072)\" cx=\"317.827\" cy=\"588.087\" r=\"14.4\" fill=\"#009af9\" fill-rule=\"evenodd\" fill-opacity=\"1\" stroke=\"#000000\" stroke-opacity=\"1\" stroke-width=\"1.6\"/>\n",
       "<circle clip-path=\"url(#clip072)\" cx=\"363.738\" cy=\"123.207\" r=\"14.4\" fill=\"#009af9\" fill-rule=\"evenodd\" fill-opacity=\"1\" stroke=\"#000000\" stroke-opacity=\"1\" stroke-width=\"1.6\"/>\n",
       "<circle clip-path=\"url(#clip072)\" cx=\"459.165\" cy=\"648.52\" r=\"14.4\" fill=\"#009af9\" fill-rule=\"evenodd\" fill-opacity=\"1\" stroke=\"#000000\" stroke-opacity=\"1\" stroke-width=\"1.6\"/>\n",
       "<circle clip-path=\"url(#clip072)\" cx=\"313.838\" cy=\"547.355\" r=\"14.4\" fill=\"#009af9\" fill-rule=\"evenodd\" fill-opacity=\"1\" stroke=\"#000000\" stroke-opacity=\"1\" stroke-width=\"1.6\"/>\n",
       "<circle clip-path=\"url(#clip072)\" cx=\"685.505\" cy=\"507.955\" r=\"14.4\" fill=\"#009af9\" fill-rule=\"evenodd\" fill-opacity=\"1\" stroke=\"#000000\" stroke-opacity=\"1\" stroke-width=\"1.6\"/>\n",
       "<circle clip-path=\"url(#clip072)\" cx=\"271.829\" cy=\"569.517\" r=\"14.4\" fill=\"#009af9\" fill-rule=\"evenodd\" fill-opacity=\"1\" stroke=\"#000000\" stroke-opacity=\"1\" stroke-width=\"1.6\"/>\n",
       "<circle clip-path=\"url(#clip072)\" cx=\"261.812\" cy=\"481.274\" r=\"14.4\" fill=\"#009af9\" fill-rule=\"evenodd\" fill-opacity=\"1\" stroke=\"#000000\" stroke-opacity=\"1\" stroke-width=\"1.6\"/>\n",
       "<circle clip-path=\"url(#clip072)\" cx=\"249.226\" cy=\"386.597\" r=\"14.4\" fill=\"#009af9\" fill-rule=\"evenodd\" fill-opacity=\"1\" stroke=\"#000000\" stroke-opacity=\"1\" stroke-width=\"1.6\"/>\n",
       "<circle clip-path=\"url(#clip072)\" cx=\"560.404\" cy=\"256.924\" r=\"14.4\" fill=\"#009af9\" fill-rule=\"evenodd\" fill-opacity=\"1\" stroke=\"#000000\" stroke-opacity=\"1\" stroke-width=\"1.6\"/>\n",
       "<circle clip-path=\"url(#clip072)\" cx=\"162.349\" cy=\"423.162\" r=\"14.4\" fill=\"#009af9\" fill-rule=\"evenodd\" fill-opacity=\"1\" stroke=\"#000000\" stroke-opacity=\"1\" stroke-width=\"1.6\"/>\n",
       "<circle clip-path=\"url(#clip072)\" cx=\"580.696\" cy=\"182.585\" r=\"14.4\" fill=\"#009af9\" fill-rule=\"evenodd\" fill-opacity=\"1\" stroke=\"#000000\" stroke-opacity=\"1\" stroke-width=\"1.6\"/>\n",
       "<circle clip-path=\"url(#clip072)\" cx=\"532.075\" cy=\"515.766\" r=\"14.4\" fill=\"#009af9\" fill-rule=\"evenodd\" fill-opacity=\"1\" stroke=\"#000000\" stroke-opacity=\"1\" stroke-width=\"1.6\"/>\n",
       "<circle clip-path=\"url(#clip072)\" cx=\"610.111\" cy=\"409.842\" r=\"14.4\" fill=\"#009af9\" fill-rule=\"evenodd\" fill-opacity=\"1\" stroke=\"#000000\" stroke-opacity=\"1\" stroke-width=\"1.6\"/>\n",
       "<circle clip-path=\"url(#clip072)\" cx=\"528.891\" cy=\"221.749\" r=\"14.4\" fill=\"#009af9\" fill-rule=\"evenodd\" fill-opacity=\"1\" stroke=\"#000000\" stroke-opacity=\"1\" stroke-width=\"1.6\"/>\n",
       "<circle clip-path=\"url(#clip072)\" cx=\"634.853\" cy=\"306.149\" r=\"14.4\" fill=\"#009af9\" fill-rule=\"evenodd\" fill-opacity=\"1\" stroke=\"#000000\" stroke-opacity=\"1\" stroke-width=\"1.6\"/>\n",
       "<circle clip-path=\"url(#clip072)\" cx=\"368.636\" cy=\"607.886\" r=\"14.4\" fill=\"#009af9\" fill-rule=\"evenodd\" fill-opacity=\"1\" stroke=\"#000000\" stroke-opacity=\"1\" stroke-width=\"1.6\"/>\n",
       "<circle clip-path=\"url(#clip072)\" cx=\"255.216\" cy=\"368.705\" r=\"14.4\" fill=\"#009af9\" fill-rule=\"evenodd\" fill-opacity=\"1\" stroke=\"#000000\" stroke-opacity=\"1\" stroke-width=\"1.6\"/>\n",
       "<circle clip-path=\"url(#clip072)\" cx=\"558.159\" cy=\"548.956\" r=\"14.4\" fill=\"#009af9\" fill-rule=\"evenodd\" fill-opacity=\"1\" stroke=\"#000000\" stroke-opacity=\"1\" stroke-width=\"1.6\"/>\n",
       "<circle clip-path=\"url(#clip072)\" cx=\"397.157\" cy=\"169.564\" r=\"14.4\" fill=\"#009af9\" fill-rule=\"evenodd\" fill-opacity=\"1\" stroke=\"#000000\" stroke-opacity=\"1\" stroke-width=\"1.6\"/>\n",
       "<circle clip-path=\"url(#clip072)\" cx=\"571.089\" cy=\"288.353\" r=\"14.4\" fill=\"#009af9\" fill-rule=\"evenodd\" fill-opacity=\"1\" stroke=\"#000000\" stroke-opacity=\"1\" stroke-width=\"1.6\"/>\n",
       "<circle clip-path=\"url(#clip072)\" cx=\"572.785\" cy=\"599.586\" r=\"14.4\" fill=\"#009af9\" fill-rule=\"evenodd\" fill-opacity=\"1\" stroke=\"#000000\" stroke-opacity=\"1\" stroke-width=\"1.6\"/>\n",
       "<circle clip-path=\"url(#clip072)\" cx=\"651.802\" cy=\"535.767\" r=\"14.4\" fill=\"#009af9\" fill-rule=\"evenodd\" fill-opacity=\"1\" stroke=\"#000000\" stroke-opacity=\"1\" stroke-width=\"1.6\"/>\n",
       "<circle clip-path=\"url(#clip072)\" cx=\"181.197\" cy=\"333.038\" r=\"14.4\" fill=\"#009af9\" fill-rule=\"evenodd\" fill-opacity=\"1\" stroke=\"#000000\" stroke-opacity=\"1\" stroke-width=\"1.6\"/>\n",
       "<circle clip-path=\"url(#clip072)\" cx=\"213.413\" cy=\"464.308\" r=\"14.4\" fill=\"#009af9\" fill-rule=\"evenodd\" fill-opacity=\"1\" stroke=\"#000000\" stroke-opacity=\"1\" stroke-width=\"1.6\"/>\n",
       "<circle clip-path=\"url(#clip072)\" cx=\"729.26\" cy=\"417.065\" r=\"14.4\" fill=\"#009af9\" fill-rule=\"evenodd\" fill-opacity=\"1\" stroke=\"#000000\" stroke-opacity=\"1\" stroke-width=\"1.6\"/>\n",
       "<circle clip-path=\"url(#clip072)\" cx=\"494.958\" cy=\"601.724\" r=\"14.4\" fill=\"#009af9\" fill-rule=\"evenodd\" fill-opacity=\"1\" stroke=\"#000000\" stroke-opacity=\"1\" stroke-width=\"1.6\"/>\n",
       "<circle clip-path=\"url(#clip072)\" cx=\"374.348\" cy=\"104.227\" r=\"14.4\" fill=\"#009af9\" fill-rule=\"evenodd\" fill-opacity=\"1\" stroke=\"#000000\" stroke-opacity=\"1\" stroke-width=\"1.6\"/>\n",
       "<circle clip-path=\"url(#clip072)\" cx=\"326.333\" cy=\"233.478\" r=\"14.4\" fill=\"#009af9\" fill-rule=\"evenodd\" fill-opacity=\"1\" stroke=\"#000000\" stroke-opacity=\"1\" stroke-width=\"1.6\"/>\n",
       "<circle clip-path=\"url(#clip072)\" cx=\"392.905\" cy=\"192.312\" r=\"14.4\" fill=\"#009af9\" fill-rule=\"evenodd\" fill-opacity=\"1\" stroke=\"#000000\" stroke-opacity=\"1\" stroke-width=\"1.6\"/>\n",
       "<circle clip-path=\"url(#clip072)\" cx=\"524.795\" cy=\"238.922\" r=\"14.4\" fill=\"#009af9\" fill-rule=\"evenodd\" fill-opacity=\"1\" stroke=\"#000000\" stroke-opacity=\"1\" stroke-width=\"1.6\"/>\n",
       "<circle clip-path=\"url(#clip072)\" cx=\"680.415\" cy=\"493.388\" r=\"14.4\" fill=\"#009af9\" fill-rule=\"evenodd\" fill-opacity=\"1\" stroke=\"#000000\" stroke-opacity=\"1\" stroke-width=\"1.6\"/>\n",
       "<circle clip-path=\"url(#clip072)\" cx=\"734.931\" cy=\"438.484\" r=\"14.4\" fill=\"#009af9\" fill-rule=\"evenodd\" fill-opacity=\"1\" stroke=\"#000000\" stroke-opacity=\"1\" stroke-width=\"1.6\"/>\n",
       "<circle clip-path=\"url(#clip072)\" cx=\"609.66\" cy=\"580.715\" r=\"14.4\" fill=\"#009af9\" fill-rule=\"evenodd\" fill-opacity=\"1\" stroke=\"#000000\" stroke-opacity=\"1\" stroke-width=\"1.6\"/>\n",
       "<circle clip-path=\"url(#clip072)\" cx=\"534.523\" cy=\"251.256\" r=\"14.4\" fill=\"#009af9\" fill-rule=\"evenodd\" fill-opacity=\"1\" stroke=\"#000000\" stroke-opacity=\"1\" stroke-width=\"1.6\"/>\n",
       "<circle clip-path=\"url(#clip072)\" cx=\"232.615\" cy=\"264.334\" r=\"14.4\" fill=\"#009af9\" fill-rule=\"evenodd\" fill-opacity=\"1\" stroke=\"#000000\" stroke-opacity=\"1\" stroke-width=\"1.6\"/>\n",
       "<circle clip-path=\"url(#clip072)\" cx=\"632.618\" cy=\"398.277\" r=\"14.4\" fill=\"#009af9\" fill-rule=\"evenodd\" fill-opacity=\"1\" stroke=\"#000000\" stroke-opacity=\"1\" stroke-width=\"1.6\"/>\n",
       "<circle clip-path=\"url(#clip072)\" cx=\"632.555\" cy=\"372.683\" r=\"14.4\" fill=\"#009af9\" fill-rule=\"evenodd\" fill-opacity=\"1\" stroke=\"#000000\" stroke-opacity=\"1\" stroke-width=\"1.6\"/>\n",
       "<circle clip-path=\"url(#clip072)\" cx=\"585.583\" cy=\"633.379\" r=\"14.4\" fill=\"#009af9\" fill-rule=\"evenodd\" fill-opacity=\"1\" stroke=\"#000000\" stroke-opacity=\"1\" stroke-width=\"1.6\"/>\n",
       "<circle clip-path=\"url(#clip072)\" cx=\"442.211\" cy=\"88.0973\" r=\"14.4\" fill=\"#009af9\" fill-rule=\"evenodd\" fill-opacity=\"1\" stroke=\"#000000\" stroke-opacity=\"1\" stroke-width=\"1.6\"/>\n",
       "<circle clip-path=\"url(#clip072)\" cx=\"272.521\" cy=\"167.062\" r=\"14.4\" fill=\"#009af9\" fill-rule=\"evenodd\" fill-opacity=\"1\" stroke=\"#000000\" stroke-opacity=\"1\" stroke-width=\"1.6\"/>\n",
       "<circle clip-path=\"url(#clip072)\" cx=\"280.01\" cy=\"292.464\" r=\"14.4\" fill=\"#009af9\" fill-rule=\"evenodd\" fill-opacity=\"1\" stroke=\"#000000\" stroke-opacity=\"1\" stroke-width=\"1.6\"/>\n",
       "<circle clip-path=\"url(#clip072)\" cx=\"162.45\" cy=\"411.704\" r=\"14.4\" fill=\"#009af9\" fill-rule=\"evenodd\" fill-opacity=\"1\" stroke=\"#000000\" stroke-opacity=\"1\" stroke-width=\"1.6\"/>\n",
       "<circle clip-path=\"url(#clip072)\" cx=\"554.186\" cy=\"177.731\" r=\"14.4\" fill=\"#009af9\" fill-rule=\"evenodd\" fill-opacity=\"1\" stroke=\"#000000\" stroke-opacity=\"1\" stroke-width=\"1.6\"/>\n",
       "<circle clip-path=\"url(#clip072)\" cx=\"547.821\" cy=\"226.902\" r=\"14.4\" fill=\"#009af9\" fill-rule=\"evenodd\" fill-opacity=\"1\" stroke=\"#000000\" stroke-opacity=\"1\" stroke-width=\"1.6\"/>\n",
       "<circle clip-path=\"url(#clip072)\" cx=\"418.138\" cy=\"190.326\" r=\"14.4\" fill=\"#009af9\" fill-rule=\"evenodd\" fill-opacity=\"1\" stroke=\"#000000\" stroke-opacity=\"1\" stroke-width=\"1.6\"/>\n",
       "<circle clip-path=\"url(#clip072)\" cx=\"267.757\" cy=\"321.887\" r=\"14.4\" fill=\"#009af9\" fill-rule=\"evenodd\" fill-opacity=\"1\" stroke=\"#000000\" stroke-opacity=\"1\" stroke-width=\"1.6\"/>\n",
       "<circle clip-path=\"url(#clip072)\" cx=\"726.844\" cy=\"336.609\" r=\"14.4\" fill=\"#009af9\" fill-rule=\"evenodd\" fill-opacity=\"1\" stroke=\"#000000\" stroke-opacity=\"1\" stroke-width=\"1.6\"/>\n",
       "<circle clip-path=\"url(#clip072)\" cx=\"656.512\" cy=\"291.095\" r=\"14.4\" fill=\"#009af9\" fill-rule=\"evenodd\" fill-opacity=\"1\" stroke=\"#000000\" stroke-opacity=\"1\" stroke-width=\"1.6\"/>\n",
       "<circle clip-path=\"url(#clip072)\" cx=\"194.418\" cy=\"295.546\" r=\"14.4\" fill=\"#009af9\" fill-rule=\"evenodd\" fill-opacity=\"1\" stroke=\"#000000\" stroke-opacity=\"1\" stroke-width=\"1.6\"/>\n",
       "<circle clip-path=\"url(#clip072)\" cx=\"177.008\" cy=\"471.341\" r=\"14.4\" fill=\"#009af9\" fill-rule=\"evenodd\" fill-opacity=\"1\" stroke=\"#000000\" stroke-opacity=\"1\" stroke-width=\"1.6\"/>\n",
       "<circle clip-path=\"url(#clip072)\" cx=\"570.904\" cy=\"119.751\" r=\"14.4\" fill=\"#009af9\" fill-rule=\"evenodd\" fill-opacity=\"1\" stroke=\"#000000\" stroke-opacity=\"1\" stroke-width=\"1.6\"/>\n",
       "<circle clip-path=\"url(#clip072)\" cx=\"657.245\" cy=\"596.552\" r=\"14.4\" fill=\"#009af9\" fill-rule=\"evenodd\" fill-opacity=\"1\" stroke=\"#000000\" stroke-opacity=\"1\" stroke-width=\"1.6\"/>\n",
       "<circle clip-path=\"url(#clip072)\" cx=\"441.28\" cy=\"623.117\" r=\"14.4\" fill=\"#009af9\" fill-rule=\"evenodd\" fill-opacity=\"1\" stroke=\"#000000\" stroke-opacity=\"1\" stroke-width=\"1.6\"/>\n",
       "<circle clip-path=\"url(#clip072)\" cx=\"595.183\" cy=\"146.136\" r=\"14.4\" fill=\"#009af9\" fill-rule=\"evenodd\" fill-opacity=\"1\" stroke=\"#000000\" stroke-opacity=\"1\" stroke-width=\"1.6\"/>\n",
       "<circle clip-path=\"url(#clip072)\" cx=\"636.641\" cy=\"482.902\" r=\"14.4\" fill=\"#009af9\" fill-rule=\"evenodd\" fill-opacity=\"1\" stroke=\"#000000\" stroke-opacity=\"1\" stroke-width=\"1.6\"/>\n",
       "<circle clip-path=\"url(#clip072)\" cx=\"336.057\" cy=\"629.942\" r=\"14.4\" fill=\"#009af9\" fill-rule=\"evenodd\" fill-opacity=\"1\" stroke=\"#000000\" stroke-opacity=\"1\" stroke-width=\"1.6\"/>\n",
       "<circle clip-path=\"url(#clip072)\" cx=\"272.095\" cy=\"260.857\" r=\"14.4\" fill=\"#009af9\" fill-rule=\"evenodd\" fill-opacity=\"1\" stroke=\"#000000\" stroke-opacity=\"1\" stroke-width=\"1.6\"/>\n",
       "<circle clip-path=\"url(#clip072)\" cx=\"546.246\" cy=\"630.172\" r=\"14.4\" fill=\"#009af9\" fill-rule=\"evenodd\" fill-opacity=\"1\" stroke=\"#000000\" stroke-opacity=\"1\" stroke-width=\"1.6\"/>\n",
       "<circle clip-path=\"url(#clip072)\" cx=\"208.58\" cy=\"256.306\" r=\"14.4\" fill=\"#009af9\" fill-rule=\"evenodd\" fill-opacity=\"1\" stroke=\"#000000\" stroke-opacity=\"1\" stroke-width=\"1.6\"/>\n",
       "<circle clip-path=\"url(#clip072)\" cx=\"609.803\" cy=\"278.022\" r=\"14.4\" fill=\"#009af9\" fill-rule=\"evenodd\" fill-opacity=\"1\" stroke=\"#000000\" stroke-opacity=\"1\" stroke-width=\"1.6\"/>\n",
       "<circle clip-path=\"url(#clip072)\" cx=\"395.878\" cy=\"86.5788\" r=\"14.4\" fill=\"#009af9\" fill-rule=\"evenodd\" fill-opacity=\"1\" stroke=\"#000000\" stroke-opacity=\"1\" stroke-width=\"1.6\"/>\n",
       "<circle clip-path=\"url(#clip072)\" cx=\"580.019\" cy=\"490.945\" r=\"14.4\" fill=\"#009af9\" fill-rule=\"evenodd\" fill-opacity=\"1\" stroke=\"#000000\" stroke-opacity=\"1\" stroke-width=\"1.6\"/>\n",
       "<circle clip-path=\"url(#clip072)\" cx=\"231.856\" cy=\"575.132\" r=\"14.4\" fill=\"#009af9\" fill-rule=\"evenodd\" fill-opacity=\"1\" stroke=\"#000000\" stroke-opacity=\"1\" stroke-width=\"1.6\"/>\n",
       "<circle clip-path=\"url(#clip072)\" cx=\"341.207\" cy=\"180.127\" r=\"14.4\" fill=\"#009af9\" fill-rule=\"evenodd\" fill-opacity=\"1\" stroke=\"#000000\" stroke-opacity=\"1\" stroke-width=\"1.6\"/>\n",
       "<circle clip-path=\"url(#clip072)\" cx=\"249.686\" cy=\"412.496\" r=\"14.4\" fill=\"#009af9\" fill-rule=\"evenodd\" fill-opacity=\"1\" stroke=\"#000000\" stroke-opacity=\"1\" stroke-width=\"1.6\"/>\n",
       "<circle clip-path=\"url(#clip072)\" cx=\"216.074\" cy=\"363.487\" r=\"14.4\" fill=\"#009af9\" fill-rule=\"evenodd\" fill-opacity=\"1\" stroke=\"#000000\" stroke-opacity=\"1\" stroke-width=\"1.6\"/>\n",
       "<circle clip-path=\"url(#clip072)\" cx=\"573.615\" cy=\"224.75\" r=\"14.4\" fill=\"#009af9\" fill-rule=\"evenodd\" fill-opacity=\"1\" stroke=\"#000000\" stroke-opacity=\"1\" stroke-width=\"1.6\"/>\n",
       "<circle clip-path=\"url(#clip072)\" cx=\"402.946\" cy=\"584.041\" r=\"14.4\" fill=\"#009af9\" fill-rule=\"evenodd\" fill-opacity=\"1\" stroke=\"#000000\" stroke-opacity=\"1\" stroke-width=\"1.6\"/>\n",
       "<circle clip-path=\"url(#clip072)\" cx=\"527.398\" cy=\"644.056\" r=\"14.4\" fill=\"#009af9\" fill-rule=\"evenodd\" fill-opacity=\"1\" stroke=\"#000000\" stroke-opacity=\"1\" stroke-width=\"1.6\"/>\n",
       "<circle clip-path=\"url(#clip072)\" cx=\"634.322\" cy=\"147.514\" r=\"14.4\" fill=\"#009af9\" fill-rule=\"evenodd\" fill-opacity=\"1\" stroke=\"#000000\" stroke-opacity=\"1\" stroke-width=\"1.6\"/>\n",
       "<circle clip-path=\"url(#clip072)\" cx=\"286.794\" cy=\"333.067\" r=\"14.4\" fill=\"#009af9\" fill-rule=\"evenodd\" fill-opacity=\"1\" stroke=\"#000000\" stroke-opacity=\"1\" stroke-width=\"1.6\"/>\n",
       "<circle clip-path=\"url(#clip072)\" cx=\"229.963\" cy=\"451.866\" r=\"14.4\" fill=\"#009af9\" fill-rule=\"evenodd\" fill-opacity=\"1\" stroke=\"#000000\" stroke-opacity=\"1\" stroke-width=\"1.6\"/>\n",
       "<circle clip-path=\"url(#clip072)\" cx=\"530.77\" cy=\"602.774\" r=\"14.4\" fill=\"#009af9\" fill-rule=\"evenodd\" fill-opacity=\"1\" stroke=\"#000000\" stroke-opacity=\"1\" stroke-width=\"1.6\"/>\n",
       "<circle clip-path=\"url(#clip072)\" cx=\"184.909\" cy=\"539.513\" r=\"14.4\" fill=\"#009af9\" fill-rule=\"evenodd\" fill-opacity=\"1\" stroke=\"#000000\" stroke-opacity=\"1\" stroke-width=\"1.6\"/>\n",
       "<circle clip-path=\"url(#clip072)\" cx=\"140.784\" cy=\"465.332\" r=\"14.4\" fill=\"#009af9\" fill-rule=\"evenodd\" fill-opacity=\"1\" stroke=\"#000000\" stroke-opacity=\"1\" stroke-width=\"1.6\"/>\n",
       "<circle clip-path=\"url(#clip072)\" cx=\"292.827\" cy=\"533.037\" r=\"14.4\" fill=\"#009af9\" fill-rule=\"evenodd\" fill-opacity=\"1\" stroke=\"#000000\" stroke-opacity=\"1\" stroke-width=\"1.6\"/>\n",
       "<circle clip-path=\"url(#clip072)\" cx=\"253.943\" cy=\"406.721\" r=\"14.4\" fill=\"#009af9\" fill-rule=\"evenodd\" fill-opacity=\"1\" stroke=\"#000000\" stroke-opacity=\"1\" stroke-width=\"1.6\"/>\n",
       "<circle clip-path=\"url(#clip072)\" cx=\"368.818\" cy=\"576.738\" r=\"14.4\" fill=\"#009af9\" fill-rule=\"evenodd\" fill-opacity=\"1\" stroke=\"#000000\" stroke-opacity=\"1\" stroke-width=\"1.6\"/>\n",
       "<circle clip-path=\"url(#clip072)\" cx=\"500.889\" cy=\"545.603\" r=\"14.4\" fill=\"#009af9\" fill-rule=\"evenodd\" fill-opacity=\"1\" stroke=\"#000000\" stroke-opacity=\"1\" stroke-width=\"1.6\"/>\n",
       "<circle clip-path=\"url(#clip072)\" cx=\"483.761\" cy=\"75.7447\" r=\"14.4\" fill=\"#009af9\" fill-rule=\"evenodd\" fill-opacity=\"1\" stroke=\"#000000\" stroke-opacity=\"1\" stroke-width=\"1.6\"/>\n",
       "<circle clip-path=\"url(#clip072)\" cx=\"492.669\" cy=\"146.561\" r=\"14.4\" fill=\"#009af9\" fill-rule=\"evenodd\" fill-opacity=\"1\" stroke=\"#000000\" stroke-opacity=\"1\" stroke-width=\"1.6\"/>\n",
       "<circle clip-path=\"url(#clip072)\" cx=\"483.075\" cy=\"611.93\" r=\"14.4\" fill=\"#009af9\" fill-rule=\"evenodd\" fill-opacity=\"1\" stroke=\"#000000\" stroke-opacity=\"1\" stroke-width=\"1.6\"/>\n",
       "<circle clip-path=\"url(#clip072)\" cx=\"602.261\" cy=\"630.64\" r=\"14.4\" fill=\"#009af9\" fill-rule=\"evenodd\" fill-opacity=\"1\" stroke=\"#000000\" stroke-opacity=\"1\" stroke-width=\"1.6\"/>\n",
       "<circle clip-path=\"url(#clip072)\" cx=\"271.193\" cy=\"142.693\" r=\"14.4\" fill=\"#009af9\" fill-rule=\"evenodd\" fill-opacity=\"1\" stroke=\"#000000\" stroke-opacity=\"1\" stroke-width=\"1.6\"/>\n",
       "<circle clip-path=\"url(#clip072)\" cx=\"371.478\" cy=\"102.908\" r=\"14.4\" fill=\"#009af9\" fill-rule=\"evenodd\" fill-opacity=\"1\" stroke=\"#000000\" stroke-opacity=\"1\" stroke-width=\"1.6\"/>\n",
       "<circle clip-path=\"url(#clip072)\" cx=\"412.598\" cy=\"622.596\" r=\"14.4\" fill=\"#009af9\" fill-rule=\"evenodd\" fill-opacity=\"1\" stroke=\"#000000\" stroke-opacity=\"1\" stroke-width=\"1.6\"/>\n",
       "<circle clip-path=\"url(#clip072)\" cx=\"626.587\" cy=\"229.452\" r=\"14.4\" fill=\"#009af9\" fill-rule=\"evenodd\" fill-opacity=\"1\" stroke=\"#000000\" stroke-opacity=\"1\" stroke-width=\"1.6\"/>\n",
       "<circle clip-path=\"url(#clip072)\" cx=\"175.759\" cy=\"511.425\" r=\"14.4\" fill=\"#009af9\" fill-rule=\"evenodd\" fill-opacity=\"1\" stroke=\"#000000\" stroke-opacity=\"1\" stroke-width=\"1.6\"/>\n",
       "<circle clip-path=\"url(#clip072)\" cx=\"625.299\" cy=\"302.951\" r=\"14.4\" fill=\"#009af9\" fill-rule=\"evenodd\" fill-opacity=\"1\" stroke=\"#000000\" stroke-opacity=\"1\" stroke-width=\"1.6\"/>\n",
       "<circle clip-path=\"url(#clip072)\" cx=\"674.423\" cy=\"549.363\" r=\"14.4\" fill=\"#009af9\" fill-rule=\"evenodd\" fill-opacity=\"1\" stroke=\"#000000\" stroke-opacity=\"1\" stroke-width=\"1.6\"/>\n",
       "<circle clip-path=\"url(#clip072)\" cx=\"330.597\" cy=\"175.17\" r=\"14.4\" fill=\"#009af9\" fill-rule=\"evenodd\" fill-opacity=\"1\" stroke=\"#000000\" stroke-opacity=\"1\" stroke-width=\"1.6\"/>\n",
       "</svg>\n"
      ]
     },
     "execution_count": 10,
     "metadata": {},
     "output_type": "execute_result"
    }
   ],
   "source": [
    "ss = [Measurement(rand() + 1, rand()*2π) for t=1:1_00]\n",
    "p  = Pose([10,10], π)\n",
    "# -------------------------\n",
    "plot(size=(200,200), aspect_ratio=:equal)\n",
    "scatter!(p, ss)"
   ]
  },
  {
   "cell_type": "code",
   "execution_count": 11,
   "id": "c69c231b",
   "metadata": {},
   "outputs": [
    {
     "data": {
      "text/plain": [
       "Tuple{Int64}"
      ]
     },
     "execution_count": 11,
     "metadata": {},
     "output_type": "execute_result"
    }
   ],
   "source": [
    "Tuple{Int}"
   ]
  },
  {
   "cell_type": "code",
   "execution_count": null,
   "id": "78268fb9",
   "metadata": {},
   "outputs": [],
   "source": []
  }
 ],
 "metadata": {
  "@webio": {
   "lastCommId": null,
   "lastKernelId": null
  },
  "kernelspec": {
   "display_name": "Julia 1.8.5",
   "language": "julia",
   "name": "julia-1.8"
  },
  "language_info": {
   "file_extension": ".jl",
   "mimetype": "application/julia",
   "name": "julia",
   "version": "1.8.5"
  },
  "toc": {
   "base_numbering": 1,
   "nav_menu": {},
   "number_sections": true,
   "sideBar": true,
   "skip_h1_title": false,
   "title_cell": "Table of Contents",
   "title_sidebar": "Contents",
   "toc_cell": false,
   "toc_position": {
    "height": "calc(100% - 180px)",
    "left": "10px",
    "top": "150px",
    "width": "225px"
   },
   "toc_section_display": true,
   "toc_window_display": true
  }
 },
 "nbformat": 4,
 "nbformat_minor": 5
}
