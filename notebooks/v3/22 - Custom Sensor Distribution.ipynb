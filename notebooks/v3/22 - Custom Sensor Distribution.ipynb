{
 "cells": [
  {
   "cell_type": "code",
   "execution_count": 1,
   "metadata": {},
   "outputs": [
    {
     "data": {
      "text/html": [
       "<style>.rendered_html.text_cell_render {max-width:500px; }</style>"
      ],
      "text/plain": [
       "HTML{String}(\"<style>.rendered_html.text_cell_render {max-width:500px; }</style>\")"
      ]
     },
     "metadata": {},
     "output_type": "display_data"
    }
   ],
   "source": [
    "display(HTML(\"<style>.rendered_html.text_cell_render {max-width:500px; }</style>\"));"
   ]
  },
  {
   "attachments": {},
   "cell_type": "markdown",
   "metadata": {},
   "source": [
    "# (Custom) Gen Sensor Distribution - CUDA accelerated\n",
    "\n",
    "While it is possible to construct new Gen distributions by combining already defined ones, this approach, while offering flexibility and ease of implementation, may come at the cost of performance. In order to address this potential drawback, Gen provides the capability to define custom Gen distributions by implementing the methods of the Distribution API.\n",
    "\n",
    "We will write a CUDA accelerated custom Gen distribution based on a 2D version of the 3DP3-likelihood, so we can enhance the robot's ability to perceive its surroundings with even greater efficiency.\n",
    "\n",
    "We also write a version that enables us to sample depth images and not point clouds....\n",
    "\n",
    "The main functions we export are:\n",
    "- `sensordist_cu`\n",
    "- `get_2d_mixture_components`\n",
    "- ...\n"
   ]
  },
  {
   "cell_type": "code",
   "execution_count": 1,
   "metadata": {},
   "outputs": [],
   "source": [
    "using Markdown\n",
    "# This is a fix for vscode, because it doesn't like \n",
    "# julia docstrings for whatever reason, and throws a `Katex` error.\n",
    "Base.show(io::IO, ::MIME\"text/latex\", md::Markdown.MD) = plain(io, md)"
   ]
  },
  {
   "cell_type": "code",
   "execution_count": 2,
   "metadata": {},
   "outputs": [],
   "source": [
    "using Colors, Plots, Images;\n",
    "col = palette(:default);\n",
    "(cgrad::PlotUtils.ContinuousColorGradient)(xs::Vector{Vector{Float64}}) = [cgrad[x] for x in xs];\n",
    "(cgrad::PlotUtils.ContinuousColorGradient)(m::Matrix{Float64}) = reshape(cgrad[m[:]], size(m));"
   ]
  },
  {
   "cell_type": "code",
   "execution_count": 3,
   "metadata": {},
   "outputs": [],
   "source": [
    "#nbx --fname=src/sensor_distribution.jl\n",
    "push!(LOAD_PATH, \"../src\");\n",
    "push!(LOAD_PATH, ENV[\"probcomp\"]*\"/Gen-Distribution-Zoo/src\");\n",
    "using BenchmarkTools\n",
    "using CUDA\n",
    "using Gen\n",
    "using MyUtils # ../src\n",
    "using MyCudaUtils # ../src\n",
    "using GenDistributionZoo: diagnormal \n",
    "using Test"
   ]
  },
  {
   "attachments": {},
   "cell_type": "markdown",
   "metadata": {},
   "source": [
    "We start off with a couple of functions that we need broadcastable versions of: \n",
    " - `polar_inv`, a CUDA version of the invererse of polar coordinate transformation.\n",
    " - `gaussian_logpdf`, a broadcastable Gaussian logpdf.\n",
    " - `logsumexp_slice`, a version of `logsumexp` that can be applied along a dimension."
   ]
  },
  {
   "attachments": {},
   "cell_type": "markdown",
   "metadata": {},
   "source": [
    "Just a quick reminder of the defns of the Normal Distribution and its CDF.\n",
    "\n",
    "- Normal Distribution: $N(x; \\mu, \\sigma) = \\frac {1}{\\sigma {\\sqrt {2\\pi }}} e^{-{\\frac {1}{2}}\\left({\\frac {x-\\mu }{\\sigma }}\\right)^{2}}$\n",
    "\n",
    "- CDF of Normal Distribution: $\\Phi(x; \\mu, \\sigma) =  {\\frac {1}{2}}\\left[1+\\operatorname {erf} \\left({\\frac {x-\\mu }{\\sigma {\\sqrt {2}}}}\\right)\\right]$"
   ]
  },
  {
   "cell_type": "code",
   "execution_count": null,
   "metadata": {},
   "outputs": [],
   "source": [
    "#nbx\n",
    "MyUtils.polar_inv(z::CuArray, a::CuArray) = cat(z.*cos.(a), z.*sin.(a), dims=ndims(a)+1);"
   ]
  },
  {
   "cell_type": "code",
   "execution_count": 5,
   "metadata": {},
   "outputs": [],
   "source": [
    "#nbx\n",
    "\"\"\"\n",
    "```julia\n",
    "    log_p = gaussian_logpdf(x, mu, sig)\n",
    "````\n",
    "Broadcastable Gaussian logpdf -- benchmarked in `33 - CUDA Accelerated Gen Distributions`.\n",
    "\"\"\"\n",
    "function gaussian_logpdf(x, mu, sig)\n",
    "    d = (x .- mu).^2 ./ sig.^2\n",
    "    log_p = - log.(sig) .- log(sqrt(2π)) .- 1/2 * d\n",
    "    return log_p\n",
    "end;"
   ]
  },
  {
   "cell_type": "code",
   "execution_count": 8,
   "metadata": {},
   "outputs": [],
   "source": [
    "#nbx\n",
    "using SpecialFunctions: erf\n",
    "\"\"\"\n",
    "```julia\n",
    "    log_c = gaussian_logcdf(x, mu, sig)\n",
    "````\n",
    "Broadcastable Gaussian logcdf\n",
    "\"\"\"\n",
    "function gaussian_logcdf(x, mu, sig)\n",
    "    d = (x .- mu)./(sig.*sqrt(2))\n",
    "    log_c = - log(2) .+ log.(1 .+ erf.(d))\n",
    "    return log_c\n",
    "end;\n",
    "\n",
    "function gaussian_cdf(x, mu, sig)\n",
    "    d = (x .- mu)./(sig.*sqrt(2))\n",
    "    return 1/2 .* (1 .+ erf.(d))\n",
    "end;"
   ]
  },
  {
   "cell_type": "code",
   "execution_count": 10,
   "metadata": {},
   "outputs": [
    {
     "data": {
      "image/svg+xml": [
       "<?xml version=\"1.0\" encoding=\"utf-8\"?>\n",
       "<svg xmlns=\"http://www.w3.org/2000/svg\" xmlns:xlink=\"http://www.w3.org/1999/xlink\" width=\"300\" height=\"100\" viewBox=\"0 0 1200 400\">\n",
       "<defs>\n",
       "  <clipPath id=\"clip890\">\n",
       "    <rect x=\"0\" y=\"0\" width=\"1200\" height=\"400\"/>\n",
       "  </clipPath>\n",
       "</defs>\n",
       "<path clip-path=\"url(#clip890)\" d=\"M0 400 L1200 400 L1200 0 L0 0  Z\" fill=\"#ffffff\" fill-rule=\"evenodd\" fill-opacity=\"1\"/>\n",
       "<defs>\n",
       "  <clipPath id=\"clip891\">\n",
       "    <rect x=\"240\" y=\"0\" width=\"841\" height=\"400\"/>\n",
       "  </clipPath>\n",
       "</defs>\n",
       "<path clip-path=\"url(#clip890)\" d=\"M174.274 315.728 L1152.76 315.728 L1152.76 47.2441 L174.274 47.2441  Z\" fill=\"#ffffff\" fill-rule=\"evenodd\" fill-opacity=\"1\"/>\n",
       "<defs>\n",
       "  <clipPath id=\"clip892\">\n",
       "    <rect x=\"174\" y=\"47\" width=\"979\" height=\"269\"/>\n",
       "  </clipPath>\n",
       "</defs>\n",
       "<polyline clip-path=\"url(#clip892)\" style=\"stroke:#000000; stroke-linecap:round; stroke-linejoin:round; stroke-width:2; stroke-opacity:0.1; fill:none\" points=\"294.276,315.728 294.276,47.2441 \"/>\n",
       "<polyline clip-path=\"url(#clip892)\" style=\"stroke:#000000; stroke-linecap:round; stroke-linejoin:round; stroke-width:2; stroke-opacity:0.1; fill:none\" points=\"478.896,315.728 478.896,47.2441 \"/>\n",
       "<polyline clip-path=\"url(#clip892)\" style=\"stroke:#000000; stroke-linecap:round; stroke-linejoin:round; stroke-width:2; stroke-opacity:0.1; fill:none\" points=\"663.515,315.728 663.515,47.2441 \"/>\n",
       "<polyline clip-path=\"url(#clip892)\" style=\"stroke:#000000; stroke-linecap:round; stroke-linejoin:round; stroke-width:2; stroke-opacity:0.1; fill:none\" points=\"848.134,315.728 848.134,47.2441 \"/>\n",
       "<polyline clip-path=\"url(#clip892)\" style=\"stroke:#000000; stroke-linecap:round; stroke-linejoin:round; stroke-width:2; stroke-opacity:0.1; fill:none\" points=\"1032.75,315.728 1032.75,47.2441 \"/>\n",
       "<polyline clip-path=\"url(#clip890)\" style=\"stroke:#000000; stroke-linecap:round; stroke-linejoin:round; stroke-width:4; stroke-opacity:1; fill:none\" points=\"174.274,315.728 1152.76,315.728 \"/>\n",
       "<polyline clip-path=\"url(#clip890)\" style=\"stroke:#000000; stroke-linecap:round; stroke-linejoin:round; stroke-width:4; stroke-opacity:1; fill:none\" points=\"294.276,315.728 294.276,296.83 \"/>\n",
       "<polyline clip-path=\"url(#clip890)\" style=\"stroke:#000000; stroke-linecap:round; stroke-linejoin:round; stroke-width:4; stroke-opacity:1; fill:none\" points=\"478.896,315.728 478.896,296.83 \"/>\n",
       "<polyline clip-path=\"url(#clip890)\" style=\"stroke:#000000; stroke-linecap:round; stroke-linejoin:round; stroke-width:4; stroke-opacity:1; fill:none\" points=\"663.515,315.728 663.515,296.83 \"/>\n",
       "<polyline clip-path=\"url(#clip890)\" style=\"stroke:#000000; stroke-linecap:round; stroke-linejoin:round; stroke-width:4; stroke-opacity:1; fill:none\" points=\"848.134,315.728 848.134,296.83 \"/>\n",
       "<polyline clip-path=\"url(#clip890)\" style=\"stroke:#000000; stroke-linecap:round; stroke-linejoin:round; stroke-width:4; stroke-opacity:1; fill:none\" points=\"1032.75,315.728 1032.75,296.83 \"/>\n",
       "<path clip-path=\"url(#clip890)\" d=\"M263.177 351.699 L292.853 351.699 L292.853 355.634 L263.177 355.634 L263.177 351.699 Z\" fill=\"#000000\" fill-rule=\"nonzero\" fill-opacity=\"1\" /><path clip-path=\"url(#clip890)\" d=\"M315.793 338.042 L303.987 356.491 L315.793 356.491 L315.793 338.042 M314.566 333.968 L320.445 333.968 L320.445 356.491 L325.376 356.491 L325.376 360.38 L320.445 360.38 L320.445 368.528 L315.793 368.528 L315.793 360.38 L300.191 360.38 L300.191 355.866 L314.566 333.968 Z\" fill=\"#000000\" fill-rule=\"nonzero\" fill-opacity=\"1\" /><path clip-path=\"url(#clip890)\" d=\"M448.838 351.699 L478.514 351.699 L478.514 355.634 L448.838 355.634 L448.838 351.699 Z\" fill=\"#000000\" fill-rule=\"nonzero\" fill-opacity=\"1\" /><path clip-path=\"url(#clip890)\" d=\"M492.634 364.593 L508.953 364.593 L508.953 368.528 L487.009 368.528 L487.009 364.593 Q489.671 361.838 494.254 357.208 Q498.861 352.556 500.041 351.213 Q502.287 348.69 503.166 346.954 Q504.069 345.195 504.069 343.505 Q504.069 340.75 502.125 339.014 Q500.203 337.278 497.102 337.278 Q494.903 337.278 492.449 338.042 Q490.018 338.806 487.241 340.357 L487.241 335.635 Q490.065 334.5 492.518 333.922 Q494.972 333.343 497.009 333.343 Q502.379 333.343 505.574 336.028 Q508.768 338.713 508.768 343.204 Q508.768 345.334 507.958 347.255 Q507.171 349.153 505.065 351.746 Q504.486 352.417 501.384 355.634 Q498.282 358.829 492.634 364.593 Z\" fill=\"#000000\" fill-rule=\"nonzero\" fill-opacity=\"1\" /><path clip-path=\"url(#clip890)\" d=\"M663.515 337.047 Q659.904 337.047 658.075 340.611 Q656.27 344.153 656.27 351.283 Q656.27 358.389 658.075 361.954 Q659.904 365.495 663.515 365.495 Q667.149 365.495 668.955 361.954 Q670.783 358.389 670.783 351.283 Q670.783 344.153 668.955 340.611 Q667.149 337.047 663.515 337.047 M663.515 333.343 Q669.325 333.343 672.381 337.949 Q675.459 342.533 675.459 351.283 Q675.459 360.009 672.381 364.616 Q669.325 369.199 663.515 369.199 Q657.705 369.199 654.626 364.616 Q651.571 360.009 651.571 351.283 Q651.571 342.533 654.626 337.949 Q657.705 333.343 663.515 333.343 Z\" fill=\"#000000\" fill-rule=\"nonzero\" fill-opacity=\"1\" /><path clip-path=\"url(#clip890)\" d=\"M842.787 364.593 L859.106 364.593 L859.106 368.528 L837.162 368.528 L837.162 364.593 Q839.824 361.838 844.407 357.208 Q849.014 352.556 850.194 351.213 Q852.44 348.69 853.319 346.954 Q854.222 345.195 854.222 343.505 Q854.222 340.75 852.278 339.014 Q850.356 337.278 847.255 337.278 Q845.055 337.278 842.602 338.042 Q840.171 338.806 837.393 340.357 L837.393 335.635 Q840.218 334.5 842.671 333.922 Q845.125 333.343 847.162 333.343 Q852.532 333.343 855.727 336.028 Q858.921 338.713 858.921 343.204 Q858.921 345.334 858.111 347.255 Q857.324 349.153 855.217 351.746 Q854.639 352.417 851.537 355.634 Q848.435 358.829 842.787 364.593 Z\" fill=\"#000000\" fill-rule=\"nonzero\" fill-opacity=\"1\" /><path clip-path=\"url(#clip890)\" d=\"M1035.76 338.042 L1023.96 356.491 L1035.76 356.491 L1035.76 338.042 M1034.54 333.968 L1040.42 333.968 L1040.42 356.491 L1045.35 356.491 L1045.35 360.38 L1040.42 360.38 L1040.42 368.528 L1035.76 368.528 L1035.76 360.38 L1020.16 360.38 L1020.16 355.866 L1034.54 333.968 Z\" fill=\"#000000\" fill-rule=\"nonzero\" fill-opacity=\"1\" /><polyline clip-path=\"url(#clip892)\" style=\"stroke:#000000; stroke-linecap:round; stroke-linejoin:round; stroke-width:2; stroke-opacity:0.1; fill:none\" points=\"174.274,308.129 1152.76,308.129 \"/>\n",
       "<polyline clip-path=\"url(#clip892)\" style=\"stroke:#000000; stroke-linecap:round; stroke-linejoin:round; stroke-width:2; stroke-opacity:0.1; fill:none\" points=\"174.274,244.808 1152.76,244.808 \"/>\n",
       "<polyline clip-path=\"url(#clip892)\" style=\"stroke:#000000; stroke-linecap:round; stroke-linejoin:round; stroke-width:2; stroke-opacity:0.1; fill:none\" points=\"174.274,181.486 1152.76,181.486 \"/>\n",
       "<polyline clip-path=\"url(#clip892)\" style=\"stroke:#000000; stroke-linecap:round; stroke-linejoin:round; stroke-width:2; stroke-opacity:0.1; fill:none\" points=\"174.274,118.164 1152.76,118.164 \"/>\n",
       "<polyline clip-path=\"url(#clip892)\" style=\"stroke:#000000; stroke-linecap:round; stroke-linejoin:round; stroke-width:2; stroke-opacity:0.1; fill:none\" points=\"174.274,54.8426 1152.76,54.8426 \"/>\n",
       "<polyline clip-path=\"url(#clip890)\" style=\"stroke:#000000; stroke-linecap:round; stroke-linejoin:round; stroke-width:4; stroke-opacity:1; fill:none\" points=\"174.274,315.728 174.274,47.2441 \"/>\n",
       "<polyline clip-path=\"url(#clip890)\" style=\"stroke:#000000; stroke-linecap:round; stroke-linejoin:round; stroke-width:4; stroke-opacity:1; fill:none\" points=\"174.274,308.129 193.172,308.129 \"/>\n",
       "<polyline clip-path=\"url(#clip890)\" style=\"stroke:#000000; stroke-linecap:round; stroke-linejoin:round; stroke-width:4; stroke-opacity:1; fill:none\" points=\"174.274,244.808 193.172,244.808 \"/>\n",
       "<polyline clip-path=\"url(#clip890)\" style=\"stroke:#000000; stroke-linecap:round; stroke-linejoin:round; stroke-width:4; stroke-opacity:1; fill:none\" points=\"174.274,181.486 193.172,181.486 \"/>\n",
       "<polyline clip-path=\"url(#clip890)\" style=\"stroke:#000000; stroke-linecap:round; stroke-linejoin:round; stroke-width:4; stroke-opacity:1; fill:none\" points=\"174.274,118.164 193.172,118.164 \"/>\n",
       "<polyline clip-path=\"url(#clip890)\" style=\"stroke:#000000; stroke-linecap:round; stroke-linejoin:round; stroke-width:4; stroke-opacity:1; fill:none\" points=\"174.274,54.8426 193.172,54.8426 \"/>\n",
       "<path clip-path=\"url(#clip890)\" d=\"M68.9365 293.928 Q65.3254 293.928 63.4967 297.493 Q61.6912 301.034 61.6912 308.164 Q61.6912 315.271 63.4967 318.835 Q65.3254 322.377 68.9365 322.377 Q72.5707 322.377 74.3763 318.835 Q76.205 315.271 76.205 308.164 Q76.205 301.034 74.3763 297.493 Q72.5707 293.928 68.9365 293.928 M68.9365 290.224 Q74.7467 290.224 77.8022 294.831 Q80.8809 299.414 80.8809 308.164 Q80.8809 316.891 77.8022 321.497 Q74.7467 326.081 68.9365 326.081 Q63.1264 326.081 60.0477 321.497 Q56.9921 316.891 56.9921 308.164 Q56.9921 299.414 60.0477 294.831 Q63.1264 290.224 68.9365 290.224 Z\" fill=\"#000000\" fill-rule=\"nonzero\" fill-opacity=\"1\" /><path clip-path=\"url(#clip890)\" d=\"M89.0984 319.53 L93.9827 319.53 L93.9827 325.409 L89.0984 325.409 L89.0984 319.53 Z\" fill=\"#000000\" fill-rule=\"nonzero\" fill-opacity=\"1\" /><path clip-path=\"url(#clip890)\" d=\"M114.168 293.928 Q110.557 293.928 108.728 297.493 Q106.922 301.034 106.922 308.164 Q106.922 315.271 108.728 318.835 Q110.557 322.377 114.168 322.377 Q117.802 322.377 119.608 318.835 Q121.436 315.271 121.436 308.164 Q121.436 301.034 119.608 297.493 Q117.802 293.928 114.168 293.928 M114.168 290.224 Q119.978 290.224 123.033 294.831 Q126.112 299.414 126.112 308.164 Q126.112 316.891 123.033 321.497 Q119.978 326.081 114.168 326.081 Q108.358 326.081 105.279 321.497 Q102.223 316.891 102.223 308.164 Q102.223 299.414 105.279 294.831 Q108.358 290.224 114.168 290.224 Z\" fill=\"#000000\" fill-rule=\"nonzero\" fill-opacity=\"1\" /><path clip-path=\"url(#clip890)\" d=\"M144.33 293.928 Q140.719 293.928 138.89 297.493 Q137.084 301.034 137.084 308.164 Q137.084 315.271 138.89 318.835 Q140.719 322.377 144.33 322.377 Q147.964 322.377 149.769 318.835 Q151.598 315.271 151.598 308.164 Q151.598 301.034 149.769 297.493 Q147.964 293.928 144.33 293.928 M144.33 290.224 Q150.14 290.224 153.195 294.831 Q156.274 299.414 156.274 308.164 Q156.274 316.891 153.195 321.497 Q150.14 326.081 144.33 326.081 Q138.519 326.081 135.441 321.497 Q132.385 316.891 132.385 308.164 Q132.385 299.414 135.441 294.831 Q138.519 290.224 144.33 290.224 Z\" fill=\"#000000\" fill-rule=\"nonzero\" fill-opacity=\"1\" /><path clip-path=\"url(#clip890)\" d=\"M69.9319 230.606 Q66.3208 230.606 64.4921 234.171 Q62.6865 237.713 62.6865 244.842 Q62.6865 251.949 64.4921 255.514 Q66.3208 259.055 69.9319 259.055 Q73.5661 259.055 75.3717 255.514 Q77.2004 251.949 77.2004 244.842 Q77.2004 237.713 75.3717 234.171 Q73.5661 230.606 69.9319 230.606 M69.9319 226.903 Q75.742 226.903 78.7976 231.509 Q81.8763 236.092 81.8763 244.842 Q81.8763 253.569 78.7976 258.176 Q75.742 262.759 69.9319 262.759 Q64.1217 262.759 61.043 258.176 Q57.9875 253.569 57.9875 244.842 Q57.9875 236.092 61.043 231.509 Q64.1217 226.903 69.9319 226.903 Z\" fill=\"#000000\" fill-rule=\"nonzero\" fill-opacity=\"1\" /><path clip-path=\"url(#clip890)\" d=\"M90.0938 256.208 L94.978 256.208 L94.978 262.088 L90.0938 262.088 L90.0938 256.208 Z\" fill=\"#000000\" fill-rule=\"nonzero\" fill-opacity=\"1\" /><path clip-path=\"url(#clip890)\" d=\"M109.191 258.153 L125.51 258.153 L125.51 262.088 L103.566 262.088 L103.566 258.153 Q106.228 255.398 110.811 250.768 Q115.418 246.116 116.598 244.773 Q118.844 242.25 119.723 240.514 Q120.626 238.754 120.626 237.065 Q120.626 234.31 118.682 232.574 Q116.76 230.838 113.658 230.838 Q111.459 230.838 109.006 231.602 Q106.575 232.366 103.797 233.917 L103.797 229.194 Q106.621 228.06 109.075 227.481 Q111.529 226.903 113.566 226.903 Q118.936 226.903 122.131 229.588 Q125.325 232.273 125.325 236.764 Q125.325 238.893 124.515 240.815 Q123.728 242.713 121.621 245.305 Q121.043 245.977 117.941 249.194 Q114.839 252.389 109.191 258.153 Z\" fill=\"#000000\" fill-rule=\"nonzero\" fill-opacity=\"1\" /><path clip-path=\"url(#clip890)\" d=\"M135.371 227.528 L153.728 227.528 L153.728 231.463 L139.654 231.463 L139.654 239.935 Q140.672 239.588 141.691 239.426 Q142.709 239.241 143.728 239.241 Q149.515 239.241 152.894 242.412 Q156.274 245.583 156.274 251 Q156.274 256.578 152.802 259.68 Q149.33 262.759 143.01 262.759 Q140.834 262.759 138.566 262.389 Q136.32 262.018 133.913 261.277 L133.913 256.578 Q135.996 257.713 138.219 258.268 Q140.441 258.824 142.918 258.824 Q146.922 258.824 149.26 256.717 Q151.598 254.611 151.598 251 Q151.598 247.389 149.26 245.282 Q146.922 243.176 142.918 243.176 Q141.043 243.176 139.168 243.592 Q137.316 244.009 135.371 244.889 L135.371 227.528 Z\" fill=\"#000000\" fill-rule=\"nonzero\" fill-opacity=\"1\" /><path clip-path=\"url(#clip890)\" d=\"M68.9365 167.285 Q65.3254 167.285 63.4967 170.849 Q61.6912 174.391 61.6912 181.521 Q61.6912 188.627 63.4967 192.192 Q65.3254 195.734 68.9365 195.734 Q72.5707 195.734 74.3763 192.192 Q76.205 188.627 76.205 181.521 Q76.205 174.391 74.3763 170.849 Q72.5707 167.285 68.9365 167.285 M68.9365 163.581 Q74.7467 163.581 77.8022 168.187 Q80.8809 172.771 80.8809 181.521 Q80.8809 190.248 77.8022 194.854 Q74.7467 199.437 68.9365 199.437 Q63.1264 199.437 60.0477 194.854 Q56.9921 190.248 56.9921 181.521 Q56.9921 172.771 60.0477 168.187 Q63.1264 163.581 68.9365 163.581 Z\" fill=\"#000000\" fill-rule=\"nonzero\" fill-opacity=\"1\" /><path clip-path=\"url(#clip890)\" d=\"M89.0984 192.886 L93.9827 192.886 L93.9827 198.766 L89.0984 198.766 L89.0984 192.886 Z\" fill=\"#000000\" fill-rule=\"nonzero\" fill-opacity=\"1\" /><path clip-path=\"url(#clip890)\" d=\"M104.214 164.206 L122.57 164.206 L122.57 168.141 L108.496 168.141 L108.496 176.613 Q109.515 176.266 110.534 176.104 Q111.552 175.919 112.571 175.919 Q118.358 175.919 121.737 179.09 Q125.117 182.261 125.117 187.678 Q125.117 193.257 121.645 196.359 Q118.172 199.437 111.853 199.437 Q109.677 199.437 107.409 199.067 Q105.163 198.697 102.756 197.956 L102.756 193.257 Q104.839 194.391 107.061 194.947 Q109.284 195.502 111.76 195.502 Q115.765 195.502 118.103 193.396 Q120.441 191.289 120.441 187.678 Q120.441 184.067 118.103 181.961 Q115.765 179.854 111.76 179.854 Q109.885 179.854 108.01 180.271 Q106.159 180.687 104.214 181.567 L104.214 164.206 Z\" fill=\"#000000\" fill-rule=\"nonzero\" fill-opacity=\"1\" /><path clip-path=\"url(#clip890)\" d=\"M144.33 167.285 Q140.719 167.285 138.89 170.849 Q137.084 174.391 137.084 181.521 Q137.084 188.627 138.89 192.192 Q140.719 195.734 144.33 195.734 Q147.964 195.734 149.769 192.192 Q151.598 188.627 151.598 181.521 Q151.598 174.391 149.769 170.849 Q147.964 167.285 144.33 167.285 M144.33 163.581 Q150.14 163.581 153.195 168.187 Q156.274 172.771 156.274 181.521 Q156.274 190.248 153.195 194.854 Q150.14 199.437 144.33 199.437 Q138.519 199.437 135.441 194.854 Q132.385 190.248 132.385 181.521 Q132.385 172.771 135.441 168.187 Q138.519 163.581 144.33 163.581 Z\" fill=\"#000000\" fill-rule=\"nonzero\" fill-opacity=\"1\" /><path clip-path=\"url(#clip890)\" d=\"M69.9319 103.963 Q66.3208 103.963 64.4921 107.528 Q62.6865 111.069 62.6865 118.199 Q62.6865 125.305 64.4921 128.87 Q66.3208 132.412 69.9319 132.412 Q73.5661 132.412 75.3717 128.87 Q77.2004 125.305 77.2004 118.199 Q77.2004 111.069 75.3717 107.528 Q73.5661 103.963 69.9319 103.963 M69.9319 100.259 Q75.742 100.259 78.7976 104.866 Q81.8763 109.449 81.8763 118.199 Q81.8763 126.926 78.7976 131.532 Q75.742 136.116 69.9319 136.116 Q64.1217 136.116 61.043 131.532 Q57.9875 126.926 57.9875 118.199 Q57.9875 109.449 61.043 104.866 Q64.1217 100.259 69.9319 100.259 Z\" fill=\"#000000\" fill-rule=\"nonzero\" fill-opacity=\"1\" /><path clip-path=\"url(#clip890)\" d=\"M90.0938 129.565 L94.978 129.565 L94.978 135.444 L90.0938 135.444 L90.0938 129.565 Z\" fill=\"#000000\" fill-rule=\"nonzero\" fill-opacity=\"1\" /><path clip-path=\"url(#clip890)\" d=\"M103.983 100.884 L126.205 100.884 L126.205 102.875 L113.658 135.444 L108.774 135.444 L120.58 104.819 L103.983 104.819 L103.983 100.884 Z\" fill=\"#000000\" fill-rule=\"nonzero\" fill-opacity=\"1\" /><path clip-path=\"url(#clip890)\" d=\"M135.371 100.884 L153.728 100.884 L153.728 104.819 L139.654 104.819 L139.654 113.292 Q140.672 112.944 141.691 112.782 Q142.709 112.597 143.728 112.597 Q149.515 112.597 152.894 115.768 Q156.274 118.94 156.274 124.356 Q156.274 129.935 152.802 133.037 Q149.33 136.116 143.01 136.116 Q140.834 136.116 138.566 135.745 Q136.32 135.375 133.913 134.634 L133.913 129.935 Q135.996 131.069 138.219 131.625 Q140.441 132.18 142.918 132.18 Q146.922 132.18 149.26 130.074 Q151.598 127.967 151.598 124.356 Q151.598 120.745 149.26 118.639 Q146.922 116.532 142.918 116.532 Q141.043 116.532 139.168 116.949 Q137.316 117.366 135.371 118.245 L135.371 100.884 Z\" fill=\"#000000\" fill-rule=\"nonzero\" fill-opacity=\"1\" /><path clip-path=\"url(#clip890)\" d=\"M59.7467 68.1875 L67.3856 68.1875 L67.3856 41.8219 L59.0754 43.4885 L59.0754 39.2293 L67.3393 37.5626 L72.0152 37.5626 L72.0152 68.1875 L79.654 68.1875 L79.654 72.1226 L59.7467 72.1226 L59.7467 68.1875 Z\" fill=\"#000000\" fill-rule=\"nonzero\" fill-opacity=\"1\" /><path clip-path=\"url(#clip890)\" d=\"M89.0984 66.243 L93.9827 66.243 L93.9827 72.1226 L89.0984 72.1226 L89.0984 66.243 Z\" fill=\"#000000\" fill-rule=\"nonzero\" fill-opacity=\"1\" /><path clip-path=\"url(#clip890)\" d=\"M114.168 40.6413 Q110.557 40.6413 108.728 44.2061 Q106.922 47.7478 106.922 54.8773 Q106.922 61.9838 108.728 65.5486 Q110.557 69.0902 114.168 69.0902 Q117.802 69.0902 119.608 65.5486 Q121.436 61.9838 121.436 54.8773 Q121.436 47.7478 119.608 44.2061 Q117.802 40.6413 114.168 40.6413 M114.168 36.9376 Q119.978 36.9376 123.033 41.5441 Q126.112 46.1274 126.112 54.8773 Q126.112 63.6041 123.033 68.2106 Q119.978 72.7939 114.168 72.7939 Q108.358 72.7939 105.279 68.2106 Q102.223 63.6041 102.223 54.8773 Q102.223 46.1274 105.279 41.5441 Q108.358 36.9376 114.168 36.9376 Z\" fill=\"#000000\" fill-rule=\"nonzero\" fill-opacity=\"1\" /><path clip-path=\"url(#clip890)\" d=\"M144.33 40.6413 Q140.719 40.6413 138.89 44.2061 Q137.084 47.7478 137.084 54.8773 Q137.084 61.9838 138.89 65.5486 Q140.719 69.0902 144.33 69.0902 Q147.964 69.0902 149.769 65.5486 Q151.598 61.9838 151.598 54.8773 Q151.598 47.7478 149.769 44.2061 Q147.964 40.6413 144.33 40.6413 M144.33 36.9376 Q150.14 36.9376 153.195 41.5441 Q156.274 46.1274 156.274 54.8773 Q156.274 63.6041 153.195 68.2106 Q150.14 72.7939 144.33 72.7939 Q138.519 72.7939 135.441 68.2106 Q132.385 63.6041 132.385 54.8773 Q132.385 46.1274 135.441 41.5441 Q138.519 36.9376 144.33 36.9376 Z\" fill=\"#000000\" fill-rule=\"nonzero\" fill-opacity=\"1\" /><polyline clip-path=\"url(#clip892)\" style=\"stroke:#009af9; stroke-linecap:round; stroke-linejoin:round; stroke-width:4; stroke-opacity:1; fill:none\" points=\"201.967,308.129 211.198,308.129 220.429,308.129 229.66,308.129 238.891,308.129 248.122,308.128 257.353,308.128 266.584,308.127 275.815,308.126 285.046,308.124 294.276,308.121 303.507,308.117 312.738,308.111 321.969,308.102 331.2,308.089 340.431,308.07 349.662,308.044 358.893,308.007 368.124,307.955 377.355,307.884 386.586,307.787 395.817,307.657 405.048,307.482 414.279,307.251 423.51,306.949 432.741,306.557 441.972,306.053 451.203,305.413 460.434,304.608 469.665,303.605 478.896,302.367 488.127,300.856 497.358,299.029 506.589,296.842 515.82,294.249 525.051,291.208 534.281,287.675 543.512,283.611 552.743,278.984 561.974,273.767 571.205,267.944 580.436,261.509 589.667,254.469 598.898,246.843 608.129,238.665 617.36,229.981 626.591,220.852 635.822,211.351 645.053,201.561 654.284,191.574 663.515,181.486 672.746,171.398 681.977,161.411 691.208,151.621 700.439,142.12 709.67,132.991 718.901,124.307 728.132,116.129 737.363,108.503 746.594,101.463 755.825,95.0279 765.056,89.205 774.286,83.9882 783.517,79.3609 792.748,75.2972 801.979,71.764 811.21,68.7226 820.441,66.1305 829.672,63.9433 838.903,62.1161 848.134,60.6049 857.365,59.3674 866.596,58.3642 875.827,57.5589 885.058,56.9189 894.289,56.4154 903.52,56.0232 912.751,55.7208 921.982,55.4898 931.213,55.3152 940.444,55.1845 949.675,55.0877 958.906,55.0167 968.137,54.9651 977.368,54.928 986.599,54.9015 995.83,54.8829 1005.06,54.8699 1014.29,54.8609 1023.52,54.8548 1032.75,54.8506 1041.98,54.8479 1051.22,54.846 1060.45,54.8448 1069.68,54.844 1078.91,54.8435 1088.14,54.8432 1097.37,54.8429 1106.6,54.8428 1115.83,54.8427 1125.06,54.8427 \"/>\n",
       "<path clip-path=\"url(#clip890)\" d=\"M206.89 159.874 L357.169 159.874 L357.169 56.1936 L206.89 56.1936  Z\" fill=\"#ffffff\" fill-rule=\"evenodd\" fill-opacity=\"1\"/>\n",
       "<polyline clip-path=\"url(#clip890)\" style=\"stroke:#000000; stroke-linecap:round; stroke-linejoin:round; stroke-width:4; stroke-opacity:1; fill:none\" points=\"206.89,159.874 357.169,159.874 357.169,56.1936 206.89,56.1936 206.89,159.874 \"/>\n",
       "<polyline clip-path=\"url(#clip890)\" style=\"stroke:#009af9; stroke-linecap:round; stroke-linejoin:round; stroke-width:4; stroke-opacity:1; fill:none\" points=\"217.762,108.034 282.994,108.034 \"/>\n",
       "<path clip-path=\"url(#clip890)\" d=\"M307.709 127.721 Q305.903 132.351 304.19 133.763 Q302.477 135.175 299.607 135.175 L296.204 135.175 L296.204 131.61 L298.704 131.61 Q300.463 131.61 301.436 130.776 Q302.408 129.943 303.588 126.841 L304.352 124.897 L293.866 99.3878 L298.38 99.3878 L306.482 119.665 L314.584 99.3878 L319.098 99.3878 L307.709 127.721 Z\" fill=\"#000000\" fill-rule=\"nonzero\" fill-opacity=\"1\" /><path clip-path=\"url(#clip890)\" d=\"M326.389 121.378 L334.028 121.378 L334.028 95.0128 L325.718 96.6794 L325.718 92.4202 L333.982 90.7536 L338.658 90.7536 L338.658 121.378 L346.297 121.378 L346.297 125.314 L326.389 125.314 L326.389 121.378 Z\" fill=\"#000000\" fill-rule=\"nonzero\" fill-opacity=\"1\" /></svg>\n"
      ]
     },
     "execution_count": 10,
     "metadata": {},
     "output_type": "execute_result"
    }
   ],
   "source": [
    "xs = -5:0.1:5\n",
    "mu  = 0.0\n",
    "sig = 1.0\n",
    "\n",
    "# -------------------\n",
    "plot(xs, exp.(gaussian_logcdf(xs, mu, sig)), size=(300,100))\n"
   ]
  },
  {
   "attachments": {},
   "cell_type": "markdown",
   "metadata": {},
   "source": [
    "Just a quick reality check that we did not mess anything up in the definition above."
   ]
  },
  {
   "cell_type": "code",
   "execution_count": 11,
   "metadata": {},
   "outputs": [
    {
     "name": "stdout",
     "output_type": "stream",
     "text": [
      "\u001b[0m\u001b[1mTest Summary:          | \u001b[22m\u001b[32m\u001b[1mPass  \u001b[22m\u001b[39m\u001b[36m\u001b[1mTotal  \u001b[22m\u001b[39m\u001b[0m\u001b[1mTime\u001b[22m\n",
      "Gaussian reality check | \u001b[32m 400  \u001b[39m\u001b[36m  400  \u001b[39m\u001b[0m0.4s\n"
     ]
    }
   ],
   "source": [
    "@testset \"Gaussian reality check\" begin \n",
    "for i=1:100\n",
    "    x   = rand()\n",
    "    mu  = rand()\n",
    "    sig = rand()\n",
    "    \n",
    "    @test isapprox(logpdf(normal,  x, mu, sig), \n",
    "                   gaussian_logpdf(x, mu, sig))\n",
    "    @test gaussian_logpdf(x, Inf, 1.0)   == -Inf\n",
    "    @test gaussian_logpdf(Inf, 0.0, 1.0) == -Inf\n",
    "\n",
    "    @test gaussian_logpdf(Inf, 0.0, 1.0) == -Inf\n",
    "end \n",
    "end;"
   ]
  },
  {
   "cell_type": "code",
   "execution_count": 12,
   "metadata": {},
   "outputs": [],
   "source": [
    "#nbx\n",
    "\"\"\"\n",
    "```julia\n",
    "  logsumexp_slice(x; dims)\n",
    "```\n",
    "Applies `logsumexp` along specified dimensions.\n",
    "\n",
    "\n",
    "Benchmarks\n",
    "```julia \n",
    "x: (2000, 2000)\n",
    "dims: 2\n",
    "with `check_inf`\n",
    "  CPU  >>  49.887 ms (26 allocations: 30.57 MiB)\n",
    "  CUDA >> 355.932 μs (367 allocations: 19.55 KiB)\n",
    "\n",
    "without `check_inf`\n",
    "  CPU  >>  54.482 ms (20 allocations: 30.56 MiB)\n",
    "  CUDA >>  69.461 μs (142 allocations: 8.06 KiB)\n",
    "```\n",
    "\"\"\"\n",
    "function logsumexp_slice(x::Union{CuArray, Array}; dims, check_inf=true)\n",
    "    c = maximum(x, dims=dims)\n",
    "    y = c .+ log.(sum(exp.(x .- c), dims=dims))\n",
    "    \n",
    "    # Note that if c is -Inf, then y will be NaN.\n",
    "    if check_inf\n",
    "        y[c .== -Inf] .= - Inf\n",
    "    end\n",
    "    return y\n",
    "end;"
   ]
  },
  {
   "cell_type": "code",
   "execution_count": 13,
   "metadata": {},
   "outputs": [
    {
     "data": {
      "text/plain": [
       "(NaN, NaN, NaN, -Inf, -Inf, 1.0)"
      ]
     },
     "execution_count": 13,
     "metadata": {},
     "output_type": "execute_result"
    }
   ],
   "source": [
    "logsumexp([Inf]), \n",
    "logsumexp([Inf,1.]),\n",
    "logsumexp([Inf,-Inf]),\n",
    "logsumexp([-Inf]), \n",
    "logsumexp([-Inf,-Inf]),\n",
    "logsumexp([-Inf, 1.0])"
   ]
  },
  {
   "cell_type": "code",
   "execution_count": 14,
   "metadata": {},
   "outputs": [
    {
     "name": "stdout",
     "output_type": "stream",
     "text": [
      "\u001b[0m\u001b[1mTest Summary:           | \u001b[22m\u001b[32m\u001b[1mPass  \u001b[22m\u001b[39m\u001b[36m\u001b[1mTotal  \u001b[22m\u001b[39m\u001b[0m\u001b[1mTime\u001b[22m\n",
      "Logsumexp reality check | \u001b[32m   4  \u001b[39m\u001b[36m    4  \u001b[39m\u001b[0m2.5s\n"
     ]
    }
   ],
   "source": [
    "# Todo: make sure we tested all the edge cases \n",
    "#       we need (Inf's, NaN's...)\n",
    "@testset \"Logsumexp reality check\" begin \n",
    "    x = rand(10,5)\n",
    "    @test isapprox(\n",
    "        logsumexp_slice(x, dims=2),\n",
    "        log.(sum(exp.(x), dims=2))\n",
    "    )\n",
    "    @test isnan.(logsumexp_slice([Inf; 1.0], dims=1))  == [true]\n",
    "    @test logsumexp_slice([-Inf; 1.0], dims=1) == [1.0]\n",
    "    @test logsumexp_slice([-Inf;-Inf], dims=1) == [-Inf]\n",
    "end;"
   ]
  },
  {
   "cell_type": "code",
   "execution_count": 15,
   "metadata": {},
   "outputs": [
    {
     "name": "stdout",
     "output_type": "stream",
     "text": [
      "x: (2000, 2000)\n",
      "  48.743 ms (26 allocations: 30.57 MiB)\n",
      "  423.084 μs (367 allocations: 19.55 KiB)\n",
      "  49.227 ms (20 allocations: 30.56 MiB)\n",
      "  64.744 μs (142 allocations: 8.06 KiB)\n"
     ]
    }
   ],
   "source": [
    "x  = rand(2000, 2000)\n",
    "x_ = CuArray(x) \n",
    "\n",
    "function bench_logsumexp(x, dims, check_inf)\n",
    "    logsumexp_slice(x; dims=dims, check_inf=check_inf)\n",
    "end\n",
    "\n",
    "println(\"x: $(size(x))\")\n",
    "@btime bench_logsumexp($x , 2, true)  samples=3 evals=3;\n",
    "@btime bench_logsumexp($x_, 2, true)  samples=3 evals=3;\n",
    "@btime bench_logsumexp($x , 2, false) samples=3 evals=3;\n",
    "@btime bench_logsumexp($x_, 2, false) samples=3 evals=3;"
   ]
  },
  {
   "attachments": {},
   "cell_type": "markdown",
   "metadata": {},
   "source": [
    "## Sliding windows"
   ]
  },
  {
   "attachments": {},
   "cell_type": "markdown",
   "metadata": {},
   "source": [
    "### CPU"
   ]
  },
  {
   "cell_type": "code",
   "execution_count": 16,
   "metadata": {},
   "outputs": [
    {
     "name": "stdout",
     "output_type": "stream",
     "text": [
      "  18.820 μs (3 allocations: 31.56 KiB)\n"
     ]
    }
   ],
   "source": [
    "slviews(z,w,s) = ((@view z[i:i+w-1]) for i in 1:s:length(z)-w+1)\n",
    "function bench_it(n,w,s)\n",
    "    stack(collect(slviews(1:n,4,1)))\n",
    "end\n",
    "@btime bench_it(500,10,1)  samples=3 evals=3;"
   ]
  },
  {
   "cell_type": "code",
   "execution_count": 17,
   "metadata": {},
   "outputs": [
    {
     "name": "stdout",
     "output_type": "stream",
     "text": [
      "  377.154 μs (2466 allocations: 384.28 KiB)\n"
     ]
    }
   ],
   "source": [
    "using IterTools: partition\n",
    "function bench_it(n,w,s)\n",
    "    x = partition(1:n, w, s)\n",
    "    stack(collect.(x))\n",
    "end\n",
    "@btime bench_it(500,10,1)  samples=3 evals=3;"
   ]
  },
  {
   "cell_type": "code",
   "execution_count": 18,
   "metadata": {},
   "outputs": [
    {
     "name": "stdout",
     "output_type": "stream",
     "text": [
      "(500, 500, 41)\n",
      "  229.746 ms (500021 allocations: 207.90 MiB)\n"
     ]
    }
   ],
   "source": [
    "#nbx\n",
    "import Compat\n",
    "using PaddedViews\n",
    "\n",
    "function slw_cpu(x, w ,s=1; wrap=false, fill=true, fill_val=Inf)\n",
    "    if fill\n",
    "        y = PaddedView(fill_val, x, size(x) .+ (0,2w), (1,w+1))\n",
    "    else\n",
    "        y = PaddedView(fill_val, x, size(x) .+ (0,2w), (1,w+1))\n",
    "        y = Array(y)\n",
    "        y[:,1:w] .= x[:,end-w+1:end]\n",
    "        y[:,end-w+1:end] .= x[:,1:w]\n",
    "    end\n",
    "    I = ((@view y[j, i:i+2w]) for j=1:size(y,1), i in 1:s:size(y,2)-2w)\n",
    "    y = Compat.stack(I)\n",
    "    return permutedims(y, (2,3,1))\n",
    "end;\n",
    "\n",
    "k = 500\n",
    "n = 500\n",
    "w = 20\n",
    "\n",
    "x = rand(k,n)\n",
    "y = slw_cpu(x,w)\n",
    "\n",
    "println(size(y))\n",
    "@btime slw_cpu(x,w)  samples=3 evals=3;"
   ]
  },
  {
   "attachments": {},
   "cell_type": "markdown",
   "metadata": {},
   "source": [
    "### CUDA"
   ]
  },
  {
   "cell_type": "code",
   "execution_count": 19,
   "metadata": {},
   "outputs": [],
   "source": [
    "#nbx \n",
    "\"\"\"\n",
    "```julia\n",
    "    griddims = cuda_grid(datadims::Tuple{Vararg{Int}},\n",
    "                         blockdims::Tuple{Vararg{Int}})\n",
    "```\n",
    "Given data dimensions `datadims` and number of threads\n",
    "in each dimension `blockdims` returns the respective\n",
    "grid dimensions `griddims` such that for each `i` we have\n",
    "```julia\n",
    "    griddims[i] = ceil(Int, datadims[i]/blockdims[i])\n",
    "```\n",
    "\"\"\"\n",
    "function cuda_grid(datadims::Tuple{Vararg{Int}}, blockdims::Tuple{Vararg{Int}})\n",
    "    griddims = ceil.(Int, datadims./blockdims)\n",
    "    return griddims\n",
    "end\n",
    "\n",
    "# Todo: handle wrap around and padding smarter?\n",
    "\"\"\"\n",
    "```julia\n",
    "    slw_kernel!(x, y, w::Int, wrap::Bool, fill::Bool, fill_val::Float64)\n",
    "```\n",
    "CUDA kernel to compute sliding windows.\n",
    "Takes CuArrays of shape `(k,n)` and `(k,n,2w+1)`...\n",
    "\"\"\"\n",
    "function slw_kernel!(x, y, w::Int, wrap::Bool, fill::Bool, fill_val::Float64)\n",
    "    \n",
    "    m = 2*w + 1\n",
    "    n = size(x,2)\n",
    "\n",
    "    # Make sure the arrays are \n",
    "    # of the right shape\n",
    "    @assert ndims(x)  == 2\n",
    "    @assert ndims(y)  == ndims(x) + 1\n",
    "    @assert size(x,1) == size(y,1)\n",
    "    @assert size(x,2) == size(y,2)\n",
    "    @assert size(y,3) == m\n",
    "    \n",
    "    # Thread id's\n",
    "    ix = (blockIdx().x - 1) * blockDim().x + threadIdx().x\n",
    "    iy = (blockIdx().y - 1) * blockDim().y + threadIdx().y\n",
    "    iz = (blockIdx().z - 1) * blockDim().z + threadIdx().z\n",
    "    sx = gridDim().x * blockDim().x\n",
    "    sy = gridDim().y * blockDim().y\n",
    "    sz = gridDim().z * blockDim().z\n",
    "        \n",
    "    for j_pose = ix:sx:size(y,1), j_obs = iy:sy:size(y,2), j_mix = iz:sz:size(y,3)\n",
    "        # Transform mixture index in `1:m` \n",
    "        # to offsets in `-w:w`\n",
    "        offset = j_mix-1-w\n",
    "        \n",
    "        j = j_obs + offset\n",
    "        if !fill\n",
    "            j = mod(j - 1 , n) + 1\n",
    "            val = x[j_pose, j]\n",
    "        else\n",
    "            if 1 <= j <= n\n",
    "                val = x[j_pose, j]\n",
    "            else\n",
    "                if fill\n",
    "                    val = fill_val\n",
    "                else\n",
    "                    j = max(min(j,n),1)\n",
    "                    val = x[j_pose, j]\n",
    "                end\n",
    "            end\n",
    "        end\n",
    "        \n",
    "        # Fill entries of `y`\n",
    "        @inbounds y[j_pose, j_obs, j_mix] = val\n",
    "    end\n",
    "    return\n",
    "end\n",
    "\n",
    "\"\"\"\n",
    "```julia\n",
    "    y_ = slw_cu(x_::CuArray, w::Int; blockdims=(8,8,4), wrap=false, fill=true, fill_val=Inf)\n",
    "```\n",
    "CUDA-accelerated function computing sliding windows. \n",
    "Takes a CuArray of shape `(k,n)` and returns a CuArray\n",
    "of shape `(k,n,m)`, where `m = 2w+1`....\n",
    "\"\"\"\n",
    "function slw_cu(x::CuArray, w::Int; blockdims=(8,8,4), wrap=false, fill=true, fill_val=Inf)\n",
    "    \n",
    "    k = size(x, 1)\n",
    "    n = size(x, 2)\n",
    "    m = 2*w+1\n",
    "    \n",
    "    y = CUDA.ones(k,n,m)\n",
    "    \n",
    "    # `cuda_grid` defined in reaycaster file, I also put it in utils\n",
    "    griddims = cuda_grid((k,n,m), blockdims)\n",
    "    CUDA.@sync begin\n",
    "        @cuda threads=blockdims blocks=griddims slw_kernel!(x, y, w, wrap, fill, fill_val)\n",
    "    end\n",
    "    \n",
    "    return y\n",
    "end;"
   ]
  },
  {
   "cell_type": "code",
   "execution_count": 20,
   "metadata": {},
   "outputs": [
    {
     "name": "stdout",
     "output_type": "stream",
     "text": [
      "  0.000238 seconds (4 allocations: 160 bytes)\n",
      "  816.446 μs (59 allocations: 3.48 KiB)\n"
     ]
    }
   ],
   "source": [
    "k = 500\n",
    "n = 500\n",
    "w = 20\n",
    "\n",
    "x  = stack(fill(collect(1.0:n), k))\n",
    "@time x_ = CuArray(x)\n",
    "\n",
    "y_ = slw_cu(x_, w, blockdims=(8,8,4), wrap=false, fill=true, fill_val=Inf)\n",
    "y  = Array(y_);\n",
    "y[1,:,:]\n",
    "\n",
    "@btime slw_cu(x_, w, blockdims=(8,8,4), wrap=false, fill=true, fill_val=Inf) samples=3 evals=3;"
   ]
  },
  {
   "attachments": {},
   "cell_type": "markdown",
   "metadata": {},
   "source": [
    "### Combined"
   ]
  },
  {
   "cell_type": "code",
   "execution_count": 21,
   "metadata": {},
   "outputs": [],
   "source": [
    "#nbx\n",
    "\"\"\"\n",
    "    y = slw(x, w::Int; blockdims=(8,8,4), wrap=false, fill=false, fill_val=Inf)\n",
    "\n",
    "Function computing sliding windows, either on the CPU or GPU.\n",
    "Takes a CuArray of shape `(k,n)` and returns a CuArray\n",
    "of shape `(k,n,m)`, where `m = 2w+1`...\n",
    "\"\"\"\n",
    "function slw(x::Array, w::Int; blockdims=(8,8,4), wrap=false, fill=false, fill_val=Inf)\n",
    "    if _cuda[]\n",
    "        x_ = CuArray(x)\n",
    "        y_ = slw_cu(x_, w; blockdims=blockdims, wrap=wrap, fill=fill, fill_val=fill_val)\n",
    "        return Array(y_)\n",
    "    else\n",
    "        return slw_cpu(x, w;  wrap=wrap, fill=fill, fill_val=fill_val)\n",
    "    end\n",
    "end;\n",
    "\n",
    "function slw(x_::CuArray, w::Int; blockdims=(8,8,4), wrap=false, fill=false, fill_val=Inf)\n",
    "    y_ = slw_cu(x_, w; blockdims=blockdims, wrap=wrap, fill=fill, fill_val=fill_val)\n",
    "    return y_\n",
    "end;"
   ]
  },
  {
   "cell_type": "code",
   "execution_count": 22,
   "metadata": {},
   "outputs": [
    {
     "name": "stdout",
     "output_type": "stream",
     "text": [
      "  224.631 ms (500023 allocations: 207.90 MiB)\n",
      "  22.933 ms (67 allocations: 39.10 MiB)\n",
      "  814.846 μs (61 allocations: 3.55 KiB)\n"
     ]
    }
   ],
   "source": [
    "k = 500\n",
    "n = 500\n",
    "w = 20\n",
    "\n",
    "x  = stack(fill(collect(1.0:n), k))\n",
    "x_ = CuArray(x)\n",
    "\n",
    "fill_up = true\n",
    "_cuda[] = false;\n",
    "y = slw(x,w; fill=fill_up, fill_val=Inf);\n",
    "@btime slw(x,w; fill=fill_up, fill_val=Inf) samples=3 evals=3;\n",
    "\n",
    "_cuda[] = true;\n",
    "y′ = slw(x,w; fill=fill_up, fill_val=Inf);\n",
    "@btime slw(x,w; fill=fill_up, fill_val=Inf) samples=3 evals=3;\n",
    "@btime slw(x_,w; fill=fill_up, fill_val=Inf) samples=3 evals=3;\n",
    "\n",
    "@assert all(y .== y′)"
   ]
  },
  {
   "attachments": {},
   "cell_type": "markdown",
   "metadata": {},
   "source": [
    "## 2D Sensor Distribution (for point clouds)"
   ]
  },
  {
   "attachments": {},
   "cell_type": "markdown",
   "metadata": {},
   "source": [
    "### Mixture components"
   ]
  },
  {
   "cell_type": "code",
   "execution_count": 23,
   "metadata": {},
   "outputs": [],
   "source": [
    "#nbx\n",
    "\"\"\"\n",
    "```julia\n",
    "    ỹ_::CuArray = get_2d_mixture_components(z_::CuArray, a_::CuArray, w::Int; \n",
    "                                            wrap=false, fill=true, \n",
    "                                            fill_val_z=Inf, fill_val_a=Inf)\n",
    "```\n",
    "Computes the 2d mixture components for the \"2dp3\" likelihood from a family \n",
    "depth scans `z_` along angles `a_`, and with a filter radius of `w`.\n",
    "\n",
    "Arguments:\n",
    " - `z_`:    Range measurements `(k,n)`\n",
    " - `a_`:    Angles of measuremnts `(n,)`\n",
    " - `w`:     Filter window size\n",
    "\n",
    "Returns:\n",
    " - `ỹ_`: CuArray of shape `(k, n, m, 2)`, where `m=2w+1`\n",
    "\"\"\"\n",
    "function get_2d_mixture_components(z_::CuArray, a_::CuArray, w::Int; \n",
    "                                   wrap=false, fill=true, fill_val_z=Inf, fill_val_a=Inf)\n",
    "    \n",
    "    z̃_ = slw_cu(             z_, w; blockdims=(8,8,4), wrap=wrap, fill=fill, fill_val=fill_val_z)\n",
    "    ã_ = slw_cu(reshape(a_,1,:), w; blockdims=(8,8,4), wrap=wrap, fill=fill, fill_val=fill_val_a)\n",
    "    ỹ_ = polar_inv(z̃_, ã_)\n",
    "    \n",
    "    # Handle Inf's and NaN\n",
    "    ỹ_[isnan.(ỹ_)] .= Inf\n",
    "\n",
    "    return ỹ_\n",
    "end;"
   ]
  },
  {
   "cell_type": "code",
   "execution_count": 24,
   "metadata": {},
   "outputs": [],
   "source": [
    "#nbx\n",
    "\"\"\"\n",
    "```julia\n",
    "    ỹ::Array = get_2d_mixture_components(z::Array, a::Array, w::Int; \n",
    "                                            wrap=false, fill=true, \n",
    "                                            fill_val_z=Inf, fill_val_a=Inf)\n",
    "```\n",
    "Computes the 2d mixture components for the \"2dp3\" likelihood from a family \n",
    "depth scans `z` along angles `a`, and with a filter radius of `w`.\n",
    "\n",
    "Arguments:\n",
    " - `z`:    Range measurements `(k,n)`\n",
    " - `a`:    Angles of measuremnts `(n,)`\n",
    " - `w`:     Filter window size\n",
    "\n",
    "Returns:\n",
    " - `ỹ`: Array of shape `(k, n, m, 2)`, where `m=2w+1`\n",
    "\"\"\"\n",
    "function get_2d_mixture_components(z::Array, a::Array, w::Int; \n",
    "                                   wrap=false, fill=true, \n",
    "                                   fill_val_z=Inf, fill_val_a=Inf)\n",
    "    \n",
    "    if _cuda[]\n",
    "        z_ = CuArray(z)\n",
    "        a_ = CuArray(a)\n",
    "        ỹ_ = get_2d_mixture_components(z_, a_, w; \n",
    "                                        wrap=wrap, fill=fill, \n",
    "                                        fill_val_z=fill_val_z, fill_val_a=fill_val_a)\n",
    "        return Array(ỹ_)\n",
    "    else\n",
    "        a = reshape(a,1,:)\n",
    "        z̃ = slw_cpu(z, w; blockdims=(8,8,4), wrap=wrap, fill=fill, fill_val=fill_val_z)\n",
    "        ã = slw_cpu(a, w; blockdims=(8,8,4), wrap=wrap, fill=fill, fill_val=fill_val_a)\n",
    "        ỹ = polar_inv(z̃, ã)\n",
    "        return ỹ\n",
    "    end\n",
    "end;"
   ]
  },
  {
   "attachments": {},
   "cell_type": "markdown",
   "metadata": {},
   "source": [
    "### 2dp3 Likelihood "
   ]
  },
  {
   "cell_type": "code",
   "execution_count": 25,
   "metadata": {},
   "outputs": [],
   "source": [
    "#nbx\n",
    "\"\"\"\n",
    "```julia\n",
    "    log_ps, ptw = sensor_logpdf(x, ỹ, sig, outlier, outlier_vol=1.0; return_pointwise=false)\n",
    "```\n",
    "Evaluates an observation `x` under the 2dp3 likelihood with <br/>\n",
    "a family of mixture components `ỹ` and parameters `sig`, `outlier`, and `outlier_vol`.\n",
    "\n",
    "Arguments:\n",
    " - `x`:  Observation point cloud `(n,2)`\n",
    " - `ỹ`: Family of mixture components `(k,n,m,2)`\n",
    " - ...\n",
    "\n",
    "Returns:\n",
    " - `log_ps`: Log-probs `(k,)`\n",
    " - `ptw`:    Pointwise log-probs for each observation point `(k,n)`\n",
    "\"\"\"\n",
    "function sensor_logpdf(x, ỹ, sig, outlier, zmax; return_pointwise=false, return_outliermap=false) \n",
    "    @assert size(x,1) == size(ỹ,2)\n",
    "\n",
    "    k = size(ỹ,1)\n",
    "    n = size(ỹ,2)\n",
    "    m = size(ỹ,3)\n",
    "    x = reshape(x, 1, n, 1, 2)\n",
    "    outlier_vol = 2*π*zmax^2\n",
    "    \n",
    "    # Line by line: ...\n",
    "    #   Compute 1D Gaussians (k,n,m,2)\n",
    "    #   Convert to 2D gausians (k,n,m,1)\n",
    "    #   Convert to mixture `gm` of m 2D gausians (k,n,1,1)\n",
    "    log_p = gaussian_logpdf(x, ỹ, sig)\n",
    "    log_p = sum(log_p, dims=4)\n",
    "    log_p = logsumexp_slice(log_p .- log(m), dims=3)\n",
    "\n",
    "    log_out = -log(outlier_vol)\n",
    "    outliermap = nothing\n",
    "    if return_outliermap\n",
    "        outliermap = log(1 - outlier) .+ log_p .< log(outlier) + log_out\n",
    "    end\n",
    "\n",
    "    #  Convert to mixture of `gm` and `outlier` (k,n,1,1)\n",
    "    log_p = log.((1 .- outlier).*exp.(log_p) .+ outlier./outlier_vol)\n",
    "    \n",
    "    # If we don't need pointwise logprobs\n",
    "    # we can save us the time and space to copy\n",
    "    pointwise = nothing\n",
    "    if return_pointwise\n",
    "        pointwise = dropdims(log_p, dims=(3,4))\n",
    "    end\n",
    "\n",
    "    # Convert to product of mixtures (k,1,1,1)\n",
    "    log_p = sum(log_p, dims=2)\n",
    "    log_p = dropdims(log_p, dims=(2,3,4))\n",
    "\n",
    "    return log_p, pointwise, outliermap\n",
    "end\n",
    "# Todo: Make sure we handle Inf's in y correctly --\n",
    "#       that might come from sliding window fills? \n",
    "\n",
    "# Todo: Need to subtract the density outside the sphere of radius `zmax`.\n",
    "\n",
    "# Backwards compatibility -- \n",
    "# Same as `sensor_logpdf` above\n",
    "function sensor_smc_logpdf_cu(x, y, sig, outlier, outlier_vol; return_pointwise=false)\n",
    "    return sensor_logpdf(x, y, sig, outlier, outlier_vol; return_pointwise=return_pointwise)\n",
    "end;"
   ]
  },
  {
   "cell_type": "code",
   "execution_count": 26,
   "metadata": {},
   "outputs": [],
   "source": [
    "k = 2\n",
    "n = 3\n",
    "m = 3\n",
    "\n",
    "x   = rand(n,2)\n",
    "ys  = rand(k,n,m,2)\n",
    "\n",
    "# Insert some Inf's, that might come \n",
    "# from sliding window fills. \n",
    "ys[1,:,:,:] .= Inf\n",
    "\n",
    "x_  = CuArray(x)\n",
    "ys_ = CuArray(ys)\n",
    "\n",
    "sig     = 1.0\n",
    "outlier = 0.1\n",
    "zmax    = 80.0\n",
    "\n",
    "log_ps , ptw , = sensor_logpdf(x , ys , sig, outlier, zmax; return_pointwise=true)\n",
    "log_ps_, ptw_, = sensor_logpdf(x_, ys_, sig, outlier, zmax; return_pointwise=true)\n",
    "\n",
    "@assert isapprox(log_ps, Array(log_ps_))\n"
   ]
  },
  {
   "attachments": {},
   "cell_type": "markdown",
   "metadata": {},
   "source": [
    "### Distribution"
   ]
  },
  {
   "cell_type": "code",
   "execution_count": 28,
   "metadata": {},
   "outputs": [],
   "source": [
    "#nbx\n",
    "struct SensorDistribution_CUDA <: Distribution{Vector{Vector{Float64}}} \n",
    "end\n",
    "\n",
    "\"\"\"\n",
    "```julia\n",
    "    x = sensordist_cu(ỹ_::CuArray, sig, outlier, outlier_vol=1.0)::Vector{Vector{Float64}}\n",
    "```\n",
    "Distribution from the 2dp3-likelihood. Takes 2d-mixture components `ỹ_` and \n",
    "samples a vector `x` of 2d points.\n",
    "\n",
    "Arguments:\n",
    " - `ỹ_`: 2d-mixture components `(n,m,2)`\n",
    " - ...\n",
    "Returns:\n",
    "- `x`: Observation vector of 2d points.\n",
    "\"\"\"\n",
    "const sensordist_cu = SensorDistribution_CUDA()\n",
    "\n",
    "# Todo:\n",
    "function Gen.logpdf(::SensorDistribution_CUDA, x, ỹ_::CuArray, sig, outlier, zmax)\n",
    "    n = size(ỹ_, 1)\n",
    "    m = size(ỹ_, 2)\n",
    "    \n",
    "    x_ = CuArray(stack(x))\n",
    "    ỹ_ = reshape(ỹ_, 1, n, m, 2) \n",
    "    \n",
    "    log_p, = sensor_logpdf(x_, ỹ_, sig, outlier, zmax) # CuArray of length 1\n",
    "    return CUDA.@allowscalar log_p[1]\n",
    "end\n",
    "\n",
    "function Gen.random(::SensorDistribution_CUDA, ỹ_::CuArray, sig, outlier, outlier_vol=1.0)\n",
    "    n = size(ỹ_,1)\n",
    "    m = size(ỹ_,2)\n",
    "    \n",
    "    # Sample an observation point cloud `x`\n",
    "    x = Vector{Float64}[]\n",
    "    for i=1:n\n",
    "        if bernoulli(outlier)\n",
    "            # Todo: Change that to a uniform distribution, e.g. over a  \n",
    "            #       circular area with radius `zmax`.\n",
    "            x_i = [Inf;Inf]\n",
    "        else\n",
    "            j   = rand(1:m)\n",
    "            y   = Array(ỹ_[i,j,:])\n",
    "            x_i = diagnormal(y, [sig;sig])\n",
    "\n",
    "        end\n",
    "        push!(x, x_i)\n",
    "    end\n",
    "    \n",
    "    return x\n",
    "end\n",
    "\n",
    "(D::SensorDistribution_CUDA)(args...)             = Gen.random(D, args...)\n",
    "Gen.has_output_grad(::SensorDistribution_CUDA)    = false\n",
    "Gen.has_argument_grads(::SensorDistribution_CUDA) = (false, false);"
   ]
  },
  {
   "cell_type": "code",
   "execution_count": 29,
   "metadata": {},
   "outputs": [
    {
     "name": "stdout",
     "output_type": "stream",
     "text": [
      "y_: (500, 41, 2)\n",
      "  441.311 μs (598 allocations: 56.33 KiB)\n"
     ]
    }
   ],
   "source": [
    "n = 500\n",
    "m = 41\n",
    "\n",
    "ys  = rand(n,m,2)\n",
    "ys_ = CuArray(ys)\n",
    "\n",
    "sig     = 1.0\n",
    "outlier = 0.1\n",
    "zmax    = 80.0\n",
    "\n",
    "args = (ys_, sig, outlier, zmax)\n",
    "x = sensordist_cu(args...)\n",
    "logpdf(sensordist_cu, x, args...)\n",
    "\n",
    "println(\"y_: $(size(ys))\")\n",
    "@btime logpdf(sensordist_cu, x, args...) samples=3 evals=3;"
   ]
  },
  {
   "attachments": {},
   "cell_type": "markdown",
   "metadata": {},
   "source": [
    "Benchmark\n",
    "```julia\n",
    "y_: (500, 41, 2)\n",
    "  443.054 μs (598 allocations: 56.33 KiB)\n",
    "```"
   ]
  },
  {
   "cell_type": "code",
   "execution_count": null,
   "metadata": {},
   "outputs": [],
   "source": []
  },
  {
   "attachments": {},
   "cell_type": "markdown",
   "metadata": {},
   "source": [
    "## 1D Sensor Distribution"
   ]
  },
  {
   "attachments": {},
   "cell_type": "markdown",
   "metadata": {},
   "source": [
    "### 1D Mixture"
   ]
  },
  {
   "cell_type": "code",
   "execution_count": 27,
   "metadata": {},
   "outputs": [],
   "source": [
    "#nbx\n",
    "\"\"\"\n",
    "```julia\n",
    "    ỹ_, w̃_ = get_1d_mixture_components(z_, a_, w, sig; \n",
    "                                       wrap=false, fill=true, \n",
    "                                       fill_val_z=Inf, fill_val_a=Inf)\n",
    "```\n",
    "Computes the 1d mixture components and their weights for the \"2dp3\" likelihood \n",
    "(or rather for the induced line distributions) from depth measurements `z_` \n",
    "along angles `a_`, and with a filter radius of `w`.\n",
    "\n",
    "Arguments:\n",
    " - `z_`: Range measurements `(k,n)`\n",
    " - `a_`: Angles of measuremnts `(n,)`\n",
    " - `w``: Filter window radius\n",
    "\n",
    "Returns:\n",
    " - `ỹ_`: 1d mixture components `(k, n, m)`, where `m2w+1`\n",
    " - `w̃_`: 1d mixture weights `(k, n, m)`, where `m2w+1`\n",
    "\"\"\"\n",
    "function get_1d_mixture_components(z_, a_, w, sig; \n",
    "                                   wrap=false, fill=true, \n",
    "                                   fill_val_z=Inf, fill_val_a=Inf)\n",
    "    a_ = reshape(a_,1,:)\n",
    "    z̃_ = slw_cu!(z_, w; blockdims=(8,8,4), wrap=wrap, fill=fill, fill_val=fill_val_z)\n",
    "    ã_ = slw_cu!(a_, w; blockdims=(8,8,4), wrap=wrap, fill=fill, fill_val=fill_val_a)\n",
    "    \n",
    "    # We compute the projection `ỹ` of the 2d mixtures onto \n",
    "    # the ray through each pixel and their distance `d̃` to the rays.\n",
    "    #\n",
    "    # Note that the embedded point is of the form `[z*cos(a), z*cos(a)]` and \n",
    "    # the projections are given by the dot products with the x- and y-axis.\n",
    "    ã_ = π/2 .- ã_ .+ a_\n",
    "    d̃_ = z̃_ .* cos.(ã_)\n",
    "    ỹ_ = z̃_ .* sin.(ã_)\n",
    "    \n",
    "    # Handle Inf's and NaN\n",
    "    d̃_[isnan.(d̃_)] .= Inf\n",
    "    ỹ_[isnan.(ỹ_)] .= Inf\n",
    "\n",
    "    # Compute normalized mixture weights\n",
    "    w̃_ = gaussian_logpdf(d̃_, 0.0, sig)\n",
    "    w̃_ = w̃_ .- logsumexp_slice(w̃_, dims=3)\n",
    "\n",
    "    return ỹ_, w̃_\n",
    "end;"
   ]
  },
  {
   "cell_type": "code",
   "execution_count": 72,
   "metadata": {},
   "outputs": [
    {
     "ename": "LoadError",
     "evalue": "UndefVarError: _zs not defined",
     "output_type": "error",
     "traceback": [
      "UndefVarError: _zs not defined",
      "",
      "Stacktrace:",
      " [1] top-level scope",
      "   @ In[72]:2"
     ]
    }
   ],
   "source": [
    "t   = 1050\n",
    "zs_ = CuArray(stack([_zs[t]]))\n",
    "as_ = CuArray(_as);\n",
    "\n",
    "w           = 20\n",
    "sig         = 0.1\n",
    "outlier     = 0.1\n",
    "outlier_vol = 100.\n",
    "\n",
    "ys_tilde_, ws_tilde_ = get_1d_mixture_components(zs_, as_, w, sig,\n",
    "                                 wrap=false, fill=true, fill_val_z=Inf, fill_val_a = Inf);\n",
    "\n",
    "sum(isnan.(ys_tilde_)), \n",
    "sum(isnan.(ws_tilde_))"
   ]
  },
  {
   "attachments": {},
   "cell_type": "markdown",
   "metadata": {},
   "source": [
    "### 1d Likelihood"
   ]
  },
  {
   "cell_type": "code",
   "execution_count": 28,
   "metadata": {},
   "outputs": [
    {
     "name": "stdout",
     "output_type": "stream",
     "text": [
      "  14.214 μs (31 allocations: 1.59 KiB)\n",
      "  116.286 μs (4 allocations: 78.20 KiB)\n"
     ]
    }
   ],
   "source": [
    "x = rand(10_000)\n",
    "x_ = CuArray(x)\n",
    "\n",
    "@btime erf.(x_) samples=3 evals=3;\n",
    "@btime erf.(x) samples=3 evals=3;"
   ]
  },
  {
   "cell_type": "code",
   "execution_count": 33,
   "metadata": {},
   "outputs": [
    {
     "data": {
      "image/svg+xml": [
       "<?xml version=\"1.0\" encoding=\"utf-8\"?>\n",
       "<svg xmlns=\"http://www.w3.org/2000/svg\" xmlns:xlink=\"http://www.w3.org/1999/xlink\" width=\"300\" height=\"100\" viewBox=\"0 0 1200 400\">\n",
       "<defs>\n",
       "  <clipPath id=\"clip090\">\n",
       "    <rect x=\"0\" y=\"0\" width=\"1200\" height=\"400\"/>\n",
       "  </clipPath>\n",
       "</defs>\n",
       "<path clip-path=\"url(#clip090)\" d=\"M0 400 L1200 400 L1200 0 L0 0  Z\" fill=\"#ffffff\" fill-rule=\"evenodd\" fill-opacity=\"1\"/>\n",
       "<defs>\n",
       "  <clipPath id=\"clip091\">\n",
       "    <rect x=\"240\" y=\"0\" width=\"841\" height=\"400\"/>\n",
       "  </clipPath>\n",
       "</defs>\n",
       "<path clip-path=\"url(#clip090)\" d=\"M204.436 315.728 L1152.76 315.728 L1152.76 47.2441 L204.436 47.2441  Z\" fill=\"#ffffff\" fill-rule=\"evenodd\" fill-opacity=\"1\"/>\n",
       "<defs>\n",
       "  <clipPath id=\"clip092\">\n",
       "    <rect x=\"204\" y=\"47\" width=\"949\" height=\"269\"/>\n",
       "  </clipPath>\n",
       "</defs>\n",
       "<polyline clip-path=\"url(#clip092)\" style=\"stroke:#000000; stroke-linecap:round; stroke-linejoin:round; stroke-width:2; stroke-opacity:0.1; fill:none\" points=\"231.275,315.728 231.275,47.2441 \"/>\n",
       "<polyline clip-path=\"url(#clip092)\" style=\"stroke:#000000; stroke-linecap:round; stroke-linejoin:round; stroke-width:2; stroke-opacity:0.1; fill:none\" points=\"454.936,315.728 454.936,47.2441 \"/>\n",
       "<polyline clip-path=\"url(#clip092)\" style=\"stroke:#000000; stroke-linecap:round; stroke-linejoin:round; stroke-width:2; stroke-opacity:0.1; fill:none\" points=\"678.596,315.728 678.596,47.2441 \"/>\n",
       "<polyline clip-path=\"url(#clip092)\" style=\"stroke:#000000; stroke-linecap:round; stroke-linejoin:round; stroke-width:2; stroke-opacity:0.1; fill:none\" points=\"902.256,315.728 902.256,47.2441 \"/>\n",
       "<polyline clip-path=\"url(#clip092)\" style=\"stroke:#000000; stroke-linecap:round; stroke-linejoin:round; stroke-width:2; stroke-opacity:0.1; fill:none\" points=\"1125.92,315.728 1125.92,47.2441 \"/>\n",
       "<polyline clip-path=\"url(#clip090)\" style=\"stroke:#000000; stroke-linecap:round; stroke-linejoin:round; stroke-width:4; stroke-opacity:1; fill:none\" points=\"204.436,315.728 1152.76,315.728 \"/>\n",
       "<polyline clip-path=\"url(#clip090)\" style=\"stroke:#000000; stroke-linecap:round; stroke-linejoin:round; stroke-width:4; stroke-opacity:1; fill:none\" points=\"231.275,315.728 231.275,296.83 \"/>\n",
       "<polyline clip-path=\"url(#clip090)\" style=\"stroke:#000000; stroke-linecap:round; stroke-linejoin:round; stroke-width:4; stroke-opacity:1; fill:none\" points=\"454.936,315.728 454.936,296.83 \"/>\n",
       "<polyline clip-path=\"url(#clip090)\" style=\"stroke:#000000; stroke-linecap:round; stroke-linejoin:round; stroke-width:4; stroke-opacity:1; fill:none\" points=\"678.596,315.728 678.596,296.83 \"/>\n",
       "<polyline clip-path=\"url(#clip090)\" style=\"stroke:#000000; stroke-linecap:round; stroke-linejoin:round; stroke-width:4; stroke-opacity:1; fill:none\" points=\"902.256,315.728 902.256,296.83 \"/>\n",
       "<polyline clip-path=\"url(#clip090)\" style=\"stroke:#000000; stroke-linecap:round; stroke-linejoin:round; stroke-width:4; stroke-opacity:1; fill:none\" points=\"1125.92,315.728 1125.92,296.83 \"/>\n",
       "<path clip-path=\"url(#clip090)\" d=\"M231.275 337.047 Q227.664 337.047 225.835 340.611 Q224.03 344.153 224.03 351.283 Q224.03 358.389 225.835 361.954 Q227.664 365.495 231.275 365.495 Q234.909 365.495 236.715 361.954 Q238.544 358.389 238.544 351.283 Q238.544 344.153 236.715 340.611 Q234.909 337.047 231.275 337.047 M231.275 333.343 Q237.085 333.343 240.141 337.949 Q243.22 342.533 243.22 351.283 Q243.22 360.009 240.141 364.616 Q237.085 369.199 231.275 369.199 Q225.465 369.199 222.386 364.616 Q219.331 360.009 219.331 351.283 Q219.331 342.533 222.386 337.949 Q225.465 333.343 231.275 333.343 Z\" fill=\"#000000\" fill-rule=\"nonzero\" fill-opacity=\"1\" /><path clip-path=\"url(#clip090)\" d=\"M434.206 364.593 L450.526 364.593 L450.526 368.528 L428.581 368.528 L428.581 364.593 Q431.244 361.838 435.827 357.208 Q440.433 352.556 441.614 351.213 Q443.859 348.69 444.739 346.954 Q445.642 345.195 445.642 343.505 Q445.642 340.75 443.697 339.014 Q441.776 337.278 438.674 337.278 Q436.475 337.278 434.021 338.042 Q431.591 338.806 428.813 340.357 L428.813 335.635 Q431.637 334.5 434.091 333.922 Q436.544 333.343 438.581 333.343 Q443.952 333.343 447.146 336.028 Q450.341 338.713 450.341 343.204 Q450.341 345.334 449.53 347.255 Q448.743 349.153 446.637 351.746 Q446.058 352.417 442.956 355.634 Q439.855 358.829 434.206 364.593 Z\" fill=\"#000000\" fill-rule=\"nonzero\" fill-opacity=\"1\" /><path clip-path=\"url(#clip090)\" d=\"M460.387 333.968 L478.743 333.968 L478.743 337.903 L464.669 337.903 L464.669 346.375 Q465.688 346.028 466.706 345.866 Q467.725 345.681 468.743 345.681 Q474.53 345.681 477.91 348.852 Q481.29 352.023 481.29 357.44 Q481.29 363.019 477.817 366.12 Q474.345 369.199 468.026 369.199 Q465.85 369.199 463.581 368.829 Q461.336 368.458 458.929 367.718 L458.929 363.019 Q461.012 364.153 463.234 364.708 Q465.456 365.264 467.933 365.264 Q471.938 365.264 474.276 363.158 Q476.614 361.051 476.614 357.44 Q476.614 353.829 474.276 351.722 Q471.938 349.616 467.933 349.616 Q466.058 349.616 464.183 350.033 Q462.331 350.449 460.387 351.329 L460.387 333.968 Z\" fill=\"#000000\" fill-rule=\"nonzero\" fill-opacity=\"1\" /><path clip-path=\"url(#clip090)\" d=\"M653.295 333.968 L671.651 333.968 L671.651 337.903 L657.577 337.903 L657.577 346.375 Q658.596 346.028 659.615 345.866 Q660.633 345.681 661.652 345.681 Q667.439 345.681 670.818 348.852 Q674.198 352.023 674.198 357.44 Q674.198 363.019 670.726 366.12 Q667.253 369.199 660.934 369.199 Q658.758 369.199 656.49 368.829 Q654.244 368.458 651.837 367.718 L651.837 363.019 Q653.92 364.153 656.142 364.708 Q658.365 365.264 660.841 365.264 Q664.846 365.264 667.184 363.158 Q669.522 361.051 669.522 357.44 Q669.522 353.829 667.184 351.722 Q664.846 349.616 660.841 349.616 Q658.966 349.616 657.091 350.033 Q655.24 350.449 653.295 351.329 L653.295 333.968 Z\" fill=\"#000000\" fill-rule=\"nonzero\" fill-opacity=\"1\" /><path clip-path=\"url(#clip090)\" d=\"M693.411 337.047 Q689.8 337.047 687.971 340.611 Q686.165 344.153 686.165 351.283 Q686.165 358.389 687.971 361.954 Q689.8 365.495 693.411 365.495 Q697.045 365.495 698.85 361.954 Q700.679 358.389 700.679 351.283 Q700.679 344.153 698.85 340.611 Q697.045 337.047 693.411 337.047 M693.411 333.343 Q699.221 333.343 702.276 337.949 Q705.355 342.533 705.355 351.283 Q705.355 360.009 702.276 364.616 Q699.221 369.199 693.411 369.199 Q687.6 369.199 684.522 364.616 Q681.466 360.009 681.466 351.283 Q681.466 342.533 684.522 337.949 Q687.6 333.343 693.411 333.343 Z\" fill=\"#000000\" fill-rule=\"nonzero\" fill-opacity=\"1\" /><path clip-path=\"url(#clip090)\" d=\"M876.111 333.968 L898.333 333.968 L898.333 335.959 L885.786 368.528 L880.902 368.528 L892.708 337.903 L876.111 337.903 L876.111 333.968 Z\" fill=\"#000000\" fill-rule=\"nonzero\" fill-opacity=\"1\" /><path clip-path=\"url(#clip090)\" d=\"M907.499 333.968 L925.856 333.968 L925.856 337.903 L911.782 337.903 L911.782 346.375 Q912.8 346.028 913.819 345.866 Q914.837 345.681 915.856 345.681 Q921.643 345.681 925.022 348.852 Q928.402 352.023 928.402 357.44 Q928.402 363.019 924.93 366.12 Q921.458 369.199 915.138 369.199 Q912.962 369.199 910.694 368.829 Q908.448 368.458 906.041 367.718 L906.041 363.019 Q908.124 364.153 910.347 364.708 Q912.569 365.264 915.046 365.264 Q919.05 365.264 921.388 363.158 Q923.726 361.051 923.726 357.44 Q923.726 353.829 921.388 351.722 Q919.05 349.616 915.046 349.616 Q913.171 349.616 911.296 350.033 Q909.444 350.449 907.499 351.329 L907.499 333.968 Z\" fill=\"#000000\" fill-rule=\"nonzero\" fill-opacity=\"1\" /><path clip-path=\"url(#clip090)\" d=\"M1085.52 364.593 L1093.16 364.593 L1093.16 338.227 L1084.85 339.894 L1084.85 335.635 L1093.12 333.968 L1097.79 333.968 L1097.79 364.593 L1105.43 364.593 L1105.43 368.528 L1085.52 368.528 L1085.52 364.593 Z\" fill=\"#000000\" fill-rule=\"nonzero\" fill-opacity=\"1\" /><path clip-path=\"url(#clip090)\" d=\"M1124.87 337.047 Q1121.26 337.047 1119.44 340.611 Q1117.63 344.153 1117.63 351.283 Q1117.63 358.389 1119.44 361.954 Q1121.26 365.495 1124.87 365.495 Q1128.51 365.495 1130.31 361.954 Q1132.14 358.389 1132.14 351.283 Q1132.14 344.153 1130.31 340.611 Q1128.51 337.047 1124.87 337.047 M1124.87 333.343 Q1130.69 333.343 1133.74 337.949 Q1136.82 342.533 1136.82 351.283 Q1136.82 360.009 1133.74 364.616 Q1130.69 369.199 1124.87 369.199 Q1119.06 369.199 1115.99 364.616 Q1112.93 360.009 1112.93 351.283 Q1112.93 342.533 1115.99 337.949 Q1119.06 333.343 1124.87 333.343 Z\" fill=\"#000000\" fill-rule=\"nonzero\" fill-opacity=\"1\" /><path clip-path=\"url(#clip090)\" d=\"M1155.04 337.047 Q1151.43 337.047 1149.6 340.611 Q1147.79 344.153 1147.79 351.283 Q1147.79 358.389 1149.6 361.954 Q1151.43 365.495 1155.04 365.495 Q1158.67 365.495 1160.48 361.954 Q1162.31 358.389 1162.31 351.283 Q1162.31 344.153 1160.48 340.611 Q1158.67 337.047 1155.04 337.047 M1155.04 333.343 Q1160.85 333.343 1163.9 337.949 Q1166.98 342.533 1166.98 351.283 Q1166.98 360.009 1163.9 364.616 Q1160.85 369.199 1155.04 369.199 Q1149.23 369.199 1146.15 364.616 Q1143.09 360.009 1143.09 351.283 Q1143.09 342.533 1146.15 337.949 Q1149.23 333.343 1155.04 333.343 Z\" fill=\"#000000\" fill-rule=\"nonzero\" fill-opacity=\"1\" /><polyline clip-path=\"url(#clip092)\" style=\"stroke:#000000; stroke-linecap:round; stroke-linejoin:round; stroke-width:2; stroke-opacity:0.1; fill:none\" points=\"204.436,308.141 1152.76,308.141 \"/>\n",
       "<polyline clip-path=\"url(#clip092)\" style=\"stroke:#000000; stroke-linecap:round; stroke-linejoin:round; stroke-width:2; stroke-opacity:0.1; fill:none\" points=\"204.436,244.816 1152.76,244.816 \"/>\n",
       "<polyline clip-path=\"url(#clip092)\" style=\"stroke:#000000; stroke-linecap:round; stroke-linejoin:round; stroke-width:2; stroke-opacity:0.1; fill:none\" points=\"204.436,181.492 1152.76,181.492 \"/>\n",
       "<polyline clip-path=\"url(#clip092)\" style=\"stroke:#000000; stroke-linecap:round; stroke-linejoin:round; stroke-width:2; stroke-opacity:0.1; fill:none\" points=\"204.436,118.167 1152.76,118.167 \"/>\n",
       "<polyline clip-path=\"url(#clip092)\" style=\"stroke:#000000; stroke-linecap:round; stroke-linejoin:round; stroke-width:2; stroke-opacity:0.1; fill:none\" points=\"204.436,54.8427 1152.76,54.8427 \"/>\n",
       "<polyline clip-path=\"url(#clip090)\" style=\"stroke:#000000; stroke-linecap:round; stroke-linejoin:round; stroke-width:4; stroke-opacity:1; fill:none\" points=\"204.436,315.728 204.436,47.2441 \"/>\n",
       "<polyline clip-path=\"url(#clip090)\" style=\"stroke:#000000; stroke-linecap:round; stroke-linejoin:round; stroke-width:4; stroke-opacity:1; fill:none\" points=\"204.436,308.141 223.334,308.141 \"/>\n",
       "<polyline clip-path=\"url(#clip090)\" style=\"stroke:#000000; stroke-linecap:round; stroke-linejoin:round; stroke-width:4; stroke-opacity:1; fill:none\" points=\"204.436,244.816 223.334,244.816 \"/>\n",
       "<polyline clip-path=\"url(#clip090)\" style=\"stroke:#000000; stroke-linecap:round; stroke-linejoin:round; stroke-width:4; stroke-opacity:1; fill:none\" points=\"204.436,181.492 223.334,181.492 \"/>\n",
       "<polyline clip-path=\"url(#clip090)\" style=\"stroke:#000000; stroke-linecap:round; stroke-linejoin:round; stroke-width:4; stroke-opacity:1; fill:none\" points=\"204.436,118.167 223.334,118.167 \"/>\n",
       "<polyline clip-path=\"url(#clip090)\" style=\"stroke:#000000; stroke-linecap:round; stroke-linejoin:round; stroke-width:4; stroke-opacity:1; fill:none\" points=\"204.436,54.8427 223.334,54.8427 \"/>\n",
       "<path clip-path=\"url(#clip090)\" d=\"M68.9365 293.939 Q65.3254 293.939 63.4967 297.504 Q61.6912 301.046 61.6912 308.175 Q61.6912 315.282 63.4967 318.847 Q65.3254 322.388 68.9365 322.388 Q72.5707 322.388 74.3763 318.847 Q76.205 315.282 76.205 308.175 Q76.205 301.046 74.3763 297.504 Q72.5707 293.939 68.9365 293.939 M68.9365 290.236 Q74.7467 290.236 77.8022 294.842 Q80.8809 299.426 80.8809 308.175 Q80.8809 316.902 77.8022 321.509 Q74.7467 326.092 68.9365 326.092 Q63.1264 326.092 60.0477 321.509 Q56.9921 316.902 56.9921 308.175 Q56.9921 299.426 60.0477 294.842 Q63.1264 290.236 68.9365 290.236 Z\" fill=\"#000000\" fill-rule=\"nonzero\" fill-opacity=\"1\" /><path clip-path=\"url(#clip090)\" d=\"M89.0984 319.541 L93.9827 319.541 L93.9827 325.421 L89.0984 325.421 L89.0984 319.541 Z\" fill=\"#000000\" fill-rule=\"nonzero\" fill-opacity=\"1\" /><path clip-path=\"url(#clip090)\" d=\"M114.168 293.939 Q110.557 293.939 108.728 297.504 Q106.922 301.046 106.922 308.175 Q106.922 315.282 108.728 318.847 Q110.557 322.388 114.168 322.388 Q117.802 322.388 119.608 318.847 Q121.436 315.282 121.436 308.175 Q121.436 301.046 119.608 297.504 Q117.802 293.939 114.168 293.939 M114.168 290.236 Q119.978 290.236 123.033 294.842 Q126.112 299.426 126.112 308.175 Q126.112 316.902 123.033 321.509 Q119.978 326.092 114.168 326.092 Q108.358 326.092 105.279 321.509 Q102.223 316.902 102.223 308.175 Q102.223 299.426 105.279 294.842 Q108.358 290.236 114.168 290.236 Z\" fill=\"#000000\" fill-rule=\"nonzero\" fill-opacity=\"1\" /><path clip-path=\"url(#clip090)\" d=\"M144.33 293.939 Q140.719 293.939 138.89 297.504 Q137.084 301.046 137.084 308.175 Q137.084 315.282 138.89 318.847 Q140.719 322.388 144.33 322.388 Q147.964 322.388 149.769 318.847 Q151.598 315.282 151.598 308.175 Q151.598 301.046 149.769 297.504 Q147.964 293.939 144.33 293.939 M144.33 290.236 Q150.14 290.236 153.195 294.842 Q156.274 299.426 156.274 308.175 Q156.274 316.902 153.195 321.509 Q150.14 326.092 144.33 326.092 Q138.519 326.092 135.441 321.509 Q132.385 316.902 132.385 308.175 Q132.385 299.426 135.441 294.842 Q138.519 290.236 144.33 290.236 Z\" fill=\"#000000\" fill-rule=\"nonzero\" fill-opacity=\"1\" /><path clip-path=\"url(#clip090)\" d=\"M174.491 293.939 Q170.88 293.939 169.052 297.504 Q167.246 301.046 167.246 308.175 Q167.246 315.282 169.052 318.847 Q170.88 322.388 174.491 322.388 Q178.126 322.388 179.931 318.847 Q181.76 315.282 181.76 308.175 Q181.76 301.046 179.931 297.504 Q178.126 293.939 174.491 293.939 M174.491 290.236 Q180.302 290.236 183.357 294.842 Q186.436 299.426 186.436 308.175 Q186.436 316.902 183.357 321.509 Q180.302 326.092 174.491 326.092 Q168.681 326.092 165.603 321.509 Q162.547 316.902 162.547 308.175 Q162.547 299.426 165.603 294.842 Q168.681 290.236 174.491 290.236 Z\" fill=\"#000000\" fill-rule=\"nonzero\" fill-opacity=\"1\" /><path clip-path=\"url(#clip090)\" d=\"M69.9319 230.615 Q66.3208 230.615 64.4921 234.18 Q62.6865 237.721 62.6865 244.851 Q62.6865 251.957 64.4921 255.522 Q66.3208 259.064 69.9319 259.064 Q73.5661 259.064 75.3717 255.522 Q77.2004 251.957 77.2004 244.851 Q77.2004 237.721 75.3717 234.18 Q73.5661 230.615 69.9319 230.615 M69.9319 226.911 Q75.742 226.911 78.7976 231.518 Q81.8763 236.101 81.8763 244.851 Q81.8763 253.578 78.7976 258.184 Q75.742 262.768 69.9319 262.768 Q64.1217 262.768 61.043 258.184 Q57.9875 253.578 57.9875 244.851 Q57.9875 236.101 61.043 231.518 Q64.1217 226.911 69.9319 226.911 Z\" fill=\"#000000\" fill-rule=\"nonzero\" fill-opacity=\"1\" /><path clip-path=\"url(#clip090)\" d=\"M90.0938 256.217 L94.978 256.217 L94.978 262.096 L90.0938 262.096 L90.0938 256.217 Z\" fill=\"#000000\" fill-rule=\"nonzero\" fill-opacity=\"1\" /><path clip-path=\"url(#clip090)\" d=\"M115.163 230.615 Q111.552 230.615 109.723 234.18 Q107.918 237.721 107.918 244.851 Q107.918 251.957 109.723 255.522 Q111.552 259.064 115.163 259.064 Q118.797 259.064 120.603 255.522 Q122.432 251.957 122.432 244.851 Q122.432 237.721 120.603 234.18 Q118.797 230.615 115.163 230.615 M115.163 226.911 Q120.973 226.911 124.029 231.518 Q127.107 236.101 127.107 244.851 Q127.107 253.578 124.029 258.184 Q120.973 262.768 115.163 262.768 Q109.353 262.768 106.274 258.184 Q103.219 253.578 103.219 244.851 Q103.219 236.101 106.274 231.518 Q109.353 226.911 115.163 226.911 Z\" fill=\"#000000\" fill-rule=\"nonzero\" fill-opacity=\"1\" /><path clip-path=\"url(#clip090)\" d=\"M139.353 258.161 L155.672 258.161 L155.672 262.096 L133.728 262.096 L133.728 258.161 Q136.39 255.406 140.973 250.777 Q145.58 246.124 146.76 244.782 Q149.006 242.258 149.885 240.522 Q150.788 238.763 150.788 237.073 Q150.788 234.319 148.843 232.583 Q146.922 230.846 143.82 230.846 Q141.621 230.846 139.168 231.61 Q136.737 232.374 133.959 233.925 L133.959 229.203 Q136.783 228.069 139.237 227.49 Q141.691 226.911 143.728 226.911 Q149.098 226.911 152.293 229.596 Q155.487 232.282 155.487 236.772 Q155.487 238.902 154.677 240.823 Q153.89 242.721 151.783 245.314 Q151.205 245.985 148.103 249.203 Q145.001 252.397 139.353 258.161 Z\" fill=\"#000000\" fill-rule=\"nonzero\" fill-opacity=\"1\" /><path clip-path=\"url(#clip090)\" d=\"M165.533 227.536 L183.89 227.536 L183.89 231.471 L169.816 231.471 L169.816 239.944 Q170.834 239.596 171.853 239.434 Q172.871 239.249 173.89 239.249 Q179.677 239.249 183.056 242.42 Q186.436 245.592 186.436 251.008 Q186.436 256.587 182.964 259.689 Q179.491 262.768 173.172 262.768 Q170.996 262.768 168.728 262.397 Q166.482 262.027 164.075 261.286 L164.075 256.587 Q166.158 257.721 168.38 258.277 Q170.603 258.832 173.079 258.832 Q177.084 258.832 179.422 256.726 Q181.76 254.619 181.76 251.008 Q181.76 247.397 179.422 245.291 Q177.084 243.184 173.079 243.184 Q171.204 243.184 169.329 243.601 Q167.478 244.018 165.533 244.897 L165.533 227.536 Z\" fill=\"#000000\" fill-rule=\"nonzero\" fill-opacity=\"1\" /><path clip-path=\"url(#clip090)\" d=\"M68.9365 167.29 Q65.3254 167.29 63.4967 170.855 Q61.6912 174.397 61.6912 181.526 Q61.6912 188.633 63.4967 192.198 Q65.3254 195.739 68.9365 195.739 Q72.5707 195.739 74.3763 192.198 Q76.205 188.633 76.205 181.526 Q76.205 174.397 74.3763 170.855 Q72.5707 167.29 68.9365 167.29 M68.9365 163.587 Q74.7467 163.587 77.8022 168.193 Q80.8809 172.777 80.8809 181.526 Q80.8809 190.253 77.8022 194.86 Q74.7467 199.443 68.9365 199.443 Q63.1264 199.443 60.0477 194.86 Q56.9921 190.253 56.9921 181.526 Q56.9921 172.777 60.0477 168.193 Q63.1264 163.587 68.9365 163.587 Z\" fill=\"#000000\" fill-rule=\"nonzero\" fill-opacity=\"1\" /><path clip-path=\"url(#clip090)\" d=\"M89.0984 192.892 L93.9827 192.892 L93.9827 198.772 L89.0984 198.772 L89.0984 192.892 Z\" fill=\"#000000\" fill-rule=\"nonzero\" fill-opacity=\"1\" /><path clip-path=\"url(#clip090)\" d=\"M114.168 167.29 Q110.557 167.29 108.728 170.855 Q106.922 174.397 106.922 181.526 Q106.922 188.633 108.728 192.198 Q110.557 195.739 114.168 195.739 Q117.802 195.739 119.608 192.198 Q121.436 188.633 121.436 181.526 Q121.436 174.397 119.608 170.855 Q117.802 167.29 114.168 167.29 M114.168 163.587 Q119.978 163.587 123.033 168.193 Q126.112 172.777 126.112 181.526 Q126.112 190.253 123.033 194.86 Q119.978 199.443 114.168 199.443 Q108.358 199.443 105.279 194.86 Q102.223 190.253 102.223 181.526 Q102.223 172.777 105.279 168.193 Q108.358 163.587 114.168 163.587 Z\" fill=\"#000000\" fill-rule=\"nonzero\" fill-opacity=\"1\" /><path clip-path=\"url(#clip090)\" d=\"M134.376 164.212 L152.732 164.212 L152.732 168.147 L138.658 168.147 L138.658 176.619 Q139.677 176.272 140.695 176.11 Q141.714 175.925 142.732 175.925 Q148.519 175.925 151.899 179.096 Q155.279 182.267 155.279 187.684 Q155.279 193.263 151.806 196.364 Q148.334 199.443 142.015 199.443 Q139.839 199.443 137.57 199.073 Q135.325 198.702 132.918 197.962 L132.918 193.263 Q135.001 194.397 137.223 194.952 Q139.445 195.508 141.922 195.508 Q145.927 195.508 148.265 193.401 Q150.603 191.295 150.603 187.684 Q150.603 184.073 148.265 181.966 Q145.927 179.86 141.922 179.86 Q140.047 179.86 138.172 180.276 Q136.32 180.693 134.376 181.573 L134.376 164.212 Z\" fill=\"#000000\" fill-rule=\"nonzero\" fill-opacity=\"1\" /><path clip-path=\"url(#clip090)\" d=\"M174.491 167.29 Q170.88 167.29 169.052 170.855 Q167.246 174.397 167.246 181.526 Q167.246 188.633 169.052 192.198 Q170.88 195.739 174.491 195.739 Q178.126 195.739 179.931 192.198 Q181.76 188.633 181.76 181.526 Q181.76 174.397 179.931 170.855 Q178.126 167.29 174.491 167.29 M174.491 163.587 Q180.302 163.587 183.357 168.193 Q186.436 172.777 186.436 181.526 Q186.436 190.253 183.357 194.86 Q180.302 199.443 174.491 199.443 Q168.681 199.443 165.603 194.86 Q162.547 190.253 162.547 181.526 Q162.547 172.777 165.603 168.193 Q168.681 163.587 174.491 163.587 Z\" fill=\"#000000\" fill-rule=\"nonzero\" fill-opacity=\"1\" /><path clip-path=\"url(#clip090)\" d=\"M69.9319 103.966 Q66.3208 103.966 64.4921 107.531 Q62.6865 111.072 62.6865 118.202 Q62.6865 125.308 64.4921 128.873 Q66.3208 132.415 69.9319 132.415 Q73.5661 132.415 75.3717 128.873 Q77.2004 125.308 77.2004 118.202 Q77.2004 111.072 75.3717 107.531 Q73.5661 103.966 69.9319 103.966 M69.9319 100.262 Q75.742 100.262 78.7976 104.869 Q81.8763 109.452 81.8763 118.202 Q81.8763 126.929 78.7976 131.535 Q75.742 136.119 69.9319 136.119 Q64.1217 136.119 61.043 131.535 Q57.9875 126.929 57.9875 118.202 Q57.9875 109.452 61.043 104.869 Q64.1217 100.262 69.9319 100.262 Z\" fill=\"#000000\" fill-rule=\"nonzero\" fill-opacity=\"1\" /><path clip-path=\"url(#clip090)\" d=\"M90.0938 129.568 L94.978 129.568 L94.978 135.447 L90.0938 135.447 L90.0938 129.568 Z\" fill=\"#000000\" fill-rule=\"nonzero\" fill-opacity=\"1\" /><path clip-path=\"url(#clip090)\" d=\"M115.163 103.966 Q111.552 103.966 109.723 107.531 Q107.918 111.072 107.918 118.202 Q107.918 125.308 109.723 128.873 Q111.552 132.415 115.163 132.415 Q118.797 132.415 120.603 128.873 Q122.432 125.308 122.432 118.202 Q122.432 111.072 120.603 107.531 Q118.797 103.966 115.163 103.966 M115.163 100.262 Q120.973 100.262 124.029 104.869 Q127.107 109.452 127.107 118.202 Q127.107 126.929 124.029 131.535 Q120.973 136.119 115.163 136.119 Q109.353 136.119 106.274 131.535 Q103.219 126.929 103.219 118.202 Q103.219 109.452 106.274 104.869 Q109.353 100.262 115.163 100.262 Z\" fill=\"#000000\" fill-rule=\"nonzero\" fill-opacity=\"1\" /><path clip-path=\"url(#clip090)\" d=\"M134.144 100.887 L156.367 100.887 L156.367 102.878 L143.82 135.447 L138.936 135.447 L150.742 104.822 L134.144 104.822 L134.144 100.887 Z\" fill=\"#000000\" fill-rule=\"nonzero\" fill-opacity=\"1\" /><path clip-path=\"url(#clip090)\" d=\"M165.533 100.887 L183.89 100.887 L183.89 104.822 L169.816 104.822 L169.816 113.295 Q170.834 112.947 171.853 112.785 Q172.871 112.6 173.89 112.6 Q179.677 112.6 183.056 115.771 Q186.436 118.943 186.436 124.359 Q186.436 129.938 182.964 133.04 Q179.491 136.119 173.172 136.119 Q170.996 136.119 168.728 135.748 Q166.482 135.378 164.075 134.637 L164.075 129.938 Q166.158 131.072 168.38 131.628 Q170.603 132.183 173.079 132.183 Q177.084 132.183 179.422 130.077 Q181.76 127.97 181.76 124.359 Q181.76 120.748 179.422 118.642 Q177.084 116.535 173.079 116.535 Q171.204 116.535 169.329 116.952 Q167.478 117.369 165.533 118.248 L165.533 100.887 Z\" fill=\"#000000\" fill-rule=\"nonzero\" fill-opacity=\"1\" /><path clip-path=\"url(#clip090)\" d=\"M68.9365 40.6414 Q65.3254 40.6414 63.4967 44.2062 Q61.6912 47.7478 61.6912 54.8774 Q61.6912 61.9839 63.4967 65.5487 Q65.3254 69.0903 68.9365 69.0903 Q72.5707 69.0903 74.3763 65.5487 Q76.205 61.9839 76.205 54.8774 Q76.205 47.7478 74.3763 44.2062 Q72.5707 40.6414 68.9365 40.6414 M68.9365 36.9377 Q74.7467 36.9377 77.8022 41.5442 Q80.8809 46.1275 80.8809 54.8774 Q80.8809 63.6042 77.8022 68.2107 Q74.7467 72.794 68.9365 72.794 Q63.1264 72.794 60.0477 68.2107 Q56.9921 63.6042 56.9921 54.8774 Q56.9921 46.1275 60.0477 41.5442 Q63.1264 36.9377 68.9365 36.9377 Z\" fill=\"#000000\" fill-rule=\"nonzero\" fill-opacity=\"1\" /><path clip-path=\"url(#clip090)\" d=\"M89.0984 66.2431 L93.9827 66.2431 L93.9827 72.1227 L89.0984 72.1227 L89.0984 66.2431 Z\" fill=\"#000000\" fill-rule=\"nonzero\" fill-opacity=\"1\" /><path clip-path=\"url(#clip090)\" d=\"M104.978 68.1875 L112.617 68.1875 L112.617 41.8219 L104.307 43.4886 L104.307 39.2293 L112.571 37.5627 L117.246 37.5627 L117.246 68.1875 L124.885 68.1875 L124.885 72.1227 L104.978 72.1227 L104.978 68.1875 Z\" fill=\"#000000\" fill-rule=\"nonzero\" fill-opacity=\"1\" /><path clip-path=\"url(#clip090)\" d=\"M144.33 40.6414 Q140.719 40.6414 138.89 44.2062 Q137.084 47.7478 137.084 54.8774 Q137.084 61.9839 138.89 65.5487 Q140.719 69.0903 144.33 69.0903 Q147.964 69.0903 149.769 65.5487 Q151.598 61.9839 151.598 54.8774 Q151.598 47.7478 149.769 44.2062 Q147.964 40.6414 144.33 40.6414 M144.33 36.9377 Q150.14 36.9377 153.195 41.5442 Q156.274 46.1275 156.274 54.8774 Q156.274 63.6042 153.195 68.2107 Q150.14 72.794 144.33 72.794 Q138.519 72.794 135.441 68.2107 Q132.385 63.6042 132.385 54.8774 Q132.385 46.1275 135.441 41.5442 Q138.519 36.9377 144.33 36.9377 Z\" fill=\"#000000\" fill-rule=\"nonzero\" fill-opacity=\"1\" /><path clip-path=\"url(#clip090)\" d=\"M174.491 40.6414 Q170.88 40.6414 169.052 44.2062 Q167.246 47.7478 167.246 54.8774 Q167.246 61.9839 169.052 65.5487 Q170.88 69.0903 174.491 69.0903 Q178.126 69.0903 179.931 65.5487 Q181.76 61.9839 181.76 54.8774 Q181.76 47.7478 179.931 44.2062 Q178.126 40.6414 174.491 40.6414 M174.491 36.9377 Q180.302 36.9377 183.357 41.5442 Q186.436 46.1275 186.436 54.8774 Q186.436 63.6042 183.357 68.2107 Q180.302 72.794 174.491 72.794 Q168.681 72.794 165.603 68.2107 Q162.547 63.6042 162.547 54.8774 Q162.547 46.1275 165.603 41.5442 Q168.681 36.9377 174.491 36.9377 Z\" fill=\"#000000\" fill-rule=\"nonzero\" fill-opacity=\"1\" /><polyline clip-path=\"url(#clip092)\" style=\"stroke:#009af9; stroke-linecap:round; stroke-linejoin:round; stroke-width:4; stroke-opacity:1; fill:none\" points=\"231.275,54.8427 232.17,57.3631 233.064,59.8583 233.959,62.3288 234.854,64.7747 235.748,67.1962 236.643,69.5936 237.538,71.9672 238.432,74.3172 239.327,76.6438 240.222,78.9472 241.116,81.2277 242.011,83.4855 242.905,85.7209 243.8,87.934 244.695,90.1251 245.589,92.2944 246.484,94.4421 247.379,96.5684 248.273,98.6736 249.168,100.758 250.063,102.821 250.957,104.864 251.852,106.887 252.747,108.889 253.641,110.872 254.536,112.835 255.43,114.778 256.325,116.702 257.22,118.607 258.114,120.493 259.009,122.36 259.904,124.209 260.798,126.039 261.693,127.851 262.588,129.645 263.482,131.421 264.377,133.179 265.272,134.92 266.166,136.644 267.061,138.35 267.955,140.039 268.85,141.712 269.745,143.368 270.639,145.008 271.534,146.631 272.429,148.238 273.323,149.829 274.218,151.404 275.113,152.964 276.007,154.508 276.902,156.036 277.796,157.55 278.691,159.048 279.586,160.532 280.48,162 281.375,163.455 282.27,164.894 283.164,166.32 284.059,167.731 284.954,169.128 285.848,170.511 286.743,171.88 287.638,173.236 288.532,174.579 289.427,175.908 290.321,177.223 291.216,178.526 292.111,179.816 293.005,181.093 293.9,182.357 294.795,183.608 295.689,184.847 296.584,186.074 297.479,187.289 298.373,188.491 299.268,189.682 300.163,190.86 301.057,192.027 301.952,193.183 302.846,194.327 303.741,195.459 304.636,196.58 305.53,197.69 306.425,198.789 307.32,199.877 308.214,200.955 309.109,202.021 310.004,203.077 310.898,204.122 311.793,205.157 312.688,206.182 313.582,207.197 314.477,208.201 315.371,209.195 316.266,210.18 317.161,211.155 318.055,212.12 318.95,213.075 319.845,214.021 320.739,214.958 321.634,215.885 322.529,216.803 323.423,217.712 324.318,218.611 325.212,219.502 326.107,220.384 327.002,221.257 327.896,222.122 328.791,222.978 329.686,223.825 330.58,224.664 331.475,225.495 332.37,226.317 333.264,227.131 334.159,227.937 335.054,228.735 335.948,229.525 336.843,230.308 337.737,231.082 338.632,231.849 339.527,232.608 340.421,233.36 341.316,234.104 342.211,234.84 343.105,235.57 344,236.292 344.895,237.007 345.789,237.714 346.684,238.415 347.579,239.109 348.473,239.796 349.368,240.476 350.262,241.149 351.157,241.816 352.052,242.476 352.946,243.129 353.841,243.776 354.736,244.416 355.63,245.05 356.525,245.678 357.42,246.3 358.314,246.915 359.209,247.524 360.104,248.127 360.998,248.725 361.893,249.316 362.787,249.901 363.682,250.481 364.577,251.054 365.471,251.622 366.366,252.185 367.261,252.741 368.155,253.293 369.05,253.838 369.945,254.379 370.839,254.914 371.734,255.443 372.628,255.968 373.523,256.487 374.418,257.001 375.312,257.51 376.207,258.013 377.102,258.512 377.996,259.006 378.891,259.495 379.786,259.979 380.68,260.458 381.575,260.933 382.47,261.402 383.364,261.867 384.259,262.328 385.153,262.784 386.048,263.235 386.943,263.682 387.837,264.124 388.732,264.562 389.627,264.996 390.521,265.425 391.416,265.85 392.311,266.271 393.205,266.687 394.1,267.1 394.995,267.508 395.889,267.913 396.784,268.313 397.678,268.709 398.573,269.102 399.468,269.49 400.362,269.875 401.257,270.255 402.152,270.632 403.046,271.006 403.941,271.375 404.836,271.741 405.73,272.103 406.625,272.462 407.52,272.817 408.414,273.168 409.309,273.516 410.203,273.861 411.098,274.202 411.993,274.539 412.887,274.874 413.782,275.205 414.677,275.532 415.571,275.857 416.466,276.178 417.361,276.496 418.255,276.811 419.15,277.123 420.044,277.431 420.939,277.737 421.834,278.04 422.728,278.339 423.623,278.636 424.518,278.929 425.412,279.22 426.307,279.508 427.202,279.792 428.096,280.075 428.991,280.354 429.886,280.63 430.78,280.904 431.675,281.175 432.569,281.443 433.464,281.709 434.359,281.972 435.253,282.232 436.148,282.49 437.043,282.745 437.937,282.998 438.832,283.248 439.727,283.496 440.621,283.741 441.516,283.984 442.411,284.224 443.305,284.462 444.2,284.698 445.094,284.931 445.989,285.162 446.884,285.391 447.778,285.617 448.673,285.841 449.568,286.063 450.462,286.283 451.357,286.5 452.252,286.716 453.146,286.929 454.041,287.14 454.936,287.349 455.83,287.556 456.725,287.761 457.619,287.963 458.514,288.164 459.409,288.363 460.303,288.56 461.198,288.754 462.093,288.947 462.987,289.138 463.882,289.327 464.777,289.515 465.671,289.7 466.566,289.883 467.46,290.065 468.355,290.245 469.25,290.423 470.144,290.599 471.039,290.774 471.934,290.947 472.828,291.118 473.723,291.287 474.618,291.455 475.512,291.621 476.407,291.785 477.302,291.948 478.196,292.109 479.091,292.269 479.985,292.427 480.88,292.583 481.775,292.738 482.669,292.891 483.564,293.043 484.459,293.193 485.353,293.342 486.248,293.489 487.143,293.635 488.037,293.779 488.932,293.922 489.827,294.063 490.721,294.203 491.616,294.342 492.51,294.479 493.405,294.615 494.3,294.75 495.194,294.883 496.089,295.015 496.984,295.146 497.878,295.275 498.773,295.403 499.668,295.53 500.562,295.655 501.457,295.78 502.352,295.903 503.246,296.024 504.141,296.145 505.035,296.264 505.93,296.382 506.825,296.499 507.719,296.615 508.614,296.73 509.509,296.843 510.403,296.956 511.298,297.067 512.193,297.177 513.087,297.286 513.982,297.394 514.876,297.501 515.771,297.607 516.666,297.712 517.56,297.816 518.455,297.919 519.35,298.02 520.244,298.121 521.139,298.221 522.034,298.319 522.928,298.417 523.823,298.514 524.718,298.61 525.612,298.704 526.507,298.798 527.401,298.891 528.296,298.983 529.191,299.074 530.085,299.165 530.98,299.254 531.875,299.342 532.769,299.43 533.664,299.517 534.559,299.602 535.453,299.687 536.348,299.772 537.243,299.855 538.137,299.937 539.032,300.019 539.926,300.1 540.821,300.18 541.716,300.259 542.61,300.337 543.505,300.415 544.4,300.492 545.294,300.568 546.189,300.643 547.084,300.718 547.978,300.792 548.873,300.865 549.768,300.937 550.662,301.009 551.557,301.08 552.451,301.15 553.346,301.22 554.241,301.289 555.135,301.357 556.03,301.424 556.925,301.491 557.819,301.557 558.714,301.623 559.609,301.688 560.503,301.752 561.398,301.815 562.292,301.878 563.187,301.941 564.082,302.002 564.976,302.063 565.871,302.124 566.766,302.184 567.66,302.243 568.555,302.302 569.45,302.36 570.344,302.417 571.239,302.474 572.134,302.531 573.028,302.587 573.923,302.642 574.817,302.696 575.712,302.751 576.607,302.804 577.501,302.857 578.396,302.91 579.291,302.962 580.185,303.014 581.08,303.065 581.975,303.115 582.869,303.165 583.764,303.215 584.659,303.264 585.553,303.312 586.448,303.36 587.342,303.408 588.237,303.455 589.132,303.501 590.026,303.548 590.921,303.593 591.816,303.639 592.71,303.683 593.605,303.728 594.5,303.772 595.394,303.815 596.289,303.858 597.184,303.901 598.078,303.943 598.973,303.985 599.867,304.026 600.762,304.067 601.657,304.108 602.551,304.148 603.446,304.187 604.341,304.227 605.235,304.266 606.13,304.304 607.025,304.342 607.919,304.38 608.814,304.418 609.708,304.455 610.603,304.491 611.498,304.528 612.392,304.564 613.287,304.599 614.182,304.634 615.076,304.669 615.971,304.704 616.866,304.738 617.76,304.772 618.655,304.805 619.55,304.839 620.444,304.872 621.339,304.904 622.233,304.936 623.128,304.968 624.023,305 624.917,305.031 625.812,305.062 626.707,305.093 627.601,305.123 628.496,305.153 629.391,305.183 630.285,305.212 631.18,305.241 632.075,305.27 632.969,305.299 633.864,305.327 634.758,305.355 635.653,305.383 636.548,305.41 637.442,305.437 638.337,305.464 639.232,305.491 640.126,305.517 641.021,305.543 641.916,305.569 642.81,305.595 643.705,305.62 644.6,305.645 645.494,305.67 646.389,305.694 647.283,305.719 648.178,305.743 649.073,305.767 649.967,305.79 650.862,305.814 651.757,305.837 652.651,305.86 653.546,305.883 654.441,305.905 655.335,305.927 656.23,305.949 657.124,305.971 658.019,305.993 658.914,306.014 659.808,306.035 660.703,306.056 661.598,306.077 662.492,306.097 663.387,306.118 664.282,306.138 665.176,306.158 666.071,306.178 666.966,306.197 667.86,306.216 668.755,306.236 669.649,306.255 670.544,306.273 671.439,306.292 672.333,306.31 673.228,306.329 674.123,306.347 675.017,306.364 675.912,306.382 676.807,306.4 677.701,306.417 678.596,306.434 679.491,306.451 680.385,306.468 681.28,306.485 682.174,306.501 683.069,306.517 683.964,306.533 684.858,306.549 685.753,306.565 686.648,306.581 687.542,306.596 688.437,306.612 689.332,306.627 690.226,306.642 691.121,306.657 692.016,306.672 692.91,306.686 693.805,306.701 694.699,306.715 695.594,306.729 696.489,306.743 697.383,306.757 698.278,306.771 699.173,306.785 700.067,306.798 700.962,306.812 701.857,306.825 702.751,306.838 703.646,306.851 704.54,306.864 705.435,306.876 706.33,306.889 707.224,306.901 708.119,306.914 709.014,306.926 709.908,306.938 710.803,306.95 711.698,306.962 712.592,306.974 713.487,306.985 714.382,306.997 715.276,307.008 716.171,307.019 717.065,307.031 717.96,307.042 718.855,307.053 719.749,307.063 720.644,307.074 721.539,307.085 722.433,307.095 723.328,307.106 724.223,307.116 725.117,307.126 726.012,307.136 726.907,307.146 727.801,307.156 728.696,307.166 729.59,307.176 730.485,307.185 731.38,307.195 732.274,307.204 733.169,307.213 734.064,307.223 734.958,307.232 735.853,307.241 736.748,307.25 737.642,307.259 738.537,307.267 739.432,307.276 740.326,307.285 741.221,307.293 742.115,307.302 743.01,307.31 743.905,307.318 744.799,307.326 745.694,307.335 746.589,307.343 747.483,307.351 748.378,307.358 749.273,307.366 750.167,307.374 751.062,307.382 751.956,307.389 752.851,307.397 753.746,307.404 754.64,307.411 755.535,307.419 756.43,307.426 757.324,307.433 758.219,307.44 759.114,307.447 760.008,307.454 760.903,307.461 761.798,307.467 762.692,307.474 763.587,307.481 764.481,307.487 765.376,307.494 766.271,307.5 767.165,307.507 768.06,307.513 768.955,307.519 769.849,307.525 770.744,307.531 771.639,307.538 772.533,307.544 773.428,307.549 774.323,307.555 775.217,307.561 776.112,307.567 777.006,307.573 777.901,307.578 778.796,307.584 779.69,307.589 780.585,307.595 781.48,307.6 782.374,307.606 783.269,307.611 784.164,307.616 785.058,307.622 785.953,307.627 786.848,307.632 787.742,307.637 788.637,307.642 789.531,307.647 790.426,307.652 791.321,307.657 792.215,307.661 793.11,307.666 794.005,307.671 794.899,307.676 795.794,307.68 796.689,307.685 797.583,307.689 798.478,307.694 799.372,307.698 800.267,307.703 801.162,307.707 802.056,307.711 802.951,307.716 803.846,307.72 804.74,307.724 805.635,307.728 806.53,307.732 807.424,307.736 808.319,307.74 809.214,307.744 810.108,307.748 811.003,307.752 811.897,307.756 812.792,307.76 813.687,307.764 814.581,307.767 815.476,307.771 816.371,307.775 817.265,307.779 818.16,307.782 819.055,307.786 819.949,307.789 820.844,307.793 821.739,307.796 822.633,307.8 823.528,307.803 824.422,307.806 825.317,307.81 826.212,307.813 827.106,307.816 828.001,307.819 828.896,307.823 829.79,307.826 830.685,307.829 831.58,307.832 832.474,307.835 833.369,307.838 834.264,307.841 835.158,307.844 836.053,307.847 836.947,307.85 837.842,307.853 838.737,307.856 839.631,307.859 840.526,307.861 841.421,307.864 842.315,307.867 843.21,307.87 844.105,307.872 844.999,307.875 845.894,307.878 846.789,307.88 847.683,307.883 848.578,307.886 849.472,307.888 850.367,307.891 851.262,307.893 852.156,307.896 853.051,307.898 853.946,307.9 854.84,307.903 855.735,307.905 856.63,307.907 857.524,307.91 858.419,307.912 859.313,307.914 860.208,307.917 861.103,307.919 861.997,307.921 862.892,307.923 863.787,307.925 864.681,307.928 865.576,307.93 866.471,307.932 867.365,307.934 868.26,307.936 869.155,307.938 870.049,307.94 870.944,307.942 871.838,307.944 872.733,307.946 873.628,307.948 874.522,307.95 875.417,307.952 876.312,307.954 877.206,307.955 878.101,307.957 878.996,307.959 879.89,307.961 880.785,307.963 881.68,307.964 882.574,307.966 883.469,307.968 884.363,307.97 885.258,307.971 886.153,307.973 887.047,307.975 887.942,307.976 888.837,307.978 889.731,307.98 890.626,307.981 891.521,307.983 892.415,307.984 893.31,307.986 894.205,307.987 895.099,307.989 895.994,307.991 896.888,307.992 897.783,307.993 898.678,307.995 899.572,307.996 900.467,307.998 901.362,307.999 902.256,308.001 903.151,308.002 904.046,308.003 904.94,308.005 905.835,308.006 906.729,308.008 907.624,308.009 908.519,308.01 909.413,308.011 910.308,308.013 911.203,308.014 912.097,308.015 912.992,308.017 913.887,308.018 914.781,308.019 915.676,308.02 916.571,308.021 917.465,308.023 918.36,308.024 919.254,308.025 920.149,308.026 921.044,308.027 921.938,308.028 922.833,308.029 923.728,308.031 924.622,308.032 925.517,308.033 926.412,308.034 927.306,308.035 928.201,308.036 929.096,308.037 929.99,308.038 930.885,308.039 931.779,308.04 932.674,308.041 933.569,308.042 934.463,308.043 935.358,308.044 936.253,308.045 937.147,308.046 938.042,308.047 938.937,308.048 939.831,308.049 940.726,308.05 941.621,308.051 942.515,308.051 943.41,308.052 944.304,308.053 945.199,308.054 946.094,308.055 946.988,308.056 947.883,308.057 948.778,308.057 949.672,308.058 950.567,308.059 951.462,308.06 952.356,308.061 953.251,308.062 954.145,308.062 955.04,308.063 955.935,308.064 956.829,308.065 957.724,308.065 958.619,308.066 959.513,308.067 960.408,308.068 961.303,308.068 962.197,308.069 963.092,308.07 963.987,308.071 964.881,308.071 965.776,308.072 966.67,308.073 967.565,308.073 968.46,308.074 969.354,308.075 970.249,308.075 971.144,308.076 972.038,308.077 972.933,308.077 973.828,308.078 974.722,308.078 975.617,308.079 976.512,308.08 977.406,308.08 978.301,308.081 979.195,308.081 980.09,308.082 980.985,308.083 981.879,308.083 982.774,308.084 983.669,308.084 984.563,308.085 985.458,308.086 986.353,308.086 987.247,308.087 988.142,308.087 989.037,308.088 989.931,308.088 990.826,308.089 991.72,308.089 992.615,308.09 993.51,308.09 994.404,308.091 995.299,308.091 996.194,308.092 997.088,308.092 997.983,308.093 998.878,308.093 999.772,308.094 1000.67,308.094 1001.56,308.095 1002.46,308.095 1003.35,308.096 1004.25,308.096 1005.14,308.096 1006.03,308.097 1006.93,308.097 1007.82,308.098 1008.72,308.098 1009.61,308.099 1010.51,308.099 1011.4,308.099 1012.3,308.1 1013.19,308.1 1014.09,308.101 1014.98,308.101 1015.88,308.101 1016.77,308.102 1017.67,308.102 1018.56,308.103 1019.45,308.103 1020.35,308.103 1021.24,308.104 1022.14,308.104 1023.03,308.104 1023.93,308.105 1024.82,308.105 1025.72,308.106 1026.61,308.106 1027.51,308.106 1028.4,308.107 1029.3,308.107 1030.19,308.107 1031.08,308.108 1031.98,308.108 1032.87,308.108 1033.77,308.109 1034.66,308.109 1035.56,308.109 1036.45,308.11 1037.35,308.11 1038.24,308.11 1039.14,308.11 1040.03,308.111 1040.93,308.111 1041.82,308.111 1042.71,308.112 1043.61,308.112 1044.5,308.112 1045.4,308.112 1046.29,308.113 1047.19,308.113 1048.08,308.113 1048.98,308.114 1049.87,308.114 1050.77,308.114 1051.66,308.114 1052.56,308.115 1053.45,308.115 1054.35,308.115 1055.24,308.115 1056.13,308.116 1057.03,308.116 1057.92,308.116 1058.82,308.116 1059.71,308.117 1060.61,308.117 1061.5,308.117 1062.4,308.117 1063.29,308.118 1064.19,308.118 1065.08,308.118 1065.98,308.118 1066.87,308.119 1067.76,308.119 1068.66,308.119 1069.55,308.119 1070.45,308.119 1071.34,308.12 1072.24,308.12 1073.13,308.12 1074.03,308.12 1074.92,308.12 1075.82,308.121 1076.71,308.121 1077.61,308.121 1078.5,308.121 1079.4,308.121 1080.29,308.122 1081.18,308.122 1082.08,308.122 1082.97,308.122 1083.87,308.122 1084.76,308.123 1085.66,308.123 1086.55,308.123 1087.45,308.123 1088.34,308.123 1089.24,308.123 1090.13,308.124 1091.03,308.124 1091.92,308.124 1092.81,308.124 1093.71,308.124 1094.6,308.124 1095.5,308.125 1096.39,308.125 1097.29,308.125 1098.18,308.125 1099.08,308.125 1099.97,308.125 1100.87,308.126 1101.76,308.126 1102.66,308.126 1103.55,308.126 1104.45,308.126 1105.34,308.126 1106.23,308.126 1107.13,308.127 1108.02,308.127 1108.92,308.127 1109.81,308.127 1110.71,308.127 1111.6,308.127 1112.5,308.127 1113.39,308.128 1114.29,308.128 1115.18,308.128 1116.08,308.128 1116.97,308.128 1117.86,308.128 1118.76,308.128 1119.65,308.128 1120.55,308.129 1121.44,308.129 1122.34,308.129 1123.23,308.129 1124.13,308.129 1125.02,308.129 1125.92,308.129 \"/>\n",
       "<path clip-path=\"url(#clip090)\" d=\"M973.883 159.874 L1121.15 159.874 L1121.15 56.1936 L973.883 56.1936  Z\" fill=\"#ffffff\" fill-rule=\"evenodd\" fill-opacity=\"1\"/>\n",
       "<polyline clip-path=\"url(#clip090)\" style=\"stroke:#000000; stroke-linecap:round; stroke-linejoin:round; stroke-width:4; stroke-opacity:1; fill:none\" points=\"973.883,159.874 1121.15,159.874 1121.15,56.1936 973.883,56.1936 973.883,159.874 \"/>\n",
       "<polyline clip-path=\"url(#clip090)\" style=\"stroke:#009af9; stroke-linecap:round; stroke-linejoin:round; stroke-width:4; stroke-opacity:1; fill:none\" points=\"984.42,108.034 1047.64,108.034 \"/>\n",
       "<path clip-path=\"url(#clip090)\" d=\"M1072.02 127.721 Q1070.22 132.351 1068.5 133.763 Q1066.79 135.175 1063.92 135.175 L1060.52 135.175 L1060.52 131.61 L1063.02 131.61 Q1064.78 131.61 1065.75 130.776 Q1066.72 129.943 1067.9 126.841 L1068.66 124.897 L1058.18 99.3878 L1062.69 99.3878 L1070.79 119.665 L1078.9 99.3878 L1083.41 99.3878 L1072.02 127.721 Z\" fill=\"#000000\" fill-rule=\"nonzero\" fill-opacity=\"1\" /><path clip-path=\"url(#clip090)\" d=\"M1090.7 121.378 L1098.34 121.378 L1098.34 95.0128 L1090.03 96.6794 L1090.03 92.4202 L1098.29 90.7536 L1102.97 90.7536 L1102.97 121.378 L1110.61 121.378 L1110.61 125.314 L1090.7 125.314 L1090.7 121.378 Z\" fill=\"#000000\" fill-rule=\"nonzero\" fill-opacity=\"1\" /></svg>\n"
      ]
     },
     "execution_count": 33,
     "metadata": {},
     "output_type": "execute_result"
    }
   ],
   "source": [
    "xs = 0:0.1:100\n",
    "lam =0.1\n",
    "plot(xs, lam.*exp.(-lam.*xs), size=(300,100))"
   ]
  },
  {
   "cell_type": "code",
   "execution_count": null,
   "metadata": {},
   "outputs": [],
   "source": [
    "#nbx\n",
    "\"\"\"\n",
    "    log_ps, ptw = sensor_logpdf_1d(z, ỹ, w̃, sig, outlier, outlier_vol; return_pointwise=false)\n",
    "\n",
    "Evaluates an depth measurement `z` under the 2dp3 likelihood with <br/>\n",
    "a family of 1d mixture components `ỹ` and their weights ` w̃` and <br/>\n",
    "parameters `sig`, `outlier`, and `outlier_vol`.\n",
    "\n",
    "Arguments:\n",
    "    - `z`:  Depth measurements `(n,)`\n",
    "    - `w̃`: Family of mixture components `(k,n,m)`\n",
    "    - `ỹ`: Family of mixture components `(k,n,m)`\n",
    "    - ...\n",
    "\n",
    "Returns:\n",
    "    - `log_ps`: Log-probs `(k,)`\n",
    "    - `ptw`:    Pointwise log-probs for each observation point `(k,n)`\n",
    "    - `outliermap`: `(k,n)`\n",
    "\"\"\"\n",
    "function sensor_logpdf_1d(z, ỹ, w̃, sig, outlier, lam, zmax; return_pointwise=false, return_outliermap=false)\n",
    "    \n",
    "    log_ps = gaussian_logpdf(z, ỹ, sig)\n",
    "    # truncate at zero\n",
    "    log_ps = log_ps - log.(1 .- gaussian_cdf(0.0, ỹ, sig))\n",
    "    # mixture over last axis\n",
    "    log_ps = logsumexp_slice(log_ps .+ w̃, dims=3)\n",
    "\n",
    "    # prob_out = 1.0 ./ zmax\n",
    "    prob_out = lam .* exp.(-lam.*z)\n",
    "    log_out = log(lam) .- lam.*z\n",
    "\n",
    "    outliermap = nothing\n",
    "    if return_outliermap\n",
    "        outliermap = (1 .- outlier).*exp.(log_ps) .< outlier .* exp(log_out)\n",
    "        outliermap = (1 .- outlier)/outlier * exp(log_ps)/exp(log_out) .< 1 \n",
    "        outliermap = log(1 .- outlier) - log(outlier)  + log_ps .< log_out\n",
    "    end\n",
    "    log_ps = log.((1 .- outlier).*exp.(log_ps) .+ outlier .* exp(log_out))\n",
    "\n",
    "    ptw = nothing\n",
    "    if return_pointwise\n",
    "        ptw = dropdims(log_ps, dims=3)\n",
    "    end\n",
    "\n",
    "    log_ps = sum(log_ps, dims=2)\n",
    "    log_ps = dropdims(log_ps, dims=(2,3))\n",
    "\n",
    "    return log_ps, ptw\n",
    "end;\n",
    "# Todo: We still have to truncate at zero. This is a distribution over the whole reals, including negative depths."
   ]
  },
  {
   "cell_type": "code",
   "execution_count": null,
   "metadata": {},
   "outputs": [],
   "source": [
    "t = 1_050\n",
    "# -----------------\n",
    "mypl = plot(size=(200,200), aspect_ratio=:equal, legend=nothing)\n",
    "scatter!(_ys_inf[t], markerstrokewidth=0)"
   ]
  },
  {
   "cell_type": "code",
   "execution_count": null,
   "metadata": {},
   "outputs": [],
   "source": [
    "zs_ = CuArray(stack([_zs[t]]))\n",
    "as_ = CuArray(_as);\n",
    "\n",
    "w           = 20\n",
    "sig         = 0.1\n",
    "outlier     = 0.1\n",
    "outlier_vol = 100.\n",
    "\n",
    "ys_tilde_1d_, ws_tilde_1d_ = get_1d_mixture_components(zs_, as_, w, sig,\n",
    "                                 wrap=false, fill=true, fill_val_z=Inf, fill_val_a = Inf);\n",
    "log_p, ptw = sensor_logpdf_1d(zs_, ys_tilde_1d_, ws_tilde_1d_, sig, outlier, outlier_vol; return_pointwise=true);\n",
    "\n",
    "println(size(ys_tilde_1d_), size(ws_tilde_1d_))\n",
    "\n",
    "zs  = repeat(range(0.,10.,50), 1, 361)\n",
    "zs_ = CuArray(zs)\n",
    "log_p, ptw = sensor_logpdf_1d(zs_, ys_tilde_1d_, ws_tilde_1d_, sig, outlier, outlier_vol; return_pointwise=true);\n",
    "\n",
    "\n",
    "# ----------------\n",
    "mypl = plot(size=(450,450), aspect_ratio=:equal)\n",
    "scatter!(_ys_inf[t], markerstrokewidth=0)\n",
    "x = Vector{Float64}[]\n",
    "v = Float64[]\n",
    "for i=1:2:361\n",
    "    x = vcat(x, [polar_inv(z,_as[i]) for z in zs[:,i]])\n",
    "    v = vcat(v, ptw[:,i])\n",
    "end\n",
    "println(minimum(v))\n",
    "perm = sortperm(v)\n",
    "scatter!(x[perm], zcolor=v[perm], color=:viridis, markerstrokewidth=0, markersize=2)\n",
    "mypl"
   ]
  },
  {
   "cell_type": "code",
   "execution_count": null,
   "metadata": {},
   "outputs": [],
   "source": [
    "mu = logsumexp(ys_tilde_1d_ + ws_tilde_1d_, dims=3)[1,:,1]\n",
    "mu = Array(mu)\n",
    "# --------------------\n",
    "mypl = plot(size=(600,250), aspect_ratio=:equal, legend=nothing, title=\"Mean measurement\")\n",
    "scatter!(_ys_inf[t], c=col[1], markerstrokewidth=0, markersize=5)\n",
    "scatter!(polar_inv(mu, _as), c=:magenta, markerstrokewidth=1, markersize=3)"
   ]
  },
  {
   "attachments": {},
   "cell_type": "markdown",
   "metadata": {},
   "source": [
    "### Distribution"
   ]
  },
  {
   "cell_type": "code",
   "execution_count": null,
   "metadata": {},
   "outputs": [],
   "source": [
    "#nbx\n",
    "struct SensorDistribution1d_CUDA <: Distribution{Vector{Float64}}\n",
    "end\n",
    "\n",
    "\"\"\"\n",
    "    z::Vector{Float64} = sensordist1d_cu(ỹ, w̃, sig, outlier, outlier_vol=1.0)\n",
    "\n",
    "Restricted distribution from the 2dp3-likelihood. \n",
    "Takes 1d-mixture components `ỹ` and their weights `w̃`,  and \n",
    "samples a vector `z` of depth values.\n",
    "\n",
    "Arguments:\n",
    " - `ỹ`: 1d-mixture components `(n,m)`\n",
    " - `w̃`: 1d-mixture weights `(n,m)`\n",
    " - ...\n",
    "Returns:\n",
    " - `z`: Observation vector of depth values `(n,)`\n",
    "\"\"\"\n",
    "const sensordist1d_cu = SensorDistribution1d_CUDA()\n",
    "\n",
    "# Todo:\n",
    "function Gen.logpdf(::SensorDistribution1d_CUDA, z, ỹ_, w̃_, sig, outlier, outlier_vol=1.0)\n",
    "    n = size(ỹ, 1)\n",
    "    m = size(ỹ, 2)\n",
    "    \n",
    "    z_ = CuArray(z)\n",
    "    ỹ_ = reshape(ỹ_, 1, n, m) \n",
    "    w̃_ = reshape(w̃_, 1, n, m) \n",
    "    \n",
    "    log_p, = sensor_logpdf_1d(z_, ỹ_, w̃_, sig, outlier, outlier_vol) # CuArray of length 1\n",
    "    return CUDA.@allowscalar log_p[1]\n",
    "end\n",
    "\n",
    "function Gen.random(::SensorDistribution1d_CUDA, ỹ_, w̃_, sig, outlier, outlier_vol=1.0)\n",
    "    n = size(ỹ_,1)\n",
    "    m = size(ỹ_,2)\n",
    "    \n",
    "    # Sample an observation point cloud `x`\n",
    "    z = Float64[]\n",
    "    for i=1:n\n",
    "        if bernoulli(outlier)\n",
    "            # Todo: Change that to a uniform distribution using `zmax`.\n",
    "            z_i = Inf\n",
    "        else\n",
    "            j   = categorical(exp.(w̃_[i,:]) )\n",
    "            z_i = normal(ỹ_[i,j], sig)\n",
    "        end\n",
    "        push!(z, z_i)\n",
    "    end\n",
    "    \n",
    "    return z\n",
    "end\n",
    "\n",
    "(D::SensorDistribution1d_CUDA)(args...)             = Gen.random(D, args...)\n",
    "Gen.has_output_grad(::SensorDistribution1d_CUDA)    = false\n",
    "Gen.has_argument_grads(::SensorDistribution1d_CUDA) = (false, false);"
   ]
  },
  {
   "cell_type": "code",
   "execution_count": null,
   "metadata": {},
   "outputs": [],
   "source": [
    "t = 1_050\n",
    "\n",
    "zs_ = CuArray(stack([_zs[t]]))\n",
    "as_ = CuArray(_as);\n",
    "\n",
    "w           = 20\n",
    "sig         = 0.2\n",
    "outlier     = 0.1\n",
    "outlier_vol = 100.\n",
    "\n",
    "ỹ_, w̃_, = get_1d_mixture_components(zs_, as_, w, sig,\n",
    "                                    wrap=false, fill=true, fill_val_z=Inf, fill_val_a = Inf);\n",
    "ỹ, w̃ = Array(ỹ_), Array(w̃_)\n",
    "\n",
    "z = sensordist1d_cu(ỹ[1,:,:], w̃[1,:,:], sig, outlier, outlier_vol)\n",
    "\n",
    "# ----------------\n",
    "mypl = plot(size=(600,200))\n",
    "plot!(_zs[t], c=col[1], linewidth=12, alpha=0.25, label=\"Reference (Map)\")\n",
    "plot!(z, c=:magenta, marker=:o, markersize=2, label=\"Sample\")\n",
    "display(mypl)"
   ]
  },
  {
   "cell_type": "code",
   "execution_count": null,
   "metadata": {},
   "outputs": [],
   "source": [
    "# ----------------\n",
    "mypl = plot(size=(750,550), aspect_ratio=:equal, ylim=(-5,5))\n",
    "scatter!(_ys_inf[t], markerstrokewidth=0, c=col[1], markersize=5, label=\"Reference (Map)\")\n",
    "\n",
    "args = (\n",
    "    markersize=2, \n",
    "    alpha=1., \n",
    "    markerstrokewidth=1,\n",
    "    c=:magenta\n",
    ")\n",
    "step = 5\n",
    "scatter!(polar_inv(z[1:step:end], _as[1:step:end]); args..., label=\"Samples\")\n",
    "for i=1:30\n",
    "    z = sensordist1d_cu(ỹ[1,:,:], w̃[1,:,:], sig, outlier, outlier_vol)\n",
    "    scatter!(polar_inv(z[1:step:end], _as[1:step:end]); args..., label=nothing)\n",
    "end\n",
    "display(mypl)"
   ]
  },
  {
   "cell_type": "code",
   "execution_count": null,
   "metadata": {},
   "outputs": [],
   "source": []
  }
 ],
 "metadata": {
  "kernelspec": {
   "display_name": "Julia 1.8.3",
   "language": "julia",
   "name": "julia-1.8"
  },
  "language_info": {
   "file_extension": ".jl",
   "mimetype": "application/julia",
   "name": "julia",
   "version": "1.8.3"
  },
  "toc": {
   "base_numbering": 1,
   "nav_menu": {},
   "number_sections": true,
   "sideBar": true,
   "skip_h1_title": false,
   "title_cell": "Table of Contents",
   "title_sidebar": "Contents",
   "toc_cell": false,
   "toc_position": {},
   "toc_section_display": true,
   "toc_window_display": false
  }
 },
 "nbformat": 4,
 "nbformat_minor": 2
}
