{
 "cells": [
  {
   "cell_type": "code",
   "execution_count": 1,
   "id": "560ba0ef",
   "metadata": {},
   "outputs": [
    {
     "data": {
      "text/html": [
       "<style>.rendered_html.text_cell_render {max-width:700px; }</style>"
      ],
      "text/plain": [
       "HTML{String}(\"<style>.rendered_html.text_cell_render {max-width:700px; }</style>\")"
      ]
     },
     "metadata": {},
     "output_type": "display_data"
    }
   ],
   "source": [
    "display(HTML(\"<style>.rendered_html.text_cell_render {max-width:700px; }</style>\"));\n",
    "push!(LOAD_PATH, \"src\");"
   ]
  },
  {
   "cell_type": "code",
   "execution_count": 2,
   "id": "a6fcc647",
   "metadata": {},
   "outputs": [],
   "source": [
    "#nbx --fname=src/pose.jl\n",
    "using Colors, Plots\n",
    "col = palette(:default);\n",
    "using MyUtils"
   ]
  },
  {
   "cell_type": "code",
   "execution_count": 83,
   "id": "d020e0d5",
   "metadata": {},
   "outputs": [],
   "source": [
    "#nbx\n",
    "raw\"\"\"\n",
    "    Pose\n",
    "\n",
    "Encoding the pose of a 2d agent as \n",
    "a 2d-position `x` and its head direction `hd`.\n",
    "\"\"\"\n",
    "struct Pose\n",
    "    x::Vector{Float64}\n",
    "    hd::Float64\n",
    "end;\n",
    "Pose(x1,x2,hd) = Pose([x1;x2],hd)\n",
    "Pose() = Pose([0;0], 0)\n",
    "\n",
    "headdirection(p::Pose) = p.hd\n",
    "position(p::Pose) = p.x\n",
    "tuple(p::Pose) = (p.x, p.hd)\n",
    "MyUtils.angle(p::Pose) = p.hd\n",
    "\n",
    "Base.iterate(p::Pose) = iterate([p.x, p.hd])\n",
    "Base.iterate(p::Pose, state::Int) = iterate([p.x, p.hd], state)\n",
    "Base.getindex(p::Pose, i::Int) = [p.x, p.hd][i]\n",
    "Base.:(+)(p::Pose, x::Vector{Float64}) = Pose(p.x + x, p.hd)\n",
    "Base.:(+)(p::Pose, hd::Float64) = Pose(p.x, p.hd + hd)\n",
    "Base.broadcastable(p::Pose) = [p]\n",
    "\n",
    "export Pose, headdirection, position, tuple"
   ]
  },
  {
   "cell_type": "code",
   "execution_count": 82,
   "id": "7cc526d8",
   "metadata": {},
   "outputs": [],
   "source": [
    "#nbx\n",
    "raw\"\"\"\n",
    "    Mat(p::Pose)\n",
    "\n",
    "Matrix representation of pose `p`. \n",
    "Transforms from pose's coordinates to global coordinates\n",
    "\"\"\"\n",
    "Mat(p::Pose) = [rot(p.hd) p.x; [0 0 1]]\n",
    "\n",
    "raw\"\"\"\n",
    "    Inv(p::Pose)\n",
    "\n",
    "Transforms into pose's ``egocentric'' coordinate system.\n",
    "\"\"\"\n",
    "Inv(p::Pose) = [rot(-p.hd) -rot(-p.hd)*p.x; [0 0 1]]\n",
    "\n",
    "# Syntactic sugar\n",
    "Base.:(*)(x::Vector{Float64}, q::Pose) = rot( q.hd)*(x      ) + q.x\n",
    "Base.:(/)(x::Vector{Float64}, q::Pose) = rot(-q.hd)*(x - q.x)"
   ]
  },
  {
   "cell_type": "code",
   "execution_count": 70,
   "id": "89c08ffb",
   "metadata": {},
   "outputs": [
    {
     "data": {
      "text/plain": [
       "(true, true, true)"
      ]
     },
     "execution_count": 70,
     "metadata": {},
     "output_type": "execute_result"
    }
   ],
   "source": [
    "using LinearAlgebra: I\n",
    "\n",
    "p = Pose(rand(2), rand()*2π)\n",
    "x = rand(2)\n",
    "\n",
    "isapprox(Mat(p)*Inv(p), I(3)),\n",
    "isapprox(Mat(q)*[x;1], [x*q;1]),\n",
    "isapprox(Inv(q)*[x;1], [x/q;1])"
   ]
  },
  {
   "cell_type": "code",
   "execution_count": 71,
   "id": "76f5c495",
   "metadata": {},
   "outputs": [],
   "source": [
    "#nbx\n",
    "raw\"\"\"\n",
    "    p/q\n",
    "\n",
    "Interprets p and q in global coords and\n",
    "returns p in q's coordinate system\n",
    "\n",
    "On pose-matrix level this corresponds to\n",
    "```\n",
    "    Inv(q)*Mat(p)\n",
    "```\n",
    "\"\"\"\n",
    "function Base.:(/)(p::Pose, q::Pose) \n",
    "    x  = rot(-q.hd)*(p.x - q.x)\n",
    "    hd = p.hd - q.hd\n",
    "    return Pose(x, hd)\n",
    "end\n",
    "\n",
    "raw\"\"\"\n",
    "    p*q\n",
    "\n",
    "Interprets p as given in q's coords and\n",
    "returns its allocentric coords.\n",
    "\n",
    "On pose-matrix level this corresponds to\n",
    "```\n",
    "    Mat(q)*Mat(p)\n",
    "```\n",
    "\"\"\"\n",
    "function Base.:(*)(p::Pose, q::Pose) \n",
    "    x  = rot(q.hd)*(p.x) + q.x\n",
    "    hd = p.hd + q.hd\n",
    "    return Pose(x, hd)\n",
    "end;\n",
    "\n"
   ]
  },
  {
   "cell_type": "code",
   "execution_count": 73,
   "id": "ddaf10a1",
   "metadata": {},
   "outputs": [
    {
     "data": {
      "text/plain": [
       "(true, true, true, true)"
      ]
     },
     "execution_count": 73,
     "metadata": {},
     "output_type": "execute_result"
    }
   ],
   "source": [
    "p = Pose(rand(2), rand()*2π)\n",
    "q = Pose(rand(2), rand()*2π)\n",
    "\n",
    "isapprox(Mat(p/q), Inv(q)*Mat(p), atol=1e-8),\n",
    "isapprox(Mat(p*q), Mat(q)*Mat(p), atol=1e-8),\n",
    "isapprox((p/q*q).x , p.x , atol=1e-8),\n",
    "isapprox((p/q*q).hd, p.hd, atol=1e-8)"
   ]
  },
  {
   "cell_type": "code",
   "execution_count": 84,
   "id": "391bc548",
   "metadata": {},
   "outputs": [],
   "source": [
    "#nbx\n",
    "function Plots.scatter!(p::Pose; r=1., c=:red, args...)\n",
    "    x = p.x\n",
    "    hd = p.hd\n",
    "    scatter!([x[1]],[x[2]], label=nothing, markerstrokewidth=0.0; c=c, args...)\n",
    "    plot!([x[1],x[1] + r*cos(hd)], [x[2],x[2] + r*sin(hd)], label=nothing, linecolor=c; args...)\n",
    "end\n",
    "\n",
    "function Plots.plot!(p::Pose; r=0.5, n=30, args...)\n",
    "    x,y = p.x[1], p.x[2]\n",
    "    hd = p.hd\n",
    "    θs = range(0, 2π, n)\n",
    "    plot!(r*sin.(θs) .+ x, r*cos.(θs) .+ y,      label=nothing; args...)\n",
    "    plot!([x, x + r*cos(hd)],[y, y + r*sin(hd)], label=nothing; args...)\n",
    "end"
   ]
  },
  {
   "cell_type": "code",
   "execution_count": 79,
   "id": "05d4b18a",
   "metadata": {},
   "outputs": [
    {
     "data": {
      "image/svg+xml": [
       "<?xml version=\"1.0\" encoding=\"utf-8\"?>\n",
       "<svg xmlns=\"http://www.w3.org/2000/svg\" xmlns:xlink=\"http://www.w3.org/1999/xlink\" width=\"400\" height=\"200\" viewBox=\"0 0 1600 800\">\n",
       "<defs>\n",
       "  <clipPath id=\"clip900\">\n",
       "    <rect x=\"0\" y=\"0\" width=\"1600\" height=\"800\"/>\n",
       "  </clipPath>\n",
       "</defs>\n",
       "<path clip-path=\"url(#clip900)\" d=\"M0 800 L1600 800 L1600 0 L0 0  Z\" fill=\"#ffffff\" fill-rule=\"evenodd\" fill-opacity=\"1\"/>\n",
       "<defs>\n",
       "  <clipPath id=\"clip901\">\n",
       "    <rect x=\"320\" y=\"0\" width=\"1121\" height=\"800\"/>\n",
       "  </clipPath>\n",
       "</defs>\n",
       "<path clip-path=\"url(#clip900)\" d=\"M186.422 703.088 L1552.76 703.088 L1552.76 47.2441 L186.422 47.2441  Z\" fill=\"#ffffff\" fill-rule=\"evenodd\" fill-opacity=\"1\"/>\n",
       "<defs>\n",
       "  <clipPath id=\"clip902\">\n",
       "    <rect x=\"186\" y=\"47\" width=\"1367\" height=\"657\"/>\n",
       "  </clipPath>\n",
       "</defs>\n",
       "<polyline clip-path=\"url(#clip902)\" style=\"stroke:#000000; stroke-linecap:round; stroke-linejoin:round; stroke-width:2; stroke-opacity:0.1; fill:none\" points=\"349.109,703.088 349.109,47.2441 \"/>\n",
       "<polyline clip-path=\"url(#clip902)\" style=\"stroke:#000000; stroke-linecap:round; stroke-linejoin:round; stroke-width:2; stroke-opacity:0.1; fill:none\" points=\"659.378,703.088 659.378,47.2441 \"/>\n",
       "<polyline clip-path=\"url(#clip902)\" style=\"stroke:#000000; stroke-linecap:round; stroke-linejoin:round; stroke-width:2; stroke-opacity:0.1; fill:none\" points=\"969.648,703.088 969.648,47.2441 \"/>\n",
       "<polyline clip-path=\"url(#clip902)\" style=\"stroke:#000000; stroke-linecap:round; stroke-linejoin:round; stroke-width:2; stroke-opacity:0.1; fill:none\" points=\"1279.92,703.088 1279.92,47.2441 \"/>\n",
       "<polyline clip-path=\"url(#clip900)\" style=\"stroke:#000000; stroke-linecap:round; stroke-linejoin:round; stroke-width:4; stroke-opacity:1; fill:none\" points=\"186.422,703.088 1552.76,703.088 \"/>\n",
       "<polyline clip-path=\"url(#clip900)\" style=\"stroke:#000000; stroke-linecap:round; stroke-linejoin:round; stroke-width:4; stroke-opacity:1; fill:none\" points=\"349.109,703.088 349.109,684.19 \"/>\n",
       "<polyline clip-path=\"url(#clip900)\" style=\"stroke:#000000; stroke-linecap:round; stroke-linejoin:round; stroke-width:4; stroke-opacity:1; fill:none\" points=\"659.378,703.088 659.378,684.19 \"/>\n",
       "<polyline clip-path=\"url(#clip900)\" style=\"stroke:#000000; stroke-linecap:round; stroke-linejoin:round; stroke-width:4; stroke-opacity:1; fill:none\" points=\"969.648,703.088 969.648,684.19 \"/>\n",
       "<polyline clip-path=\"url(#clip900)\" style=\"stroke:#000000; stroke-linecap:round; stroke-linejoin:round; stroke-width:4; stroke-opacity:1; fill:none\" points=\"1279.92,703.088 1279.92,684.19 \"/>\n",
       "<path clip-path=\"url(#clip900)\" d=\"M296.134 742.259 L325.81 742.259 L325.81 746.194 L296.134 746.194 L296.134 742.259 Z\" fill=\"#000000\" fill-rule=\"evenodd\" fill-opacity=\"1\" /><path clip-path=\"url(#clip900)\" d=\"M345.903 727.607 Q342.291 727.607 340.463 731.171 Q338.657 734.713 338.657 741.843 Q338.657 748.949 340.463 752.514 Q342.291 756.055 345.903 756.055 Q349.537 756.055 351.342 752.514 Q353.171 748.949 353.171 741.843 Q353.171 734.713 351.342 731.171 Q349.537 727.607 345.903 727.607 M345.903 723.903 Q351.713 723.903 354.768 728.509 Q357.847 733.093 357.847 741.843 Q357.847 750.569 354.768 755.176 Q351.713 759.759 345.903 759.759 Q340.092 759.759 337.014 755.176 Q333.958 750.569 333.958 741.843 Q333.958 733.093 337.014 728.509 Q340.092 723.903 345.903 723.903 Z\" fill=\"#000000\" fill-rule=\"evenodd\" fill-opacity=\"1\" /><path clip-path=\"url(#clip900)\" d=\"M366.064 753.208 L370.949 753.208 L370.949 759.088 L366.064 759.088 L366.064 753.208 Z\" fill=\"#000000\" fill-rule=\"evenodd\" fill-opacity=\"1\" /><path clip-path=\"url(#clip900)\" d=\"M381.18 724.528 L399.536 724.528 L399.536 728.463 L385.462 728.463 L385.462 736.935 Q386.481 736.588 387.5 736.426 Q388.518 736.241 389.537 736.241 Q395.324 736.241 398.703 739.412 Q402.083 742.583 402.083 748 Q402.083 753.579 398.611 756.68 Q395.138 759.759 388.819 759.759 Q386.643 759.759 384.375 759.389 Q382.129 759.018 379.722 758.278 L379.722 753.579 Q381.805 754.713 384.027 755.268 Q386.25 755.824 388.726 755.824 Q392.731 755.824 395.069 753.718 Q397.407 751.611 397.407 748 Q397.407 744.389 395.069 742.282 Q392.731 740.176 388.726 740.176 Q386.851 740.176 384.976 740.593 Q383.125 741.009 381.18 741.889 L381.18 724.528 Z\" fill=\"#000000\" fill-rule=\"evenodd\" fill-opacity=\"1\" /><path clip-path=\"url(#clip900)\" d=\"M636.763 727.607 Q633.151 727.607 631.323 731.171 Q629.517 734.713 629.517 741.843 Q629.517 748.949 631.323 752.514 Q633.151 756.055 636.763 756.055 Q640.397 756.055 642.202 752.514 Q644.031 748.949 644.031 741.843 Q644.031 734.713 642.202 731.171 Q640.397 727.607 636.763 727.607 M636.763 723.903 Q642.573 723.903 645.628 728.509 Q648.707 733.093 648.707 741.843 Q648.707 750.569 645.628 755.176 Q642.573 759.759 636.763 759.759 Q630.952 759.759 627.874 755.176 Q624.818 750.569 624.818 741.843 Q624.818 733.093 627.874 728.509 Q630.952 723.903 636.763 723.903 Z\" fill=\"#000000\" fill-rule=\"evenodd\" fill-opacity=\"1\" /><path clip-path=\"url(#clip900)\" d=\"M656.925 753.208 L661.809 753.208 L661.809 759.088 L656.925 759.088 L656.925 753.208 Z\" fill=\"#000000\" fill-rule=\"evenodd\" fill-opacity=\"1\" /><path clip-path=\"url(#clip900)\" d=\"M681.994 727.607 Q678.383 727.607 676.554 731.171 Q674.748 734.713 674.748 741.843 Q674.748 748.949 676.554 752.514 Q678.383 756.055 681.994 756.055 Q685.628 756.055 687.434 752.514 Q689.262 748.949 689.262 741.843 Q689.262 734.713 687.434 731.171 Q685.628 727.607 681.994 727.607 M681.994 723.903 Q687.804 723.903 690.86 728.509 Q693.938 733.093 693.938 741.843 Q693.938 750.569 690.86 755.176 Q687.804 759.759 681.994 759.759 Q676.184 759.759 673.105 755.176 Q670.049 750.569 670.049 741.843 Q670.049 733.093 673.105 728.509 Q676.184 723.903 681.994 723.903 Z\" fill=\"#000000\" fill-rule=\"evenodd\" fill-opacity=\"1\" /><path clip-path=\"url(#clip900)\" d=\"M947.53 727.607 Q943.919 727.607 942.09 731.171 Q940.285 734.713 940.285 741.843 Q940.285 748.949 942.09 752.514 Q943.919 756.055 947.53 756.055 Q951.164 756.055 952.97 752.514 Q954.798 748.949 954.798 741.843 Q954.798 734.713 952.97 731.171 Q951.164 727.607 947.53 727.607 M947.53 723.903 Q953.34 723.903 956.396 728.509 Q959.474 733.093 959.474 741.843 Q959.474 750.569 956.396 755.176 Q953.34 759.759 947.53 759.759 Q941.72 759.759 938.641 755.176 Q935.586 750.569 935.586 741.843 Q935.586 733.093 938.641 728.509 Q941.72 723.903 947.53 723.903 Z\" fill=\"#000000\" fill-rule=\"evenodd\" fill-opacity=\"1\" /><path clip-path=\"url(#clip900)\" d=\"M967.692 753.208 L972.576 753.208 L972.576 759.088 L967.692 759.088 L967.692 753.208 Z\" fill=\"#000000\" fill-rule=\"evenodd\" fill-opacity=\"1\" /><path clip-path=\"url(#clip900)\" d=\"M982.808 724.528 L1001.16 724.528 L1001.16 728.463 L987.09 728.463 L987.09 736.935 Q988.108 736.588 989.127 736.426 Q990.145 736.241 991.164 736.241 Q996.951 736.241 1000.33 739.412 Q1003.71 742.583 1003.71 748 Q1003.71 753.579 1000.24 756.68 Q996.766 759.759 990.446 759.759 Q988.27 759.759 986.002 759.389 Q983.757 759.018 981.349 758.278 L981.349 753.579 Q983.433 754.713 985.655 755.268 Q987.877 755.824 990.354 755.824 Q994.358 755.824 996.696 753.718 Q999.034 751.611 999.034 748 Q999.034 744.389 996.696 742.282 Q994.358 740.176 990.354 740.176 Q988.479 740.176 986.604 740.593 Q984.752 741.009 982.808 741.889 L982.808 724.528 Z\" fill=\"#000000\" fill-rule=\"evenodd\" fill-opacity=\"1\" /><path clip-path=\"url(#clip900)\" d=\"M1247.07 755.153 L1254.71 755.153 L1254.71 728.787 L1246.4 730.454 L1246.4 726.195 L1254.66 724.528 L1259.34 724.528 L1259.34 755.153 L1266.98 755.153 L1266.98 759.088 L1247.07 759.088 L1247.07 755.153 Z\" fill=\"#000000\" fill-rule=\"evenodd\" fill-opacity=\"1\" /><path clip-path=\"url(#clip900)\" d=\"M1276.42 753.208 L1281.31 753.208 L1281.31 759.088 L1276.42 759.088 L1276.42 753.208 Z\" fill=\"#000000\" fill-rule=\"evenodd\" fill-opacity=\"1\" /><path clip-path=\"url(#clip900)\" d=\"M1301.49 727.607 Q1297.88 727.607 1296.05 731.171 Q1294.25 734.713 1294.25 741.843 Q1294.25 748.949 1296.05 752.514 Q1297.88 756.055 1301.49 756.055 Q1305.13 756.055 1306.93 752.514 Q1308.76 748.949 1308.76 741.843 Q1308.76 734.713 1306.93 731.171 Q1305.13 727.607 1301.49 727.607 M1301.49 723.903 Q1307.3 723.903 1310.36 728.509 Q1313.44 733.093 1313.44 741.843 Q1313.44 750.569 1310.36 755.176 Q1307.3 759.759 1301.49 759.759 Q1295.68 759.759 1292.6 755.176 Q1289.55 750.569 1289.55 741.843 Q1289.55 733.093 1292.6 728.509 Q1295.68 723.903 1301.49 723.903 Z\" fill=\"#000000\" fill-rule=\"evenodd\" fill-opacity=\"1\" /><polyline clip-path=\"url(#clip902)\" style=\"stroke:#000000; stroke-linecap:round; stroke-linejoin:round; stroke-width:2; stroke-opacity:0.1; fill:none\" points=\"186.422,624.291 1552.76,624.291 \"/>\n",
       "<polyline clip-path=\"url(#clip902)\" style=\"stroke:#000000; stroke-linecap:round; stroke-linejoin:round; stroke-width:2; stroke-opacity:0.1; fill:none\" points=\"186.422,500.183 1552.76,500.183 \"/>\n",
       "<polyline clip-path=\"url(#clip902)\" style=\"stroke:#000000; stroke-linecap:round; stroke-linejoin:round; stroke-width:2; stroke-opacity:0.1; fill:none\" points=\"186.422,376.075 1552.76,376.075 \"/>\n",
       "<polyline clip-path=\"url(#clip902)\" style=\"stroke:#000000; stroke-linecap:round; stroke-linejoin:round; stroke-width:2; stroke-opacity:0.1; fill:none\" points=\"186.422,251.968 1552.76,251.968 \"/>\n",
       "<polyline clip-path=\"url(#clip902)\" style=\"stroke:#000000; stroke-linecap:round; stroke-linejoin:round; stroke-width:2; stroke-opacity:0.1; fill:none\" points=\"186.422,127.86 1552.76,127.86 \"/>\n",
       "<polyline clip-path=\"url(#clip900)\" style=\"stroke:#000000; stroke-linecap:round; stroke-linejoin:round; stroke-width:4; stroke-opacity:1; fill:none\" points=\"186.422,703.088 186.422,47.2441 \"/>\n",
       "<polyline clip-path=\"url(#clip900)\" style=\"stroke:#000000; stroke-linecap:round; stroke-linejoin:round; stroke-width:4; stroke-opacity:1; fill:none\" points=\"186.422,624.291 205.32,624.291 \"/>\n",
       "<polyline clip-path=\"url(#clip900)\" style=\"stroke:#000000; stroke-linecap:round; stroke-linejoin:round; stroke-width:4; stroke-opacity:1; fill:none\" points=\"186.422,500.183 205.32,500.183 \"/>\n",
       "<polyline clip-path=\"url(#clip900)\" style=\"stroke:#000000; stroke-linecap:round; stroke-linejoin:round; stroke-width:4; stroke-opacity:1; fill:none\" points=\"186.422,376.075 205.32,376.075 \"/>\n",
       "<polyline clip-path=\"url(#clip900)\" style=\"stroke:#000000; stroke-linecap:round; stroke-linejoin:round; stroke-width:4; stroke-opacity:1; fill:none\" points=\"186.422,251.968 205.32,251.968 \"/>\n",
       "<polyline clip-path=\"url(#clip900)\" style=\"stroke:#000000; stroke-linecap:round; stroke-linejoin:round; stroke-width:4; stroke-opacity:1; fill:none\" points=\"186.422,127.86 205.32,127.86 \"/>\n",
       "<path clip-path=\"url(#clip900)\" d=\"M54.9921 624.743 L84.6679 624.743 L84.6679 628.678 L54.9921 628.678 L54.9921 624.743 Z\" fill=\"#000000\" fill-rule=\"evenodd\" fill-opacity=\"1\" /><path clip-path=\"url(#clip900)\" d=\"M104.76 610.09 Q101.149 610.09 99.3206 613.655 Q97.515 617.196 97.515 624.326 Q97.515 631.432 99.3206 634.997 Q101.149 638.539 104.76 638.539 Q108.395 638.539 110.2 634.997 Q112.029 631.432 112.029 624.326 Q112.029 617.196 110.2 613.655 Q108.395 610.09 104.76 610.09 M104.76 606.386 Q110.571 606.386 113.626 610.993 Q116.705 615.576 116.705 624.326 Q116.705 633.053 113.626 637.659 Q110.571 642.242 104.76 642.242 Q98.9502 642.242 95.8715 637.659 Q92.816 633.053 92.816 624.326 Q92.816 615.576 95.8715 610.993 Q98.9502 606.386 104.76 606.386 Z\" fill=\"#000000\" fill-rule=\"evenodd\" fill-opacity=\"1\" /><path clip-path=\"url(#clip900)\" d=\"M124.922 635.692 L129.807 635.692 L129.807 641.571 L124.922 641.571 L124.922 635.692 Z\" fill=\"#000000\" fill-rule=\"evenodd\" fill-opacity=\"1\" /><path clip-path=\"url(#clip900)\" d=\"M152.839 611.085 L141.033 629.534 L152.839 629.534 L152.839 611.085 M151.612 607.011 L157.492 607.011 L157.492 629.534 L162.422 629.534 L162.422 633.423 L157.492 633.423 L157.492 641.571 L152.839 641.571 L152.839 633.423 L137.237 633.423 L137.237 628.909 L151.612 607.011 Z\" fill=\"#000000\" fill-rule=\"evenodd\" fill-opacity=\"1\" /><path clip-path=\"url(#clip900)\" d=\"M57.0754 500.635 L86.7512 500.635 L86.7512 504.57 L57.0754 504.57 L57.0754 500.635 Z\" fill=\"#000000\" fill-rule=\"evenodd\" fill-opacity=\"1\" /><path clip-path=\"url(#clip900)\" d=\"M106.844 485.982 Q103.233 485.982 101.404 489.547 Q99.5984 493.088 99.5984 500.218 Q99.5984 507.324 101.404 510.889 Q103.233 514.431 106.844 514.431 Q110.478 514.431 112.283 510.889 Q114.112 507.324 114.112 500.218 Q114.112 493.088 112.283 489.547 Q110.478 485.982 106.844 485.982 M106.844 482.278 Q112.654 482.278 115.709 486.885 Q118.788 491.468 118.788 500.218 Q118.788 508.945 115.709 513.551 Q112.654 518.135 106.844 518.135 Q101.034 518.135 97.9549 513.551 Q94.8993 508.945 94.8993 500.218 Q94.8993 491.468 97.9549 486.885 Q101.034 482.278 106.844 482.278 Z\" fill=\"#000000\" fill-rule=\"evenodd\" fill-opacity=\"1\" /><path clip-path=\"url(#clip900)\" d=\"M127.006 511.584 L131.89 511.584 L131.89 517.463 L127.006 517.463 L127.006 511.584 Z\" fill=\"#000000\" fill-rule=\"evenodd\" fill-opacity=\"1\" /><path clip-path=\"url(#clip900)\" d=\"M146.103 513.528 L162.422 513.528 L162.422 517.463 L140.478 517.463 L140.478 513.528 Q143.14 510.773 147.723 506.144 Q152.33 501.491 153.51 500.149 Q155.755 497.625 156.635 495.889 Q157.538 494.13 157.538 492.44 Q157.538 489.686 155.593 487.95 Q153.672 486.213 150.57 486.213 Q148.371 486.213 145.918 486.977 Q143.487 487.741 140.709 489.292 L140.709 484.57 Q143.533 483.436 145.987 482.857 Q148.441 482.278 150.478 482.278 Q155.848 482.278 159.042 484.963 Q162.237 487.649 162.237 492.139 Q162.237 494.269 161.427 496.19 Q160.64 498.088 158.533 500.681 Q157.955 501.352 154.853 504.57 Q151.751 507.764 146.103 513.528 Z\" fill=\"#000000\" fill-rule=\"evenodd\" fill-opacity=\"1\" /><path clip-path=\"url(#clip900)\" d=\"M105.246 361.874 Q101.635 361.874 99.8067 365.439 Q98.0012 368.981 98.0012 376.11 Q98.0012 383.217 99.8067 386.781 Q101.635 390.323 105.246 390.323 Q108.881 390.323 110.686 386.781 Q112.515 383.217 112.515 376.11 Q112.515 368.981 110.686 365.439 Q108.881 361.874 105.246 361.874 M105.246 358.17 Q111.057 358.17 114.112 362.777 Q117.191 367.36 117.191 376.11 Q117.191 384.837 114.112 389.443 Q111.057 394.027 105.246 394.027 Q99.4363 394.027 96.3576 389.443 Q93.3021 384.837 93.3021 376.11 Q93.3021 367.36 96.3576 362.777 Q99.4363 358.17 105.246 358.17 Z\" fill=\"#000000\" fill-rule=\"evenodd\" fill-opacity=\"1\" /><path clip-path=\"url(#clip900)\" d=\"M125.408 387.476 L130.293 387.476 L130.293 393.355 L125.408 393.355 L125.408 387.476 Z\" fill=\"#000000\" fill-rule=\"evenodd\" fill-opacity=\"1\" /><path clip-path=\"url(#clip900)\" d=\"M150.478 361.874 Q146.867 361.874 145.038 365.439 Q143.232 368.981 143.232 376.11 Q143.232 383.217 145.038 386.781 Q146.867 390.323 150.478 390.323 Q154.112 390.323 155.918 386.781 Q157.746 383.217 157.746 376.11 Q157.746 368.981 155.918 365.439 Q154.112 361.874 150.478 361.874 M150.478 358.17 Q156.288 358.17 159.343 362.777 Q162.422 367.36 162.422 376.11 Q162.422 384.837 159.343 389.443 Q156.288 394.027 150.478 394.027 Q144.668 394.027 141.589 389.443 Q138.533 384.837 138.533 376.11 Q138.533 367.36 141.589 362.777 Q144.668 358.17 150.478 358.17 Z\" fill=\"#000000\" fill-rule=\"evenodd\" fill-opacity=\"1\" /><path clip-path=\"url(#clip900)\" d=\"M106.844 237.766 Q103.233 237.766 101.404 241.331 Q99.5984 244.873 99.5984 252.002 Q99.5984 259.109 101.404 262.673 Q103.233 266.215 106.844 266.215 Q110.478 266.215 112.283 262.673 Q114.112 259.109 114.112 252.002 Q114.112 244.873 112.283 241.331 Q110.478 237.766 106.844 237.766 M106.844 234.063 Q112.654 234.063 115.709 238.669 Q118.788 243.252 118.788 252.002 Q118.788 260.729 115.709 265.336 Q112.654 269.919 106.844 269.919 Q101.034 269.919 97.9549 265.336 Q94.8993 260.729 94.8993 252.002 Q94.8993 243.252 97.9549 238.669 Q101.034 234.063 106.844 234.063 Z\" fill=\"#000000\" fill-rule=\"evenodd\" fill-opacity=\"1\" /><path clip-path=\"url(#clip900)\" d=\"M127.006 263.368 L131.89 263.368 L131.89 269.248 L127.006 269.248 L127.006 263.368 Z\" fill=\"#000000\" fill-rule=\"evenodd\" fill-opacity=\"1\" /><path clip-path=\"url(#clip900)\" d=\"M146.103 265.312 L162.422 265.312 L162.422 269.248 L140.478 269.248 L140.478 265.312 Q143.14 262.558 147.723 257.928 Q152.33 253.275 153.51 251.933 Q155.755 249.41 156.635 247.674 Q157.538 245.914 157.538 244.225 Q157.538 241.47 155.593 239.734 Q153.672 237.998 150.57 237.998 Q148.371 237.998 145.918 238.762 Q143.487 239.525 140.709 241.076 L140.709 236.354 Q143.533 235.22 145.987 234.641 Q148.441 234.063 150.478 234.063 Q155.848 234.063 159.042 236.748 Q162.237 239.433 162.237 243.924 Q162.237 246.053 161.427 247.974 Q160.64 249.873 158.533 252.465 Q157.955 253.136 154.853 256.354 Q151.751 259.548 146.103 265.312 Z\" fill=\"#000000\" fill-rule=\"evenodd\" fill-opacity=\"1\" /><path clip-path=\"url(#clip900)\" d=\"M104.76 113.658 Q101.149 113.658 99.3206 117.223 Q97.515 120.765 97.515 127.894 Q97.515 135.001 99.3206 138.566 Q101.149 142.107 104.76 142.107 Q108.395 142.107 110.2 138.566 Q112.029 135.001 112.029 127.894 Q112.029 120.765 110.2 117.223 Q108.395 113.658 104.76 113.658 M104.76 109.955 Q110.571 109.955 113.626 114.561 Q116.705 119.144 116.705 127.894 Q116.705 136.621 113.626 141.228 Q110.571 145.811 104.76 145.811 Q98.9502 145.811 95.8715 141.228 Q92.816 136.621 92.816 127.894 Q92.816 119.144 95.8715 114.561 Q98.9502 109.955 104.76 109.955 Z\" fill=\"#000000\" fill-rule=\"evenodd\" fill-opacity=\"1\" /><path clip-path=\"url(#clip900)\" d=\"M124.922 139.26 L129.807 139.26 L129.807 145.14 L124.922 145.14 L124.922 139.26 Z\" fill=\"#000000\" fill-rule=\"evenodd\" fill-opacity=\"1\" /><path clip-path=\"url(#clip900)\" d=\"M152.839 114.654 L141.033 133.103 L152.839 133.103 L152.839 114.654 M151.612 110.58 L157.492 110.58 L157.492 133.103 L162.422 133.103 L162.422 136.992 L157.492 136.992 L157.492 145.14 L152.839 145.14 L152.839 136.992 L137.237 136.992 L137.237 132.478 L151.612 110.58 Z\" fill=\"#000000\" fill-rule=\"evenodd\" fill-opacity=\"1\" /><polyline clip-path=\"url(#clip902)\" style=\"stroke:#009af9; stroke-linecap:round; stroke-linejoin:round; stroke-width:4; stroke-opacity:1; fill:none\" points=\"659.378,65.8057 726.077,73.0596 789.657,94.4823 847.145,129.072 895.854,175.211 933.505,230.742 958.339,293.069 969.193,359.278 965.561,426.271 947.612,490.918 916.185,550.195 872.75,601.33 819.339,641.932 758.448,670.103 692.924,684.526 625.832,684.526 560.309,670.103 499.417,641.932 446.006,601.33 402.571,550.195 371.145,490.918 353.196,426.271 349.564,359.278 360.418,293.069 385.251,230.742 422.902,175.211 471.611,129.072 529.099,94.4823 592.679,73.0596 659.378,65.8057 \"/>\n",
       "<polyline clip-path=\"url(#clip902)\" style=\"stroke:#009af9; stroke-linecap:round; stroke-linejoin:round; stroke-width:4; stroke-opacity:1; fill:none\" points=\"659.378,376.075 969.648,376.075 \"/>\n",
       "<circle clip-path=\"url(#clip902)\" cx=\"1279.92\" cy=\"376.075\" r=\"36\" fill=\"#e26f46\" fill-rule=\"evenodd\" fill-opacity=\"1\" stroke=\"#000000\" stroke-opacity=\"1\" stroke-width=\"0\"/>\n",
       "<polyline clip-path=\"url(#clip902)\" style=\"stroke:#e26f46; stroke-linecap:round; stroke-linejoin:round; stroke-width:12; stroke-opacity:1; fill:none\" points=\"1279.92,376.075 1389.61,266.378 \"/>\n",
       "</svg>\n"
      ]
     },
     "execution_count": 79,
     "metadata": {},
     "output_type": "execute_result"
    }
   ],
   "source": [
    "plot(size=(400,200), aspect_ratio=1.0)\n",
    "plot!(Pose(); linecolor=col[1])\n",
    "scatter!(Pose([1.0;0.0], π/4); r=0.25, c=col[2], linewidth=3, markersize=10)"
   ]
  },
  {
   "cell_type": "code",
   "execution_count": null,
   "id": "dca0a74c",
   "metadata": {},
   "outputs": [],
   "source": []
  }
 ],
 "metadata": {
  "@webio": {
   "lastCommId": null,
   "lastKernelId": null
  },
  "kernelspec": {
   "display_name": "Julia 1.8.5",
   "language": "julia",
   "name": "julia-1.8"
  },
  "language_info": {
   "file_extension": ".jl",
   "mimetype": "application/julia",
   "name": "julia",
   "version": "1.8.5"
  },
  "toc": {
   "base_numbering": 1,
   "nav_menu": {},
   "number_sections": true,
   "sideBar": true,
   "skip_h1_title": false,
   "title_cell": "Table of Contents",
   "title_sidebar": "Contents",
   "toc_cell": false,
   "toc_position": {
    "height": "calc(100% - 180px)",
    "left": "10px",
    "top": "150px",
    "width": "225px"
   },
   "toc_section_display": true,
   "toc_window_display": true
  }
 },
 "nbformat": 4,
 "nbformat_minor": 5
}
