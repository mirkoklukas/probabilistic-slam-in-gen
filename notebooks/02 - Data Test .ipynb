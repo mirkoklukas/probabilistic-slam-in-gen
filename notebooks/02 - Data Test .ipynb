{
 "cells": [
  {
   "cell_type": "code",
   "execution_count": 2,
   "id": "c361320b",
   "metadata": {},
   "outputs": [
    {
     "data": {
      "text/html": [
       "<style>.rendered_html.text_cell_render {max-width:700px; }</style>"
      ],
      "text/plain": [
       "HTML{String}(\"<style>.rendered_html.text_cell_render {max-width:700px; }</style>\")"
      ]
     },
     "metadata": {},
     "output_type": "display_data"
    }
   ],
   "source": [
    "display(HTML(\"<style>.rendered_html.text_cell_render {max-width:700px; }</style>\"));\n",
    "push!(LOAD_PATH, \"src\");"
   ]
  },
  {
   "cell_type": "code",
   "execution_count": 3,
   "id": "bf5eac56",
   "metadata": {},
   "outputs": [
    {
     "name": "stderr",
     "output_type": "stream",
     "text": [
      "\u001b[36m\u001b[1m[ \u001b[22m\u001b[39m\u001b[36m\u001b[1mInfo: \u001b[22m\u001b[39mPrecompiling Geometry [top-level]\n"
     ]
    },
    {
     "data": {
      "text/plain": [
       "Dict{Symbol, Dict{Symbol}} with 3 entries:\n",
       "  :env    => Dict{Symbol, Vector{Segment}}(:segs=>[Segment([0.11, 0.1], [0.1, 0…\n",
       "  :sensor => Dict{Symbol, Any}(:a=>[-3.14159, -3.12414, -3.10669, -3.08923, -3.…\n",
       "  :motion => Dict{Symbol, Vector}(:x=>[[0.620825, 2.08135], [0.716111, 1.98606]…"
      ]
     },
     "execution_count": 3,
     "metadata": {},
     "output_type": "execute_result"
    }
   ],
   "source": [
    "using JLD2\n",
    "using Plots\n",
    "using Geometry: Segment\n",
    "\n",
    "fname = \"data/data.jld2\"\n",
    "d = load_object(fname)"
   ]
  },
  {
   "cell_type": "code",
   "execution_count": 12,
   "id": "f5f419da",
   "metadata": {},
   "outputs": [
    {
     "data": {
      "image/svg+xml": [
       "<?xml version=\"1.0\" encoding=\"utf-8\"?>\n",
       "<svg xmlns=\"http://www.w3.org/2000/svg\" xmlns:xlink=\"http://www.w3.org/1999/xlink\" width=\"200\" height=\"200\" viewBox=\"0 0 800 800\">\n",
       "<defs>\n",
       "  <clipPath id=\"clip780\">\n",
       "    <rect x=\"0\" y=\"0\" width=\"800\" height=\"800\"/>\n",
       "  </clipPath>\n",
       "</defs>\n",
       "<path clip-path=\"url(#clip780)\" d=\"M0 800 L800 800 L800 0 L0 0  Z\" fill=\"#ffffff\" fill-rule=\"evenodd\" fill-opacity=\"1\"/>\n",
       "<defs>\n",
       "  <clipPath id=\"clip781\">\n",
       "    <rect x=\"160\" y=\"80\" width=\"561\" height=\"561\"/>\n",
       "  </clipPath>\n",
       "</defs>\n",
       "<path clip-path=\"url(#clip780)\" d=\"M96.1772 677.168 L752.756 677.168 L752.756 47.2441 L96.1772 47.2441  Z\" fill=\"#ffffff\" fill-rule=\"evenodd\" fill-opacity=\"1\"/>\n",
       "<defs>\n",
       "  <clipPath id=\"clip782\">\n",
       "    <rect x=\"96\" y=\"47\" width=\"658\" height=\"631\"/>\n",
       "  </clipPath>\n",
       "</defs>\n",
       "<polyline clip-path=\"url(#clip782)\" style=\"stroke:#000000; stroke-linecap:round; stroke-linejoin:round; stroke-width:2; stroke-opacity:0.1; fill:none\" points=\"108.609,677.168 108.609,47.2441 \"/>\n",
       "<polyline clip-path=\"url(#clip782)\" style=\"stroke:#000000; stroke-linecap:round; stroke-linejoin:round; stroke-width:2; stroke-opacity:0.1; fill:none\" points=\"262.386,677.168 262.386,47.2441 \"/>\n",
       "<polyline clip-path=\"url(#clip782)\" style=\"stroke:#000000; stroke-linecap:round; stroke-linejoin:round; stroke-width:2; stroke-opacity:0.1; fill:none\" points=\"416.163,677.168 416.163,47.2441 \"/>\n",
       "<polyline clip-path=\"url(#clip782)\" style=\"stroke:#000000; stroke-linecap:round; stroke-linejoin:round; stroke-width:2; stroke-opacity:0.1; fill:none\" points=\"569.94,677.168 569.94,47.2441 \"/>\n",
       "<polyline clip-path=\"url(#clip782)\" style=\"stroke:#000000; stroke-linecap:round; stroke-linejoin:round; stroke-width:2; stroke-opacity:0.1; fill:none\" points=\"723.717,677.168 723.717,47.2441 \"/>\n",
       "<polyline clip-path=\"url(#clip780)\" style=\"stroke:#000000; stroke-linecap:round; stroke-linejoin:round; stroke-width:4; stroke-opacity:1; fill:none\" points=\"96.1772,677.168 752.756,677.168 \"/>\n",
       "<polyline clip-path=\"url(#clip780)\" style=\"stroke:#000000; stroke-linecap:round; stroke-linejoin:round; stroke-width:4; stroke-opacity:1; fill:none\" points=\"108.609,677.168 108.609,658.27 \"/>\n",
       "<polyline clip-path=\"url(#clip780)\" style=\"stroke:#000000; stroke-linecap:round; stroke-linejoin:round; stroke-width:4; stroke-opacity:1; fill:none\" points=\"262.386,677.168 262.386,658.27 \"/>\n",
       "<polyline clip-path=\"url(#clip780)\" style=\"stroke:#000000; stroke-linecap:round; stroke-linejoin:round; stroke-width:4; stroke-opacity:1; fill:none\" points=\"416.163,677.168 416.163,658.27 \"/>\n",
       "<polyline clip-path=\"url(#clip780)\" style=\"stroke:#000000; stroke-linecap:round; stroke-linejoin:round; stroke-width:4; stroke-opacity:1; fill:none\" points=\"569.94,677.168 569.94,658.27 \"/>\n",
       "<polyline clip-path=\"url(#clip780)\" style=\"stroke:#000000; stroke-linecap:round; stroke-linejoin:round; stroke-width:4; stroke-opacity:1; fill:none\" points=\"723.717,677.168 723.717,658.27 \"/>\n",
       "<path clip-path=\"url(#clip780)\" d=\"M85.9929 695.287 Q82.3818 695.287 80.5531 698.851 Q78.7476 702.393 78.7476 709.523 Q78.7476 716.629 80.5531 720.194 Q82.3818 723.735 85.9929 723.735 Q89.6271 723.735 91.4327 720.194 Q93.2614 716.629 93.2614 709.523 Q93.2614 702.393 91.4327 698.851 Q89.6271 695.287 85.9929 695.287 M85.9929 691.583 Q91.803 691.583 94.8586 696.189 Q97.9373 700.773 97.9373 709.523 Q97.9373 718.249 94.8586 722.856 Q91.803 727.439 85.9929 727.439 Q80.1827 727.439 77.1041 722.856 Q74.0485 718.249 74.0485 709.523 Q74.0485 700.773 77.1041 696.189 Q80.1827 691.583 85.9929 691.583 Z\" fill=\"#000000\" fill-rule=\"evenodd\" fill-opacity=\"1\" /><path clip-path=\"url(#clip780)\" d=\"M106.155 720.888 L111.039 720.888 L111.039 726.768 L106.155 726.768 L106.155 720.888 Z\" fill=\"#000000\" fill-rule=\"evenodd\" fill-opacity=\"1\" /><path clip-path=\"url(#clip780)\" d=\"M131.224 695.287 Q127.613 695.287 125.784 698.851 Q123.979 702.393 123.979 709.523 Q123.979 716.629 125.784 720.194 Q127.613 723.735 131.224 723.735 Q134.858 723.735 136.664 720.194 Q138.493 716.629 138.493 709.523 Q138.493 702.393 136.664 698.851 Q134.858 695.287 131.224 695.287 M131.224 691.583 Q137.034 691.583 140.09 696.189 Q143.169 700.773 143.169 709.523 Q143.169 718.249 140.09 722.856 Q137.034 727.439 131.224 727.439 Q125.414 727.439 122.335 722.856 Q119.28 718.249 119.28 709.523 Q119.28 700.773 122.335 696.189 Q125.414 691.583 131.224 691.583 Z\" fill=\"#000000\" fill-rule=\"evenodd\" fill-opacity=\"1\" /><path clip-path=\"url(#clip780)\" d=\"M234.122 722.833 L250.441 722.833 L250.441 726.768 L228.497 726.768 L228.497 722.833 Q231.159 720.078 235.742 715.448 Q240.349 710.796 241.529 709.453 Q243.775 706.93 244.654 705.194 Q245.557 703.435 245.557 701.745 Q245.557 698.99 243.612 697.254 Q241.691 695.518 238.589 695.518 Q236.39 695.518 233.937 696.282 Q231.506 697.046 228.728 698.597 L228.728 693.875 Q231.552 692.74 234.006 692.162 Q236.46 691.583 238.497 691.583 Q243.867 691.583 247.062 694.268 Q250.256 696.953 250.256 701.444 Q250.256 703.574 249.446 705.495 Q248.659 707.393 246.552 709.986 Q245.974 710.657 242.872 713.874 Q239.77 717.069 234.122 722.833 Z\" fill=\"#000000\" fill-rule=\"evenodd\" fill-opacity=\"1\" /><path clip-path=\"url(#clip780)\" d=\"M260.256 720.888 L265.14 720.888 L265.14 726.768 L260.256 726.768 L260.256 720.888 Z\" fill=\"#000000\" fill-rule=\"evenodd\" fill-opacity=\"1\" /><path clip-path=\"url(#clip780)\" d=\"M275.372 692.208 L293.728 692.208 L293.728 696.143 L279.654 696.143 L279.654 704.615 Q280.672 704.268 281.691 704.106 Q282.71 703.921 283.728 703.921 Q289.515 703.921 292.895 707.092 Q296.274 710.263 296.274 715.68 Q296.274 721.259 292.802 724.36 Q289.33 727.439 283.01 727.439 Q280.835 727.439 278.566 727.069 Q276.321 726.698 273.913 725.958 L273.913 721.259 Q275.997 722.393 278.219 722.948 Q280.441 723.504 282.918 723.504 Q286.922 723.504 289.26 721.398 Q291.598 719.291 291.598 715.68 Q291.598 712.069 289.26 709.962 Q286.922 707.856 282.918 707.856 Q281.043 707.856 279.168 708.273 Q277.316 708.689 275.372 709.569 L275.372 692.208 Z\" fill=\"#000000\" fill-rule=\"evenodd\" fill-opacity=\"1\" /><path clip-path=\"url(#clip780)\" d=\"M383.327 692.208 L401.683 692.208 L401.683 696.143 L387.609 696.143 L387.609 704.615 Q388.628 704.268 389.647 704.106 Q390.665 703.921 391.684 703.921 Q397.471 703.921 400.85 707.092 Q404.23 710.263 404.23 715.68 Q404.23 721.259 400.758 724.36 Q397.285 727.439 390.966 727.439 Q388.79 727.439 386.522 727.069 Q384.276 726.698 381.869 725.958 L381.869 721.259 Q383.952 722.393 386.174 722.948 Q388.397 723.504 390.873 723.504 Q394.878 723.504 397.216 721.398 Q399.554 719.291 399.554 715.68 Q399.554 712.069 397.216 709.962 Q394.878 707.856 390.873 707.856 Q388.998 707.856 387.123 708.273 Q385.272 708.689 383.327 709.569 L383.327 692.208 Z\" fill=\"#000000\" fill-rule=\"evenodd\" fill-opacity=\"1\" /><path clip-path=\"url(#clip780)\" d=\"M413.443 720.888 L418.327 720.888 L418.327 726.768 L413.443 726.768 L413.443 720.888 Z\" fill=\"#000000\" fill-rule=\"evenodd\" fill-opacity=\"1\" /><path clip-path=\"url(#clip780)\" d=\"M438.512 695.287 Q434.901 695.287 433.072 698.851 Q431.267 702.393 431.267 709.523 Q431.267 716.629 433.072 720.194 Q434.901 723.735 438.512 723.735 Q442.146 723.735 443.952 720.194 Q445.78 716.629 445.78 709.523 Q445.78 702.393 443.952 698.851 Q442.146 695.287 438.512 695.287 M438.512 691.583 Q444.322 691.583 447.378 696.189 Q450.456 700.773 450.456 709.523 Q450.456 718.249 447.378 722.856 Q444.322 727.439 438.512 727.439 Q432.702 727.439 429.623 722.856 Q426.568 718.249 426.568 709.523 Q426.568 700.773 429.623 696.189 Q432.702 691.583 438.512 691.583 Z\" fill=\"#000000\" fill-rule=\"evenodd\" fill-opacity=\"1\" /><path clip-path=\"url(#clip780)\" d=\"M536.259 692.208 L558.481 692.208 L558.481 694.199 L545.935 726.768 L541.051 726.768 L552.856 696.143 L536.259 696.143 L536.259 692.208 Z\" fill=\"#000000\" fill-rule=\"evenodd\" fill-opacity=\"1\" /><path clip-path=\"url(#clip780)\" d=\"M567.602 720.888 L572.486 720.888 L572.486 726.768 L567.602 726.768 L567.602 720.888 Z\" fill=\"#000000\" fill-rule=\"evenodd\" fill-opacity=\"1\" /><path clip-path=\"url(#clip780)\" d=\"M582.717 692.208 L601.074 692.208 L601.074 696.143 L587 696.143 L587 704.615 Q588.018 704.268 589.037 704.106 Q590.055 703.921 591.074 703.921 Q596.861 703.921 600.24 707.092 Q603.62 710.263 603.62 715.68 Q603.62 721.259 600.148 724.36 Q596.676 727.439 590.356 727.439 Q588.18 727.439 585.912 727.069 Q583.666 726.698 581.259 725.958 L581.259 721.259 Q583.342 722.393 585.565 722.948 Q587.787 723.504 590.264 723.504 Q594.268 723.504 596.606 721.398 Q598.944 719.291 598.944 715.68 Q598.944 712.069 596.606 709.962 Q594.268 707.856 590.264 707.856 Q588.389 707.856 586.514 708.273 Q584.662 708.689 582.717 709.569 L582.717 692.208 Z\" fill=\"#000000\" fill-rule=\"evenodd\" fill-opacity=\"1\" /><path clip-path=\"url(#clip780)\" d=\"M675.789 722.833 L683.428 722.833 L683.428 696.467 L675.117 698.134 L675.117 693.875 L683.381 692.208 L688.057 692.208 L688.057 722.833 L695.696 722.833 L695.696 726.768 L675.789 726.768 L675.789 722.833 Z\" fill=\"#000000\" fill-rule=\"evenodd\" fill-opacity=\"1\" /><path clip-path=\"url(#clip780)\" d=\"M715.14 695.287 Q711.529 695.287 709.701 698.851 Q707.895 702.393 707.895 709.523 Q707.895 716.629 709.701 720.194 Q711.529 723.735 715.14 723.735 Q718.775 723.735 720.58 720.194 Q722.409 716.629 722.409 709.523 Q722.409 702.393 720.58 698.851 Q718.775 695.287 715.14 695.287 M715.14 691.583 Q720.95 691.583 724.006 696.189 Q727.085 700.773 727.085 709.523 Q727.085 718.249 724.006 722.856 Q720.95 727.439 715.14 727.439 Q709.33 727.439 706.251 722.856 Q703.196 718.249 703.196 709.523 Q703.196 700.773 706.251 696.189 Q709.33 691.583 715.14 691.583 Z\" fill=\"#000000\" fill-rule=\"evenodd\" fill-opacity=\"1\" /><path clip-path=\"url(#clip780)\" d=\"M735.302 720.888 L740.186 720.888 L740.186 726.768 L735.302 726.768 L735.302 720.888 Z\" fill=\"#000000\" fill-rule=\"evenodd\" fill-opacity=\"1\" /><path clip-path=\"url(#clip780)\" d=\"M760.372 695.287 Q756.76 695.287 754.932 698.851 Q753.126 702.393 753.126 709.523 Q753.126 716.629 754.932 720.194 Q756.76 723.735 760.372 723.735 Q764.006 723.735 765.811 720.194 Q767.64 716.629 767.64 709.523 Q767.64 702.393 765.811 698.851 Q764.006 695.287 760.372 695.287 M760.372 691.583 Q766.182 691.583 769.237 696.189 Q772.316 700.773 772.316 709.523 Q772.316 718.249 769.237 722.856 Q766.182 727.439 760.372 727.439 Q754.561 727.439 751.483 722.856 Q748.427 718.249 748.427 709.523 Q748.427 700.773 751.483 696.189 Q754.561 691.583 760.372 691.583 Z\" fill=\"#000000\" fill-rule=\"evenodd\" fill-opacity=\"1\" /><polyline clip-path=\"url(#clip782)\" style=\"stroke:#000000; stroke-linecap:round; stroke-linejoin:round; stroke-width:2; stroke-opacity:0.1; fill:none\" points=\"96.1772,616.246 752.756,616.246 \"/>\n",
       "<polyline clip-path=\"url(#clip782)\" style=\"stroke:#000000; stroke-linecap:round; stroke-linejoin:round; stroke-width:2; stroke-opacity:0.1; fill:none\" points=\"96.1772,493.224 752.756,493.224 \"/>\n",
       "<polyline clip-path=\"url(#clip782)\" style=\"stroke:#000000; stroke-linecap:round; stroke-linejoin:round; stroke-width:2; stroke-opacity:0.1; fill:none\" points=\"96.1772,370.202 752.756,370.202 \"/>\n",
       "<polyline clip-path=\"url(#clip782)\" style=\"stroke:#000000; stroke-linecap:round; stroke-linejoin:round; stroke-width:2; stroke-opacity:0.1; fill:none\" points=\"96.1772,247.181 752.756,247.181 \"/>\n",
       "<polyline clip-path=\"url(#clip782)\" style=\"stroke:#000000; stroke-linecap:round; stroke-linejoin:round; stroke-width:2; stroke-opacity:0.1; fill:none\" points=\"96.1772,124.159 752.756,124.159 \"/>\n",
       "<polyline clip-path=\"url(#clip780)\" style=\"stroke:#000000; stroke-linecap:round; stroke-linejoin:round; stroke-width:4; stroke-opacity:1; fill:none\" points=\"96.1772,677.168 96.1772,47.2441 \"/>\n",
       "<polyline clip-path=\"url(#clip780)\" style=\"stroke:#000000; stroke-linecap:round; stroke-linejoin:round; stroke-width:4; stroke-opacity:1; fill:none\" points=\"96.1772,616.246 115.075,616.246 \"/>\n",
       "<polyline clip-path=\"url(#clip780)\" style=\"stroke:#000000; stroke-linecap:round; stroke-linejoin:round; stroke-width:4; stroke-opacity:1; fill:none\" points=\"96.1772,493.224 115.075,493.224 \"/>\n",
       "<polyline clip-path=\"url(#clip780)\" style=\"stroke:#000000; stroke-linecap:round; stroke-linejoin:round; stroke-width:4; stroke-opacity:1; fill:none\" points=\"96.1772,370.202 115.075,370.202 \"/>\n",
       "<polyline clip-path=\"url(#clip780)\" style=\"stroke:#000000; stroke-linecap:round; stroke-linejoin:round; stroke-width:4; stroke-opacity:1; fill:none\" points=\"96.1772,247.181 115.075,247.181 \"/>\n",
       "<polyline clip-path=\"url(#clip780)\" style=\"stroke:#000000; stroke-linecap:round; stroke-linejoin:round; stroke-width:4; stroke-opacity:1; fill:none\" points=\"96.1772,124.159 115.075,124.159 \"/>\n",
       "<path clip-path=\"url(#clip780)\" d=\"M72.2328 602.044 Q68.6217 602.044 66.793 605.609 Q64.9875 609.151 64.9875 616.28 Q64.9875 623.387 66.793 626.952 Q68.6217 630.493 72.2328 630.493 Q75.867 630.493 77.6726 626.952 Q79.5013 623.387 79.5013 616.28 Q79.5013 609.151 77.6726 605.609 Q75.867 602.044 72.2328 602.044 M72.2328 598.341 Q78.0429 598.341 81.0985 602.947 Q84.1772 607.53 84.1772 616.28 Q84.1772 625.007 81.0985 629.614 Q78.0429 634.197 72.2328 634.197 Q66.4226 634.197 63.344 629.614 Q60.2884 625.007 60.2884 616.28 Q60.2884 607.53 63.344 602.947 Q66.4226 598.341 72.2328 598.341 Z\" fill=\"#000000\" fill-rule=\"evenodd\" fill-opacity=\"1\" /><path clip-path=\"url(#clip780)\" d=\"M67.8578 506.569 L84.1772 506.569 L84.1772 510.504 L62.2328 510.504 L62.2328 506.569 Q64.8949 503.814 69.4782 499.185 Q74.0846 494.532 75.2652 493.189 Q77.5105 490.666 78.3902 488.93 Q79.2929 487.171 79.2929 485.481 Q79.2929 482.726 77.3485 480.99 Q75.4272 479.254 72.3254 479.254 Q70.1263 479.254 67.6726 480.018 Q65.2421 480.782 62.4643 482.333 L62.4643 477.611 Q65.2884 476.476 67.7421 475.898 Q70.1958 475.319 72.2328 475.319 Q77.6031 475.319 80.7976 478.004 Q83.992 480.689 83.992 485.18 Q83.992 487.31 83.1818 489.231 Q82.3948 491.129 80.2883 493.722 Q79.7096 494.393 76.6078 497.611 Q73.5059 500.805 67.8578 506.569 Z\" fill=\"#000000\" fill-rule=\"evenodd\" fill-opacity=\"1\" /><path clip-path=\"url(#clip780)\" d=\"M74.5939 356.996 L62.7884 375.445 L74.5939 375.445 L74.5939 356.996 M73.367 352.922 L79.2466 352.922 L79.2466 375.445 L84.1772 375.445 L84.1772 379.334 L79.2466 379.334 L79.2466 387.482 L74.5939 387.482 L74.5939 379.334 L58.9921 379.334 L58.9921 374.82 L73.367 352.922 Z\" fill=\"#000000\" fill-rule=\"evenodd\" fill-opacity=\"1\" /><path clip-path=\"url(#clip780)\" d=\"M72.6495 245.317 Q69.5013 245.317 67.6495 247.47 Q65.8208 249.623 65.8208 253.373 Q65.8208 257.1 67.6495 259.276 Q69.5013 261.428 72.6495 261.428 Q75.7976 261.428 77.6263 259.276 Q79.4781 257.1 79.4781 253.373 Q79.4781 249.623 77.6263 247.47 Q75.7976 245.317 72.6495 245.317 M81.9318 230.665 L81.9318 234.924 Q80.1726 234.091 78.367 233.651 Q76.5846 233.211 74.8254 233.211 Q70.1958 233.211 67.7421 236.336 Q65.3115 239.461 64.9643 245.78 Q66.33 243.766 68.3902 242.702 Q70.4504 241.614 72.9272 241.614 Q78.1355 241.614 81.1448 244.785 Q84.1772 247.933 84.1772 253.373 Q84.1772 258.697 81.029 261.914 Q77.8809 265.132 72.6495 265.132 Q66.6541 265.132 63.4828 260.549 Q60.3116 255.942 60.3116 247.215 Q60.3116 239.021 64.2004 234.16 Q68.0893 229.276 74.6402 229.276 Q76.3994 229.276 78.1818 229.623 Q79.9874 229.97 81.9318 230.665 Z\" fill=\"#000000\" fill-rule=\"evenodd\" fill-opacity=\"1\" /><path clip-path=\"url(#clip780)\" d=\"M72.3254 125.027 Q68.9921 125.027 67.0708 126.81 Q65.1726 128.592 65.1726 131.717 Q65.1726 134.842 67.0708 136.624 Q68.9921 138.407 72.3254 138.407 Q75.6587 138.407 77.58 136.624 Q79.5013 134.819 79.5013 131.717 Q79.5013 128.592 77.58 126.81 Q75.6819 125.027 72.3254 125.027 M67.6495 123.036 Q64.6402 122.296 62.9504 120.236 Q61.2838 118.175 61.2838 115.212 Q61.2838 111.069 64.2236 108.662 Q67.1865 106.254 72.3254 106.254 Q77.4874 106.254 80.4272 108.662 Q83.367 111.069 83.367 115.212 Q83.367 118.175 81.6772 120.236 Q80.0105 122.296 77.0244 123.036 Q80.404 123.823 82.279 126.115 Q84.1772 128.407 84.1772 131.717 Q84.1772 136.74 81.0985 139.425 Q78.0429 142.11 72.3254 142.11 Q66.6078 142.11 63.5291 139.425 Q60.4736 136.74 60.4736 131.717 Q60.4736 128.407 62.3717 126.115 Q64.2699 123.823 67.6495 123.036 M65.9365 115.652 Q65.9365 118.337 67.6032 119.842 Q69.293 121.347 72.3254 121.347 Q75.3346 121.347 77.0244 119.842 Q78.7374 118.337 78.7374 115.652 Q78.7374 112.967 77.0244 111.462 Q75.3346 109.958 72.3254 109.958 Q69.293 109.958 67.6032 111.462 Q65.9365 112.967 65.9365 115.652 Z\" fill=\"#000000\" fill-rule=\"evenodd\" fill-opacity=\"1\" /><polyline clip-path=\"url(#clip782)\" style=\"stroke:#000000; stroke-linecap:round; stroke-linejoin:round; stroke-width:4; stroke-opacity:1; fill:none\" points=\"115.375,610.095 114.76,609.479 \"/>\n",
       "<polyline clip-path=\"url(#clip782)\" style=\"stroke:#000000; stroke-linecap:round; stroke-linejoin:round; stroke-width:4; stroke-opacity:1; fill:none\" points=\"114.76,609.479 114.76,564.577 \"/>\n",
       "<polyline clip-path=\"url(#clip782)\" style=\"stroke:#000000; stroke-linecap:round; stroke-linejoin:round; stroke-width:4; stroke-opacity:1; fill:none\" points=\"114.76,564.577 115.375,563.961 \"/>\n",
       "<polyline clip-path=\"url(#clip782)\" style=\"stroke:#000000; stroke-linecap:round; stroke-linejoin:round; stroke-width:4; stroke-opacity:1; fill:none\" points=\"115.375,563.961 115.375,547.969 \"/>\n",
       "<polyline clip-path=\"url(#clip782)\" style=\"stroke:#000000; stroke-linecap:round; stroke-linejoin:round; stroke-width:4; stroke-opacity:1; fill:none\" points=\"115.375,547.969 114.76,547.354 \"/>\n",
       "<polyline clip-path=\"url(#clip782)\" style=\"stroke:#000000; stroke-linecap:round; stroke-linejoin:round; stroke-width:4; stroke-opacity:1; fill:none\" points=\"114.76,547.354 114.76,501.22 \"/>\n",
       "<polyline clip-path=\"url(#clip782)\" style=\"stroke:#000000; stroke-linecap:round; stroke-linejoin:round; stroke-width:4; stroke-opacity:1; fill:none\" points=\"114.76,501.22 115.375,501.22 \"/>\n",
       "<polyline clip-path=\"url(#clip782)\" style=\"stroke:#000000; stroke-linecap:round; stroke-linejoin:round; stroke-width:4; stroke-opacity:1; fill:none\" points=\"115.375,501.22 115.99,500.605 \"/>\n",
       "<polyline clip-path=\"url(#clip782)\" style=\"stroke:#000000; stroke-linecap:round; stroke-linejoin:round; stroke-width:4; stroke-opacity:1; fill:none\" points=\"115.99,500.605 115.99,476.616 \"/>\n",
       "<polyline clip-path=\"url(#clip782)\" style=\"stroke:#000000; stroke-linecap:round; stroke-linejoin:round; stroke-width:4; stroke-opacity:1; fill:none\" points=\"115.99,476.616 116.605,476.001 \"/>\n",
       "<polyline clip-path=\"url(#clip782)\" style=\"stroke:#000000; stroke-linecap:round; stroke-linejoin:round; stroke-width:4; stroke-opacity:1; fill:none\" points=\"116.605,476.001 116.605,461.238 \"/>\n",
       "<polyline clip-path=\"url(#clip782)\" style=\"stroke:#000000; stroke-linecap:round; stroke-linejoin:round; stroke-width:4; stroke-opacity:1; fill:none\" points=\"116.605,461.238 157.817,461.238 \"/>\n",
       "<polyline clip-path=\"url(#clip782)\" style=\"stroke:#000000; stroke-linecap:round; stroke-linejoin:round; stroke-width:4; stroke-opacity:1; fill:none\" points=\"157.817,461.238 158.432,460.623 \"/>\n",
       "<polyline clip-path=\"url(#clip782)\" style=\"stroke:#000000; stroke-linecap:round; stroke-linejoin:round; stroke-width:4; stroke-opacity:1; fill:none\" points=\"158.432,460.623 243.932,460.623 \"/>\n",
       "<polyline clip-path=\"url(#clip782)\" style=\"stroke:#000000; stroke-linecap:round; stroke-linejoin:round; stroke-width:4; stroke-opacity:1; fill:none\" points=\"243.932,460.623 244.547,460.008 \"/>\n",
       "<polyline clip-path=\"url(#clip782)\" style=\"stroke:#000000; stroke-linecap:round; stroke-linejoin:round; stroke-width:4; stroke-opacity:1; fill:none\" points=\"244.547,460.008 287.605,460.008 \"/>\n",
       "<polyline clip-path=\"url(#clip782)\" style=\"stroke:#000000; stroke-linecap:round; stroke-linejoin:round; stroke-width:4; stroke-opacity:1; fill:none\" points=\"287.605,460.008 288.835,458.778 \"/>\n",
       "<polyline clip-path=\"url(#clip782)\" style=\"stroke:#000000; stroke-linecap:round; stroke-linejoin:round; stroke-width:4; stroke-opacity:1; fill:none\" points=\"288.835,458.778 288.835,434.174 \"/>\n",
       "<polyline clip-path=\"url(#clip782)\" style=\"stroke:#000000; stroke-linecap:round; stroke-linejoin:round; stroke-width:4; stroke-opacity:1; fill:none\" points=\"288.835,434.174 288.22,433.559 \"/>\n",
       "<polyline clip-path=\"url(#clip782)\" style=\"stroke:#000000; stroke-linecap:round; stroke-linejoin:round; stroke-width:4; stroke-opacity:1; fill:none\" points=\"288.22,433.559 282.684,433.559 \"/>\n",
       "<polyline clip-path=\"url(#clip782)\" style=\"stroke:#000000; stroke-linecap:round; stroke-linejoin:round; stroke-width:4; stroke-opacity:1; fill:none\" points=\"282.684,433.559 282.069,434.174 \"/>\n",
       "<polyline clip-path=\"url(#clip782)\" style=\"stroke:#000000; stroke-linecap:round; stroke-linejoin:round; stroke-width:4; stroke-opacity:1; fill:none\" points=\"282.069,434.174 282.069,452.627 \"/>\n",
       "<polyline clip-path=\"url(#clip782)\" style=\"stroke:#000000; stroke-linecap:round; stroke-linejoin:round; stroke-width:4; stroke-opacity:1; fill:none\" points=\"282.069,452.627 244.547,452.627 \"/>\n",
       "<polyline clip-path=\"url(#clip782)\" style=\"stroke:#000000; stroke-linecap:round; stroke-linejoin:round; stroke-width:4; stroke-opacity:1; fill:none\" points=\"244.547,452.627 243.932,453.242 \"/>\n",
       "<polyline clip-path=\"url(#clip782)\" style=\"stroke:#000000; stroke-linecap:round; stroke-linejoin:round; stroke-width:4; stroke-opacity:1; fill:none\" points=\"243.932,453.242 158.432,453.242 \"/>\n",
       "<polyline clip-path=\"url(#clip782)\" style=\"stroke:#000000; stroke-linecap:round; stroke-linejoin:round; stroke-width:4; stroke-opacity:1; fill:none\" points=\"158.432,453.242 157.817,453.857 \"/>\n",
       "<polyline clip-path=\"url(#clip782)\" style=\"stroke:#000000; stroke-linecap:round; stroke-linejoin:round; stroke-width:4; stroke-opacity:1; fill:none\" points=\"157.817,453.857 117.22,453.857 \"/>\n",
       "<polyline clip-path=\"url(#clip782)\" style=\"stroke:#000000; stroke-linecap:round; stroke-linejoin:round; stroke-width:4; stroke-opacity:1; fill:none\" points=\"117.22,453.857 117.22,437.249 \"/>\n",
       "<polyline clip-path=\"url(#clip782)\" style=\"stroke:#000000; stroke-linecap:round; stroke-linejoin:round; stroke-width:4; stroke-opacity:1; fill:none\" points=\"117.22,437.249 117.835,436.634 \"/>\n",
       "<polyline clip-path=\"url(#clip782)\" style=\"stroke:#000000; stroke-linecap:round; stroke-linejoin:round; stroke-width:4; stroke-opacity:1; fill:none\" points=\"117.835,436.634 117.835,397.882 \"/>\n",
       "<polyline clip-path=\"url(#clip782)\" style=\"stroke:#000000; stroke-linecap:round; stroke-linejoin:round; stroke-width:4; stroke-opacity:1; fill:none\" points=\"117.835,397.882 118.45,397.267 \"/>\n",
       "<polyline clip-path=\"url(#clip782)\" style=\"stroke:#000000; stroke-linecap:round; stroke-linejoin:round; stroke-width:4; stroke-opacity:1; fill:none\" points=\"118.45,397.267 118.45,358.515 \"/>\n",
       "<polyline clip-path=\"url(#clip782)\" style=\"stroke:#000000; stroke-linecap:round; stroke-linejoin:round; stroke-width:4; stroke-opacity:1; fill:none\" points=\"118.45,358.515 119.065,357.9 \"/>\n",
       "<polyline clip-path=\"url(#clip782)\" style=\"stroke:#000000; stroke-linecap:round; stroke-linejoin:round; stroke-width:4; stroke-opacity:1; fill:none\" points=\"119.065,357.9 119.065,319.148 \"/>\n",
       "<polyline clip-path=\"url(#clip782)\" style=\"stroke:#000000; stroke-linecap:round; stroke-linejoin:round; stroke-width:4; stroke-opacity:1; fill:none\" points=\"119.065,319.148 119.68,318.533 \"/>\n",
       "<polyline clip-path=\"url(#clip782)\" style=\"stroke:#000000; stroke-linecap:round; stroke-linejoin:round; stroke-width:4; stroke-opacity:1; fill:none\" points=\"119.68,318.533 119.68,305.616 \"/>\n",
       "<polyline clip-path=\"url(#clip782)\" style=\"stroke:#000000; stroke-linecap:round; stroke-linejoin:round; stroke-width:4; stroke-opacity:1; fill:none\" points=\"119.68,305.616 143.67,305.616 \"/>\n",
       "<polyline clip-path=\"url(#clip782)\" style=\"stroke:#000000; stroke-linecap:round; stroke-linejoin:round; stroke-width:4; stroke-opacity:1; fill:none\" points=\"143.67,305.616 144.285,305.001 \"/>\n",
       "<polyline clip-path=\"url(#clip782)\" style=\"stroke:#000000; stroke-linecap:round; stroke-linejoin:round; stroke-width:4; stroke-opacity:1; fill:none\" points=\"144.285,305.001 206.411,305.001 \"/>\n",
       "<polyline clip-path=\"url(#clip782)\" style=\"stroke:#000000; stroke-linecap:round; stroke-linejoin:round; stroke-width:4; stroke-opacity:1; fill:none\" points=\"206.411,305.001 207.026,304.386 \"/>\n",
       "<polyline clip-path=\"url(#clip782)\" style=\"stroke:#000000; stroke-linecap:round; stroke-linejoin:round; stroke-width:4; stroke-opacity:1; fill:none\" points=\"207.026,304.386 268.537,304.386 \"/>\n",
       "<polyline clip-path=\"url(#clip782)\" style=\"stroke:#000000; stroke-linecap:round; stroke-linejoin:round; stroke-width:4; stroke-opacity:1; fill:none\" points=\"268.537,304.386 269.152,303.771 \"/>\n",
       "<polyline clip-path=\"url(#clip782)\" style=\"stroke:#000000; stroke-linecap:round; stroke-linejoin:round; stroke-width:4; stroke-opacity:1; fill:none\" points=\"269.152,303.771 282.069,303.771 \"/>\n",
       "<polyline clip-path=\"url(#clip782)\" style=\"stroke:#000000; stroke-linecap:round; stroke-linejoin:round; stroke-width:4; stroke-opacity:1; fill:none\" points=\"282.069,303.771 282.069,387.425 \"/>\n",
       "<polyline clip-path=\"url(#clip782)\" style=\"stroke:#000000; stroke-linecap:round; stroke-linejoin:round; stroke-width:4; stroke-opacity:1; fill:none\" points=\"282.069,387.425 282.684,388.041 \"/>\n",
       "<polyline clip-path=\"url(#clip782)\" style=\"stroke:#000000; stroke-linecap:round; stroke-linejoin:round; stroke-width:4; stroke-opacity:1; fill:none\" points=\"282.684,388.041 288.22,388.041 \"/>\n",
       "<polyline clip-path=\"url(#clip782)\" style=\"stroke:#000000; stroke-linecap:round; stroke-linejoin:round; stroke-width:4; stroke-opacity:1; fill:none\" points=\"288.22,388.041 288.835,387.425 \"/>\n",
       "<polyline clip-path=\"url(#clip782)\" style=\"stroke:#000000; stroke-linecap:round; stroke-linejoin:round; stroke-width:4; stroke-opacity:1; fill:none\" points=\"288.835,387.425 288.835,303.156 \"/>\n",
       "<polyline clip-path=\"url(#clip782)\" style=\"stroke:#000000; stroke-linecap:round; stroke-linejoin:round; stroke-width:4; stroke-opacity:1; fill:none\" points=\"288.835,303.156 306.673,303.156 \"/>\n",
       "<polyline clip-path=\"url(#clip782)\" style=\"stroke:#000000; stroke-linecap:round; stroke-linejoin:round; stroke-width:4; stroke-opacity:1; fill:none\" points=\"306.673,303.156 307.288,303.771 \"/>\n",
       "<polyline clip-path=\"url(#clip782)\" style=\"stroke:#000000; stroke-linecap:round; stroke-linejoin:round; stroke-width:4; stroke-opacity:1; fill:none\" points=\"307.288,303.771 391.558,303.771 \"/>\n",
       "<polyline clip-path=\"url(#clip782)\" style=\"stroke:#000000; stroke-linecap:round; stroke-linejoin:round; stroke-width:4; stroke-opacity:1; fill:none\" points=\"391.558,303.771 392.173,304.386 \"/>\n",
       "<polyline clip-path=\"url(#clip782)\" style=\"stroke:#000000; stroke-linecap:round; stroke-linejoin:round; stroke-width:4; stroke-opacity:1; fill:none\" points=\"392.173,304.386 418.623,304.386 \"/>\n",
       "<polyline clip-path=\"url(#clip782)\" style=\"stroke:#000000; stroke-linecap:round; stroke-linejoin:round; stroke-width:4; stroke-opacity:1; fill:none\" points=\"418.623,304.386 418.623,340.677 \"/>\n",
       "<polyline clip-path=\"url(#clip782)\" style=\"stroke:#000000; stroke-linecap:round; stroke-linejoin:round; stroke-width:4; stroke-opacity:1; fill:none\" points=\"418.623,340.677 418.008,341.292 \"/>\n",
       "<polyline clip-path=\"url(#clip782)\" style=\"stroke:#000000; stroke-linecap:round; stroke-linejoin:round; stroke-width:4; stroke-opacity:1; fill:none\" points=\"418.008,341.292 418.008,343.753 \"/>\n",
       "<polyline clip-path=\"url(#clip782)\" style=\"stroke:#000000; stroke-linecap:round; stroke-linejoin:round; stroke-width:4; stroke-opacity:1; fill:none\" points=\"418.008,343.753 418.623,344.368 \"/>\n",
       "<polyline clip-path=\"url(#clip782)\" style=\"stroke:#000000; stroke-linecap:round; stroke-linejoin:round; stroke-width:4; stroke-opacity:1; fill:none\" points=\"418.623,344.368 427.235,344.368 \"/>\n",
       "<polyline clip-path=\"url(#clip782)\" style=\"stroke:#000000; stroke-linecap:round; stroke-linejoin:round; stroke-width:4; stroke-opacity:1; fill:none\" points=\"427.235,344.368 427.85,343.753 \"/>\n",
       "<polyline clip-path=\"url(#clip782)\" style=\"stroke:#000000; stroke-linecap:round; stroke-linejoin:round; stroke-width:4; stroke-opacity:1; fill:none\" points=\"427.85,343.753 427.85,299.465 \"/>\n",
       "<polyline clip-path=\"url(#clip782)\" style=\"stroke:#000000; stroke-linecap:round; stroke-linejoin:round; stroke-width:4; stroke-opacity:1; fill:none\" points=\"427.85,299.465 427.235,298.85 \"/>\n",
       "<polyline clip-path=\"url(#clip782)\" style=\"stroke:#000000; stroke-linecap:round; stroke-linejoin:round; stroke-width:4; stroke-opacity:1; fill:none\" points=\"427.235,298.85 427.235,298.235 \"/>\n",
       "<polyline clip-path=\"url(#clip782)\" style=\"stroke:#000000; stroke-linecap:round; stroke-linejoin:round; stroke-width:4; stroke-opacity:1; fill:none\" points=\"427.235,298.235 426.619,297.62 \"/>\n",
       "<polyline clip-path=\"url(#clip782)\" style=\"stroke:#000000; stroke-linecap:round; stroke-linejoin:round; stroke-width:4; stroke-opacity:1; fill:none\" points=\"426.619,297.62 426.004,297.62 \"/>\n",
       "<polyline clip-path=\"url(#clip782)\" style=\"stroke:#000000; stroke-linecap:round; stroke-linejoin:round; stroke-width:4; stroke-opacity:1; fill:none\" points=\"426.004,297.62 426.004,294.544 \"/>\n",
       "<polyline clip-path=\"url(#clip782)\" style=\"stroke:#000000; stroke-linecap:round; stroke-linejoin:round; stroke-width:4; stroke-opacity:1; fill:none\" points=\"426.004,294.544 426.619,293.929 \"/>\n",
       "<polyline clip-path=\"url(#clip782)\" style=\"stroke:#000000; stroke-linecap:round; stroke-linejoin:round; stroke-width:4; stroke-opacity:1; fill:none\" points=\"426.619,293.929 426.619,241.03 \"/>\n",
       "<polyline clip-path=\"url(#clip782)\" style=\"stroke:#000000; stroke-linecap:round; stroke-linejoin:round; stroke-width:4; stroke-opacity:1; fill:none\" points=\"426.619,241.03 427.235,240.415 \"/>\n",
       "<polyline clip-path=\"url(#clip782)\" style=\"stroke:#000000; stroke-linecap:round; stroke-linejoin:round; stroke-width:4; stroke-opacity:1; fill:none\" points=\"427.235,240.415 427.235,187.515 \"/>\n",
       "<polyline clip-path=\"url(#clip782)\" style=\"stroke:#000000; stroke-linecap:round; stroke-linejoin:round; stroke-width:4; stroke-opacity:1; fill:none\" points=\"427.235,187.515 427.85,186.9 \"/>\n",
       "<polyline clip-path=\"url(#clip782)\" style=\"stroke:#000000; stroke-linecap:round; stroke-linejoin:round; stroke-width:4; stroke-opacity:1; fill:none\" points=\"427.85,186.9 427.85,134.616 \"/>\n",
       "<polyline clip-path=\"url(#clip782)\" style=\"stroke:#000000; stroke-linecap:round; stroke-linejoin:round; stroke-width:4; stroke-opacity:1; fill:none\" points=\"427.85,134.616 428.465,134.001 \"/>\n",
       "<polyline clip-path=\"url(#clip782)\" style=\"stroke:#000000; stroke-linecap:round; stroke-linejoin:round; stroke-width:4; stroke-opacity:1; fill:none\" points=\"428.465,134.001 428.465,114.317 \"/>\n",
       "<polyline clip-path=\"url(#clip782)\" style=\"stroke:#000000; stroke-linecap:round; stroke-linejoin:round; stroke-width:4; stroke-opacity:1; fill:none\" points=\"428.465,114.317 580.396,114.317 \"/>\n",
       "<polyline clip-path=\"url(#clip782)\" style=\"stroke:#000000; stroke-linecap:round; stroke-linejoin:round; stroke-width:4; stroke-opacity:1; fill:none\" points=\"580.396,114.317 580.396,266.249 \"/>\n",
       "<polyline clip-path=\"url(#clip782)\" style=\"stroke:#000000; stroke-linecap:round; stroke-linejoin:round; stroke-width:4; stroke-opacity:1; fill:none\" points=\"580.396,266.249 581.627,267.479 \"/>\n",
       "<polyline clip-path=\"url(#clip782)\" style=\"stroke:#000000; stroke-linecap:round; stroke-linejoin:round; stroke-width:4; stroke-opacity:1; fill:none\" points=\"581.627,267.479 587.163,267.479 \"/>\n",
       "<polyline clip-path=\"url(#clip782)\" style=\"stroke:#000000; stroke-linecap:round; stroke-linejoin:round; stroke-width:4; stroke-opacity:1; fill:none\" points=\"587.163,267.479 587.778,268.094 \"/>\n",
       "<polyline clip-path=\"url(#clip782)\" style=\"stroke:#000000; stroke-linecap:round; stroke-linejoin:round; stroke-width:4; stroke-opacity:1; fill:none\" points=\"587.778,268.094 734.173,268.094 \"/>\n",
       "<polyline clip-path=\"url(#clip782)\" style=\"stroke:#000000; stroke-linecap:round; stroke-linejoin:round; stroke-width:4; stroke-opacity:1; fill:none\" points=\"734.173,268.094 734.173,420.641 \"/>\n",
       "<polyline clip-path=\"url(#clip782)\" style=\"stroke:#000000; stroke-linecap:round; stroke-linejoin:round; stroke-width:4; stroke-opacity:1; fill:none\" points=\"734.173,420.641 733.558,420.026 \"/>\n",
       "<polyline clip-path=\"url(#clip782)\" style=\"stroke:#000000; stroke-linecap:round; stroke-linejoin:round; stroke-width:4; stroke-opacity:1; fill:none\" points=\"733.558,420.026 666.512,420.026 \"/>\n",
       "<polyline clip-path=\"url(#clip782)\" style=\"stroke:#000000; stroke-linecap:round; stroke-linejoin:round; stroke-width:4; stroke-opacity:1; fill:none\" points=\"666.512,420.026 665.896,420.641 \"/>\n",
       "<polyline clip-path=\"url(#clip782)\" style=\"stroke:#000000; stroke-linecap:round; stroke-linejoin:round; stroke-width:4; stroke-opacity:1; fill:none\" points=\"665.896,420.641 598.235,420.641 \"/>\n",
       "<polyline clip-path=\"url(#clip782)\" style=\"stroke:#000000; stroke-linecap:round; stroke-linejoin:round; stroke-width:4; stroke-opacity:1; fill:none\" points=\"598.235,420.641 597.619,421.256 \"/>\n",
       "<polyline clip-path=\"url(#clip782)\" style=\"stroke:#000000; stroke-linecap:round; stroke-linejoin:round; stroke-width:4; stroke-opacity:1; fill:none\" points=\"597.619,421.256 597.619,427.407 \"/>\n",
       "<polyline clip-path=\"url(#clip782)\" style=\"stroke:#000000; stroke-linecap:round; stroke-linejoin:round; stroke-width:4; stroke-opacity:1; fill:none\" points=\"597.619,427.407 598.235,428.023 \"/>\n",
       "<polyline clip-path=\"url(#clip782)\" style=\"stroke:#000000; stroke-linecap:round; stroke-linejoin:round; stroke-width:4; stroke-opacity:1; fill:none\" points=\"598.235,428.023 670.817,428.023 \"/>\n",
       "<polyline clip-path=\"url(#clip782)\" style=\"stroke:#000000; stroke-linecap:round; stroke-linejoin:round; stroke-width:4; stroke-opacity:1; fill:none\" points=\"670.817,428.023 671.432,427.407 \"/>\n",
       "<polyline clip-path=\"url(#clip782)\" style=\"stroke:#000000; stroke-linecap:round; stroke-linejoin:round; stroke-width:4; stroke-opacity:1; fill:none\" points=\"671.432,427.407 734.173,427.407 \"/>\n",
       "<polyline clip-path=\"url(#clip782)\" style=\"stroke:#000000; stroke-linecap:round; stroke-linejoin:round; stroke-width:4; stroke-opacity:1; fill:none\" points=\"734.173,427.407 734.173,610.095 \"/>\n",
       "<polyline clip-path=\"url(#clip782)\" style=\"stroke:#000000; stroke-linecap:round; stroke-linejoin:round; stroke-width:4; stroke-opacity:1; fill:none\" points=\"734.173,610.095 662.206,610.095 \"/>\n",
       "<polyline clip-path=\"url(#clip782)\" style=\"stroke:#000000; stroke-linecap:round; stroke-linejoin:round; stroke-width:4; stroke-opacity:1; fill:none\" points=\"662.206,610.095 661.591,609.479 \"/>\n",
       "<polyline clip-path=\"url(#clip782)\" style=\"stroke:#000000; stroke-linecap:round; stroke-linejoin:round; stroke-width:4; stroke-opacity:1; fill:none\" points=\"661.591,609.479 504.738,609.479 \"/>\n",
       "<polyline clip-path=\"url(#clip782)\" style=\"stroke:#000000; stroke-linecap:round; stroke-linejoin:round; stroke-width:4; stroke-opacity:1; fill:none\" points=\"504.738,609.479 504.123,608.864 \"/>\n",
       "<polyline clip-path=\"url(#clip782)\" style=\"stroke:#000000; stroke-linecap:round; stroke-linejoin:round; stroke-width:4; stroke-opacity:1; fill:none\" points=\"504.123,608.864 430.925,608.864 \"/>\n",
       "<polyline clip-path=\"url(#clip782)\" style=\"stroke:#000000; stroke-linecap:round; stroke-linejoin:round; stroke-width:4; stroke-opacity:1; fill:none\" points=\"430.925,608.864 430.925,587.951 \"/>\n",
       "<polyline clip-path=\"url(#clip782)\" style=\"stroke:#000000; stroke-linecap:round; stroke-linejoin:round; stroke-width:4; stroke-opacity:1; fill:none\" points=\"430.925,587.951 430.31,587.336 \"/>\n",
       "<polyline clip-path=\"url(#clip782)\" style=\"stroke:#000000; stroke-linecap:round; stroke-linejoin:round; stroke-width:4; stroke-opacity:1; fill:none\" points=\"430.31,587.336 430.31,533.206 \"/>\n",
       "<polyline clip-path=\"url(#clip782)\" style=\"stroke:#000000; stroke-linecap:round; stroke-linejoin:round; stroke-width:4; stroke-opacity:1; fill:none\" points=\"430.31,533.206 429.695,532.591 \"/>\n",
       "<polyline clip-path=\"url(#clip782)\" style=\"stroke:#000000; stroke-linecap:round; stroke-linejoin:round; stroke-width:4; stroke-opacity:1; fill:none\" points=\"429.695,532.591 429.695,477.846 \"/>\n",
       "<polyline clip-path=\"url(#clip782)\" style=\"stroke:#000000; stroke-linecap:round; stroke-linejoin:round; stroke-width:4; stroke-opacity:1; fill:none\" points=\"429.695,477.846 429.08,477.231 \"/>\n",
       "<polyline clip-path=\"url(#clip782)\" style=\"stroke:#000000; stroke-linecap:round; stroke-linejoin:round; stroke-width:4; stroke-opacity:1; fill:none\" points=\"429.08,477.231 429.08,428.638 \"/>\n",
       "<polyline clip-path=\"url(#clip782)\" style=\"stroke:#000000; stroke-linecap:round; stroke-linejoin:round; stroke-width:4; stroke-opacity:1; fill:none\" points=\"429.08,428.638 488.13,428.638 \"/>\n",
       "<polyline clip-path=\"url(#clip782)\" style=\"stroke:#000000; stroke-linecap:round; stroke-linejoin:round; stroke-width:4; stroke-opacity:1; fill:none\" points=\"488.13,428.638 488.745,428.023 \"/>\n",
       "<polyline clip-path=\"url(#clip782)\" style=\"stroke:#000000; stroke-linecap:round; stroke-linejoin:round; stroke-width:4; stroke-opacity:1; fill:none\" points=\"488.745,428.023 551.486,428.023 \"/>\n",
       "<polyline clip-path=\"url(#clip782)\" style=\"stroke:#000000; stroke-linecap:round; stroke-linejoin:round; stroke-width:4; stroke-opacity:1; fill:none\" points=\"551.486,428.023 552.101,427.407 \"/>\n",
       "<polyline clip-path=\"url(#clip782)\" style=\"stroke:#000000; stroke-linecap:round; stroke-linejoin:round; stroke-width:4; stroke-opacity:1; fill:none\" points=\"552.101,427.407 552.101,421.256 \"/>\n",
       "<polyline clip-path=\"url(#clip782)\" style=\"stroke:#000000; stroke-linecap:round; stroke-linejoin:round; stroke-width:4; stroke-opacity:1; fill:none\" points=\"552.101,421.256 551.486,420.641 \"/>\n",
       "<polyline clip-path=\"url(#clip782)\" style=\"stroke:#000000; stroke-linecap:round; stroke-linejoin:round; stroke-width:4; stroke-opacity:1; fill:none\" points=\"551.486,420.641 550.871,421.256 \"/>\n",
       "<polyline clip-path=\"url(#clip782)\" style=\"stroke:#000000; stroke-linecap:round; stroke-linejoin:round; stroke-width:4; stroke-opacity:1; fill:none\" points=\"550.871,421.256 483.824,421.256 \"/>\n",
       "<polyline clip-path=\"url(#clip782)\" style=\"stroke:#000000; stroke-linecap:round; stroke-linejoin:round; stroke-width:4; stroke-opacity:1; fill:none\" points=\"483.824,421.256 483.209,421.871 \"/>\n",
       "<polyline clip-path=\"url(#clip782)\" style=\"stroke:#000000; stroke-linecap:round; stroke-linejoin:round; stroke-width:4; stroke-opacity:1; fill:none\" points=\"483.209,421.871 428.465,421.871 \"/>\n",
       "<polyline clip-path=\"url(#clip782)\" style=\"stroke:#000000; stroke-linecap:round; stroke-linejoin:round; stroke-width:4; stroke-opacity:1; fill:none\" points=\"428.465,421.871 428.465,390.501 \"/>\n",
       "<polyline clip-path=\"url(#clip782)\" style=\"stroke:#000000; stroke-linecap:round; stroke-linejoin:round; stroke-width:4; stroke-opacity:1; fill:none\" points=\"428.465,390.501 427.85,389.886 \"/>\n",
       "<polyline clip-path=\"url(#clip782)\" style=\"stroke:#000000; stroke-linecap:round; stroke-linejoin:round; stroke-width:4; stroke-opacity:1; fill:none\" points=\"427.85,389.886 418.623,389.886 \"/>\n",
       "<polyline clip-path=\"url(#clip782)\" style=\"stroke:#000000; stroke-linecap:round; stroke-linejoin:round; stroke-width:4; stroke-opacity:1; fill:none\" points=\"418.623,389.886 418.008,390.501 \"/>\n",
       "<polyline clip-path=\"url(#clip782)\" style=\"stroke:#000000; stroke-linecap:round; stroke-linejoin:round; stroke-width:4; stroke-opacity:1; fill:none\" points=\"418.008,390.501 418.008,407.724 \"/>\n",
       "<polyline clip-path=\"url(#clip782)\" style=\"stroke:#000000; stroke-linecap:round; stroke-linejoin:round; stroke-width:4; stroke-opacity:1; fill:none\" points=\"418.008,407.724 417.393,408.339 \"/>\n",
       "<polyline clip-path=\"url(#clip782)\" style=\"stroke:#000000; stroke-linecap:round; stroke-linejoin:round; stroke-width:4; stroke-opacity:1; fill:none\" points=\"417.393,408.339 417.393,431.098 \"/>\n",
       "<polyline clip-path=\"url(#clip782)\" style=\"stroke:#000000; stroke-linecap:round; stroke-linejoin:round; stroke-width:4; stroke-opacity:1; fill:none\" points=\"417.393,431.098 418.008,431.713 \"/>\n",
       "<polyline clip-path=\"url(#clip782)\" style=\"stroke:#000000; stroke-linecap:round; stroke-linejoin:round; stroke-width:4; stroke-opacity:1; fill:none\" points=\"418.008,431.713 418.008,448.321 \"/>\n",
       "<polyline clip-path=\"url(#clip782)\" style=\"stroke:#000000; stroke-linecap:round; stroke-linejoin:round; stroke-width:4; stroke-opacity:1; fill:none\" points=\"418.008,448.321 418.623,448.936 \"/>\n",
       "<polyline clip-path=\"url(#clip782)\" style=\"stroke:#000000; stroke-linecap:round; stroke-linejoin:round; stroke-width:4; stroke-opacity:1; fill:none\" points=\"418.623,448.936 418.623,464.929 \"/>\n",
       "<polyline clip-path=\"url(#clip782)\" style=\"stroke:#000000; stroke-linecap:round; stroke-linejoin:round; stroke-width:4; stroke-opacity:1; fill:none\" points=\"418.623,464.929 419.238,465.544 \"/>\n",
       "<polyline clip-path=\"url(#clip782)\" style=\"stroke:#000000; stroke-linecap:round; stroke-linejoin:round; stroke-width:4; stroke-opacity:1; fill:none\" points=\"419.238,465.544 419.238,481.537 \"/>\n",
       "<polyline clip-path=\"url(#clip782)\" style=\"stroke:#000000; stroke-linecap:round; stroke-linejoin:round; stroke-width:4; stroke-opacity:1; fill:none\" points=\"419.238,481.537 419.853,482.152 \"/>\n",
       "<polyline clip-path=\"url(#clip782)\" style=\"stroke:#000000; stroke-linecap:round; stroke-linejoin:round; stroke-width:4; stroke-opacity:1; fill:none\" points=\"419.853,482.152 419.853,498.76 \"/>\n",
       "<polyline clip-path=\"url(#clip782)\" style=\"stroke:#000000; stroke-linecap:round; stroke-linejoin:round; stroke-width:4; stroke-opacity:1; fill:none\" points=\"419.853,498.76 420.468,499.375 \"/>\n",
       "<polyline clip-path=\"url(#clip782)\" style=\"stroke:#000000; stroke-linecap:round; stroke-linejoin:round; stroke-width:4; stroke-opacity:1; fill:none\" points=\"420.468,499.375 420.468,515.368 \"/>\n",
       "<polyline clip-path=\"url(#clip782)\" style=\"stroke:#000000; stroke-linecap:round; stroke-linejoin:round; stroke-width:4; stroke-opacity:1; fill:none\" points=\"420.468,515.368 421.083,515.983 \"/>\n",
       "<polyline clip-path=\"url(#clip782)\" style=\"stroke:#000000; stroke-linecap:round; stroke-linejoin:round; stroke-width:4; stroke-opacity:1; fill:none\" points=\"421.083,515.983 421.083,531.976 \"/>\n",
       "<polyline clip-path=\"url(#clip782)\" style=\"stroke:#000000; stroke-linecap:round; stroke-linejoin:round; stroke-width:4; stroke-opacity:1; fill:none\" points=\"421.083,531.976 421.699,532.591 \"/>\n",
       "<polyline clip-path=\"url(#clip782)\" style=\"stroke:#000000; stroke-linecap:round; stroke-linejoin:round; stroke-width:4; stroke-opacity:1; fill:none\" points=\"421.699,532.591 421.699,549.199 \"/>\n",
       "<polyline clip-path=\"url(#clip782)\" style=\"stroke:#000000; stroke-linecap:round; stroke-linejoin:round; stroke-width:4; stroke-opacity:1; fill:none\" points=\"421.699,549.199 422.314,549.814 \"/>\n",
       "<polyline clip-path=\"url(#clip782)\" style=\"stroke:#000000; stroke-linecap:round; stroke-linejoin:round; stroke-width:4; stroke-opacity:1; fill:none\" points=\"422.314,549.814 422.314,565.807 \"/>\n",
       "<polyline clip-path=\"url(#clip782)\" style=\"stroke:#000000; stroke-linecap:round; stroke-linejoin:round; stroke-width:4; stroke-opacity:1; fill:none\" points=\"422.314,565.807 422.929,566.422 \"/>\n",
       "<polyline clip-path=\"url(#clip782)\" style=\"stroke:#000000; stroke-linecap:round; stroke-linejoin:round; stroke-width:4; stroke-opacity:1; fill:none\" points=\"422.929,566.422 422.929,582.415 \"/>\n",
       "<polyline clip-path=\"url(#clip782)\" style=\"stroke:#000000; stroke-linecap:round; stroke-linejoin:round; stroke-width:4; stroke-opacity:1; fill:none\" points=\"422.929,582.415 423.544,583.03 \"/>\n",
       "<polyline clip-path=\"url(#clip782)\" style=\"stroke:#000000; stroke-linecap:round; stroke-linejoin:round; stroke-width:4; stroke-opacity:1; fill:none\" points=\"423.544,583.03 423.544,599.638 \"/>\n",
       "<polyline clip-path=\"url(#clip782)\" style=\"stroke:#000000; stroke-linecap:round; stroke-linejoin:round; stroke-width:4; stroke-opacity:1; fill:none\" points=\"423.544,599.638 424.159,600.253 \"/>\n",
       "<polyline clip-path=\"url(#clip782)\" style=\"stroke:#000000; stroke-linecap:round; stroke-linejoin:round; stroke-width:4; stroke-opacity:1; fill:none\" points=\"424.159,600.253 424.159,608.864 \"/>\n",
       "<polyline clip-path=\"url(#clip782)\" style=\"stroke:#000000; stroke-linecap:round; stroke-linejoin:round; stroke-width:4; stroke-opacity:1; fill:none\" points=\"424.159,608.864 350.346,608.864 \"/>\n",
       "<polyline clip-path=\"url(#clip782)\" style=\"stroke:#000000; stroke-linecap:round; stroke-linejoin:round; stroke-width:4; stroke-opacity:1; fill:none\" points=\"350.346,608.864 349.731,609.479 \"/>\n",
       "<polyline clip-path=\"url(#clip782)\" style=\"stroke:#000000; stroke-linecap:round; stroke-linejoin:round; stroke-width:4; stroke-opacity:1; fill:none\" points=\"349.731,609.479 194.724,609.479 \"/>\n",
       "<polyline clip-path=\"url(#clip782)\" style=\"stroke:#000000; stroke-linecap:round; stroke-linejoin:round; stroke-width:4; stroke-opacity:1; fill:none\" points=\"194.724,609.479 194.109,610.095 \"/>\n",
       "<polyline clip-path=\"url(#clip782)\" style=\"stroke:#000000; stroke-linecap:round; stroke-linejoin:round; stroke-width:4; stroke-opacity:1; fill:none\" points=\"194.109,610.095 115.375,610.095 \"/>\n",
       "<polyline clip-path=\"url(#clip782)\" style=\"stroke:#000000; stroke-linecap:round; stroke-linejoin:round; stroke-width:4; stroke-opacity:1; fill:none\" points=\"115.375,610.095 115.375,610.095 \"/>\n",
       "</svg>\n"
      ]
     },
     "execution_count": 12,
     "metadata": {},
     "output_type": "execute_result"
    }
   ],
   "source": [
    "plot(size=(200,200), aspect_ratio=:equal, legend=nothing)\n",
    "plot!(d[:env][:segs], c=\"black\")"
   ]
  },
  {
   "cell_type": "code",
   "execution_count": 3,
   "id": "f25be0b2",
   "metadata": {},
   "outputs": [
    {
     "data": {
      "text/plain": [
       "Dict{String, Any} with 3 entries:\n",
       "  \"motion\" => Dict{String, Any}(\"hd\"=>Any[-0.785398, -0.655696, -0.404892, -0.3…\n",
       "  \"sensor\" => Dict{String, Any}(\"zmax\"=>20, \"fov\"=>6.28319, \"z\"=>Any[Any[0.6203…\n",
       "  \"env\"    => Dict{String, Any}(\"segs\"=>Any[Any[0.11, 0.1, 0.1, 0.11], Any[0.1,…"
      ]
     },
     "execution_count": 3,
     "metadata": {},
     "output_type": "execute_result"
    }
   ],
   "source": [
    "import JSON\n",
    "\n",
    "fname = \"data/data.json\"\n",
    "d = JSON.parsefile(fname)"
   ]
  },
  {
   "cell_type": "code",
   "execution_count": 8,
   "id": "d5a6636b",
   "metadata": {},
   "outputs": [],
   "source": [
    "\n",
    "\n"
   ]
  },
  {
   "cell_type": "code",
   "execution_count": null,
   "id": "32d97571",
   "metadata": {},
   "outputs": [],
   "source": []
  }
 ],
 "metadata": {
  "@webio": {
   "lastCommId": null,
   "lastKernelId": null
  },
  "kernelspec": {
   "display_name": "Julia 1.8.5",
   "language": "julia",
   "name": "julia-1.8"
  },
  "language_info": {
   "file_extension": ".jl",
   "mimetype": "application/julia",
   "name": "julia",
   "version": "1.8.5"
  },
  "toc": {
   "base_numbering": 1,
   "nav_menu": {},
   "number_sections": true,
   "sideBar": true,
   "skip_h1_title": false,
   "title_cell": "Table of Contents",
   "title_sidebar": "Contents",
   "toc_cell": false,
   "toc_position": {},
   "toc_section_display": true,
   "toc_window_display": false
  }
 },
 "nbformat": 4,
 "nbformat_minor": 5
}
