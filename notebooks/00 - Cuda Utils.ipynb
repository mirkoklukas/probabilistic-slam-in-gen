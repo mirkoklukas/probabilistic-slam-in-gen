{
 "cells": [
  {
   "attachments": {},
   "cell_type": "markdown",
   "metadata": {},
   "source": [
    "# CUDA utilities"
   ]
  },
  {
   "attachments": {},
   "cell_type": "markdown",
   "metadata": {},
   "source": [
    "**Cuda availability**\n",
    "\n",
    "Chek if we have a GPU that is compatible with CUDA.\n",
    "In a module one can add the following snippet (`__init__` will then be automatically called)\n",
    "```julia\n",
    "const _cuda = Ref(false)\n",
    "function __init__()\n",
    "    _cuda[] = CUDA.functional()\n",
    "end;\n",
    "```\n",
    "\n",
    "> Reference: https://cuda.juliagpu.org/stable/installation/conditional/"
   ]
  },
  {
   "cell_type": "code",
   "execution_count": 6,
   "metadata": {},
   "outputs": [
    {
     "name": "stderr",
     "output_type": "stream",
     "text": [
      "WARNING: redefinition of constant _cuda. This may fail, cause incorrect answers, or produce other errors.\n"
     ]
    }
   ],
   "source": [
    "#nbx --fname=src/MyCudaUtils.jl --jl_module==MyCudaUtils\n",
    "using CUDA\n",
    "using BenchmarkTools\n",
    "\n",
    "const _cuda = Ref(false)\n",
    "function __init__()\n",
    "    _cuda[] = CUDA.functional()\n",
    "end;\n",
    "\n",
    "export _cuda"
   ]
  },
  {
   "cell_type": "code",
   "execution_count": 12,
   "metadata": {},
   "outputs": [
    {
     "data": {
      "text/plain": [
       "cuda_grid"
      ]
     },
     "metadata": {},
     "output_type": "display_data"
    }
   ],
   "source": [
    "#nbx\n",
    "\"\"\"\n",
    "    griddims = cuda_grid(datadims::Tuple{Vararg{Int}}, \n",
    "                         blockdims::Tuple{Vararg{Int}})\n",
    "\n",
    "Given data dimensions `datadims` and number of threads \n",
    "in each dimension `blockdims` returns the respective \n",
    "grid dimensions `griddims` such that\n",
    "\n",
    "    griddims[i] = ceil(Int, datadims[i]/blockdims[i])\n",
    "\n",
    "\"\"\"\n",
    "function cuda_grid(datadims::Tuple{Vararg{Int}}, blockdims::Tuple{Vararg{Int}})\n",
    "    griddims = ceil.(Int, datadims./blockdims)\n",
    "    return griddims\n",
    "end\n",
    "export cuda_grid"
   ]
  },
  {
   "cell_type": "code",
   "execution_count": 16,
   "metadata": {},
   "outputs": [
    {
     "name": "stdout",
     "output_type": "stream",
     "text": [
      "  20.793 ms (4 allocations: 176 bytes)\n"
     ]
    },
    {
     "name": "stdout",
     "output_type": "stream",
     "text": [
      "  120.299 ms (2 allocations: 152.59 MiB)\n"
     ]
    }
   ],
   "source": [
    "x  = rand(1000,500,40)\n",
    "x_ = CuArray(x) \n",
    "\n",
    "@btime CuArray($x) samples=3 evals=1;\n",
    "@btime Array($x_)  samples=3 evals=1;"
   ]
  },
  {
   "cell_type": "code",
   "execution_count": null,
   "metadata": {},
   "outputs": [],
   "source": []
  }
 ],
 "metadata": {
  "kernelspec": {
   "display_name": "Julia 1.8.3",
   "language": "julia",
   "name": "julia-1.8"
  },
  "language_info": {
   "file_extension": ".jl",
   "mimetype": "application/julia",
   "name": "julia",
   "version": "1.8.3"
  },
  "orig_nbformat": 4
 },
 "nbformat": 4,
 "nbformat_minor": 2
}
