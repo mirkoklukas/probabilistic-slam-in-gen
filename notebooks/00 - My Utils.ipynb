{
 "cells": [
  {
   "attachments": {},
   "cell_type": "markdown",
   "id": "0d1f3014",
   "metadata": {},
   "source": [
    "# My Utilities"
   ]
  },
  {
   "cell_type": "code",
   "execution_count": 1,
   "id": "3acfbe6d",
   "metadata": {},
   "outputs": [],
   "source": [
    "#nbx --fname=\"../src/MyUtils.jl\" --jl_module=\"MyUtils\"\n",
    "using LinearAlgebra\n",
    "\n",
    "unit_vec(a::Float64) = [cos(a);sin(a)];\n",
    "LinearAlgebra.angle(x::Vector{Float64}) = atan(x[2],x[1]);\n",
    "peak_to_peak(xs) = (xs .- minimum(xs))./(maximum(xs) - minimum(xs))\n",
    "\n",
    "polar(x::Vector{Float64}) = [norm(x);atan(x[2],x[1])];\n",
    "polar_inv(zs::Vector{Float64}, as::Vector{Float64}) = [[z*cos(a);z*sin(a)] for (z,a) in zip(zs,as)];\n",
    "polar_inv(r_and_phi::Vector{Float64}) = [r_and_phi[1]*cos(r_and_phi[2]);r_and_phi[1]*sin(r_and_phi[2])]\n",
    "polar_inv(r::Float64, phi::Float64)   = [r*cos(phi);r*sin(phi)]\n",
    "polar_inv(z::AbstractArray, a::AbstractArray) = z .* cat(cos.(a), sin.(a), dims=ndims(a)+1);\n",
    "\n",
    "\n",
    "export unit_vec, polar, angle, peak_to_peak, euclidean, polar_inv"
   ]
  },
  {
   "cell_type": "code",
   "execution_count": 2,
   "id": "b866dd75",
   "metadata": {},
   "outputs": [],
   "source": [
    "#nbx\n",
    "\"\"\"\n",
    "Stacks vectors on top of each other (as rows, along dim 1)\n",
    "\"\"\"\n",
    "stack(xs::AbstractVector) = reduce(vcat, transpose.(xs));\n",
    "unstack(x::Matrix) = [x[i,:] for i=1:size(x,1)]\n",
    "\"\"\"\n",
    "Stacks vectors horizontally (along dim 2)\n",
    "\"\"\"\n",
    "hstack(xs::AbstractVector) = reduce(hcat,xs);\n",
    "\n",
    "export stack, hstack, unstack"
   ]
  },
  {
   "cell_type": "code",
   "execution_count": 3,
   "id": "d382a42e",
   "metadata": {},
   "outputs": [
    {
     "data": {
      "text/plain": [
       "((4, 2), (2, 4))"
      ]
     },
     "metadata": {},
     "output_type": "display_data"
    }
   ],
   "source": [
    "xs = [rand(2) for t=1:4];\n",
    "\n",
    "size( stack(xs)),\n",
    "size(hstack(xs))"
   ]
  },
  {
   "cell_type": "code",
   "execution_count": 4,
   "id": "a07373d8",
   "metadata": {},
   "outputs": [],
   "source": [
    "#nbx\n",
    "\"\"\"\n",
    "    rot(hd)\n",
    "\n",
    "Returns 2D rotation matrix.\n",
    "\"\"\"\n",
    "rot(hd) = [[cos(hd) -sin(hd)]; [sin(hd) cos(hd)]]\n",
    "\n",
    "export rot"
   ]
  },
  {
   "cell_type": "code",
   "execution_count": 5,
   "id": "988e4161",
   "metadata": {},
   "outputs": [],
   "source": [
    "#nbx\n",
    "using Colors, Plots\n",
    "col = palette(:default);\n",
    "\n",
    "Plots.scatter!(xs::Vector{Vector{Float64}}; args...) = scatter!([x[1] for x in xs], [x[2] for x in xs]; args...)\n",
    "Plots.plot!(xs::Vector{Vector{Float64}}; args...)    = plot!([x[1] for x in xs], [x[2] for x in xs]; args...)"
   ]
  },
  {
   "cell_type": "code",
   "execution_count": 6,
   "id": "6d975d13",
   "metadata": {},
   "outputs": [
    {
     "data": {
      "text/plain": [
       "cuda_grid"
      ]
     },
     "metadata": {},
     "output_type": "display_data"
    }
   ],
   "source": [
    "\"\"\"\n",
    "    griddims = cuda_grid(datadims::Tuple{Vararg{Int}},\n",
    "                         blockdims::Tuple{Vararg{Int}})\n",
    "\n",
    "Given data dimensions `datadims` and number of threads\n",
    "in each dimension `blockdims` returns the respective\n",
    "grid dimensions `griddims` such that\n",
    "\n",
    "    griddims[i] = ceil(Int, datadims[i]/blockdims[i])\n",
    "\n",
    "\"\"\"\n",
    "function cuda_grid(datadims::Tuple{Vararg{Int}}, blockdims::Tuple{Vararg{Int}})\n",
    "    griddims = ceil.(Int, datadims./blockdims)\n",
    "    return griddims\n",
    "end"
   ]
  },
  {
   "cell_type": "code",
   "execution_count": 13,
   "id": "b85c30c7",
   "metadata": {},
   "outputs": [],
   "source": [
    "#nbx\n",
    "using Fmt: @f_str, format\n",
    "function summarize_vars(ex::Expr; fstr=f\"{1:<10.10} {2:<}\")\n",
    "    for sx in ex.args\n",
    "        x = getproperty(Main, sx)\n",
    "        println(format(fstr, sx, typeof(x)))\n",
    "    end\n",
    "end;"
   ]
  },
  {
   "cell_type": "code",
   "execution_count": 14,
   "id": "b5de79d4",
   "metadata": {},
   "outputs": [
    {
     "name": "stdout",
     "output_type": "stream",
     "text": [
      "x          Int64\n",
      "y          String\n"
     ]
    }
   ],
   "source": [
    "x = 1\n",
    "y = \"Hi\"\n",
    "summarize_vars(:(x,y); fstr=f\"{1:<10.10} {2:<}\")"
   ]
  },
  {
   "attachments": {},
   "cell_type": "markdown",
   "id": "3150168d",
   "metadata": {},
   "source": [
    "# My CUDA Utilities\n",
    "\n",
    "**Cuda availability**\n",
    "\n",
    "> Reference: https://cuda.juliagpu.org/stable/installation/conditional/\n",
    "\n",
    "Chek if we have a GPU that is compatible with CUDA.\n",
    "In a module one can add the following snippet (`__init__` will then be automatically called)\n",
    "```julia\n",
    "const _cuda = Ref(false)\n",
    "function __init__()\n",
    "    _cuda[] = CUDA.functional()\n",
    "end;\n",
    "```\n",
    "\n"
   ]
  },
  {
   "cell_type": "code",
   "execution_count": null,
   "id": "8a957e5c",
   "metadata": {},
   "outputs": [],
   "source": [
    "#nbx\n",
    "using CUDA\n",
    "using BenchmarkTools\n",
    "\n",
    "const _cuda = Ref(false)\n",
    "function __init__()\n",
    "    _cuda[] = CUDA.functional()\n",
    "end;\n",
    "DeviceArray(x) = _cuda[] ? CuArray(x) : Array(x);\n",
    "\n",
    "export _cuda, DeviceArray"
   ]
  },
  {
   "cell_type": "code",
   "execution_count": null,
   "id": "249d6ff6",
   "metadata": {},
   "outputs": [],
   "source": [
    "#nbx\n",
    "\"\"\"\n",
    "    griddims = cuda_grid(datadims::Tuple{Vararg{Int}}, \n",
    "                         blockdims::Tuple{Vararg{Int}})\n",
    "\n",
    "Given data dimensions `datadims` and number of threads \n",
    "in each dimension `blockdims` returns the respective \n",
    "grid dimensions `griddims` such that\n",
    "\n",
    "    griddims[i] = ceil(Int, datadims[i]/blockdims[i])\n",
    "\n",
    "\"\"\"\n",
    "function cuda_grid(datadims::Tuple{Vararg{Int}}, blockdims::Tuple{Vararg{Int}})\n",
    "    griddims = ceil.(Int, datadims./blockdims)\n",
    "    return griddims\n",
    "end\n",
    "export cuda_grid"
   ]
  }
 ],
 "metadata": {
  "kernelspec": {
   "display_name": "Julia 1.8.3",
   "language": "julia",
   "name": "julia-1.8"
  },
  "language_info": {
   "file_extension": ".jl",
   "mimetype": "application/julia",
   "name": "julia",
   "version": "1.8.3"
  },
  "toc": {
   "base_numbering": 1,
   "nav_menu": {},
   "number_sections": true,
   "sideBar": true,
   "skip_h1_title": false,
   "title_cell": "Table of Contents",
   "title_sidebar": "Contents",
   "toc_cell": false,
   "toc_position": {},
   "toc_section_display": true,
   "toc_window_display": false
  }
 },
 "nbformat": 4,
 "nbformat_minor": 5
}
