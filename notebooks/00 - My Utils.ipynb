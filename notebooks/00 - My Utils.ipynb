{
 "cells": [
  {
   "cell_type": "code",
   "execution_count": 1,
   "id": "3acfbe6d",
   "metadata": {},
   "outputs": [],
   "source": [
    "#nbx --fname=\"src/MyUtils.jl\" --jl_module=MyUtils\n",
    "using LinearAlgebra\n",
    "\n",
    "unit_vec(a::Float64) = [cos(a);sin(a)];\n",
    "\n",
    "LinearAlgebra.angle(x::Vector{Float64}) = atan(x[2],x[1]);\n",
    "\n",
    "peak_to_peak(xs) = (xs .- minimum(xs))./(maximum(xs) - minimum(xs))\n",
    "\n",
    "polar(x::Vector{Float64}) = [norm(x);atan(x[2],x[1])];\n",
    "polar_inv(zs::Vector{Float64}, as::Vector{Float64}) = [[z*cos(a);z*sin(a)] for (z,a) in zip(zs,as)];\n",
    "polar_inv(r_and_phi::Vector{Float64}) = [r_and_phi[1]*cos(r_and_phi[2]);r_and_phi[1]*sin(r_and_phi[2])]\n",
    "polar_inv(r::Float64, phi::Float64)   = [r*cos(phi);r*sin(phi)]\n",
    "\n",
    "export unit_vec, polar, angle, stack, peak_to_peak, euclidean"
   ]
  },
  {
   "cell_type": "code",
   "execution_count": 7,
   "id": "b866dd75",
   "metadata": {},
   "outputs": [],
   "source": [
    "#nbx\n",
    "\"\"\"Stacks vectors on top of each other (as rows, along dim 1)\"\"\"\n",
    "stack(xs::AbstractVector) = reduce(vcat, transpose.(xs));\n",
    "\"\"\"Stacks vectors horizontally (along dim 2)\"\"\"\n",
    "hstack(xs::AbstractVector) = reduce(hcat,xs);\n",
    "export stack, hstack"
   ]
  },
  {
   "cell_type": "code",
   "execution_count": 13,
   "id": "d382a42e",
   "metadata": {},
   "outputs": [
    {
     "data": {
      "text/plain": [
       "((4, 2), (2, 4))"
      ]
     },
     "execution_count": 13,
     "metadata": {},
     "output_type": "execute_result"
    }
   ],
   "source": [
    "xs = [rand(2) for t=1:4];\n",
    "\n",
    "size( stack(xs)),\n",
    "size(hstack(xs))"
   ]
  },
  {
   "cell_type": "code",
   "execution_count": 3,
   "id": "a07373d8",
   "metadata": {},
   "outputs": [],
   "source": [
    "#nbx\n",
    "rot(hd) = [[cos(hd) -sin(hd)]; [sin(hd) cos(hd)]]\n",
    "\n",
    "export rot"
   ]
  },
  {
   "cell_type": "code",
   "execution_count": 4,
   "id": "988e4161",
   "metadata": {},
   "outputs": [],
   "source": [
    "#nbx\n",
    "using Colors, Plots\n",
    "col = palette(:default);\n",
    "\n",
    "Plots.scatter!(xs::Vector{Vector{Float64}}; args...) = scatter!([x[1] for x in xs], [x[2] for x in xs]; args...)\n",
    "Plots.plot!(xs::Vector{Vector{Float64}}; args...)    = plot!([x[1] for x in xs], [x[2] for x in xs]; args...)"
   ]
  },
  {
   "cell_type": "code",
   "execution_count": null,
   "id": "6d975d13",
   "metadata": {},
   "outputs": [],
   "source": []
  }
 ],
 "metadata": {
  "kernelspec": {
   "display_name": "Julia 1.8.3",
   "language": "julia",
   "name": "julia-1.8"
  },
  "language_info": {
   "file_extension": ".jl",
   "mimetype": "application/julia",
   "name": "julia",
   "version": "1.8.3"
  },
  "toc": {
   "base_numbering": 1,
   "nav_menu": {},
   "number_sections": true,
   "sideBar": true,
   "skip_h1_title": false,
   "title_cell": "Table of Contents",
   "title_sidebar": "Contents",
   "toc_cell": false,
   "toc_position": {},
   "toc_section_display": true,
   "toc_window_display": false
  }
 },
 "nbformat": 4,
 "nbformat_minor": 5
}
