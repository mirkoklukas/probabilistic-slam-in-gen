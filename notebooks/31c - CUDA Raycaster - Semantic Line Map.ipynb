{
 "cells": [
  {
   "cell_type": "markdown",
   "id": "8b6fd87e",
   "metadata": {
    "toc": true
   },
   "source": [
    "<h1>Table of Contents<span class=\"tocSkip\"></span></h1>\n",
    "<div class=\"toc\"><ul class=\"toc-item\"><li><span><a href=\"#Line-intersection\" data-toc-modified-id=\"Line-intersection-1\"><span class=\"toc-item-num\">1&nbsp;&nbsp;</span>Line intersection</a></span><ul class=\"toc-item\"><li><span><a href=\"#Combined-version\" data-toc-modified-id=\"Combined-version-1.1\"><span class=\"toc-item-num\">1.1&nbsp;&nbsp;</span>Combined version</a></span></li><li><span><a href=\"#Examples\" data-toc-modified-id=\"Examples-1.2\"><span class=\"toc-item-num\">1.2&nbsp;&nbsp;</span>Examples</a></span></li></ul></li></ul></div>"
   ]
  },
  {
   "cell_type": "markdown",
   "id": "e19ae8b4",
   "metadata": {},
   "source": [
    "# CUDA 2D Raycaster for Line Maps with Segment IDs"
   ]
  },
  {
   "cell_type": "code",
   "execution_count": 1,
   "id": "4e91a854",
   "metadata": {},
   "outputs": [
    {
     "data": {
      "text/html": [
       "<style>.rendered_html.text_cell_render {max-width:500px; }</style>"
      ],
      "text/plain": [
       "HTML{String}(\"<style>.rendered_html.text_cell_render {max-width:500px; }</style>\")"
      ]
     },
     "metadata": {},
     "output_type": "display_data"
    }
   ],
   "source": [
    "display(HTML(\"<style>.rendered_html.text_cell_render {max-width:500px; }</style>\"));"
   ]
  },
  {
   "cell_type": "code",
   "execution_count": 2,
   "id": "1a07e49d",
   "metadata": {},
   "outputs": [
    {
     "name": "stderr",
     "output_type": "stream",
     "text": [
      "\u001b[36m\u001b[1m[ \u001b[22m\u001b[39m\u001b[36m\u001b[1mInfo: \u001b[22m\u001b[39mPrecompiling MyUtils [top-level]\n"
     ]
    }
   ],
   "source": [
    "#nbx --fname=\"src/cuda_raycaster_line_map_c.jl\"\n",
    "push!(LOAD_PATH, \"src\");\n",
    "using MyUtils\n",
    "using CUDA\n",
    "using MyCudaUtils\n",
    "using BenchmarkTools\n",
    "using Colors, Plots\n",
    "col = palette(:default);\n",
    "import Base: @doc"
   ]
  },
  {
   "cell_type": "code",
   "execution_count": 3,
   "id": "e9f06f60",
   "metadata": {},
   "outputs": [
    {
     "name": "stderr",
     "output_type": "stream",
     "text": [
      "\u001b[36m\u001b[1m[ \u001b[22m\u001b[39m\u001b[36m\u001b[1mInfo: \u001b[22m\u001b[39mPrecompiling Geometry [top-level]\n"
     ]
    }
   ],
   "source": [
    "include(\"./src/pose.jl\");\n",
    "using Geometry: Segment"
   ]
  },
  {
   "cell_type": "markdown",
   "id": "425206af",
   "metadata": {},
   "source": [
    "## Line intersection\n",
    "\n",
    "To do raycsting we need to compute the intersection of two lines by solving: $x + s \\cdot dx = y + t \\cdot dy$.\n",
    "\n",
    "Implementation from my `Geometry.jl` package:\n",
    "\n",
    "```julia\n",
    "function line_intersect(x, x′, y, y′)\n",
    "    dx = x′ - x\n",
    "    dy = y′ - y\n",
    "    v  = x - y\n",
    "    if det([-dx dy]) == 0\n",
    "        return [Inf;Inf]\n",
    "    end\n",
    "    s, t = inv([-dx dy])*v\n",
    "    return s,t\n",
    "end;\n",
    "```\n",
    "\n",
    "And here's a version without arrays that we can use within a cuda kernel later."
   ]
  },
  {
   "cell_type": "code",
   "execution_count": 8,
   "id": "ffde98ea",
   "metadata": {},
   "outputs": [
    {
     "data": {
      "text/plain": [
       "intersections (generic function with 1 method)"
      ]
     },
     "execution_count": 8,
     "metadata": {},
     "output_type": "execute_result"
    }
   ],
   "source": [
    "function intersections(x, x′, y, y′)\n",
    "    n = ndims(x)\n",
    "    dx = x′ .- x\n",
    "    dy = y′ .- y\n",
    "    v  = x .- y\n",
    "\n",
    "    dx1 = selectdim(dx, n, 1)\n",
    "    dx2 = selectdim(dx, n, 2)\n",
    "    dy1 = selectdim(dy, n, 1)\n",
    "    dy2 = selectdim(dy, n, 2)\n",
    "    v1  = selectdim(v, n, 1)\n",
    "    v2  = selectdim(v, n, 2)\n",
    "\n",
    "    a, b = -dx1, dy1\n",
    "    c, d = -dx2, dy2\n",
    "\n",
    "    det = a.*d .- b.*c\n",
    "    \n",
    "    s = 1 ./det .*(  d.*v1 .- b.*v2)\n",
    "    t = 1 ./det .*(- c.*v1 .+ a.*v2)\n",
    "    return s,t, x .+ s.*dx, y .+ t.*dy\n",
    "end"
   ]
  },
  {
   "cell_type": "code",
   "execution_count": 9,
   "id": "4db9dbda",
   "metadata": {},
   "outputs": [],
   "source": [
    "create_angles(fov, num_a) = [range(-fov/2, fov/2, num_a)...];"
   ]
  },
  {
   "cell_type": "code",
   "execution_count": 31,
   "id": "5d817d56",
   "metadata": {},
   "outputs": [],
   "source": [
    "function cast(v0::AbstractVector, as::AbstractVector, segs::AbstractArray, zmax=Inf)\n",
    "    x  = view(v0, 1:2)\n",
    "    hd = view(v0, 3)\n",
    "    as = as .+ hd\n",
    "\n",
    "    x′ = reshape(x,1,2) .+ cat(cos.(as), sin.(as), dims=2)\n",
    "    y  = view(segs,:,1:2)\n",
    "    y′ = view(segs,:,3:4)\n",
    "\n",
    "    x  = reshape(x , :, 1, 2)\n",
    "    x′ = reshape(x′, :, 1, 2)\n",
    "    y  = reshape(y , 1, :, 2)\n",
    "    y′ = reshape(y′, 1, :, 2)\n",
    "\n",
    "    s, t, _, _ = intersections(x, x′, y, y′)\n",
    "\n",
    "    # Hit map\n",
    "    h = (0 .< s) .* (0 .<= t .<= 1)\n",
    "    s[.!h] .= zmax\n",
    "\n",
    "    # Segment-ID\n",
    "    i  = argmin(s, dims=2)[:,1]\n",
    "    i2 = map(i->i[2],i);\n",
    "    \n",
    "    # Todo: There was an issue when I computed `z_ = s_[i_]`\n",
    "    #       Not sure why... but using minimum() works\n",
    "    z = minimum(s, dims=2)[:,1]\n",
    "    i2[z.==zmax] .= 0\n",
    "\n",
    "    # Depth and Segment-ID\n",
    "    return z, i2\n",
    "end;"
   ]
  },
  {
   "cell_type": "code",
   "execution_count": 32,
   "id": "6b6c08c3",
   "metadata": {},
   "outputs": [],
   "source": [
    "function cast(vs::AbstractArray, as::AbstractVector, segs::AbstractArray, zmax=Inf)\n",
    "    map(v->cast(v, as, segs, zmax), eachslice(vs, dims=1))\n",
    "end;"
   ]
  },
  {
   "cell_type": "code",
   "execution_count": 40,
   "id": "485ea494",
   "metadata": {},
   "outputs": [
    {
     "name": "stdout",
     "output_type": "stream",
     "text": [
      "  2.005 ms (1065 allocations: 2.65 MiB)\n"
     ]
    }
   ],
   "source": [
    "_fov   = π\n",
    "_num_a = 100\n",
    "zmax=100.0\n",
    "\n",
    "vs   = rand(10,3)\n",
    "segs = 5*(rand(40,4))\n",
    "as   = create_angles(_fov, _num_a)\n",
    "\n",
    "@btime cast($vs, $as, $segs) samples=1 evals=5;\n"
   ]
  },
  {
   "cell_type": "code",
   "execution_count": null,
   "id": "502daeab",
   "metadata": {},
   "outputs": [],
   "source": []
  }
 ],
 "metadata": {
  "@webio": {
   "lastCommId": null,
   "lastKernelId": null
  },
  "kernelspec": {
   "display_name": "Julia 1.8.5",
   "language": "julia",
   "name": "julia-1.8"
  },
  "language_info": {
   "file_extension": ".jl",
   "mimetype": "application/julia",
   "name": "julia",
   "version": "1.8.5"
  },
  "toc": {
   "base_numbering": 1,
   "nav_menu": {},
   "number_sections": true,
   "sideBar": true,
   "skip_h1_title": true,
   "title_cell": "Table of Contents",
   "title_sidebar": "Contents",
   "toc_cell": true,
   "toc_position": {
    "height": "809.473px",
    "left": "68.9922px",
    "top": "110.156px",
    "width": "288.889px"
   },
   "toc_section_display": true,
   "toc_window_display": true
  }
 },
 "nbformat": 4,
 "nbformat_minor": 5
}
