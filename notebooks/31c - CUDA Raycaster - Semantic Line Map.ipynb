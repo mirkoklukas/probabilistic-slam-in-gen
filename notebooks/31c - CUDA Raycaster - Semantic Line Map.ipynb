{
 "cells": [
  {
   "attachments": {},
   "cell_type": "markdown",
   "id": "8b6fd87e",
   "metadata": {
    "toc": true
   },
   "source": [
    "<h1>Table of Contents<span class=\"tocSkip\"></span></h1>\n",
    "<div class=\"toc\"><ul class=\"toc-item\"><li><span><a href=\"#Line-intersection\" data-toc-modified-id=\"Line-intersection-1\"><span class=\"toc-item-num\">1&nbsp;&nbsp;</span>Line intersection</a></span></li><li><span><a href=\"#Benchmark---putting-stuff-on-the-GPU\" data-toc-modified-id=\"Benchmark---putting-stuff-on-the-GPU-2\"><span class=\"toc-item-num\">2&nbsp;&nbsp;</span>Benchmark - putting stuff on the GPU</a></span></li><li><span><a href=\"#Raycaster---Parallelizing-segments-and-poses\" data-toc-modified-id=\"Raycaster---Parallelizing-segments-and-poses-3\"><span class=\"toc-item-num\">3&nbsp;&nbsp;</span>Raycaster - Parallelizing segments and poses</a></span><ul class=\"toc-item\"><li><span><a href=\"#CPU-version\" data-toc-modified-id=\"CPU-version-3.1\"><span class=\"toc-item-num\">3.1&nbsp;&nbsp;</span>CPU version</a></span></li><li><span><a href=\"#CUDA-version\" data-toc-modified-id=\"CUDA-version-3.2\"><span class=\"toc-item-num\">3.2&nbsp;&nbsp;</span>CUDA version</a></span></li><li><span><a href=\"#Combined-version\" data-toc-modified-id=\"Combined-version-3.3\"><span class=\"toc-item-num\">3.3&nbsp;&nbsp;</span>Combined version</a></span></li><li><span><a href=\"#Examples\" data-toc-modified-id=\"Examples-3.4\"><span class=\"toc-item-num\">3.4&nbsp;&nbsp;</span>Examples</a></span></li></ul></li></ul></div>"
   ]
  },
  {
   "attachments": {},
   "cell_type": "markdown",
   "id": "e19ae8b4",
   "metadata": {},
   "source": [
    "# CUDA 2D Raycaster for Line Maps with Segment IDs"
   ]
  },
  {
   "cell_type": "code",
   "execution_count": 2,
   "id": "4e91a854",
   "metadata": {},
   "outputs": [
    {
     "data": {
      "text/html": [
       "<style>.rendered_html.text_cell_render {max-width:500px; }</style>"
      ],
      "text/plain": [
       "HTML{String}(\"<style>.rendered_html.text_cell_render {max-width:500px; }</style>\")"
      ]
     },
     "metadata": {},
     "output_type": "display_data"
    }
   ],
   "source": [
    "display(HTML(\"<style>.rendered_html.text_cell_render {max-width:500px; }</style>\"));"
   ]
  },
  {
   "cell_type": "code",
   "execution_count": 1,
   "id": "1a07e49d",
   "metadata": {},
   "outputs": [],
   "source": [
    "#nbx --fname=\"src/cuda_raycaster_line_map_c.jl\"\n",
    "push!(LOAD_PATH, \"src\");\n",
    "using MyUtils\n",
    "using CUDA\n",
    "using MyCudaUtils\n",
    "using BenchmarkTools\n",
    "using Colors, Plots\n",
    "col = palette(:default);\n",
    "import Base: @doc"
   ]
  },
  {
   "cell_type": "code",
   "execution_count": 2,
   "id": "e9f06f60",
   "metadata": {},
   "outputs": [],
   "source": [
    "include(\"./src/pose.jl\");\n",
    "using Geometry: Segment"
   ]
  },
  {
   "attachments": {},
   "cell_type": "markdown",
   "id": "425206af",
   "metadata": {},
   "source": [
    "## Line intersection\n",
    "\n",
    "To do raycsting we need to compute the intersection of two lines by solving: $x + s \\cdot dx = y + t \\cdot dy$.\n",
    "\n",
    "Implementation from my `Geometry.jl` package:\n",
    "\n",
    "```julia\n",
    "function line_intersect(x, x′, y, y′)\n",
    "    dx = x′ - x\n",
    "    dy = y′ - y\n",
    "    v  = x - y\n",
    "    if det([-dx dy]) == 0\n",
    "        return [Inf;Inf]\n",
    "    end\n",
    "    s, t = inv([-dx dy])*v\n",
    "    return s,t\n",
    "end;\n",
    "```\n",
    "\n",
    "And here's a version without arrays that we can use within a cuda kernel later."
   ]
  },
  {
   "cell_type": "code",
   "execution_count": 3,
   "id": "ffde98ea",
   "metadata": {},
   "outputs": [
    {
     "data": {
      "text/plain": [
       "intersections (generic function with 1 method)"
      ]
     },
     "metadata": {},
     "output_type": "display_data"
    }
   ],
   "source": [
    "function intersections(x, x′, y, y′)\n",
    "    n = ndims(x)\n",
    "    dx = x′ .- x\n",
    "    dy = y′ .- y\n",
    "    v  = x .- y\n",
    "\n",
    "    dx1 = selectdim(dx, n, 1)\n",
    "    dx2 = selectdim(dx, n, 2)\n",
    "    dy1 = selectdim(dy, n, 1)\n",
    "    dy2 = selectdim(dy, n, 2)\n",
    "    v1 = selectdim(v, n, 1)\n",
    "    v2 = selectdim(v, n, 2)\n",
    "\n",
    "    a, b = -dx1, dy1\n",
    "    c, d = -dx2, dy2\n",
    "\n",
    "    det = a.*d .- b.*c\n",
    "    \n",
    "    s = 1 ./det .*(  d.*v1 .- b.*v2)\n",
    "    t = 1 ./det .*(- c.*v1 .+ a.*v2)\n",
    "    return s,t, x .+ s.*dx, y .+ t.*dy\n",
    "end"
   ]
  },
  {
   "cell_type": "code",
   "execution_count": 209,
   "id": "63681b62",
   "metadata": {},
   "outputs": [
    {
     "data": {
      "text/plain": [
       "intersections (generic function with 1 method)"
      ]
     },
     "metadata": {},
     "output_type": "display_data"
    }
   ],
   "source": [
    "# function intersections(x, x′, y, y′)\n",
    "\n",
    "#     dx = x′ .- x\n",
    "#     dy = y′ .- y\n",
    "#     v  = x .- y\n",
    "\n",
    "#     a, b = -dx[:,:,1], dy[:,:,1]\n",
    "#     c, d = -dx[:,:,2], dy[:,:,2]\n",
    "\n",
    "#     det = a.*d .- b.*c\n",
    "    \n",
    "#     s = 1 ./det .*(  d.*v[:,:,1] .- b.*v[:,:,2])\n",
    "#     t = 1 ./det .*(- c.*v[:,:,1] .+ a.*v[:,:,2])\n",
    "#     return s,t, x .+ s.*dx, y .+ t.*dy\n",
    "# end"
   ]
  },
  {
   "cell_type": "code",
   "execution_count": 4,
   "id": "4db9dbda",
   "metadata": {},
   "outputs": [],
   "source": [
    "create_angles(fov, num_a) = [range(-fov/2, fov/2, num_a)...];"
   ]
  },
  {
   "cell_type": "code",
   "execution_count": 49,
   "id": "896e6ad1",
   "metadata": {},
   "outputs": [],
   "source": [
    "function cast(v0::AbstractVector, as_::CuArray, segs_::CuArray; zmax=Inf)\n",
    "    x  = view(v0, 1:2)\n",
    "    hd = view(v0, 3)\n",
    "    as_ = as_ .+ hd\n",
    "    x_  = CuArray(x)\n",
    "    x′_ = reshape(x_,1,2) .+ cat(cos.(as_), sin.(as_), dims=2)\n",
    "    y_  = view(segs_,:,1:2)\n",
    "    y′_ = view(segs_,:,3:4)\n",
    "\n",
    "    x_  = reshape(x_ , :, 1, 2)\n",
    "    x′_ = reshape(x′_, :, 1, 2)\n",
    "    y_  = reshape(y_ , 1, :, 2)\n",
    "    y′_ = reshape(y′_, 1, :, 2)\n",
    "\n",
    "    s_, t_, _, _ = intersections(x_, x′_, y_, y′_)\n",
    "\n",
    "    # Hit map\n",
    "    h_ = (0 .< s_) .* (0 .<= t_ .<= 1)\n",
    "    s_[.!h_] .= zmax\n",
    "\n",
    "    # Segment-ID\n",
    "    i_  = argmin(s_, dims=2)[:,1]\n",
    "    i2_ = map(i->i[2],i_);\n",
    "    \n",
    "    # Todo: There was an issue when I computed `z_ = s_[i_]`\n",
    "    #       Not sure why... but using minimum() works\n",
    "    z_ = minimum(s_, dims=2)[:,1]\n",
    "    i2_[z_.==zmax] .= 0\n",
    "\n",
    "    # Depth and Segment-ID\n",
    "    return z_, i2_\n",
    "end;"
   ]
  },
  {
   "cell_type": "code",
   "execution_count": 53,
   "id": "0fd0cce1",
   "metadata": {},
   "outputs": [],
   "source": [
    "function cast(vs::Array, as::Vector, segs::Array; zmax=Inf)\n",
    "    vs_   = CuArray(vs)\n",
    "    as_   = CuArray(as)\n",
    "    segs_ = CuArray(segs)\n",
    "    map(v_->cast(v_, as_, segs_, zmax=zmax), eachslice(vs_, dims=1))\n",
    "end;"
   ]
  },
  {
   "cell_type": "code",
   "execution_count": 56,
   "id": "3cdc5d04",
   "metadata": {},
   "outputs": [
    {
     "name": "stdout",
     "output_type": "stream",
     "text": [
      "  795.694 ms (804302 allocations: 663.31 MiB)\n"
     ]
    }
   ],
   "source": [
    "_fov   = π\n",
    "_num_a = 100\n",
    "\n",
    "vs   = rand(500,3)\n",
    "segs = 5*(rand(1_000,4))\n",
    "as   = create_angles(_fov, _num_a)\n",
    "\n",
    "@btime cast($vs, $as, $segs) samples=1 evals=5;\n"
   ]
  },
  {
   "cell_type": "code",
   "execution_count": 5,
   "id": "efd6c30e",
   "metadata": {},
   "outputs": [],
   "source": [
    "# Todo: Turn in to cast_cpu and cast_gpu and cast\n",
    "\"\"\"\n",
    "    zs, is = cast(v0, as::Vector, segs::Array; zmax=Inf)\n",
    "\n",
    "Returns depth measurements and segment-IDs for a given \n",
    "pose vector `v0` and a set of segments `segs` and angles `as`.\n",
    "\"\"\"\n",
    "function cast(v0::Vector, as::Vector, segs::Array; zmax=Inf)\n",
    "    as_   = CuArray(as .+ v0[3])\n",
    "    segs_ = CuArray(segs)\n",
    "\n",
    "    x_  = CuArray(v0[1:2])\n",
    "    x′_ = cat(v0[1] .+ cos.(as_), v0[2] .+ sin.(as_), dims=2)\n",
    "    y_  = view(segs_,:,1:2)\n",
    "    y′_ = view(segs_,:,3:4)\n",
    "\n",
    "    x_  = reshape(x_ , :, 1, 2)\n",
    "    x′_ = reshape(x′_, :, 1, 2)\n",
    "    y_  = reshape(y_ , 1, :, 2)\n",
    "    y′_ = reshape(y′_, 1, :, 2)\n",
    "\n",
    "    s_, t_, _, _ = intersections(x_, x′_, y_, y′_)\n",
    "\n",
    "    # Hit map\n",
    "    h_ = (0 .< s_) .* (0 .<= t_ .<= 1)\n",
    "    s_[.!h_] .= zmax\n",
    "\n",
    "    # Segment-ID\n",
    "    i_  = argmin(s_, dims=2)[:,1]\n",
    "    i2_ = map(i->i[2],i_);\n",
    "    \n",
    "    # Todo: There was an issue when I computed `z_ = s_[i_]`\n",
    "    #       Not sure why... but using minimum() works\n",
    "    z_ = minimum(s_, dims=2)[:,1]\n",
    "    i2_[z_.==zmax] .= 0\n",
    "\n",
    "    # Depth and Segment-ID\n",
    "    return Array(z_), Array(i2_)\n",
    "end;\n",
    "\n",
    "cast(p::Pose, as::Vector, segs::Array; zmax=Inf) = cast(Vector(p), as, segs; zmax=zmax);"
   ]
  },
  {
   "cell_type": "code",
   "execution_count": 10,
   "id": "4a4f07b8",
   "metadata": {},
   "outputs": [
    {
     "data": {
      "image/png": "[encoded data removed]",
      "image/svg+xml": [
       "<?xml version=\"1.0\" encoding=\"utf-8\"?>\n",
       "<svg xmlns=\"http://www.w3.org/2000/svg\" xmlns:xlink=\"http://www.w3.org/1999/xlink\" width=\"500\" height=\"500\" viewBox=\"0 0 2000 2000\">\n",
       "<defs>\n",
       "  <clipPath id=\"clip750\">\n",
       "    <rect x=\"0\" y=\"0\" width=\"2000\" height=\"2000\"/>\n",
       "  </clipPath>\n",
       "</defs>\n",
       "<path clip-path=\"url(#clip750)\" d=\"M0 2000 L2000 2000 L2000 0 L0 0  Z\" fill=\"#ffffff\" fill-rule=\"evenodd\" fill-opacity=\"1\"/>\n",
       "<defs>\n",
       "  <clipPath id=\"clip751\">\n",
       "    <rect x=\"400\" y=\"200\" width=\"1401\" height=\"1401\"/>\n",
       "  </clipPath>\n",
       "</defs>\n",
       "<path clip-path=\"url(#clip750)\" d=\"M108.177 1865.17 L1952.76 1865.17 L1952.76 47.2441 L108.177 47.2441  Z\" fill=\"#ffffff\" fill-rule=\"evenodd\" fill-opacity=\"1\"/>\n",
       "<defs>\n",
       "  <clipPath id=\"clip752\">\n",
       "    <rect x=\"108\" y=\"47\" width=\"1846\" height=\"1819\"/>\n",
       "  </clipPath>\n",
       "</defs>\n",
       "<polyline clip-path=\"url(#clip752)\" style=\"stroke:#000000; stroke-linecap:round; stroke-linejoin:round; stroke-width:2; stroke-opacity:0.1; fill:none\" points=\"186.288,1865.17 186.288,47.2441 \"/>\n",
       "<polyline clip-path=\"url(#clip752)\" style=\"stroke:#000000; stroke-linecap:round; stroke-linejoin:round; stroke-width:2; stroke-opacity:0.1; fill:none\" points=\"571.99,1865.17 571.99,47.2441 \"/>\n",
       "<polyline clip-path=\"url(#clip752)\" style=\"stroke:#000000; stroke-linecap:round; stroke-linejoin:round; stroke-width:2; stroke-opacity:0.1; fill:none\" points=\"957.691,1865.17 957.691,47.2441 \"/>\n",
       "<polyline clip-path=\"url(#clip752)\" style=\"stroke:#000000; stroke-linecap:round; stroke-linejoin:round; stroke-width:2; stroke-opacity:0.1; fill:none\" points=\"1343.39,1865.17 1343.39,47.2441 \"/>\n",
       "<polyline clip-path=\"url(#clip752)\" style=\"stroke:#000000; stroke-linecap:round; stroke-linejoin:round; stroke-width:2; stroke-opacity:0.1; fill:none\" points=\"1729.09,1865.17 1729.09,47.2441 \"/>\n",
       "<polyline clip-path=\"url(#clip750)\" style=\"stroke:#000000; stroke-linecap:round; stroke-linejoin:round; stroke-width:4; stroke-opacity:1; fill:none\" points=\"108.177,1865.17 1952.76,1865.17 \"/>\n",
       "<polyline clip-path=\"url(#clip750)\" style=\"stroke:#000000; stroke-linecap:round; stroke-linejoin:round; stroke-width:4; stroke-opacity:1; fill:none\" points=\"186.288,1865.17 186.288,1846.27 \"/>\n",
       "<polyline clip-path=\"url(#clip750)\" style=\"stroke:#000000; stroke-linecap:round; stroke-linejoin:round; stroke-width:4; stroke-opacity:1; fill:none\" points=\"571.99,1865.17 571.99,1846.27 \"/>\n",
       "<polyline clip-path=\"url(#clip750)\" style=\"stroke:#000000; stroke-linecap:round; stroke-linejoin:round; stroke-width:4; stroke-opacity:1; fill:none\" points=\"957.691,1865.17 957.691,1846.27 \"/>\n",
       "<polyline clip-path=\"url(#clip750)\" style=\"stroke:#000000; stroke-linecap:round; stroke-linejoin:round; stroke-width:4; stroke-opacity:1; fill:none\" points=\"1343.39,1865.17 1343.39,1846.27 \"/>\n",
       "<polyline clip-path=\"url(#clip750)\" style=\"stroke:#000000; stroke-linecap:round; stroke-linejoin:round; stroke-width:4; stroke-opacity:1; fill:none\" points=\"1729.09,1865.17 1729.09,1846.27 \"/>\n",
       "<path clip-path=\"url(#clip750)\" d=\"M186.288 1892.89 Q182.677 1892.89 180.848 1896.45 Q179.043 1899.99 179.043 1907.12 Q179.043 1914.23 180.848 1917.79 Q182.677 1921.34 186.288 1921.34 Q189.922 1921.34 191.728 1917.79 Q193.556 1914.23 193.556 1907.12 Q193.556 1899.99 191.728 1896.45 Q189.922 1892.89 186.288 1892.89 M186.288 1889.18 Q192.098 1889.18 195.154 1893.79 Q198.232 1898.37 198.232 1907.12 Q198.232 1915.85 195.154 1920.46 Q192.098 1925.04 186.288 1925.04 Q180.478 1925.04 177.399 1920.46 Q174.344 1915.85 174.344 1907.12 Q174.344 1898.37 177.399 1893.79 Q180.478 1889.18 186.288 1889.18 Z\" fill=\"#000000\" fill-rule=\"nonzero\" fill-opacity=\"1\" /><path clip-path=\"url(#clip750)\" d=\"M562.372 1920.43 L570.011 1920.43 L570.011 1894.07 L561.7 1895.73 L561.7 1891.47 L569.964 1889.81 L574.64 1889.81 L574.64 1920.43 L582.279 1920.43 L582.279 1924.37 L562.372 1924.37 L562.372 1920.43 Z\" fill=\"#000000\" fill-rule=\"nonzero\" fill-opacity=\"1\" /><path clip-path=\"url(#clip750)\" d=\"M952.344 1920.43 L968.664 1920.43 L968.664 1924.37 L946.719 1924.37 L946.719 1920.43 Q949.381 1917.68 953.965 1913.05 Q958.571 1908.4 959.752 1907.05 Q961.997 1904.53 962.877 1902.79 Q963.779 1901.03 963.779 1899.34 Q963.779 1896.59 961.835 1894.85 Q959.914 1893.12 956.812 1893.12 Q954.613 1893.12 952.159 1893.88 Q949.729 1894.65 946.951 1896.2 L946.951 1891.47 Q949.775 1890.34 952.229 1889.76 Q954.682 1889.18 956.719 1889.18 Q962.09 1889.18 965.284 1891.87 Q968.478 1894.55 968.478 1899.04 Q968.478 1901.17 967.668 1903.09 Q966.881 1904.99 964.775 1907.59 Q964.196 1908.26 961.094 1911.47 Q957.992 1914.67 952.344 1920.43 Z\" fill=\"#000000\" fill-rule=\"nonzero\" fill-opacity=\"1\" /><path clip-path=\"url(#clip750)\" d=\"M1347.64 1905.73 Q1351 1906.45 1352.87 1908.72 Q1354.77 1910.99 1354.77 1914.32 Q1354.77 1919.44 1351.25 1922.24 Q1347.73 1925.04 1341.25 1925.04 Q1339.08 1925.04 1336.76 1924.6 Q1334.47 1924.18 1332.02 1923.33 L1332.02 1918.81 Q1333.96 1919.95 1336.28 1920.53 Q1338.59 1921.1 1341.11 1921.1 Q1345.51 1921.1 1347.8 1919.37 Q1350.12 1917.63 1350.12 1914.32 Q1350.12 1911.27 1347.96 1909.55 Q1345.84 1907.82 1342.02 1907.82 L1337.99 1907.82 L1337.99 1903.97 L1342.2 1903.97 Q1345.65 1903.97 1347.48 1902.61 Q1349.31 1901.22 1349.31 1898.63 Q1349.31 1895.97 1347.41 1894.55 Q1345.53 1893.12 1342.02 1893.12 Q1340.09 1893.12 1337.9 1893.53 Q1335.7 1893.95 1333.06 1894.83 L1333.06 1890.66 Q1335.72 1889.92 1338.03 1889.55 Q1340.37 1889.18 1342.43 1889.18 Q1347.76 1889.18 1350.86 1891.61 Q1353.96 1894.02 1353.96 1898.14 Q1353.96 1901.01 1352.32 1903 Q1350.67 1904.97 1347.64 1905.73 Z\" fill=\"#000000\" fill-rule=\"nonzero\" fill-opacity=\"1\" /><path clip-path=\"url(#clip750)\" d=\"M1732.1 1893.88 L1720.3 1912.33 L1732.1 1912.33 L1732.1 1893.88 M1730.88 1889.81 L1736.76 1889.81 L1736.76 1912.33 L1741.69 1912.33 L1741.69 1916.22 L1736.76 1916.22 L1736.76 1924.37 L1732.1 1924.37 L1732.1 1916.22 L1716.5 1916.22 L1716.5 1911.71 L1730.88 1889.81 Z\" fill=\"#000000\" fill-rule=\"nonzero\" fill-opacity=\"1\" /><polyline clip-path=\"url(#clip752)\" style=\"stroke:#000000; stroke-linecap:round; stroke-linejoin:round; stroke-width:2; stroke-opacity:0.1; fill:none\" points=\"108.177,1622.07 1952.76,1622.07 \"/>\n",
       "<polyline clip-path=\"url(#clip752)\" style=\"stroke:#000000; stroke-linecap:round; stroke-linejoin:round; stroke-width:2; stroke-opacity:0.1; fill:none\" points=\"108.177,1236.37 1952.76,1236.37 \"/>\n",
       "<polyline clip-path=\"url(#clip752)\" style=\"stroke:#000000; stroke-linecap:round; stroke-linejoin:round; stroke-width:2; stroke-opacity:0.1; fill:none\" points=\"108.177,850.665 1952.76,850.665 \"/>\n",
       "<polyline clip-path=\"url(#clip752)\" style=\"stroke:#000000; stroke-linecap:round; stroke-linejoin:round; stroke-width:2; stroke-opacity:0.1; fill:none\" points=\"108.177,464.963 1952.76,464.963 \"/>\n",
       "<polyline clip-path=\"url(#clip752)\" style=\"stroke:#000000; stroke-linecap:round; stroke-linejoin:round; stroke-width:2; stroke-opacity:0.1; fill:none\" points=\"108.177,79.2612 1952.76,79.2612 \"/>\n",
       "<polyline clip-path=\"url(#clip750)\" style=\"stroke:#000000; stroke-linecap:round; stroke-linejoin:round; stroke-width:4; stroke-opacity:1; fill:none\" points=\"108.177,1865.17 108.177,47.2441 \"/>\n",
       "<polyline clip-path=\"url(#clip750)\" style=\"stroke:#000000; stroke-linecap:round; stroke-linejoin:round; stroke-width:4; stroke-opacity:1; fill:none\" points=\"108.177,1622.07 127.075,1622.07 \"/>\n",
       "<polyline clip-path=\"url(#clip750)\" style=\"stroke:#000000; stroke-linecap:round; stroke-linejoin:round; stroke-width:4; stroke-opacity:1; fill:none\" points=\"108.177,1236.37 127.075,1236.37 \"/>\n",
       "<polyline clip-path=\"url(#clip750)\" style=\"stroke:#000000; stroke-linecap:round; stroke-linejoin:round; stroke-width:4; stroke-opacity:1; fill:none\" points=\"108.177,850.665 127.075,850.665 \"/>\n",
       "<polyline clip-path=\"url(#clip750)\" style=\"stroke:#000000; stroke-linecap:round; stroke-linejoin:round; stroke-width:4; stroke-opacity:1; fill:none\" points=\"108.177,464.963 127.075,464.963 \"/>\n",
       "<polyline clip-path=\"url(#clip750)\" style=\"stroke:#000000; stroke-linecap:round; stroke-linejoin:round; stroke-width:4; stroke-opacity:1; fill:none\" points=\"108.177,79.2612 127.075,79.2612 \"/>\n",
       "<path clip-path=\"url(#clip750)\" d=\"M58.2699 1635.41 L65.9087 1635.41 L65.9087 1609.05 L57.5986 1610.71 L57.5986 1606.45 L65.8624 1604.79 L70.5383 1604.79 L70.5383 1635.41 L78.1772 1635.41 L78.1772 1639.35 L58.2699 1639.35 L58.2699 1635.41 Z\" fill=\"#000000\" fill-rule=\"nonzero\" fill-opacity=\"1\" /><path clip-path=\"url(#clip750)\" d=\"M61.8578 1249.71 L78.1772 1249.71 L78.1772 1253.65 L56.2328 1253.65 L56.2328 1249.71 Q58.8949 1246.96 63.4782 1242.33 Q68.0846 1237.67 69.2652 1236.33 Q71.5105 1233.81 72.3902 1232.07 Q73.2929 1230.31 73.2929 1228.62 Q73.2929 1225.87 71.3485 1224.13 Q69.4272 1222.4 66.3254 1222.4 Q64.1263 1222.4 61.6726 1223.16 Q59.2421 1223.92 56.4643 1225.48 L56.4643 1220.75 Q59.2884 1219.62 61.7421 1219.04 Q64.1958 1218.46 66.2328 1218.46 Q71.6031 1218.46 74.7976 1221.15 Q77.992 1223.83 77.992 1228.32 Q77.992 1230.45 77.1818 1232.37 Q76.3948 1234.27 74.2883 1236.86 Q73.7096 1237.54 70.6078 1240.75 Q67.5059 1243.95 61.8578 1249.71 Z\" fill=\"#000000\" fill-rule=\"nonzero\" fill-opacity=\"1\" /><path clip-path=\"url(#clip750)\" d=\"M71.0476 849.31 Q74.404 850.028 76.279 852.297 Q78.1772 854.565 78.1772 857.898 Q78.1772 863.014 74.6587 865.815 Q71.1402 868.616 64.6587 868.616 Q62.4828 868.616 60.168 868.176 Q57.8764 867.759 55.4227 866.903 L55.4227 862.389 Q57.3671 863.523 59.6819 864.102 Q61.9967 864.681 64.5198 864.681 Q68.918 864.681 71.2096 862.945 Q73.5244 861.209 73.5244 857.898 Q73.5244 854.843 71.3717 853.13 Q69.242 851.394 65.4226 851.394 L61.3949 851.394 L61.3949 847.551 L65.6078 847.551 Q69.0569 847.551 70.8855 846.186 Q72.7142 844.797 72.7142 842.204 Q72.7142 839.542 70.8161 838.13 Q68.9411 836.695 65.4226 836.695 Q63.5013 836.695 61.3023 837.111 Q59.1032 837.528 56.4643 838.408 L56.4643 834.241 Q59.1264 833.5 61.4412 833.13 Q63.7791 832.76 65.8393 832.76 Q71.1633 832.76 74.2652 835.19 Q77.367 837.598 77.367 841.718 Q77.367 844.588 75.7235 846.579 Q74.08 848.547 71.0476 849.31 Z\" fill=\"#000000\" fill-rule=\"nonzero\" fill-opacity=\"1\" /><path clip-path=\"url(#clip750)\" d=\"M68.5939 451.757 L56.7884 470.206 L68.5939 470.206 L68.5939 451.757 M67.367 447.683 L73.2466 447.683 L73.2466 470.206 L78.1772 470.206 L78.1772 474.095 L73.2466 474.095 L73.2466 482.243 L68.5939 482.243 L68.5939 474.095 L52.9921 474.095 L52.9921 469.581 L67.367 447.683 Z\" fill=\"#000000\" fill-rule=\"nonzero\" fill-opacity=\"1\" /><path clip-path=\"url(#clip750)\" d=\"M57.2745 61.9812 L75.6309 61.9812 L75.6309 65.9164 L61.5569 65.9164 L61.5569 74.3885 Q62.5754 74.0413 63.5939 73.8793 Q64.6124 73.6941 65.6309 73.6941 Q71.418 73.6941 74.7976 76.8654 Q78.1772 80.0367 78.1772 85.4533 Q78.1772 91.032 74.705 94.1338 Q71.2328 97.2125 64.9134 97.2125 Q62.7374 97.2125 60.4689 96.8421 Q58.2236 96.4718 55.8162 95.731 L55.8162 91.032 Q57.8995 92.1662 60.1217 92.7218 Q62.3439 93.2773 64.8208 93.2773 Q68.8254 93.2773 71.1633 91.1709 Q73.5013 89.0644 73.5013 85.4533 Q73.5013 81.8422 71.1633 79.7357 Q68.8254 77.6293 64.8208 77.6293 Q62.9458 77.6293 61.0708 78.0459 Q59.2189 78.4626 57.2745 79.3422 L57.2745 61.9812 Z\" fill=\"#000000\" fill-rule=\"nonzero\" fill-opacity=\"1\" /><polyline clip-path=\"url(#clip752)\" style=\"stroke:#ff0000; stroke-linecap:round; stroke-linejoin:round; stroke-width:4; stroke-opacity:1; fill:none\" points=\"567.179,1659.89 583.762,1661.69 599.569,1667.02 613.862,1675.62 625.973,1687.09 635.333,1700.9 641.508,1716.39 644.206,1732.85 643.303,1749.51 638.841,1765.58 631.027,1780.32 620.228,1793.03 606.949,1803.13 591.81,1810.13 575.519,1813.72 558.839,1813.72 542.548,1810.13 527.409,1803.13 514.13,1793.03 503.331,1780.32 495.517,1765.58 491.055,1749.51 490.152,1732.85 492.85,1716.39 499.025,1700.9 508.386,1687.09 520.496,1675.62 534.789,1667.02 550.596,1661.69 567.179,1659.89 \"/>\n",
       "<polyline clip-path=\"url(#clip752)\" style=\"stroke:#ff0000; stroke-linecap:round; stroke-linejoin:round; stroke-width:4; stroke-opacity:1; fill:none\" points=\"567.179,1737.03 496.226,1706.76 \"/>\n",
       "<polyline clip-path=\"url(#clip752)\" style=\"stroke:#e26f46; stroke-linecap:round; stroke-linejoin:round; stroke-width:8; stroke-opacity:1; fill:none\" points=\"1570.78,1032 1437.95,429.024 \"/>\n",
       "<polyline clip-path=\"url(#clip752)\" style=\"stroke:#3da44d; stroke-linecap:round; stroke-linejoin:round; stroke-width:8; stroke-opacity:1; fill:none\" points=\"1569.26,98.6948 673.012,1230.31 \"/>\n",
       "<circle clip-path=\"url(#clip752)\" cx=\"912.202\" cy=\"928.303\" r=\"14.4\" fill=\"#3da44d\" fill-rule=\"evenodd\" fill-opacity=\"1\" stroke=\"#000000\" stroke-opacity=\"1\" stroke-width=\"4\"/>\n",
       "<circle clip-path=\"url(#clip752)\" cx=\"853.276\" cy=\"1002.7\" r=\"14.4\" fill=\"#3da44d\" fill-rule=\"evenodd\" fill-opacity=\"1\" stroke=\"#000000\" stroke-opacity=\"1\" stroke-width=\"4\"/>\n",
       "<circle clip-path=\"url(#clip752)\" cx=\"805.377\" cy=\"1063.18\" r=\"14.4\" fill=\"#3da44d\" fill-rule=\"evenodd\" fill-opacity=\"1\" stroke=\"#000000\" stroke-opacity=\"1\" stroke-width=\"4\"/>\n",
       "<circle clip-path=\"url(#clip752)\" cx=\"765.601\" cy=\"1113.4\" r=\"14.4\" fill=\"#3da44d\" fill-rule=\"evenodd\" fill-opacity=\"1\" stroke=\"#000000\" stroke-opacity=\"1\" stroke-width=\"4\"/>\n",
       "<circle clip-path=\"url(#clip752)\" cx=\"731.982\" cy=\"1155.85\" r=\"14.4\" fill=\"#3da44d\" fill-rule=\"evenodd\" fill-opacity=\"1\" stroke=\"#000000\" stroke-opacity=\"1\" stroke-width=\"4\"/>\n",
       "<circle clip-path=\"url(#clip752)\" cx=\"703.138\" cy=\"1192.27\" r=\"14.4\" fill=\"#3da44d\" fill-rule=\"evenodd\" fill-opacity=\"1\" stroke=\"#000000\" stroke-opacity=\"1\" stroke-width=\"4\"/>\n",
       "<circle clip-path=\"url(#clip752)\" cx=\"678.073\" cy=\"1223.92\" r=\"14.4\" fill=\"#3da44d\" fill-rule=\"evenodd\" fill-opacity=\"1\" stroke=\"#000000\" stroke-opacity=\"1\" stroke-width=\"4\"/>\n",
       "</svg>\n"
      ],
      "text/html": [
       "<?xml version=\"1.0\" encoding=\"utf-8\"?>\n",
       "<svg xmlns=\"http://www.w3.org/2000/svg\" xmlns:xlink=\"http://www.w3.org/1999/xlink\" width=\"500\" height=\"500\" viewBox=\"0 0 2000 2000\">\n",
       "<defs>\n",
       "  <clipPath id=\"clip800\">\n",
       "    <rect x=\"0\" y=\"0\" width=\"2000\" height=\"2000\"/>\n",
       "  </clipPath>\n",
       "</defs>\n",
       "<path clip-path=\"url(#clip800)\" d=\"M0 2000 L2000 2000 L2000 0 L0 0  Z\" fill=\"#ffffff\" fill-rule=\"evenodd\" fill-opacity=\"1\"/>\n",
       "<defs>\n",
       "  <clipPath id=\"clip801\">\n",
       "    <rect x=\"400\" y=\"200\" width=\"1401\" height=\"1401\"/>\n",
       "  </clipPath>\n",
       "</defs>\n",
       "<path clip-path=\"url(#clip800)\" d=\"M108.177 1865.17 L1952.76 1865.17 L1952.76 47.2441 L108.177 47.2441  Z\" fill=\"#ffffff\" fill-rule=\"evenodd\" fill-opacity=\"1\"/>\n",
       "<defs>\n",
       "  <clipPath id=\"clip802\">\n",
       "    <rect x=\"108\" y=\"47\" width=\"1846\" height=\"1819\"/>\n",
       "  </clipPath>\n",
       "</defs>\n",
       "<polyline clip-path=\"url(#clip802)\" style=\"stroke:#000000; stroke-linecap:round; stroke-linejoin:round; stroke-width:2; stroke-opacity:0.1; fill:none\" points=\"186.288,1865.17 186.288,47.2441 \"/>\n",
       "<polyline clip-path=\"url(#clip802)\" style=\"stroke:#000000; stroke-linecap:round; stroke-linejoin:round; stroke-width:2; stroke-opacity:0.1; fill:none\" points=\"571.99,1865.17 571.99,47.2441 \"/>\n",
       "<polyline clip-path=\"url(#clip802)\" style=\"stroke:#000000; stroke-linecap:round; stroke-linejoin:round; stroke-width:2; stroke-opacity:0.1; fill:none\" points=\"957.691,1865.17 957.691,47.2441 \"/>\n",
       "<polyline clip-path=\"url(#clip802)\" style=\"stroke:#000000; stroke-linecap:round; stroke-linejoin:round; stroke-width:2; stroke-opacity:0.1; fill:none\" points=\"1343.39,1865.17 1343.39,47.2441 \"/>\n",
       "<polyline clip-path=\"url(#clip802)\" style=\"stroke:#000000; stroke-linecap:round; stroke-linejoin:round; stroke-width:2; stroke-opacity:0.1; fill:none\" points=\"1729.09,1865.17 1729.09,47.2441 \"/>\n",
       "<polyline clip-path=\"url(#clip800)\" style=\"stroke:#000000; stroke-linecap:round; stroke-linejoin:round; stroke-width:4; stroke-opacity:1; fill:none\" points=\"108.177,1865.17 1952.76,1865.17 \"/>\n",
       "<polyline clip-path=\"url(#clip800)\" style=\"stroke:#000000; stroke-linecap:round; stroke-linejoin:round; stroke-width:4; stroke-opacity:1; fill:none\" points=\"186.288,1865.17 186.288,1846.27 \"/>\n",
       "<polyline clip-path=\"url(#clip800)\" style=\"stroke:#000000; stroke-linecap:round; stroke-linejoin:round; stroke-width:4; stroke-opacity:1; fill:none\" points=\"571.99,1865.17 571.99,1846.27 \"/>\n",
       "<polyline clip-path=\"url(#clip800)\" style=\"stroke:#000000; stroke-linecap:round; stroke-linejoin:round; stroke-width:4; stroke-opacity:1; fill:none\" points=\"957.691,1865.17 957.691,1846.27 \"/>\n",
       "<polyline clip-path=\"url(#clip800)\" style=\"stroke:#000000; stroke-linecap:round; stroke-linejoin:round; stroke-width:4; stroke-opacity:1; fill:none\" points=\"1343.39,1865.17 1343.39,1846.27 \"/>\n",
       "<polyline clip-path=\"url(#clip800)\" style=\"stroke:#000000; stroke-linecap:round; stroke-linejoin:round; stroke-width:4; stroke-opacity:1; fill:none\" points=\"1729.09,1865.17 1729.09,1846.27 \"/>\n",
       "<path clip-path=\"url(#clip800)\" d=\"M186.288 1892.89 Q182.677 1892.89 180.848 1896.45 Q179.043 1899.99 179.043 1907.12 Q179.043 1914.23 180.848 1917.79 Q182.677 1921.34 186.288 1921.34 Q189.922 1921.34 191.728 1917.79 Q193.556 1914.23 193.556 1907.12 Q193.556 1899.99 191.728 1896.45 Q189.922 1892.89 186.288 1892.89 M186.288 1889.18 Q192.098 1889.18 195.154 1893.79 Q198.232 1898.37 198.232 1907.12 Q198.232 1915.85 195.154 1920.46 Q192.098 1925.04 186.288 1925.04 Q180.478 1925.04 177.399 1920.46 Q174.344 1915.85 174.344 1907.12 Q174.344 1898.37 177.399 1893.79 Q180.478 1889.18 186.288 1889.18 Z\" fill=\"#000000\" fill-rule=\"nonzero\" fill-opacity=\"1\" /><path clip-path=\"url(#clip800)\" d=\"M562.372 1920.43 L570.011 1920.43 L570.011 1894.07 L561.7 1895.73 L561.7 1891.47 L569.964 1889.81 L574.64 1889.81 L574.64 1920.43 L582.279 1920.43 L582.279 1924.37 L562.372 1924.37 L562.372 1920.43 Z\" fill=\"#000000\" fill-rule=\"nonzero\" fill-opacity=\"1\" /><path clip-path=\"url(#clip800)\" d=\"M952.344 1920.43 L968.664 1920.43 L968.664 1924.37 L946.719 1924.37 L946.719 1920.43 Q949.381 1917.68 953.965 1913.05 Q958.571 1908.4 959.752 1907.05 Q961.997 1904.53 962.877 1902.79 Q963.779 1901.03 963.779 1899.34 Q963.779 1896.59 961.835 1894.85 Q959.914 1893.12 956.812 1893.12 Q954.613 1893.12 952.159 1893.88 Q949.729 1894.65 946.951 1896.2 L946.951 1891.47 Q949.775 1890.34 952.229 1889.76 Q954.682 1889.18 956.719 1889.18 Q962.09 1889.18 965.284 1891.87 Q968.478 1894.55 968.478 1899.04 Q968.478 1901.17 967.668 1903.09 Q966.881 1904.99 964.775 1907.59 Q964.196 1908.26 961.094 1911.47 Q957.992 1914.67 952.344 1920.43 Z\" fill=\"#000000\" fill-rule=\"nonzero\" fill-opacity=\"1\" /><path clip-path=\"url(#clip800)\" d=\"M1347.64 1905.73 Q1351 1906.45 1352.87 1908.72 Q1354.77 1910.99 1354.77 1914.32 Q1354.77 1919.44 1351.25 1922.24 Q1347.73 1925.04 1341.25 1925.04 Q1339.08 1925.04 1336.76 1924.6 Q1334.47 1924.18 1332.02 1923.33 L1332.02 1918.81 Q1333.96 1919.95 1336.28 1920.53 Q1338.59 1921.1 1341.11 1921.1 Q1345.51 1921.1 1347.8 1919.37 Q1350.12 1917.63 1350.12 1914.32 Q1350.12 1911.27 1347.96 1909.55 Q1345.84 1907.82 1342.02 1907.82 L1337.99 1907.82 L1337.99 1903.97 L1342.2 1903.97 Q1345.65 1903.97 1347.48 1902.61 Q1349.31 1901.22 1349.31 1898.63 Q1349.31 1895.97 1347.41 1894.55 Q1345.53 1893.12 1342.02 1893.12 Q1340.09 1893.12 1337.9 1893.53 Q1335.7 1893.95 1333.06 1894.83 L1333.06 1890.66 Q1335.72 1889.92 1338.03 1889.55 Q1340.37 1889.18 1342.43 1889.18 Q1347.76 1889.18 1350.86 1891.61 Q1353.96 1894.02 1353.96 1898.14 Q1353.96 1901.01 1352.32 1903 Q1350.67 1904.97 1347.64 1905.73 Z\" fill=\"#000000\" fill-rule=\"nonzero\" fill-opacity=\"1\" /><path clip-path=\"url(#clip800)\" d=\"M1732.1 1893.88 L1720.3 1912.33 L1732.1 1912.33 L1732.1 1893.88 M1730.88 1889.81 L1736.76 1889.81 L1736.76 1912.33 L1741.69 1912.33 L1741.69 1916.22 L1736.76 1916.22 L1736.76 1924.37 L1732.1 1924.37 L1732.1 1916.22 L1716.5 1916.22 L1716.5 1911.71 L1730.88 1889.81 Z\" fill=\"#000000\" fill-rule=\"nonzero\" fill-opacity=\"1\" /><polyline clip-path=\"url(#clip802)\" style=\"stroke:#000000; stroke-linecap:round; stroke-linejoin:round; stroke-width:2; stroke-opacity:0.1; fill:none\" points=\"108.177,1622.07 1952.76,1622.07 \"/>\n",
       "<polyline clip-path=\"url(#clip802)\" style=\"stroke:#000000; stroke-linecap:round; stroke-linejoin:round; stroke-width:2; stroke-opacity:0.1; fill:none\" points=\"108.177,1236.37 1952.76,1236.37 \"/>\n",
       "<polyline clip-path=\"url(#clip802)\" style=\"stroke:#000000; stroke-linecap:round; stroke-linejoin:round; stroke-width:2; stroke-opacity:0.1; fill:none\" points=\"108.177,850.665 1952.76,850.665 \"/>\n",
       "<polyline clip-path=\"url(#clip802)\" style=\"stroke:#000000; stroke-linecap:round; stroke-linejoin:round; stroke-width:2; stroke-opacity:0.1; fill:none\" points=\"108.177,464.963 1952.76,464.963 \"/>\n",
       "<polyline clip-path=\"url(#clip802)\" style=\"stroke:#000000; stroke-linecap:round; stroke-linejoin:round; stroke-width:2; stroke-opacity:0.1; fill:none\" points=\"108.177,79.2612 1952.76,79.2612 \"/>\n",
       "<polyline clip-path=\"url(#clip800)\" style=\"stroke:#000000; stroke-linecap:round; stroke-linejoin:round; stroke-width:4; stroke-opacity:1; fill:none\" points=\"108.177,1865.17 108.177,47.2441 \"/>\n",
       "<polyline clip-path=\"url(#clip800)\" style=\"stroke:#000000; stroke-linecap:round; stroke-linejoin:round; stroke-width:4; stroke-opacity:1; fill:none\" points=\"108.177,1622.07 127.075,1622.07 \"/>\n",
       "<polyline clip-path=\"url(#clip800)\" style=\"stroke:#000000; stroke-linecap:round; stroke-linejoin:round; stroke-width:4; stroke-opacity:1; fill:none\" points=\"108.177,1236.37 127.075,1236.37 \"/>\n",
       "<polyline clip-path=\"url(#clip800)\" style=\"stroke:#000000; stroke-linecap:round; stroke-linejoin:round; stroke-width:4; stroke-opacity:1; fill:none\" points=\"108.177,850.665 127.075,850.665 \"/>\n",
       "<polyline clip-path=\"url(#clip800)\" style=\"stroke:#000000; stroke-linecap:round; stroke-linejoin:round; stroke-width:4; stroke-opacity:1; fill:none\" points=\"108.177,464.963 127.075,464.963 \"/>\n",
       "<polyline clip-path=\"url(#clip800)\" style=\"stroke:#000000; stroke-linecap:round; stroke-linejoin:round; stroke-width:4; stroke-opacity:1; fill:none\" points=\"108.177,79.2612 127.075,79.2612 \"/>\n",
       "<path clip-path=\"url(#clip800)\" d=\"M58.2699 1635.41 L65.9087 1635.41 L65.9087 1609.05 L57.5986 1610.71 L57.5986 1606.45 L65.8624 1604.79 L70.5383 1604.79 L70.5383 1635.41 L78.1772 1635.41 L78.1772 1639.35 L58.2699 1639.35 L58.2699 1635.41 Z\" fill=\"#000000\" fill-rule=\"nonzero\" fill-opacity=\"1\" /><path clip-path=\"url(#clip800)\" d=\"M61.8578 1249.71 L78.1772 1249.71 L78.1772 1253.65 L56.2328 1253.65 L56.2328 1249.71 Q58.8949 1246.96 63.4782 1242.33 Q68.0846 1237.67 69.2652 1236.33 Q71.5105 1233.81 72.3902 1232.07 Q73.2929 1230.31 73.2929 1228.62 Q73.2929 1225.87 71.3485 1224.13 Q69.4272 1222.4 66.3254 1222.4 Q64.1263 1222.4 61.6726 1223.16 Q59.2421 1223.92 56.4643 1225.48 L56.4643 1220.75 Q59.2884 1219.62 61.7421 1219.04 Q64.1958 1218.46 66.2328 1218.46 Q71.6031 1218.46 74.7976 1221.15 Q77.992 1223.83 77.992 1228.32 Q77.992 1230.45 77.1818 1232.37 Q76.3948 1234.27 74.2883 1236.86 Q73.7096 1237.54 70.6078 1240.75 Q67.5059 1243.95 61.8578 1249.71 Z\" fill=\"#000000\" fill-rule=\"nonzero\" fill-opacity=\"1\" /><path clip-path=\"url(#clip800)\" d=\"M71.0476 849.31 Q74.404 850.028 76.279 852.297 Q78.1772 854.565 78.1772 857.898 Q78.1772 863.014 74.6587 865.815 Q71.1402 868.616 64.6587 868.616 Q62.4828 868.616 60.168 868.176 Q57.8764 867.759 55.4227 866.903 L55.4227 862.389 Q57.3671 863.523 59.6819 864.102 Q61.9967 864.681 64.5198 864.681 Q68.918 864.681 71.2096 862.945 Q73.5244 861.209 73.5244 857.898 Q73.5244 854.843 71.3717 853.13 Q69.242 851.394 65.4226 851.394 L61.3949 851.394 L61.3949 847.551 L65.6078 847.551 Q69.0569 847.551 70.8855 846.186 Q72.7142 844.797 72.7142 842.204 Q72.7142 839.542 70.8161 838.13 Q68.9411 836.695 65.4226 836.695 Q63.5013 836.695 61.3023 837.111 Q59.1032 837.528 56.4643 838.408 L56.4643 834.241 Q59.1264 833.5 61.4412 833.13 Q63.7791 832.76 65.8393 832.76 Q71.1633 832.76 74.2652 835.19 Q77.367 837.598 77.367 841.718 Q77.367 844.588 75.7235 846.579 Q74.08 848.547 71.0476 849.31 Z\" fill=\"#000000\" fill-rule=\"nonzero\" fill-opacity=\"1\" /><path clip-path=\"url(#clip800)\" d=\"M68.5939 451.757 L56.7884 470.206 L68.5939 470.206 L68.5939 451.757 M67.367 447.683 L73.2466 447.683 L73.2466 470.206 L78.1772 470.206 L78.1772 474.095 L73.2466 474.095 L73.2466 482.243 L68.5939 482.243 L68.5939 474.095 L52.9921 474.095 L52.9921 469.581 L67.367 447.683 Z\" fill=\"#000000\" fill-rule=\"nonzero\" fill-opacity=\"1\" /><path clip-path=\"url(#clip800)\" d=\"M57.2745 61.9812 L75.6309 61.9812 L75.6309 65.9164 L61.5569 65.9164 L61.5569 74.3885 Q62.5754 74.0413 63.5939 73.8793 Q64.6124 73.6941 65.6309 73.6941 Q71.418 73.6941 74.7976 76.8654 Q78.1772 80.0367 78.1772 85.4533 Q78.1772 91.032 74.705 94.1338 Q71.2328 97.2125 64.9134 97.2125 Q62.7374 97.2125 60.4689 96.8421 Q58.2236 96.4718 55.8162 95.731 L55.8162 91.032 Q57.8995 92.1662 60.1217 92.7218 Q62.3439 93.2773 64.8208 93.2773 Q68.8254 93.2773 71.1633 91.1709 Q73.5013 89.0644 73.5013 85.4533 Q73.5013 81.8422 71.1633 79.7357 Q68.8254 77.6293 64.8208 77.6293 Q62.9458 77.6293 61.0708 78.0459 Q59.2189 78.4626 57.2745 79.3422 L57.2745 61.9812 Z\" fill=\"#000000\" fill-rule=\"nonzero\" fill-opacity=\"1\" /><polyline clip-path=\"url(#clip802)\" style=\"stroke:#ff0000; stroke-linecap:round; stroke-linejoin:round; stroke-width:4; stroke-opacity:1; fill:none\" points=\"567.179,1659.89 583.762,1661.69 599.569,1667.02 613.862,1675.62 625.973,1687.09 635.333,1700.9 641.508,1716.39 644.206,1732.85 643.303,1749.51 638.841,1765.58 631.027,1780.32 620.228,1793.03 606.949,1803.13 591.81,1810.13 575.519,1813.72 558.839,1813.72 542.548,1810.13 527.409,1803.13 514.13,1793.03 503.331,1780.32 495.517,1765.58 491.055,1749.51 490.152,1732.85 492.85,1716.39 499.025,1700.9 508.386,1687.09 520.496,1675.62 534.789,1667.02 550.596,1661.69 567.179,1659.89 \"/>\n",
       "<polyline clip-path=\"url(#clip802)\" style=\"stroke:#ff0000; stroke-linecap:round; stroke-linejoin:round; stroke-width:4; stroke-opacity:1; fill:none\" points=\"567.179,1737.03 496.226,1706.76 \"/>\n",
       "<polyline clip-path=\"url(#clip802)\" style=\"stroke:#e26f46; stroke-linecap:round; stroke-linejoin:round; stroke-width:8; stroke-opacity:1; fill:none\" points=\"1570.78,1032 1437.95,429.024 \"/>\n",
       "<polyline clip-path=\"url(#clip802)\" style=\"stroke:#3da44d; stroke-linecap:round; stroke-linejoin:round; stroke-width:8; stroke-opacity:1; fill:none\" points=\"1569.26,98.6948 673.012,1230.31 \"/>\n",
       "<circle clip-path=\"url(#clip802)\" cx=\"912.202\" cy=\"928.303\" r=\"14.4\" fill=\"#3da44d\" fill-rule=\"evenodd\" fill-opacity=\"1\" stroke=\"#000000\" stroke-opacity=\"1\" stroke-width=\"4\"/>\n",
       "<circle clip-path=\"url(#clip802)\" cx=\"853.276\" cy=\"1002.7\" r=\"14.4\" fill=\"#3da44d\" fill-rule=\"evenodd\" fill-opacity=\"1\" stroke=\"#000000\" stroke-opacity=\"1\" stroke-width=\"4\"/>\n",
       "<circle clip-path=\"url(#clip802)\" cx=\"805.377\" cy=\"1063.18\" r=\"14.4\" fill=\"#3da44d\" fill-rule=\"evenodd\" fill-opacity=\"1\" stroke=\"#000000\" stroke-opacity=\"1\" stroke-width=\"4\"/>\n",
       "<circle clip-path=\"url(#clip802)\" cx=\"765.601\" cy=\"1113.4\" r=\"14.4\" fill=\"#3da44d\" fill-rule=\"evenodd\" fill-opacity=\"1\" stroke=\"#000000\" stroke-opacity=\"1\" stroke-width=\"4\"/>\n",
       "<circle clip-path=\"url(#clip802)\" cx=\"731.982\" cy=\"1155.85\" r=\"14.4\" fill=\"#3da44d\" fill-rule=\"evenodd\" fill-opacity=\"1\" stroke=\"#000000\" stroke-opacity=\"1\" stroke-width=\"4\"/>\n",
       "<circle clip-path=\"url(#clip802)\" cx=\"703.138\" cy=\"1192.27\" r=\"14.4\" fill=\"#3da44d\" fill-rule=\"evenodd\" fill-opacity=\"1\" stroke=\"#000000\" stroke-opacity=\"1\" stroke-width=\"4\"/>\n",
       "<circle clip-path=\"url(#clip802)\" cx=\"678.073\" cy=\"1223.92\" r=\"14.4\" fill=\"#3da44d\" fill-rule=\"evenodd\" fill-opacity=\"1\" stroke=\"#000000\" stroke-opacity=\"1\" stroke-width=\"4\"/>\n",
       "</svg>\n"
      ]
     },
     "metadata": {},
     "output_type": "display_data"
    }
   ],
   "source": [
    "_fov = π\n",
    "_num_a = 100\n",
    "\n",
    "p    = Pose(rand(2), rand()*2π)\n",
    "segs = 5*(rand(2,4))\n",
    "\n",
    "as   = create_angles(_fov, _num_a)\n",
    "ws   = 1:size(segs,1)+1\n",
    "col = palette(:default);\n",
    "\n",
    "zs, is = cast(p, as, segs)\n",
    "ys = polar_inv(zs, as);\n",
    "\n",
    "# --------------\n",
    "mypl = plot(size=(500,500), aspect_ratio=:equal, legend=nothing, \n",
    "    # xlim=(-5,5), ylim=(-5,5)\n",
    ")\n",
    "plot!(p,c=:red, r=:0.2)\n",
    "plot!(segs[:,[1,3]]', segs[:,[2,4]]', color = col[ws.+1]', linewidth=2)\n",
    "for (i,y) in zip(is,ys)\n",
    "    scatter!([y*p], c=col[i+1], alpha=1.)\n",
    "end\n",
    "mypl"
   ]
  },
  {
   "attachments": {},
   "cell_type": "markdown",
   "id": "955b558b",
   "metadata": {},
   "source": [
    "### Combined version\n",
    "\n",
    "2D raycaster for *line maps* in Julia, which automatically switches between CPU and CUDA acceleration.\n",
    "\n"
   ]
  },
  {
   "cell_type": "code",
   "execution_count": 19,
   "id": "aca39440",
   "metadata": {},
   "outputs": [],
   "source": [
    "#nbx\n",
    "create_angles(fov, num_a) = [range(-fov/2, fov/2, num_a)...];\n",
    "export create_angles"
   ]
  },
  {
   "cell_type": "code",
   "execution_count": null,
   "id": "3def9836",
   "metadata": {},
   "outputs": [],
   "source": [
    "#nbx\n",
    "\"\"\"\n",
    "```julia\n",
    "    zs = cast(ps, segs; fov=2π, num_a::Int=361, zmax::Float64=Inf)\n",
    "```\n",
    "Computes depth measurements `zs` with respect to a family of stacked poses `ps`\n",
    "and family of stacked line segments `segs` along a fixed number `num_a` of\n",
    "equidistantly spaced angles in the field of view `fov`.\n",
    "\n",
    "If a CUDA supported GPU is available we run a GPU accelerated version.\n",
    "\n",
    "Arguments:\n",
    " - `ps`: Stacked poses `(k, 3)`\n",
    " - `segs`: Stacked line segments `(n, 4)`\n",
    " - ...\n",
    "\n",
    "Returns:\n",
    " - `zs`: Depth measurements in the field of view `(k, num_a)`\n",
    "\"\"\"\n",
    "function cast(ps::Array, segs::Array; fov=2π, num_a::Int=361, zmax::Float64=Inf)\n",
    "    if _cuda[]\n",
    "        ps_   = CuArray(ps)\n",
    "        segs_ = CuArray(segs)\n",
    "        zs_   = cast_cu(ps_, segs_; fov=fov, num_a=num_a, zmax=zmax)\n",
    "        return Array(zs_)\n",
    "    else\n",
    "        return cast_cpu(ps, segs; fov=fov, num_a=num_a, zmax=zmax)\n",
    "    end\n",
    "end;\n",
    "\n",
    "function cast(ps_::CuArray, segs_::CuArray; fov=2π, num_a::Int=361, zmax::Float64=Inf)\n",
    "    return cast_cu(ps_, segs_; fov=fov, num_a=num_a, zmax=zmax)\n",
    "end\n",
    "\n",
    "export cast"
   ]
  },
  {
   "cell_type": "code",
   "execution_count": null,
   "id": "153c28bf",
   "metadata": {},
   "outputs": [],
   "source": [
    "n = 500 # num segments\n",
    "m = 500 # num poses\n",
    "x = 5*(2*rand(n,4).-1.0)\n",
    "p = zeros(m, 3)\n",
    "\n",
    "# -------------------------------\n",
    "println(\"CUDA available: $(_cuda[])\")\n",
    "println(\"x: $(size(x)), p: $(size(p))\")\n",
    "println(\"`cast`\")\n",
    "@btime cast($p,$x) samples=3 evals=3;"
   ]
  },
  {
   "attachments": {},
   "cell_type": "markdown",
   "id": "93012800",
   "metadata": {},
   "source": [
    "### Examples"
   ]
  },
  {
   "cell_type": "code",
   "execution_count": 33,
   "id": "18d5b6c8",
   "metadata": {},
   "outputs": [],
   "source": [
    "include(\"./src/pose.jl\");\n",
    "using Geometry: Segment"
   ]
  },
  {
   "cell_type": "code",
   "execution_count": 34,
   "id": "4306fdb7",
   "metadata": {},
   "outputs": [
    {
     "data": {
      "image/svg+xml": [
       "<?xml version=\"1.0\" encoding=\"utf-8\"?>\n",
       "<svg xmlns=\"http://www.w3.org/2000/svg\" xmlns:xlink=\"http://www.w3.org/1999/xlink\" width=\"400\" height=\"400\" viewBox=\"0 0 1600 1600\">\n",
       "<defs>\n",
       "  <clipPath id=\"clip600\">\n",
       "    <rect x=\"0\" y=\"0\" width=\"1600\" height=\"1600\"/>\n",
       "  </clipPath>\n",
       "</defs>\n",
       "<path clip-path=\"url(#clip600)\" d=\"M0 1600 L1600 1600 L1600 0 L0 0  Z\" fill=\"#ffffff\" fill-rule=\"evenodd\" fill-opacity=\"1\"/>\n",
       "<defs>\n",
       "  <clipPath id=\"clip601\">\n",
       "    <rect x=\"320\" y=\"160\" width=\"1121\" height=\"1121\"/>\n",
       "  </clipPath>\n",
       "</defs>\n",
       "<path clip-path=\"url(#clip600)\" d=\"M141.191 1463.99 L1552.76 1463.99 L1552.76 52.4235 L141.191 52.4235  Z\" fill=\"#ffffff\" fill-rule=\"evenodd\" fill-opacity=\"1\"/>\n",
       "<defs>\n",
       "  <clipPath id=\"clip602\">\n",
       "    <rect x=\"141\" y=\"52\" width=\"1413\" height=\"1413\"/>\n",
       "  </clipPath>\n",
       "</defs>\n",
       "<polyline clip-path=\"url(#clip602)\" style=\"stroke:#000000; stroke-linecap:round; stroke-linejoin:round; stroke-width:2; stroke-opacity:0.1; fill:none\" points=\"141.191,1463.99 141.191,52.4235 \"/>\n",
       "<polyline clip-path=\"url(#clip602)\" style=\"stroke:#000000; stroke-linecap:round; stroke-linejoin:round; stroke-width:2; stroke-opacity:0.1; fill:none\" points=\"494.082,1463.99 494.082,52.4235 \"/>\n",
       "<polyline clip-path=\"url(#clip602)\" style=\"stroke:#000000; stroke-linecap:round; stroke-linejoin:round; stroke-width:2; stroke-opacity:0.1; fill:none\" points=\"846.973,1463.99 846.973,52.4235 \"/>\n",
       "<polyline clip-path=\"url(#clip602)\" style=\"stroke:#000000; stroke-linecap:round; stroke-linejoin:round; stroke-width:2; stroke-opacity:0.1; fill:none\" points=\"1199.86,1463.99 1199.86,52.4235 \"/>\n",
       "<polyline clip-path=\"url(#clip602)\" style=\"stroke:#000000; stroke-linecap:round; stroke-linejoin:round; stroke-width:2; stroke-opacity:0.1; fill:none\" points=\"1552.76,1463.99 1552.76,52.4235 \"/>\n",
       "<polyline clip-path=\"url(#clip600)\" style=\"stroke:#000000; stroke-linecap:round; stroke-linejoin:round; stroke-width:4; stroke-opacity:1; fill:none\" points=\"141.191,1463.99 1552.76,1463.99 \"/>\n",
       "<polyline clip-path=\"url(#clip600)\" style=\"stroke:#000000; stroke-linecap:round; stroke-linejoin:round; stroke-width:4; stroke-opacity:1; fill:none\" points=\"141.191,1463.99 141.191,1445.23 \"/>\n",
       "<polyline clip-path=\"url(#clip600)\" style=\"stroke:#000000; stroke-linecap:round; stroke-linejoin:round; stroke-width:4; stroke-opacity:1; fill:none\" points=\"494.082,1463.99 494.082,1445.23 \"/>\n",
       "<polyline clip-path=\"url(#clip600)\" style=\"stroke:#000000; stroke-linecap:round; stroke-linejoin:round; stroke-width:4; stroke-opacity:1; fill:none\" points=\"846.973,1463.99 846.973,1445.23 \"/>\n",
       "<polyline clip-path=\"url(#clip600)\" style=\"stroke:#000000; stroke-linecap:round; stroke-linejoin:round; stroke-width:4; stroke-opacity:1; fill:none\" points=\"1199.86,1463.99 1199.86,1445.23 \"/>\n",
       "<polyline clip-path=\"url(#clip600)\" style=\"stroke:#000000; stroke-linecap:round; stroke-linejoin:round; stroke-width:4; stroke-opacity:1; fill:none\" points=\"1552.76,1463.99 1552.76,1445.23 \"/>\n",
       "<path clip-path=\"url(#clip600)\" d=\"M110.091 1503.16 L139.767 1503.16 L139.767 1507.1 L110.091 1507.1 L110.091 1503.16 Z\" fill=\"#000000\" fill-rule=\"nonzero\" fill-opacity=\"1\" /><path clip-path=\"url(#clip600)\" d=\"M162.707 1489.5 L150.901 1507.95 L162.707 1507.95 L162.707 1489.5 M161.48 1485.43 L167.36 1485.43 L167.36 1507.95 L172.29 1507.95 L172.29 1511.84 L167.36 1511.84 L167.36 1519.99 L162.707 1519.99 L162.707 1511.84 L147.105 1511.84 L147.105 1507.33 L161.48 1485.43 Z\" fill=\"#000000\" fill-rule=\"nonzero\" fill-opacity=\"1\" /><path clip-path=\"url(#clip600)\" d=\"M464.024 1503.16 L493.7 1503.16 L493.7 1507.1 L464.024 1507.1 L464.024 1503.16 Z\" fill=\"#000000\" fill-rule=\"nonzero\" fill-opacity=\"1\" /><path clip-path=\"url(#clip600)\" d=\"M507.82 1516.05 L524.14 1516.05 L524.14 1519.99 L502.196 1519.99 L502.196 1516.05 Q504.858 1513.3 509.441 1508.67 Q514.047 1504.02 515.228 1502.67 Q517.473 1500.15 518.353 1498.41 Q519.256 1496.66 519.256 1494.97 Q519.256 1492.21 517.311 1490.47 Q515.39 1488.74 512.288 1488.74 Q510.089 1488.74 507.635 1489.5 Q505.205 1490.27 502.427 1491.82 L502.427 1487.1 Q505.251 1485.96 507.705 1485.38 Q510.158 1484.8 512.195 1484.8 Q517.566 1484.8 520.76 1487.49 Q523.955 1490.17 523.955 1494.66 Q523.955 1496.79 523.144 1498.72 Q522.357 1500.61 520.251 1503.21 Q519.672 1503.88 516.57 1507.1 Q513.469 1510.29 507.82 1516.05 Z\" fill=\"#000000\" fill-rule=\"nonzero\" fill-opacity=\"1\" /><path clip-path=\"url(#clip600)\" d=\"M846.973 1488.51 Q843.362 1488.51 841.534 1492.07 Q839.728 1495.61 839.728 1502.74 Q839.728 1509.85 841.534 1513.41 Q843.362 1516.96 846.973 1516.96 Q850.608 1516.96 852.413 1513.41 Q854.242 1509.85 854.242 1502.74 Q854.242 1495.61 852.413 1492.07 Q850.608 1488.51 846.973 1488.51 M846.973 1484.8 Q852.784 1484.8 855.839 1489.41 Q858.918 1493.99 858.918 1502.74 Q858.918 1511.47 855.839 1516.08 Q852.784 1520.66 846.973 1520.66 Q841.163 1520.66 838.085 1516.08 Q835.029 1511.47 835.029 1502.74 Q835.029 1493.99 838.085 1489.41 Q841.163 1484.8 846.973 1484.8 Z\" fill=\"#000000\" fill-rule=\"nonzero\" fill-opacity=\"1\" /><path clip-path=\"url(#clip600)\" d=\"M1194.52 1516.05 L1210.84 1516.05 L1210.84 1519.99 L1188.89 1519.99 L1188.89 1516.05 Q1191.55 1513.3 1196.14 1508.67 Q1200.74 1504.02 1201.92 1502.67 Q1204.17 1500.15 1205.05 1498.41 Q1205.95 1496.66 1205.95 1494.97 Q1205.95 1492.21 1204.01 1490.47 Q1202.09 1488.74 1198.99 1488.74 Q1196.79 1488.74 1194.33 1489.5 Q1191.9 1490.27 1189.12 1491.82 L1189.12 1487.1 Q1191.95 1485.96 1194.4 1485.38 Q1196.86 1484.8 1198.89 1484.8 Q1204.26 1484.8 1207.46 1487.49 Q1210.65 1490.17 1210.65 1494.66 Q1210.65 1496.79 1209.84 1498.72 Q1209.05 1500.61 1206.95 1503.21 Q1206.37 1503.88 1203.27 1507.1 Q1200.17 1510.29 1194.52 1516.05 Z\" fill=\"#000000\" fill-rule=\"nonzero\" fill-opacity=\"1\" /><path clip-path=\"url(#clip600)\" d=\"M1555.77 1489.5 L1543.96 1507.95 L1555.77 1507.95 L1555.77 1489.5 M1554.54 1485.43 L1560.42 1485.43 L1560.42 1507.95 L1565.35 1507.95 L1565.35 1511.84 L1560.42 1511.84 L1560.42 1519.99 L1555.77 1519.99 L1555.77 1511.84 L1540.16 1511.84 L1540.16 1507.33 L1554.54 1485.43 Z\" fill=\"#000000\" fill-rule=\"nonzero\" fill-opacity=\"1\" /><polyline clip-path=\"url(#clip602)\" style=\"stroke:#000000; stroke-linecap:round; stroke-linejoin:round; stroke-width:2; stroke-opacity:0.1; fill:none\" points=\"141.191,1463.99 1552.76,1463.99 \"/>\n",
       "<polyline clip-path=\"url(#clip602)\" style=\"stroke:#000000; stroke-linecap:round; stroke-linejoin:round; stroke-width:2; stroke-opacity:0.1; fill:none\" points=\"141.191,1111.1 1552.76,1111.1 \"/>\n",
       "<polyline clip-path=\"url(#clip602)\" style=\"stroke:#000000; stroke-linecap:round; stroke-linejoin:round; stroke-width:2; stroke-opacity:0.1; fill:none\" points=\"141.191,758.206 1552.76,758.206 \"/>\n",
       "<polyline clip-path=\"url(#clip602)\" style=\"stroke:#000000; stroke-linecap:round; stroke-linejoin:round; stroke-width:2; stroke-opacity:0.1; fill:none\" points=\"141.191,405.315 1552.76,405.315 \"/>\n",
       "<polyline clip-path=\"url(#clip602)\" style=\"stroke:#000000; stroke-linecap:round; stroke-linejoin:round; stroke-width:2; stroke-opacity:0.1; fill:none\" points=\"141.191,52.4235 1552.76,52.4235 \"/>\n",
       "<polyline clip-path=\"url(#clip600)\" style=\"stroke:#000000; stroke-linecap:round; stroke-linejoin:round; stroke-width:4; stroke-opacity:1; fill:none\" points=\"141.191,1463.99 141.191,52.4235 \"/>\n",
       "<polyline clip-path=\"url(#clip600)\" style=\"stroke:#000000; stroke-linecap:round; stroke-linejoin:round; stroke-width:4; stroke-opacity:1; fill:none\" points=\"141.191,1463.99 160.089,1463.99 \"/>\n",
       "<polyline clip-path=\"url(#clip600)\" style=\"stroke:#000000; stroke-linecap:round; stroke-linejoin:round; stroke-width:4; stroke-opacity:1; fill:none\" points=\"141.191,1111.1 160.089,1111.1 \"/>\n",
       "<polyline clip-path=\"url(#clip600)\" style=\"stroke:#000000; stroke-linecap:round; stroke-linejoin:round; stroke-width:4; stroke-opacity:1; fill:none\" points=\"141.191,758.206 160.089,758.206 \"/>\n",
       "<polyline clip-path=\"url(#clip600)\" style=\"stroke:#000000; stroke-linecap:round; stroke-linejoin:round; stroke-width:4; stroke-opacity:1; fill:none\" points=\"141.191,405.315 160.089,405.315 \"/>\n",
       "<polyline clip-path=\"url(#clip600)\" style=\"stroke:#000000; stroke-linecap:round; stroke-linejoin:round; stroke-width:4; stroke-opacity:1; fill:none\" points=\"141.191,52.4235 160.089,52.4235 \"/>\n",
       "<path clip-path=\"url(#clip600)\" d=\"M54.9921 1464.44 L84.6679 1464.44 L84.6679 1468.38 L54.9921 1468.38 L54.9921 1464.44 Z\" fill=\"#000000\" fill-rule=\"nonzero\" fill-opacity=\"1\" /><path clip-path=\"url(#clip600)\" d=\"M107.608 1450.78 L95.8021 1469.23 L107.608 1469.23 L107.608 1450.78 M106.381 1446.71 L112.26 1446.71 L112.26 1469.23 L117.191 1469.23 L117.191 1473.12 L112.26 1473.12 L112.26 1481.27 L107.608 1481.27 L107.608 1473.12 L92.0058 1473.12 L92.0058 1468.61 L106.381 1446.71 Z\" fill=\"#000000\" fill-rule=\"nonzero\" fill-opacity=\"1\" /><path clip-path=\"url(#clip600)\" d=\"M57.0754 1111.55 L86.7512 1111.55 L86.7512 1115.48 L57.0754 1115.48 L57.0754 1111.55 Z\" fill=\"#000000\" fill-rule=\"nonzero\" fill-opacity=\"1\" /><path clip-path=\"url(#clip600)\" d=\"M100.872 1124.44 L117.191 1124.44 L117.191 1128.38 L95.2465 1128.38 L95.2465 1124.44 Q97.9086 1121.69 102.492 1117.06 Q107.098 1112.41 108.279 1111.06 Q110.524 1108.54 111.404 1106.8 Q112.307 1105.04 112.307 1103.35 Q112.307 1100.6 110.362 1098.86 Q108.441 1097.13 105.339 1097.13 Q103.14 1097.13 100.686 1097.89 Q98.2558 1098.66 95.478 1100.21 L95.478 1095.48 Q98.3021 1094.35 100.756 1093.77 Q103.209 1093.19 105.246 1093.19 Q110.617 1093.19 113.811 1095.88 Q117.006 1098.56 117.006 1103.05 Q117.006 1105.18 116.196 1107.1 Q115.408 1109 113.302 1111.59 Q112.723 1112.27 109.621 1115.48 Q106.52 1118.68 100.872 1124.44 Z\" fill=\"#000000\" fill-rule=\"nonzero\" fill-opacity=\"1\" /><path clip-path=\"url(#clip600)\" d=\"M105.246 744.005 Q101.635 744.005 99.8067 747.569 Q98.0012 751.111 98.0012 758.241 Q98.0012 765.347 99.8067 768.912 Q101.635 772.454 105.246 772.454 Q108.881 772.454 110.686 768.912 Q112.515 765.347 112.515 758.241 Q112.515 751.111 110.686 747.569 Q108.881 744.005 105.246 744.005 M105.246 740.301 Q111.057 740.301 114.112 744.907 Q117.191 749.491 117.191 758.241 Q117.191 766.968 114.112 771.574 Q111.057 776.157 105.246 776.157 Q99.4363 776.157 96.3576 771.574 Q93.3021 766.968 93.3021 758.241 Q93.3021 749.491 96.3576 744.907 Q99.4363 740.301 105.246 740.301 Z\" fill=\"#000000\" fill-rule=\"nonzero\" fill-opacity=\"1\" /><path clip-path=\"url(#clip600)\" d=\"M100.872 418.66 L117.191 418.66 L117.191 422.595 L95.2465 422.595 L95.2465 418.66 Q97.9086 415.905 102.492 411.275 Q107.098 406.623 108.279 405.28 Q110.524 402.757 111.404 401.021 Q112.307 399.262 112.307 397.572 Q112.307 394.817 110.362 393.081 Q108.441 391.345 105.339 391.345 Q103.14 391.345 100.686 392.109 Q98.2558 392.873 95.478 394.424 L95.478 389.701 Q98.3021 388.567 100.756 387.988 Q103.209 387.41 105.246 387.41 Q110.617 387.41 113.811 390.095 Q117.006 392.78 117.006 397.271 Q117.006 399.4 116.196 401.322 Q115.408 403.22 113.302 405.812 Q112.723 406.484 109.621 409.701 Q106.52 412.896 100.872 418.66 Z\" fill=\"#000000\" fill-rule=\"nonzero\" fill-opacity=\"1\" /><path clip-path=\"url(#clip600)\" d=\"M107.608 39.2175 L95.8021 57.6665 L107.608 57.6665 L107.608 39.2175 M106.381 35.1435 L112.26 35.1435 L112.26 57.6665 L117.191 57.6665 L117.191 61.5554 L112.26 61.5554 L112.26 69.7035 L107.608 69.7035 L107.608 61.5554 L92.0058 61.5554 L92.0058 57.0415 L106.381 35.1435 Z\" fill=\"#000000\" fill-rule=\"nonzero\" fill-opacity=\"1\" /><polyline clip-path=\"url(#clip602)\" style=\"stroke:#000000; stroke-linecap:round; stroke-linejoin:round; stroke-width:4; stroke-opacity:1; fill:none\" points=\"1023.42,581.76 1199.86,581.76 \"/>\n",
       "<polyline clip-path=\"url(#clip602)\" style=\"stroke:#000000; stroke-linecap:round; stroke-linejoin:round; stroke-width:4; stroke-opacity:1; fill:none\" points=\"1199.86,581.76 1199.86,934.652 \"/>\n",
       "<polyline clip-path=\"url(#clip602)\" style=\"stroke:#000000; stroke-linecap:round; stroke-linejoin:round; stroke-width:4; stroke-opacity:1; fill:none\" points=\"1023.42,1111.1 1552.76,758.206 \"/>\n",
       "<polyline clip-path=\"url(#clip602)\" style=\"stroke:#000000; stroke-linecap:round; stroke-linejoin:round; stroke-width:4; stroke-opacity:1; fill:none\" points=\"494.082,405.315 494.082,934.652 \"/>\n",
       "<polyline clip-path=\"url(#clip602)\" style=\"stroke:#000000; stroke-linecap:round; stroke-linejoin:round; stroke-width:4; stroke-opacity:1; fill:none\" points=\"494.082,1287.54 1252.8,1164.03 \"/>\n",
       "<circle clip-path=\"url(#clip602)\" cx=\"494.082\" cy=\"430.463\" r=\"14.4\" fill=\"#009af9\" fill-rule=\"evenodd\" fill-opacity=\"0.3\" stroke=\"#000000\" stroke-opacity=\"0.3\" stroke-width=\"3.2\"/>\n",
       "<circle clip-path=\"url(#clip602)\" cx=\"494.082\" cy=\"460.364\" r=\"14.4\" fill=\"#009af9\" fill-rule=\"evenodd\" fill-opacity=\"0.3\" stroke=\"#000000\" stroke-opacity=\"0.3\" stroke-width=\"3.2\"/>\n",
       "<circle clip-path=\"url(#clip602)\" cx=\"494.082\" cy=\"488.418\" r=\"14.4\" fill=\"#009af9\" fill-rule=\"evenodd\" fill-opacity=\"0.3\" stroke=\"#000000\" stroke-opacity=\"0.3\" stroke-width=\"3.2\"/>\n",
       "<circle clip-path=\"url(#clip602)\" cx=\"494.082\" cy=\"515.002\" r=\"14.4\" fill=\"#009af9\" fill-rule=\"evenodd\" fill-opacity=\"0.3\" stroke=\"#000000\" stroke-opacity=\"0.3\" stroke-width=\"3.2\"/>\n",
       "<circle clip-path=\"url(#clip602)\" cx=\"494.082\" cy=\"540.431\" r=\"14.4\" fill=\"#009af9\" fill-rule=\"evenodd\" fill-opacity=\"0.3\" stroke=\"#000000\" stroke-opacity=\"0.3\" stroke-width=\"3.2\"/>\n",
       "<circle clip-path=\"url(#clip602)\" cx=\"494.082\" cy=\"564.978\" r=\"14.4\" fill=\"#009af9\" fill-rule=\"evenodd\" fill-opacity=\"0.3\" stroke=\"#000000\" stroke-opacity=\"0.3\" stroke-width=\"3.2\"/>\n",
       "<circle clip-path=\"url(#clip602)\" cx=\"494.082\" cy=\"588.879\" r=\"14.4\" fill=\"#009af9\" fill-rule=\"evenodd\" fill-opacity=\"0.3\" stroke=\"#000000\" stroke-opacity=\"0.3\" stroke-width=\"3.2\"/>\n",
       "<circle clip-path=\"url(#clip602)\" cx=\"494.082\" cy=\"612.35\" r=\"14.4\" fill=\"#009af9\" fill-rule=\"evenodd\" fill-opacity=\"0.3\" stroke=\"#000000\" stroke-opacity=\"0.3\" stroke-width=\"3.2\"/>\n",
       "<circle clip-path=\"url(#clip602)\" cx=\"494.082\" cy=\"635.592\" r=\"14.4\" fill=\"#009af9\" fill-rule=\"evenodd\" fill-opacity=\"0.3\" stroke=\"#000000\" stroke-opacity=\"0.3\" stroke-width=\"3.2\"/>\n",
       "<circle clip-path=\"url(#clip602)\" cx=\"494.082\" cy=\"658.798\" r=\"14.4\" fill=\"#009af9\" fill-rule=\"evenodd\" fill-opacity=\"0.3\" stroke=\"#000000\" stroke-opacity=\"0.3\" stroke-width=\"3.2\"/>\n",
       "<circle clip-path=\"url(#clip602)\" cx=\"494.082\" cy=\"682.159\" r=\"14.4\" fill=\"#009af9\" fill-rule=\"evenodd\" fill-opacity=\"0.3\" stroke=\"#000000\" stroke-opacity=\"0.3\" stroke-width=\"3.2\"/>\n",
       "<circle clip-path=\"url(#clip602)\" cx=\"494.082\" cy=\"705.872\" r=\"14.4\" fill=\"#009af9\" fill-rule=\"evenodd\" fill-opacity=\"0.3\" stroke=\"#000000\" stroke-opacity=\"0.3\" stroke-width=\"3.2\"/>\n",
       "<circle clip-path=\"url(#clip602)\" cx=\"494.082\" cy=\"730.147\" r=\"14.4\" fill=\"#009af9\" fill-rule=\"evenodd\" fill-opacity=\"0.3\" stroke=\"#000000\" stroke-opacity=\"0.3\" stroke-width=\"3.2\"/>\n",
       "<circle clip-path=\"url(#clip602)\" cx=\"494.082\" cy=\"755.211\" r=\"14.4\" fill=\"#009af9\" fill-rule=\"evenodd\" fill-opacity=\"0.3\" stroke=\"#000000\" stroke-opacity=\"0.3\" stroke-width=\"3.2\"/>\n",
       "<circle clip-path=\"url(#clip602)\" cx=\"494.082\" cy=\"781.321\" r=\"14.4\" fill=\"#009af9\" fill-rule=\"evenodd\" fill-opacity=\"0.3\" stroke=\"#000000\" stroke-opacity=\"0.3\" stroke-width=\"3.2\"/>\n",
       "<circle clip-path=\"url(#clip602)\" cx=\"494.082\" cy=\"808.776\" r=\"14.4\" fill=\"#009af9\" fill-rule=\"evenodd\" fill-opacity=\"0.3\" stroke=\"#000000\" stroke-opacity=\"0.3\" stroke-width=\"3.2\"/>\n",
       "<circle clip-path=\"url(#clip602)\" cx=\"494.082\" cy=\"837.926\" r=\"14.4\" fill=\"#009af9\" fill-rule=\"evenodd\" fill-opacity=\"0.3\" stroke=\"#000000\" stroke-opacity=\"0.3\" stroke-width=\"3.2\"/>\n",
       "<circle clip-path=\"url(#clip602)\" cx=\"494.082\" cy=\"869.2\" r=\"14.4\" fill=\"#009af9\" fill-rule=\"evenodd\" fill-opacity=\"0.3\" stroke=\"#000000\" stroke-opacity=\"0.3\" stroke-width=\"3.2\"/>\n",
       "<circle clip-path=\"url(#clip602)\" cx=\"494.082\" cy=\"903.126\" r=\"14.4\" fill=\"#009af9\" fill-rule=\"evenodd\" fill-opacity=\"0.3\" stroke=\"#000000\" stroke-opacity=\"0.3\" stroke-width=\"3.2\"/>\n",
       "<circle clip-path=\"url(#clip602)\" cx=\"509.154\" cy=\"1285.09\" r=\"14.4\" fill=\"#009af9\" fill-rule=\"evenodd\" fill-opacity=\"0.3\" stroke=\"#000000\" stroke-opacity=\"0.3\" stroke-width=\"3.2\"/>\n",
       "<circle clip-path=\"url(#clip602)\" cx=\"564.896\" cy=\"1276.01\" r=\"14.4\" fill=\"#009af9\" fill-rule=\"evenodd\" fill-opacity=\"0.3\" stroke=\"#000000\" stroke-opacity=\"0.3\" stroke-width=\"3.2\"/>\n",
       "<circle clip-path=\"url(#clip602)\" cx=\"616.041\" cy=\"1267.69\" r=\"14.4\" fill=\"#009af9\" fill-rule=\"evenodd\" fill-opacity=\"0.3\" stroke=\"#000000\" stroke-opacity=\"0.3\" stroke-width=\"3.2\"/>\n",
       "<circle clip-path=\"url(#clip602)\" cx=\"663.509\" cy=\"1259.96\" r=\"14.4\" fill=\"#009af9\" fill-rule=\"evenodd\" fill-opacity=\"0.3\" stroke=\"#000000\" stroke-opacity=\"0.3\" stroke-width=\"3.2\"/>\n",
       "<circle clip-path=\"url(#clip602)\" cx=\"708.035\" cy=\"1252.71\" r=\"14.4\" fill=\"#009af9\" fill-rule=\"evenodd\" fill-opacity=\"0.3\" stroke=\"#000000\" stroke-opacity=\"0.3\" stroke-width=\"3.2\"/>\n",
       "<circle clip-path=\"url(#clip602)\" cx=\"750.221\" cy=\"1245.85\" r=\"14.4\" fill=\"#009af9\" fill-rule=\"evenodd\" fill-opacity=\"0.3\" stroke=\"#000000\" stroke-opacity=\"0.3\" stroke-width=\"3.2\"/>\n",
       "<circle clip-path=\"url(#clip602)\" cx=\"790.57\" cy=\"1239.28\" r=\"14.4\" fill=\"#009af9\" fill-rule=\"evenodd\" fill-opacity=\"0.3\" stroke=\"#000000\" stroke-opacity=\"0.3\" stroke-width=\"3.2\"/>\n",
       "<circle clip-path=\"url(#clip602)\" cx=\"829.511\" cy=\"1232.94\" r=\"14.4\" fill=\"#009af9\" fill-rule=\"evenodd\" fill-opacity=\"0.3\" stroke=\"#000000\" stroke-opacity=\"0.3\" stroke-width=\"3.2\"/>\n",
       "<circle clip-path=\"url(#clip602)\" cx=\"867.423\" cy=\"1226.77\" r=\"14.4\" fill=\"#009af9\" fill-rule=\"evenodd\" fill-opacity=\"0.3\" stroke=\"#000000\" stroke-opacity=\"0.3\" stroke-width=\"3.2\"/>\n",
       "<circle clip-path=\"url(#clip602)\" cx=\"904.647\" cy=\"1220.71\" r=\"14.4\" fill=\"#009af9\" fill-rule=\"evenodd\" fill-opacity=\"0.3\" stroke=\"#000000\" stroke-opacity=\"0.3\" stroke-width=\"3.2\"/>\n",
       "<circle clip-path=\"url(#clip602)\" cx=\"941.503\" cy=\"1214.71\" r=\"14.4\" fill=\"#009af9\" fill-rule=\"evenodd\" fill-opacity=\"0.3\" stroke=\"#000000\" stroke-opacity=\"0.3\" stroke-width=\"3.2\"/>\n",
       "<circle clip-path=\"url(#clip602)\" cx=\"978.296\" cy=\"1208.72\" r=\"14.4\" fill=\"#009af9\" fill-rule=\"evenodd\" fill-opacity=\"0.3\" stroke=\"#000000\" stroke-opacity=\"0.3\" stroke-width=\"3.2\"/>\n",
       "<circle clip-path=\"url(#clip602)\" cx=\"1015.33\" cy=\"1202.69\" r=\"14.4\" fill=\"#009af9\" fill-rule=\"evenodd\" fill-opacity=\"0.3\" stroke=\"#000000\" stroke-opacity=\"0.3\" stroke-width=\"3.2\"/>\n",
       "<circle clip-path=\"url(#clip602)\" cx=\"1052.92\" cy=\"1196.57\" r=\"14.4\" fill=\"#009af9\" fill-rule=\"evenodd\" fill-opacity=\"0.3\" stroke=\"#000000\" stroke-opacity=\"0.3\" stroke-width=\"3.2\"/>\n",
       "<circle clip-path=\"url(#clip602)\" cx=\"855.758\" cy=\"639.998\" r=\"14.4\" fill=\"#ff0000\" fill-rule=\"evenodd\" fill-opacity=\"1\" stroke=\"#000000\" stroke-opacity=\"1\" stroke-width=\"0\"/>\n",
       "<polyline clip-path=\"url(#clip602)\" style=\"stroke:#ff0000; stroke-linecap:round; stroke-linejoin:round; stroke-width:4; stroke-opacity:1; fill:none\" points=\"855.758,639.998 772.599,669.456 \"/>\n",
       "</svg>\n"
      ]
     },
     "execution_count": 34,
     "metadata": {},
     "output_type": "execute_result"
    }
   ],
   "source": [
    "segs = [\n",
    "    Segment([1.,1.,2.,1.]),\n",
    "    Segment([2.,1.,2.,-1.]),\n",
    "    Segment([1.,-2.,4.,0.]),\n",
    "    Segment([-2.,2.,-2.,-1.]),\n",
    "    Segment([-2.,-3.,2.3,-2.3]),\n",
    "]\n",
    "\n",
    "m     = 10\n",
    "fov   = π\n",
    "num_a = 50\n",
    "\n",
    "ps = [Pose(rand(2), rand()*2π) for i=1:m]\n",
    "\n",
    "zs = cast(stack(Vector.(ps)), stack(Vector.(segs)); fov=fov, num_a=num_a, zmax=Inf)\n",
    "as = create_angles(fov, num_a)\n",
    "zs = unstack(zs)\n",
    "ys = polar_inv.(zs,[as])\n",
    "\n",
    "# ----------------------\n",
    "plot(size=(400,400), aspect_ratio=:equal, legend=nothing, \n",
    "    xlim=(-4,4),\n",
    "    ylim=(-4,4)\n",
    ")\n",
    "plot!(segs, c=:black)\n",
    "scatter!(ys[1].*ps[1], c=col[1], alpha=0.3)\n",
    "scatter!(ps[1], r=0.5, c=:red, alpha=1.)\n",
    "\n",
    "    "
   ]
  },
  {
   "cell_type": "code",
   "execution_count": null,
   "id": "502daeab",
   "metadata": {},
   "outputs": [],
   "source": []
  }
 ],
 "metadata": {
  "@webio": {
   "lastCommId": null,
   "lastKernelId": null
  },
  "kernelspec": {
   "display_name": "Julia 1.8.3",
   "language": "julia",
   "name": "julia-1.8"
  },
  "language_info": {
   "file_extension": ".jl",
   "mimetype": "application/julia",
   "name": "julia",
   "version": "1.8.3"
  },
  "toc": {
   "base_numbering": 1,
   "nav_menu": {},
   "number_sections": true,
   "sideBar": true,
   "skip_h1_title": true,
   "title_cell": "Table of Contents",
   "title_sidebar": "Contents",
   "toc_cell": true,
   "toc_position": {
    "height": "809.473px",
    "left": "68.9922px",
    "top": "110.156px",
    "width": "288.889px"
   },
   "toc_section_display": true,
   "toc_window_display": true
  }
 },
 "nbformat": 4,
 "nbformat_minor": 5
}
