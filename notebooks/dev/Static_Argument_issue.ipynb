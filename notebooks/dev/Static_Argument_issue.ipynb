{
 "cells": [
  {
   "cell_type": "code",
   "execution_count": 1,
   "id": "5a9de5d5",
   "metadata": {},
   "outputs": [],
   "source": [
    "using Gen"
   ]
  },
  {
   "cell_type": "code",
   "execution_count": 88,
   "id": "c6b70d34",
   "metadata": {},
   "outputs": [
    {
     "data": {
      "text/plain": [
       "((:GOOD, :GOOD), (:BAD, :GOOD))"
      ]
     },
     "execution_count": 88,
     "metadata": {},
     "output_type": "execute_result"
    }
   ],
   "source": [
    "@gen function some_model()\n",
    "    return :BAD\n",
    "end\n",
    "\n",
    "@gen function some_other_model()\n",
    "    return :GOOD\n",
    "end\n",
    "\n",
    "# -----------\n",
    "@gen function non_static_model(some_model)\n",
    "    x ~ some_model()\n",
    "    y = some_model()\n",
    "    return x,y\n",
    "end\n",
    "\n",
    "# -----------\n",
    "@gen (static) function static_model(some_model)\n",
    "    x ~ some_model()\n",
    "    y = some_model()\n",
    "    return x,y\n",
    "end\n",
    "Gen.@load_generated_functions\n",
    "\n",
    "# -----------\n",
    "non_static_model(some_other_model), # >> (:GOOD, :GOOD)\n",
    "static_model(some_other_model)      # >> (:BAD, :GOOD)"
   ]
  },
  {
   "cell_type": "code",
   "execution_count": 82,
   "id": "6314cafe",
   "metadata": {},
   "outputs": [
    {
     "data": {
      "text/plain": [
       "(:GOOD, :GOOD)"
      ]
     },
     "execution_count": 82,
     "metadata": {},
     "output_type": "execute_result"
    }
   ],
   "source": [
    "non_static_model(some_other_model) # >> (:GOOD, :GOOD)"
   ]
  },
  {
   "cell_type": "code",
   "execution_count": 84,
   "id": "de02edb2",
   "metadata": {},
   "outputs": [
    {
     "data": {
      "text/plain": [
       "(:BAD, :GOOD)"
      ]
     },
     "execution_count": 84,
     "metadata": {},
     "output_type": "execute_result"
    }
   ],
   "source": [
    "static_model(some_other_model)     # >> (:BAD, :GOOD)"
   ]
  },
  {
   "cell_type": "markdown",
   "id": "da954357",
   "metadata": {},
   "source": [
    "```julia\n",
    "@gen function some_model()\n",
    "    return :BAD\n",
    "end\n",
    "\n",
    "@gen function some_other_model()\n",
    "    return :GOOD\n",
    "end\n",
    "\n",
    "# -----------\n",
    "\n",
    "@gen function non_static_model(some_model)\n",
    "    x ~ some_model()\n",
    "    y = some_model()\n",
    "    return x,y\n",
    "end\n",
    "\n",
    "@gen (static) function static_model(some_model)\n",
    "    x ~ some_model()\n",
    "    y = some_model()\n",
    "    return x,y\n",
    "end\n",
    "Gen.@load_generated_functions\n",
    "\n",
    "# -----------\n",
    "non_static_model(some_other_model), # >> (:GOOD, :GOOD)\n",
    "static_model(some_other_model)      # >> (:BAD, :GOOD)\n",
    "```"
   ]
  },
  {
   "cell_type": "code",
   "execution_count": null,
   "id": "42ef1e94",
   "metadata": {},
   "outputs": [],
   "source": []
  }
 ],
 "metadata": {
  "kernelspec": {
   "display_name": "Julia 1.8.3",
   "language": "julia",
   "name": "julia-1.8"
  },
  "language_info": {
   "file_extension": ".jl",
   "mimetype": "application/julia",
   "name": "julia",
   "version": "1.8.3"
  },
  "toc": {
   "base_numbering": 1,
   "nav_menu": {},
   "number_sections": true,
   "sideBar": true,
   "skip_h1_title": true,
   "title_cell": "Table of Contents",
   "title_sidebar": "Contents",
   "toc_cell": false,
   "toc_position": {},
   "toc_section_display": true,
   "toc_window_display": false
  }
 },
 "nbformat": 4,
 "nbformat_minor": 5
}
