{
 "cells": [
  {
   "cell_type": "markdown",
   "id": "6ef5e72f",
   "metadata": {},
   "source": [
    "# Cuda.jl kernels"
   ]
  },
  {
   "cell_type": "code",
   "execution_count": 3,
   "id": "e79036c1",
   "metadata": {},
   "outputs": [
    {
     "data": {
      "text/html": [
       "<style>.rendered_html.text_cell_render {max-width:500px; }</style>"
      ],
      "text/plain": [
       "HTML{String}(\"<style>.rendered_html.text_cell_render {max-width:500px; }</style>\")"
      ]
     },
     "metadata": {},
     "output_type": "display_data"
    }
   ],
   "source": [
    "display(HTML(\"<style>.rendered_html.text_cell_render {max-width:500px; }</style>\"));"
   ]
  },
  {
   "cell_type": "markdown",
   "id": "23279b0e",
   "metadata": {},
   "source": [
    "\n",
    "CUDA.jl: exported math functions (incomplete)\n",
    "\n",
    "```\n",
    "isinf, isnan, isfinite,\n",
    "signbit, copysign, ldexp, max, min\n",
    "+, -, *, /, ^\n",
    "round, ceil, floor\n",
    "abs, abs2, mod, rem, sqrt, hypot, fma\n",
    "exp, exp2, exp10, expm1\n",
    "log, log10, log1p\n",
    "sin, cos, tan, asin, acos, atan,\n",
    "sinpi, cospi, sincos, sincospi,\n",
    "sinh, cosh, tanh, asinh, acosh, atanh\n",
    "angle, erf, loggama, normcdf, normcdfinv\n",
    "```"
   ]
  },
  {
   "cell_type": "code",
   "execution_count": 5,
   "id": "ab08084f",
   "metadata": {},
   "outputs": [],
   "source": [
    "#nbx --fname=\"src/cuda_utilsjl\"\n",
    "push!(LOAD_PATH, \"src\");\n",
    "using MyUtils\n",
    "using CUDA\n",
    "using BenchmarkTools\n",
    "using Colors, Plots\n",
    "col = palette(:default);"
   ]
  },
  {
   "cell_type": "code",
   "execution_count": 6,
   "id": "380e6771",
   "metadata": {},
   "outputs": [
    {
     "data": {
      "text/plain": [
       "cuda_grid"
      ]
     },
     "execution_count": 6,
     "metadata": {},
     "output_type": "execute_result"
    }
   ],
   "source": [
    "#nbx\n",
    "\"\"\"\n",
    "    griddims = cuda_grid(datadims::Tuple{Vararg{Int}}, \n",
    "                         blockdims::Tuple{Vararg{Int}})\n",
    "\n",
    "Given data dimensions `datadims` and number of threads \n",
    "in each dimension `blockdims` returns the respective \n",
    "grid dimensions `griddims` such that\n",
    "\n",
    "    griddims[i] = ceil(Int, datadims[i]/blockdims[i])\n",
    "\n",
    "\"\"\"\n",
    "function cuda_grid(datadims::Tuple{Vararg{Int}}, blockdims::Tuple{Vararg{Int}})\n",
    "    griddims = ceil.(Int, datadims./blockdims)\n",
    "    return griddims\n",
    "end"
   ]
  },
  {
   "cell_type": "code",
   "execution_count": 10,
   "id": "c1d6de69",
   "metadata": {},
   "outputs": [
    {
     "data": {
      "text/plain": [
       "(5, 2)"
      ]
     },
     "execution_count": 10,
     "metadata": {},
     "output_type": "execute_result"
    }
   ],
   "source": [
    "datadims  = (10,7)\n",
    "blockdims = ( 2,4)\n",
    "griddims = cuda_grid(datadims, blockdims)"
   ]
  },
  {
   "cell_type": "code",
   "execution_count": null,
   "id": "9569fc07",
   "metadata": {},
   "outputs": [],
   "source": []
  }
 ],
 "metadata": {
  "kernelspec": {
   "display_name": "Julia 1.8.3",
   "language": "julia",
   "name": "julia-1.8"
  },
  "language_info": {
   "file_extension": ".jl",
   "mimetype": "application/julia",
   "name": "julia",
   "version": "1.8.3"
  },
  "toc": {
   "base_numbering": 1,
   "nav_menu": {},
   "number_sections": true,
   "sideBar": true,
   "skip_h1_title": true,
   "title_cell": "Table of Contents",
   "title_sidebar": "Contents",
   "toc_cell": false,
   "toc_position": {
    "height": "calc(100% - 180px)",
    "left": "10px",
    "top": "150px",
    "width": "426.917px"
   },
   "toc_section_display": true,
   "toc_window_display": true
  }
 },
 "nbformat": 4,
 "nbformat_minor": 5
}
