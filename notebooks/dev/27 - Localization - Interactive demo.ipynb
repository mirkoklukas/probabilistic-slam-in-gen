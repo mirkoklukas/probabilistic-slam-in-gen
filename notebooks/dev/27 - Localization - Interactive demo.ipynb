{
 "cells": [
  {
   "cell_type": "code",
   "execution_count": 1,
   "id": "60c37ae4",
   "metadata": {},
   "outputs": [
    {
     "data": {
      "text/html": [
       "<style>.rendered_html.text_cell_render {max-width:700px; }</style>"
      ],
      "text/plain": [
       "HTML{String}(\"<style>.rendered_html.text_cell_render {max-width:700px; }</style>\")"
      ]
     },
     "metadata": {},
     "output_type": "display_data"
    }
   ],
   "source": [
    "display(HTML(\"<style>.rendered_html.text_cell_render {max-width:700px; }</style>\"));"
   ]
  },
  {
   "cell_type": "code",
   "execution_count": 4,
   "id": "ca750102",
   "metadata": {},
   "outputs": [],
   "source": [
    "using Interact"
   ]
  },
  {
   "cell_type": "code",
   "execution_count": 11,
   "id": "775ae7cb",
   "metadata": {},
   "outputs": [
    {
     "name": "stdout",
     "output_type": "stream",
     "text": [
      "Loading `data/data_3.jld2` ...\n",
      "\n",
      "\t_segs \tVector{Segment}\n",
      "\t_xs \tVector{Vector{Float64}}\n",
      "\t_hds \tVector{Float64}\n",
      "\t_ps \tVector{Pose}\n",
      "\t_dxs \tVector{Vector{Float64}}\n",
      "\t_dhds \tVector{Float64}\n",
      "\t_us \tVector{Tuple{Vector{Float64}, Float64}}\n",
      "\t_as \tVector{Float64}\n",
      "\t_zs \tVector{Any}\n",
      "\t_ss \tVector{Vector{Measurement}}\n",
      "\t_fov \tFloat64\n",
      "\t_zmax \tInt64\n",
      "\t_T \tInt64\n",
      "\n",
      "To take a look call `glimpse_at_data(_segs, _ps, _ss)`\n"
     ]
    },
    {
     "data": {
      "text/plain": [
       "constraints (generic function with 1 method)"
      ]
     },
     "execution_count": 11,
     "metadata": {},
     "output_type": "execute_result"
    }
   ],
   "source": [
    "include(\"src/smc_move.jl\")"
   ]
  },
  {
   "cell_type": "code",
   "execution_count": 12,
   "id": "3e81fcce",
   "metadata": {},
   "outputs": [
    {
     "data": {
      "text/plain": [
       "naive_posterior (generic function with 1 method)"
      ]
     },
     "execution_count": 12,
     "metadata": {},
     "output_type": "execute_result"
    }
   ],
   "source": [
    "function naive_posterior(T, N, args)\n",
    "\n",
    "    ch = choicemap()\n",
    "    for t=0:T\n",
    "        ch = merge(ch, constraints(t))\n",
    "    end\n",
    "    \n",
    "    trs, ws, = importance_sampling(static_slam_model, (T,args...), ch, N);\n",
    "    \n",
    "    probs = exp.(ws .- logsumexp_cu(ws, 1))\n",
    "    i = categorical(probs)\n",
    "    tr = trs[i]\n",
    "    w  = ws[i]\n",
    "    \n",
    "    tr, w\n",
    "end"
   ]
  },
  {
   "cell_type": "code",
   "execution_count": 13,
   "id": "798def8b",
   "metadata": {},
   "outputs": [
    {
     "data": {
      "text/plain": [
       "simple_posterior (generic function with 1 method)"
      ]
     },
     "execution_count": 13,
     "metadata": {},
     "output_type": "execute_result"
    }
   ],
   "source": [
    "function particle_filter_posterior(T, N, args)\n",
    "    \n",
    "    ch = constraints(0)\n",
    "    tr, w = generate(static_slam_model, (0,args...), ch);\n",
    "    \n",
    "    trs = fill(tr, N)\n",
    "    ws  = fill(w, N)\n",
    "    \n",
    "    diffs = argdiffs([1;fill(0,length(args))])\n",
    "    \n",
    "    for t=1:T\n",
    "        ch = constraints(t)\n",
    "        \n",
    "        for i=1:N\n",
    "            tr, dw, _, _ = Gen.update(trs[i], (t, args...), diffs, ch); \n",
    "            trs[i] = tr\n",
    "            ws[i]  = ws[i] + dw \n",
    "        end\n",
    "        \n",
    "        # Resampling  \n",
    "        probs = exp.(ws .- logsumexp_cu(ws, 1))\n",
    "        inds = Distributions.rand(Distributions.Categorical(probs), (N,))\n",
    "        trs = trs[inds]\n",
    "        ws = zeros(N)\n",
    "    end\n",
    "    \n",
    "    probs = exp.(ws .- logsumexp_cu(ws, 1))\n",
    "    \n",
    "    i = categorical(probs)\n",
    "    tr = trs[i]\n",
    "    w  = ws[i]\n",
    "    tr, w\n",
    "end"
   ]
  },
  {
   "cell_type": "code",
   "execution_count": 14,
   "id": "cc5c1784",
   "metadata": {},
   "outputs": [
    {
     "data": {
      "text/plain": [
       "smc_posterior (generic function with 1 method)"
      ]
     },
     "execution_count": 14,
     "metadata": {},
     "output_type": "execute_result"
    }
   ],
   "source": [
    "function smc_posterior(T, args, grid_args)\n",
    "\n",
    "\n",
    "    ch = constraints(0)\n",
    "        \n",
    "    tr, w = generate(static_slam_model, (0,args...), ch);\n",
    "    for t=1:T\n",
    "\n",
    "        x  = stack(polar_inv(_zs[t+1],_as))\n",
    "        ch = constraints(t)\n",
    "        \n",
    "        # Similar to `SimpleExtendingTraceTranslator` with \n",
    "        # an implicit custom grid pose propsal\n",
    "        tr, dw = extend(tr, ch, grid_args);\n",
    "        w = w + dw\n",
    "    end\n",
    "    return tr, w\n",
    "end"
   ]
  },
  {
   "cell_type": "code",
   "execution_count": 15,
   "id": "5f37a899",
   "metadata": {},
   "outputs": [
    {
     "data": {
      "text/plain": [
       "perturb (generic function with 4 methods)"
      ]
     },
     "execution_count": 15,
     "metadata": {},
     "output_type": "execute_result"
    }
   ],
   "source": [
    "function perturb(us::Vector{Tuple{Vector{Float64}, Float64}}, x_noise=0.1, hd_noise=10.0)\n",
    "   us_tilde = [(\n",
    "            u[1]+diagnormal([0;0],[x_noise;x_noise]),\n",
    "            u[2]+normal(0,hd_noise/360*2π))\n",
    "        for u in us\n",
    "    ]\n",
    "    return us_tilde\n",
    "end"
   ]
  },
  {
   "cell_type": "code",
   "execution_count": 30,
   "id": "4aa6cb12",
   "metadata": {},
   "outputs": [
    {
     "data": {
      "text/plain": [
       "resample_us (generic function with 1 method)"
      ]
     },
     "execution_count": 30,
     "metadata": {},
     "output_type": "execute_result"
    }
   ],
   "source": [
    "us_noisy = _us\n",
    "\n",
    "function resample_us(x_noise, hd_noise)\n",
    "    global us_noisy;\n",
    "    us_noisy = perturb(_us, x_noise, hd_noise)\n",
    "end"
   ]
  },
  {
   "cell_type": "code",
   "execution_count": 31,
   "id": "a436c4f1",
   "metadata": {},
   "outputs": [],
   "source": [
    "p0 = _ps[1]\n",
    "x0_noise  = .0001\n",
    "hd0_noise = .0001\n",
    "\n",
    "# Motion/Control noise\n",
    "x_noise  = 0.25\n",
    "hd_noise = 10.\n",
    "\n",
    "# Sensor args\n",
    "wind    = 10\n",
    "s_noise = 0.1\n",
    "dropout = 1e-8\n",
    "\n",
    "\n",
    "\n",
    "args = (\n",
    "    _us,         \n",
    "    p0, x0_noise, hd0_noise, # Pose prior model\n",
    "    x_noise, hd_noise,       # Motion model\n",
    "    wind, s_noise, dropout   # Sensor model\n",
    ");\n",
    "\n",
    "get_model_args(x_noise, hd_noise, wind, s_noise) = (\n",
    "    us_noisy,         \n",
    "    p0, x0_noise, hd0_noise, # Pose prior model\n",
    "    x_noise, hd_noise,       # Motion model\n",
    "    wind, s_noise, dropout   # Sensor model\n",
    ");"
   ]
  },
  {
   "cell_type": "code",
   "execution_count": 32,
   "id": "fd764c47",
   "metadata": {},
   "outputs": [],
   "source": [
    "n   = 5\n",
    "w   = fill(20, n)\n",
    "sig = fill(0.1,n)\n",
    "fill(dropout,n)\n",
    "\n",
    "grid_k   = [4, 4, 4, 4, 4]\n",
    "grid_dx  = [1., 0.4, 0.125, 0.125, 0.125]\n",
    "grid_dhd = [90.0, 45, 22.5, 10, 10]\n",
    "\n",
    "grid_args = (w, sig, dropout, grid_k, grid_dx, grid_dhd);\n",
    "\n",
    "get_grid_args(n, k, w,sig) = (\n",
    "    fill(w, n), \n",
    "    fill(sig, n), \n",
    "    fill(1e-9,n), \n",
    "    fill(k, n), \n",
    "    collect(range(1.0, 0.125, n)),\n",
    "    collect(range(90.0, 10., n))\n",
    ");"
   ]
  },
  {
   "cell_type": "code",
   "execution_count": 33,
   "id": "f63e3d92",
   "metadata": {},
   "outputs": [],
   "source": [
    "args = get_model_args(0.1, 5.0, 10, 0.2)\n",
    "grid_args = get_grid_args(4, 4, 10, 0.2)\n",
    "\n",
    "naive_posterior(1, 10, args);\n",
    "simple_posterior(1, 10, args);\n",
    "smc_posterior(1, args, grid_args);"
   ]
  },
  {
   "cell_type": "markdown",
   "id": "1b19d744",
   "metadata": {},
   "source": [
    "## Demo"
   ]
  },
  {
   "cell_type": "code",
   "execution_count": 34,
   "id": "d8a7e638",
   "metadata": {},
   "outputs": [],
   "source": [
    "using Interact"
   ]
  },
  {
   "cell_type": "code",
   "execution_count": 35,
   "id": "b5b7bd66",
   "metadata": {},
   "outputs": [
    {
     "data": {
      "text/plain": [
       "plot_it (generic function with 1 method)"
      ]
     },
     "execution_count": 35,
     "metadata": {},
     "output_type": "execute_result"
    }
   ],
   "source": [
    "function plot_it(\n",
    "        posterior, show_u, show_x, show_samples,\n",
    "        n,T,N, \n",
    "        x_noise, hd_noise, \n",
    "        mix_w, s_noise, \n",
    "        grid_n, grid_k, grid_w, grid_s_noise\n",
    "        )\n",
    "    args = get_model_args(x_noise, hd_noise, mix_w, s_noise);\n",
    "    grid_args = get_grid_args(grid_n, grid_k, grid_w, grid_s_noise);\n",
    "    \n",
    "    trs = []\n",
    "    ws = []\n",
    "    for i=1:n\n",
    "        print(i)\n",
    "        if posterior == :naive\n",
    "            tr,w = naive_posterior(T, N, args)\n",
    "        elseif posterior == :pf\n",
    "            tr,w = particle_filter_posterior(T, N, args)\n",
    "        elseif posterior == :smc\n",
    "            tr,w = smc_posterior(T, args, grid_args)\n",
    "        end\n",
    "        push!(trs, tr)\n",
    "        push!(ws, w)\n",
    "    end\n",
    "    \n",
    "    \n",
    "\n",
    "    ani = Animation()\n",
    "    for i=1:length(trs)\n",
    "        \n",
    "        mypl = plot(\n",
    "            size=(500,500), legend=nothing, \n",
    "            title=\"$(posterior)\\nσₓ = $(x_noise)\\nσᵣ = $(hd_noise)\"; \n",
    "            xlim=(4,17),\n",
    "            ylim=(8,19),\n",
    "            aspect_ratio=:equal)\n",
    "\n",
    "        plot!(_segs, c=:black, linewidth=2)\n",
    "\n",
    "        if show_x\n",
    "            tt = T + 1\n",
    "            x_true = polar_inv(_zs[tt],_as)\n",
    "            scatter!(x_true.*_ps[tt], c=:red, markersize=2, markerstrokewidth=0, alpha=0.5 )\n",
    "        end\n",
    "        \n",
    "        \n",
    "        if show_samples\n",
    "            n=14\n",
    "            ss = range(0,0.9,n)\n",
    "            for j=1:n\n",
    "\n",
    "                s= ss[j]\n",
    "                i_ = mod(i+j-1,length(trs))+1\n",
    "                tr = trs[i_]\n",
    "\n",
    "                ps = [r[1] for r in tr[]];\n",
    "                xs = [r[2] for r in tr[]];\n",
    "\n",
    "                c = :lightgray\n",
    "                plot!([p.x for p in ps], c=c, linewidth=1, alpha=range(0,0.8,n)[j] )\n",
    "                plot!(ps, c=c, r=0.25, linewidth=2, alpha=range(0,1.,n)[j] )\n",
    "            end\n",
    "        end\n",
    "\n",
    "        plot!(_ps[1:T+1],c=:black, r=0.5, linewidth=2)\n",
    "        \n",
    "        if show_x\n",
    "            tt = T + 1\n",
    "            plot!([_ps[tt]],c=:red, r=0.5, linewidth=3)\n",
    "        end\n",
    "        \n",
    "        if show_u\n",
    "            pus = [Pose(p.x+u[1],p.hd+u[2]) for (p,u) in zip(_ps[2:end],args[1])]\n",
    "            for tt in 1:T\n",
    "                plot!([_ps[1+tt].x,pus[tt].x],c=:green, r=0.25, linewidth=2, alpha=0.5)\n",
    "            end\n",
    "            plot!(pus[1:T],c=:green, r=0.25, linewidth=2)\n",
    "        end\n",
    "\n",
    "\n",
    "        frame(ani, mypl)\n",
    "    end\n",
    "    \n",
    "    gif(ani, fps=15)\n",
    "end"
   ]
  },
  {
   "cell_type": "code",
   "execution_count": 41,
   "id": "99dac26e",
   "metadata": {},
   "outputs": [
    {
     "name": "stdout",
     "output_type": "stream",
     "text": [
      "1"
     ]
    },
    {
     "name": "stderr",
     "output_type": "stream",
     "text": [
      "\u001b[36m\u001b[1m[ \u001b[22m\u001b[39m\u001b[36m\u001b[1mInfo: \u001b[22m\u001b[39mSaved animation to /home/ubuntu/workspace/probabilistic-slam-in-gen/notebooks/tmp.gif\n"
     ]
    },
    {
     "data": {
      "application/vnd.webio.node+json": {
       "children": [
        {
         "children": [
          {
           "children": [
            {
             "children": [
              {
               "children": [
                "Sample and Re-draw"
               ],
               "instanceArgs": {
                "namespace": "html",
                "tag": "button"
               },
               "nodeType": "DOM",
               "props": {
                "attributes": {
                 "data-bind": "click: function (){this.clicks(this.clicks()+1)}, css: {'is-loading' : loading}"
                },
                "className": "is-medium button is-primary",
                "style": {}
               },
               "type": "node"
              }
             ],
             "instanceArgs": {
              "handlers": {
               "clicks": [
                "(function (val){return (val!=this.model[\"clicks\"]()) ? (this.valueFromJulia[\"clicks\"]=true, this.model[\"clicks\"](val)) : undefined})"
               ],
               "loading": [
                "(function (val){return (val!=this.model[\"loading\"]()) ? (this.valueFromJulia[\"loading\"]=true, this.model[\"loading\"](val)) : undefined})"
               ]
              },
              "id": "10223739802934581850",
              "imports": {
               "data": [
                {
                 "name": "knockout",
                 "type": "js",
                 "url": "/assetserver/4b78a831658f9469be0fa90a874237d533cfc56e-knockout.js"
                },
                {
                 "name": "knockout_punches",
                 "type": "js",
                 "url": "/assetserver/32cf81589ef7eb25886db6e5be297d237f8599ce-knockout_punches.js"
                },
                {
                 "name": null,
                 "type": "js",
                 "url": "/assetserver/4c861182dd4c5b1a7b80754ca907d70e11c2410c-all.js"
                },
                {
                 "name": null,
                 "type": "css",
                 "url": "/assetserver/55ec2ee389419b72c3c6088bc3fbe3d7187a5fc0-style.css"
                },
                {
                 "name": null,
                 "type": "css",
                 "url": "/assetserver/bb71acf9697a201a164f98e5fab8a4f7b4f82041-bulma_confined.min.css"
                }
               ],
               "type": "async_block"
              },
              "mount_callbacks": [
               "function () {\n    var handler = (function (ko, koPunches) {\n    ko.punches.enableAll();\n    ko.bindingHandlers.numericValue = {\n        init: function(element, valueAccessor, allBindings, data, context) {\n            var stringified = ko.observable(ko.unwrap(valueAccessor()));\n            stringified.subscribe(function(value) {\n                var val = parseFloat(value);\n                if (!isNaN(val)) {\n                    valueAccessor()(val);\n                }\n            });\n            valueAccessor().subscribe(function(value) {\n                var str = JSON.stringify(value);\n                if ((str == \"0\") && ([\"-0\", \"-0.\"].indexOf(stringified()) >= 0))\n                     return;\n                 if ([\"null\", \"\"].indexOf(str) >= 0)\n                     return;\n                stringified(str);\n            });\n            ko.applyBindingsToNode(\n                element,\n                {\n                    value: stringified,\n                    valueUpdate: allBindings.get('valueUpdate'),\n                },\n                context,\n            );\n        }\n    };\n    var json_data = {\"loading\":WebIO.getval({\"name\":\"loading\",\"scope\":\"10223739802934581850\",\"id\":\"13149978056255441249\",\"type\":\"observable\"}),\"clicks\":WebIO.getval({\"name\":\"clicks\",\"scope\":\"10223739802934581850\",\"id\":\"10786020524047741378\",\"type\":\"observable\"})};\n    var self = this;\n    function AppViewModel() {\n        for (var key in json_data) {\n            var el = json_data[key];\n            this[key] = Array.isArray(el) ? ko.observableArray(el) : ko.observable(el);\n        }\n        \n        \n        [this[\"loading\"].subscribe((function (val){!(this.valueFromJulia[\"loading\"]) ? (WebIO.setval({\"name\":\"loading\",\"scope\":\"10223739802934581850\",\"id\":\"13149978056255441249\",\"type\":\"observable\"},val)) : undefined; return this.valueFromJulia[\"loading\"]=false}),self),this[\"clicks\"].subscribe((function (val){!(this.valueFromJulia[\"clicks\"]) ? (WebIO.setval({\"name\":\"clicks\",\"scope\":\"10223739802934581850\",\"id\":\"10786020524047741378\",\"type\":\"observable\"},val)) : undefined; return this.valueFromJulia[\"clicks\"]=false}),self)]\n        \n    }\n    self.model = new AppViewModel();\n    self.valueFromJulia = {};\n    for (var key in json_data) {\n        self.valueFromJulia[key] = false;\n    }\n    ko.applyBindings(self.model, self.dom);\n}\n);\n    (WebIO.importBlock({\"data\":[{\"name\":\"knockout\",\"type\":\"js\",\"url\":\"/assetserver/4b78a831658f9469be0fa90a874237d533cfc56e-knockout.js\"},{\"name\":\"knockout_punches\",\"type\":\"js\",\"url\":\"/assetserver/32cf81589ef7eb25886db6e5be297d237f8599ce-knockout_punches.js\"}],\"type\":\"async_block\"})).then((imports) => handler.apply(this, imports));\n}\n"
              ],
              "observables": {
               "clicks": {
                "id": "10786020524047741378",
                "sync": true,
                "value": 0
               },
               "loading": {
                "id": "13149978056255441249",
                "sync": false,
                "value": false
               }
              },
              "systemjs_options": null
             },
             "nodeType": "Scope",
             "props": {},
             "type": "node"
            }
           ],
           "instanceArgs": {
            "namespace": "html",
            "tag": "div"
           },
           "nodeType": "DOM",
           "props": {
            "className": "field interact-widget"
           },
           "type": "node"
          }
         ],
         "instanceArgs": {
          "namespace": "html",
          "tag": "div"
         },
         "nodeType": "DOM",
         "props": {
          "style": {
           "padding": "0.1em"
          }
         },
         "type": "node"
        },
        {
         "children": [
          {
           "children": [
            {
             "children": [
              {
               "children": [
                "Sample Controls"
               ],
               "instanceArgs": {
                "namespace": "html",
                "tag": "button"
               },
               "nodeType": "DOM",
               "props": {
                "attributes": {
                 "data-bind": "click: function (){this.clicks(this.clicks()+1)}, css: {'is-loading' : loading}"
                },
                "className": "is-medium button is-primary",
                "style": {}
               },
               "type": "node"
              }
             ],
             "instanceArgs": {
              "handlers": {
               "clicks": [
                "(function (val){return (val!=this.model[\"clicks\"]()) ? (this.valueFromJulia[\"clicks\"]=true, this.model[\"clicks\"](val)) : undefined})"
               ],
               "loading": [
                "(function (val){return (val!=this.model[\"loading\"]()) ? (this.valueFromJulia[\"loading\"]=true, this.model[\"loading\"](val)) : undefined})"
               ]
              },
              "id": "5411905980548130807",
              "imports": {
               "data": [
                {
                 "name": "knockout",
                 "type": "js",
                 "url": "/assetserver/4b78a831658f9469be0fa90a874237d533cfc56e-knockout.js"
                },
                {
                 "name": "knockout_punches",
                 "type": "js",
                 "url": "/assetserver/32cf81589ef7eb25886db6e5be297d237f8599ce-knockout_punches.js"
                },
                {
                 "name": null,
                 "type": "js",
                 "url": "/assetserver/4c861182dd4c5b1a7b80754ca907d70e11c2410c-all.js"
                },
                {
                 "name": null,
                 "type": "css",
                 "url": "/assetserver/55ec2ee389419b72c3c6088bc3fbe3d7187a5fc0-style.css"
                },
                {
                 "name": null,
                 "type": "css",
                 "url": "/assetserver/bb71acf9697a201a164f98e5fab8a4f7b4f82041-bulma_confined.min.css"
                }
               ],
               "type": "async_block"
              },
              "mount_callbacks": [
               "function () {\n    var handler = (function (ko, koPunches) {\n    ko.punches.enableAll();\n    ko.bindingHandlers.numericValue = {\n        init: function(element, valueAccessor, allBindings, data, context) {\n            var stringified = ko.observable(ko.unwrap(valueAccessor()));\n            stringified.subscribe(function(value) {\n                var val = parseFloat(value);\n                if (!isNaN(val)) {\n                    valueAccessor()(val);\n                }\n            });\n            valueAccessor().subscribe(function(value) {\n                var str = JSON.stringify(value);\n                if ((str == \"0\") && ([\"-0\", \"-0.\"].indexOf(stringified()) >= 0))\n                     return;\n                 if ([\"null\", \"\"].indexOf(str) >= 0)\n                     return;\n                stringified(str);\n            });\n            ko.applyBindingsToNode(\n                element,\n                {\n                    value: stringified,\n                    valueUpdate: allBindings.get('valueUpdate'),\n                },\n                context,\n            );\n        }\n    };\n    var json_data = {\"loading\":WebIO.getval({\"name\":\"loading\",\"scope\":\"5411905980548130807\",\"id\":\"14934272478045851338\",\"type\":\"observable\"}),\"clicks\":WebIO.getval({\"name\":\"clicks\",\"scope\":\"5411905980548130807\",\"id\":\"12195547783877657272\",\"type\":\"observable\"})};\n    var self = this;\n    function AppViewModel() {\n        for (var key in json_data) {\n            var el = json_data[key];\n            this[key] = Array.isArray(el) ? ko.observableArray(el) : ko.observable(el);\n        }\n        \n        \n        [this[\"loading\"].subscribe((function (val){!(this.valueFromJulia[\"loading\"]) ? (WebIO.setval({\"name\":\"loading\",\"scope\":\"5411905980548130807\",\"id\":\"14934272478045851338\",\"type\":\"observable\"},val)) : undefined; return this.valueFromJulia[\"loading\"]=false}),self),this[\"clicks\"].subscribe((function (val){!(this.valueFromJulia[\"clicks\"]) ? (WebIO.setval({\"name\":\"clicks\",\"scope\":\"5411905980548130807\",\"id\":\"12195547783877657272\",\"type\":\"observable\"},val)) : undefined; return this.valueFromJulia[\"clicks\"]=false}),self)]\n        \n    }\n    self.model = new AppViewModel();\n    self.valueFromJulia = {};\n    for (var key in json_data) {\n        self.valueFromJulia[key] = false;\n    }\n    ko.applyBindings(self.model, self.dom);\n}\n);\n    (WebIO.importBlock({\"data\":[{\"name\":\"knockout\",\"type\":\"js\",\"url\":\"/assetserver/4b78a831658f9469be0fa90a874237d533cfc56e-knockout.js\"},{\"name\":\"knockout_punches\",\"type\":\"js\",\"url\":\"/assetserver/32cf81589ef7eb25886db6e5be297d237f8599ce-knockout_punches.js\"}],\"type\":\"async_block\"})).then((imports) => handler.apply(this, imports));\n}\n"
              ],
              "observables": {
               "clicks": {
                "id": "12195547783877657272",
                "sync": true,
                "value": 0
               },
               "loading": {
                "id": "14934272478045851338",
                "sync": false,
                "value": false
               }
              },
              "systemjs_options": null
             },
             "nodeType": "Scope",
             "props": {},
             "type": "node"
            }
           ],
           "instanceArgs": {
            "namespace": "html",
            "tag": "div"
           },
           "nodeType": "DOM",
           "props": {
            "className": "field interact-widget"
           },
           "type": "node"
          }
         ],
         "instanceArgs": {
          "namespace": "html",
          "tag": "div"
         },
         "nodeType": "DOM",
         "props": {
          "style": {
           "padding": "0.1em"
          }
         },
         "type": "node"
        },
        {
         "children": [
          {
           "children": [
            {
             "children": [
              {
               "children": [
                {
                 "children": [
                  {
                   "children": [],
                   "instanceArgs": {
                    "namespace": "html",
                    "tag": "label"
                   },
                   "nodeType": "DOM",
                   "props": {
                    "attributes": {
                     "data-bind": "text : key"
                    }
                   },
                   "type": "node"
                  }
                 ],
                 "instanceArgs": {
                  "namespace": "html",
                  "tag": "span"
                 },
                 "nodeType": "DOM",
                 "props": {
                  "attributes": {
                   "data-bind": "click: function (){$root.update(val)}, css: {'is-primary is-selected' : $root.index() == val, 'interact-widget is-medium button ' : true}"
                  }
                 },
                 "type": "node"
                }
               ],
               "instanceArgs": {
                "namespace": "html",
                "tag": "div"
               },
               "nodeType": "DOM",
               "props": {
                "attributes": {
                 "data-bind": "foreach : options_js"
                },
                "className": "buttons has-addons is-centered"
               },
               "type": "node"
              }
             ],
             "instanceArgs": {
              "handlers": {
               "index": [
                "(function (val){return (val!=this.model[\"index\"]()) ? (this.valueFromJulia[\"index\"]=true, this.model[\"index\"](val)) : undefined})"
               ],
               "options_js": [
                "(function (val){return (val!=this.model[\"options_js\"]()) ? (this.valueFromJulia[\"options_js\"]=true, this.model[\"options_js\"](val)) : undefined})"
               ]
              },
              "id": "17843173907424912710",
              "imports": {
               "data": [
                {
                 "name": "knockout",
                 "type": "js",
                 "url": "/assetserver/4b78a831658f9469be0fa90a874237d533cfc56e-knockout.js"
                },
                {
                 "name": "knockout_punches",
                 "type": "js",
                 "url": "/assetserver/32cf81589ef7eb25886db6e5be297d237f8599ce-knockout_punches.js"
                },
                {
                 "name": null,
                 "type": "js",
                 "url": "/assetserver/4c861182dd4c5b1a7b80754ca907d70e11c2410c-all.js"
                },
                {
                 "name": null,
                 "type": "css",
                 "url": "/assetserver/55ec2ee389419b72c3c6088bc3fbe3d7187a5fc0-style.css"
                },
                {
                 "name": null,
                 "type": "css",
                 "url": "/assetserver/bb71acf9697a201a164f98e5fab8a4f7b4f82041-bulma_confined.min.css"
                }
               ],
               "type": "async_block"
              },
              "mount_callbacks": [
               "function () {\n    var handler = (function (ko, koPunches) {\n    ko.punches.enableAll();\n    ko.bindingHandlers.numericValue = {\n        init: function(element, valueAccessor, allBindings, data, context) {\n            var stringified = ko.observable(ko.unwrap(valueAccessor()));\n            stringified.subscribe(function(value) {\n                var val = parseFloat(value);\n                if (!isNaN(val)) {\n                    valueAccessor()(val);\n                }\n            });\n            valueAccessor().subscribe(function(value) {\n                var str = JSON.stringify(value);\n                if ((str == \"0\") && ([\"-0\", \"-0.\"].indexOf(stringified()) >= 0))\n                     return;\n                 if ([\"null\", \"\"].indexOf(str) >= 0)\n                     return;\n                stringified(str);\n            });\n            ko.applyBindingsToNode(\n                element,\n                {\n                    value: stringified,\n                    valueUpdate: allBindings.get('valueUpdate'),\n                },\n                context,\n            );\n        }\n    };\n    var json_data = {\"options_js\":WebIO.getval({\"name\":\"options_js\",\"scope\":\"17843173907424912710\",\"id\":\"5221415419788480891\",\"type\":\"observable\"}),\"index\":WebIO.getval({\"name\":\"index\",\"scope\":\"17843173907424912710\",\"id\":\"6793295226617048397\",\"type\":\"observable\"})};\n    var self = this;\n    function AppViewModel() {\n        for (var key in json_data) {\n            var el = json_data[key];\n            this[key] = Array.isArray(el) ? ko.observableArray(el) : ko.observable(el);\n        }\n        [this[\"update\"]=function (val) {this.index(val)}]\n        \n        [this[\"options_js\"].subscribe((function (val){!(this.valueFromJulia[\"options_js\"]) ? (WebIO.setval({\"name\":\"options_js\",\"scope\":\"17843173907424912710\",\"id\":\"5221415419788480891\",\"type\":\"observable\"},val)) : undefined; return this.valueFromJulia[\"options_js\"]=false}),self),this[\"index\"].subscribe((function (val){!(this.valueFromJulia[\"index\"]) ? (WebIO.setval({\"name\":\"index\",\"scope\":\"17843173907424912710\",\"id\":\"6793295226617048397\",\"type\":\"observable\"},val)) : undefined; return this.valueFromJulia[\"index\"]=false}),self)]\n        \n    }\n    self.model = new AppViewModel();\n    self.valueFromJulia = {};\n    for (var key in json_data) {\n        self.valueFromJulia[key] = false;\n    }\n    ko.applyBindings(self.model, self.dom);\n}\n);\n    (WebIO.importBlock({\"data\":[{\"name\":\"knockout\",\"type\":\"js\",\"url\":\"/assetserver/4b78a831658f9469be0fa90a874237d533cfc56e-knockout.js\"},{\"name\":\"knockout_punches\",\"type\":\"js\",\"url\":\"/assetserver/32cf81589ef7eb25886db6e5be297d237f8599ce-knockout_punches.js\"}],\"type\":\"async_block\"})).then((imports) => handler.apply(this, imports));\n}\n"
              ],
              "observables": {
               "index": {
                "id": "6793295226617048397",
                "sync": true,
                "value": 1
               },
               "options_js": {
                "id": "5221415419788480891",
                "sync": false,
                "value": [
                 {
                  "id": "idRfEbUEhr",
                  "key": "naive",
                  "val": 1
                 },
                 {
                  "id": "idWD73svbg",
                  "key": "pf",
                  "val": 2
                 },
                 {
                  "id": "idfMbhP9ju",
                  "key": "smc",
                  "val": 3
                 }
                ]
               }
              },
              "systemjs_options": null
             },
             "nodeType": "Scope",
             "props": {},
             "type": "node"
            }
           ],
           "instanceArgs": {
            "namespace": "html",
            "tag": "div"
           },
           "nodeType": "DOM",
           "props": {
            "className": "interact-widget"
           },
           "type": "node"
          }
         ],
         "instanceArgs": {
          "namespace": "html",
          "tag": "div"
         },
         "nodeType": "DOM",
         "props": {
          "style": {
           "display": "flex",
           "flex-direction": "column"
          }
         },
         "type": "node"
        },
        {
         "children": [
          {
           "children": [
            {
             "children": [
              {
               "children": [
                {
                 "children": [],
                 "instanceArgs": {
                  "namespace": "html",
                  "tag": "input"
                 },
                 "nodeType": "DOM",
                 "props": {
                  "attributes": {
                   "data-bind": "checked: value, valueUpdate: 'change', event: {change: function (){this.changes(this.changes()+1)}}",
                   "type": "checkbox"
                  },
                  "className": "switch ",
                  "id": "##1366",
                  "style": {}
                 },
                 "type": "node"
                },
                {
                 "children": [
                  "show u"
                 ],
                 "instanceArgs": {
                  "namespace": "html",
                  "tag": "label"
                 },
                 "nodeType": "DOM",
                 "props": {
                  "attributes": {
                   "className": "",
                   "for": "##1366"
                  }
                 },
                 "type": "node"
                }
               ],
               "instanceArgs": {
                "namespace": "html",
                "tag": "div"
               },
               "nodeType": "DOM",
               "props": {
                "className": "field interact-widget"
               },
               "type": "node"
              }
             ],
             "instanceArgs": {
              "handlers": {
               "changes": [
                "(function (val){return (val!=this.model[\"changes\"]()) ? (this.valueFromJulia[\"changes\"]=true, this.model[\"changes\"](val)) : undefined})"
               ],
               "value": [
                "(function (val){return (val!=this.model[\"value\"]()) ? (this.valueFromJulia[\"value\"]=true, this.model[\"value\"](val)) : undefined})"
               ]
              },
              "id": "12380307129531368019",
              "imports": {
               "data": [
                {
                 "name": "knockout",
                 "type": "js",
                 "url": "/assetserver/4b78a831658f9469be0fa90a874237d533cfc56e-knockout.js"
                },
                {
                 "name": "knockout_punches",
                 "type": "js",
                 "url": "/assetserver/32cf81589ef7eb25886db6e5be297d237f8599ce-knockout_punches.js"
                },
                {
                 "name": null,
                 "type": "js",
                 "url": "/assetserver/4c861182dd4c5b1a7b80754ca907d70e11c2410c-all.js"
                },
                {
                 "name": null,
                 "type": "css",
                 "url": "/assetserver/55ec2ee389419b72c3c6088bc3fbe3d7187a5fc0-style.css"
                },
                {
                 "name": null,
                 "type": "css",
                 "url": "/assetserver/bb71acf9697a201a164f98e5fab8a4f7b4f82041-bulma_confined.min.css"
                }
               ],
               "type": "async_block"
              },
              "mount_callbacks": [
               "function () {\n    var handler = (function (ko, koPunches) {\n    ko.punches.enableAll();\n    ko.bindingHandlers.numericValue = {\n        init: function(element, valueAccessor, allBindings, data, context) {\n            var stringified = ko.observable(ko.unwrap(valueAccessor()));\n            stringified.subscribe(function(value) {\n                var val = parseFloat(value);\n                if (!isNaN(val)) {\n                    valueAccessor()(val);\n                }\n            });\n            valueAccessor().subscribe(function(value) {\n                var str = JSON.stringify(value);\n                if ((str == \"0\") && ([\"-0\", \"-0.\"].indexOf(stringified()) >= 0))\n                     return;\n                 if ([\"null\", \"\"].indexOf(str) >= 0)\n                     return;\n                stringified(str);\n            });\n            ko.applyBindingsToNode(\n                element,\n                {\n                    value: stringified,\n                    valueUpdate: allBindings.get('valueUpdate'),\n                },\n                context,\n            );\n        }\n    };\n    var json_data = {\"changes\":WebIO.getval({\"name\":\"changes\",\"scope\":\"12380307129531368019\",\"id\":\"7961152437597149269\",\"type\":\"observable\"}),\"value\":WebIO.getval({\"name\":\"value\",\"scope\":\"12380307129531368019\",\"id\":\"6812731882257082043\",\"type\":\"observable\"})};\n    var self = this;\n    function AppViewModel() {\n        for (var key in json_data) {\n            var el = json_data[key];\n            this[key] = Array.isArray(el) ? ko.observableArray(el) : ko.observable(el);\n        }\n        \n        \n        [this[\"changes\"].subscribe((function (val){!(this.valueFromJulia[\"changes\"]) ? (WebIO.setval({\"name\":\"changes\",\"scope\":\"12380307129531368019\",\"id\":\"7961152437597149269\",\"type\":\"observable\"},val)) : undefined; return this.valueFromJulia[\"changes\"]=false}),self),this[\"value\"].subscribe((function (val){!(this.valueFromJulia[\"value\"]) ? (WebIO.setval({\"name\":\"value\",\"scope\":\"12380307129531368019\",\"id\":\"6812731882257082043\",\"type\":\"observable\"},val)) : undefined; return this.valueFromJulia[\"value\"]=false}),self)]\n        \n    }\n    self.model = new AppViewModel();\n    self.valueFromJulia = {};\n    for (var key in json_data) {\n        self.valueFromJulia[key] = false;\n    }\n    ko.applyBindings(self.model, self.dom);\n}\n);\n    (WebIO.importBlock({\"data\":[{\"name\":\"knockout\",\"type\":\"js\",\"url\":\"/assetserver/4b78a831658f9469be0fa90a874237d533cfc56e-knockout.js\"},{\"name\":\"knockout_punches\",\"type\":\"js\",\"url\":\"/assetserver/32cf81589ef7eb25886db6e5be297d237f8599ce-knockout_punches.js\"}],\"type\":\"async_block\"})).then((imports) => handler.apply(this, imports));\n}\n"
              ],
              "observables": {
               "changes": {
                "id": "7961152437597149269",
                "sync": false,
                "value": 0
               },
               "value": {
                "id": "6812731882257082043",
                "sync": false,
                "value": false
               }
              },
              "systemjs_options": null
             },
             "nodeType": "Scope",
             "props": {},
             "type": "node"
            }
           ],
           "instanceArgs": {
            "namespace": "html",
            "tag": "div"
           },
           "nodeType": "DOM",
           "props": {
            "className": "field interact-widget"
           },
           "type": "node"
          },
          {
           "children": [
            {
             "children": [
              {
               "children": [
                {
                 "children": [],
                 "instanceArgs": {
                  "namespace": "html",
                  "tag": "input"
                 },
                 "nodeType": "DOM",
                 "props": {
                  "attributes": {
                   "data-bind": "checked: value, valueUpdate: 'change', event: {change: function (){this.changes(this.changes()+1)}}",
                   "type": "checkbox"
                  },
                  "className": "switch ",
                  "id": "##1367",
                  "style": {}
                 },
                 "type": "node"
                },
                {
                 "children": [
                  "show obs"
                 ],
                 "instanceArgs": {
                  "namespace": "html",
                  "tag": "label"
                 },
                 "nodeType": "DOM",
                 "props": {
                  "attributes": {
                   "className": "",
                   "for": "##1367"
                  }
                 },
                 "type": "node"
                }
               ],
               "instanceArgs": {
                "namespace": "html",
                "tag": "div"
               },
               "nodeType": "DOM",
               "props": {
                "className": "field interact-widget"
               },
               "type": "node"
              }
             ],
             "instanceArgs": {
              "handlers": {
               "changes": [
                "(function (val){return (val!=this.model[\"changes\"]()) ? (this.valueFromJulia[\"changes\"]=true, this.model[\"changes\"](val)) : undefined})"
               ],
               "value": [
                "(function (val){return (val!=this.model[\"value\"]()) ? (this.valueFromJulia[\"value\"]=true, this.model[\"value\"](val)) : undefined})"
               ]
              },
              "id": "6729162845153156250",
              "imports": {
               "data": [
                {
                 "name": "knockout",
                 "type": "js",
                 "url": "/assetserver/4b78a831658f9469be0fa90a874237d533cfc56e-knockout.js"
                },
                {
                 "name": "knockout_punches",
                 "type": "js",
                 "url": "/assetserver/32cf81589ef7eb25886db6e5be297d237f8599ce-knockout_punches.js"
                },
                {
                 "name": null,
                 "type": "js",
                 "url": "/assetserver/4c861182dd4c5b1a7b80754ca907d70e11c2410c-all.js"
                },
                {
                 "name": null,
                 "type": "css",
                 "url": "/assetserver/55ec2ee389419b72c3c6088bc3fbe3d7187a5fc0-style.css"
                },
                {
                 "name": null,
                 "type": "css",
                 "url": "/assetserver/bb71acf9697a201a164f98e5fab8a4f7b4f82041-bulma_confined.min.css"
                }
               ],
               "type": "async_block"
              },
              "mount_callbacks": [
               "function () {\n    var handler = (function (ko, koPunches) {\n    ko.punches.enableAll();\n    ko.bindingHandlers.numericValue = {\n        init: function(element, valueAccessor, allBindings, data, context) {\n            var stringified = ko.observable(ko.unwrap(valueAccessor()));\n            stringified.subscribe(function(value) {\n                var val = parseFloat(value);\n                if (!isNaN(val)) {\n                    valueAccessor()(val);\n                }\n            });\n            valueAccessor().subscribe(function(value) {\n                var str = JSON.stringify(value);\n                if ((str == \"0\") && ([\"-0\", \"-0.\"].indexOf(stringified()) >= 0))\n                     return;\n                 if ([\"null\", \"\"].indexOf(str) >= 0)\n                     return;\n                stringified(str);\n            });\n            ko.applyBindingsToNode(\n                element,\n                {\n                    value: stringified,\n                    valueUpdate: allBindings.get('valueUpdate'),\n                },\n                context,\n            );\n        }\n    };\n    var json_data = {\"changes\":WebIO.getval({\"name\":\"changes\",\"scope\":\"6729162845153156250\",\"id\":\"6935618120618874063\",\"type\":\"observable\"}),\"value\":WebIO.getval({\"name\":\"value\",\"scope\":\"6729162845153156250\",\"id\":\"15975314064372207767\",\"type\":\"observable\"})};\n    var self = this;\n    function AppViewModel() {\n        for (var key in json_data) {\n            var el = json_data[key];\n            this[key] = Array.isArray(el) ? ko.observableArray(el) : ko.observable(el);\n        }\n        \n        \n        [this[\"changes\"].subscribe((function (val){!(this.valueFromJulia[\"changes\"]) ? (WebIO.setval({\"name\":\"changes\",\"scope\":\"6729162845153156250\",\"id\":\"6935618120618874063\",\"type\":\"observable\"},val)) : undefined; return this.valueFromJulia[\"changes\"]=false}),self),this[\"value\"].subscribe((function (val){!(this.valueFromJulia[\"value\"]) ? (WebIO.setval({\"name\":\"value\",\"scope\":\"6729162845153156250\",\"id\":\"15975314064372207767\",\"type\":\"observable\"},val)) : undefined; return this.valueFromJulia[\"value\"]=false}),self)]\n        \n    }\n    self.model = new AppViewModel();\n    self.valueFromJulia = {};\n    for (var key in json_data) {\n        self.valueFromJulia[key] = false;\n    }\n    ko.applyBindings(self.model, self.dom);\n}\n);\n    (WebIO.importBlock({\"data\":[{\"name\":\"knockout\",\"type\":\"js\",\"url\":\"/assetserver/4b78a831658f9469be0fa90a874237d533cfc56e-knockout.js\"},{\"name\":\"knockout_punches\",\"type\":\"js\",\"url\":\"/assetserver/32cf81589ef7eb25886db6e5be297d237f8599ce-knockout_punches.js\"}],\"type\":\"async_block\"})).then((imports) => handler.apply(this, imports));\n}\n"
              ],
              "observables": {
               "changes": {
                "id": "6935618120618874063",
                "sync": false,
                "value": 0
               },
               "value": {
                "id": "15975314064372207767",
                "sync": false,
                "value": false
               }
              },
              "systemjs_options": null
             },
             "nodeType": "Scope",
             "props": {},
             "type": "node"
            }
           ],
           "instanceArgs": {
            "namespace": "html",
            "tag": "div"
           },
           "nodeType": "DOM",
           "props": {
            "className": "field interact-widget"
           },
           "type": "node"
          },
          {
           "children": [
            {
             "children": [
              {
               "children": [
                {
                 "children": [],
                 "instanceArgs": {
                  "namespace": "html",
                  "tag": "input"
                 },
                 "nodeType": "DOM",
                 "props": {
                  "attributes": {
                   "data-bind": "checked: value, valueUpdate: 'change', event: {change: function (){this.changes(this.changes()+1)}}",
                   "type": "checkbox"
                  },
                  "className": "switch ",
                  "id": "##1368",
                  "style": {}
                 },
                 "type": "node"
                },
                {
                 "children": [
                  "show samples"
                 ],
                 "instanceArgs": {
                  "namespace": "html",
                  "tag": "label"
                 },
                 "nodeType": "DOM",
                 "props": {
                  "attributes": {
                   "className": "",
                   "for": "##1368"
                  }
                 },
                 "type": "node"
                }
               ],
               "instanceArgs": {
                "namespace": "html",
                "tag": "div"
               },
               "nodeType": "DOM",
               "props": {
                "className": "field interact-widget"
               },
               "type": "node"
              }
             ],
             "instanceArgs": {
              "handlers": {
               "changes": [
                "(function (val){return (val!=this.model[\"changes\"]()) ? (this.valueFromJulia[\"changes\"]=true, this.model[\"changes\"](val)) : undefined})"
               ],
               "value": [
                "(function (val){return (val!=this.model[\"value\"]()) ? (this.valueFromJulia[\"value\"]=true, this.model[\"value\"](val)) : undefined})"
               ]
              },
              "id": "17054356380216030913",
              "imports": {
               "data": [
                {
                 "name": "knockout",
                 "type": "js",
                 "url": "/assetserver/4b78a831658f9469be0fa90a874237d533cfc56e-knockout.js"
                },
                {
                 "name": "knockout_punches",
                 "type": "js",
                 "url": "/assetserver/32cf81589ef7eb25886db6e5be297d237f8599ce-knockout_punches.js"
                },
                {
                 "name": null,
                 "type": "js",
                 "url": "/assetserver/4c861182dd4c5b1a7b80754ca907d70e11c2410c-all.js"
                },
                {
                 "name": null,
                 "type": "css",
                 "url": "/assetserver/55ec2ee389419b72c3c6088bc3fbe3d7187a5fc0-style.css"
                },
                {
                 "name": null,
                 "type": "css",
                 "url": "/assetserver/bb71acf9697a201a164f98e5fab8a4f7b4f82041-bulma_confined.min.css"
                }
               ],
               "type": "async_block"
              },
              "mount_callbacks": [
               "function () {\n    var handler = (function (ko, koPunches) {\n    ko.punches.enableAll();\n    ko.bindingHandlers.numericValue = {\n        init: function(element, valueAccessor, allBindings, data, context) {\n            var stringified = ko.observable(ko.unwrap(valueAccessor()));\n            stringified.subscribe(function(value) {\n                var val = parseFloat(value);\n                if (!isNaN(val)) {\n                    valueAccessor()(val);\n                }\n            });\n            valueAccessor().subscribe(function(value) {\n                var str = JSON.stringify(value);\n                if ((str == \"0\") && ([\"-0\", \"-0.\"].indexOf(stringified()) >= 0))\n                     return;\n                 if ([\"null\", \"\"].indexOf(str) >= 0)\n                     return;\n                stringified(str);\n            });\n            ko.applyBindingsToNode(\n                element,\n                {\n                    value: stringified,\n                    valueUpdate: allBindings.get('valueUpdate'),\n                },\n                context,\n            );\n        }\n    };\n    var json_data = {\"changes\":WebIO.getval({\"name\":\"changes\",\"scope\":\"17054356380216030913\",\"id\":\"7947945196253627936\",\"type\":\"observable\"}),\"value\":WebIO.getval({\"name\":\"value\",\"scope\":\"17054356380216030913\",\"id\":\"15271421067281132480\",\"type\":\"observable\"})};\n    var self = this;\n    function AppViewModel() {\n        for (var key in json_data) {\n            var el = json_data[key];\n            this[key] = Array.isArray(el) ? ko.observableArray(el) : ko.observable(el);\n        }\n        \n        \n        [this[\"changes\"].subscribe((function (val){!(this.valueFromJulia[\"changes\"]) ? (WebIO.setval({\"name\":\"changes\",\"scope\":\"17054356380216030913\",\"id\":\"7947945196253627936\",\"type\":\"observable\"},val)) : undefined; return this.valueFromJulia[\"changes\"]=false}),self),this[\"value\"].subscribe((function (val){!(this.valueFromJulia[\"value\"]) ? (WebIO.setval({\"name\":\"value\",\"scope\":\"17054356380216030913\",\"id\":\"15271421067281132480\",\"type\":\"observable\"},val)) : undefined; return this.valueFromJulia[\"value\"]=false}),self)]\n        \n    }\n    self.model = new AppViewModel();\n    self.valueFromJulia = {};\n    for (var key in json_data) {\n        self.valueFromJulia[key] = false;\n    }\n    ko.applyBindings(self.model, self.dom);\n}\n);\n    (WebIO.importBlock({\"data\":[{\"name\":\"knockout\",\"type\":\"js\",\"url\":\"/assetserver/4b78a831658f9469be0fa90a874237d533cfc56e-knockout.js\"},{\"name\":\"knockout_punches\",\"type\":\"js\",\"url\":\"/assetserver/32cf81589ef7eb25886db6e5be297d237f8599ce-knockout_punches.js\"}],\"type\":\"async_block\"})).then((imports) => handler.apply(this, imports));\n}\n"
              ],
              "observables": {
               "changes": {
                "id": "7947945196253627936",
                "sync": false,
                "value": 0
               },
               "value": {
                "id": "15271421067281132480",
                "sync": false,
                "value": true
               }
              },
              "systemjs_options": null
             },
             "nodeType": "Scope",
             "props": {},
             "type": "node"
            }
           ],
           "instanceArgs": {
            "namespace": "html",
            "tag": "div"
           },
           "nodeType": "DOM",
           "props": {
            "className": "field interact-widget"
           },
           "type": "node"
          }
         ],
         "instanceArgs": {
          "namespace": "html",
          "tag": "div"
         },
         "nodeType": "DOM",
         "props": {
          "style": {
           "display": "flex",
           "flex-direction": "column"
          }
         },
         "type": "node"
        },
        {
         "children": [
          {
           "children": [
            {
             "children": [
              {
               "children": [
                {
                 "children": [
                  {
                   "children": [
                    "# samples"
                   ],
                   "instanceArgs": {
                    "namespace": "html",
                    "tag": "label"
                   },
                   "nodeType": "DOM",
                   "props": {
                    "className": "interact ",
                    "style": {
                     "padding": "5px 10px 0px 10px"
                    }
                   },
                   "type": "node"
                  }
                 ],
                 "instanceArgs": {
                  "namespace": "html",
                  "tag": "div"
                 },
                 "nodeType": "DOM",
                 "props": {
                  "className": "interact-flex-row-left"
                 },
                 "type": "node"
                },
                {
                 "children": [
                  {
                   "children": [],
                   "instanceArgs": {
                    "namespace": "html",
                    "tag": "input"
                   },
                   "nodeType": "DOM",
                   "props": {
                    "attributes": {
                     "data-bind": "numericValue: index, valueUpdate: 'input', event: {change: function (){this.changes(this.changes()+1)}}",
                     "orient": "horizontal",
                     "type": "range"
                    },
                    "className": "slider slider is-fullwidth",
                    "max": 3,
                    "min": 1,
                    "step": 1,
                    "style": {}
                   },
                   "type": "node"
                  }
                 ],
                 "instanceArgs": {
                  "namespace": "html",
                  "tag": "div"
                 },
                 "nodeType": "DOM",
                 "props": {
                  "className": "interact-flex-row-center"
                 },
                 "type": "node"
                },
                {
                 "children": [
                  {
                   "children": [],
                   "instanceArgs": {
                    "namespace": "html",
                    "tag": "p"
                   },
                   "nodeType": "DOM",
                   "props": {
                    "attributes": {
                     "data-bind": "text: formatted_val"
                    }
                   },
                   "type": "node"
                  }
                 ],
                 "instanceArgs": {
                  "namespace": "html",
                  "tag": "div"
                 },
                 "nodeType": "DOM",
                 "props": {
                  "className": "interact-flex-row-right"
                 },
                 "type": "node"
                }
               ],
               "instanceArgs": {
                "namespace": "html",
                "tag": "div"
               },
               "nodeType": "DOM",
               "props": {
                "className": "interact-flex-row interact-widget"
               },
               "type": "node"
              }
             ],
             "instanceArgs": {
              "handlers": {
               "changes": [
                "(function (val){return (val!=this.model[\"changes\"]()) ? (this.valueFromJulia[\"changes\"]=true, this.model[\"changes\"](val)) : undefined})"
               ],
               "index": [
                "(function (val){return (val!=this.model[\"index\"]()) ? (this.valueFromJulia[\"index\"]=true, this.model[\"index\"](val)) : undefined})"
               ]
              },
              "id": "1315009929951936239",
              "imports": {
               "data": [
                {
                 "name": "knockout",
                 "type": "js",
                 "url": "/assetserver/4b78a831658f9469be0fa90a874237d533cfc56e-knockout.js"
                },
                {
                 "name": "knockout_punches",
                 "type": "js",
                 "url": "/assetserver/32cf81589ef7eb25886db6e5be297d237f8599ce-knockout_punches.js"
                },
                {
                 "name": null,
                 "type": "js",
                 "url": "/assetserver/4c861182dd4c5b1a7b80754ca907d70e11c2410c-all.js"
                },
                {
                 "name": null,
                 "type": "css",
                 "url": "/assetserver/55ec2ee389419b72c3c6088bc3fbe3d7187a5fc0-style.css"
                },
                {
                 "name": null,
                 "type": "css",
                 "url": "/assetserver/bb71acf9697a201a164f98e5fab8a4f7b4f82041-bulma_confined.min.css"
                }
               ],
               "type": "async_block"
              },
              "mount_callbacks": [
               "function () {\n    var handler = (function (ko, koPunches) {\n    ko.punches.enableAll();\n    ko.bindingHandlers.numericValue = {\n        init: function(element, valueAccessor, allBindings, data, context) {\n            var stringified = ko.observable(ko.unwrap(valueAccessor()));\n            stringified.subscribe(function(value) {\n                var val = parseFloat(value);\n                if (!isNaN(val)) {\n                    valueAccessor()(val);\n                }\n            });\n            valueAccessor().subscribe(function(value) {\n                var str = JSON.stringify(value);\n                if ((str == \"0\") && ([\"-0\", \"-0.\"].indexOf(stringified()) >= 0))\n                     return;\n                 if ([\"null\", \"\"].indexOf(str) >= 0)\n                     return;\n                stringified(str);\n            });\n            ko.applyBindingsToNode(\n                element,\n                {\n                    value: stringified,\n                    valueUpdate: allBindings.get('valueUpdate'),\n                },\n                context,\n            );\n        }\n    };\n    var json_data = {\"formatted_vals\":[\"1\",\"21\",\"41\"],\"changes\":WebIO.getval({\"name\":\"changes\",\"scope\":\"1315009929951936239\",\"id\":\"14973267224718104946\",\"type\":\"observable\"}),\"index\":WebIO.getval({\"name\":\"index\",\"scope\":\"1315009929951936239\",\"id\":\"12089058132761038520\",\"type\":\"observable\"})};\n    var self = this;\n    function AppViewModel() {\n        for (var key in json_data) {\n            var el = json_data[key];\n            this[key] = Array.isArray(el) ? ko.observableArray(el) : ko.observable(el);\n        }\n        \n        [this[\"formatted_val\"]=ko.computed(    function(){\n        return this.formatted_vals()[parseInt(this.index())-(1)];\n    }\n,this)]\n        [this[\"changes\"].subscribe((function (val){!(this.valueFromJulia[\"changes\"]) ? (WebIO.setval({\"name\":\"changes\",\"scope\":\"1315009929951936239\",\"id\":\"14973267224718104946\",\"type\":\"observable\"},val)) : undefined; return this.valueFromJulia[\"changes\"]=false}),self),this[\"index\"].subscribe((function (val){!(this.valueFromJulia[\"index\"]) ? (WebIO.setval({\"name\":\"index\",\"scope\":\"1315009929951936239\",\"id\":\"12089058132761038520\",\"type\":\"observable\"},val)) : undefined; return this.valueFromJulia[\"index\"]=false}),self)]\n        \n    }\n    self.model = new AppViewModel();\n    self.valueFromJulia = {};\n    for (var key in json_data) {\n        self.valueFromJulia[key] = false;\n    }\n    ko.applyBindings(self.model, self.dom);\n}\n);\n    (WebIO.importBlock({\"data\":[{\"name\":\"knockout\",\"type\":\"js\",\"url\":\"/assetserver/4b78a831658f9469be0fa90a874237d533cfc56e-knockout.js\"},{\"name\":\"knockout_punches\",\"type\":\"js\",\"url\":\"/assetserver/32cf81589ef7eb25886db6e5be297d237f8599ce-knockout_punches.js\"}],\"type\":\"async_block\"})).then((imports) => handler.apply(this, imports));\n}\n"
              ],
              "observables": {
               "changes": {
                "id": "14973267224718104946",
                "sync": false,
                "value": 0
               },
               "index": {
                "id": "12089058132761038520",
                "sync": true,
                "value": 1
               }
              },
              "systemjs_options": null
             },
             "nodeType": "Scope",
             "props": {},
             "type": "node"
            }
           ],
           "instanceArgs": {
            "namespace": "html",
            "tag": "div"
           },
           "nodeType": "DOM",
           "props": {
            "className": "field interact-widget"
           },
           "type": "node"
          },
          {
           "children": [
            {
             "children": [
              {
               "children": [
                {
                 "children": [
                  {
                   "children": [
                    "T"
                   ],
                   "instanceArgs": {
                    "namespace": "html",
                    "tag": "label"
                   },
                   "nodeType": "DOM",
                   "props": {
                    "className": "interact ",
                    "style": {
                     "padding": "5px 10px 0px 10px"
                    }
                   },
                   "type": "node"
                  }
                 ],
                 "instanceArgs": {
                  "namespace": "html",
                  "tag": "div"
                 },
                 "nodeType": "DOM",
                 "props": {
                  "className": "interact-flex-row-left"
                 },
                 "type": "node"
                },
                {
                 "children": [
                  {
                   "children": [],
                   "instanceArgs": {
                    "namespace": "html",
                    "tag": "input"
                   },
                   "nodeType": "DOM",
                   "props": {
                    "attributes": {
                     "data-bind": "numericValue: index, valueUpdate: 'input', event: {change: function (){this.changes(this.changes()+1)}}",
                     "orient": "horizontal",
                     "type": "range"
                    },
                    "className": "slider slider is-fullwidth",
                    "max": 20,
                    "min": 5,
                    "step": 1,
                    "style": {}
                   },
                   "type": "node"
                  }
                 ],
                 "instanceArgs": {
                  "namespace": "html",
                  "tag": "div"
                 },
                 "nodeType": "DOM",
                 "props": {
                  "className": "interact-flex-row-center"
                 },
                 "type": "node"
                },
                {
                 "children": [
                  {
                   "children": [],
                   "instanceArgs": {
                    "namespace": "html",
                    "tag": "p"
                   },
                   "nodeType": "DOM",
                   "props": {
                    "attributes": {
                     "data-bind": "text: formatted_val"
                    }
                   },
                   "type": "node"
                  }
                 ],
                 "instanceArgs": {
                  "namespace": "html",
                  "tag": "div"
                 },
                 "nodeType": "DOM",
                 "props": {
                  "className": "interact-flex-row-right"
                 },
                 "type": "node"
                }
               ],
               "instanceArgs": {
                "namespace": "html",
                "tag": "div"
               },
               "nodeType": "DOM",
               "props": {
                "className": "interact-flex-row interact-widget"
               },
               "type": "node"
              }
             ],
             "instanceArgs": {
              "handlers": {
               "changes": [
                "(function (val){return (val!=this.model[\"changes\"]()) ? (this.valueFromJulia[\"changes\"]=true, this.model[\"changes\"](val)) : undefined})"
               ],
               "index": [
                "(function (val){return (val!=this.model[\"index\"]()) ? (this.valueFromJulia[\"index\"]=true, this.model[\"index\"](val)) : undefined})"
               ]
              },
              "id": "8487418553106479238",
              "imports": {
               "data": [
                {
                 "name": "knockout",
                 "type": "js",
                 "url": "/assetserver/4b78a831658f9469be0fa90a874237d533cfc56e-knockout.js"
                },
                {
                 "name": "knockout_punches",
                 "type": "js",
                 "url": "/assetserver/32cf81589ef7eb25886db6e5be297d237f8599ce-knockout_punches.js"
                },
                {
                 "name": null,
                 "type": "js",
                 "url": "/assetserver/4c861182dd4c5b1a7b80754ca907d70e11c2410c-all.js"
                },
                {
                 "name": null,
                 "type": "css",
                 "url": "/assetserver/55ec2ee389419b72c3c6088bc3fbe3d7187a5fc0-style.css"
                },
                {
                 "name": null,
                 "type": "css",
                 "url": "/assetserver/bb71acf9697a201a164f98e5fab8a4f7b4f82041-bulma_confined.min.css"
                }
               ],
               "type": "async_block"
              },
              "mount_callbacks": [
               "function () {\n    var handler = (function (ko, koPunches) {\n    ko.punches.enableAll();\n    ko.bindingHandlers.numericValue = {\n        init: function(element, valueAccessor, allBindings, data, context) {\n            var stringified = ko.observable(ko.unwrap(valueAccessor()));\n            stringified.subscribe(function(value) {\n                var val = parseFloat(value);\n                if (!isNaN(val)) {\n                    valueAccessor()(val);\n                }\n            });\n            valueAccessor().subscribe(function(value) {\n                var str = JSON.stringify(value);\n                if ((str == \"0\") && ([\"-0\", \"-0.\"].indexOf(stringified()) >= 0))\n                     return;\n                 if ([\"null\", \"\"].indexOf(str) >= 0)\n                     return;\n                stringified(str);\n            });\n            ko.applyBindingsToNode(\n                element,\n                {\n                    value: stringified,\n                    valueUpdate: allBindings.get('valueUpdate'),\n                },\n                context,\n            );\n        }\n    };\n    var json_data = {\"formatted_vals\":[\"5\",\"6\",\"7\",\"8\",\"9\",\"10\",\"11\",\"12\",\"13\",\"14\",\"15\",\"16\",\"17\",\"18\",\"19\",\"20\"],\"changes\":WebIO.getval({\"name\":\"changes\",\"scope\":\"8487418553106479238\",\"id\":\"14398433987726878517\",\"type\":\"observable\"}),\"index\":WebIO.getval({\"name\":\"index\",\"scope\":\"8487418553106479238\",\"id\":\"5073008940846548283\",\"type\":\"observable\"})};\n    var self = this;\n    function AppViewModel() {\n        for (var key in json_data) {\n            var el = json_data[key];\n            this[key] = Array.isArray(el) ? ko.observableArray(el) : ko.observable(el);\n        }\n        \n        [this[\"formatted_val\"]=ko.computed(    function(){\n        return this.formatted_vals()[parseInt(this.index())-(5)];\n    }\n,this)]\n        [this[\"changes\"].subscribe((function (val){!(this.valueFromJulia[\"changes\"]) ? (WebIO.setval({\"name\":\"changes\",\"scope\":\"8487418553106479238\",\"id\":\"14398433987726878517\",\"type\":\"observable\"},val)) : undefined; return this.valueFromJulia[\"changes\"]=false}),self),this[\"index\"].subscribe((function (val){!(this.valueFromJulia[\"index\"]) ? (WebIO.setval({\"name\":\"index\",\"scope\":\"8487418553106479238\",\"id\":\"5073008940846548283\",\"type\":\"observable\"},val)) : undefined; return this.valueFromJulia[\"index\"]=false}),self)]\n        \n    }\n    self.model = new AppViewModel();\n    self.valueFromJulia = {};\n    for (var key in json_data) {\n        self.valueFromJulia[key] = false;\n    }\n    ko.applyBindings(self.model, self.dom);\n}\n);\n    (WebIO.importBlock({\"data\":[{\"name\":\"knockout\",\"type\":\"js\",\"url\":\"/assetserver/4b78a831658f9469be0fa90a874237d533cfc56e-knockout.js\"},{\"name\":\"knockout_punches\",\"type\":\"js\",\"url\":\"/assetserver/32cf81589ef7eb25886db6e5be297d237f8599ce-knockout_punches.js\"}],\"type\":\"async_block\"})).then((imports) => handler.apply(this, imports));\n}\n"
              ],
              "observables": {
               "changes": {
                "id": "14398433987726878517",
                "sync": false,
                "value": 0
               },
               "index": {
                "id": "5073008940846548283",
                "sync": false,
                "value": 5
               }
              },
              "systemjs_options": null
             },
             "nodeType": "Scope",
             "props": {},
             "type": "node"
            }
           ],
           "instanceArgs": {
            "namespace": "html",
            "tag": "div"
           },
           "nodeType": "DOM",
           "props": {
            "className": "field interact-widget"
           },
           "type": "node"
          },
          {
           "children": [
            {
             "children": [
              {
               "children": [
                {
                 "children": [
                  {
                   "children": [
                    "# particles"
                   ],
                   "instanceArgs": {
                    "namespace": "html",
                    "tag": "label"
                   },
                   "nodeType": "DOM",
                   "props": {
                    "className": "interact ",
                    "style": {
                     "padding": "5px 10px 0px 10px"
                    }
                   },
                   "type": "node"
                  }
                 ],
                 "instanceArgs": {
                  "namespace": "html",
                  "tag": "div"
                 },
                 "nodeType": "DOM",
                 "props": {
                  "className": "interact-flex-row-left"
                 },
                 "type": "node"
                },
                {
                 "children": [
                  {
                   "children": [],
                   "instanceArgs": {
                    "namespace": "html",
                    "tag": "input"
                   },
                   "nodeType": "DOM",
                   "props": {
                    "attributes": {
                     "data-bind": "numericValue: index, valueUpdate: 'input', event: {change: function (){this.changes(this.changes()+1)}}",
                     "orient": "horizontal",
                     "type": "range"
                    },
                    "className": "slider slider is-fullwidth",
                    "max": 5,
                    "min": 1,
                    "step": 1,
                    "style": {}
                   },
                   "type": "node"
                  }
                 ],
                 "instanceArgs": {
                  "namespace": "html",
                  "tag": "div"
                 },
                 "nodeType": "DOM",
                 "props": {
                  "className": "interact-flex-row-center"
                 },
                 "type": "node"
                },
                {
                 "children": [
                  {
                   "children": [],
                   "instanceArgs": {
                    "namespace": "html",
                    "tag": "p"
                   },
                   "nodeType": "DOM",
                   "props": {
                    "attributes": {
                     "data-bind": "text: formatted_val"
                    }
                   },
                   "type": "node"
                  }
                 ],
                 "instanceArgs": {
                  "namespace": "html",
                  "tag": "div"
                 },
                 "nodeType": "DOM",
                 "props": {
                  "className": "interact-flex-row-right"
                 },
                 "type": "node"
                }
               ],
               "instanceArgs": {
                "namespace": "html",
                "tag": "div"
               },
               "nodeType": "DOM",
               "props": {
                "className": "interact-flex-row interact-widget"
               },
               "type": "node"
              }
             ],
             "instanceArgs": {
              "handlers": {
               "changes": [
                "(function (val){return (val!=this.model[\"changes\"]()) ? (this.valueFromJulia[\"changes\"]=true, this.model[\"changes\"](val)) : undefined})"
               ],
               "index": [
                "(function (val){return (val!=this.model[\"index\"]()) ? (this.valueFromJulia[\"index\"]=true, this.model[\"index\"](val)) : undefined})"
               ]
              },
              "id": "3423282009283954241",
              "imports": {
               "data": [
                {
                 "name": "knockout",
                 "type": "js",
                 "url": "/assetserver/4b78a831658f9469be0fa90a874237d533cfc56e-knockout.js"
                },
                {
                 "name": "knockout_punches",
                 "type": "js",
                 "url": "/assetserver/32cf81589ef7eb25886db6e5be297d237f8599ce-knockout_punches.js"
                },
                {
                 "name": null,
                 "type": "js",
                 "url": "/assetserver/4c861182dd4c5b1a7b80754ca907d70e11c2410c-all.js"
                },
                {
                 "name": null,
                 "type": "css",
                 "url": "/assetserver/55ec2ee389419b72c3c6088bc3fbe3d7187a5fc0-style.css"
                },
                {
                 "name": null,
                 "type": "css",
                 "url": "/assetserver/bb71acf9697a201a164f98e5fab8a4f7b4f82041-bulma_confined.min.css"
                }
               ],
               "type": "async_block"
              },
              "mount_callbacks": [
               "function () {\n    var handler = (function (ko, koPunches) {\n    ko.punches.enableAll();\n    ko.bindingHandlers.numericValue = {\n        init: function(element, valueAccessor, allBindings, data, context) {\n            var stringified = ko.observable(ko.unwrap(valueAccessor()));\n            stringified.subscribe(function(value) {\n                var val = parseFloat(value);\n                if (!isNaN(val)) {\n                    valueAccessor()(val);\n                }\n            });\n            valueAccessor().subscribe(function(value) {\n                var str = JSON.stringify(value);\n                if ((str == \"0\") && ([\"-0\", \"-0.\"].indexOf(stringified()) >= 0))\n                     return;\n                 if ([\"null\", \"\"].indexOf(str) >= 0)\n                     return;\n                stringified(str);\n            });\n            ko.applyBindingsToNode(\n                element,\n                {\n                    value: stringified,\n                    valueUpdate: allBindings.get('valueUpdate'),\n                },\n                context,\n            );\n        }\n    };\n    var json_data = {\"formatted_vals\":[\"1\",\"51\",\"101\",\"151\",\"201\"],\"changes\":WebIO.getval({\"name\":\"changes\",\"scope\":\"3423282009283954241\",\"id\":\"12860248630988727460\",\"type\":\"observable\"}),\"index\":WebIO.getval({\"name\":\"index\",\"scope\":\"3423282009283954241\",\"id\":\"1798765742473421069\",\"type\":\"observable\"})};\n    var self = this;\n    function AppViewModel() {\n        for (var key in json_data) {\n            var el = json_data[key];\n            this[key] = Array.isArray(el) ? ko.observableArray(el) : ko.observable(el);\n        }\n        \n        [this[\"formatted_val\"]=ko.computed(    function(){\n        return this.formatted_vals()[parseInt(this.index())-(1)];\n    }\n,this)]\n        [this[\"changes\"].subscribe((function (val){!(this.valueFromJulia[\"changes\"]) ? (WebIO.setval({\"name\":\"changes\",\"scope\":\"3423282009283954241\",\"id\":\"12860248630988727460\",\"type\":\"observable\"},val)) : undefined; return this.valueFromJulia[\"changes\"]=false}),self),this[\"index\"].subscribe((function (val){!(this.valueFromJulia[\"index\"]) ? (WebIO.setval({\"name\":\"index\",\"scope\":\"3423282009283954241\",\"id\":\"1798765742473421069\",\"type\":\"observable\"},val)) : undefined; return this.valueFromJulia[\"index\"]=false}),self)]\n        \n    }\n    self.model = new AppViewModel();\n    self.valueFromJulia = {};\n    for (var key in json_data) {\n        self.valueFromJulia[key] = false;\n    }\n    ko.applyBindings(self.model, self.dom);\n}\n);\n    (WebIO.importBlock({\"data\":[{\"name\":\"knockout\",\"type\":\"js\",\"url\":\"/assetserver/4b78a831658f9469be0fa90a874237d533cfc56e-knockout.js\"},{\"name\":\"knockout_punches\",\"type\":\"js\",\"url\":\"/assetserver/32cf81589ef7eb25886db6e5be297d237f8599ce-knockout_punches.js\"}],\"type\":\"async_block\"})).then((imports) => handler.apply(this, imports));\n}\n"
              ],
              "observables": {
               "changes": {
                "id": "12860248630988727460",
                "sync": false,
                "value": 0
               },
               "index": {
                "id": "1798765742473421069",
                "sync": true,
                "value": 1
               }
              },
              "systemjs_options": null
             },
             "nodeType": "Scope",
             "props": {},
             "type": "node"
            }
           ],
           "instanceArgs": {
            "namespace": "html",
            "tag": "div"
           },
           "nodeType": "DOM",
           "props": {
            "className": "field interact-widget"
           },
           "type": "node"
          }
         ],
         "instanceArgs": {
          "namespace": "html",
          "tag": "div"
         },
         "nodeType": "DOM",
         "props": {
          "style": {
           "display": "flex",
           "flex-direction": "row"
          }
         },
         "type": "node"
        },
        {
         "children": [
          {
           "children": [
            {
             "children": [
              {
               "children": [
                {
                 "children": [
                  {
                   "children": [
                    "n=x_noise"
                   ],
                   "instanceArgs": {
                    "namespace": "html",
                    "tag": "label"
                   },
                   "nodeType": "DOM",
                   "props": {
                    "className": "interact ",
                    "style": {
                     "padding": "5px 10px 0px 10px"
                    }
                   },
                   "type": "node"
                  }
                 ],
                 "instanceArgs": {
                  "namespace": "html",
                  "tag": "div"
                 },
                 "nodeType": "DOM",
                 "props": {
                  "className": "interact-flex-row-left"
                 },
                 "type": "node"
                },
                {
                 "children": [
                  {
                   "children": [],
                   "instanceArgs": {
                    "namespace": "html",
                    "tag": "input"
                   },
                   "nodeType": "DOM",
                   "props": {
                    "attributes": {
                     "data-bind": "numericValue: index, valueUpdate: 'input', event: {change: function (){this.changes(this.changes()+1)}}",
                     "orient": "horizontal",
                     "type": "range"
                    },
                    "className": "slider slider is-fullwidth",
                    "max": 5,
                    "min": 1,
                    "step": 1,
                    "style": {}
                   },
                   "type": "node"
                  }
                 ],
                 "instanceArgs": {
                  "namespace": "html",
                  "tag": "div"
                 },
                 "nodeType": "DOM",
                 "props": {
                  "className": "interact-flex-row-center"
                 },
                 "type": "node"
                },
                {
                 "children": [
                  {
                   "children": [],
                   "instanceArgs": {
                    "namespace": "html",
                    "tag": "p"
                   },
                   "nodeType": "DOM",
                   "props": {
                    "attributes": {
                     "data-bind": "text: formatted_val"
                    }
                   },
                   "type": "node"
                  }
                 ],
                 "instanceArgs": {
                  "namespace": "html",
                  "tag": "div"
                 },
                 "nodeType": "DOM",
                 "props": {
                  "className": "interact-flex-row-right"
                 },
                 "type": "node"
                }
               ],
               "instanceArgs": {
                "namespace": "html",
                "tag": "div"
               },
               "nodeType": "DOM",
               "props": {
                "className": "interact-flex-row interact-widget"
               },
               "type": "node"
              }
             ],
             "instanceArgs": {
              "handlers": {
               "changes": [
                "(function (val){return (val!=this.model[\"changes\"]()) ? (this.valueFromJulia[\"changes\"]=true, this.model[\"changes\"](val)) : undefined})"
               ],
               "index": [
                "(function (val){return (val!=this.model[\"index\"]()) ? (this.valueFromJulia[\"index\"]=true, this.model[\"index\"](val)) : undefined})"
               ]
              },
              "id": "12535078908944127497",
              "imports": {
               "data": [
                {
                 "name": "knockout",
                 "type": "js",
                 "url": "/assetserver/4b78a831658f9469be0fa90a874237d533cfc56e-knockout.js"
                },
                {
                 "name": "knockout_punches",
                 "type": "js",
                 "url": "/assetserver/32cf81589ef7eb25886db6e5be297d237f8599ce-knockout_punches.js"
                },
                {
                 "name": null,
                 "type": "js",
                 "url": "/assetserver/4c861182dd4c5b1a7b80754ca907d70e11c2410c-all.js"
                },
                {
                 "name": null,
                 "type": "css",
                 "url": "/assetserver/55ec2ee389419b72c3c6088bc3fbe3d7187a5fc0-style.css"
                },
                {
                 "name": null,
                 "type": "css",
                 "url": "/assetserver/bb71acf9697a201a164f98e5fab8a4f7b4f82041-bulma_confined.min.css"
                }
               ],
               "type": "async_block"
              },
              "mount_callbacks": [
               "function () {\n    var handler = (function (ko, koPunches) {\n    ko.punches.enableAll();\n    ko.bindingHandlers.numericValue = {\n        init: function(element, valueAccessor, allBindings, data, context) {\n            var stringified = ko.observable(ko.unwrap(valueAccessor()));\n            stringified.subscribe(function(value) {\n                var val = parseFloat(value);\n                if (!isNaN(val)) {\n                    valueAccessor()(val);\n                }\n            });\n            valueAccessor().subscribe(function(value) {\n                var str = JSON.stringify(value);\n                if ((str == \"0\") && ([\"-0\", \"-0.\"].indexOf(stringified()) >= 0))\n                     return;\n                 if ([\"null\", \"\"].indexOf(str) >= 0)\n                     return;\n                stringified(str);\n            });\n            ko.applyBindingsToNode(\n                element,\n                {\n                    value: stringified,\n                    valueUpdate: allBindings.get('valueUpdate'),\n                },\n                context,\n            );\n        }\n    };\n    var json_data = {\"formatted_vals\":[\"0.001\",\"0.12575\",\"0.2505\",\"0.37525\",\"0.5\"],\"changes\":WebIO.getval({\"name\":\"changes\",\"scope\":\"12535078908944127497\",\"id\":\"13846319504243242044\",\"type\":\"observable\"}),\"index\":WebIO.getval({\"name\":\"index\",\"scope\":\"12535078908944127497\",\"id\":\"8202949795721552798\",\"type\":\"observable\"})};\n    var self = this;\n    function AppViewModel() {\n        for (var key in json_data) {\n            var el = json_data[key];\n            this[key] = Array.isArray(el) ? ko.observableArray(el) : ko.observable(el);\n        }\n        \n        [this[\"formatted_val\"]=ko.computed(    function(){\n        return this.formatted_vals()[parseInt(this.index())-(1)];\n    }\n,this)]\n        [this[\"changes\"].subscribe((function (val){!(this.valueFromJulia[\"changes\"]) ? (WebIO.setval({\"name\":\"changes\",\"scope\":\"12535078908944127497\",\"id\":\"13846319504243242044\",\"type\":\"observable\"},val)) : undefined; return this.valueFromJulia[\"changes\"]=false}),self),this[\"index\"].subscribe((function (val){!(this.valueFromJulia[\"index\"]) ? (WebIO.setval({\"name\":\"index\",\"scope\":\"12535078908944127497\",\"id\":\"8202949795721552798\",\"type\":\"observable\"},val)) : undefined; return this.valueFromJulia[\"index\"]=false}),self)]\n        \n    }\n    self.model = new AppViewModel();\n    self.valueFromJulia = {};\n    for (var key in json_data) {\n        self.valueFromJulia[key] = false;\n    }\n    ko.applyBindings(self.model, self.dom);\n}\n);\n    (WebIO.importBlock({\"data\":[{\"name\":\"knockout\",\"type\":\"js\",\"url\":\"/assetserver/4b78a831658f9469be0fa90a874237d533cfc56e-knockout.js\"},{\"name\":\"knockout_punches\",\"type\":\"js\",\"url\":\"/assetserver/32cf81589ef7eb25886db6e5be297d237f8599ce-knockout_punches.js\"}],\"type\":\"async_block\"})).then((imports) => handler.apply(this, imports));\n}\n"
              ],
              "observables": {
               "changes": {
                "id": "13846319504243242044",
                "sync": false,
                "value": 0
               },
               "index": {
                "id": "8202949795721552798",
                "sync": true,
                "value": 3
               }
              },
              "systemjs_options": null
             },
             "nodeType": "Scope",
             "props": {},
             "type": "node"
            }
           ],
           "instanceArgs": {
            "namespace": "html",
            "tag": "div"
           },
           "nodeType": "DOM",
           "props": {
            "className": "field interact-widget"
           },
           "type": "node"
          },
          {
           "children": [
            {
             "children": [
              {
               "children": [
                {
                 "children": [
                  {
                   "children": [
                    "hd_noise"
                   ],
                   "instanceArgs": {
                    "namespace": "html",
                    "tag": "label"
                   },
                   "nodeType": "DOM",
                   "props": {
                    "className": "interact ",
                    "style": {
                     "padding": "5px 10px 0px 10px"
                    }
                   },
                   "type": "node"
                  }
                 ],
                 "instanceArgs": {
                  "namespace": "html",
                  "tag": "div"
                 },
                 "nodeType": "DOM",
                 "props": {
                  "className": "interact-flex-row-left"
                 },
                 "type": "node"
                },
                {
                 "children": [
                  {
                   "children": [],
                   "instanceArgs": {
                    "namespace": "html",
                    "tag": "input"
                   },
                   "nodeType": "DOM",
                   "props": {
                    "attributes": {
                     "data-bind": "numericValue: index, valueUpdate: 'input', event: {change: function (){this.changes(this.changes()+1)}}",
                     "orient": "horizontal",
                     "type": "range"
                    },
                    "className": "slider slider is-fullwidth",
                    "max": 5,
                    "min": 1,
                    "step": 1,
                    "style": {}
                   },
                   "type": "node"
                  }
                 ],
                 "instanceArgs": {
                  "namespace": "html",
                  "tag": "div"
                 },
                 "nodeType": "DOM",
                 "props": {
                  "className": "interact-flex-row-center"
                 },
                 "type": "node"
                },
                {
                 "children": [
                  {
                   "children": [],
                   "instanceArgs": {
                    "namespace": "html",
                    "tag": "p"
                   },
                   "nodeType": "DOM",
                   "props": {
                    "attributes": {
                     "data-bind": "text: formatted_val"
                    }
                   },
                   "type": "node"
                  }
                 ],
                 "instanceArgs": {
                  "namespace": "html",
                  "tag": "div"
                 },
                 "nodeType": "DOM",
                 "props": {
                  "className": "interact-flex-row-right"
                 },
                 "type": "node"
                }
               ],
               "instanceArgs": {
                "namespace": "html",
                "tag": "div"
               },
               "nodeType": "DOM",
               "props": {
                "className": "interact-flex-row interact-widget"
               },
               "type": "node"
              }
             ],
             "instanceArgs": {
              "handlers": {
               "changes": [
                "(function (val){return (val!=this.model[\"changes\"]()) ? (this.valueFromJulia[\"changes\"]=true, this.model[\"changes\"](val)) : undefined})"
               ],
               "index": [
                "(function (val){return (val!=this.model[\"index\"]()) ? (this.valueFromJulia[\"index\"]=true, this.model[\"index\"](val)) : undefined})"
               ]
              },
              "id": "4780831095995482268",
              "imports": {
               "data": [
                {
                 "name": "knockout",
                 "type": "js",
                 "url": "/assetserver/4b78a831658f9469be0fa90a874237d533cfc56e-knockout.js"
                },
                {
                 "name": "knockout_punches",
                 "type": "js",
                 "url": "/assetserver/32cf81589ef7eb25886db6e5be297d237f8599ce-knockout_punches.js"
                },
                {
                 "name": null,
                 "type": "js",
                 "url": "/assetserver/4c861182dd4c5b1a7b80754ca907d70e11c2410c-all.js"
                },
                {
                 "name": null,
                 "type": "css",
                 "url": "/assetserver/55ec2ee389419b72c3c6088bc3fbe3d7187a5fc0-style.css"
                },
                {
                 "name": null,
                 "type": "css",
                 "url": "/assetserver/bb71acf9697a201a164f98e5fab8a4f7b4f82041-bulma_confined.min.css"
                }
               ],
               "type": "async_block"
              },
              "mount_callbacks": [
               "function () {\n    var handler = (function (ko, koPunches) {\n    ko.punches.enableAll();\n    ko.bindingHandlers.numericValue = {\n        init: function(element, valueAccessor, allBindings, data, context) {\n            var stringified = ko.observable(ko.unwrap(valueAccessor()));\n            stringified.subscribe(function(value) {\n                var val = parseFloat(value);\n                if (!isNaN(val)) {\n                    valueAccessor()(val);\n                }\n            });\n            valueAccessor().subscribe(function(value) {\n                var str = JSON.stringify(value);\n                if ((str == \"0\") && ([\"-0\", \"-0.\"].indexOf(stringified()) >= 0))\n                     return;\n                 if ([\"null\", \"\"].indexOf(str) >= 0)\n                     return;\n                stringified(str);\n            });\n            ko.applyBindingsToNode(\n                element,\n                {\n                    value: stringified,\n                    valueUpdate: allBindings.get('valueUpdate'),\n                },\n                context,\n            );\n        }\n    };\n    var json_data = {\"formatted_vals\":[\"0.001\",\"11.2508\",\"22.5005\",\"33.7503\",\"45.0\"],\"changes\":WebIO.getval({\"name\":\"changes\",\"scope\":\"4780831095995482268\",\"id\":\"15495385061736108166\",\"type\":\"observable\"}),\"index\":WebIO.getval({\"name\":\"index\",\"scope\":\"4780831095995482268\",\"id\":\"8633957705469094372\",\"type\":\"observable\"})};\n    var self = this;\n    function AppViewModel() {\n        for (var key in json_data) {\n            var el = json_data[key];\n            this[key] = Array.isArray(el) ? ko.observableArray(el) : ko.observable(el);\n        }\n        \n        [this[\"formatted_val\"]=ko.computed(    function(){\n        return this.formatted_vals()[parseInt(this.index())-(1)];\n    }\n,this)]\n        [this[\"changes\"].subscribe((function (val){!(this.valueFromJulia[\"changes\"]) ? (WebIO.setval({\"name\":\"changes\",\"scope\":\"4780831095995482268\",\"id\":\"15495385061736108166\",\"type\":\"observable\"},val)) : undefined; return this.valueFromJulia[\"changes\"]=false}),self),this[\"index\"].subscribe((function (val){!(this.valueFromJulia[\"index\"]) ? (WebIO.setval({\"name\":\"index\",\"scope\":\"4780831095995482268\",\"id\":\"8633957705469094372\",\"type\":\"observable\"},val)) : undefined; return this.valueFromJulia[\"index\"]=false}),self)]\n        \n    }\n    self.model = new AppViewModel();\n    self.valueFromJulia = {};\n    for (var key in json_data) {\n        self.valueFromJulia[key] = false;\n    }\n    ko.applyBindings(self.model, self.dom);\n}\n);\n    (WebIO.importBlock({\"data\":[{\"name\":\"knockout\",\"type\":\"js\",\"url\":\"/assetserver/4b78a831658f9469be0fa90a874237d533cfc56e-knockout.js\"},{\"name\":\"knockout_punches\",\"type\":\"js\",\"url\":\"/assetserver/32cf81589ef7eb25886db6e5be297d237f8599ce-knockout_punches.js\"}],\"type\":\"async_block\"})).then((imports) => handler.apply(this, imports));\n}\n"
              ],
              "observables": {
               "changes": {
                "id": "15495385061736108166",
                "sync": false,
                "value": 0
               },
               "index": {
                "id": "8633957705469094372",
                "sync": true,
                "value": 3
               }
              },
              "systemjs_options": null
             },
             "nodeType": "Scope",
             "props": {},
             "type": "node"
            }
           ],
           "instanceArgs": {
            "namespace": "html",
            "tag": "div"
           },
           "nodeType": "DOM",
           "props": {
            "className": "field interact-widget"
           },
           "type": "node"
          }
         ],
         "instanceArgs": {
          "namespace": "html",
          "tag": "div"
         },
         "nodeType": "DOM",
         "props": {
          "style": {
           "display": "flex",
           "flex-direction": "row"
          }
         },
         "type": "node"
        },
        {
         "children": [
          {
           "children": [
            {
             "children": [
              {
               "children": [
                {
                 "children": [
                  {
                   "children": [
                    "mixture size"
                   ],
                   "instanceArgs": {
                    "namespace": "html",
                    "tag": "label"
                   },
                   "nodeType": "DOM",
                   "props": {
                    "className": "interact ",
                    "style": {
                     "padding": "5px 10px 0px 10px"
                    }
                   },
                   "type": "node"
                  }
                 ],
                 "instanceArgs": {
                  "namespace": "html",
                  "tag": "div"
                 },
                 "nodeType": "DOM",
                 "props": {
                  "className": "interact-flex-row-left"
                 },
                 "type": "node"
                },
                {
                 "children": [
                  {
                   "children": [],
                   "instanceArgs": {
                    "namespace": "html",
                    "tag": "input"
                   },
                   "nodeType": "DOM",
                   "props": {
                    "attributes": {
                     "data-bind": "numericValue: index, valueUpdate: 'input', event: {change: function (){this.changes(this.changes()+1)}}",
                     "orient": "horizontal",
                     "type": "range"
                    },
                    "className": "slider slider is-fullwidth",
                    "max": 10,
                    "min": 1,
                    "step": 1,
                    "style": {}
                   },
                   "type": "node"
                  }
                 ],
                 "instanceArgs": {
                  "namespace": "html",
                  "tag": "div"
                 },
                 "nodeType": "DOM",
                 "props": {
                  "className": "interact-flex-row-center"
                 },
                 "type": "node"
                },
                {
                 "children": [
                  {
                   "children": [],
                   "instanceArgs": {
                    "namespace": "html",
                    "tag": "p"
                   },
                   "nodeType": "DOM",
                   "props": {
                    "attributes": {
                     "data-bind": "text: formatted_val"
                    }
                   },
                   "type": "node"
                  }
                 ],
                 "instanceArgs": {
                  "namespace": "html",
                  "tag": "div"
                 },
                 "nodeType": "DOM",
                 "props": {
                  "className": "interact-flex-row-right"
                 },
                 "type": "node"
                }
               ],
               "instanceArgs": {
                "namespace": "html",
                "tag": "div"
               },
               "nodeType": "DOM",
               "props": {
                "className": "interact-flex-row interact-widget"
               },
               "type": "node"
              }
             ],
             "instanceArgs": {
              "handlers": {
               "changes": [
                "(function (val){return (val!=this.model[\"changes\"]()) ? (this.valueFromJulia[\"changes\"]=true, this.model[\"changes\"](val)) : undefined})"
               ],
               "index": [
                "(function (val){return (val!=this.model[\"index\"]()) ? (this.valueFromJulia[\"index\"]=true, this.model[\"index\"](val)) : undefined})"
               ]
              },
              "id": "12657551348851759111",
              "imports": {
               "data": [
                {
                 "name": "knockout",
                 "type": "js",
                 "url": "/assetserver/4b78a831658f9469be0fa90a874237d533cfc56e-knockout.js"
                },
                {
                 "name": "knockout_punches",
                 "type": "js",
                 "url": "/assetserver/32cf81589ef7eb25886db6e5be297d237f8599ce-knockout_punches.js"
                },
                {
                 "name": null,
                 "type": "js",
                 "url": "/assetserver/4c861182dd4c5b1a7b80754ca907d70e11c2410c-all.js"
                },
                {
                 "name": null,
                 "type": "css",
                 "url": "/assetserver/55ec2ee389419b72c3c6088bc3fbe3d7187a5fc0-style.css"
                },
                {
                 "name": null,
                 "type": "css",
                 "url": "/assetserver/bb71acf9697a201a164f98e5fab8a4f7b4f82041-bulma_confined.min.css"
                }
               ],
               "type": "async_block"
              },
              "mount_callbacks": [
               "function () {\n    var handler = (function (ko, koPunches) {\n    ko.punches.enableAll();\n    ko.bindingHandlers.numericValue = {\n        init: function(element, valueAccessor, allBindings, data, context) {\n            var stringified = ko.observable(ko.unwrap(valueAccessor()));\n            stringified.subscribe(function(value) {\n                var val = parseFloat(value);\n                if (!isNaN(val)) {\n                    valueAccessor()(val);\n                }\n            });\n            valueAccessor().subscribe(function(value) {\n                var str = JSON.stringify(value);\n                if ((str == \"0\") && ([\"-0\", \"-0.\"].indexOf(stringified()) >= 0))\n                     return;\n                 if ([\"null\", \"\"].indexOf(str) >= 0)\n                     return;\n                stringified(str);\n            });\n            ko.applyBindingsToNode(\n                element,\n                {\n                    value: stringified,\n                    valueUpdate: allBindings.get('valueUpdate'),\n                },\n                context,\n            );\n        }\n    };\n    var json_data = {\"formatted_vals\":[\"1\",\"6\",\"11\",\"16\",\"21\",\"26\",\"31\",\"36\",\"41\",\"46\"],\"changes\":WebIO.getval({\"name\":\"changes\",\"scope\":\"12657551348851759111\",\"id\":\"14848553284327389596\",\"type\":\"observable\"}),\"index\":WebIO.getval({\"name\":\"index\",\"scope\":\"12657551348851759111\",\"id\":\"11982846947997185171\",\"type\":\"observable\"})};\n    var self = this;\n    function AppViewModel() {\n        for (var key in json_data) {\n            var el = json_data[key];\n            this[key] = Array.isArray(el) ? ko.observableArray(el) : ko.observable(el);\n        }\n        \n        [this[\"formatted_val\"]=ko.computed(    function(){\n        return this.formatted_vals()[parseInt(this.index())-(1)];\n    }\n,this)]\n        [this[\"changes\"].subscribe((function (val){!(this.valueFromJulia[\"changes\"]) ? (WebIO.setval({\"name\":\"changes\",\"scope\":\"12657551348851759111\",\"id\":\"14848553284327389596\",\"type\":\"observable\"},val)) : undefined; return this.valueFromJulia[\"changes\"]=false}),self),this[\"index\"].subscribe((function (val){!(this.valueFromJulia[\"index\"]) ? (WebIO.setval({\"name\":\"index\",\"scope\":\"12657551348851759111\",\"id\":\"11982846947997185171\",\"type\":\"observable\"},val)) : undefined; return this.valueFromJulia[\"index\"]=false}),self)]\n        \n    }\n    self.model = new AppViewModel();\n    self.valueFromJulia = {};\n    for (var key in json_data) {\n        self.valueFromJulia[key] = false;\n    }\n    ko.applyBindings(self.model, self.dom);\n}\n);\n    (WebIO.importBlock({\"data\":[{\"name\":\"knockout\",\"type\":\"js\",\"url\":\"/assetserver/4b78a831658f9469be0fa90a874237d533cfc56e-knockout.js\"},{\"name\":\"knockout_punches\",\"type\":\"js\",\"url\":\"/assetserver/32cf81589ef7eb25886db6e5be297d237f8599ce-knockout_punches.js\"}],\"type\":\"async_block\"})).then((imports) => handler.apply(this, imports));\n}\n"
              ],
              "observables": {
               "changes": {
                "id": "14848553284327389596",
                "sync": false,
                "value": 0
               },
               "index": {
                "id": "11982846947997185171",
                "sync": true,
                "value": 5
               }
              },
              "systemjs_options": null
             },
             "nodeType": "Scope",
             "props": {},
             "type": "node"
            }
           ],
           "instanceArgs": {
            "namespace": "html",
            "tag": "div"
           },
           "nodeType": "DOM",
           "props": {
            "className": "field interact-widget"
           },
           "type": "node"
          },
          {
           "children": [
            {
             "children": [
              {
               "children": [
                {
                 "children": [
                  {
                   "children": [
                    "s_noise"
                   ],
                   "instanceArgs": {
                    "namespace": "html",
                    "tag": "label"
                   },
                   "nodeType": "DOM",
                   "props": {
                    "className": "interact ",
                    "style": {
                     "padding": "5px 10px 0px 10px"
                    }
                   },
                   "type": "node"
                  }
                 ],
                 "instanceArgs": {
                  "namespace": "html",
                  "tag": "div"
                 },
                 "nodeType": "DOM",
                 "props": {
                  "className": "interact-flex-row-left"
                 },
                 "type": "node"
                },
                {
                 "children": [
                  {
                   "children": [],
                   "instanceArgs": {
                    "namespace": "html",
                    "tag": "input"
                   },
                   "nodeType": "DOM",
                   "props": {
                    "attributes": {
                     "data-bind": "numericValue: index, valueUpdate: 'input', event: {change: function (){this.changes(this.changes()+1)}}",
                     "orient": "horizontal",
                     "type": "range"
                    },
                    "className": "slider slider is-fullwidth",
                    "max": 10,
                    "min": 1,
                    "step": 1,
                    "style": {}
                   },
                   "type": "node"
                  }
                 ],
                 "instanceArgs": {
                  "namespace": "html",
                  "tag": "div"
                 },
                 "nodeType": "DOM",
                 "props": {
                  "className": "interact-flex-row-center"
                 },
                 "type": "node"
                },
                {
                 "children": [
                  {
                   "children": [],
                   "instanceArgs": {
                    "namespace": "html",
                    "tag": "p"
                   },
                   "nodeType": "DOM",
                   "props": {
                    "attributes": {
                     "data-bind": "text: formatted_val"
                    }
                   },
                   "type": "node"
                  }
                 ],
                 "instanceArgs": {
                  "namespace": "html",
                  "tag": "div"
                 },
                 "nodeType": "DOM",
                 "props": {
                  "className": "interact-flex-row-right"
                 },
                 "type": "node"
                }
               ],
               "instanceArgs": {
                "namespace": "html",
                "tag": "div"
               },
               "nodeType": "DOM",
               "props": {
                "className": "interact-flex-row interact-widget"
               },
               "type": "node"
              }
             ],
             "instanceArgs": {
              "handlers": {
               "changes": [
                "(function (val){return (val!=this.model[\"changes\"]()) ? (this.valueFromJulia[\"changes\"]=true, this.model[\"changes\"](val)) : undefined})"
               ],
               "index": [
                "(function (val){return (val!=this.model[\"index\"]()) ? (this.valueFromJulia[\"index\"]=true, this.model[\"index\"](val)) : undefined})"
               ]
              },
              "id": "15859403562751656846",
              "imports": {
               "data": [
                {
                 "name": "knockout",
                 "type": "js",
                 "url": "/assetserver/4b78a831658f9469be0fa90a874237d533cfc56e-knockout.js"
                },
                {
                 "name": "knockout_punches",
                 "type": "js",
                 "url": "/assetserver/32cf81589ef7eb25886db6e5be297d237f8599ce-knockout_punches.js"
                },
                {
                 "name": null,
                 "type": "js",
                 "url": "/assetserver/4c861182dd4c5b1a7b80754ca907d70e11c2410c-all.js"
                },
                {
                 "name": null,
                 "type": "css",
                 "url": "/assetserver/55ec2ee389419b72c3c6088bc3fbe3d7187a5fc0-style.css"
                },
                {
                 "name": null,
                 "type": "css",
                 "url": "/assetserver/bb71acf9697a201a164f98e5fab8a4f7b4f82041-bulma_confined.min.css"
                }
               ],
               "type": "async_block"
              },
              "mount_callbacks": [
               "function () {\n    var handler = (function (ko, koPunches) {\n    ko.punches.enableAll();\n    ko.bindingHandlers.numericValue = {\n        init: function(element, valueAccessor, allBindings, data, context) {\n            var stringified = ko.observable(ko.unwrap(valueAccessor()));\n            stringified.subscribe(function(value) {\n                var val = parseFloat(value);\n                if (!isNaN(val)) {\n                    valueAccessor()(val);\n                }\n            });\n            valueAccessor().subscribe(function(value) {\n                var str = JSON.stringify(value);\n                if ((str == \"0\") && ([\"-0\", \"-0.\"].indexOf(stringified()) >= 0))\n                     return;\n                 if ([\"null\", \"\"].indexOf(str) >= 0)\n                     return;\n                stringified(str);\n            });\n            ko.applyBindingsToNode(\n                element,\n                {\n                    value: stringified,\n                    valueUpdate: allBindings.get('valueUpdate'),\n                },\n                context,\n            );\n        }\n    };\n    var json_data = {\"formatted_vals\":[\"0.01\",\"0.12\",\"0.23\",\"0.34\",\"0.45\",\"0.56\",\"0.67\",\"0.78\",\"0.89\",\"1.0\"],\"changes\":WebIO.getval({\"name\":\"changes\",\"scope\":\"15859403562751656846\",\"id\":\"17413442297242899299\",\"type\":\"observable\"}),\"index\":WebIO.getval({\"name\":\"index\",\"scope\":\"15859403562751656846\",\"id\":\"9903425566310853510\",\"type\":\"observable\"})};\n    var self = this;\n    function AppViewModel() {\n        for (var key in json_data) {\n            var el = json_data[key];\n            this[key] = Array.isArray(el) ? ko.observableArray(el) : ko.observable(el);\n        }\n        \n        [this[\"formatted_val\"]=ko.computed(    function(){\n        return this.formatted_vals()[parseInt(this.index())-(1)];\n    }\n,this)]\n        [this[\"changes\"].subscribe((function (val){!(this.valueFromJulia[\"changes\"]) ? (WebIO.setval({\"name\":\"changes\",\"scope\":\"15859403562751656846\",\"id\":\"17413442297242899299\",\"type\":\"observable\"},val)) : undefined; return this.valueFromJulia[\"changes\"]=false}),self),this[\"index\"].subscribe((function (val){!(this.valueFromJulia[\"index\"]) ? (WebIO.setval({\"name\":\"index\",\"scope\":\"15859403562751656846\",\"id\":\"9903425566310853510\",\"type\":\"observable\"},val)) : undefined; return this.valueFromJulia[\"index\"]=false}),self)]\n        \n    }\n    self.model = new AppViewModel();\n    self.valueFromJulia = {};\n    for (var key in json_data) {\n        self.valueFromJulia[key] = false;\n    }\n    ko.applyBindings(self.model, self.dom);\n}\n);\n    (WebIO.importBlock({\"data\":[{\"name\":\"knockout\",\"type\":\"js\",\"url\":\"/assetserver/4b78a831658f9469be0fa90a874237d533cfc56e-knockout.js\"},{\"name\":\"knockout_punches\",\"type\":\"js\",\"url\":\"/assetserver/32cf81589ef7eb25886db6e5be297d237f8599ce-knockout_punches.js\"}],\"type\":\"async_block\"})).then((imports) => handler.apply(this, imports));\n}\n"
              ],
              "observables": {
               "changes": {
                "id": "17413442297242899299",
                "sync": false,
                "value": 0
               },
               "index": {
                "id": "9903425566310853510",
                "sync": true,
                "value": 5
               }
              },
              "systemjs_options": null
             },
             "nodeType": "Scope",
             "props": {},
             "type": "node"
            }
           ],
           "instanceArgs": {
            "namespace": "html",
            "tag": "div"
           },
           "nodeType": "DOM",
           "props": {
            "className": "field interact-widget"
           },
           "type": "node"
          }
         ],
         "instanceArgs": {
          "namespace": "html",
          "tag": "div"
         },
         "nodeType": "DOM",
         "props": {
          "style": {
           "display": "flex",
           "flex-direction": "row"
          }
         },
         "type": "node"
        },
        {
         "children": [
          {
           "children": [
            {
             "children": [
              {
               "children": [
                {
                 "children": [
                  {
                   "children": [
                    "grid iters"
                   ],
                   "instanceArgs": {
                    "namespace": "html",
                    "tag": "label"
                   },
                   "nodeType": "DOM",
                   "props": {
                    "className": "interact ",
                    "style": {
                     "padding": "5px 10px 0px 10px"
                    }
                   },
                   "type": "node"
                  }
                 ],
                 "instanceArgs": {
                  "namespace": "html",
                  "tag": "div"
                 },
                 "nodeType": "DOM",
                 "props": {
                  "className": "interact-flex-row-left"
                 },
                 "type": "node"
                },
                {
                 "children": [
                  {
                   "children": [],
                   "instanceArgs": {
                    "namespace": "html",
                    "tag": "input"
                   },
                   "nodeType": "DOM",
                   "props": {
                    "attributes": {
                     "data-bind": "numericValue: index, valueUpdate: 'input', event: {change: function (){this.changes(this.changes()+1)}}",
                     "orient": "horizontal",
                     "type": "range"
                    },
                    "className": "slider slider is-fullwidth",
                    "max": 10,
                    "min": 1,
                    "step": 1,
                    "style": {}
                   },
                   "type": "node"
                  }
                 ],
                 "instanceArgs": {
                  "namespace": "html",
                  "tag": "div"
                 },
                 "nodeType": "DOM",
                 "props": {
                  "className": "interact-flex-row-center"
                 },
                 "type": "node"
                },
                {
                 "children": [
                  {
                   "children": [],
                   "instanceArgs": {
                    "namespace": "html",
                    "tag": "p"
                   },
                   "nodeType": "DOM",
                   "props": {
                    "attributes": {
                     "data-bind": "text: formatted_val"
                    }
                   },
                   "type": "node"
                  }
                 ],
                 "instanceArgs": {
                  "namespace": "html",
                  "tag": "div"
                 },
                 "nodeType": "DOM",
                 "props": {
                  "className": "interact-flex-row-right"
                 },
                 "type": "node"
                }
               ],
               "instanceArgs": {
                "namespace": "html",
                "tag": "div"
               },
               "nodeType": "DOM",
               "props": {
                "className": "interact-flex-row interact-widget"
               },
               "type": "node"
              }
             ],
             "instanceArgs": {
              "handlers": {
               "changes": [
                "(function (val){return (val!=this.model[\"changes\"]()) ? (this.valueFromJulia[\"changes\"]=true, this.model[\"changes\"](val)) : undefined})"
               ],
               "index": [
                "(function (val){return (val!=this.model[\"index\"]()) ? (this.valueFromJulia[\"index\"]=true, this.model[\"index\"](val)) : undefined})"
               ]
              },
              "id": "752390581389558021",
              "imports": {
               "data": [
                {
                 "name": "knockout",
                 "type": "js",
                 "url": "/assetserver/4b78a831658f9469be0fa90a874237d533cfc56e-knockout.js"
                },
                {
                 "name": "knockout_punches",
                 "type": "js",
                 "url": "/assetserver/32cf81589ef7eb25886db6e5be297d237f8599ce-knockout_punches.js"
                },
                {
                 "name": null,
                 "type": "js",
                 "url": "/assetserver/4c861182dd4c5b1a7b80754ca907d70e11c2410c-all.js"
                },
                {
                 "name": null,
                 "type": "css",
                 "url": "/assetserver/55ec2ee389419b72c3c6088bc3fbe3d7187a5fc0-style.css"
                },
                {
                 "name": null,
                 "type": "css",
                 "url": "/assetserver/bb71acf9697a201a164f98e5fab8a4f7b4f82041-bulma_confined.min.css"
                }
               ],
               "type": "async_block"
              },
              "mount_callbacks": [
               "function () {\n    var handler = (function (ko, koPunches) {\n    ko.punches.enableAll();\n    ko.bindingHandlers.numericValue = {\n        init: function(element, valueAccessor, allBindings, data, context) {\n            var stringified = ko.observable(ko.unwrap(valueAccessor()));\n            stringified.subscribe(function(value) {\n                var val = parseFloat(value);\n                if (!isNaN(val)) {\n                    valueAccessor()(val);\n                }\n            });\n            valueAccessor().subscribe(function(value) {\n                var str = JSON.stringify(value);\n                if ((str == \"0\") && ([\"-0\", \"-0.\"].indexOf(stringified()) >= 0))\n                     return;\n                 if ([\"null\", \"\"].indexOf(str) >= 0)\n                     return;\n                stringified(str);\n            });\n            ko.applyBindingsToNode(\n                element,\n                {\n                    value: stringified,\n                    valueUpdate: allBindings.get('valueUpdate'),\n                },\n                context,\n            );\n        }\n    };\n    var json_data = {\"formatted_vals\":[\"1\",\"2\",\"3\",\"4\",\"5\",\"6\",\"7\",\"8\",\"9\",\"10\"],\"changes\":WebIO.getval({\"name\":\"changes\",\"scope\":\"752390581389558021\",\"id\":\"11894853266460105516\",\"type\":\"observable\"}),\"index\":WebIO.getval({\"name\":\"index\",\"scope\":\"752390581389558021\",\"id\":\"14038167865866125115\",\"type\":\"observable\"})};\n    var self = this;\n    function AppViewModel() {\n        for (var key in json_data) {\n            var el = json_data[key];\n            this[key] = Array.isArray(el) ? ko.observableArray(el) : ko.observable(el);\n        }\n        \n        [this[\"formatted_val\"]=ko.computed(    function(){\n        return this.formatted_vals()[parseInt(this.index())-(1)];\n    }\n,this)]\n        [this[\"changes\"].subscribe((function (val){!(this.valueFromJulia[\"changes\"]) ? (WebIO.setval({\"name\":\"changes\",\"scope\":\"752390581389558021\",\"id\":\"11894853266460105516\",\"type\":\"observable\"},val)) : undefined; return this.valueFromJulia[\"changes\"]=false}),self),this[\"index\"].subscribe((function (val){!(this.valueFromJulia[\"index\"]) ? (WebIO.setval({\"name\":\"index\",\"scope\":\"752390581389558021\",\"id\":\"14038167865866125115\",\"type\":\"observable\"},val)) : undefined; return this.valueFromJulia[\"index\"]=false}),self)]\n        \n    }\n    self.model = new AppViewModel();\n    self.valueFromJulia = {};\n    for (var key in json_data) {\n        self.valueFromJulia[key] = false;\n    }\n    ko.applyBindings(self.model, self.dom);\n}\n);\n    (WebIO.importBlock({\"data\":[{\"name\":\"knockout\",\"type\":\"js\",\"url\":\"/assetserver/4b78a831658f9469be0fa90a874237d533cfc56e-knockout.js\"},{\"name\":\"knockout_punches\",\"type\":\"js\",\"url\":\"/assetserver/32cf81589ef7eb25886db6e5be297d237f8599ce-knockout_punches.js\"}],\"type\":\"async_block\"})).then((imports) => handler.apply(this, imports));\n}\n"
              ],
              "observables": {
               "changes": {
                "id": "11894853266460105516",
                "sync": false,
                "value": 0
               },
               "index": {
                "id": "14038167865866125115",
                "sync": false,
                "value": 5
               }
              },
              "systemjs_options": null
             },
             "nodeType": "Scope",
             "props": {},
             "type": "node"
            }
           ],
           "instanceArgs": {
            "namespace": "html",
            "tag": "div"
           },
           "nodeType": "DOM",
           "props": {
            "className": "field interact-widget"
           },
           "type": "node"
          },
          {
           "children": [
            {
             "children": [
              {
               "children": [
                {
                 "children": [
                  {
                   "children": [
                    "grid shape"
                   ],
                   "instanceArgs": {
                    "namespace": "html",
                    "tag": "label"
                   },
                   "nodeType": "DOM",
                   "props": {
                    "className": "interact ",
                    "style": {
                     "padding": "5px 10px 0px 10px"
                    }
                   },
                   "type": "node"
                  }
                 ],
                 "instanceArgs": {
                  "namespace": "html",
                  "tag": "div"
                 },
                 "nodeType": "DOM",
                 "props": {
                  "className": "interact-flex-row-left"
                 },
                 "type": "node"
                },
                {
                 "children": [
                  {
                   "children": [],
                   "instanceArgs": {
                    "namespace": "html",
                    "tag": "input"
                   },
                   "nodeType": "DOM",
                   "props": {
                    "attributes": {
                     "data-bind": "numericValue: index, valueUpdate: 'input', event: {change: function (){this.changes(this.changes()+1)}}",
                     "orient": "horizontal",
                     "type": "range"
                    },
                    "className": "slider slider is-fullwidth",
                    "max": 10,
                    "min": 2,
                    "step": 1,
                    "style": {}
                   },
                   "type": "node"
                  }
                 ],
                 "instanceArgs": {
                  "namespace": "html",
                  "tag": "div"
                 },
                 "nodeType": "DOM",
                 "props": {
                  "className": "interact-flex-row-center"
                 },
                 "type": "node"
                },
                {
                 "children": [
                  {
                   "children": [],
                   "instanceArgs": {
                    "namespace": "html",
                    "tag": "p"
                   },
                   "nodeType": "DOM",
                   "props": {
                    "attributes": {
                     "data-bind": "text: formatted_val"
                    }
                   },
                   "type": "node"
                  }
                 ],
                 "instanceArgs": {
                  "namespace": "html",
                  "tag": "div"
                 },
                 "nodeType": "DOM",
                 "props": {
                  "className": "interact-flex-row-right"
                 },
                 "type": "node"
                }
               ],
               "instanceArgs": {
                "namespace": "html",
                "tag": "div"
               },
               "nodeType": "DOM",
               "props": {
                "className": "interact-flex-row interact-widget"
               },
               "type": "node"
              }
             ],
             "instanceArgs": {
              "handlers": {
               "changes": [
                "(function (val){return (val!=this.model[\"changes\"]()) ? (this.valueFromJulia[\"changes\"]=true, this.model[\"changes\"](val)) : undefined})"
               ],
               "index": [
                "(function (val){return (val!=this.model[\"index\"]()) ? (this.valueFromJulia[\"index\"]=true, this.model[\"index\"](val)) : undefined})"
               ]
              },
              "id": "13053949046312555393",
              "imports": {
               "data": [
                {
                 "name": "knockout",
                 "type": "js",
                 "url": "/assetserver/4b78a831658f9469be0fa90a874237d533cfc56e-knockout.js"
                },
                {
                 "name": "knockout_punches",
                 "type": "js",
                 "url": "/assetserver/32cf81589ef7eb25886db6e5be297d237f8599ce-knockout_punches.js"
                },
                {
                 "name": null,
                 "type": "js",
                 "url": "/assetserver/4c861182dd4c5b1a7b80754ca907d70e11c2410c-all.js"
                },
                {
                 "name": null,
                 "type": "css",
                 "url": "/assetserver/55ec2ee389419b72c3c6088bc3fbe3d7187a5fc0-style.css"
                },
                {
                 "name": null,
                 "type": "css",
                 "url": "/assetserver/bb71acf9697a201a164f98e5fab8a4f7b4f82041-bulma_confined.min.css"
                }
               ],
               "type": "async_block"
              },
              "mount_callbacks": [
               "function () {\n    var handler = (function (ko, koPunches) {\n    ko.punches.enableAll();\n    ko.bindingHandlers.numericValue = {\n        init: function(element, valueAccessor, allBindings, data, context) {\n            var stringified = ko.observable(ko.unwrap(valueAccessor()));\n            stringified.subscribe(function(value) {\n                var val = parseFloat(value);\n                if (!isNaN(val)) {\n                    valueAccessor()(val);\n                }\n            });\n            valueAccessor().subscribe(function(value) {\n                var str = JSON.stringify(value);\n                if ((str == \"0\") && ([\"-0\", \"-0.\"].indexOf(stringified()) >= 0))\n                     return;\n                 if ([\"null\", \"\"].indexOf(str) >= 0)\n                     return;\n                stringified(str);\n            });\n            ko.applyBindingsToNode(\n                element,\n                {\n                    value: stringified,\n                    valueUpdate: allBindings.get('valueUpdate'),\n                },\n                context,\n            );\n        }\n    };\n    var json_data = {\"formatted_vals\":[\"2\",\"3\",\"4\",\"5\",\"6\",\"7\",\"8\",\"9\",\"10\"],\"changes\":WebIO.getval({\"name\":\"changes\",\"scope\":\"13053949046312555393\",\"id\":\"1715039377240127802\",\"type\":\"observable\"}),\"index\":WebIO.getval({\"name\":\"index\",\"scope\":\"13053949046312555393\",\"id\":\"11184462984573913715\",\"type\":\"observable\"})};\n    var self = this;\n    function AppViewModel() {\n        for (var key in json_data) {\n            var el = json_data[key];\n            this[key] = Array.isArray(el) ? ko.observableArray(el) : ko.observable(el);\n        }\n        \n        [this[\"formatted_val\"]=ko.computed(    function(){\n        return this.formatted_vals()[parseInt(this.index())-(2)];\n    }\n,this)]\n        [this[\"changes\"].subscribe((function (val){!(this.valueFromJulia[\"changes\"]) ? (WebIO.setval({\"name\":\"changes\",\"scope\":\"13053949046312555393\",\"id\":\"1715039377240127802\",\"type\":\"observable\"},val)) : undefined; return this.valueFromJulia[\"changes\"]=false}),self),this[\"index\"].subscribe((function (val){!(this.valueFromJulia[\"index\"]) ? (WebIO.setval({\"name\":\"index\",\"scope\":\"13053949046312555393\",\"id\":\"11184462984573913715\",\"type\":\"observable\"},val)) : undefined; return this.valueFromJulia[\"index\"]=false}),self)]\n        \n    }\n    self.model = new AppViewModel();\n    self.valueFromJulia = {};\n    for (var key in json_data) {\n        self.valueFromJulia[key] = false;\n    }\n    ko.applyBindings(self.model, self.dom);\n}\n);\n    (WebIO.importBlock({\"data\":[{\"name\":\"knockout\",\"type\":\"js\",\"url\":\"/assetserver/4b78a831658f9469be0fa90a874237d533cfc56e-knockout.js\"},{\"name\":\"knockout_punches\",\"type\":\"js\",\"url\":\"/assetserver/32cf81589ef7eb25886db6e5be297d237f8599ce-knockout_punches.js\"}],\"type\":\"async_block\"})).then((imports) => handler.apply(this, imports));\n}\n"
              ],
              "observables": {
               "changes": {
                "id": "1715039377240127802",
                "sync": false,
                "value": 0
               },
               "index": {
                "id": "11184462984573913715",
                "sync": false,
                "value": 6
               }
              },
              "systemjs_options": null
             },
             "nodeType": "Scope",
             "props": {},
             "type": "node"
            }
           ],
           "instanceArgs": {
            "namespace": "html",
            "tag": "div"
           },
           "nodeType": "DOM",
           "props": {
            "className": "field interact-widget"
           },
           "type": "node"
          }
         ],
         "instanceArgs": {
          "namespace": "html",
          "tag": "div"
         },
         "nodeType": "DOM",
         "props": {
          "style": {
           "display": "flex",
           "flex-direction": "row"
          }
         },
         "type": "node"
        },
        {
         "children": [
          {
           "children": [
            {
             "children": [
              {
               "children": [
                {
                 "children": [
                  {
                   "children": [
                    "grid mixture size"
                   ],
                   "instanceArgs": {
                    "namespace": "html",
                    "tag": "label"
                   },
                   "nodeType": "DOM",
                   "props": {
                    "className": "interact ",
                    "style": {
                     "padding": "5px 10px 0px 10px"
                    }
                   },
                   "type": "node"
                  }
                 ],
                 "instanceArgs": {
                  "namespace": "html",
                  "tag": "div"
                 },
                 "nodeType": "DOM",
                 "props": {
                  "className": "interact-flex-row-left"
                 },
                 "type": "node"
                },
                {
                 "children": [
                  {
                   "children": [],
                   "instanceArgs": {
                    "namespace": "html",
                    "tag": "input"
                   },
                   "nodeType": "DOM",
                   "props": {
                    "attributes": {
                     "data-bind": "numericValue: index, valueUpdate: 'input', event: {change: function (){this.changes(this.changes()+1)}}",
                     "orient": "horizontal",
                     "type": "range"
                    },
                    "className": "slider slider is-fullwidth",
                    "max": 10,
                    "min": 1,
                    "step": 1,
                    "style": {}
                   },
                   "type": "node"
                  }
                 ],
                 "instanceArgs": {
                  "namespace": "html",
                  "tag": "div"
                 },
                 "nodeType": "DOM",
                 "props": {
                  "className": "interact-flex-row-center"
                 },
                 "type": "node"
                },
                {
                 "children": [
                  {
                   "children": [],
                   "instanceArgs": {
                    "namespace": "html",
                    "tag": "p"
                   },
                   "nodeType": "DOM",
                   "props": {
                    "attributes": {
                     "data-bind": "text: formatted_val"
                    }
                   },
                   "type": "node"
                  }
                 ],
                 "instanceArgs": {
                  "namespace": "html",
                  "tag": "div"
                 },
                 "nodeType": "DOM",
                 "props": {
                  "className": "interact-flex-row-right"
                 },
                 "type": "node"
                }
               ],
               "instanceArgs": {
                "namespace": "html",
                "tag": "div"
               },
               "nodeType": "DOM",
               "props": {
                "className": "interact-flex-row interact-widget"
               },
               "type": "node"
              }
             ],
             "instanceArgs": {
              "handlers": {
               "changes": [
                "(function (val){return (val!=this.model[\"changes\"]()) ? (this.valueFromJulia[\"changes\"]=true, this.model[\"changes\"](val)) : undefined})"
               ],
               "index": [
                "(function (val){return (val!=this.model[\"index\"]()) ? (this.valueFromJulia[\"index\"]=true, this.model[\"index\"](val)) : undefined})"
               ]
              },
              "id": "7715312473084220659",
              "imports": {
               "data": [
                {
                 "name": "knockout",
                 "type": "js",
                 "url": "/assetserver/4b78a831658f9469be0fa90a874237d533cfc56e-knockout.js"
                },
                {
                 "name": "knockout_punches",
                 "type": "js",
                 "url": "/assetserver/32cf81589ef7eb25886db6e5be297d237f8599ce-knockout_punches.js"
                },
                {
                 "name": null,
                 "type": "js",
                 "url": "/assetserver/4c861182dd4c5b1a7b80754ca907d70e11c2410c-all.js"
                },
                {
                 "name": null,
                 "type": "css",
                 "url": "/assetserver/55ec2ee389419b72c3c6088bc3fbe3d7187a5fc0-style.css"
                },
                {
                 "name": null,
                 "type": "css",
                 "url": "/assetserver/bb71acf9697a201a164f98e5fab8a4f7b4f82041-bulma_confined.min.css"
                }
               ],
               "type": "async_block"
              },
              "mount_callbacks": [
               "function () {\n    var handler = (function (ko, koPunches) {\n    ko.punches.enableAll();\n    ko.bindingHandlers.numericValue = {\n        init: function(element, valueAccessor, allBindings, data, context) {\n            var stringified = ko.observable(ko.unwrap(valueAccessor()));\n            stringified.subscribe(function(value) {\n                var val = parseFloat(value);\n                if (!isNaN(val)) {\n                    valueAccessor()(val);\n                }\n            });\n            valueAccessor().subscribe(function(value) {\n                var str = JSON.stringify(value);\n                if ((str == \"0\") && ([\"-0\", \"-0.\"].indexOf(stringified()) >= 0))\n                     return;\n                 if ([\"null\", \"\"].indexOf(str) >= 0)\n                     return;\n                stringified(str);\n            });\n            ko.applyBindingsToNode(\n                element,\n                {\n                    value: stringified,\n                    valueUpdate: allBindings.get('valueUpdate'),\n                },\n                context,\n            );\n        }\n    };\n    var json_data = {\"formatted_vals\":[\"1\",\"6\",\"11\",\"16\",\"21\",\"26\",\"31\",\"36\",\"41\",\"46\"],\"changes\":WebIO.getval({\"name\":\"changes\",\"scope\":\"7715312473084220659\",\"id\":\"2240581312514518512\",\"type\":\"observable\"}),\"index\":WebIO.getval({\"name\":\"index\",\"scope\":\"7715312473084220659\",\"id\":\"13378244841300840874\",\"type\":\"observable\"})};\n    var self = this;\n    function AppViewModel() {\n        for (var key in json_data) {\n            var el = json_data[key];\n            this[key] = Array.isArray(el) ? ko.observableArray(el) : ko.observable(el);\n        }\n        \n        [this[\"formatted_val\"]=ko.computed(    function(){\n        return this.formatted_vals()[parseInt(this.index())-(1)];\n    }\n,this)]\n        [this[\"changes\"].subscribe((function (val){!(this.valueFromJulia[\"changes\"]) ? (WebIO.setval({\"name\":\"changes\",\"scope\":\"7715312473084220659\",\"id\":\"2240581312514518512\",\"type\":\"observable\"},val)) : undefined; return this.valueFromJulia[\"changes\"]=false}),self),this[\"index\"].subscribe((function (val){!(this.valueFromJulia[\"index\"]) ? (WebIO.setval({\"name\":\"index\",\"scope\":\"7715312473084220659\",\"id\":\"13378244841300840874\",\"type\":\"observable\"},val)) : undefined; return this.valueFromJulia[\"index\"]=false}),self)]\n        \n    }\n    self.model = new AppViewModel();\n    self.valueFromJulia = {};\n    for (var key in json_data) {\n        self.valueFromJulia[key] = false;\n    }\n    ko.applyBindings(self.model, self.dom);\n}\n);\n    (WebIO.importBlock({\"data\":[{\"name\":\"knockout\",\"type\":\"js\",\"url\":\"/assetserver/4b78a831658f9469be0fa90a874237d533cfc56e-knockout.js\"},{\"name\":\"knockout_punches\",\"type\":\"js\",\"url\":\"/assetserver/32cf81589ef7eb25886db6e5be297d237f8599ce-knockout_punches.js\"}],\"type\":\"async_block\"})).then((imports) => handler.apply(this, imports));\n}\n"
              ],
              "observables": {
               "changes": {
                "id": "2240581312514518512",
                "sync": false,
                "value": 0
               },
               "index": {
                "id": "13378244841300840874",
                "sync": true,
                "value": 5
               }
              },
              "systemjs_options": null
             },
             "nodeType": "Scope",
             "props": {},
             "type": "node"
            }
           ],
           "instanceArgs": {
            "namespace": "html",
            "tag": "div"
           },
           "nodeType": "DOM",
           "props": {
            "className": "field interact-widget"
           },
           "type": "node"
          },
          {
           "children": [
            {
             "children": [
              {
               "children": [
                {
                 "children": [
                  {
                   "children": [
                    "grid s_noise"
                   ],
                   "instanceArgs": {
                    "namespace": "html",
                    "tag": "label"
                   },
                   "nodeType": "DOM",
                   "props": {
                    "className": "interact ",
                    "style": {
                     "padding": "5px 10px 0px 10px"
                    }
                   },
                   "type": "node"
                  }
                 ],
                 "instanceArgs": {
                  "namespace": "html",
                  "tag": "div"
                 },
                 "nodeType": "DOM",
                 "props": {
                  "className": "interact-flex-row-left"
                 },
                 "type": "node"
                },
                {
                 "children": [
                  {
                   "children": [],
                   "instanceArgs": {
                    "namespace": "html",
                    "tag": "input"
                   },
                   "nodeType": "DOM",
                   "props": {
                    "attributes": {
                     "data-bind": "numericValue: index, valueUpdate: 'input', event: {change: function (){this.changes(this.changes()+1)}}",
                     "orient": "horizontal",
                     "type": "range"
                    },
                    "className": "slider slider is-fullwidth",
                    "max": 10,
                    "min": 1,
                    "step": 1,
                    "style": {}
                   },
                   "type": "node"
                  }
                 ],
                 "instanceArgs": {
                  "namespace": "html",
                  "tag": "div"
                 },
                 "nodeType": "DOM",
                 "props": {
                  "className": "interact-flex-row-center"
                 },
                 "type": "node"
                },
                {
                 "children": [
                  {
                   "children": [],
                   "instanceArgs": {
                    "namespace": "html",
                    "tag": "p"
                   },
                   "nodeType": "DOM",
                   "props": {
                    "attributes": {
                     "data-bind": "text: formatted_val"
                    }
                   },
                   "type": "node"
                  }
                 ],
                 "instanceArgs": {
                  "namespace": "html",
                  "tag": "div"
                 },
                 "nodeType": "DOM",
                 "props": {
                  "className": "interact-flex-row-right"
                 },
                 "type": "node"
                }
               ],
               "instanceArgs": {
                "namespace": "html",
                "tag": "div"
               },
               "nodeType": "DOM",
               "props": {
                "className": "interact-flex-row interact-widget"
               },
               "type": "node"
              }
             ],
             "instanceArgs": {
              "handlers": {
               "changes": [
                "(function (val){return (val!=this.model[\"changes\"]()) ? (this.valueFromJulia[\"changes\"]=true, this.model[\"changes\"](val)) : undefined})"
               ],
               "index": [
                "(function (val){return (val!=this.model[\"index\"]()) ? (this.valueFromJulia[\"index\"]=true, this.model[\"index\"](val)) : undefined})"
               ]
              },
              "id": "15745002581873769610",
              "imports": {
               "data": [
                {
                 "name": "knockout",
                 "type": "js",
                 "url": "/assetserver/4b78a831658f9469be0fa90a874237d533cfc56e-knockout.js"
                },
                {
                 "name": "knockout_punches",
                 "type": "js",
                 "url": "/assetserver/32cf81589ef7eb25886db6e5be297d237f8599ce-knockout_punches.js"
                },
                {
                 "name": null,
                 "type": "js",
                 "url": "/assetserver/4c861182dd4c5b1a7b80754ca907d70e11c2410c-all.js"
                },
                {
                 "name": null,
                 "type": "css",
                 "url": "/assetserver/55ec2ee389419b72c3c6088bc3fbe3d7187a5fc0-style.css"
                },
                {
                 "name": null,
                 "type": "css",
                 "url": "/assetserver/bb71acf9697a201a164f98e5fab8a4f7b4f82041-bulma_confined.min.css"
                }
               ],
               "type": "async_block"
              },
              "mount_callbacks": [
               "function () {\n    var handler = (function (ko, koPunches) {\n    ko.punches.enableAll();\n    ko.bindingHandlers.numericValue = {\n        init: function(element, valueAccessor, allBindings, data, context) {\n            var stringified = ko.observable(ko.unwrap(valueAccessor()));\n            stringified.subscribe(function(value) {\n                var val = parseFloat(value);\n                if (!isNaN(val)) {\n                    valueAccessor()(val);\n                }\n            });\n            valueAccessor().subscribe(function(value) {\n                var str = JSON.stringify(value);\n                if ((str == \"0\") && ([\"-0\", \"-0.\"].indexOf(stringified()) >= 0))\n                     return;\n                 if ([\"null\", \"\"].indexOf(str) >= 0)\n                     return;\n                stringified(str);\n            });\n            ko.applyBindingsToNode(\n                element,\n                {\n                    value: stringified,\n                    valueUpdate: allBindings.get('valueUpdate'),\n                },\n                context,\n            );\n        }\n    };\n    var json_data = {\"formatted_vals\":[\"0.01\",\"0.12\",\"0.23\",\"0.34\",\"0.45\",\"0.56\",\"0.67\",\"0.78\",\"0.89\",\"1.0\"],\"changes\":WebIO.getval({\"name\":\"changes\",\"scope\":\"15745002581873769610\",\"id\":\"9088768972522944176\",\"type\":\"observable\"}),\"index\":WebIO.getval({\"name\":\"index\",\"scope\":\"15745002581873769610\",\"id\":\"9660000643211677619\",\"type\":\"observable\"})};\n    var self = this;\n    function AppViewModel() {\n        for (var key in json_data) {\n            var el = json_data[key];\n            this[key] = Array.isArray(el) ? ko.observableArray(el) : ko.observable(el);\n        }\n        \n        [this[\"formatted_val\"]=ko.computed(    function(){\n        return this.formatted_vals()[parseInt(this.index())-(1)];\n    }\n,this)]\n        [this[\"changes\"].subscribe((function (val){!(this.valueFromJulia[\"changes\"]) ? (WebIO.setval({\"name\":\"changes\",\"scope\":\"15745002581873769610\",\"id\":\"9088768972522944176\",\"type\":\"observable\"},val)) : undefined; return this.valueFromJulia[\"changes\"]=false}),self),this[\"index\"].subscribe((function (val){!(this.valueFromJulia[\"index\"]) ? (WebIO.setval({\"name\":\"index\",\"scope\":\"15745002581873769610\",\"id\":\"9660000643211677619\",\"type\":\"observable\"},val)) : undefined; return this.valueFromJulia[\"index\"]=false}),self)]\n        \n    }\n    self.model = new AppViewModel();\n    self.valueFromJulia = {};\n    for (var key in json_data) {\n        self.valueFromJulia[key] = false;\n    }\n    ko.applyBindings(self.model, self.dom);\n}\n);\n    (WebIO.importBlock({\"data\":[{\"name\":\"knockout\",\"type\":\"js\",\"url\":\"/assetserver/4b78a831658f9469be0fa90a874237d533cfc56e-knockout.js\"},{\"name\":\"knockout_punches\",\"type\":\"js\",\"url\":\"/assetserver/32cf81589ef7eb25886db6e5be297d237f8599ce-knockout_punches.js\"}],\"type\":\"async_block\"})).then((imports) => handler.apply(this, imports));\n}\n"
              ],
              "observables": {
               "changes": {
                "id": "9088768972522944176",
                "sync": false,
                "value": 0
               },
               "index": {
                "id": "9660000643211677619",
                "sync": true,
                "value": 5
               }
              },
              "systemjs_options": null
             },
             "nodeType": "Scope",
             "props": {},
             "type": "node"
            }
           ],
           "instanceArgs": {
            "namespace": "html",
            "tag": "div"
           },
           "nodeType": "DOM",
           "props": {
            "className": "field interact-widget"
           },
           "type": "node"
          }
         ],
         "instanceArgs": {
          "namespace": "html",
          "tag": "div"
         },
         "nodeType": "DOM",
         "props": {
          "style": {
           "display": "flex",
           "flex-direction": "row"
          }
         },
         "type": "node"
        },
        {
         "children": [
          {
           "children": [],
           "instanceArgs": {
            "namespace": "html",
            "tag": "div"
           },
           "nodeType": "DOM",
           "props": {
            "className": "webio-observable",
            "setInnerHtml": "<img src=\"data:image/gif;base64,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\" />"
           },
           "type": "node"
          }
         ],
         "instanceArgs": {
          "handlers": {
           "obs-output": [
            "function (value, scope) {\n    scope.setInnerHTML(value);\n}\n"
           ]
          },
          "id": "3554768631986039767",
          "imports": {
           "data": [],
           "type": "async_block"
          },
          "mount_callbacks": [],
          "observables": {
           "obs-output": {
            "id": "11918062071339859998",
            "sync": false,
            "value": "<img src=\"data:image/gif;base64,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\" />"
           }
          },
          "systemjs_options": null
         },
         "nodeType": "Scope",
         "props": {},
         "type": "node"
        }
       ],
       "instanceArgs": {
        "namespace": "html",
        "tag": "div"
       },
       "nodeType": "DOM",
       "props": {
        "style": {
         "display": "flex",
         "flex-direction": "column"
        }
       },
       "type": "node"
      },
      "text/html": [
       "<div\n",
       "    class=\"webio-mountpoint\"\n",
       "    data-webio-mountpoint=\"15276704478541513509\"\n",
       ">\n",
       "    <script>\n",
       "    (function(){\n",
       "    // Some integrations (namely, IJulia/Jupyter) use an alternate render pathway than\n",
       "    // just putting the html on the page. If WebIO isn't defined, then it's pretty likely\n",
       "    // that we're in one of those situations and the integration just isn't installed\n",
       "    // correctly.\n",
       "    if (typeof window.WebIO === \"undefined\") {\n",
       "        document\n",
       "            .querySelector('[data-webio-mountpoint=\"15276704478541513509\"]')\n",
       "            .innerHTML = (\n",
       "                '<div style=\"padding: 1em; background-color: #f8d6da; border: 1px solid #f5c6cb; font-weight: bold;\">' +\n",
       "                '<p><strong>WebIO not detected.</strong></p>' +\n",
       "                '<p>Please read ' +\n",
       "                '<a href=\"https://juliagizmos.github.io/WebIO.jl/latest/troubleshooting/not-detected/\" target=\"_blank\">the troubleshooting guide</a> ' +\n",
       "                'for more information on how to resolve this issue.</p>' +\n",
       "                '<p><a href=\"https://juliagizmos.github.io/WebIO.jl/latest/troubleshooting/not-detected/\" target=\"_blank\">https://juliagizmos.github.io/WebIO.jl/latest/troubleshooting/not-detected/</a></p>' +\n",
       "                '</div>'\n",
       "            );\n",
       "        return;\n",
       "    }\n",
       "    WebIO.mount(\n",
       "        document.querySelector('[data-webio-mountpoint=\"15276704478541513509\"]'),\n",
       "        {\"props\":{\"style\":{\"display\":\"flex\",\"flex-direction\":\"column\"}},\"nodeType\":\"DOM\",\"type\":\"node\",\"instanceArgs\":{\"namespace\":\"html\",\"tag\":\"div\"},\"children\":[{\"props\":{\"style\":{\"padding\":\"0.1em\"}},\"nodeType\":\"DOM\",\"type\":\"node\",\"instanceArgs\":{\"namespace\":\"html\",\"tag\":\"div\"},\"children\":[{\"props\":{\"className\":\"field interact-widget\"},\"nodeType\":\"DOM\",\"type\":\"node\",\"instanceArgs\":{\"namespace\":\"html\",\"tag\":\"div\"},\"children\":[{\"props\":{},\"nodeType\":\"Scope\",\"type\":\"node\",\"instanceArgs\":{\"imports\":{\"data\":[{\"name\":\"knockout\",\"type\":\"js\",\"url\":\"\\/assetserver\\/4b78a831658f9469be0fa90a874237d533cfc56e-knockout.js\"},{\"name\":\"knockout_punches\",\"type\":\"js\",\"url\":\"\\/assetserver\\/32cf81589ef7eb25886db6e5be297d237f8599ce-knockout_punches.js\"},{\"name\":null,\"type\":\"js\",\"url\":\"\\/assetserver\\/4c861182dd4c5b1a7b80754ca907d70e11c2410c-all.js\"},{\"name\":null,\"type\":\"css\",\"url\":\"\\/assetserver\\/55ec2ee389419b72c3c6088bc3fbe3d7187a5fc0-style.css\"},{\"name\":null,\"type\":\"css\",\"url\":\"\\/assetserver\\/bb71acf9697a201a164f98e5fab8a4f7b4f82041-bulma_confined.min.css\"}],\"type\":\"async_block\"},\"id\":\"10223739802934581850\",\"handlers\":{\"loading\":[\"(function (val){return (val!=this.model[\\\"loading\\\"]()) ? (this.valueFromJulia[\\\"loading\\\"]=true, this.model[\\\"loading\\\"](val)) : undefined})\"],\"clicks\":[\"(function (val){return (val!=this.model[\\\"clicks\\\"]()) ? (this.valueFromJulia[\\\"clicks\\\"]=true, this.model[\\\"clicks\\\"](val)) : undefined})\"]},\"systemjs_options\":null,\"mount_callbacks\":[\"function () {\\n    var handler = (function (ko, koPunches) {\\n    ko.punches.enableAll();\\n    ko.bindingHandlers.numericValue = {\\n        init: function(element, valueAccessor, allBindings, data, context) {\\n            var stringified = ko.observable(ko.unwrap(valueAccessor()));\\n            stringified.subscribe(function(value) {\\n                var val = parseFloat(value);\\n                if (!isNaN(val)) {\\n                    valueAccessor()(val);\\n                }\\n            });\\n            valueAccessor().subscribe(function(value) {\\n                var str = JSON.stringify(value);\\n                if ((str == \\\"0\\\") && ([\\\"-0\\\", \\\"-0.\\\"].indexOf(stringified()) >= 0))\\n                     return;\\n                 if ([\\\"null\\\", \\\"\\\"].indexOf(str) >= 0)\\n                     return;\\n                stringified(str);\\n            });\\n            ko.applyBindingsToNode(\\n                element,\\n                {\\n                    value: stringified,\\n                    valueUpdate: allBindings.get('valueUpdate'),\\n                },\\n                context,\\n            );\\n        }\\n    };\\n    var json_data = {\\\"loading\\\":WebIO.getval({\\\"name\\\":\\\"loading\\\",\\\"scope\\\":\\\"10223739802934581850\\\",\\\"id\\\":\\\"13149978056255441249\\\",\\\"type\\\":\\\"observable\\\"}),\\\"clicks\\\":WebIO.getval({\\\"name\\\":\\\"clicks\\\",\\\"scope\\\":\\\"10223739802934581850\\\",\\\"id\\\":\\\"10786020524047741378\\\",\\\"type\\\":\\\"observable\\\"})};\\n    var self = this;\\n    function AppViewModel() {\\n        for (var key in json_data) {\\n            var el = json_data[key];\\n            this[key] = Array.isArray(el) ? ko.observableArray(el) : ko.observable(el);\\n        }\\n        \\n        \\n        [this[\\\"loading\\\"].subscribe((function (val){!(this.valueFromJulia[\\\"loading\\\"]) ? (WebIO.setval({\\\"name\\\":\\\"loading\\\",\\\"scope\\\":\\\"10223739802934581850\\\",\\\"id\\\":\\\"13149978056255441249\\\",\\\"type\\\":\\\"observable\\\"},val)) : undefined; return this.valueFromJulia[\\\"loading\\\"]=false}),self),this[\\\"clicks\\\"].subscribe((function (val){!(this.valueFromJulia[\\\"clicks\\\"]) ? (WebIO.setval({\\\"name\\\":\\\"clicks\\\",\\\"scope\\\":\\\"10223739802934581850\\\",\\\"id\\\":\\\"10786020524047741378\\\",\\\"type\\\":\\\"observable\\\"},val)) : undefined; return this.valueFromJulia[\\\"clicks\\\"]=false}),self)]\\n        \\n    }\\n    self.model = new AppViewModel();\\n    self.valueFromJulia = {};\\n    for (var key in json_data) {\\n        self.valueFromJulia[key] = false;\\n    }\\n    ko.applyBindings(self.model, self.dom);\\n}\\n);\\n    (WebIO.importBlock({\\\"data\\\":[{\\\"name\\\":\\\"knockout\\\",\\\"type\\\":\\\"js\\\",\\\"url\\\":\\\"\\/assetserver\\/4b78a831658f9469be0fa90a874237d533cfc56e-knockout.js\\\"},{\\\"name\\\":\\\"knockout_punches\\\",\\\"type\\\":\\\"js\\\",\\\"url\\\":\\\"\\/assetserver\\/32cf81589ef7eb25886db6e5be297d237f8599ce-knockout_punches.js\\\"}],\\\"type\\\":\\\"async_block\\\"})).then((imports) => handler.apply(this, imports));\\n}\\n\"],\"observables\":{\"loading\":{\"sync\":false,\"id\":\"13149978056255441249\",\"value\":false},\"clicks\":{\"sync\":true,\"id\":\"10786020524047741378\",\"value\":0}}},\"children\":[{\"props\":{\"attributes\":{\"data-bind\":\"click: function (){this.clicks(this.clicks()+1)}, css: {'is-loading' : loading}\"},\"className\":\"is-medium button is-primary\",\"style\":{}},\"nodeType\":\"DOM\",\"type\":\"node\",\"instanceArgs\":{\"namespace\":\"html\",\"tag\":\"button\"},\"children\":[\"Sample and Re-draw\"]}]}]}]},{\"props\":{\"style\":{\"padding\":\"0.1em\"}},\"nodeType\":\"DOM\",\"type\":\"node\",\"instanceArgs\":{\"namespace\":\"html\",\"tag\":\"div\"},\"children\":[{\"props\":{\"className\":\"field interact-widget\"},\"nodeType\":\"DOM\",\"type\":\"node\",\"instanceArgs\":{\"namespace\":\"html\",\"tag\":\"div\"},\"children\":[{\"props\":{},\"nodeType\":\"Scope\",\"type\":\"node\",\"instanceArgs\":{\"imports\":{\"data\":[{\"name\":\"knockout\",\"type\":\"js\",\"url\":\"\\/assetserver\\/4b78a831658f9469be0fa90a874237d533cfc56e-knockout.js\"},{\"name\":\"knockout_punches\",\"type\":\"js\",\"url\":\"\\/assetserver\\/32cf81589ef7eb25886db6e5be297d237f8599ce-knockout_punches.js\"},{\"name\":null,\"type\":\"js\",\"url\":\"\\/assetserver\\/4c861182dd4c5b1a7b80754ca907d70e11c2410c-all.js\"},{\"name\":null,\"type\":\"css\",\"url\":\"\\/assetserver\\/55ec2ee389419b72c3c6088bc3fbe3d7187a5fc0-style.css\"},{\"name\":null,\"type\":\"css\",\"url\":\"\\/assetserver\\/bb71acf9697a201a164f98e5fab8a4f7b4f82041-bulma_confined.min.css\"}],\"type\":\"async_block\"},\"id\":\"5411905980548130807\",\"handlers\":{\"loading\":[\"(function (val){return (val!=this.model[\\\"loading\\\"]()) ? (this.valueFromJulia[\\\"loading\\\"]=true, this.model[\\\"loading\\\"](val)) : undefined})\"],\"clicks\":[\"(function (val){return (val!=this.model[\\\"clicks\\\"]()) ? (this.valueFromJulia[\\\"clicks\\\"]=true, this.model[\\\"clicks\\\"](val)) : undefined})\"]},\"systemjs_options\":null,\"mount_callbacks\":[\"function () {\\n    var handler = (function (ko, koPunches) {\\n    ko.punches.enableAll();\\n    ko.bindingHandlers.numericValue = {\\n        init: function(element, valueAccessor, allBindings, data, context) {\\n            var stringified = ko.observable(ko.unwrap(valueAccessor()));\\n            stringified.subscribe(function(value) {\\n                var val = parseFloat(value);\\n                if (!isNaN(val)) {\\n                    valueAccessor()(val);\\n                }\\n            });\\n            valueAccessor().subscribe(function(value) {\\n                var str = JSON.stringify(value);\\n                if ((str == \\\"0\\\") && ([\\\"-0\\\", \\\"-0.\\\"].indexOf(stringified()) >= 0))\\n                     return;\\n                 if ([\\\"null\\\", \\\"\\\"].indexOf(str) >= 0)\\n                     return;\\n                stringified(str);\\n            });\\n            ko.applyBindingsToNode(\\n                element,\\n                {\\n                    value: stringified,\\n                    valueUpdate: allBindings.get('valueUpdate'),\\n                },\\n                context,\\n            );\\n        }\\n    };\\n    var json_data = {\\\"loading\\\":WebIO.getval({\\\"name\\\":\\\"loading\\\",\\\"scope\\\":\\\"5411905980548130807\\\",\\\"id\\\":\\\"14934272478045851338\\\",\\\"type\\\":\\\"observable\\\"}),\\\"clicks\\\":WebIO.getval({\\\"name\\\":\\\"clicks\\\",\\\"scope\\\":\\\"5411905980548130807\\\",\\\"id\\\":\\\"12195547783877657272\\\",\\\"type\\\":\\\"observable\\\"})};\\n    var self = this;\\n    function AppViewModel() {\\n        for (var key in json_data) {\\n            var el = json_data[key];\\n            this[key] = Array.isArray(el) ? ko.observableArray(el) : ko.observable(el);\\n        }\\n        \\n        \\n        [this[\\\"loading\\\"].subscribe((function (val){!(this.valueFromJulia[\\\"loading\\\"]) ? (WebIO.setval({\\\"name\\\":\\\"loading\\\",\\\"scope\\\":\\\"5411905980548130807\\\",\\\"id\\\":\\\"14934272478045851338\\\",\\\"type\\\":\\\"observable\\\"},val)) : undefined; return this.valueFromJulia[\\\"loading\\\"]=false}),self),this[\\\"clicks\\\"].subscribe((function (val){!(this.valueFromJulia[\\\"clicks\\\"]) ? (WebIO.setval({\\\"name\\\":\\\"clicks\\\",\\\"scope\\\":\\\"5411905980548130807\\\",\\\"id\\\":\\\"12195547783877657272\\\",\\\"type\\\":\\\"observable\\\"},val)) : undefined; return this.valueFromJulia[\\\"clicks\\\"]=false}),self)]\\n        \\n    }\\n    self.model = new AppViewModel();\\n    self.valueFromJulia = {};\\n    for (var key in json_data) {\\n        self.valueFromJulia[key] = false;\\n    }\\n    ko.applyBindings(self.model, self.dom);\\n}\\n);\\n    (WebIO.importBlock({\\\"data\\\":[{\\\"name\\\":\\\"knockout\\\",\\\"type\\\":\\\"js\\\",\\\"url\\\":\\\"\\/assetserver\\/4b78a831658f9469be0fa90a874237d533cfc56e-knockout.js\\\"},{\\\"name\\\":\\\"knockout_punches\\\",\\\"type\\\":\\\"js\\\",\\\"url\\\":\\\"\\/assetserver\\/32cf81589ef7eb25886db6e5be297d237f8599ce-knockout_punches.js\\\"}],\\\"type\\\":\\\"async_block\\\"})).then((imports) => handler.apply(this, imports));\\n}\\n\"],\"observables\":{\"loading\":{\"sync\":false,\"id\":\"14934272478045851338\",\"value\":false},\"clicks\":{\"sync\":true,\"id\":\"12195547783877657272\",\"value\":0}}},\"children\":[{\"props\":{\"attributes\":{\"data-bind\":\"click: function (){this.clicks(this.clicks()+1)}, css: {'is-loading' : loading}\"},\"className\":\"is-medium button is-primary\",\"style\":{}},\"nodeType\":\"DOM\",\"type\":\"node\",\"instanceArgs\":{\"namespace\":\"html\",\"tag\":\"button\"},\"children\":[\"Sample Controls\"]}]}]}]},{\"props\":{\"style\":{\"display\":\"flex\",\"flex-direction\":\"column\"}},\"nodeType\":\"DOM\",\"type\":\"node\",\"instanceArgs\":{\"namespace\":\"html\",\"tag\":\"div\"},\"children\":[{\"props\":{\"className\":\"interact-widget\"},\"nodeType\":\"DOM\",\"type\":\"node\",\"instanceArgs\":{\"namespace\":\"html\",\"tag\":\"div\"},\"children\":[{\"props\":{},\"nodeType\":\"Scope\",\"type\":\"node\",\"instanceArgs\":{\"imports\":{\"data\":[{\"name\":\"knockout\",\"type\":\"js\",\"url\":\"\\/assetserver\\/4b78a831658f9469be0fa90a874237d533cfc56e-knockout.js\"},{\"name\":\"knockout_punches\",\"type\":\"js\",\"url\":\"\\/assetserver\\/32cf81589ef7eb25886db6e5be297d237f8599ce-knockout_punches.js\"},{\"name\":null,\"type\":\"js\",\"url\":\"\\/assetserver\\/4c861182dd4c5b1a7b80754ca907d70e11c2410c-all.js\"},{\"name\":null,\"type\":\"css\",\"url\":\"\\/assetserver\\/55ec2ee389419b72c3c6088bc3fbe3d7187a5fc0-style.css\"},{\"name\":null,\"type\":\"css\",\"url\":\"\\/assetserver\\/bb71acf9697a201a164f98e5fab8a4f7b4f82041-bulma_confined.min.css\"}],\"type\":\"async_block\"},\"id\":\"17843173907424912710\",\"handlers\":{\"options_js\":[\"(function (val){return (val!=this.model[\\\"options_js\\\"]()) ? (this.valueFromJulia[\\\"options_js\\\"]=true, this.model[\\\"options_js\\\"](val)) : undefined})\"],\"index\":[\"(function (val){return (val!=this.model[\\\"index\\\"]()) ? (this.valueFromJulia[\\\"index\\\"]=true, this.model[\\\"index\\\"](val)) : undefined})\"]},\"systemjs_options\":null,\"mount_callbacks\":[\"function () {\\n    var handler = (function (ko, koPunches) {\\n    ko.punches.enableAll();\\n    ko.bindingHandlers.numericValue = {\\n        init: function(element, valueAccessor, allBindings, data, context) {\\n            var stringified = ko.observable(ko.unwrap(valueAccessor()));\\n            stringified.subscribe(function(value) {\\n                var val = parseFloat(value);\\n                if (!isNaN(val)) {\\n                    valueAccessor()(val);\\n                }\\n            });\\n            valueAccessor().subscribe(function(value) {\\n                var str = JSON.stringify(value);\\n                if ((str == \\\"0\\\") && ([\\\"-0\\\", \\\"-0.\\\"].indexOf(stringified()) >= 0))\\n                     return;\\n                 if ([\\\"null\\\", \\\"\\\"].indexOf(str) >= 0)\\n                     return;\\n                stringified(str);\\n            });\\n            ko.applyBindingsToNode(\\n                element,\\n                {\\n                    value: stringified,\\n                    valueUpdate: allBindings.get('valueUpdate'),\\n                },\\n                context,\\n            );\\n        }\\n    };\\n    var json_data = {\\\"options_js\\\":WebIO.getval({\\\"name\\\":\\\"options_js\\\",\\\"scope\\\":\\\"17843173907424912710\\\",\\\"id\\\":\\\"5221415419788480891\\\",\\\"type\\\":\\\"observable\\\"}),\\\"index\\\":WebIO.getval({\\\"name\\\":\\\"index\\\",\\\"scope\\\":\\\"17843173907424912710\\\",\\\"id\\\":\\\"6793295226617048397\\\",\\\"type\\\":\\\"observable\\\"})};\\n    var self = this;\\n    function AppViewModel() {\\n        for (var key in json_data) {\\n            var el = json_data[key];\\n            this[key] = Array.isArray(el) ? ko.observableArray(el) : ko.observable(el);\\n        }\\n        [this[\\\"update\\\"]=function (val) {this.index(val)}]\\n        \\n        [this[\\\"options_js\\\"].subscribe((function (val){!(this.valueFromJulia[\\\"options_js\\\"]) ? (WebIO.setval({\\\"name\\\":\\\"options_js\\\",\\\"scope\\\":\\\"17843173907424912710\\\",\\\"id\\\":\\\"5221415419788480891\\\",\\\"type\\\":\\\"observable\\\"},val)) : undefined; return this.valueFromJulia[\\\"options_js\\\"]=false}),self),this[\\\"index\\\"].subscribe((function (val){!(this.valueFromJulia[\\\"index\\\"]) ? (WebIO.setval({\\\"name\\\":\\\"index\\\",\\\"scope\\\":\\\"17843173907424912710\\\",\\\"id\\\":\\\"6793295226617048397\\\",\\\"type\\\":\\\"observable\\\"},val)) : undefined; return this.valueFromJulia[\\\"index\\\"]=false}),self)]\\n        \\n    }\\n    self.model = new AppViewModel();\\n    self.valueFromJulia = {};\\n    for (var key in json_data) {\\n        self.valueFromJulia[key] = false;\\n    }\\n    ko.applyBindings(self.model, self.dom);\\n}\\n);\\n    (WebIO.importBlock({\\\"data\\\":[{\\\"name\\\":\\\"knockout\\\",\\\"type\\\":\\\"js\\\",\\\"url\\\":\\\"\\/assetserver\\/4b78a831658f9469be0fa90a874237d533cfc56e-knockout.js\\\"},{\\\"name\\\":\\\"knockout_punches\\\",\\\"type\\\":\\\"js\\\",\\\"url\\\":\\\"\\/assetserver\\/32cf81589ef7eb25886db6e5be297d237f8599ce-knockout_punches.js\\\"}],\\\"type\\\":\\\"async_block\\\"})).then((imports) => handler.apply(this, imports));\\n}\\n\"],\"observables\":{\"options_js\":{\"sync\":false,\"id\":\"5221415419788480891\",\"value\":[{\"key\":\"naive\",\"val\":1,\"id\":\"idRfEbUEhr\"},{\"key\":\"pf\",\"val\":2,\"id\":\"idWD73svbg\"},{\"key\":\"smc\",\"val\":3,\"id\":\"idfMbhP9ju\"}]},\"index\":{\"sync\":true,\"id\":\"6793295226617048397\",\"value\":1}}},\"children\":[{\"props\":{\"attributes\":{\"data-bind\":\"foreach : options_js\"},\"className\":\"buttons has-addons is-centered\"},\"nodeType\":\"DOM\",\"type\":\"node\",\"instanceArgs\":{\"namespace\":\"html\",\"tag\":\"div\"},\"children\":[{\"props\":{\"attributes\":{\"data-bind\":\"click: function (){$root.update(val)}, css: {'is-primary is-selected' : $root.index() == val, 'interact-widget is-medium button ' : true}\"}},\"nodeType\":\"DOM\",\"type\":\"node\",\"instanceArgs\":{\"namespace\":\"html\",\"tag\":\"span\"},\"children\":[{\"props\":{\"attributes\":{\"data-bind\":\"text : key\"}},\"nodeType\":\"DOM\",\"type\":\"node\",\"instanceArgs\":{\"namespace\":\"html\",\"tag\":\"label\"},\"children\":[]}]}]}]}]}]},{\"props\":{\"style\":{\"display\":\"flex\",\"flex-direction\":\"column\"}},\"nodeType\":\"DOM\",\"type\":\"node\",\"instanceArgs\":{\"namespace\":\"html\",\"tag\":\"div\"},\"children\":[{\"props\":{\"className\":\"field interact-widget\"},\"nodeType\":\"DOM\",\"type\":\"node\",\"instanceArgs\":{\"namespace\":\"html\",\"tag\":\"div\"},\"children\":[{\"props\":{},\"nodeType\":\"Scope\",\"type\":\"node\",\"instanceArgs\":{\"imports\":{\"data\":[{\"name\":\"knockout\",\"type\":\"js\",\"url\":\"\\/assetserver\\/4b78a831658f9469be0fa90a874237d533cfc56e-knockout.js\"},{\"name\":\"knockout_punches\",\"type\":\"js\",\"url\":\"\\/assetserver\\/32cf81589ef7eb25886db6e5be297d237f8599ce-knockout_punches.js\"},{\"name\":null,\"type\":\"js\",\"url\":\"\\/assetserver\\/4c861182dd4c5b1a7b80754ca907d70e11c2410c-all.js\"},{\"name\":null,\"type\":\"css\",\"url\":\"\\/assetserver\\/55ec2ee389419b72c3c6088bc3fbe3d7187a5fc0-style.css\"},{\"name\":null,\"type\":\"css\",\"url\":\"\\/assetserver\\/bb71acf9697a201a164f98e5fab8a4f7b4f82041-bulma_confined.min.css\"}],\"type\":\"async_block\"},\"id\":\"12380307129531368019\",\"handlers\":{\"changes\":[\"(function (val){return (val!=this.model[\\\"changes\\\"]()) ? (this.valueFromJulia[\\\"changes\\\"]=true, this.model[\\\"changes\\\"](val)) : undefined})\"],\"value\":[\"(function (val){return (val!=this.model[\\\"value\\\"]()) ? (this.valueFromJulia[\\\"value\\\"]=true, this.model[\\\"value\\\"](val)) : undefined})\"]},\"systemjs_options\":null,\"mount_callbacks\":[\"function () {\\n    var handler = (function (ko, koPunches) {\\n    ko.punches.enableAll();\\n    ko.bindingHandlers.numericValue = {\\n        init: function(element, valueAccessor, allBindings, data, context) {\\n            var stringified = ko.observable(ko.unwrap(valueAccessor()));\\n            stringified.subscribe(function(value) {\\n                var val = parseFloat(value);\\n                if (!isNaN(val)) {\\n                    valueAccessor()(val);\\n                }\\n            });\\n            valueAccessor().subscribe(function(value) {\\n                var str = JSON.stringify(value);\\n                if ((str == \\\"0\\\") && ([\\\"-0\\\", \\\"-0.\\\"].indexOf(stringified()) >= 0))\\n                     return;\\n                 if ([\\\"null\\\", \\\"\\\"].indexOf(str) >= 0)\\n                     return;\\n                stringified(str);\\n            });\\n            ko.applyBindingsToNode(\\n                element,\\n                {\\n                    value: stringified,\\n                    valueUpdate: allBindings.get('valueUpdate'),\\n                },\\n                context,\\n            );\\n        }\\n    };\\n    var json_data = {\\\"changes\\\":WebIO.getval({\\\"name\\\":\\\"changes\\\",\\\"scope\\\":\\\"12380307129531368019\\\",\\\"id\\\":\\\"7961152437597149269\\\",\\\"type\\\":\\\"observable\\\"}),\\\"value\\\":WebIO.getval({\\\"name\\\":\\\"value\\\",\\\"scope\\\":\\\"12380307129531368019\\\",\\\"id\\\":\\\"6812731882257082043\\\",\\\"type\\\":\\\"observable\\\"})};\\n    var self = this;\\n    function AppViewModel() {\\n        for (var key in json_data) {\\n            var el = json_data[key];\\n            this[key] = Array.isArray(el) ? ko.observableArray(el) : ko.observable(el);\\n        }\\n        \\n        \\n        [this[\\\"changes\\\"].subscribe((function (val){!(this.valueFromJulia[\\\"changes\\\"]) ? (WebIO.setval({\\\"name\\\":\\\"changes\\\",\\\"scope\\\":\\\"12380307129531368019\\\",\\\"id\\\":\\\"7961152437597149269\\\",\\\"type\\\":\\\"observable\\\"},val)) : undefined; return this.valueFromJulia[\\\"changes\\\"]=false}),self),this[\\\"value\\\"].subscribe((function (val){!(this.valueFromJulia[\\\"value\\\"]) ? (WebIO.setval({\\\"name\\\":\\\"value\\\",\\\"scope\\\":\\\"12380307129531368019\\\",\\\"id\\\":\\\"6812731882257082043\\\",\\\"type\\\":\\\"observable\\\"},val)) : undefined; return this.valueFromJulia[\\\"value\\\"]=false}),self)]\\n        \\n    }\\n    self.model = new AppViewModel();\\n    self.valueFromJulia = {};\\n    for (var key in json_data) {\\n        self.valueFromJulia[key] = false;\\n    }\\n    ko.applyBindings(self.model, self.dom);\\n}\\n);\\n    (WebIO.importBlock({\\\"data\\\":[{\\\"name\\\":\\\"knockout\\\",\\\"type\\\":\\\"js\\\",\\\"url\\\":\\\"\\/assetserver\\/4b78a831658f9469be0fa90a874237d533cfc56e-knockout.js\\\"},{\\\"name\\\":\\\"knockout_punches\\\",\\\"type\\\":\\\"js\\\",\\\"url\\\":\\\"\\/assetserver\\/32cf81589ef7eb25886db6e5be297d237f8599ce-knockout_punches.js\\\"}],\\\"type\\\":\\\"async_block\\\"})).then((imports) => handler.apply(this, imports));\\n}\\n\"],\"observables\":{\"changes\":{\"sync\":false,\"id\":\"7961152437597149269\",\"value\":0},\"value\":{\"sync\":false,\"id\":\"6812731882257082043\",\"value\":false}}},\"children\":[{\"props\":{\"className\":\"field interact-widget\"},\"nodeType\":\"DOM\",\"type\":\"node\",\"instanceArgs\":{\"namespace\":\"html\",\"tag\":\"div\"},\"children\":[{\"props\":{\"attributes\":{\"type\":\"checkbox\",\"data-bind\":\"checked: value, valueUpdate: 'change', event: {change: function (){this.changes(this.changes()+1)}}\"},\"id\":\"##1366\",\"className\":\"switch \",\"style\":{}},\"nodeType\":\"DOM\",\"type\":\"node\",\"instanceArgs\":{\"namespace\":\"html\",\"tag\":\"input\"},\"children\":[]},{\"props\":{\"attributes\":{\"className\":\"\",\"for\":\"##1366\"}},\"nodeType\":\"DOM\",\"type\":\"node\",\"instanceArgs\":{\"namespace\":\"html\",\"tag\":\"label\"},\"children\":[\"show u\"]}]}]}]},{\"props\":{\"className\":\"field interact-widget\"},\"nodeType\":\"DOM\",\"type\":\"node\",\"instanceArgs\":{\"namespace\":\"html\",\"tag\":\"div\"},\"children\":[{\"props\":{},\"nodeType\":\"Scope\",\"type\":\"node\",\"instanceArgs\":{\"imports\":{\"data\":[{\"name\":\"knockout\",\"type\":\"js\",\"url\":\"\\/assetserver\\/4b78a831658f9469be0fa90a874237d533cfc56e-knockout.js\"},{\"name\":\"knockout_punches\",\"type\":\"js\",\"url\":\"\\/assetserver\\/32cf81589ef7eb25886db6e5be297d237f8599ce-knockout_punches.js\"},{\"name\":null,\"type\":\"js\",\"url\":\"\\/assetserver\\/4c861182dd4c5b1a7b80754ca907d70e11c2410c-all.js\"},{\"name\":null,\"type\":\"css\",\"url\":\"\\/assetserver\\/55ec2ee389419b72c3c6088bc3fbe3d7187a5fc0-style.css\"},{\"name\":null,\"type\":\"css\",\"url\":\"\\/assetserver\\/bb71acf9697a201a164f98e5fab8a4f7b4f82041-bulma_confined.min.css\"}],\"type\":\"async_block\"},\"id\":\"6729162845153156250\",\"handlers\":{\"changes\":[\"(function (val){return (val!=this.model[\\\"changes\\\"]()) ? (this.valueFromJulia[\\\"changes\\\"]=true, this.model[\\\"changes\\\"](val)) : undefined})\"],\"value\":[\"(function (val){return (val!=this.model[\\\"value\\\"]()) ? (this.valueFromJulia[\\\"value\\\"]=true, this.model[\\\"value\\\"](val)) : undefined})\"]},\"systemjs_options\":null,\"mount_callbacks\":[\"function () {\\n    var handler = (function (ko, koPunches) {\\n    ko.punches.enableAll();\\n    ko.bindingHandlers.numericValue = {\\n        init: function(element, valueAccessor, allBindings, data, context) {\\n            var stringified = ko.observable(ko.unwrap(valueAccessor()));\\n            stringified.subscribe(function(value) {\\n                var val = parseFloat(value);\\n                if (!isNaN(val)) {\\n                    valueAccessor()(val);\\n                }\\n            });\\n            valueAccessor().subscribe(function(value) {\\n                var str = JSON.stringify(value);\\n                if ((str == \\\"0\\\") && ([\\\"-0\\\", \\\"-0.\\\"].indexOf(stringified()) >= 0))\\n                     return;\\n                 if ([\\\"null\\\", \\\"\\\"].indexOf(str) >= 0)\\n                     return;\\n                stringified(str);\\n            });\\n            ko.applyBindingsToNode(\\n                element,\\n                {\\n                    value: stringified,\\n                    valueUpdate: allBindings.get('valueUpdate'),\\n                },\\n                context,\\n            );\\n        }\\n    };\\n    var json_data = {\\\"changes\\\":WebIO.getval({\\\"name\\\":\\\"changes\\\",\\\"scope\\\":\\\"6729162845153156250\\\",\\\"id\\\":\\\"6935618120618874063\\\",\\\"type\\\":\\\"observable\\\"}),\\\"value\\\":WebIO.getval({\\\"name\\\":\\\"value\\\",\\\"scope\\\":\\\"6729162845153156250\\\",\\\"id\\\":\\\"15975314064372207767\\\",\\\"type\\\":\\\"observable\\\"})};\\n    var self = this;\\n    function AppViewModel() {\\n        for (var key in json_data) {\\n            var el = json_data[key];\\n            this[key] = Array.isArray(el) ? ko.observableArray(el) : ko.observable(el);\\n        }\\n        \\n        \\n        [this[\\\"changes\\\"].subscribe((function (val){!(this.valueFromJulia[\\\"changes\\\"]) ? (WebIO.setval({\\\"name\\\":\\\"changes\\\",\\\"scope\\\":\\\"6729162845153156250\\\",\\\"id\\\":\\\"6935618120618874063\\\",\\\"type\\\":\\\"observable\\\"},val)) : undefined; return this.valueFromJulia[\\\"changes\\\"]=false}),self),this[\\\"value\\\"].subscribe((function (val){!(this.valueFromJulia[\\\"value\\\"]) ? (WebIO.setval({\\\"name\\\":\\\"value\\\",\\\"scope\\\":\\\"6729162845153156250\\\",\\\"id\\\":\\\"15975314064372207767\\\",\\\"type\\\":\\\"observable\\\"},val)) : undefined; return this.valueFromJulia[\\\"value\\\"]=false}),self)]\\n        \\n    }\\n    self.model = new AppViewModel();\\n    self.valueFromJulia = {};\\n    for (var key in json_data) {\\n        self.valueFromJulia[key] = false;\\n    }\\n    ko.applyBindings(self.model, self.dom);\\n}\\n);\\n    (WebIO.importBlock({\\\"data\\\":[{\\\"name\\\":\\\"knockout\\\",\\\"type\\\":\\\"js\\\",\\\"url\\\":\\\"\\/assetserver\\/4b78a831658f9469be0fa90a874237d533cfc56e-knockout.js\\\"},{\\\"name\\\":\\\"knockout_punches\\\",\\\"type\\\":\\\"js\\\",\\\"url\\\":\\\"\\/assetserver\\/32cf81589ef7eb25886db6e5be297d237f8599ce-knockout_punches.js\\\"}],\\\"type\\\":\\\"async_block\\\"})).then((imports) => handler.apply(this, imports));\\n}\\n\"],\"observables\":{\"changes\":{\"sync\":false,\"id\":\"6935618120618874063\",\"value\":0},\"value\":{\"sync\":false,\"id\":\"15975314064372207767\",\"value\":false}}},\"children\":[{\"props\":{\"className\":\"field interact-widget\"},\"nodeType\":\"DOM\",\"type\":\"node\",\"instanceArgs\":{\"namespace\":\"html\",\"tag\":\"div\"},\"children\":[{\"props\":{\"attributes\":{\"type\":\"checkbox\",\"data-bind\":\"checked: value, valueUpdate: 'change', event: {change: function (){this.changes(this.changes()+1)}}\"},\"id\":\"##1367\",\"className\":\"switch \",\"style\":{}},\"nodeType\":\"DOM\",\"type\":\"node\",\"instanceArgs\":{\"namespace\":\"html\",\"tag\":\"input\"},\"children\":[]},{\"props\":{\"attributes\":{\"className\":\"\",\"for\":\"##1367\"}},\"nodeType\":\"DOM\",\"type\":\"node\",\"instanceArgs\":{\"namespace\":\"html\",\"tag\":\"label\"},\"children\":[\"show obs\"]}]}]}]},{\"props\":{\"className\":\"field interact-widget\"},\"nodeType\":\"DOM\",\"type\":\"node\",\"instanceArgs\":{\"namespace\":\"html\",\"tag\":\"div\"},\"children\":[{\"props\":{},\"nodeType\":\"Scope\",\"type\":\"node\",\"instanceArgs\":{\"imports\":{\"data\":[{\"name\":\"knockout\",\"type\":\"js\",\"url\":\"\\/assetserver\\/4b78a831658f9469be0fa90a874237d533cfc56e-knockout.js\"},{\"name\":\"knockout_punches\",\"type\":\"js\",\"url\":\"\\/assetserver\\/32cf81589ef7eb25886db6e5be297d237f8599ce-knockout_punches.js\"},{\"name\":null,\"type\":\"js\",\"url\":\"\\/assetserver\\/4c861182dd4c5b1a7b80754ca907d70e11c2410c-all.js\"},{\"name\":null,\"type\":\"css\",\"url\":\"\\/assetserver\\/55ec2ee389419b72c3c6088bc3fbe3d7187a5fc0-style.css\"},{\"name\":null,\"type\":\"css\",\"url\":\"\\/assetserver\\/bb71acf9697a201a164f98e5fab8a4f7b4f82041-bulma_confined.min.css\"}],\"type\":\"async_block\"},\"id\":\"17054356380216030913\",\"handlers\":{\"changes\":[\"(function (val){return (val!=this.model[\\\"changes\\\"]()) ? (this.valueFromJulia[\\\"changes\\\"]=true, this.model[\\\"changes\\\"](val)) : undefined})\"],\"value\":[\"(function (val){return (val!=this.model[\\\"value\\\"]()) ? (this.valueFromJulia[\\\"value\\\"]=true, this.model[\\\"value\\\"](val)) : undefined})\"]},\"systemjs_options\":null,\"mount_callbacks\":[\"function () {\\n    var handler = (function (ko, koPunches) {\\n    ko.punches.enableAll();\\n    ko.bindingHandlers.numericValue = {\\n        init: function(element, valueAccessor, allBindings, data, context) {\\n            var stringified = ko.observable(ko.unwrap(valueAccessor()));\\n            stringified.subscribe(function(value) {\\n                var val = parseFloat(value);\\n                if (!isNaN(val)) {\\n                    valueAccessor()(val);\\n                }\\n            });\\n            valueAccessor().subscribe(function(value) {\\n                var str = JSON.stringify(value);\\n                if ((str == \\\"0\\\") && ([\\\"-0\\\", \\\"-0.\\\"].indexOf(stringified()) >= 0))\\n                     return;\\n                 if ([\\\"null\\\", \\\"\\\"].indexOf(str) >= 0)\\n                     return;\\n                stringified(str);\\n            });\\n            ko.applyBindingsToNode(\\n                element,\\n                {\\n                    value: stringified,\\n                    valueUpdate: allBindings.get('valueUpdate'),\\n                },\\n                context,\\n            );\\n        }\\n    };\\n    var json_data = {\\\"changes\\\":WebIO.getval({\\\"name\\\":\\\"changes\\\",\\\"scope\\\":\\\"17054356380216030913\\\",\\\"id\\\":\\\"7947945196253627936\\\",\\\"type\\\":\\\"observable\\\"}),\\\"value\\\":WebIO.getval({\\\"name\\\":\\\"value\\\",\\\"scope\\\":\\\"17054356380216030913\\\",\\\"id\\\":\\\"15271421067281132480\\\",\\\"type\\\":\\\"observable\\\"})};\\n    var self = this;\\n    function AppViewModel() {\\n        for (var key in json_data) {\\n            var el = json_data[key];\\n            this[key] = Array.isArray(el) ? ko.observableArray(el) : ko.observable(el);\\n        }\\n        \\n        \\n        [this[\\\"changes\\\"].subscribe((function (val){!(this.valueFromJulia[\\\"changes\\\"]) ? (WebIO.setval({\\\"name\\\":\\\"changes\\\",\\\"scope\\\":\\\"17054356380216030913\\\",\\\"id\\\":\\\"7947945196253627936\\\",\\\"type\\\":\\\"observable\\\"},val)) : undefined; return this.valueFromJulia[\\\"changes\\\"]=false}),self),this[\\\"value\\\"].subscribe((function (val){!(this.valueFromJulia[\\\"value\\\"]) ? (WebIO.setval({\\\"name\\\":\\\"value\\\",\\\"scope\\\":\\\"17054356380216030913\\\",\\\"id\\\":\\\"15271421067281132480\\\",\\\"type\\\":\\\"observable\\\"},val)) : undefined; return this.valueFromJulia[\\\"value\\\"]=false}),self)]\\n        \\n    }\\n    self.model = new AppViewModel();\\n    self.valueFromJulia = {};\\n    for (var key in json_data) {\\n        self.valueFromJulia[key] = false;\\n    }\\n    ko.applyBindings(self.model, self.dom);\\n}\\n);\\n    (WebIO.importBlock({\\\"data\\\":[{\\\"name\\\":\\\"knockout\\\",\\\"type\\\":\\\"js\\\",\\\"url\\\":\\\"\\/assetserver\\/4b78a831658f9469be0fa90a874237d533cfc56e-knockout.js\\\"},{\\\"name\\\":\\\"knockout_punches\\\",\\\"type\\\":\\\"js\\\",\\\"url\\\":\\\"\\/assetserver\\/32cf81589ef7eb25886db6e5be297d237f8599ce-knockout_punches.js\\\"}],\\\"type\\\":\\\"async_block\\\"})).then((imports) => handler.apply(this, imports));\\n}\\n\"],\"observables\":{\"changes\":{\"sync\":false,\"id\":\"7947945196253627936\",\"value\":0},\"value\":{\"sync\":false,\"id\":\"15271421067281132480\",\"value\":true}}},\"children\":[{\"props\":{\"className\":\"field interact-widget\"},\"nodeType\":\"DOM\",\"type\":\"node\",\"instanceArgs\":{\"namespace\":\"html\",\"tag\":\"div\"},\"children\":[{\"props\":{\"attributes\":{\"type\":\"checkbox\",\"data-bind\":\"checked: value, valueUpdate: 'change', event: {change: function (){this.changes(this.changes()+1)}}\"},\"id\":\"##1368\",\"className\":\"switch \",\"style\":{}},\"nodeType\":\"DOM\",\"type\":\"node\",\"instanceArgs\":{\"namespace\":\"html\",\"tag\":\"input\"},\"children\":[]},{\"props\":{\"attributes\":{\"className\":\"\",\"for\":\"##1368\"}},\"nodeType\":\"DOM\",\"type\":\"node\",\"instanceArgs\":{\"namespace\":\"html\",\"tag\":\"label\"},\"children\":[\"show samples\"]}]}]}]}]},{\"props\":{\"style\":{\"display\":\"flex\",\"flex-direction\":\"row\"}},\"nodeType\":\"DOM\",\"type\":\"node\",\"instanceArgs\":{\"namespace\":\"html\",\"tag\":\"div\"},\"children\":[{\"props\":{\"className\":\"field interact-widget\"},\"nodeType\":\"DOM\",\"type\":\"node\",\"instanceArgs\":{\"namespace\":\"html\",\"tag\":\"div\"},\"children\":[{\"props\":{},\"nodeType\":\"Scope\",\"type\":\"node\",\"instanceArgs\":{\"imports\":{\"data\":[{\"name\":\"knockout\",\"type\":\"js\",\"url\":\"\\/assetserver\\/4b78a831658f9469be0fa90a874237d533cfc56e-knockout.js\"},{\"name\":\"knockout_punches\",\"type\":\"js\",\"url\":\"\\/assetserver\\/32cf81589ef7eb25886db6e5be297d237f8599ce-knockout_punches.js\"},{\"name\":null,\"type\":\"js\",\"url\":\"\\/assetserver\\/4c861182dd4c5b1a7b80754ca907d70e11c2410c-all.js\"},{\"name\":null,\"type\":\"css\",\"url\":\"\\/assetserver\\/55ec2ee389419b72c3c6088bc3fbe3d7187a5fc0-style.css\"},{\"name\":null,\"type\":\"css\",\"url\":\"\\/assetserver\\/bb71acf9697a201a164f98e5fab8a4f7b4f82041-bulma_confined.min.css\"}],\"type\":\"async_block\"},\"id\":\"1315009929951936239\",\"handlers\":{\"changes\":[\"(function (val){return (val!=this.model[\\\"changes\\\"]()) ? (this.valueFromJulia[\\\"changes\\\"]=true, this.model[\\\"changes\\\"](val)) : undefined})\"],\"index\":[\"(function (val){return (val!=this.model[\\\"index\\\"]()) ? (this.valueFromJulia[\\\"index\\\"]=true, this.model[\\\"index\\\"](val)) : undefined})\"]},\"systemjs_options\":null,\"mount_callbacks\":[\"function () {\\n    var handler = (function (ko, koPunches) {\\n    ko.punches.enableAll();\\n    ko.bindingHandlers.numericValue = {\\n        init: function(element, valueAccessor, allBindings, data, context) {\\n            var stringified = ko.observable(ko.unwrap(valueAccessor()));\\n            stringified.subscribe(function(value) {\\n                var val = parseFloat(value);\\n                if (!isNaN(val)) {\\n                    valueAccessor()(val);\\n                }\\n            });\\n            valueAccessor().subscribe(function(value) {\\n                var str = JSON.stringify(value);\\n                if ((str == \\\"0\\\") && ([\\\"-0\\\", \\\"-0.\\\"].indexOf(stringified()) >= 0))\\n                     return;\\n                 if ([\\\"null\\\", \\\"\\\"].indexOf(str) >= 0)\\n                     return;\\n                stringified(str);\\n            });\\n            ko.applyBindingsToNode(\\n                element,\\n                {\\n                    value: stringified,\\n                    valueUpdate: allBindings.get('valueUpdate'),\\n                },\\n                context,\\n            );\\n        }\\n    };\\n    var json_data = {\\\"formatted_vals\\\":[\\\"1\\\",\\\"21\\\",\\\"41\\\"],\\\"changes\\\":WebIO.getval({\\\"name\\\":\\\"changes\\\",\\\"scope\\\":\\\"1315009929951936239\\\",\\\"id\\\":\\\"14973267224718104946\\\",\\\"type\\\":\\\"observable\\\"}),\\\"index\\\":WebIO.getval({\\\"name\\\":\\\"index\\\",\\\"scope\\\":\\\"1315009929951936239\\\",\\\"id\\\":\\\"12089058132761038520\\\",\\\"type\\\":\\\"observable\\\"})};\\n    var self = this;\\n    function AppViewModel() {\\n        for (var key in json_data) {\\n            var el = json_data[key];\\n            this[key] = Array.isArray(el) ? ko.observableArray(el) : ko.observable(el);\\n        }\\n        \\n        [this[\\\"formatted_val\\\"]=ko.computed(    function(){\\n        return this.formatted_vals()[parseInt(this.index())-(1)];\\n    }\\n,this)]\\n        [this[\\\"changes\\\"].subscribe((function (val){!(this.valueFromJulia[\\\"changes\\\"]) ? (WebIO.setval({\\\"name\\\":\\\"changes\\\",\\\"scope\\\":\\\"1315009929951936239\\\",\\\"id\\\":\\\"14973267224718104946\\\",\\\"type\\\":\\\"observable\\\"},val)) : undefined; return this.valueFromJulia[\\\"changes\\\"]=false}),self),this[\\\"index\\\"].subscribe((function (val){!(this.valueFromJulia[\\\"index\\\"]) ? (WebIO.setval({\\\"name\\\":\\\"index\\\",\\\"scope\\\":\\\"1315009929951936239\\\",\\\"id\\\":\\\"12089058132761038520\\\",\\\"type\\\":\\\"observable\\\"},val)) : undefined; return this.valueFromJulia[\\\"index\\\"]=false}),self)]\\n        \\n    }\\n    self.model = new AppViewModel();\\n    self.valueFromJulia = {};\\n    for (var key in json_data) {\\n        self.valueFromJulia[key] = false;\\n    }\\n    ko.applyBindings(self.model, self.dom);\\n}\\n);\\n    (WebIO.importBlock({\\\"data\\\":[{\\\"name\\\":\\\"knockout\\\",\\\"type\\\":\\\"js\\\",\\\"url\\\":\\\"\\/assetserver\\/4b78a831658f9469be0fa90a874237d533cfc56e-knockout.js\\\"},{\\\"name\\\":\\\"knockout_punches\\\",\\\"type\\\":\\\"js\\\",\\\"url\\\":\\\"\\/assetserver\\/32cf81589ef7eb25886db6e5be297d237f8599ce-knockout_punches.js\\\"}],\\\"type\\\":\\\"async_block\\\"})).then((imports) => handler.apply(this, imports));\\n}\\n\"],\"observables\":{\"changes\":{\"sync\":false,\"id\":\"14973267224718104946\",\"value\":0},\"index\":{\"sync\":true,\"id\":\"12089058132761038520\",\"value\":1}}},\"children\":[{\"props\":{\"className\":\"interact-flex-row interact-widget\"},\"nodeType\":\"DOM\",\"type\":\"node\",\"instanceArgs\":{\"namespace\":\"html\",\"tag\":\"div\"},\"children\":[{\"props\":{\"className\":\"interact-flex-row-left\"},\"nodeType\":\"DOM\",\"type\":\"node\",\"instanceArgs\":{\"namespace\":\"html\",\"tag\":\"div\"},\"children\":[{\"props\":{\"className\":\"interact \",\"style\":{\"padding\":\"5px 10px 0px 10px\"}},\"nodeType\":\"DOM\",\"type\":\"node\",\"instanceArgs\":{\"namespace\":\"html\",\"tag\":\"label\"},\"children\":[\"# samples\"]}]},{\"props\":{\"className\":\"interact-flex-row-center\"},\"nodeType\":\"DOM\",\"type\":\"node\",\"instanceArgs\":{\"namespace\":\"html\",\"tag\":\"div\"},\"children\":[{\"props\":{\"max\":3,\"min\":1,\"attributes\":{\"type\":\"range\",\"data-bind\":\"numericValue: index, valueUpdate: 'input', event: {change: function (){this.changes(this.changes()+1)}}\",\"orient\":\"horizontal\"},\"step\":1,\"className\":\"slider slider is-fullwidth\",\"style\":{}},\"nodeType\":\"DOM\",\"type\":\"node\",\"instanceArgs\":{\"namespace\":\"html\",\"tag\":\"input\"},\"children\":[]}]},{\"props\":{\"className\":\"interact-flex-row-right\"},\"nodeType\":\"DOM\",\"type\":\"node\",\"instanceArgs\":{\"namespace\":\"html\",\"tag\":\"div\"},\"children\":[{\"props\":{\"attributes\":{\"data-bind\":\"text: formatted_val\"}},\"nodeType\":\"DOM\",\"type\":\"node\",\"instanceArgs\":{\"namespace\":\"html\",\"tag\":\"p\"},\"children\":[]}]}]}]}]},{\"props\":{\"className\":\"field interact-widget\"},\"nodeType\":\"DOM\",\"type\":\"node\",\"instanceArgs\":{\"namespace\":\"html\",\"tag\":\"div\"},\"children\":[{\"props\":{},\"nodeType\":\"Scope\",\"type\":\"node\",\"instanceArgs\":{\"imports\":{\"data\":[{\"name\":\"knockout\",\"type\":\"js\",\"url\":\"\\/assetserver\\/4b78a831658f9469be0fa90a874237d533cfc56e-knockout.js\"},{\"name\":\"knockout_punches\",\"type\":\"js\",\"url\":\"\\/assetserver\\/32cf81589ef7eb25886db6e5be297d237f8599ce-knockout_punches.js\"},{\"name\":null,\"type\":\"js\",\"url\":\"\\/assetserver\\/4c861182dd4c5b1a7b80754ca907d70e11c2410c-all.js\"},{\"name\":null,\"type\":\"css\",\"url\":\"\\/assetserver\\/55ec2ee389419b72c3c6088bc3fbe3d7187a5fc0-style.css\"},{\"name\":null,\"type\":\"css\",\"url\":\"\\/assetserver\\/bb71acf9697a201a164f98e5fab8a4f7b4f82041-bulma_confined.min.css\"}],\"type\":\"async_block\"},\"id\":\"8487418553106479238\",\"handlers\":{\"changes\":[\"(function (val){return (val!=this.model[\\\"changes\\\"]()) ? (this.valueFromJulia[\\\"changes\\\"]=true, this.model[\\\"changes\\\"](val)) : undefined})\"],\"index\":[\"(function (val){return (val!=this.model[\\\"index\\\"]()) ? (this.valueFromJulia[\\\"index\\\"]=true, this.model[\\\"index\\\"](val)) : undefined})\"]},\"systemjs_options\":null,\"mount_callbacks\":[\"function () {\\n    var handler = (function (ko, koPunches) {\\n    ko.punches.enableAll();\\n    ko.bindingHandlers.numericValue = {\\n        init: function(element, valueAccessor, allBindings, data, context) {\\n            var stringified = ko.observable(ko.unwrap(valueAccessor()));\\n            stringified.subscribe(function(value) {\\n                var val = parseFloat(value);\\n                if (!isNaN(val)) {\\n                    valueAccessor()(val);\\n                }\\n            });\\n            valueAccessor().subscribe(function(value) {\\n                var str = JSON.stringify(value);\\n                if ((str == \\\"0\\\") && ([\\\"-0\\\", \\\"-0.\\\"].indexOf(stringified()) >= 0))\\n                     return;\\n                 if ([\\\"null\\\", \\\"\\\"].indexOf(str) >= 0)\\n                     return;\\n                stringified(str);\\n            });\\n            ko.applyBindingsToNode(\\n                element,\\n                {\\n                    value: stringified,\\n                    valueUpdate: allBindings.get('valueUpdate'),\\n                },\\n                context,\\n            );\\n        }\\n    };\\n    var json_data = {\\\"formatted_vals\\\":[\\\"5\\\",\\\"6\\\",\\\"7\\\",\\\"8\\\",\\\"9\\\",\\\"10\\\",\\\"11\\\",\\\"12\\\",\\\"13\\\",\\\"14\\\",\\\"15\\\",\\\"16\\\",\\\"17\\\",\\\"18\\\",\\\"19\\\",\\\"20\\\"],\\\"changes\\\":WebIO.getval({\\\"name\\\":\\\"changes\\\",\\\"scope\\\":\\\"8487418553106479238\\\",\\\"id\\\":\\\"14398433987726878517\\\",\\\"type\\\":\\\"observable\\\"}),\\\"index\\\":WebIO.getval({\\\"name\\\":\\\"index\\\",\\\"scope\\\":\\\"8487418553106479238\\\",\\\"id\\\":\\\"5073008940846548283\\\",\\\"type\\\":\\\"observable\\\"})};\\n    var self = this;\\n    function AppViewModel() {\\n        for (var key in json_data) {\\n            var el = json_data[key];\\n            this[key] = Array.isArray(el) ? ko.observableArray(el) : ko.observable(el);\\n        }\\n        \\n        [this[\\\"formatted_val\\\"]=ko.computed(    function(){\\n        return this.formatted_vals()[parseInt(this.index())-(5)];\\n    }\\n,this)]\\n        [this[\\\"changes\\\"].subscribe((function (val){!(this.valueFromJulia[\\\"changes\\\"]) ? (WebIO.setval({\\\"name\\\":\\\"changes\\\",\\\"scope\\\":\\\"8487418553106479238\\\",\\\"id\\\":\\\"14398433987726878517\\\",\\\"type\\\":\\\"observable\\\"},val)) : undefined; return this.valueFromJulia[\\\"changes\\\"]=false}),self),this[\\\"index\\\"].subscribe((function (val){!(this.valueFromJulia[\\\"index\\\"]) ? (WebIO.setval({\\\"name\\\":\\\"index\\\",\\\"scope\\\":\\\"8487418553106479238\\\",\\\"id\\\":\\\"5073008940846548283\\\",\\\"type\\\":\\\"observable\\\"},val)) : undefined; return this.valueFromJulia[\\\"index\\\"]=false}),self)]\\n        \\n    }\\n    self.model = new AppViewModel();\\n    self.valueFromJulia = {};\\n    for (var key in json_data) {\\n        self.valueFromJulia[key] = false;\\n    }\\n    ko.applyBindings(self.model, self.dom);\\n}\\n);\\n    (WebIO.importBlock({\\\"data\\\":[{\\\"name\\\":\\\"knockout\\\",\\\"type\\\":\\\"js\\\",\\\"url\\\":\\\"\\/assetserver\\/4b78a831658f9469be0fa90a874237d533cfc56e-knockout.js\\\"},{\\\"name\\\":\\\"knockout_punches\\\",\\\"type\\\":\\\"js\\\",\\\"url\\\":\\\"\\/assetserver\\/32cf81589ef7eb25886db6e5be297d237f8599ce-knockout_punches.js\\\"}],\\\"type\\\":\\\"async_block\\\"})).then((imports) => handler.apply(this, imports));\\n}\\n\"],\"observables\":{\"changes\":{\"sync\":false,\"id\":\"14398433987726878517\",\"value\":0},\"index\":{\"sync\":false,\"id\":\"5073008940846548283\",\"value\":5}}},\"children\":[{\"props\":{\"className\":\"interact-flex-row interact-widget\"},\"nodeType\":\"DOM\",\"type\":\"node\",\"instanceArgs\":{\"namespace\":\"html\",\"tag\":\"div\"},\"children\":[{\"props\":{\"className\":\"interact-flex-row-left\"},\"nodeType\":\"DOM\",\"type\":\"node\",\"instanceArgs\":{\"namespace\":\"html\",\"tag\":\"div\"},\"children\":[{\"props\":{\"className\":\"interact \",\"style\":{\"padding\":\"5px 10px 0px 10px\"}},\"nodeType\":\"DOM\",\"type\":\"node\",\"instanceArgs\":{\"namespace\":\"html\",\"tag\":\"label\"},\"children\":[\"T\"]}]},{\"props\":{\"className\":\"interact-flex-row-center\"},\"nodeType\":\"DOM\",\"type\":\"node\",\"instanceArgs\":{\"namespace\":\"html\",\"tag\":\"div\"},\"children\":[{\"props\":{\"max\":20,\"min\":5,\"attributes\":{\"type\":\"range\",\"data-bind\":\"numericValue: index, valueUpdate: 'input', event: {change: function (){this.changes(this.changes()+1)}}\",\"orient\":\"horizontal\"},\"step\":1,\"className\":\"slider slider is-fullwidth\",\"style\":{}},\"nodeType\":\"DOM\",\"type\":\"node\",\"instanceArgs\":{\"namespace\":\"html\",\"tag\":\"input\"},\"children\":[]}]},{\"props\":{\"className\":\"interact-flex-row-right\"},\"nodeType\":\"DOM\",\"type\":\"node\",\"instanceArgs\":{\"namespace\":\"html\",\"tag\":\"div\"},\"children\":[{\"props\":{\"attributes\":{\"data-bind\":\"text: formatted_val\"}},\"nodeType\":\"DOM\",\"type\":\"node\",\"instanceArgs\":{\"namespace\":\"html\",\"tag\":\"p\"},\"children\":[]}]}]}]}]},{\"props\":{\"className\":\"field interact-widget\"},\"nodeType\":\"DOM\",\"type\":\"node\",\"instanceArgs\":{\"namespace\":\"html\",\"tag\":\"div\"},\"children\":[{\"props\":{},\"nodeType\":\"Scope\",\"type\":\"node\",\"instanceArgs\":{\"imports\":{\"data\":[{\"name\":\"knockout\",\"type\":\"js\",\"url\":\"\\/assetserver\\/4b78a831658f9469be0fa90a874237d533cfc56e-knockout.js\"},{\"name\":\"knockout_punches\",\"type\":\"js\",\"url\":\"\\/assetserver\\/32cf81589ef7eb25886db6e5be297d237f8599ce-knockout_punches.js\"},{\"name\":null,\"type\":\"js\",\"url\":\"\\/assetserver\\/4c861182dd4c5b1a7b80754ca907d70e11c2410c-all.js\"},{\"name\":null,\"type\":\"css\",\"url\":\"\\/assetserver\\/55ec2ee389419b72c3c6088bc3fbe3d7187a5fc0-style.css\"},{\"name\":null,\"type\":\"css\",\"url\":\"\\/assetserver\\/bb71acf9697a201a164f98e5fab8a4f7b4f82041-bulma_confined.min.css\"}],\"type\":\"async_block\"},\"id\":\"3423282009283954241\",\"handlers\":{\"changes\":[\"(function (val){return (val!=this.model[\\\"changes\\\"]()) ? (this.valueFromJulia[\\\"changes\\\"]=true, this.model[\\\"changes\\\"](val)) : undefined})\"],\"index\":[\"(function (val){return (val!=this.model[\\\"index\\\"]()) ? (this.valueFromJulia[\\\"index\\\"]=true, this.model[\\\"index\\\"](val)) : undefined})\"]},\"systemjs_options\":null,\"mount_callbacks\":[\"function () {\\n    var handler = (function (ko, koPunches) {\\n    ko.punches.enableAll();\\n    ko.bindingHandlers.numericValue = {\\n        init: function(element, valueAccessor, allBindings, data, context) {\\n            var stringified = ko.observable(ko.unwrap(valueAccessor()));\\n            stringified.subscribe(function(value) {\\n                var val = parseFloat(value);\\n                if (!isNaN(val)) {\\n                    valueAccessor()(val);\\n                }\\n            });\\n            valueAccessor().subscribe(function(value) {\\n                var str = JSON.stringify(value);\\n                if ((str == \\\"0\\\") && ([\\\"-0\\\", \\\"-0.\\\"].indexOf(stringified()) >= 0))\\n                     return;\\n                 if ([\\\"null\\\", \\\"\\\"].indexOf(str) >= 0)\\n                     return;\\n                stringified(str);\\n            });\\n            ko.applyBindingsToNode(\\n                element,\\n                {\\n                    value: stringified,\\n                    valueUpdate: allBindings.get('valueUpdate'),\\n                },\\n                context,\\n            );\\n        }\\n    };\\n    var json_data = {\\\"formatted_vals\\\":[\\\"1\\\",\\\"51\\\",\\\"101\\\",\\\"151\\\",\\\"201\\\"],\\\"changes\\\":WebIO.getval({\\\"name\\\":\\\"changes\\\",\\\"scope\\\":\\\"3423282009283954241\\\",\\\"id\\\":\\\"12860248630988727460\\\",\\\"type\\\":\\\"observable\\\"}),\\\"index\\\":WebIO.getval({\\\"name\\\":\\\"index\\\",\\\"scope\\\":\\\"3423282009283954241\\\",\\\"id\\\":\\\"1798765742473421069\\\",\\\"type\\\":\\\"observable\\\"})};\\n    var self = this;\\n    function AppViewModel() {\\n        for (var key in json_data) {\\n            var el = json_data[key];\\n            this[key] = Array.isArray(el) ? ko.observableArray(el) : ko.observable(el);\\n        }\\n        \\n        [this[\\\"formatted_val\\\"]=ko.computed(    function(){\\n        return this.formatted_vals()[parseInt(this.index())-(1)];\\n    }\\n,this)]\\n        [this[\\\"changes\\\"].subscribe((function (val){!(this.valueFromJulia[\\\"changes\\\"]) ? (WebIO.setval({\\\"name\\\":\\\"changes\\\",\\\"scope\\\":\\\"3423282009283954241\\\",\\\"id\\\":\\\"12860248630988727460\\\",\\\"type\\\":\\\"observable\\\"},val)) : undefined; return this.valueFromJulia[\\\"changes\\\"]=false}),self),this[\\\"index\\\"].subscribe((function (val){!(this.valueFromJulia[\\\"index\\\"]) ? (WebIO.setval({\\\"name\\\":\\\"index\\\",\\\"scope\\\":\\\"3423282009283954241\\\",\\\"id\\\":\\\"1798765742473421069\\\",\\\"type\\\":\\\"observable\\\"},val)) : undefined; return this.valueFromJulia[\\\"index\\\"]=false}),self)]\\n        \\n    }\\n    self.model = new AppViewModel();\\n    self.valueFromJulia = {};\\n    for (var key in json_data) {\\n        self.valueFromJulia[key] = false;\\n    }\\n    ko.applyBindings(self.model, self.dom);\\n}\\n);\\n    (WebIO.importBlock({\\\"data\\\":[{\\\"name\\\":\\\"knockout\\\",\\\"type\\\":\\\"js\\\",\\\"url\\\":\\\"\\/assetserver\\/4b78a831658f9469be0fa90a874237d533cfc56e-knockout.js\\\"},{\\\"name\\\":\\\"knockout_punches\\\",\\\"type\\\":\\\"js\\\",\\\"url\\\":\\\"\\/assetserver\\/32cf81589ef7eb25886db6e5be297d237f8599ce-knockout_punches.js\\\"}],\\\"type\\\":\\\"async_block\\\"})).then((imports) => handler.apply(this, imports));\\n}\\n\"],\"observables\":{\"changes\":{\"sync\":false,\"id\":\"12860248630988727460\",\"value\":0},\"index\":{\"sync\":true,\"id\":\"1798765742473421069\",\"value\":1}}},\"children\":[{\"props\":{\"className\":\"interact-flex-row interact-widget\"},\"nodeType\":\"DOM\",\"type\":\"node\",\"instanceArgs\":{\"namespace\":\"html\",\"tag\":\"div\"},\"children\":[{\"props\":{\"className\":\"interact-flex-row-left\"},\"nodeType\":\"DOM\",\"type\":\"node\",\"instanceArgs\":{\"namespace\":\"html\",\"tag\":\"div\"},\"children\":[{\"props\":{\"className\":\"interact \",\"style\":{\"padding\":\"5px 10px 0px 10px\"}},\"nodeType\":\"DOM\",\"type\":\"node\",\"instanceArgs\":{\"namespace\":\"html\",\"tag\":\"label\"},\"children\":[\"# particles\"]}]},{\"props\":{\"className\":\"interact-flex-row-center\"},\"nodeType\":\"DOM\",\"type\":\"node\",\"instanceArgs\":{\"namespace\":\"html\",\"tag\":\"div\"},\"children\":[{\"props\":{\"max\":5,\"min\":1,\"attributes\":{\"type\":\"range\",\"data-bind\":\"numericValue: index, valueUpdate: 'input', event: {change: function (){this.changes(this.changes()+1)}}\",\"orient\":\"horizontal\"},\"step\":1,\"className\":\"slider slider is-fullwidth\",\"style\":{}},\"nodeType\":\"DOM\",\"type\":\"node\",\"instanceArgs\":{\"namespace\":\"html\",\"tag\":\"input\"},\"children\":[]}]},{\"props\":{\"className\":\"interact-flex-row-right\"},\"nodeType\":\"DOM\",\"type\":\"node\",\"instanceArgs\":{\"namespace\":\"html\",\"tag\":\"div\"},\"children\":[{\"props\":{\"attributes\":{\"data-bind\":\"text: formatted_val\"}},\"nodeType\":\"DOM\",\"type\":\"node\",\"instanceArgs\":{\"namespace\":\"html\",\"tag\":\"p\"},\"children\":[]}]}]}]}]}]},{\"props\":{\"style\":{\"display\":\"flex\",\"flex-direction\":\"row\"}},\"nodeType\":\"DOM\",\"type\":\"node\",\"instanceArgs\":{\"namespace\":\"html\",\"tag\":\"div\"},\"children\":[{\"props\":{\"className\":\"field interact-widget\"},\"nodeType\":\"DOM\",\"type\":\"node\",\"instanceArgs\":{\"namespace\":\"html\",\"tag\":\"div\"},\"children\":[{\"props\":{},\"nodeType\":\"Scope\",\"type\":\"node\",\"instanceArgs\":{\"imports\":{\"data\":[{\"name\":\"knockout\",\"type\":\"js\",\"url\":\"\\/assetserver\\/4b78a831658f9469be0fa90a874237d533cfc56e-knockout.js\"},{\"name\":\"knockout_punches\",\"type\":\"js\",\"url\":\"\\/assetserver\\/32cf81589ef7eb25886db6e5be297d237f8599ce-knockout_punches.js\"},{\"name\":null,\"type\":\"js\",\"url\":\"\\/assetserver\\/4c861182dd4c5b1a7b80754ca907d70e11c2410c-all.js\"},{\"name\":null,\"type\":\"css\",\"url\":\"\\/assetserver\\/55ec2ee389419b72c3c6088bc3fbe3d7187a5fc0-style.css\"},{\"name\":null,\"type\":\"css\",\"url\":\"\\/assetserver\\/bb71acf9697a201a164f98e5fab8a4f7b4f82041-bulma_confined.min.css\"}],\"type\":\"async_block\"},\"id\":\"12535078908944127497\",\"handlers\":{\"changes\":[\"(function (val){return (val!=this.model[\\\"changes\\\"]()) ? (this.valueFromJulia[\\\"changes\\\"]=true, this.model[\\\"changes\\\"](val)) : undefined})\"],\"index\":[\"(function (val){return (val!=this.model[\\\"index\\\"]()) ? (this.valueFromJulia[\\\"index\\\"]=true, this.model[\\\"index\\\"](val)) : undefined})\"]},\"systemjs_options\":null,\"mount_callbacks\":[\"function () {\\n    var handler = (function (ko, koPunches) {\\n    ko.punches.enableAll();\\n    ko.bindingHandlers.numericValue = {\\n        init: function(element, valueAccessor, allBindings, data, context) {\\n            var stringified = ko.observable(ko.unwrap(valueAccessor()));\\n            stringified.subscribe(function(value) {\\n                var val = parseFloat(value);\\n                if (!isNaN(val)) {\\n                    valueAccessor()(val);\\n                }\\n            });\\n            valueAccessor().subscribe(function(value) {\\n                var str = JSON.stringify(value);\\n                if ((str == \\\"0\\\") && ([\\\"-0\\\", \\\"-0.\\\"].indexOf(stringified()) >= 0))\\n                     return;\\n                 if ([\\\"null\\\", \\\"\\\"].indexOf(str) >= 0)\\n                     return;\\n                stringified(str);\\n            });\\n            ko.applyBindingsToNode(\\n                element,\\n                {\\n                    value: stringified,\\n                    valueUpdate: allBindings.get('valueUpdate'),\\n                },\\n                context,\\n            );\\n        }\\n    };\\n    var json_data = {\\\"formatted_vals\\\":[\\\"0.001\\\",\\\"0.12575\\\",\\\"0.2505\\\",\\\"0.37525\\\",\\\"0.5\\\"],\\\"changes\\\":WebIO.getval({\\\"name\\\":\\\"changes\\\",\\\"scope\\\":\\\"12535078908944127497\\\",\\\"id\\\":\\\"13846319504243242044\\\",\\\"type\\\":\\\"observable\\\"}),\\\"index\\\":WebIO.getval({\\\"name\\\":\\\"index\\\",\\\"scope\\\":\\\"12535078908944127497\\\",\\\"id\\\":\\\"8202949795721552798\\\",\\\"type\\\":\\\"observable\\\"})};\\n    var self = this;\\n    function AppViewModel() {\\n        for (var key in json_data) {\\n            var el = json_data[key];\\n            this[key] = Array.isArray(el) ? ko.observableArray(el) : ko.observable(el);\\n        }\\n        \\n        [this[\\\"formatted_val\\\"]=ko.computed(    function(){\\n        return this.formatted_vals()[parseInt(this.index())-(1)];\\n    }\\n,this)]\\n        [this[\\\"changes\\\"].subscribe((function (val){!(this.valueFromJulia[\\\"changes\\\"]) ? (WebIO.setval({\\\"name\\\":\\\"changes\\\",\\\"scope\\\":\\\"12535078908944127497\\\",\\\"id\\\":\\\"13846319504243242044\\\",\\\"type\\\":\\\"observable\\\"},val)) : undefined; return this.valueFromJulia[\\\"changes\\\"]=false}),self),this[\\\"index\\\"].subscribe((function (val){!(this.valueFromJulia[\\\"index\\\"]) ? (WebIO.setval({\\\"name\\\":\\\"index\\\",\\\"scope\\\":\\\"12535078908944127497\\\",\\\"id\\\":\\\"8202949795721552798\\\",\\\"type\\\":\\\"observable\\\"},val)) : undefined; return this.valueFromJulia[\\\"index\\\"]=false}),self)]\\n        \\n    }\\n    self.model = new AppViewModel();\\n    self.valueFromJulia = {};\\n    for (var key in json_data) {\\n        self.valueFromJulia[key] = false;\\n    }\\n    ko.applyBindings(self.model, self.dom);\\n}\\n);\\n    (WebIO.importBlock({\\\"data\\\":[{\\\"name\\\":\\\"knockout\\\",\\\"type\\\":\\\"js\\\",\\\"url\\\":\\\"\\/assetserver\\/4b78a831658f9469be0fa90a874237d533cfc56e-knockout.js\\\"},{\\\"name\\\":\\\"knockout_punches\\\",\\\"type\\\":\\\"js\\\",\\\"url\\\":\\\"\\/assetserver\\/32cf81589ef7eb25886db6e5be297d237f8599ce-knockout_punches.js\\\"}],\\\"type\\\":\\\"async_block\\\"})).then((imports) => handler.apply(this, imports));\\n}\\n\"],\"observables\":{\"changes\":{\"sync\":false,\"id\":\"13846319504243242044\",\"value\":0},\"index\":{\"sync\":true,\"id\":\"8202949795721552798\",\"value\":3}}},\"children\":[{\"props\":{\"className\":\"interact-flex-row interact-widget\"},\"nodeType\":\"DOM\",\"type\":\"node\",\"instanceArgs\":{\"namespace\":\"html\",\"tag\":\"div\"},\"children\":[{\"props\":{\"className\":\"interact-flex-row-left\"},\"nodeType\":\"DOM\",\"type\":\"node\",\"instanceArgs\":{\"namespace\":\"html\",\"tag\":\"div\"},\"children\":[{\"props\":{\"className\":\"interact \",\"style\":{\"padding\":\"5px 10px 0px 10px\"}},\"nodeType\":\"DOM\",\"type\":\"node\",\"instanceArgs\":{\"namespace\":\"html\",\"tag\":\"label\"},\"children\":[\"n=x_noise\"]}]},{\"props\":{\"className\":\"interact-flex-row-center\"},\"nodeType\":\"DOM\",\"type\":\"node\",\"instanceArgs\":{\"namespace\":\"html\",\"tag\":\"div\"},\"children\":[{\"props\":{\"max\":5,\"min\":1,\"attributes\":{\"type\":\"range\",\"data-bind\":\"numericValue: index, valueUpdate: 'input', event: {change: function (){this.changes(this.changes()+1)}}\",\"orient\":\"horizontal\"},\"step\":1,\"className\":\"slider slider is-fullwidth\",\"style\":{}},\"nodeType\":\"DOM\",\"type\":\"node\",\"instanceArgs\":{\"namespace\":\"html\",\"tag\":\"input\"},\"children\":[]}]},{\"props\":{\"className\":\"interact-flex-row-right\"},\"nodeType\":\"DOM\",\"type\":\"node\",\"instanceArgs\":{\"namespace\":\"html\",\"tag\":\"div\"},\"children\":[{\"props\":{\"attributes\":{\"data-bind\":\"text: formatted_val\"}},\"nodeType\":\"DOM\",\"type\":\"node\",\"instanceArgs\":{\"namespace\":\"html\",\"tag\":\"p\"},\"children\":[]}]}]}]}]},{\"props\":{\"className\":\"field interact-widget\"},\"nodeType\":\"DOM\",\"type\":\"node\",\"instanceArgs\":{\"namespace\":\"html\",\"tag\":\"div\"},\"children\":[{\"props\":{},\"nodeType\":\"Scope\",\"type\":\"node\",\"instanceArgs\":{\"imports\":{\"data\":[{\"name\":\"knockout\",\"type\":\"js\",\"url\":\"\\/assetserver\\/4b78a831658f9469be0fa90a874237d533cfc56e-knockout.js\"},{\"name\":\"knockout_punches\",\"type\":\"js\",\"url\":\"\\/assetserver\\/32cf81589ef7eb25886db6e5be297d237f8599ce-knockout_punches.js\"},{\"name\":null,\"type\":\"js\",\"url\":\"\\/assetserver\\/4c861182dd4c5b1a7b80754ca907d70e11c2410c-all.js\"},{\"name\":null,\"type\":\"css\",\"url\":\"\\/assetserver\\/55ec2ee389419b72c3c6088bc3fbe3d7187a5fc0-style.css\"},{\"name\":null,\"type\":\"css\",\"url\":\"\\/assetserver\\/bb71acf9697a201a164f98e5fab8a4f7b4f82041-bulma_confined.min.css\"}],\"type\":\"async_block\"},\"id\":\"4780831095995482268\",\"handlers\":{\"changes\":[\"(function (val){return (val!=this.model[\\\"changes\\\"]()) ? (this.valueFromJulia[\\\"changes\\\"]=true, this.model[\\\"changes\\\"](val)) : undefined})\"],\"index\":[\"(function (val){return (val!=this.model[\\\"index\\\"]()) ? (this.valueFromJulia[\\\"index\\\"]=true, this.model[\\\"index\\\"](val)) : undefined})\"]},\"systemjs_options\":null,\"mount_callbacks\":[\"function () {\\n    var handler = (function (ko, koPunches) {\\n    ko.punches.enableAll();\\n    ko.bindingHandlers.numericValue = {\\n        init: function(element, valueAccessor, allBindings, data, context) {\\n            var stringified = ko.observable(ko.unwrap(valueAccessor()));\\n            stringified.subscribe(function(value) {\\n                var val = parseFloat(value);\\n                if (!isNaN(val)) {\\n                    valueAccessor()(val);\\n                }\\n            });\\n            valueAccessor().subscribe(function(value) {\\n                var str = JSON.stringify(value);\\n                if ((str == \\\"0\\\") && ([\\\"-0\\\", \\\"-0.\\\"].indexOf(stringified()) >= 0))\\n                     return;\\n                 if ([\\\"null\\\", \\\"\\\"].indexOf(str) >= 0)\\n                     return;\\n                stringified(str);\\n            });\\n            ko.applyBindingsToNode(\\n                element,\\n                {\\n                    value: stringified,\\n                    valueUpdate: allBindings.get('valueUpdate'),\\n                },\\n                context,\\n            );\\n        }\\n    };\\n    var json_data = {\\\"formatted_vals\\\":[\\\"0.001\\\",\\\"11.2508\\\",\\\"22.5005\\\",\\\"33.7503\\\",\\\"45.0\\\"],\\\"changes\\\":WebIO.getval({\\\"name\\\":\\\"changes\\\",\\\"scope\\\":\\\"4780831095995482268\\\",\\\"id\\\":\\\"15495385061736108166\\\",\\\"type\\\":\\\"observable\\\"}),\\\"index\\\":WebIO.getval({\\\"name\\\":\\\"index\\\",\\\"scope\\\":\\\"4780831095995482268\\\",\\\"id\\\":\\\"8633957705469094372\\\",\\\"type\\\":\\\"observable\\\"})};\\n    var self = this;\\n    function AppViewModel() {\\n        for (var key in json_data) {\\n            var el = json_data[key];\\n            this[key] = Array.isArray(el) ? ko.observableArray(el) : ko.observable(el);\\n        }\\n        \\n        [this[\\\"formatted_val\\\"]=ko.computed(    function(){\\n        return this.formatted_vals()[parseInt(this.index())-(1)];\\n    }\\n,this)]\\n        [this[\\\"changes\\\"].subscribe((function (val){!(this.valueFromJulia[\\\"changes\\\"]) ? (WebIO.setval({\\\"name\\\":\\\"changes\\\",\\\"scope\\\":\\\"4780831095995482268\\\",\\\"id\\\":\\\"15495385061736108166\\\",\\\"type\\\":\\\"observable\\\"},val)) : undefined; return this.valueFromJulia[\\\"changes\\\"]=false}),self),this[\\\"index\\\"].subscribe((function (val){!(this.valueFromJulia[\\\"index\\\"]) ? (WebIO.setval({\\\"name\\\":\\\"index\\\",\\\"scope\\\":\\\"4780831095995482268\\\",\\\"id\\\":\\\"8633957705469094372\\\",\\\"type\\\":\\\"observable\\\"},val)) : undefined; return this.valueFromJulia[\\\"index\\\"]=false}),self)]\\n        \\n    }\\n    self.model = new AppViewModel();\\n    self.valueFromJulia = {};\\n    for (var key in json_data) {\\n        self.valueFromJulia[key] = false;\\n    }\\n    ko.applyBindings(self.model, self.dom);\\n}\\n);\\n    (WebIO.importBlock({\\\"data\\\":[{\\\"name\\\":\\\"knockout\\\",\\\"type\\\":\\\"js\\\",\\\"url\\\":\\\"\\/assetserver\\/4b78a831658f9469be0fa90a874237d533cfc56e-knockout.js\\\"},{\\\"name\\\":\\\"knockout_punches\\\",\\\"type\\\":\\\"js\\\",\\\"url\\\":\\\"\\/assetserver\\/32cf81589ef7eb25886db6e5be297d237f8599ce-knockout_punches.js\\\"}],\\\"type\\\":\\\"async_block\\\"})).then((imports) => handler.apply(this, imports));\\n}\\n\"],\"observables\":{\"changes\":{\"sync\":false,\"id\":\"15495385061736108166\",\"value\":0},\"index\":{\"sync\":true,\"id\":\"8633957705469094372\",\"value\":3}}},\"children\":[{\"props\":{\"className\":\"interact-flex-row interact-widget\"},\"nodeType\":\"DOM\",\"type\":\"node\",\"instanceArgs\":{\"namespace\":\"html\",\"tag\":\"div\"},\"children\":[{\"props\":{\"className\":\"interact-flex-row-left\"},\"nodeType\":\"DOM\",\"type\":\"node\",\"instanceArgs\":{\"namespace\":\"html\",\"tag\":\"div\"},\"children\":[{\"props\":{\"className\":\"interact \",\"style\":{\"padding\":\"5px 10px 0px 10px\"}},\"nodeType\":\"DOM\",\"type\":\"node\",\"instanceArgs\":{\"namespace\":\"html\",\"tag\":\"label\"},\"children\":[\"hd_noise\"]}]},{\"props\":{\"className\":\"interact-flex-row-center\"},\"nodeType\":\"DOM\",\"type\":\"node\",\"instanceArgs\":{\"namespace\":\"html\",\"tag\":\"div\"},\"children\":[{\"props\":{\"max\":5,\"min\":1,\"attributes\":{\"type\":\"range\",\"data-bind\":\"numericValue: index, valueUpdate: 'input', event: {change: function (){this.changes(this.changes()+1)}}\",\"orient\":\"horizontal\"},\"step\":1,\"className\":\"slider slider is-fullwidth\",\"style\":{}},\"nodeType\":\"DOM\",\"type\":\"node\",\"instanceArgs\":{\"namespace\":\"html\",\"tag\":\"input\"},\"children\":[]}]},{\"props\":{\"className\":\"interact-flex-row-right\"},\"nodeType\":\"DOM\",\"type\":\"node\",\"instanceArgs\":{\"namespace\":\"html\",\"tag\":\"div\"},\"children\":[{\"props\":{\"attributes\":{\"data-bind\":\"text: formatted_val\"}},\"nodeType\":\"DOM\",\"type\":\"node\",\"instanceArgs\":{\"namespace\":\"html\",\"tag\":\"p\"},\"children\":[]}]}]}]}]}]},{\"props\":{\"style\":{\"display\":\"flex\",\"flex-direction\":\"row\"}},\"nodeType\":\"DOM\",\"type\":\"node\",\"instanceArgs\":{\"namespace\":\"html\",\"tag\":\"div\"},\"children\":[{\"props\":{\"className\":\"field interact-widget\"},\"nodeType\":\"DOM\",\"type\":\"node\",\"instanceArgs\":{\"namespace\":\"html\",\"tag\":\"div\"},\"children\":[{\"props\":{},\"nodeType\":\"Scope\",\"type\":\"node\",\"instanceArgs\":{\"imports\":{\"data\":[{\"name\":\"knockout\",\"type\":\"js\",\"url\":\"\\/assetserver\\/4b78a831658f9469be0fa90a874237d533cfc56e-knockout.js\"},{\"name\":\"knockout_punches\",\"type\":\"js\",\"url\":\"\\/assetserver\\/32cf81589ef7eb25886db6e5be297d237f8599ce-knockout_punches.js\"},{\"name\":null,\"type\":\"js\",\"url\":\"\\/assetserver\\/4c861182dd4c5b1a7b80754ca907d70e11c2410c-all.js\"},{\"name\":null,\"type\":\"css\",\"url\":\"\\/assetserver\\/55ec2ee389419b72c3c6088bc3fbe3d7187a5fc0-style.css\"},{\"name\":null,\"type\":\"css\",\"url\":\"\\/assetserver\\/bb71acf9697a201a164f98e5fab8a4f7b4f82041-bulma_confined.min.css\"}],\"type\":\"async_block\"},\"id\":\"12657551348851759111\",\"handlers\":{\"changes\":[\"(function (val){return (val!=this.model[\\\"changes\\\"]()) ? (this.valueFromJulia[\\\"changes\\\"]=true, this.model[\\\"changes\\\"](val)) : undefined})\"],\"index\":[\"(function (val){return (val!=this.model[\\\"index\\\"]()) ? (this.valueFromJulia[\\\"index\\\"]=true, this.model[\\\"index\\\"](val)) : undefined})\"]},\"systemjs_options\":null,\"mount_callbacks\":[\"function () {\\n    var handler = (function (ko, koPunches) {\\n    ko.punches.enableAll();\\n    ko.bindingHandlers.numericValue = {\\n        init: function(element, valueAccessor, allBindings, data, context) {\\n            var stringified = ko.observable(ko.unwrap(valueAccessor()));\\n            stringified.subscribe(function(value) {\\n                var val = parseFloat(value);\\n                if (!isNaN(val)) {\\n                    valueAccessor()(val);\\n                }\\n            });\\n            valueAccessor().subscribe(function(value) {\\n                var str = JSON.stringify(value);\\n                if ((str == \\\"0\\\") && ([\\\"-0\\\", \\\"-0.\\\"].indexOf(stringified()) >= 0))\\n                     return;\\n                 if ([\\\"null\\\", \\\"\\\"].indexOf(str) >= 0)\\n                     return;\\n                stringified(str);\\n            });\\n            ko.applyBindingsToNode(\\n                element,\\n                {\\n                    value: stringified,\\n                    valueUpdate: allBindings.get('valueUpdate'),\\n                },\\n                context,\\n            );\\n        }\\n    };\\n    var json_data = {\\\"formatted_vals\\\":[\\\"1\\\",\\\"6\\\",\\\"11\\\",\\\"16\\\",\\\"21\\\",\\\"26\\\",\\\"31\\\",\\\"36\\\",\\\"41\\\",\\\"46\\\"],\\\"changes\\\":WebIO.getval({\\\"name\\\":\\\"changes\\\",\\\"scope\\\":\\\"12657551348851759111\\\",\\\"id\\\":\\\"14848553284327389596\\\",\\\"type\\\":\\\"observable\\\"}),\\\"index\\\":WebIO.getval({\\\"name\\\":\\\"index\\\",\\\"scope\\\":\\\"12657551348851759111\\\",\\\"id\\\":\\\"11982846947997185171\\\",\\\"type\\\":\\\"observable\\\"})};\\n    var self = this;\\n    function AppViewModel() {\\n        for (var key in json_data) {\\n            var el = json_data[key];\\n            this[key] = Array.isArray(el) ? ko.observableArray(el) : ko.observable(el);\\n        }\\n        \\n        [this[\\\"formatted_val\\\"]=ko.computed(    function(){\\n        return this.formatted_vals()[parseInt(this.index())-(1)];\\n    }\\n,this)]\\n        [this[\\\"changes\\\"].subscribe((function (val){!(this.valueFromJulia[\\\"changes\\\"]) ? (WebIO.setval({\\\"name\\\":\\\"changes\\\",\\\"scope\\\":\\\"12657551348851759111\\\",\\\"id\\\":\\\"14848553284327389596\\\",\\\"type\\\":\\\"observable\\\"},val)) : undefined; return this.valueFromJulia[\\\"changes\\\"]=false}),self),this[\\\"index\\\"].subscribe((function (val){!(this.valueFromJulia[\\\"index\\\"]) ? (WebIO.setval({\\\"name\\\":\\\"index\\\",\\\"scope\\\":\\\"12657551348851759111\\\",\\\"id\\\":\\\"11982846947997185171\\\",\\\"type\\\":\\\"observable\\\"},val)) : undefined; return this.valueFromJulia[\\\"index\\\"]=false}),self)]\\n        \\n    }\\n    self.model = new AppViewModel();\\n    self.valueFromJulia = {};\\n    for (var key in json_data) {\\n        self.valueFromJulia[key] = false;\\n    }\\n    ko.applyBindings(self.model, self.dom);\\n}\\n);\\n    (WebIO.importBlock({\\\"data\\\":[{\\\"name\\\":\\\"knockout\\\",\\\"type\\\":\\\"js\\\",\\\"url\\\":\\\"\\/assetserver\\/4b78a831658f9469be0fa90a874237d533cfc56e-knockout.js\\\"},{\\\"name\\\":\\\"knockout_punches\\\",\\\"type\\\":\\\"js\\\",\\\"url\\\":\\\"\\/assetserver\\/32cf81589ef7eb25886db6e5be297d237f8599ce-knockout_punches.js\\\"}],\\\"type\\\":\\\"async_block\\\"})).then((imports) => handler.apply(this, imports));\\n}\\n\"],\"observables\":{\"changes\":{\"sync\":false,\"id\":\"14848553284327389596\",\"value\":0},\"index\":{\"sync\":true,\"id\":\"11982846947997185171\",\"value\":5}}},\"children\":[{\"props\":{\"className\":\"interact-flex-row interact-widget\"},\"nodeType\":\"DOM\",\"type\":\"node\",\"instanceArgs\":{\"namespace\":\"html\",\"tag\":\"div\"},\"children\":[{\"props\":{\"className\":\"interact-flex-row-left\"},\"nodeType\":\"DOM\",\"type\":\"node\",\"instanceArgs\":{\"namespace\":\"html\",\"tag\":\"div\"},\"children\":[{\"props\":{\"className\":\"interact \",\"style\":{\"padding\":\"5px 10px 0px 10px\"}},\"nodeType\":\"DOM\",\"type\":\"node\",\"instanceArgs\":{\"namespace\":\"html\",\"tag\":\"label\"},\"children\":[\"mixture size\"]}]},{\"props\":{\"className\":\"interact-flex-row-center\"},\"nodeType\":\"DOM\",\"type\":\"node\",\"instanceArgs\":{\"namespace\":\"html\",\"tag\":\"div\"},\"children\":[{\"props\":{\"max\":10,\"min\":1,\"attributes\":{\"type\":\"range\",\"data-bind\":\"numericValue: index, valueUpdate: 'input', event: {change: function (){this.changes(this.changes()+1)}}\",\"orient\":\"horizontal\"},\"step\":1,\"className\":\"slider slider is-fullwidth\",\"style\":{}},\"nodeType\":\"DOM\",\"type\":\"node\",\"instanceArgs\":{\"namespace\":\"html\",\"tag\":\"input\"},\"children\":[]}]},{\"props\":{\"className\":\"interact-flex-row-right\"},\"nodeType\":\"DOM\",\"type\":\"node\",\"instanceArgs\":{\"namespace\":\"html\",\"tag\":\"div\"},\"children\":[{\"props\":{\"attributes\":{\"data-bind\":\"text: formatted_val\"}},\"nodeType\":\"DOM\",\"type\":\"node\",\"instanceArgs\":{\"namespace\":\"html\",\"tag\":\"p\"},\"children\":[]}]}]}]}]},{\"props\":{\"className\":\"field interact-widget\"},\"nodeType\":\"DOM\",\"type\":\"node\",\"instanceArgs\":{\"namespace\":\"html\",\"tag\":\"div\"},\"children\":[{\"props\":{},\"nodeType\":\"Scope\",\"type\":\"node\",\"instanceArgs\":{\"imports\":{\"data\":[{\"name\":\"knockout\",\"type\":\"js\",\"url\":\"\\/assetserver\\/4b78a831658f9469be0fa90a874237d533cfc56e-knockout.js\"},{\"name\":\"knockout_punches\",\"type\":\"js\",\"url\":\"\\/assetserver\\/32cf81589ef7eb25886db6e5be297d237f8599ce-knockout_punches.js\"},{\"name\":null,\"type\":\"js\",\"url\":\"\\/assetserver\\/4c861182dd4c5b1a7b80754ca907d70e11c2410c-all.js\"},{\"name\":null,\"type\":\"css\",\"url\":\"\\/assetserver\\/55ec2ee389419b72c3c6088bc3fbe3d7187a5fc0-style.css\"},{\"name\":null,\"type\":\"css\",\"url\":\"\\/assetserver\\/bb71acf9697a201a164f98e5fab8a4f7b4f82041-bulma_confined.min.css\"}],\"type\":\"async_block\"},\"id\":\"15859403562751656846\",\"handlers\":{\"changes\":[\"(function (val){return (val!=this.model[\\\"changes\\\"]()) ? (this.valueFromJulia[\\\"changes\\\"]=true, this.model[\\\"changes\\\"](val)) : undefined})\"],\"index\":[\"(function (val){return (val!=this.model[\\\"index\\\"]()) ? (this.valueFromJulia[\\\"index\\\"]=true, this.model[\\\"index\\\"](val)) : undefined})\"]},\"systemjs_options\":null,\"mount_callbacks\":[\"function () {\\n    var handler = (function (ko, koPunches) {\\n    ko.punches.enableAll();\\n    ko.bindingHandlers.numericValue = {\\n        init: function(element, valueAccessor, allBindings, data, context) {\\n            var stringified = ko.observable(ko.unwrap(valueAccessor()));\\n            stringified.subscribe(function(value) {\\n                var val = parseFloat(value);\\n                if (!isNaN(val)) {\\n                    valueAccessor()(val);\\n                }\\n            });\\n            valueAccessor().subscribe(function(value) {\\n                var str = JSON.stringify(value);\\n                if ((str == \\\"0\\\") && ([\\\"-0\\\", \\\"-0.\\\"].indexOf(stringified()) >= 0))\\n                     return;\\n                 if ([\\\"null\\\", \\\"\\\"].indexOf(str) >= 0)\\n                     return;\\n                stringified(str);\\n            });\\n            ko.applyBindingsToNode(\\n                element,\\n                {\\n                    value: stringified,\\n                    valueUpdate: allBindings.get('valueUpdate'),\\n                },\\n                context,\\n            );\\n        }\\n    };\\n    var json_data = {\\\"formatted_vals\\\":[\\\"0.01\\\",\\\"0.12\\\",\\\"0.23\\\",\\\"0.34\\\",\\\"0.45\\\",\\\"0.56\\\",\\\"0.67\\\",\\\"0.78\\\",\\\"0.89\\\",\\\"1.0\\\"],\\\"changes\\\":WebIO.getval({\\\"name\\\":\\\"changes\\\",\\\"scope\\\":\\\"15859403562751656846\\\",\\\"id\\\":\\\"17413442297242899299\\\",\\\"type\\\":\\\"observable\\\"}),\\\"index\\\":WebIO.getval({\\\"name\\\":\\\"index\\\",\\\"scope\\\":\\\"15859403562751656846\\\",\\\"id\\\":\\\"9903425566310853510\\\",\\\"type\\\":\\\"observable\\\"})};\\n    var self = this;\\n    function AppViewModel() {\\n        for (var key in json_data) {\\n            var el = json_data[key];\\n            this[key] = Array.isArray(el) ? ko.observableArray(el) : ko.observable(el);\\n        }\\n        \\n        [this[\\\"formatted_val\\\"]=ko.computed(    function(){\\n        return this.formatted_vals()[parseInt(this.index())-(1)];\\n    }\\n,this)]\\n        [this[\\\"changes\\\"].subscribe((function (val){!(this.valueFromJulia[\\\"changes\\\"]) ? (WebIO.setval({\\\"name\\\":\\\"changes\\\",\\\"scope\\\":\\\"15859403562751656846\\\",\\\"id\\\":\\\"17413442297242899299\\\",\\\"type\\\":\\\"observable\\\"},val)) : undefined; return this.valueFromJulia[\\\"changes\\\"]=false}),self),this[\\\"index\\\"].subscribe((function (val){!(this.valueFromJulia[\\\"index\\\"]) ? (WebIO.setval({\\\"name\\\":\\\"index\\\",\\\"scope\\\":\\\"15859403562751656846\\\",\\\"id\\\":\\\"9903425566310853510\\\",\\\"type\\\":\\\"observable\\\"},val)) : undefined; return this.valueFromJulia[\\\"index\\\"]=false}),self)]\\n        \\n    }\\n    self.model = new AppViewModel();\\n    self.valueFromJulia = {};\\n    for (var key in json_data) {\\n        self.valueFromJulia[key] = false;\\n    }\\n    ko.applyBindings(self.model, self.dom);\\n}\\n);\\n    (WebIO.importBlock({\\\"data\\\":[{\\\"name\\\":\\\"knockout\\\",\\\"type\\\":\\\"js\\\",\\\"url\\\":\\\"\\/assetserver\\/4b78a831658f9469be0fa90a874237d533cfc56e-knockout.js\\\"},{\\\"name\\\":\\\"knockout_punches\\\",\\\"type\\\":\\\"js\\\",\\\"url\\\":\\\"\\/assetserver\\/32cf81589ef7eb25886db6e5be297d237f8599ce-knockout_punches.js\\\"}],\\\"type\\\":\\\"async_block\\\"})).then((imports) => handler.apply(this, imports));\\n}\\n\"],\"observables\":{\"changes\":{\"sync\":false,\"id\":\"17413442297242899299\",\"value\":0},\"index\":{\"sync\":true,\"id\":\"9903425566310853510\",\"value\":5}}},\"children\":[{\"props\":{\"className\":\"interact-flex-row interact-widget\"},\"nodeType\":\"DOM\",\"type\":\"node\",\"instanceArgs\":{\"namespace\":\"html\",\"tag\":\"div\"},\"children\":[{\"props\":{\"className\":\"interact-flex-row-left\"},\"nodeType\":\"DOM\",\"type\":\"node\",\"instanceArgs\":{\"namespace\":\"html\",\"tag\":\"div\"},\"children\":[{\"props\":{\"className\":\"interact \",\"style\":{\"padding\":\"5px 10px 0px 10px\"}},\"nodeType\":\"DOM\",\"type\":\"node\",\"instanceArgs\":{\"namespace\":\"html\",\"tag\":\"label\"},\"children\":[\"s_noise\"]}]},{\"props\":{\"className\":\"interact-flex-row-center\"},\"nodeType\":\"DOM\",\"type\":\"node\",\"instanceArgs\":{\"namespace\":\"html\",\"tag\":\"div\"},\"children\":[{\"props\":{\"max\":10,\"min\":1,\"attributes\":{\"type\":\"range\",\"data-bind\":\"numericValue: index, valueUpdate: 'input', event: {change: function (){this.changes(this.changes()+1)}}\",\"orient\":\"horizontal\"},\"step\":1,\"className\":\"slider slider is-fullwidth\",\"style\":{}},\"nodeType\":\"DOM\",\"type\":\"node\",\"instanceArgs\":{\"namespace\":\"html\",\"tag\":\"input\"},\"children\":[]}]},{\"props\":{\"className\":\"interact-flex-row-right\"},\"nodeType\":\"DOM\",\"type\":\"node\",\"instanceArgs\":{\"namespace\":\"html\",\"tag\":\"div\"},\"children\":[{\"props\":{\"attributes\":{\"data-bind\":\"text: formatted_val\"}},\"nodeType\":\"DOM\",\"type\":\"node\",\"instanceArgs\":{\"namespace\":\"html\",\"tag\":\"p\"},\"children\":[]}]}]}]}]}]},{\"props\":{\"style\":{\"display\":\"flex\",\"flex-direction\":\"row\"}},\"nodeType\":\"DOM\",\"type\":\"node\",\"instanceArgs\":{\"namespace\":\"html\",\"tag\":\"div\"},\"children\":[{\"props\":{\"className\":\"field interact-widget\"},\"nodeType\":\"DOM\",\"type\":\"node\",\"instanceArgs\":{\"namespace\":\"html\",\"tag\":\"div\"},\"children\":[{\"props\":{},\"nodeType\":\"Scope\",\"type\":\"node\",\"instanceArgs\":{\"imports\":{\"data\":[{\"name\":\"knockout\",\"type\":\"js\",\"url\":\"\\/assetserver\\/4b78a831658f9469be0fa90a874237d533cfc56e-knockout.js\"},{\"name\":\"knockout_punches\",\"type\":\"js\",\"url\":\"\\/assetserver\\/32cf81589ef7eb25886db6e5be297d237f8599ce-knockout_punches.js\"},{\"name\":null,\"type\":\"js\",\"url\":\"\\/assetserver\\/4c861182dd4c5b1a7b80754ca907d70e11c2410c-all.js\"},{\"name\":null,\"type\":\"css\",\"url\":\"\\/assetserver\\/55ec2ee389419b72c3c6088bc3fbe3d7187a5fc0-style.css\"},{\"name\":null,\"type\":\"css\",\"url\":\"\\/assetserver\\/bb71acf9697a201a164f98e5fab8a4f7b4f82041-bulma_confined.min.css\"}],\"type\":\"async_block\"},\"id\":\"752390581389558021\",\"handlers\":{\"changes\":[\"(function (val){return (val!=this.model[\\\"changes\\\"]()) ? (this.valueFromJulia[\\\"changes\\\"]=true, this.model[\\\"changes\\\"](val)) : undefined})\"],\"index\":[\"(function (val){return (val!=this.model[\\\"index\\\"]()) ? (this.valueFromJulia[\\\"index\\\"]=true, this.model[\\\"index\\\"](val)) : undefined})\"]},\"systemjs_options\":null,\"mount_callbacks\":[\"function () {\\n    var handler = (function (ko, koPunches) {\\n    ko.punches.enableAll();\\n    ko.bindingHandlers.numericValue = {\\n        init: function(element, valueAccessor, allBindings, data, context) {\\n            var stringified = ko.observable(ko.unwrap(valueAccessor()));\\n            stringified.subscribe(function(value) {\\n                var val = parseFloat(value);\\n                if (!isNaN(val)) {\\n                    valueAccessor()(val);\\n                }\\n            });\\n            valueAccessor().subscribe(function(value) {\\n                var str = JSON.stringify(value);\\n                if ((str == \\\"0\\\") && ([\\\"-0\\\", \\\"-0.\\\"].indexOf(stringified()) >= 0))\\n                     return;\\n                 if ([\\\"null\\\", \\\"\\\"].indexOf(str) >= 0)\\n                     return;\\n                stringified(str);\\n            });\\n            ko.applyBindingsToNode(\\n                element,\\n                {\\n                    value: stringified,\\n                    valueUpdate: allBindings.get('valueUpdate'),\\n                },\\n                context,\\n            );\\n        }\\n    };\\n    var json_data = {\\\"formatted_vals\\\":[\\\"1\\\",\\\"2\\\",\\\"3\\\",\\\"4\\\",\\\"5\\\",\\\"6\\\",\\\"7\\\",\\\"8\\\",\\\"9\\\",\\\"10\\\"],\\\"changes\\\":WebIO.getval({\\\"name\\\":\\\"changes\\\",\\\"scope\\\":\\\"752390581389558021\\\",\\\"id\\\":\\\"11894853266460105516\\\",\\\"type\\\":\\\"observable\\\"}),\\\"index\\\":WebIO.getval({\\\"name\\\":\\\"index\\\",\\\"scope\\\":\\\"752390581389558021\\\",\\\"id\\\":\\\"14038167865866125115\\\",\\\"type\\\":\\\"observable\\\"})};\\n    var self = this;\\n    function AppViewModel() {\\n        for (var key in json_data) {\\n            var el = json_data[key];\\n            this[key] = Array.isArray(el) ? ko.observableArray(el) : ko.observable(el);\\n        }\\n        \\n        [this[\\\"formatted_val\\\"]=ko.computed(    function(){\\n        return this.formatted_vals()[parseInt(this.index())-(1)];\\n    }\\n,this)]\\n        [this[\\\"changes\\\"].subscribe((function (val){!(this.valueFromJulia[\\\"changes\\\"]) ? (WebIO.setval({\\\"name\\\":\\\"changes\\\",\\\"scope\\\":\\\"752390581389558021\\\",\\\"id\\\":\\\"11894853266460105516\\\",\\\"type\\\":\\\"observable\\\"},val)) : undefined; return this.valueFromJulia[\\\"changes\\\"]=false}),self),this[\\\"index\\\"].subscribe((function (val){!(this.valueFromJulia[\\\"index\\\"]) ? (WebIO.setval({\\\"name\\\":\\\"index\\\",\\\"scope\\\":\\\"752390581389558021\\\",\\\"id\\\":\\\"14038167865866125115\\\",\\\"type\\\":\\\"observable\\\"},val)) : undefined; return this.valueFromJulia[\\\"index\\\"]=false}),self)]\\n        \\n    }\\n    self.model = new AppViewModel();\\n    self.valueFromJulia = {};\\n    for (var key in json_data) {\\n        self.valueFromJulia[key] = false;\\n    }\\n    ko.applyBindings(self.model, self.dom);\\n}\\n);\\n    (WebIO.importBlock({\\\"data\\\":[{\\\"name\\\":\\\"knockout\\\",\\\"type\\\":\\\"js\\\",\\\"url\\\":\\\"\\/assetserver\\/4b78a831658f9469be0fa90a874237d533cfc56e-knockout.js\\\"},{\\\"name\\\":\\\"knockout_punches\\\",\\\"type\\\":\\\"js\\\",\\\"url\\\":\\\"\\/assetserver\\/32cf81589ef7eb25886db6e5be297d237f8599ce-knockout_punches.js\\\"}],\\\"type\\\":\\\"async_block\\\"})).then((imports) => handler.apply(this, imports));\\n}\\n\"],\"observables\":{\"changes\":{\"sync\":false,\"id\":\"11894853266460105516\",\"value\":0},\"index\":{\"sync\":false,\"id\":\"14038167865866125115\",\"value\":5}}},\"children\":[{\"props\":{\"className\":\"interact-flex-row interact-widget\"},\"nodeType\":\"DOM\",\"type\":\"node\",\"instanceArgs\":{\"namespace\":\"html\",\"tag\":\"div\"},\"children\":[{\"props\":{\"className\":\"interact-flex-row-left\"},\"nodeType\":\"DOM\",\"type\":\"node\",\"instanceArgs\":{\"namespace\":\"html\",\"tag\":\"div\"},\"children\":[{\"props\":{\"className\":\"interact \",\"style\":{\"padding\":\"5px 10px 0px 10px\"}},\"nodeType\":\"DOM\",\"type\":\"node\",\"instanceArgs\":{\"namespace\":\"html\",\"tag\":\"label\"},\"children\":[\"grid iters\"]}]},{\"props\":{\"className\":\"interact-flex-row-center\"},\"nodeType\":\"DOM\",\"type\":\"node\",\"instanceArgs\":{\"namespace\":\"html\",\"tag\":\"div\"},\"children\":[{\"props\":{\"max\":10,\"min\":1,\"attributes\":{\"type\":\"range\",\"data-bind\":\"numericValue: index, valueUpdate: 'input', event: {change: function (){this.changes(this.changes()+1)}}\",\"orient\":\"horizontal\"},\"step\":1,\"className\":\"slider slider is-fullwidth\",\"style\":{}},\"nodeType\":\"DOM\",\"type\":\"node\",\"instanceArgs\":{\"namespace\":\"html\",\"tag\":\"input\"},\"children\":[]}]},{\"props\":{\"className\":\"interact-flex-row-right\"},\"nodeType\":\"DOM\",\"type\":\"node\",\"instanceArgs\":{\"namespace\":\"html\",\"tag\":\"div\"},\"children\":[{\"props\":{\"attributes\":{\"data-bind\":\"text: formatted_val\"}},\"nodeType\":\"DOM\",\"type\":\"node\",\"instanceArgs\":{\"namespace\":\"html\",\"tag\":\"p\"},\"children\":[]}]}]}]}]},{\"props\":{\"className\":\"field interact-widget\"},\"nodeType\":\"DOM\",\"type\":\"node\",\"instanceArgs\":{\"namespace\":\"html\",\"tag\":\"div\"},\"children\":[{\"props\":{},\"nodeType\":\"Scope\",\"type\":\"node\",\"instanceArgs\":{\"imports\":{\"data\":[{\"name\":\"knockout\",\"type\":\"js\",\"url\":\"\\/assetserver\\/4b78a831658f9469be0fa90a874237d533cfc56e-knockout.js\"},{\"name\":\"knockout_punches\",\"type\":\"js\",\"url\":\"\\/assetserver\\/32cf81589ef7eb25886db6e5be297d237f8599ce-knockout_punches.js\"},{\"name\":null,\"type\":\"js\",\"url\":\"\\/assetserver\\/4c861182dd4c5b1a7b80754ca907d70e11c2410c-all.js\"},{\"name\":null,\"type\":\"css\",\"url\":\"\\/assetserver\\/55ec2ee389419b72c3c6088bc3fbe3d7187a5fc0-style.css\"},{\"name\":null,\"type\":\"css\",\"url\":\"\\/assetserver\\/bb71acf9697a201a164f98e5fab8a4f7b4f82041-bulma_confined.min.css\"}],\"type\":\"async_block\"},\"id\":\"13053949046312555393\",\"handlers\":{\"changes\":[\"(function (val){return (val!=this.model[\\\"changes\\\"]()) ? (this.valueFromJulia[\\\"changes\\\"]=true, this.model[\\\"changes\\\"](val)) : undefined})\"],\"index\":[\"(function (val){return (val!=this.model[\\\"index\\\"]()) ? (this.valueFromJulia[\\\"index\\\"]=true, this.model[\\\"index\\\"](val)) : undefined})\"]},\"systemjs_options\":null,\"mount_callbacks\":[\"function () {\\n    var handler = (function (ko, koPunches) {\\n    ko.punches.enableAll();\\n    ko.bindingHandlers.numericValue = {\\n        init: function(element, valueAccessor, allBindings, data, context) {\\n            var stringified = ko.observable(ko.unwrap(valueAccessor()));\\n            stringified.subscribe(function(value) {\\n                var val = parseFloat(value);\\n                if (!isNaN(val)) {\\n                    valueAccessor()(val);\\n                }\\n            });\\n            valueAccessor().subscribe(function(value) {\\n                var str = JSON.stringify(value);\\n                if ((str == \\\"0\\\") && ([\\\"-0\\\", \\\"-0.\\\"].indexOf(stringified()) >= 0))\\n                     return;\\n                 if ([\\\"null\\\", \\\"\\\"].indexOf(str) >= 0)\\n                     return;\\n                stringified(str);\\n            });\\n            ko.applyBindingsToNode(\\n                element,\\n                {\\n                    value: stringified,\\n                    valueUpdate: allBindings.get('valueUpdate'),\\n                },\\n                context,\\n            );\\n        }\\n    };\\n    var json_data = {\\\"formatted_vals\\\":[\\\"2\\\",\\\"3\\\",\\\"4\\\",\\\"5\\\",\\\"6\\\",\\\"7\\\",\\\"8\\\",\\\"9\\\",\\\"10\\\"],\\\"changes\\\":WebIO.getval({\\\"name\\\":\\\"changes\\\",\\\"scope\\\":\\\"13053949046312555393\\\",\\\"id\\\":\\\"1715039377240127802\\\",\\\"type\\\":\\\"observable\\\"}),\\\"index\\\":WebIO.getval({\\\"name\\\":\\\"index\\\",\\\"scope\\\":\\\"13053949046312555393\\\",\\\"id\\\":\\\"11184462984573913715\\\",\\\"type\\\":\\\"observable\\\"})};\\n    var self = this;\\n    function AppViewModel() {\\n        for (var key in json_data) {\\n            var el = json_data[key];\\n            this[key] = Array.isArray(el) ? ko.observableArray(el) : ko.observable(el);\\n        }\\n        \\n        [this[\\\"formatted_val\\\"]=ko.computed(    function(){\\n        return this.formatted_vals()[parseInt(this.index())-(2)];\\n    }\\n,this)]\\n        [this[\\\"changes\\\"].subscribe((function (val){!(this.valueFromJulia[\\\"changes\\\"]) ? (WebIO.setval({\\\"name\\\":\\\"changes\\\",\\\"scope\\\":\\\"13053949046312555393\\\",\\\"id\\\":\\\"1715039377240127802\\\",\\\"type\\\":\\\"observable\\\"},val)) : undefined; return this.valueFromJulia[\\\"changes\\\"]=false}),self),this[\\\"index\\\"].subscribe((function (val){!(this.valueFromJulia[\\\"index\\\"]) ? (WebIO.setval({\\\"name\\\":\\\"index\\\",\\\"scope\\\":\\\"13053949046312555393\\\",\\\"id\\\":\\\"11184462984573913715\\\",\\\"type\\\":\\\"observable\\\"},val)) : undefined; return this.valueFromJulia[\\\"index\\\"]=false}),self)]\\n        \\n    }\\n    self.model = new AppViewModel();\\n    self.valueFromJulia = {};\\n    for (var key in json_data) {\\n        self.valueFromJulia[key] = false;\\n    }\\n    ko.applyBindings(self.model, self.dom);\\n}\\n);\\n    (WebIO.importBlock({\\\"data\\\":[{\\\"name\\\":\\\"knockout\\\",\\\"type\\\":\\\"js\\\",\\\"url\\\":\\\"\\/assetserver\\/4b78a831658f9469be0fa90a874237d533cfc56e-knockout.js\\\"},{\\\"name\\\":\\\"knockout_punches\\\",\\\"type\\\":\\\"js\\\",\\\"url\\\":\\\"\\/assetserver\\/32cf81589ef7eb25886db6e5be297d237f8599ce-knockout_punches.js\\\"}],\\\"type\\\":\\\"async_block\\\"})).then((imports) => handler.apply(this, imports));\\n}\\n\"],\"observables\":{\"changes\":{\"sync\":false,\"id\":\"1715039377240127802\",\"value\":0},\"index\":{\"sync\":false,\"id\":\"11184462984573913715\",\"value\":6}}},\"children\":[{\"props\":{\"className\":\"interact-flex-row interact-widget\"},\"nodeType\":\"DOM\",\"type\":\"node\",\"instanceArgs\":{\"namespace\":\"html\",\"tag\":\"div\"},\"children\":[{\"props\":{\"className\":\"interact-flex-row-left\"},\"nodeType\":\"DOM\",\"type\":\"node\",\"instanceArgs\":{\"namespace\":\"html\",\"tag\":\"div\"},\"children\":[{\"props\":{\"className\":\"interact \",\"style\":{\"padding\":\"5px 10px 0px 10px\"}},\"nodeType\":\"DOM\",\"type\":\"node\",\"instanceArgs\":{\"namespace\":\"html\",\"tag\":\"label\"},\"children\":[\"grid shape\"]}]},{\"props\":{\"className\":\"interact-flex-row-center\"},\"nodeType\":\"DOM\",\"type\":\"node\",\"instanceArgs\":{\"namespace\":\"html\",\"tag\":\"div\"},\"children\":[{\"props\":{\"max\":10,\"min\":2,\"attributes\":{\"type\":\"range\",\"data-bind\":\"numericValue: index, valueUpdate: 'input', event: {change: function (){this.changes(this.changes()+1)}}\",\"orient\":\"horizontal\"},\"step\":1,\"className\":\"slider slider is-fullwidth\",\"style\":{}},\"nodeType\":\"DOM\",\"type\":\"node\",\"instanceArgs\":{\"namespace\":\"html\",\"tag\":\"input\"},\"children\":[]}]},{\"props\":{\"className\":\"interact-flex-row-right\"},\"nodeType\":\"DOM\",\"type\":\"node\",\"instanceArgs\":{\"namespace\":\"html\",\"tag\":\"div\"},\"children\":[{\"props\":{\"attributes\":{\"data-bind\":\"text: formatted_val\"}},\"nodeType\":\"DOM\",\"type\":\"node\",\"instanceArgs\":{\"namespace\":\"html\",\"tag\":\"p\"},\"children\":[]}]}]}]}]}]},{\"props\":{\"style\":{\"display\":\"flex\",\"flex-direction\":\"row\"}},\"nodeType\":\"DOM\",\"type\":\"node\",\"instanceArgs\":{\"namespace\":\"html\",\"tag\":\"div\"},\"children\":[{\"props\":{\"className\":\"field interact-widget\"},\"nodeType\":\"DOM\",\"type\":\"node\",\"instanceArgs\":{\"namespace\":\"html\",\"tag\":\"div\"},\"children\":[{\"props\":{},\"nodeType\":\"Scope\",\"type\":\"node\",\"instanceArgs\":{\"imports\":{\"data\":[{\"name\":\"knockout\",\"type\":\"js\",\"url\":\"\\/assetserver\\/4b78a831658f9469be0fa90a874237d533cfc56e-knockout.js\"},{\"name\":\"knockout_punches\",\"type\":\"js\",\"url\":\"\\/assetserver\\/32cf81589ef7eb25886db6e5be297d237f8599ce-knockout_punches.js\"},{\"name\":null,\"type\":\"js\",\"url\":\"\\/assetserver\\/4c861182dd4c5b1a7b80754ca907d70e11c2410c-all.js\"},{\"name\":null,\"type\":\"css\",\"url\":\"\\/assetserver\\/55ec2ee389419b72c3c6088bc3fbe3d7187a5fc0-style.css\"},{\"name\":null,\"type\":\"css\",\"url\":\"\\/assetserver\\/bb71acf9697a201a164f98e5fab8a4f7b4f82041-bulma_confined.min.css\"}],\"type\":\"async_block\"},\"id\":\"7715312473084220659\",\"handlers\":{\"changes\":[\"(function (val){return (val!=this.model[\\\"changes\\\"]()) ? (this.valueFromJulia[\\\"changes\\\"]=true, this.model[\\\"changes\\\"](val)) : undefined})\"],\"index\":[\"(function (val){return (val!=this.model[\\\"index\\\"]()) ? (this.valueFromJulia[\\\"index\\\"]=true, this.model[\\\"index\\\"](val)) : undefined})\"]},\"systemjs_options\":null,\"mount_callbacks\":[\"function () {\\n    var handler = (function (ko, koPunches) {\\n    ko.punches.enableAll();\\n    ko.bindingHandlers.numericValue = {\\n        init: function(element, valueAccessor, allBindings, data, context) {\\n            var stringified = ko.observable(ko.unwrap(valueAccessor()));\\n            stringified.subscribe(function(value) {\\n                var val = parseFloat(value);\\n                if (!isNaN(val)) {\\n                    valueAccessor()(val);\\n                }\\n            });\\n            valueAccessor().subscribe(function(value) {\\n                var str = JSON.stringify(value);\\n                if ((str == \\\"0\\\") && ([\\\"-0\\\", \\\"-0.\\\"].indexOf(stringified()) >= 0))\\n                     return;\\n                 if ([\\\"null\\\", \\\"\\\"].indexOf(str) >= 0)\\n                     return;\\n                stringified(str);\\n            });\\n            ko.applyBindingsToNode(\\n                element,\\n                {\\n                    value: stringified,\\n                    valueUpdate: allBindings.get('valueUpdate'),\\n                },\\n                context,\\n            );\\n        }\\n    };\\n    var json_data = {\\\"formatted_vals\\\":[\\\"1\\\",\\\"6\\\",\\\"11\\\",\\\"16\\\",\\\"21\\\",\\\"26\\\",\\\"31\\\",\\\"36\\\",\\\"41\\\",\\\"46\\\"],\\\"changes\\\":WebIO.getval({\\\"name\\\":\\\"changes\\\",\\\"scope\\\":\\\"7715312473084220659\\\",\\\"id\\\":\\\"2240581312514518512\\\",\\\"type\\\":\\\"observable\\\"}),\\\"index\\\":WebIO.getval({\\\"name\\\":\\\"index\\\",\\\"scope\\\":\\\"7715312473084220659\\\",\\\"id\\\":\\\"13378244841300840874\\\",\\\"type\\\":\\\"observable\\\"})};\\n    var self = this;\\n    function AppViewModel() {\\n        for (var key in json_data) {\\n            var el = json_data[key];\\n            this[key] = Array.isArray(el) ? ko.observableArray(el) : ko.observable(el);\\n        }\\n        \\n        [this[\\\"formatted_val\\\"]=ko.computed(    function(){\\n        return this.formatted_vals()[parseInt(this.index())-(1)];\\n    }\\n,this)]\\n        [this[\\\"changes\\\"].subscribe((function (val){!(this.valueFromJulia[\\\"changes\\\"]) ? (WebIO.setval({\\\"name\\\":\\\"changes\\\",\\\"scope\\\":\\\"7715312473084220659\\\",\\\"id\\\":\\\"2240581312514518512\\\",\\\"type\\\":\\\"observable\\\"},val)) : undefined; return this.valueFromJulia[\\\"changes\\\"]=false}),self),this[\\\"index\\\"].subscribe((function (val){!(this.valueFromJulia[\\\"index\\\"]) ? (WebIO.setval({\\\"name\\\":\\\"index\\\",\\\"scope\\\":\\\"7715312473084220659\\\",\\\"id\\\":\\\"13378244841300840874\\\",\\\"type\\\":\\\"observable\\\"},val)) : undefined; return this.valueFromJulia[\\\"index\\\"]=false}),self)]\\n        \\n    }\\n    self.model = new AppViewModel();\\n    self.valueFromJulia = {};\\n    for (var key in json_data) {\\n        self.valueFromJulia[key] = false;\\n    }\\n    ko.applyBindings(self.model, self.dom);\\n}\\n);\\n    (WebIO.importBlock({\\\"data\\\":[{\\\"name\\\":\\\"knockout\\\",\\\"type\\\":\\\"js\\\",\\\"url\\\":\\\"\\/assetserver\\/4b78a831658f9469be0fa90a874237d533cfc56e-knockout.js\\\"},{\\\"name\\\":\\\"knockout_punches\\\",\\\"type\\\":\\\"js\\\",\\\"url\\\":\\\"\\/assetserver\\/32cf81589ef7eb25886db6e5be297d237f8599ce-knockout_punches.js\\\"}],\\\"type\\\":\\\"async_block\\\"})).then((imports) => handler.apply(this, imports));\\n}\\n\"],\"observables\":{\"changes\":{\"sync\":false,\"id\":\"2240581312514518512\",\"value\":0},\"index\":{\"sync\":true,\"id\":\"13378244841300840874\",\"value\":5}}},\"children\":[{\"props\":{\"className\":\"interact-flex-row interact-widget\"},\"nodeType\":\"DOM\",\"type\":\"node\",\"instanceArgs\":{\"namespace\":\"html\",\"tag\":\"div\"},\"children\":[{\"props\":{\"className\":\"interact-flex-row-left\"},\"nodeType\":\"DOM\",\"type\":\"node\",\"instanceArgs\":{\"namespace\":\"html\",\"tag\":\"div\"},\"children\":[{\"props\":{\"className\":\"interact \",\"style\":{\"padding\":\"5px 10px 0px 10px\"}},\"nodeType\":\"DOM\",\"type\":\"node\",\"instanceArgs\":{\"namespace\":\"html\",\"tag\":\"label\"},\"children\":[\"grid mixture size\"]}]},{\"props\":{\"className\":\"interact-flex-row-center\"},\"nodeType\":\"DOM\",\"type\":\"node\",\"instanceArgs\":{\"namespace\":\"html\",\"tag\":\"div\"},\"children\":[{\"props\":{\"max\":10,\"min\":1,\"attributes\":{\"type\":\"range\",\"data-bind\":\"numericValue: index, valueUpdate: 'input', event: {change: function (){this.changes(this.changes()+1)}}\",\"orient\":\"horizontal\"},\"step\":1,\"className\":\"slider slider is-fullwidth\",\"style\":{}},\"nodeType\":\"DOM\",\"type\":\"node\",\"instanceArgs\":{\"namespace\":\"html\",\"tag\":\"input\"},\"children\":[]}]},{\"props\":{\"className\":\"interact-flex-row-right\"},\"nodeType\":\"DOM\",\"type\":\"node\",\"instanceArgs\":{\"namespace\":\"html\",\"tag\":\"div\"},\"children\":[{\"props\":{\"attributes\":{\"data-bind\":\"text: formatted_val\"}},\"nodeType\":\"DOM\",\"type\":\"node\",\"instanceArgs\":{\"namespace\":\"html\",\"tag\":\"p\"},\"children\":[]}]}]}]}]},{\"props\":{\"className\":\"field interact-widget\"},\"nodeType\":\"DOM\",\"type\":\"node\",\"instanceArgs\":{\"namespace\":\"html\",\"tag\":\"div\"},\"children\":[{\"props\":{},\"nodeType\":\"Scope\",\"type\":\"node\",\"instanceArgs\":{\"imports\":{\"data\":[{\"name\":\"knockout\",\"type\":\"js\",\"url\":\"\\/assetserver\\/4b78a831658f9469be0fa90a874237d533cfc56e-knockout.js\"},{\"name\":\"knockout_punches\",\"type\":\"js\",\"url\":\"\\/assetserver\\/32cf81589ef7eb25886db6e5be297d237f8599ce-knockout_punches.js\"},{\"name\":null,\"type\":\"js\",\"url\":\"\\/assetserver\\/4c861182dd4c5b1a7b80754ca907d70e11c2410c-all.js\"},{\"name\":null,\"type\":\"css\",\"url\":\"\\/assetserver\\/55ec2ee389419b72c3c6088bc3fbe3d7187a5fc0-style.css\"},{\"name\":null,\"type\":\"css\",\"url\":\"\\/assetserver\\/bb71acf9697a201a164f98e5fab8a4f7b4f82041-bulma_confined.min.css\"}],\"type\":\"async_block\"},\"id\":\"15745002581873769610\",\"handlers\":{\"changes\":[\"(function (val){return (val!=this.model[\\\"changes\\\"]()) ? (this.valueFromJulia[\\\"changes\\\"]=true, this.model[\\\"changes\\\"](val)) : undefined})\"],\"index\":[\"(function (val){return (val!=this.model[\\\"index\\\"]()) ? (this.valueFromJulia[\\\"index\\\"]=true, this.model[\\\"index\\\"](val)) : undefined})\"]},\"systemjs_options\":null,\"mount_callbacks\":[\"function () {\\n    var handler = (function (ko, koPunches) {\\n    ko.punches.enableAll();\\n    ko.bindingHandlers.numericValue = {\\n        init: function(element, valueAccessor, allBindings, data, context) {\\n            var stringified = ko.observable(ko.unwrap(valueAccessor()));\\n            stringified.subscribe(function(value) {\\n                var val = parseFloat(value);\\n                if (!isNaN(val)) {\\n                    valueAccessor()(val);\\n                }\\n            });\\n            valueAccessor().subscribe(function(value) {\\n                var str = JSON.stringify(value);\\n                if ((str == \\\"0\\\") && ([\\\"-0\\\", \\\"-0.\\\"].indexOf(stringified()) >= 0))\\n                     return;\\n                 if ([\\\"null\\\", \\\"\\\"].indexOf(str) >= 0)\\n                     return;\\n                stringified(str);\\n            });\\n            ko.applyBindingsToNode(\\n                element,\\n                {\\n                    value: stringified,\\n                    valueUpdate: allBindings.get('valueUpdate'),\\n                },\\n                context,\\n            );\\n        }\\n    };\\n    var json_data = {\\\"formatted_vals\\\":[\\\"0.01\\\",\\\"0.12\\\",\\\"0.23\\\",\\\"0.34\\\",\\\"0.45\\\",\\\"0.56\\\",\\\"0.67\\\",\\\"0.78\\\",\\\"0.89\\\",\\\"1.0\\\"],\\\"changes\\\":WebIO.getval({\\\"name\\\":\\\"changes\\\",\\\"scope\\\":\\\"15745002581873769610\\\",\\\"id\\\":\\\"9088768972522944176\\\",\\\"type\\\":\\\"observable\\\"}),\\\"index\\\":WebIO.getval({\\\"name\\\":\\\"index\\\",\\\"scope\\\":\\\"15745002581873769610\\\",\\\"id\\\":\\\"9660000643211677619\\\",\\\"type\\\":\\\"observable\\\"})};\\n    var self = this;\\n    function AppViewModel() {\\n        for (var key in json_data) {\\n            var el = json_data[key];\\n            this[key] = Array.isArray(el) ? ko.observableArray(el) : ko.observable(el);\\n        }\\n        \\n        [this[\\\"formatted_val\\\"]=ko.computed(    function(){\\n        return this.formatted_vals()[parseInt(this.index())-(1)];\\n    }\\n,this)]\\n        [this[\\\"changes\\\"].subscribe((function (val){!(this.valueFromJulia[\\\"changes\\\"]) ? (WebIO.setval({\\\"name\\\":\\\"changes\\\",\\\"scope\\\":\\\"15745002581873769610\\\",\\\"id\\\":\\\"9088768972522944176\\\",\\\"type\\\":\\\"observable\\\"},val)) : undefined; return this.valueFromJulia[\\\"changes\\\"]=false}),self),this[\\\"index\\\"].subscribe((function (val){!(this.valueFromJulia[\\\"index\\\"]) ? (WebIO.setval({\\\"name\\\":\\\"index\\\",\\\"scope\\\":\\\"15745002581873769610\\\",\\\"id\\\":\\\"9660000643211677619\\\",\\\"type\\\":\\\"observable\\\"},val)) : undefined; return this.valueFromJulia[\\\"index\\\"]=false}),self)]\\n        \\n    }\\n    self.model = new AppViewModel();\\n    self.valueFromJulia = {};\\n    for (var key in json_data) {\\n        self.valueFromJulia[key] = false;\\n    }\\n    ko.applyBindings(self.model, self.dom);\\n}\\n);\\n    (WebIO.importBlock({\\\"data\\\":[{\\\"name\\\":\\\"knockout\\\",\\\"type\\\":\\\"js\\\",\\\"url\\\":\\\"\\/assetserver\\/4b78a831658f9469be0fa90a874237d533cfc56e-knockout.js\\\"},{\\\"name\\\":\\\"knockout_punches\\\",\\\"type\\\":\\\"js\\\",\\\"url\\\":\\\"\\/assetserver\\/32cf81589ef7eb25886db6e5be297d237f8599ce-knockout_punches.js\\\"}],\\\"type\\\":\\\"async_block\\\"})).then((imports) => handler.apply(this, imports));\\n}\\n\"],\"observables\":{\"changes\":{\"sync\":false,\"id\":\"9088768972522944176\",\"value\":0},\"index\":{\"sync\":true,\"id\":\"9660000643211677619\",\"value\":5}}},\"children\":[{\"props\":{\"className\":\"interact-flex-row interact-widget\"},\"nodeType\":\"DOM\",\"type\":\"node\",\"instanceArgs\":{\"namespace\":\"html\",\"tag\":\"div\"},\"children\":[{\"props\":{\"className\":\"interact-flex-row-left\"},\"nodeType\":\"DOM\",\"type\":\"node\",\"instanceArgs\":{\"namespace\":\"html\",\"tag\":\"div\"},\"children\":[{\"props\":{\"className\":\"interact \",\"style\":{\"padding\":\"5px 10px 0px 10px\"}},\"nodeType\":\"DOM\",\"type\":\"node\",\"instanceArgs\":{\"namespace\":\"html\",\"tag\":\"label\"},\"children\":[\"grid s_noise\"]}]},{\"props\":{\"className\":\"interact-flex-row-center\"},\"nodeType\":\"DOM\",\"type\":\"node\",\"instanceArgs\":{\"namespace\":\"html\",\"tag\":\"div\"},\"children\":[{\"props\":{\"max\":10,\"min\":1,\"attributes\":{\"type\":\"range\",\"data-bind\":\"numericValue: index, valueUpdate: 'input', event: {change: function (){this.changes(this.changes()+1)}}\",\"orient\":\"horizontal\"},\"step\":1,\"className\":\"slider slider is-fullwidth\",\"style\":{}},\"nodeType\":\"DOM\",\"type\":\"node\",\"instanceArgs\":{\"namespace\":\"html\",\"tag\":\"input\"},\"children\":[]}]},{\"props\":{\"className\":\"interact-flex-row-right\"},\"nodeType\":\"DOM\",\"type\":\"node\",\"instanceArgs\":{\"namespace\":\"html\",\"tag\":\"div\"},\"children\":[{\"props\":{\"attributes\":{\"data-bind\":\"text: formatted_val\"}},\"nodeType\":\"DOM\",\"type\":\"node\",\"instanceArgs\":{\"namespace\":\"html\",\"tag\":\"p\"},\"children\":[]}]}]}]}]}]},{\"props\":{},\"nodeType\":\"Scope\",\"type\":\"node\",\"instanceArgs\":{\"imports\":{\"data\":[],\"type\":\"async_block\"},\"id\":\"8096248015464702690\",\"handlers\":{\"obs-output\":[\"function (value, scope) {\\n    scope.setInnerHTML(value);\\n}\\n\"]},\"systemjs_options\":null,\"mount_callbacks\":[],\"observables\":{\"obs-output\":{\"sync\":false,\"id\":\"10028833865389523876\",\"value\":\"<img src=\\\"data:image\\/gif;base64,R0lGODlh8wHzAfcBAAAAAAD\\/AAEBAQICAgMDAwQEBAUFBQYGBgcHBwgICAkJCQoKCgsLCwwMDA0NDQ4ODg8PDxAQEBERERISEhMTExQUFBUVFRYWFhcXFxgYGBkZGRoaGhsbGxwcHB0dHR4eHh8fHyAgICEhISIiIiMjIyQkJCUlJSYmJicnJygoKCkpKSoqKisrKywsLC0tLS4uLi8vLzAwMDExMTIyMjMzMzQ0NDU1NTY2Njc3Nzg4ODk5OTo6Ojs7Ozw8PD09PT4+Pj8\\/P0BAQEFBQUJCQkNDQ0REREVFRUZGRkdHR0hISElJSUpKSktLS0xMTE1NTU5OTk9PT1BQUFFRUVJSUlNTU1RUVFVVVVZWVldXV1hYWFpaWltbW1xcXF1dXV5eXl9fX2BgYGFhYWJiYmNjY2RkZGVlZWZmZmdnZ2hoaGlpaWpqamtra2xsbG1tbW5ubm9vb3BwcHFxcXJycnNzc3R0dHV1dXZ2dnd3d3h4eHl5eXp6ent7e3x8fH19fX5+fn9\\/f4CAgIGBgYKCgoODg4SEhIWFhYaGhoeHh4iIiImJiYqKiouLi4yMjI2NjY6Ojo+Pj5CQkJGRkZKSkpOTk5SUlJWVlZaWlpeXl5iYmJmZmZqampubm5ycnJ2dnZ6enp+fn6CgoKGhoaKioqOjo6SkpKWlpaampqenp6ioqKmpqaqqqqurq6ysrK2tra6urq+vr7CwsLGxsbKysrOzs7S0tLW1tba2tre3t7i4uLm5ubq6uru7u7y8vL29vb6+vr+\\/v8DAwMHBwcLCwsPDw8TExMXFxcbGxsfHx8jIyMnJycrKysvLy8zMzM3Nzc7Ozs\\/Pz9DQ0NHR0dLS0tPT09TU1NXV1dbW1tfX19jY2NnZ2dra2tvb29zc3N3d3d7e3t\\/f3+Dg4OHh4eLi4uPj4+Tk5OXl5ebm5ufn5+jo6Onp6erq6uvr6+zs7O3t7e7u7u\\/v7\\/Dw8PHx8fLy8vPz8\\/T09PX19fb29vf39\\/j4+Pn5+fr6+vv7+\\/z8\\/P39\\/f7+\\/v\\/\\/\\/yH\\/C05FVFNDQVBFMi4wAwEAAAAh+QQFAAABACwAAAAA8wHzAYcAAAAA\\/wABAQECAgIDAwMEBAQFBQUGBgYHBwcICAgJCQkKCgoLCwsMDAwNDQ0ODg4PDw8QEBARERESEhITExMUFBQVFRUWFhYXFxcYGBgZGRkaGhobGxscHBwdHR0eHh4fHx8gICAhISEiIiIjIyMkJCQlJSUmJiYnJycoKCgpKSkqKiorKyssLCwtLS0uLi4vLy8wMDAxMTEyMjIzMzM0NDQ1NTU2NjY3Nzc4ODg5OTk6Ojo7Ozs8PDw9PT0+Pj4\\/Pz9AQEBBQUFCQkJDQ0NERERFRUVGRkZHR0dISEhJSUlKSkpLS0tMTExNTU1OTk5PT09QUFBRUVFSUlJTU1NUVFRVVVVWVlZXV1dYWFhaWlpbW1tcXFxdXV1eXl5fX19gYGBhYWFiYmJjY2NkZGRlZWVmZmZnZ2doaGhpaWlqampra2tsbGxtbW1ubm5vb29wcHBxcXFycnJzc3N0dHR1dXV2dnZ3d3d4eHh5eXl6enp7e3t8fHx9fX1+fn5\\/f3+AgICBgYGCgoKDg4OEhISFhYWGhoaHh4eIiIiJiYmKioqLi4uMjIyNjY2Ojo6Pj4+QkJCRkZGSkpKTk5OUlJSVlZWWlpaXl5eYmJiZmZmampqbm5ucnJydnZ2enp6fn5+goKChoaGioqKjo6OkpKSlpaWmpqanp6eoqKipqamqqqqrq6usrKytra2urq6vr6+wsLCxsbGysrKzs7O0tLS1tbW2tra3t7e4uLi5ubm6urq7u7u8vLy9vb2+vr6\\/v7\\/AwMDBwcHCwsLDw8PExMTFxcXGxsbHx8fIyMjJycnKysrLy8vMzMzNzc3Ozs7Pz8\\/Q0NDR0dHS0tLT09PU1NTV1dXW1tbX19fY2NjZ2dna2trb29vc3Nzd3d3e3t7f39\\/g4ODh4eHi4uLj4+Pk5OTl5eXm5ubn5+fo6Ojp6enq6urr6+vs7Ozt7e3u7u7v7+\\/w8PDx8fHy8vLz8\\/P09PT19fX29vb39\\/f4+Pj5+fn6+vr7+\\/v8\\/Pz9\\/f3+\\/v7\\/\\/\\/8I\\/wD\\/CRxIsKDBgwgTKlzIsKHDhxAjSpxIsaLFixgzatzIsaPHjyBDihxJsqTJkyhTqlzJsqXLlzBjypxJs6bNmzhz6tzJs6fPn0CDCh1KtKjRo0iTKl3KtKnTp1CjSp1KtarVq1izat3KtavXr2DDDoTHTqzZs2jNugBQL63bt3Clrm0bt67du0GJ3eqHt6\\/fv4ADCx7cM5GVcL+QaPjwZRxBdZaerJhQogu0gnOq5PsHzYoig62ssBpor1GODBuW4CLMurXWJwD0EFChGMAIeQM7AQhhRMraBLwIzv13TwID3ARtAIgmUF0MABuYEFkAgJHr69ihwkbgSmA9IQAmDf98doxgKwIn+Aoc\\/i8NAFAEqwGoMZAJgDj4BHIbQYB59v8AFgVbHATpAgAYClEBADUDsYcMAEIQZEd4AjkDgA3qCdQKAGwE6OGHPcFmC0HhQFgQNKc4gggiQQAQS4NsDaSCAN0I1E8HB6wjECIACFIQOwDkAOKQRNIEm38CAYnDQOLoAMCTCUiQAACmwEjXPzz6+M8tAFQxkHtPhhnmCUWWaeZKsElDkJID7QCAGtTQNWEpVg5UDgEi+PNPFgDMMpAZAFix4qArYnLmoYiKlOaaACz5T4kyFFQFAHSuF+NASgAwDDwLYKDPQIIAgEeipJYa0qIDsfnPNAAwsWYElNb\\/ORAqAJCRCQB0EPSgCvuY6uuvF6GaZKMC3WOAA9kIZM+ksVp6JXESPEADANMUlCkXyP2jjyu9AOvttwcJ+4+q\\/8ABwAJPZKEBBl80+w97Xz5J3485AOBAD1ToMAEAkYDrL7iGhUOQPFboMVA\\/m+hwwQlnkJOKFcMMdEcWmxHUmWgH5bPJER1c8IIVobzz78gkl2zyySinrPLKLLfs8sswxyzzzDTXbHNa+zzbkD\\/wZNTPPDcHHdcuOwwAQAeCfKpQMG6kgAAADDBBTEHO0GD11TQgWBAyQxQAwAV26JwE1lefI\\/TZVK0iwAFXrPEBAFJkaFA+T16gBBQiADDAKAQJ\\/wPAARIEHvgRBfliAAFRsGECAD9ULNAGAgguuGNoV+7UOxMQ4ItA8cAAACkJ5QMELOrxswcAD\\/QskN9eKIRPCACoUmyLjRC0QQKW5y4VJQBoQVAuANwAkT8lAEDLQKwrpAoAQxD0zG6246779BnFQ0cJAoj55CspNQEAKgTt44AAOj6UxPfIA9B6QmMAIElBIABgzUC3U29\\/RfkoRwIfhQDxpAk0+EVE+CGOAhrwgAU0W0JgdxmCzAAAwXhIPjBArfTZQA1WOAModIYDAOiiIOdbBf0MwAcsdOEQNbqfChfyCAC4gB4DKUOtJgIO7dkQACpQyNPEURAjoM8hdwBAEP\\/6ZsMNTG0gb2NGQbbgPvppjwCEWKEUD6Ic7g3EHAlIgM4a0o40ePGLYPSilg7CjydlSyBYAMAmHHKLAThAGwSRRh6McQ5z5MIHAIgADwVSAQBwoyBtAIAhBgKHWHiDHc5wg9c4McVG\\/sMfBwAADAnSQf\\/QA2jKUp1H\\/GG08g0ENqFoyDEccIARKaQfRwCAHAaSAQBUoyBkAMAiEqKJo+nJkSukBwAkYJBJyUIgxYhAedZBAkqEBFbJIkgPXMSQZUCgAN1hCCsAQIOBoEBTBZmCGhOyjyn9EZcq5IcACNArgoAnFwMRRQa4AYQxKCQcA4inPOcZzxYoRDmbIwgJXLn\\/EGhkDnwNYYZtBuI9ERLESQJMSPGWAc4VngAAahrIPlopsIHkQQFFKCdC0lGEjnr0ox11Z0ICeQeCmEMAE9DoQa6BgQGI4iGmAIAOBjIIAMCBIPRIAALikRBjAaCiDbXfHGY4kFEAAAYFcUMCoiA3jxADACLIj0D4AAAzEOQWt7DHQLChAQEYCiEqJY5y+LDVAVhAZAKRBACiIFGDEAIAZArq\\/c5RAQEAIh30MAUEBFALgnRiA9uoQR5G4r0nWAMdkDDAA8BxsCd9QyDvaOUPMkHZyjbwHzFggyuWsQxPPHQDnvyHGIQIDXV8YgEIuGweluAJYVBDFtoUQDTlar9l\\/7wtTAtY40CCAQGGloMDfAuJO34gJgoEp7EAeOw\\/vnHDJ31GICOw4QzmRxB7OEFMDhiNRW0ogVDSVoX2QIUe5IAJcxRkGa8USDciJpJ+4MIPc+CEOwxSi1po9R\\/22IV+97tfxgqEHrxwBB7kkIhi3NIgwQCEHCyBjoL0QxqY+AMc+tCKSX73whjOsIY3zOEOe\\/jDIA6xiEdM4hK3bB7A+MQlbrHFf+TjGKSwhCvKwpBsMOPGOGYGTwuyj11cIhTeQIg\\/jKEJT1x2IPPIMY6vYeIPdwMKUwpTBCwxMC7AKkwIsAM\\/FkKEG66GIMzY55MEcIawiqNeYVrCfAfyVBs6qv\\/JHAZeCwThClOAwWiaGAg5jnYHVLBiDlN6A5cBcIY7GNrQyRRIOSwgADocIxYvsClB8rEWLASDF6kkHJsBwIJDG9qYcOYwNnJx4H9AAgAcuOU7SqE0geRinOpQSJdTiBA1AEDQzZlAAbYxkEoAwAi31Mda\\/CSQp3Ih1C7LxioqW9luraQeXkuHQhbnbITMmpsTEADlBBIHAAyiTQBA50A4AQAsbPrYyFYZR5u7BZbkwwAC0ORBVgCAYsgaAN3QR1gFEg24FmQWvxYIPgpAgPsKxBvQOTd+030yfxDXB8Qwxy+mdQJE\\/LIhtCiExjfOcY0z+SFGnRdCnCGACNzj3rD\\/200cpD2Q5UXIeQAAgUDkY4GC5CN7mHwqBRwAgAQIARYMH1kvvobJf6iDAQQIskPA0FwxpeIh4ZCAAG6REHqooDpcZkAOnkCDp3Hgm\\/+4lZcIIg57FRsAKTDIAwCwx6eS4AhG6MCT6hB0f9EBAH4oCBoo5JBuHOPvgA\\/839vhkHl0kEAI6QefkNBUgyTD4NzA4w4Gotb1DaQdADCAQIY+A4NsAABw\\/Ec60vuPfmQiklSvu7ekAACDDsQS9wEmMJDBh1aMxB7g2ULjBeKPMzSq6A9pRwP4+Q9yQ6Eg3cijQI4BABIYRAEAKEdCqDoF1XvLPh8kyCkAgO43iKAJlviy\\/0FgTIrym\\/\\/8pABqQvCBBLjtm\\/dsAMAM0CoR4j79H7IAgA\\/O6+9\\/JJ+X1QUABCBVB\\/EL\\/Wd9vtIFAPAJBaEItyYQb6ACuzcQTNd0T3J\\/CaEPsJEEBGgQeAAAL0BjE+FDVfIP25Bw2rdWAsEPCyAA0jcQ0gAAJaAQxtB8CPgrkcB9BZFKL\\/UPb9AFC2EMojCERFiEQ+hfCMEPaXQEJ4cQegAAKKBAE2EPFAAADCUQDEQQClgJ9QEAX7UjAJAGCsEIAJAEN+gr6KAABnBZvLBLyPEGIgUS\\/KAFAFAEBmcQfQBX5oUQx6AFfbBVoScQ88AFUJghhdAqW\\/YPzoAADyCCsf+AQ5iEDhkgAM4wELrQgcIgAQDgXWdYKpeAOnegCW+QAANwCgMBhyJRCk+yAmRDA+kFDU8iAq14cf9AKyL3CQKAA15gB1vQSgtgbwNRD8\\/RA49gB7CSZwTBeiqACILwNrgGXRUABW7QBkKQPUzVib6CCtG1isczEHjQBiJhCpIzjpX4D88wjpJTgv\\/wChRQBGymAwYQJgkwBaQ3EOugBfEIAB7AiQNxD3IwfAAwAYWQiAKhBp8XJiPgCASJjaYSDszwgkuBDw6JDY5zEPAgDdwwgfhFDdbQagWhDtXwDA3GkCRZkiZ5kiiZkiq5kizZki75kjAZkzI5kzRZkzZ5kzj\\/mZM6uZM82ZM++ZP2ow8LCZQruQdrwF9ImZRKuZT6dQu4wJRQGZVSOZVUSZW4cAtVmZVRKQviRxL80IFP0Q9NGBX+cIesYS4WmJZquZZs2ZZu+ZZwGZdw2Y0ksQ9jCRX8YJZO0Q8W1hpxYAIgFZiCOZiBOQRDQJiImZiKuZiMyZiG2ZiQmZia2JUiYZdTkZdTwZfYUQfP5RH4UJFPkQ9gWRLgAQwmYZlSgZlSoZnXwZkg8ZlTIZoqUZqneZdPoZpRwZqu4ZofAZtSIZspQZslgZpRgZtQoZutwZueCZpOAZwoIZx1aZtOYZxh2ZesoZwd4ZtR4ZwnAZ0jQZx4qZdN\\/4Gc19mZ2cmcTcGdJuGdlSmdTUGde2mdhIGdHKGdUKGepAkApjmc7skU8Dme8jkY9LkR9hmao0kS7BkS4Hmb4skU5Dmf5lmf6MkU+Img+lmbl9mgS\\/GgAhqhBDqhS1GhI5GgILGg06mhSsGhgjGgGlGgzXmgI3qh\\/JmhmRmgK+qhLQqiSiGiIkGiH2Gi74miSaGigcGiGeGi6QmjPSqj0Umjq2mjRYqjR6qjScGjIeGjHgGk\\/imkSEGkgGGkGIGkFKqkV8qk39mfS\\/GfDgqlXyqlYUqlSGGlIIGlHaGlacqlR+GlfwGmFyGmIUqmc2qm7emkucmme+qmfQqnRyGnH\\/9Bpxxhp0qhphtqqH7BpxbhpzsKqI0qqAqKppGKp0ahp5WKqJeqqEbBqB7hqBsBqUkhqSlKqX1hqRWBqVWqqanKqSXqqa0KqkUhqrFKqrNqqkWBqh2hqhrBqkjhqkMKq3ghqxRBq3Fqq8WKqz+qq8nKq0Thq80KrM8qrERBrBxhrBmBrEehrF3KrHfhrBMBrYsqreFKrVlqreWKrUOhrenKrevqrUMBrhshrhhBrkZhrnmKrnahrhLBrqfqrv0Kr3UqrwFLr0JhrwWLrwerr0LBrxrhrxcBsEUhsKFKsHVhsBGBsMOqsBnLsI\\/qsB0LsUEhsSFLsSNrsUGBsRmhsRb\\/wbFE4bG9CrJxIbIQQbLfarI1i7KrqrI5y7JA4bI9C7M\\/K7NAQbMYYbMVgbNDobPZyrNw4bMPAbT7KrRRS7THarRVi7Q\\/obRZy7Rb67Q\\/AbUXIbUUQbVCYbX1irVvobUOwbUX67VtC7bjKrZxS7Y+YbZ1i7Z3q7Y+wbYW4bYTAbdBIbcRS7duYbcNgbczq7eJy7f\\/6reNC7g9IbiRS7iTa7g9gbgVobgSwbhA4bgtC7lpIbkMQblPa7mli7kbq7mpy7k84bmtC7qvK7o8QboUYboRgbo\\/obpJy7po4boLAbtrK7vBS7s3a7vFi7s7obvJy7vL67s7AbwTIbwQQbw+\\/2G8ZYu8Z6G8rqO9OsG9EuG9DwG+PSG+gUu+ZmG+64e+OaG+EcG+DuG+PAG\\/nSu\\/Q2ELUHACZDAQtjACCIzA2LBECaxpBUG\\/CMG8h+u83Qu9Uyu94Uu9OmG9RYELoMAGTjAQ+eAOJHwJJVBq\\/zAEoUDCO\\/bA2Hu+sUnB62vBb4vB76vBOcHBRqEIIWwQQ1AIPqxdCAHBByHBoyvD+UvDi2vD\\/YvDOKHDRcHDBvENBbBHBDEEFRABOrCfmBEIJOwO8vamMTybSny6TLwT\\/pu7AEwUUlwQfeAqBlEM6xAPkMAAykUQSKAAEbDHGgAO8vDHgBzIgjzIg7wO7EDIiJzIiv+8yIzcyI3MDuvgyJLcyMRlC5N8yYLsDuqAyZzcyZ4syO+QDp88yqTsyPCADqWcypPskRbRxgfzAbanEDigWwRBxAZhxL+LxBChvw3Bv2jsxDcBxWzcwwNxCxUAqDHAgC78mvaLE\\/i7y2U8vGesE2lcvWscFOawC2aQA7tAXf9gBXPgV4PlDpVADdmQBxOwh7X8wvU7xsEZzd87zTlRzRt8zUCxCx\\/lCALHBN78D6Dwh\\/FwBSugAleAJOvMzO78nPDcvvKME\\/Scw\\/bsFbZcELi8vbr8ELzMEL5MzcBsE8IMFhNNEBWdvhftEBm9EBs9zx1dEx\\/9FSE9ECN9vyXdECf\\/rRAp7dArTRMtLdHsHMHNfBPPjNELvb8NfRMP\\/cQR3RUvLXA\\/bRNBbdJD3ctFbRNHHcxJzRVL\\/Q8x7cwzzRA1zU1TXRNV7dFXvRVZvdVA3dUL8dVgFdY0MdYsXdZacdZNXRNPTdNRrdFuPRNwrdNynRV0ndDdmdcovdcy0dczsdNK3dNFXNc0cddeTdg2bdgxgdgyodhYzdi37NgzAdlrLdlgTajH+ddYEdi\\/qdYKwdYHcdNGndOJTdpXYdrbidoJodoGwdpU7dqXDdtWIdv3SdsIYds8RtkwYdkxgdlmrdkUzdky4dmpDdptLdrVuZnKLdLMHRPOXdvQvdrE\\/RLG\\/w0TyD3X1Q3T1w0T2R3c233b3e0S3\\/0S4Q3Y483Ugr2e6T3c0h2f1I3Qp03GXHym9w2g+d2b5f0S530Qwh0+690S7e0S713a8a3VA+4SBW4QBy5RCc4SC94SDR7bD47WTg3cBl7fCP7faxrgyznf+dnfg5qaun3cvF0Vvm2g\\/I2hLF6jJn6eKG6hKt6pJD6pNy6hOR6jO56rPf6qP\\/6hQb6kQ16tRb6sR56jSV6mSx6vTX6uTz6lUR6oU96wVT6wVy7G+\\/3OW56yXf6xX56oWb6pY160Zb6zZ16qaX6rax62bX61bx6scT6tc963dT63d96tef6ue565ff64f56vgf++sINeu4W+uodesYl+sosevY1+vI8es5E+tJN+wZU+vpfetJn+tZtew50ev5+etqG+t6O+xKX+v6deuKl+uatuxq2uxq8eurE+u7MuzbVuzbfeu7n+vLsez71ez7+evcFewcPO0MUO0ccOw2Gu0MtO1M2O1M\\/eztE+2NMu1dVu1dfu08k+w9uu191O1t\\/e2OGexONe2OUe1+e+2ekOzes+2e3u1+++3PEu1PMe2jX+pPdu3fkO1fse3f1eqP9O3gGP1wPP3fX+2gcv39lO3wuv3g2\\/2w8P4Qkf2RNv3wU\\/2hfv4XYN4hQu4hZe8S7+8RHeEhNeEBUuELgt1i0O3i\\/\\/ThUx\\/qIzPqMdP92t2eEp724iz\\/Ik7\\/IXvhIZzhIb3ts8n\\/GfvfEjnvP4vfP6Pds336ROD+BQL+BK\\/9xMX\\/JVX+JXf+IRn+I0Xpwx794zPxU1n6RT799d7+Nfj+Nhr+NjH542\\/vZAHvdCPvcMWve7mfR4r+R6f6J8n5x+L\\/ViHvhBOvjlGfW\\/rRIdlE9UT\\/aKD6GML+MpASv7h\\/OS7+92j+R\\/HxLtogSIv6WT36GVb\\/MpgQlhOPp3Wvo3evpqn\\/qr3w96wAjMdvu4n\\/u6z2yXQAm7\\/\\/vAH\\/zCP\\/zD3\\/u3rwjf9g\\/c4AaYQPzO\\/\\/zQf\\/uYIAnRn\\/tz8AwCsQiGUP3E\\/x9aM5H2Y6oSqi+GZCiX5n\\/+6J\\/+cflSLaD+7v\\/+6d8B\\/zAM8N90yXAT4P+n4r\\/6MTUCAGFG4ECCBQ0eNEhmDEKGDR0+hBjRYBkxBTsAsPVvCYAhEj1+BFmQYkiDTADc+OcMQAWSEr\\/9gxlT5kyaNW3exFlHEU6ePPHl6xlU6FCiQfPhK5q0JiYAaf61AlBF6dB996ZexTqVn72ZRwDs+rcFgKmsZcv2o2d2F4Aj\\/6ABkGFW7tygOunK\\/HlXb9mje3kydQpVqt9\\/VQkfJrq169ewYxE\\/RquWrVu4jy0ntbs372XOM\\/t2\\/gf4adTDhkGDVizTK1ixZE\\/TjVx2bdu3cf9fE830xASnmMJG\\/B7BiyazGApmQKuZWe\\/m25Y\\/dxYtuLTV5pZTx1zd2HX1rLGzzqZsmztPSaB0MIqJ60U39vVm9iMhid+jFP5oKr\\/LfLzf55yjkybMtP38ug6m7Fob8CrvsAKvtgR5YgI9mHCx4SZgLujnH34oKOa+nTQD6kG9+rvsv8H8ElDEuQr850DHVCRqwasarAxGmiJMjwEOXAgkxJg0ESImHj65LxB3jkxrLv1szIpEy0ycjkm5WHRxOylxknEqGsW7EkeYwCkmHWFQ2GOmRJqISYlGaDJCgQjetOAbeeaks04777xzHXbw5LNPP\\/8ENNBA2VlHUEMDhQT\\/ADLkIQWAKA6FVB531Im0UksvtfOddOwcAoBY5LkCAE8wJbXUOeFBx9RYOJKnGABeMNVPfeTycqZVTpiJkx9i0kEUD\\/1a8kqlnHwMygCpE\\/YqKhlDMNmbslRqS2drlYkVXGUahoJ9\\/tEngmR+BdHZq4hFzFgUkRW3qGVZezHd95L8bjIHrwSHmR7gYKadf2Jhhp1hUtADJjxc+cefFQaJBxAYkvtwOR\\/dHYrcw8zdK0WIg1pXu4tlgjYpaa8chAaRacioEhcugIGQENMoBaZrhsDACG0YBvbhjXmSmDCK9bL45psybvbmjov62Gel8KMrWKNpytmvne\\/qeemZgG53\\/+OhiSpa6qGQVtJmrWVqeq+n6Yr6aw25Uo3Zqi++eqiszeaJa7mUNjtsvcaeq+yvqbaSbXgZlLdGuHuS2yy6v7b7Lrzl0ltrvo1uW6i3B7ep8LIO1zpxuhY3q3GpH\\/c58qAmpxxch0uPSfO5OC\\/L86VBF\\/rvGQPnEnXT8\\/MabtXlYj0r142G3WrZtaTd9psszwpzqXc3q3esfvc5eL8lo01w42dCHivll2a+LOevgv5m6SEWvSfSr8\\/+qu2N7j6r76cKf+Px3S2fp\\/ONT3+q9X1uH6v3lYrfxeaXrvrh5H62y59S9nez\\/l3lf0kJIMQGKK4C3uSAqEtgUha4sQZO5f+BRYmguyborAra5IKly2BRNnixDirlg0QJYbpGmKwS1uSElEshUVYIsRYm5YVUQRflZiisGtLkhoPL4VB26K4eFuWHQomhuIZoI3zMYhDNGF60ine92yUtd3VDCmieGJQoOmuKCSqHJ9SgAwYAAABTyKLHtshFmSRRKEtMVxOJMsaelDFZZ2yOPZDBCC2oYABudCMIoJCLOBJtjnSEiR2Dgkdx6XEofOSJH4UFyMuMYxrSgMUfnEACRAKAACvYwiGcAZMizuSIcJNkTyjpLEsKBZM40eSVOGmZRrCxlBM4whtMsQ6atFImrzRbLH3yRcSFETpNGc2JKhbEwe3SL+n\\/QEIi\\/lECN5rgC5qohn2e1UisPRKSysTJLJNVy6Dc8ia5lJI19TKPGrwxG7KghDiGYsyYIPNr6LyJOoXFzp640ybwZJI86aIPJACABOiYRkRjRE63mZOOALWJQK9E0L9AUzrHMp5C5eKPLwDAAtrQRkSpMVHqhQeSdWwY7ozHUZwYtCYItZFIzTIHADigGf6gRkS7wVLZWJSLGK2JRqVE05vYlCY4hZFOs0IJABggF\\/\\/ARkSnsa19UlRyRkVfTL04U2f6x6MAOldI0YYdtfWNM6cYgAB8lY9pBFUaReEnTPypNaTSRKlMYqpNnDoTqKpIqlPxBQIA4AiYVKOu06gG\\/169Ojqw4k+sXSPraQYrk8KK6LBJiQYEAGAHmMhjGuIIBzXiIdmWzuul\\/+jrTP5qo8Au5azS5Bk14fZZonQjAwDQgjiDqqDJmq+yCLzs3JiZubKW6LZRsh1vhbKOEwCACCFahzTSQdzWWu+cyTXccpfX3Cc9F6TRXauB2sqZeuQAADWYR0yosVLuFrV6tbsoeC8nXu6Rt1jmTSt6F8Mut\\/qFoQ5FR0zKMY3V1jde931tJPWbPP6yz7\\/lAvA01TpgjfESABkYakwg253i2u+4GJyw9irMvwtPLMO53XDaCHyZYixhlTEBxzRaLJS8\\/mOvUostXlbMwB077cVQ063ZpP97E1fwhibUwMZZSmzAE6MwxeobMgeLLLYjky3Je0tvi9aLGAwIQHbbmAY\\/pNxd\\/B71yvrLMgu3fLcu5+3LjgtzlR4zAQC8Qyb+mMbM1mxfl0Y4yDGZLYxqS5PNxqSzD1qyTfjs55hkVZwkZnOEYRvTHwiglJ8GdahFPWpSl9rUn44BYXo4jQKcupRFiCZ0URfpmkw6JvqYRogH\\/eBCvxY\\/BHB1sIU9bGELQNVz7skYiB2GWJ931nke82Fs3Vj6mqXHP14afigAAGLulzv8AEABjm2WSQDADEn5aICfzeGgEWba9JjGS+Ry7SrjMKYV4HZ4v13VcZelEgBYA7rRqmH\\/Acu4w9LuM0zmC5spW7DeSIwpsDcAHIpX3OIXF4EILj4CDiDgEf+4AgJAsHGSl7ziHgCAsfmDbJ6goaomB04HDlCmdBN83QZvt19s7Q5pJHgu9IawoWPKTWIXHQBP+AfKjR5sDfQ7K7zwtLB70Gx1l47WNLG1RBmeaaHPZBvsAXvYxT72sV8DG2TvBh0AUCYjAGAUaId73Mcu6JXL5R3akDvYCVFnxt35c9CeMWImrQ5p6GvrhHbtSw8NE7oZYu3\\/aLtw5KxZvnfO768D\\/MHd3edpWEMvQO+14t+swC86nu0AkDwPWb66yrfu8sDLfM73wuegxvcuoE\\/8d2tmE9ND\\/x71WqZ8YAYO44KzNfAIP4bnP99wEz4clqPXYOkfH3ngi7H1vnt99GK\\/ttkDwBhcvT3zbej8ZEJfhdI\\/feqZuHreXf952Rff9gt8lwh43y+4925+d1+T3lN\\/8tYXPtxCshgzPs3TOe9TvvDjOl8zPx1CP99Tvzxiv+ZxP\\/CBP\\/mRvz3zvnhbvgUUvf2jif77vf97pgCUNavLQMTwAAJghqCSBwVEvPxzMxCcCRGMwEqaQO+pQPi5QAFKwcNYBlDQKmq4NGsTPyMiv39qQCV6QP9TveCjOptDQXbjPr2ABDeIqH2Yhms4PF7LPf0LF\\/6bvhF8QgCMQuK7uQKUvbuYh\\/8DKIBnmAZzSIdc+7kjdKUk5KslvKMmJMP1g8KaQ8MpxLkqpAtaAIAdiCjP44Zp6LZdA5ygY0AalAkbrL4SPMMBLD71Oj6\\/gAMA8AOVaqxpyBBHnB1I\\/MAwDMExvEFaykH32UEA6kEJ+kG\\/aAEAEAZzmAZwgAmgmgYj9EDdQ8UaVMVKNCsTdDZBVENClAt0EAAG8Jp4kAa6c7BHDD1gPB0xTD9idC5jrDohmkW9GAUAYAKb8IZp8LlpLMVqBMNrTMVsJMFivEQvI0BNNMC7KKmPs4lqoIYwY60YbLOwksSYoMR33MZ4tLN5FLNN1IuL6MWbqCuswL9\\/tKyAhImBLEP\\/SwRETExDelxDubAGAMCAIqQJeIuyqYhITVu8f2i8YSTI8uJGKfRGKpw\\/s5AEAOCCnsBFUVSKk+y6YJxElrxIeMxIeczEhKzHuXgCAACFoEjEnbTDY8JDINPDSeLDVVynVvSfV4SgWBShb8wb0RqHoAiqhuxHL5RBgPRJgQRKPzTDoTzIotSzvXAVFRCKrCJLojJLiUQuivwHi2RLjBw+jURGjlTGrAgEAGgDoYiHiJpAnozEtKzItZTAPwxMotxIo+zIsvABTxkKoUoKxzxFdhRGdwzKgnTLvkPIuLwLenBDeOjMhyxLavzCGYTMvpRMHKRMAbTMwcTMwryKXzhE\\/6IYy898yn6KymybSlmqSm10SYNETbiMNrp4BzAAi6FYxLvkseLUq+M0mpRcSdL8S6GszLe8TNXkDlxjsNhMx9lES9H8SfCczLYcz+csz+jkjoiaFbyUzbN8EGJAgx2AA\\/mqAg\\/gAC0wB5pAg5HRTe9czpb8r5cMxJgcxJk8jW2otq76RRhRhUP4AieICV3IBHAwhyloi5kYAkVghhakmdr0y\\/gETN0kT940T+5oh7tST+IxRSlRBA+liWGAAJoYAlbIieRcJt67TVbMzROU0GSk0KkoA9JSimnYLv1cT\\/4UkR2tCUAgAiAtgRSYAhvFHiJNpwYtzeY8TctLTfssi\\/9vAIANmIpp2IYb1aIcZRIsnQlhiADs\\/AdZiAZruIMJOAeaKIJSaoBwmIdDRdREVdRFXVR2aAdGnQdAAIA6mIdOmQVIxdRM1dRN5VRFbQd26NRQ5dRIUJR5KAVHEdVUnYd3WAdVddVXhVVFhQd1UFQiAABZmAcsEJVYZdRPAAAleFVqqIZUjYd04NVDlQXrmgdjAAAYOFZNzc+ysNOYUIYLuCqciAEiCVO+bFHclE8YpU8ZVdOskAMAEISpyAY95QnQ1FEehQloyIBY6Akc2IQuwixshEDmfFDnRFPoVEjNBABcmIpzuNCgYFcYmYduwIMh6AZ1+AdqqIBGADv7UIX\\/RfiHeHCFdpAHSWAAeYMpbj3Sq0zSY1xSwmxSdWEAAWCHqQC0BsvODFWRWhgZGhiEfzCFmaUBq5gENvgHd+iBCYAAH\\/iFFXVPtYRPb31RJa0mr8SKtzABrJgGbqBSHFVH2izayDxaJP1Wpd0tpr0KTQCALYDayMJQf0RJMQ0oMg1P05zPfq3Pf8WKMgAASMAKbCjYddVOH+NOn2FQI81akd1akl1amaQLGLC\\/q0itqZ3Tqm1PmcJXJ1xbM21b10tTuJ2KeigAA+BHorCH0yrbvDxbkP3bgcJKB9JKEOJKGfJapRAGAKCBrEgpanBYg81bbOtOtM0otXVR8QRXtxVX\\/8tVCkaAJqxwB62as4O1Wsdtx3x1UAyDUMEs2d482aHQVU+A3SGkXZht3LF63D7cXbbtXcr116OcChEAgLstivnqBlDEW+2dSBYNWdId2W4c3AmVC3XoKTXDCmoYqmuIqJIcJ\\/fdS\\/gd3Y0qXQ86XRhKXSla3aIwxCDRHmlAG60KywA22568Wtss4KU6YBdKYCCqXPJNikGY1KzghmrrB60Cv2Kq3b29mb7tXquU38Cl364lXLMABh4A06lwLJkwrWnYXFZqYTpNXu5dXsj9XskNX+wL4cx8jUAjrCAWYgFGMdFl3jLd1zMV37cV4dPANdv73P3Uyyom4CuO3CyeXP8mHl8nBg1vQN\\/2veDHzOBu1dqkFVwbtt8B6WE5lSMi3t57PWLvRVre5Vola2DQgGI+diQ\\/ft85jl8Dnl+YrF8mHZB+oAbDU9w+ZtxGVt7RNOMkRuMlfr8m9k3OCAd17Qnk\\/WPl8ttPHmTwLWQwu+HxqAayVeRyYuQBduQNBqwO9qEPhqIFNqND5oxpAOBMXuRN1uVOfk9XrmNCvmNDnuXqALRGRGZcVmYy3mVnBlw7rmFpzuOr0AcvoISsWDCTHOJstjIrRuJXVuJYxrNpVgpXQQmssAZUTuV0Zk9ONmJPbudnhuVoluVwnopEKYOsMGZ0puJ1LuN\\/7mZo\\/uaBpmT\\/rOgCAMAEhD7HW66oXNZmZjZabp5hb5ZkPJ7oq1gBAFgGrIAodKTafV7mfm5mhw5piB5pcC5ppagHAjiA0s0qll5cl+5omP5omYZkGq5piTZZrBgGAJgBhE5A4lxoe2NnQQbodxboeCbopDBohNYnhY7j0PRorAXpohbpCJ3kpL6Kir7oq1iHaRDJa95odZbqhqbqhw7oiMbqm06Kk07pq+hpn9ZkoGbobSZqDo5ksyZptMZpnS7dWoZIfbbSoAZkf67rmb7ro85rxU6KpW5qqA2Hx45qiJtqGSZrmkZsm9bsotjqq1jMUfRq0MXgsNbgsTZsoz5tpJbetLZorPBf\\/0z7amuUbTq2a6vG67+TZ6Lg6\\/215dcW49Cla9Ku7bKG3rPO7cXeaaj1Bt+GbTkO7keObtOe7sSu7s1maqygB2k4YFU2HjhQAAlw7\\/eG7\\/iW7\\/mmb\\/lWAODaJgAoBH113n+4BAA4gPoW8AGP7wgg8ANH8AOPgALQgBW+inuoAAIwcPg2AABIhX\\/QAQBgAPh2AALwgqAoNzLAiVQogASo71eQhgQX8AlX8fluAABAgX9wFQJgcAefinyIcPhGDhXpxKXzccT8BxAAgBbgbxdzilf48SRX8qWrzqwwBVIDhn9QAlFDgKAYhhWI8pswXFJbhmVY8i+vgX\\/IhqgDAF0wC\\/9VALVvUZE6MJIjcfM3h\\/M4l\\/M3Pwd0mHN3mNL\\/\\/vDmNXKYYIc7B\\/RAh3N1OAdBN\\/RDP3QUAIAdzwrONoc4x2Q7f3NkAIASkAtlS4Q5T6lAQ\\/Q5Zwdy6HRAP1CYiId2SAEAeAazcJUYeHMb3w8Yxok4AAAJEObmWLSZEA3LeLSrMFxGV2oA6AEpromPXAG5UAMAuASbWF+tygbALgsZQHVVBwAeEJY4mACYawAdgIkTeACY+42M2zgRUIARKARgAwBN4HOdgSZncIAL8PZ3xziNg\\/d5p3fgEAFP6wWzWAUAGAB5f\\/cLAIAFkAsb0HCS04No0KppUAYbqPcR8PeGJ7n\\/e69sooCKAaC4aICRHje1A\\/iHfvjyT5sAV7fs5hTejzf5ky+lAqC0rDAHcyc2F5CLOzi1KICGhFeGA0B5oysATMaKlv80NReROsADuUuGWe+GbTClvGMPs4M7UgIABRDSIld34VMCpbd6stMGa7j6red6sXMGly2Ld2iGauD6ZqCLbMC7vHPjhN96NOt6q\\/\\/6uXiHZwg7X9aL7DEHUNtDnOiFN3bnUIZn43aWfXCsFwxjTaOL9HkBAwiBDzAAWKPKzLLt8EZtyukxxLdXVradW5eJRoOJXR8QFhmcy8f8j63NZjpsysft0c\\/b0jf9DEZ90KgDAJgAKzjpYr9qwUcd\\/9J3\\/U3jy9jvDFH4NCAIfMwzHt53fVgvHc6XCVwwhV2QhXotftg7\\/tbvfd8\\/feYyHtDfD9GHG+QvfeWnHOZ\\/De4fD+83G\\/DHfPEfHPI\\/DfP\\/NmGXGvVHfPbXHbtnEvivDvT\\/GvoHiH8CBxIsaPAgwoQKFzJsWEdRw4gF8eWTaPEixov58GXs6PHjv333QJIsuZCfPZMqVwrsR48lzJgy\\/z2USXEmTosbc\\/JkKLInUIQogxIl6LIoUqI1Y95MGnSnU6A\\/o\\/YcSpXn0ataVS6F2XSrTKhgY04dC9OqWZZZ07KN2JXl17YlxcolWbYuSLR4P67d65cmRKYV\\/3qkS\\/ji3f\\/DFvUqlti3Mdu3K+NCbmi48sLEmBUy3pzwsWetklVSDn3wsumCmlMT7Mx6IOjXSEebLC37H2rZq2W7lh37dlDaJW3Lzv169+ver38D7ymcJPHXxlkjZ62cNfPmOZ+DjM56eurqqa+nzq59JveP3lODNy3eNHnT5s\\/HTO9xven2od+Hjh96Pn0s2dcRfqHp5xl\\/nvnnGYABchWYV4Odd+BmCW624GYNOljSgBkV6BmFmFmIGYaYabghSPZN4oMdc+yQSkQfbhZiZSNWVmJlJ6LoUXruAPDjjwPEKKF2NEJmI2Q4Qqbja62cUcQqBMUyQwhtcFTQNkiAsIQ3B6V3DgD\\/BxxSCABCNiQjZkY2hmRjSjbGJGt+HDIDIwN940At4\\/zQh0Ev8JEOHjV4CSFC6ACgwT\\/9AFDAkAGqqRibirmpGJyvMVGnQH5YIdAvGPhDkDES6IPbA8wYlJ6hiCrK6JlENvfoYZEeNulhlbJ26UBUHCIQPACsQxAnQAykgyinEnpQqoku2ih9sBImK2G0EmZrargKFEQlAvkjgDUEJdLEQEo0YtARCkRwrgXhzLMuu90AkME88SzKLr31rstOO\\/bquy+\\/\\/fr7L8D6tsNOwAUbfDDC7L6zTsINO\\/zwPPCoAzHFFfsbTzoWaxzwqCVZ+48UiAgkLzoEaRLEQDx8YhAd\\/4G483JKBiW7KrMTXnketH9J+xe1pn1MxxcCIQNBPwT1kkHR\\/FgwjLELzbxsq47erF3Ofu3sV8+bqdONEHp0M88\\/00BQjT5UsCHQIrr8w08ImvxziQmfFoTqocqyyhCalTn7V9V7Xb1X1pjhMQLhI8AikCUVOPDEOwJd4fY\\/yKTAAAumNq3Q03cvlDdke2ekjwsxWCFEB8vg1Ddef+MV+G1Ff5YQ3apCjberwHmOERxA\\/vjB6SPRp3pdrO+oUOx211zk1EAtAkAOqqgBgBC9Bwi8XMIPj1DxNEfdbPI9YQJAGv+0AkAV0v8e83nWX395Qpkf\\/2r3PH0f\\/vjlz4R6Xf\\/Ut6X++gRlP\\/vmalcSUkQDLLe7yPzERz7znUd\\/bOFf\\/wTyPwEUrnAQSEAzJiJAhjyhAB2oYAUhsDsQkrCEJjwhCisoAhGksIUuJGEFAKCEf2QCAAx4IQ5BuMIc8rCHPnwhC38oxCESTgQH8IDrFpKdfGAAAT00YgeS+JF9ZAABQRwBNNpSvH8cQHdenCFBOPePAXixjGY8IxrTqMY1srGNbZzCP1ThxjnSsY52vCMe86hHPPqiIdkxhR7VRhI5ejEZWjyWzOr2j3lkoxuOfCQaALAHDWZEhM54JCYdeQ5sZLKTnvwkKEOZSWxcQ5SmPKUnuTEQcqCylZ3UhjVcKcv\\/WdLylNqoRi1zqUtMkgAABWRIdoYBgBfQ0gQAeEZJigGAFmAyfqJBZEGSlZA\\/AEAQlMTIBADgjr8csC74k4sDewIDX\\/rxJQkRpg8yIoNjJhMAPPDLFltwARrQs54NAAAVrnkRAgBABfWkJwscEIm0dFMu36QKCTLwz3rOQAYLfShEIyrRiVJ0ojMgIzDKqZBVAIAAD6XAO\\/8BAws89KIA6EVJXtHRf1LjkE6rm6LQOAl9WgQDaEynWQraloM6pR17\\/ClQdUeAdmg0IeIgoxlZJQA0EuBXJCEHUoFkyMhAkyBPIwAzsqrVYmjDIGLsxy60qlU7AMANBHXmcXwXml6V\\/0qsWVVGMdwq17nSta52vetdg0HUoiYkHb5wqy8AQAGB8HMZctWrStTxV62q1Sz\\/05xCxIiQSZT1rAHiaVJ6JYGDhNMsTPJpBQgLALlFcCCPfd9HKGvWnKKVOo3djGY5iz7tfBYAof0HP0lbWsC8VHaQTYhkD6Jay9IHs0iJrUE6O5ba3ja3uzVtVQfivu2VZLisvexrMYPcgigXLMwVrW5Le1rqksS6Y9EpW4xblO22ZrbN+S5uR\\/tcCUZXINOlnUrMa8DWhie7lWHvQLq7Ffg6d77jxa9J9LsV9KZFvUQBsEAErBUCy9fA9f3HfQOY38pet7j+hQyE1+Ze4FA4vP8RPLCGE8zh8\\/LXPR9uTIglfJUSz5e3mIMpACO7wYwoWCsMNouDgxLjEbfOnBYBLXhrHIcJpBAENjQeeUHS46v8eCxBBsqQA0Tj+eaOjRGAMoKru+L9Yjc1WabPlp9bBzyYUhsj0V6YyzvmBbd4Py9WzJnTZ2SJIDm+Ju5fh5RFANR6ZMpUqTJYrtyTPNN2zxHpc4GfG4cOVLSeIgCAAAjdEUNHBdFbUTRPGP1eRzcE0hV+bpfniAVN83jOPq4zgu58GFGTmNQMMfWf10cHN+BVq8nIKKsxwmmneForoM4JrYuMEVzXONAXCa5Bhp2UYl\\/l2DhJtm9svRBmW9gmOxb\\/tqupDOsKyZow2F6OthXCbTVf+D7fvoi0kUJtqlh7JufGTroTsu7dOtsi0C5IvIsy76jUWyb3Lk++EbJv8babQO+2SMCJMnCnFDwmB5dPwg+y8BM33EMPl0jEnzJuEZX7Lxf\\/T8YNsnFAdxwj\\/yZIyIEy8aRUHCYnZ1DKC7Ly9fVbIi8fSMx7MnOk1JwlN89Qzgmy8+v1PNjwDvehR16jkvvl6CZK+kCWPrymRzm1UO+01I9E9b1YPUdYF4jWd8T1OEv568QO+5rGjpeyL+ns\\/0g7itaeYjGvlsVlNg3d32R3vG9I7zrecN\\/J7GEzA2CzySVytpdt2yR3WzCIJy7O\\/+Rel8BTavCT93OzW\\/7sj0ck6DwZelGKvhLO18rzzT01v0Xvb9I3xPQ5QT1RVK8S1k\\/L9ZRnt7cv3+HMM97x3IU8uiX\\/+lwzXfY+pz1DbI8T3AdF9ybhPc98D\\/rKR0j4fl884BsvWy1rP9KxD76KE0\\/nv69V\\/I8nv\\/J\\/f37Lpx\\/zVNO8XLCPtfLDnuHo57v9NYf1lYT+AQ7\\/Md\\/WOZ\\/TQZzbTRvcQQr+tUUBrs4Bht7\\/yZn6vRr7ecYEBk8Fch9cQN9CSN9MUJ9URCBbdGD1fCDw0R8ADt\\/9Fd\\/4oRkLzl\\/31R8MCiAKpoUK7k8N+p8LYmAAAscAkkQPPtAPctwFtv9dBorbBsKW+x0f\\/F0E4TmI4SWEMWQQDo5FMxhDgFQDsLWf8RHENuRCgISDLMTf9rUgTNyBNW0hWAyCHQQIJKiBDBpEJ3RBgKhCFKih+QFhG77hC46FHNKhHYbfGA5EHu5hH1Lh5\\/2hEsaEG3pfHM4hfdThHRbEItIHH\\/ph\\/0ViIFLiVhTiJR6iGB7EJp5HJzri8tVYEyyABMSiLM4iLdaiLc6iAijALe4iLzoAAjAALwajMA6jLS6ALhIjMiajMi5jLC5AAjAjNEbjMEYAAiCALTKANUqjNm7jMDbAASwjNT6jBFQjNyojHbTFPazDy6wjO7ajO75jO6qDOsIjPdb\\/oz3eIz7mYzuugzrooz\\/+I0D+IzukQ0AWpEEepDu0AzogJEM2pD0qpENGZD4+YI1VpEVeJEZmpEZuJEd2pEd+JEiGpEiOJEmWpElm1i6k5C6Yw0E4AycUw2aUg0qmpKMpg0pO1WH4AzbsAtgMBDuQgir0ZEHowyx8QjgcRjjwwjnAxjF8wiyMWD7MZJf8hTfsAjsMBDjM5Ij1Qy50QjacJEggwwIUAVnugkFAwgaoAQncAWbgAlkWQQwYgFMNBA7IAFmugWLQwwNcgAD80j90wwVoQROcwDa1BhDsQBlMgDD8BQxAgAKUwkBEwQuAwQ98gDhEkwC85Sj8RQdIwAHg\\/8JAMMIGvOVSFkQVxAAaVIArgKVHIMMJJEQ9RIAy\\/EM4KABLesYdSIFB4MAt3MhlHoBfogEaCAQSHAssnEBFQEL0+EU4+MMMQKZATOU\\/JIElSpcBNAY4\\/AMIgKZAMIIYJEQyVEA8\\/EMqqAACsmZCIAMI1IIwjJgueMBA5AAoIMgGzMJuLsIsZGdlAOdAeIAgaYKwEEQZyIFAiIMA1ANhPOdBeAGBWlUB6EIvwINibGdoOkEsMIMUZYoWCMQ9FIAqoedFIIMKSEEMdAAyEQQo5ECuFIJnxEIG7INBFEESLIEDTBJk8GeiGEA1CAQtmEBBWAs\\/DMA2JCh0EgQ1QIBf2v9XCEDBDkyAGRIGhQrEI+CAFIQADjQOQZDBOQoEBgQDiF5EEs1BSA2EJ+jAQFiBIFYGFOTBQbjONSyA5SgGjvIDAXTLP9yCCBSEEjhCSxAANhBpQZADCViCQfSD3EwCBxxGlCaKQOQDixSEGNTBQGhAH31pRiADAxSELYzAQPgAJ2wGOhjANSzEDXTCjfqlBgDbJ4ypQIgBW2IYAIznXyiodKHAhaWDr0ApdxYEIyBBQeyBFwjEPhzAn1qqsK2AQLgD2LjDAnxlOyjAh1ZGIvwAQcgDlg7EO0wAL5zqQGwBHggEFvDJP5gDjI6CDHwKKAgKoAqEOrTAIBSEOrzWLDj\\/QIbWxaISBBaYgX1xBC90QEXkwgfwg7FGxB6EASGIQQMczj8wgY3ewQooAg7o4WaowHwOBBxcwT9oww\\/wQR+cwBLUK17ggRkMQBWYgTz8wzNAgB6swQWUwz\\/YAwBkET6sgBUUQgUo7F5IghlUwBCYwZ8uQQWYgdBmyz+QwGZWghYIQhtAACX8xSGYQQMsgRmMwz9AgRsQQhNYQDcIBAT0pj\\/0QBIgQgdkwsBGBDdYQh9QwtYKRC+cqD+8gh+YgsBixjxkwp4tg5fegysMAiHQwnmyRSlkguBmQsxkQyEwgsuuTSgUJjxUAiDM5l\\/YwuBmgsu+wuRy5yt0STlwgh88hII0EIblDu5VIoMj9EEnXOspJK49bIIf\\/ELZvi7sxq7szi7t1q7t3i7u5q7u7i7v9q7v\\/i7wBq\\/wDi\\/xFq\\/xHi\\/yJq\\/yLi\\/zNq\\/zPi\\/0Rq\\/0Ti\\/1Vq\\/1Xi\\/2Zq\\/2bi\\/3dq\\/3fi\\/4hq\\/4ji\\/5lq\\/5ni\\/6pq\\/6ri\\/7tq\\/7vi\\/8xq\\/8ykZAAAA7\\\" \\/>\"}}},\"children\":[{\"props\":{\"className\":\"webio-observable\",\"setInnerHtml\":\"<img src=\\\"data:image\\/gif;base64,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\\\" \\/>\"},\"nodeType\":\"DOM\",\"type\":\"node\",\"instanceArgs\":{\"namespace\":\"html\",\"tag\":\"div\"},\"children\":[]}]}]},\n",
       "        window,\n",
       "    );\n",
       "    })()\n",
       "    </script>\n",
       "</div>\n"
      ],
      "text/plain": [
       "(div { style=Dict(\"display\" => \"flex\", \"flex-direction\" => \"column\") }\n",
       "  (div { style=Dict{String, Measures.Length{:em, Float64}}(\"padding\" => 0.1em) }\n",
       "    Node{WebIO.DOM}(WebIO.DOM(:html, :div), Any[Scope(Node{WebIO.DOM}(WebIO.DOM(:html, :button), Any[\"Sample and Re-draw\"], Dict{Symbol, Any}(:attributes => Dict{Any, Any}(\"data-bind\" => \"click: function (){this.clicks(this.clicks()+1)}, css: {'is-loading' : loading}\"), :className => \"is-medium button is-primary\", :style => Dict{String, Any}())), Dict{String, Tuple{AbstractObservable, Union{Nothing, Bool}}}(\"loading\" => (Observable(false), nothing), \"clicks\" => (Observable(0), nothing)), Set{String}(), nothing, Asset[Asset(\"js\", \"knockout\", \"/home/ubuntu/.julia/packages/Knockout/HReiN/src/../assets/knockout.js\"), Asset(\"js\", \"knockout_punches\", \"/home/ubuntu/.julia/packages/Knockout/HReiN/src/../assets/knockout_punches.js\"), Asset(\"js\", nothing, \"/home/ubuntu/.julia/packages/InteractBase/Qhvxg/src/../assets/all.js\"), Asset(\"css\", nothing, \"/home/ubuntu/.julia/packages/InteractBase/Qhvxg/src/../assets/style.css\"), Asset(\"css\", nothing, \"/home/ubuntu/.julia/packages/Interact/PENUy/src/../assets/bulma_confined.min.css\")], Dict{Any, Any}(\"loading\" => Any[WebIO.JSString(\"(function (val){return (val!=this.model[\\\"loading\\\"]()) ? (this.valueFromJulia[\\\"loading\\\"]=true, this.model[\\\"loading\\\"](val)) : undefined})\")], \"clicks\" => Any[WebIO.JSString(\"(function (val){return (val!=this.model[\\\"clicks\\\"]()) ? (this.valueFromJulia[\\\"clicks\\\"]=true, this.model[\\\"clicks\\\"](val)) : undefined})\")]), WebIO.ConnectionPool(Channel{Any}(32), Set{AbstractConnection}(), Condition(Base.InvasiveLinkedList{Task}(Task (runnable) @0x00007f6ac7579b60, Task (runnable) @0x00007f6ac7579b60), Base.AlwaysLockedST(1))), WebIO.JSString[WebIO.JSString(\"function () {\\n    var handler = (function (ko, koPunches) {\\n    ko.punches.enableAll();\\n    ko.bindingHandlers.numericValue = {\\n        init: function(element, valueAccessor, allBindings, data, context) {\\n            var stringified = ko.observable(ko.unwrap(valueAccessor()));\\n            stringified.subscribe(function(value) {\\n                var val = parseFloat(value);\\n                if (!isNaN(val)) {\\n                    valueAccessor()(val);\\n                }\\n            });\\n            valueAccessor().subscribe(function(value) {\\n                var str = JSON.stringify(value);\\n                if ((str == \\\"0\\\") && ([\\\"-0\\\", \\\"-0.\\\"].indexOf(stringified()) >= 0))\\n                     return;\\n                 if ([\\\"null\\\", \\\"\\\"].indexOf(str) >= 0)\\n                     return;\\n                stringified(str);\\n            });\\n            ko.applyBindingsToNode(\\n                element,\\n                {\\n                    value: stringified,\\n                    valueUpdate: allBindings.get('valueUpdate'),\\n                },\\n                context,\\n            );\\n        }\\n    };\\n    var json_data = {\\\"loading\\\":WebIO.getval({\\\"name\\\":\\\"loading\\\",\\\"scope\\\":\\\"10223739802934581850\\\",\\\"id\\\":\\\"13149978056255441249\\\",\\\"type\\\":\\\"observable\\\"}),\\\"clicks\\\":WebIO.getval({\\\"name\\\":\\\"clicks\\\",\\\"scope\\\":\\\"10223739802934581850\\\",\\\"id\\\":\\\"10786020524047741378\\\",\\\"type\\\":\\\"observable\\\"})};\\n    var self = this;\\n    function AppViewModel() {\\n        for (var key in json_data) {\\n            var el = json_data[key];\\n            this[key] = Array.isArray(el) ? ko.observableArray(el) : ko.observable(el);\\n        }\\n        \\n        \\n        [this[\\\"loading\\\"].subscribe((function (val){!(this.valueFromJulia[\\\"loading\\\"]) ? (WebIO.setval({\\\"name\\\":\\\"loading\\\",\\\"scope\\\":\\\"10223739802934581850\\\",\\\"id\\\":\\\"13149978056255441249\\\",\\\"type\\\":\\\"observable\\\"},val)) : undefined; return this.valueFromJulia[\\\"loading\\\"]=false}),self),this[\\\"clicks\\\"].subscribe((function (val){!(this.valueFromJulia[\\\"clicks\\\"]) ? (WebIO.setval({\\\"name\\\":\\\"clicks\\\",\\\"scope\\\":\\\"10223739802934581850\\\",\\\"id\\\":\\\"10786020524047741378\\\",\\\"type\\\":\\\"observable\\\"},val)) : undefined; return this.valueFromJulia[\\\"clicks\\\"]=false}),self)]\\n        \\n    }\\n    self.model = new AppViewModel();\\n    self.valueFromJulia = {};\\n    for (var key in json_data) {\\n        self.valueFromJulia[key] = false;\\n    }\\n    ko.applyBindings(self.model, self.dom);\\n}\\n);\\n    (WebIO.importBlock({\\\"data\\\":[{\\\"name\\\":\\\"knockout\\\",\\\"type\\\":\\\"js\\\",\\\"url\\\":\\\"/assetserver/4b78a831658f9469be0fa90a874237d533cfc56e-knockout.js\\\"},{\\\"name\\\":\\\"knockout_punches\\\",\\\"type\\\":\\\"js\\\",\\\"url\\\":\\\"/assetserver/32cf81589ef7eb25886db6e5be297d237f8599ce-knockout_punches.js\\\"}],\\\"type\\\":\\\"async_block\\\"})).then((imports) => handler.apply(this, imports));\\n}\\n\")])], Dict{Symbol, Any}(:className => \"field interact-widget\")))\n",
       "  (div { style=Dict{String, Measures.Length{:em, Float64}}(\"padding\" => 0.1em) }\n",
       "    Node{WebIO.DOM}(WebIO.DOM(:html, :div), Any[Scope(Node{WebIO.DOM}(WebIO.DOM(:html, :button), Any[\"Sample Controls\"], Dict{Symbol, Any}(:attributes => Dict{Any, Any}(\"data-bind\" => \"click: function (){this.clicks(this.clicks()+1)}, css: {'is-loading' : loading}\"), :className => \"is-medium button is-primary\", :style => Dict{String, Any}())), Dict{String, Tuple{AbstractObservable, Union{Nothing, Bool}}}(\"loading\" => (Observable(false), nothing), \"clicks\" => (Observable(0), nothing)), Set{String}(), nothing, Asset[Asset(\"js\", \"knockout\", \"/home/ubuntu/.julia/packages/Knockout/HReiN/src/../assets/knockout.js\"), Asset(\"js\", \"knockout_punches\", \"/home/ubuntu/.julia/packages/Knockout/HReiN/src/../assets/knockout_punches.js\"), Asset(\"js\", nothing, \"/home/ubuntu/.julia/packages/InteractBase/Qhvxg/src/../assets/all.js\"), Asset(\"css\", nothing, \"/home/ubuntu/.julia/packages/InteractBase/Qhvxg/src/../assets/style.css\"), Asset(\"css\", nothing, \"/home/ubuntu/.julia/packages/Interact/PENUy/src/../assets/bulma_confined.min.css\")], Dict{Any, Any}(\"loading\" => Any[WebIO.JSString(\"(function (val){return (val!=this.model[\\\"loading\\\"]()) ? (this.valueFromJulia[\\\"loading\\\"]=true, this.model[\\\"loading\\\"](val)) : undefined})\")], \"clicks\" => Any[WebIO.JSString(\"(function (val){return (val!=this.model[\\\"clicks\\\"]()) ? (this.valueFromJulia[\\\"clicks\\\"]=true, this.model[\\\"clicks\\\"](val)) : undefined})\")]), WebIO.ConnectionPool(Channel{Any}(32), Set{AbstractConnection}(), Condition(Base.InvasiveLinkedList{Task}(Task (runnable) @0x00007f6ac7579e40, Task (runnable) @0x00007f6ac7579e40), Base.AlwaysLockedST(1))), WebIO.JSString[WebIO.JSString(\"function () {\\n    var handler = (function (ko, koPunches) {\\n    ko.punches.enableAll();\\n    ko.bindingHandlers.numericValue = {\\n        init: function(element, valueAccessor, allBindings, data, context) {\\n            var stringified = ko.observable(ko.unwrap(valueAccessor()));\\n            stringified.subscribe(function(value) {\\n                var val = parseFloat(value);\\n                if (!isNaN(val)) {\\n                    valueAccessor()(val);\\n                }\\n            });\\n            valueAccessor().subscribe(function(value) {\\n                var str = JSON.stringify(value);\\n                if ((str == \\\"0\\\") && ([\\\"-0\\\", \\\"-0.\\\"].indexOf(stringified()) >= 0))\\n                     return;\\n                 if ([\\\"null\\\", \\\"\\\"].indexOf(str) >= 0)\\n                     return;\\n                stringified(str);\\n            });\\n            ko.applyBindingsToNode(\\n                element,\\n                {\\n                    value: stringified,\\n                    valueUpdate: allBindings.get('valueUpdate'),\\n                },\\n                context,\\n            );\\n        }\\n    };\\n    var json_data = {\\\"loading\\\":WebIO.getval({\\\"name\\\":\\\"loading\\\",\\\"scope\\\":\\\"5411905980548130807\\\",\\\"id\\\":\\\"14934272478045851338\\\",\\\"type\\\":\\\"observable\\\"}),\\\"clicks\\\":WebIO.getval({\\\"name\\\":\\\"clicks\\\",\\\"scope\\\":\\\"5411905980548130807\\\",\\\"id\\\":\\\"12195547783877657272\\\",\\\"type\\\":\\\"observable\\\"})};\\n    var self = this;\\n    function AppViewModel() {\\n        for (var key in json_data) {\\n            var el = json_data[key];\\n            this[key] = Array.isArray(el) ? ko.observableArray(el) : ko.observable(el);\\n        }\\n        \\n        \\n        [this[\\\"loading\\\"].subscribe((function (val){!(this.valueFromJulia[\\\"loading\\\"]) ? (WebIO.setval({\\\"name\\\":\\\"loading\\\",\\\"scope\\\":\\\"5411905980548130807\\\",\\\"id\\\":\\\"14934272478045851338\\\",\\\"type\\\":\\\"observable\\\"},val)) : undefined; return this.valueFromJulia[\\\"loading\\\"]=false}),self),this[\\\"clicks\\\"].subscribe((function (val){!(this.valueFromJulia[\\\"clicks\\\"]) ? (WebIO.setval({\\\"name\\\":\\\"clicks\\\",\\\"scope\\\":\\\"5411905980548130807\\\",\\\"id\\\":\\\"12195547783877657272\\\",\\\"type\\\":\\\"observable\\\"},val)) : undefined; return this.valueFromJulia[\\\"clicks\\\"]=false}),self)]\\n        \\n    }\\n    self.model = new AppViewModel();\\n    self.valueFromJulia = {};\\n    for (var key in json_data) {\\n        self.valueFromJulia[key] = false;\\n    }\\n    ko.applyBindings(self.model, self.dom);\\n}\\n);\\n    (WebIO.importBlock({\\\"data\\\":[{\\\"name\\\":\\\"knockout\\\",\\\"type\\\":\\\"js\\\",\\\"url\\\":\\\"/assetserver/4b78a831658f9469be0fa90a874237d533cfc56e-knockout.js\\\"},{\\\"name\\\":\\\"knockout_punches\\\",\\\"type\\\":\\\"js\\\",\\\"url\\\":\\\"/assetserver/32cf81589ef7eb25886db6e5be297d237f8599ce-knockout_punches.js\\\"}],\\\"type\\\":\\\"async_block\\\"})).then((imports) => handler.apply(this, imports));\\n}\\n\")])], Dict{Symbol, Any}(:className => \"field interact-widget\")))\n",
       "  (div { style=Dict(\"display\" => \"flex\", \"flex-direction\" => \"column\") }\n",
       "    Node{WebIO.DOM}(WebIO.DOM(:html, :div), Any[Scope(Node{WebIO.DOM}(WebIO.DOM(:html, :div), Any[Node{WebIO.DOM}(WebIO.DOM(:html, :span), Any[Node{WebIO.DOM}(WebIO.DOM(:html, :label), Any[], Dict{Symbol, Any}(:attributes => Dict(\"data-bind\" => \"text : key\")))], Dict{Symbol, Any}(:attributes => Dict(\"data-bind\" => \"click: function (){\\$root.update(val)}, css: {'is-primary is-selected' : \\$root.index() == val, 'interact-widget is-medium button ' : true}\")))], Dict{Symbol, Any}(:attributes => (\"data-bind\" => \"foreach : options_js\"), :className => \"buttons has-addons is-centered\")), Dict{String, Tuple{AbstractObservable, Union{Nothing, Bool}}}(\"options_js\" => (Observable(OrderedDict[OrderedDict{String, Any}(\"key\" => \"naive\", \"val\" => 1, \"id\" => \"idRfEbUEhr\"), OrderedDict{String, Any}(\"key\" => \"pf\", \"val\" => 2, \"id\" => \"idWD73svbg\"), OrderedDict{String, Any}(\"key\" => \"smc\", \"val\" => 3, \"id\" => \"idfMbhP9ju\")]), nothing), \"index\" => (Observable{Any}(1), nothing)), Set{String}(), nothing, Asset[Asset(\"js\", \"knockout\", \"/home/ubuntu/.julia/packages/Knockout/HReiN/src/../assets/knockout.js\"), Asset(\"js\", \"knockout_punches\", \"/home/ubuntu/.julia/packages/Knockout/HReiN/src/../assets/knockout_punches.js\"), Asset(\"js\", nothing, \"/home/ubuntu/.julia/packages/InteractBase/Qhvxg/src/../assets/all.js\"), Asset(\"css\", nothing, \"/home/ubuntu/.julia/packages/InteractBase/Qhvxg/src/../assets/style.css\"), Asset(\"css\", nothing, \"/home/ubuntu/.julia/packages/Interact/PENUy/src/../assets/bulma_confined.min.css\")], Dict{Any, Any}(\"options_js\" => Any[WebIO.JSString(\"(function (val){return (val!=this.model[\\\"options_js\\\"]()) ? (this.valueFromJulia[\\\"options_js\\\"]=true, this.model[\\\"options_js\\\"](val)) : undefined})\")], \"index\" => Any[WebIO.JSString(\"(function (val){return (val!=this.model[\\\"index\\\"]()) ? (this.valueFromJulia[\\\"index\\\"]=true, this.model[\\\"index\\\"](val)) : undefined})\")]), WebIO.ConnectionPool(Channel{Any}(32), Set{AbstractConnection}(), Condition(Base.InvasiveLinkedList{Task}(Task (runnable) @0x00007f6ac6f80fe0, Task (runnable) @0x00007f6ac6f80fe0), Base.AlwaysLockedST(1))), WebIO.JSString[WebIO.JSString(\"function () {\\n    var handler = (function (ko, koPunches) {\\n    ko.punches.enableAll();\\n    ko.bindingHandlers.numericValue = {\\n        init: function(element, valueAccessor, allBindings, data, context) {\\n            var stringified = ko.observable(ko.unwrap(valueAccessor()));\\n            stringified.subscribe(function(value) {\\n                var val = parseFloat(value);\\n                if (!isNaN(val)) {\\n                    valueAccessor()(val);\\n                }\\n            });\\n            valueAccessor().subscribe(function(value) {\\n                var str = JSON.stringify(value);\\n                if ((str == \\\"0\\\") && ([\\\"-0\\\", \\\"-0.\\\"].indexOf(stringified()) >= 0))\\n                     return;\\n                 if ([\\\"null\\\", \\\"\\\"].indexOf(str) >= 0)\\n                     return;\\n                stringified(str);\\n            });\\n            ko.applyBindingsToNode(\\n                element,\\n                {\\n                    value: stringified,\\n                    valueUpdate: allBindings.get('valueUpdate'),\\n                },\\n                context,\\n            );\\n        }\\n    };\\n    var json_data = {\\\"options_js\\\":WebIO.getval({\\\"name\\\":\\\"options_js\\\",\\\"scope\\\":\\\"17843173907424912710\\\",\\\"id\\\":\\\"5221415419788480891\\\",\\\"type\\\":\\\"observable\\\"}),\\\"index\\\":WebIO.getval({\\\"name\\\":\\\"index\\\",\\\"scope\\\":\\\"17843173907424912710\\\",\\\"id\\\":\\\"6793295226617048397\\\",\\\"type\\\":\\\"observable\\\"})};\\n    var self = this;\\n    function AppViewModel() {\\n        for (var key in json_data) {\\n            var el = json_data[key];\\n            this[key] = Array.isArray(el) ? ko.observableArray(el) : ko.observable(el);\\n        }\\n        [this[\\\"update\\\"]=function (val) {this.index(val)}]\\n        \\n        [this[\\\"options_js\\\"].subscribe((function (val){!(this.valueFromJulia[\\\"options_js\\\"]) ? (WebIO.setval({\\\"name\\\":\\\"options_js\\\",\\\"scope\\\":\\\"17843173907424912710\\\",\\\"id\\\":\\\"5221415419788480891\\\",\\\"type\\\":\\\"observable\\\"},val)) : undefined; return this.valueFromJulia[\\\"options_js\\\"]=false}),self),this[\\\"index\\\"].subscribe((function (val){!(this.valueFromJulia[\\\"index\\\"]) ? (WebIO.setval({\\\"name\\\":\\\"index\\\",\\\"scope\\\":\\\"17843173907424912710\\\",\\\"id\\\":\\\"6793295226617048397\\\",\\\"type\\\":\\\"observable\\\"},val)) : undefined; return this.valueFromJulia[\\\"index\\\"]=false}),self)]\\n        \\n    }\\n    self.model = new AppViewModel();\\n    self.valueFromJulia = {};\\n    for (var key in json_data) {\\n        self.valueFromJulia[key] = false;\\n    }\\n    ko.applyBindings(self.model, self.dom);\\n}\\n);\\n    (WebIO.importBlock({\\\"data\\\":[{\\\"name\\\":\\\"knockout\\\",\\\"type\\\":\\\"js\\\",\\\"url\\\":\\\"/assetserver/4b78a831658f9469be0fa90a874237d533cfc56e-knockout.js\\\"},{\\\"name\\\":\\\"knockout_punches\\\",\\\"type\\\":\\\"js\\\",\\\"url\\\":\\\"/assetserver/32cf81589ef7eb25886db6e5be297d237f8599ce-knockout_punches.js\\\"}],\\\"type\\\":\\\"async_block\\\"})).then((imports) => handler.apply(this, imports));\\n}\\n\")])], Dict{Symbol, Any}(:className => \"interact-widget\")))\n",
       "  (div { style=Dict(\"display\" => \"flex\", \"flex-direction\" => \"column\") }\n",
       "    Node{WebIO.DOM}(WebIO.DOM(:html, :div), Any[Scope(Node{WebIO.DOM}(WebIO.DOM(:html, :div), Any[Node{WebIO.DOM}(WebIO.DOM(:html, :input), Any[], Dict{Symbol, Any}(:attributes => Dict{Any, Any}(:type => \"checkbox\", Symbol(\"data-bind\") => \"checked: value, valueUpdate: 'change', event: {change: function (){this.changes(this.changes()+1)}}\"), :id => \"##1366\", :className => \"switch \", :style => Dict{Any, Any}())), Node{WebIO.DOM}(WebIO.DOM(:html, :label), Any[\"show u\"], Dict{Symbol, Any}(:attributes => Dict{SubString{String}, SubString{String}}(\"className\" => \"\", \"for\" => \"##1366\")))], Dict{Symbol, Any}(:className => \"field interact-widget\")), Dict{String, Tuple{AbstractObservable, Union{Nothing, Bool}}}(\"changes\" => (Observable(0), nothing), \"value\" => (Observable(false), nothing)), Set{String}(), nothing, Asset[Asset(\"js\", \"knockout\", \"/home/ubuntu/.julia/packages/Knockout/HReiN/src/../assets/knockout.js\"), Asset(\"js\", \"knockout_punches\", \"/home/ubuntu/.julia/packages/Knockout/HReiN/src/../assets/knockout_punches.js\"), Asset(\"js\", nothing, \"/home/ubuntu/.julia/packages/InteractBase/Qhvxg/src/../assets/all.js\"), Asset(\"css\", nothing, \"/home/ubuntu/.julia/packages/InteractBase/Qhvxg/src/../assets/style.css\"), Asset(\"css\", nothing, \"/home/ubuntu/.julia/packages/Interact/PENUy/src/../assets/bulma_confined.min.css\")], Dict{Any, Any}(\"changes\" => Any[WebIO.JSString(\"(function (val){return (val!=this.model[\\\"changes\\\"]()) ? (this.valueFromJulia[\\\"changes\\\"]=true, this.model[\\\"changes\\\"](val)) : undefined})\")], \"value\" => Any[WebIO.JSString(\"(function (val){return (val!=this.model[\\\"value\\\"]()) ? (this.valueFromJulia[\\\"value\\\"]=true, this.model[\\\"value\\\"](val)) : undefined})\")]), WebIO.ConnectionPool(Channel{Any}(32), Set{AbstractConnection}(), Condition(Base.InvasiveLinkedList{Task}(Task (runnable) @0x00007f6ac6f80740, Task (runnable) @0x00007f6ac6f80740), Base.AlwaysLockedST(1))), WebIO.JSString[WebIO.JSString(\"function () {\\n    var handler = (function (ko, koPunches) {\\n    ko.punches.enableAll();\\n    ko.bindingHandlers.numericValue = {\\n        init: function(element, valueAccessor, allBindings, data, context) {\\n            var stringified = ko.observable(ko.unwrap(valueAccessor()));\\n            stringified.subscribe(function(value) {\\n                var val = parseFloat(value);\\n                if (!isNaN(val)) {\\n                    valueAccessor()(val);\\n                }\\n            });\\n            valueAccessor().subscribe(function(value) {\\n                var str = JSON.stringify(value);\\n                if ((str == \\\"0\\\") && ([\\\"-0\\\", \\\"-0.\\\"].indexOf(stringified()) >= 0))\\n                     return;\\n                 if ([\\\"null\\\", \\\"\\\"].indexOf(str) >= 0)\\n                     return;\\n                stringified(str);\\n            });\\n            ko.applyBindingsToNode(\\n                element,\\n                {\\n                    value: stringified,\\n                    valueUpdate: allBindings.get('valueUpdate'),\\n                },\\n                context,\\n            );\\n        }\\n    };\\n    var json_data = {\\\"changes\\\":WebIO.getval({\\\"name\\\":\\\"changes\\\",\\\"scope\\\":\\\"12380307129531368019\\\",\\\"id\\\":\\\"7961152437597149269\\\",\\\"type\\\":\\\"observable\\\"}),\\\"value\\\":WebIO.getval({\\\"name\\\":\\\"value\\\",\\\"scope\\\":\\\"12380307129531368019\\\",\\\"id\\\":\\\"6812731882257082043\\\",\\\"type\\\":\\\"observable\\\"})};\\n    var self = this;\\n    function AppViewModel() {\\n        for (var key in json_data) {\\n            var el = json_data[key];\\n            this[key] = Array.isArray(el) ? ko.observableArray(el) : ko.observable(el);\\n        }\\n        \\n        \\n        [this[\\\"changes\\\"].subscribe((function (val){!(this.valueFromJulia[\\\"changes\\\"]) ? (WebIO.setval({\\\"name\\\":\\\"changes\\\",\\\"scope\\\":\\\"12380307129531368019\\\",\\\"id\\\":\\\"7961152437597149269\\\",\\\"type\\\":\\\"observable\\\"},val)) : undefined; return this.valueFromJulia[\\\"changes\\\"]=false}),self),this[\\\"value\\\"].subscribe((function (val){!(this.valueFromJulia[\\\"value\\\"]) ? (WebIO.setval({\\\"name\\\":\\\"value\\\",\\\"scope\\\":\\\"12380307129531368019\\\",\\\"id\\\":\\\"6812731882257082043\\\",\\\"type\\\":\\\"observable\\\"},val)) : undefined; return this.valueFromJulia[\\\"value\\\"]=false}),self)]\\n        \\n    }\\n    self.model = new AppViewModel();\\n    self.valueFromJulia = {};\\n    for (var key in json_data) {\\n        self.valueFromJulia[key] = false;\\n    }\\n    ko.applyBindings(self.model, self.dom);\\n}\\n);\\n    (WebIO.importBlock({\\\"data\\\":[{\\\"name\\\":\\\"knockout\\\",\\\"type\\\":\\\"js\\\",\\\"url\\\":\\\"/assetserver/4b78a831658f9469be0fa90a874237d533cfc56e-knockout.js\\\"},{\\\"name\\\":\\\"knockout_punches\\\",\\\"type\\\":\\\"js\\\",\\\"url\\\":\\\"/assetserver/32cf81589ef7eb25886db6e5be297d237f8599ce-knockout_punches.js\\\"}],\\\"type\\\":\\\"async_block\\\"})).then((imports) => handler.apply(this, imports));\\n}\\n\")])], Dict{Symbol, Any}(:className => \"field interact-widget\"))\n",
       "    Node{WebIO.DOM}(WebIO.DOM(:html, :div), Any[Scope(Node{WebIO.DOM}(WebIO.DOM(:html, :div), Any[Node{WebIO.DOM}(WebIO.DOM(:html, :input), Any[], Dict{Symbol, Any}(:attributes => Dict{Any, Any}(:type => \"checkbox\", Symbol(\"data-bind\") => \"checked: value, valueUpdate: 'change', event: {change: function (){this.changes(this.changes()+1)}}\"), :id => \"##1367\", :className => \"switch \", :style => Dict{Any, Any}())), Node{WebIO.DOM}(WebIO.DOM(:html, :label), Any[\"show obs\"], Dict{Symbol, Any}(:attributes => Dict{SubString{String}, SubString{String}}(\"className\" => \"\", \"for\" => \"##1367\")))], Dict{Symbol, Any}(:className => \"field interact-widget\")), Dict{String, Tuple{AbstractObservable, Union{Nothing, Bool}}}(\"changes\" => (Observable(0), nothing), \"value\" => (Observable(false), nothing)), Set{String}(), nothing, Asset[Asset(\"js\", \"knockout\", \"/home/ubuntu/.julia/packages/Knockout/HReiN/src/../assets/knockout.js\"), Asset(\"js\", \"knockout_punches\", \"/home/ubuntu/.julia/packages/Knockout/HReiN/src/../assets/knockout_punches.js\"), Asset(\"js\", nothing, \"/home/ubuntu/.julia/packages/InteractBase/Qhvxg/src/../assets/all.js\"), Asset(\"css\", nothing, \"/home/ubuntu/.julia/packages/InteractBase/Qhvxg/src/../assets/style.css\"), Asset(\"css\", nothing, \"/home/ubuntu/.julia/packages/Interact/PENUy/src/../assets/bulma_confined.min.css\")], Dict{Any, Any}(\"changes\" => Any[WebIO.JSString(\"(function (val){return (val!=this.model[\\\"changes\\\"]()) ? (this.valueFromJulia[\\\"changes\\\"]=true, this.model[\\\"changes\\\"](val)) : undefined})\")], \"value\" => Any[WebIO.JSString(\"(function (val){return (val!=this.model[\\\"value\\\"]()) ? (this.valueFromJulia[\\\"value\\\"]=true, this.model[\\\"value\\\"](val)) : undefined})\")]), WebIO.ConnectionPool(Channel{Any}(32), Set{AbstractConnection}(), Condition(Base.InvasiveLinkedList{Task}(Task (runnable) @0x00007f6ac6f80a20, Task (runnable) @0x00007f6ac6f80a20), Base.AlwaysLockedST(1))), WebIO.JSString[WebIO.JSString(\"function () {\\n    var handler = (function (ko, koPunches) {\\n    ko.punches.enableAll();\\n    ko.bindingHandlers.numericValue = {\\n        init: function(element, valueAccessor, allBindings, data, context) {\\n            var stringified = ko.observable(ko.unwrap(valueAccessor()));\\n            stringified.subscribe(function(value) {\\n                var val = parseFloat(value);\\n                if (!isNaN(val)) {\\n                    valueAccessor()(val);\\n                }\\n            });\\n            valueAccessor().subscribe(function(value) {\\n                var str = JSON.stringify(value);\\n                if ((str == \\\"0\\\") && ([\\\"-0\\\", \\\"-0.\\\"].indexOf(stringified()) >= 0))\\n                     return;\\n                 if ([\\\"null\\\", \\\"\\\"].indexOf(str) >= 0)\\n                     return;\\n                stringified(str);\\n            });\\n            ko.applyBindingsToNode(\\n                element,\\n                {\\n                    value: stringified,\\n                    valueUpdate: allBindings.get('valueUpdate'),\\n                },\\n                context,\\n            );\\n        }\\n    };\\n    var json_data = {\\\"changes\\\":WebIO.getval({\\\"name\\\":\\\"changes\\\",\\\"scope\\\":\\\"6729162845153156250\\\",\\\"id\\\":\\\"6935618120618874063\\\",\\\"type\\\":\\\"observable\\\"}),\\\"value\\\":WebIO.getval({\\\"name\\\":\\\"value\\\",\\\"scope\\\":\\\"6729162845153156250\\\",\\\"id\\\":\\\"15975314064372207767\\\",\\\"type\\\":\\\"observable\\\"})};\\n    var self = this;\\n    function AppViewModel() {\\n        for (var key in json_data) {\\n            var el = json_data[key];\\n            this[key] = Array.isArray(el) ? ko.observableArray(el) : ko.observable(el);\\n        }\\n        \\n        \\n        [this[\\\"changes\\\"].subscribe((function (val){!(this.valueFromJulia[\\\"changes\\\"]) ? (WebIO.setval({\\\"name\\\":\\\"changes\\\",\\\"scope\\\":\\\"6729162845153156250\\\",\\\"id\\\":\\\"6935618120618874063\\\",\\\"type\\\":\\\"observable\\\"},val)) : undefined; return this.valueFromJulia[\\\"changes\\\"]=false}),self),this[\\\"value\\\"].subscribe((function (val){!(this.valueFromJulia[\\\"value\\\"]) ? (WebIO.setval({\\\"name\\\":\\\"value\\\",\\\"scope\\\":\\\"6729162845153156250\\\",\\\"id\\\":\\\"15975314064372207767\\\",\\\"type\\\":\\\"observable\\\"},val)) : undefined; return this.valueFromJulia[\\\"value\\\"]=false}),self)]\\n        \\n    }\\n    self.model = new AppViewModel();\\n    self.valueFromJulia = {};\\n    for (var key in json_data) {\\n        self.valueFromJulia[key] = false;\\n    }\\n    ko.applyBindings(self.model, self.dom);\\n}\\n);\\n    (WebIO.importBlock({\\\"data\\\":[{\\\"name\\\":\\\"knockout\\\",\\\"type\\\":\\\"js\\\",\\\"url\\\":\\\"/assetserver/4b78a831658f9469be0fa90a874237d533cfc56e-knockout.js\\\"},{\\\"name\\\":\\\"knockout_punches\\\",\\\"type\\\":\\\"js\\\",\\\"url\\\":\\\"/assetserver/32cf81589ef7eb25886db6e5be297d237f8599ce-knockout_punches.js\\\"}],\\\"type\\\":\\\"async_block\\\"})).then((imports) => handler.apply(this, imports));\\n}\\n\")])], Dict{Symbol, Any}(:className => \"field interact-widget\"))\n",
       "    Node{WebIO.DOM}(WebIO.DOM(:html, :div), Any[Scope(Node{WebIO.DOM}(WebIO.DOM(:html, :div), Any[Node{WebIO.DOM}(WebIO.DOM(:html, :input), Any[], Dict{Symbol, Any}(:attributes => Dict{Any, Any}(:type => \"checkbox\", Symbol(\"data-bind\") => \"checked: value, valueUpdate: 'change', event: {change: function (){this.changes(this.changes()+1)}}\"), :id => \"##1368\", :className => \"switch \", :style => Dict{Any, Any}())), Node{WebIO.DOM}(WebIO.DOM(:html, :label), Any[\"show samples\"], Dict{Symbol, Any}(:attributes => Dict{SubString{String}, SubString{String}}(\"className\" => \"\", \"for\" => \"##1368\")))], Dict{Symbol, Any}(:className => \"field interact-widget\")), Dict{String, Tuple{AbstractObservable, Union{Nothing, Bool}}}(\"changes\" => (Observable(0), nothing), \"value\" => (Observable(true), nothing)), Set{String}(), nothing, Asset[Asset(\"js\", \"knockout\", \"/home/ubuntu/.julia/packages/Knockout/HReiN/src/../assets/knockout.js\"), Asset(\"js\", \"knockout_punches\", \"/home/ubuntu/.julia/packages/Knockout/HReiN/src/../assets/knockout_punches.js\"), Asset(\"js\", nothing, \"/home/ubuntu/.julia/packages/InteractBase/Qhvxg/src/../assets/all.js\"), Asset(\"css\", nothing, \"/home/ubuntu/.julia/packages/InteractBase/Qhvxg/src/../assets/style.css\"), Asset(\"css\", nothing, \"/home/ubuntu/.julia/packages/Interact/PENUy/src/../assets/bulma_confined.min.css\")], Dict{Any, Any}(\"changes\" => Any[WebIO.JSString(\"(function (val){return (val!=this.model[\\\"changes\\\"]()) ? (this.valueFromJulia[\\\"changes\\\"]=true, this.model[\\\"changes\\\"](val)) : undefined})\")], \"value\" => Any[WebIO.JSString(\"(function (val){return (val!=this.model[\\\"value\\\"]()) ? (this.valueFromJulia[\\\"value\\\"]=true, this.model[\\\"value\\\"](val)) : undefined})\")]), WebIO.ConnectionPool(Channel{Any}(32), Set{AbstractConnection}(), Condition(Base.InvasiveLinkedList{Task}(Task (runnable) @0x00007f6ac6f80d00, Task (runnable) @0x00007f6ac6f80d00), Base.AlwaysLockedST(1))), WebIO.JSString[WebIO.JSString(\"function () {\\n    var handler = (function (ko, koPunches) {\\n    ko.punches.enableAll();\\n    ko.bindingHandlers.numericValue = {\\n        init: function(element, valueAccessor, allBindings, data, context) {\\n            var stringified = ko.observable(ko.unwrap(valueAccessor()));\\n            stringified.subscribe(function(value) {\\n                var val = parseFloat(value);\\n                if (!isNaN(val)) {\\n                    valueAccessor()(val);\\n                }\\n            });\\n            valueAccessor().subscribe(function(value) {\\n                var str = JSON.stringify(value);\\n                if ((str == \\\"0\\\") && ([\\\"-0\\\", \\\"-0.\\\"].indexOf(stringified()) >= 0))\\n                     return;\\n                 if ([\\\"null\\\", \\\"\\\"].indexOf(str) >= 0)\\n                     return;\\n                stringified(str);\\n            });\\n            ko.applyBindingsToNode(\\n                element,\\n                {\\n                    value: stringified,\\n                    valueUpdate: allBindings.get('valueUpdate'),\\n                },\\n                context,\\n            );\\n        }\\n    };\\n    var json_data = {\\\"changes\\\":WebIO.getval({\\\"name\\\":\\\"changes\\\",\\\"scope\\\":\\\"17054356380216030913\\\",\\\"id\\\":\\\"7947945196253627936\\\",\\\"type\\\":\\\"observable\\\"}),\\\"value\\\":WebIO.getval({\\\"name\\\":\\\"value\\\",\\\"scope\\\":\\\"17054356380216030913\\\",\\\"id\\\":\\\"15271421067281132480\\\",\\\"type\\\":\\\"observable\\\"})};\\n    var self = this;\\n    function AppViewModel() {\\n        for (var key in json_data) {\\n            var el = json_data[key];\\n            this[key] = Array.isArray(el) ? ko.observableArray(el) : ko.observable(el);\\n        }\\n        \\n        \\n        [this[\\\"changes\\\"].subscribe((function (val){!(this.valueFromJulia[\\\"changes\\\"]) ? (WebIO.setval({\\\"name\\\":\\\"changes\\\",\\\"scope\\\":\\\"17054356380216030913\\\",\\\"id\\\":\\\"7947945196253627936\\\",\\\"type\\\":\\\"observable\\\"},val)) : undefined; return this.valueFromJulia[\\\"changes\\\"]=false}),self),this[\\\"value\\\"].subscribe((function (val){!(this.valueFromJulia[\\\"value\\\"]) ? (WebIO.setval({\\\"name\\\":\\\"value\\\",\\\"scope\\\":\\\"17054356380216030913\\\",\\\"id\\\":\\\"15271421067281132480\\\",\\\"type\\\":\\\"observable\\\"},val)) : undefined; return this.valueFromJulia[\\\"value\\\"]=false}),self)]\\n        \\n    }\\n    self.model = new AppViewModel();\\n    self.valueFromJulia = {};\\n    for (var key in json_data) {\\n        self.valueFromJulia[key] = false;\\n    }\\n    ko.applyBindings(self.model, self.dom);\\n}\\n);\\n    (WebIO.importBlock({\\\"data\\\":[{\\\"name\\\":\\\"knockout\\\",\\\"type\\\":\\\"js\\\",\\\"url\\\":\\\"/assetserver/4b78a831658f9469be0fa90a874237d533cfc56e-knockout.js\\\"},{\\\"name\\\":\\\"knockout_punches\\\",\\\"type\\\":\\\"js\\\",\\\"url\\\":\\\"/assetserver/32cf81589ef7eb25886db6e5be297d237f8599ce-knockout_punches.js\\\"}],\\\"type\\\":\\\"async_block\\\"})).then((imports) => handler.apply(this, imports));\\n}\\n\")])], Dict{Symbol, Any}(:className => \"field interact-widget\")))\n",
       "  (div { style=Dict(\"display\" => \"flex\", \"flex-direction\" => \"row\") }\n",
       "    Node{WebIO.DOM}(WebIO.DOM(:html, :div), Any[Scope(Node{WebIO.DOM}(WebIO.DOM(:html, :div), Any[Node{WebIO.DOM}(WebIO.DOM(:html, :div), Any[Node{WebIO.DOM}(WebIO.DOM(:html, :label), Any[\"# samples\"], Dict{Symbol, Any}(:className => \"interact \", :style => Dict{Any, Any}(:padding => \"5px 10px 0px 10px\")))], Dict{Symbol, Any}(:className => \"interact-flex-row-left\")), Node{WebIO.DOM}(WebIO.DOM(:html, :div), Any[Node{WebIO.DOM}(WebIO.DOM(:html, :input), Any[], Dict{Symbol, Any}(:max => 3, :min => 1, :attributes => Dict{Any, Any}(:type => \"range\", Symbol(\"data-bind\") => \"numericValue: index, valueUpdate: 'input', event: {change: function (){this.changes(this.changes()+1)}}\", \"orient\" => \"horizontal\"), :step => 1, :className => \"slider slider is-fullwidth\", :style => Dict{Any, Any}()))], Dict{Symbol, Any}(:className => \"interact-flex-row-center\")), Node{WebIO.DOM}(WebIO.DOM(:html, :div), Any[Node{WebIO.DOM}(WebIO.DOM(:html, :p), Any[], Dict{Symbol, Any}(:attributes => Dict(\"data-bind\" => \"text: formatted_val\")))], Dict{Symbol, Any}(:className => \"interact-flex-row-right\"))], Dict{Symbol, Any}(:className => \"interact-flex-row interact-widget\")), Dict{String, Tuple{AbstractObservable, Union{Nothing, Bool}}}(\"changes\" => (Observable(0), nothing), \"index\" => (Observable{Any}(1), nothing)), Set{String}(), nothing, Asset[Asset(\"js\", \"knockout\", \"/home/ubuntu/.julia/packages/Knockout/HReiN/src/../assets/knockout.js\"), Asset(\"js\", \"knockout_punches\", \"/home/ubuntu/.julia/packages/Knockout/HReiN/src/../assets/knockout_punches.js\"), Asset(\"js\", nothing, \"/home/ubuntu/.julia/packages/InteractBase/Qhvxg/src/../assets/all.js\"), Asset(\"css\", nothing, \"/home/ubuntu/.julia/packages/InteractBase/Qhvxg/src/../assets/style.css\"), Asset(\"css\", nothing, \"/home/ubuntu/.julia/packages/Interact/PENUy/src/../assets/bulma_confined.min.css\")], Dict{Any, Any}(\"changes\" => Any[WebIO.JSString(\"(function (val){return (val!=this.model[\\\"changes\\\"]()) ? (this.valueFromJulia[\\\"changes\\\"]=true, this.model[\\\"changes\\\"](val)) : undefined})\")], \"index\" => Any[WebIO.JSString(\"(function (val){return (val!=this.model[\\\"index\\\"]()) ? (this.valueFromJulia[\\\"index\\\"]=true, this.model[\\\"index\\\"](val)) : undefined})\")]), WebIO.ConnectionPool(Channel{Any}(32), Set{AbstractConnection}(), Condition(Base.InvasiveLinkedList{Task}(Task (runnable) @0x00007f6ac6c776b0, Task (runnable) @0x00007f6ac6c776b0), Base.AlwaysLockedST(1))), WebIO.JSString[WebIO.JSString(\"function () {\\n    var handler = (function (ko, koPunches) {\\n    ko.punches.enableAll();\\n    ko.bindingHandlers.numericValue = {\\n        init: function(element, valueAccessor, allBindings, data, context) {\\n            var stringified = ko.observable(ko.unwrap(valueAccessor()));\\n            stringified.subscribe(function(value) {\\n                var val = parseFloat(value);\\n                if (!isNaN(val)) {\\n                    valueAccessor()(val);\\n                }\\n            });\\n            valueAccessor().subscribe(function(value) {\\n                var str = JSON.stringify(value);\\n                if ((str == \\\"0\\\") && ([\\\"-0\\\", \\\"-0.\\\"].indexOf(stringified()) >= 0))\\n                     return;\\n                 if ([\\\"null\\\", \\\"\\\"].indexOf(str) >= 0)\\n                     return;\\n                stringified(str);\\n            });\\n            ko.applyBindingsToNode(\\n                element,\\n                {\\n                    value: stringified,\\n                    valueUpdate: allBindings.get('valueUpdate'),\\n                },\\n                context,\\n            );\\n        }\\n    };\\n    var json_data = {\\\"formatted_vals\\\":[\\\"1\\\",\\\"21\\\",\\\"41\\\"],\\\"changes\\\":WebIO.getval({\\\"name\\\":\\\"changes\\\",\\\"scope\\\":\\\"1315009929951936239\\\",\\\"id\\\":\\\"14973267224718104946\\\",\\\"type\\\":\\\"observable\\\"}),\\\"index\\\":WebIO.getval({\\\"name\\\":\\\"index\\\",\\\"scope\\\":\\\"1315009929951936239\\\",\\\"id\\\":\\\"12089058132761038520\\\",\\\"type\\\":\\\"observable\\\"})};\\n    var self = this;\\n    function AppViewModel() {\\n        for (var key in json_data) {\\n            var el = json_data[key];\\n            this[key] = Array.isArray(el) ? ko.observableArray(el) : ko.observable(el);\\n        }\\n        \\n        [this[\\\"formatted_val\\\"]=ko.computed(    function(){\\n        return this.formatted_vals()[parseInt(this.index())-(1)];\\n    }\\n,this)]\\n        [this[\\\"changes\\\"].subscribe((function (val){!(this.valueFromJulia[\\\"changes\\\"]) ? (WebIO.setval({\\\"name\\\":\\\"changes\\\",\\\"scope\\\":\\\"1315009929951936239\\\",\\\"id\\\":\\\"14973267224718104946\\\",\\\"type\\\":\\\"observable\\\"},val)) : undefined; return this.valueFromJulia[\\\"changes\\\"]=false}),self),this[\\\"index\\\"].subscribe((function (val){!(this.valueFromJulia[\\\"index\\\"]) ? (WebIO.setval({\\\"name\\\":\\\"index\\\",\\\"scope\\\":\\\"1315009929951936239\\\",\\\"id\\\":\\\"12089058132761038520\\\",\\\"type\\\":\\\"observable\\\"},val)) : undefined; return this.valueFromJulia[\\\"index\\\"]=false}),self)]\\n        \\n    }\\n    self.model = new AppViewModel();\\n    self.valueFromJulia = {};\\n    for (var key in json_data) {\\n        self.valueFromJulia[key] = false;\\n    }\\n    ko.applyBindings(self.model, self.dom);\\n}\\n);\\n    (WebIO.importBlock({\\\"data\\\":[{\\\"name\\\":\\\"knockout\\\",\\\"type\\\":\\\"js\\\",\\\"url\\\":\\\"/assetserver/4b78a831658f9469be0fa90a874237d533cfc56e-knockout.js\\\"},{\\\"name\\\":\\\"knockout_punches\\\",\\\"type\\\":\\\"js\\\",\\\"url\\\":\\\"/assetserver/32cf81589ef7eb25886db6e5be297d237f8599ce-knockout_punches.js\\\"}],\\\"type\\\":\\\"async_block\\\"})).then((imports) => handler.apply(this, imports));\\n}\\n\")])], Dict{Symbol, Any}(:className => \"field interact-widget\"))\n",
       "    Node{WebIO.DOM}(WebIO.DOM(:html, :div), Any[Scope(Node{WebIO.DOM}(WebIO.DOM(:html, :div), Any[Node{WebIO.DOM}(WebIO.DOM(:html, :div), Any[Node{WebIO.DOM}(WebIO.DOM(:html, :label), Any[\"T\"], Dict{Symbol, Any}(:className => \"interact \", :style => Dict{Any, Any}(:padding => \"5px 10px 0px 10px\")))], Dict{Symbol, Any}(:className => \"interact-flex-row-left\")), Node{WebIO.DOM}(WebIO.DOM(:html, :div), Any[Node{WebIO.DOM}(WebIO.DOM(:html, :input), Any[], Dict{Symbol, Any}(:max => 20, :min => 5, :attributes => Dict{Any, Any}(:type => \"range\", Symbol(\"data-bind\") => \"numericValue: index, valueUpdate: 'input', event: {change: function (){this.changes(this.changes()+1)}}\", \"orient\" => \"horizontal\"), :step => 1, :className => \"slider slider is-fullwidth\", :style => Dict{Any, Any}()))], Dict{Symbol, Any}(:className => \"interact-flex-row-center\")), Node{WebIO.DOM}(WebIO.DOM(:html, :div), Any[Node{WebIO.DOM}(WebIO.DOM(:html, :p), Any[], Dict{Symbol, Any}(:attributes => Dict(\"data-bind\" => \"text: formatted_val\")))], Dict{Symbol, Any}(:className => \"interact-flex-row-right\"))], Dict{Symbol, Any}(:className => \"interact-flex-row interact-widget\")), Dict{String, Tuple{AbstractObservable, Union{Nothing, Bool}}}(\"changes\" => (Observable(0), nothing), \"index\" => (Observable(5), nothing)), Set{String}(), nothing, Asset[Asset(\"js\", \"knockout\", \"/home/ubuntu/.julia/packages/Knockout/HReiN/src/../assets/knockout.js\"), Asset(\"js\", \"knockout_punches\", \"/home/ubuntu/.julia/packages/Knockout/HReiN/src/../assets/knockout_punches.js\"), Asset(\"js\", nothing, \"/home/ubuntu/.julia/packages/InteractBase/Qhvxg/src/../assets/all.js\"), Asset(\"css\", nothing, \"/home/ubuntu/.julia/packages/InteractBase/Qhvxg/src/../assets/style.css\"), Asset(\"css\", nothing, \"/home/ubuntu/.julia/packages/Interact/PENUy/src/../assets/bulma_confined.min.css\")], Dict{Any, Any}(\"changes\" => Any[WebIO.JSString(\"(function (val){return (val!=this.model[\\\"changes\\\"]()) ? (this.valueFromJulia[\\\"changes\\\"]=true, this.model[\\\"changes\\\"](val)) : undefined})\")], \"index\" => Any[WebIO.JSString(\"(function (val){return (val!=this.model[\\\"index\\\"]()) ? (this.valueFromJulia[\\\"index\\\"]=true, this.model[\\\"index\\\"](val)) : undefined})\")]), WebIO.ConnectionPool(Channel{Any}(32), Set{AbstractConnection}(), Condition(Base.InvasiveLinkedList{Task}(Task (runnable) @0x00007f6ac6c77b00, Task (runnable) @0x00007f6ac6c77b00), Base.AlwaysLockedST(1))), WebIO.JSString[WebIO.JSString(\"function () {\\n    var handler = (function (ko, koPunches) {\\n    ko.punches.enableAll();\\n    ko.bindingHandlers.numericValue = {\\n        init: function(element, valueAccessor, allBindings, data, context) {\\n            var stringified = ko.observable(ko.unwrap(valueAccessor()));\\n            stringified.subscribe(function(value) {\\n                var val = parseFloat(value);\\n                if (!isNaN(val)) {\\n                    valueAccessor()(val);\\n                }\\n            });\\n            valueAccessor().subscribe(function(value) {\\n                var str = JSON.stringify(value);\\n                if ((str == \\\"0\\\") && ([\\\"-0\\\", \\\"-0.\\\"].indexOf(stringified()) >= 0))\\n                     return;\\n                 if ([\\\"null\\\", \\\"\\\"].indexOf(str) >= 0)\\n                     return;\\n                stringified(str);\\n            });\\n            ko.applyBindingsToNode(\\n                element,\\n                {\\n                    value: stringified,\\n                    valueUpdate: allBindings.get('valueUpdate'),\\n                },\\n                context,\\n            );\\n        }\\n    };\\n    var json_data = {\\\"formatted_vals\\\":[\\\"5\\\",\\\"6\\\",\\\"7\\\",\\\"8\\\",\\\"9\\\",\\\"10\\\",\\\"11\\\",\\\"12\\\",\\\"13\\\",\\\"14\\\",\\\"15\\\",\\\"16\\\",\\\"17\\\",\\\"18\\\",\\\"19\\\",\\\"20\\\"],\\\"changes\\\":WebIO.getval({\\\"name\\\":\\\"changes\\\",\\\"scope\\\":\\\"8487418553106479238\\\",\\\"id\\\":\\\"14398433987726878517\\\",\\\"type\\\":\\\"observable\\\"}),\\\"index\\\":WebIO.getval({\\\"name\\\":\\\"index\\\",\\\"scope\\\":\\\"8487418553106479238\\\",\\\"id\\\":\\\"5073008940846548283\\\",\\\"type\\\":\\\"observable\\\"})};\\n    var self = this;\\n    function AppViewModel() {\\n        for (var key in json_data) {\\n            var el = json_data[key];\\n            this[key] = Array.isArray(el) ? ko.observableArray(el) : ko.observable(el);\\n        }\\n        \\n        [this[\\\"formatted_val\\\"]=ko.computed(    function(){\\n        return this.formatted_vals()[parseInt(this.index())-(5)];\\n    }\\n,this)]\\n        [this[\\\"changes\\\"].subscribe((function (val){!(this.valueFromJulia[\\\"changes\\\"]) ? (WebIO.setval({\\\"name\\\":\\\"changes\\\",\\\"scope\\\":\\\"8487418553106479238\\\",\\\"id\\\":\\\"14398433987726878517\\\",\\\"type\\\":\\\"observable\\\"},val)) : undefined; return this.valueFromJulia[\\\"changes\\\"]=false}),self),this[\\\"index\\\"].subscribe((function (val){!(this.valueFromJulia[\\\"index\\\"]) ? (WebIO.setval({\\\"name\\\":\\\"index\\\",\\\"scope\\\":\\\"8487418553106479238\\\",\\\"id\\\":\\\"5073008940846548283\\\",\\\"type\\\":\\\"observable\\\"},val)) : undefined; return this.valueFromJulia[\\\"index\\\"]=false}),self)]\\n        \\n    }\\n    self.model = new AppViewModel();\\n    self.valueFromJulia = {};\\n    for (var key in json_data) {\\n        self.valueFromJulia[key] = false;\\n    }\\n    ko.applyBindings(self.model, self.dom);\\n}\\n);\\n    (WebIO.importBlock({\\\"data\\\":[{\\\"name\\\":\\\"knockout\\\",\\\"type\\\":\\\"js\\\",\\\"url\\\":\\\"/assetserver/4b78a831658f9469be0fa90a874237d533cfc56e-knockout.js\\\"},{\\\"name\\\":\\\"knockout_punches\\\",\\\"type\\\":\\\"js\\\",\\\"url\\\":\\\"/assetserver/32cf81589ef7eb25886db6e5be297d237f8599ce-knockout_punches.js\\\"}],\\\"type\\\":\\\"async_block\\\"})).then((imports) => handler.apply(this, imports));\\n}\\n\")])], Dict{Symbol, Any}(:className => \"field interact-widget\"))\n",
       "    Node{WebIO.DOM}(WebIO.DOM(:html, :div), Any[Scope(Node{WebIO.DOM}(WebIO.DOM(:html, :div), Any[Node{WebIO.DOM}(WebIO.DOM(:html, :div), Any[Node{WebIO.DOM}(WebIO.DOM(:html, :label), Any[\"# particles\"], Dict{Symbol, Any}(:className => \"interact \", :style => Dict{Any, Any}(:padding => \"5px 10px 0px 10px\")))], Dict{Symbol, Any}(:className => \"interact-flex-row-left\")), Node{WebIO.DOM}(WebIO.DOM(:html, :div), Any[Node{WebIO.DOM}(WebIO.DOM(:html, :input), Any[], Dict{Symbol, Any}(:max => 5, :min => 1, :attributes => Dict{Any, Any}(:type => \"range\", Symbol(\"data-bind\") => \"numericValue: index, valueUpdate: 'input', event: {change: function (){this.changes(this.changes()+1)}}\", \"orient\" => \"horizontal\"), :step => 1, :className => \"slider slider is-fullwidth\", :style => Dict{Any, Any}()))], Dict{Symbol, Any}(:className => \"interact-flex-row-center\")), Node{WebIO.DOM}(WebIO.DOM(:html, :div), Any[Node{WebIO.DOM}(WebIO.DOM(:html, :p), Any[], Dict{Symbol, Any}(:attributes => Dict(\"data-bind\" => \"text: formatted_val\")))], Dict{Symbol, Any}(:className => \"interact-flex-row-right\"))], Dict{Symbol, Any}(:className => \"interact-flex-row interact-widget\")), Dict{String, Tuple{AbstractObservable, Union{Nothing, Bool}}}(\"changes\" => (Observable(0), nothing), \"index\" => (Observable{Any}(1), nothing)), Set{String}(), nothing, Asset[Asset(\"js\", \"knockout\", \"/home/ubuntu/.julia/packages/Knockout/HReiN/src/../assets/knockout.js\"), Asset(\"js\", \"knockout_punches\", \"/home/ubuntu/.julia/packages/Knockout/HReiN/src/../assets/knockout_punches.js\"), Asset(\"js\", nothing, \"/home/ubuntu/.julia/packages/InteractBase/Qhvxg/src/../assets/all.js\"), Asset(\"css\", nothing, \"/home/ubuntu/.julia/packages/InteractBase/Qhvxg/src/../assets/style.css\"), Asset(\"css\", nothing, \"/home/ubuntu/.julia/packages/Interact/PENUy/src/../assets/bulma_confined.min.css\")], Dict{Any, Any}(\"changes\" => Any[WebIO.JSString(\"(function (val){return (val!=this.model[\\\"changes\\\"]()) ? (this.valueFromJulia[\\\"changes\\\"]=true, this.model[\\\"changes\\\"](val)) : undefined})\")], \"index\" => Any[WebIO.JSString(\"(function (val){return (val!=this.model[\\\"index\\\"]()) ? (this.valueFromJulia[\\\"index\\\"]=true, this.model[\\\"index\\\"](val)) : undefined})\")]), WebIO.ConnectionPool(Channel{Any}(32), Set{AbstractConnection}(), Condition(Base.InvasiveLinkedList{Task}(Task (runnable) @0x00007f6ac6f80460, Task (runnable) @0x00007f6ac6f80460), Base.AlwaysLockedST(1))), WebIO.JSString[WebIO.JSString(\"function () {\\n    var handler = (function (ko, koPunches) {\\n    ko.punches.enableAll();\\n    ko.bindingHandlers.numericValue = {\\n        init: function(element, valueAccessor, allBindings, data, context) {\\n            var stringified = ko.observable(ko.unwrap(valueAccessor()));\\n            stringified.subscribe(function(value) {\\n                var val = parseFloat(value);\\n                if (!isNaN(val)) {\\n                    valueAccessor()(val);\\n                }\\n            });\\n            valueAccessor().subscribe(function(value) {\\n                var str = JSON.stringify(value);\\n                if ((str == \\\"0\\\") && ([\\\"-0\\\", \\\"-0.\\\"].indexOf(stringified()) >= 0))\\n                     return;\\n                 if ([\\\"null\\\", \\\"\\\"].indexOf(str) >= 0)\\n                     return;\\n                stringified(str);\\n            });\\n            ko.applyBindingsToNode(\\n                element,\\n                {\\n                    value: stringified,\\n                    valueUpdate: allBindings.get('valueUpdate'),\\n                },\\n                context,\\n            );\\n        }\\n    };\\n    var json_data = {\\\"formatted_vals\\\":[\\\"1\\\",\\\"51\\\",\\\"101\\\",\\\"151\\\",\\\"201\\\"],\\\"changes\\\":WebIO.getval({\\\"name\\\":\\\"changes\\\",\\\"scope\\\":\\\"3423282009283954241\\\",\\\"id\\\":\\\"12860248630988727460\\\",\\\"type\\\":\\\"observable\\\"}),\\\"index\\\":WebIO.getval({\\\"name\\\":\\\"index\\\",\\\"scope\\\":\\\"3423282009283954241\\\",\\\"id\\\":\\\"1798765742473421069\\\",\\\"type\\\":\\\"observable\\\"})};\\n    var self = this;\\n    function AppViewModel() {\\n        for (var key in json_data) {\\n            var el = json_data[key];\\n            this[key] = Array.isArray(el) ? ko.observableArray(el) : ko.observable(el);\\n        }\\n        \\n        [this[\\\"formatted_val\\\"]=ko.computed(    function(){\\n        return this.formatted_vals()[parseInt(this.index())-(1)];\\n    }\\n,this)]\\n        [this[\\\"changes\\\"].subscribe((function (val){!(this.valueFromJulia[\\\"changes\\\"]) ? (WebIO.setval({\\\"name\\\":\\\"changes\\\",\\\"scope\\\":\\\"3423282009283954241\\\",\\\"id\\\":\\\"12860248630988727460\\\",\\\"type\\\":\\\"observable\\\"},val)) : undefined; return this.valueFromJulia[\\\"changes\\\"]=false}),self),this[\\\"index\\\"].subscribe((function (val){!(this.valueFromJulia[\\\"index\\\"]) ? (WebIO.setval({\\\"name\\\":\\\"index\\\",\\\"scope\\\":\\\"3423282009283954241\\\",\\\"id\\\":\\\"1798765742473421069\\\",\\\"type\\\":\\\"observable\\\"},val)) : undefined; return this.valueFromJulia[\\\"index\\\"]=false}),self)]\\n        \\n    }\\n    self.model = new AppViewModel();\\n    self.valueFromJulia = {};\\n    for (var key in json_data) {\\n        self.valueFromJulia[key] = false;\\n    }\\n    ko.applyBindings(self.model, self.dom);\\n}\\n);\\n    (WebIO.importBlock({\\\"data\\\":[{\\\"name\\\":\\\"knockout\\\",\\\"type\\\":\\\"js\\\",\\\"url\\\":\\\"/assetserver/4b78a831658f9469be0fa90a874237d533cfc56e-knockout.js\\\"},{\\\"name\\\":\\\"knockout_punches\\\",\\\"type\\\":\\\"js\\\",\\\"url\\\":\\\"/assetserver/32cf81589ef7eb25886db6e5be297d237f8599ce-knockout_punches.js\\\"}],\\\"type\\\":\\\"async_block\\\"})).then((imports) => handler.apply(this, imports));\\n}\\n\")])], Dict{Symbol, Any}(:className => \"field interact-widget\")))\n",
       "  (div { style=Dict(\"display\" => \"flex\", \"flex-direction\" => \"row\") }\n",
       "    Node{WebIO.DOM}(WebIO.DOM(:html, :div), Any[Scope(Node{WebIO.DOM}(WebIO.DOM(:html, :div), Any[Node{WebIO.DOM}(WebIO.DOM(:html, :div), Any[Node{WebIO.DOM}(WebIO.DOM(:html, :label), Any[\"n=x_noise\"], Dict{Symbol, Any}(:className => \"interact \", :style => Dict{Any, Any}(:padding => \"5px 10px 0px 10px\")))], Dict{Symbol, Any}(:className => \"interact-flex-row-left\")), Node{WebIO.DOM}(WebIO.DOM(:html, :div), Any[Node{WebIO.DOM}(WebIO.DOM(:html, :input), Any[], Dict{Symbol, Any}(:max => 5, :min => 1, :attributes => Dict{Any, Any}(:type => \"range\", Symbol(\"data-bind\") => \"numericValue: index, valueUpdate: 'input', event: {change: function (){this.changes(this.changes()+1)}}\", \"orient\" => \"horizontal\"), :step => 1, :className => \"slider slider is-fullwidth\", :style => Dict{Any, Any}()))], Dict{Symbol, Any}(:className => \"interact-flex-row-center\")), Node{WebIO.DOM}(WebIO.DOM(:html, :div), Any[Node{WebIO.DOM}(WebIO.DOM(:html, :p), Any[], Dict{Symbol, Any}(:attributes => Dict(\"data-bind\" => \"text: formatted_val\")))], Dict{Symbol, Any}(:className => \"interact-flex-row-right\"))], Dict{Symbol, Any}(:className => \"interact-flex-row interact-widget\")), Dict{String, Tuple{AbstractObservable, Union{Nothing, Bool}}}(\"changes\" => (Observable(0), nothing), \"index\" => (Observable{Any}(3), nothing)), Set{String}(), nothing, Asset[Asset(\"js\", \"knockout\", \"/home/ubuntu/.julia/packages/Knockout/HReiN/src/../assets/knockout.js\"), Asset(\"js\", \"knockout_punches\", \"/home/ubuntu/.julia/packages/Knockout/HReiN/src/../assets/knockout_punches.js\"), Asset(\"js\", nothing, \"/home/ubuntu/.julia/packages/InteractBase/Qhvxg/src/../assets/all.js\"), Asset(\"css\", nothing, \"/home/ubuntu/.julia/packages/InteractBase/Qhvxg/src/../assets/style.css\"), Asset(\"css\", nothing, \"/home/ubuntu/.julia/packages/Interact/PENUy/src/../assets/bulma_confined.min.css\")], Dict{Any, Any}(\"changes\" => Any[WebIO.JSString(\"(function (val){return (val!=this.model[\\\"changes\\\"]()) ? (this.valueFromJulia[\\\"changes\\\"]=true, this.model[\\\"changes\\\"](val)) : undefined})\")], \"index\" => Any[WebIO.JSString(\"(function (val){return (val!=this.model[\\\"index\\\"]()) ? (this.valueFromJulia[\\\"index\\\"]=true, this.model[\\\"index\\\"](val)) : undefined})\")]), WebIO.ConnectionPool(Channel{Any}(32), Set{AbstractConnection}(), Condition(Base.InvasiveLinkedList{Task}(Task (runnable) @0x00007f6ac6f81e40, Task (runnable) @0x00007f6ac6f81e40), Base.AlwaysLockedST(1))), WebIO.JSString[WebIO.JSString(\"function () {\\n    var handler = (function (ko, koPunches) {\\n    ko.punches.enableAll();\\n    ko.bindingHandlers.numericValue = {\\n        init: function(element, valueAccessor, allBindings, data, context) {\\n            var stringified = ko.observable(ko.unwrap(valueAccessor()));\\n            stringified.subscribe(function(value) {\\n                var val = parseFloat(value);\\n                if (!isNaN(val)) {\\n                    valueAccessor()(val);\\n                }\\n            });\\n            valueAccessor().subscribe(function(value) {\\n                var str = JSON.stringify(value);\\n                if ((str == \\\"0\\\") && ([\\\"-0\\\", \\\"-0.\\\"].indexOf(stringified()) >= 0))\\n                     return;\\n                 if ([\\\"null\\\", \\\"\\\"].indexOf(str) >= 0)\\n                     return;\\n                stringified(str);\\n            });\\n            ko.applyBindingsToNode(\\n                element,\\n                {\\n                    value: stringified,\\n                    valueUpdate: allBindings.get('valueUpdate'),\\n                },\\n                context,\\n            );\\n        }\\n    };\\n    var json_data = {\\\"formatted_vals\\\":[\\\"0.001\\\",\\\"0.12575\\\",\\\"0.2505\\\",\\\"0.37525\\\",\\\"0.5\\\"],\\\"changes\\\":WebIO.getval({\\\"name\\\":\\\"changes\\\",\\\"scope\\\":\\\"12535078908944127497\\\",\\\"id\\\":\\\"13846319504243242044\\\",\\\"type\\\":\\\"observable\\\"}),\\\"index\\\":WebIO.getval({\\\"name\\\":\\\"index\\\",\\\"scope\\\":\\\"12535078908944127497\\\",\\\"id\\\":\\\"8202949795721552798\\\",\\\"type\\\":\\\"observable\\\"})};\\n    var self = this;\\n    function AppViewModel() {\\n        for (var key in json_data) {\\n            var el = json_data[key];\\n            this[key] = Array.isArray(el) ? ko.observableArray(el) : ko.observable(el);\\n        }\\n        \\n        [this[\\\"formatted_val\\\"]=ko.computed(    function(){\\n        return this.formatted_vals()[parseInt(this.index())-(1)];\\n    }\\n,this)]\\n        [this[\\\"changes\\\"].subscribe((function (val){!(this.valueFromJulia[\\\"changes\\\"]) ? (WebIO.setval({\\\"name\\\":\\\"changes\\\",\\\"scope\\\":\\\"12535078908944127497\\\",\\\"id\\\":\\\"13846319504243242044\\\",\\\"type\\\":\\\"observable\\\"},val)) : undefined; return this.valueFromJulia[\\\"changes\\\"]=false}),self),this[\\\"index\\\"].subscribe((function (val){!(this.valueFromJulia[\\\"index\\\"]) ? (WebIO.setval({\\\"name\\\":\\\"index\\\",\\\"scope\\\":\\\"12535078908944127497\\\",\\\"id\\\":\\\"8202949795721552798\\\",\\\"type\\\":\\\"observable\\\"},val)) : undefined; return this.valueFromJulia[\\\"index\\\"]=false}),self)]\\n        \\n    }\\n    self.model = new AppViewModel();\\n    self.valueFromJulia = {};\\n    for (var key in json_data) {\\n        self.valueFromJulia[key] = false;\\n    }\\n    ko.applyBindings(self.model, self.dom);\\n}\\n);\\n    (WebIO.importBlock({\\\"data\\\":[{\\\"name\\\":\\\"knockout\\\",\\\"type\\\":\\\"js\\\",\\\"url\\\":\\\"/assetserver/4b78a831658f9469be0fa90a874237d533cfc56e-knockout.js\\\"},{\\\"name\\\":\\\"knockout_punches\\\",\\\"type\\\":\\\"js\\\",\\\"url\\\":\\\"/assetserver/32cf81589ef7eb25886db6e5be297d237f8599ce-knockout_punches.js\\\"}],\\\"type\\\":\\\"async_block\\\"})).then((imports) => handler.apply(this, imports));\\n}\\n\")])], Dict{Symbol, Any}(:className => \"field interact-widget\"))\n",
       "    Node{WebIO.DOM}(WebIO.DOM(:html, :div), Any[Scope(Node{WebIO.DOM}(WebIO.DOM(:html, :div), Any[Node{WebIO.DOM}(WebIO.DOM(:html, :div), Any[Node{WebIO.DOM}(WebIO.DOM(:html, :label), Any[\"hd_noise\"], Dict{Symbol, Any}(:className => \"interact \", :style => Dict{Any, Any}(:padding => \"5px 10px 0px 10px\")))], Dict{Symbol, Any}(:className => \"interact-flex-row-left\")), Node{WebIO.DOM}(WebIO.DOM(:html, :div), Any[Node{WebIO.DOM}(WebIO.DOM(:html, :input), Any[], Dict{Symbol, Any}(:max => 5, :min => 1, :attributes => Dict{Any, Any}(:type => \"range\", Symbol(\"data-bind\") => \"numericValue: index, valueUpdate: 'input', event: {change: function (){this.changes(this.changes()+1)}}\", \"orient\" => \"horizontal\"), :step => 1, :className => \"slider slider is-fullwidth\", :style => Dict{Any, Any}()))], Dict{Symbol, Any}(:className => \"interact-flex-row-center\")), Node{WebIO.DOM}(WebIO.DOM(:html, :div), Any[Node{WebIO.DOM}(WebIO.DOM(:html, :p), Any[], Dict{Symbol, Any}(:attributes => Dict(\"data-bind\" => \"text: formatted_val\")))], Dict{Symbol, Any}(:className => \"interact-flex-row-right\"))], Dict{Symbol, Any}(:className => \"interact-flex-row interact-widget\")), Dict{String, Tuple{AbstractObservable, Union{Nothing, Bool}}}(\"changes\" => (Observable(0), nothing), \"index\" => (Observable{Any}(3), nothing)), Set{String}(), nothing, Asset[Asset(\"js\", \"knockout\", \"/home/ubuntu/.julia/packages/Knockout/HReiN/src/../assets/knockout.js\"), Asset(\"js\", \"knockout_punches\", \"/home/ubuntu/.julia/packages/Knockout/HReiN/src/../assets/knockout_punches.js\"), Asset(\"js\", nothing, \"/home/ubuntu/.julia/packages/InteractBase/Qhvxg/src/../assets/all.js\"), Asset(\"css\", nothing, \"/home/ubuntu/.julia/packages/InteractBase/Qhvxg/src/../assets/style.css\"), Asset(\"css\", nothing, \"/home/ubuntu/.julia/packages/Interact/PENUy/src/../assets/bulma_confined.min.css\")], Dict{Any, Any}(\"changes\" => Any[WebIO.JSString(\"(function (val){return (val!=this.model[\\\"changes\\\"]()) ? (this.valueFromJulia[\\\"changes\\\"]=true, this.model[\\\"changes\\\"](val)) : undefined})\")], \"index\" => Any[WebIO.JSString(\"(function (val){return (val!=this.model[\\\"index\\\"]()) ? (this.valueFromJulia[\\\"index\\\"]=true, this.model[\\\"index\\\"](val)) : undefined})\")]), WebIO.ConnectionPool(Channel{Any}(32), Set{AbstractConnection}(), Condition(Base.InvasiveLinkedList{Task}(Task (runnable) @0x00007f6ac6f83c70, Task (runnable) @0x00007f6ac6f83c70), Base.AlwaysLockedST(1))), WebIO.JSString[WebIO.JSString(\"function () {\\n    var handler = (function (ko, koPunches) {\\n    ko.punches.enableAll();\\n    ko.bindingHandlers.numericValue = {\\n        init: function(element, valueAccessor, allBindings, data, context) {\\n            var stringified = ko.observable(ko.unwrap(valueAccessor()));\\n            stringified.subscribe(function(value) {\\n                var val = parseFloat(value);\\n                if (!isNaN(val)) {\\n                    valueAccessor()(val);\\n                }\\n            });\\n            valueAccessor().subscribe(function(value) {\\n                var str = JSON.stringify(value);\\n                if ((str == \\\"0\\\") && ([\\\"-0\\\", \\\"-0.\\\"].indexOf(stringified()) >= 0))\\n                     return;\\n                 if ([\\\"null\\\", \\\"\\\"].indexOf(str) >= 0)\\n                     return;\\n                stringified(str);\\n            });\\n            ko.applyBindingsToNode(\\n                element,\\n                {\\n                    value: stringified,\\n                    valueUpdate: allBindings.get('valueUpdate'),\\n                },\\n                context,\\n            );\\n        }\\n    };\\n    var json_data = {\\\"formatted_vals\\\":[\\\"0.001\\\",\\\"11.2508\\\",\\\"22.5005\\\",\\\"33.7503\\\",\\\"45.0\\\"],\\\"changes\\\":WebIO.getval({\\\"name\\\":\\\"changes\\\",\\\"scope\\\":\\\"4780831095995482268\\\",\\\"id\\\":\\\"15495385061736108166\\\",\\\"type\\\":\\\"observable\\\"}),\\\"index\\\":WebIO.getval({\\\"name\\\":\\\"index\\\",\\\"scope\\\":\\\"4780831095995482268\\\",\\\"id\\\":\\\"8633957705469094372\\\",\\\"type\\\":\\\"observable\\\"})};\\n    var self = this;\\n    function AppViewModel() {\\n        for (var key in json_data) {\\n            var el = json_data[key];\\n            this[key] = Array.isArray(el) ? ko.observableArray(el) : ko.observable(el);\\n        }\\n        \\n        [this[\\\"formatted_val\\\"]=ko.computed(    function(){\\n        return this.formatted_vals()[parseInt(this.index())-(1)];\\n    }\\n,this)]\\n        [this[\\\"changes\\\"].subscribe((function (val){!(this.valueFromJulia[\\\"changes\\\"]) ? (WebIO.setval({\\\"name\\\":\\\"changes\\\",\\\"scope\\\":\\\"4780831095995482268\\\",\\\"id\\\":\\\"15495385061736108166\\\",\\\"type\\\":\\\"observable\\\"},val)) : undefined; return this.valueFromJulia[\\\"changes\\\"]=false}),self),this[\\\"index\\\"].subscribe((function (val){!(this.valueFromJulia[\\\"index\\\"]) ? (WebIO.setval({\\\"name\\\":\\\"index\\\",\\\"scope\\\":\\\"4780831095995482268\\\",\\\"id\\\":\\\"8633957705469094372\\\",\\\"type\\\":\\\"observable\\\"},val)) : undefined; return this.valueFromJulia[\\\"index\\\"]=false}),self)]\\n        \\n    }\\n    self.model = new AppViewModel();\\n    self.valueFromJulia = {};\\n    for (var key in json_data) {\\n        self.valueFromJulia[key] = false;\\n    }\\n    ko.applyBindings(self.model, self.dom);\\n}\\n);\\n    (WebIO.importBlock({\\\"data\\\":[{\\\"name\\\":\\\"knockout\\\",\\\"type\\\":\\\"js\\\",\\\"url\\\":\\\"/assetserver/4b78a831658f9469be0fa90a874237d533cfc56e-knockout.js\\\"},{\\\"name\\\":\\\"knockout_punches\\\",\\\"type\\\":\\\"js\\\",\\\"url\\\":\\\"/assetserver/32cf81589ef7eb25886db6e5be297d237f8599ce-knockout_punches.js\\\"}],\\\"type\\\":\\\"async_block\\\"})).then((imports) => handler.apply(this, imports));\\n}\\n\")])], Dict{Symbol, Any}(:className => \"field interact-widget\")))\n",
       "  (div { style=Dict(\"display\" => \"flex\", \"flex-direction\" => \"row\") }\n",
       "    Node{WebIO.DOM}(WebIO.DOM(:html, :div), Any[Scope(Node{WebIO.DOM}(WebIO.DOM(:html, :div), Any[Node{WebIO.DOM}(WebIO.DOM(:html, :div), Any[Node{WebIO.DOM}(WebIO.DOM(:html, :label), Any[\"mixture size\"], Dict{Symbol, Any}(:className => \"interact \", :style => Dict{Any, Any}(:padding => \"5px 10px 0px 10px\")))], Dict{Symbol, Any}(:className => \"interact-flex-row-left\")), Node{WebIO.DOM}(WebIO.DOM(:html, :div), Any[Node{WebIO.DOM}(WebIO.DOM(:html, :input), Any[], Dict{Symbol, Any}(:max => 10, :min => 1, :attributes => Dict{Any, Any}(:type => \"range\", Symbol(\"data-bind\") => \"numericValue: index, valueUpdate: 'input', event: {change: function (){this.changes(this.changes()+1)}}\", \"orient\" => \"horizontal\"), :step => 1, :className => \"slider slider is-fullwidth\", :style => Dict{Any, Any}()))], Dict{Symbol, Any}(:className => \"interact-flex-row-center\")), Node{WebIO.DOM}(WebIO.DOM(:html, :div), Any[Node{WebIO.DOM}(WebIO.DOM(:html, :p), Any[], Dict{Symbol, Any}(:attributes => Dict(\"data-bind\" => \"text: formatted_val\")))], Dict{Symbol, Any}(:className => \"interact-flex-row-right\"))], Dict{Symbol, Any}(:className => \"interact-flex-row interact-widget\")), Dict{String, Tuple{AbstractObservable, Union{Nothing, Bool}}}(\"changes\" => (Observable(0), nothing), \"index\" => (Observable{Any}(5), nothing)), Set{String}(), nothing, Asset[Asset(\"js\", \"knockout\", \"/home/ubuntu/.julia/packages/Knockout/HReiN/src/../assets/knockout.js\"), Asset(\"js\", \"knockout_punches\", \"/home/ubuntu/.julia/packages/Knockout/HReiN/src/../assets/knockout_punches.js\"), Asset(\"js\", nothing, \"/home/ubuntu/.julia/packages/InteractBase/Qhvxg/src/../assets/all.js\"), Asset(\"css\", nothing, \"/home/ubuntu/.julia/packages/InteractBase/Qhvxg/src/../assets/style.css\"), Asset(\"css\", nothing, \"/home/ubuntu/.julia/packages/Interact/PENUy/src/../assets/bulma_confined.min.css\")], Dict{Any, Any}(\"changes\" => Any[WebIO.JSString(\"(function (val){return (val!=this.model[\\\"changes\\\"]()) ? (this.valueFromJulia[\\\"changes\\\"]=true, this.model[\\\"changes\\\"](val)) : undefined})\")], \"index\" => Any[WebIO.JSString(\"(function (val){return (val!=this.model[\\\"index\\\"]()) ? (this.valueFromJulia[\\\"index\\\"]=true, this.model[\\\"index\\\"](val)) : undefined})\")]), WebIO.ConnectionPool(Channel{Any}(32), Set{AbstractConnection}(), Condition(Base.InvasiveLinkedList{Task}(Task (runnable) @0x00007f6ac72b02f0, Task (runnable) @0x00007f6ac72b02f0), Base.AlwaysLockedST(1))), WebIO.JSString[WebIO.JSString(\"function () {\\n    var handler = (function (ko, koPunches) {\\n    ko.punches.enableAll();\\n    ko.bindingHandlers.numericValue = {\\n        init: function(element, valueAccessor, allBindings, data, context) {\\n            var stringified = ko.observable(ko.unwrap(valueAccessor()));\\n            stringified.subscribe(function(value) {\\n                var val = parseFloat(value);\\n                if (!isNaN(val)) {\\n                    valueAccessor()(val);\\n                }\\n            });\\n            valueAccessor().subscribe(function(value) {\\n                var str = JSON.stringify(value);\\n                if ((str == \\\"0\\\") && ([\\\"-0\\\", \\\"-0.\\\"].indexOf(stringified()) >= 0))\\n                     return;\\n                 if ([\\\"null\\\", \\\"\\\"].indexOf(str) >= 0)\\n                     return;\\n                stringified(str);\\n            });\\n            ko.applyBindingsToNode(\\n                element,\\n                {\\n                    value: stringified,\\n                    valueUpdate: allBindings.get('valueUpdate'),\\n                },\\n                context,\\n            );\\n        }\\n    };\\n    var json_data = {\\\"formatted_vals\\\":[\\\"1\\\",\\\"6\\\",\\\"11\\\",\\\"16\\\",\\\"21\\\",\\\"26\\\",\\\"31\\\",\\\"36\\\",\\\"41\\\",\\\"46\\\"],\\\"changes\\\":WebIO.getval({\\\"name\\\":\\\"changes\\\",\\\"scope\\\":\\\"12657551348851759111\\\",\\\"id\\\":\\\"14848553284327389596\\\",\\\"type\\\":\\\"observable\\\"}),\\\"index\\\":WebIO.getval({\\\"name\\\":\\\"index\\\",\\\"scope\\\":\\\"12657551348851759111\\\",\\\"id\\\":\\\"11982846947997185171\\\",\\\"type\\\":\\\"observable\\\"})};\\n    var self = this;\\n    function AppViewModel() {\\n        for (var key in json_data) {\\n            var el = json_data[key];\\n            this[key] = Array.isArray(el) ? ko.observableArray(el) : ko.observable(el);\\n        }\\n        \\n        [this[\\\"formatted_val\\\"]=ko.computed(    function(){\\n        return this.formatted_vals()[parseInt(this.index())-(1)];\\n    }\\n,this)]\\n        [this[\\\"changes\\\"].subscribe((function (val){!(this.valueFromJulia[\\\"changes\\\"]) ? (WebIO.setval({\\\"name\\\":\\\"changes\\\",\\\"scope\\\":\\\"12657551348851759111\\\",\\\"id\\\":\\\"14848553284327389596\\\",\\\"type\\\":\\\"observable\\\"},val)) : undefined; return this.valueFromJulia[\\\"changes\\\"]=false}),self),this[\\\"index\\\"].subscribe((function (val){!(this.valueFromJulia[\\\"index\\\"]) ? (WebIO.setval({\\\"name\\\":\\\"index\\\",\\\"scope\\\":\\\"12657551348851759111\\\",\\\"id\\\":\\\"11982846947997185171\\\",\\\"type\\\":\\\"observable\\\"},val)) : undefined; return this.valueFromJulia[\\\"index\\\"]=false}),self)]\\n        \\n    }\\n    self.model = new AppViewModel();\\n    self.valueFromJulia = {};\\n    for (var key in json_data) {\\n        self.valueFromJulia[key] = false;\\n    }\\n    ko.applyBindings(self.model, self.dom);\\n}\\n);\\n    (WebIO.importBlock({\\\"data\\\":[{\\\"name\\\":\\\"knockout\\\",\\\"type\\\":\\\"js\\\",\\\"url\\\":\\\"/assetserver/4b78a831658f9469be0fa90a874237d533cfc56e-knockout.js\\\"},{\\\"name\\\":\\\"knockout_punches\\\",\\\"type\\\":\\\"js\\\",\\\"url\\\":\\\"/assetserver/32cf81589ef7eb25886db6e5be297d237f8599ce-knockout_punches.js\\\"}],\\\"type\\\":\\\"async_block\\\"})).then((imports) => handler.apply(this, imports));\\n}\\n\")])], Dict{Symbol, Any}(:className => \"field interact-widget\"))\n",
       "    Node{WebIO.DOM}(WebIO.DOM(:html, :div), Any[Scope(Node{WebIO.DOM}(WebIO.DOM(:html, :div), Any[Node{WebIO.DOM}(WebIO.DOM(:html, :div), Any[Node{WebIO.DOM}(WebIO.DOM(:html, :label), Any[\"s_noise\"], Dict{Symbol, Any}(:className => \"interact \", :style => Dict{Any, Any}(:padding => \"5px 10px 0px 10px\")))], Dict{Symbol, Any}(:className => \"interact-flex-row-left\")), Node{WebIO.DOM}(WebIO.DOM(:html, :div), Any[Node{WebIO.DOM}(WebIO.DOM(:html, :input), Any[], Dict{Symbol, Any}(:max => 10, :min => 1, :attributes => Dict{Any, Any}(:type => \"range\", Symbol(\"data-bind\") => \"numericValue: index, valueUpdate: 'input', event: {change: function (){this.changes(this.changes()+1)}}\", \"orient\" => \"horizontal\"), :step => 1, :className => \"slider slider is-fullwidth\", :style => Dict{Any, Any}()))], Dict{Symbol, Any}(:className => \"interact-flex-row-center\")), Node{WebIO.DOM}(WebIO.DOM(:html, :div), Any[Node{WebIO.DOM}(WebIO.DOM(:html, :p), Any[], Dict{Symbol, Any}(:attributes => Dict(\"data-bind\" => \"text: formatted_val\")))], Dict{Symbol, Any}(:className => \"interact-flex-row-right\"))], Dict{Symbol, Any}(:className => \"interact-flex-row interact-widget\")), Dict{String, Tuple{AbstractObservable, Union{Nothing, Bool}}}(\"changes\" => (Observable(0), nothing), \"index\" => (Observable{Any}(5), nothing)), Set{String}(), nothing, Asset[Asset(\"js\", \"knockout\", \"/home/ubuntu/.julia/packages/Knockout/HReiN/src/../assets/knockout.js\"), Asset(\"js\", \"knockout_punches\", \"/home/ubuntu/.julia/packages/Knockout/HReiN/src/../assets/knockout_punches.js\"), Asset(\"js\", nothing, \"/home/ubuntu/.julia/packages/InteractBase/Qhvxg/src/../assets/all.js\"), Asset(\"css\", nothing, \"/home/ubuntu/.julia/packages/InteractBase/Qhvxg/src/../assets/style.css\"), Asset(\"css\", nothing, \"/home/ubuntu/.julia/packages/Interact/PENUy/src/../assets/bulma_confined.min.css\")], Dict{Any, Any}(\"changes\" => Any[WebIO.JSString(\"(function (val){return (val!=this.model[\\\"changes\\\"]()) ? (this.valueFromJulia[\\\"changes\\\"]=true, this.model[\\\"changes\\\"](val)) : undefined})\")], \"index\" => Any[WebIO.JSString(\"(function (val){return (val!=this.model[\\\"index\\\"]()) ? (this.valueFromJulia[\\\"index\\\"]=true, this.model[\\\"index\\\"](val)) : undefined})\")]), WebIO.ConnectionPool(Channel{Any}(32), Set{AbstractConnection}(), Condition(Base.InvasiveLinkedList{Task}(Task (runnable) @0x00007f6ac72b2400, Task (runnable) @0x00007f6ac72b2400), Base.AlwaysLockedST(1))), WebIO.JSString[WebIO.JSString(\"function () {\\n    var handler = (function (ko, koPunches) {\\n    ko.punches.enableAll();\\n    ko.bindingHandlers.numericValue = {\\n        init: function(element, valueAccessor, allBindings, data, context) {\\n            var stringified = ko.observable(ko.unwrap(valueAccessor()));\\n            stringified.subscribe(function(value) {\\n                var val = parseFloat(value);\\n                if (!isNaN(val)) {\\n                    valueAccessor()(val);\\n                }\\n            });\\n            valueAccessor().subscribe(function(value) {\\n                var str = JSON.stringify(value);\\n                if ((str == \\\"0\\\") && ([\\\"-0\\\", \\\"-0.\\\"].indexOf(stringified()) >= 0))\\n                     return;\\n                 if ([\\\"null\\\", \\\"\\\"].indexOf(str) >= 0)\\n                     return;\\n                stringified(str);\\n            });\\n            ko.applyBindingsToNode(\\n                element,\\n                {\\n                    value: stringified,\\n                    valueUpdate: allBindings.get('valueUpdate'),\\n                },\\n                context,\\n            );\\n        }\\n    };\\n    var json_data = {\\\"formatted_vals\\\":[\\\"0.01\\\",\\\"0.12\\\",\\\"0.23\\\",\\\"0.34\\\",\\\"0.45\\\",\\\"0.56\\\",\\\"0.67\\\",\\\"0.78\\\",\\\"0.89\\\",\\\"1.0\\\"],\\\"changes\\\":WebIO.getval({\\\"name\\\":\\\"changes\\\",\\\"scope\\\":\\\"15859403562751656846\\\",\\\"id\\\":\\\"17413442297242899299\\\",\\\"type\\\":\\\"observable\\\"}),\\\"index\\\":WebIO.getval({\\\"name\\\":\\\"index\\\",\\\"scope\\\":\\\"15859403562751656846\\\",\\\"id\\\":\\\"9903425566310853510\\\",\\\"type\\\":\\\"observable\\\"})};\\n    var self = this;\\n    function AppViewModel() {\\n        for (var key in json_data) {\\n            var el = json_data[key];\\n            this[key] = Array.isArray(el) ? ko.observableArray(el) : ko.observable(el);\\n        }\\n        \\n        [this[\\\"formatted_val\\\"]=ko.computed(    function(){\\n        return this.formatted_vals()[parseInt(this.index())-(1)];\\n    }\\n,this)]\\n        [this[\\\"changes\\\"].subscribe((function (val){!(this.valueFromJulia[\\\"changes\\\"]) ? (WebIO.setval({\\\"name\\\":\\\"changes\\\",\\\"scope\\\":\\\"15859403562751656846\\\",\\\"id\\\":\\\"17413442297242899299\\\",\\\"type\\\":\\\"observable\\\"},val)) : undefined; return this.valueFromJulia[\\\"changes\\\"]=false}),self),this[\\\"index\\\"].subscribe((function (val){!(this.valueFromJulia[\\\"index\\\"]) ? (WebIO.setval({\\\"name\\\":\\\"index\\\",\\\"scope\\\":\\\"15859403562751656846\\\",\\\"id\\\":\\\"9903425566310853510\\\",\\\"type\\\":\\\"observable\\\"},val)) : undefined; return this.valueFromJulia[\\\"index\\\"]=false}),self)]\\n        \\n    }\\n    self.model = new AppViewModel();\\n    self.valueFromJulia = {};\\n    for (var key in json_data) {\\n        self.valueFromJulia[key] = false;\\n    }\\n    ko.applyBindings(self.model, self.dom);\\n}\\n);\\n    (WebIO.importBlock({\\\"data\\\":[{\\\"name\\\":\\\"knockout\\\",\\\"type\\\":\\\"js\\\",\\\"url\\\":\\\"/assetserver/4b78a831658f9469be0fa90a874237d533cfc56e-knockout.js\\\"},{\\\"name\\\":\\\"knockout_punches\\\",\\\"type\\\":\\\"js\\\",\\\"url\\\":\\\"/assetserver/32cf81589ef7eb25886db6e5be297d237f8599ce-knockout_punches.js\\\"}],\\\"type\\\":\\\"async_block\\\"})).then((imports) => handler.apply(this, imports));\\n}\\n\")])], Dict{Symbol, Any}(:className => \"field interact-widget\")))\n",
       "  (div { style=Dict(\"display\" => \"flex\", \"flex-direction\" => \"row\") }\n",
       "    Node{WebIO.DOM}(WebIO.DOM(:html, :div), Any[Scope(Node{WebIO.DOM}(WebIO.DOM(:html, :div), Any[Node{WebIO.DOM}(WebIO.DOM(:html, :div), Any[Node{WebIO.DOM}(WebIO.DOM(:html, :label), Any[\"grid iters\"], Dict{Symbol, Any}(:className => \"interact \", :style => Dict{Any, Any}(:padding => \"5px 10px 0px 10px\")))], Dict{Symbol, Any}(:className => \"interact-flex-row-left\")), Node{WebIO.DOM}(WebIO.DOM(:html, :div), Any[Node{WebIO.DOM}(WebIO.DOM(:html, :input), Any[], Dict{Symbol, Any}(:max => 10, :min => 1, :attributes => Dict{Any, Any}(:type => \"range\", Symbol(\"data-bind\") => \"numericValue: index, valueUpdate: 'input', event: {change: function (){this.changes(this.changes()+1)}}\", \"orient\" => \"horizontal\"), :step => 1, :className => \"slider slider is-fullwidth\", :style => Dict{Any, Any}()))], Dict{Symbol, Any}(:className => \"interact-flex-row-center\")), Node{WebIO.DOM}(WebIO.DOM(:html, :div), Any[Node{WebIO.DOM}(WebIO.DOM(:html, :p), Any[], Dict{Symbol, Any}(:attributes => Dict(\"data-bind\" => \"text: formatted_val\")))], Dict{Symbol, Any}(:className => \"interact-flex-row-right\"))], Dict{Symbol, Any}(:className => \"interact-flex-row interact-widget\")), Dict{String, Tuple{AbstractObservable, Union{Nothing, Bool}}}(\"changes\" => (Observable(0), nothing), \"index\" => (Observable(5), nothing)), Set{String}(), nothing, Asset[Asset(\"js\", \"knockout\", \"/home/ubuntu/.julia/packages/Knockout/HReiN/src/../assets/knockout.js\"), Asset(\"js\", \"knockout_punches\", \"/home/ubuntu/.julia/packages/Knockout/HReiN/src/../assets/knockout_punches.js\"), Asset(\"js\", nothing, \"/home/ubuntu/.julia/packages/InteractBase/Qhvxg/src/../assets/all.js\"), Asset(\"css\", nothing, \"/home/ubuntu/.julia/packages/InteractBase/Qhvxg/src/../assets/style.css\"), Asset(\"css\", nothing, \"/home/ubuntu/.julia/packages/Interact/PENUy/src/../assets/bulma_confined.min.css\")], Dict{Any, Any}(\"changes\" => Any[WebIO.JSString(\"(function (val){return (val!=this.model[\\\"changes\\\"]()) ? (this.valueFromJulia[\\\"changes\\\"]=true, this.model[\\\"changes\\\"](val)) : undefined})\")], \"index\" => Any[WebIO.JSString(\"(function (val){return (val!=this.model[\\\"index\\\"]()) ? (this.valueFromJulia[\\\"index\\\"]=true, this.model[\\\"index\\\"](val)) : undefined})\")]), WebIO.ConnectionPool(Channel{Any}(32), Set{AbstractConnection}(), Condition(Base.InvasiveLinkedList{Task}(Task (runnable) @0x00007f6ac72b2850, Task (runnable) @0x00007f6ac72b2850), Base.AlwaysLockedST(1))), WebIO.JSString[WebIO.JSString(\"function () {\\n    var handler = (function (ko, koPunches) {\\n    ko.punches.enableAll();\\n    ko.bindingHandlers.numericValue = {\\n        init: function(element, valueAccessor, allBindings, data, context) {\\n            var stringified = ko.observable(ko.unwrap(valueAccessor()));\\n            stringified.subscribe(function(value) {\\n                var val = parseFloat(value);\\n                if (!isNaN(val)) {\\n                    valueAccessor()(val);\\n                }\\n            });\\n            valueAccessor().subscribe(function(value) {\\n                var str = JSON.stringify(value);\\n                if ((str == \\\"0\\\") && ([\\\"-0\\\", \\\"-0.\\\"].indexOf(stringified()) >= 0))\\n                     return;\\n                 if ([\\\"null\\\", \\\"\\\"].indexOf(str) >= 0)\\n                     return;\\n                stringified(str);\\n            });\\n            ko.applyBindingsToNode(\\n                element,\\n                {\\n                    value: stringified,\\n                    valueUpdate: allBindings.get('valueUpdate'),\\n                },\\n                context,\\n            );\\n        }\\n    };\\n    var json_data = {\\\"formatted_vals\\\":[\\\"1\\\",\\\"2\\\",\\\"3\\\",\\\"4\\\",\\\"5\\\",\\\"6\\\",\\\"7\\\",\\\"8\\\",\\\"9\\\",\\\"10\\\"],\\\"changes\\\":WebIO.getval({\\\"name\\\":\\\"changes\\\",\\\"scope\\\":\\\"752390581389558021\\\",\\\"id\\\":\\\"11894853266460105516\\\",\\\"type\\\":\\\"observable\\\"}),\\\"index\\\":WebIO.getval({\\\"name\\\":\\\"index\\\",\\\"scope\\\":\\\"752390581389558021\\\",\\\"id\\\":\\\"14038167865866125115\\\",\\\"type\\\":\\\"observable\\\"})};\\n    var self = this;\\n    function AppViewModel() {\\n        for (var key in json_data) {\\n            var el = json_data[key];\\n            this[key] = Array.isArray(el) ? ko.observableArray(el) : ko.observable(el);\\n        }\\n        \\n        [this[\\\"formatted_val\\\"]=ko.computed(    function(){\\n        return this.formatted_vals()[parseInt(this.index())-(1)];\\n    }\\n,this)]\\n        [this[\\\"changes\\\"].subscribe((function (val){!(this.valueFromJulia[\\\"changes\\\"]) ? (WebIO.setval({\\\"name\\\":\\\"changes\\\",\\\"scope\\\":\\\"752390581389558021\\\",\\\"id\\\":\\\"11894853266460105516\\\",\\\"type\\\":\\\"observable\\\"},val)) : undefined; return this.valueFromJulia[\\\"changes\\\"]=false}),self),this[\\\"index\\\"].subscribe((function (val){!(this.valueFromJulia[\\\"index\\\"]) ? (WebIO.setval({\\\"name\\\":\\\"index\\\",\\\"scope\\\":\\\"752390581389558021\\\",\\\"id\\\":\\\"14038167865866125115\\\",\\\"type\\\":\\\"observable\\\"},val)) : undefined; return this.valueFromJulia[\\\"index\\\"]=false}),self)]\\n        \\n    }\\n    self.model = new AppViewModel();\\n    self.valueFromJulia = {};\\n    for (var key in json_data) {\\n        self.valueFromJulia[key] = false;\\n    }\\n    ko.applyBindings(self.model, self.dom);\\n}\\n);\\n    (WebIO.importBlock({\\\"data\\\":[{\\\"name\\\":\\\"knockout\\\",\\\"type\\\":\\\"js\\\",\\\"url\\\":\\\"/assetserver/4b78a831658f9469be0fa90a874237d533cfc56e-knockout.js\\\"},{\\\"name\\\":\\\"knockout_punches\\\",\\\"type\\\":\\\"js\\\",\\\"url\\\":\\\"/assetserver/32cf81589ef7eb25886db6e5be297d237f8599ce-knockout_punches.js\\\"}],\\\"type\\\":\\\"async_block\\\"})).then((imports) => handler.apply(this, imports));\\n}\\n\")])], Dict{Symbol, Any}(:className => \"field interact-widget\"))\n",
       "    Node{WebIO.DOM}(WebIO.DOM(:html, :div), Any[Scope(Node{WebIO.DOM}(WebIO.DOM(:html, :div), Any[Node{WebIO.DOM}(WebIO.DOM(:html, :div), Any[Node{WebIO.DOM}(WebIO.DOM(:html, :label), Any[\"grid shape\"], Dict{Symbol, Any}(:className => \"interact \", :style => Dict{Any, Any}(:padding => \"5px 10px 0px 10px\")))], Dict{Symbol, Any}(:className => \"interact-flex-row-left\")), Node{WebIO.DOM}(WebIO.DOM(:html, :div), Any[Node{WebIO.DOM}(WebIO.DOM(:html, :input), Any[], Dict{Symbol, Any}(:max => 10, :min => 2, :attributes => Dict{Any, Any}(:type => \"range\", Symbol(\"data-bind\") => \"numericValue: index, valueUpdate: 'input', event: {change: function (){this.changes(this.changes()+1)}}\", \"orient\" => \"horizontal\"), :step => 1, :className => \"slider slider is-fullwidth\", :style => Dict{Any, Any}()))], Dict{Symbol, Any}(:className => \"interact-flex-row-center\")), Node{WebIO.DOM}(WebIO.DOM(:html, :div), Any[Node{WebIO.DOM}(WebIO.DOM(:html, :p), Any[], Dict{Symbol, Any}(:attributes => Dict(\"data-bind\" => \"text: formatted_val\")))], Dict{Symbol, Any}(:className => \"interact-flex-row-right\"))], Dict{Symbol, Any}(:className => \"interact-flex-row interact-widget\")), Dict{String, Tuple{AbstractObservable, Union{Nothing, Bool}}}(\"changes\" => (Observable(0), nothing), \"index\" => (Observable(6), nothing)), Set{String}(), nothing, Asset[Asset(\"js\", \"knockout\", \"/home/ubuntu/.julia/packages/Knockout/HReiN/src/../assets/knockout.js\"), Asset(\"js\", \"knockout_punches\", \"/home/ubuntu/.julia/packages/Knockout/HReiN/src/../assets/knockout_punches.js\"), Asset(\"js\", nothing, \"/home/ubuntu/.julia/packages/InteractBase/Qhvxg/src/../assets/all.js\"), Asset(\"css\", nothing, \"/home/ubuntu/.julia/packages/InteractBase/Qhvxg/src/../assets/style.css\"), Asset(\"css\", nothing, \"/home/ubuntu/.julia/packages/Interact/PENUy/src/../assets/bulma_confined.min.css\")], Dict{Any, Any}(\"changes\" => Any[WebIO.JSString(\"(function (val){return (val!=this.model[\\\"changes\\\"]()) ? (this.valueFromJulia[\\\"changes\\\"]=true, this.model[\\\"changes\\\"](val)) : undefined})\")], \"index\" => Any[WebIO.JSString(\"(function (val){return (val!=this.model[\\\"index\\\"]()) ? (this.valueFromJulia[\\\"index\\\"]=true, this.model[\\\"index\\\"](val)) : undefined})\")]), WebIO.ConnectionPool(Channel{Any}(32), Set{AbstractConnection}(), Condition(Base.InvasiveLinkedList{Task}(Task (runnable) @0x00007f6ac72b30f0, Task (runnable) @0x00007f6ac72b30f0), Base.AlwaysLockedST(1))), WebIO.JSString[WebIO.JSString(\"function () {\\n    var handler = (function (ko, koPunches) {\\n    ko.punches.enableAll();\\n    ko.bindingHandlers.numericValue = {\\n        init: function(element, valueAccessor, allBindings, data, context) {\\n            var stringified = ko.observable(ko.unwrap(valueAccessor()));\\n            stringified.subscribe(function(value) {\\n                var val = parseFloat(value);\\n                if (!isNaN(val)) {\\n                    valueAccessor()(val);\\n                }\\n            });\\n            valueAccessor().subscribe(function(value) {\\n                var str = JSON.stringify(value);\\n                if ((str == \\\"0\\\") && ([\\\"-0\\\", \\\"-0.\\\"].indexOf(stringified()) >= 0))\\n                     return;\\n                 if ([\\\"null\\\", \\\"\\\"].indexOf(str) >= 0)\\n                     return;\\n                stringified(str);\\n            });\\n            ko.applyBindingsToNode(\\n                element,\\n                {\\n                    value: stringified,\\n                    valueUpdate: allBindings.get('valueUpdate'),\\n                },\\n                context,\\n            );\\n        }\\n    };\\n    var json_data = {\\\"formatted_vals\\\":[\\\"2\\\",\\\"3\\\",\\\"4\\\",\\\"5\\\",\\\"6\\\",\\\"7\\\",\\\"8\\\",\\\"9\\\",\\\"10\\\"],\\\"changes\\\":WebIO.getval({\\\"name\\\":\\\"changes\\\",\\\"scope\\\":\\\"13053949046312555393\\\",\\\"id\\\":\\\"1715039377240127802\\\",\\\"type\\\":\\\"observable\\\"}),\\\"index\\\":WebIO.getval({\\\"name\\\":\\\"index\\\",\\\"scope\\\":\\\"13053949046312555393\\\",\\\"id\\\":\\\"11184462984573913715\\\",\\\"type\\\":\\\"observable\\\"})};\\n    var self = this;\\n    function AppViewModel() {\\n        for (var key in json_data) {\\n            var el = json_data[key];\\n            this[key] = Array.isArray(el) ? ko.observableArray(el) : ko.observable(el);\\n        }\\n        \\n        [this[\\\"formatted_val\\\"]=ko.computed(    function(){\\n        return this.formatted_vals()[parseInt(this.index())-(2)];\\n    }\\n,this)]\\n        [this[\\\"changes\\\"].subscribe((function (val){!(this.valueFromJulia[\\\"changes\\\"]) ? (WebIO.setval({\\\"name\\\":\\\"changes\\\",\\\"scope\\\":\\\"13053949046312555393\\\",\\\"id\\\":\\\"1715039377240127802\\\",\\\"type\\\":\\\"observable\\\"},val)) : undefined; return this.valueFromJulia[\\\"changes\\\"]=false}),self),this[\\\"index\\\"].subscribe((function (val){!(this.valueFromJulia[\\\"index\\\"]) ? (WebIO.setval({\\\"name\\\":\\\"index\\\",\\\"scope\\\":\\\"13053949046312555393\\\",\\\"id\\\":\\\"11184462984573913715\\\",\\\"type\\\":\\\"observable\\\"},val)) : undefined; return this.valueFromJulia[\\\"index\\\"]=false}),self)]\\n        \\n    }\\n    self.model = new AppViewModel();\\n    self.valueFromJulia = {};\\n    for (var key in json_data) {\\n        self.valueFromJulia[key] = false;\\n    }\\n    ko.applyBindings(self.model, self.dom);\\n}\\n);\\n    (WebIO.importBlock({\\\"data\\\":[{\\\"name\\\":\\\"knockout\\\",\\\"type\\\":\\\"js\\\",\\\"url\\\":\\\"/assetserver/4b78a831658f9469be0fa90a874237d533cfc56e-knockout.js\\\"},{\\\"name\\\":\\\"knockout_punches\\\",\\\"type\\\":\\\"js\\\",\\\"url\\\":\\\"/assetserver/32cf81589ef7eb25886db6e5be297d237f8599ce-knockout_punches.js\\\"}],\\\"type\\\":\\\"async_block\\\"})).then((imports) => handler.apply(this, imports));\\n}\\n\")])], Dict{Symbol, Any}(:className => \"field interact-widget\")))\n",
       "  (div { style=Dict(\"display\" => \"flex\", \"flex-direction\" => \"row\") }\n",
       "    Node{WebIO.DOM}(WebIO.DOM(:html, :div), Any[Scope(Node{WebIO.DOM}(WebIO.DOM(:html, :div), Any[Node{WebIO.DOM}(WebIO.DOM(:html, :div), Any[Node{WebIO.DOM}(WebIO.DOM(:html, :label), Any[\"grid mixture size\"], Dict{Symbol, Any}(:className => \"interact \", :style => Dict{Any, Any}(:padding => \"5px 10px 0px 10px\")))], Dict{Symbol, Any}(:className => \"interact-flex-row-left\")), Node{WebIO.DOM}(WebIO.DOM(:html, :div), Any[Node{WebIO.DOM}(WebIO.DOM(:html, :input), Any[], Dict{Symbol, Any}(:max => 10, :min => 1, :attributes => Dict{Any, Any}(:type => \"range\", Symbol(\"data-bind\") => \"numericValue: index, valueUpdate: 'input', event: {change: function (){this.changes(this.changes()+1)}}\", \"orient\" => \"horizontal\"), :step => 1, :className => \"slider slider is-fullwidth\", :style => Dict{Any, Any}()))], Dict{Symbol, Any}(:className => \"interact-flex-row-center\")), Node{WebIO.DOM}(WebIO.DOM(:html, :div), Any[Node{WebIO.DOM}(WebIO.DOM(:html, :p), Any[], Dict{Symbol, Any}(:attributes => Dict(\"data-bind\" => \"text: formatted_val\")))], Dict{Symbol, Any}(:className => \"interact-flex-row-right\"))], Dict{Symbol, Any}(:className => \"interact-flex-row interact-widget\")), Dict{String, Tuple{AbstractObservable, Union{Nothing, Bool}}}(\"changes\" => (Observable(0), nothing), \"index\" => (Observable{Any}(5), nothing)), Set{String}(), nothing, Asset[Asset(\"js\", \"knockout\", \"/home/ubuntu/.julia/packages/Knockout/HReiN/src/../assets/knockout.js\"), Asset(\"js\", \"knockout_punches\", \"/home/ubuntu/.julia/packages/Knockout/HReiN/src/../assets/knockout_punches.js\"), Asset(\"js\", nothing, \"/home/ubuntu/.julia/packages/InteractBase/Qhvxg/src/../assets/all.js\"), Asset(\"css\", nothing, \"/home/ubuntu/.julia/packages/InteractBase/Qhvxg/src/../assets/style.css\"), Asset(\"css\", nothing, \"/home/ubuntu/.julia/packages/Interact/PENUy/src/../assets/bulma_confined.min.css\")], Dict{Any, Any}(\"changes\" => Any[WebIO.JSString(\"(function (val){return (val!=this.model[\\\"changes\\\"]()) ? (this.valueFromJulia[\\\"changes\\\"]=true, this.model[\\\"changes\\\"](val)) : undefined})\")], \"index\" => Any[WebIO.JSString(\"(function (val){return (val!=this.model[\\\"index\\\"]()) ? (this.valueFromJulia[\\\"index\\\"]=true, this.model[\\\"index\\\"](val)) : undefined})\")]), WebIO.ConnectionPool(Channel{Any}(32), Set{AbstractConnection}(), Condition(Base.InvasiveLinkedList{Task}(Task (runnable) @0x00007f6ac72b3820, Task (runnable) @0x00007f6ac72b3820), Base.AlwaysLockedST(1))), WebIO.JSString[WebIO.JSString(\"function () {\\n    var handler = (function (ko, koPunches) {\\n    ko.punches.enableAll();\\n    ko.bindingHandlers.numericValue = {\\n        init: function(element, valueAccessor, allBindings, data, context) {\\n            var stringified = ko.observable(ko.unwrap(valueAccessor()));\\n            stringified.subscribe(function(value) {\\n                var val = parseFloat(value);\\n                if (!isNaN(val)) {\\n                    valueAccessor()(val);\\n                }\\n            });\\n            valueAccessor().subscribe(function(value) {\\n                var str = JSON.stringify(value);\\n                if ((str == \\\"0\\\") && ([\\\"-0\\\", \\\"-0.\\\"].indexOf(stringified()) >= 0))\\n                     return;\\n                 if ([\\\"null\\\", \\\"\\\"].indexOf(str) >= 0)\\n                     return;\\n                stringified(str);\\n            });\\n            ko.applyBindingsToNode(\\n                element,\\n                {\\n                    value: stringified,\\n                    valueUpdate: allBindings.get('valueUpdate'),\\n                },\\n                context,\\n            );\\n        }\\n    };\\n    var json_data = {\\\"formatted_vals\\\":[\\\"1\\\",\\\"6\\\",\\\"11\\\",\\\"16\\\",\\\"21\\\",\\\"26\\\",\\\"31\\\",\\\"36\\\",\\\"41\\\",\\\"46\\\"],\\\"changes\\\":WebIO.getval({\\\"name\\\":\\\"changes\\\",\\\"scope\\\":\\\"7715312473084220659\\\",\\\"id\\\":\\\"2240581312514518512\\\",\\\"type\\\":\\\"observable\\\"}),\\\"index\\\":WebIO.getval({\\\"name\\\":\\\"index\\\",\\\"scope\\\":\\\"7715312473084220659\\\",\\\"id\\\":\\\"13378244841300840874\\\",\\\"type\\\":\\\"observable\\\"})};\\n    var self = this;\\n    function AppViewModel() {\\n        for (var key in json_data) {\\n            var el = json_data[key];\\n            this[key] = Array.isArray(el) ? ko.observableArray(el) : ko.observable(el);\\n        }\\n        \\n        [this[\\\"formatted_val\\\"]=ko.computed(    function(){\\n        return this.formatted_vals()[parseInt(this.index())-(1)];\\n    }\\n,this)]\\n        [this[\\\"changes\\\"].subscribe((function (val){!(this.valueFromJulia[\\\"changes\\\"]) ? (WebIO.setval({\\\"name\\\":\\\"changes\\\",\\\"scope\\\":\\\"7715312473084220659\\\",\\\"id\\\":\\\"2240581312514518512\\\",\\\"type\\\":\\\"observable\\\"},val)) : undefined; return this.valueFromJulia[\\\"changes\\\"]=false}),self),this[\\\"index\\\"].subscribe((function (val){!(this.valueFromJulia[\\\"index\\\"]) ? (WebIO.setval({\\\"name\\\":\\\"index\\\",\\\"scope\\\":\\\"7715312473084220659\\\",\\\"id\\\":\\\"13378244841300840874\\\",\\\"type\\\":\\\"observable\\\"},val)) : undefined; return this.valueFromJulia[\\\"index\\\"]=false}),self)]\\n        \\n    }\\n    self.model = new AppViewModel();\\n    self.valueFromJulia = {};\\n    for (var key in json_data) {\\n        self.valueFromJulia[key] = false;\\n    }\\n    ko.applyBindings(self.model, self.dom);\\n}\\n);\\n    (WebIO.importBlock({\\\"data\\\":[{\\\"name\\\":\\\"knockout\\\",\\\"type\\\":\\\"js\\\",\\\"url\\\":\\\"/assetserver/4b78a831658f9469be0fa90a874237d533cfc56e-knockout.js\\\"},{\\\"name\\\":\\\"knockout_punches\\\",\\\"type\\\":\\\"js\\\",\\\"url\\\":\\\"/assetserver/32cf81589ef7eb25886db6e5be297d237f8599ce-knockout_punches.js\\\"}],\\\"type\\\":\\\"async_block\\\"})).then((imports) => handler.apply(this, imports));\\n}\\n\")])], Dict{Symbol, Any}(:className => \"field interact-widget\"))\n",
       "    Node{WebIO.DOM}(WebIO.DOM(:html, :div), Any[Scope(Node{WebIO.DOM}(WebIO.DOM(:html, :div), Any[Node{WebIO.DOM}(WebIO.DOM(:html, :div), Any[Node{WebIO.DOM}(WebIO.DOM(:html, :label), Any[\"grid s_noise\"], Dict{Symbol, Any}(:className => \"interact \", :style => Dict{Any, Any}(:padding => \"5px 10px 0px 10px\")))], Dict{Symbol, Any}(:className => \"interact-flex-row-left\")), Node{WebIO.DOM}(WebIO.DOM(:html, :div), Any[Node{WebIO.DOM}(WebIO.DOM(:html, :input), Any[], Dict{Symbol, Any}(:max => 10, :min => 1, :attributes => Dict{Any, Any}(:type => \"range\", Symbol(\"data-bind\") => \"numericValue: index, valueUpdate: 'input', event: {change: function (){this.changes(this.changes()+1)}}\", \"orient\" => \"horizontal\"), :step => 1, :className => \"slider slider is-fullwidth\", :style => Dict{Any, Any}()))], Dict{Symbol, Any}(:className => \"interact-flex-row-center\")), Node{WebIO.DOM}(WebIO.DOM(:html, :div), Any[Node{WebIO.DOM}(WebIO.DOM(:html, :p), Any[], Dict{Symbol, Any}(:attributes => Dict(\"data-bind\" => \"text: formatted_val\")))], Dict{Symbol, Any}(:className => \"interact-flex-row-right\"))], Dict{Symbol, Any}(:className => \"interact-flex-row interact-widget\")), Dict{String, Tuple{AbstractObservable, Union{Nothing, Bool}}}(\"changes\" => (Observable(0), nothing), \"index\" => (Observable{Any}(5), nothing)), Set{String}(), nothing, Asset[Asset(\"js\", \"knockout\", \"/home/ubuntu/.julia/packages/Knockout/HReiN/src/../assets/knockout.js\"), Asset(\"js\", \"knockout_punches\", \"/home/ubuntu/.julia/packages/Knockout/HReiN/src/../assets/knockout_punches.js\"), Asset(\"js\", nothing, \"/home/ubuntu/.julia/packages/InteractBase/Qhvxg/src/../assets/all.js\"), Asset(\"css\", nothing, \"/home/ubuntu/.julia/packages/InteractBase/Qhvxg/src/../assets/style.css\"), Asset(\"css\", nothing, \"/home/ubuntu/.julia/packages/Interact/PENUy/src/../assets/bulma_confined.min.css\")], Dict{Any, Any}(\"changes\" => Any[WebIO.JSString(\"(function (val){return (val!=this.model[\\\"changes\\\"]()) ? (this.valueFromJulia[\\\"changes\\\"]=true, this.model[\\\"changes\\\"](val)) : undefined})\")], \"index\" => Any[WebIO.JSString(\"(function (val){return (val!=this.model[\\\"index\\\"]()) ? (this.valueFromJulia[\\\"index\\\"]=true, this.model[\\\"index\\\"](val)) : undefined})\")]), WebIO.ConnectionPool(Channel{Any}(32), Set{AbstractConnection}(), Condition(Base.InvasiveLinkedList{Task}(Task (runnable) @0x00007f6ac7579880, Task (runnable) @0x00007f6ac7579880), Base.AlwaysLockedST(1))), WebIO.JSString[WebIO.JSString(\"function () {\\n    var handler = (function (ko, koPunches) {\\n    ko.punches.enableAll();\\n    ko.bindingHandlers.numericValue = {\\n        init: function(element, valueAccessor, allBindings, data, context) {\\n            var stringified = ko.observable(ko.unwrap(valueAccessor()));\\n            stringified.subscribe(function(value) {\\n                var val = parseFloat(value);\\n                if (!isNaN(val)) {\\n                    valueAccessor()(val);\\n                }\\n            });\\n            valueAccessor().subscribe(function(value) {\\n                var str = JSON.stringify(value);\\n                if ((str == \\\"0\\\") && ([\\\"-0\\\", \\\"-0.\\\"].indexOf(stringified()) >= 0))\\n                     return;\\n                 if ([\\\"null\\\", \\\"\\\"].indexOf(str) >= 0)\\n                     return;\\n                stringified(str);\\n            });\\n            ko.applyBindingsToNode(\\n                element,\\n                {\\n                    value: stringified,\\n                    valueUpdate: allBindings.get('valueUpdate'),\\n                },\\n                context,\\n            );\\n        }\\n    };\\n    var json_data = {\\\"formatted_vals\\\":[\\\"0.01\\\",\\\"0.12\\\",\\\"0.23\\\",\\\"0.34\\\",\\\"0.45\\\",\\\"0.56\\\",\\\"0.67\\\",\\\"0.78\\\",\\\"0.89\\\",\\\"1.0\\\"],\\\"changes\\\":WebIO.getval({\\\"name\\\":\\\"changes\\\",\\\"scope\\\":\\\"15745002581873769610\\\",\\\"id\\\":\\\"9088768972522944176\\\",\\\"type\\\":\\\"observable\\\"}),\\\"index\\\":WebIO.getval({\\\"name\\\":\\\"index\\\",\\\"scope\\\":\\\"15745002581873769610\\\",\\\"id\\\":\\\"9660000643211677619\\\",\\\"type\\\":\\\"observable\\\"})};\\n    var self = this;\\n    function AppViewModel() {\\n        for (var key in json_data) {\\n            var el = json_data[key];\\n            this[key] = Array.isArray(el) ? ko.observableArray(el) : ko.observable(el);\\n        }\\n        \\n        [this[\\\"formatted_val\\\"]=ko.computed(    function(){\\n        return this.formatted_vals()[parseInt(this.index())-(1)];\\n    }\\n,this)]\\n        [this[\\\"changes\\\"].subscribe((function (val){!(this.valueFromJulia[\\\"changes\\\"]) ? (WebIO.setval({\\\"name\\\":\\\"changes\\\",\\\"scope\\\":\\\"15745002581873769610\\\",\\\"id\\\":\\\"9088768972522944176\\\",\\\"type\\\":\\\"observable\\\"},val)) : undefined; return this.valueFromJulia[\\\"changes\\\"]=false}),self),this[\\\"index\\\"].subscribe((function (val){!(this.valueFromJulia[\\\"index\\\"]) ? (WebIO.setval({\\\"name\\\":\\\"index\\\",\\\"scope\\\":\\\"15745002581873769610\\\",\\\"id\\\":\\\"9660000643211677619\\\",\\\"type\\\":\\\"observable\\\"},val)) : undefined; return this.valueFromJulia[\\\"index\\\"]=false}),self)]\\n        \\n    }\\n    self.model = new AppViewModel();\\n    self.valueFromJulia = {};\\n    for (var key in json_data) {\\n        self.valueFromJulia[key] = false;\\n    }\\n    ko.applyBindings(self.model, self.dom);\\n}\\n);\\n    (WebIO.importBlock({\\\"data\\\":[{\\\"name\\\":\\\"knockout\\\",\\\"type\\\":\\\"js\\\",\\\"url\\\":\\\"/assetserver/4b78a831658f9469be0fa90a874237d533cfc56e-knockout.js\\\"},{\\\"name\\\":\\\"knockout_punches\\\",\\\"type\\\":\\\"js\\\",\\\"url\\\":\\\"/assetserver/32cf81589ef7eb25886db6e5be297d237f8599ce-knockout_punches.js\\\"}],\\\"type\\\":\\\"async_block\\\"})).then((imports) => handler.apply(this, imports));\\n}\\n\")])], Dict{Symbol, Any}(:className => \"field interact-widget\")))\n",
       "  Observable(Plots.AnimatedGif(\"/home/ubuntu/workspace/probabilistic-slam-in-gen/notebooks/tmp.gif\")))"
      ]
     },
     "execution_count": 41,
     "metadata": {
      "application/vnd.webio.node+json": {
       "kernelId": "f02aa624-6e1c-4acf-b532-0f9cf74aad0f"
      }
     },
     "output_type": "execute_result"
    },
    {
     "name": "stdout",
     "output_type": "stream",
     "text": [
      "1"
     ]
    },
    {
     "name": "stderr",
     "output_type": "stream",
     "text": [
      "\u001b[36m\u001b[1m[ \u001b[22m\u001b[39m\u001b[36m\u001b[1mInfo: \u001b[22m\u001b[39mSaved animation to /home/ubuntu/workspace/probabilistic-slam-in-gen/notebooks/tmp.gif\n"
     ]
    },
    {
     "name": "stdout",
     "output_type": "stream",
     "text": [
      "1"
     ]
    },
    {
     "name": "stderr",
     "output_type": "stream",
     "text": [
      "\u001b[36m\u001b[1m[ \u001b[22m\u001b[39m\u001b[36m\u001b[1mInfo: \u001b[22m\u001b[39mSaved animation to /home/ubuntu/workspace/probabilistic-slam-in-gen/notebooks/tmp.gif\n"
     ]
    },
    {
     "name": "stdout",
     "output_type": "stream",
     "text": [
      "1"
     ]
    },
    {
     "name": "stderr",
     "output_type": "stream",
     "text": [
      "\u001b[36m\u001b[1m[ \u001b[22m\u001b[39m\u001b[36m\u001b[1mInfo: \u001b[22m\u001b[39mSaved animation to /home/ubuntu/workspace/probabilistic-slam-in-gen/notebooks/tmp.gif\n"
     ]
    },
    {
     "name": "stdout",
     "output_type": "stream",
     "text": [
      "1234567891011121314151617181920212223242526272829303132333435363738394041"
     ]
    },
    {
     "name": "stderr",
     "output_type": "stream",
     "text": [
      "\u001b[36m\u001b[1m[ \u001b[22m\u001b[39m\u001b[36m\u001b[1mInfo: \u001b[22m\u001b[39mSaved animation to /home/ubuntu/workspace/probabilistic-slam-in-gen/notebooks/tmp.gif\n"
     ]
    }
   ],
   "source": [
    "n = slider(1:20:60, value=1, label=\"# samples\")\n",
    "T = slider(5:20, value=5, label=\"T\")\n",
    "N = slider(1:50:250, value=1, label=\"# particles\")\n",
    "\n",
    "show_u = toggle(label = \"show u\", value=false)\n",
    "show_x = toggle(label = \"show obs\", value=false)\n",
    "show_samples = toggle(label = \"show samples\", value=true)\n",
    "posterior = togglebuttons([:naive, :pf, :smc])\n",
    "\n",
    "x_noise  = slider(range(0.001,0.5,5), label=\"n=x_noise\")\n",
    "hd_noise = slider(range(0.001,45.,5), label=\"hd_noise\")\n",
    "mix_w    = slider( 1:5:50, label=\"mixture size\")\n",
    "s_noise  = slider(range(0.01,1.0,10), label=\"s_noise\")\n",
    "\n",
    "grid_n = slider(1:10,label=\"grid iters\")\n",
    "grid_k = slider(2:10,label=\"grid shape\")\n",
    "grid_w = slider(1:5:50,label=\"grid mixture size\")\n",
    "grid_s_noise = slider(range(0.01,1.0,10),label=\"grid s_noise\")\n",
    "\n",
    "sample   = button(\"Sample and Re-draw\")\n",
    "sample_u = button(\"Sample Controls\")\n",
    "\n",
    "Interact.@map (&sample_u;  resample_us(x_noise[],hd_noise[]))\n",
    "plt = Interact.@map (&sample;  plot_it(\n",
    "        posterior[], show_u[], show_x[], show_samples[],\n",
    "        n[],T[],N[], \n",
    "        x_noise[], hd_noise[], \n",
    "        mix_w[], s_noise[], \n",
    "        grid_n[], grid_k[], grid_w[], grid_s_noise[]\n",
    "        )\n",
    ")\n",
    "\n",
    "vbox(\n",
    "    pad(0.1em, sample),\n",
    "    pad(0.1em, sample_u),\n",
    "    vbox(posterior),\n",
    "    vbox(show_u, show_x, show_samples),\n",
    "    hbox(n,T,N),\n",
    "    hbox(x_noise, hd_noise), hbox(mix_w, s_noise),\n",
    "    hbox(grid_n, grid_k), hbox(grid_w, grid_s_noise),\n",
    "    plt\n",
    ")"
   ]
  },
  {
   "cell_type": "markdown",
   "id": "98030c4e",
   "metadata": {},
   "source": [
    "## Demo 2"
   ]
  },
  {
   "cell_type": "code",
   "execution_count": null,
   "id": "64cb82d5",
   "metadata": {},
   "outputs": [],
   "source": [
    "function plot_it(\n",
    "        posterior, show_u, show_x, show_samples,\n",
    "        n,T,N, \n",
    "        x_noise, hd_noise, \n",
    "        mix_w, s_noise, \n",
    "        grid_n, grid_k, grid_w, grid_s_noise\n",
    "        )\n",
    "    \n",
    "    args = get_model_args(x_noise, hd_noise, mix_w, s_noise);\n",
    "    grid_args = get_grid_args(grid_n, grid_k, grid_w, grid_s_noise);\n",
    "    \n",
    "    trs = []\n",
    "    ws = []\n",
    "    for i=1:n\n",
    "        print(i)\n",
    "        if posterior == :naive\n",
    "            tr,w = naive_posterior(T, N, args)\n",
    "        elseif posterior == :pf\n",
    "            tr,w = particle_filter_posterior(T, N, args)\n",
    "        elseif posterior == :smc\n",
    "            tr,w = smc_posterior(T, args, grid_args)\n",
    "        end\n",
    "        push!(trs, tr)\n",
    "        push!(ws, w)\n",
    "    end\n",
    "    \n",
    "    \n",
    "\n",
    "    ani = Animation()\n",
    "    for i=1:length(trs)\n",
    "        \n",
    "        mypl = plot(\n",
    "            size=(500,500), legend=nothing, \n",
    "            title=\"$(posterior)\\nσₓ = $(x_noise)\\nσᵣ = $(hd_noise)\"; \n",
    "            xlim=(4,17),\n",
    "            ylim=(8,19),\n",
    "            aspect_ratio=:equal)\n",
    "\n",
    "        plot!(_segs, c=:black, linewidth=2)\n",
    "\n",
    "        if show_x\n",
    "            tt = T + 1\n",
    "            x_true = polar_inv(_zs[tt],_as)\n",
    "            scatter!(x_true.*_ps[tt], c=:red, markersize=2, markerstrokewidth=0, alpha=0.5 )\n",
    "        end\n",
    "        \n",
    "        \n",
    "        if show_samples\n",
    "            n=14\n",
    "            ss = range(0,0.9,n)\n",
    "            for j=1:n\n",
    "\n",
    "                s= ss[j]\n",
    "                i_ = mod(i+j-1,length(trs))+1\n",
    "                tr = trs[i_]\n",
    "\n",
    "                ps = [r[1] for r in tr[]];\n",
    "                xs = [r[2] for r in tr[]];\n",
    "\n",
    "                c = :lightgray\n",
    "                plot!([p.x for p in ps], c=c, linewidth=1, alpha=range(0,0.8,n)[j] )\n",
    "                plot!(ps, c=c, r=0.25, linewidth=2, alpha=range(0,1.,n)[j] )\n",
    "            end\n",
    "        end\n",
    "\n",
    "        plot!(_ps[1:T+1],c=:black, r=0.5, linewidth=2)\n",
    "        \n",
    "        if show_x\n",
    "            tt = T + 1\n",
    "            plot!([_ps[tt]],c=:red, r=0.5, linewidth=3)\n",
    "        end\n",
    "        \n",
    "        if show_u\n",
    "            pus = [Pose(p.x+u[1],p.hd+u[2]) for (p,u) in zip(_ps[2:end],args[1])]\n",
    "            for tt in 1:T\n",
    "                plot!([_ps[1+tt].x,pus[tt].x],c=:green, r=0.25, linewidth=2, alpha=0.5)\n",
    "            end\n",
    "            plot!(pus[1:T],c=:green, r=0.25, linewidth=2)\n",
    "        end\n",
    "\n",
    "\n",
    "        frame(ani, mypl)\n",
    "    end\n",
    "    \n",
    "    gif(ani, fps=15)\n",
    "end"
   ]
  }
 ],
 "metadata": {
  "@webio": {
   "lastCommId": "19791d2542a44f9a9730662e717b4b21",
   "lastKernelId": "f02aa624-6e1c-4acf-b532-0f9cf74aad0f"
  },
  "kernelspec": {
   "display_name": "Julia 1.8.3",
   "language": "julia",
   "name": "julia-1.8"
  },
  "language_info": {
   "file_extension": ".jl",
   "mimetype": "application/julia",
   "name": "julia",
   "version": "1.8.3"
  },
  "toc": {
   "base_numbering": 1,
   "nav_menu": {},
   "number_sections": true,
   "sideBar": true,
   "skip_h1_title": true,
   "title_cell": "Table of Contents",
   "title_sidebar": "Contents",
   "toc_cell": false,
   "toc_position": {
    "height": "697px",
    "left": "27px",
    "top": "111.125px",
    "width": "295.188px"
   },
   "toc_section_display": true,
   "toc_window_display": true
  }
 },
 "nbformat": 4,
 "nbformat_minor": 5
}
