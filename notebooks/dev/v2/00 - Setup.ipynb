{
 "cells": [
  {
   "attachments": {},
   "cell_type": "markdown",
   "metadata": {},
   "source": [
    "# Setup\n",
    "\n",
    "## Notation\n",
    "\n",
    "I usually try to keep variable naming concise and closer to the conventions found in mathematical papers, rather than those used in software engineering. I find that adopting this approach makes it easier to comprehend research code. However, it is essential to provide additional notes or documentation to provide context for interpreting variable names.\n",
    "\n",
    "In line with this practice, I make an effort to indicate CUDA arrays by appending a trailing underscore. For example, if we have an array `x`, its CUDA version would be denoted as `x_`:\n",
    "\n",
    "```julia\n",
    "x  = rand(100,100)\n",
    "x_ = CuArray(x)\n",
    "```\n",
    "\n",
    "Following a Python-inspired convention, I use addional underscores for contants or varibales that are not supposed to change. This allows me to reuse descriptive names without conflicting with constant values. Consequently, I can employ these informative names directly in the code that follows, ensuring clarity and readability.\n",
    "\n",
    "```julia\n",
    "ps = [ p+u for (p,u) in zip(_ps, _us) ]\n",
    "```\n",
    "\n",
    "\n"
   ]
  },
  {
   "attachments": {},
   "cell_type": "markdown",
   "metadata": {},
   "source": [
    "## Useful Stuff and Fixes"
   ]
  },
  {
   "cell_type": "code",
   "execution_count": 1,
   "metadata": {},
   "outputs": [],
   "source": [
    "# This is a fix for vscode, because it doesn't like \n",
    "# julia docstrings for whatever reason, and throws a `Katex` error.\n",
    "using Markdown\n",
    "Base.show(io::IO, ::MIME\"text/latex\", md::Markdown.MD) = plain(io, md)"
   ]
  },
  {
   "cell_type": "code",
   "execution_count": 2,
   "metadata": {},
   "outputs": [
    {
     "data": {
      "text/markdown": [
       "# Some title\n",
       "\n",
       "Hello world.\n"
      ],
      "text/plain": [
       "\u001b[1m  Some title\u001b[22m\n",
       "\u001b[1m  ≡≡≡≡≡≡≡≡≡≡≡≡\u001b[22m\n",
       "\n",
       "  Hello world."
      ]
     },
     "metadata": {},
     "output_type": "display_data"
    }
   ],
   "source": [
    "d = Markdown.parse(\"\"\"\n",
    "# Some title\n",
    "Hello world.\n",
    "\"\"\")\n",
    "\n",
    "display(d)"
   ]
  },
  {
   "attachments": {},
   "cell_type": "markdown",
   "metadata": {},
   "source": []
  }
 ],
 "metadata": {
  "kernelspec": {
   "display_name": "Julia 1.8.3",
   "language": "julia",
   "name": "julia-1.8"
  },
  "language_info": {
   "file_extension": ".jl",
   "mimetype": "application/julia",
   "name": "julia",
   "version": "1.8.3"
  },
  "orig_nbformat": 4
 },
 "nbformat": 4,
 "nbformat_minor": 2
}
