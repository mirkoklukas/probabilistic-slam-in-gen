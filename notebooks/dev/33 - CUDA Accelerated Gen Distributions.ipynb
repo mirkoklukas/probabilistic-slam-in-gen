{
 "cells": [
  {
   "cell_type": "markdown",
   "id": "cbccd5b5",
   "metadata": {},
   "source": [
    "# CUDA Accelerated Gen Distributions"
   ]
  },
  {
   "cell_type": "code",
   "execution_count": 89,
   "id": "73a72162",
   "metadata": {},
   "outputs": [],
   "source": [
    "using BenchmarkTools\n",
    "using Gen\n",
    "using CUDA\n",
    "push!(LOAD_PATH, ENV[\"probcomp\"]*\"/Gen-Distribution-Zoo/src\")\n",
    "using GenDistributionZoo: ProductDistribution, diagnormal\n",
    "push!(LOAD_PATH,\"src\")\n",
    "using MyUtils"
   ]
  },
  {
   "cell_type": "code",
   "execution_count": 251,
   "id": "2980be9b",
   "metadata": {},
   "outputs": [
    {
     "data": {
      "text/plain": [
       "cuda_grid"
      ]
     },
     "execution_count": 251,
     "metadata": {},
     "output_type": "execute_result"
    }
   ],
   "source": [
    "#nbx\n",
    "\"\"\"\n",
    "    griddims = cuda_grid(datadims::Tuple{Vararg{Int}}, \n",
    "                         blockdims::Tuple{Vararg{Int}})\n",
    "\n",
    "Given data dimensions `datadims` and number of threads \n",
    "in each dimension `blockdims` returns the respective \n",
    "grid dimensions `griddims` such that\n",
    "\n",
    "    griddims[i] = ceil(Int, datadims[i]/blockdims[i])\n",
    "\n",
    "\"\"\"\n",
    "function cuda_grid(datadims::Tuple{Vararg{Int}}, blockdims::Tuple{Vararg{Int}})\n",
    "    griddims = ceil.(Int, datadims./blockdims)\n",
    "    return griddims\n",
    "end"
   ]
  },
  {
   "cell_type": "code",
   "execution_count": 73,
   "id": "40146929",
   "metadata": {},
   "outputs": [
    {
     "data": {
      "text/plain": [
       "match_shape (generic function with 2 methods)"
      ]
     },
     "execution_count": 73,
     "metadata": {},
     "output_type": "execute_result"
    }
   ],
   "source": [
    "remove_dim(t::Tuple, dim::Int) = (t[1:dim-1]...,t[dim+1:end]...)\n",
    "remove_dims(t::Tuple, dims::Tuple{Vararg{Int}}) = t[filter(x-> !(x in dims), 1:length(t))]\n",
    "insert_dim(t::Tuple, dim::Int) = (t[1:dim-1]...,1,t[dim:end]...)\n",
    "\n",
    "function squeeze_dim(x, dim::Int)\n",
    "    @assert size(x, dim) == 1 \"Can't sqeeze dim that is bigger than one. We have \\\"size(x, dim)=$(size(x, dim))\\\"\"\n",
    "    return reshape(x, remove_dim(size(x), dim))\n",
    "end\n",
    "    \n",
    "function squeeze_dims(x, dims::Tuple{Vararg{Int}})\n",
    "    @assert all(size.([x], dims) .== 1) \"Can't sqeeze dim that is bigger than one\"\n",
    "    return reshape(x, remove_dims(size(x), dims))\n",
    "end\n",
    "    \n",
    "function unsqueeze_dim(x, dim::Int)\n",
    "    return reshape(x, insert_dim(size(x), dim))\n",
    "end\n",
    "\n",
    "function match_shape(x, dim::Int)\n",
    "    shape = fill(1, ndims(x))\n",
    "    shape[dim] = size(x,dim)\n",
    "    return Tuple(shape)\n",
    "end"
   ]
  },
  {
   "cell_type": "code",
   "execution_count": 66,
   "id": "a889d110",
   "metadata": {},
   "outputs": [
    {
     "data": {
      "text/plain": [
       "1×2×1 Array{Float64, 3}:\n",
       "[:, :, 1] =\n",
       " 0.062176  0.802435"
      ]
     },
     "execution_count": 66,
     "metadata": {},
     "output_type": "execute_result"
    }
   ],
   "source": [
    "w = rand(2)\n",
    "x = rand(1,2,3)\n",
    "match_shape(w, x, 2)"
   ]
  },
  {
   "cell_type": "code",
   "execution_count": 5,
   "id": "d3f0f428",
   "metadata": {},
   "outputs": [
    {
     "name": "stdout",
     "output_type": "stream",
     "text": [
      "  347.673 ns (3 allocations: 144 bytes)\n",
      "  423.156 ns (3 allocations: 160 bytes)\n",
      "  304.739 ns (5 allocations: 176 bytes)\n",
      "  422.196 ns (4 allocations: 352 bytes)\n"
     ]
    }
   ],
   "source": [
    "d = 3\n",
    "t = (1,2,3,4,5,6)\n",
    "@assert t == remove_dim(insert_dim(t, d),d)\n",
    "@btime remove_dim($((1,2,3,4,5,6,7)),3);\n",
    "@btime insert_dim($((1,2,3,4,5,6,7)),3);\n",
    "@btime squeeze_dim($(rand(10,10,1,10)), 3);\n",
    "\n",
    "dims = (5,6)\n",
    "@btime remove_dims($t, $dims);"
   ]
  },
  {
   "cell_type": "markdown",
   "id": "13f2074d",
   "metadata": {},
   "source": [
    "## Gaussian"
   ]
  },
  {
   "cell_type": "code",
   "execution_count": 221,
   "id": "dc653db6",
   "metadata": {},
   "outputs": [],
   "source": [
    "function gaussian_logpdf(x, mu, sig)\n",
    "    d = (x .- mu).^2 ./ sig.^2\n",
    "    log_p = - log.(sqrt.(sig * 2 * π)) .- 1/2 * d\n",
    "    return log_p\n",
    "end;"
   ]
  },
  {
   "cell_type": "markdown",
   "id": "b71aaf0c",
   "metadata": {},
   "source": [
    "Reality check:"
   ]
  },
  {
   "cell_type": "code",
   "execution_count": 222,
   "id": "28b81f67",
   "metadata": {},
   "outputs": [
    {
     "data": {
      "text/plain": [
       "true"
      ]
     },
     "execution_count": 222,
     "metadata": {},
     "output_type": "execute_result"
    }
   ],
   "source": [
    "m = 500 # num mixture components\n",
    "n = 500 # num observations\n",
    "\n",
    "sig = ones(1,m,2)\n",
    "mu  = zeros(1,m,2) \n",
    "x   = rand(n,1,2)\n",
    "\n",
    "isapprox(\n",
    "    gaussian_logpdf(x, mu, sig),\n",
    "    logpdf.([normal],x,mu,sig)\n",
    ")"
   ]
  },
  {
   "cell_type": "markdown",
   "id": "faed55c7",
   "metadata": {},
   "source": [
    "Benchmark"
   ]
  },
  {
   "cell_type": "code",
   "execution_count": 232,
   "id": "2d55d75c",
   "metadata": {},
   "outputs": [
    {
     "name": "stdout",
     "output_type": "stream",
     "text": [
      "\n",
      "m=1, n=100\n",
      "  2.069 μs (7 allocations: 5.61 KiB)\n",
      "  104.798 μs (200 allocations: 14.44 KiB)\n",
      "\n",
      "m=100, n=100\n",
      "  93.713 μs (10 allocations: 476.00 KiB)\n",
      "  104.059 μs (203 allocations: 14.48 KiB)\n",
      "\n",
      "m=60, n=360\n",
      "  184.585 μs (10 allocations: 1016.94 KiB)\n",
      "  103.283 μs (203 allocations: 14.48 KiB)\n",
      "\n",
      "m=360, n=360\n",
      "  1.066 ms (10 allocations: 5.96 MiB)\n",
      "  108.153 μs (207 allocations: 14.55 KiB)\n"
     ]
    }
   ],
   "source": [
    "for (m,n) in [(1,100),(100,100),(60,360),(360,360)]\n",
    "\n",
    "    sig = ones(1,m,2)\n",
    "    mu  = zeros(1,m,2) \n",
    "    x   = rand(n,1,2)\n",
    "\n",
    "    sig_ = CuArray(sig)\n",
    "    mu_  = CuArray(mu)\n",
    "    x_   = CuArray(x)\n",
    "    \n",
    "    println(\"\\nm=$(m), n=$(n)\")\n",
    "    @btime gaussian_logpdf($x,  $mu,  $sig)  samples=3 evals=3;\n",
    "    @btime gaussian_logpdf($x_, $mu_, $sig_) samples=3 evals=3;\n",
    "end"
   ]
  },
  {
   "cell_type": "markdown",
   "id": "8acdd6ca",
   "metadata": {},
   "source": [
    "```julia\n",
    "m=1, n=100\n",
    "  2.069 μs (7 allocations: 5.61 KiB)\n",
    "  104.798 μs (200 allocations: 14.44 KiB)\n",
    "\n",
    "m=100, n=100\n",
    "  93.713 μs (10 allocations: 476.00 KiB)\n",
    "  104.059 μs (203 allocations: 14.48 KiB)\n",
    "\n",
    "m=60, n=360\n",
    "  184.585 μs (10 allocations: 1016.94 KiB)\n",
    "  103.283 μs (203 allocations: 14.48 KiB)\n",
    "\n",
    "m=360, n=360\n",
    "  1.066 ms (10 allocations: 5.96 MiB)\n",
    "  108.153 μs (207 allocations: 14.55 KiB)\n",
    "```"
   ]
  },
  {
   "cell_type": "markdown",
   "id": "d377a2b3",
   "metadata": {},
   "source": [
    "## Mixture"
   ]
  },
  {
   "cell_type": "code",
   "execution_count": 234,
   "id": "5a068a9d",
   "metadata": {},
   "outputs": [
    {
     "data": {
      "text/plain": [
       "mixture (generic function with 1 method)"
      ]
     },
     "execution_count": 234,
     "metadata": {},
     "output_type": "execute_result"
    }
   ],
   "source": [
    "function mixture(ws, log_ps)\n",
    "    @assert length(ws) == length(log_ps)\n",
    "    return reduce(.+, ws .* log_ps)\n",
    "end"
   ]
  },
  {
   "cell_type": "code",
   "execution_count": 235,
   "id": "1666e7bd",
   "metadata": {},
   "outputs": [
    {
     "name": "stdout",
     "output_type": "stream",
     "text": [
      "  47.512 μs (7 allocations: 281.50 KiB)\n",
      "  41.607 μs (88 allocations: 6.17 KiB)\n"
     ]
    }
   ],
   "source": [
    "m = 20 # num mixture components\n",
    "n = 300 # num observations\n",
    "\n",
    "sig = ones(1,m,2)\n",
    "mu  = zeros(1,m,2) \n",
    "x   = rand(n,1,2)\n",
    "\n",
    "log_p_ = gaussian_logpdf(x_, mu_, sig_)\n",
    "log_p  = gaussian_logpdf(x, mu, sig)\n",
    "\n",
    "\n",
    "ws = [0.5, 0.5]\n",
    "\n",
    "\n",
    "\n",
    "log_ps  = [log_p, log_p]\n",
    "log_ps_ = [log_p_, log_p_]\n",
    "\n",
    "\n",
    "@btime mixture(ws, log_ps)  samples=3 evals=3;\n",
    "@btime mixture(ws, log_ps_) samples=3 evals=3;"
   ]
  },
  {
   "cell_type": "code",
   "execution_count": 236,
   "id": "49540fb0",
   "metadata": {},
   "outputs": [
    {
     "data": {
      "text/plain": [
       "mixture_along_dim (generic function with 2 methods)"
      ]
     },
     "execution_count": 236,
     "metadata": {},
     "output_type": "execute_result"
    }
   ],
   "source": [
    "function mixture_along_dim(log_p, w; dim)\n",
    "    @assert length(w) == size(log_p, dim)\n",
    "    \n",
    "    shape = match_shape(log_p, dim)\n",
    "    w     = reshape(w, shape)\n",
    "    log_p = log.(sum(exp.(log_p .+ log.(w)), dims=dim)) \n",
    "    \n",
    "    return squeeze_dim(log_p, dim) \n",
    "end"
   ]
  },
  {
   "cell_type": "code",
   "execution_count": 237,
   "id": "e9c85c4f",
   "metadata": {},
   "outputs": [
    {
     "data": {
      "text/plain": [
       "true"
      ]
     },
     "execution_count": 237,
     "metadata": {},
     "output_type": "execute_result"
    }
   ],
   "source": [
    "m =   7 # num mixture components\n",
    "n = 100 # num observations\n",
    "\n",
    "gm = HomogeneousMixture(normal, [0,0])\n",
    "\n",
    "mu  = rand(n,m); \n",
    "sig = ones(n,m);\n",
    "x   = rand(n);\n",
    "\n",
    "mu_  = CuArray(mu)\n",
    "sig_ = CuArray(sig)\n",
    "x_   = reshape(CuArray(x), n,1)\n",
    "\n",
    "isapprox( \n",
    "    [logpdf(gm, x[i], fill(1/m, m), mu[i,:], sig[i,:]) for i=1:n],\n",
    "    Array(mixture_along_dim(gaussian_logpdf(x_, mu_, sig_), CUDA.fill(1/m,m), dim=2))\n",
    ")"
   ]
  },
  {
   "cell_type": "code",
   "execution_count": 238,
   "id": "b0ccb6d9",
   "metadata": {},
   "outputs": [
    {
     "name": "stdout",
     "output_type": "stream",
     "text": [
      "  7.666 ms (35 allocations: 7.65 MiB)\n",
      "  187.444 μs (335 allocations: 20.23 KiB)\n"
     ]
    }
   ],
   "source": [
    "m = 500 # num mixture components\n",
    "n = 500 # num observations\n",
    "\n",
    "sig = ones(1,m)\n",
    "mu  = zeros(1,m) \n",
    "x   = rand(n,1)\n",
    "w = fill(1/m,m)\n",
    "\n",
    "sig_ = CuArray(sig)\n",
    "mu_  = CuArray(mu)\n",
    "x_   = CuArray(x)\n",
    "w_ = CuArray(w)\n",
    "\n",
    "function bench_mixture(x,mu,sig,w)\n",
    "    mixture_along_dim(gaussian_logpdf(x, mu, sig),w, dim=2);\n",
    "end\n",
    "\n",
    "@btime bench_mixture($x,$mu,$sig,$w)     samples=3 evals=3;\n",
    "@btime bench_mixture($x_,$mu_,$sig_,$w_) samples=3 evals=3;"
   ]
  },
  {
   "cell_type": "markdown",
   "id": "e03dd617",
   "metadata": {},
   "source": [
    "## Sensor Mixture Product\n",
    "\n",
    "$$\n",
    "    \\prod_i \\sum_j w_j \\cdot p_{i,j}(x_i) \n",
    "$$\n",
    "\n",
    "$$\n",
    "p_{i,1} = \\sum_{k=1}^m \\tfrac{1}{m} N(x_i ; y_{i,k}, \\sigma)\n",
    "$$\n",
    "\n",
    "$$\n",
    "p_{i,2}(x_i) \\equiv \\text{const}\n",
    "$$"
   ]
  },
  {
   "cell_type": "code",
   "execution_count": 273,
   "id": "642087f0",
   "metadata": {},
   "outputs": [
    {
     "name": "stdout",
     "output_type": "stream",
     "text": [
      "  542.955 μs (117 allocations: 2.48 MiB)\n"
     ]
    }
   ],
   "source": [
    "n = 360\n",
    "m = 20\n",
    "x = rand(n)\n",
    "y = rand(n,2*m+1)\n",
    "\n",
    "x_ = CuArray(x)\n",
    "y_ = CuArray(y)\n",
    "\n",
    "function slw(x, w::Int, y)    \n",
    "    \n",
    "#     for i=-w:w\n",
    "#        y[:,i+w+1] = circshift(z,i)\n",
    "#     end\n",
    "    y = reduce(hcat, (circshift(x,s) for s=-w:w))\n",
    "    return y\n",
    "end\n",
    "\n",
    "@btime slw($x,$m,$y) samples=3 evals=3;"
   ]
  },
  {
   "cell_type": "code",
   "execution_count": 284,
   "id": "59da3a5e",
   "metadata": {},
   "outputs": [
    {
     "name": "stdout",
     "output_type": "stream",
     "text": [
      "  648.991 μs (0 allocations: 0 bytes)\n",
      "  21.635 μs (21 allocations: 1.14 KiB)\n"
     ]
    }
   ],
   "source": [
    "function sliding_window_cpu!(x, w::Int, y)   \n",
    "    for i = 1:size(x,1), j = 1:2*w+1\n",
    "        @inbounds y[i,j] = x[i-1-w]\n",
    "    end\n",
    "    return y\n",
    "end\n",
    "\n",
    "function sliding_window_gpu!(x, w::Int, y)\n",
    "    @assert size(y,1) == size(x,1)\n",
    "    @assert size(y,2) == 2*w+1\n",
    "    \n",
    "    ix = (blockIdx().x - 1) * blockDim().x + threadIdx().x\n",
    "    iy = (blockIdx().y - 1) * blockDim().y + threadIdx().y\n",
    "    sx = gridDim().x * blockDim().x\n",
    "    sy = gridDim().y * blockDim().y\n",
    "        \n",
    "    for i = ix:sx:size(x,1), j = iy:sy:2*w+1\n",
    "        @inbounds y[i,j] = x[i-1-w]\n",
    "    end\n",
    "    return\n",
    "end\n",
    "\n",
    "function bench_sliding_window_gpu!(x,w,y;blockdims=(32,8))\n",
    "    n = size(x,1)\n",
    "    m = 2*w+1\n",
    "    griddims = cuda_grid((n,m), blockdims)\n",
    "    CUDA.@sync begin\n",
    "        @cuda threads=blockdims blocks=griddims  sliding_window_gpu!(x, w, y)\n",
    "    end\n",
    "end;\n",
    "\n",
    "\n",
    "n = 360\n",
    "m = 360\n",
    "x = collect(1:n)\n",
    "y = zeros(n,2*m+1)\n",
    "\n",
    "x_ = CuArray(x)\n",
    "y_ = CuArray(y)\n",
    "\n",
    "blockdims = (16,16)\n",
    "griddims = cuda_grid((n,m), blockdims)\n",
    "@cuda threads=blockdims blocks=griddims sliding_window!(x_, m, y_);\n",
    "@btime sliding_window_cpu!(x, m, y) samples=3 evals=3;\n",
    "@btime bench_sliding_window_gpu!($x_, $m, $y_; blockdims=$blockdims) samples=3 evals=3;"
   ]
  },
  {
   "cell_type": "code",
   "execution_count": null,
   "id": "b3a0dfb5",
   "metadata": {},
   "outputs": [],
   "source": [
    "sliding_window_cpu!(x, m, y)"
   ]
  }
 ],
 "metadata": {
  "kernelspec": {
   "display_name": "Julia 1.8.3",
   "language": "julia",
   "name": "julia-1.8"
  },
  "language_info": {
   "file_extension": ".jl",
   "mimetype": "application/julia",
   "name": "julia",
   "version": "1.8.3"
  },
  "toc": {
   "base_numbering": 1,
   "nav_menu": {},
   "number_sections": true,
   "sideBar": true,
   "skip_h1_title": true,
   "title_cell": "Table of Contents",
   "title_sidebar": "Contents",
   "toc_cell": false,
   "toc_position": {
    "height": "calc(100% - 180px)",
    "left": "10px",
    "top": "150px",
    "width": "321.797px"
   },
   "toc_section_display": true,
   "toc_window_display": true
  }
 },
 "nbformat": 4,
 "nbformat_minor": 5
}
