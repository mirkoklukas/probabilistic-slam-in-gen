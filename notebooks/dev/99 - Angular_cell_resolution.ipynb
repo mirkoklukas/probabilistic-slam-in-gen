{
 "cells": [
  {
   "cell_type": "code",
   "execution_count": 3,
   "id": "67423415",
   "metadata": {},
   "outputs": [],
   "source": [
    "using Colors, Plots\n",
    "using LinearAlgebra: dot, Diagonal, norm, normalize, normalize!\n",
    "col = palette(:default);"
   ]
  },
  {
   "cell_type": "code",
   "execution_count": 4,
   "id": "6ae03709",
   "metadata": {},
   "outputs": [
    {
     "data": {
      "text/plain": [
       "circle"
      ]
     },
     "execution_count": 4,
     "metadata": {},
     "output_type": "execute_result"
    }
   ],
   "source": [
    "# https://discourse.julialang.org/t/how-to-plot-circles-with-given-radii-using-plots/47845/8\n",
    "\"\"\"\n",
    "Plots a circle of radius r at (x,y)-coordinates\n",
    "\"\"\"\n",
    "function circle(x, y, r::Float64=1.0; n=50)\n",
    "    θ = 0:360÷n:360\n",
    "    Plots.Shape(r*sind.(θ) .+ x, r*cosd.(θ) .+ y)\n",
    "end"
   ]
  },
  {
   "cell_type": "code",
   "execution_count": 5,
   "id": "3d1769af",
   "metadata": {},
   "outputs": [
    {
     "data": {
      "image/svg+xml": [
       "<?xml version=\"1.0\" encoding=\"utf-8\"?>\n",
       "<svg xmlns=\"http://www.w3.org/2000/svg\" xmlns:xlink=\"http://www.w3.org/1999/xlink\" width=\"400\" height=\"200\" viewBox=\"0 0 1600 800\">\n",
       "<defs>\n",
       "  <clipPath id=\"clip750\">\n",
       "    <rect x=\"0\" y=\"0\" width=\"1600\" height=\"800\"/>\n",
       "  </clipPath>\n",
       "</defs>\n",
       "<path clip-path=\"url(#clip750)\" d=\"M0 800 L1600 800 L1600 0 L0 0  Z\" fill=\"#ffffff\" fill-rule=\"evenodd\" fill-opacity=\"1\"/>\n",
       "<defs>\n",
       "  <clipPath id=\"clip751\">\n",
       "    <rect x=\"320\" y=\"0\" width=\"1121\" height=\"800\"/>\n",
       "  </clipPath>\n",
       "</defs>\n",
       "<path clip-path=\"url(#clip750)\" d=\"M139.478 703.088 L1552.76 703.088 L1552.76 47.2441 L139.478 47.2441  Z\" fill=\"#ffffff\" fill-rule=\"evenodd\" fill-opacity=\"1\"/>\n",
       "<defs>\n",
       "  <clipPath id=\"clip752\">\n",
       "    <rect x=\"139\" y=\"47\" width=\"1414\" height=\"657\"/>\n",
       "  </clipPath>\n",
       "</defs>\n",
       "<polyline clip-path=\"url(#clip752)\" style=\"stroke:#000000; stroke-linecap:round; stroke-linejoin:round; stroke-width:2; stroke-opacity:0.1; fill:none\" points=\"179.476,703.088 179.476,47.2441 \"/>\n",
       "<polyline clip-path=\"url(#clip752)\" style=\"stroke:#000000; stroke-linecap:round; stroke-linejoin:round; stroke-width:2; stroke-opacity:0.1; fill:none\" points=\"475.771,703.088 475.771,47.2441 \"/>\n",
       "<polyline clip-path=\"url(#clip752)\" style=\"stroke:#000000; stroke-linecap:round; stroke-linejoin:round; stroke-width:2; stroke-opacity:0.1; fill:none\" points=\"772.066,703.088 772.066,47.2441 \"/>\n",
       "<polyline clip-path=\"url(#clip752)\" style=\"stroke:#000000; stroke-linecap:round; stroke-linejoin:round; stroke-width:2; stroke-opacity:0.1; fill:none\" points=\"1068.36,703.088 1068.36,47.2441 \"/>\n",
       "<polyline clip-path=\"url(#clip752)\" style=\"stroke:#000000; stroke-linecap:round; stroke-linejoin:round; stroke-width:2; stroke-opacity:0.1; fill:none\" points=\"1364.66,703.088 1364.66,47.2441 \"/>\n",
       "<polyline clip-path=\"url(#clip750)\" style=\"stroke:#000000; stroke-linecap:round; stroke-linejoin:round; stroke-width:4; stroke-opacity:1; fill:none\" points=\"139.478,703.088 1552.76,703.088 \"/>\n",
       "<polyline clip-path=\"url(#clip750)\" style=\"stroke:#000000; stroke-linecap:round; stroke-linejoin:round; stroke-width:4; stroke-opacity:1; fill:none\" points=\"179.476,703.088 179.476,684.19 \"/>\n",
       "<polyline clip-path=\"url(#clip750)\" style=\"stroke:#000000; stroke-linecap:round; stroke-linejoin:round; stroke-width:4; stroke-opacity:1; fill:none\" points=\"475.771,703.088 475.771,684.19 \"/>\n",
       "<polyline clip-path=\"url(#clip750)\" style=\"stroke:#000000; stroke-linecap:round; stroke-linejoin:round; stroke-width:4; stroke-opacity:1; fill:none\" points=\"772.066,703.088 772.066,684.19 \"/>\n",
       "<polyline clip-path=\"url(#clip750)\" style=\"stroke:#000000; stroke-linecap:round; stroke-linejoin:round; stroke-width:4; stroke-opacity:1; fill:none\" points=\"1068.36,703.088 1068.36,684.19 \"/>\n",
       "<polyline clip-path=\"url(#clip750)\" style=\"stroke:#000000; stroke-linecap:round; stroke-linejoin:round; stroke-width:4; stroke-opacity:1; fill:none\" points=\"1364.66,703.088 1364.66,684.19 \"/>\n",
       "<path clip-path=\"url(#clip750)\" d=\"M179.476 727.607 Q175.865 727.607 174.037 731.171 Q172.231 734.713 172.231 741.843 Q172.231 748.949 174.037 752.514 Q175.865 756.055 179.476 756.055 Q183.111 756.055 184.916 752.514 Q186.745 748.949 186.745 741.843 Q186.745 734.713 184.916 731.171 Q183.111 727.607 179.476 727.607 M179.476 723.903 Q185.287 723.903 188.342 728.509 Q191.421 733.093 191.421 741.843 Q191.421 750.569 188.342 755.176 Q185.287 759.759 179.476 759.759 Q173.666 759.759 170.588 755.176 Q167.532 750.569 167.532 741.843 Q167.532 733.093 170.588 728.509 Q173.666 723.903 179.476 723.903 Z\" fill=\"#000000\" fill-rule=\"evenodd\" fill-opacity=\"1\" /><path clip-path=\"url(#clip750)\" d=\"M470.424 755.153 L486.743 755.153 L486.743 759.088 L464.799 759.088 L464.799 755.153 Q467.461 752.398 472.044 747.768 Q476.651 743.116 477.831 741.773 Q480.077 739.25 480.956 737.514 Q481.859 735.755 481.859 734.065 Q481.859 731.31 479.915 729.574 Q477.993 727.838 474.891 727.838 Q472.692 727.838 470.239 728.602 Q467.808 729.366 465.03 730.917 L465.03 726.195 Q467.854 725.06 470.308 724.482 Q472.762 723.903 474.799 723.903 Q480.169 723.903 483.364 726.588 Q486.558 729.273 486.558 733.764 Q486.558 735.894 485.748 737.815 Q484.961 739.713 482.854 742.306 Q482.276 742.977 479.174 746.194 Q476.072 749.389 470.424 755.153 Z\" fill=\"#000000\" fill-rule=\"evenodd\" fill-opacity=\"1\" /><path clip-path=\"url(#clip750)\" d=\"M775.075 728.602 L763.27 747.051 L775.075 747.051 L775.075 728.602 M773.848 724.528 L779.728 724.528 L779.728 747.051 L784.658 747.051 L784.658 750.94 L779.728 750.94 L779.728 759.088 L775.075 759.088 L775.075 750.94 L759.473 750.94 L759.473 746.426 L773.848 724.528 Z\" fill=\"#000000\" fill-rule=\"evenodd\" fill-opacity=\"1\" /><path clip-path=\"url(#clip750)\" d=\"M1068.77 739.944 Q1065.62 739.944 1063.77 742.097 Q1061.94 744.25 1061.94 748 Q1061.94 751.727 1063.77 753.903 Q1065.62 756.055 1068.77 756.055 Q1071.91 756.055 1073.74 753.903 Q1075.59 751.727 1075.59 748 Q1075.59 744.25 1073.74 742.097 Q1071.91 739.944 1068.77 739.944 M1078.05 725.292 L1078.05 729.551 Q1076.29 728.718 1074.48 728.278 Q1072.7 727.838 1070.94 727.838 Q1066.31 727.838 1063.86 730.963 Q1061.43 734.088 1061.08 740.407 Q1062.45 738.394 1064.51 737.329 Q1066.57 736.241 1069.04 736.241 Q1074.25 736.241 1077.26 739.412 Q1080.29 742.56 1080.29 748 Q1080.29 753.324 1077.15 756.542 Q1074 759.759 1068.77 759.759 Q1062.77 759.759 1059.6 755.176 Q1056.43 750.569 1056.43 741.843 Q1056.43 733.648 1060.32 728.787 Q1064.21 723.903 1070.76 723.903 Q1072.52 723.903 1074.3 724.25 Q1076.1 724.597 1078.05 725.292 Z\" fill=\"#000000\" fill-rule=\"evenodd\" fill-opacity=\"1\" /><path clip-path=\"url(#clip750)\" d=\"M1364.66 742.676 Q1361.32 742.676 1359.4 744.458 Q1357.5 746.241 1357.5 749.366 Q1357.5 752.491 1359.4 754.273 Q1361.32 756.055 1364.66 756.055 Q1367.99 756.055 1369.91 754.273 Q1371.83 752.468 1371.83 749.366 Q1371.83 746.241 1369.91 744.458 Q1368.01 742.676 1364.66 742.676 M1359.98 740.685 Q1356.97 739.944 1355.28 737.884 Q1353.61 735.824 1353.61 732.861 Q1353.61 728.718 1356.55 726.31 Q1359.52 723.903 1364.66 723.903 Q1369.82 723.903 1372.76 726.31 Q1375.7 728.718 1375.7 732.861 Q1375.7 735.824 1374.01 737.884 Q1372.34 739.944 1369.35 740.685 Q1372.73 741.472 1374.61 743.764 Q1376.51 746.056 1376.51 749.366 Q1376.51 754.389 1373.43 757.074 Q1370.37 759.759 1364.66 759.759 Q1358.94 759.759 1355.86 757.074 Q1352.8 754.389 1352.8 749.366 Q1352.8 746.056 1354.7 743.764 Q1356.6 741.472 1359.98 740.685 M1358.27 733.301 Q1358.27 735.986 1359.93 737.491 Q1361.62 738.995 1364.66 738.995 Q1367.66 738.995 1369.35 737.491 Q1371.07 735.986 1371.07 733.301 Q1371.07 730.616 1369.35 729.111 Q1367.66 727.607 1364.66 727.607 Q1361.62 727.607 1359.93 729.111 Q1358.27 730.616 1358.27 733.301 Z\" fill=\"#000000\" fill-rule=\"evenodd\" fill-opacity=\"1\" /><polyline clip-path=\"url(#clip752)\" style=\"stroke:#000000; stroke-linecap:round; stroke-linejoin:round; stroke-width:2; stroke-opacity:0.1; fill:none\" points=\"139.478,677.995 1552.76,677.995 \"/>\n",
       "<polyline clip-path=\"url(#clip752)\" style=\"stroke:#000000; stroke-linecap:round; stroke-linejoin:round; stroke-width:2; stroke-opacity:0.1; fill:none\" points=\"139.478,529.848 1552.76,529.848 \"/>\n",
       "<polyline clip-path=\"url(#clip752)\" style=\"stroke:#000000; stroke-linecap:round; stroke-linejoin:round; stroke-width:2; stroke-opacity:0.1; fill:none\" points=\"139.478,381.7 1552.76,381.7 \"/>\n",
       "<polyline clip-path=\"url(#clip752)\" style=\"stroke:#000000; stroke-linecap:round; stroke-linejoin:round; stroke-width:2; stroke-opacity:0.1; fill:none\" points=\"139.478,233.553 1552.76,233.553 \"/>\n",
       "<polyline clip-path=\"url(#clip752)\" style=\"stroke:#000000; stroke-linecap:round; stroke-linejoin:round; stroke-width:2; stroke-opacity:0.1; fill:none\" points=\"139.478,85.4057 1552.76,85.4057 \"/>\n",
       "<polyline clip-path=\"url(#clip750)\" style=\"stroke:#000000; stroke-linecap:round; stroke-linejoin:round; stroke-width:4; stroke-opacity:1; fill:none\" points=\"139.478,703.088 139.478,47.2441 \"/>\n",
       "<polyline clip-path=\"url(#clip750)\" style=\"stroke:#000000; stroke-linecap:round; stroke-linejoin:round; stroke-width:4; stroke-opacity:1; fill:none\" points=\"139.478,677.995 158.376,677.995 \"/>\n",
       "<polyline clip-path=\"url(#clip750)\" style=\"stroke:#000000; stroke-linecap:round; stroke-linejoin:round; stroke-width:4; stroke-opacity:1; fill:none\" points=\"139.478,529.848 158.376,529.848 \"/>\n",
       "<polyline clip-path=\"url(#clip750)\" style=\"stroke:#000000; stroke-linecap:round; stroke-linejoin:round; stroke-width:4; stroke-opacity:1; fill:none\" points=\"139.478,381.7 158.376,381.7 \"/>\n",
       "<polyline clip-path=\"url(#clip750)\" style=\"stroke:#000000; stroke-linecap:round; stroke-linejoin:round; stroke-width:4; stroke-opacity:1; fill:none\" points=\"139.478,233.553 158.376,233.553 \"/>\n",
       "<polyline clip-path=\"url(#clip750)\" style=\"stroke:#000000; stroke-linecap:round; stroke-linejoin:round; stroke-width:4; stroke-opacity:1; fill:none\" points=\"139.478,85.4057 158.376,85.4057 \"/>\n",
       "<path clip-path=\"url(#clip750)\" d=\"M55.3625 678.447 L85.0383 678.447 L85.0383 682.382 L55.3625 682.382 L55.3625 678.447 Z\" fill=\"#000000\" fill-rule=\"evenodd\" fill-opacity=\"1\" /><path clip-path=\"url(#clip750)\" d=\"M99.1586 691.34 L115.478 691.34 L115.478 695.275 L93.5336 695.275 L93.5336 691.34 Q96.1956 688.585 100.779 683.956 Q105.385 679.303 106.566 677.96 Q108.811 675.437 109.691 673.701 Q110.594 671.942 110.594 670.252 Q110.594 667.497 108.649 665.761 Q106.728 664.025 103.626 664.025 Q101.427 664.025 98.9734 664.789 Q96.5428 665.553 93.7651 667.104 L93.7651 662.382 Q96.5891 661.248 99.0428 660.669 Q101.497 660.09 103.534 660.09 Q108.904 660.09 112.098 662.775 Q115.293 665.46 115.293 669.951 Q115.293 672.081 114.483 674.002 Q113.696 675.9 111.589 678.493 Q111.01 679.164 107.909 682.382 Q104.807 685.576 99.1586 691.34 Z\" fill=\"#000000\" fill-rule=\"evenodd\" fill-opacity=\"1\" /><path clip-path=\"url(#clip750)\" d=\"M54.9921 530.299 L84.6679 530.299 L84.6679 534.234 L54.9921 534.234 L54.9921 530.299 Z\" fill=\"#000000\" fill-rule=\"evenodd\" fill-opacity=\"1\" /><path clip-path=\"url(#clip750)\" d=\"M95.5706 543.193 L103.209 543.193 L103.209 516.827 L94.8993 518.494 L94.8993 514.234 L103.163 512.568 L107.839 512.568 L107.839 543.193 L115.478 543.193 L115.478 547.128 L95.5706 547.128 L95.5706 543.193 Z\" fill=\"#000000\" fill-rule=\"evenodd\" fill-opacity=\"1\" /><path clip-path=\"url(#clip750)\" d=\"M103.534 367.499 Q99.9224 367.499 98.0937 371.064 Q96.2882 374.606 96.2882 381.735 Q96.2882 388.842 98.0937 392.406 Q99.9224 395.948 103.534 395.948 Q107.168 395.948 108.973 392.406 Q110.802 388.842 110.802 381.735 Q110.802 374.606 108.973 371.064 Q107.168 367.499 103.534 367.499 M103.534 363.795 Q109.344 363.795 112.399 368.402 Q115.478 372.985 115.478 381.735 Q115.478 390.462 112.399 395.068 Q109.344 399.652 103.534 399.652 Q97.7234 399.652 94.6447 395.068 Q91.5892 390.462 91.5892 381.735 Q91.5892 372.985 94.6447 368.402 Q97.7234 363.795 103.534 363.795 Z\" fill=\"#000000\" fill-rule=\"evenodd\" fill-opacity=\"1\" /><path clip-path=\"url(#clip750)\" d=\"M95.5706 246.898 L103.209 246.898 L103.209 220.532 L94.8993 222.199 L94.8993 217.94 L103.163 216.273 L107.839 216.273 L107.839 246.898 L115.478 246.898 L115.478 250.833 L95.5706 250.833 L95.5706 246.898 Z\" fill=\"#000000\" fill-rule=\"evenodd\" fill-opacity=\"1\" /><path clip-path=\"url(#clip750)\" d=\"M99.1586 98.7505 L115.478 98.7505 L115.478 102.686 L93.5336 102.686 L93.5336 98.7505 Q96.1956 95.9959 100.779 91.3663 Q105.385 86.7135 106.566 85.371 Q108.811 82.8478 109.691 81.1117 Q110.594 79.3525 110.594 77.6627 Q110.594 74.9081 108.649 73.1719 Q106.728 71.4358 103.626 71.4358 Q101.427 71.4358 98.9734 72.1997 Q96.5428 72.9636 93.7651 74.5145 L93.7651 69.7923 Q96.5891 68.6581 99.0428 68.0794 Q101.497 67.5007 103.534 67.5007 Q108.904 67.5007 112.098 70.1859 Q115.293 72.871 115.293 77.3617 Q115.293 79.4914 114.483 81.4126 Q113.696 83.3108 111.589 85.9034 Q111.01 86.5747 107.909 89.7922 Q104.807 92.9867 99.1586 98.7505 Z\" fill=\"#000000\" fill-rule=\"evenodd\" fill-opacity=\"1\" /><path clip-path=\"url(#clip752)\" d=\"M1216.51 85.4057 L1252.62 87.6142 L1288.19 94.2069 L1322.69 105.085 L1355.61 120.088 L1386.46 138.99 L1414.77 161.511 L1440.12 187.314 L1462.15 216.014 L1480.51 247.185 L1494.93 280.362 L1505.21 315.049 L1511.18 350.729 L1512.76 386.871 L1509.92 422.937 L1502.71 458.387 L1491.23 492.694 L1475.65 525.347 L1456.22 555.858 L1433.2 583.773 L1406.96 608.675 L1377.88 630.194 L1346.39 648.008 L1312.97 661.853 L1278.11 671.52 L1242.33 676.868 L1206.17 677.815 L1170.16 674.347 L1134.84 666.517 L1100.74 654.441 L1068.36 638.299 L1038.19 618.332 L1010.68 594.837 L986.244 568.165 L965.236 538.713 L947.974 506.92 L934.715 473.261 L925.657 438.236 L920.935 402.369 L920.619 366.194 L924.715 330.249 L933.16 295.072 L945.829 261.186 L962.534 229.097 L983.024 199.283 L1007 172.188 L1034.09 148.217 L1063.9 127.726 L1095.99 111.022 L1129.88 98.3524 L1165.06 89.9071 L1201 85.8117 L1216.51 85.4057  Z\" fill=\"#009af9\" fill-rule=\"evenodd\" fill-opacity=\"0.1\"/>\n",
       "<polyline clip-path=\"url(#clip752)\" style=\"stroke:#000000; stroke-linecap:round; stroke-linejoin:round; stroke-width:4; stroke-opacity:0.1; fill:none\" points=\"1216.51,85.4057 1252.62,87.6142 1288.19,94.2069 1322.69,105.085 1355.61,120.088 1386.46,138.99 1414.77,161.511 1440.12,187.314 1462.15,216.014 1480.51,247.185 1494.93,280.362 1505.21,315.049 1511.18,350.729 1512.76,386.871 1509.92,422.937 1502.71,458.387 1491.23,492.694 1475.65,525.347 1456.22,555.858 1433.2,583.773 1406.96,608.675 1377.88,630.194 1346.39,648.008 1312.97,661.853 1278.11,671.52 1242.33,676.868 1206.17,677.815 1170.16,674.347 1134.84,666.517 1100.74,654.441 1068.36,638.299 1038.19,618.332 1010.68,594.837 986.244,568.165 965.236,538.713 947.974,506.92 934.715,473.261 925.657,438.236 920.935,402.369 920.619,366.194 924.715,330.249 933.16,295.072 945.829,261.186 962.534,229.097 983.024,199.283 1007,172.188 1034.09,148.217 1063.9,127.726 1095.99,111.022 1129.88,98.3524 1165.06,89.9071 1201,85.8117 1216.51,85.4057 \"/>\n",
       "<polyline clip-path=\"url(#clip752)\" style=\"stroke:#3da44d; stroke-linecap:round; stroke-linejoin:round; stroke-width:4; stroke-opacity:1; fill:none\" points=\"179.476,381.7 1216.51,72.5173 \"/>\n",
       "<polyline clip-path=\"url(#clip752)\" style=\"stroke:#e26f46; stroke-linecap:round; stroke-linejoin:round; stroke-width:4; stroke-opacity:1; fill:none\" points=\"1216.51,381.7 1131.85,97.7568 \"/>\n",
       "<polyline clip-path=\"url(#clip752)\" style=\"stroke:#e26f46; stroke-linecap:round; stroke-linejoin:round; stroke-width:4; stroke-opacity:1; fill:none\" points=\"1216.51,381.7 1216.51,85.4057 \"/>\n",
       "<polyline clip-path=\"url(#clip752)\" style=\"stroke:#009af9; stroke-linecap:round; stroke-linejoin:round; stroke-width:4; stroke-opacity:1; fill:none\" points=\"179.476,381.7 1216.51,381.7 \"/>\n",
       "<circle clip-path=\"url(#clip752)\" cx=\"1216.51\" cy=\"381.7\" r=\"14.4\" fill=\"#009af9\" fill-rule=\"evenodd\" fill-opacity=\"1\" stroke=\"#000000\" stroke-opacity=\"1\" stroke-width=\"1.6\"/>\n",
       "<path clip-path=\"url(#clip750)\" d=\"M186.587 224.626 L348.725 224.626 L348.725 69.1056 L186.587 69.1056  Z\" fill=\"#ffffff\" fill-rule=\"evenodd\" fill-opacity=\"1\"/>\n",
       "<polyline clip-path=\"url(#clip750)\" style=\"stroke:#000000; stroke-linecap:round; stroke-linejoin:round; stroke-width:4; stroke-opacity:1; fill:none\" points=\"186.587,224.626 348.725,224.626 348.725,69.1056 186.587,69.1056 186.587,224.626 \"/>\n",
       "<polyline clip-path=\"url(#clip750)\" style=\"stroke:#e26f46; stroke-linecap:round; stroke-linejoin:round; stroke-width:4; stroke-opacity:1; fill:none\" points=\"202.29,120.946 296.509,120.946 \"/>\n",
       "<path clip-path=\"url(#clip750)\" d=\"M327.397 116.281 Q326.679 115.865 325.823 115.679 Q324.99 115.471 323.971 115.471 Q320.36 115.471 318.416 117.832 Q316.494 120.17 316.494 124.568 L316.494 138.226 L312.212 138.226 L312.212 112.3 L316.494 112.3 L316.494 116.328 Q317.837 113.966 319.99 112.832 Q322.142 111.675 325.221 111.675 Q325.661 111.675 326.193 111.744 Q326.726 111.791 327.374 111.906 L327.397 116.281 Z\" fill=\"#000000\" fill-rule=\"evenodd\" fill-opacity=\"1\" /><polyline clip-path=\"url(#clip750)\" style=\"stroke:#009af9; stroke-linecap:round; stroke-linejoin:round; stroke-width:4; stroke-opacity:1; fill:none\" points=\"202.29,172.786 296.509,172.786 \"/>\n",
       "<path clip-path=\"url(#clip750)\" d=\"M312.791 164.14 L333.022 164.14 L333.022 168.029 L317.004 186.663 L333.022 186.663 L333.022 190.066 L312.212 190.066 L312.212 186.177 L328.23 167.543 L312.791 167.543 L312.791 164.14 Z\" fill=\"#000000\" fill-rule=\"evenodd\" fill-opacity=\"1\" /></svg>\n"
      ]
     },
     "execution_count": 5,
     "metadata": {},
     "output_type": "execute_result"
    }
   ],
   "source": [
    "z  = 7.0\n",
    "r  = 2.0\n",
    "a  = atan(r/sqrt(z^2 - r^2))\n",
    "x  = z/(tan(a)^2 + 1)\n",
    "r′ = tan(a)* z/sqrt(tan(a)^2 + 1)\n",
    "# -------------------------\n",
    "plot(size=(400,200), aspect_ratio=:equal)\n",
    "plot!(circle(z,0, r), c=col[1], alpha=.1, label=nothing)\n",
    "plot!([0,z],[0, tan(a)*z], c=col[3], label=nothing)\n",
    "plot!([z,x],[0, tan(a)*x], c=col[2], label=\"r\")\n",
    "plot!([z,z],[0, r′], c=col[2], label=nothing)\n",
    "plot!([0,z],[0, 0], c=col[1], label=\"z\")\n",
    "scatter!([z],[0], c=col[1], label=nothing)"
   ]
  },
  {
   "cell_type": "code",
   "execution_count": null,
   "id": "f94c80f9",
   "metadata": {},
   "outputs": [],
   "source": []
  }
 ],
 "metadata": {
  "kernelspec": {
   "display_name": "Julia 1.8.5",
   "language": "julia",
   "name": "julia-1.8"
  },
  "language_info": {
   "file_extension": ".jl",
   "mimetype": "application/julia",
   "name": "julia",
   "version": "1.8.5"
  },
  "toc": {
   "base_numbering": 1,
   "nav_menu": {},
   "number_sections": true,
   "sideBar": true,
   "skip_h1_title": false,
   "title_cell": "Table of Contents",
   "title_sidebar": "Contents",
   "toc_cell": false,
   "toc_position": {},
   "toc_section_display": true,
   "toc_window_display": false
  }
 },
 "nbformat": 4,
 "nbformat_minor": 5
}
