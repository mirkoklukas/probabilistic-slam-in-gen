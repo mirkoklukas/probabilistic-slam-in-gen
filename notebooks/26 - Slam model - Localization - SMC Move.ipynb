{
 "cells": [
  {
   "cell_type": "markdown",
   "id": "34e68de1",
   "metadata": {},
   "source": [
    "# Localization - Line Map - SMC Move"
   ]
  },
  {
   "cell_type": "code",
   "execution_count": 1,
   "id": "478276ec",
   "metadata": {},
   "outputs": [
    {
     "data": {
      "text/html": [
       "<style>.rendered_html.text_cell_render {max-width:700px; }</style>"
      ],
      "text/plain": [
       "HTML{String}(\"<style>.rendered_html.text_cell_render {max-width:700px; }</style>\")"
      ]
     },
     "metadata": {},
     "output_type": "display_data"
    }
   ],
   "source": [
    "display(HTML(\"<style>.rendered_html.text_cell_render {max-width:700px; }</style>\"));"
   ]
  },
  {
   "cell_type": "code",
   "execution_count": 53,
   "id": "a02a09a7",
   "metadata": {},
   "outputs": [],
   "source": [
    "#nbx\n",
    "push!(LOAD_PATH, \"src\");\n",
    "using BenchmarkTools;\n",
    "using Colors, Plots;\n",
    "col = palette(:default);\n",
    "(cgrad::PlotUtils.ContinuousColorGradient)(xs::Vector{Vector{Float64}}) = [cgrad[x] for x in xs];\n",
    "(cgrad::PlotUtils.ContinuousColorGradient)(m::Matrix{Float64}) = reshape(cgrad[m[:]], size(m));\n",
    "using Gen\n",
    "using GridSlam\n",
    "using Geometry\n",
    "using MyUtils\n",
    "\n",
    "Base.Vector(p::Pose) = [p.x;p.hd]\n",
    "\n",
    "GridSlam.Pose(x::Vector{Float64}) = Pose(x[1:2], x[3])"
   ]
  },
  {
   "cell_type": "code",
   "execution_count": 3,
   "id": "d82cdc4e",
   "metadata": {},
   "outputs": [
    {
     "name": "stdout",
     "output_type": "stream",
     "text": [
      "Loading `data/data_3.jld2` ...\n",
      "\n",
      "\t_segs \tVector{Segment}\n",
      "\t_xs \tVector{Vector{Float64}}\n",
      "\t_hds \tVector{Float64}\n",
      "\t_ps \tVector{Pose}\n",
      "\t_dxs \tVector{Vector{Float64}}\n",
      "\t_dhds \tVector{Float64}\n",
      "\t_us \tVector{Tuple{Vector{Float64}, Float64}}\n",
      "\t_as \tVector{Float64}\n",
      "\t_zs \tVector{Any}\n",
      "\t_ss \tVector{Vector{Measurement}}\n",
      "\t_fov \tFloat64\n",
      "\t_zmax \tInt64\n",
      "\t_T \tInt64\n",
      "\n",
      "To take a look call `glimpse_at_data(_segs, _ps, _ss)`\n"
     ]
    },
    {
     "data": {
      "text/plain": [
       "glimpse_at_data (generic function with 2 methods)"
      ]
     },
     "execution_count": 3,
     "metadata": {},
     "output_type": "execute_result"
    }
   ],
   "source": [
    "include(\"src/unpack_data.jl\")"
   ]
  },
  {
   "cell_type": "code",
   "execution_count": 4,
   "id": "38303c44",
   "metadata": {},
   "outputs": [
    {
     "data": {
      "text/plain": [
       "(360.0, 360, 20, true, true)"
      ]
     },
     "execution_count": 4,
     "metadata": {},
     "output_type": "execute_result"
    }
   ],
   "source": [
    "_fov/2π*360, length(_as), _zmax, _as[1] != _as[end], _zs[1] != _zs[end]"
   ]
  },
  {
   "cell_type": "code",
   "execution_count": 5,
   "id": "b1be1dd1",
   "metadata": {},
   "outputs": [],
   "source": [
    "include(\"src/slam_stuff_and_utils.jl\");\n",
    "include(\"src/pose_prior_model.jl\");\n",
    "include(\"src/motion_model.jl\");"
   ]
  },
  {
   "cell_type": "code",
   "execution_count": 6,
   "id": "bb9a9cd9",
   "metadata": {},
   "outputs": [],
   "source": [
    "function Plots.plot!(p::Pose; r=0.5, args...)\n",
    "    plot!([p.x, p.x + r*unit_vec(p.hd)]; args...)\n",
    "end\n",
    "\n",
    "function Plots.plot!(ps::Vector{Pose}, cs::Vector{RGBA{Float64}}; r=0.5, args...)\n",
    "    for (p,c) in zip(ps,cs)\n",
    "        plot!([p.x, p.x + r*unit_vec(p.hd)];c=c, args...)\n",
    "    end\n",
    "end\n",
    "\n",
    "function Plots.plot!(ps::Vector{Pose}; r=0.5, args...)\n",
    "    for p in ps\n",
    "        plot!([p.x, p.x + r*unit_vec(p.hd)];args...)\n",
    "    end\n",
    "end"
   ]
  },
  {
   "cell_type": "markdown",
   "id": "aaa3ec2e",
   "metadata": {},
   "source": [
    "## SMC - Move"
   ]
  },
  {
   "cell_type": "code",
   "execution_count": 7,
   "id": "12764146",
   "metadata": {},
   "outputs": [],
   "source": [
    "using CUDA"
   ]
  },
  {
   "cell_type": "markdown",
   "id": "dfc01a95",
   "metadata": {},
   "source": [
    "### logsumexp"
   ]
  },
  {
   "cell_type": "code",
   "execution_count": 8,
   "id": "effd724c",
   "metadata": {},
   "outputs": [
    {
     "data": {
      "text/plain": [
       "logsumexp_cu (generic function with 1 method)"
      ]
     },
     "execution_count": 8,
     "metadata": {},
     "output_type": "execute_result"
    }
   ],
   "source": [
    "function logsumexp_cu(x, dim)\n",
    "    c = maximum(x)\n",
    "    return c .+ log.(sum(exp.(x .- c), dims=dim))\n",
    "end"
   ]
  },
  {
   "cell_type": "markdown",
   "id": "e1369cfc",
   "metadata": {},
   "source": [
    "### raycast"
   ]
  },
  {
   "cell_type": "code",
   "execution_count": 9,
   "id": "b8e3e235",
   "metadata": {},
   "outputs": [
    {
     "data": {
      "text/plain": [
       "cast_cu (generic function with 1 method)"
      ]
     },
     "execution_count": 9,
     "metadata": {},
     "output_type": "execute_result"
    }
   ],
   "source": [
    "include(\"src/cuda_raycaster_line_map.jl\");\n",
    "\n",
    "segs_ = CuArray(stack(Vector.(_segs)))\n",
    "\n",
    "# Todo: Change cast_v4! signature and put z_ in there \n",
    "#       and replace arg by num_a and fov....\n",
    "function cast_cu(ps_::CuArray; blockdims=(16,16))\n",
    "    n = size(segs_, 1)    \n",
    "    m = size(ps_,1)\n",
    "    z_ = Inf*CUDA.ones(m, n, 360)\n",
    "    z_ = cast_v4!(segs_,ps_,z_; blockdims=blockdims)\n",
    "    \n",
    "    return z_\n",
    "end"
   ]
  },
  {
   "cell_type": "markdown",
   "id": "5970980c",
   "metadata": {},
   "source": [
    "### Pose grid"
   ]
  },
  {
   "cell_type": "code",
   "execution_count": 10,
   "id": "e0076570",
   "metadata": {},
   "outputs": [
    {
     "data": {
      "text/plain": [
       "pose_grid (generic function with 1 method)"
      ]
     },
     "execution_count": 10,
     "metadata": {},
     "output_type": "execute_result"
    }
   ],
   "source": [
    "function pose_grid(p, k, delta_x, delta_hd)\n",
    "\n",
    "    dx1_ = CUDA.collect(CUDA.range(-delta_x,  delta_x, k))\n",
    "    dx2_ = CUDA.collect(CUDA.range(-delta_x,  delta_x, k))\n",
    "    dhd_ = CUDA.collect(CUDA.range(-delta_hd/360*π, delta_hd/360*π,k))\n",
    "    dx1_ = CuArray(dx1_)\n",
    "    dx2_ = CuArray(dx2_)\n",
    "    dhd_ = CuArray(dhd_)\n",
    "    dx1_ = CUDA.repeat(dx1_,  1, k, k)\n",
    "    dx2_ = CUDA.repeat(reshape(dx2_,1,k,1), k, 1, k)\n",
    "    dhd_ = CUDA.repeat(reshape(dhd_,1,1,k), k, k, 1)\n",
    "\n",
    "    ps_ = CUDA.cat(dx1_,dx2_, dhd_, dims=4)\n",
    "    ps_ = reshape(ps_, :,3)\n",
    "    ps_ = ps_ .+ reshape(CuArray(Vector(p)),1,3)\n",
    "    return ps_\n",
    "end"
   ]
  },
  {
   "cell_type": "code",
   "execution_count": 11,
   "id": "07f3328d",
   "metadata": {},
   "outputs": [
    {
     "name": "stdout",
     "output_type": "stream",
     "text": [
      "ps_: (1000, 3)\n",
      "  170.397 μs (396 allocations: 20.44 KiB)\n"
     ]
    }
   ],
   "source": [
    "p = _ps[1]\n",
    "delta_x  = 0.5\n",
    "delta_hd = 10\n",
    "k = 10\n",
    "ps_ = pose_grid(p,k,delta_x,delta_hd);\n",
    "println(\"ps_: $(size(ps_))\")\n",
    "@btime pose_grid($p,$k,$delta_x,$delta_hd) samples=3 evals=3;"
   ]
  },
  {
   "cell_type": "markdown",
   "id": "967ee973",
   "metadata": {},
   "source": [
    "```julia\n",
    "ps_: (1000, 3)\n",
    "  158.146 μs (396 allocations: 20.44 KiB)\n",
    "```"
   ]
  },
  {
   "cell_type": "code",
   "execution_count": 12,
   "id": "d7938e88",
   "metadata": {},
   "outputs": [
    {
     "data": {
      "image/svg+xml": [
       "<?xml version=\"1.0\" encoding=\"utf-8\"?>\n",
       "<svg xmlns=\"http://www.w3.org/2000/svg\" xmlns:xlink=\"http://www.w3.org/1999/xlink\" width=\"200\" height=\"200\" viewBox=\"0 0 800 800\">\n",
       "<defs>\n",
       "  <clipPath id=\"clip870\">\n",
       "    <rect x=\"0\" y=\"0\" width=\"800\" height=\"800\"/>\n",
       "  </clipPath>\n",
       "</defs>\n",
       "<path clip-path=\"url(#clip870)\" d=\"M0 800 L800 800 L800 0 L0 0  Z\" fill=\"#ffffff\" fill-rule=\"evenodd\" fill-opacity=\"1\"/>\n",
       "<defs>\n",
       "  <clipPath id=\"clip871\">\n",
       "    <rect x=\"160\" y=\"80\" width=\"561\" height=\"561\"/>\n",
       "  </clipPath>\n",
       "</defs>\n",
       "<path clip-path=\"url(#clip870)\" d=\"M198.353 677.168 L752.756 677.168 L752.756 47.2441 L198.353 47.2441  Z\" fill=\"#ffffff\" fill-rule=\"evenodd\" fill-opacity=\"1\"/>\n",
       "<defs>\n",
       "  <clipPath id=\"clip872\">\n",
       "    <rect x=\"198\" y=\"47\" width=\"555\" height=\"631\"/>\n",
       "  </clipPath>\n",
       "</defs>\n",
       "<polyline clip-path=\"url(#clip872)\" style=\"stroke:#000000; stroke-linecap:round; stroke-linejoin:round; stroke-width:2; stroke-opacity:0.1; fill:none\" points=\"282.356,677.168 282.356,47.2441 \"/>\n",
       "<polyline clip-path=\"url(#clip872)\" style=\"stroke:#000000; stroke-linecap:round; stroke-linejoin:round; stroke-width:2; stroke-opacity:0.1; fill:none\" points=\"401.274,677.168 401.274,47.2441 \"/>\n",
       "<polyline clip-path=\"url(#clip872)\" style=\"stroke:#000000; stroke-linecap:round; stroke-linejoin:round; stroke-width:2; stroke-opacity:0.1; fill:none\" points=\"520.192,677.168 520.192,47.2441 \"/>\n",
       "<polyline clip-path=\"url(#clip872)\" style=\"stroke:#000000; stroke-linecap:round; stroke-linejoin:round; stroke-width:2; stroke-opacity:0.1; fill:none\" points=\"639.111,677.168 639.111,47.2441 \"/>\n",
       "<polyline clip-path=\"url(#clip870)\" style=\"stroke:#000000; stroke-linecap:round; stroke-linejoin:round; stroke-width:4; stroke-opacity:1; fill:none\" points=\"198.353,677.168 752.756,677.168 \"/>\n",
       "<polyline clip-path=\"url(#clip870)\" style=\"stroke:#000000; stroke-linecap:round; stroke-linejoin:round; stroke-width:4; stroke-opacity:1; fill:none\" points=\"282.356,677.168 282.356,658.27 \"/>\n",
       "<polyline clip-path=\"url(#clip870)\" style=\"stroke:#000000; stroke-linecap:round; stroke-linejoin:round; stroke-width:4; stroke-opacity:1; fill:none\" points=\"401.274,677.168 401.274,658.27 \"/>\n",
       "<polyline clip-path=\"url(#clip870)\" style=\"stroke:#000000; stroke-linecap:round; stroke-linejoin:round; stroke-width:4; stroke-opacity:1; fill:none\" points=\"520.192,677.168 520.192,658.27 \"/>\n",
       "<polyline clip-path=\"url(#clip870)\" style=\"stroke:#000000; stroke-linecap:round; stroke-linejoin:round; stroke-width:4; stroke-opacity:1; fill:none\" points=\"639.111,677.168 639.111,658.27 \"/>\n",
       "<path clip-path=\"url(#clip870)\" d=\"M219.347 722.833 L226.986 722.833 L226.986 696.467 L218.675 698.134 L218.675 693.875 L226.939 692.208 L231.615 692.208 L231.615 722.833 L239.254 722.833 L239.254 726.768 L219.347 726.768 L219.347 722.833 Z\" fill=\"#000000\" fill-rule=\"evenodd\" fill-opacity=\"1\" /><path clip-path=\"url(#clip870)\" d=\"M261.546 696.282 L249.74 714.731 L261.546 714.731 L261.546 696.282 M260.319 692.208 L266.198 692.208 L266.198 714.731 L271.129 714.731 L271.129 718.62 L266.198 718.62 L266.198 726.768 L261.546 726.768 L261.546 718.62 L245.944 718.62 L245.944 714.106 L260.319 692.208 Z\" fill=\"#000000\" fill-rule=\"evenodd\" fill-opacity=\"1\" /><path clip-path=\"url(#clip870)\" d=\"M278.86 720.888 L283.744 720.888 L283.744 726.768 L278.86 726.768 L278.86 720.888 Z\" fill=\"#000000\" fill-rule=\"evenodd\" fill-opacity=\"1\" /><path clip-path=\"url(#clip870)\" d=\"M293.976 692.208 L312.332 692.208 L312.332 696.143 L298.258 696.143 L298.258 704.615 Q299.277 704.268 300.295 704.106 Q301.314 703.921 302.332 703.921 Q308.119 703.921 311.499 707.092 Q314.879 710.263 314.879 715.68 Q314.879 721.259 311.406 724.36 Q307.934 727.439 301.615 727.439 Q299.439 727.439 297.17 727.069 Q294.925 726.698 292.518 725.958 L292.518 721.259 Q294.601 722.393 296.823 722.948 Q299.045 723.504 301.522 723.504 Q305.527 723.504 307.865 721.398 Q310.203 719.291 310.203 715.68 Q310.203 712.069 307.865 709.962 Q305.527 707.856 301.522 707.856 Q299.647 707.856 297.772 708.273 Q295.92 708.689 293.976 709.569 L293.976 692.208 Z\" fill=\"#000000\" fill-rule=\"evenodd\" fill-opacity=\"1\" /><path clip-path=\"url(#clip870)\" d=\"M334.091 695.287 Q330.48 695.287 328.652 698.851 Q326.846 702.393 326.846 709.523 Q326.846 716.629 328.652 720.194 Q330.48 723.735 334.091 723.735 Q337.726 723.735 339.531 720.194 Q341.36 716.629 341.36 709.523 Q341.36 702.393 339.531 698.851 Q337.726 695.287 334.091 695.287 M334.091 691.583 Q339.902 691.583 342.957 696.189 Q346.036 700.773 346.036 709.523 Q346.036 718.249 342.957 722.856 Q339.902 727.439 334.091 727.439 Q328.281 727.439 325.203 722.856 Q322.147 718.249 322.147 709.523 Q322.147 700.773 325.203 696.189 Q328.281 691.583 334.091 691.583 Z\" fill=\"#000000\" fill-rule=\"evenodd\" fill-opacity=\"1\" /><path clip-path=\"url(#clip870)\" d=\"M338.763 722.833 L346.402 722.833 L346.402 696.467 L338.091 698.134 L338.091 693.875 L346.355 692.208 L351.031 692.208 L351.031 722.833 L358.67 722.833 L358.67 726.768 L338.763 726.768 L338.763 722.833 Z\" fill=\"#000000\" fill-rule=\"evenodd\" fill-opacity=\"1\" /><path clip-path=\"url(#clip870)\" d=\"M380.962 696.282 L369.156 714.731 L380.962 714.731 L380.962 696.282 M379.735 692.208 L385.614 692.208 L385.614 714.731 L390.545 714.731 L390.545 718.62 L385.614 718.62 L385.614 726.768 L380.962 726.768 L380.962 718.62 L365.36 718.62 L365.36 714.106 L379.735 692.208 Z\" fill=\"#000000\" fill-rule=\"evenodd\" fill-opacity=\"1\" /><path clip-path=\"url(#clip870)\" d=\"M398.276 720.888 L403.16 720.888 L403.16 726.768 L398.276 726.768 L398.276 720.888 Z\" fill=\"#000000\" fill-rule=\"evenodd\" fill-opacity=\"1\" /><path clip-path=\"url(#clip870)\" d=\"M412.165 692.208 L434.387 692.208 L434.387 694.199 L421.841 726.768 L416.957 726.768 L428.762 696.143 L412.165 696.143 L412.165 692.208 Z\" fill=\"#000000\" fill-rule=\"evenodd\" fill-opacity=\"1\" /><path clip-path=\"url(#clip870)\" d=\"M443.554 692.208 L461.91 692.208 L461.91 696.143 L447.836 696.143 L447.836 704.615 Q448.855 704.268 449.873 704.106 Q450.892 703.921 451.91 703.921 Q457.697 703.921 461.077 707.092 Q464.456 710.263 464.456 715.68 Q464.456 721.259 460.984 724.36 Q457.512 727.439 451.193 727.439 Q449.017 727.439 446.748 727.069 Q444.503 726.698 442.095 725.958 L442.095 721.259 Q444.179 722.393 446.401 722.948 Q448.623 723.504 451.1 723.504 Q455.105 723.504 457.443 721.398 Q459.781 719.291 459.781 715.68 Q459.781 712.069 457.443 709.962 Q455.105 707.856 451.1 707.856 Q449.225 707.856 447.35 708.273 Q445.498 708.689 443.554 709.569 L443.554 692.208 Z\" fill=\"#000000\" fill-rule=\"evenodd\" fill-opacity=\"1\" /><path clip-path=\"url(#clip870)\" d=\"M457.183 722.833 L464.822 722.833 L464.822 696.467 L456.512 698.134 L456.512 693.875 L464.776 692.208 L469.452 692.208 L469.452 722.833 L477.091 722.833 L477.091 726.768 L457.183 726.768 L457.183 722.833 Z\" fill=\"#000000\" fill-rule=\"evenodd\" fill-opacity=\"1\" /><path clip-path=\"url(#clip870)\" d=\"M486.581 692.208 L504.938 692.208 L504.938 696.143 L490.864 696.143 L490.864 704.615 Q491.882 704.268 492.901 704.106 Q493.919 703.921 494.938 703.921 Q500.725 703.921 504.104 707.092 Q507.484 710.263 507.484 715.68 Q507.484 721.259 504.012 724.36 Q500.54 727.439 494.22 727.439 Q492.044 727.439 489.776 727.069 Q487.53 726.698 485.123 725.958 L485.123 721.259 Q487.206 722.393 489.428 722.948 Q491.651 723.504 494.128 723.504 Q498.132 723.504 500.47 721.398 Q502.808 719.291 502.808 715.68 Q502.808 712.069 500.47 709.962 Q498.132 707.856 494.128 707.856 Q492.253 707.856 490.378 708.273 Q488.526 708.689 486.581 709.569 L486.581 692.208 Z\" fill=\"#000000\" fill-rule=\"evenodd\" fill-opacity=\"1\" /><path clip-path=\"url(#clip870)\" d=\"M516.697 720.888 L521.581 720.888 L521.581 726.768 L516.697 726.768 L516.697 720.888 Z\" fill=\"#000000\" fill-rule=\"evenodd\" fill-opacity=\"1\" /><path clip-path=\"url(#clip870)\" d=\"M541.766 695.287 Q538.155 695.287 536.326 698.851 Q534.521 702.393 534.521 709.523 Q534.521 716.629 536.326 720.194 Q538.155 723.735 541.766 723.735 Q545.4 723.735 547.206 720.194 Q549.035 716.629 549.035 709.523 Q549.035 702.393 547.206 698.851 Q545.4 695.287 541.766 695.287 M541.766 691.583 Q547.576 691.583 550.632 696.189 Q553.711 700.773 553.711 709.523 Q553.711 718.249 550.632 722.856 Q547.576 727.439 541.766 727.439 Q535.956 727.439 532.877 722.856 Q529.822 718.249 529.822 709.523 Q529.822 700.773 532.877 696.189 Q535.956 691.583 541.766 691.583 Z\" fill=\"#000000\" fill-rule=\"evenodd\" fill-opacity=\"1\" /><path clip-path=\"url(#clip870)\" d=\"M571.928 695.287 Q568.317 695.287 566.488 698.851 Q564.683 702.393 564.683 709.523 Q564.683 716.629 566.488 720.194 Q568.317 723.735 571.928 723.735 Q575.562 723.735 577.368 720.194 Q579.197 716.629 579.197 709.523 Q579.197 702.393 577.368 698.851 Q575.562 695.287 571.928 695.287 M571.928 691.583 Q577.738 691.583 580.794 696.189 Q583.872 700.773 583.872 709.523 Q583.872 718.249 580.794 722.856 Q577.738 727.439 571.928 727.439 Q566.118 727.439 563.039 722.856 Q559.984 718.249 559.984 709.523 Q559.984 700.773 563.039 696.189 Q566.118 691.583 571.928 691.583 Z\" fill=\"#000000\" fill-rule=\"evenodd\" fill-opacity=\"1\" /><path clip-path=\"url(#clip870)\" d=\"M576.599 722.833 L584.238 722.833 L584.238 696.467 L575.928 698.134 L575.928 693.875 L584.192 692.208 L588.868 692.208 L588.868 722.833 L596.507 722.833 L596.507 726.768 L576.599 726.768 L576.599 722.833 Z\" fill=\"#000000\" fill-rule=\"evenodd\" fill-opacity=\"1\" /><path clip-path=\"url(#clip870)\" d=\"M605.997 692.208 L624.354 692.208 L624.354 696.143 L610.28 696.143 L610.28 704.615 Q611.298 704.268 612.317 704.106 Q613.335 703.921 614.354 703.921 Q620.141 703.921 623.52 707.092 Q626.9 710.263 626.9 715.68 Q626.9 721.259 623.428 724.36 Q619.956 727.439 613.636 727.439 Q611.46 727.439 609.192 727.069 Q606.946 726.698 604.539 725.958 L604.539 721.259 Q606.622 722.393 608.844 722.948 Q611.067 723.504 613.544 723.504 Q617.548 723.504 619.886 721.398 Q622.224 719.291 622.224 715.68 Q622.224 712.069 619.886 709.962 Q617.548 707.856 613.544 707.856 Q611.669 707.856 609.794 708.273 Q607.942 708.689 605.997 709.569 L605.997 692.208 Z\" fill=\"#000000\" fill-rule=\"evenodd\" fill-opacity=\"1\" /><path clip-path=\"url(#clip870)\" d=\"M636.113 720.888 L640.997 720.888 L640.997 726.768 L636.113 726.768 L636.113 720.888 Z\" fill=\"#000000\" fill-rule=\"evenodd\" fill-opacity=\"1\" /><path clip-path=\"url(#clip870)\" d=\"M655.21 722.833 L671.529 722.833 L671.529 726.768 L649.585 726.768 L649.585 722.833 Q652.247 720.078 656.83 715.448 Q661.437 710.796 662.617 709.453 Q664.863 706.93 665.742 705.194 Q666.645 703.435 666.645 701.745 Q666.645 698.99 664.701 697.254 Q662.779 695.518 659.678 695.518 Q657.478 695.518 655.025 696.282 Q652.594 697.046 649.816 698.597 L649.816 693.875 Q652.641 692.74 655.094 692.162 Q657.548 691.583 659.585 691.583 Q664.955 691.583 668.15 694.268 Q671.344 696.953 671.344 701.444 Q671.344 703.574 670.534 705.495 Q669.747 707.393 667.64 709.986 Q667.062 710.657 663.96 713.874 Q660.858 717.069 655.21 722.833 Z\" fill=\"#000000\" fill-rule=\"evenodd\" fill-opacity=\"1\" /><path clip-path=\"url(#clip870)\" d=\"M681.39 692.208 L699.747 692.208 L699.747 696.143 L685.673 696.143 L685.673 704.615 Q686.691 704.268 687.71 704.106 Q688.728 703.921 689.747 703.921 Q695.534 703.921 698.913 707.092 Q702.293 710.263 702.293 715.68 Q702.293 721.259 698.821 724.36 Q695.349 727.439 689.029 727.439 Q686.853 727.439 684.585 727.069 Q682.339 726.698 679.932 725.958 L679.932 721.259 Q682.015 722.393 684.238 722.948 Q686.46 723.504 688.937 723.504 Q692.941 723.504 695.279 721.398 Q697.617 719.291 697.617 715.68 Q697.617 712.069 695.279 709.962 Q692.941 707.856 688.937 707.856 Q687.062 707.856 685.187 708.273 Q683.335 708.689 681.39 709.569 L681.39 692.208 Z\" fill=\"#000000\" fill-rule=\"evenodd\" fill-opacity=\"1\" /><polyline clip-path=\"url(#clip872)\" style=\"stroke:#000000; stroke-linecap:round; stroke-linejoin:round; stroke-width:2; stroke-opacity:0.1; fill:none\" points=\"198.353,560.709 752.756,560.709 \"/>\n",
       "<polyline clip-path=\"url(#clip872)\" style=\"stroke:#000000; stroke-linecap:round; stroke-linejoin:round; stroke-width:2; stroke-opacity:0.1; fill:none\" points=\"198.353,422.453 752.756,422.453 \"/>\n",
       "<polyline clip-path=\"url(#clip872)\" style=\"stroke:#000000; stroke-linecap:round; stroke-linejoin:round; stroke-width:2; stroke-opacity:0.1; fill:none\" points=\"198.353,284.196 752.756,284.196 \"/>\n",
       "<polyline clip-path=\"url(#clip872)\" style=\"stroke:#000000; stroke-linecap:round; stroke-linejoin:round; stroke-width:2; stroke-opacity:0.1; fill:none\" points=\"198.353,145.94 752.756,145.94 \"/>\n",
       "<polyline clip-path=\"url(#clip870)\" style=\"stroke:#000000; stroke-linecap:round; stroke-linejoin:round; stroke-width:4; stroke-opacity:1; fill:none\" points=\"198.353,677.168 198.353,47.2441 \"/>\n",
       "<polyline clip-path=\"url(#clip870)\" style=\"stroke:#000000; stroke-linecap:round; stroke-linejoin:round; stroke-width:4; stroke-opacity:1; fill:none\" points=\"198.353,560.709 217.25,560.709 \"/>\n",
       "<polyline clip-path=\"url(#clip870)\" style=\"stroke:#000000; stroke-linecap:round; stroke-linejoin:round; stroke-width:4; stroke-opacity:1; fill:none\" points=\"198.353,422.453 217.25,422.453 \"/>\n",
       "<polyline clip-path=\"url(#clip870)\" style=\"stroke:#000000; stroke-linecap:round; stroke-linejoin:round; stroke-width:4; stroke-opacity:1; fill:none\" points=\"198.353,284.196 217.25,284.196 \"/>\n",
       "<polyline clip-path=\"url(#clip870)\" style=\"stroke:#000000; stroke-linecap:round; stroke-linejoin:round; stroke-width:4; stroke-opacity:1; fill:none\" points=\"198.353,145.94 217.25,145.94 \"/>\n",
       "<path clip-path=\"url(#clip870)\" d=\"M59.6634 574.054 L67.3023 574.054 L67.3023 547.688 L58.9921 549.355 L58.9921 545.095 L67.256 543.429 L71.9319 543.429 L71.9319 574.054 L79.5707 574.054 L79.5707 577.989 L59.6634 577.989 L59.6634 574.054 Z\" fill=\"#000000\" fill-rule=\"evenodd\" fill-opacity=\"1\" /><path clip-path=\"url(#clip870)\" d=\"M101.862 547.503 L90.0568 565.952 L101.862 565.952 L101.862 547.503 M100.635 543.429 L106.515 543.429 L106.515 565.952 L111.446 565.952 L111.446 569.841 L106.515 569.841 L106.515 577.989 L101.862 577.989 L101.862 569.841 L86.2605 569.841 L86.2605 565.327 L100.635 543.429 Z\" fill=\"#000000\" fill-rule=\"evenodd\" fill-opacity=\"1\" /><path clip-path=\"url(#clip870)\" d=\"M119.177 572.109 L124.061 572.109 L124.061 577.989 L119.177 577.989 L119.177 572.109 Z\" fill=\"#000000\" fill-rule=\"evenodd\" fill-opacity=\"1\" /><path clip-path=\"url(#clip870)\" d=\"M144.246 546.507 Q140.635 546.507 138.807 550.072 Q137.001 553.614 137.001 560.743 Q137.001 567.85 138.807 571.415 Q140.635 574.956 144.246 574.956 Q147.881 574.956 149.686 571.415 Q151.515 567.85 151.515 560.743 Q151.515 553.614 149.686 550.072 Q147.881 546.507 144.246 546.507 M144.246 542.804 Q150.056 542.804 153.112 547.41 Q156.191 551.994 156.191 560.743 Q156.191 569.47 153.112 574.077 Q150.056 578.66 144.246 578.66 Q138.436 578.66 135.357 574.077 Q132.302 569.47 132.302 560.743 Q132.302 551.994 135.357 547.41 Q138.436 542.804 144.246 542.804 Z\" fill=\"#000000\" fill-rule=\"evenodd\" fill-opacity=\"1\" /><path clip-path=\"url(#clip870)\" d=\"M174.408 546.507 Q170.797 546.507 168.968 550.072 Q167.163 553.614 167.163 560.743 Q167.163 567.85 168.968 571.415 Q170.797 574.956 174.408 574.956 Q178.042 574.956 179.848 571.415 Q181.677 567.85 181.677 560.743 Q181.677 553.614 179.848 550.072 Q178.042 546.507 174.408 546.507 M174.408 542.804 Q180.218 542.804 183.274 547.41 Q186.353 551.994 186.353 560.743 Q186.353 569.47 183.274 574.077 Q180.218 578.66 174.408 578.66 Q168.598 578.66 165.519 574.077 Q162.464 569.47 162.464 560.743 Q162.464 551.994 165.519 547.41 Q168.598 542.804 174.408 542.804 Z\" fill=\"#000000\" fill-rule=\"evenodd\" fill-opacity=\"1\" /><path clip-path=\"url(#clip870)\" d=\"M60.6588 435.797 L68.2976 435.797 L68.2976 409.432 L59.9875 411.098 L59.9875 406.839 L68.2513 405.173 L72.9272 405.173 L72.9272 435.797 L80.5661 435.797 L80.5661 439.733 L60.6588 439.733 L60.6588 435.797 Z\" fill=\"#000000\" fill-rule=\"evenodd\" fill-opacity=\"1\" /><path clip-path=\"url(#clip870)\" d=\"M102.858 409.247 L91.0521 427.696 L102.858 427.696 L102.858 409.247 M101.631 405.173 L107.51 405.173 L107.51 427.696 L112.441 427.696 L112.441 431.584 L107.51 431.584 L107.51 439.733 L102.858 439.733 L102.858 431.584 L87.2559 431.584 L87.2559 427.071 L101.631 405.173 Z\" fill=\"#000000\" fill-rule=\"evenodd\" fill-opacity=\"1\" /><path clip-path=\"url(#clip870)\" d=\"M120.172 433.853 L125.057 433.853 L125.057 439.733 L120.172 439.733 L120.172 433.853 Z\" fill=\"#000000\" fill-rule=\"evenodd\" fill-opacity=\"1\" /><path clip-path=\"url(#clip870)\" d=\"M139.269 435.797 L155.589 435.797 L155.589 439.733 L133.645 439.733 L133.645 435.797 Q136.307 433.043 140.89 428.413 Q145.496 423.76 146.677 422.418 Q148.922 419.895 149.802 418.159 Q150.705 416.399 150.705 414.709 Q150.705 411.955 148.76 410.219 Q146.839 408.483 143.737 408.483 Q141.538 408.483 139.084 409.247 Q136.654 410.01 133.876 411.561 L133.876 406.839 Q136.7 405.705 139.154 405.126 Q141.607 404.548 143.644 404.548 Q149.015 404.548 152.209 407.233 Q155.404 409.918 155.404 414.409 Q155.404 416.538 154.593 418.459 Q153.806 420.358 151.7 422.95 Q151.121 423.621 148.019 426.839 Q144.918 430.033 139.269 435.797 Z\" fill=\"#000000\" fill-rule=\"evenodd\" fill-opacity=\"1\" /><path clip-path=\"url(#clip870)\" d=\"M165.45 405.173 L183.806 405.173 L183.806 409.108 L169.732 409.108 L169.732 417.58 Q170.751 417.233 171.769 417.071 Q172.788 416.885 173.806 416.885 Q179.593 416.885 182.973 420.057 Q186.353 423.228 186.353 428.645 Q186.353 434.223 182.88 437.325 Q179.408 440.404 173.089 440.404 Q170.913 440.404 168.644 440.033 Q166.399 439.663 163.992 438.922 L163.992 434.223 Q166.075 435.358 168.297 435.913 Q170.519 436.469 172.996 436.469 Q177.001 436.469 179.339 434.362 Q181.677 432.256 181.677 428.645 Q181.677 425.034 179.339 422.927 Q177.001 420.821 172.996 420.821 Q171.121 420.821 169.246 421.237 Q167.394 421.654 165.45 422.534 L165.45 405.173 Z\" fill=\"#000000\" fill-rule=\"evenodd\" fill-opacity=\"1\" /><path clip-path=\"url(#clip870)\" d=\"M59.6634 297.541 L67.3023 297.541 L67.3023 271.176 L58.9921 272.842 L58.9921 268.583 L67.256 266.916 L71.9319 266.916 L71.9319 297.541 L79.5707 297.541 L79.5707 301.476 L59.6634 301.476 L59.6634 297.541 Z\" fill=\"#000000\" fill-rule=\"evenodd\" fill-opacity=\"1\" /><path clip-path=\"url(#clip870)\" d=\"M101.862 270.99 L90.0568 289.439 L101.862 289.439 L101.862 270.99 M100.635 266.916 L106.515 266.916 L106.515 289.439 L111.446 289.439 L111.446 293.328 L106.515 293.328 L106.515 301.476 L101.862 301.476 L101.862 293.328 L86.2605 293.328 L86.2605 288.814 L100.635 266.916 Z\" fill=\"#000000\" fill-rule=\"evenodd\" fill-opacity=\"1\" /><path clip-path=\"url(#clip870)\" d=\"M119.177 295.597 L124.061 295.597 L124.061 301.476 L119.177 301.476 L119.177 295.597 Z\" fill=\"#000000\" fill-rule=\"evenodd\" fill-opacity=\"1\" /><path clip-path=\"url(#clip870)\" d=\"M134.293 266.916 L152.649 266.916 L152.649 270.851 L138.575 270.851 L138.575 279.324 Q139.594 278.976 140.612 278.814 Q141.631 278.629 142.649 278.629 Q148.436 278.629 151.816 281.8 Q155.195 284.972 155.195 290.388 Q155.195 295.967 151.723 299.069 Q148.251 302.148 141.931 302.148 Q139.756 302.148 137.487 301.777 Q135.242 301.407 132.834 300.666 L132.834 295.967 Q134.918 297.101 137.14 297.657 Q139.362 298.212 141.839 298.212 Q145.844 298.212 148.181 296.106 Q150.519 293.999 150.519 290.388 Q150.519 286.777 148.181 284.671 Q145.844 282.564 141.839 282.564 Q139.964 282.564 138.089 282.981 Q136.237 283.398 134.293 284.277 L134.293 266.916 Z\" fill=\"#000000\" fill-rule=\"evenodd\" fill-opacity=\"1\" /><path clip-path=\"url(#clip870)\" d=\"M174.408 269.995 Q170.797 269.995 168.968 273.56 Q167.163 277.101 167.163 284.231 Q167.163 291.337 168.968 294.902 Q170.797 298.444 174.408 298.444 Q178.042 298.444 179.848 294.902 Q181.677 291.337 181.677 284.231 Q181.677 277.101 179.848 273.56 Q178.042 269.995 174.408 269.995 M174.408 266.291 Q180.218 266.291 183.274 270.898 Q186.353 275.481 186.353 284.231 Q186.353 292.958 183.274 297.564 Q180.218 302.148 174.408 302.148 Q168.598 302.148 165.519 297.564 Q162.464 292.958 162.464 284.231 Q162.464 275.481 165.519 270.898 Q168.598 266.291 174.408 266.291 Z\" fill=\"#000000\" fill-rule=\"evenodd\" fill-opacity=\"1\" /><path clip-path=\"url(#clip870)\" d=\"M60.6588 159.285 L68.2976 159.285 L68.2976 132.919 L59.9875 134.586 L59.9875 130.327 L68.2513 128.66 L72.9272 128.66 L72.9272 159.285 L80.5661 159.285 L80.5661 163.22 L60.6588 163.22 L60.6588 159.285 Z\" fill=\"#000000\" fill-rule=\"evenodd\" fill-opacity=\"1\" /><path clip-path=\"url(#clip870)\" d=\"M102.858 132.734 L91.0521 151.183 L102.858 151.183 L102.858 132.734 M101.631 128.66 L107.51 128.66 L107.51 151.183 L112.441 151.183 L112.441 155.072 L107.51 155.072 L107.51 163.22 L102.858 163.22 L102.858 155.072 L87.2559 155.072 L87.2559 150.558 L101.631 128.66 Z\" fill=\"#000000\" fill-rule=\"evenodd\" fill-opacity=\"1\" /><path clip-path=\"url(#clip870)\" d=\"M120.172 157.34 L125.057 157.34 L125.057 163.22 L120.172 163.22 L120.172 157.34 Z\" fill=\"#000000\" fill-rule=\"evenodd\" fill-opacity=\"1\" /><path clip-path=\"url(#clip870)\" d=\"M134.061 128.66 L156.283 128.66 L156.283 130.651 L143.737 163.22 L138.853 163.22 L150.658 132.595 L134.061 132.595 L134.061 128.66 Z\" fill=\"#000000\" fill-rule=\"evenodd\" fill-opacity=\"1\" /><path clip-path=\"url(#clip870)\" d=\"M165.45 128.66 L183.806 128.66 L183.806 132.595 L169.732 132.595 L169.732 141.067 Q170.751 140.72 171.769 140.558 Q172.788 140.373 173.806 140.373 Q179.593 140.373 182.973 143.544 Q186.353 146.715 186.353 152.132 Q186.353 157.711 182.88 160.813 Q179.408 163.891 173.089 163.891 Q170.913 163.891 168.644 163.521 Q166.399 163.151 163.992 162.41 L163.992 157.711 Q166.075 158.845 168.297 159.401 Q170.519 159.956 172.996 159.956 Q177.001 159.956 179.339 157.85 Q181.677 155.743 181.677 152.132 Q181.677 148.521 179.339 146.415 Q177.001 144.308 172.996 144.308 Q171.121 144.308 169.246 144.725 Q167.394 145.141 165.45 146.021 L165.45 128.66 Z\" fill=\"#000000\" fill-rule=\"evenodd\" fill-opacity=\"1\" /><polyline clip-path=\"url(#clip872)\" style=\"stroke:#0000ff; stroke-linecap:round; stroke-linejoin:round; stroke-width:4; stroke-opacity:1; fill:none\" points=\"261.392,627.23 214.478,618.097 \"/>\n",
       "<polyline clip-path=\"url(#clip872)\" style=\"stroke:#0000ff; stroke-linecap:round; stroke-linejoin:round; stroke-width:4; stroke-opacity:1; fill:none\" points=\"419.95,627.23 373.036,618.097 \"/>\n",
       "<polyline clip-path=\"url(#clip872)\" style=\"stroke:#0000ff; stroke-linecap:round; stroke-linejoin:round; stroke-width:4; stroke-opacity:1; fill:none\" points=\"578.507,627.23 531.593,618.097 \"/>\n",
       "<polyline clip-path=\"url(#clip872)\" style=\"stroke:#0000ff; stroke-linecap:round; stroke-linejoin:round; stroke-width:4; stroke-opacity:1; fill:none\" points=\"737.065,627.23 690.151,618.097 \"/>\n",
       "<polyline clip-path=\"url(#clip872)\" style=\"stroke:#0000ff; stroke-linecap:round; stroke-linejoin:round; stroke-width:4; stroke-opacity:1; fill:none\" points=\"261.392,442.888 214.478,433.755 \"/>\n",
       "<polyline clip-path=\"url(#clip872)\" style=\"stroke:#0000ff; stroke-linecap:round; stroke-linejoin:round; stroke-width:4; stroke-opacity:1; fill:none\" points=\"419.95,442.888 373.036,433.755 \"/>\n",
       "<polyline clip-path=\"url(#clip872)\" style=\"stroke:#0000ff; stroke-linecap:round; stroke-linejoin:round; stroke-width:4; stroke-opacity:1; fill:none\" points=\"578.507,442.888 531.593,433.755 \"/>\n",
       "<polyline clip-path=\"url(#clip872)\" style=\"stroke:#0000ff; stroke-linecap:round; stroke-linejoin:round; stroke-width:4; stroke-opacity:1; fill:none\" points=\"737.065,442.888 690.151,433.755 \"/>\n",
       "<polyline clip-path=\"url(#clip872)\" style=\"stroke:#0000ff; stroke-linecap:round; stroke-linejoin:round; stroke-width:4; stroke-opacity:1; fill:none\" points=\"261.392,258.546 214.478,249.414 \"/>\n",
       "<polyline clip-path=\"url(#clip872)\" style=\"stroke:#0000ff; stroke-linecap:round; stroke-linejoin:round; stroke-width:4; stroke-opacity:1; fill:none\" points=\"419.95,258.546 373.036,249.414 \"/>\n",
       "<polyline clip-path=\"url(#clip872)\" style=\"stroke:#0000ff; stroke-linecap:round; stroke-linejoin:round; stroke-width:4; stroke-opacity:1; fill:none\" points=\"578.507,258.546 531.593,249.414 \"/>\n",
       "<polyline clip-path=\"url(#clip872)\" style=\"stroke:#0000ff; stroke-linecap:round; stroke-linejoin:round; stroke-width:4; stroke-opacity:1; fill:none\" points=\"737.065,258.546 690.151,249.414 \"/>\n",
       "<polyline clip-path=\"url(#clip872)\" style=\"stroke:#0000ff; stroke-linecap:round; stroke-linejoin:round; stroke-width:4; stroke-opacity:1; fill:none\" points=\"261.392,74.2048 214.478,65.0721 \"/>\n",
       "<polyline clip-path=\"url(#clip872)\" style=\"stroke:#0000ff; stroke-linecap:round; stroke-linejoin:round; stroke-width:4; stroke-opacity:1; fill:none\" points=\"419.95,74.2048 373.036,65.0721 \"/>\n",
       "<polyline clip-path=\"url(#clip872)\" style=\"stroke:#0000ff; stroke-linecap:round; stroke-linejoin:round; stroke-width:4; stroke-opacity:1; fill:none\" points=\"578.507,74.2048 531.593,65.0721 \"/>\n",
       "<polyline clip-path=\"url(#clip872)\" style=\"stroke:#0000ff; stroke-linecap:round; stroke-linejoin:round; stroke-width:4; stroke-opacity:1; fill:none\" points=\"737.065,74.2048 690.151,65.0721 \"/>\n",
       "<polyline clip-path=\"url(#clip872)\" style=\"stroke:#0000ff; stroke-linecap:round; stroke-linejoin:round; stroke-width:4; stroke-opacity:1; fill:none\" points=\"261.392,627.23 214.043,632.525 \"/>\n",
       "<polyline clip-path=\"url(#clip872)\" style=\"stroke:#0000ff; stroke-linecap:round; stroke-linejoin:round; stroke-width:4; stroke-opacity:1; fill:none\" points=\"419.95,627.23 372.601,632.525 \"/>\n",
       "<polyline clip-path=\"url(#clip872)\" style=\"stroke:#0000ff; stroke-linecap:round; stroke-linejoin:round; stroke-width:4; stroke-opacity:1; fill:none\" points=\"578.507,627.23 531.159,632.525 \"/>\n",
       "<polyline clip-path=\"url(#clip872)\" style=\"stroke:#0000ff; stroke-linecap:round; stroke-linejoin:round; stroke-width:4; stroke-opacity:1; fill:none\" points=\"737.065,627.23 689.716,632.525 \"/>\n",
       "<polyline clip-path=\"url(#clip872)\" style=\"stroke:#0000ff; stroke-linecap:round; stroke-linejoin:round; stroke-width:4; stroke-opacity:1; fill:none\" points=\"261.392,442.888 214.043,448.183 \"/>\n",
       "<polyline clip-path=\"url(#clip872)\" style=\"stroke:#0000ff; stroke-linecap:round; stroke-linejoin:round; stroke-width:4; stroke-opacity:1; fill:none\" points=\"419.95,442.888 372.601,448.183 \"/>\n",
       "<polyline clip-path=\"url(#clip872)\" style=\"stroke:#0000ff; stroke-linecap:round; stroke-linejoin:round; stroke-width:4; stroke-opacity:1; fill:none\" points=\"578.507,442.888 531.159,448.183 \"/>\n",
       "<polyline clip-path=\"url(#clip872)\" style=\"stroke:#0000ff; stroke-linecap:round; stroke-linejoin:round; stroke-width:4; stroke-opacity:1; fill:none\" points=\"737.065,442.888 689.716,448.183 \"/>\n",
       "<polyline clip-path=\"url(#clip872)\" style=\"stroke:#0000ff; stroke-linecap:round; stroke-linejoin:round; stroke-width:4; stroke-opacity:1; fill:none\" points=\"261.392,258.546 214.043,263.842 \"/>\n",
       "<polyline clip-path=\"url(#clip872)\" style=\"stroke:#0000ff; stroke-linecap:round; stroke-linejoin:round; stroke-width:4; stroke-opacity:1; fill:none\" points=\"419.95,258.546 372.601,263.842 \"/>\n",
       "<polyline clip-path=\"url(#clip872)\" style=\"stroke:#0000ff; stroke-linecap:round; stroke-linejoin:round; stroke-width:4; stroke-opacity:1; fill:none\" points=\"578.507,258.546 531.159,263.842 \"/>\n",
       "<polyline clip-path=\"url(#clip872)\" style=\"stroke:#0000ff; stroke-linecap:round; stroke-linejoin:round; stroke-width:4; stroke-opacity:1; fill:none\" points=\"737.065,258.546 689.716,263.842 \"/>\n",
       "<polyline clip-path=\"url(#clip872)\" style=\"stroke:#0000ff; stroke-linecap:round; stroke-linejoin:round; stroke-width:4; stroke-opacity:1; fill:none\" points=\"261.392,74.2048 214.043,79.5001 \"/>\n",
       "<polyline clip-path=\"url(#clip872)\" style=\"stroke:#0000ff; stroke-linecap:round; stroke-linejoin:round; stroke-width:4; stroke-opacity:1; fill:none\" points=\"419.95,74.2048 372.601,79.5001 \"/>\n",
       "<polyline clip-path=\"url(#clip872)\" style=\"stroke:#0000ff; stroke-linecap:round; stroke-linejoin:round; stroke-width:4; stroke-opacity:1; fill:none\" points=\"578.507,74.2048 531.159,79.5001 \"/>\n",
       "<polyline clip-path=\"url(#clip872)\" style=\"stroke:#0000ff; stroke-linecap:round; stroke-linejoin:round; stroke-width:4; stroke-opacity:1; fill:none\" points=\"737.065,74.2048 689.716,79.5001 \"/>\n",
       "<polyline clip-path=\"url(#clip872)\" style=\"stroke:#0000ff; stroke-linecap:round; stroke-linejoin:round; stroke-width:4; stroke-opacity:1; fill:none\" points=\"261.392,627.23 216.835,646.592 \"/>\n",
       "<polyline clip-path=\"url(#clip872)\" style=\"stroke:#0000ff; stroke-linecap:round; stroke-linejoin:round; stroke-width:4; stroke-opacity:1; fill:none\" points=\"419.95,627.23 375.393,646.592 \"/>\n",
       "<polyline clip-path=\"url(#clip872)\" style=\"stroke:#0000ff; stroke-linecap:round; stroke-linejoin:round; stroke-width:4; stroke-opacity:1; fill:none\" points=\"578.507,627.23 533.951,646.592 \"/>\n",
       "<polyline clip-path=\"url(#clip872)\" style=\"stroke:#0000ff; stroke-linecap:round; stroke-linejoin:round; stroke-width:4; stroke-opacity:1; fill:none\" points=\"737.065,627.23 692.509,646.592 \"/>\n",
       "<polyline clip-path=\"url(#clip872)\" style=\"stroke:#0000ff; stroke-linecap:round; stroke-linejoin:round; stroke-width:4; stroke-opacity:1; fill:none\" points=\"261.392,442.888 216.835,462.251 \"/>\n",
       "<polyline clip-path=\"url(#clip872)\" style=\"stroke:#0000ff; stroke-linecap:round; stroke-linejoin:round; stroke-width:4; stroke-opacity:1; fill:none\" points=\"419.95,442.888 375.393,462.251 \"/>\n",
       "<polyline clip-path=\"url(#clip872)\" style=\"stroke:#0000ff; stroke-linecap:round; stroke-linejoin:round; stroke-width:4; stroke-opacity:1; fill:none\" points=\"578.507,442.888 533.951,462.251 \"/>\n",
       "<polyline clip-path=\"url(#clip872)\" style=\"stroke:#0000ff; stroke-linecap:round; stroke-linejoin:round; stroke-width:4; stroke-opacity:1; fill:none\" points=\"737.065,442.888 692.509,462.251 \"/>\n",
       "<polyline clip-path=\"url(#clip872)\" style=\"stroke:#0000ff; stroke-linecap:round; stroke-linejoin:round; stroke-width:4; stroke-opacity:1; fill:none\" points=\"261.392,258.546 216.835,277.909 \"/>\n",
       "<polyline clip-path=\"url(#clip872)\" style=\"stroke:#0000ff; stroke-linecap:round; stroke-linejoin:round; stroke-width:4; stroke-opacity:1; fill:none\" points=\"419.95,258.546 375.393,277.909 \"/>\n",
       "<polyline clip-path=\"url(#clip872)\" style=\"stroke:#0000ff; stroke-linecap:round; stroke-linejoin:round; stroke-width:4; stroke-opacity:1; fill:none\" points=\"578.507,258.546 533.951,277.909 \"/>\n",
       "<polyline clip-path=\"url(#clip872)\" style=\"stroke:#0000ff; stroke-linecap:round; stroke-linejoin:round; stroke-width:4; stroke-opacity:1; fill:none\" points=\"737.065,258.546 692.509,277.909 \"/>\n",
       "<polyline clip-path=\"url(#clip872)\" style=\"stroke:#0000ff; stroke-linecap:round; stroke-linejoin:round; stroke-width:4; stroke-opacity:1; fill:none\" points=\"261.392,74.2048 216.835,93.5673 \"/>\n",
       "<polyline clip-path=\"url(#clip872)\" style=\"stroke:#0000ff; stroke-linecap:round; stroke-linejoin:round; stroke-width:4; stroke-opacity:1; fill:none\" points=\"419.95,74.2048 375.393,93.5673 \"/>\n",
       "<polyline clip-path=\"url(#clip872)\" style=\"stroke:#0000ff; stroke-linecap:round; stroke-linejoin:round; stroke-width:4; stroke-opacity:1; fill:none\" points=\"578.507,74.2048 533.951,93.5673 \"/>\n",
       "<polyline clip-path=\"url(#clip872)\" style=\"stroke:#0000ff; stroke-linecap:round; stroke-linejoin:round; stroke-width:4; stroke-opacity:1; fill:none\" points=\"737.065,74.2048 692.509,93.5673 \"/>\n",
       "<polyline clip-path=\"url(#clip872)\" style=\"stroke:#0000ff; stroke-linecap:round; stroke-linejoin:round; stroke-width:4; stroke-opacity:1; fill:none\" points=\"261.392,627.23 222.664,659.34 \"/>\n",
       "<polyline clip-path=\"url(#clip872)\" style=\"stroke:#0000ff; stroke-linecap:round; stroke-linejoin:round; stroke-width:4; stroke-opacity:1; fill:none\" points=\"419.95,627.23 381.222,659.34 \"/>\n",
       "<polyline clip-path=\"url(#clip872)\" style=\"stroke:#0000ff; stroke-linecap:round; stroke-linejoin:round; stroke-width:4; stroke-opacity:1; fill:none\" points=\"578.507,627.23 539.78,659.34 \"/>\n",
       "<polyline clip-path=\"url(#clip872)\" style=\"stroke:#0000ff; stroke-linecap:round; stroke-linejoin:round; stroke-width:4; stroke-opacity:1; fill:none\" points=\"737.065,627.23 698.337,659.34 \"/>\n",
       "<polyline clip-path=\"url(#clip872)\" style=\"stroke:#0000ff; stroke-linecap:round; stroke-linejoin:round; stroke-width:4; stroke-opacity:1; fill:none\" points=\"261.392,442.888 222.664,474.998 \"/>\n",
       "<polyline clip-path=\"url(#clip872)\" style=\"stroke:#0000ff; stroke-linecap:round; stroke-linejoin:round; stroke-width:4; stroke-opacity:1; fill:none\" points=\"419.95,442.888 381.222,474.998 \"/>\n",
       "<polyline clip-path=\"url(#clip872)\" style=\"stroke:#0000ff; stroke-linecap:round; stroke-linejoin:round; stroke-width:4; stroke-opacity:1; fill:none\" points=\"578.507,442.888 539.78,474.998 \"/>\n",
       "<polyline clip-path=\"url(#clip872)\" style=\"stroke:#0000ff; stroke-linecap:round; stroke-linejoin:round; stroke-width:4; stroke-opacity:1; fill:none\" points=\"737.065,442.888 698.337,474.998 \"/>\n",
       "<polyline clip-path=\"url(#clip872)\" style=\"stroke:#0000ff; stroke-linecap:round; stroke-linejoin:round; stroke-width:4; stroke-opacity:1; fill:none\" points=\"261.392,258.546 222.664,290.657 \"/>\n",
       "<polyline clip-path=\"url(#clip872)\" style=\"stroke:#0000ff; stroke-linecap:round; stroke-linejoin:round; stroke-width:4; stroke-opacity:1; fill:none\" points=\"419.95,258.546 381.222,290.657 \"/>\n",
       "<polyline clip-path=\"url(#clip872)\" style=\"stroke:#0000ff; stroke-linecap:round; stroke-linejoin:round; stroke-width:4; stroke-opacity:1; fill:none\" points=\"578.507,258.546 539.78,290.657 \"/>\n",
       "<polyline clip-path=\"url(#clip872)\" style=\"stroke:#0000ff; stroke-linecap:round; stroke-linejoin:round; stroke-width:4; stroke-opacity:1; fill:none\" points=\"737.065,258.546 698.337,290.657 \"/>\n",
       "<polyline clip-path=\"url(#clip872)\" style=\"stroke:#0000ff; stroke-linecap:round; stroke-linejoin:round; stroke-width:4; stroke-opacity:1; fill:none\" points=\"261.392,74.2048 222.664,106.315 \"/>\n",
       "<polyline clip-path=\"url(#clip872)\" style=\"stroke:#0000ff; stroke-linecap:round; stroke-linejoin:round; stroke-width:4; stroke-opacity:1; fill:none\" points=\"419.95,74.2048 381.222,106.315 \"/>\n",
       "<polyline clip-path=\"url(#clip872)\" style=\"stroke:#0000ff; stroke-linecap:round; stroke-linejoin:round; stroke-width:4; stroke-opacity:1; fill:none\" points=\"578.507,74.2048 539.78,106.315 \"/>\n",
       "<polyline clip-path=\"url(#clip872)\" style=\"stroke:#0000ff; stroke-linecap:round; stroke-linejoin:round; stroke-width:4; stroke-opacity:1; fill:none\" points=\"737.065,74.2048 698.337,106.315 \"/>\n",
       "<polyline clip-path=\"url(#clip872)\" style=\"stroke:#ff0000; stroke-linecap:round; stroke-linejoin:round; stroke-width:8; stroke-opacity:1; fill:none\" points=\"499.229,350.717 452.879,363.153 \"/>\n",
       "</svg>\n"
      ]
     },
     "execution_count": 12,
     "metadata": {},
     "output_type": "execute_result"
    }
   ],
   "source": [
    "p        = _ps[1]\n",
    "delta_x  = 0.5\n",
    "delta_hd = 45\n",
    "k   = 4\n",
    "ps_ = pose_grid(p,k,delta_x,delta_hd);\n",
    "ps  = [Pose(p[1:2],p[3]) for p in eachrow(Array(ps_))]\n",
    "\n",
    "# -----------------------------\n",
    "mypl = plot(size=(200,200), legend=nothing)\n",
    "plot!(ps, c=:blue, r=0.1, linewidth=1)\n",
    "plot!(p, c=:red, r=0.1, linewidth=2)\n",
    "mypl"
   ]
  },
  {
   "cell_type": "markdown",
   "id": "0fe970a5",
   "metadata": {},
   "source": [
    "### sliding window"
   ]
  },
  {
   "cell_type": "code",
   "execution_count": 13,
   "id": "35f0307c",
   "metadata": {},
   "outputs": [],
   "source": [
    "\"\"\"\n",
    "    slw_kernel!(x, w::Int, y)\n",
    "\n",
    "CUDA kernel to compute sliding windows...\n",
    "Takes CuArrays of shape `(k,n)` and `(k,n,m=2w+1)` \n",
    "and fills the latter with ...\n",
    "\"\"\"\n",
    "function slw_kernel!(x, w::Int, y)\n",
    "    \n",
    "    m = 2*w + 1\n",
    "    \n",
    "    # Make sure the arrays are \n",
    "    # of the right shape\n",
    "    @assert ndims(x)  == 2\n",
    "    @assert ndims(y)  == ndims(x) + 1\n",
    "    @assert size(x,1) == size(y,1)\n",
    "    @assert size(x,2) == size(y,2)\n",
    "    @assert size(y,3) == m\n",
    "    \n",
    "    # Thread id's\n",
    "    ix = (blockIdx().x - 1) * blockDim().x + threadIdx().x\n",
    "    iy = (blockIdx().y - 1) * blockDim().y + threadIdx().y\n",
    "    iz = (blockIdx().z - 1) * blockDim().z + threadIdx().z\n",
    "    sx = gridDim().x * blockDim().x\n",
    "    sy = gridDim().y * blockDim().y\n",
    "    sz = gridDim().z * blockDim().z\n",
    "        \n",
    "    for j_pose = ix:sx:size(y,1), j_obs = iy:sy:size(y,2), j_mix = iz:sz:size(y,3)\n",
    "        # Transform `1:m` to `-w:w`\n",
    "        offset = j_mix-1-w\n",
    "        \n",
    "        # Wrap around, e.g. map `n+1` to `1`\n",
    "        # Note that we have `size(x,2) == size(y,2)`\n",
    "        j_mix_adj = mod(j_obs + offset - 1 , size(x,2)) + 1\n",
    "        \n",
    "        # Fill y's\n",
    "        @inbounds y[j_pose, j_obs, j_mix] = x[j_pose, j_mix_adj]\n",
    "    end\n",
    "    return\n",
    "end\n",
    "\n",
    "\"\"\"\n",
    "```julia\n",
    "    y = slw_cu!(x::CuArray, w::Int; blockdims=(8,8,4))\n",
    "```\n",
    "Computes sliding windows... takes a CuArray of shape `(k,n)` and returns a CuArray\n",
    "of shape `(k,n,m)`, where `m = 2w+1`....\n",
    "\"\"\"\n",
    "function slw_cu!(x::CuArray, w::Int; blockdims=(8,8,4))\n",
    "    \n",
    "    k = size(x, 1)\n",
    "    n = size(x, 2)\n",
    "    m = 2*w+1\n",
    "    \n",
    "    y = CUDA.ones(k,n,m)\n",
    "    \n",
    "    griddims = cuda_grid((k,n,m), blockdims)\n",
    "    CUDA.@sync begin\n",
    "        @cuda threads=blockdims blocks=griddims slw_kernel!(x, w, y)\n",
    "    end\n",
    "    \n",
    "    return y\n",
    "end;"
   ]
  },
  {
   "cell_type": "code",
   "execution_count": 14,
   "id": "cdbe499f",
   "metadata": {},
   "outputs": [
    {
     "name": "stdout",
     "output_type": "stream",
     "text": [
      "(10, 5)\n",
      "(10, 5, 3)\n"
     ]
    },
    {
     "data": {
      "text/plain": [
       "5-element CuArray{Float32, 1, CUDA.Mem.DeviceBuffer}:\n",
       " 1.0\n",
       " 2.0\n",
       " 3.0\n",
       " 4.0\n",
       " 5.0"
      ]
     },
     "execution_count": 14,
     "metadata": {},
     "output_type": "execute_result"
    }
   ],
   "source": [
    "w = 1\n",
    "zs = stack([collect(1.0:5.0)*10^(i-1) for i=1:10])\n",
    "zs_ = CuArray(zs)\n",
    "zs_tilde_ = slw_cu!(zs_,w)\n",
    "\n",
    "println(size(zs_))\n",
    "println(size(zs_tilde_))\n",
    "\n",
    "zs_tilde_[1,:,w+1] # this is the middle of the mixture window"
   ]
  },
  {
   "cell_type": "markdown",
   "id": "54330a79",
   "metadata": {},
   "source": [
    "### y_tilde"
   ]
  },
  {
   "cell_type": "code",
   "execution_count": 15,
   "id": "ab4762b9",
   "metadata": {},
   "outputs": [],
   "source": [
    "polar_inv_cu(z::CuArray, a::CuArray) = cat(z.*cos.(a), z.*sin.(a), dims=ndims(a)+1);"
   ]
  },
  {
   "cell_type": "code",
   "execution_count": 16,
   "id": "e8e687b3",
   "metadata": {},
   "outputs": [
    {
     "name": "stdout",
     "output_type": "stream",
     "text": [
      "(10, 5, 3)(1, 5, 3)\n"
     ]
    },
    {
     "data": {
      "text/plain": [
       "(10, 5, 3, 2)"
      ]
     },
     "execution_count": 16,
     "metadata": {},
     "output_type": "execute_result"
    }
   ],
   "source": [
    "a_ = CuArray(range(0,π, 5))\n",
    "a_tilde_ = slw_cu!(reshape(a_,1,:),w)\n",
    "\n",
    "println(size(zs_tilde_), size(a_tilde_))\n",
    "y_tilde_ = polar_inv_cu(zs_tilde_, a_tilde_)\n",
    "size(y_tilde_)"
   ]
  },
  {
   "cell_type": "code",
   "execution_count": 17,
   "id": "4541cacb",
   "metadata": {},
   "outputs": [
    {
     "data": {
      "text/plain": [
       "get_ys_tilde_cu"
      ]
     },
     "execution_count": 17,
     "metadata": {},
     "output_type": "execute_result"
    }
   ],
   "source": [
    "\"\"\"\n",
    "    ys_tilde_ = get_ys_tilde_cu(zs_::CuArray, w::Int)    \n",
    "\n",
    "Takes depth measurements and returns \n",
    "the point clouds for the gaussian mixtures ...\n",
    "\"\"\"\n",
    "function get_ys_tilde_cu(zs_::CuArray, w::Int)    \n",
    "    a_ = CuArray(_as)\n",
    "\n",
    "    zs_tilde_ = slw_cu!(zs_, w)\n",
    "    as_tilde_ = slw_cu!(reshape(a_,1,:), w)\n",
    "    \n",
    "    ys_tilde_ = polar_inv_cu(zs_tilde_, as_tilde_)\n",
    "    \n",
    "    return ys_tilde_\n",
    "end"
   ]
  },
  {
   "cell_type": "code",
   "execution_count": 18,
   "id": "c56bdc3d",
   "metadata": {},
   "outputs": [
    {
     "name": "stdout",
     "output_type": "stream",
     "text": [
      "ys_tilde: (64, 360, 11, 2)\n",
      "  164.019 μs (247 allocations: 13.34 KiB)\n"
     ]
    }
   ],
   "source": [
    "w = 5\n",
    "zs_       = cast_cu(ps_)\n",
    "ys_tilde_ = get_ys_tilde_cu(zs_, w);  \n",
    "println(\"ys_tilde: $(size(ys_tilde_))\")\n",
    "\n",
    "@btime get_ys_tilde_cu(zs_, w) samples=3 evals=3;  "
   ]
  },
  {
   "cell_type": "markdown",
   "id": "5e317e0a",
   "metadata": {},
   "source": [
    "```julia\n",
    "ys_tilde: (1000, 360, 11, 2)\n",
    "  583.812 μs (247 allocations: 13.34 KiB)\n",
    "```"
   ]
  },
  {
   "cell_type": "markdown",
   "id": "926f9aa1",
   "metadata": {},
   "source": [
    "### sensor_smc_logpdf_cu"
   ]
  },
  {
   "cell_type": "code",
   "execution_count": 19,
   "id": "be696988",
   "metadata": {},
   "outputs": [],
   "source": [
    "\"\"\"\n",
    "    log_p = gaussian_logpdf(x, mu, sig)\n",
    "\n",
    "Benchmarks in `33 - CUDA Accelerated Gen Distributions` ...\n",
    "\"\"\"\n",
    "function gaussian_logpdf(x, mu, sig)\n",
    "    d = (x .- mu).^2 ./ sig.^2\n",
    "    log_p = - log.(sqrt.(sig * 2 * π)) .- 1/2 * d\n",
    "    return log_p\n",
    "end;"
   ]
  },
  {
   "cell_type": "code",
   "execution_count": 20,
   "id": "b876452d",
   "metadata": {},
   "outputs": [
    {
     "name": "stdout",
     "output_type": "stream",
     "text": [
      "x,y,sig: (2, 2, 2)\n",
      "  3.710 μs (2 allocations: 176 bytes)\n",
      "  6.850 μs (7 allocations: 896 bytes)\n",
      "  745.106 μs (238 allocations: 18.36 KiB)\n"
     ]
    }
   ],
   "source": [
    "n = 2\n",
    "\n",
    "x   = rand(n,n,n)\n",
    "y   = rand(n,n,n)\n",
    "sig = ones(n,n,n)\n",
    "\n",
    "x_   = CuArray(x)\n",
    "y_   = CuArray(y)\n",
    "sig_ = CuArray(sig)\n",
    "\n",
    "function bench_broadcasting(x,y,sig) \n",
    "    logpdf.([normal], x, y, sig)\n",
    "end\n",
    "\n",
    "println(\"x,y,sig: $(size(x))\")\n",
    "\n",
    "@btime bench_broadcasting($x, $y, $sig) samples=1 evals=1;\n",
    "@btime gaussian_logpdf($x, $y, $sig)    samples=1 evals=1;\n",
    "@btime gaussian_logpdf($x_, $y_, $sig_) samples=1 evals=1;"
   ]
  },
  {
   "cell_type": "markdown",
   "id": "6fb0411b",
   "metadata": {},
   "source": [
    "Runtimes:\n",
    "```julia\n",
    "x,y,sig: (10, 10, 10)\n",
    "   14.148 μs (2 allocations: 7.98 KiB)\n",
    "   31.857 μs (7 allocations: 55.56 KiB)\n",
    "  133.492 μs (226 allocations: 17.25 KiB)\n",
    "\n",
    "x,y,sig: (100, 100, 100)\n",
    "   10.390 ms (3 allocations: 7.63 MiB)\n",
    "   27.895 ms (14 allocations: 53.41 MiB)\n",
    "  119.987 μs (226 allocations: 17.25 KiB)\n",
    "```"
   ]
  },
  {
   "cell_type": "markdown",
   "id": "a3d72988",
   "metadata": {},
   "source": [
    "Our sensor distribtution is given defined by\n",
    "\n",
    "$$\n",
    "   p(x_1,\\ldots,x_n \\mid p,M) = \\prod_i \\Big( (1-d)\\cdot g_i(x_i) + d \\cdot \\text{Anywhere} \\Big)\n",
    "$$\n",
    "\n",
    "\n",
    "For ease of notation we omit some of the parameters the terms depend on, i.e. $g_i(x) = g_i(x ; m, \\sigma, p,M)$ and $\\tilde{y}_{i,j} = \\tilde{y}_{i,j}(p,M)$....\n",
    "\n",
    "$$\n",
    "    g_i(x) = \\sum_j \\tfrac{1}{m} N\\big(x ; \\tilde{y}_{i,j}, \\sigma \\big)\n",
    "$$"
   ]
  },
  {
   "cell_type": "code",
   "execution_count": 21,
   "id": "0f3a5eda",
   "metadata": {},
   "outputs": [],
   "source": [
    "\"\"\"\n",
    "    log_p = sensor_smc_logpdf_cu(x::CuArray, ys_tilde::CuArray, sig, dropout)\n",
    "\n",
    "Evaluates the logpdf of an observation `x` (shape: `(n,2)`)\n",
    "with respect to a number of different gaussian mixtures stacked along\n",
    "the first dim of `ys_tilde` (k,n,m,2) ...\n",
    "\"\"\"\n",
    "function sensor_smc_logpdf_cu(x::CuArray, ys_tilde::CuArray, sig, dropout)\n",
    "\n",
    "    n = size(ys_tilde,2)\n",
    "    m = size(ys_tilde,3)\n",
    "    \n",
    "    xs = reshape(x, 1, n, 1, 2)\n",
    "    \n",
    "    # Line by line...\n",
    "    # 1. Compute 1D Gaussians - (n,m,2)\n",
    "    # 2. Convert to 2D gausians - (n,m)\n",
    "    # 3. Convert to mixture of m 2D gausians (GM) - (n,)\n",
    "    # 4. Convert to mixture of `GM` and `anywhere` (D) - (n,)\n",
    "    # 5. Convert to Product of D's - ()\n",
    "    log_p = gaussian_logpdf(xs, ys_tilde, sig)\n",
    "    log_p = sum(log_p, dims=4)[:,:,:,1] \n",
    "    log_p = logsumexp_cu(log_p .- log(m), 3)[:,:,1] \n",
    "    log_p_or_any = log.((1-dropout)*exp.(log_p) .+ dropout*1.0)\n",
    "    log_p = sum(log_p_or_any ,dims=2)[:,1]\n",
    "    \n",
    "    return log_p\n",
    "end;"
   ]
  },
  {
   "cell_type": "code",
   "execution_count": 22,
   "id": "75d72260",
   "metadata": {},
   "outputs": [
    {
     "name": "stdout",
     "output_type": "stream",
     "text": [
      "ys_tilde: (1000, 360, 361, 2)\n",
      "  42.055 ms (855 allocations: 46.96 KiB)\n"
     ]
    }
   ],
   "source": [
    "p        = _ps[1]\n",
    "delta_x  = 0.5\n",
    "delta_hd = 10\n",
    "k        = 10\n",
    "ps_ = pose_grid(p,k,delta_x,delta_hd);\n",
    "\n",
    "w   = 180\n",
    "zs_ = cast_cu(ps_)\n",
    "ys_tilde_ = get_ys_tilde_cu(zs_, w);  \n",
    "\n",
    "sig     = 1.0\n",
    "dropout = 0.1\n",
    "x       = stack(polar_inv(_zs[1],_as))\n",
    "x_      = CuArray(x)\n",
    "\n",
    "sensor_smc_logpdf_cu(x_, ys_tilde_, sig, dropout)\n",
    "\n",
    "println(\"ys_tilde: $(size(ys_tilde_))\")\n",
    "\n",
    "@btime sensor_smc_logpdf_cu($x_, $ys_tilde_, sig, dropout) samples=3 evals=3;"
   ]
  },
  {
   "cell_type": "markdown",
   "id": "06a4f3a8",
   "metadata": {},
   "source": [
    "Runtimes:\n",
    "```julia\n",
    "ys_tilde: (64, 360, 11, 2)\n",
    "  364.570 μs (667 allocations: 38.58 KiB)\n",
    "\n",
    "ys_tilde: (1000, 360, 11, 2)\n",
    "  1.392 ms (695 allocations: 40.40 KiB)\n",
    "\n",
    "ys_tilde: (1000, 360, 41, 2)\n",
    "  4.111 ms (695 allocations: 40.30 KiB)\n",
    "\n",
    "# Full mixture\n",
    "ys_tilde: (1000, 360, 361, 2)\n",
    "  38.444 ms (814 allocations: 45.20 KiB)\n",
    "```"
   ]
  },
  {
   "cell_type": "markdown",
   "id": "8b828006",
   "metadata": {},
   "source": [
    "### Put it together"
   ]
  },
  {
   "cell_type": "code",
   "execution_count": 23,
   "id": "a89a4b4f",
   "metadata": {},
   "outputs": [
    {
     "data": {
      "text/plain": [
       "perturb (generic function with 1 method)"
      ]
     },
     "execution_count": 23,
     "metadata": {},
     "output_type": "execute_result"
    }
   ],
   "source": [
    "perturb(p::Pose, x_noise, hd_noise) = Pose(\n",
    "    p.x + [normal(0,x_noise); normal(0,x_noise)], \n",
    "    p.hd + normal(0, hd_noise/360*2π))"
   ]
  },
  {
   "cell_type": "markdown",
   "id": "b07866ae",
   "metadata": {},
   "source": [
    "#### Grid proposal"
   ]
  },
  {
   "cell_type": "code",
   "execution_count": 42,
   "id": "b5f2c6db",
   "metadata": {},
   "outputs": [
    {
     "data": {
      "text/plain": [
       "grid_proposals (generic function with 1 method)"
      ]
     },
     "execution_count": 42,
     "metadata": {},
     "output_type": "execute_result"
    }
   ],
   "source": [
    "function grid_proposals(p::Pose, x::Matrix, w::Int, sig::Float64, dropout, grid_k::Int, grid_dx, grid_dhd)\n",
    "    \n",
    "    # Compute poses to evaluate\n",
    "    ps_ = pose_grid(p, grid_k, grid_dx, grid_dhd)\n",
    "    \n",
    "    # Compute measurements and gm centers\n",
    "    zs_ = cast_cu(ps_; blockdims=(16,16));\n",
    "    ys_tilde_ = get_ys_tilde_cu(zs_, w);\n",
    "    \n",
    "    # Evaluate the gm's\n",
    "    x_ = CuArray(x)\n",
    "    log_p_ = sensor_smc_logpdf_cu(x_, ys_tilde_, sig, dropout);\n",
    "    \n",
    "    # Back to CPU\n",
    "    ps    = Vector.(eachrow(Array(ps_)))\n",
    "    log_p = Array(log_p_)\n",
    "\n",
    "    \n",
    "    # Sort by log prob\n",
    "    # and return \n",
    "    perm  = sortperm(log_p)\n",
    "    log_p = log_p[perm]\n",
    "    ps    = ps[perm]\n",
    "    \n",
    "    return ps, log_p\n",
    "end"
   ]
  },
  {
   "cell_type": "markdown",
   "id": "77a729af",
   "metadata": {},
   "source": [
    "#### Grid proposal - gen wrapper"
   ]
  },
  {
   "cell_type": "code",
   "execution_count": 103,
   "id": "eb5703a5",
   "metadata": {},
   "outputs": [
    {
     "data": {
      "text/plain": [
       "DynamicDSLFunction{Any}(Dict{Symbol, Any}(), Dict{Symbol, Any}(), Type[Pose, Matrix{Float64}, Int64, Float64, Float64, Int64, Float64, Float64], false, Union{Nothing, Some{Any}}[nothing, nothing, nothing, nothing, nothing, nothing, nothing, nothing], var\"##grid_proposal#1163\", Bool[0, 0, 0, 0, 0, 0, 0, 0], false)"
      ]
     },
     "execution_count": 103,
     "metadata": {},
     "output_type": "execute_result"
    }
   ],
   "source": [
    "function filter_infs(ps, log_p)\n",
    "    good = log_p .!= -Inf\n",
    "    return ps[good], log_p[good]\n",
    "end\n",
    "\n",
    "@dist function labeled_cat(labels, probs)\n",
    "    index = categorical(probs)\n",
    "    labels[index]\n",
    "end\n",
    "\n",
    "@gen function grid_proposal(p::Pose, x::Matrix{Float64}, \n",
    "                            w::Int, sig::Float64, dropout::Float64, \n",
    "                            grid_k::Int, grid_dx::Float64, grid_dhd::Float64)\n",
    "\n",
    "    ps, log_p = grid_proposals(p, x, w, sig, dropout, grid_k, grid_dx, grid_dhd)\n",
    "    ps, log_p = filter_infs(ps, log_p)\n",
    "    probs = exp.(log_p .- logsumexp(log_p))\n",
    "    j = categorical(probs)\n",
    "    p_vec = {:pose} ~ labeled_cat(ps, probs)\n",
    "    return Pose(p_vec), ps, log_p\n",
    "end"
   ]
  },
  {
   "cell_type": "code",
   "execution_count": 108,
   "id": "1fc4acd6",
   "metadata": {},
   "outputs": [
    {
     "data": {
      "image/svg+xml": [
       "<?xml version=\"1.0\" encoding=\"utf-8\"?>\n",
       "<svg xmlns=\"http://www.w3.org/2000/svg\" xmlns:xlink=\"http://www.w3.org/1999/xlink\" width=\"400\" height=\"400\" viewBox=\"0 0 1600 1600\">\n",
       "<defs>\n",
       "  <clipPath id=\"clip230\">\n",
       "    <rect x=\"0\" y=\"0\" width=\"1600\" height=\"1600\"/>\n",
       "  </clipPath>\n",
       "</defs>\n",
       "<path clip-path=\"url(#clip230)\" d=\"M0 1600 L1600 1600 L1600 0 L0 0  Z\" fill=\"#ffffff\" fill-rule=\"evenodd\" fill-opacity=\"1\"/>\n",
       "<defs>\n",
       "  <clipPath id=\"clip231\">\n",
       "    <rect x=\"320\" y=\"160\" width=\"1121\" height=\"1121\"/>\n",
       "  </clipPath>\n",
       "</defs>\n",
       "<path clip-path=\"url(#clip230)\" d=\"M176.191 1446.49 L1552.76 1446.49 L1552.76 69.9234 L176.191 69.9234  Z\" fill=\"#ffffff\" fill-rule=\"evenodd\" fill-opacity=\"1\"/>\n",
       "<defs>\n",
       "  <clipPath id=\"clip232\">\n",
       "    <rect x=\"176\" y=\"69\" width=\"1378\" height=\"1378\"/>\n",
       "  </clipPath>\n",
       "</defs>\n",
       "<polyline clip-path=\"url(#clip232)\" style=\"stroke:#000000; stroke-linecap:round; stroke-linejoin:round; stroke-width:2; stroke-opacity:0.1; fill:none\" points=\"468.634,1446.49 468.634,69.9234 \"/>\n",
       "<polyline clip-path=\"url(#clip232)\" style=\"stroke:#000000; stroke-linecap:round; stroke-linejoin:round; stroke-width:2; stroke-opacity:0.1; fill:none\" points=\"812.775,1446.49 812.775,69.9234 \"/>\n",
       "<polyline clip-path=\"url(#clip232)\" style=\"stroke:#000000; stroke-linecap:round; stroke-linejoin:round; stroke-width:2; stroke-opacity:0.1; fill:none\" points=\"1156.92,1446.49 1156.92,69.9234 \"/>\n",
       "<polyline clip-path=\"url(#clip232)\" style=\"stroke:#000000; stroke-linecap:round; stroke-linejoin:round; stroke-width:2; stroke-opacity:0.1; fill:none\" points=\"1501.06,1446.49 1501.06,69.9234 \"/>\n",
       "<polyline clip-path=\"url(#clip230)\" style=\"stroke:#000000; stroke-linecap:round; stroke-linejoin:round; stroke-width:4; stroke-opacity:1; fill:none\" points=\"176.191,1446.49 1552.76,1446.49 \"/>\n",
       "<polyline clip-path=\"url(#clip230)\" style=\"stroke:#000000; stroke-linecap:round; stroke-linejoin:round; stroke-width:4; stroke-opacity:1; fill:none\" points=\"468.634,1446.49 468.634,1428.19 \"/>\n",
       "<polyline clip-path=\"url(#clip230)\" style=\"stroke:#000000; stroke-linecap:round; stroke-linejoin:round; stroke-width:4; stroke-opacity:1; fill:none\" points=\"812.775,1446.49 812.775,1428.19 \"/>\n",
       "<polyline clip-path=\"url(#clip230)\" style=\"stroke:#000000; stroke-linecap:round; stroke-linejoin:round; stroke-width:4; stroke-opacity:1; fill:none\" points=\"1156.92,1446.49 1156.92,1428.19 \"/>\n",
       "<polyline clip-path=\"url(#clip230)\" style=\"stroke:#000000; stroke-linecap:round; stroke-linejoin:round; stroke-width:4; stroke-opacity:1; fill:none\" points=\"1501.06,1446.49 1501.06,1428.19 \"/>\n",
       "<path clip-path=\"url(#clip230)\" d=\"M421.204 1498.55 L428.843 1498.55 L428.843 1472.19 L420.533 1473.85 L420.533 1469.6 L428.796 1467.93 L433.472 1467.93 L433.472 1498.55 L441.111 1498.55 L441.111 1502.49 L421.204 1502.49 L421.204 1498.55 Z\" fill=\"#000000\" fill-rule=\"evenodd\" fill-opacity=\"1\" /><path clip-path=\"url(#clip230)\" d=\"M463.403 1472 L451.597 1490.45 L463.403 1490.45 L463.403 1472 M462.176 1467.93 L468.055 1467.93 L468.055 1490.45 L472.986 1490.45 L472.986 1494.34 L468.055 1494.34 L468.055 1502.49 L463.403 1502.49 L463.403 1494.34 L447.801 1494.34 L447.801 1489.83 L462.176 1467.93 Z\" fill=\"#000000\" fill-rule=\"evenodd\" fill-opacity=\"1\" /><path clip-path=\"url(#clip230)\" d=\"M480.717 1496.61 L485.602 1496.61 L485.602 1502.49 L480.717 1502.49 L480.717 1496.61 Z\" fill=\"#000000\" fill-rule=\"evenodd\" fill-opacity=\"1\" /><path clip-path=\"url(#clip230)\" d=\"M495.833 1467.93 L514.189 1467.93 L514.189 1471.86 L500.115 1471.86 L500.115 1480.34 Q501.134 1479.99 502.152 1479.83 Q503.171 1479.64 504.189 1479.64 Q509.976 1479.64 513.356 1482.81 Q516.736 1485.98 516.736 1491.4 Q516.736 1496.98 513.263 1500.08 Q509.791 1503.16 503.472 1503.16 Q501.296 1503.16 499.027 1502.79 Q496.782 1502.42 494.375 1501.68 L494.375 1496.98 Q496.458 1498.11 498.68 1498.67 Q500.902 1499.22 503.379 1499.22 Q507.384 1499.22 509.722 1497.12 Q512.06 1495.01 512.06 1491.4 Q512.06 1487.79 509.722 1485.68 Q507.384 1483.58 503.379 1483.58 Q501.504 1483.58 499.629 1483.99 Q497.777 1484.41 495.833 1485.29 L495.833 1467.93 Z\" fill=\"#000000\" fill-rule=\"evenodd\" fill-opacity=\"1\" /><path clip-path=\"url(#clip230)\" d=\"M764.847 1498.55 L772.486 1498.55 L772.486 1472.19 L764.176 1473.85 L764.176 1469.6 L772.44 1467.93 L777.116 1467.93 L777.116 1498.55 L784.755 1498.55 L784.755 1502.49 L764.847 1502.49 L764.847 1498.55 Z\" fill=\"#000000\" fill-rule=\"evenodd\" fill-opacity=\"1\" /><path clip-path=\"url(#clip230)\" d=\"M794.245 1467.93 L812.602 1467.93 L812.602 1471.86 L798.528 1471.86 L798.528 1480.34 Q799.546 1479.99 800.565 1479.83 Q801.583 1479.64 802.602 1479.64 Q808.389 1479.64 811.768 1482.81 Q815.148 1485.98 815.148 1491.4 Q815.148 1496.98 811.676 1500.08 Q808.204 1503.16 801.884 1503.16 Q799.708 1503.16 797.44 1502.79 Q795.194 1502.42 792.787 1501.68 L792.787 1496.98 Q794.87 1498.11 797.093 1498.67 Q799.315 1499.22 801.792 1499.22 Q805.796 1499.22 808.134 1497.12 Q810.472 1495.01 810.472 1491.4 Q810.472 1487.79 808.134 1485.68 Q805.796 1483.58 801.792 1483.58 Q799.917 1483.58 798.042 1483.99 Q796.19 1484.41 794.245 1485.29 L794.245 1467.93 Z\" fill=\"#000000\" fill-rule=\"evenodd\" fill-opacity=\"1\" /><path clip-path=\"url(#clip230)\" d=\"M824.361 1496.61 L829.245 1496.61 L829.245 1502.49 L824.361 1502.49 L824.361 1496.61 Z\" fill=\"#000000\" fill-rule=\"evenodd\" fill-opacity=\"1\" /><path clip-path=\"url(#clip230)\" d=\"M849.43 1471.01 Q845.819 1471.01 843.991 1474.57 Q842.185 1478.11 842.185 1485.24 Q842.185 1492.35 843.991 1495.91 Q845.819 1499.46 849.43 1499.46 Q853.065 1499.46 854.87 1495.91 Q856.699 1492.35 856.699 1485.24 Q856.699 1478.11 854.87 1474.57 Q853.065 1471.01 849.43 1471.01 M849.43 1467.3 Q855.24 1467.3 858.296 1471.91 Q861.375 1476.49 861.375 1485.24 Q861.375 1493.97 858.296 1498.58 Q855.24 1503.16 849.43 1503.16 Q843.62 1503.16 840.541 1498.58 Q837.486 1493.97 837.486 1485.24 Q837.486 1476.49 840.541 1471.91 Q843.62 1467.3 849.43 1467.3 Z\" fill=\"#000000\" fill-rule=\"evenodd\" fill-opacity=\"1\" /><path clip-path=\"url(#clip230)\" d=\"M1109.49 1498.55 L1117.13 1498.55 L1117.13 1472.19 L1108.82 1473.85 L1108.82 1469.6 L1117.08 1467.93 L1121.75 1467.93 L1121.75 1498.55 L1129.39 1498.55 L1129.39 1502.49 L1109.49 1502.49 L1109.49 1498.55 Z\" fill=\"#000000\" fill-rule=\"evenodd\" fill-opacity=\"1\" /><path clip-path=\"url(#clip230)\" d=\"M1138.88 1467.93 L1157.24 1467.93 L1157.24 1471.86 L1143.17 1471.86 L1143.17 1480.34 Q1144.19 1479.99 1145.2 1479.83 Q1146.22 1479.64 1147.24 1479.64 Q1153.03 1479.64 1156.41 1482.81 Q1159.79 1485.98 1159.79 1491.4 Q1159.79 1496.98 1156.31 1500.08 Q1152.84 1503.16 1146.52 1503.16 Q1144.35 1503.16 1142.08 1502.79 Q1139.83 1502.42 1137.43 1501.68 L1137.43 1496.98 Q1139.51 1498.11 1141.73 1498.67 Q1143.95 1499.22 1146.43 1499.22 Q1150.44 1499.22 1152.77 1497.12 Q1155.11 1495.01 1155.11 1491.4 Q1155.11 1487.79 1152.77 1485.68 Q1150.44 1483.58 1146.43 1483.58 Q1144.56 1483.58 1142.68 1483.99 Q1140.83 1484.41 1138.88 1485.29 L1138.88 1467.93 Z\" fill=\"#000000\" fill-rule=\"evenodd\" fill-opacity=\"1\" /><path clip-path=\"url(#clip230)\" d=\"M1169 1496.61 L1173.88 1496.61 L1173.88 1502.49 L1169 1502.49 L1169 1496.61 Z\" fill=\"#000000\" fill-rule=\"evenodd\" fill-opacity=\"1\" /><path clip-path=\"url(#clip230)\" d=\"M1184.12 1467.93 L1202.47 1467.93 L1202.47 1471.86 L1188.4 1471.86 L1188.4 1480.34 Q1189.42 1479.99 1190.44 1479.83 Q1191.45 1479.64 1192.47 1479.64 Q1198.26 1479.64 1201.64 1482.81 Q1205.02 1485.98 1205.02 1491.4 Q1205.02 1496.98 1201.55 1500.08 Q1198.07 1503.16 1191.75 1503.16 Q1189.58 1503.16 1187.31 1502.79 Q1185.06 1502.42 1182.66 1501.68 L1182.66 1496.98 Q1184.74 1498.11 1186.96 1498.67 Q1189.19 1499.22 1191.66 1499.22 Q1195.67 1499.22 1198 1497.12 Q1200.34 1495.01 1200.34 1491.4 Q1200.34 1487.79 1198 1485.68 Q1195.67 1483.58 1191.66 1483.58 Q1189.79 1483.58 1187.91 1483.99 Q1186.06 1484.41 1184.12 1485.29 L1184.12 1467.93 Z\" fill=\"#000000\" fill-rule=\"evenodd\" fill-opacity=\"1\" /><path clip-path=\"url(#clip230)\" d=\"M1453.13 1498.55 L1460.77 1498.55 L1460.77 1472.19 L1452.46 1473.85 L1452.46 1469.6 L1460.72 1467.93 L1465.4 1467.93 L1465.4 1498.55 L1473.04 1498.55 L1473.04 1502.49 L1453.13 1502.49 L1453.13 1498.55 Z\" fill=\"#000000\" fill-rule=\"evenodd\" fill-opacity=\"1\" /><path clip-path=\"url(#clip230)\" d=\"M1493.06 1483.35 Q1489.91 1483.35 1488.06 1485.5 Q1486.23 1487.65 1486.23 1491.4 Q1486.23 1495.13 1488.06 1497.3 Q1489.91 1499.46 1493.06 1499.46 Q1496.21 1499.46 1498.04 1497.3 Q1499.89 1495.13 1499.89 1491.4 Q1499.89 1487.65 1498.04 1485.5 Q1496.21 1483.35 1493.06 1483.35 M1502.34 1468.69 L1502.34 1472.95 Q1500.58 1472.12 1498.78 1471.68 Q1497 1471.24 1495.24 1471.24 Q1490.61 1471.24 1488.15 1474.36 Q1485.72 1477.49 1485.38 1483.81 Q1486.74 1481.79 1488.8 1480.73 Q1490.86 1479.64 1493.34 1479.64 Q1498.55 1479.64 1501.56 1482.81 Q1504.59 1485.96 1504.59 1491.4 Q1504.59 1496.72 1501.44 1499.94 Q1498.29 1503.16 1493.06 1503.16 Q1487.07 1503.16 1483.89 1498.58 Q1480.72 1493.97 1480.72 1485.24 Q1480.72 1477.05 1484.61 1472.19 Q1488.5 1467.3 1495.05 1467.3 Q1496.81 1467.3 1498.59 1467.65 Q1500.4 1468 1502.34 1468.69 Z\" fill=\"#000000\" fill-rule=\"evenodd\" fill-opacity=\"1\" /><path clip-path=\"url(#clip230)\" d=\"M1512.64 1496.61 L1517.53 1496.61 L1517.53 1502.49 L1512.64 1502.49 L1512.64 1496.61 Z\" fill=\"#000000\" fill-rule=\"evenodd\" fill-opacity=\"1\" /><path clip-path=\"url(#clip230)\" d=\"M1537.71 1471.01 Q1534.1 1471.01 1532.27 1474.57 Q1530.47 1478.11 1530.47 1485.24 Q1530.47 1492.35 1532.27 1495.91 Q1534.1 1499.46 1537.71 1499.46 Q1541.35 1499.46 1543.15 1495.91 Q1544.98 1492.35 1544.98 1485.24 Q1544.98 1478.11 1543.15 1474.57 Q1541.35 1471.01 1537.71 1471.01 M1537.71 1467.3 Q1543.52 1467.3 1546.58 1471.91 Q1549.66 1476.49 1549.66 1485.24 Q1549.66 1493.97 1546.58 1498.58 Q1543.52 1503.16 1537.71 1503.16 Q1531.9 1503.16 1528.82 1498.58 Q1525.77 1493.97 1525.77 1485.24 Q1525.77 1476.49 1528.82 1471.91 Q1531.9 1467.3 1537.71 1467.3 Z\" fill=\"#000000\" fill-rule=\"evenodd\" fill-opacity=\"1\" /><polyline clip-path=\"url(#clip232)\" style=\"stroke:#000000; stroke-linecap:round; stroke-linejoin:round; stroke-width:2; stroke-opacity:0.1; fill:none\" points=\"176.191,1351.24 1552.76,1351.24 \"/>\n",
       "<polyline clip-path=\"url(#clip232)\" style=\"stroke:#000000; stroke-linecap:round; stroke-linejoin:round; stroke-width:2; stroke-opacity:0.1; fill:none\" points=\"176.191,1007.1 1552.76,1007.1 \"/>\n",
       "<polyline clip-path=\"url(#clip232)\" style=\"stroke:#000000; stroke-linecap:round; stroke-linejoin:round; stroke-width:2; stroke-opacity:0.1; fill:none\" points=\"176.191,662.96 1552.76,662.96 \"/>\n",
       "<polyline clip-path=\"url(#clip232)\" style=\"stroke:#000000; stroke-linecap:round; stroke-linejoin:round; stroke-width:2; stroke-opacity:0.1; fill:none\" points=\"176.191,318.819 1552.76,318.819 \"/>\n",
       "<polyline clip-path=\"url(#clip230)\" style=\"stroke:#000000; stroke-linecap:round; stroke-linejoin:round; stroke-width:4; stroke-opacity:1; fill:none\" points=\"176.191,1446.49 176.191,69.9234 \"/>\n",
       "<polyline clip-path=\"url(#clip230)\" style=\"stroke:#000000; stroke-linecap:round; stroke-linejoin:round; stroke-width:4; stroke-opacity:1; fill:none\" points=\"176.191,1351.24 195.088,1351.24 \"/>\n",
       "<polyline clip-path=\"url(#clip230)\" style=\"stroke:#000000; stroke-linecap:round; stroke-linejoin:round; stroke-width:4; stroke-opacity:1; fill:none\" points=\"176.191,1007.1 195.088,1007.1 \"/>\n",
       "<polyline clip-path=\"url(#clip230)\" style=\"stroke:#000000; stroke-linecap:round; stroke-linejoin:round; stroke-width:4; stroke-opacity:1; fill:none\" points=\"176.191,662.96 195.088,662.96 \"/>\n",
       "<polyline clip-path=\"url(#clip230)\" style=\"stroke:#000000; stroke-linecap:round; stroke-linejoin:round; stroke-width:4; stroke-opacity:1; fill:none\" points=\"176.191,318.819 195.088,318.819 \"/>\n",
       "<path clip-path=\"url(#clip230)\" d=\"M56.6588 1364.59 L64.2976 1364.59 L64.2976 1338.22 L55.9875 1339.89 L55.9875 1335.63 L64.2513 1333.96 L68.9272 1333.96 L68.9272 1364.59 L76.5661 1364.59 L76.5661 1368.52 L56.6588 1368.52 L56.6588 1364.59 Z\" fill=\"#000000\" fill-rule=\"evenodd\" fill-opacity=\"1\" /><path clip-path=\"url(#clip230)\" d=\"M100.177 1349.89 Q103.534 1350.61 105.409 1352.87 Q107.307 1355.14 107.307 1358.48 Q107.307 1363.59 103.788 1366.39 Q100.27 1369.19 93.7882 1369.19 Q91.6123 1369.19 89.2975 1368.75 Q87.0058 1368.34 84.5522 1367.48 L84.5522 1362.97 Q86.4966 1364.1 88.8114 1364.68 Q91.1262 1365.26 93.6493 1365.26 Q98.0475 1365.26 100.339 1363.52 Q102.654 1361.79 102.654 1358.48 Q102.654 1355.42 100.501 1353.71 Q98.3715 1351.97 94.5521 1351.97 L90.5243 1351.97 L90.5243 1348.13 L94.7373 1348.13 Q98.1863 1348.13 100.015 1346.76 Q101.844 1345.37 101.844 1342.78 Q101.844 1340.12 99.9456 1338.71 Q98.0706 1337.27 94.5521 1337.27 Q92.6308 1337.27 90.4318 1337.69 Q88.2327 1338.11 85.5938 1338.99 L85.5938 1334.82 Q88.2558 1334.08 90.5706 1333.71 Q92.9086 1333.34 94.9688 1333.34 Q100.293 1333.34 103.395 1335.77 Q106.496 1338.18 106.496 1342.3 Q106.496 1345.17 104.853 1347.16 Q103.209 1349.12 100.177 1349.89 Z\" fill=\"#000000\" fill-rule=\"evenodd\" fill-opacity=\"1\" /><path clip-path=\"url(#clip230)\" d=\"M116.172 1362.64 L121.057 1362.64 L121.057 1368.52 L116.172 1368.52 L116.172 1362.64 Z\" fill=\"#000000\" fill-rule=\"evenodd\" fill-opacity=\"1\" /><path clip-path=\"url(#clip230)\" d=\"M131.288 1333.96 L149.644 1333.96 L149.644 1337.9 L135.57 1337.9 L135.57 1346.37 Q136.589 1346.02 137.607 1345.86 Q138.626 1345.68 139.644 1345.68 Q145.431 1345.68 148.811 1348.85 Q152.191 1352.02 152.191 1357.44 Q152.191 1363.01 148.718 1366.12 Q145.246 1369.19 138.927 1369.19 Q136.751 1369.19 134.482 1368.82 Q132.237 1368.45 129.83 1367.71 L129.83 1363.01 Q131.913 1364.15 134.135 1364.7 Q136.357 1365.26 138.834 1365.26 Q142.839 1365.26 145.177 1363.15 Q147.515 1361.05 147.515 1357.44 Q147.515 1353.82 145.177 1351.72 Q142.839 1349.61 138.834 1349.61 Q136.959 1349.61 135.084 1350.03 Q133.232 1350.44 131.288 1351.32 L131.288 1333.96 Z\" fill=\"#000000\" fill-rule=\"evenodd\" fill-opacity=\"1\" /><path clip-path=\"url(#clip230)\" d=\"M55.6634 1020.45 L63.3023 1020.45 L63.3023 994.081 L54.9921 995.748 L54.9921 991.488 L63.256 989.822 L67.9319 989.822 L67.9319 1020.45 L75.5707 1020.45 L75.5707 1024.38 L55.6634 1024.38 L55.6634 1020.45 Z\" fill=\"#000000\" fill-rule=\"evenodd\" fill-opacity=\"1\" /><path clip-path=\"url(#clip230)\" d=\"M97.8623 993.896 L86.0568 1012.34 L97.8623 1012.34 L97.8623 993.896 M96.6354 989.822 L102.515 989.822 L102.515 1012.34 L107.446 1012.34 L107.446 1016.23 L102.515 1016.23 L102.515 1024.38 L97.8623 1024.38 L97.8623 1016.23 L82.2605 1016.23 L82.2605 1011.72 L96.6354 989.822 Z\" fill=\"#000000\" fill-rule=\"evenodd\" fill-opacity=\"1\" /><path clip-path=\"url(#clip230)\" d=\"M115.177 1018.5 L120.061 1018.5 L120.061 1024.38 L115.177 1024.38 L115.177 1018.5 Z\" fill=\"#000000\" fill-rule=\"evenodd\" fill-opacity=\"1\" /><path clip-path=\"url(#clip230)\" d=\"M140.246 992.9 Q136.635 992.9 134.807 996.465 Q133.001 1000.01 133.001 1007.14 Q133.001 1014.24 134.807 1017.81 Q136.635 1021.35 140.246 1021.35 Q143.881 1021.35 145.686 1017.81 Q147.515 1014.24 147.515 1007.14 Q147.515 1000.01 145.686 996.465 Q143.881 992.9 140.246 992.9 M140.246 989.197 Q146.056 989.197 149.112 993.803 Q152.191 998.386 152.191 1007.14 Q152.191 1015.86 149.112 1020.47 Q146.056 1025.05 140.246 1025.05 Q134.436 1025.05 131.357 1020.47 Q128.302 1015.86 128.302 1007.14 Q128.302 998.386 131.357 993.803 Q134.436 989.197 140.246 989.197 Z\" fill=\"#000000\" fill-rule=\"evenodd\" fill-opacity=\"1\" /><path clip-path=\"url(#clip230)\" d=\"M56.6588 676.305 L64.2976 676.305 L64.2976 649.94 L55.9875 651.606 L55.9875 647.347 L64.2513 645.68 L68.9272 645.68 L68.9272 676.305 L76.5661 676.305 L76.5661 680.24 L56.6588 680.24 L56.6588 676.305 Z\" fill=\"#000000\" fill-rule=\"evenodd\" fill-opacity=\"1\" /><path clip-path=\"url(#clip230)\" d=\"M98.8576 649.754 L87.0521 668.203 L98.8576 668.203 L98.8576 649.754 M97.6308 645.68 L103.51 645.68 L103.51 668.203 L108.441 668.203 L108.441 672.092 L103.51 672.092 L103.51 680.24 L98.8576 680.24 L98.8576 672.092 L83.2559 672.092 L83.2559 667.578 L97.6308 645.68 Z\" fill=\"#000000\" fill-rule=\"evenodd\" fill-opacity=\"1\" /><path clip-path=\"url(#clip230)\" d=\"M116.172 674.361 L121.057 674.361 L121.057 680.24 L116.172 680.24 L116.172 674.361 Z\" fill=\"#000000\" fill-rule=\"evenodd\" fill-opacity=\"1\" /><path clip-path=\"url(#clip230)\" d=\"M131.288 645.68 L149.644 645.68 L149.644 649.616 L135.57 649.616 L135.57 658.088 Q136.589 657.741 137.607 657.578 Q138.626 657.393 139.644 657.393 Q145.431 657.393 148.811 660.565 Q152.191 663.736 152.191 669.152 Q152.191 674.731 148.718 677.833 Q145.246 680.912 138.927 680.912 Q136.751 680.912 134.482 680.541 Q132.237 680.171 129.83 679.43 L129.83 674.731 Q131.913 675.865 134.135 676.421 Q136.357 676.977 138.834 676.977 Q142.839 676.977 145.177 674.87 Q147.515 672.764 147.515 669.152 Q147.515 665.541 145.177 663.435 Q142.839 661.328 138.834 661.328 Q136.959 661.328 135.084 661.745 Q133.232 662.162 131.288 663.041 L131.288 645.68 Z\" fill=\"#000000\" fill-rule=\"evenodd\" fill-opacity=\"1\" /><path clip-path=\"url(#clip230)\" d=\"M55.6634 332.164 L63.3023 332.164 L63.3023 305.798 L54.9921 307.465 L54.9921 303.206 L63.256 301.539 L67.9319 301.539 L67.9319 332.164 L75.5707 332.164 L75.5707 336.099 L55.6634 336.099 L55.6634 332.164 Z\" fill=\"#000000\" fill-rule=\"evenodd\" fill-opacity=\"1\" /><path clip-path=\"url(#clip230)\" d=\"M85.0614 301.539 L103.418 301.539 L103.418 305.474 L89.3438 305.474 L89.3438 313.946 Q90.3623 313.599 91.3808 313.437 Q92.3993 313.252 93.4178 313.252 Q99.2049 313.252 102.584 316.423 Q105.964 319.595 105.964 325.011 Q105.964 330.59 102.492 333.692 Q99.0197 336.77 92.7003 336.77 Q90.5243 336.77 88.2558 336.4 Q86.0105 336.03 83.6031 335.289 L83.6031 330.59 Q85.6864 331.724 87.9086 332.28 Q90.1308 332.835 92.6077 332.835 Q96.6123 332.835 98.9502 330.729 Q101.288 328.622 101.288 325.011 Q101.288 321.4 98.9502 319.294 Q96.6123 317.187 92.6077 317.187 Q90.7327 317.187 88.8577 317.604 Q87.0058 318.02 85.0614 318.9 L85.0614 301.539 Z\" fill=\"#000000\" fill-rule=\"evenodd\" fill-opacity=\"1\" /><path clip-path=\"url(#clip230)\" d=\"M115.177 330.219 L120.061 330.219 L120.061 336.099 L115.177 336.099 L115.177 330.219 Z\" fill=\"#000000\" fill-rule=\"evenodd\" fill-opacity=\"1\" /><path clip-path=\"url(#clip230)\" d=\"M140.246 304.618 Q136.635 304.618 134.807 308.183 Q133.001 311.724 133.001 318.854 Q133.001 325.96 134.807 329.525 Q136.635 333.067 140.246 333.067 Q143.881 333.067 145.686 329.525 Q147.515 325.96 147.515 318.854 Q147.515 311.724 145.686 308.183 Q143.881 304.618 140.246 304.618 M140.246 300.914 Q146.056 300.914 149.112 305.521 Q152.191 310.104 152.191 318.854 Q152.191 327.581 149.112 332.187 Q146.056 336.77 140.246 336.77 Q134.436 336.77 131.357 332.187 Q128.302 327.581 128.302 318.854 Q128.302 310.104 131.357 305.521 Q134.436 300.914 140.246 300.914 Z\" fill=\"#000000\" fill-rule=\"evenodd\" fill-opacity=\"1\" /><polyline clip-path=\"url(#clip232)\" style=\"stroke:#000000; stroke-linecap:round; stroke-linejoin:round; stroke-width:4; stroke-opacity:1; fill:none\" points=\"-398.602,10574.2 -405.485,10567.3 \"/>\n",
       "<polyline clip-path=\"url(#clip232)\" style=\"stroke:#000000; stroke-linecap:round; stroke-linejoin:round; stroke-width:4; stroke-opacity:1; fill:none\" points=\"-405.485,10567.3 -405.485,6740.5 \"/>\n",
       "<polyline clip-path=\"url(#clip232)\" style=\"stroke:#000000; stroke-linecap:round; stroke-linejoin:round; stroke-width:4; stroke-opacity:1; fill:none\" points=\"-405.485,6740.5 -350.422,6740.5 \"/>\n",
       "<polyline clip-path=\"url(#clip232)\" style=\"stroke:#000000; stroke-linecap:round; stroke-linejoin:round; stroke-width:4; stroke-opacity:1; fill:none\" points=\"-350.422,6740.5 -343.539,6733.61 \"/>\n",
       "<polyline clip-path=\"url(#clip232)\" style=\"stroke:#000000; stroke-linecap:round; stroke-linejoin:round; stroke-width:4; stroke-opacity:1; fill:none\" points=\"-343.539,6733.61 -343.539,6664.78 \"/>\n",
       "<polyline clip-path=\"url(#clip232)\" style=\"stroke:#000000; stroke-linecap:round; stroke-linejoin:round; stroke-width:4; stroke-opacity:1; fill:none\" points=\"-343.539,6664.78 -350.422,6657.9 \"/>\n",
       "<polyline clip-path=\"url(#clip232)\" style=\"stroke:#000000; stroke-linecap:round; stroke-linejoin:round; stroke-width:4; stroke-opacity:1; fill:none\" points=\"-350.422,6657.9 -1086.88,6657.9 \"/>\n",
       "<polyline clip-path=\"url(#clip232)\" style=\"stroke:#000000; stroke-linecap:round; stroke-linejoin:round; stroke-width:4; stroke-opacity:1; fill:none\" points=\"-1086.88,6657.9 -1093.77,6651.02 \"/>\n",
       "<polyline clip-path=\"url(#clip232)\" style=\"stroke:#000000; stroke-linecap:round; stroke-linejoin:round; stroke-width:4; stroke-opacity:1; fill:none\" points=\"-1093.77,6651.02 -1093.77,4056.19 \"/>\n",
       "<polyline clip-path=\"url(#clip232)\" style=\"stroke:#000000; stroke-linecap:round; stroke-linejoin:round; stroke-width:4; stroke-opacity:1; fill:none\" points=\"-1093.77,4056.19 482.4,4056.19 \"/>\n",
       "<polyline clip-path=\"url(#clip232)\" style=\"stroke:#000000; stroke-linecap:round; stroke-linejoin:round; stroke-width:4; stroke-opacity:1; fill:none\" points=\"482.4,4056.19 489.283,4049.31 \"/>\n",
       "<polyline clip-path=\"url(#clip232)\" style=\"stroke:#000000; stroke-linecap:round; stroke-linejoin:round; stroke-width:4; stroke-opacity:1; fill:none\" points=\"489.283,4049.31 489.283,3980.48 \"/>\n",
       "<polyline clip-path=\"url(#clip232)\" style=\"stroke:#000000; stroke-linecap:round; stroke-linejoin:round; stroke-width:4; stroke-opacity:1; fill:none\" points=\"489.283,3980.48 482.4,3973.6 \"/>\n",
       "<polyline clip-path=\"url(#clip232)\" style=\"stroke:#000000; stroke-linecap:round; stroke-linejoin:round; stroke-width:4; stroke-opacity:1; fill:none\" points=\"482.4,3973.6 -3365.1,3973.6 \"/>\n",
       "<polyline clip-path=\"url(#clip232)\" style=\"stroke:#000000; stroke-linecap:round; stroke-linejoin:round; stroke-width:4; stroke-opacity:1; fill:none\" points=\"-3365.1,3973.6 -3365.1,3863.47 \"/>\n",
       "<polyline clip-path=\"url(#clip232)\" style=\"stroke:#000000; stroke-linecap:round; stroke-linejoin:round; stroke-width:4; stroke-opacity:1; fill:none\" points=\"-3365.1,3863.47 -3371.98,3856.59 \"/>\n",
       "<polyline clip-path=\"url(#clip232)\" style=\"stroke:#000000; stroke-linecap:round; stroke-linejoin:round; stroke-width:4; stroke-opacity:1; fill:none\" points=\"-3371.98,3856.59 -3440.81,3856.59 \"/>\n",
       "<polyline clip-path=\"url(#clip232)\" style=\"stroke:#000000; stroke-linecap:round; stroke-linejoin:round; stroke-width:4; stroke-opacity:1; fill:none\" points=\"-3440.81,3856.59 -3447.69,3863.47 \"/>\n",
       "<polyline clip-path=\"url(#clip232)\" style=\"stroke:#000000; stroke-linecap:round; stroke-linejoin:round; stroke-width:4; stroke-opacity:1; fill:none\" points=\"-3447.69,3863.47 -3447.69,3973.6 \"/>\n",
       "<polyline clip-path=\"url(#clip232)\" style=\"stroke:#000000; stroke-linecap:round; stroke-linejoin:round; stroke-width:4; stroke-opacity:1; fill:none\" points=\"-3447.69,3973.6 -5395.53,3973.6 \"/>\n",
       "<polyline clip-path=\"url(#clip232)\" style=\"stroke:#000000; stroke-linecap:round; stroke-linejoin:round; stroke-width:4; stroke-opacity:1; fill:none\" points=\"-5395.53,3973.6 -5402.42,3966.72 \"/>\n",
       "<polyline clip-path=\"url(#clip232)\" style=\"stroke:#000000; stroke-linecap:round; stroke-linejoin:round; stroke-width:4; stroke-opacity:1; fill:none\" points=\"-5402.42,3966.72 -5409.3,3966.72 \"/>\n",
       "<polyline clip-path=\"url(#clip232)\" style=\"stroke:#000000; stroke-linecap:round; stroke-linejoin:round; stroke-width:4; stroke-opacity:1; fill:none\" points=\"-5409.3,3966.72 -5416.18,3973.6 \"/>\n",
       "<polyline clip-path=\"url(#clip232)\" style=\"stroke:#000000; stroke-linecap:round; stroke-linejoin:round; stroke-width:4; stroke-opacity:1; fill:none\" points=\"-5416.18,3973.6 -5636.43,3973.6 \"/>\n",
       "<polyline clip-path=\"url(#clip232)\" style=\"stroke:#000000; stroke-linecap:round; stroke-linejoin:round; stroke-width:4; stroke-opacity:1; fill:none\" points=\"-5636.43,3973.6 -5643.32,3980.48 \"/>\n",
       "<polyline clip-path=\"url(#clip232)\" style=\"stroke:#000000; stroke-linecap:round; stroke-linejoin:round; stroke-width:4; stroke-opacity:1; fill:none\" points=\"-5643.32,3980.48 -5643.32,4049.31 \"/>\n",
       "<polyline clip-path=\"url(#clip232)\" style=\"stroke:#000000; stroke-linecap:round; stroke-linejoin:round; stroke-width:4; stroke-opacity:1; fill:none\" points=\"-5643.32,4049.31 -5636.43,4056.19 \"/>\n",
       "<polyline clip-path=\"url(#clip232)\" style=\"stroke:#000000; stroke-linecap:round; stroke-linejoin:round; stroke-width:4; stroke-opacity:1; fill:none\" points=\"-5636.43,4056.19 -5471.24,4056.19 \"/>\n",
       "<polyline clip-path=\"url(#clip232)\" style=\"stroke:#000000; stroke-linecap:round; stroke-linejoin:round; stroke-width:4; stroke-opacity:1; fill:none\" points=\"-5471.24,4056.19 -5471.24,6657.9 \"/>\n",
       "<polyline clip-path=\"url(#clip232)\" style=\"stroke:#000000; stroke-linecap:round; stroke-linejoin:round; stroke-width:4; stroke-opacity:1; fill:none\" points=\"-5471.24,6657.9 -8176.2,6657.9 \"/>\n",
       "<polyline clip-path=\"url(#clip232)\" style=\"stroke:#000000; stroke-linecap:round; stroke-linejoin:round; stroke-width:4; stroke-opacity:1; fill:none\" points=\"-8176.2,6657.9 -8183.08,6651.02 \"/>\n",
       "<polyline clip-path=\"url(#clip232)\" style=\"stroke:#000000; stroke-linecap:round; stroke-linejoin:round; stroke-width:4; stroke-opacity:1; fill:none\" points=\"-8183.08,6651.02 -8183.08,4400.33 \"/>\n",
       "<polyline clip-path=\"url(#clip232)\" style=\"stroke:#000000; stroke-linecap:round; stroke-linejoin:round; stroke-width:4; stroke-opacity:1; fill:none\" points=\"-8183.08,4400.33 -6407.31,4400.33 \"/>\n",
       "<polyline clip-path=\"url(#clip232)\" style=\"stroke:#000000; stroke-linecap:round; stroke-linejoin:round; stroke-width:4; stroke-opacity:1; fill:none\" points=\"-6407.31,4400.33 -6393.54,4386.57 \"/>\n",
       "<polyline clip-path=\"url(#clip232)\" style=\"stroke:#000000; stroke-linecap:round; stroke-linejoin:round; stroke-width:4; stroke-opacity:1; fill:none\" points=\"-6393.54,4386.57 -6393.54,4056.19 \"/>\n",
       "<polyline clip-path=\"url(#clip232)\" style=\"stroke:#000000; stroke-linecap:round; stroke-linejoin:round; stroke-width:4; stroke-opacity:1; fill:none\" points=\"-6393.54,4056.19 -6228.36,4056.19 \"/>\n",
       "<polyline clip-path=\"url(#clip232)\" style=\"stroke:#000000; stroke-linecap:round; stroke-linejoin:round; stroke-width:4; stroke-opacity:1; fill:none\" points=\"-6228.36,4056.19 -6221.47,4049.31 \"/>\n",
       "<polyline clip-path=\"url(#clip232)\" style=\"stroke:#000000; stroke-linecap:round; stroke-linejoin:round; stroke-width:4; stroke-opacity:1; fill:none\" points=\"-6221.47,4049.31 -6221.47,3980.48 \"/>\n",
       "<polyline clip-path=\"url(#clip232)\" style=\"stroke:#000000; stroke-linecap:round; stroke-linejoin:round; stroke-width:4; stroke-opacity:1; fill:none\" points=\"-6221.47,3980.48 -6228.36,3973.6 \"/>\n",
       "<polyline clip-path=\"url(#clip232)\" style=\"stroke:#000000; stroke-linecap:round; stroke-linejoin:round; stroke-width:4; stroke-opacity:1; fill:none\" points=\"-6228.36,3973.6 -6393.54,3973.6 \"/>\n",
       "<polyline clip-path=\"url(#clip232)\" style=\"stroke:#000000; stroke-linecap:round; stroke-linejoin:round; stroke-width:4; stroke-opacity:1; fill:none\" points=\"-6393.54,3973.6 -6393.54,3663.87 \"/>\n",
       "<polyline clip-path=\"url(#clip232)\" style=\"stroke:#000000; stroke-linecap:round; stroke-linejoin:round; stroke-width:4; stroke-opacity:1; fill:none\" points=\"-6393.54,3663.87 -6400.43,3656.99 \"/>\n",
       "<polyline clip-path=\"url(#clip232)\" style=\"stroke:#000000; stroke-linecap:round; stroke-linejoin:round; stroke-width:4; stroke-opacity:1; fill:none\" points=\"-6400.43,3656.99 -6469.25,3656.99 \"/>\n",
       "<polyline clip-path=\"url(#clip232)\" style=\"stroke:#000000; stroke-linecap:round; stroke-linejoin:round; stroke-width:4; stroke-opacity:1; fill:none\" points=\"-6469.25,3656.99 -6476.14,3663.87 \"/>\n",
       "<polyline clip-path=\"url(#clip232)\" style=\"stroke:#000000; stroke-linecap:round; stroke-linejoin:round; stroke-width:4; stroke-opacity:1; fill:none\" points=\"-6476.14,3663.87 -6476.14,4317.74 \"/>\n",
       "<polyline clip-path=\"url(#clip232)\" style=\"stroke:#000000; stroke-linecap:round; stroke-linejoin:round; stroke-width:4; stroke-opacity:1; fill:none\" points=\"-6476.14,4317.74 -8183.08,4317.74 \"/>\n",
       "<polyline clip-path=\"url(#clip232)\" style=\"stroke:#000000; stroke-linecap:round; stroke-linejoin:round; stroke-width:4; stroke-opacity:1; fill:none\" points=\"-8183.08,4317.74 -8183.08,3023.77 \"/>\n",
       "<polyline clip-path=\"url(#clip232)\" style=\"stroke:#000000; stroke-linecap:round; stroke-linejoin:round; stroke-width:4; stroke-opacity:1; fill:none\" points=\"-8183.08,3023.77 -6476.14,3023.77 \"/>\n",
       "<polyline clip-path=\"url(#clip232)\" style=\"stroke:#000000; stroke-linecap:round; stroke-linejoin:round; stroke-width:4; stroke-opacity:1; fill:none\" points=\"-6476.14,3023.77 -6476.14,3071.95 \"/>\n",
       "<polyline clip-path=\"url(#clip232)\" style=\"stroke:#000000; stroke-linecap:round; stroke-linejoin:round; stroke-width:4; stroke-opacity:1; fill:none\" points=\"-6476.14,3071.95 -6469.25,3078.83 \"/>\n",
       "<polyline clip-path=\"url(#clip232)\" style=\"stroke:#000000; stroke-linecap:round; stroke-linejoin:round; stroke-width:4; stroke-opacity:1; fill:none\" points=\"-6469.25,3078.83 -6400.43,3078.83 \"/>\n",
       "<polyline clip-path=\"url(#clip232)\" style=\"stroke:#000000; stroke-linecap:round; stroke-linejoin:round; stroke-width:4; stroke-opacity:1; fill:none\" points=\"-6400.43,3078.83 -6393.54,3071.95 \"/>\n",
       "<polyline clip-path=\"url(#clip232)\" style=\"stroke:#000000; stroke-linecap:round; stroke-linejoin:round; stroke-width:4; stroke-opacity:1; fill:none\" points=\"-6393.54,3071.95 -6393.54,3023.77 \"/>\n",
       "<polyline clip-path=\"url(#clip232)\" style=\"stroke:#000000; stroke-linecap:round; stroke-linejoin:round; stroke-width:4; stroke-opacity:1; fill:none\" points=\"-6393.54,3023.77 -5849.8,3023.77 \"/>\n",
       "<polyline clip-path=\"url(#clip232)\" style=\"stroke:#000000; stroke-linecap:round; stroke-linejoin:round; stroke-width:4; stroke-opacity:1; fill:none\" points=\"-5849.8,3023.77 -5842.92,3030.65 \"/>\n",
       "<polyline clip-path=\"url(#clip232)\" style=\"stroke:#000000; stroke-linecap:round; stroke-linejoin:round; stroke-width:4; stroke-opacity:1; fill:none\" points=\"-5842.92,3030.65 -5842.92,3037.54 \"/>\n",
       "<polyline clip-path=\"url(#clip232)\" style=\"stroke:#000000; stroke-linecap:round; stroke-linejoin:round; stroke-width:4; stroke-opacity:1; fill:none\" points=\"-5842.92,3037.54 -5836.03,3044.42 \"/>\n",
       "<polyline clip-path=\"url(#clip232)\" style=\"stroke:#000000; stroke-linecap:round; stroke-linejoin:round; stroke-width:4; stroke-opacity:1; fill:none\" points=\"-5836.03,3044.42 -5822.27,3044.42 \"/>\n",
       "<polyline clip-path=\"url(#clip232)\" style=\"stroke:#000000; stroke-linecap:round; stroke-linejoin:round; stroke-width:4; stroke-opacity:1; fill:none\" points=\"-5822.27,3044.42 -5815.39,3037.54 \"/>\n",
       "<polyline clip-path=\"url(#clip232)\" style=\"stroke:#000000; stroke-linecap:round; stroke-linejoin:round; stroke-width:4; stroke-opacity:1; fill:none\" points=\"-5815.39,3037.54 -5808.5,3037.54 \"/>\n",
       "<polyline clip-path=\"url(#clip232)\" style=\"stroke:#000000; stroke-linecap:round; stroke-linejoin:round; stroke-width:4; stroke-opacity:1; fill:none\" points=\"-5808.5,3037.54 -5801.62,3030.65 \"/>\n",
       "<polyline clip-path=\"url(#clip232)\" style=\"stroke:#000000; stroke-linecap:round; stroke-linejoin:round; stroke-width:4; stroke-opacity:1; fill:none\" points=\"-5801.62,3030.65 -5794.74,3030.65 \"/>\n",
       "<polyline clip-path=\"url(#clip232)\" style=\"stroke:#000000; stroke-linecap:round; stroke-linejoin:round; stroke-width:4; stroke-opacity:1; fill:none\" points=\"-5794.74,3030.65 -5787.85,3023.77 \"/>\n",
       "<polyline clip-path=\"url(#clip232)\" style=\"stroke:#000000; stroke-linecap:round; stroke-linejoin:round; stroke-width:4; stroke-opacity:1; fill:none\" points=\"-5787.85,3023.77 -5780.97,3023.77 \"/>\n",
       "<polyline clip-path=\"url(#clip232)\" style=\"stroke:#000000; stroke-linecap:round; stroke-linejoin:round; stroke-width:4; stroke-opacity:1; fill:none\" points=\"-5780.97,3023.77 -5774.09,3016.89 \"/>\n",
       "<polyline clip-path=\"url(#clip232)\" style=\"stroke:#000000; stroke-linecap:round; stroke-linejoin:round; stroke-width:4; stroke-opacity:1; fill:none\" points=\"-5774.09,3016.89 -5767.21,3016.89 \"/>\n",
       "<polyline clip-path=\"url(#clip232)\" style=\"stroke:#000000; stroke-linecap:round; stroke-linejoin:round; stroke-width:4; stroke-opacity:1; fill:none\" points=\"-5767.21,3016.89 -5760.32,3010 \"/>\n",
       "<polyline clip-path=\"url(#clip232)\" style=\"stroke:#000000; stroke-linecap:round; stroke-linejoin:round; stroke-width:4; stroke-opacity:1; fill:none\" points=\"-5760.32,3010 -5774.09,2996.24 \"/>\n",
       "<polyline clip-path=\"url(#clip232)\" style=\"stroke:#000000; stroke-linecap:round; stroke-linejoin:round; stroke-width:4; stroke-opacity:1; fill:none\" points=\"-5774.09,2996.24 -5774.09,2948.06 \"/>\n",
       "<polyline clip-path=\"url(#clip232)\" style=\"stroke:#000000; stroke-linecap:round; stroke-linejoin:round; stroke-width:4; stroke-opacity:1; fill:none\" points=\"-5774.09,2948.06 -5780.97,2941.18 \"/>\n",
       "<polyline clip-path=\"url(#clip232)\" style=\"stroke:#000000; stroke-linecap:round; stroke-linejoin:round; stroke-width:4; stroke-opacity:1; fill:none\" points=\"-5780.97,2941.18 -5780.97,1303.06 \"/>\n",
       "<polyline clip-path=\"url(#clip232)\" style=\"stroke:#000000; stroke-linecap:round; stroke-linejoin:round; stroke-width:4; stroke-opacity:1; fill:none\" points=\"-5780.97,1303.06 -5065.16,1303.06 \"/>\n",
       "<polyline clip-path=\"url(#clip232)\" style=\"stroke:#000000; stroke-linecap:round; stroke-linejoin:round; stroke-width:4; stroke-opacity:1; fill:none\" points=\"-5065.16,1303.06 -5058.28,1296.18 \"/>\n",
       "<polyline clip-path=\"url(#clip232)\" style=\"stroke:#000000; stroke-linecap:round; stroke-linejoin:round; stroke-width:4; stroke-opacity:1; fill:none\" points=\"-5058.28,1296.18 -5058.28,1227.35 \"/>\n",
       "<polyline clip-path=\"url(#clip232)\" style=\"stroke:#000000; stroke-linecap:round; stroke-linejoin:round; stroke-width:4; stroke-opacity:1; fill:none\" points=\"-5058.28,1227.35 -5065.16,1220.47 \"/>\n",
       "<polyline clip-path=\"url(#clip232)\" style=\"stroke:#000000; stroke-linecap:round; stroke-linejoin:round; stroke-width:4; stroke-opacity:1; fill:none\" points=\"-5065.16,1220.47 -6627.56,1220.47 \"/>\n",
       "<polyline clip-path=\"url(#clip232)\" style=\"stroke:#000000; stroke-linecap:round; stroke-linejoin:round; stroke-width:4; stroke-opacity:1; fill:none\" points=\"-6627.56,1220.47 -6634.44,1227.35 \"/>\n",
       "<polyline clip-path=\"url(#clip232)\" style=\"stroke:#000000; stroke-linecap:round; stroke-linejoin:round; stroke-width:4; stroke-opacity:1; fill:none\" points=\"-6634.44,1227.35 -6634.44,1296.18 \"/>\n",
       "<polyline clip-path=\"url(#clip232)\" style=\"stroke:#000000; stroke-linecap:round; stroke-linejoin:round; stroke-width:4; stroke-opacity:1; fill:none\" points=\"-6634.44,1296.18 -6627.56,1303.06 \"/>\n",
       "<polyline clip-path=\"url(#clip232)\" style=\"stroke:#000000; stroke-linecap:round; stroke-linejoin:round; stroke-width:4; stroke-opacity:1; fill:none\" points=\"-6627.56,1303.06 -5856.68,1303.06 \"/>\n",
       "<polyline clip-path=\"url(#clip232)\" style=\"stroke:#000000; stroke-linecap:round; stroke-linejoin:round; stroke-width:4; stroke-opacity:1; fill:none\" points=\"-5856.68,1303.06 -5856.68,2941.18 \"/>\n",
       "<polyline clip-path=\"url(#clip232)\" style=\"stroke:#000000; stroke-linecap:round; stroke-linejoin:round; stroke-width:4; stroke-opacity:1; fill:none\" points=\"-5856.68,2941.18 -8183.08,2941.18 \"/>\n",
       "<polyline clip-path=\"url(#clip232)\" style=\"stroke:#000000; stroke-linecap:round; stroke-linejoin:round; stroke-width:4; stroke-opacity:1; fill:none\" points=\"-8183.08,2941.18 -8183.08,1303.06 \"/>\n",
       "<polyline clip-path=\"url(#clip232)\" style=\"stroke:#000000; stroke-linecap:round; stroke-linejoin:round; stroke-width:4; stroke-opacity:1; fill:none\" points=\"-8183.08,1303.06 -7288.31,1303.06 \"/>\n",
       "<polyline clip-path=\"url(#clip232)\" style=\"stroke:#000000; stroke-linecap:round; stroke-linejoin:round; stroke-width:4; stroke-opacity:1; fill:none\" points=\"-7288.31,1303.06 -7281.43,1296.18 \"/>\n",
       "<polyline clip-path=\"url(#clip232)\" style=\"stroke:#000000; stroke-linecap:round; stroke-linejoin:round; stroke-width:4; stroke-opacity:1; fill:none\" points=\"-7281.43,1296.18 -7281.43,1227.35 \"/>\n",
       "<polyline clip-path=\"url(#clip232)\" style=\"stroke:#000000; stroke-linecap:round; stroke-linejoin:round; stroke-width:4; stroke-opacity:1; fill:none\" points=\"-7281.43,1227.35 -7288.31,1220.47 \"/>\n",
       "<polyline clip-path=\"url(#clip232)\" style=\"stroke:#000000; stroke-linecap:round; stroke-linejoin:round; stroke-width:4; stroke-opacity:1; fill:none\" points=\"-7288.31,1220.47 -8210.61,1220.47 \"/>\n",
       "<polyline clip-path=\"url(#clip232)\" style=\"stroke:#000000; stroke-linecap:round; stroke-linejoin:round; stroke-width:4; stroke-opacity:1; fill:none\" points=\"-8210.61,1220.47 -8217.49,1213.59 \"/>\n",
       "<polyline clip-path=\"url(#clip232)\" style=\"stroke:#000000; stroke-linecap:round; stroke-linejoin:round; stroke-width:4; stroke-opacity:1; fill:none\" points=\"-8217.49,1213.59 -8224.38,1213.59 \"/>\n",
       "<polyline clip-path=\"url(#clip232)\" style=\"stroke:#000000; stroke-linecap:round; stroke-linejoin:round; stroke-width:4; stroke-opacity:1; fill:none\" points=\"-8224.38,1213.59 -8238.14,1199.82 \"/>\n",
       "<polyline clip-path=\"url(#clip232)\" style=\"stroke:#000000; stroke-linecap:round; stroke-linejoin:round; stroke-width:4; stroke-opacity:1; fill:none\" points=\"-8238.14,1199.82 -8245.02,1199.82 \"/>\n",
       "<polyline clip-path=\"url(#clip232)\" style=\"stroke:#000000; stroke-linecap:round; stroke-linejoin:round; stroke-width:4; stroke-opacity:1; fill:none\" points=\"-8245.02,1199.82 -8258.79,1186.06 \"/>\n",
       "<polyline clip-path=\"url(#clip232)\" style=\"stroke:#000000; stroke-linecap:round; stroke-linejoin:round; stroke-width:4; stroke-opacity:1; fill:none\" points=\"-8258.79,1186.06 -8265.67,1186.06 \"/>\n",
       "<polyline clip-path=\"url(#clip232)\" style=\"stroke:#000000; stroke-linecap:round; stroke-linejoin:round; stroke-width:4; stroke-opacity:1; fill:none\" points=\"-8265.67,1186.06 -8279.44,1172.29 \"/>\n",
       "<polyline clip-path=\"url(#clip232)\" style=\"stroke:#000000; stroke-linecap:round; stroke-linejoin:round; stroke-width:4; stroke-opacity:1; fill:none\" points=\"-8279.44,1172.29 -8286.32,1172.29 \"/>\n",
       "<polyline clip-path=\"url(#clip232)\" style=\"stroke:#000000; stroke-linecap:round; stroke-linejoin:round; stroke-width:4; stroke-opacity:1; fill:none\" points=\"-8286.32,1172.29 -8300.09,1158.52 \"/>\n",
       "<polyline clip-path=\"url(#clip232)\" style=\"stroke:#000000; stroke-linecap:round; stroke-linejoin:round; stroke-width:4; stroke-opacity:1; fill:none\" points=\"-8300.09,1158.52 -8306.97,1158.52 \"/>\n",
       "<polyline clip-path=\"url(#clip232)\" style=\"stroke:#000000; stroke-linecap:round; stroke-linejoin:round; stroke-width:4; stroke-opacity:1; fill:none\" points=\"-8306.97,1158.52 -8320.73,1144.76 \"/>\n",
       "<polyline clip-path=\"url(#clip232)\" style=\"stroke:#000000; stroke-linecap:round; stroke-linejoin:round; stroke-width:4; stroke-opacity:1; fill:none\" points=\"-8320.73,1144.76 -8327.62,1144.76 \"/>\n",
       "<polyline clip-path=\"url(#clip232)\" style=\"stroke:#000000; stroke-linecap:round; stroke-linejoin:round; stroke-width:4; stroke-opacity:1; fill:none\" points=\"-8327.62,1144.76 -8334.5,1137.88 \"/>\n",
       "<polyline clip-path=\"url(#clip232)\" style=\"stroke:#000000; stroke-linecap:round; stroke-linejoin:round; stroke-width:4; stroke-opacity:1; fill:none\" points=\"-8334.5,1137.88 -8341.38,1137.88 \"/>\n",
       "<polyline clip-path=\"url(#clip232)\" style=\"stroke:#000000; stroke-linecap:round; stroke-linejoin:round; stroke-width:4; stroke-opacity:1; fill:none\" points=\"-8341.38,1137.88 -8355.15,1124.11 \"/>\n",
       "<polyline clip-path=\"url(#clip232)\" style=\"stroke:#000000; stroke-linecap:round; stroke-linejoin:round; stroke-width:4; stroke-opacity:1; fill:none\" points=\"-8355.15,1124.11 -8362.03,1124.11 \"/>\n",
       "<polyline clip-path=\"url(#clip232)\" style=\"stroke:#000000; stroke-linecap:round; stroke-linejoin:round; stroke-width:4; stroke-opacity:1; fill:none\" points=\"-8362.03,1124.11 -8375.8,1110.34 \"/>\n",
       "<polyline clip-path=\"url(#clip232)\" style=\"stroke:#000000; stroke-linecap:round; stroke-linejoin:round; stroke-width:4; stroke-opacity:1; fill:none\" points=\"-8375.8,1110.34 -8382.68,1110.34 \"/>\n",
       "<polyline clip-path=\"url(#clip232)\" style=\"stroke:#000000; stroke-linecap:round; stroke-linejoin:round; stroke-width:4; stroke-opacity:1; fill:none\" points=\"-8382.68,1110.34 -8396.45,1096.58 \"/>\n",
       "<polyline clip-path=\"url(#clip232)\" style=\"stroke:#000000; stroke-linecap:round; stroke-linejoin:round; stroke-width:4; stroke-opacity:1; fill:none\" points=\"-8396.45,1096.58 -8403.33,1096.58 \"/>\n",
       "<polyline clip-path=\"url(#clip232)\" style=\"stroke:#000000; stroke-linecap:round; stroke-linejoin:round; stroke-width:4; stroke-opacity:1; fill:none\" points=\"-8403.33,1096.58 -8417.09,1082.81 \"/>\n",
       "<polyline clip-path=\"url(#clip232)\" style=\"stroke:#000000; stroke-linecap:round; stroke-linejoin:round; stroke-width:4; stroke-opacity:1; fill:none\" points=\"-8417.09,1082.81 -8423.98,1082.81 \"/>\n",
       "<polyline clip-path=\"url(#clip232)\" style=\"stroke:#000000; stroke-linecap:round; stroke-linejoin:round; stroke-width:4; stroke-opacity:1; fill:none\" points=\"-8423.98,1082.81 -8437.74,1069.05 \"/>\n",
       "<polyline clip-path=\"url(#clip232)\" style=\"stroke:#000000; stroke-linecap:round; stroke-linejoin:round; stroke-width:4; stroke-opacity:1; fill:none\" points=\"-8437.74,1069.05 -8444.63,1069.05 \"/>\n",
       "<polyline clip-path=\"url(#clip232)\" style=\"stroke:#000000; stroke-linecap:round; stroke-linejoin:round; stroke-width:4; stroke-opacity:1; fill:none\" points=\"-8444.63,1069.05 -8458.39,1055.28 \"/>\n",
       "<polyline clip-path=\"url(#clip232)\" style=\"stroke:#000000; stroke-linecap:round; stroke-linejoin:round; stroke-width:4; stroke-opacity:1; fill:none\" points=\"-8458.39,1055.28 -8465.27,1055.28 \"/>\n",
       "<polyline clip-path=\"url(#clip232)\" style=\"stroke:#000000; stroke-linecap:round; stroke-linejoin:round; stroke-width:4; stroke-opacity:1; fill:none\" points=\"-8465.27,1055.28 -8479.04,1041.52 \"/>\n",
       "<polyline clip-path=\"url(#clip232)\" style=\"stroke:#000000; stroke-linecap:round; stroke-linejoin:round; stroke-width:4; stroke-opacity:1; fill:none\" points=\"-8479.04,1041.52 -8485.92,1041.52 \"/>\n",
       "<polyline clip-path=\"url(#clip232)\" style=\"stroke:#000000; stroke-linecap:round; stroke-linejoin:round; stroke-width:4; stroke-opacity:1; fill:none\" points=\"-8485.92,1041.52 -8499.69,1027.75 \"/>\n",
       "<polyline clip-path=\"url(#clip232)\" style=\"stroke:#000000; stroke-linecap:round; stroke-linejoin:round; stroke-width:4; stroke-opacity:1; fill:none\" points=\"-8499.69,1027.75 -8506.57,1027.75 \"/>\n",
       "<polyline clip-path=\"url(#clip232)\" style=\"stroke:#000000; stroke-linecap:round; stroke-linejoin:round; stroke-width:4; stroke-opacity:1; fill:none\" points=\"-8506.57,1027.75 -8520.34,1013.98 \"/>\n",
       "<polyline clip-path=\"url(#clip232)\" style=\"stroke:#000000; stroke-linecap:round; stroke-linejoin:round; stroke-width:4; stroke-opacity:1; fill:none\" points=\"-8520.34,1013.98 -8527.22,1013.98 \"/>\n",
       "<polyline clip-path=\"url(#clip232)\" style=\"stroke:#000000; stroke-linecap:round; stroke-linejoin:round; stroke-width:4; stroke-opacity:1; fill:none\" points=\"-8527.22,1013.98 -8540.99,1000.22 \"/>\n",
       "<polyline clip-path=\"url(#clip232)\" style=\"stroke:#000000; stroke-linecap:round; stroke-linejoin:round; stroke-width:4; stroke-opacity:1; fill:none\" points=\"-8540.99,1000.22 -8547.87,1000.22 \"/>\n",
       "<polyline clip-path=\"url(#clip232)\" style=\"stroke:#000000; stroke-linecap:round; stroke-linejoin:round; stroke-width:4; stroke-opacity:1; fill:none\" points=\"-8547.87,1000.22 -8561.63,986.453 \"/>\n",
       "<polyline clip-path=\"url(#clip232)\" style=\"stroke:#000000; stroke-linecap:round; stroke-linejoin:round; stroke-width:4; stroke-opacity:1; fill:none\" points=\"-8561.63,986.453 -8568.52,986.453 \"/>\n",
       "<polyline clip-path=\"url(#clip232)\" style=\"stroke:#000000; stroke-linecap:round; stroke-linejoin:round; stroke-width:4; stroke-opacity:1; fill:none\" points=\"-8568.52,986.453 -8582.28,972.688 \"/>\n",
       "<polyline clip-path=\"url(#clip232)\" style=\"stroke:#000000; stroke-linecap:round; stroke-linejoin:round; stroke-width:4; stroke-opacity:1; fill:none\" points=\"-8582.28,972.688 -8589.17,972.688 \"/>\n",
       "<polyline clip-path=\"url(#clip232)\" style=\"stroke:#000000; stroke-linecap:round; stroke-linejoin:round; stroke-width:4; stroke-opacity:1; fill:none\" points=\"-8589.17,972.688 -8602.93,958.922 \"/>\n",
       "<polyline clip-path=\"url(#clip232)\" style=\"stroke:#000000; stroke-linecap:round; stroke-linejoin:round; stroke-width:4; stroke-opacity:1; fill:none\" points=\"-8602.93,958.922 -8609.81,958.922 \"/>\n",
       "<polyline clip-path=\"url(#clip232)\" style=\"stroke:#000000; stroke-linecap:round; stroke-linejoin:round; stroke-width:4; stroke-opacity:1; fill:none\" points=\"-8609.81,958.922 -8623.58,945.156 \"/>\n",
       "<polyline clip-path=\"url(#clip232)\" style=\"stroke:#000000; stroke-linecap:round; stroke-linejoin:round; stroke-width:4; stroke-opacity:1; fill:none\" points=\"-8623.58,945.156 -8630.46,945.156 \"/>\n",
       "<polyline clip-path=\"url(#clip232)\" style=\"stroke:#000000; stroke-linecap:round; stroke-linejoin:round; stroke-width:4; stroke-opacity:1; fill:none\" points=\"-8630.46,945.156 -8637.34,938.273 \"/>\n",
       "<polyline clip-path=\"url(#clip232)\" style=\"stroke:#000000; stroke-linecap:round; stroke-linejoin:round; stroke-width:4; stroke-opacity:1; fill:none\" points=\"-8637.34,938.273 -8644.23,938.273 \"/>\n",
       "<polyline clip-path=\"url(#clip232)\" style=\"stroke:#000000; stroke-linecap:round; stroke-linejoin:round; stroke-width:4; stroke-opacity:1; fill:none\" points=\"-8644.23,938.273 -8657.99,924.508 \"/>\n",
       "<polyline clip-path=\"url(#clip232)\" style=\"stroke:#000000; stroke-linecap:round; stroke-linejoin:round; stroke-width:4; stroke-opacity:1; fill:none\" points=\"-8657.99,924.508 -8664.88,924.508 \"/>\n",
       "<polyline clip-path=\"url(#clip232)\" style=\"stroke:#000000; stroke-linecap:round; stroke-linejoin:round; stroke-width:4; stroke-opacity:1; fill:none\" points=\"-8664.88,924.508 -8678.64,910.742 \"/>\n",
       "<polyline clip-path=\"url(#clip232)\" style=\"stroke:#000000; stroke-linecap:round; stroke-linejoin:round; stroke-width:4; stroke-opacity:1; fill:none\" points=\"-8678.64,910.742 -8685.52,910.742 \"/>\n",
       "<polyline clip-path=\"url(#clip232)\" style=\"stroke:#000000; stroke-linecap:round; stroke-linejoin:round; stroke-width:4; stroke-opacity:1; fill:none\" points=\"-8685.52,910.742 -8699.29,896.976 \"/>\n",
       "<polyline clip-path=\"url(#clip232)\" style=\"stroke:#000000; stroke-linecap:round; stroke-linejoin:round; stroke-width:4; stroke-opacity:1; fill:none\" points=\"-8699.29,896.976 -8706.17,896.976 \"/>\n",
       "<polyline clip-path=\"url(#clip232)\" style=\"stroke:#000000; stroke-linecap:round; stroke-linejoin:round; stroke-width:4; stroke-opacity:1; fill:none\" points=\"-8706.17,896.976 -8719.94,883.211 \"/>\n",
       "<polyline clip-path=\"url(#clip232)\" style=\"stroke:#000000; stroke-linecap:round; stroke-linejoin:round; stroke-width:4; stroke-opacity:1; fill:none\" points=\"-8719.94,883.211 -8726.82,883.211 \"/>\n",
       "<polyline clip-path=\"url(#clip232)\" style=\"stroke:#000000; stroke-linecap:round; stroke-linejoin:round; stroke-width:4; stroke-opacity:1; fill:none\" points=\"-8726.82,883.211 -8740.59,869.445 \"/>\n",
       "<polyline clip-path=\"url(#clip232)\" style=\"stroke:#000000; stroke-linecap:round; stroke-linejoin:round; stroke-width:4; stroke-opacity:1; fill:none\" points=\"-8740.59,869.445 -8747.47,869.445 \"/>\n",
       "<polyline clip-path=\"url(#clip232)\" style=\"stroke:#000000; stroke-linecap:round; stroke-linejoin:round; stroke-width:4; stroke-opacity:1; fill:none\" points=\"-8747.47,869.445 -8761.24,855.68 \"/>\n",
       "<polyline clip-path=\"url(#clip232)\" style=\"stroke:#000000; stroke-linecap:round; stroke-linejoin:round; stroke-width:4; stroke-opacity:1; fill:none\" points=\"-8761.24,855.68 -8768.12,855.68 \"/>\n",
       "<polyline clip-path=\"url(#clip232)\" style=\"stroke:#000000; stroke-linecap:round; stroke-linejoin:round; stroke-width:4; stroke-opacity:1; fill:none\" points=\"-8768.12,855.68 -8781.88,841.914 \"/>\n",
       "<polyline clip-path=\"url(#clip232)\" style=\"stroke:#000000; stroke-linecap:round; stroke-linejoin:round; stroke-width:4; stroke-opacity:1; fill:none\" points=\"-8781.88,841.914 -8788.77,841.914 \"/>\n",
       "<polyline clip-path=\"url(#clip232)\" style=\"stroke:#000000; stroke-linecap:round; stroke-linejoin:round; stroke-width:4; stroke-opacity:1; fill:none\" points=\"-8788.77,841.914 -8802.53,828.148 \"/>\n",
       "<polyline clip-path=\"url(#clip232)\" style=\"stroke:#000000; stroke-linecap:round; stroke-linejoin:round; stroke-width:4; stroke-opacity:1; fill:none\" points=\"-8802.53,828.148 -8809.42,828.148 \"/>\n",
       "<polyline clip-path=\"url(#clip232)\" style=\"stroke:#000000; stroke-linecap:round; stroke-linejoin:round; stroke-width:4; stroke-opacity:1; fill:none\" points=\"-8809.42,828.148 -8823.18,814.383 \"/>\n",
       "<polyline clip-path=\"url(#clip232)\" style=\"stroke:#000000; stroke-linecap:round; stroke-linejoin:round; stroke-width:4; stroke-opacity:1; fill:none\" points=\"-8823.18,814.383 -8830.06,814.383 \"/>\n",
       "<polyline clip-path=\"url(#clip232)\" style=\"stroke:#000000; stroke-linecap:round; stroke-linejoin:round; stroke-width:4; stroke-opacity:1; fill:none\" points=\"-8830.06,814.383 -8843.83,800.617 \"/>\n",
       "<polyline clip-path=\"url(#clip232)\" style=\"stroke:#000000; stroke-linecap:round; stroke-linejoin:round; stroke-width:4; stroke-opacity:1; fill:none\" points=\"-8843.83,800.617 -8850.71,800.617 \"/>\n",
       "<polyline clip-path=\"url(#clip232)\" style=\"stroke:#000000; stroke-linecap:round; stroke-linejoin:round; stroke-width:4; stroke-opacity:1; fill:none\" points=\"-8850.71,800.617 -8864.48,786.851 \"/>\n",
       "<polyline clip-path=\"url(#clip232)\" style=\"stroke:#000000; stroke-linecap:round; stroke-linejoin:round; stroke-width:4; stroke-opacity:1; fill:none\" points=\"-8864.48,786.851 -8871.36,786.851 \"/>\n",
       "<polyline clip-path=\"url(#clip232)\" style=\"stroke:#000000; stroke-linecap:round; stroke-linejoin:round; stroke-width:4; stroke-opacity:1; fill:none\" points=\"-8871.36,786.851 -8885.13,773.086 \"/>\n",
       "<polyline clip-path=\"url(#clip232)\" style=\"stroke:#000000; stroke-linecap:round; stroke-linejoin:round; stroke-width:4; stroke-opacity:1; fill:none\" points=\"-8885.13,773.086 -8892.01,773.086 \"/>\n",
       "<polyline clip-path=\"url(#clip232)\" style=\"stroke:#000000; stroke-linecap:round; stroke-linejoin:round; stroke-width:4; stroke-opacity:1; fill:none\" points=\"-8892.01,773.086 -8905.78,759.32 \"/>\n",
       "<polyline clip-path=\"url(#clip232)\" style=\"stroke:#000000; stroke-linecap:round; stroke-linejoin:round; stroke-width:4; stroke-opacity:1; fill:none\" points=\"-8905.78,759.32 -8912.66,759.32 \"/>\n",
       "<polyline clip-path=\"url(#clip232)\" style=\"stroke:#000000; stroke-linecap:round; stroke-linejoin:round; stroke-width:4; stroke-opacity:1; fill:none\" points=\"-8912.66,759.32 -8926.42,745.554 \"/>\n",
       "<polyline clip-path=\"url(#clip232)\" style=\"stroke:#000000; stroke-linecap:round; stroke-linejoin:round; stroke-width:4; stroke-opacity:1; fill:none\" points=\"-8926.42,745.554 -8933.31,745.554 \"/>\n",
       "<polyline clip-path=\"url(#clip232)\" style=\"stroke:#000000; stroke-linecap:round; stroke-linejoin:round; stroke-width:4; stroke-opacity:1; fill:none\" points=\"-8933.31,745.554 -8940.19,738.671 \"/>\n",
       "<polyline clip-path=\"url(#clip232)\" style=\"stroke:#000000; stroke-linecap:round; stroke-linejoin:round; stroke-width:4; stroke-opacity:1; fill:none\" points=\"-8940.19,738.671 -8947.07,738.671 \"/>\n",
       "<polyline clip-path=\"url(#clip232)\" style=\"stroke:#000000; stroke-linecap:round; stroke-linejoin:round; stroke-width:4; stroke-opacity:1; fill:none\" points=\"-8947.07,738.671 -8960.84,724.906 \"/>\n",
       "<polyline clip-path=\"url(#clip232)\" style=\"stroke:#000000; stroke-linecap:round; stroke-linejoin:round; stroke-width:4; stroke-opacity:1; fill:none\" points=\"-8960.84,724.906 -8967.72,724.906 \"/>\n",
       "<polyline clip-path=\"url(#clip232)\" style=\"stroke:#000000; stroke-linecap:round; stroke-linejoin:round; stroke-width:4; stroke-opacity:1; fill:none\" points=\"-8967.72,724.906 -8981.49,711.14 \"/>\n",
       "<polyline clip-path=\"url(#clip232)\" style=\"stroke:#000000; stroke-linecap:round; stroke-linejoin:round; stroke-width:4; stroke-opacity:1; fill:none\" points=\"-8981.49,711.14 -8988.37,711.14 \"/>\n",
       "<polyline clip-path=\"url(#clip232)\" style=\"stroke:#000000; stroke-linecap:round; stroke-linejoin:round; stroke-width:4; stroke-opacity:1; fill:none\" points=\"-8988.37,711.14 -9002.13,697.375 \"/>\n",
       "<polyline clip-path=\"url(#clip232)\" style=\"stroke:#000000; stroke-linecap:round; stroke-linejoin:round; stroke-width:4; stroke-opacity:1; fill:none\" points=\"-9002.13,697.375 -9009.02,697.375 \"/>\n",
       "<polyline clip-path=\"url(#clip232)\" style=\"stroke:#000000; stroke-linecap:round; stroke-linejoin:round; stroke-width:4; stroke-opacity:1; fill:none\" points=\"-9009.02,697.375 -9022.78,683.609 \"/>\n",
       "<polyline clip-path=\"url(#clip232)\" style=\"stroke:#000000; stroke-linecap:round; stroke-linejoin:round; stroke-width:4; stroke-opacity:1; fill:none\" points=\"-9022.78,683.609 -9029.67,683.609 \"/>\n",
       "<polyline clip-path=\"url(#clip232)\" style=\"stroke:#000000; stroke-linecap:round; stroke-linejoin:round; stroke-width:4; stroke-opacity:1; fill:none\" points=\"-9029.67,683.609 -9043.43,669.843 \"/>\n",
       "<polyline clip-path=\"url(#clip232)\" style=\"stroke:#000000; stroke-linecap:round; stroke-linejoin:round; stroke-width:4; stroke-opacity:1; fill:none\" points=\"-9043.43,669.843 -9050.31,669.843 \"/>\n",
       "<polyline clip-path=\"url(#clip232)\" style=\"stroke:#000000; stroke-linecap:round; stroke-linejoin:round; stroke-width:4; stroke-opacity:1; fill:none\" points=\"-9050.31,669.843 -9064.08,656.078 \"/>\n",
       "<polyline clip-path=\"url(#clip232)\" style=\"stroke:#000000; stroke-linecap:round; stroke-linejoin:round; stroke-width:4; stroke-opacity:1; fill:none\" points=\"-9064.08,656.078 -9070.96,656.078 \"/>\n",
       "<polyline clip-path=\"url(#clip232)\" style=\"stroke:#000000; stroke-linecap:round; stroke-linejoin:round; stroke-width:4; stroke-opacity:1; fill:none\" points=\"-9070.96,656.078 -9084.73,642.312 \"/>\n",
       "<polyline clip-path=\"url(#clip232)\" style=\"stroke:#000000; stroke-linecap:round; stroke-linejoin:round; stroke-width:4; stroke-opacity:1; fill:none\" points=\"-9084.73,642.312 -9091.61,642.312 \"/>\n",
       "<polyline clip-path=\"url(#clip232)\" style=\"stroke:#000000; stroke-linecap:round; stroke-linejoin:round; stroke-width:4; stroke-opacity:1; fill:none\" points=\"-9091.61,642.312 -9105.38,628.546 \"/>\n",
       "<polyline clip-path=\"url(#clip232)\" style=\"stroke:#000000; stroke-linecap:round; stroke-linejoin:round; stroke-width:4; stroke-opacity:1; fill:none\" points=\"-9105.38,628.546 -9112.26,628.546 \"/>\n",
       "<polyline clip-path=\"url(#clip232)\" style=\"stroke:#000000; stroke-linecap:round; stroke-linejoin:round; stroke-width:4; stroke-opacity:1; fill:none\" points=\"-9112.26,628.546 -9126.03,614.781 \"/>\n",
       "<polyline clip-path=\"url(#clip232)\" style=\"stroke:#000000; stroke-linecap:round; stroke-linejoin:round; stroke-width:4; stroke-opacity:1; fill:none\" points=\"-9126.03,614.781 -9132.91,614.781 \"/>\n",
       "<polyline clip-path=\"url(#clip232)\" style=\"stroke:#000000; stroke-linecap:round; stroke-linejoin:round; stroke-width:4; stroke-opacity:1; fill:none\" points=\"-9132.91,614.781 -9146.67,601.015 \"/>\n",
       "<polyline clip-path=\"url(#clip232)\" style=\"stroke:#000000; stroke-linecap:round; stroke-linejoin:round; stroke-width:4; stroke-opacity:1; fill:none\" points=\"-9146.67,601.015 -9153.56,601.015 \"/>\n",
       "<polyline clip-path=\"url(#clip232)\" style=\"stroke:#000000; stroke-linecap:round; stroke-linejoin:round; stroke-width:4; stroke-opacity:1; fill:none\" points=\"-9153.56,601.015 -9167.32,587.249 \"/>\n",
       "<polyline clip-path=\"url(#clip232)\" style=\"stroke:#000000; stroke-linecap:round; stroke-linejoin:round; stroke-width:4; stroke-opacity:1; fill:none\" points=\"-9167.32,587.249 -9174.21,587.249 \"/>\n",
       "<polyline clip-path=\"url(#clip232)\" style=\"stroke:#000000; stroke-linecap:round; stroke-linejoin:round; stroke-width:4; stroke-opacity:1; fill:none\" points=\"-9174.21,587.249 -9187.97,573.484 \"/>\n",
       "<polyline clip-path=\"url(#clip232)\" style=\"stroke:#000000; stroke-linecap:round; stroke-linejoin:round; stroke-width:4; stroke-opacity:1; fill:none\" points=\"-9187.97,573.484 -9194.85,573.484 \"/>\n",
       "<polyline clip-path=\"url(#clip232)\" style=\"stroke:#000000; stroke-linecap:round; stroke-linejoin:round; stroke-width:4; stroke-opacity:1; fill:none\" points=\"-9194.85,573.484 -9208.62,559.718 \"/>\n",
       "<polyline clip-path=\"url(#clip232)\" style=\"stroke:#000000; stroke-linecap:round; stroke-linejoin:round; stroke-width:4; stroke-opacity:1; fill:none\" points=\"-9208.62,559.718 -9215.5,559.718 \"/>\n",
       "<polyline clip-path=\"url(#clip232)\" style=\"stroke:#000000; stroke-linecap:round; stroke-linejoin:round; stroke-width:4; stroke-opacity:1; fill:none\" points=\"-9215.5,559.718 -9229.27,545.952 \"/>\n",
       "<polyline clip-path=\"url(#clip232)\" style=\"stroke:#000000; stroke-linecap:round; stroke-linejoin:round; stroke-width:4; stroke-opacity:1; fill:none\" points=\"-9229.27,545.952 -9236.15,545.952 \"/>\n",
       "<polyline clip-path=\"url(#clip232)\" style=\"stroke:#000000; stroke-linecap:round; stroke-linejoin:round; stroke-width:4; stroke-opacity:1; fill:none\" points=\"-9236.15,545.952 -9243.03,539.07 \"/>\n",
       "<polyline clip-path=\"url(#clip232)\" style=\"stroke:#000000; stroke-linecap:round; stroke-linejoin:round; stroke-width:4; stroke-opacity:1; fill:none\" points=\"-9243.03,539.07 -9249.92,539.07 \"/>\n",
       "<polyline clip-path=\"url(#clip232)\" style=\"stroke:#000000; stroke-linecap:round; stroke-linejoin:round; stroke-width:4; stroke-opacity:1; fill:none\" points=\"-9249.92,539.07 -9263.68,525.304 \"/>\n",
       "<polyline clip-path=\"url(#clip232)\" style=\"stroke:#000000; stroke-linecap:round; stroke-linejoin:round; stroke-width:4; stroke-opacity:1; fill:none\" points=\"-9263.68,525.304 -9270.56,525.304 \"/>\n",
       "<polyline clip-path=\"url(#clip232)\" style=\"stroke:#000000; stroke-linecap:round; stroke-linejoin:round; stroke-width:4; stroke-opacity:1; fill:none\" points=\"-9270.56,525.304 -9284.33,511.538 \"/>\n",
       "<polyline clip-path=\"url(#clip232)\" style=\"stroke:#000000; stroke-linecap:round; stroke-linejoin:round; stroke-width:4; stroke-opacity:1; fill:none\" points=\"-9284.33,511.538 -9291.21,511.538 \"/>\n",
       "<polyline clip-path=\"url(#clip232)\" style=\"stroke:#000000; stroke-linecap:round; stroke-linejoin:round; stroke-width:4; stroke-opacity:1; fill:none\" points=\"-9291.21,511.538 -9304.98,497.773 \"/>\n",
       "<polyline clip-path=\"url(#clip232)\" style=\"stroke:#000000; stroke-linecap:round; stroke-linejoin:round; stroke-width:4; stroke-opacity:1; fill:none\" points=\"-9304.98,497.773 -9311.86,497.773 \"/>\n",
       "<polyline clip-path=\"url(#clip232)\" style=\"stroke:#000000; stroke-linecap:round; stroke-linejoin:round; stroke-width:4; stroke-opacity:1; fill:none\" points=\"-9311.86,497.773 -9325.63,484.007 \"/>\n",
       "<polyline clip-path=\"url(#clip232)\" style=\"stroke:#000000; stroke-linecap:round; stroke-linejoin:round; stroke-width:4; stroke-opacity:1; fill:none\" points=\"-9325.63,484.007 -9332.51,484.007 \"/>\n",
       "<polyline clip-path=\"url(#clip232)\" style=\"stroke:#000000; stroke-linecap:round; stroke-linejoin:round; stroke-width:4; stroke-opacity:1; fill:none\" points=\"-9332.51,484.007 -9346.28,470.241 \"/>\n",
       "<polyline clip-path=\"url(#clip232)\" style=\"stroke:#000000; stroke-linecap:round; stroke-linejoin:round; stroke-width:4; stroke-opacity:1; fill:none\" points=\"-9346.28,470.241 -9353.16,470.241 \"/>\n",
       "<polyline clip-path=\"url(#clip232)\" style=\"stroke:#000000; stroke-linecap:round; stroke-linejoin:round; stroke-width:4; stroke-opacity:1; fill:none\" points=\"-9353.16,470.241 -9366.92,456.476 \"/>\n",
       "<polyline clip-path=\"url(#clip232)\" style=\"stroke:#000000; stroke-linecap:round; stroke-linejoin:round; stroke-width:4; stroke-opacity:1; fill:none\" points=\"-9366.92,456.476 -9373.81,456.476 \"/>\n",
       "<polyline clip-path=\"url(#clip232)\" style=\"stroke:#000000; stroke-linecap:round; stroke-linejoin:round; stroke-width:4; stroke-opacity:1; fill:none\" points=\"-9373.81,456.476 -9387.57,442.71 \"/>\n",
       "<polyline clip-path=\"url(#clip232)\" style=\"stroke:#000000; stroke-linecap:round; stroke-linejoin:round; stroke-width:4; stroke-opacity:1; fill:none\" points=\"-9387.57,442.71 -9394.46,442.71 \"/>\n",
       "<polyline clip-path=\"url(#clip232)\" style=\"stroke:#000000; stroke-linecap:round; stroke-linejoin:round; stroke-width:4; stroke-opacity:1; fill:none\" points=\"-9394.46,442.71 -9408.22,428.944 \"/>\n",
       "<polyline clip-path=\"url(#clip232)\" style=\"stroke:#000000; stroke-linecap:round; stroke-linejoin:round; stroke-width:4; stroke-opacity:1; fill:none\" points=\"-9408.22,428.944 -9415.1,428.944 \"/>\n",
       "<polyline clip-path=\"url(#clip232)\" style=\"stroke:#000000; stroke-linecap:round; stroke-linejoin:round; stroke-width:4; stroke-opacity:1; fill:none\" points=\"-9415.1,428.944 -9428.87,415.179 \"/>\n",
       "<polyline clip-path=\"url(#clip232)\" style=\"stroke:#000000; stroke-linecap:round; stroke-linejoin:round; stroke-width:4; stroke-opacity:1; fill:none\" points=\"-9428.87,415.179 -9435.75,415.179 \"/>\n",
       "<polyline clip-path=\"url(#clip232)\" style=\"stroke:#000000; stroke-linecap:round; stroke-linejoin:round; stroke-width:4; stroke-opacity:1; fill:none\" points=\"-9435.75,415.179 -9442.64,408.296 \"/>\n",
       "<polyline clip-path=\"url(#clip232)\" style=\"stroke:#000000; stroke-linecap:round; stroke-linejoin:round; stroke-width:4; stroke-opacity:1; fill:none\" points=\"-9442.64,408.296 -9442.64,-1594.61 \"/>\n",
       "<polyline clip-path=\"url(#clip232)\" style=\"stroke:#000000; stroke-linecap:round; stroke-linejoin:round; stroke-width:4; stroke-opacity:1; fill:none\" points=\"-9442.64,-1594.61 -9435.75,-1601.49 \"/>\n",
       "<polyline clip-path=\"url(#clip232)\" style=\"stroke:#000000; stroke-linecap:round; stroke-linejoin:round; stroke-width:4; stroke-opacity:1; fill:none\" points=\"-9435.75,-1601.49 -9428.87,-1601.49 \"/>\n",
       "<polyline clip-path=\"url(#clip232)\" style=\"stroke:#000000; stroke-linecap:round; stroke-linejoin:round; stroke-width:4; stroke-opacity:1; fill:none\" points=\"-9428.87,-1601.49 -9415.1,-1615.26 \"/>\n",
       "<polyline clip-path=\"url(#clip232)\" style=\"stroke:#000000; stroke-linecap:round; stroke-linejoin:round; stroke-width:4; stroke-opacity:1; fill:none\" points=\"-9415.1,-1615.26 -9408.22,-1615.26 \"/>\n",
       "<polyline clip-path=\"url(#clip232)\" style=\"stroke:#000000; stroke-linecap:round; stroke-linejoin:round; stroke-width:4; stroke-opacity:1; fill:none\" points=\"-9408.22,-1615.26 -9394.46,-1629.02 \"/>\n",
       "<polyline clip-path=\"url(#clip232)\" style=\"stroke:#000000; stroke-linecap:round; stroke-linejoin:round; stroke-width:4; stroke-opacity:1; fill:none\" points=\"-9394.46,-1629.02 -9387.57,-1629.02 \"/>\n",
       "<polyline clip-path=\"url(#clip232)\" style=\"stroke:#000000; stroke-linecap:round; stroke-linejoin:round; stroke-width:4; stroke-opacity:1; fill:none\" points=\"-9387.57,-1629.02 -9373.81,-1642.79 \"/>\n",
       "<polyline clip-path=\"url(#clip232)\" style=\"stroke:#000000; stroke-linecap:round; stroke-linejoin:round; stroke-width:4; stroke-opacity:1; fill:none\" points=\"-9373.81,-1642.79 -9366.92,-1642.79 \"/>\n",
       "<polyline clip-path=\"url(#clip232)\" style=\"stroke:#000000; stroke-linecap:round; stroke-linejoin:round; stroke-width:4; stroke-opacity:1; fill:none\" points=\"-9366.92,-1642.79 -9353.16,-1656.55 \"/>\n",
       "<polyline clip-path=\"url(#clip232)\" style=\"stroke:#000000; stroke-linecap:round; stroke-linejoin:round; stroke-width:4; stroke-opacity:1; fill:none\" points=\"-9353.16,-1656.55 -9346.28,-1656.55 \"/>\n",
       "<polyline clip-path=\"url(#clip232)\" style=\"stroke:#000000; stroke-linecap:round; stroke-linejoin:round; stroke-width:4; stroke-opacity:1; fill:none\" points=\"-9346.28,-1656.55 -9332.51,-1670.32 \"/>\n",
       "<polyline clip-path=\"url(#clip232)\" style=\"stroke:#000000; stroke-linecap:round; stroke-linejoin:round; stroke-width:4; stroke-opacity:1; fill:none\" points=\"-9332.51,-1670.32 -9325.63,-1670.32 \"/>\n",
       "<polyline clip-path=\"url(#clip232)\" style=\"stroke:#000000; stroke-linecap:round; stroke-linejoin:round; stroke-width:4; stroke-opacity:1; fill:none\" points=\"-9325.63,-1670.32 -9311.86,-1684.08 \"/>\n",
       "<polyline clip-path=\"url(#clip232)\" style=\"stroke:#000000; stroke-linecap:round; stroke-linejoin:round; stroke-width:4; stroke-opacity:1; fill:none\" points=\"-9311.86,-1684.08 -9304.98,-1684.08 \"/>\n",
       "<polyline clip-path=\"url(#clip232)\" style=\"stroke:#000000; stroke-linecap:round; stroke-linejoin:round; stroke-width:4; stroke-opacity:1; fill:none\" points=\"-9304.98,-1684.08 -9291.21,-1697.85 \"/>\n",
       "<polyline clip-path=\"url(#clip232)\" style=\"stroke:#000000; stroke-linecap:round; stroke-linejoin:round; stroke-width:4; stroke-opacity:1; fill:none\" points=\"-9291.21,-1697.85 -9284.33,-1697.85 \"/>\n",
       "<polyline clip-path=\"url(#clip232)\" style=\"stroke:#000000; stroke-linecap:round; stroke-linejoin:round; stroke-width:4; stroke-opacity:1; fill:none\" points=\"-9284.33,-1697.85 -9270.56,-1711.61 \"/>\n",
       "<polyline clip-path=\"url(#clip232)\" style=\"stroke:#000000; stroke-linecap:round; stroke-linejoin:round; stroke-width:4; stroke-opacity:1; fill:none\" points=\"-9270.56,-1711.61 -9263.68,-1711.61 \"/>\n",
       "<polyline clip-path=\"url(#clip232)\" style=\"stroke:#000000; stroke-linecap:round; stroke-linejoin:round; stroke-width:4; stroke-opacity:1; fill:none\" points=\"-9263.68,-1711.61 -9249.92,-1725.38 \"/>\n",
       "<polyline clip-path=\"url(#clip232)\" style=\"stroke:#000000; stroke-linecap:round; stroke-linejoin:round; stroke-width:4; stroke-opacity:1; fill:none\" points=\"-9249.92,-1725.38 -9243.03,-1725.38 \"/>\n",
       "<polyline clip-path=\"url(#clip232)\" style=\"stroke:#000000; stroke-linecap:round; stroke-linejoin:round; stroke-width:4; stroke-opacity:1; fill:none\" points=\"-9243.03,-1725.38 -9229.27,-1739.15 \"/>\n",
       "<polyline clip-path=\"url(#clip232)\" style=\"stroke:#000000; stroke-linecap:round; stroke-linejoin:round; stroke-width:4; stroke-opacity:1; fill:none\" points=\"-9229.27,-1739.15 -9222.39,-1739.15 \"/>\n",
       "<polyline clip-path=\"url(#clip232)\" style=\"stroke:#000000; stroke-linecap:round; stroke-linejoin:round; stroke-width:4; stroke-opacity:1; fill:none\" points=\"-9222.39,-1739.15 -9208.62,-1752.91 \"/>\n",
       "<polyline clip-path=\"url(#clip232)\" style=\"stroke:#000000; stroke-linecap:round; stroke-linejoin:round; stroke-width:4; stroke-opacity:1; fill:none\" points=\"-9208.62,-1752.91 -9201.74,-1752.91 \"/>\n",
       "<polyline clip-path=\"url(#clip232)\" style=\"stroke:#000000; stroke-linecap:round; stroke-linejoin:round; stroke-width:4; stroke-opacity:1; fill:none\" points=\"-9201.74,-1752.91 -9187.97,-1766.68 \"/>\n",
       "<polyline clip-path=\"url(#clip232)\" style=\"stroke:#000000; stroke-linecap:round; stroke-linejoin:round; stroke-width:4; stroke-opacity:1; fill:none\" points=\"-9187.97,-1766.68 -9181.09,-1766.68 \"/>\n",
       "<polyline clip-path=\"url(#clip232)\" style=\"stroke:#000000; stroke-linecap:round; stroke-linejoin:round; stroke-width:4; stroke-opacity:1; fill:none\" points=\"-9181.09,-1766.68 -9167.32,-1780.44 \"/>\n",
       "<polyline clip-path=\"url(#clip232)\" style=\"stroke:#000000; stroke-linecap:round; stroke-linejoin:round; stroke-width:4; stroke-opacity:1; fill:none\" points=\"-9167.32,-1780.44 -9160.44,-1780.44 \"/>\n",
       "<polyline clip-path=\"url(#clip232)\" style=\"stroke:#000000; stroke-linecap:round; stroke-linejoin:round; stroke-width:4; stroke-opacity:1; fill:none\" points=\"-9160.44,-1780.44 -9146.67,-1794.21 \"/>\n",
       "<polyline clip-path=\"url(#clip232)\" style=\"stroke:#000000; stroke-linecap:round; stroke-linejoin:round; stroke-width:4; stroke-opacity:1; fill:none\" points=\"-9146.67,-1794.21 -9139.79,-1794.21 \"/>\n",
       "<polyline clip-path=\"url(#clip232)\" style=\"stroke:#000000; stroke-linecap:round; stroke-linejoin:round; stroke-width:4; stroke-opacity:1; fill:none\" points=\"-9139.79,-1794.21 -9126.03,-1807.97 \"/>\n",
       "<polyline clip-path=\"url(#clip232)\" style=\"stroke:#000000; stroke-linecap:round; stroke-linejoin:round; stroke-width:4; stroke-opacity:1; fill:none\" points=\"-9126.03,-1807.97 -9119.14,-1807.97 \"/>\n",
       "<polyline clip-path=\"url(#clip232)\" style=\"stroke:#000000; stroke-linecap:round; stroke-linejoin:round; stroke-width:4; stroke-opacity:1; fill:none\" points=\"-9119.14,-1807.97 -9105.38,-1821.74 \"/>\n",
       "<polyline clip-path=\"url(#clip232)\" style=\"stroke:#000000; stroke-linecap:round; stroke-linejoin:round; stroke-width:4; stroke-opacity:1; fill:none\" points=\"-9105.38,-1821.74 -9098.49,-1821.74 \"/>\n",
       "<polyline clip-path=\"url(#clip232)\" style=\"stroke:#000000; stroke-linecap:round; stroke-linejoin:round; stroke-width:4; stroke-opacity:1; fill:none\" points=\"-9098.49,-1821.74 -9084.73,-1835.51 \"/>\n",
       "<polyline clip-path=\"url(#clip232)\" style=\"stroke:#000000; stroke-linecap:round; stroke-linejoin:round; stroke-width:4; stroke-opacity:1; fill:none\" points=\"-9084.73,-1835.51 -9077.85,-1835.51 \"/>\n",
       "<polyline clip-path=\"url(#clip232)\" style=\"stroke:#000000; stroke-linecap:round; stroke-linejoin:round; stroke-width:4; stroke-opacity:1; fill:none\" points=\"-9077.85,-1835.51 -9064.08,-1849.27 \"/>\n",
       "<polyline clip-path=\"url(#clip232)\" style=\"stroke:#000000; stroke-linecap:round; stroke-linejoin:round; stroke-width:4; stroke-opacity:1; fill:none\" points=\"-9064.08,-1849.27 -9057.2,-1849.27 \"/>\n",
       "<polyline clip-path=\"url(#clip232)\" style=\"stroke:#000000; stroke-linecap:round; stroke-linejoin:round; stroke-width:4; stroke-opacity:1; fill:none\" points=\"-9057.2,-1849.27 -9043.43,-1863.04 \"/>\n",
       "<polyline clip-path=\"url(#clip232)\" style=\"stroke:#000000; stroke-linecap:round; stroke-linejoin:round; stroke-width:4; stroke-opacity:1; fill:none\" points=\"-9043.43,-1863.04 -9036.55,-1863.04 \"/>\n",
       "<polyline clip-path=\"url(#clip232)\" style=\"stroke:#000000; stroke-linecap:round; stroke-linejoin:round; stroke-width:4; stroke-opacity:1; fill:none\" points=\"-9036.55,-1863.04 -9022.78,-1876.8 \"/>\n",
       "<polyline clip-path=\"url(#clip232)\" style=\"stroke:#000000; stroke-linecap:round; stroke-linejoin:round; stroke-width:4; stroke-opacity:1; fill:none\" points=\"-9022.78,-1876.8 -9015.9,-1876.8 \"/>\n",
       "<polyline clip-path=\"url(#clip232)\" style=\"stroke:#000000; stroke-linecap:round; stroke-linejoin:round; stroke-width:4; stroke-opacity:1; fill:none\" points=\"-9015.9,-1876.8 -9002.13,-1890.57 \"/>\n",
       "<polyline clip-path=\"url(#clip232)\" style=\"stroke:#000000; stroke-linecap:round; stroke-linejoin:round; stroke-width:4; stroke-opacity:1; fill:none\" points=\"-9002.13,-1890.57 -8995.25,-1890.57 \"/>\n",
       "<polyline clip-path=\"url(#clip232)\" style=\"stroke:#000000; stroke-linecap:round; stroke-linejoin:round; stroke-width:4; stroke-opacity:1; fill:none\" points=\"-8995.25,-1890.57 -8981.49,-1904.33 \"/>\n",
       "<polyline clip-path=\"url(#clip232)\" style=\"stroke:#000000; stroke-linecap:round; stroke-linejoin:round; stroke-width:4; stroke-opacity:1; fill:none\" points=\"-8981.49,-1904.33 -8974.6,-1904.33 \"/>\n",
       "<polyline clip-path=\"url(#clip232)\" style=\"stroke:#000000; stroke-linecap:round; stroke-linejoin:round; stroke-width:4; stroke-opacity:1; fill:none\" points=\"-8974.6,-1904.33 -8960.84,-1918.1 \"/>\n",
       "<polyline clip-path=\"url(#clip232)\" style=\"stroke:#000000; stroke-linecap:round; stroke-linejoin:round; stroke-width:4; stroke-opacity:1; fill:none\" points=\"-8960.84,-1918.1 -8953.95,-1918.1 \"/>\n",
       "<polyline clip-path=\"url(#clip232)\" style=\"stroke:#000000; stroke-linecap:round; stroke-linejoin:round; stroke-width:4; stroke-opacity:1; fill:none\" points=\"-8953.95,-1918.1 -8940.19,-1931.87 \"/>\n",
       "<polyline clip-path=\"url(#clip232)\" style=\"stroke:#000000; stroke-linecap:round; stroke-linejoin:round; stroke-width:4; stroke-opacity:1; fill:none\" points=\"-8940.19,-1931.87 -8933.31,-1931.87 \"/>\n",
       "<polyline clip-path=\"url(#clip232)\" style=\"stroke:#000000; stroke-linecap:round; stroke-linejoin:round; stroke-width:4; stroke-opacity:1; fill:none\" points=\"-8933.31,-1931.87 -8919.54,-1945.63 \"/>\n",
       "<polyline clip-path=\"url(#clip232)\" style=\"stroke:#000000; stroke-linecap:round; stroke-linejoin:round; stroke-width:4; stroke-opacity:1; fill:none\" points=\"-8919.54,-1945.63 -8912.66,-1945.63 \"/>\n",
       "<polyline clip-path=\"url(#clip232)\" style=\"stroke:#000000; stroke-linecap:round; stroke-linejoin:round; stroke-width:4; stroke-opacity:1; fill:none\" points=\"-8912.66,-1945.63 -8898.89,-1959.4 \"/>\n",
       "<polyline clip-path=\"url(#clip232)\" style=\"stroke:#000000; stroke-linecap:round; stroke-linejoin:round; stroke-width:4; stroke-opacity:1; fill:none\" points=\"-8898.89,-1959.4 -8892.01,-1959.4 \"/>\n",
       "<polyline clip-path=\"url(#clip232)\" style=\"stroke:#000000; stroke-linecap:round; stroke-linejoin:round; stroke-width:4; stroke-opacity:1; fill:none\" points=\"-8892.01,-1959.4 -8885.13,-1966.28 \"/>\n",
       "<polyline clip-path=\"url(#clip232)\" style=\"stroke:#000000; stroke-linecap:round; stroke-linejoin:round; stroke-width:4; stroke-opacity:1; fill:none\" points=\"-8885.13,-1966.28 -8878.24,-1966.28 \"/>\n",
       "<polyline clip-path=\"url(#clip232)\" style=\"stroke:#000000; stroke-linecap:round; stroke-linejoin:round; stroke-width:4; stroke-opacity:1; fill:none\" points=\"-8878.24,-1966.28 -8864.48,-1980.04 \"/>\n",
       "<polyline clip-path=\"url(#clip232)\" style=\"stroke:#000000; stroke-linecap:round; stroke-linejoin:round; stroke-width:4; stroke-opacity:1; fill:none\" points=\"-8864.48,-1980.04 -8857.6,-1980.04 \"/>\n",
       "<polyline clip-path=\"url(#clip232)\" style=\"stroke:#000000; stroke-linecap:round; stroke-linejoin:round; stroke-width:4; stroke-opacity:1; fill:none\" points=\"-8857.6,-1980.04 -8843.83,-1993.81 \"/>\n",
       "<polyline clip-path=\"url(#clip232)\" style=\"stroke:#000000; stroke-linecap:round; stroke-linejoin:round; stroke-width:4; stroke-opacity:1; fill:none\" points=\"-8843.83,-1993.81 -8836.95,-1993.81 \"/>\n",
       "<polyline clip-path=\"url(#clip232)\" style=\"stroke:#000000; stroke-linecap:round; stroke-linejoin:round; stroke-width:4; stroke-opacity:1; fill:none\" points=\"-8836.95,-1993.81 -8823.18,-2007.58 \"/>\n",
       "<polyline clip-path=\"url(#clip232)\" style=\"stroke:#000000; stroke-linecap:round; stroke-linejoin:round; stroke-width:4; stroke-opacity:1; fill:none\" points=\"-8823.18,-2007.58 -8816.3,-2007.58 \"/>\n",
       "<polyline clip-path=\"url(#clip232)\" style=\"stroke:#000000; stroke-linecap:round; stroke-linejoin:round; stroke-width:4; stroke-opacity:1; fill:none\" points=\"-8816.3,-2007.58 -8802.53,-2021.34 \"/>\n",
       "<polyline clip-path=\"url(#clip232)\" style=\"stroke:#000000; stroke-linecap:round; stroke-linejoin:round; stroke-width:4; stroke-opacity:1; fill:none\" points=\"-8802.53,-2021.34 -8795.65,-2021.34 \"/>\n",
       "<polyline clip-path=\"url(#clip232)\" style=\"stroke:#000000; stroke-linecap:round; stroke-linejoin:round; stroke-width:4; stroke-opacity:1; fill:none\" points=\"-8795.65,-2021.34 -8781.88,-2035.11 \"/>\n",
       "<polyline clip-path=\"url(#clip232)\" style=\"stroke:#000000; stroke-linecap:round; stroke-linejoin:round; stroke-width:4; stroke-opacity:1; fill:none\" points=\"-8781.88,-2035.11 -8775,-2035.11 \"/>\n",
       "<polyline clip-path=\"url(#clip232)\" style=\"stroke:#000000; stroke-linecap:round; stroke-linejoin:round; stroke-width:4; stroke-opacity:1; fill:none\" points=\"-8775,-2035.11 -8761.24,-2048.87 \"/>\n",
       "<polyline clip-path=\"url(#clip232)\" style=\"stroke:#000000; stroke-linecap:round; stroke-linejoin:round; stroke-width:4; stroke-opacity:1; fill:none\" points=\"-8761.24,-2048.87 -8754.35,-2048.87 \"/>\n",
       "<polyline clip-path=\"url(#clip232)\" style=\"stroke:#000000; stroke-linecap:round; stroke-linejoin:round; stroke-width:4; stroke-opacity:1; fill:none\" points=\"-8754.35,-2048.87 -8740.59,-2062.64 \"/>\n",
       "<polyline clip-path=\"url(#clip232)\" style=\"stroke:#000000; stroke-linecap:round; stroke-linejoin:round; stroke-width:4; stroke-opacity:1; fill:none\" points=\"-8740.59,-2062.64 -8733.7,-2062.64 \"/>\n",
       "<polyline clip-path=\"url(#clip232)\" style=\"stroke:#000000; stroke-linecap:round; stroke-linejoin:round; stroke-width:4; stroke-opacity:1; fill:none\" points=\"-8733.7,-2062.64 -8719.94,-2076.4 \"/>\n",
       "<polyline clip-path=\"url(#clip232)\" style=\"stroke:#000000; stroke-linecap:round; stroke-linejoin:round; stroke-width:4; stroke-opacity:1; fill:none\" points=\"-8719.94,-2076.4 -8713.06,-2076.4 \"/>\n",
       "<polyline clip-path=\"url(#clip232)\" style=\"stroke:#000000; stroke-linecap:round; stroke-linejoin:round; stroke-width:4; stroke-opacity:1; fill:none\" points=\"-8713.06,-2076.4 -8699.29,-2090.17 \"/>\n",
       "<polyline clip-path=\"url(#clip232)\" style=\"stroke:#000000; stroke-linecap:round; stroke-linejoin:round; stroke-width:4; stroke-opacity:1; fill:none\" points=\"-8699.29,-2090.17 -8692.41,-2090.17 \"/>\n",
       "<polyline clip-path=\"url(#clip232)\" style=\"stroke:#000000; stroke-linecap:round; stroke-linejoin:round; stroke-width:4; stroke-opacity:1; fill:none\" points=\"-8692.41,-2090.17 -8678.64,-2103.94 \"/>\n",
       "<polyline clip-path=\"url(#clip232)\" style=\"stroke:#000000; stroke-linecap:round; stroke-linejoin:round; stroke-width:4; stroke-opacity:1; fill:none\" points=\"-8678.64,-2103.94 -8671.76,-2103.94 \"/>\n",
       "<polyline clip-path=\"url(#clip232)\" style=\"stroke:#000000; stroke-linecap:round; stroke-linejoin:round; stroke-width:4; stroke-opacity:1; fill:none\" points=\"-8671.76,-2103.94 -8657.99,-2117.7 \"/>\n",
       "<polyline clip-path=\"url(#clip232)\" style=\"stroke:#000000; stroke-linecap:round; stroke-linejoin:round; stroke-width:4; stroke-opacity:1; fill:none\" points=\"-8657.99,-2117.7 -8651.11,-2117.7 \"/>\n",
       "<polyline clip-path=\"url(#clip232)\" style=\"stroke:#000000; stroke-linecap:round; stroke-linejoin:round; stroke-width:4; stroke-opacity:1; fill:none\" points=\"-8651.11,-2117.7 -8637.34,-2131.47 \"/>\n",
       "<polyline clip-path=\"url(#clip232)\" style=\"stroke:#000000; stroke-linecap:round; stroke-linejoin:round; stroke-width:4; stroke-opacity:1; fill:none\" points=\"-8637.34,-2131.47 -8630.46,-2131.47 \"/>\n",
       "<polyline clip-path=\"url(#clip232)\" style=\"stroke:#000000; stroke-linecap:round; stroke-linejoin:round; stroke-width:4; stroke-opacity:1; fill:none\" points=\"-8630.46,-2131.47 -8616.7,-2145.23 \"/>\n",
       "<polyline clip-path=\"url(#clip232)\" style=\"stroke:#000000; stroke-linecap:round; stroke-linejoin:round; stroke-width:4; stroke-opacity:1; fill:none\" points=\"-8616.7,-2145.23 -8609.81,-2145.23 \"/>\n",
       "<polyline clip-path=\"url(#clip232)\" style=\"stroke:#000000; stroke-linecap:round; stroke-linejoin:round; stroke-width:4; stroke-opacity:1; fill:none\" points=\"-8609.81,-2145.23 -8596.05,-2159 \"/>\n",
       "<polyline clip-path=\"url(#clip232)\" style=\"stroke:#000000; stroke-linecap:round; stroke-linejoin:round; stroke-width:4; stroke-opacity:1; fill:none\" points=\"-8596.05,-2159 -8589.17,-2159 \"/>\n",
       "<polyline clip-path=\"url(#clip232)\" style=\"stroke:#000000; stroke-linecap:round; stroke-linejoin:round; stroke-width:4; stroke-opacity:1; fill:none\" points=\"-8589.17,-2159 -8575.4,-2172.76 \"/>\n",
       "<polyline clip-path=\"url(#clip232)\" style=\"stroke:#000000; stroke-linecap:round; stroke-linejoin:round; stroke-width:4; stroke-opacity:1; fill:none\" points=\"-8575.4,-2172.76 -8568.52,-2172.76 \"/>\n",
       "<polyline clip-path=\"url(#clip232)\" style=\"stroke:#000000; stroke-linecap:round; stroke-linejoin:round; stroke-width:4; stroke-opacity:1; fill:none\" points=\"-8568.52,-2172.76 -8554.75,-2186.53 \"/>\n",
       "<polyline clip-path=\"url(#clip232)\" style=\"stroke:#000000; stroke-linecap:round; stroke-linejoin:round; stroke-width:4; stroke-opacity:1; fill:none\" points=\"-8554.75,-2186.53 -8547.87,-2186.53 \"/>\n",
       "<polyline clip-path=\"url(#clip232)\" style=\"stroke:#000000; stroke-linecap:round; stroke-linejoin:round; stroke-width:4; stroke-opacity:1; fill:none\" points=\"-8547.87,-2186.53 -8534.1,-2200.3 \"/>\n",
       "<polyline clip-path=\"url(#clip232)\" style=\"stroke:#000000; stroke-linecap:round; stroke-linejoin:round; stroke-width:4; stroke-opacity:1; fill:none\" points=\"-8534.1,-2200.3 -8527.22,-2200.3 \"/>\n",
       "<polyline clip-path=\"url(#clip232)\" style=\"stroke:#000000; stroke-linecap:round; stroke-linejoin:round; stroke-width:4; stroke-opacity:1; fill:none\" points=\"-8527.22,-2200.3 -8513.45,-2214.06 \"/>\n",
       "<polyline clip-path=\"url(#clip232)\" style=\"stroke:#000000; stroke-linecap:round; stroke-linejoin:round; stroke-width:4; stroke-opacity:1; fill:none\" points=\"-8513.45,-2214.06 -8506.57,-2214.06 \"/>\n",
       "<polyline clip-path=\"url(#clip232)\" style=\"stroke:#000000; stroke-linecap:round; stroke-linejoin:round; stroke-width:4; stroke-opacity:1; fill:none\" points=\"-8506.57,-2214.06 -8492.81,-2227.83 \"/>\n",
       "<polyline clip-path=\"url(#clip232)\" style=\"stroke:#000000; stroke-linecap:round; stroke-linejoin:round; stroke-width:4; stroke-opacity:1; fill:none\" points=\"-8492.81,-2227.83 -8485.92,-2227.83 \"/>\n",
       "<polyline clip-path=\"url(#clip232)\" style=\"stroke:#000000; stroke-linecap:round; stroke-linejoin:round; stroke-width:4; stroke-opacity:1; fill:none\" points=\"-8485.92,-2227.83 -8472.16,-2241.59 \"/>\n",
       "<polyline clip-path=\"url(#clip232)\" style=\"stroke:#000000; stroke-linecap:round; stroke-linejoin:round; stroke-width:4; stroke-opacity:1; fill:none\" points=\"-8472.16,-2241.59 -8465.27,-2241.59 \"/>\n",
       "<polyline clip-path=\"url(#clip232)\" style=\"stroke:#000000; stroke-linecap:round; stroke-linejoin:round; stroke-width:4; stroke-opacity:1; fill:none\" points=\"-8465.27,-2241.59 -8451.51,-2255.36 \"/>\n",
       "<polyline clip-path=\"url(#clip232)\" style=\"stroke:#000000; stroke-linecap:round; stroke-linejoin:round; stroke-width:4; stroke-opacity:1; fill:none\" points=\"-8451.51,-2255.36 -8444.63,-2255.36 \"/>\n",
       "<polyline clip-path=\"url(#clip232)\" style=\"stroke:#000000; stroke-linecap:round; stroke-linejoin:round; stroke-width:4; stroke-opacity:1; fill:none\" points=\"-8444.63,-2255.36 -8430.86,-2269.12 \"/>\n",
       "<polyline clip-path=\"url(#clip232)\" style=\"stroke:#000000; stroke-linecap:round; stroke-linejoin:round; stroke-width:4; stroke-opacity:1; fill:none\" points=\"-8430.86,-2269.12 -8423.98,-2269.12 \"/>\n",
       "<polyline clip-path=\"url(#clip232)\" style=\"stroke:#000000; stroke-linecap:round; stroke-linejoin:round; stroke-width:4; stroke-opacity:1; fill:none\" points=\"-8423.98,-2269.12 -8410.21,-2282.89 \"/>\n",
       "<polyline clip-path=\"url(#clip232)\" style=\"stroke:#000000; stroke-linecap:round; stroke-linejoin:round; stroke-width:4; stroke-opacity:1; fill:none\" points=\"-8410.21,-2282.89 -8403.33,-2282.89 \"/>\n",
       "<polyline clip-path=\"url(#clip232)\" style=\"stroke:#000000; stroke-linecap:round; stroke-linejoin:round; stroke-width:4; stroke-opacity:1; fill:none\" points=\"-8403.33,-2282.89 -8389.56,-2296.65 \"/>\n",
       "<polyline clip-path=\"url(#clip232)\" style=\"stroke:#000000; stroke-linecap:round; stroke-linejoin:round; stroke-width:4; stroke-opacity:1; fill:none\" points=\"-8389.56,-2296.65 -8382.68,-2296.65 \"/>\n",
       "<polyline clip-path=\"url(#clip232)\" style=\"stroke:#000000; stroke-linecap:round; stroke-linejoin:round; stroke-width:4; stroke-opacity:1; fill:none\" points=\"-8382.68,-2296.65 -8368.91,-2310.42 \"/>\n",
       "<polyline clip-path=\"url(#clip232)\" style=\"stroke:#000000; stroke-linecap:round; stroke-linejoin:round; stroke-width:4; stroke-opacity:1; fill:none\" points=\"-8368.91,-2310.42 -8362.03,-2310.42 \"/>\n",
       "<polyline clip-path=\"url(#clip232)\" style=\"stroke:#000000; stroke-linecap:round; stroke-linejoin:round; stroke-width:4; stroke-opacity:1; fill:none\" points=\"-8362.03,-2310.42 -8348.27,-2324.19 \"/>\n",
       "<polyline clip-path=\"url(#clip232)\" style=\"stroke:#000000; stroke-linecap:round; stroke-linejoin:round; stroke-width:4; stroke-opacity:1; fill:none\" points=\"-8348.27,-2324.19 -8341.38,-2324.19 \"/>\n",
       "<polyline clip-path=\"url(#clip232)\" style=\"stroke:#000000; stroke-linecap:round; stroke-linejoin:round; stroke-width:4; stroke-opacity:1; fill:none\" points=\"-8341.38,-2324.19 -8327.62,-2337.95 \"/>\n",
       "<polyline clip-path=\"url(#clip232)\" style=\"stroke:#000000; stroke-linecap:round; stroke-linejoin:round; stroke-width:4; stroke-opacity:1; fill:none\" points=\"-8327.62,-2337.95 -8320.73,-2337.95 \"/>\n",
       "<polyline clip-path=\"url(#clip232)\" style=\"stroke:#000000; stroke-linecap:round; stroke-linejoin:round; stroke-width:4; stroke-opacity:1; fill:none\" points=\"-8320.73,-2337.95 -8306.97,-2351.72 \"/>\n",
       "<polyline clip-path=\"url(#clip232)\" style=\"stroke:#000000; stroke-linecap:round; stroke-linejoin:round; stroke-width:4; stroke-opacity:1; fill:none\" points=\"-8306.97,-2351.72 -8300.09,-2351.72 \"/>\n",
       "<polyline clip-path=\"url(#clip232)\" style=\"stroke:#000000; stroke-linecap:round; stroke-linejoin:round; stroke-width:4; stroke-opacity:1; fill:none\" points=\"-8300.09,-2351.72 -8286.32,-2365.48 \"/>\n",
       "<polyline clip-path=\"url(#clip232)\" style=\"stroke:#000000; stroke-linecap:round; stroke-linejoin:round; stroke-width:4; stroke-opacity:1; fill:none\" points=\"-8286.32,-2365.48 -8279.44,-2365.48 \"/>\n",
       "<polyline clip-path=\"url(#clip232)\" style=\"stroke:#000000; stroke-linecap:round; stroke-linejoin:round; stroke-width:4; stroke-opacity:1; fill:none\" points=\"-8279.44,-2365.48 -8265.67,-2379.25 \"/>\n",
       "<polyline clip-path=\"url(#clip232)\" style=\"stroke:#000000; stroke-linecap:round; stroke-linejoin:round; stroke-width:4; stroke-opacity:1; fill:none\" points=\"-8265.67,-2379.25 -8258.79,-2379.25 \"/>\n",
       "<polyline clip-path=\"url(#clip232)\" style=\"stroke:#000000; stroke-linecap:round; stroke-linejoin:round; stroke-width:4; stroke-opacity:1; fill:none\" points=\"-8258.79,-2379.25 -8245.02,-2393.01 \"/>\n",
       "<polyline clip-path=\"url(#clip232)\" style=\"stroke:#000000; stroke-linecap:round; stroke-linejoin:round; stroke-width:4; stroke-opacity:1; fill:none\" points=\"-8245.02,-2393.01 -8238.14,-2393.01 \"/>\n",
       "<polyline clip-path=\"url(#clip232)\" style=\"stroke:#000000; stroke-linecap:round; stroke-linejoin:round; stroke-width:4; stroke-opacity:1; fill:none\" points=\"-8238.14,-2393.01 -8224.38,-2406.78 \"/>\n",
       "<polyline clip-path=\"url(#clip232)\" style=\"stroke:#000000; stroke-linecap:round; stroke-linejoin:round; stroke-width:4; stroke-opacity:1; fill:none\" points=\"-8224.38,-2406.78 -3454.58,-2406.78 \"/>\n",
       "<polyline clip-path=\"url(#clip232)\" style=\"stroke:#000000; stroke-linecap:round; stroke-linejoin:round; stroke-width:4; stroke-opacity:1; fill:none\" points=\"-3454.58,-2406.78 -3454.58,57.2717 \"/>\n",
       "<polyline clip-path=\"url(#clip232)\" style=\"stroke:#000000; stroke-linecap:round; stroke-linejoin:round; stroke-width:4; stroke-opacity:1; fill:none\" points=\"-3454.58,57.2717 -3447.69,64.1545 \"/>\n",
       "<polyline clip-path=\"url(#clip232)\" style=\"stroke:#000000; stroke-linecap:round; stroke-linejoin:round; stroke-width:4; stroke-opacity:1; fill:none\" points=\"-3447.69,64.1545 -3447.69,1220.47 \"/>\n",
       "<polyline clip-path=\"url(#clip232)\" style=\"stroke:#000000; stroke-linecap:round; stroke-linejoin:round; stroke-width:4; stroke-opacity:1; fill:none\" points=\"-3447.69,1220.47 -3784.95,1220.47 \"/>\n",
       "<polyline clip-path=\"url(#clip232)\" style=\"stroke:#000000; stroke-linecap:round; stroke-linejoin:round; stroke-width:4; stroke-opacity:1; fill:none\" points=\"-3784.95,1220.47 -3791.84,1227.35 \"/>\n",
       "<polyline clip-path=\"url(#clip232)\" style=\"stroke:#000000; stroke-linecap:round; stroke-linejoin:round; stroke-width:4; stroke-opacity:1; fill:none\" points=\"-3791.84,1227.35 -3791.84,1296.18 \"/>\n",
       "<polyline clip-path=\"url(#clip232)\" style=\"stroke:#000000; stroke-linecap:round; stroke-linejoin:round; stroke-width:4; stroke-opacity:1; fill:none\" points=\"-3791.84,1296.18 -3784.95,1303.06 \"/>\n",
       "<polyline clip-path=\"url(#clip232)\" style=\"stroke:#000000; stroke-linecap:round; stroke-linejoin:round; stroke-width:4; stroke-opacity:1; fill:none\" points=\"-3784.95,1303.06 -3447.69,1303.06 \"/>\n",
       "<polyline clip-path=\"url(#clip232)\" style=\"stroke:#000000; stroke-linecap:round; stroke-linejoin:round; stroke-width:4; stroke-opacity:1; fill:none\" points=\"-3447.69,1303.06 -3447.69,3161.43 \"/>\n",
       "<polyline clip-path=\"url(#clip232)\" style=\"stroke:#000000; stroke-linecap:round; stroke-linejoin:round; stroke-width:4; stroke-opacity:1; fill:none\" points=\"-3447.69,3161.43 -3440.81,3168.31 \"/>\n",
       "<polyline clip-path=\"url(#clip232)\" style=\"stroke:#000000; stroke-linecap:round; stroke-linejoin:round; stroke-width:4; stroke-opacity:1; fill:none\" points=\"-3440.81,3168.31 -3371.98,3168.31 \"/>\n",
       "<polyline clip-path=\"url(#clip232)\" style=\"stroke:#000000; stroke-linecap:round; stroke-linejoin:round; stroke-width:4; stroke-opacity:1; fill:none\" points=\"-3371.98,3168.31 -3365.1,3161.43 \"/>\n",
       "<polyline clip-path=\"url(#clip232)\" style=\"stroke:#000000; stroke-linecap:round; stroke-linejoin:round; stroke-width:4; stroke-opacity:1; fill:none\" points=\"-3365.1,3161.43 -3365.1,3023.77 \"/>\n",
       "<polyline clip-path=\"url(#clip232)\" style=\"stroke:#000000; stroke-linecap:round; stroke-linejoin:round; stroke-width:4; stroke-opacity:1; fill:none\" points=\"-3365.1,3023.77 -1520.5,3023.77 \"/>\n",
       "<polyline clip-path=\"url(#clip232)\" style=\"stroke:#000000; stroke-linecap:round; stroke-linejoin:round; stroke-width:4; stroke-opacity:1; fill:none\" points=\"-1520.5,3023.77 -1513.62,3016.89 \"/>\n",
       "<polyline clip-path=\"url(#clip232)\" style=\"stroke:#000000; stroke-linecap:round; stroke-linejoin:round; stroke-width:4; stroke-opacity:1; fill:none\" points=\"-1513.62,3016.89 -1513.62,2948.06 \"/>\n",
       "<polyline clip-path=\"url(#clip232)\" style=\"stroke:#000000; stroke-linecap:round; stroke-linejoin:round; stroke-width:4; stroke-opacity:1; fill:none\" points=\"-1513.62,2948.06 -1520.5,2941.18 \"/>\n",
       "<polyline clip-path=\"url(#clip232)\" style=\"stroke:#000000; stroke-linecap:round; stroke-linejoin:round; stroke-width:4; stroke-opacity:1; fill:none\" points=\"-1520.5,2941.18 -3365.1,2941.18 \"/>\n",
       "<polyline clip-path=\"url(#clip232)\" style=\"stroke:#000000; stroke-linecap:round; stroke-linejoin:round; stroke-width:4; stroke-opacity:1; fill:none\" points=\"-3365.1,2941.18 -3365.1,139.866 \"/>\n",
       "<polyline clip-path=\"url(#clip232)\" style=\"stroke:#000000; stroke-linecap:round; stroke-linejoin:round; stroke-width:4; stroke-opacity:1; fill:none\" points=\"-3365.1,139.866 -763.392,139.866 \"/>\n",
       "<polyline clip-path=\"url(#clip232)\" style=\"stroke:#000000; stroke-linecap:round; stroke-linejoin:round; stroke-width:4; stroke-opacity:1; fill:none\" points=\"-763.392,139.866 -763.392,2941.18 \"/>\n",
       "<polyline clip-path=\"url(#clip232)\" style=\"stroke:#000000; stroke-linecap:round; stroke-linejoin:round; stroke-width:4; stroke-opacity:1; fill:none\" points=\"-763.392,2941.18 -928.58,2941.18 \"/>\n",
       "<polyline clip-path=\"url(#clip232)\" style=\"stroke:#000000; stroke-linecap:round; stroke-linejoin:round; stroke-width:4; stroke-opacity:1; fill:none\" points=\"-928.58,2941.18 -935.462,2948.06 \"/>\n",
       "<polyline clip-path=\"url(#clip232)\" style=\"stroke:#000000; stroke-linecap:round; stroke-linejoin:round; stroke-width:4; stroke-opacity:1; fill:none\" points=\"-935.462,2948.06 -935.462,3016.89 \"/>\n",
       "<polyline clip-path=\"url(#clip232)\" style=\"stroke:#000000; stroke-linecap:round; stroke-linejoin:round; stroke-width:4; stroke-opacity:1; fill:none\" points=\"-935.462,3016.89 -928.58,3023.77 \"/>\n",
       "<polyline clip-path=\"url(#clip232)\" style=\"stroke:#000000; stroke-linecap:round; stroke-linejoin:round; stroke-width:4; stroke-opacity:1; fill:none\" points=\"-928.58,3023.77 -536.259,3023.77 \"/>\n",
       "<polyline clip-path=\"url(#clip232)\" style=\"stroke:#000000; stroke-linecap:round; stroke-linejoin:round; stroke-width:4; stroke-opacity:1; fill:none\" points=\"-536.259,3023.77 -529.376,3016.89 \"/>\n",
       "<polyline clip-path=\"url(#clip232)\" style=\"stroke:#000000; stroke-linecap:round; stroke-linejoin:round; stroke-width:4; stroke-opacity:1; fill:none\" points=\"-529.376,3016.89 -529.376,2948.06 \"/>\n",
       "<polyline clip-path=\"url(#clip232)\" style=\"stroke:#000000; stroke-linecap:round; stroke-linejoin:round; stroke-width:4; stroke-opacity:1; fill:none\" points=\"-529.376,2948.06 -536.259,2941.18 \"/>\n",
       "<polyline clip-path=\"url(#clip232)\" style=\"stroke:#000000; stroke-linecap:round; stroke-linejoin:round; stroke-width:4; stroke-opacity:1; fill:none\" points=\"-536.259,2941.18 -680.798,2941.18 \"/>\n",
       "<polyline clip-path=\"url(#clip232)\" style=\"stroke:#000000; stroke-linecap:round; stroke-linejoin:round; stroke-width:4; stroke-opacity:1; fill:none\" points=\"-680.798,2941.18 -680.798,139.866 \"/>\n",
       "<polyline clip-path=\"url(#clip232)\" style=\"stroke:#000000; stroke-linecap:round; stroke-linejoin:round; stroke-width:4; stroke-opacity:1; fill:none\" points=\"-680.798,139.866 1370.28,139.866 \"/>\n",
       "<polyline clip-path=\"url(#clip232)\" style=\"stroke:#000000; stroke-linecap:round; stroke-linejoin:round; stroke-width:4; stroke-opacity:1; fill:none\" points=\"1370.28,139.866 1370.28,2941.18 \"/>\n",
       "<polyline clip-path=\"url(#clip232)\" style=\"stroke:#000000; stroke-linecap:round; stroke-linejoin:round; stroke-width:4; stroke-opacity:1; fill:none\" points=\"1370.28,2941.18 55.6645,2941.18 \"/>\n",
       "<polyline clip-path=\"url(#clip232)\" style=\"stroke:#000000; stroke-linecap:round; stroke-linejoin:round; stroke-width:4; stroke-opacity:1; fill:none\" points=\"55.6645,2941.18 48.7817,2948.06 \"/>\n",
       "<polyline clip-path=\"url(#clip232)\" style=\"stroke:#000000; stroke-linecap:round; stroke-linejoin:round; stroke-width:4; stroke-opacity:1; fill:none\" points=\"48.7817,2948.06 48.7817,3016.89 \"/>\n",
       "<polyline clip-path=\"url(#clip232)\" style=\"stroke:#000000; stroke-linecap:round; stroke-linejoin:round; stroke-width:4; stroke-opacity:1; fill:none\" points=\"48.7817,3016.89 55.6645,3023.77 \"/>\n",
       "<polyline clip-path=\"url(#clip232)\" style=\"stroke:#000000; stroke-linecap:round; stroke-linejoin:round; stroke-width:4; stroke-opacity:1; fill:none\" points=\"55.6645,3023.77 1494.18,3023.77 \"/>\n",
       "<polyline clip-path=\"url(#clip232)\" style=\"stroke:#000000; stroke-linecap:round; stroke-linejoin:round; stroke-width:4; stroke-opacity:1; fill:none\" points=\"1494.18,3023.77 1501.06,3016.89 \"/>\n",
       "<polyline clip-path=\"url(#clip232)\" style=\"stroke:#000000; stroke-linecap:round; stroke-linejoin:round; stroke-width:4; stroke-opacity:1; fill:none\" points=\"1501.06,3016.89 1501.06,2948.06 \"/>\n",
       "<polyline clip-path=\"url(#clip232)\" style=\"stroke:#000000; stroke-linecap:round; stroke-linejoin:round; stroke-width:4; stroke-opacity:1; fill:none\" points=\"1501.06,2948.06 1494.18,2941.18 \"/>\n",
       "<polyline clip-path=\"url(#clip232)\" style=\"stroke:#000000; stroke-linecap:round; stroke-linejoin:round; stroke-width:4; stroke-opacity:1; fill:none\" points=\"1494.18,2941.18 1452.88,2941.18 \"/>\n",
       "<polyline clip-path=\"url(#clip232)\" style=\"stroke:#000000; stroke-linecap:round; stroke-linejoin:round; stroke-width:4; stroke-opacity:1; fill:none\" points=\"1452.88,2941.18 1452.88,139.866 \"/>\n",
       "<polyline clip-path=\"url(#clip232)\" style=\"stroke:#000000; stroke-linecap:round; stroke-linejoin:round; stroke-width:4; stroke-opacity:1; fill:none\" points=\"1452.88,139.866 3497.08,139.866 \"/>\n",
       "<polyline clip-path=\"url(#clip232)\" style=\"stroke:#000000; stroke-linecap:round; stroke-linejoin:round; stroke-width:4; stroke-opacity:1; fill:none\" points=\"3497.08,139.866 3497.08,2941.18 \"/>\n",
       "<polyline clip-path=\"url(#clip232)\" style=\"stroke:#000000; stroke-linecap:round; stroke-linejoin:round; stroke-width:4; stroke-opacity:1; fill:none\" points=\"3497.08,2941.18 2086.1,2941.18 \"/>\n",
       "<polyline clip-path=\"url(#clip232)\" style=\"stroke:#000000; stroke-linecap:round; stroke-linejoin:round; stroke-width:4; stroke-opacity:1; fill:none\" points=\"2086.1,2941.18 2079.22,2948.06 \"/>\n",
       "<polyline clip-path=\"url(#clip232)\" style=\"stroke:#000000; stroke-linecap:round; stroke-linejoin:round; stroke-width:4; stroke-opacity:1; fill:none\" points=\"2079.22,2948.06 2079.22,3016.89 \"/>\n",
       "<polyline clip-path=\"url(#clip232)\" style=\"stroke:#000000; stroke-linecap:round; stroke-linejoin:round; stroke-width:4; stroke-opacity:1; fill:none\" points=\"2079.22,3016.89 2086.1,3023.77 \"/>\n",
       "<polyline clip-path=\"url(#clip232)\" style=\"stroke:#000000; stroke-linecap:round; stroke-linejoin:round; stroke-width:4; stroke-opacity:1; fill:none\" points=\"2086.1,3023.77 2196.22,3023.77 \"/>\n",
       "<polyline clip-path=\"url(#clip232)\" style=\"stroke:#000000; stroke-linecap:round; stroke-linejoin:round; stroke-width:4; stroke-opacity:1; fill:none\" points=\"2196.22,3023.77 2196.22,3051.3 \"/>\n",
       "<polyline clip-path=\"url(#clip232)\" style=\"stroke:#000000; stroke-linecap:round; stroke-linejoin:round; stroke-width:4; stroke-opacity:1; fill:none\" points=\"2196.22,3051.3 2203.11,3058.18 \"/>\n",
       "<polyline clip-path=\"url(#clip232)\" style=\"stroke:#000000; stroke-linecap:round; stroke-linejoin:round; stroke-width:4; stroke-opacity:1; fill:none\" points=\"2203.11,3058.18 2271.93,3058.18 \"/>\n",
       "<polyline clip-path=\"url(#clip232)\" style=\"stroke:#000000; stroke-linecap:round; stroke-linejoin:round; stroke-width:4; stroke-opacity:1; fill:none\" points=\"2271.93,3058.18 2278.82,3051.3 \"/>\n",
       "<polyline clip-path=\"url(#clip232)\" style=\"stroke:#000000; stroke-linecap:round; stroke-linejoin:round; stroke-width:4; stroke-opacity:1; fill:none\" points=\"2278.82,3051.3 2278.82,3023.77 \"/>\n",
       "<polyline clip-path=\"url(#clip232)\" style=\"stroke:#000000; stroke-linecap:round; stroke-linejoin:round; stroke-width:4; stroke-opacity:1; fill:none\" points=\"2278.82,3023.77 3497.08,3023.77 \"/>\n",
       "<polyline clip-path=\"url(#clip232)\" style=\"stroke:#000000; stroke-linecap:round; stroke-linejoin:round; stroke-width:4; stroke-opacity:1; fill:none\" points=\"3497.08,3023.77 3497.08,3973.6 \"/>\n",
       "<polyline clip-path=\"url(#clip232)\" style=\"stroke:#000000; stroke-linecap:round; stroke-linejoin:round; stroke-width:4; stroke-opacity:1; fill:none\" points=\"3497.08,3973.6 2278.82,3973.6 \"/>\n",
       "<polyline clip-path=\"url(#clip232)\" style=\"stroke:#000000; stroke-linecap:round; stroke-linejoin:round; stroke-width:4; stroke-opacity:1; fill:none\" points=\"2278.82,3973.6 2278.82,3643.22 \"/>\n",
       "<polyline clip-path=\"url(#clip232)\" style=\"stroke:#000000; stroke-linecap:round; stroke-linejoin:round; stroke-width:4; stroke-opacity:1; fill:none\" points=\"2278.82,3643.22 2271.93,3636.34 \"/>\n",
       "<polyline clip-path=\"url(#clip232)\" style=\"stroke:#000000; stroke-linecap:round; stroke-linejoin:round; stroke-width:4; stroke-opacity:1; fill:none\" points=\"2271.93,3636.34 2203.11,3636.34 \"/>\n",
       "<polyline clip-path=\"url(#clip232)\" style=\"stroke:#000000; stroke-linecap:round; stroke-linejoin:round; stroke-width:4; stroke-opacity:1; fill:none\" points=\"2203.11,3636.34 2196.22,3643.22 \"/>\n",
       "<polyline clip-path=\"url(#clip232)\" style=\"stroke:#000000; stroke-linecap:round; stroke-linejoin:round; stroke-width:4; stroke-opacity:1; fill:none\" points=\"2196.22,3643.22 2196.22,3973.6 \"/>\n",
       "<polyline clip-path=\"url(#clip232)\" style=\"stroke:#000000; stroke-linecap:round; stroke-linejoin:round; stroke-width:4; stroke-opacity:1; fill:none\" points=\"2196.22,3973.6 2086.1,3973.6 \"/>\n",
       "<polyline clip-path=\"url(#clip232)\" style=\"stroke:#000000; stroke-linecap:round; stroke-linejoin:round; stroke-width:4; stroke-opacity:1; fill:none\" points=\"2086.1,3973.6 2079.22,3980.48 \"/>\n",
       "<polyline clip-path=\"url(#clip232)\" style=\"stroke:#000000; stroke-linecap:round; stroke-linejoin:round; stroke-width:4; stroke-opacity:1; fill:none\" points=\"2079.22,3980.48 2079.22,4049.31 \"/>\n",
       "<polyline clip-path=\"url(#clip232)\" style=\"stroke:#000000; stroke-linecap:round; stroke-linejoin:round; stroke-width:4; stroke-opacity:1; fill:none\" points=\"2079.22,4049.31 2086.1,4056.19 \"/>\n",
       "<polyline clip-path=\"url(#clip232)\" style=\"stroke:#000000; stroke-linecap:round; stroke-linejoin:round; stroke-width:4; stroke-opacity:1; fill:none\" points=\"2086.1,4056.19 3497.08,4056.19 \"/>\n",
       "<polyline clip-path=\"url(#clip232)\" style=\"stroke:#000000; stroke-linecap:round; stroke-linejoin:round; stroke-width:4; stroke-opacity:1; fill:none\" points=\"3497.08,4056.19 3497.08,6657.9 \"/>\n",
       "<polyline clip-path=\"url(#clip232)\" style=\"stroke:#000000; stroke-linecap:round; stroke-linejoin:round; stroke-width:4; stroke-opacity:1; fill:none\" points=\"3497.08,6657.9 1315.22,6657.9 \"/>\n",
       "<polyline clip-path=\"url(#clip232)\" style=\"stroke:#000000; stroke-linecap:round; stroke-linejoin:round; stroke-width:4; stroke-opacity:1; fill:none\" points=\"1315.22,6657.9 1315.22,4056.19 \"/>\n",
       "<polyline clip-path=\"url(#clip232)\" style=\"stroke:#000000; stroke-linecap:round; stroke-linejoin:round; stroke-width:4; stroke-opacity:1; fill:none\" points=\"1315.22,4056.19 1494.18,4056.19 \"/>\n",
       "<polyline clip-path=\"url(#clip232)\" style=\"stroke:#000000; stroke-linecap:round; stroke-linejoin:round; stroke-width:4; stroke-opacity:1; fill:none\" points=\"1494.18,4056.19 1501.06,4049.31 \"/>\n",
       "<polyline clip-path=\"url(#clip232)\" style=\"stroke:#000000; stroke-linecap:round; stroke-linejoin:round; stroke-width:4; stroke-opacity:1; fill:none\" points=\"1501.06,4049.31 1501.06,3980.48 \"/>\n",
       "<polyline clip-path=\"url(#clip232)\" style=\"stroke:#000000; stroke-linecap:round; stroke-linejoin:round; stroke-width:4; stroke-opacity:1; fill:none\" points=\"1501.06,3980.48 1494.18,3973.6 \"/>\n",
       "<polyline clip-path=\"url(#clip232)\" style=\"stroke:#000000; stroke-linecap:round; stroke-linejoin:round; stroke-width:4; stroke-opacity:1; fill:none\" points=\"1494.18,3973.6 1074.32,3973.6 \"/>\n",
       "<polyline clip-path=\"url(#clip232)\" style=\"stroke:#000000; stroke-linecap:round; stroke-linejoin:round; stroke-width:4; stroke-opacity:1; fill:none\" points=\"1074.32,3973.6 1067.44,3980.48 \"/>\n",
       "<polyline clip-path=\"url(#clip232)\" style=\"stroke:#000000; stroke-linecap:round; stroke-linejoin:round; stroke-width:4; stroke-opacity:1; fill:none\" points=\"1067.44,3980.48 1067.44,4049.31 \"/>\n",
       "<polyline clip-path=\"url(#clip232)\" style=\"stroke:#000000; stroke-linecap:round; stroke-linejoin:round; stroke-width:4; stroke-opacity:1; fill:none\" points=\"1067.44,4049.31 1074.32,4056.19 \"/>\n",
       "<polyline clip-path=\"url(#clip232)\" style=\"stroke:#000000; stroke-linecap:round; stroke-linejoin:round; stroke-width:4; stroke-opacity:1; fill:none\" points=\"1074.32,4056.19 1232.63,4056.19 \"/>\n",
       "<polyline clip-path=\"url(#clip232)\" style=\"stroke:#000000; stroke-linecap:round; stroke-linejoin:round; stroke-width:4; stroke-opacity:1; fill:none\" points=\"1232.63,4056.19 1232.63,5487.82 \"/>\n",
       "<polyline clip-path=\"url(#clip232)\" style=\"stroke:#000000; stroke-linecap:round; stroke-linejoin:round; stroke-width:4; stroke-opacity:1; fill:none\" points=\"1232.63,5487.82 -667.032,5487.82 \"/>\n",
       "<polyline clip-path=\"url(#clip232)\" style=\"stroke:#000000; stroke-linecap:round; stroke-linejoin:round; stroke-width:4; stroke-opacity:1; fill:none\" points=\"-667.032,5487.82 -673.915,5494.7 \"/>\n",
       "<polyline clip-path=\"url(#clip232)\" style=\"stroke:#000000; stroke-linecap:round; stroke-linejoin:round; stroke-width:4; stroke-opacity:1; fill:none\" points=\"-673.915,5494.7 -673.915,5556.65 \"/>\n",
       "<polyline clip-path=\"url(#clip232)\" style=\"stroke:#000000; stroke-linecap:round; stroke-linejoin:round; stroke-width:4; stroke-opacity:1; fill:none\" points=\"-673.915,5556.65 -667.032,5563.53 \"/>\n",
       "<polyline clip-path=\"url(#clip232)\" style=\"stroke:#000000; stroke-linecap:round; stroke-linejoin:round; stroke-width:4; stroke-opacity:1; fill:none\" points=\"-667.032,5563.53 1232.63,5563.53 \"/>\n",
       "<polyline clip-path=\"url(#clip232)\" style=\"stroke:#000000; stroke-linecap:round; stroke-linejoin:round; stroke-width:4; stroke-opacity:1; fill:none\" points=\"1232.63,5563.53 1232.63,6657.9 \"/>\n",
       "<polyline clip-path=\"url(#clip232)\" style=\"stroke:#000000; stroke-linecap:round; stroke-linejoin:round; stroke-width:4; stroke-opacity:1; fill:none\" points=\"1232.63,6657.9 241.501,6657.9 \"/>\n",
       "<polyline clip-path=\"url(#clip232)\" style=\"stroke:#000000; stroke-linecap:round; stroke-linejoin:round; stroke-width:4; stroke-opacity:1; fill:none\" points=\"241.501,6657.9 234.618,6664.78 \"/>\n",
       "<polyline clip-path=\"url(#clip232)\" style=\"stroke:#000000; stroke-linecap:round; stroke-linejoin:round; stroke-width:4; stroke-opacity:1; fill:none\" points=\"234.618,6664.78 234.618,6733.61 \"/>\n",
       "<polyline clip-path=\"url(#clip232)\" style=\"stroke:#000000; stroke-linecap:round; stroke-linejoin:round; stroke-width:4; stroke-opacity:1; fill:none\" points=\"234.618,6733.61 241.501,6740.5 \"/>\n",
       "<polyline clip-path=\"url(#clip232)\" style=\"stroke:#000000; stroke-linecap:round; stroke-linejoin:round; stroke-width:4; stroke-opacity:1; fill:none\" points=\"241.501,6740.5 3497.08,6740.5 \"/>\n",
       "<polyline clip-path=\"url(#clip232)\" style=\"stroke:#000000; stroke-linecap:round; stroke-linejoin:round; stroke-width:4; stroke-opacity:1; fill:none\" points=\"3497.08,6740.5 3497.08,10574.2 \"/>\n",
       "<polyline clip-path=\"url(#clip232)\" style=\"stroke:#000000; stroke-linecap:round; stroke-linejoin:round; stroke-width:4; stroke-opacity:1; fill:none\" points=\"3497.08,10574.2 -398.602,10574.2 \"/>\n",
       "<polyline clip-path=\"url(#clip232)\" style=\"stroke:#000000; stroke-linecap:round; stroke-linejoin:round; stroke-width:4; stroke-opacity:1; fill:none\" points=\"-398.602,10574.2 -398.602,10574.2 \"/>\n",
       "<polyline clip-path=\"url(#clip232)\" style=\"stroke:#440154; stroke-linecap:round; stroke-linejoin:round; stroke-width:16; stroke-opacity:1; fill:none\" points=\"1208.61,1102.35 1124.69,1121.29 \"/>\n",
       "<polyline clip-path=\"url(#clip232)\" style=\"stroke:#450558; stroke-linecap:round; stroke-linejoin:round; stroke-width:16; stroke-opacity:1; fill:none\" points=\"1208.61,414.065 1124.69,433.007 \"/>\n",
       "<polyline clip-path=\"url(#clip232)\" style=\"stroke:#45075a; stroke-linecap:round; stroke-linejoin:round; stroke-width:16; stroke-opacity:1; fill:none\" points=\"1208.61,1102.35 1145.41,1160.71 \"/>\n",
       "<polyline clip-path=\"url(#clip232)\" style=\"stroke:#471366; stroke-linecap:round; stroke-linejoin:round; stroke-width:16; stroke-opacity:1; fill:none\" points=\"1208.61,414.065 1183.06,496.216 \"/>\n",
       "<polyline clip-path=\"url(#clip232)\" style=\"stroke:#47176a; stroke-linecap:round; stroke-linejoin:round; stroke-width:16; stroke-opacity:1; fill:none\" points=\"1208.61,1102.35 1183.06,1184.5 \"/>\n",
       "<polyline clip-path=\"url(#clip232)\" style=\"stroke:#481f70; stroke-linecap:round; stroke-linejoin:round; stroke-width:16; stroke-opacity:1; fill:none\" points=\"1208.61,414.065 1145.41,472.432 \"/>\n",
       "<polyline clip-path=\"url(#clip232)\" style=\"stroke:#472676; stroke-linecap:round; stroke-linejoin:round; stroke-width:16; stroke-opacity:1; fill:none\" points=\"1208.61,872.92 1183.06,955.071 \"/>\n",
       "<polyline clip-path=\"url(#clip232)\" style=\"stroke:#472878; stroke-linecap:round; stroke-linejoin:round; stroke-width:16; stroke-opacity:1; fill:none\" points=\"1208.61,872.92 1145.41,931.287 \"/>\n",
       "<polyline clip-path=\"url(#clip232)\" style=\"stroke:#472d7b; stroke-linecap:round; stroke-linejoin:round; stroke-width:16; stroke-opacity:1; fill:none\" points=\"979.187,414.065 953.63,496.216 \"/>\n",
       "<polyline clip-path=\"url(#clip232)\" style=\"stroke:#462e7c; stroke-linecap:round; stroke-linejoin:round; stroke-width:16; stroke-opacity:1; fill:none\" points=\"1208.61,414.065 1126.46,388.507 \"/>\n",
       "<polyline clip-path=\"url(#clip232)\" style=\"stroke:#46307d; stroke-linecap:round; stroke-linejoin:round; stroke-width:16; stroke-opacity:1; fill:none\" points=\"1208.61,643.492 1183.06,725.644 \"/>\n",
       "<polyline clip-path=\"url(#clip232)\" style=\"stroke:#46307d; stroke-linecap:round; stroke-linejoin:round; stroke-width:16; stroke-opacity:1; fill:none\" points=\"979.187,1102.35 953.63,1184.5 \"/>\n",
       "<polyline clip-path=\"url(#clip232)\" style=\"stroke:#443882; stroke-linecap:round; stroke-linejoin:round; stroke-width:16; stroke-opacity:1; fill:none\" points=\"749.76,1102.35 724.202,1184.5 \"/>\n",
       "<polyline clip-path=\"url(#clip232)\" style=\"stroke:#443982; stroke-linecap:round; stroke-linejoin:round; stroke-width:16; stroke-opacity:1; fill:none\" points=\"520.332,414.065 438.18,388.507 \"/>\n",
       "<polyline clip-path=\"url(#clip232)\" style=\"stroke:#433b83; stroke-linecap:round; stroke-linejoin:round; stroke-width:16; stroke-opacity:1; fill:none\" points=\"1208.61,643.492 1145.41,701.859 \"/>\n",
       "<polyline clip-path=\"url(#clip232)\" style=\"stroke:#404487; stroke-linecap:round; stroke-linejoin:round; stroke-width:16; stroke-opacity:1; fill:none\" points=\"749.76,414.065 724.202,496.216 \"/>\n",
       "<polyline clip-path=\"url(#clip232)\" style=\"stroke:#404587; stroke-linecap:round; stroke-linejoin:round; stroke-width:16; stroke-opacity:1; fill:none\" points=\"979.187,872.92 953.63,955.071 \"/>\n",
       "<polyline clip-path=\"url(#clip232)\" style=\"stroke:#3f4587; stroke-linecap:round; stroke-linejoin:round; stroke-width:16; stroke-opacity:1; fill:none\" points=\"520.332,1102.35 494.775,1184.5 \"/>\n",
       "<polyline clip-path=\"url(#clip232)\" style=\"stroke:#3c4e8a; stroke-linecap:round; stroke-linejoin:round; stroke-width:16; stroke-opacity:1; fill:none\" points=\"979.187,643.492 953.63,725.644 \"/>\n",
       "<polyline clip-path=\"url(#clip232)\" style=\"stroke:#3b508a; stroke-linecap:round; stroke-linejoin:round; stroke-width:16; stroke-opacity:1; fill:none\" points=\"979.187,1102.35 915.978,1160.71 \"/>\n",
       "<polyline clip-path=\"url(#clip232)\" style=\"stroke:#39548b; stroke-linecap:round; stroke-linejoin:round; stroke-width:16; stroke-opacity:1; fill:none\" points=\"1208.61,872.92 1124.69,891.862 \"/>\n",
       "<polyline clip-path=\"url(#clip232)\" style=\"stroke:#37588c; stroke-linecap:round; stroke-linejoin:round; stroke-width:16; stroke-opacity:1; fill:none\" points=\"749.76,872.92 724.202,955.071 \"/>\n",
       "<polyline clip-path=\"url(#clip232)\" style=\"stroke:#365a8c; stroke-linecap:round; stroke-linejoin:round; stroke-width:16; stroke-opacity:1; fill:none\" points=\"1208.61,643.492 1126.46,617.935 \"/>\n",
       "<polyline clip-path=\"url(#clip232)\" style=\"stroke:#365b8c; stroke-linecap:round; stroke-linejoin:round; stroke-width:16; stroke-opacity:1; fill:none\" points=\"1208.61,643.492 1124.69,662.435 \"/>\n",
       "<polyline clip-path=\"url(#clip232)\" style=\"stroke:#355d8c; stroke-linecap:round; stroke-linejoin:round; stroke-width:16; stroke-opacity:1; fill:none\" points=\"979.187,414.065 915.978,472.432 \"/>\n",
       "<polyline clip-path=\"url(#clip232)\" style=\"stroke:#34608d; stroke-linecap:round; stroke-linejoin:round; stroke-width:16; stroke-opacity:1; fill:none\" points=\"520.332,414.065 494.775,496.216 \"/>\n",
       "<polyline clip-path=\"url(#clip232)\" style=\"stroke:#33618d; stroke-linecap:round; stroke-linejoin:round; stroke-width:16; stroke-opacity:1; fill:none\" points=\"749.76,414.065 667.608,388.507 \"/>\n",
       "<polyline clip-path=\"url(#clip232)\" style=\"stroke:#32628d; stroke-linecap:round; stroke-linejoin:round; stroke-width:16; stroke-opacity:1; fill:none\" points=\"749.76,643.492 724.202,725.644 \"/>\n",
       "<polyline clip-path=\"url(#clip232)\" style=\"stroke:#31658d; stroke-linecap:round; stroke-linejoin:round; stroke-width:16; stroke-opacity:1; fill:none\" points=\"520.332,643.492 438.18,617.935 \"/>\n",
       "<polyline clip-path=\"url(#clip232)\" style=\"stroke:#31668d; stroke-linecap:round; stroke-linejoin:round; stroke-width:16; stroke-opacity:1; fill:none\" points=\"979.187,414.065 897.035,388.507 \"/>\n",
       "<polyline clip-path=\"url(#clip232)\" style=\"stroke:#30688d; stroke-linecap:round; stroke-linejoin:round; stroke-width:16; stroke-opacity:1; fill:none\" points=\"520.332,1102.35 438.18,1076.79 \"/>\n",
       "<polyline clip-path=\"url(#clip232)\" style=\"stroke:#2f698d; stroke-linecap:round; stroke-linejoin:round; stroke-width:16; stroke-opacity:1; fill:none\" points=\"520.332,872.92 494.775,955.071 \"/>\n",
       "<polyline clip-path=\"url(#clip232)\" style=\"stroke:#2e6c8e; stroke-linecap:round; stroke-linejoin:round; stroke-width:16; stroke-opacity:1; fill:none\" points=\"520.332,1102.35 457.123,1160.71 \"/>\n",
       "<polyline clip-path=\"url(#clip232)\" style=\"stroke:#2e6c8e; stroke-linecap:round; stroke-linejoin:round; stroke-width:16; stroke-opacity:1; fill:none\" points=\"749.76,1102.35 686.55,1160.71 \"/>\n",
       "<polyline clip-path=\"url(#clip232)\" style=\"stroke:#2d6e8e; stroke-linecap:round; stroke-linejoin:round; stroke-width:16; stroke-opacity:1; fill:none\" points=\"979.187,872.92 915.978,931.287 \"/>\n",
       "<polyline clip-path=\"url(#clip232)\" style=\"stroke:#2d6f8e; stroke-linecap:round; stroke-linejoin:round; stroke-width:16; stroke-opacity:1; fill:none\" points=\"520.332,414.065 436.408,433.007 \"/>\n",
       "<polyline clip-path=\"url(#clip232)\" style=\"stroke:#2b728e; stroke-linecap:round; stroke-linejoin:round; stroke-width:16; stroke-opacity:1; fill:none\" points=\"520.332,1102.35 436.408,1121.29 \"/>\n",
       "<polyline clip-path=\"url(#clip232)\" style=\"stroke:#2b728e; stroke-linecap:round; stroke-linejoin:round; stroke-width:16; stroke-opacity:1; fill:none\" points=\"520.332,872.92 438.18,847.362 \"/>\n",
       "<polyline clip-path=\"url(#clip232)\" style=\"stroke:#2b748e; stroke-linecap:round; stroke-linejoin:round; stroke-width:16; stroke-opacity:1; fill:none\" points=\"1208.61,872.92 1126.46,847.362 \"/>\n",
       "<polyline clip-path=\"url(#clip232)\" style=\"stroke:#287a8e; stroke-linecap:round; stroke-linejoin:round; stroke-width:16; stroke-opacity:1; fill:none\" points=\"520.332,643.492 494.775,725.644 \"/>\n",
       "<polyline clip-path=\"url(#clip232)\" style=\"stroke:#287a8e; stroke-linecap:round; stroke-linejoin:round; stroke-width:16; stroke-opacity:1; fill:none\" points=\"1208.61,1102.35 1126.46,1076.79 \"/>\n",
       "<polyline clip-path=\"url(#clip232)\" style=\"stroke:#287c8e; stroke-linecap:round; stroke-linejoin:round; stroke-width:16; stroke-opacity:1; fill:none\" points=\"979.187,643.492 915.978,701.859 \"/>\n",
       "<polyline clip-path=\"url(#clip232)\" style=\"stroke:#23898d; stroke-linecap:round; stroke-linejoin:round; stroke-width:16; stroke-opacity:1; fill:none\" points=\"749.76,414.065 686.55,472.432 \"/>\n",
       "<polyline clip-path=\"url(#clip232)\" style=\"stroke:#218d8c; stroke-linecap:round; stroke-linejoin:round; stroke-width:16; stroke-opacity:1; fill:none\" points=\"979.187,414.065 895.263,433.007 \"/>\n",
       "<polyline clip-path=\"url(#clip232)\" style=\"stroke:#218d8c; stroke-linecap:round; stroke-linejoin:round; stroke-width:16; stroke-opacity:1; fill:none\" points=\"749.76,643.492 667.608,617.935 \"/>\n",
       "<polyline clip-path=\"url(#clip232)\" style=\"stroke:#1f938b; stroke-linecap:round; stroke-linejoin:round; stroke-width:16; stroke-opacity:1; fill:none\" points=\"979.187,643.492 897.035,617.935 \"/>\n",
       "<polyline clip-path=\"url(#clip232)\" style=\"stroke:#1f938b; stroke-linecap:round; stroke-linejoin:round; stroke-width:16; stroke-opacity:1; fill:none\" points=\"749.76,872.92 686.55,931.287 \"/>\n",
       "<polyline clip-path=\"url(#clip232)\" style=\"stroke:#1f958b; stroke-linecap:round; stroke-linejoin:round; stroke-width:16; stroke-opacity:1; fill:none\" points=\"979.187,1102.35 895.263,1121.29 \"/>\n",
       "<polyline clip-path=\"url(#clip232)\" style=\"stroke:#1e998a; stroke-linecap:round; stroke-linejoin:round; stroke-width:16; stroke-opacity:1; fill:none\" points=\"520.332,872.92 457.123,931.287 \"/>\n",
       "<polyline clip-path=\"url(#clip232)\" style=\"stroke:#1e9b89; stroke-linecap:round; stroke-linejoin:round; stroke-width:16; stroke-opacity:1; fill:none\" points=\"520.332,414.065 457.123,472.432 \"/>\n",
       "<polyline clip-path=\"url(#clip232)\" style=\"stroke:#1e9d88; stroke-linecap:round; stroke-linejoin:round; stroke-width:16; stroke-opacity:1; fill:none\" points=\"749.76,1102.35 667.608,1076.79 \"/>\n",
       "<polyline clip-path=\"url(#clip232)\" style=\"stroke:#20a386; stroke-linecap:round; stroke-linejoin:round; stroke-width:16; stroke-opacity:1; fill:none\" points=\"749.76,872.92 667.608,847.362 \"/>\n",
       "<polyline clip-path=\"url(#clip232)\" style=\"stroke:#20a585; stroke-linecap:round; stroke-linejoin:round; stroke-width:16; stroke-opacity:1; fill:none\" points=\"749.76,643.492 686.55,701.859 \"/>\n",
       "<polyline clip-path=\"url(#clip232)\" style=\"stroke:#26ac81; stroke-linecap:round; stroke-linejoin:round; stroke-width:16; stroke-opacity:1; fill:none\" points=\"979.187,872.92 897.035,847.362 \"/>\n",
       "<polyline clip-path=\"url(#clip232)\" style=\"stroke:#26ac81; stroke-linecap:round; stroke-linejoin:round; stroke-width:16; stroke-opacity:1; fill:none\" points=\"749.76,414.065 665.835,433.007 \"/>\n",
       "<polyline clip-path=\"url(#clip232)\" style=\"stroke:#27ad80; stroke-linecap:round; stroke-linejoin:round; stroke-width:16; stroke-opacity:1; fill:none\" points=\"979.187,1102.35 897.035,1076.79 \"/>\n",
       "<polyline clip-path=\"url(#clip232)\" style=\"stroke:#32b579; stroke-linecap:round; stroke-linejoin:round; stroke-width:16; stroke-opacity:1; fill:none\" points=\"520.332,643.492 457.123,701.859 \"/>\n",
       "<polyline clip-path=\"url(#clip232)\" style=\"stroke:#35b778; stroke-linecap:round; stroke-linejoin:round; stroke-width:16; stroke-opacity:1; fill:none\" points=\"749.76,1102.35 665.835,1121.29 \"/>\n",
       "<polyline clip-path=\"url(#clip232)\" style=\"stroke:#40bd72; stroke-linecap:round; stroke-linejoin:round; stroke-width:16; stroke-opacity:1; fill:none\" points=\"520.332,872.92 436.408,891.862 \"/>\n",
       "<polyline clip-path=\"url(#clip232)\" style=\"stroke:#4ac16c; stroke-linecap:round; stroke-linejoin:round; stroke-width:16; stroke-opacity:1; fill:none\" points=\"520.332,643.492 436.408,662.435 \"/>\n",
       "<polyline clip-path=\"url(#clip232)\" style=\"stroke:#89d547; stroke-linecap:round; stroke-linejoin:round; stroke-width:16; stroke-opacity:1; fill:none\" points=\"979.187,872.92 895.263,891.862 \"/>\n",
       "<polyline clip-path=\"url(#clip232)\" style=\"stroke:#92d741; stroke-linecap:round; stroke-linejoin:round; stroke-width:16; stroke-opacity:1; fill:none\" points=\"979.187,643.492 895.263,662.435 \"/>\n",
       "<polyline clip-path=\"url(#clip232)\" style=\"stroke:#f5e51f; stroke-linecap:round; stroke-linejoin:round; stroke-width:16; stroke-opacity:1; fill:none\" points=\"749.76,872.92 665.835,891.862 \"/>\n",
       "<polyline clip-path=\"url(#clip232)\" style=\"stroke:#fde724; stroke-linecap:round; stroke-linejoin:round; stroke-width:16; stroke-opacity:1; fill:none\" points=\"749.76,643.492 665.835,662.435 \"/>\n",
       "<polyline clip-path=\"url(#clip232)\" style=\"stroke:#ff0000; stroke-linecap:round; stroke-linejoin:round; stroke-width:12; stroke-opacity:1; fill:none\" points=\"782.442,745.751 698.61,765.097 \"/>\n",
       "</svg>\n"
      ]
     },
     "execution_count": 108,
     "metadata": {},
     "output_type": "execute_result"
    }
   ],
   "source": [
    "t  = 1\n",
    "\n",
    "p0  = _ps[t]\n",
    "x   = stack(polar_inv(_zs[t],_as))\n",
    "\n",
    "w   = 5\n",
    "sig = 0.1\n",
    "dropout = 1e-9\n",
    "\n",
    "grid_dx  = 0.5\n",
    "grid_dhd = 90.0\n",
    "grid_k  = 4\n",
    "\n",
    "p = perturb(p0, 0.1, 10)\n",
    "p1, ps, log_p = grid_proposal(p, x, w, sig, dropout, grid_k, grid_dx, grid_dhd);\n",
    "\n",
    "\n",
    "cs = peak_to_peak(log_p)\n",
    "# ---------------\n",
    "mypl = plot(size=(400,400), legend=nothing; yxlims(p.x,1)..., aspect_ratio=:equal)\n",
    "plot!(_segs, c=:black)\n",
    "# scatter!([p.x .+ 0.1*[cos(p.hd);sin(p.hd)] for p in ps], zcolor=log_p)\n",
    "plot!(Pose.(ps), cgrad(:viridis)[cs], r=0.125, linewidth=4)\n",
    "plot!(p0,c=:red, r=0.125, linewidth=3)\n",
    "mypl\n"
   ]
  },
  {
   "cell_type": "markdown",
   "id": "79d4a7be",
   "metadata": {},
   "source": [
    "#### Iterated proposal - gen"
   ]
  },
  {
   "cell_type": "code",
   "execution_count": 117,
   "id": "21af40fc",
   "metadata": {},
   "outputs": [],
   "source": [
    "@gen function iterated_proposal(p::Pose, x::Matrix, \n",
    "                                w::Vector{Int}, sig::Vector{Float64}, dropout::Vector{Float64}, \n",
    "                                grid_k::Vector{Int}, grid_dx::Vector{Float64}, grid_dhd::Vector{Float64})\n",
    "    \n",
    "    n = length(w)\n",
    "    \n",
    "    ps = Pose[]\n",
    "    log_ps = []\n",
    "    for i=1:n\n",
    "        args = (p, x, w[i], sig[i], dropout[i], grid_k[i], grid_dx[i], grid_dhd[i])\n",
    "        p, _, log_p = {  i => :p } ~ grid_proposal(args...)\n",
    "        push!(ps, p)\n",
    "        push!(log_ps, log_p)\n",
    "    end\n",
    "    return p, ps, log_ps\n",
    "end;"
   ]
  },
  {
   "cell_type": "code",
   "execution_count": 140,
   "id": "3750d9d0",
   "metadata": {},
   "outputs": [
    {
     "data": {
      "image/svg+xml": [
       "<?xml version=\"1.0\" encoding=\"utf-8\"?>\n",
       "<svg xmlns=\"http://www.w3.org/2000/svg\" xmlns:xlink=\"http://www.w3.org/1999/xlink\" width=\"400\" height=\"400\" viewBox=\"0 0 1600 1600\">\n",
       "<defs>\n",
       "  <clipPath id=\"clip830\">\n",
       "    <rect x=\"0\" y=\"0\" width=\"1600\" height=\"1600\"/>\n",
       "  </clipPath>\n",
       "</defs>\n",
       "<path clip-path=\"url(#clip830)\" d=\"M0 1600 L1600 1600 L1600 0 L0 0  Z\" fill=\"#ffffff\" fill-rule=\"evenodd\" fill-opacity=\"1\"/>\n",
       "<defs>\n",
       "  <clipPath id=\"clip831\">\n",
       "    <rect x=\"320\" y=\"160\" width=\"1121\" height=\"1121\"/>\n",
       "  </clipPath>\n",
       "</defs>\n",
       "<path clip-path=\"url(#clip830)\" d=\"M131.446 1468.86 L1552.76 1468.86 L1552.76 47.5508 L131.446 47.5508  Z\" fill=\"#ffffff\" fill-rule=\"evenodd\" fill-opacity=\"1\"/>\n",
       "<defs>\n",
       "  <clipPath id=\"clip832\">\n",
       "    <rect x=\"131\" y=\"47\" width=\"1422\" height=\"1422\"/>\n",
       "  </clipPath>\n",
       "</defs>\n",
       "<polyline clip-path=\"url(#clip832)\" style=\"stroke:#000000; stroke-linecap:round; stroke-linejoin:round; stroke-width:2; stroke-opacity:0.1; fill:none\" points=\"141.885,1468.86 141.885,47.5508 \"/>\n",
       "<polyline clip-path=\"url(#clip832)\" style=\"stroke:#000000; stroke-linecap:round; stroke-linejoin:round; stroke-width:2; stroke-opacity:0.1; fill:none\" points=\"378.77,1468.86 378.77,47.5508 \"/>\n",
       "<polyline clip-path=\"url(#clip832)\" style=\"stroke:#000000; stroke-linecap:round; stroke-linejoin:round; stroke-width:2; stroke-opacity:0.1; fill:none\" points=\"615.656,1468.86 615.656,47.5508 \"/>\n",
       "<polyline clip-path=\"url(#clip832)\" style=\"stroke:#000000; stroke-linecap:round; stroke-linejoin:round; stroke-width:2; stroke-opacity:0.1; fill:none\" points=\"852.541,1468.86 852.541,47.5508 \"/>\n",
       "<polyline clip-path=\"url(#clip832)\" style=\"stroke:#000000; stroke-linecap:round; stroke-linejoin:round; stroke-width:2; stroke-opacity:0.1; fill:none\" points=\"1089.43,1468.86 1089.43,47.5508 \"/>\n",
       "<polyline clip-path=\"url(#clip832)\" style=\"stroke:#000000; stroke-linecap:round; stroke-linejoin:round; stroke-width:2; stroke-opacity:0.1; fill:none\" points=\"1326.31,1468.86 1326.31,47.5508 \"/>\n",
       "<polyline clip-path=\"url(#clip830)\" style=\"stroke:#000000; stroke-linecap:round; stroke-linejoin:round; stroke-width:4; stroke-opacity:1; fill:none\" points=\"131.446,1468.86 1552.76,1468.86 \"/>\n",
       "<polyline clip-path=\"url(#clip830)\" style=\"stroke:#000000; stroke-linecap:round; stroke-linejoin:round; stroke-width:4; stroke-opacity:1; fill:none\" points=\"141.885,1468.86 141.885,1449.97 \"/>\n",
       "<polyline clip-path=\"url(#clip830)\" style=\"stroke:#000000; stroke-linecap:round; stroke-linejoin:round; stroke-width:4; stroke-opacity:1; fill:none\" points=\"378.77,1468.86 378.77,1449.97 \"/>\n",
       "<polyline clip-path=\"url(#clip830)\" style=\"stroke:#000000; stroke-linecap:round; stroke-linejoin:round; stroke-width:4; stroke-opacity:1; fill:none\" points=\"615.656,1468.86 615.656,1449.97 \"/>\n",
       "<polyline clip-path=\"url(#clip830)\" style=\"stroke:#000000; stroke-linecap:round; stroke-linejoin:round; stroke-width:4; stroke-opacity:1; fill:none\" points=\"852.541,1468.86 852.541,1449.97 \"/>\n",
       "<polyline clip-path=\"url(#clip830)\" style=\"stroke:#000000; stroke-linecap:round; stroke-linejoin:round; stroke-width:4; stroke-opacity:1; fill:none\" points=\"1089.43,1468.86 1089.43,1449.97 \"/>\n",
       "<polyline clip-path=\"url(#clip830)\" style=\"stroke:#000000; stroke-linecap:round; stroke-linejoin:round; stroke-width:4; stroke-opacity:1; fill:none\" points=\"1326.31,1468.86 1326.31,1449.97 \"/>\n",
       "<path clip-path=\"url(#clip830)\" d=\"M117.372 1520.93 L125.011 1520.93 L125.011 1494.56 L116.7 1496.23 L116.7 1491.97 L124.964 1490.3 L129.64 1490.3 L129.64 1520.93 L137.279 1520.93 L137.279 1524.86 L117.372 1524.86 L117.372 1520.93 Z\" fill=\"#000000\" fill-rule=\"evenodd\" fill-opacity=\"1\" /><path clip-path=\"url(#clip830)\" d=\"M150.751 1520.93 L167.07 1520.93 L167.07 1524.86 L145.126 1524.86 L145.126 1520.93 Q147.788 1518.17 152.371 1513.54 Q156.978 1508.89 158.158 1507.55 Q160.404 1505.02 161.283 1503.29 Q162.186 1501.53 162.186 1499.84 Q162.186 1497.08 160.242 1495.35 Q158.321 1493.61 155.219 1493.61 Q153.02 1493.61 150.566 1494.38 Q148.135 1495.14 145.358 1496.69 L145.358 1491.97 Q148.182 1490.83 150.635 1490.25 Q153.089 1489.68 155.126 1489.68 Q160.496 1489.68 163.691 1492.36 Q166.885 1495.05 166.885 1499.54 Q166.885 1501.67 166.075 1503.59 Q165.288 1505.49 163.182 1508.08 Q162.603 1508.75 159.501 1511.97 Q156.399 1515.16 150.751 1520.93 Z\" fill=\"#000000\" fill-rule=\"evenodd\" fill-opacity=\"1\" /><path clip-path=\"url(#clip830)\" d=\"M353.782 1520.93 L361.421 1520.93 L361.421 1494.56 L353.111 1496.23 L353.111 1491.97 L361.375 1490.3 L366.051 1490.3 L366.051 1520.93 L373.689 1520.93 L373.689 1524.86 L353.782 1524.86 L353.782 1520.93 Z\" fill=\"#000000\" fill-rule=\"evenodd\" fill-opacity=\"1\" /><path clip-path=\"url(#clip830)\" d=\"M397.3 1506.23 Q400.657 1506.94 402.532 1509.21 Q404.43 1511.48 404.43 1514.81 Q404.43 1519.93 400.912 1522.73 Q397.393 1525.53 390.912 1525.53 Q388.736 1525.53 386.421 1525.09 Q384.129 1524.68 381.676 1523.82 L381.676 1519.31 Q383.62 1520.44 385.935 1521.02 Q388.25 1521.6 390.773 1521.6 Q395.171 1521.6 397.463 1519.86 Q399.777 1518.13 399.777 1514.81 Q399.777 1511.76 397.625 1510.05 Q395.495 1508.31 391.675 1508.31 L387.648 1508.31 L387.648 1504.47 L391.861 1504.47 Q395.31 1504.47 397.138 1503.1 Q398.967 1501.71 398.967 1499.12 Q398.967 1496.46 397.069 1495.05 Q395.194 1493.61 391.675 1493.61 Q389.754 1493.61 387.555 1494.03 Q385.356 1494.44 382.717 1495.32 L382.717 1491.16 Q385.379 1490.42 387.694 1490.05 Q390.032 1489.68 392.092 1489.68 Q397.416 1489.68 400.518 1492.11 Q403.62 1494.51 403.62 1498.63 Q403.62 1501.5 401.976 1503.5 Q400.333 1505.46 397.3 1506.23 Z\" fill=\"#000000\" fill-rule=\"evenodd\" fill-opacity=\"1\" /><path clip-path=\"url(#clip830)\" d=\"M590.1 1520.93 L597.739 1520.93 L597.739 1494.56 L589.429 1496.23 L589.429 1491.97 L597.693 1490.3 L602.369 1490.3 L602.369 1520.93 L610.007 1520.93 L610.007 1524.86 L590.1 1524.86 L590.1 1520.93 Z\" fill=\"#000000\" fill-rule=\"evenodd\" fill-opacity=\"1\" /><path clip-path=\"url(#clip830)\" d=\"M632.299 1494.38 L620.493 1512.82 L632.299 1512.82 L632.299 1494.38 M631.072 1490.3 L636.952 1490.3 L636.952 1512.82 L641.882 1512.82 L641.882 1516.71 L636.952 1516.71 L636.952 1524.86 L632.299 1524.86 L632.299 1516.71 L616.697 1516.71 L616.697 1512.2 L631.072 1490.3 Z\" fill=\"#000000\" fill-rule=\"evenodd\" fill-opacity=\"1\" /><path clip-path=\"url(#clip830)\" d=\"M827.726 1520.93 L835.365 1520.93 L835.365 1494.56 L827.055 1496.23 L827.055 1491.97 L835.318 1490.3 L839.994 1490.3 L839.994 1520.93 L847.633 1520.93 L847.633 1524.86 L827.726 1524.86 L827.726 1520.93 Z\" fill=\"#000000\" fill-rule=\"evenodd\" fill-opacity=\"1\" /><path clip-path=\"url(#clip830)\" d=\"M857.124 1490.3 L875.48 1490.3 L875.48 1494.24 L861.406 1494.24 L861.406 1502.71 Q862.425 1502.36 863.443 1502.2 Q864.462 1502.01 865.48 1502.01 Q871.267 1502.01 874.647 1505.19 Q878.027 1508.36 878.027 1513.77 Q878.027 1519.35 874.554 1522.45 Q871.082 1525.53 864.763 1525.53 Q862.587 1525.53 860.318 1525.16 Q858.073 1524.79 855.666 1524.05 L855.666 1519.35 Q857.749 1520.49 859.971 1521.04 Q862.193 1521.6 864.67 1521.6 Q868.675 1521.6 871.013 1519.49 Q873.351 1517.38 873.351 1513.77 Q873.351 1510.16 871.013 1508.06 Q868.675 1505.95 864.67 1505.95 Q862.795 1505.95 860.92 1506.37 Q859.068 1506.78 857.124 1507.66 L857.124 1490.3 Z\" fill=\"#000000\" fill-rule=\"evenodd\" fill-opacity=\"1\" /><path clip-path=\"url(#clip830)\" d=\"M1064.03 1520.93 L1071.67 1520.93 L1071.67 1494.56 L1063.36 1496.23 L1063.36 1491.97 L1071.62 1490.3 L1076.3 1490.3 L1076.3 1520.93 L1083.94 1520.93 L1083.94 1524.86 L1064.03 1524.86 L1064.03 1520.93 Z\" fill=\"#000000\" fill-rule=\"evenodd\" fill-opacity=\"1\" /><path clip-path=\"url(#clip830)\" d=\"M1103.96 1505.72 Q1100.81 1505.72 1098.96 1507.87 Q1097.13 1510.02 1097.13 1513.77 Q1097.13 1517.5 1098.96 1519.68 Q1100.81 1521.83 1103.96 1521.83 Q1107.11 1521.83 1108.94 1519.68 Q1110.79 1517.5 1110.79 1513.77 Q1110.79 1510.02 1108.94 1507.87 Q1107.11 1505.72 1103.96 1505.72 M1113.24 1491.07 L1113.24 1495.32 Q1111.49 1494.49 1109.68 1494.05 Q1107.9 1493.61 1106.14 1493.61 Q1101.51 1493.61 1099.06 1496.74 Q1096.62 1499.86 1096.28 1506.18 Q1097.64 1504.17 1099.7 1503.1 Q1101.76 1502.01 1104.24 1502.01 Q1109.45 1502.01 1112.46 1505.19 Q1115.49 1508.33 1115.49 1513.77 Q1115.49 1519.1 1112.34 1522.31 Q1109.19 1525.53 1103.96 1525.53 Q1097.97 1525.53 1094.8 1520.95 Q1091.62 1516.34 1091.62 1507.62 Q1091.62 1499.42 1095.51 1494.56 Q1099.4 1489.68 1105.95 1489.68 Q1107.71 1489.68 1109.49 1490.02 Q1111.3 1490.37 1113.24 1491.07 Z\" fill=\"#000000\" fill-rule=\"evenodd\" fill-opacity=\"1\" /><path clip-path=\"url(#clip830)\" d=\"M1301.45 1520.93 L1309.09 1520.93 L1309.09 1494.56 L1300.78 1496.23 L1300.78 1491.97 L1309.04 1490.3 L1313.72 1490.3 L1313.72 1520.93 L1321.36 1520.93 L1321.36 1524.86 L1301.45 1524.86 L1301.45 1520.93 Z\" fill=\"#000000\" fill-rule=\"evenodd\" fill-opacity=\"1\" /><path clip-path=\"url(#clip830)\" d=\"M1329.62 1490.3 L1351.84 1490.3 L1351.84 1492.29 L1339.3 1524.86 L1334.41 1524.86 L1346.22 1494.24 L1329.62 1494.24 L1329.62 1490.3 Z\" fill=\"#000000\" fill-rule=\"evenodd\" fill-opacity=\"1\" /><polyline clip-path=\"url(#clip832)\" style=\"stroke:#000000; stroke-linecap:round; stroke-linejoin:round; stroke-width:2; stroke-opacity:0.1; fill:none\" points=\"131.446,1321.92 1552.76,1321.92 \"/>\n",
       "<polyline clip-path=\"url(#clip832)\" style=\"stroke:#000000; stroke-linecap:round; stroke-linejoin:round; stroke-width:2; stroke-opacity:0.1; fill:none\" points=\"131.446,1085.04 1552.76,1085.04 \"/>\n",
       "<polyline clip-path=\"url(#clip832)\" style=\"stroke:#000000; stroke-linecap:round; stroke-linejoin:round; stroke-width:2; stroke-opacity:0.1; fill:none\" points=\"131.446,848.155 1552.76,848.155 \"/>\n",
       "<polyline clip-path=\"url(#clip832)\" style=\"stroke:#000000; stroke-linecap:round; stroke-linejoin:round; stroke-width:2; stroke-opacity:0.1; fill:none\" points=\"131.446,611.27 1552.76,611.27 \"/>\n",
       "<polyline clip-path=\"url(#clip832)\" style=\"stroke:#000000; stroke-linecap:round; stroke-linejoin:round; stroke-width:2; stroke-opacity:0.1; fill:none\" points=\"131.446,374.385 1552.76,374.385 \"/>\n",
       "<polyline clip-path=\"url(#clip832)\" style=\"stroke:#000000; stroke-linecap:round; stroke-linejoin:round; stroke-width:2; stroke-opacity:0.1; fill:none\" points=\"131.446,137.499 1552.76,137.499 \"/>\n",
       "<polyline clip-path=\"url(#clip830)\" style=\"stroke:#000000; stroke-linecap:round; stroke-linejoin:round; stroke-width:4; stroke-opacity:1; fill:none\" points=\"131.446,1468.86 131.446,47.5508 \"/>\n",
       "<polyline clip-path=\"url(#clip830)\" style=\"stroke:#000000; stroke-linecap:round; stroke-linejoin:round; stroke-width:4; stroke-opacity:1; fill:none\" points=\"131.446,1321.92 150.343,1321.92 \"/>\n",
       "<polyline clip-path=\"url(#clip830)\" style=\"stroke:#000000; stroke-linecap:round; stroke-linejoin:round; stroke-width:4; stroke-opacity:1; fill:none\" points=\"131.446,1085.04 150.343,1085.04 \"/>\n",
       "<polyline clip-path=\"url(#clip830)\" style=\"stroke:#000000; stroke-linecap:round; stroke-linejoin:round; stroke-width:4; stroke-opacity:1; fill:none\" points=\"131.446,848.155 150.343,848.155 \"/>\n",
       "<polyline clip-path=\"url(#clip830)\" style=\"stroke:#000000; stroke-linecap:round; stroke-linejoin:round; stroke-width:4; stroke-opacity:1; fill:none\" points=\"131.446,611.27 150.343,611.27 \"/>\n",
       "<polyline clip-path=\"url(#clip830)\" style=\"stroke:#000000; stroke-linecap:round; stroke-linejoin:round; stroke-width:4; stroke-opacity:1; fill:none\" points=\"131.446,374.385 150.343,374.385 \"/>\n",
       "<polyline clip-path=\"url(#clip830)\" style=\"stroke:#000000; stroke-linecap:round; stroke-linejoin:round; stroke-width:4; stroke-opacity:1; fill:none\" points=\"131.446,137.499 150.343,137.499 \"/>\n",
       "<path clip-path=\"url(#clip830)\" d=\"M57.7467 1335.27 L65.3856 1335.27 L65.3856 1308.9 L57.0754 1310.57 L57.0754 1306.31 L65.3393 1304.64 L70.0152 1304.64 L70.0152 1335.27 L77.654 1335.27 L77.654 1339.2 L57.7467 1339.2 L57.7467 1335.27 Z\" fill=\"#000000\" fill-rule=\"evenodd\" fill-opacity=\"1\" /><path clip-path=\"url(#clip830)\" d=\"M91.1262 1335.27 L107.446 1335.27 L107.446 1339.2 L85.5012 1339.2 L85.5012 1335.27 Q88.1632 1332.51 92.7466 1327.89 Q97.353 1323.23 98.5336 1321.89 Q100.779 1319.37 101.659 1317.63 Q102.561 1315.87 102.561 1314.18 Q102.561 1311.43 100.617 1309.69 Q98.6956 1307.95 95.5938 1307.95 Q93.3947 1307.95 90.941 1308.72 Q88.5105 1309.48 85.7327 1311.03 L85.7327 1306.31 Q88.5568 1305.18 91.0105 1304.6 Q93.4641 1304.02 95.5012 1304.02 Q100.872 1304.02 104.066 1306.7 Q107.26 1309.39 107.26 1313.88 Q107.26 1316.01 106.45 1317.93 Q105.663 1319.83 103.557 1322.42 Q102.978 1323.09 99.8761 1326.31 Q96.7743 1329.51 91.1262 1335.27 Z\" fill=\"#000000\" fill-rule=\"evenodd\" fill-opacity=\"1\" /><path clip-path=\"url(#clip830)\" d=\"M56.7977 1098.38 L64.4365 1098.38 L64.4365 1072.02 L56.1264 1073.69 L56.1264 1069.43 L64.3902 1067.76 L69.0661 1067.76 L69.0661 1098.38 L76.705 1098.38 L76.705 1102.32 L56.7977 1102.32 L56.7977 1098.38 Z\" fill=\"#000000\" fill-rule=\"evenodd\" fill-opacity=\"1\" /><path clip-path=\"url(#clip830)\" d=\"M100.316 1083.69 Q103.672 1084.4 105.547 1086.67 Q107.446 1088.94 107.446 1092.27 Q107.446 1097.39 103.927 1100.19 Q100.409 1102.99 93.9271 1102.99 Q91.7512 1102.99 89.4364 1102.55 Q87.1447 1102.13 84.691 1101.28 L84.691 1096.76 Q86.6355 1097.9 88.9503 1098.48 Q91.2651 1099.06 93.7882 1099.06 Q98.1863 1099.06 100.478 1097.32 Q102.793 1095.58 102.793 1092.27 Q102.793 1089.22 100.64 1087.5 Q98.5104 1085.77 94.691 1085.77 L90.6632 1085.77 L90.6632 1081.93 L94.8762 1081.93 Q98.3252 1081.93 100.154 1080.56 Q101.983 1079.17 101.983 1076.58 Q101.983 1073.92 100.084 1072.51 Q98.2095 1071.07 94.691 1071.07 Q92.7697 1071.07 90.5706 1071.49 Q88.3716 1071.9 85.7327 1072.78 L85.7327 1068.62 Q88.3947 1067.88 90.7095 1067.51 Q93.0475 1067.13 95.1077 1067.13 Q100.432 1067.13 103.534 1069.57 Q106.635 1071.97 106.635 1076.09 Q106.635 1078.96 104.992 1080.95 Q103.348 1082.92 100.316 1083.69 Z\" fill=\"#000000\" fill-rule=\"evenodd\" fill-opacity=\"1\" /><path clip-path=\"url(#clip830)\" d=\"M55.6634 861.499 L63.3023 861.499 L63.3023 835.134 L54.9921 836.801 L54.9921 832.541 L63.256 830.875 L67.9319 830.875 L67.9319 861.499 L75.5707 861.499 L75.5707 865.435 L55.6634 865.435 L55.6634 861.499 Z\" fill=\"#000000\" fill-rule=\"evenodd\" fill-opacity=\"1\" /><path clip-path=\"url(#clip830)\" d=\"M97.8623 834.949 L86.0568 853.398 L97.8623 853.398 L97.8623 834.949 M96.6354 830.875 L102.515 830.875 L102.515 853.398 L107.446 853.398 L107.446 857.287 L102.515 857.287 L102.515 865.435 L97.8623 865.435 L97.8623 857.287 L82.2605 857.287 L82.2605 852.773 L96.6354 830.875 Z\" fill=\"#000000\" fill-rule=\"evenodd\" fill-opacity=\"1\" /><path clip-path=\"url(#clip830)\" d=\"M57.1449 624.614 L64.7837 624.614 L64.7837 598.249 L56.4736 599.915 L56.4736 595.656 L64.7374 593.99 L69.4133 593.99 L69.4133 624.614 L77.0522 624.614 L77.0522 628.55 L57.1449 628.55 L57.1449 624.614 Z\" fill=\"#000000\" fill-rule=\"evenodd\" fill-opacity=\"1\" /><path clip-path=\"url(#clip830)\" d=\"M86.5429 593.99 L104.899 593.99 L104.899 597.925 L90.8253 597.925 L90.8253 606.397 Q91.8438 606.05 92.8623 605.888 Q93.8808 605.702 94.8993 605.702 Q100.686 605.702 104.066 608.874 Q107.446 612.045 107.446 617.462 Q107.446 623.04 103.973 626.142 Q100.501 629.221 94.1817 629.221 Q92.0058 629.221 89.7373 628.85 Q87.492 628.48 85.0846 627.739 L85.0846 623.04 Q87.1679 624.175 89.3901 624.73 Q91.6123 625.286 94.0891 625.286 Q98.0937 625.286 100.432 623.179 Q102.77 621.073 102.77 617.462 Q102.77 613.851 100.432 611.744 Q98.0937 609.638 94.0891 609.638 Q92.2141 609.638 90.3392 610.054 Q88.4873 610.471 86.5429 611.351 L86.5429 593.99 Z\" fill=\"#000000\" fill-rule=\"evenodd\" fill-opacity=\"1\" /><path clip-path=\"url(#clip830)\" d=\"M55.9875 387.729 L63.6263 387.729 L63.6263 361.364 L55.3162 363.03 L55.3162 358.771 L63.58 357.105 L68.2559 357.105 L68.2559 387.729 L75.8948 387.729 L75.8948 391.665 L55.9875 391.665 L55.9875 387.729 Z\" fill=\"#000000\" fill-rule=\"evenodd\" fill-opacity=\"1\" /><path clip-path=\"url(#clip830)\" d=\"M95.9178 372.521 Q92.7697 372.521 90.9179 374.674 Q89.0892 376.827 89.0892 380.577 Q89.0892 384.303 90.9179 386.479 Q92.7697 388.632 95.9178 388.632 Q99.066 388.632 100.895 386.479 Q102.746 384.303 102.746 380.577 Q102.746 376.827 100.895 374.674 Q99.066 372.521 95.9178 372.521 M105.2 357.868 L105.2 362.128 Q103.441 361.294 101.635 360.854 Q99.853 360.415 98.0937 360.415 Q93.4641 360.415 91.0105 363.54 Q88.5799 366.665 88.2327 372.984 Q89.5984 370.97 91.6586 369.905 Q93.7188 368.817 96.1956 368.817 Q101.404 368.817 104.413 371.989 Q107.446 375.137 107.446 380.577 Q107.446 385.901 104.297 389.118 Q101.149 392.336 95.9178 392.336 Q89.9225 392.336 86.7512 387.752 Q83.5799 383.146 83.5799 374.419 Q83.5799 366.225 87.4688 361.364 Q91.3577 356.48 97.9086 356.48 Q99.6678 356.48 101.45 356.827 Q103.256 357.174 105.2 357.868 Z\" fill=\"#000000\" fill-rule=\"evenodd\" fill-opacity=\"1\" /><path clip-path=\"url(#clip830)\" d=\"M57.0523 150.844 L64.6911 150.844 L64.6911 124.479 L56.381 126.145 L56.381 121.886 L64.6449 120.219 L69.3208 120.219 L69.3208 150.844 L76.9596 150.844 L76.9596 154.779 L57.0523 154.779 L57.0523 150.844 Z\" fill=\"#000000\" fill-rule=\"evenodd\" fill-opacity=\"1\" /><path clip-path=\"url(#clip830)\" d=\"M85.2234 120.219 L107.446 120.219 L107.446 122.21 L94.8993 154.779 L90.0151 154.779 L101.821 124.155 L85.2234 124.155 L85.2234 120.219 Z\" fill=\"#000000\" fill-rule=\"evenodd\" fill-opacity=\"1\" /><polyline clip-path=\"url(#clip832)\" style=\"stroke:#000000; stroke-linecap:round; stroke-linejoin:round; stroke-width:4; stroke-opacity:1; fill:none\" points=\"435.623,4140.86 433.254,4138.49 \"/>\n",
       "<polyline clip-path=\"url(#clip832)\" style=\"stroke:#000000; stroke-linecap:round; stroke-linejoin:round; stroke-width:4; stroke-opacity:1; fill:none\" points=\"433.254,4138.49 433.254,2821.41 \"/>\n",
       "<polyline clip-path=\"url(#clip832)\" style=\"stroke:#000000; stroke-linecap:round; stroke-linejoin:round; stroke-width:4; stroke-opacity:1; fill:none\" points=\"433.254,2821.41 452.205,2821.41 \"/>\n",
       "<polyline clip-path=\"url(#clip832)\" style=\"stroke:#000000; stroke-linecap:round; stroke-linejoin:round; stroke-width:4; stroke-opacity:1; fill:none\" points=\"452.205,2821.41 454.574,2819.04 \"/>\n",
       "<polyline clip-path=\"url(#clip832)\" style=\"stroke:#000000; stroke-linecap:round; stroke-linejoin:round; stroke-width:4; stroke-opacity:1; fill:none\" points=\"454.574,2819.04 454.574,2795.35 \"/>\n",
       "<polyline clip-path=\"url(#clip832)\" style=\"stroke:#000000; stroke-linecap:round; stroke-linejoin:round; stroke-width:4; stroke-opacity:1; fill:none\" points=\"454.574,2795.35 452.205,2792.98 \"/>\n",
       "<polyline clip-path=\"url(#clip832)\" style=\"stroke:#000000; stroke-linecap:round; stroke-linejoin:round; stroke-width:4; stroke-opacity:1; fill:none\" points=\"452.205,2792.98 198.738,2792.98 \"/>\n",
       "<polyline clip-path=\"url(#clip832)\" style=\"stroke:#000000; stroke-linecap:round; stroke-linejoin:round; stroke-width:4; stroke-opacity:1; fill:none\" points=\"198.738,2792.98 196.369,2790.61 \"/>\n",
       "<polyline clip-path=\"url(#clip832)\" style=\"stroke:#000000; stroke-linecap:round; stroke-linejoin:round; stroke-width:4; stroke-opacity:1; fill:none\" points=\"196.369,2790.61 196.369,1897.56 \"/>\n",
       "<polyline clip-path=\"url(#clip832)\" style=\"stroke:#000000; stroke-linecap:round; stroke-linejoin:round; stroke-width:4; stroke-opacity:1; fill:none\" points=\"196.369,1897.56 738.836,1897.56 \"/>\n",
       "<polyline clip-path=\"url(#clip832)\" style=\"stroke:#000000; stroke-linecap:round; stroke-linejoin:round; stroke-width:4; stroke-opacity:1; fill:none\" points=\"738.836,1897.56 741.205,1895.19 \"/>\n",
       "<polyline clip-path=\"url(#clip832)\" style=\"stroke:#000000; stroke-linecap:round; stroke-linejoin:round; stroke-width:4; stroke-opacity:1; fill:none\" points=\"741.205,1895.19 741.205,1871.5 \"/>\n",
       "<polyline clip-path=\"url(#clip832)\" style=\"stroke:#000000; stroke-linecap:round; stroke-linejoin:round; stroke-width:4; stroke-opacity:1; fill:none\" points=\"741.205,1871.5 738.836,1869.13 \"/>\n",
       "<polyline clip-path=\"url(#clip832)\" style=\"stroke:#000000; stroke-linecap:round; stroke-linejoin:round; stroke-width:4; stroke-opacity:1; fill:none\" points=\"738.836,1869.13 -585.352,1869.13 \"/>\n",
       "<polyline clip-path=\"url(#clip832)\" style=\"stroke:#000000; stroke-linecap:round; stroke-linejoin:round; stroke-width:4; stroke-opacity:1; fill:none\" points=\"-585.352,1869.13 -585.352,1831.23 \"/>\n",
       "<polyline clip-path=\"url(#clip832)\" style=\"stroke:#000000; stroke-linecap:round; stroke-linejoin:round; stroke-width:4; stroke-opacity:1; fill:none\" points=\"-585.352,1831.23 -587.721,1828.86 \"/>\n",
       "<polyline clip-path=\"url(#clip832)\" style=\"stroke:#000000; stroke-linecap:round; stroke-linejoin:round; stroke-width:4; stroke-opacity:1; fill:none\" points=\"-587.721,1828.86 -611.409,1828.86 \"/>\n",
       "<polyline clip-path=\"url(#clip832)\" style=\"stroke:#000000; stroke-linecap:round; stroke-linejoin:round; stroke-width:4; stroke-opacity:1; fill:none\" points=\"-611.409,1828.86 -613.778,1831.23 \"/>\n",
       "<polyline clip-path=\"url(#clip832)\" style=\"stroke:#000000; stroke-linecap:round; stroke-linejoin:round; stroke-width:4; stroke-opacity:1; fill:none\" points=\"-613.778,1831.23 -613.778,1869.13 \"/>\n",
       "<polyline clip-path=\"url(#clip832)\" style=\"stroke:#000000; stroke-linecap:round; stroke-linejoin:round; stroke-width:4; stroke-opacity:1; fill:none\" points=\"-613.778,1869.13 -1284.16,1869.13 \"/>\n",
       "<polyline clip-path=\"url(#clip832)\" style=\"stroke:#000000; stroke-linecap:round; stroke-linejoin:round; stroke-width:4; stroke-opacity:1; fill:none\" points=\"-1284.16,1869.13 -1286.53,1866.76 \"/>\n",
       "<polyline clip-path=\"url(#clip832)\" style=\"stroke:#000000; stroke-linecap:round; stroke-linejoin:round; stroke-width:4; stroke-opacity:1; fill:none\" points=\"-1286.53,1866.76 -1288.9,1866.76 \"/>\n",
       "<polyline clip-path=\"url(#clip832)\" style=\"stroke:#000000; stroke-linecap:round; stroke-linejoin:round; stroke-width:4; stroke-opacity:1; fill:none\" points=\"-1288.9,1866.76 -1291.27,1869.13 \"/>\n",
       "<polyline clip-path=\"url(#clip832)\" style=\"stroke:#000000; stroke-linecap:round; stroke-linejoin:round; stroke-width:4; stroke-opacity:1; fill:none\" points=\"-1291.27,1869.13 -1367.07,1869.13 \"/>\n",
       "<polyline clip-path=\"url(#clip832)\" style=\"stroke:#000000; stroke-linecap:round; stroke-linejoin:round; stroke-width:4; stroke-opacity:1; fill:none\" points=\"-1367.07,1869.13 -1369.44,1871.5 \"/>\n",
       "<polyline clip-path=\"url(#clip832)\" style=\"stroke:#000000; stroke-linecap:round; stroke-linejoin:round; stroke-width:4; stroke-opacity:1; fill:none\" points=\"-1369.44,1871.5 -1369.44,1895.19 \"/>\n",
       "<polyline clip-path=\"url(#clip832)\" style=\"stroke:#000000; stroke-linecap:round; stroke-linejoin:round; stroke-width:4; stroke-opacity:1; fill:none\" points=\"-1369.44,1895.19 -1367.07,1897.56 \"/>\n",
       "<polyline clip-path=\"url(#clip832)\" style=\"stroke:#000000; stroke-linecap:round; stroke-linejoin:round; stroke-width:4; stroke-opacity:1; fill:none\" points=\"-1367.07,1897.56 -1310.22,1897.56 \"/>\n",
       "<polyline clip-path=\"url(#clip832)\" style=\"stroke:#000000; stroke-linecap:round; stroke-linejoin:round; stroke-width:4; stroke-opacity:1; fill:none\" points=\"-1310.22,1897.56 -1310.22,2792.98 \"/>\n",
       "<polyline clip-path=\"url(#clip832)\" style=\"stroke:#000000; stroke-linecap:round; stroke-linejoin:round; stroke-width:4; stroke-opacity:1; fill:none\" points=\"-1310.22,2792.98 -2241.18,2792.98 \"/>\n",
       "<polyline clip-path=\"url(#clip832)\" style=\"stroke:#000000; stroke-linecap:round; stroke-linejoin:round; stroke-width:4; stroke-opacity:1; fill:none\" points=\"-2241.18,2792.98 -2243.55,2790.61 \"/>\n",
       "<polyline clip-path=\"url(#clip832)\" style=\"stroke:#000000; stroke-linecap:round; stroke-linejoin:round; stroke-width:4; stroke-opacity:1; fill:none\" points=\"-2243.55,2790.61 -2243.55,2016 \"/>\n",
       "<polyline clip-path=\"url(#clip832)\" style=\"stroke:#000000; stroke-linecap:round; stroke-linejoin:round; stroke-width:4; stroke-opacity:1; fill:none\" points=\"-2243.55,2016 -1632.38,2016 \"/>\n",
       "<polyline clip-path=\"url(#clip832)\" style=\"stroke:#000000; stroke-linecap:round; stroke-linejoin:round; stroke-width:4; stroke-opacity:1; fill:none\" points=\"-1632.38,2016 -1627.65,2011.26 \"/>\n",
       "<polyline clip-path=\"url(#clip832)\" style=\"stroke:#000000; stroke-linecap:round; stroke-linejoin:round; stroke-width:4; stroke-opacity:1; fill:none\" points=\"-1627.65,2011.26 -1627.65,1897.56 \"/>\n",
       "<polyline clip-path=\"url(#clip832)\" style=\"stroke:#000000; stroke-linecap:round; stroke-linejoin:round; stroke-width:4; stroke-opacity:1; fill:none\" points=\"-1627.65,1897.56 -1570.79,1897.56 \"/>\n",
       "<polyline clip-path=\"url(#clip832)\" style=\"stroke:#000000; stroke-linecap:round; stroke-linejoin:round; stroke-width:4; stroke-opacity:1; fill:none\" points=\"-1570.79,1897.56 -1568.42,1895.19 \"/>\n",
       "<polyline clip-path=\"url(#clip832)\" style=\"stroke:#000000; stroke-linecap:round; stroke-linejoin:round; stroke-width:4; stroke-opacity:1; fill:none\" points=\"-1568.42,1895.19 -1568.42,1871.5 \"/>\n",
       "<polyline clip-path=\"url(#clip832)\" style=\"stroke:#000000; stroke-linecap:round; stroke-linejoin:round; stroke-width:4; stroke-opacity:1; fill:none\" points=\"-1568.42,1871.5 -1570.79,1869.13 \"/>\n",
       "<polyline clip-path=\"url(#clip832)\" style=\"stroke:#000000; stroke-linecap:round; stroke-linejoin:round; stroke-width:4; stroke-opacity:1; fill:none\" points=\"-1570.79,1869.13 -1627.65,1869.13 \"/>\n",
       "<polyline clip-path=\"url(#clip832)\" style=\"stroke:#000000; stroke-linecap:round; stroke-linejoin:round; stroke-width:4; stroke-opacity:1; fill:none\" points=\"-1627.65,1869.13 -1627.65,1762.53 \"/>\n",
       "<polyline clip-path=\"url(#clip832)\" style=\"stroke:#000000; stroke-linecap:round; stroke-linejoin:round; stroke-width:4; stroke-opacity:1; fill:none\" points=\"-1627.65,1762.53 -1630.01,1760.16 \"/>\n",
       "<polyline clip-path=\"url(#clip832)\" style=\"stroke:#000000; stroke-linecap:round; stroke-linejoin:round; stroke-width:4; stroke-opacity:1; fill:none\" points=\"-1630.01,1760.16 -1653.7,1760.16 \"/>\n",
       "<polyline clip-path=\"url(#clip832)\" style=\"stroke:#000000; stroke-linecap:round; stroke-linejoin:round; stroke-width:4; stroke-opacity:1; fill:none\" points=\"-1653.7,1760.16 -1656.07,1762.53 \"/>\n",
       "<polyline clip-path=\"url(#clip832)\" style=\"stroke:#000000; stroke-linecap:round; stroke-linejoin:round; stroke-width:4; stroke-opacity:1; fill:none\" points=\"-1656.07,1762.53 -1656.07,1987.57 \"/>\n",
       "<polyline clip-path=\"url(#clip832)\" style=\"stroke:#000000; stroke-linecap:round; stroke-linejoin:round; stroke-width:4; stroke-opacity:1; fill:none\" points=\"-1656.07,1987.57 -2243.55,1987.57 \"/>\n",
       "<polyline clip-path=\"url(#clip832)\" style=\"stroke:#000000; stroke-linecap:round; stroke-linejoin:round; stroke-width:4; stroke-opacity:1; fill:none\" points=\"-2243.55,1987.57 -2243.55,1542.23 \"/>\n",
       "<polyline clip-path=\"url(#clip832)\" style=\"stroke:#000000; stroke-linecap:round; stroke-linejoin:round; stroke-width:4; stroke-opacity:1; fill:none\" points=\"-2243.55,1542.23 -1656.07,1542.23 \"/>\n",
       "<polyline clip-path=\"url(#clip832)\" style=\"stroke:#000000; stroke-linecap:round; stroke-linejoin:round; stroke-width:4; stroke-opacity:1; fill:none\" points=\"-1656.07,1542.23 -1656.07,1558.81 \"/>\n",
       "<polyline clip-path=\"url(#clip832)\" style=\"stroke:#000000; stroke-linecap:round; stroke-linejoin:round; stroke-width:4; stroke-opacity:1; fill:none\" points=\"-1656.07,1558.81 -1653.7,1561.18 \"/>\n",
       "<polyline clip-path=\"url(#clip832)\" style=\"stroke:#000000; stroke-linecap:round; stroke-linejoin:round; stroke-width:4; stroke-opacity:1; fill:none\" points=\"-1653.7,1561.18 -1630.01,1561.18 \"/>\n",
       "<polyline clip-path=\"url(#clip832)\" style=\"stroke:#000000; stroke-linecap:round; stroke-linejoin:round; stroke-width:4; stroke-opacity:1; fill:none\" points=\"-1630.01,1561.18 -1627.65,1558.81 \"/>\n",
       "<polyline clip-path=\"url(#clip832)\" style=\"stroke:#000000; stroke-linecap:round; stroke-linejoin:round; stroke-width:4; stroke-opacity:1; fill:none\" points=\"-1627.65,1558.81 -1627.65,1542.23 \"/>\n",
       "<polyline clip-path=\"url(#clip832)\" style=\"stroke:#000000; stroke-linecap:round; stroke-linejoin:round; stroke-width:4; stroke-opacity:1; fill:none\" points=\"-1627.65,1542.23 -1440.51,1542.23 \"/>\n",
       "<polyline clip-path=\"url(#clip832)\" style=\"stroke:#000000; stroke-linecap:round; stroke-linejoin:round; stroke-width:4; stroke-opacity:1; fill:none\" points=\"-1440.51,1542.23 -1438.14,1544.6 \"/>\n",
       "<polyline clip-path=\"url(#clip832)\" style=\"stroke:#000000; stroke-linecap:round; stroke-linejoin:round; stroke-width:4; stroke-opacity:1; fill:none\" points=\"-1438.14,1544.6 -1438.14,1546.97 \"/>\n",
       "<polyline clip-path=\"url(#clip832)\" style=\"stroke:#000000; stroke-linecap:round; stroke-linejoin:round; stroke-width:4; stroke-opacity:1; fill:none\" points=\"-1438.14,1546.97 -1435.77,1549.33 \"/>\n",
       "<polyline clip-path=\"url(#clip832)\" style=\"stroke:#000000; stroke-linecap:round; stroke-linejoin:round; stroke-width:4; stroke-opacity:1; fill:none\" points=\"-1435.77,1549.33 -1431.03,1549.33 \"/>\n",
       "<polyline clip-path=\"url(#clip832)\" style=\"stroke:#000000; stroke-linecap:round; stroke-linejoin:round; stroke-width:4; stroke-opacity:1; fill:none\" points=\"-1431.03,1549.33 -1428.66,1546.97 \"/>\n",
       "<polyline clip-path=\"url(#clip832)\" style=\"stroke:#000000; stroke-linecap:round; stroke-linejoin:round; stroke-width:4; stroke-opacity:1; fill:none\" points=\"-1428.66,1546.97 -1426.29,1546.97 \"/>\n",
       "<polyline clip-path=\"url(#clip832)\" style=\"stroke:#000000; stroke-linecap:round; stroke-linejoin:round; stroke-width:4; stroke-opacity:1; fill:none\" points=\"-1426.29,1546.97 -1423.92,1544.6 \"/>\n",
       "<polyline clip-path=\"url(#clip832)\" style=\"stroke:#000000; stroke-linecap:round; stroke-linejoin:round; stroke-width:4; stroke-opacity:1; fill:none\" points=\"-1423.92,1544.6 -1421.56,1544.6 \"/>\n",
       "<polyline clip-path=\"url(#clip832)\" style=\"stroke:#000000; stroke-linecap:round; stroke-linejoin:round; stroke-width:4; stroke-opacity:1; fill:none\" points=\"-1421.56,1544.6 -1419.19,1542.23 \"/>\n",
       "<polyline clip-path=\"url(#clip832)\" style=\"stroke:#000000; stroke-linecap:round; stroke-linejoin:round; stroke-width:4; stroke-opacity:1; fill:none\" points=\"-1419.19,1542.23 -1416.82,1542.23 \"/>\n",
       "<polyline clip-path=\"url(#clip832)\" style=\"stroke:#000000; stroke-linecap:round; stroke-linejoin:round; stroke-width:4; stroke-opacity:1; fill:none\" points=\"-1416.82,1542.23 -1414.45,1539.86 \"/>\n",
       "<polyline clip-path=\"url(#clip832)\" style=\"stroke:#000000; stroke-linecap:round; stroke-linejoin:round; stroke-width:4; stroke-opacity:1; fill:none\" points=\"-1414.45,1539.86 -1412.08,1539.86 \"/>\n",
       "<polyline clip-path=\"url(#clip832)\" style=\"stroke:#000000; stroke-linecap:round; stroke-linejoin:round; stroke-width:4; stroke-opacity:1; fill:none\" points=\"-1412.08,1539.86 -1409.71,1537.49 \"/>\n",
       "<polyline clip-path=\"url(#clip832)\" style=\"stroke:#000000; stroke-linecap:round; stroke-linejoin:round; stroke-width:4; stroke-opacity:1; fill:none\" points=\"-1409.71,1537.49 -1414.45,1532.75 \"/>\n",
       "<polyline clip-path=\"url(#clip832)\" style=\"stroke:#000000; stroke-linecap:round; stroke-linejoin:round; stroke-width:4; stroke-opacity:1; fill:none\" points=\"-1414.45,1532.75 -1414.45,1516.17 \"/>\n",
       "<polyline clip-path=\"url(#clip832)\" style=\"stroke:#000000; stroke-linecap:round; stroke-linejoin:round; stroke-width:4; stroke-opacity:1; fill:none\" points=\"-1414.45,1516.17 -1416.82,1513.8 \"/>\n",
       "<polyline clip-path=\"url(#clip832)\" style=\"stroke:#000000; stroke-linecap:round; stroke-linejoin:round; stroke-width:4; stroke-opacity:1; fill:none\" points=\"-1416.82,1513.8 -1416.82,950.015 \"/>\n",
       "<polyline clip-path=\"url(#clip832)\" style=\"stroke:#000000; stroke-linecap:round; stroke-linejoin:round; stroke-width:4; stroke-opacity:1; fill:none\" points=\"-1416.82,950.015 -1170.46,950.015 \"/>\n",
       "<polyline clip-path=\"url(#clip832)\" style=\"stroke:#000000; stroke-linecap:round; stroke-linejoin:round; stroke-width:4; stroke-opacity:1; fill:none\" points=\"-1170.46,950.015 -1168.09,947.646 \"/>\n",
       "<polyline clip-path=\"url(#clip832)\" style=\"stroke:#000000; stroke-linecap:round; stroke-linejoin:round; stroke-width:4; stroke-opacity:1; fill:none\" points=\"-1168.09,947.646 -1168.09,923.958 \"/>\n",
       "<polyline clip-path=\"url(#clip832)\" style=\"stroke:#000000; stroke-linecap:round; stroke-linejoin:round; stroke-width:4; stroke-opacity:1; fill:none\" points=\"-1168.09,923.958 -1170.46,921.589 \"/>\n",
       "<polyline clip-path=\"url(#clip832)\" style=\"stroke:#000000; stroke-linecap:round; stroke-linejoin:round; stroke-width:4; stroke-opacity:1; fill:none\" points=\"-1170.46,921.589 -1708.19,921.589 \"/>\n",
       "<polyline clip-path=\"url(#clip832)\" style=\"stroke:#000000; stroke-linecap:round; stroke-linejoin:round; stroke-width:4; stroke-opacity:1; fill:none\" points=\"-1708.19,921.589 -1710.56,923.958 \"/>\n",
       "<polyline clip-path=\"url(#clip832)\" style=\"stroke:#000000; stroke-linecap:round; stroke-linejoin:round; stroke-width:4; stroke-opacity:1; fill:none\" points=\"-1710.56,923.958 -1710.56,947.646 \"/>\n",
       "<polyline clip-path=\"url(#clip832)\" style=\"stroke:#000000; stroke-linecap:round; stroke-linejoin:round; stroke-width:4; stroke-opacity:1; fill:none\" points=\"-1710.56,947.646 -1708.19,950.015 \"/>\n",
       "<polyline clip-path=\"url(#clip832)\" style=\"stroke:#000000; stroke-linecap:round; stroke-linejoin:round; stroke-width:4; stroke-opacity:1; fill:none\" points=\"-1708.19,950.015 -1442.88,950.015 \"/>\n",
       "<polyline clip-path=\"url(#clip832)\" style=\"stroke:#000000; stroke-linecap:round; stroke-linejoin:round; stroke-width:4; stroke-opacity:1; fill:none\" points=\"-1442.88,950.015 -1442.88,1513.8 \"/>\n",
       "<polyline clip-path=\"url(#clip832)\" style=\"stroke:#000000; stroke-linecap:round; stroke-linejoin:round; stroke-width:4; stroke-opacity:1; fill:none\" points=\"-1442.88,1513.8 -2243.55,1513.8 \"/>\n",
       "<polyline clip-path=\"url(#clip832)\" style=\"stroke:#000000; stroke-linecap:round; stroke-linejoin:round; stroke-width:4; stroke-opacity:1; fill:none\" points=\"-2243.55,1513.8 -2243.55,950.015 \"/>\n",
       "<polyline clip-path=\"url(#clip832)\" style=\"stroke:#000000; stroke-linecap:round; stroke-linejoin:round; stroke-width:4; stroke-opacity:1; fill:none\" points=\"-2243.55,950.015 -1935.6,950.015 \"/>\n",
       "<polyline clip-path=\"url(#clip832)\" style=\"stroke:#000000; stroke-linecap:round; stroke-linejoin:round; stroke-width:4; stroke-opacity:1; fill:none\" points=\"-1935.6,950.015 -1933.23,947.646 \"/>\n",
       "<polyline clip-path=\"url(#clip832)\" style=\"stroke:#000000; stroke-linecap:round; stroke-linejoin:round; stroke-width:4; stroke-opacity:1; fill:none\" points=\"-1933.23,947.646 -1933.23,923.958 \"/>\n",
       "<polyline clip-path=\"url(#clip832)\" style=\"stroke:#000000; stroke-linecap:round; stroke-linejoin:round; stroke-width:4; stroke-opacity:1; fill:none\" points=\"-1933.23,923.958 -1935.6,921.589 \"/>\n",
       "<polyline clip-path=\"url(#clip832)\" style=\"stroke:#000000; stroke-linecap:round; stroke-linejoin:round; stroke-width:4; stroke-opacity:1; fill:none\" points=\"-1935.6,921.589 -2253.02,921.589 \"/>\n",
       "<polyline clip-path=\"url(#clip832)\" style=\"stroke:#000000; stroke-linecap:round; stroke-linejoin:round; stroke-width:4; stroke-opacity:1; fill:none\" points=\"-2253.02,921.589 -2255.39,919.22 \"/>\n",
       "<polyline clip-path=\"url(#clip832)\" style=\"stroke:#000000; stroke-linecap:round; stroke-linejoin:round; stroke-width:4; stroke-opacity:1; fill:none\" points=\"-2255.39,919.22 -2257.76,919.22 \"/>\n",
       "<polyline clip-path=\"url(#clip832)\" style=\"stroke:#000000; stroke-linecap:round; stroke-linejoin:round; stroke-width:4; stroke-opacity:1; fill:none\" points=\"-2257.76,919.22 -2262.5,914.482 \"/>\n",
       "<polyline clip-path=\"url(#clip832)\" style=\"stroke:#000000; stroke-linecap:round; stroke-linejoin:round; stroke-width:4; stroke-opacity:1; fill:none\" points=\"-2262.5,914.482 -2264.87,914.482 \"/>\n",
       "<polyline clip-path=\"url(#clip832)\" style=\"stroke:#000000; stroke-linecap:round; stroke-linejoin:round; stroke-width:4; stroke-opacity:1; fill:none\" points=\"-2264.87,914.482 -2269.6,909.745 \"/>\n",
       "<polyline clip-path=\"url(#clip832)\" style=\"stroke:#000000; stroke-linecap:round; stroke-linejoin:round; stroke-width:4; stroke-opacity:1; fill:none\" points=\"-2269.6,909.745 -2271.97,909.745 \"/>\n",
       "<polyline clip-path=\"url(#clip832)\" style=\"stroke:#000000; stroke-linecap:round; stroke-linejoin:round; stroke-width:4; stroke-opacity:1; fill:none\" points=\"-2271.97,909.745 -2276.71,905.007 \"/>\n",
       "<polyline clip-path=\"url(#clip832)\" style=\"stroke:#000000; stroke-linecap:round; stroke-linejoin:round; stroke-width:4; stroke-opacity:1; fill:none\" points=\"-2276.71,905.007 -2279.08,905.007 \"/>\n",
       "<polyline clip-path=\"url(#clip832)\" style=\"stroke:#000000; stroke-linecap:round; stroke-linejoin:round; stroke-width:4; stroke-opacity:1; fill:none\" points=\"-2279.08,905.007 -2283.82,900.269 \"/>\n",
       "<polyline clip-path=\"url(#clip832)\" style=\"stroke:#000000; stroke-linecap:round; stroke-linejoin:round; stroke-width:4; stroke-opacity:1; fill:none\" points=\"-2283.82,900.269 -2286.19,900.269 \"/>\n",
       "<polyline clip-path=\"url(#clip832)\" style=\"stroke:#000000; stroke-linecap:round; stroke-linejoin:round; stroke-width:4; stroke-opacity:1; fill:none\" points=\"-2286.19,900.269 -2290.92,895.532 \"/>\n",
       "<polyline clip-path=\"url(#clip832)\" style=\"stroke:#000000; stroke-linecap:round; stroke-linejoin:round; stroke-width:4; stroke-opacity:1; fill:none\" points=\"-2290.92,895.532 -2293.29,895.532 \"/>\n",
       "<polyline clip-path=\"url(#clip832)\" style=\"stroke:#000000; stroke-linecap:round; stroke-linejoin:round; stroke-width:4; stroke-opacity:1; fill:none\" points=\"-2293.29,895.532 -2295.66,893.163 \"/>\n",
       "<polyline clip-path=\"url(#clip832)\" style=\"stroke:#000000; stroke-linecap:round; stroke-linejoin:round; stroke-width:4; stroke-opacity:1; fill:none\" points=\"-2295.66,893.163 -2298.03,893.163 \"/>\n",
       "<polyline clip-path=\"url(#clip832)\" style=\"stroke:#000000; stroke-linecap:round; stroke-linejoin:round; stroke-width:4; stroke-opacity:1; fill:none\" points=\"-2298.03,893.163 -2302.77,888.425 \"/>\n",
       "<polyline clip-path=\"url(#clip832)\" style=\"stroke:#000000; stroke-linecap:round; stroke-linejoin:round; stroke-width:4; stroke-opacity:1; fill:none\" points=\"-2302.77,888.425 -2305.14,888.425 \"/>\n",
       "<polyline clip-path=\"url(#clip832)\" style=\"stroke:#000000; stroke-linecap:round; stroke-linejoin:round; stroke-width:4; stroke-opacity:1; fill:none\" points=\"-2305.14,888.425 -2309.87,883.687 \"/>\n",
       "<polyline clip-path=\"url(#clip832)\" style=\"stroke:#000000; stroke-linecap:round; stroke-linejoin:round; stroke-width:4; stroke-opacity:1; fill:none\" points=\"-2309.87,883.687 -2312.24,883.687 \"/>\n",
       "<polyline clip-path=\"url(#clip832)\" style=\"stroke:#000000; stroke-linecap:round; stroke-linejoin:round; stroke-width:4; stroke-opacity:1; fill:none\" points=\"-2312.24,883.687 -2316.98,878.95 \"/>\n",
       "<polyline clip-path=\"url(#clip832)\" style=\"stroke:#000000; stroke-linecap:round; stroke-linejoin:round; stroke-width:4; stroke-opacity:1; fill:none\" points=\"-2316.98,878.95 -2319.35,878.95 \"/>\n",
       "<polyline clip-path=\"url(#clip832)\" style=\"stroke:#000000; stroke-linecap:round; stroke-linejoin:round; stroke-width:4; stroke-opacity:1; fill:none\" points=\"-2319.35,878.95 -2324.09,874.212 \"/>\n",
       "<polyline clip-path=\"url(#clip832)\" style=\"stroke:#000000; stroke-linecap:round; stroke-linejoin:round; stroke-width:4; stroke-opacity:1; fill:none\" points=\"-2324.09,874.212 -2326.46,874.212 \"/>\n",
       "<polyline clip-path=\"url(#clip832)\" style=\"stroke:#000000; stroke-linecap:round; stroke-linejoin:round; stroke-width:4; stroke-opacity:1; fill:none\" points=\"-2326.46,874.212 -2331.19,869.474 \"/>\n",
       "<polyline clip-path=\"url(#clip832)\" style=\"stroke:#000000; stroke-linecap:round; stroke-linejoin:round; stroke-width:4; stroke-opacity:1; fill:none\" points=\"-2331.19,869.474 -2333.56,869.474 \"/>\n",
       "<polyline clip-path=\"url(#clip832)\" style=\"stroke:#000000; stroke-linecap:round; stroke-linejoin:round; stroke-width:4; stroke-opacity:1; fill:none\" points=\"-2333.56,869.474 -2338.3,864.737 \"/>\n",
       "<polyline clip-path=\"url(#clip832)\" style=\"stroke:#000000; stroke-linecap:round; stroke-linejoin:round; stroke-width:4; stroke-opacity:1; fill:none\" points=\"-2338.3,864.737 -2340.67,864.737 \"/>\n",
       "<polyline clip-path=\"url(#clip832)\" style=\"stroke:#000000; stroke-linecap:round; stroke-linejoin:round; stroke-width:4; stroke-opacity:1; fill:none\" points=\"-2340.67,864.737 -2345.41,859.999 \"/>\n",
       "<polyline clip-path=\"url(#clip832)\" style=\"stroke:#000000; stroke-linecap:round; stroke-linejoin:round; stroke-width:4; stroke-opacity:1; fill:none\" points=\"-2345.41,859.999 -2347.78,859.999 \"/>\n",
       "<polyline clip-path=\"url(#clip832)\" style=\"stroke:#000000; stroke-linecap:round; stroke-linejoin:round; stroke-width:4; stroke-opacity:1; fill:none\" points=\"-2347.78,859.999 -2352.51,855.261 \"/>\n",
       "<polyline clip-path=\"url(#clip832)\" style=\"stroke:#000000; stroke-linecap:round; stroke-linejoin:round; stroke-width:4; stroke-opacity:1; fill:none\" points=\"-2352.51,855.261 -2354.88,855.261 \"/>\n",
       "<polyline clip-path=\"url(#clip832)\" style=\"stroke:#000000; stroke-linecap:round; stroke-linejoin:round; stroke-width:4; stroke-opacity:1; fill:none\" points=\"-2354.88,855.261 -2359.62,850.523 \"/>\n",
       "<polyline clip-path=\"url(#clip832)\" style=\"stroke:#000000; stroke-linecap:round; stroke-linejoin:round; stroke-width:4; stroke-opacity:1; fill:none\" points=\"-2359.62,850.523 -2361.99,850.523 \"/>\n",
       "<polyline clip-path=\"url(#clip832)\" style=\"stroke:#000000; stroke-linecap:round; stroke-linejoin:round; stroke-width:4; stroke-opacity:1; fill:none\" points=\"-2361.99,850.523 -2366.73,845.786 \"/>\n",
       "<polyline clip-path=\"url(#clip832)\" style=\"stroke:#000000; stroke-linecap:round; stroke-linejoin:round; stroke-width:4; stroke-opacity:1; fill:none\" points=\"-2366.73,845.786 -2369.1,845.786 \"/>\n",
       "<polyline clip-path=\"url(#clip832)\" style=\"stroke:#000000; stroke-linecap:round; stroke-linejoin:round; stroke-width:4; stroke-opacity:1; fill:none\" points=\"-2369.1,845.786 -2373.83,841.048 \"/>\n",
       "<polyline clip-path=\"url(#clip832)\" style=\"stroke:#000000; stroke-linecap:round; stroke-linejoin:round; stroke-width:4; stroke-opacity:1; fill:none\" points=\"-2373.83,841.048 -2376.2,841.048 \"/>\n",
       "<polyline clip-path=\"url(#clip832)\" style=\"stroke:#000000; stroke-linecap:round; stroke-linejoin:round; stroke-width:4; stroke-opacity:1; fill:none\" points=\"-2376.2,841.048 -2380.94,836.31 \"/>\n",
       "<polyline clip-path=\"url(#clip832)\" style=\"stroke:#000000; stroke-linecap:round; stroke-linejoin:round; stroke-width:4; stroke-opacity:1; fill:none\" points=\"-2380.94,836.31 -2383.31,836.31 \"/>\n",
       "<polyline clip-path=\"url(#clip832)\" style=\"stroke:#000000; stroke-linecap:round; stroke-linejoin:round; stroke-width:4; stroke-opacity:1; fill:none\" points=\"-2383.31,836.31 -2388.05,831.573 \"/>\n",
       "<polyline clip-path=\"url(#clip832)\" style=\"stroke:#000000; stroke-linecap:round; stroke-linejoin:round; stroke-width:4; stroke-opacity:1; fill:none\" points=\"-2388.05,831.573 -2390.42,831.573 \"/>\n",
       "<polyline clip-path=\"url(#clip832)\" style=\"stroke:#000000; stroke-linecap:round; stroke-linejoin:round; stroke-width:4; stroke-opacity:1; fill:none\" points=\"-2390.42,831.573 -2395.15,826.835 \"/>\n",
       "<polyline clip-path=\"url(#clip832)\" style=\"stroke:#000000; stroke-linecap:round; stroke-linejoin:round; stroke-width:4; stroke-opacity:1; fill:none\" points=\"-2395.15,826.835 -2397.52,826.835 \"/>\n",
       "<polyline clip-path=\"url(#clip832)\" style=\"stroke:#000000; stroke-linecap:round; stroke-linejoin:round; stroke-width:4; stroke-opacity:1; fill:none\" points=\"-2397.52,826.835 -2399.89,824.466 \"/>\n",
       "<polyline clip-path=\"url(#clip832)\" style=\"stroke:#000000; stroke-linecap:round; stroke-linejoin:round; stroke-width:4; stroke-opacity:1; fill:none\" points=\"-2399.89,824.466 -2402.26,824.466 \"/>\n",
       "<polyline clip-path=\"url(#clip832)\" style=\"stroke:#000000; stroke-linecap:round; stroke-linejoin:round; stroke-width:4; stroke-opacity:1; fill:none\" points=\"-2402.26,824.466 -2407,819.728 \"/>\n",
       "<polyline clip-path=\"url(#clip832)\" style=\"stroke:#000000; stroke-linecap:round; stroke-linejoin:round; stroke-width:4; stroke-opacity:1; fill:none\" points=\"-2407,819.728 -2409.37,819.728 \"/>\n",
       "<polyline clip-path=\"url(#clip832)\" style=\"stroke:#000000; stroke-linecap:round; stroke-linejoin:round; stroke-width:4; stroke-opacity:1; fill:none\" points=\"-2409.37,819.728 -2414.1,814.991 \"/>\n",
       "<polyline clip-path=\"url(#clip832)\" style=\"stroke:#000000; stroke-linecap:round; stroke-linejoin:round; stroke-width:4; stroke-opacity:1; fill:none\" points=\"-2414.1,814.991 -2416.47,814.991 \"/>\n",
       "<polyline clip-path=\"url(#clip832)\" style=\"stroke:#000000; stroke-linecap:round; stroke-linejoin:round; stroke-width:4; stroke-opacity:1; fill:none\" points=\"-2416.47,814.991 -2421.21,810.253 \"/>\n",
       "<polyline clip-path=\"url(#clip832)\" style=\"stroke:#000000; stroke-linecap:round; stroke-linejoin:round; stroke-width:4; stroke-opacity:1; fill:none\" points=\"-2421.21,810.253 -2423.58,810.253 \"/>\n",
       "<polyline clip-path=\"url(#clip832)\" style=\"stroke:#000000; stroke-linecap:round; stroke-linejoin:round; stroke-width:4; stroke-opacity:1; fill:none\" points=\"-2423.58,810.253 -2428.32,805.515 \"/>\n",
       "<polyline clip-path=\"url(#clip832)\" style=\"stroke:#000000; stroke-linecap:round; stroke-linejoin:round; stroke-width:4; stroke-opacity:1; fill:none\" points=\"-2428.32,805.515 -2430.69,805.515 \"/>\n",
       "<polyline clip-path=\"url(#clip832)\" style=\"stroke:#000000; stroke-linecap:round; stroke-linejoin:round; stroke-width:4; stroke-opacity:1; fill:none\" points=\"-2430.69,805.515 -2435.42,800.778 \"/>\n",
       "<polyline clip-path=\"url(#clip832)\" style=\"stroke:#000000; stroke-linecap:round; stroke-linejoin:round; stroke-width:4; stroke-opacity:1; fill:none\" points=\"-2435.42,800.778 -2437.79,800.778 \"/>\n",
       "<polyline clip-path=\"url(#clip832)\" style=\"stroke:#000000; stroke-linecap:round; stroke-linejoin:round; stroke-width:4; stroke-opacity:1; fill:none\" points=\"-2437.79,800.778 -2442.53,796.04 \"/>\n",
       "<polyline clip-path=\"url(#clip832)\" style=\"stroke:#000000; stroke-linecap:round; stroke-linejoin:round; stroke-width:4; stroke-opacity:1; fill:none\" points=\"-2442.53,796.04 -2444.9,796.04 \"/>\n",
       "<polyline clip-path=\"url(#clip832)\" style=\"stroke:#000000; stroke-linecap:round; stroke-linejoin:round; stroke-width:4; stroke-opacity:1; fill:none\" points=\"-2444.9,796.04 -2449.64,791.302 \"/>\n",
       "<polyline clip-path=\"url(#clip832)\" style=\"stroke:#000000; stroke-linecap:round; stroke-linejoin:round; stroke-width:4; stroke-opacity:1; fill:none\" points=\"-2449.64,791.302 -2452.01,791.302 \"/>\n",
       "<polyline clip-path=\"url(#clip832)\" style=\"stroke:#000000; stroke-linecap:round; stroke-linejoin:round; stroke-width:4; stroke-opacity:1; fill:none\" points=\"-2452.01,791.302 -2456.74,786.565 \"/>\n",
       "<polyline clip-path=\"url(#clip832)\" style=\"stroke:#000000; stroke-linecap:round; stroke-linejoin:round; stroke-width:4; stroke-opacity:1; fill:none\" points=\"-2456.74,786.565 -2459.11,786.565 \"/>\n",
       "<polyline clip-path=\"url(#clip832)\" style=\"stroke:#000000; stroke-linecap:round; stroke-linejoin:round; stroke-width:4; stroke-opacity:1; fill:none\" points=\"-2459.11,786.565 -2463.85,781.827 \"/>\n",
       "<polyline clip-path=\"url(#clip832)\" style=\"stroke:#000000; stroke-linecap:round; stroke-linejoin:round; stroke-width:4; stroke-opacity:1; fill:none\" points=\"-2463.85,781.827 -2466.22,781.827 \"/>\n",
       "<polyline clip-path=\"url(#clip832)\" style=\"stroke:#000000; stroke-linecap:round; stroke-linejoin:round; stroke-width:4; stroke-opacity:1; fill:none\" points=\"-2466.22,781.827 -2470.96,777.089 \"/>\n",
       "<polyline clip-path=\"url(#clip832)\" style=\"stroke:#000000; stroke-linecap:round; stroke-linejoin:round; stroke-width:4; stroke-opacity:1; fill:none\" points=\"-2470.96,777.089 -2473.33,777.089 \"/>\n",
       "<polyline clip-path=\"url(#clip832)\" style=\"stroke:#000000; stroke-linecap:round; stroke-linejoin:round; stroke-width:4; stroke-opacity:1; fill:none\" points=\"-2473.33,777.089 -2478.06,772.351 \"/>\n",
       "<polyline clip-path=\"url(#clip832)\" style=\"stroke:#000000; stroke-linecap:round; stroke-linejoin:round; stroke-width:4; stroke-opacity:1; fill:none\" points=\"-2478.06,772.351 -2480.43,772.351 \"/>\n",
       "<polyline clip-path=\"url(#clip832)\" style=\"stroke:#000000; stroke-linecap:round; stroke-linejoin:round; stroke-width:4; stroke-opacity:1; fill:none\" points=\"-2480.43,772.351 -2485.17,767.614 \"/>\n",
       "<polyline clip-path=\"url(#clip832)\" style=\"stroke:#000000; stroke-linecap:round; stroke-linejoin:round; stroke-width:4; stroke-opacity:1; fill:none\" points=\"-2485.17,767.614 -2487.54,767.614 \"/>\n",
       "<polyline clip-path=\"url(#clip832)\" style=\"stroke:#000000; stroke-linecap:round; stroke-linejoin:round; stroke-width:4; stroke-opacity:1; fill:none\" points=\"-2487.54,767.614 -2492.28,762.876 \"/>\n",
       "<polyline clip-path=\"url(#clip832)\" style=\"stroke:#000000; stroke-linecap:round; stroke-linejoin:round; stroke-width:4; stroke-opacity:1; fill:none\" points=\"-2492.28,762.876 -2494.65,762.876 \"/>\n",
       "<polyline clip-path=\"url(#clip832)\" style=\"stroke:#000000; stroke-linecap:round; stroke-linejoin:round; stroke-width:4; stroke-opacity:1; fill:none\" points=\"-2494.65,762.876 -2499.38,758.138 \"/>\n",
       "<polyline clip-path=\"url(#clip832)\" style=\"stroke:#000000; stroke-linecap:round; stroke-linejoin:round; stroke-width:4; stroke-opacity:1; fill:none\" points=\"-2499.38,758.138 -2501.75,758.138 \"/>\n",
       "<polyline clip-path=\"url(#clip832)\" style=\"stroke:#000000; stroke-linecap:round; stroke-linejoin:round; stroke-width:4; stroke-opacity:1; fill:none\" points=\"-2501.75,758.138 -2504.12,755.769 \"/>\n",
       "<polyline clip-path=\"url(#clip832)\" style=\"stroke:#000000; stroke-linecap:round; stroke-linejoin:round; stroke-width:4; stroke-opacity:1; fill:none\" points=\"-2504.12,755.769 -2506.49,755.769 \"/>\n",
       "<polyline clip-path=\"url(#clip832)\" style=\"stroke:#000000; stroke-linecap:round; stroke-linejoin:round; stroke-width:4; stroke-opacity:1; fill:none\" points=\"-2506.49,755.769 -2511.23,751.032 \"/>\n",
       "<polyline clip-path=\"url(#clip832)\" style=\"stroke:#000000; stroke-linecap:round; stroke-linejoin:round; stroke-width:4; stroke-opacity:1; fill:none\" points=\"-2511.23,751.032 -2513.6,751.032 \"/>\n",
       "<polyline clip-path=\"url(#clip832)\" style=\"stroke:#000000; stroke-linecap:round; stroke-linejoin:round; stroke-width:4; stroke-opacity:1; fill:none\" points=\"-2513.6,751.032 -2518.33,746.294 \"/>\n",
       "<polyline clip-path=\"url(#clip832)\" style=\"stroke:#000000; stroke-linecap:round; stroke-linejoin:round; stroke-width:4; stroke-opacity:1; fill:none\" points=\"-2518.33,746.294 -2520.7,746.294 \"/>\n",
       "<polyline clip-path=\"url(#clip832)\" style=\"stroke:#000000; stroke-linecap:round; stroke-linejoin:round; stroke-width:4; stroke-opacity:1; fill:none\" points=\"-2520.7,746.294 -2525.44,741.556 \"/>\n",
       "<polyline clip-path=\"url(#clip832)\" style=\"stroke:#000000; stroke-linecap:round; stroke-linejoin:round; stroke-width:4; stroke-opacity:1; fill:none\" points=\"-2525.44,741.556 -2527.81,741.556 \"/>\n",
       "<polyline clip-path=\"url(#clip832)\" style=\"stroke:#000000; stroke-linecap:round; stroke-linejoin:round; stroke-width:4; stroke-opacity:1; fill:none\" points=\"-2527.81,741.556 -2532.55,736.819 \"/>\n",
       "<polyline clip-path=\"url(#clip832)\" style=\"stroke:#000000; stroke-linecap:round; stroke-linejoin:round; stroke-width:4; stroke-opacity:1; fill:none\" points=\"-2532.55,736.819 -2534.92,736.819 \"/>\n",
       "<polyline clip-path=\"url(#clip832)\" style=\"stroke:#000000; stroke-linecap:round; stroke-linejoin:round; stroke-width:4; stroke-opacity:1; fill:none\" points=\"-2534.92,736.819 -2539.65,732.081 \"/>\n",
       "<polyline clip-path=\"url(#clip832)\" style=\"stroke:#000000; stroke-linecap:round; stroke-linejoin:round; stroke-width:4; stroke-opacity:1; fill:none\" points=\"-2539.65,732.081 -2542.02,732.081 \"/>\n",
       "<polyline clip-path=\"url(#clip832)\" style=\"stroke:#000000; stroke-linecap:round; stroke-linejoin:round; stroke-width:4; stroke-opacity:1; fill:none\" points=\"-2542.02,732.081 -2546.76,727.343 \"/>\n",
       "<polyline clip-path=\"url(#clip832)\" style=\"stroke:#000000; stroke-linecap:round; stroke-linejoin:round; stroke-width:4; stroke-opacity:1; fill:none\" points=\"-2546.76,727.343 -2549.13,727.343 \"/>\n",
       "<polyline clip-path=\"url(#clip832)\" style=\"stroke:#000000; stroke-linecap:round; stroke-linejoin:round; stroke-width:4; stroke-opacity:1; fill:none\" points=\"-2549.13,727.343 -2553.87,722.606 \"/>\n",
       "<polyline clip-path=\"url(#clip832)\" style=\"stroke:#000000; stroke-linecap:round; stroke-linejoin:round; stroke-width:4; stroke-opacity:1; fill:none\" points=\"-2553.87,722.606 -2556.24,722.606 \"/>\n",
       "<polyline clip-path=\"url(#clip832)\" style=\"stroke:#000000; stroke-linecap:round; stroke-linejoin:round; stroke-width:4; stroke-opacity:1; fill:none\" points=\"-2556.24,722.606 -2560.97,717.868 \"/>\n",
       "<polyline clip-path=\"url(#clip832)\" style=\"stroke:#000000; stroke-linecap:round; stroke-linejoin:round; stroke-width:4; stroke-opacity:1; fill:none\" points=\"-2560.97,717.868 -2563.34,717.868 \"/>\n",
       "<polyline clip-path=\"url(#clip832)\" style=\"stroke:#000000; stroke-linecap:round; stroke-linejoin:round; stroke-width:4; stroke-opacity:1; fill:none\" points=\"-2563.34,717.868 -2568.08,713.13 \"/>\n",
       "<polyline clip-path=\"url(#clip832)\" style=\"stroke:#000000; stroke-linecap:round; stroke-linejoin:round; stroke-width:4; stroke-opacity:1; fill:none\" points=\"-2568.08,713.13 -2570.45,713.13 \"/>\n",
       "<polyline clip-path=\"url(#clip832)\" style=\"stroke:#000000; stroke-linecap:round; stroke-linejoin:round; stroke-width:4; stroke-opacity:1; fill:none\" points=\"-2570.45,713.13 -2575.19,708.392 \"/>\n",
       "<polyline clip-path=\"url(#clip832)\" style=\"stroke:#000000; stroke-linecap:round; stroke-linejoin:round; stroke-width:4; stroke-opacity:1; fill:none\" points=\"-2575.19,708.392 -2577.56,708.392 \"/>\n",
       "<polyline clip-path=\"url(#clip832)\" style=\"stroke:#000000; stroke-linecap:round; stroke-linejoin:round; stroke-width:4; stroke-opacity:1; fill:none\" points=\"-2577.56,708.392 -2582.29,703.655 \"/>\n",
       "<polyline clip-path=\"url(#clip832)\" style=\"stroke:#000000; stroke-linecap:round; stroke-linejoin:round; stroke-width:4; stroke-opacity:1; fill:none\" points=\"-2582.29,703.655 -2584.66,703.655 \"/>\n",
       "<polyline clip-path=\"url(#clip832)\" style=\"stroke:#000000; stroke-linecap:round; stroke-linejoin:round; stroke-width:4; stroke-opacity:1; fill:none\" points=\"-2584.66,703.655 -2589.4,698.917 \"/>\n",
       "<polyline clip-path=\"url(#clip832)\" style=\"stroke:#000000; stroke-linecap:round; stroke-linejoin:round; stroke-width:4; stroke-opacity:1; fill:none\" points=\"-2589.4,698.917 -2591.77,698.917 \"/>\n",
       "<polyline clip-path=\"url(#clip832)\" style=\"stroke:#000000; stroke-linecap:round; stroke-linejoin:round; stroke-width:4; stroke-opacity:1; fill:none\" points=\"-2591.77,698.917 -2596.51,694.179 \"/>\n",
       "<polyline clip-path=\"url(#clip832)\" style=\"stroke:#000000; stroke-linecap:round; stroke-linejoin:round; stroke-width:4; stroke-opacity:1; fill:none\" points=\"-2596.51,694.179 -2598.87,694.179 \"/>\n",
       "<polyline clip-path=\"url(#clip832)\" style=\"stroke:#000000; stroke-linecap:round; stroke-linejoin:round; stroke-width:4; stroke-opacity:1; fill:none\" points=\"-2598.87,694.179 -2603.61,689.442 \"/>\n",
       "<polyline clip-path=\"url(#clip832)\" style=\"stroke:#000000; stroke-linecap:round; stroke-linejoin:round; stroke-width:4; stroke-opacity:1; fill:none\" points=\"-2603.61,689.442 -2605.98,689.442 \"/>\n",
       "<polyline clip-path=\"url(#clip832)\" style=\"stroke:#000000; stroke-linecap:round; stroke-linejoin:round; stroke-width:4; stroke-opacity:1; fill:none\" points=\"-2605.98,689.442 -2608.35,687.073 \"/>\n",
       "<polyline clip-path=\"url(#clip832)\" style=\"stroke:#000000; stroke-linecap:round; stroke-linejoin:round; stroke-width:4; stroke-opacity:1; fill:none\" points=\"-2608.35,687.073 -2610.72,687.073 \"/>\n",
       "<polyline clip-path=\"url(#clip832)\" style=\"stroke:#000000; stroke-linecap:round; stroke-linejoin:round; stroke-width:4; stroke-opacity:1; fill:none\" points=\"-2610.72,687.073 -2615.46,682.335 \"/>\n",
       "<polyline clip-path=\"url(#clip832)\" style=\"stroke:#000000; stroke-linecap:round; stroke-linejoin:round; stroke-width:4; stroke-opacity:1; fill:none\" points=\"-2615.46,682.335 -2617.83,682.335 \"/>\n",
       "<polyline clip-path=\"url(#clip832)\" style=\"stroke:#000000; stroke-linecap:round; stroke-linejoin:round; stroke-width:4; stroke-opacity:1; fill:none\" points=\"-2617.83,682.335 -2622.56,677.597 \"/>\n",
       "<polyline clip-path=\"url(#clip832)\" style=\"stroke:#000000; stroke-linecap:round; stroke-linejoin:round; stroke-width:4; stroke-opacity:1; fill:none\" points=\"-2622.56,677.597 -2624.93,677.597 \"/>\n",
       "<polyline clip-path=\"url(#clip832)\" style=\"stroke:#000000; stroke-linecap:round; stroke-linejoin:round; stroke-width:4; stroke-opacity:1; fill:none\" points=\"-2624.93,677.597 -2629.67,672.86 \"/>\n",
       "<polyline clip-path=\"url(#clip832)\" style=\"stroke:#000000; stroke-linecap:round; stroke-linejoin:round; stroke-width:4; stroke-opacity:1; fill:none\" points=\"-2629.67,672.86 -2632.04,672.86 \"/>\n",
       "<polyline clip-path=\"url(#clip832)\" style=\"stroke:#000000; stroke-linecap:round; stroke-linejoin:round; stroke-width:4; stroke-opacity:1; fill:none\" points=\"-2632.04,672.86 -2636.78,668.122 \"/>\n",
       "<polyline clip-path=\"url(#clip832)\" style=\"stroke:#000000; stroke-linecap:round; stroke-linejoin:round; stroke-width:4; stroke-opacity:1; fill:none\" points=\"-2636.78,668.122 -2639.15,668.122 \"/>\n",
       "<polyline clip-path=\"url(#clip832)\" style=\"stroke:#000000; stroke-linecap:round; stroke-linejoin:round; stroke-width:4; stroke-opacity:1; fill:none\" points=\"-2639.15,668.122 -2643.88,663.384 \"/>\n",
       "<polyline clip-path=\"url(#clip832)\" style=\"stroke:#000000; stroke-linecap:round; stroke-linejoin:round; stroke-width:4; stroke-opacity:1; fill:none\" points=\"-2643.88,663.384 -2646.25,663.384 \"/>\n",
       "<polyline clip-path=\"url(#clip832)\" style=\"stroke:#000000; stroke-linecap:round; stroke-linejoin:round; stroke-width:4; stroke-opacity:1; fill:none\" points=\"-2646.25,663.384 -2650.99,658.647 \"/>\n",
       "<polyline clip-path=\"url(#clip832)\" style=\"stroke:#000000; stroke-linecap:round; stroke-linejoin:round; stroke-width:4; stroke-opacity:1; fill:none\" points=\"-2650.99,658.647 -2653.36,658.647 \"/>\n",
       "<polyline clip-path=\"url(#clip832)\" style=\"stroke:#000000; stroke-linecap:round; stroke-linejoin:round; stroke-width:4; stroke-opacity:1; fill:none\" points=\"-2653.36,658.647 -2658.1,653.909 \"/>\n",
       "<polyline clip-path=\"url(#clip832)\" style=\"stroke:#000000; stroke-linecap:round; stroke-linejoin:round; stroke-width:4; stroke-opacity:1; fill:none\" points=\"-2658.1,653.909 -2660.46,653.909 \"/>\n",
       "<polyline clip-path=\"url(#clip832)\" style=\"stroke:#000000; stroke-linecap:round; stroke-linejoin:round; stroke-width:4; stroke-opacity:1; fill:none\" points=\"-2660.46,653.909 -2665.2,649.171 \"/>\n",
       "<polyline clip-path=\"url(#clip832)\" style=\"stroke:#000000; stroke-linecap:round; stroke-linejoin:round; stroke-width:4; stroke-opacity:1; fill:none\" points=\"-2665.2,649.171 -2667.57,649.171 \"/>\n",
       "<polyline clip-path=\"url(#clip832)\" style=\"stroke:#000000; stroke-linecap:round; stroke-linejoin:round; stroke-width:4; stroke-opacity:1; fill:none\" points=\"-2667.57,649.171 -2672.31,644.433 \"/>\n",
       "<polyline clip-path=\"url(#clip832)\" style=\"stroke:#000000; stroke-linecap:round; stroke-linejoin:round; stroke-width:4; stroke-opacity:1; fill:none\" points=\"-2672.31,644.433 -2674.68,644.433 \"/>\n",
       "<polyline clip-path=\"url(#clip832)\" style=\"stroke:#000000; stroke-linecap:round; stroke-linejoin:round; stroke-width:4; stroke-opacity:1; fill:none\" points=\"-2674.68,644.433 -2677.05,642.065 \"/>\n",
       "<polyline clip-path=\"url(#clip832)\" style=\"stroke:#000000; stroke-linecap:round; stroke-linejoin:round; stroke-width:4; stroke-opacity:1; fill:none\" points=\"-2677.05,642.065 -2677.05,-47.2709 \"/>\n",
       "<polyline clip-path=\"url(#clip832)\" style=\"stroke:#000000; stroke-linecap:round; stroke-linejoin:round; stroke-width:4; stroke-opacity:1; fill:none\" points=\"-2677.05,-47.2709 -2674.68,-49.6398 \"/>\n",
       "<polyline clip-path=\"url(#clip832)\" style=\"stroke:#000000; stroke-linecap:round; stroke-linejoin:round; stroke-width:4; stroke-opacity:1; fill:none\" points=\"-2674.68,-49.6398 -2672.31,-49.6398 \"/>\n",
       "<polyline clip-path=\"url(#clip832)\" style=\"stroke:#000000; stroke-linecap:round; stroke-linejoin:round; stroke-width:4; stroke-opacity:1; fill:none\" points=\"-2672.31,-49.6398 -2667.57,-54.3775 \"/>\n",
       "<polyline clip-path=\"url(#clip832)\" style=\"stroke:#000000; stroke-linecap:round; stroke-linejoin:round; stroke-width:4; stroke-opacity:1; fill:none\" points=\"-2667.57,-54.3775 -2665.2,-54.3775 \"/>\n",
       "<polyline clip-path=\"url(#clip832)\" style=\"stroke:#000000; stroke-linecap:round; stroke-linejoin:round; stroke-width:4; stroke-opacity:1; fill:none\" points=\"-2665.2,-54.3775 -2660.46,-59.1152 \"/>\n",
       "<polyline clip-path=\"url(#clip832)\" style=\"stroke:#000000; stroke-linecap:round; stroke-linejoin:round; stroke-width:4; stroke-opacity:1; fill:none\" points=\"-2660.46,-59.1152 -2658.1,-59.1152 \"/>\n",
       "<polyline clip-path=\"url(#clip832)\" style=\"stroke:#000000; stroke-linecap:round; stroke-linejoin:round; stroke-width:4; stroke-opacity:1; fill:none\" points=\"-2658.1,-59.1152 -2653.36,-63.8529 \"/>\n",
       "<polyline clip-path=\"url(#clip832)\" style=\"stroke:#000000; stroke-linecap:round; stroke-linejoin:round; stroke-width:4; stroke-opacity:1; fill:none\" points=\"-2653.36,-63.8529 -2650.99,-63.8529 \"/>\n",
       "<polyline clip-path=\"url(#clip832)\" style=\"stroke:#000000; stroke-linecap:round; stroke-linejoin:round; stroke-width:4; stroke-opacity:1; fill:none\" points=\"-2650.99,-63.8529 -2646.25,-68.5906 \"/>\n",
       "<polyline clip-path=\"url(#clip832)\" style=\"stroke:#000000; stroke-linecap:round; stroke-linejoin:round; stroke-width:4; stroke-opacity:1; fill:none\" points=\"-2646.25,-68.5906 -2643.88,-68.5906 \"/>\n",
       "<polyline clip-path=\"url(#clip832)\" style=\"stroke:#000000; stroke-linecap:round; stroke-linejoin:round; stroke-width:4; stroke-opacity:1; fill:none\" points=\"-2643.88,-68.5906 -2639.15,-73.3283 \"/>\n",
       "<polyline clip-path=\"url(#clip832)\" style=\"stroke:#000000; stroke-linecap:round; stroke-linejoin:round; stroke-width:4; stroke-opacity:1; fill:none\" points=\"-2639.15,-73.3283 -2636.78,-73.3283 \"/>\n",
       "<polyline clip-path=\"url(#clip832)\" style=\"stroke:#000000; stroke-linecap:round; stroke-linejoin:round; stroke-width:4; stroke-opacity:1; fill:none\" points=\"-2636.78,-73.3283 -2632.04,-78.066 \"/>\n",
       "<polyline clip-path=\"url(#clip832)\" style=\"stroke:#000000; stroke-linecap:round; stroke-linejoin:round; stroke-width:4; stroke-opacity:1; fill:none\" points=\"-2632.04,-78.066 -2629.67,-78.066 \"/>\n",
       "<polyline clip-path=\"url(#clip832)\" style=\"stroke:#000000; stroke-linecap:round; stroke-linejoin:round; stroke-width:4; stroke-opacity:1; fill:none\" points=\"-2629.67,-78.066 -2624.93,-82.8037 \"/>\n",
       "<polyline clip-path=\"url(#clip832)\" style=\"stroke:#000000; stroke-linecap:round; stroke-linejoin:round; stroke-width:4; stroke-opacity:1; fill:none\" points=\"-2624.93,-82.8037 -2622.56,-82.8037 \"/>\n",
       "<polyline clip-path=\"url(#clip832)\" style=\"stroke:#000000; stroke-linecap:round; stroke-linejoin:round; stroke-width:4; stroke-opacity:1; fill:none\" points=\"-2622.56,-82.8037 -2617.83,-87.5414 \"/>\n",
       "<polyline clip-path=\"url(#clip832)\" style=\"stroke:#000000; stroke-linecap:round; stroke-linejoin:round; stroke-width:4; stroke-opacity:1; fill:none\" points=\"-2617.83,-87.5414 -2615.46,-87.5414 \"/>\n",
       "<polyline clip-path=\"url(#clip832)\" style=\"stroke:#000000; stroke-linecap:round; stroke-linejoin:round; stroke-width:4; stroke-opacity:1; fill:none\" points=\"-2615.46,-87.5414 -2610.72,-92.2791 \"/>\n",
       "<polyline clip-path=\"url(#clip832)\" style=\"stroke:#000000; stroke-linecap:round; stroke-linejoin:round; stroke-width:4; stroke-opacity:1; fill:none\" points=\"-2610.72,-92.2791 -2608.35,-92.2791 \"/>\n",
       "<polyline clip-path=\"url(#clip832)\" style=\"stroke:#000000; stroke-linecap:round; stroke-linejoin:round; stroke-width:4; stroke-opacity:1; fill:none\" points=\"-2608.35,-92.2791 -2603.61,-97.0168 \"/>\n",
       "<polyline clip-path=\"url(#clip832)\" style=\"stroke:#000000; stroke-linecap:round; stroke-linejoin:round; stroke-width:4; stroke-opacity:1; fill:none\" points=\"-2603.61,-97.0168 -2601.24,-97.0168 \"/>\n",
       "<polyline clip-path=\"url(#clip832)\" style=\"stroke:#000000; stroke-linecap:round; stroke-linejoin:round; stroke-width:4; stroke-opacity:1; fill:none\" points=\"-2601.24,-97.0168 -2596.51,-101.754 \"/>\n",
       "<polyline clip-path=\"url(#clip832)\" style=\"stroke:#000000; stroke-linecap:round; stroke-linejoin:round; stroke-width:4; stroke-opacity:1; fill:none\" points=\"-2596.51,-101.754 -2594.14,-101.754 \"/>\n",
       "<polyline clip-path=\"url(#clip832)\" style=\"stroke:#000000; stroke-linecap:round; stroke-linejoin:round; stroke-width:4; stroke-opacity:1; fill:none\" points=\"-2594.14,-101.754 -2589.4,-106.492 \"/>\n",
       "<polyline clip-path=\"url(#clip832)\" style=\"stroke:#000000; stroke-linecap:round; stroke-linejoin:round; stroke-width:4; stroke-opacity:1; fill:none\" points=\"-2589.4,-106.492 -2587.03,-106.492 \"/>\n",
       "<polyline clip-path=\"url(#clip832)\" style=\"stroke:#000000; stroke-linecap:round; stroke-linejoin:round; stroke-width:4; stroke-opacity:1; fill:none\" points=\"-2587.03,-106.492 -2582.29,-111.23 \"/>\n",
       "<polyline clip-path=\"url(#clip832)\" style=\"stroke:#000000; stroke-linecap:round; stroke-linejoin:round; stroke-width:4; stroke-opacity:1; fill:none\" points=\"-2582.29,-111.23 -2579.92,-111.23 \"/>\n",
       "<polyline clip-path=\"url(#clip832)\" style=\"stroke:#000000; stroke-linecap:round; stroke-linejoin:round; stroke-width:4; stroke-opacity:1; fill:none\" points=\"-2579.92,-111.23 -2575.19,-115.968 \"/>\n",
       "<polyline clip-path=\"url(#clip832)\" style=\"stroke:#000000; stroke-linecap:round; stroke-linejoin:round; stroke-width:4; stroke-opacity:1; fill:none\" points=\"-2575.19,-115.968 -2572.82,-115.968 \"/>\n",
       "<polyline clip-path=\"url(#clip832)\" style=\"stroke:#000000; stroke-linecap:round; stroke-linejoin:round; stroke-width:4; stroke-opacity:1; fill:none\" points=\"-2572.82,-115.968 -2568.08,-120.705 \"/>\n",
       "<polyline clip-path=\"url(#clip832)\" style=\"stroke:#000000; stroke-linecap:round; stroke-linejoin:round; stroke-width:4; stroke-opacity:1; fill:none\" points=\"-2568.08,-120.705 -2565.71,-120.705 \"/>\n",
       "<polyline clip-path=\"url(#clip832)\" style=\"stroke:#000000; stroke-linecap:round; stroke-linejoin:round; stroke-width:4; stroke-opacity:1; fill:none\" points=\"-2565.71,-120.705 -2560.97,-125.443 \"/>\n",
       "<polyline clip-path=\"url(#clip832)\" style=\"stroke:#000000; stroke-linecap:round; stroke-linejoin:round; stroke-width:4; stroke-opacity:1; fill:none\" points=\"-2560.97,-125.443 -2558.6,-125.443 \"/>\n",
       "<polyline clip-path=\"url(#clip832)\" style=\"stroke:#000000; stroke-linecap:round; stroke-linejoin:round; stroke-width:4; stroke-opacity:1; fill:none\" points=\"-2558.6,-125.443 -2553.87,-130.181 \"/>\n",
       "<polyline clip-path=\"url(#clip832)\" style=\"stroke:#000000; stroke-linecap:round; stroke-linejoin:round; stroke-width:4; stroke-opacity:1; fill:none\" points=\"-2553.87,-130.181 -2551.5,-130.181 \"/>\n",
       "<polyline clip-path=\"url(#clip832)\" style=\"stroke:#000000; stroke-linecap:round; stroke-linejoin:round; stroke-width:4; stroke-opacity:1; fill:none\" points=\"-2551.5,-130.181 -2546.76,-134.918 \"/>\n",
       "<polyline clip-path=\"url(#clip832)\" style=\"stroke:#000000; stroke-linecap:round; stroke-linejoin:round; stroke-width:4; stroke-opacity:1; fill:none\" points=\"-2546.76,-134.918 -2544.39,-134.918 \"/>\n",
       "<polyline clip-path=\"url(#clip832)\" style=\"stroke:#000000; stroke-linecap:round; stroke-linejoin:round; stroke-width:4; stroke-opacity:1; fill:none\" points=\"-2544.39,-134.918 -2539.65,-139.656 \"/>\n",
       "<polyline clip-path=\"url(#clip832)\" style=\"stroke:#000000; stroke-linecap:round; stroke-linejoin:round; stroke-width:4; stroke-opacity:1; fill:none\" points=\"-2539.65,-139.656 -2537.28,-139.656 \"/>\n",
       "<polyline clip-path=\"url(#clip832)\" style=\"stroke:#000000; stroke-linecap:round; stroke-linejoin:round; stroke-width:4; stroke-opacity:1; fill:none\" points=\"-2537.28,-139.656 -2532.55,-144.394 \"/>\n",
       "<polyline clip-path=\"url(#clip832)\" style=\"stroke:#000000; stroke-linecap:round; stroke-linejoin:round; stroke-width:4; stroke-opacity:1; fill:none\" points=\"-2532.55,-144.394 -2530.18,-144.394 \"/>\n",
       "<polyline clip-path=\"url(#clip832)\" style=\"stroke:#000000; stroke-linecap:round; stroke-linejoin:round; stroke-width:4; stroke-opacity:1; fill:none\" points=\"-2530.18,-144.394 -2525.44,-149.131 \"/>\n",
       "<polyline clip-path=\"url(#clip832)\" style=\"stroke:#000000; stroke-linecap:round; stroke-linejoin:round; stroke-width:4; stroke-opacity:1; fill:none\" points=\"-2525.44,-149.131 -2523.07,-149.131 \"/>\n",
       "<polyline clip-path=\"url(#clip832)\" style=\"stroke:#000000; stroke-linecap:round; stroke-linejoin:round; stroke-width:4; stroke-opacity:1; fill:none\" points=\"-2523.07,-149.131 -2518.33,-153.869 \"/>\n",
       "<polyline clip-path=\"url(#clip832)\" style=\"stroke:#000000; stroke-linecap:round; stroke-linejoin:round; stroke-width:4; stroke-opacity:1; fill:none\" points=\"-2518.33,-153.869 -2515.96,-153.869 \"/>\n",
       "<polyline clip-path=\"url(#clip832)\" style=\"stroke:#000000; stroke-linecap:round; stroke-linejoin:round; stroke-width:4; stroke-opacity:1; fill:none\" points=\"-2515.96,-153.869 -2511.23,-158.607 \"/>\n",
       "<polyline clip-path=\"url(#clip832)\" style=\"stroke:#000000; stroke-linecap:round; stroke-linejoin:round; stroke-width:4; stroke-opacity:1; fill:none\" points=\"-2511.23,-158.607 -2508.86,-158.607 \"/>\n",
       "<polyline clip-path=\"url(#clip832)\" style=\"stroke:#000000; stroke-linecap:round; stroke-linejoin:round; stroke-width:4; stroke-opacity:1; fill:none\" points=\"-2508.86,-158.607 -2504.12,-163.345 \"/>\n",
       "<polyline clip-path=\"url(#clip832)\" style=\"stroke:#000000; stroke-linecap:round; stroke-linejoin:round; stroke-width:4; stroke-opacity:1; fill:none\" points=\"-2504.12,-163.345 -2501.75,-163.345 \"/>\n",
       "<polyline clip-path=\"url(#clip832)\" style=\"stroke:#000000; stroke-linecap:round; stroke-linejoin:round; stroke-width:4; stroke-opacity:1; fill:none\" points=\"-2501.75,-163.345 -2497.01,-168.082 \"/>\n",
       "<polyline clip-path=\"url(#clip832)\" style=\"stroke:#000000; stroke-linecap:round; stroke-linejoin:round; stroke-width:4; stroke-opacity:1; fill:none\" points=\"-2497.01,-168.082 -2494.65,-168.082 \"/>\n",
       "<polyline clip-path=\"url(#clip832)\" style=\"stroke:#000000; stroke-linecap:round; stroke-linejoin:round; stroke-width:4; stroke-opacity:1; fill:none\" points=\"-2494.65,-168.082 -2489.91,-172.82 \"/>\n",
       "<polyline clip-path=\"url(#clip832)\" style=\"stroke:#000000; stroke-linecap:round; stroke-linejoin:round; stroke-width:4; stroke-opacity:1; fill:none\" points=\"-2489.91,-172.82 -2487.54,-172.82 \"/>\n",
       "<polyline clip-path=\"url(#clip832)\" style=\"stroke:#000000; stroke-linecap:round; stroke-linejoin:round; stroke-width:4; stroke-opacity:1; fill:none\" points=\"-2487.54,-172.82 -2485.17,-175.189 \"/>\n",
       "<polyline clip-path=\"url(#clip832)\" style=\"stroke:#000000; stroke-linecap:round; stroke-linejoin:round; stroke-width:4; stroke-opacity:1; fill:none\" points=\"-2485.17,-175.189 -2482.8,-175.189 \"/>\n",
       "<polyline clip-path=\"url(#clip832)\" style=\"stroke:#000000; stroke-linecap:round; stroke-linejoin:round; stroke-width:4; stroke-opacity:1; fill:none\" points=\"-2482.8,-175.189 -2478.06,-179.927 \"/>\n",
       "<polyline clip-path=\"url(#clip832)\" style=\"stroke:#000000; stroke-linecap:round; stroke-linejoin:round; stroke-width:4; stroke-opacity:1; fill:none\" points=\"-2478.06,-179.927 -2475.69,-179.927 \"/>\n",
       "<polyline clip-path=\"url(#clip832)\" style=\"stroke:#000000; stroke-linecap:round; stroke-linejoin:round; stroke-width:4; stroke-opacity:1; fill:none\" points=\"-2475.69,-179.927 -2470.96,-184.664 \"/>\n",
       "<polyline clip-path=\"url(#clip832)\" style=\"stroke:#000000; stroke-linecap:round; stroke-linejoin:round; stroke-width:4; stroke-opacity:1; fill:none\" points=\"-2470.96,-184.664 -2468.59,-184.664 \"/>\n",
       "<polyline clip-path=\"url(#clip832)\" style=\"stroke:#000000; stroke-linecap:round; stroke-linejoin:round; stroke-width:4; stroke-opacity:1; fill:none\" points=\"-2468.59,-184.664 -2463.85,-189.402 \"/>\n",
       "<polyline clip-path=\"url(#clip832)\" style=\"stroke:#000000; stroke-linecap:round; stroke-linejoin:round; stroke-width:4; stroke-opacity:1; fill:none\" points=\"-2463.85,-189.402 -2461.48,-189.402 \"/>\n",
       "<polyline clip-path=\"url(#clip832)\" style=\"stroke:#000000; stroke-linecap:round; stroke-linejoin:round; stroke-width:4; stroke-opacity:1; fill:none\" points=\"-2461.48,-189.402 -2456.74,-194.14 \"/>\n",
       "<polyline clip-path=\"url(#clip832)\" style=\"stroke:#000000; stroke-linecap:round; stroke-linejoin:round; stroke-width:4; stroke-opacity:1; fill:none\" points=\"-2456.74,-194.14 -2454.37,-194.14 \"/>\n",
       "<polyline clip-path=\"url(#clip832)\" style=\"stroke:#000000; stroke-linecap:round; stroke-linejoin:round; stroke-width:4; stroke-opacity:1; fill:none\" points=\"-2454.37,-194.14 -2449.64,-198.877 \"/>\n",
       "<polyline clip-path=\"url(#clip832)\" style=\"stroke:#000000; stroke-linecap:round; stroke-linejoin:round; stroke-width:4; stroke-opacity:1; fill:none\" points=\"-2449.64,-198.877 -2447.27,-198.877 \"/>\n",
       "<polyline clip-path=\"url(#clip832)\" style=\"stroke:#000000; stroke-linecap:round; stroke-linejoin:round; stroke-width:4; stroke-opacity:1; fill:none\" points=\"-2447.27,-198.877 -2442.53,-203.615 \"/>\n",
       "<polyline clip-path=\"url(#clip832)\" style=\"stroke:#000000; stroke-linecap:round; stroke-linejoin:round; stroke-width:4; stroke-opacity:1; fill:none\" points=\"-2442.53,-203.615 -2440.16,-203.615 \"/>\n",
       "<polyline clip-path=\"url(#clip832)\" style=\"stroke:#000000; stroke-linecap:round; stroke-linejoin:round; stroke-width:4; stroke-opacity:1; fill:none\" points=\"-2440.16,-203.615 -2435.42,-208.353 \"/>\n",
       "<polyline clip-path=\"url(#clip832)\" style=\"stroke:#000000; stroke-linecap:round; stroke-linejoin:round; stroke-width:4; stroke-opacity:1; fill:none\" points=\"-2435.42,-208.353 -2433.06,-208.353 \"/>\n",
       "<polyline clip-path=\"url(#clip832)\" style=\"stroke:#000000; stroke-linecap:round; stroke-linejoin:round; stroke-width:4; stroke-opacity:1; fill:none\" points=\"-2433.06,-208.353 -2428.32,-213.09 \"/>\n",
       "<polyline clip-path=\"url(#clip832)\" style=\"stroke:#000000; stroke-linecap:round; stroke-linejoin:round; stroke-width:4; stroke-opacity:1; fill:none\" points=\"-2428.32,-213.09 -2425.95,-213.09 \"/>\n",
       "<polyline clip-path=\"url(#clip832)\" style=\"stroke:#000000; stroke-linecap:round; stroke-linejoin:round; stroke-width:4; stroke-opacity:1; fill:none\" points=\"-2425.95,-213.09 -2421.21,-217.828 \"/>\n",
       "<polyline clip-path=\"url(#clip832)\" style=\"stroke:#000000; stroke-linecap:round; stroke-linejoin:round; stroke-width:4; stroke-opacity:1; fill:none\" points=\"-2421.21,-217.828 -2418.84,-217.828 \"/>\n",
       "<polyline clip-path=\"url(#clip832)\" style=\"stroke:#000000; stroke-linecap:round; stroke-linejoin:round; stroke-width:4; stroke-opacity:1; fill:none\" points=\"-2418.84,-217.828 -2414.1,-222.566 \"/>\n",
       "<polyline clip-path=\"url(#clip832)\" style=\"stroke:#000000; stroke-linecap:round; stroke-linejoin:round; stroke-width:4; stroke-opacity:1; fill:none\" points=\"-2414.1,-222.566 -2411.74,-222.566 \"/>\n",
       "<polyline clip-path=\"url(#clip832)\" style=\"stroke:#000000; stroke-linecap:round; stroke-linejoin:round; stroke-width:4; stroke-opacity:1; fill:none\" points=\"-2411.74,-222.566 -2407,-227.304 \"/>\n",
       "<polyline clip-path=\"url(#clip832)\" style=\"stroke:#000000; stroke-linecap:round; stroke-linejoin:round; stroke-width:4; stroke-opacity:1; fill:none\" points=\"-2407,-227.304 -2404.63,-227.304 \"/>\n",
       "<polyline clip-path=\"url(#clip832)\" style=\"stroke:#000000; stroke-linecap:round; stroke-linejoin:round; stroke-width:4; stroke-opacity:1; fill:none\" points=\"-2404.63,-227.304 -2399.89,-232.041 \"/>\n",
       "<polyline clip-path=\"url(#clip832)\" style=\"stroke:#000000; stroke-linecap:round; stroke-linejoin:round; stroke-width:4; stroke-opacity:1; fill:none\" points=\"-2399.89,-232.041 -2397.52,-232.041 \"/>\n",
       "<polyline clip-path=\"url(#clip832)\" style=\"stroke:#000000; stroke-linecap:round; stroke-linejoin:round; stroke-width:4; stroke-opacity:1; fill:none\" points=\"-2397.52,-232.041 -2392.78,-236.779 \"/>\n",
       "<polyline clip-path=\"url(#clip832)\" style=\"stroke:#000000; stroke-linecap:round; stroke-linejoin:round; stroke-width:4; stroke-opacity:1; fill:none\" points=\"-2392.78,-236.779 -2390.42,-236.779 \"/>\n",
       "<polyline clip-path=\"url(#clip832)\" style=\"stroke:#000000; stroke-linecap:round; stroke-linejoin:round; stroke-width:4; stroke-opacity:1; fill:none\" points=\"-2390.42,-236.779 -2385.68,-241.517 \"/>\n",
       "<polyline clip-path=\"url(#clip832)\" style=\"stroke:#000000; stroke-linecap:round; stroke-linejoin:round; stroke-width:4; stroke-opacity:1; fill:none\" points=\"-2385.68,-241.517 -2383.31,-241.517 \"/>\n",
       "<polyline clip-path=\"url(#clip832)\" style=\"stroke:#000000; stroke-linecap:round; stroke-linejoin:round; stroke-width:4; stroke-opacity:1; fill:none\" points=\"-2383.31,-241.517 -2378.57,-246.254 \"/>\n",
       "<polyline clip-path=\"url(#clip832)\" style=\"stroke:#000000; stroke-linecap:round; stroke-linejoin:round; stroke-width:4; stroke-opacity:1; fill:none\" points=\"-2378.57,-246.254 -2376.2,-246.254 \"/>\n",
       "<polyline clip-path=\"url(#clip832)\" style=\"stroke:#000000; stroke-linecap:round; stroke-linejoin:round; stroke-width:4; stroke-opacity:1; fill:none\" points=\"-2376.2,-246.254 -2371.47,-250.992 \"/>\n",
       "<polyline clip-path=\"url(#clip832)\" style=\"stroke:#000000; stroke-linecap:round; stroke-linejoin:round; stroke-width:4; stroke-opacity:1; fill:none\" points=\"-2371.47,-250.992 -2369.1,-250.992 \"/>\n",
       "<polyline clip-path=\"url(#clip832)\" style=\"stroke:#000000; stroke-linecap:round; stroke-linejoin:round; stroke-width:4; stroke-opacity:1; fill:none\" points=\"-2369.1,-250.992 -2364.36,-255.73 \"/>\n",
       "<polyline clip-path=\"url(#clip832)\" style=\"stroke:#000000; stroke-linecap:round; stroke-linejoin:round; stroke-width:4; stroke-opacity:1; fill:none\" points=\"-2364.36,-255.73 -2361.99,-255.73 \"/>\n",
       "<polyline clip-path=\"url(#clip832)\" style=\"stroke:#000000; stroke-linecap:round; stroke-linejoin:round; stroke-width:4; stroke-opacity:1; fill:none\" points=\"-2361.99,-255.73 -2357.25,-260.467 \"/>\n",
       "<polyline clip-path=\"url(#clip832)\" style=\"stroke:#000000; stroke-linecap:round; stroke-linejoin:round; stroke-width:4; stroke-opacity:1; fill:none\" points=\"-2357.25,-260.467 -2354.88,-260.467 \"/>\n",
       "<polyline clip-path=\"url(#clip832)\" style=\"stroke:#000000; stroke-linecap:round; stroke-linejoin:round; stroke-width:4; stroke-opacity:1; fill:none\" points=\"-2354.88,-260.467 -2350.15,-265.205 \"/>\n",
       "<polyline clip-path=\"url(#clip832)\" style=\"stroke:#000000; stroke-linecap:round; stroke-linejoin:round; stroke-width:4; stroke-opacity:1; fill:none\" points=\"-2350.15,-265.205 -2347.78,-265.205 \"/>\n",
       "<polyline clip-path=\"url(#clip832)\" style=\"stroke:#000000; stroke-linecap:round; stroke-linejoin:round; stroke-width:4; stroke-opacity:1; fill:none\" points=\"-2347.78,-265.205 -2343.04,-269.943 \"/>\n",
       "<polyline clip-path=\"url(#clip832)\" style=\"stroke:#000000; stroke-linecap:round; stroke-linejoin:round; stroke-width:4; stroke-opacity:1; fill:none\" points=\"-2343.04,-269.943 -2340.67,-269.943 \"/>\n",
       "<polyline clip-path=\"url(#clip832)\" style=\"stroke:#000000; stroke-linecap:round; stroke-linejoin:round; stroke-width:4; stroke-opacity:1; fill:none\" points=\"-2340.67,-269.943 -2335.93,-274.681 \"/>\n",
       "<polyline clip-path=\"url(#clip832)\" style=\"stroke:#000000; stroke-linecap:round; stroke-linejoin:round; stroke-width:4; stroke-opacity:1; fill:none\" points=\"-2335.93,-274.681 -2333.56,-274.681 \"/>\n",
       "<polyline clip-path=\"url(#clip832)\" style=\"stroke:#000000; stroke-linecap:round; stroke-linejoin:round; stroke-width:4; stroke-opacity:1; fill:none\" points=\"-2333.56,-274.681 -2328.83,-279.418 \"/>\n",
       "<polyline clip-path=\"url(#clip832)\" style=\"stroke:#000000; stroke-linecap:round; stroke-linejoin:round; stroke-width:4; stroke-opacity:1; fill:none\" points=\"-2328.83,-279.418 -2326.46,-279.418 \"/>\n",
       "<polyline clip-path=\"url(#clip832)\" style=\"stroke:#000000; stroke-linecap:round; stroke-linejoin:round; stroke-width:4; stroke-opacity:1; fill:none\" points=\"-2326.46,-279.418 -2321.72,-284.156 \"/>\n",
       "<polyline clip-path=\"url(#clip832)\" style=\"stroke:#000000; stroke-linecap:round; stroke-linejoin:round; stroke-width:4; stroke-opacity:1; fill:none\" points=\"-2321.72,-284.156 -2319.35,-284.156 \"/>\n",
       "<polyline clip-path=\"url(#clip832)\" style=\"stroke:#000000; stroke-linecap:round; stroke-linejoin:round; stroke-width:4; stroke-opacity:1; fill:none\" points=\"-2319.35,-284.156 -2314.61,-288.894 \"/>\n",
       "<polyline clip-path=\"url(#clip832)\" style=\"stroke:#000000; stroke-linecap:round; stroke-linejoin:round; stroke-width:4; stroke-opacity:1; fill:none\" points=\"-2314.61,-288.894 -2312.24,-288.894 \"/>\n",
       "<polyline clip-path=\"url(#clip832)\" style=\"stroke:#000000; stroke-linecap:round; stroke-linejoin:round; stroke-width:4; stroke-opacity:1; fill:none\" points=\"-2312.24,-288.894 -2307.51,-293.631 \"/>\n",
       "<polyline clip-path=\"url(#clip832)\" style=\"stroke:#000000; stroke-linecap:round; stroke-linejoin:round; stroke-width:4; stroke-opacity:1; fill:none\" points=\"-2307.51,-293.631 -2305.14,-293.631 \"/>\n",
       "<polyline clip-path=\"url(#clip832)\" style=\"stroke:#000000; stroke-linecap:round; stroke-linejoin:round; stroke-width:4; stroke-opacity:1; fill:none\" points=\"-2305.14,-293.631 -2300.4,-298.369 \"/>\n",
       "<polyline clip-path=\"url(#clip832)\" style=\"stroke:#000000; stroke-linecap:round; stroke-linejoin:round; stroke-width:4; stroke-opacity:1; fill:none\" points=\"-2300.4,-298.369 -2298.03,-298.369 \"/>\n",
       "<polyline clip-path=\"url(#clip832)\" style=\"stroke:#000000; stroke-linecap:round; stroke-linejoin:round; stroke-width:4; stroke-opacity:1; fill:none\" points=\"-2298.03,-298.369 -2293.29,-303.107 \"/>\n",
       "<polyline clip-path=\"url(#clip832)\" style=\"stroke:#000000; stroke-linecap:round; stroke-linejoin:round; stroke-width:4; stroke-opacity:1; fill:none\" points=\"-2293.29,-303.107 -2290.92,-303.107 \"/>\n",
       "<polyline clip-path=\"url(#clip832)\" style=\"stroke:#000000; stroke-linecap:round; stroke-linejoin:round; stroke-width:4; stroke-opacity:1; fill:none\" points=\"-2290.92,-303.107 -2286.19,-307.844 \"/>\n",
       "<polyline clip-path=\"url(#clip832)\" style=\"stroke:#000000; stroke-linecap:round; stroke-linejoin:round; stroke-width:4; stroke-opacity:1; fill:none\" points=\"-2286.19,-307.844 -2283.82,-307.844 \"/>\n",
       "<polyline clip-path=\"url(#clip832)\" style=\"stroke:#000000; stroke-linecap:round; stroke-linejoin:round; stroke-width:4; stroke-opacity:1; fill:none\" points=\"-2283.82,-307.844 -2279.08,-312.582 \"/>\n",
       "<polyline clip-path=\"url(#clip832)\" style=\"stroke:#000000; stroke-linecap:round; stroke-linejoin:round; stroke-width:4; stroke-opacity:1; fill:none\" points=\"-2279.08,-312.582 -2276.71,-312.582 \"/>\n",
       "<polyline clip-path=\"url(#clip832)\" style=\"stroke:#000000; stroke-linecap:round; stroke-linejoin:round; stroke-width:4; stroke-opacity:1; fill:none\" points=\"-2276.71,-312.582 -2271.97,-317.32 \"/>\n",
       "<polyline clip-path=\"url(#clip832)\" style=\"stroke:#000000; stroke-linecap:round; stroke-linejoin:round; stroke-width:4; stroke-opacity:1; fill:none\" points=\"-2271.97,-317.32 -2269.6,-317.32 \"/>\n",
       "<polyline clip-path=\"url(#clip832)\" style=\"stroke:#000000; stroke-linecap:round; stroke-linejoin:round; stroke-width:4; stroke-opacity:1; fill:none\" points=\"-2269.6,-317.32 -2264.87,-322.058 \"/>\n",
       "<polyline clip-path=\"url(#clip832)\" style=\"stroke:#000000; stroke-linecap:round; stroke-linejoin:round; stroke-width:4; stroke-opacity:1; fill:none\" points=\"-2264.87,-322.058 -2262.5,-322.058 \"/>\n",
       "<polyline clip-path=\"url(#clip832)\" style=\"stroke:#000000; stroke-linecap:round; stroke-linejoin:round; stroke-width:4; stroke-opacity:1; fill:none\" points=\"-2262.5,-322.058 -2257.76,-326.795 \"/>\n",
       "<polyline clip-path=\"url(#clip832)\" style=\"stroke:#000000; stroke-linecap:round; stroke-linejoin:round; stroke-width:4; stroke-opacity:1; fill:none\" points=\"-2257.76,-326.795 -616.147,-326.795 \"/>\n",
       "<polyline clip-path=\"url(#clip832)\" style=\"stroke:#000000; stroke-linecap:round; stroke-linejoin:round; stroke-width:4; stroke-opacity:1; fill:none\" points=\"-616.147,-326.795 -616.147,521.253 \"/>\n",
       "<polyline clip-path=\"url(#clip832)\" style=\"stroke:#000000; stroke-linecap:round; stroke-linejoin:round; stroke-width:4; stroke-opacity:1; fill:none\" points=\"-616.147,521.253 -613.778,523.622 \"/>\n",
       "<polyline clip-path=\"url(#clip832)\" style=\"stroke:#000000; stroke-linecap:round; stroke-linejoin:round; stroke-width:4; stroke-opacity:1; fill:none\" points=\"-613.778,523.622 -613.778,921.589 \"/>\n",
       "<polyline clip-path=\"url(#clip832)\" style=\"stroke:#000000; stroke-linecap:round; stroke-linejoin:round; stroke-width:4; stroke-opacity:1; fill:none\" points=\"-613.778,921.589 -729.852,921.589 \"/>\n",
       "<polyline clip-path=\"url(#clip832)\" style=\"stroke:#000000; stroke-linecap:round; stroke-linejoin:round; stroke-width:4; stroke-opacity:1; fill:none\" points=\"-729.852,921.589 -732.22,923.958 \"/>\n",
       "<polyline clip-path=\"url(#clip832)\" style=\"stroke:#000000; stroke-linecap:round; stroke-linejoin:round; stroke-width:4; stroke-opacity:1; fill:none\" points=\"-732.22,923.958 -732.22,947.646 \"/>\n",
       "<polyline clip-path=\"url(#clip832)\" style=\"stroke:#000000; stroke-linecap:round; stroke-linejoin:round; stroke-width:4; stroke-opacity:1; fill:none\" points=\"-732.22,947.646 -729.852,950.015 \"/>\n",
       "<polyline clip-path=\"url(#clip832)\" style=\"stroke:#000000; stroke-linecap:round; stroke-linejoin:round; stroke-width:4; stroke-opacity:1; fill:none\" points=\"-729.852,950.015 -613.778,950.015 \"/>\n",
       "<polyline clip-path=\"url(#clip832)\" style=\"stroke:#000000; stroke-linecap:round; stroke-linejoin:round; stroke-width:4; stroke-opacity:1; fill:none\" points=\"-613.778,950.015 -613.778,1589.6 \"/>\n",
       "<polyline clip-path=\"url(#clip832)\" style=\"stroke:#000000; stroke-linecap:round; stroke-linejoin:round; stroke-width:4; stroke-opacity:1; fill:none\" points=\"-613.778,1589.6 -611.409,1591.97 \"/>\n",
       "<polyline clip-path=\"url(#clip832)\" style=\"stroke:#000000; stroke-linecap:round; stroke-linejoin:round; stroke-width:4; stroke-opacity:1; fill:none\" points=\"-611.409,1591.97 -587.721,1591.97 \"/>\n",
       "<polyline clip-path=\"url(#clip832)\" style=\"stroke:#000000; stroke-linecap:round; stroke-linejoin:round; stroke-width:4; stroke-opacity:1; fill:none\" points=\"-587.721,1591.97 -585.352,1589.6 \"/>\n",
       "<polyline clip-path=\"url(#clip832)\" style=\"stroke:#000000; stroke-linecap:round; stroke-linejoin:round; stroke-width:4; stroke-opacity:1; fill:none\" points=\"-585.352,1589.6 -585.352,1542.23 \"/>\n",
       "<polyline clip-path=\"url(#clip832)\" style=\"stroke:#000000; stroke-linecap:round; stroke-linejoin:round; stroke-width:4; stroke-opacity:1; fill:none\" points=\"-585.352,1542.23 49.5002,1542.23 \"/>\n",
       "<polyline clip-path=\"url(#clip832)\" style=\"stroke:#000000; stroke-linecap:round; stroke-linejoin:round; stroke-width:4; stroke-opacity:1; fill:none\" points=\"49.5002,1542.23 51.8691,1539.86 \"/>\n",
       "<polyline clip-path=\"url(#clip832)\" style=\"stroke:#000000; stroke-linecap:round; stroke-linejoin:round; stroke-width:4; stroke-opacity:1; fill:none\" points=\"51.8691,1539.86 51.8691,1516.17 \"/>\n",
       "<polyline clip-path=\"url(#clip832)\" style=\"stroke:#000000; stroke-linecap:round; stroke-linejoin:round; stroke-width:4; stroke-opacity:1; fill:none\" points=\"51.8691,1516.17 49.5002,1513.8 \"/>\n",
       "<polyline clip-path=\"url(#clip832)\" style=\"stroke:#000000; stroke-linecap:round; stroke-linejoin:round; stroke-width:4; stroke-opacity:1; fill:none\" points=\"49.5002,1513.8 -585.352,1513.8 \"/>\n",
       "<polyline clip-path=\"url(#clip832)\" style=\"stroke:#000000; stroke-linecap:round; stroke-linejoin:round; stroke-width:4; stroke-opacity:1; fill:none\" points=\"-585.352,1513.8 -585.352,549.679 \"/>\n",
       "<polyline clip-path=\"url(#clip832)\" style=\"stroke:#000000; stroke-linecap:round; stroke-linejoin:round; stroke-width:4; stroke-opacity:1; fill:none\" points=\"-585.352,549.679 310.074,549.679 \"/>\n",
       "<polyline clip-path=\"url(#clip832)\" style=\"stroke:#000000; stroke-linecap:round; stroke-linejoin:round; stroke-width:4; stroke-opacity:1; fill:none\" points=\"310.074,549.679 310.074,1513.8 \"/>\n",
       "<polyline clip-path=\"url(#clip832)\" style=\"stroke:#000000; stroke-linecap:round; stroke-linejoin:round; stroke-width:4; stroke-opacity:1; fill:none\" points=\"310.074,1513.8 253.221,1513.8 \"/>\n",
       "<polyline clip-path=\"url(#clip832)\" style=\"stroke:#000000; stroke-linecap:round; stroke-linejoin:round; stroke-width:4; stroke-opacity:1; fill:none\" points=\"253.221,1513.8 250.853,1516.17 \"/>\n",
       "<polyline clip-path=\"url(#clip832)\" style=\"stroke:#000000; stroke-linecap:round; stroke-linejoin:round; stroke-width:4; stroke-opacity:1; fill:none\" points=\"250.853,1516.17 250.853,1539.86 \"/>\n",
       "<polyline clip-path=\"url(#clip832)\" style=\"stroke:#000000; stroke-linecap:round; stroke-linejoin:round; stroke-width:4; stroke-opacity:1; fill:none\" points=\"250.853,1539.86 253.221,1542.23 \"/>\n",
       "<polyline clip-path=\"url(#clip832)\" style=\"stroke:#000000; stroke-linecap:round; stroke-linejoin:round; stroke-width:4; stroke-opacity:1; fill:none\" points=\"253.221,1542.23 388.246,1542.23 \"/>\n",
       "<polyline clip-path=\"url(#clip832)\" style=\"stroke:#000000; stroke-linecap:round; stroke-linejoin:round; stroke-width:4; stroke-opacity:1; fill:none\" points=\"388.246,1542.23 390.615,1539.86 \"/>\n",
       "<polyline clip-path=\"url(#clip832)\" style=\"stroke:#000000; stroke-linecap:round; stroke-linejoin:round; stroke-width:4; stroke-opacity:1; fill:none\" points=\"390.615,1539.86 390.615,1516.17 \"/>\n",
       "<polyline clip-path=\"url(#clip832)\" style=\"stroke:#000000; stroke-linecap:round; stroke-linejoin:round; stroke-width:4; stroke-opacity:1; fill:none\" points=\"390.615,1516.17 388.246,1513.8 \"/>\n",
       "<polyline clip-path=\"url(#clip832)\" style=\"stroke:#000000; stroke-linecap:round; stroke-linejoin:round; stroke-width:4; stroke-opacity:1; fill:none\" points=\"388.246,1513.8 338.5,1513.8 \"/>\n",
       "<polyline clip-path=\"url(#clip832)\" style=\"stroke:#000000; stroke-linecap:round; stroke-linejoin:round; stroke-width:4; stroke-opacity:1; fill:none\" points=\"338.5,1513.8 338.5,549.679 \"/>\n",
       "<polyline clip-path=\"url(#clip832)\" style=\"stroke:#000000; stroke-linecap:round; stroke-linejoin:round; stroke-width:4; stroke-opacity:1; fill:none\" points=\"338.5,549.679 1044.42,549.679 \"/>\n",
       "<polyline clip-path=\"url(#clip832)\" style=\"stroke:#000000; stroke-linecap:round; stroke-linejoin:round; stroke-width:4; stroke-opacity:1; fill:none\" points=\"1044.42,549.679 1044.42,1513.8 \"/>\n",
       "<polyline clip-path=\"url(#clip832)\" style=\"stroke:#000000; stroke-linecap:round; stroke-linejoin:round; stroke-width:4; stroke-opacity:1; fill:none\" points=\"1044.42,1513.8 591.967,1513.8 \"/>\n",
       "<polyline clip-path=\"url(#clip832)\" style=\"stroke:#000000; stroke-linecap:round; stroke-linejoin:round; stroke-width:4; stroke-opacity:1; fill:none\" points=\"591.967,1513.8 589.598,1516.17 \"/>\n",
       "<polyline clip-path=\"url(#clip832)\" style=\"stroke:#000000; stroke-linecap:round; stroke-linejoin:round; stroke-width:4; stroke-opacity:1; fill:none\" points=\"589.598,1516.17 589.598,1539.86 \"/>\n",
       "<polyline clip-path=\"url(#clip832)\" style=\"stroke:#000000; stroke-linecap:round; stroke-linejoin:round; stroke-width:4; stroke-opacity:1; fill:none\" points=\"589.598,1539.86 591.967,1542.23 \"/>\n",
       "<polyline clip-path=\"url(#clip832)\" style=\"stroke:#000000; stroke-linecap:round; stroke-linejoin:round; stroke-width:4; stroke-opacity:1; fill:none\" points=\"591.967,1542.23 1087.06,1542.23 \"/>\n",
       "<polyline clip-path=\"url(#clip832)\" style=\"stroke:#000000; stroke-linecap:round; stroke-linejoin:round; stroke-width:4; stroke-opacity:1; fill:none\" points=\"1087.06,1542.23 1089.43,1539.86 \"/>\n",
       "<polyline clip-path=\"url(#clip832)\" style=\"stroke:#000000; stroke-linecap:round; stroke-linejoin:round; stroke-width:4; stroke-opacity:1; fill:none\" points=\"1089.43,1539.86 1089.43,1516.17 \"/>\n",
       "<polyline clip-path=\"url(#clip832)\" style=\"stroke:#000000; stroke-linecap:round; stroke-linejoin:round; stroke-width:4; stroke-opacity:1; fill:none\" points=\"1089.43,1516.17 1087.06,1513.8 \"/>\n",
       "<polyline clip-path=\"url(#clip832)\" style=\"stroke:#000000; stroke-linecap:round; stroke-linejoin:round; stroke-width:4; stroke-opacity:1; fill:none\" points=\"1087.06,1513.8 1072.84,1513.8 \"/>\n",
       "<polyline clip-path=\"url(#clip832)\" style=\"stroke:#000000; stroke-linecap:round; stroke-linejoin:round; stroke-width:4; stroke-opacity:1; fill:none\" points=\"1072.84,1513.8 1072.84,549.679 \"/>\n",
       "<polyline clip-path=\"url(#clip832)\" style=\"stroke:#000000; stroke-linecap:round; stroke-linejoin:round; stroke-width:4; stroke-opacity:1; fill:none\" points=\"1072.84,549.679 1776.39,549.679 \"/>\n",
       "<polyline clip-path=\"url(#clip832)\" style=\"stroke:#000000; stroke-linecap:round; stroke-linejoin:round; stroke-width:4; stroke-opacity:1; fill:none\" points=\"1776.39,549.679 1776.39,1513.8 \"/>\n",
       "<polyline clip-path=\"url(#clip832)\" style=\"stroke:#000000; stroke-linecap:round; stroke-linejoin:round; stroke-width:4; stroke-opacity:1; fill:none\" points=\"1776.39,1513.8 1290.78,1513.8 \"/>\n",
       "<polyline clip-path=\"url(#clip832)\" style=\"stroke:#000000; stroke-linecap:round; stroke-linejoin:round; stroke-width:4; stroke-opacity:1; fill:none\" points=\"1290.78,1513.8 1288.41,1516.17 \"/>\n",
       "<polyline clip-path=\"url(#clip832)\" style=\"stroke:#000000; stroke-linecap:round; stroke-linejoin:round; stroke-width:4; stroke-opacity:1; fill:none\" points=\"1288.41,1516.17 1288.41,1539.86 \"/>\n",
       "<polyline clip-path=\"url(#clip832)\" style=\"stroke:#000000; stroke-linecap:round; stroke-linejoin:round; stroke-width:4; stroke-opacity:1; fill:none\" points=\"1288.41,1539.86 1290.78,1542.23 \"/>\n",
       "<polyline clip-path=\"url(#clip832)\" style=\"stroke:#000000; stroke-linecap:round; stroke-linejoin:round; stroke-width:4; stroke-opacity:1; fill:none\" points=\"1290.78,1542.23 1328.68,1542.23 \"/>\n",
       "<polyline clip-path=\"url(#clip832)\" style=\"stroke:#000000; stroke-linecap:round; stroke-linejoin:round; stroke-width:4; stroke-opacity:1; fill:none\" points=\"1328.68,1542.23 1328.68,1551.7 \"/>\n",
       "<polyline clip-path=\"url(#clip832)\" style=\"stroke:#000000; stroke-linecap:round; stroke-linejoin:round; stroke-width:4; stroke-opacity:1; fill:none\" points=\"1328.68,1551.7 1331.05,1554.07 \"/>\n",
       "<polyline clip-path=\"url(#clip832)\" style=\"stroke:#000000; stroke-linecap:round; stroke-linejoin:round; stroke-width:4; stroke-opacity:1; fill:none\" points=\"1331.05,1554.07 1354.74,1554.07 \"/>\n",
       "<polyline clip-path=\"url(#clip832)\" style=\"stroke:#000000; stroke-linecap:round; stroke-linejoin:round; stroke-width:4; stroke-opacity:1; fill:none\" points=\"1354.74,1554.07 1357.11,1551.7 \"/>\n",
       "<polyline clip-path=\"url(#clip832)\" style=\"stroke:#000000; stroke-linecap:round; stroke-linejoin:round; stroke-width:4; stroke-opacity:1; fill:none\" points=\"1357.11,1551.7 1357.11,1542.23 \"/>\n",
       "<polyline clip-path=\"url(#clip832)\" style=\"stroke:#000000; stroke-linecap:round; stroke-linejoin:round; stroke-width:4; stroke-opacity:1; fill:none\" points=\"1357.11,1542.23 1776.39,1542.23 \"/>\n",
       "<polyline clip-path=\"url(#clip832)\" style=\"stroke:#000000; stroke-linecap:round; stroke-linejoin:round; stroke-width:4; stroke-opacity:1; fill:none\" points=\"1776.39,1542.23 1776.39,1869.13 \"/>\n",
       "<polyline clip-path=\"url(#clip832)\" style=\"stroke:#000000; stroke-linecap:round; stroke-linejoin:round; stroke-width:4; stroke-opacity:1; fill:none\" points=\"1776.39,1869.13 1357.11,1869.13 \"/>\n",
       "<polyline clip-path=\"url(#clip832)\" style=\"stroke:#000000; stroke-linecap:round; stroke-linejoin:round; stroke-width:4; stroke-opacity:1; fill:none\" points=\"1357.11,1869.13 1357.11,1755.42 \"/>\n",
       "<polyline clip-path=\"url(#clip832)\" style=\"stroke:#000000; stroke-linecap:round; stroke-linejoin:round; stroke-width:4; stroke-opacity:1; fill:none\" points=\"1357.11,1755.42 1354.74,1753.06 \"/>\n",
       "<polyline clip-path=\"url(#clip832)\" style=\"stroke:#000000; stroke-linecap:round; stroke-linejoin:round; stroke-width:4; stroke-opacity:1; fill:none\" points=\"1354.74,1753.06 1331.05,1753.06 \"/>\n",
       "<polyline clip-path=\"url(#clip832)\" style=\"stroke:#000000; stroke-linecap:round; stroke-linejoin:round; stroke-width:4; stroke-opacity:1; fill:none\" points=\"1331.05,1753.06 1328.68,1755.42 \"/>\n",
       "<polyline clip-path=\"url(#clip832)\" style=\"stroke:#000000; stroke-linecap:round; stroke-linejoin:round; stroke-width:4; stroke-opacity:1; fill:none\" points=\"1328.68,1755.42 1328.68,1869.13 \"/>\n",
       "<polyline clip-path=\"url(#clip832)\" style=\"stroke:#000000; stroke-linecap:round; stroke-linejoin:round; stroke-width:4; stroke-opacity:1; fill:none\" points=\"1328.68,1869.13 1290.78,1869.13 \"/>\n",
       "<polyline clip-path=\"url(#clip832)\" style=\"stroke:#000000; stroke-linecap:round; stroke-linejoin:round; stroke-width:4; stroke-opacity:1; fill:none\" points=\"1290.78,1869.13 1288.41,1871.5 \"/>\n",
       "<polyline clip-path=\"url(#clip832)\" style=\"stroke:#000000; stroke-linecap:round; stroke-linejoin:round; stroke-width:4; stroke-opacity:1; fill:none\" points=\"1288.41,1871.5 1288.41,1895.19 \"/>\n",
       "<polyline clip-path=\"url(#clip832)\" style=\"stroke:#000000; stroke-linecap:round; stroke-linejoin:round; stroke-width:4; stroke-opacity:1; fill:none\" points=\"1288.41,1895.19 1290.78,1897.56 \"/>\n",
       "<polyline clip-path=\"url(#clip832)\" style=\"stroke:#000000; stroke-linecap:round; stroke-linejoin:round; stroke-width:4; stroke-opacity:1; fill:none\" points=\"1290.78,1897.56 1776.39,1897.56 \"/>\n",
       "<polyline clip-path=\"url(#clip832)\" style=\"stroke:#000000; stroke-linecap:round; stroke-linejoin:round; stroke-width:4; stroke-opacity:1; fill:none\" points=\"1776.39,1897.56 1776.39,2792.98 \"/>\n",
       "<polyline clip-path=\"url(#clip832)\" style=\"stroke:#000000; stroke-linecap:round; stroke-linejoin:round; stroke-width:4; stroke-opacity:1; fill:none\" points=\"1776.39,2792.98 1025.47,2792.98 \"/>\n",
       "<polyline clip-path=\"url(#clip832)\" style=\"stroke:#000000; stroke-linecap:round; stroke-linejoin:round; stroke-width:4; stroke-opacity:1; fill:none\" points=\"1025.47,2792.98 1025.47,1897.56 \"/>\n",
       "<polyline clip-path=\"url(#clip832)\" style=\"stroke:#000000; stroke-linecap:round; stroke-linejoin:round; stroke-width:4; stroke-opacity:1; fill:none\" points=\"1025.47,1897.56 1087.06,1897.56 \"/>\n",
       "<polyline clip-path=\"url(#clip832)\" style=\"stroke:#000000; stroke-linecap:round; stroke-linejoin:round; stroke-width:4; stroke-opacity:1; fill:none\" points=\"1087.06,1897.56 1089.43,1895.19 \"/>\n",
       "<polyline clip-path=\"url(#clip832)\" style=\"stroke:#000000; stroke-linecap:round; stroke-linejoin:round; stroke-width:4; stroke-opacity:1; fill:none\" points=\"1089.43,1895.19 1089.43,1871.5 \"/>\n",
       "<polyline clip-path=\"url(#clip832)\" style=\"stroke:#000000; stroke-linecap:round; stroke-linejoin:round; stroke-width:4; stroke-opacity:1; fill:none\" points=\"1089.43,1871.5 1087.06,1869.13 \"/>\n",
       "<polyline clip-path=\"url(#clip832)\" style=\"stroke:#000000; stroke-linecap:round; stroke-linejoin:round; stroke-width:4; stroke-opacity:1; fill:none\" points=\"1087.06,1869.13 942.557,1869.13 \"/>\n",
       "<polyline clip-path=\"url(#clip832)\" style=\"stroke:#000000; stroke-linecap:round; stroke-linejoin:round; stroke-width:4; stroke-opacity:1; fill:none\" points=\"942.557,1869.13 940.188,1871.5 \"/>\n",
       "<polyline clip-path=\"url(#clip832)\" style=\"stroke:#000000; stroke-linecap:round; stroke-linejoin:round; stroke-width:4; stroke-opacity:1; fill:none\" points=\"940.188,1871.5 940.188,1895.19 \"/>\n",
       "<polyline clip-path=\"url(#clip832)\" style=\"stroke:#000000; stroke-linecap:round; stroke-linejoin:round; stroke-width:4; stroke-opacity:1; fill:none\" points=\"940.188,1895.19 942.557,1897.56 \"/>\n",
       "<polyline clip-path=\"url(#clip832)\" style=\"stroke:#000000; stroke-linecap:round; stroke-linejoin:round; stroke-width:4; stroke-opacity:1; fill:none\" points=\"942.557,1897.56 997.04,1897.56 \"/>\n",
       "<polyline clip-path=\"url(#clip832)\" style=\"stroke:#000000; stroke-linecap:round; stroke-linejoin:round; stroke-width:4; stroke-opacity:1; fill:none\" points=\"997.04,1897.56 997.04,2390.28 \"/>\n",
       "<polyline clip-path=\"url(#clip832)\" style=\"stroke:#000000; stroke-linecap:round; stroke-linejoin:round; stroke-width:4; stroke-opacity:1; fill:none\" points=\"997.04,2390.28 343.238,2390.28 \"/>\n",
       "<polyline clip-path=\"url(#clip832)\" style=\"stroke:#000000; stroke-linecap:round; stroke-linejoin:round; stroke-width:4; stroke-opacity:1; fill:none\" points=\"343.238,2390.28 340.869,2392.65 \"/>\n",
       "<polyline clip-path=\"url(#clip832)\" style=\"stroke:#000000; stroke-linecap:round; stroke-linejoin:round; stroke-width:4; stroke-opacity:1; fill:none\" points=\"340.869,2392.65 340.869,2413.96 \"/>\n",
       "<polyline clip-path=\"url(#clip832)\" style=\"stroke:#000000; stroke-linecap:round; stroke-linejoin:round; stroke-width:4; stroke-opacity:1; fill:none\" points=\"340.869,2413.96 343.238,2416.33 \"/>\n",
       "<polyline clip-path=\"url(#clip832)\" style=\"stroke:#000000; stroke-linecap:round; stroke-linejoin:round; stroke-width:4; stroke-opacity:1; fill:none\" points=\"343.238,2416.33 997.04,2416.33 \"/>\n",
       "<polyline clip-path=\"url(#clip832)\" style=\"stroke:#000000; stroke-linecap:round; stroke-linejoin:round; stroke-width:4; stroke-opacity:1; fill:none\" points=\"997.04,2416.33 997.04,2792.98 \"/>\n",
       "<polyline clip-path=\"url(#clip832)\" style=\"stroke:#000000; stroke-linecap:round; stroke-linejoin:round; stroke-width:4; stroke-opacity:1; fill:none\" points=\"997.04,2792.98 655.926,2792.98 \"/>\n",
       "<polyline clip-path=\"url(#clip832)\" style=\"stroke:#000000; stroke-linecap:round; stroke-linejoin:round; stroke-width:4; stroke-opacity:1; fill:none\" points=\"655.926,2792.98 653.557,2795.35 \"/>\n",
       "<polyline clip-path=\"url(#clip832)\" style=\"stroke:#000000; stroke-linecap:round; stroke-linejoin:round; stroke-width:4; stroke-opacity:1; fill:none\" points=\"653.557,2795.35 653.557,2819.04 \"/>\n",
       "<polyline clip-path=\"url(#clip832)\" style=\"stroke:#000000; stroke-linecap:round; stroke-linejoin:round; stroke-width:4; stroke-opacity:1; fill:none\" points=\"653.557,2819.04 655.926,2821.41 \"/>\n",
       "<polyline clip-path=\"url(#clip832)\" style=\"stroke:#000000; stroke-linecap:round; stroke-linejoin:round; stroke-width:4; stroke-opacity:1; fill:none\" points=\"655.926,2821.41 1776.39,2821.41 \"/>\n",
       "<polyline clip-path=\"url(#clip832)\" style=\"stroke:#000000; stroke-linecap:round; stroke-linejoin:round; stroke-width:4; stroke-opacity:1; fill:none\" points=\"1776.39,2821.41 1776.39,4140.86 \"/>\n",
       "<polyline clip-path=\"url(#clip832)\" style=\"stroke:#000000; stroke-linecap:round; stroke-linejoin:round; stroke-width:4; stroke-opacity:1; fill:none\" points=\"1776.39,4140.86 435.623,4140.86 \"/>\n",
       "<polyline clip-path=\"url(#clip832)\" style=\"stroke:#000000; stroke-linecap:round; stroke-linejoin:round; stroke-width:4; stroke-opacity:1; fill:none\" points=\"435.623,4140.86 435.623,4140.86 \"/>\n",
       "<polyline clip-path=\"url(#clip832)\" style=\"stroke:#ff0000; stroke-linecap:round; stroke-linejoin:round; stroke-width:28; stroke-opacity:1; fill:none\" points=\"842.101,758.206 726.691,784.839 \"/>\n",
       "<polyline clip-path=\"url(#clip832)\" style=\"stroke:#0000ff; stroke-linecap:round; stroke-linejoin:round; stroke-width:8; stroke-opacity:0.2; fill:none\" points=\"746.764,695.325 805.985,754.546 835.596,744.676 840.531,759.482 \"/>\n",
       "<polyline clip-path=\"url(#clip832)\" style=\"stroke:#0000ff; stroke-linecap:round; stroke-linejoin:round; stroke-width:8; stroke-opacity:1; fill:none\" points=\"746.764,695.325 694.524,723.219 \"/>\n",
       "<polyline clip-path=\"url(#clip832)\" style=\"stroke:#0000ff; stroke-linecap:round; stroke-linejoin:round; stroke-width:8; stroke-opacity:1; fill:none\" points=\"805.985,754.546 750.551,775.383 \"/>\n",
       "<polyline clip-path=\"url(#clip832)\" style=\"stroke:#0000ff; stroke-linecap:round; stroke-linejoin:round; stroke-width:8; stroke-opacity:1; fill:none\" points=\"835.596,744.676 778.917,761.842 \"/>\n",
       "<polyline clip-path=\"url(#clip832)\" style=\"stroke:#0000ff; stroke-linecap:round; stroke-linejoin:round; stroke-width:8; stroke-opacity:1; fill:none\" points=\"840.531,759.482 782.91,773.156 \"/>\n",
       "</svg>\n"
      ]
     },
     "execution_count": 140,
     "metadata": {},
     "output_type": "execute_result"
    }
   ],
   "source": [
    "t  = 1\n",
    "\n",
    "p0  = _ps[t]\n",
    "x   = stack(polar_inv(_zs[t],_as))\n",
    "\n",
    "n = 4\n",
    "w   = fill(10, n)\n",
    "sig = [0.2, 0.1, 0.1, 0.1]\n",
    "dropout = fill(1e-9,n)\n",
    "\n",
    "grid_k   = [4, 4, 4, 4]\n",
    "grid_dx  = [1., 0.25, 0.125, 0.0625 ]\n",
    "grid_dhd = [90.0, 45, 22.5, 7]\n",
    "\n",
    "\n",
    "p = perturb(p0, 0.1, 10)\n",
    "p, qs, log_qs = iterated_proposal(p, x, w, sig, dropout, grid_k, grid_dx, grid_dhd);\n",
    "\n",
    "\n",
    "# ---------------\n",
    "mypl = plot(size=(400,400), legend=nothing; yxlims(p0.x,3)..., aspect_ratio=:equal)\n",
    "plot!(_segs, c=:black)\n",
    "plot!(p0,c=:red, r=0.5, linewidth=7)\n",
    "plot!([q.x for q in qs], c=:blue, linewidth=2, alpha=.2)\n",
    "plot!(qs, c=:blue, r=0.25, linewidth=2, alpha=1.)\n",
    "mypl"
   ]
  },
  {
   "cell_type": "markdown",
   "id": "c6b3415d",
   "metadata": {},
   "source": [
    "## SLAM Model"
   ]
  },
  {
   "cell_type": "code",
   "execution_count": 184,
   "id": "8f3e5aa4",
   "metadata": {},
   "outputs": [
    {
     "data": {
      "text/plain": [
       "argdiffs (generic function with 1 method)"
      ]
     },
     "execution_count": 184,
     "metadata": {},
     "output_type": "execute_result"
    }
   ],
   "source": [
    "include(\"src/gen_utils.jl\")"
   ]
  },
  {
   "cell_type": "markdown",
   "id": "5ef2de36",
   "metadata": {},
   "source": [
    "General structure:\n",
    "```julia\n",
    "motion_model(p::Pose, u::Control, motion_args...)\n",
    "sensor_model(p::Pose, m::MAP, sensor_args...)\n",
    "```\n",
    "Here:\n",
    "```julia\n",
    "sensor_model(p::Pose, sensor_args...)\n",
    "```"
   ]
  },
  {
   "cell_type": "markdown",
   "id": "03f28672",
   "metadata": {},
   "source": [
    "```julia\n",
    "\n",
    "    prior     chain \n",
    "     0          1        2          t-1\n",
    "\n",
    "               u[1] --- u[2]  ...  u[t-1]\n",
    "                |        |          |\n",
    "    p[1] - - - p[2] --- p[3]  ...  p[t]\n",
    "     |          |        |          |\n",
    "    y[1]       y[2]     y[3]  ...  y[t] \n",
    "```"
   ]
  },
  {
   "cell_type": "markdown",
   "id": "c9716d53",
   "metadata": {},
   "source": [
    "### sensor model"
   ]
  },
  {
   "cell_type": "code",
   "execution_count": 169,
   "id": "e76b86a8",
   "metadata": {},
   "outputs": [
    {
     "data": {
      "text/plain": [
       "sensor_logpdf_cu (generic function with 1 method)"
      ]
     },
     "execution_count": 169,
     "metadata": {},
     "output_type": "execute_result"
    }
   ],
   "source": [
    "function sensor_logpdf_cu(x::CuArray, y_tilde::CuArray, sig, dropout)\n",
    "    n = size(y_tilde,1)\n",
    "    m = size(y_tilde,2)\n",
    "    \n",
    "    @assert size(x,1) == size(y_tilde,1)\n",
    "    \n",
    "    x = reshape(x, n, 1, 2)\n",
    "    \n",
    "    # Compute 1D Gaussians - (n,m,2)\n",
    "    # Convert to 2D gausians - (n,m)\n",
    "    # Convert to mixture of m 2D gausians (GM) - (n,)\n",
    "    # Convert to mixture of `GM` and `anywhere` (D) - (n,)\n",
    "    # Convert to Product of D's - ()\n",
    "    log_p = gaussian_logpdf(x, y_tilde, sig)\n",
    "    log_p = sum(log_p, dims=3)[:,:,1] \n",
    "    log_p = logsumexp_cu(log_p .- log(m), 2)[:,1] \n",
    "    log_p_or_any_ = log.((1-dropout)*exp.(log_p) .+ dropout*1.0)\n",
    "    log_p = sum(log_p_or_any_)\n",
    "    return log_p\n",
    "end"
   ]
  },
  {
   "cell_type": "code",
   "execution_count": 170,
   "id": "4f85d776",
   "metadata": {},
   "outputs": [],
   "source": [
    "#nbx\n",
    "struct SensorDistribution_CUDA <: Distribution{Vector{Vector{Float64}}} \n",
    "end\n",
    "\n",
    "const sensordist_cu = SensorDistribution_CUDA()\n",
    "\n",
    "function Gen.logpdf(::SensorDistribution_CUDA, x, y_tilde_::CuArray, sig, dropout)\n",
    "    x_ = CuArray(stack(x))\n",
    "    return sensor_logpdf_cu(x_, y_tilde_, sig, dropout)\n",
    "end\n",
    "function Gen.random(::SensorDistribution_CUDA, y_tilde_::CuArray, sig, dropout)\n",
    "    n = size(y_tilde_,1)\n",
    "    m = size(y_tilde_,2)\n",
    "\n",
    "    x = Vector{Float64}[]\n",
    "    for i=1:n\n",
    "        if bernoulli(dropout)\n",
    "            x_i = [Inf;Inf]\n",
    "        else\n",
    "            j = rand(1:m)\n",
    "            y = Array(y_tilde_[i,j,:])\n",
    "            x_i = diagnormal(y, [sig;sig])\n",
    "\n",
    "        end\n",
    "        push!(x, x_i)\n",
    "    end\n",
    "    return x\n",
    "end\n",
    "\n",
    "(D::SensorDistribution_CUDA)(args...) = Gen.random(D, args...)\n",
    "Gen.has_output_grad(::SensorDistribution_CUDA)    = false\n",
    "Gen.has_argument_grads(::SensorDistribution_CUDA) = (false, false);"
   ]
  },
  {
   "cell_type": "code",
   "execution_count": 171,
   "id": "bcee7c9d",
   "metadata": {},
   "outputs": [
    {
     "data": {
      "text/plain": [
       "DynamicDSLFunction{Any}(Dict{Symbol, Any}(), Dict{Symbol, Any}(), Type[Any, Any, Any, Any], false, Union{Nothing, Some{Any}}[nothing, nothing, nothing, nothing], var\"##sensor_model_GPU#1488\", Bool[0, 0, 0, 0], false)"
      ]
     },
     "execution_count": 171,
     "metadata": {},
     "output_type": "execute_result"
    }
   ],
   "source": [
    "@gen function sensor_model_GPU(p, w, s_noise, dropout)\n",
    "    p_ = CuArray(Vector(p))\n",
    "    zs_      = cast_cu(reshape(p_, 1,3))\n",
    "    y_tilde_ = get_ys_tilde_cu(zs_, w)[1,:,:,:];\n",
    "    \n",
    "    x ~ sensordist_cu(y_tilde_, s_noise, dropout)\n",
    "    return x\n",
    "end"
   ]
  },
  {
   "cell_type": "code",
   "execution_count": 172,
   "id": "293a5ff7",
   "metadata": {},
   "outputs": [
    {
     "data": {
      "image/svg+xml": [
       "<?xml version=\"1.0\" encoding=\"utf-8\"?>\n",
       "<svg xmlns=\"http://www.w3.org/2000/svg\" xmlns:xlink=\"http://www.w3.org/1999/xlink\" width=\"300\" height=\"300\" viewBox=\"0 0 1200 1200\">\n",
       "<defs>\n",
       "  <clipPath id=\"clip030\">\n",
       "    <rect x=\"0\" y=\"0\" width=\"1200\" height=\"1200\"/>\n",
       "  </clipPath>\n",
       "</defs>\n",
       "<path clip-path=\"url(#clip030)\" d=\"M0 1200 L1200 1200 L1200 0 L0 0  Z\" fill=\"#ffffff\" fill-rule=\"evenodd\" fill-opacity=\"1\"/>\n",
       "<defs>\n",
       "  <clipPath id=\"clip031\">\n",
       "    <rect x=\"240\" y=\"120\" width=\"841\" height=\"841\"/>\n",
       "  </clipPath>\n",
       "</defs>\n",
       "<path clip-path=\"url(#clip030)\" d=\"M127.446 1073.17 L1152.76 1073.17 L1152.76 47.2441 L127.446 47.2441  Z\" fill=\"#ffffff\" fill-rule=\"evenodd\" fill-opacity=\"1\"/>\n",
       "<defs>\n",
       "  <clipPath id=\"clip032\">\n",
       "    <rect x=\"127\" y=\"47\" width=\"1026\" height=\"1027\"/>\n",
       "  </clipPath>\n",
       "</defs>\n",
       "<polyline clip-path=\"url(#clip032)\" style=\"stroke:#000000; stroke-linecap:round; stroke-linejoin:round; stroke-width:2; stroke-opacity:0.1; fill:none\" points=\"282.956,1073.17 282.956,47.2441 \"/>\n",
       "<polyline clip-path=\"url(#clip032)\" style=\"stroke:#000000; stroke-linecap:round; stroke-linejoin:round; stroke-width:2; stroke-opacity:0.1; fill:none\" points=\"444.079,1073.17 444.079,47.2441 \"/>\n",
       "<polyline clip-path=\"url(#clip032)\" style=\"stroke:#000000; stroke-linecap:round; stroke-linejoin:round; stroke-width:2; stroke-opacity:0.1; fill:none\" points=\"605.203,1073.17 605.203,47.2441 \"/>\n",
       "<polyline clip-path=\"url(#clip032)\" style=\"stroke:#000000; stroke-linecap:round; stroke-linejoin:round; stroke-width:2; stroke-opacity:0.1; fill:none\" points=\"766.326,1073.17 766.326,47.2441 \"/>\n",
       "<polyline clip-path=\"url(#clip032)\" style=\"stroke:#000000; stroke-linecap:round; stroke-linejoin:round; stroke-width:2; stroke-opacity:0.1; fill:none\" points=\"927.449,1073.17 927.449,47.2441 \"/>\n",
       "<polyline clip-path=\"url(#clip032)\" style=\"stroke:#000000; stroke-linecap:round; stroke-linejoin:round; stroke-width:2; stroke-opacity:0.1; fill:none\" points=\"1088.57,1073.17 1088.57,47.2441 \"/>\n",
       "<polyline clip-path=\"url(#clip030)\" style=\"stroke:#000000; stroke-linecap:round; stroke-linejoin:round; stroke-width:4; stroke-opacity:1; fill:none\" points=\"127.446,1073.17 1152.76,1073.17 \"/>\n",
       "<polyline clip-path=\"url(#clip030)\" style=\"stroke:#000000; stroke-linecap:round; stroke-linejoin:round; stroke-width:4; stroke-opacity:1; fill:none\" points=\"282.956,1073.17 282.956,1054.27 \"/>\n",
       "<polyline clip-path=\"url(#clip030)\" style=\"stroke:#000000; stroke-linecap:round; stroke-linejoin:round; stroke-width:4; stroke-opacity:1; fill:none\" points=\"444.079,1073.17 444.079,1054.27 \"/>\n",
       "<polyline clip-path=\"url(#clip030)\" style=\"stroke:#000000; stroke-linecap:round; stroke-linejoin:round; stroke-width:4; stroke-opacity:1; fill:none\" points=\"605.203,1073.17 605.203,1054.27 \"/>\n",
       "<polyline clip-path=\"url(#clip030)\" style=\"stroke:#000000; stroke-linecap:round; stroke-linejoin:round; stroke-width:4; stroke-opacity:1; fill:none\" points=\"766.326,1073.17 766.326,1054.27 \"/>\n",
       "<polyline clip-path=\"url(#clip030)\" style=\"stroke:#000000; stroke-linecap:round; stroke-linejoin:round; stroke-width:4; stroke-opacity:1; fill:none\" points=\"927.449,1073.17 927.449,1054.27 \"/>\n",
       "<polyline clip-path=\"url(#clip030)\" style=\"stroke:#000000; stroke-linecap:round; stroke-linejoin:round; stroke-width:4; stroke-opacity:1; fill:none\" points=\"1088.57,1073.17 1088.57,1054.27 \"/>\n",
       "<path clip-path=\"url(#clip030)\" d=\"M258.442 1122.03 L266.081 1122.03 L266.081 1095.67 L257.771 1097.33 L257.771 1093.07 L266.035 1091.41 L270.711 1091.41 L270.711 1122.03 L278.349 1122.03 L278.349 1125.97 L258.442 1125.97 L258.442 1122.03 Z\" fill=\"#000000\" fill-rule=\"evenodd\" fill-opacity=\"1\" /><path clip-path=\"url(#clip030)\" d=\"M291.822 1122.03 L308.141 1122.03 L308.141 1125.97 L286.197 1125.97 L286.197 1122.03 Q288.859 1119.28 293.442 1114.65 Q298.048 1110 299.229 1108.65 Q301.474 1106.13 302.354 1104.39 Q303.257 1102.63 303.257 1100.94 Q303.257 1098.19 301.312 1096.45 Q299.391 1094.72 296.289 1094.72 Q294.09 1094.72 291.636 1095.48 Q289.206 1096.25 286.428 1097.8 L286.428 1093.07 Q289.252 1091.94 291.706 1091.36 Q294.16 1090.78 296.197 1090.78 Q301.567 1090.78 304.761 1093.47 Q307.956 1096.15 307.956 1100.64 Q307.956 1102.77 307.146 1104.69 Q306.359 1106.59 304.252 1109.19 Q303.673 1109.86 300.572 1113.07 Q297.47 1116.27 291.822 1122.03 Z\" fill=\"#000000\" fill-rule=\"evenodd\" fill-opacity=\"1\" /><path clip-path=\"url(#clip030)\" d=\"M419.091 1122.03 L426.73 1122.03 L426.73 1095.67 L418.42 1097.33 L418.42 1093.07 L426.683 1091.41 L431.359 1091.41 L431.359 1122.03 L438.998 1122.03 L438.998 1125.97 L419.091 1125.97 L419.091 1122.03 Z\" fill=\"#000000\" fill-rule=\"evenodd\" fill-opacity=\"1\" /><path clip-path=\"url(#clip030)\" d=\"M462.609 1107.33 Q465.966 1108.05 467.841 1110.32 Q469.739 1112.59 469.739 1115.92 Q469.739 1121.04 466.22 1123.84 Q462.702 1126.64 456.22 1126.64 Q454.044 1126.64 451.73 1126.2 Q449.438 1125.78 446.984 1124.93 L446.984 1120.41 Q448.929 1121.55 451.244 1122.13 Q453.558 1122.7 456.081 1122.7 Q460.48 1122.7 462.771 1120.97 Q465.086 1119.23 465.086 1115.92 Q465.086 1112.87 462.933 1111.15 Q460.804 1109.42 456.984 1109.42 L452.956 1109.42 L452.956 1105.57 L457.169 1105.57 Q460.618 1105.57 462.447 1104.21 Q464.276 1102.82 464.276 1100.23 Q464.276 1097.57 462.378 1096.15 Q460.503 1094.72 456.984 1094.72 Q455.063 1094.72 452.864 1095.13 Q450.665 1095.55 448.026 1096.43 L448.026 1092.26 Q450.688 1091.52 453.003 1091.15 Q455.341 1090.78 457.401 1090.78 Q462.725 1090.78 465.827 1093.21 Q468.929 1095.62 468.929 1099.74 Q468.929 1102.61 467.285 1104.6 Q465.642 1106.57 462.609 1107.33 Z\" fill=\"#000000\" fill-rule=\"evenodd\" fill-opacity=\"1\" /><path clip-path=\"url(#clip030)\" d=\"M579.647 1122.03 L587.286 1122.03 L587.286 1095.67 L578.976 1097.33 L578.976 1093.07 L587.24 1091.41 L591.916 1091.41 L591.916 1122.03 L599.554 1122.03 L599.554 1125.97 L579.647 1125.97 L579.647 1122.03 Z\" fill=\"#000000\" fill-rule=\"evenodd\" fill-opacity=\"1\" /><path clip-path=\"url(#clip030)\" d=\"M621.846 1095.48 L610.04 1113.93 L621.846 1113.93 L621.846 1095.48 M620.619 1091.41 L626.499 1091.41 L626.499 1113.93 L631.429 1113.93 L631.429 1117.82 L626.499 1117.82 L626.499 1125.97 L621.846 1125.97 L621.846 1117.82 L606.244 1117.82 L606.244 1113.31 L620.619 1091.41 Z\" fill=\"#000000\" fill-rule=\"evenodd\" fill-opacity=\"1\" /><path clip-path=\"url(#clip030)\" d=\"M741.511 1122.03 L749.15 1122.03 L749.15 1095.67 L740.84 1097.33 L740.84 1093.07 L749.104 1091.41 L753.78 1091.41 L753.78 1122.03 L761.419 1122.03 L761.419 1125.97 L741.511 1125.97 L741.511 1122.03 Z\" fill=\"#000000\" fill-rule=\"evenodd\" fill-opacity=\"1\" /><path clip-path=\"url(#clip030)\" d=\"M770.909 1091.41 L789.266 1091.41 L789.266 1095.34 L775.192 1095.34 L775.192 1103.82 Q776.21 1103.47 777.229 1103.31 Q778.247 1103.12 779.266 1103.12 Q785.053 1103.12 788.432 1106.29 Q791.812 1109.46 791.812 1114.88 Q791.812 1120.46 788.34 1123.56 Q784.867 1126.64 778.548 1126.64 Q776.372 1126.64 774.104 1126.27 Q771.858 1125.9 769.451 1125.16 L769.451 1120.46 Q771.534 1121.59 773.756 1122.15 Q775.979 1122.7 778.455 1122.7 Q782.46 1122.7 784.798 1120.6 Q787.136 1118.49 787.136 1114.88 Q787.136 1111.27 784.798 1109.16 Q782.46 1107.06 778.455 1107.06 Q776.58 1107.06 774.705 1107.47 Q772.854 1107.89 770.909 1108.77 L770.909 1091.41 Z\" fill=\"#000000\" fill-rule=\"evenodd\" fill-opacity=\"1\" /><path clip-path=\"url(#clip030)\" d=\"M902.056 1122.03 L909.695 1122.03 L909.695 1095.67 L901.385 1097.33 L901.385 1093.07 L909.648 1091.41 L914.324 1091.41 L914.324 1122.03 L921.963 1122.03 L921.963 1125.97 L902.056 1125.97 L902.056 1122.03 Z\" fill=\"#000000\" fill-rule=\"evenodd\" fill-opacity=\"1\" /><path clip-path=\"url(#clip030)\" d=\"M941.986 1106.82 Q938.838 1106.82 936.986 1108.98 Q935.158 1111.13 935.158 1114.88 Q935.158 1118.61 936.986 1120.78 Q938.838 1122.94 941.986 1122.94 Q945.134 1122.94 946.963 1120.78 Q948.815 1118.61 948.815 1114.88 Q948.815 1111.13 946.963 1108.98 Q945.134 1106.82 941.986 1106.82 M951.269 1092.17 L951.269 1096.43 Q949.509 1095.6 947.704 1095.16 Q945.921 1094.72 944.162 1094.72 Q939.533 1094.72 937.079 1097.84 Q934.648 1100.97 934.301 1107.29 Q935.667 1105.27 937.727 1104.21 Q939.787 1103.12 942.264 1103.12 Q947.472 1103.12 950.482 1106.29 Q953.514 1109.44 953.514 1114.88 Q953.514 1120.2 950.366 1123.42 Q947.218 1126.64 941.986 1126.64 Q935.991 1126.64 932.82 1122.06 Q929.648 1117.45 929.648 1108.72 Q929.648 1100.53 933.537 1095.67 Q937.426 1090.78 943.977 1090.78 Q945.736 1090.78 947.519 1091.13 Q949.324 1091.48 951.269 1092.17 Z\" fill=\"#000000\" fill-rule=\"evenodd\" fill-opacity=\"1\" /><path clip-path=\"url(#clip030)\" d=\"M1063.71 1122.03 L1071.35 1122.03 L1071.35 1095.67 L1063.04 1097.33 L1063.04 1093.07 L1071.3 1091.41 L1075.98 1091.41 L1075.98 1122.03 L1083.62 1122.03 L1083.62 1125.97 L1063.71 1125.97 L1063.71 1122.03 Z\" fill=\"#000000\" fill-rule=\"evenodd\" fill-opacity=\"1\" /><path clip-path=\"url(#clip030)\" d=\"M1091.88 1091.41 L1114.1 1091.41 L1114.1 1093.4 L1101.56 1125.97 L1096.67 1125.97 L1108.48 1095.34 L1091.88 1095.34 L1091.88 1091.41 Z\" fill=\"#000000\" fill-rule=\"evenodd\" fill-opacity=\"1\" /><polyline clip-path=\"url(#clip032)\" style=\"stroke:#000000; stroke-linecap:round; stroke-linejoin:round; stroke-width:2; stroke-opacity:0.1; fill:none\" points=\"127.446,962.441 1152.76,962.441 \"/>\n",
       "<polyline clip-path=\"url(#clip032)\" style=\"stroke:#000000; stroke-linecap:round; stroke-linejoin:round; stroke-width:2; stroke-opacity:0.1; fill:none\" points=\"127.446,801.318 1152.76,801.318 \"/>\n",
       "<polyline clip-path=\"url(#clip032)\" style=\"stroke:#000000; stroke-linecap:round; stroke-linejoin:round; stroke-width:2; stroke-opacity:0.1; fill:none\" points=\"127.446,640.194 1152.76,640.194 \"/>\n",
       "<polyline clip-path=\"url(#clip032)\" style=\"stroke:#000000; stroke-linecap:round; stroke-linejoin:round; stroke-width:2; stroke-opacity:0.1; fill:none\" points=\"127.446,479.071 1152.76,479.071 \"/>\n",
       "<polyline clip-path=\"url(#clip032)\" style=\"stroke:#000000; stroke-linecap:round; stroke-linejoin:round; stroke-width:2; stroke-opacity:0.1; fill:none\" points=\"127.446,317.948 1152.76,317.948 \"/>\n",
       "<polyline clip-path=\"url(#clip032)\" style=\"stroke:#000000; stroke-linecap:round; stroke-linejoin:round; stroke-width:2; stroke-opacity:0.1; fill:none\" points=\"127.446,156.824 1152.76,156.824 \"/>\n",
       "<polyline clip-path=\"url(#clip030)\" style=\"stroke:#000000; stroke-linecap:round; stroke-linejoin:round; stroke-width:4; stroke-opacity:1; fill:none\" points=\"127.446,1073.17 127.446,47.2441 \"/>\n",
       "<polyline clip-path=\"url(#clip030)\" style=\"stroke:#000000; stroke-linecap:round; stroke-linejoin:round; stroke-width:4; stroke-opacity:1; fill:none\" points=\"127.446,962.441 146.343,962.441 \"/>\n",
       "<polyline clip-path=\"url(#clip030)\" style=\"stroke:#000000; stroke-linecap:round; stroke-linejoin:round; stroke-width:4; stroke-opacity:1; fill:none\" points=\"127.446,801.318 146.343,801.318 \"/>\n",
       "<polyline clip-path=\"url(#clip030)\" style=\"stroke:#000000; stroke-linecap:round; stroke-linejoin:round; stroke-width:4; stroke-opacity:1; fill:none\" points=\"127.446,640.194 146.343,640.194 \"/>\n",
       "<polyline clip-path=\"url(#clip030)\" style=\"stroke:#000000; stroke-linecap:round; stroke-linejoin:round; stroke-width:4; stroke-opacity:1; fill:none\" points=\"127.446,479.071 146.343,479.071 \"/>\n",
       "<polyline clip-path=\"url(#clip030)\" style=\"stroke:#000000; stroke-linecap:round; stroke-linejoin:round; stroke-width:4; stroke-opacity:1; fill:none\" points=\"127.446,317.948 146.343,317.948 \"/>\n",
       "<polyline clip-path=\"url(#clip030)\" style=\"stroke:#000000; stroke-linecap:round; stroke-linejoin:round; stroke-width:4; stroke-opacity:1; fill:none\" points=\"127.446,156.824 146.343,156.824 \"/>\n",
       "<path clip-path=\"url(#clip030)\" d=\"M58.1495 975.786 L65.7884 975.786 L65.7884 949.42 L57.4782 951.087 L57.4782 946.828 L65.7421 945.161 L70.418 945.161 L70.418 975.786 L78.0568 975.786 L78.0568 979.721 L58.1495 979.721 L58.1495 975.786 Z\" fill=\"#000000\" fill-rule=\"evenodd\" fill-opacity=\"1\" /><path clip-path=\"url(#clip030)\" d=\"M97.5012 948.24 Q93.8901 948.24 92.0614 951.805 Q90.2558 955.346 90.2558 962.476 Q90.2558 969.582 92.0614 973.147 Q93.8901 976.689 97.5012 976.689 Q101.135 976.689 102.941 973.147 Q104.77 969.582 104.77 962.476 Q104.77 955.346 102.941 951.805 Q101.135 948.24 97.5012 948.24 M97.5012 944.536 Q103.311 944.536 106.367 949.143 Q109.446 953.726 109.446 962.476 Q109.446 971.203 106.367 975.809 Q103.311 980.392 97.5012 980.392 Q91.691 980.392 88.6123 975.809 Q85.5568 971.203 85.5568 962.476 Q85.5568 953.726 88.6123 949.143 Q91.691 944.536 97.5012 944.536 Z\" fill=\"#000000\" fill-rule=\"evenodd\" fill-opacity=\"1\" /><path clip-path=\"url(#clip030)\" d=\"M59.3764 814.663 L67.0152 814.663 L67.0152 788.297 L58.7051 789.964 L58.7051 785.704 L66.9689 784.038 L71.6448 784.038 L71.6448 814.663 L79.2837 814.663 L79.2837 818.598 L59.3764 818.598 L59.3764 814.663 Z\" fill=\"#000000\" fill-rule=\"evenodd\" fill-opacity=\"1\" /><path clip-path=\"url(#clip030)\" d=\"M89.5382 814.663 L97.1771 814.663 L97.1771 788.297 L88.867 789.964 L88.867 785.704 L97.1308 784.038 L101.807 784.038 L101.807 814.663 L109.446 814.663 L109.446 818.598 L89.5382 818.598 L89.5382 814.663 Z\" fill=\"#000000\" fill-rule=\"evenodd\" fill-opacity=\"1\" /><path clip-path=\"url(#clip030)\" d=\"M59.7467 653.539 L67.3856 653.539 L67.3856 627.174 L59.0754 628.84 L59.0754 624.581 L67.3393 622.914 L72.0152 622.914 L72.0152 653.539 L79.654 653.539 L79.654 657.474 L59.7467 657.474 L59.7467 653.539 Z\" fill=\"#000000\" fill-rule=\"evenodd\" fill-opacity=\"1\" /><path clip-path=\"url(#clip030)\" d=\"M93.1262 653.539 L109.446 653.539 L109.446 657.474 L87.5012 657.474 L87.5012 653.539 Q90.1632 650.785 94.7466 646.155 Q99.353 641.502 100.534 640.16 Q102.779 637.637 103.659 635.9 Q104.561 634.141 104.561 632.451 Q104.561 629.697 102.617 627.961 Q100.696 626.225 97.5938 626.225 Q95.3947 626.225 92.941 626.988 Q90.5105 627.752 87.7327 629.303 L87.7327 624.581 Q90.5568 623.447 93.0105 622.868 Q95.4641 622.289 97.5012 622.289 Q102.872 622.289 106.066 624.975 Q109.26 627.66 109.26 632.15 Q109.26 634.28 108.45 636.201 Q107.663 638.099 105.557 640.692 Q104.978 641.363 101.876 644.581 Q98.7743 647.775 93.1262 653.539 Z\" fill=\"#000000\" fill-rule=\"evenodd\" fill-opacity=\"1\" /><path clip-path=\"url(#clip030)\" d=\"M58.7977 492.416 L66.4365 492.416 L66.4365 466.05 L58.1264 467.717 L58.1264 463.458 L66.3902 461.791 L71.0661 461.791 L71.0661 492.416 L78.705 492.416 L78.705 496.351 L58.7977 496.351 L58.7977 492.416 Z\" fill=\"#000000\" fill-rule=\"evenodd\" fill-opacity=\"1\" /><path clip-path=\"url(#clip030)\" d=\"M102.316 477.717 Q105.672 478.434 107.547 480.703 Q109.446 482.971 109.446 486.305 Q109.446 491.42 105.927 494.221 Q102.409 497.022 95.9271 497.022 Q93.7512 497.022 91.4364 496.583 Q89.1447 496.166 86.691 495.309 L86.691 490.796 Q88.6355 491.93 90.9503 492.508 Q93.2651 493.087 95.7882 493.087 Q100.186 493.087 102.478 491.351 Q104.793 489.615 104.793 486.305 Q104.793 483.249 102.64 481.536 Q100.51 479.8 96.691 479.8 L92.6632 479.8 L92.6632 475.958 L96.8762 475.958 Q100.325 475.958 102.154 474.592 Q103.983 473.203 103.983 470.61 Q103.983 467.948 102.084 466.536 Q100.209 465.101 96.691 465.101 Q94.7697 465.101 92.5706 465.518 Q90.3716 465.935 87.7327 466.814 L87.7327 462.648 Q90.3947 461.907 92.7095 461.536 Q95.0475 461.166 97.1077 461.166 Q102.432 461.166 105.534 463.597 Q108.635 466.004 108.635 470.124 Q108.635 472.995 106.992 474.985 Q105.348 476.953 102.316 477.717 Z\" fill=\"#000000\" fill-rule=\"evenodd\" fill-opacity=\"1\" /><path clip-path=\"url(#clip030)\" d=\"M57.6634 331.293 L65.3023 331.293 L65.3023 304.927 L56.9921 306.594 L56.9921 302.334 L65.256 300.668 L69.9319 300.668 L69.9319 331.293 L77.5707 331.293 L77.5707 335.228 L57.6634 335.228 L57.6634 331.293 Z\" fill=\"#000000\" fill-rule=\"evenodd\" fill-opacity=\"1\" /><path clip-path=\"url(#clip030)\" d=\"M99.8623 304.742 L88.0568 323.191 L99.8623 323.191 L99.8623 304.742 M98.6354 300.668 L104.515 300.668 L104.515 323.191 L109.446 323.191 L109.446 327.08 L104.515 327.08 L104.515 335.228 L99.8623 335.228 L99.8623 327.08 L84.2605 327.08 L84.2605 322.566 L98.6354 300.668 Z\" fill=\"#000000\" fill-rule=\"evenodd\" fill-opacity=\"1\" /><path clip-path=\"url(#clip030)\" d=\"M59.1449 170.169 L66.7837 170.169 L66.7837 143.804 L58.4736 145.47 L58.4736 141.211 L66.7374 139.544 L71.4133 139.544 L71.4133 170.169 L79.0522 170.169 L79.0522 174.104 L59.1449 174.104 L59.1449 170.169 Z\" fill=\"#000000\" fill-rule=\"evenodd\" fill-opacity=\"1\" /><path clip-path=\"url(#clip030)\" d=\"M88.5429 139.544 L106.899 139.544 L106.899 143.48 L92.8253 143.48 L92.8253 151.952 Q93.8438 151.604 94.8623 151.442 Q95.8808 151.257 96.8993 151.257 Q102.686 151.257 106.066 154.429 Q109.446 157.6 109.446 163.016 Q109.446 168.595 105.973 171.697 Q102.501 174.776 96.1817 174.776 Q94.0058 174.776 91.7373 174.405 Q89.492 174.035 87.0846 173.294 L87.0846 168.595 Q89.1679 169.729 91.3901 170.285 Q93.6123 170.84 96.0891 170.84 Q100.094 170.84 102.432 168.734 Q104.77 166.628 104.77 163.016 Q104.77 159.405 102.432 157.299 Q100.094 155.192 96.0891 155.192 Q94.2141 155.192 92.3392 155.609 Q90.4873 156.026 88.5429 156.905 L88.5429 139.544 Z\" fill=\"#000000\" fill-rule=\"evenodd\" fill-opacity=\"1\" /><circle clip-path=\"url(#clip032)\" cx=\"883.764\" cy=\"213.378\" r=\"14.4\" fill=\"#009af9\" fill-rule=\"evenodd\" fill-opacity=\"1\" stroke=\"#000000\" stroke-opacity=\"1\" stroke-width=\"2.4\"/>\n",
       "<circle clip-path=\"url(#clip032)\" cx=\"919.518\" cy=\"236.52\" r=\"14.4\" fill=\"#009af9\" fill-rule=\"evenodd\" fill-opacity=\"1\" stroke=\"#000000\" stroke-opacity=\"1\" stroke-width=\"2.4\"/>\n",
       "<circle clip-path=\"url(#clip032)\" cx=\"904.818\" cy=\"221.503\" r=\"14.4\" fill=\"#009af9\" fill-rule=\"evenodd\" fill-opacity=\"1\" stroke=\"#000000\" stroke-opacity=\"1\" stroke-width=\"2.4\"/>\n",
       "<circle clip-path=\"url(#clip032)\" cx=\"901.296\" cy=\"258.363\" r=\"14.4\" fill=\"#009af9\" fill-rule=\"evenodd\" fill-opacity=\"1\" stroke=\"#000000\" stroke-opacity=\"1\" stroke-width=\"2.4\"/>\n",
       "<circle clip-path=\"url(#clip032)\" cx=\"886.45\" cy=\"199.975\" r=\"14.4\" fill=\"#009af9\" fill-rule=\"evenodd\" fill-opacity=\"1\" stroke=\"#000000\" stroke-opacity=\"1\" stroke-width=\"2.4\"/>\n",
       "<circle clip-path=\"url(#clip032)\" cx=\"889.848\" cy=\"171.976\" r=\"14.4\" fill=\"#009af9\" fill-rule=\"evenodd\" fill-opacity=\"1\" stroke=\"#000000\" stroke-opacity=\"1\" stroke-width=\"2.4\"/>\n",
       "<circle clip-path=\"url(#clip032)\" cx=\"885.811\" cy=\"242.427\" r=\"14.4\" fill=\"#009af9\" fill-rule=\"evenodd\" fill-opacity=\"1\" stroke=\"#000000\" stroke-opacity=\"1\" stroke-width=\"2.4\"/>\n",
       "<circle clip-path=\"url(#clip032)\" cx=\"879.052\" cy=\"241.62\" r=\"14.4\" fill=\"#009af9\" fill-rule=\"evenodd\" fill-opacity=\"1\" stroke=\"#000000\" stroke-opacity=\"1\" stroke-width=\"2.4\"/>\n",
       "<circle clip-path=\"url(#clip032)\" cx=\"913.306\" cy=\"160.234\" r=\"14.4\" fill=\"#009af9\" fill-rule=\"evenodd\" fill-opacity=\"1\" stroke=\"#000000\" stroke-opacity=\"1\" stroke-width=\"2.4\"/>\n",
       "<circle clip-path=\"url(#clip032)\" cx=\"895.331\" cy=\"208.389\" r=\"14.4\" fill=\"#009af9\" fill-rule=\"evenodd\" fill-opacity=\"1\" stroke=\"#000000\" stroke-opacity=\"1\" stroke-width=\"2.4\"/>\n",
       "<circle clip-path=\"url(#clip032)\" cx=\"923.694\" cy=\"196.64\" r=\"14.4\" fill=\"#009af9\" fill-rule=\"evenodd\" fill-opacity=\"1\" stroke=\"#000000\" stroke-opacity=\"1\" stroke-width=\"2.4\"/>\n",
       "<circle clip-path=\"url(#clip032)\" cx=\"890.987\" cy=\"188.827\" r=\"14.4\" fill=\"#009af9\" fill-rule=\"evenodd\" fill-opacity=\"1\" stroke=\"#000000\" stroke-opacity=\"1\" stroke-width=\"2.4\"/>\n",
       "<circle clip-path=\"url(#clip032)\" cx=\"877.498\" cy=\"169.698\" r=\"14.4\" fill=\"#009af9\" fill-rule=\"evenodd\" fill-opacity=\"1\" stroke=\"#000000\" stroke-opacity=\"1\" stroke-width=\"2.4\"/>\n",
       "<circle clip-path=\"url(#clip032)\" cx=\"917.78\" cy=\"180.613\" r=\"14.4\" fill=\"#009af9\" fill-rule=\"evenodd\" fill-opacity=\"1\" stroke=\"#000000\" stroke-opacity=\"1\" stroke-width=\"2.4\"/>\n",
       "<circle clip-path=\"url(#clip032)\" cx=\"907.879\" cy=\"181.816\" r=\"14.4\" fill=\"#009af9\" fill-rule=\"evenodd\" fill-opacity=\"1\" stroke=\"#000000\" stroke-opacity=\"1\" stroke-width=\"2.4\"/>\n",
       "<circle clip-path=\"url(#clip032)\" cx=\"905.472\" cy=\"166.969\" r=\"14.4\" fill=\"#009af9\" fill-rule=\"evenodd\" fill-opacity=\"1\" stroke=\"#000000\" stroke-opacity=\"1\" stroke-width=\"2.4\"/>\n",
       "<circle clip-path=\"url(#clip032)\" cx=\"920.095\" cy=\"182.439\" r=\"14.4\" fill=\"#009af9\" fill-rule=\"evenodd\" fill-opacity=\"1\" stroke=\"#000000\" stroke-opacity=\"1\" stroke-width=\"2.4\"/>\n",
       "<circle clip-path=\"url(#clip032)\" cx=\"901.973\" cy=\"133.901\" r=\"14.4\" fill=\"#009af9\" fill-rule=\"evenodd\" fill-opacity=\"1\" stroke=\"#000000\" stroke-opacity=\"1\" stroke-width=\"2.4\"/>\n",
       "<circle clip-path=\"url(#clip032)\" cx=\"892.499\" cy=\"93.4079\" r=\"14.4\" fill=\"#009af9\" fill-rule=\"evenodd\" fill-opacity=\"1\" stroke=\"#000000\" stroke-opacity=\"1\" stroke-width=\"2.4\"/>\n",
       "<circle clip-path=\"url(#clip032)\" cx=\"895.343\" cy=\"216.236\" r=\"14.4\" fill=\"#009af9\" fill-rule=\"evenodd\" fill-opacity=\"1\" stroke=\"#000000\" stroke-opacity=\"1\" stroke-width=\"2.4\"/>\n",
       "<circle clip-path=\"url(#clip032)\" cx=\"908.831\" cy=\"111.723\" r=\"14.4\" fill=\"#009af9\" fill-rule=\"evenodd\" fill-opacity=\"1\" stroke=\"#000000\" stroke-opacity=\"1\" stroke-width=\"2.4\"/>\n",
       "<circle clip-path=\"url(#clip032)\" cx=\"895.818\" cy=\"132.958\" r=\"14.4\" fill=\"#009af9\" fill-rule=\"evenodd\" fill-opacity=\"1\" stroke=\"#000000\" stroke-opacity=\"1\" stroke-width=\"2.4\"/>\n",
       "<circle clip-path=\"url(#clip032)\" cx=\"894.599\" cy=\"120.836\" r=\"14.4\" fill=\"#009af9\" fill-rule=\"evenodd\" fill-opacity=\"1\" stroke=\"#000000\" stroke-opacity=\"1\" stroke-width=\"2.4\"/>\n",
       "<circle clip-path=\"url(#clip032)\" cx=\"912.581\" cy=\"182.862\" r=\"14.4\" fill=\"#009af9\" fill-rule=\"evenodd\" fill-opacity=\"1\" stroke=\"#000000\" stroke-opacity=\"1\" stroke-width=\"2.4\"/>\n",
       "<circle clip-path=\"url(#clip032)\" cx=\"893.593\" cy=\"178.9\" r=\"14.4\" fill=\"#009af9\" fill-rule=\"evenodd\" fill-opacity=\"1\" stroke=\"#000000\" stroke-opacity=\"1\" stroke-width=\"2.4\"/>\n",
       "<circle clip-path=\"url(#clip032)\" cx=\"893.176\" cy=\"177.833\" r=\"14.4\" fill=\"#009af9\" fill-rule=\"evenodd\" fill-opacity=\"1\" stroke=\"#000000\" stroke-opacity=\"1\" stroke-width=\"2.4\"/>\n",
       "<circle clip-path=\"url(#clip032)\" cx=\"894.077\" cy=\"125.446\" r=\"14.4\" fill=\"#009af9\" fill-rule=\"evenodd\" fill-opacity=\"1\" stroke=\"#000000\" stroke-opacity=\"1\" stroke-width=\"2.4\"/>\n",
       "<circle clip-path=\"url(#clip032)\" cx=\"909.962\" cy=\"118.51\" r=\"14.4\" fill=\"#009af9\" fill-rule=\"evenodd\" fill-opacity=\"1\" stroke=\"#000000\" stroke-opacity=\"1\" stroke-width=\"2.4\"/>\n",
       "<circle clip-path=\"url(#clip032)\" cx=\"901.609\" cy=\"153.532\" r=\"14.4\" fill=\"#009af9\" fill-rule=\"evenodd\" fill-opacity=\"1\" stroke=\"#000000\" stroke-opacity=\"1\" stroke-width=\"2.4\"/>\n",
       "<circle clip-path=\"url(#clip032)\" cx=\"877.367\" cy=\"84.9415\" r=\"14.4\" fill=\"#009af9\" fill-rule=\"evenodd\" fill-opacity=\"1\" stroke=\"#000000\" stroke-opacity=\"1\" stroke-width=\"2.4\"/>\n",
       "<circle clip-path=\"url(#clip032)\" cx=\"878.173\" cy=\"113.093\" r=\"14.4\" fill=\"#009af9\" fill-rule=\"evenodd\" fill-opacity=\"1\" stroke=\"#000000\" stroke-opacity=\"1\" stroke-width=\"2.4\"/>\n",
       "<circle clip-path=\"url(#clip032)\" cx=\"910.965\" cy=\"147.581\" r=\"14.4\" fill=\"#009af9\" fill-rule=\"evenodd\" fill-opacity=\"1\" stroke=\"#000000\" stroke-opacity=\"1\" stroke-width=\"2.4\"/>\n",
       "<circle clip-path=\"url(#clip032)\" cx=\"869.225\" cy=\"127.776\" r=\"14.4\" fill=\"#009af9\" fill-rule=\"evenodd\" fill-opacity=\"1\" stroke=\"#000000\" stroke-opacity=\"1\" stroke-width=\"2.4\"/>\n",
       "<circle clip-path=\"url(#clip032)\" cx=\"846.704\" cy=\"104.567\" r=\"14.4\" fill=\"#009af9\" fill-rule=\"evenodd\" fill-opacity=\"1\" stroke=\"#000000\" stroke-opacity=\"1\" stroke-width=\"2.4\"/>\n",
       "<circle clip-path=\"url(#clip032)\" cx=\"853.754\" cy=\"110.479\" r=\"14.4\" fill=\"#009af9\" fill-rule=\"evenodd\" fill-opacity=\"1\" stroke=\"#000000\" stroke-opacity=\"1\" stroke-width=\"2.4\"/>\n",
       "<circle clip-path=\"url(#clip032)\" cx=\"850.625\" cy=\"150.579\" r=\"14.4\" fill=\"#009af9\" fill-rule=\"evenodd\" fill-opacity=\"1\" stroke=\"#000000\" stroke-opacity=\"1\" stroke-width=\"2.4\"/>\n",
       "<circle clip-path=\"url(#clip032)\" cx=\"814.505\" cy=\"99.3013\" r=\"14.4\" fill=\"#009af9\" fill-rule=\"evenodd\" fill-opacity=\"1\" stroke=\"#000000\" stroke-opacity=\"1\" stroke-width=\"2.4\"/>\n",
       "<circle clip-path=\"url(#clip032)\" cx=\"827.719\" cy=\"133.304\" r=\"14.4\" fill=\"#009af9\" fill-rule=\"evenodd\" fill-opacity=\"1\" stroke=\"#000000\" stroke-opacity=\"1\" stroke-width=\"2.4\"/>\n",
       "<circle clip-path=\"url(#clip032)\" cx=\"895.881\" cy=\"124.558\" r=\"14.4\" fill=\"#009af9\" fill-rule=\"evenodd\" fill-opacity=\"1\" stroke=\"#000000\" stroke-opacity=\"1\" stroke-width=\"2.4\"/>\n",
       "<circle clip-path=\"url(#clip032)\" cx=\"887.039\" cy=\"121.424\" r=\"14.4\" fill=\"#009af9\" fill-rule=\"evenodd\" fill-opacity=\"1\" stroke=\"#000000\" stroke-opacity=\"1\" stroke-width=\"2.4\"/>\n",
       "<circle clip-path=\"url(#clip032)\" cx=\"835.762\" cy=\"95.2004\" r=\"14.4\" fill=\"#009af9\" fill-rule=\"evenodd\" fill-opacity=\"1\" stroke=\"#000000\" stroke-opacity=\"1\" stroke-width=\"2.4\"/>\n",
       "<circle clip-path=\"url(#clip032)\" cx=\"791.464\" cy=\"115.956\" r=\"14.4\" fill=\"#009af9\" fill-rule=\"evenodd\" fill-opacity=\"1\" stroke=\"#000000\" stroke-opacity=\"1\" stroke-width=\"2.4\"/>\n",
       "<circle clip-path=\"url(#clip032)\" cx=\"801.906\" cy=\"113.7\" r=\"14.4\" fill=\"#009af9\" fill-rule=\"evenodd\" fill-opacity=\"1\" stroke=\"#000000\" stroke-opacity=\"1\" stroke-width=\"2.4\"/>\n",
       "<circle clip-path=\"url(#clip032)\" cx=\"816.306\" cy=\"114.422\" r=\"14.4\" fill=\"#009af9\" fill-rule=\"evenodd\" fill-opacity=\"1\" stroke=\"#000000\" stroke-opacity=\"1\" stroke-width=\"2.4\"/>\n",
       "<circle clip-path=\"url(#clip032)\" cx=\"798.37\" cy=\"104.45\" r=\"14.4\" fill=\"#009af9\" fill-rule=\"evenodd\" fill-opacity=\"1\" stroke=\"#000000\" stroke-opacity=\"1\" stroke-width=\"2.4\"/>\n",
       "<circle clip-path=\"url(#clip032)\" cx=\"819.962\" cy=\"120.94\" r=\"14.4\" fill=\"#009af9\" fill-rule=\"evenodd\" fill-opacity=\"1\" stroke=\"#000000\" stroke-opacity=\"1\" stroke-width=\"2.4\"/>\n",
       "<circle clip-path=\"url(#clip032)\" cx=\"815.645\" cy=\"109.134\" r=\"14.4\" fill=\"#009af9\" fill-rule=\"evenodd\" fill-opacity=\"1\" stroke=\"#000000\" stroke-opacity=\"1\" stroke-width=\"2.4\"/>\n",
       "<circle clip-path=\"url(#clip032)\" cx=\"842.372\" cy=\"127.296\" r=\"14.4\" fill=\"#009af9\" fill-rule=\"evenodd\" fill-opacity=\"1\" stroke=\"#000000\" stroke-opacity=\"1\" stroke-width=\"2.4\"/>\n",
       "<circle clip-path=\"url(#clip032)\" cx=\"841.431\" cy=\"113.286\" r=\"14.4\" fill=\"#009af9\" fill-rule=\"evenodd\" fill-opacity=\"1\" stroke=\"#000000\" stroke-opacity=\"1\" stroke-width=\"2.4\"/>\n",
       "<circle clip-path=\"url(#clip032)\" cx=\"832.223\" cy=\"114.578\" r=\"14.4\" fill=\"#009af9\" fill-rule=\"evenodd\" fill-opacity=\"1\" stroke=\"#000000\" stroke-opacity=\"1\" stroke-width=\"2.4\"/>\n",
       "<circle clip-path=\"url(#clip032)\" cx=\"823.537\" cy=\"114.195\" r=\"14.4\" fill=\"#009af9\" fill-rule=\"evenodd\" fill-opacity=\"1\" stroke=\"#000000\" stroke-opacity=\"1\" stroke-width=\"2.4\"/>\n",
       "<circle clip-path=\"url(#clip032)\" cx=\"798.119\" cy=\"115.738\" r=\"14.4\" fill=\"#009af9\" fill-rule=\"evenodd\" fill-opacity=\"1\" stroke=\"#000000\" stroke-opacity=\"1\" stroke-width=\"2.4\"/>\n",
       "<circle clip-path=\"url(#clip032)\" cx=\"817.432\" cy=\"113.721\" r=\"14.4\" fill=\"#009af9\" fill-rule=\"evenodd\" fill-opacity=\"1\" stroke=\"#000000\" stroke-opacity=\"1\" stroke-width=\"2.4\"/>\n",
       "<circle clip-path=\"url(#clip032)\" cx=\"802.975\" cy=\"105.703\" r=\"14.4\" fill=\"#009af9\" fill-rule=\"evenodd\" fill-opacity=\"1\" stroke=\"#000000\" stroke-opacity=\"1\" stroke-width=\"2.4\"/>\n",
       "<circle clip-path=\"url(#clip032)\" cx=\"830.893\" cy=\"99.2032\" r=\"14.4\" fill=\"#009af9\" fill-rule=\"evenodd\" fill-opacity=\"1\" stroke=\"#000000\" stroke-opacity=\"1\" stroke-width=\"2.4\"/>\n",
       "<circle clip-path=\"url(#clip032)\" cx=\"765.86\" cy=\"116.378\" r=\"14.4\" fill=\"#009af9\" fill-rule=\"evenodd\" fill-opacity=\"1\" stroke=\"#000000\" stroke-opacity=\"1\" stroke-width=\"2.4\"/>\n",
       "<circle clip-path=\"url(#clip032)\" cx=\"797.209\" cy=\"112.75\" r=\"14.4\" fill=\"#009af9\" fill-rule=\"evenodd\" fill-opacity=\"1\" stroke=\"#000000\" stroke-opacity=\"1\" stroke-width=\"2.4\"/>\n",
       "<circle clip-path=\"url(#clip032)\" cx=\"800.84\" cy=\"131.096\" r=\"14.4\" fill=\"#009af9\" fill-rule=\"evenodd\" fill-opacity=\"1\" stroke=\"#000000\" stroke-opacity=\"1\" stroke-width=\"2.4\"/>\n",
       "<circle clip-path=\"url(#clip032)\" cx=\"798.375\" cy=\"99.15\" r=\"14.4\" fill=\"#009af9\" fill-rule=\"evenodd\" fill-opacity=\"1\" stroke=\"#000000\" stroke-opacity=\"1\" stroke-width=\"2.4\"/>\n",
       "<circle clip-path=\"url(#clip032)\" cx=\"793.037\" cy=\"103.033\" r=\"14.4\" fill=\"#009af9\" fill-rule=\"evenodd\" fill-opacity=\"1\" stroke=\"#000000\" stroke-opacity=\"1\" stroke-width=\"2.4\"/>\n",
       "<circle clip-path=\"url(#clip032)\" cx=\"756.79\" cy=\"124.436\" r=\"14.4\" fill=\"#009af9\" fill-rule=\"evenodd\" fill-opacity=\"1\" stroke=\"#000000\" stroke-opacity=\"1\" stroke-width=\"2.4\"/>\n",
       "<circle clip-path=\"url(#clip032)\" cx=\"809.065\" cy=\"106.903\" r=\"14.4\" fill=\"#009af9\" fill-rule=\"evenodd\" fill-opacity=\"1\" stroke=\"#000000\" stroke-opacity=\"1\" stroke-width=\"2.4\"/>\n",
       "<circle clip-path=\"url(#clip032)\" cx=\"752.473\" cy=\"103.45\" r=\"14.4\" fill=\"#009af9\" fill-rule=\"evenodd\" fill-opacity=\"1\" stroke=\"#000000\" stroke-opacity=\"1\" stroke-width=\"2.4\"/>\n",
       "<circle clip-path=\"url(#clip032)\" cx=\"770.868\" cy=\"98.5103\" r=\"14.4\" fill=\"#009af9\" fill-rule=\"evenodd\" fill-opacity=\"1\" stroke=\"#000000\" stroke-opacity=\"1\" stroke-width=\"2.4\"/>\n",
       "<circle clip-path=\"url(#clip032)\" cx=\"775.669\" cy=\"121.944\" r=\"14.4\" fill=\"#009af9\" fill-rule=\"evenodd\" fill-opacity=\"1\" stroke=\"#000000\" stroke-opacity=\"1\" stroke-width=\"2.4\"/>\n",
       "<circle clip-path=\"url(#clip032)\" cx=\"784.575\" cy=\"137.156\" r=\"14.4\" fill=\"#009af9\" fill-rule=\"evenodd\" fill-opacity=\"1\" stroke=\"#000000\" stroke-opacity=\"1\" stroke-width=\"2.4\"/>\n",
       "<circle clip-path=\"url(#clip032)\" cx=\"787.159\" cy=\"101.4\" r=\"14.4\" fill=\"#009af9\" fill-rule=\"evenodd\" fill-opacity=\"1\" stroke=\"#000000\" stroke-opacity=\"1\" stroke-width=\"2.4\"/>\n",
       "<circle clip-path=\"url(#clip032)\" cx=\"772.696\" cy=\"128.645\" r=\"14.4\" fill=\"#009af9\" fill-rule=\"evenodd\" fill-opacity=\"1\" stroke=\"#000000\" stroke-opacity=\"1\" stroke-width=\"2.4\"/>\n",
       "<circle clip-path=\"url(#clip032)\" cx=\"805.02\" cy=\"130.591\" r=\"14.4\" fill=\"#009af9\" fill-rule=\"evenodd\" fill-opacity=\"1\" stroke=\"#000000\" stroke-opacity=\"1\" stroke-width=\"2.4\"/>\n",
       "<circle clip-path=\"url(#clip032)\" cx=\"762.643\" cy=\"90.9642\" r=\"14.4\" fill=\"#009af9\" fill-rule=\"evenodd\" fill-opacity=\"1\" stroke=\"#000000\" stroke-opacity=\"1\" stroke-width=\"2.4\"/>\n",
       "<circle clip-path=\"url(#clip032)\" cx=\"750.819\" cy=\"126.606\" r=\"14.4\" fill=\"#009af9\" fill-rule=\"evenodd\" fill-opacity=\"1\" stroke=\"#000000\" stroke-opacity=\"1\" stroke-width=\"2.4\"/>\n",
       "<circle clip-path=\"url(#clip032)\" cx=\"741.094\" cy=\"100.487\" r=\"14.4\" fill=\"#009af9\" fill-rule=\"evenodd\" fill-opacity=\"1\" stroke=\"#000000\" stroke-opacity=\"1\" stroke-width=\"2.4\"/>\n",
       "<circle clip-path=\"url(#clip032)\" cx=\"723.479\" cy=\"105.056\" r=\"14.4\" fill=\"#009af9\" fill-rule=\"evenodd\" fill-opacity=\"1\" stroke=\"#000000\" stroke-opacity=\"1\" stroke-width=\"2.4\"/>\n",
       "<circle clip-path=\"url(#clip032)\" cx=\"745.184\" cy=\"127.649\" r=\"14.4\" fill=\"#009af9\" fill-rule=\"evenodd\" fill-opacity=\"1\" stroke=\"#000000\" stroke-opacity=\"1\" stroke-width=\"2.4\"/>\n",
       "<circle clip-path=\"url(#clip032)\" cx=\"731.029\" cy=\"117.783\" r=\"14.4\" fill=\"#009af9\" fill-rule=\"evenodd\" fill-opacity=\"1\" stroke=\"#000000\" stroke-opacity=\"1\" stroke-width=\"2.4\"/>\n",
       "<circle clip-path=\"url(#clip032)\" cx=\"733.56\" cy=\"111.868\" r=\"14.4\" fill=\"#009af9\" fill-rule=\"evenodd\" fill-opacity=\"1\" stroke=\"#000000\" stroke-opacity=\"1\" stroke-width=\"2.4\"/>\n",
       "<circle clip-path=\"url(#clip032)\" cx=\"752.787\" cy=\"122.398\" r=\"14.4\" fill=\"#009af9\" fill-rule=\"evenodd\" fill-opacity=\"1\" stroke=\"#000000\" stroke-opacity=\"1\" stroke-width=\"2.4\"/>\n",
       "<circle clip-path=\"url(#clip032)\" cx=\"736.267\" cy=\"121.737\" r=\"14.4\" fill=\"#009af9\" fill-rule=\"evenodd\" fill-opacity=\"1\" stroke=\"#000000\" stroke-opacity=\"1\" stroke-width=\"2.4\"/>\n",
       "<circle clip-path=\"url(#clip032)\" cx=\"730.249\" cy=\"76.2797\" r=\"14.4\" fill=\"#009af9\" fill-rule=\"evenodd\" fill-opacity=\"1\" stroke=\"#000000\" stroke-opacity=\"1\" stroke-width=\"2.4\"/>\n",
       "<circle clip-path=\"url(#clip032)\" cx=\"726.266\" cy=\"147.792\" r=\"14.4\" fill=\"#009af9\" fill-rule=\"evenodd\" fill-opacity=\"1\" stroke=\"#000000\" stroke-opacity=\"1\" stroke-width=\"2.4\"/>\n",
       "<circle clip-path=\"url(#clip032)\" cx=\"712.262\" cy=\"110.181\" r=\"14.4\" fill=\"#009af9\" fill-rule=\"evenodd\" fill-opacity=\"1\" stroke=\"#000000\" stroke-opacity=\"1\" stroke-width=\"2.4\"/>\n",
       "<circle clip-path=\"url(#clip032)\" cx=\"753.314\" cy=\"98.6811\" r=\"14.4\" fill=\"#009af9\" fill-rule=\"evenodd\" fill-opacity=\"1\" stroke=\"#000000\" stroke-opacity=\"1\" stroke-width=\"2.4\"/>\n",
       "<circle clip-path=\"url(#clip032)\" cx=\"698.985\" cy=\"118.744\" r=\"14.4\" fill=\"#009af9\" fill-rule=\"evenodd\" fill-opacity=\"1\" stroke=\"#000000\" stroke-opacity=\"1\" stroke-width=\"2.4\"/>\n",
       "<circle clip-path=\"url(#clip032)\" cx=\"724.042\" cy=\"114.761\" r=\"14.4\" fill=\"#009af9\" fill-rule=\"evenodd\" fill-opacity=\"1\" stroke=\"#000000\" stroke-opacity=\"1\" stroke-width=\"2.4\"/>\n",
       "<circle clip-path=\"url(#clip032)\" cx=\"728.802\" cy=\"101.375\" r=\"14.4\" fill=\"#009af9\" fill-rule=\"evenodd\" fill-opacity=\"1\" stroke=\"#000000\" stroke-opacity=\"1\" stroke-width=\"2.4\"/>\n",
       "<circle clip-path=\"url(#clip032)\" cx=\"696.66\" cy=\"132.781\" r=\"14.4\" fill=\"#009af9\" fill-rule=\"evenodd\" fill-opacity=\"1\" stroke=\"#000000\" stroke-opacity=\"1\" stroke-width=\"2.4\"/>\n",
       "<circle clip-path=\"url(#clip032)\" cx=\"693.707\" cy=\"128.246\" r=\"14.4\" fill=\"#009af9\" fill-rule=\"evenodd\" fill-opacity=\"1\" stroke=\"#000000\" stroke-opacity=\"1\" stroke-width=\"2.4\"/>\n",
       "<circle clip-path=\"url(#clip032)\" cx=\"705.642\" cy=\"134.189\" r=\"14.4\" fill=\"#009af9\" fill-rule=\"evenodd\" fill-opacity=\"1\" stroke=\"#000000\" stroke-opacity=\"1\" stroke-width=\"2.4\"/>\n",
       "<circle clip-path=\"url(#clip032)\" cx=\"725.985\" cy=\"116.268\" r=\"14.4\" fill=\"#009af9\" fill-rule=\"evenodd\" fill-opacity=\"1\" stroke=\"#000000\" stroke-opacity=\"1\" stroke-width=\"2.4\"/>\n",
       "<circle clip-path=\"url(#clip032)\" cx=\"688.829\" cy=\"127.125\" r=\"14.4\" fill=\"#009af9\" fill-rule=\"evenodd\" fill-opacity=\"1\" stroke=\"#000000\" stroke-opacity=\"1\" stroke-width=\"2.4\"/>\n",
       "<circle clip-path=\"url(#clip032)\" cx=\"684.519\" cy=\"124.435\" r=\"14.4\" fill=\"#009af9\" fill-rule=\"evenodd\" fill-opacity=\"1\" stroke=\"#000000\" stroke-opacity=\"1\" stroke-width=\"2.4\"/>\n",
       "<circle clip-path=\"url(#clip032)\" cx=\"685.202\" cy=\"108.174\" r=\"14.4\" fill=\"#009af9\" fill-rule=\"evenodd\" fill-opacity=\"1\" stroke=\"#000000\" stroke-opacity=\"1\" stroke-width=\"2.4\"/>\n",
       "<circle clip-path=\"url(#clip032)\" cx=\"720.928\" cy=\"119.424\" r=\"14.4\" fill=\"#009af9\" fill-rule=\"evenodd\" fill-opacity=\"1\" stroke=\"#000000\" stroke-opacity=\"1\" stroke-width=\"2.4\"/>\n",
       "<circle clip-path=\"url(#clip032)\" cx=\"695.494\" cy=\"110.521\" r=\"14.4\" fill=\"#009af9\" fill-rule=\"evenodd\" fill-opacity=\"1\" stroke=\"#000000\" stroke-opacity=\"1\" stroke-width=\"2.4\"/>\n",
       "<circle clip-path=\"url(#clip032)\" cx=\"687.403\" cy=\"138.011\" r=\"14.4\" fill=\"#009af9\" fill-rule=\"evenodd\" fill-opacity=\"1\" stroke=\"#000000\" stroke-opacity=\"1\" stroke-width=\"2.4\"/>\n",
       "<circle clip-path=\"url(#clip032)\" cx=\"722.576\" cy=\"140.541\" r=\"14.4\" fill=\"#009af9\" fill-rule=\"evenodd\" fill-opacity=\"1\" stroke=\"#000000\" stroke-opacity=\"1\" stroke-width=\"2.4\"/>\n",
       "<circle clip-path=\"url(#clip032)\" cx=\"658.588\" cy=\"117.068\" r=\"14.4\" fill=\"#009af9\" fill-rule=\"evenodd\" fill-opacity=\"1\" stroke=\"#000000\" stroke-opacity=\"1\" stroke-width=\"2.4\"/>\n",
       "<circle clip-path=\"url(#clip032)\" cx=\"655.474\" cy=\"127.837\" r=\"14.4\" fill=\"#009af9\" fill-rule=\"evenodd\" fill-opacity=\"1\" stroke=\"#000000\" stroke-opacity=\"1\" stroke-width=\"2.4\"/>\n",
       "<circle clip-path=\"url(#clip032)\" cx=\"677.283\" cy=\"93.349\" r=\"14.4\" fill=\"#009af9\" fill-rule=\"evenodd\" fill-opacity=\"1\" stroke=\"#000000\" stroke-opacity=\"1\" stroke-width=\"2.4\"/>\n",
       "<circle clip-path=\"url(#clip032)\" cx=\"703.677\" cy=\"123.601\" r=\"14.4\" fill=\"#009af9\" fill-rule=\"evenodd\" fill-opacity=\"1\" stroke=\"#000000\" stroke-opacity=\"1\" stroke-width=\"2.4\"/>\n",
       "<circle clip-path=\"url(#clip032)\" cx=\"640.19\" cy=\"127.011\" r=\"14.4\" fill=\"#009af9\" fill-rule=\"evenodd\" fill-opacity=\"1\" stroke=\"#000000\" stroke-opacity=\"1\" stroke-width=\"2.4\"/>\n",
       "<circle clip-path=\"url(#clip032)\" cx=\"706.277\" cy=\"125.619\" r=\"14.4\" fill=\"#009af9\" fill-rule=\"evenodd\" fill-opacity=\"1\" stroke=\"#000000\" stroke-opacity=\"1\" stroke-width=\"2.4\"/>\n",
       "<circle clip-path=\"url(#clip032)\" cx=\"668.367\" cy=\"139.646\" r=\"14.4\" fill=\"#009af9\" fill-rule=\"evenodd\" fill-opacity=\"1\" stroke=\"#000000\" stroke-opacity=\"1\" stroke-width=\"2.4\"/>\n",
       "<circle clip-path=\"url(#clip032)\" cx=\"678.197\" cy=\"115.98\" r=\"14.4\" fill=\"#009af9\" fill-rule=\"evenodd\" fill-opacity=\"1\" stroke=\"#000000\" stroke-opacity=\"1\" stroke-width=\"2.4\"/>\n",
       "<circle clip-path=\"url(#clip032)\" cx=\"647.693\" cy=\"126.01\" r=\"14.4\" fill=\"#009af9\" fill-rule=\"evenodd\" fill-opacity=\"1\" stroke=\"#000000\" stroke-opacity=\"1\" stroke-width=\"2.4\"/>\n",
       "<circle clip-path=\"url(#clip032)\" cx=\"640.397\" cy=\"93.2677\" r=\"14.4\" fill=\"#009af9\" fill-rule=\"evenodd\" fill-opacity=\"1\" stroke=\"#000000\" stroke-opacity=\"1\" stroke-width=\"2.4\"/>\n",
       "<circle clip-path=\"url(#clip032)\" cx=\"660.158\" cy=\"132.896\" r=\"14.4\" fill=\"#009af9\" fill-rule=\"evenodd\" fill-opacity=\"1\" stroke=\"#000000\" stroke-opacity=\"1\" stroke-width=\"2.4\"/>\n",
       "<circle clip-path=\"url(#clip032)\" cx=\"617.08\" cy=\"103.218\" r=\"14.4\" fill=\"#009af9\" fill-rule=\"evenodd\" fill-opacity=\"1\" stroke=\"#000000\" stroke-opacity=\"1\" stroke-width=\"2.4\"/>\n",
       "<circle clip-path=\"url(#clip032)\" cx=\"671.02\" cy=\"135.405\" r=\"14.4\" fill=\"#009af9\" fill-rule=\"evenodd\" fill-opacity=\"1\" stroke=\"#000000\" stroke-opacity=\"1\" stroke-width=\"2.4\"/>\n",
       "<circle clip-path=\"url(#clip032)\" cx=\"591.442\" cy=\"144.159\" r=\"14.4\" fill=\"#009af9\" fill-rule=\"evenodd\" fill-opacity=\"1\" stroke=\"#000000\" stroke-opacity=\"1\" stroke-width=\"2.4\"/>\n",
       "<circle clip-path=\"url(#clip032)\" cx=\"657.256\" cy=\"107.826\" r=\"14.4\" fill=\"#009af9\" fill-rule=\"evenodd\" fill-opacity=\"1\" stroke=\"#000000\" stroke-opacity=\"1\" stroke-width=\"2.4\"/>\n",
       "<circle clip-path=\"url(#clip032)\" cx=\"609.279\" cy=\"134.079\" r=\"14.4\" fill=\"#009af9\" fill-rule=\"evenodd\" fill-opacity=\"1\" stroke=\"#000000\" stroke-opacity=\"1\" stroke-width=\"2.4\"/>\n",
       "<circle clip-path=\"url(#clip032)\" cx=\"536.319\" cy=\"112.465\" r=\"14.4\" fill=\"#009af9\" fill-rule=\"evenodd\" fill-opacity=\"1\" stroke=\"#000000\" stroke-opacity=\"1\" stroke-width=\"2.4\"/>\n",
       "<circle clip-path=\"url(#clip032)\" cx=\"662.991\" cy=\"115.599\" r=\"14.4\" fill=\"#009af9\" fill-rule=\"evenodd\" fill-opacity=\"1\" stroke=\"#000000\" stroke-opacity=\"1\" stroke-width=\"2.4\"/>\n",
       "<circle clip-path=\"url(#clip032)\" cx=\"661.979\" cy=\"110.067\" r=\"14.4\" fill=\"#009af9\" fill-rule=\"evenodd\" fill-opacity=\"1\" stroke=\"#000000\" stroke-opacity=\"1\" stroke-width=\"2.4\"/>\n",
       "<circle clip-path=\"url(#clip032)\" cx=\"596.734\" cy=\"139.692\" r=\"14.4\" fill=\"#009af9\" fill-rule=\"evenodd\" fill-opacity=\"1\" stroke=\"#000000\" stroke-opacity=\"1\" stroke-width=\"2.4\"/>\n",
       "<circle clip-path=\"url(#clip032)\" cx=\"526.675\" cy=\"120.94\" r=\"14.4\" fill=\"#009af9\" fill-rule=\"evenodd\" fill-opacity=\"1\" stroke=\"#000000\" stroke-opacity=\"1\" stroke-width=\"2.4\"/>\n",
       "<circle clip-path=\"url(#clip032)\" cx=\"613.908\" cy=\"106.505\" r=\"14.4\" fill=\"#009af9\" fill-rule=\"evenodd\" fill-opacity=\"1\" stroke=\"#000000\" stroke-opacity=\"1\" stroke-width=\"2.4\"/>\n",
       "<circle clip-path=\"url(#clip032)\" cx=\"556.209\" cy=\"108.169\" r=\"14.4\" fill=\"#009af9\" fill-rule=\"evenodd\" fill-opacity=\"1\" stroke=\"#000000\" stroke-opacity=\"1\" stroke-width=\"2.4\"/>\n",
       "<circle clip-path=\"url(#clip032)\" cx=\"535.587\" cy=\"118.223\" r=\"14.4\" fill=\"#009af9\" fill-rule=\"evenodd\" fill-opacity=\"1\" stroke=\"#000000\" stroke-opacity=\"1\" stroke-width=\"2.4\"/>\n",
       "<circle clip-path=\"url(#clip032)\" cx=\"505.487\" cy=\"110.295\" r=\"14.4\" fill=\"#009af9\" fill-rule=\"evenodd\" fill-opacity=\"1\" stroke=\"#000000\" stroke-opacity=\"1\" stroke-width=\"2.4\"/>\n",
       "<circle clip-path=\"url(#clip032)\" cx=\"544.112\" cy=\"113.644\" r=\"14.4\" fill=\"#009af9\" fill-rule=\"evenodd\" fill-opacity=\"1\" stroke=\"#000000\" stroke-opacity=\"1\" stroke-width=\"2.4\"/>\n",
       "<circle clip-path=\"url(#clip032)\" cx=\"535.392\" cy=\"126.978\" r=\"14.4\" fill=\"#009af9\" fill-rule=\"evenodd\" fill-opacity=\"1\" stroke=\"#000000\" stroke-opacity=\"1\" stroke-width=\"2.4\"/>\n",
       "<circle clip-path=\"url(#clip032)\" cx=\"593.154\" cy=\"109.134\" r=\"14.4\" fill=\"#009af9\" fill-rule=\"evenodd\" fill-opacity=\"1\" stroke=\"#000000\" stroke-opacity=\"1\" stroke-width=\"2.4\"/>\n",
       "<circle clip-path=\"url(#clip032)\" cx=\"533.64\" cy=\"119.664\" r=\"14.4\" fill=\"#009af9\" fill-rule=\"evenodd\" fill-opacity=\"1\" stroke=\"#000000\" stroke-opacity=\"1\" stroke-width=\"2.4\"/>\n",
       "<circle clip-path=\"url(#clip032)\" cx=\"564.094\" cy=\"128.636\" r=\"14.4\" fill=\"#009af9\" fill-rule=\"evenodd\" fill-opacity=\"1\" stroke=\"#000000\" stroke-opacity=\"1\" stroke-width=\"2.4\"/>\n",
       "<circle clip-path=\"url(#clip032)\" cx=\"500.261\" cy=\"104.717\" r=\"14.4\" fill=\"#009af9\" fill-rule=\"evenodd\" fill-opacity=\"1\" stroke=\"#000000\" stroke-opacity=\"1\" stroke-width=\"2.4\"/>\n",
       "<circle clip-path=\"url(#clip032)\" cx=\"482.855\" cy=\"91.3931\" r=\"14.4\" fill=\"#009af9\" fill-rule=\"evenodd\" fill-opacity=\"1\" stroke=\"#000000\" stroke-opacity=\"1\" stroke-width=\"2.4\"/>\n",
       "<circle clip-path=\"url(#clip032)\" cx=\"546.804\" cy=\"109.993\" r=\"14.4\" fill=\"#009af9\" fill-rule=\"evenodd\" fill-opacity=\"1\" stroke=\"#000000\" stroke-opacity=\"1\" stroke-width=\"2.4\"/>\n",
       "<circle clip-path=\"url(#clip032)\" cx=\"412.119\" cy=\"111.249\" r=\"14.4\" fill=\"#009af9\" fill-rule=\"evenodd\" fill-opacity=\"1\" stroke=\"#000000\" stroke-opacity=\"1\" stroke-width=\"2.4\"/>\n",
       "<circle clip-path=\"url(#clip032)\" cx=\"509.766\" cy=\"114.105\" r=\"14.4\" fill=\"#009af9\" fill-rule=\"evenodd\" fill-opacity=\"1\" stroke=\"#000000\" stroke-opacity=\"1\" stroke-width=\"2.4\"/>\n",
       "<circle clip-path=\"url(#clip032)\" cx=\"490.541\" cy=\"130.42\" r=\"14.4\" fill=\"#009af9\" fill-rule=\"evenodd\" fill-opacity=\"1\" stroke=\"#000000\" stroke-opacity=\"1\" stroke-width=\"2.4\"/>\n",
       "<circle clip-path=\"url(#clip032)\" cx=\"480.347\" cy=\"108.486\" r=\"14.4\" fill=\"#009af9\" fill-rule=\"evenodd\" fill-opacity=\"1\" stroke=\"#000000\" stroke-opacity=\"1\" stroke-width=\"2.4\"/>\n",
       "<circle clip-path=\"url(#clip032)\" cx=\"500.017\" cy=\"131.736\" r=\"14.4\" fill=\"#009af9\" fill-rule=\"evenodd\" fill-opacity=\"1\" stroke=\"#000000\" stroke-opacity=\"1\" stroke-width=\"2.4\"/>\n",
       "<circle clip-path=\"url(#clip032)\" cx=\"497.503\" cy=\"102.062\" r=\"14.4\" fill=\"#009af9\" fill-rule=\"evenodd\" fill-opacity=\"1\" stroke=\"#000000\" stroke-opacity=\"1\" stroke-width=\"2.4\"/>\n",
       "<circle clip-path=\"url(#clip032)\" cx=\"423.018\" cy=\"127.069\" r=\"14.4\" fill=\"#009af9\" fill-rule=\"evenodd\" fill-opacity=\"1\" stroke=\"#000000\" stroke-opacity=\"1\" stroke-width=\"2.4\"/>\n",
       "<circle clip-path=\"url(#clip032)\" cx=\"502.863\" cy=\"84.2605\" r=\"14.4\" fill=\"#009af9\" fill-rule=\"evenodd\" fill-opacity=\"1\" stroke=\"#000000\" stroke-opacity=\"1\" stroke-width=\"2.4\"/>\n",
       "<circle clip-path=\"url(#clip032)\" cx=\"412.633\" cy=\"166.204\" r=\"14.4\" fill=\"#009af9\" fill-rule=\"evenodd\" fill-opacity=\"1\" stroke=\"#000000\" stroke-opacity=\"1\" stroke-width=\"2.4\"/>\n",
       "<circle clip-path=\"url(#clip032)\" cx=\"416.575\" cy=\"158.823\" r=\"14.4\" fill=\"#009af9\" fill-rule=\"evenodd\" fill-opacity=\"1\" stroke=\"#000000\" stroke-opacity=\"1\" stroke-width=\"2.4\"/>\n",
       "<circle clip-path=\"url(#clip032)\" cx=\"407.794\" cy=\"165.862\" r=\"14.4\" fill=\"#009af9\" fill-rule=\"evenodd\" fill-opacity=\"1\" stroke=\"#000000\" stroke-opacity=\"1\" stroke-width=\"2.4\"/>\n",
       "<circle clip-path=\"url(#clip032)\" cx=\"413.303\" cy=\"147.435\" r=\"14.4\" fill=\"#009af9\" fill-rule=\"evenodd\" fill-opacity=\"1\" stroke=\"#000000\" stroke-opacity=\"1\" stroke-width=\"2.4\"/>\n",
       "<circle clip-path=\"url(#clip032)\" cx=\"448.387\" cy=\"180.967\" r=\"14.4\" fill=\"#009af9\" fill-rule=\"evenodd\" fill-opacity=\"1\" stroke=\"#000000\" stroke-opacity=\"1\" stroke-width=\"2.4\"/>\n",
       "<circle clip-path=\"url(#clip032)\" cx=\"418.507\" cy=\"230.742\" r=\"14.4\" fill=\"#009af9\" fill-rule=\"evenodd\" fill-opacity=\"1\" stroke=\"#000000\" stroke-opacity=\"1\" stroke-width=\"2.4\"/>\n",
       "<circle clip-path=\"url(#clip032)\" cx=\"414.101\" cy=\"149.108\" r=\"14.4\" fill=\"#009af9\" fill-rule=\"evenodd\" fill-opacity=\"1\" stroke=\"#000000\" stroke-opacity=\"1\" stroke-width=\"2.4\"/>\n",
       "<circle clip-path=\"url(#clip032)\" cx=\"417.405\" cy=\"203.258\" r=\"14.4\" fill=\"#009af9\" fill-rule=\"evenodd\" fill-opacity=\"1\" stroke=\"#000000\" stroke-opacity=\"1\" stroke-width=\"2.4\"/>\n",
       "<circle clip-path=\"url(#clip032)\" cx=\"404.979\" cy=\"246.74\" r=\"14.4\" fill=\"#009af9\" fill-rule=\"evenodd\" fill-opacity=\"1\" stroke=\"#000000\" stroke-opacity=\"1\" stroke-width=\"2.4\"/>\n",
       "<circle clip-path=\"url(#clip032)\" cx=\"408.218\" cy=\"293.855\" r=\"14.4\" fill=\"#009af9\" fill-rule=\"evenodd\" fill-opacity=\"1\" stroke=\"#000000\" stroke-opacity=\"1\" stroke-width=\"2.4\"/>\n",
       "<circle clip-path=\"url(#clip032)\" cx=\"422.565\" cy=\"234.891\" r=\"14.4\" fill=\"#009af9\" fill-rule=\"evenodd\" fill-opacity=\"1\" stroke=\"#000000\" stroke-opacity=\"1\" stroke-width=\"2.4\"/>\n",
       "<circle clip-path=\"url(#clip032)\" cx=\"405.681\" cy=\"298.195\" r=\"14.4\" fill=\"#009af9\" fill-rule=\"evenodd\" fill-opacity=\"1\" stroke=\"#000000\" stroke-opacity=\"1\" stroke-width=\"2.4\"/>\n",
       "<circle clip-path=\"url(#clip032)\" cx=\"426.196\" cy=\"289.096\" r=\"14.4\" fill=\"#009af9\" fill-rule=\"evenodd\" fill-opacity=\"1\" stroke=\"#000000\" stroke-opacity=\"1\" stroke-width=\"2.4\"/>\n",
       "<circle clip-path=\"url(#clip032)\" cx=\"419.257\" cy=\"257.132\" r=\"14.4\" fill=\"#009af9\" fill-rule=\"evenodd\" fill-opacity=\"1\" stroke=\"#000000\" stroke-opacity=\"1\" stroke-width=\"2.4\"/>\n",
       "<circle clip-path=\"url(#clip032)\" cx=\"376.621\" cy=\"328.144\" r=\"14.4\" fill=\"#009af9\" fill-rule=\"evenodd\" fill-opacity=\"1\" stroke=\"#000000\" stroke-opacity=\"1\" stroke-width=\"2.4\"/>\n",
       "<circle clip-path=\"url(#clip032)\" cx=\"395.338\" cy=\"214.641\" r=\"14.4\" fill=\"#009af9\" fill-rule=\"evenodd\" fill-opacity=\"1\" stroke=\"#000000\" stroke-opacity=\"1\" stroke-width=\"2.4\"/>\n",
       "<circle clip-path=\"url(#clip032)\" cx=\"425.679\" cy=\"336.579\" r=\"14.4\" fill=\"#009af9\" fill-rule=\"evenodd\" fill-opacity=\"1\" stroke=\"#000000\" stroke-opacity=\"1\" stroke-width=\"2.4\"/>\n",
       "<circle clip-path=\"url(#clip032)\" cx=\"407.985\" cy=\"234.488\" r=\"14.4\" fill=\"#009af9\" fill-rule=\"evenodd\" fill-opacity=\"1\" stroke=\"#000000\" stroke-opacity=\"1\" stroke-width=\"2.4\"/>\n",
       "<circle clip-path=\"url(#clip032)\" cx=\"414.931\" cy=\"328.954\" r=\"14.4\" fill=\"#009af9\" fill-rule=\"evenodd\" fill-opacity=\"1\" stroke=\"#000000\" stroke-opacity=\"1\" stroke-width=\"2.4\"/>\n",
       "<circle clip-path=\"url(#clip032)\" cx=\"403.877\" cy=\"241.597\" r=\"14.4\" fill=\"#009af9\" fill-rule=\"evenodd\" fill-opacity=\"1\" stroke=\"#000000\" stroke-opacity=\"1\" stroke-width=\"2.4\"/>\n",
       "<circle clip-path=\"url(#clip032)\" cx=\"393.497\" cy=\"233.708\" r=\"14.4\" fill=\"#009af9\" fill-rule=\"evenodd\" fill-opacity=\"1\" stroke=\"#000000\" stroke-opacity=\"1\" stroke-width=\"2.4\"/>\n",
       "<circle clip-path=\"url(#clip032)\" cx=\"424.928\" cy=\"354.718\" r=\"14.4\" fill=\"#009af9\" fill-rule=\"evenodd\" fill-opacity=\"1\" stroke=\"#000000\" stroke-opacity=\"1\" stroke-width=\"2.4\"/>\n",
       "<circle clip-path=\"url(#clip032)\" cx=\"396.213\" cy=\"250.301\" r=\"14.4\" fill=\"#009af9\" fill-rule=\"evenodd\" fill-opacity=\"1\" stroke=\"#000000\" stroke-opacity=\"1\" stroke-width=\"2.4\"/>\n",
       "<circle clip-path=\"url(#clip032)\" cx=\"413.856\" cy=\"393.515\" r=\"14.4\" fill=\"#009af9\" fill-rule=\"evenodd\" fill-opacity=\"1\" stroke=\"#000000\" stroke-opacity=\"1\" stroke-width=\"2.4\"/>\n",
       "<circle clip-path=\"url(#clip032)\" cx=\"393.607\" cy=\"323.261\" r=\"14.4\" fill=\"#009af9\" fill-rule=\"evenodd\" fill-opacity=\"1\" stroke=\"#000000\" stroke-opacity=\"1\" stroke-width=\"2.4\"/>\n",
       "<circle clip-path=\"url(#clip032)\" cx=\"430.014\" cy=\"369.405\" r=\"14.4\" fill=\"#009af9\" fill-rule=\"evenodd\" fill-opacity=\"1\" stroke=\"#000000\" stroke-opacity=\"1\" stroke-width=\"2.4\"/>\n",
       "<circle clip-path=\"url(#clip032)\" cx=\"422.187\" cy=\"402.114\" r=\"14.4\" fill=\"#009af9\" fill-rule=\"evenodd\" fill-opacity=\"1\" stroke=\"#000000\" stroke-opacity=\"1\" stroke-width=\"2.4\"/>\n",
       "<circle clip-path=\"url(#clip032)\" cx=\"400.442\" cy=\"335.71\" r=\"14.4\" fill=\"#009af9\" fill-rule=\"evenodd\" fill-opacity=\"1\" stroke=\"#000000\" stroke-opacity=\"1\" stroke-width=\"2.4\"/>\n",
       "<circle clip-path=\"url(#clip032)\" cx=\"418.688\" cy=\"370.744\" r=\"14.4\" fill=\"#009af9\" fill-rule=\"evenodd\" fill-opacity=\"1\" stroke=\"#000000\" stroke-opacity=\"1\" stroke-width=\"2.4\"/>\n",
       "<circle clip-path=\"url(#clip032)\" cx=\"415.12\" cy=\"373.554\" r=\"14.4\" fill=\"#009af9\" fill-rule=\"evenodd\" fill-opacity=\"1\" stroke=\"#000000\" stroke-opacity=\"1\" stroke-width=\"2.4\"/>\n",
       "<circle clip-path=\"url(#clip032)\" cx=\"418.912\" cy=\"447.847\" r=\"14.4\" fill=\"#009af9\" fill-rule=\"evenodd\" fill-opacity=\"1\" stroke=\"#000000\" stroke-opacity=\"1\" stroke-width=\"2.4\"/>\n",
       "<circle clip-path=\"url(#clip032)\" cx=\"404.672\" cy=\"296.313\" r=\"14.4\" fill=\"#009af9\" fill-rule=\"evenodd\" fill-opacity=\"1\" stroke=\"#000000\" stroke-opacity=\"1\" stroke-width=\"2.4\"/>\n",
       "<circle clip-path=\"url(#clip032)\" cx=\"418.285\" cy=\"351.412\" r=\"14.4\" fill=\"#009af9\" fill-rule=\"evenodd\" fill-opacity=\"1\" stroke=\"#000000\" stroke-opacity=\"1\" stroke-width=\"2.4\"/>\n",
       "<circle clip-path=\"url(#clip032)\" cx=\"393.962\" cy=\"409.732\" r=\"14.4\" fill=\"#009af9\" fill-rule=\"evenodd\" fill-opacity=\"1\" stroke=\"#000000\" stroke-opacity=\"1\" stroke-width=\"2.4\"/>\n",
       "<circle clip-path=\"url(#clip032)\" cx=\"429.132\" cy=\"490.196\" r=\"14.4\" fill=\"#009af9\" fill-rule=\"evenodd\" fill-opacity=\"1\" stroke=\"#000000\" stroke-opacity=\"1\" stroke-width=\"2.4\"/>\n",
       "<circle clip-path=\"url(#clip032)\" cx=\"402.105\" cy=\"409.699\" r=\"14.4\" fill=\"#009af9\" fill-rule=\"evenodd\" fill-opacity=\"1\" stroke=\"#000000\" stroke-opacity=\"1\" stroke-width=\"2.4\"/>\n",
       "<circle clip-path=\"url(#clip032)\" cx=\"419.926\" cy=\"461.632\" r=\"14.4\" fill=\"#009af9\" fill-rule=\"evenodd\" fill-opacity=\"1\" stroke=\"#000000\" stroke-opacity=\"1\" stroke-width=\"2.4\"/>\n",
       "<circle clip-path=\"url(#clip032)\" cx=\"411.831\" cy=\"475.324\" r=\"14.4\" fill=\"#009af9\" fill-rule=\"evenodd\" fill-opacity=\"1\" stroke=\"#000000\" stroke-opacity=\"1\" stroke-width=\"2.4\"/>\n",
       "<circle clip-path=\"url(#clip032)\" cx=\"432.017\" cy=\"418.932\" r=\"14.4\" fill=\"#009af9\" fill-rule=\"evenodd\" fill-opacity=\"1\" stroke=\"#000000\" stroke-opacity=\"1\" stroke-width=\"2.4\"/>\n",
       "<circle clip-path=\"url(#clip032)\" cx=\"413.339\" cy=\"468.688\" r=\"14.4\" fill=\"#009af9\" fill-rule=\"evenodd\" fill-opacity=\"1\" stroke=\"#000000\" stroke-opacity=\"1\" stroke-width=\"2.4\"/>\n",
       "<circle clip-path=\"url(#clip032)\" cx=\"410.186\" cy=\"411.029\" r=\"14.4\" fill=\"#009af9\" fill-rule=\"evenodd\" fill-opacity=\"1\" stroke=\"#000000\" stroke-opacity=\"1\" stroke-width=\"2.4\"/>\n",
       "<circle clip-path=\"url(#clip032)\" cx=\"424.28\" cy=\"556.465\" r=\"14.4\" fill=\"#009af9\" fill-rule=\"evenodd\" fill-opacity=\"1\" stroke=\"#000000\" stroke-opacity=\"1\" stroke-width=\"2.4\"/>\n",
       "<circle clip-path=\"url(#clip032)\" cx=\"431.171\" cy=\"556.879\" r=\"14.4\" fill=\"#009af9\" fill-rule=\"evenodd\" fill-opacity=\"1\" stroke=\"#000000\" stroke-opacity=\"1\" stroke-width=\"2.4\"/>\n",
       "<circle clip-path=\"url(#clip032)\" cx=\"385.373\" cy=\"549.927\" r=\"14.4\" fill=\"#009af9\" fill-rule=\"evenodd\" fill-opacity=\"1\" stroke=\"#000000\" stroke-opacity=\"1\" stroke-width=\"2.4\"/>\n",
       "<circle clip-path=\"url(#clip032)\" cx=\"388.166\" cy=\"468.633\" r=\"14.4\" fill=\"#009af9\" fill-rule=\"evenodd\" fill-opacity=\"1\" stroke=\"#000000\" stroke-opacity=\"1\" stroke-width=\"2.4\"/>\n",
       "<circle clip-path=\"url(#clip032)\" cx=\"403.655\" cy=\"592.448\" r=\"14.4\" fill=\"#009af9\" fill-rule=\"evenodd\" fill-opacity=\"1\" stroke=\"#000000\" stroke-opacity=\"1\" stroke-width=\"2.4\"/>\n",
       "<circle clip-path=\"url(#clip032)\" cx=\"413.199\" cy=\"442.423\" r=\"14.4\" fill=\"#009af9\" fill-rule=\"evenodd\" fill-opacity=\"1\" stroke=\"#000000\" stroke-opacity=\"1\" stroke-width=\"2.4\"/>\n",
       "<circle clip-path=\"url(#clip032)\" cx=\"417.219\" cy=\"549.332\" r=\"14.4\" fill=\"#009af9\" fill-rule=\"evenodd\" fill-opacity=\"1\" stroke=\"#000000\" stroke-opacity=\"1\" stroke-width=\"2.4\"/>\n",
       "<circle clip-path=\"url(#clip032)\" cx=\"419.262\" cy=\"459.31\" r=\"14.4\" fill=\"#009af9\" fill-rule=\"evenodd\" fill-opacity=\"1\" stroke=\"#000000\" stroke-opacity=\"1\" stroke-width=\"2.4\"/>\n",
       "<circle clip-path=\"url(#clip032)\" cx=\"428.295\" cy=\"444.548\" r=\"14.4\" fill=\"#009af9\" fill-rule=\"evenodd\" fill-opacity=\"1\" stroke=\"#000000\" stroke-opacity=\"1\" stroke-width=\"2.4\"/>\n",
       "<circle clip-path=\"url(#clip032)\" cx=\"402.145\" cy=\"493.814\" r=\"14.4\" fill=\"#009af9\" fill-rule=\"evenodd\" fill-opacity=\"1\" stroke=\"#000000\" stroke-opacity=\"1\" stroke-width=\"2.4\"/>\n",
       "<circle clip-path=\"url(#clip032)\" cx=\"404.94\" cy=\"591.45\" r=\"14.4\" fill=\"#009af9\" fill-rule=\"evenodd\" fill-opacity=\"1\" stroke=\"#000000\" stroke-opacity=\"1\" stroke-width=\"2.4\"/>\n",
       "<circle clip-path=\"url(#clip032)\" cx=\"416.392\" cy=\"572.633\" r=\"14.4\" fill=\"#009af9\" fill-rule=\"evenodd\" fill-opacity=\"1\" stroke=\"#000000\" stroke-opacity=\"1\" stroke-width=\"2.4\"/>\n",
       "<circle clip-path=\"url(#clip032)\" cx=\"416.87\" cy=\"586.354\" r=\"14.4\" fill=\"#009af9\" fill-rule=\"evenodd\" fill-opacity=\"1\" stroke=\"#000000\" stroke-opacity=\"1\" stroke-width=\"2.4\"/>\n",
       "<circle clip-path=\"url(#clip032)\" cx=\"432.055\" cy=\"626.932\" r=\"14.4\" fill=\"#009af9\" fill-rule=\"evenodd\" fill-opacity=\"1\" stroke=\"#000000\" stroke-opacity=\"1\" stroke-width=\"2.4\"/>\n",
       "<circle clip-path=\"url(#clip032)\" cx=\"386.578\" cy=\"577.097\" r=\"14.4\" fill=\"#009af9\" fill-rule=\"evenodd\" fill-opacity=\"1\" stroke=\"#000000\" stroke-opacity=\"1\" stroke-width=\"2.4\"/>\n",
       "<circle clip-path=\"url(#clip032)\" cx=\"431.576\" cy=\"558.033\" r=\"14.4\" fill=\"#009af9\" fill-rule=\"evenodd\" fill-opacity=\"1\" stroke=\"#000000\" stroke-opacity=\"1\" stroke-width=\"2.4\"/>\n",
       "<circle clip-path=\"url(#clip032)\" cx=\"400.981\" cy=\"611.29\" r=\"14.4\" fill=\"#009af9\" fill-rule=\"evenodd\" fill-opacity=\"1\" stroke=\"#000000\" stroke-opacity=\"1\" stroke-width=\"2.4\"/>\n",
       "<circle clip-path=\"url(#clip032)\" cx=\"391.47\" cy=\"589.727\" r=\"14.4\" fill=\"#009af9\" fill-rule=\"evenodd\" fill-opacity=\"1\" stroke=\"#000000\" stroke-opacity=\"1\" stroke-width=\"2.4\"/>\n",
       "<circle clip-path=\"url(#clip032)\" cx=\"428.609\" cy=\"626.082\" r=\"14.4\" fill=\"#009af9\" fill-rule=\"evenodd\" fill-opacity=\"1\" stroke=\"#000000\" stroke-opacity=\"1\" stroke-width=\"2.4\"/>\n",
       "<circle clip-path=\"url(#clip032)\" cx=\"340.515\" cy=\"1002.98\" r=\"14.4\" fill=\"#009af9\" fill-rule=\"evenodd\" fill-opacity=\"1\" stroke=\"#000000\" stroke-opacity=\"1\" stroke-width=\"2.4\"/>\n",
       "<circle clip-path=\"url(#clip032)\" cx=\"406.359\" cy=\"756.924\" r=\"14.4\" fill=\"#009af9\" fill-rule=\"evenodd\" fill-opacity=\"1\" stroke=\"#000000\" stroke-opacity=\"1\" stroke-width=\"2.4\"/>\n",
       "<circle clip-path=\"url(#clip032)\" cx=\"448.903\" cy=\"618.981\" r=\"14.4\" fill=\"#009af9\" fill-rule=\"evenodd\" fill-opacity=\"1\" stroke=\"#000000\" stroke-opacity=\"1\" stroke-width=\"2.4\"/>\n",
       "<circle clip-path=\"url(#clip032)\" cx=\"399.843\" cy=\"726.292\" r=\"14.4\" fill=\"#009af9\" fill-rule=\"evenodd\" fill-opacity=\"1\" stroke=\"#000000\" stroke-opacity=\"1\" stroke-width=\"2.4\"/>\n",
       "<circle clip-path=\"url(#clip032)\" cx=\"442.23\" cy=\"1013.38\" r=\"14.4\" fill=\"#009af9\" fill-rule=\"evenodd\" fill-opacity=\"1\" stroke=\"#000000\" stroke-opacity=\"1\" stroke-width=\"2.4\"/>\n",
       "<circle clip-path=\"url(#clip032)\" cx=\"420.419\" cy=\"990.798\" r=\"14.4\" fill=\"#009af9\" fill-rule=\"evenodd\" fill-opacity=\"1\" stroke=\"#000000\" stroke-opacity=\"1\" stroke-width=\"2.4\"/>\n",
       "<circle clip-path=\"url(#clip032)\" cx=\"416.397\" cy=\"672.487\" r=\"14.4\" fill=\"#009af9\" fill-rule=\"evenodd\" fill-opacity=\"1\" stroke=\"#000000\" stroke-opacity=\"1\" stroke-width=\"2.4\"/>\n",
       "<circle clip-path=\"url(#clip032)\" cx=\"426.336\" cy=\"743.974\" r=\"14.4\" fill=\"#009af9\" fill-rule=\"evenodd\" fill-opacity=\"1\" stroke=\"#000000\" stroke-opacity=\"1\" stroke-width=\"2.4\"/>\n",
       "<circle clip-path=\"url(#clip032)\" cx=\"392.753\" cy=\"995.915\" r=\"14.4\" fill=\"#009af9\" fill-rule=\"evenodd\" fill-opacity=\"1\" stroke=\"#000000\" stroke-opacity=\"1\" stroke-width=\"2.4\"/>\n",
       "<circle clip-path=\"url(#clip032)\" cx=\"396.054\" cy=\"1027.53\" r=\"14.4\" fill=\"#009af9\" fill-rule=\"evenodd\" fill-opacity=\"1\" stroke=\"#000000\" stroke-opacity=\"1\" stroke-width=\"2.4\"/>\n",
       "<circle clip-path=\"url(#clip032)\" cx=\"440.345\" cy=\"765.571\" r=\"14.4\" fill=\"#009af9\" fill-rule=\"evenodd\" fill-opacity=\"1\" stroke=\"#000000\" stroke-opacity=\"1\" stroke-width=\"2.4\"/>\n",
       "<circle clip-path=\"url(#clip032)\" cx=\"474.151\" cy=\"1019.28\" r=\"14.4\" fill=\"#009af9\" fill-rule=\"evenodd\" fill-opacity=\"1\" stroke=\"#000000\" stroke-opacity=\"1\" stroke-width=\"2.4\"/>\n",
       "<circle clip-path=\"url(#clip032)\" cx=\"473.048\" cy=\"986.284\" r=\"14.4\" fill=\"#009af9\" fill-rule=\"evenodd\" fill-opacity=\"1\" stroke=\"#000000\" stroke-opacity=\"1\" stroke-width=\"2.4\"/>\n",
       "<circle clip-path=\"url(#clip032)\" cx=\"352.29\" cy=\"1044.13\" r=\"14.4\" fill=\"#009af9\" fill-rule=\"evenodd\" fill-opacity=\"1\" stroke=\"#000000\" stroke-opacity=\"1\" stroke-width=\"2.4\"/>\n",
       "<circle clip-path=\"url(#clip032)\" cx=\"629.291\" cy=\"732.733\" r=\"14.4\" fill=\"#009af9\" fill-rule=\"evenodd\" fill-opacity=\"1\" stroke=\"#000000\" stroke-opacity=\"1\" stroke-width=\"2.4\"/>\n",
       "<circle clip-path=\"url(#clip032)\" cx=\"458.297\" cy=\"1024.48\" r=\"14.4\" fill=\"#009af9\" fill-rule=\"evenodd\" fill-opacity=\"1\" stroke=\"#000000\" stroke-opacity=\"1\" stroke-width=\"2.4\"/>\n",
       "<circle clip-path=\"url(#clip032)\" cx=\"632.506\" cy=\"773.391\" r=\"14.4\" fill=\"#009af9\" fill-rule=\"evenodd\" fill-opacity=\"1\" stroke=\"#000000\" stroke-opacity=\"1\" stroke-width=\"2.4\"/>\n",
       "<circle clip-path=\"url(#clip032)\" cx=\"423.278\" cy=\"1012\" r=\"14.4\" fill=\"#009af9\" fill-rule=\"evenodd\" fill-opacity=\"1\" stroke=\"#000000\" stroke-opacity=\"1\" stroke-width=\"2.4\"/>\n",
       "<circle clip-path=\"url(#clip032)\" cx=\"590.47\" cy=\"768.174\" r=\"14.4\" fill=\"#009af9\" fill-rule=\"evenodd\" fill-opacity=\"1\" stroke=\"#000000\" stroke-opacity=\"1\" stroke-width=\"2.4\"/>\n",
       "<circle clip-path=\"url(#clip032)\" cx=\"610.364\" cy=\"764.011\" r=\"14.4\" fill=\"#009af9\" fill-rule=\"evenodd\" fill-opacity=\"1\" stroke=\"#000000\" stroke-opacity=\"1\" stroke-width=\"2.4\"/>\n",
       "<circle clip-path=\"url(#clip032)\" cx=\"619.222\" cy=\"774.626\" r=\"14.4\" fill=\"#009af9\" fill-rule=\"evenodd\" fill-opacity=\"1\" stroke=\"#000000\" stroke-opacity=\"1\" stroke-width=\"2.4\"/>\n",
       "<circle clip-path=\"url(#clip032)\" cx=\"481.771\" cy=\"1020.65\" r=\"14.4\" fill=\"#009af9\" fill-rule=\"evenodd\" fill-opacity=\"1\" stroke=\"#000000\" stroke-opacity=\"1\" stroke-width=\"2.4\"/>\n",
       "<circle clip-path=\"url(#clip032)\" cx=\"703.125\" cy=\"777.682\" r=\"14.4\" fill=\"#009af9\" fill-rule=\"evenodd\" fill-opacity=\"1\" stroke=\"#000000\" stroke-opacity=\"1\" stroke-width=\"2.4\"/>\n",
       "<circle clip-path=\"url(#clip032)\" cx=\"694.266\" cy=\"783.782\" r=\"14.4\" fill=\"#009af9\" fill-rule=\"evenodd\" fill-opacity=\"1\" stroke=\"#000000\" stroke-opacity=\"1\" stroke-width=\"2.4\"/>\n",
       "<circle clip-path=\"url(#clip032)\" cx=\"638.123\" cy=\"781.834\" r=\"14.4\" fill=\"#009af9\" fill-rule=\"evenodd\" fill-opacity=\"1\" stroke=\"#000000\" stroke-opacity=\"1\" stroke-width=\"2.4\"/>\n",
       "<circle clip-path=\"url(#clip032)\" cx=\"636.348\" cy=\"742.618\" r=\"14.4\" fill=\"#009af9\" fill-rule=\"evenodd\" fill-opacity=\"1\" stroke=\"#000000\" stroke-opacity=\"1\" stroke-width=\"2.4\"/>\n",
       "<circle clip-path=\"url(#clip032)\" cx=\"650.106\" cy=\"781.706\" r=\"14.4\" fill=\"#009af9\" fill-rule=\"evenodd\" fill-opacity=\"1\" stroke=\"#000000\" stroke-opacity=\"1\" stroke-width=\"2.4\"/>\n",
       "<circle clip-path=\"url(#clip032)\" cx=\"674.676\" cy=\"791.38\" r=\"14.4\" fill=\"#009af9\" fill-rule=\"evenodd\" fill-opacity=\"1\" stroke=\"#000000\" stroke-opacity=\"1\" stroke-width=\"2.4\"/>\n",
       "<circle clip-path=\"url(#clip032)\" cx=\"610.548\" cy=\"789.871\" r=\"14.4\" fill=\"#009af9\" fill-rule=\"evenodd\" fill-opacity=\"1\" stroke=\"#000000\" stroke-opacity=\"1\" stroke-width=\"2.4\"/>\n",
       "<circle clip-path=\"url(#clip032)\" cx=\"706.298\" cy=\"751.012\" r=\"14.4\" fill=\"#009af9\" fill-rule=\"evenodd\" fill-opacity=\"1\" stroke=\"#000000\" stroke-opacity=\"1\" stroke-width=\"2.4\"/>\n",
       "<circle clip-path=\"url(#clip032)\" cx=\"801.794\" cy=\"758.304\" r=\"14.4\" fill=\"#009af9\" fill-rule=\"evenodd\" fill-opacity=\"1\" stroke=\"#000000\" stroke-opacity=\"1\" stroke-width=\"2.4\"/>\n",
       "<circle clip-path=\"url(#clip032)\" cx=\"647.877\" cy=\"754.67\" r=\"14.4\" fill=\"#009af9\" fill-rule=\"evenodd\" fill-opacity=\"1\" stroke=\"#000000\" stroke-opacity=\"1\" stroke-width=\"2.4\"/>\n",
       "<circle clip-path=\"url(#clip032)\" cx=\"810.846\" cy=\"765.628\" r=\"14.4\" fill=\"#009af9\" fill-rule=\"evenodd\" fill-opacity=\"1\" stroke=\"#000000\" stroke-opacity=\"1\" stroke-width=\"2.4\"/>\n",
       "<circle clip-path=\"url(#clip032)\" cx=\"825.066\" cy=\"758.173\" r=\"14.4\" fill=\"#009af9\" fill-rule=\"evenodd\" fill-opacity=\"1\" stroke=\"#000000\" stroke-opacity=\"1\" stroke-width=\"2.4\"/>\n",
       "<circle clip-path=\"url(#clip032)\" cx=\"692.832\" cy=\"749.999\" r=\"14.4\" fill=\"#009af9\" fill-rule=\"evenodd\" fill-opacity=\"1\" stroke=\"#000000\" stroke-opacity=\"1\" stroke-width=\"2.4\"/>\n",
       "<circle clip-path=\"url(#clip032)\" cx=\"839.32\" cy=\"762.799\" r=\"14.4\" fill=\"#009af9\" fill-rule=\"evenodd\" fill-opacity=\"1\" stroke=\"#000000\" stroke-opacity=\"1\" stroke-width=\"2.4\"/>\n",
       "<circle clip-path=\"url(#clip032)\" cx=\"787.736\" cy=\"775.78\" r=\"14.4\" fill=\"#009af9\" fill-rule=\"evenodd\" fill-opacity=\"1\" stroke=\"#000000\" stroke-opacity=\"1\" stroke-width=\"2.4\"/>\n",
       "<circle clip-path=\"url(#clip032)\" cx=\"838.871\" cy=\"738.776\" r=\"14.4\" fill=\"#009af9\" fill-rule=\"evenodd\" fill-opacity=\"1\" stroke=\"#000000\" stroke-opacity=\"1\" stroke-width=\"2.4\"/>\n",
       "<circle clip-path=\"url(#clip032)\" cx=\"745.276\" cy=\"766.667\" r=\"14.4\" fill=\"#009af9\" fill-rule=\"evenodd\" fill-opacity=\"1\" stroke=\"#000000\" stroke-opacity=\"1\" stroke-width=\"2.4\"/>\n",
       "<circle clip-path=\"url(#clip032)\" cx=\"890.282\" cy=\"761.289\" r=\"14.4\" fill=\"#009af9\" fill-rule=\"evenodd\" fill-opacity=\"1\" stroke=\"#000000\" stroke-opacity=\"1\" stroke-width=\"2.4\"/>\n",
       "<circle clip-path=\"url(#clip032)\" cx=\"817.509\" cy=\"752.68\" r=\"14.4\" fill=\"#009af9\" fill-rule=\"evenodd\" fill-opacity=\"1\" stroke=\"#000000\" stroke-opacity=\"1\" stroke-width=\"2.4\"/>\n",
       "<circle clip-path=\"url(#clip032)\" cx=\"839.292\" cy=\"788.616\" r=\"14.4\" fill=\"#009af9\" fill-rule=\"evenodd\" fill-opacity=\"1\" stroke=\"#000000\" stroke-opacity=\"1\" stroke-width=\"2.4\"/>\n",
       "<circle clip-path=\"url(#clip032)\" cx=\"770.331\" cy=\"763.228\" r=\"14.4\" fill=\"#009af9\" fill-rule=\"evenodd\" fill-opacity=\"1\" stroke=\"#000000\" stroke-opacity=\"1\" stroke-width=\"2.4\"/>\n",
       "<circle clip-path=\"url(#clip032)\" cx=\"904.398\" cy=\"724.167\" r=\"14.4\" fill=\"#009af9\" fill-rule=\"evenodd\" fill-opacity=\"1\" stroke=\"#000000\" stroke-opacity=\"1\" stroke-width=\"2.4\"/>\n",
       "<circle clip-path=\"url(#clip032)\" cx=\"741.683\" cy=\"767.046\" r=\"14.4\" fill=\"#009af9\" fill-rule=\"evenodd\" fill-opacity=\"1\" stroke=\"#000000\" stroke-opacity=\"1\" stroke-width=\"2.4\"/>\n",
       "<circle clip-path=\"url(#clip032)\" cx=\"841.951\" cy=\"772.652\" r=\"14.4\" fill=\"#009af9\" fill-rule=\"evenodd\" fill-opacity=\"1\" stroke=\"#000000\" stroke-opacity=\"1\" stroke-width=\"2.4\"/>\n",
       "<circle clip-path=\"url(#clip032)\" cx=\"892.328\" cy=\"765.468\" r=\"14.4\" fill=\"#009af9\" fill-rule=\"evenodd\" fill-opacity=\"1\" stroke=\"#000000\" stroke-opacity=\"1\" stroke-width=\"2.4\"/>\n",
       "<circle clip-path=\"url(#clip032)\" cx=\"849.78\" cy=\"782.233\" r=\"14.4\" fill=\"#009af9\" fill-rule=\"evenodd\" fill-opacity=\"1\" stroke=\"#000000\" stroke-opacity=\"1\" stroke-width=\"2.4\"/>\n",
       "<circle clip-path=\"url(#clip032)\" cx=\"896.247\" cy=\"645.021\" r=\"14.4\" fill=\"#009af9\" fill-rule=\"evenodd\" fill-opacity=\"1\" stroke=\"#000000\" stroke-opacity=\"1\" stroke-width=\"2.4\"/>\n",
       "<circle clip-path=\"url(#clip032)\" cx=\"880.115\" cy=\"689.578\" r=\"14.4\" fill=\"#009af9\" fill-rule=\"evenodd\" fill-opacity=\"1\" stroke=\"#000000\" stroke-opacity=\"1\" stroke-width=\"2.4\"/>\n",
       "<circle clip-path=\"url(#clip032)\" cx=\"886.594\" cy=\"757.451\" r=\"14.4\" fill=\"#009af9\" fill-rule=\"evenodd\" fill-opacity=\"1\" stroke=\"#000000\" stroke-opacity=\"1\" stroke-width=\"2.4\"/>\n",
       "<circle clip-path=\"url(#clip032)\" cx=\"879.917\" cy=\"653.817\" r=\"14.4\" fill=\"#009af9\" fill-rule=\"evenodd\" fill-opacity=\"1\" stroke=\"#000000\" stroke-opacity=\"1\" stroke-width=\"2.4\"/>\n",
       "<circle clip-path=\"url(#clip032)\" cx=\"869.978\" cy=\"528.196\" r=\"14.4\" fill=\"#009af9\" fill-rule=\"evenodd\" fill-opacity=\"1\" stroke=\"#000000\" stroke-opacity=\"1\" stroke-width=\"2.4\"/>\n",
       "<circle clip-path=\"url(#clip032)\" cx=\"912.91\" cy=\"619.672\" r=\"14.4\" fill=\"#009af9\" fill-rule=\"evenodd\" fill-opacity=\"1\" stroke=\"#000000\" stroke-opacity=\"1\" stroke-width=\"2.4\"/>\n",
       "<circle clip-path=\"url(#clip032)\" cx=\"888.314\" cy=\"765.618\" r=\"14.4\" fill=\"#009af9\" fill-rule=\"evenodd\" fill-opacity=\"1\" stroke=\"#000000\" stroke-opacity=\"1\" stroke-width=\"2.4\"/>\n",
       "<circle clip-path=\"url(#clip032)\" cx=\"904.5\" cy=\"521.7\" r=\"14.4\" fill=\"#009af9\" fill-rule=\"evenodd\" fill-opacity=\"1\" stroke=\"#000000\" stroke-opacity=\"1\" stroke-width=\"2.4\"/>\n",
       "<circle clip-path=\"url(#clip032)\" cx=\"896.516\" cy=\"583.992\" r=\"14.4\" fill=\"#009af9\" fill-rule=\"evenodd\" fill-opacity=\"1\" stroke=\"#000000\" stroke-opacity=\"1\" stroke-width=\"2.4\"/>\n",
       "<circle clip-path=\"url(#clip032)\" cx=\"909.941\" cy=\"555.543\" r=\"14.4\" fill=\"#009af9\" fill-rule=\"evenodd\" fill-opacity=\"1\" stroke=\"#000000\" stroke-opacity=\"1\" stroke-width=\"2.4\"/>\n",
       "<circle clip-path=\"url(#clip032)\" cx=\"913.938\" cy=\"592.12\" r=\"14.4\" fill=\"#009af9\" fill-rule=\"evenodd\" fill-opacity=\"1\" stroke=\"#000000\" stroke-opacity=\"1\" stroke-width=\"2.4\"/>\n",
       "<circle clip-path=\"url(#clip032)\" cx=\"900.094\" cy=\"490.551\" r=\"14.4\" fill=\"#009af9\" fill-rule=\"evenodd\" fill-opacity=\"1\" stroke=\"#000000\" stroke-opacity=\"1\" stroke-width=\"2.4\"/>\n",
       "<circle clip-path=\"url(#clip032)\" cx=\"891.492\" cy=\"618.149\" r=\"14.4\" fill=\"#009af9\" fill-rule=\"evenodd\" fill-opacity=\"1\" stroke=\"#000000\" stroke-opacity=\"1\" stroke-width=\"2.4\"/>\n",
       "<circle clip-path=\"url(#clip032)\" cx=\"917.015\" cy=\"573.948\" r=\"14.4\" fill=\"#009af9\" fill-rule=\"evenodd\" fill-opacity=\"1\" stroke=\"#000000\" stroke-opacity=\"1\" stroke-width=\"2.4\"/>\n",
       "<circle clip-path=\"url(#clip032)\" cx=\"900.191\" cy=\"525.087\" r=\"14.4\" fill=\"#009af9\" fill-rule=\"evenodd\" fill-opacity=\"1\" stroke=\"#000000\" stroke-opacity=\"1\" stroke-width=\"2.4\"/>\n",
       "<circle clip-path=\"url(#clip032)\" cx=\"893.728\" cy=\"494.578\" r=\"14.4\" fill=\"#009af9\" fill-rule=\"evenodd\" fill-opacity=\"1\" stroke=\"#000000\" stroke-opacity=\"1\" stroke-width=\"2.4\"/>\n",
       "<circle clip-path=\"url(#clip032)\" cx=\"888.247\" cy=\"590.929\" r=\"14.4\" fill=\"#009af9\" fill-rule=\"evenodd\" fill-opacity=\"1\" stroke=\"#000000\" stroke-opacity=\"1\" stroke-width=\"2.4\"/>\n",
       "<circle clip-path=\"url(#clip032)\" cx=\"880.523\" cy=\"477.567\" r=\"14.4\" fill=\"#009af9\" fill-rule=\"evenodd\" fill-opacity=\"1\" stroke=\"#000000\" stroke-opacity=\"1\" stroke-width=\"2.4\"/>\n",
       "<circle clip-path=\"url(#clip032)\" cx=\"907.921\" cy=\"418.752\" r=\"14.4\" fill=\"#009af9\" fill-rule=\"evenodd\" fill-opacity=\"1\" stroke=\"#000000\" stroke-opacity=\"1\" stroke-width=\"2.4\"/>\n",
       "<circle clip-path=\"url(#clip032)\" cx=\"914.73\" cy=\"569.924\" r=\"14.4\" fill=\"#009af9\" fill-rule=\"evenodd\" fill-opacity=\"1\" stroke=\"#000000\" stroke-opacity=\"1\" stroke-width=\"2.4\"/>\n",
       "<circle clip-path=\"url(#clip032)\" cx=\"864.812\" cy=\"385.727\" r=\"14.4\" fill=\"#009af9\" fill-rule=\"evenodd\" fill-opacity=\"1\" stroke=\"#000000\" stroke-opacity=\"1\" stroke-width=\"2.4\"/>\n",
       "<circle clip-path=\"url(#clip032)\" cx=\"918.908\" cy=\"500.946\" r=\"14.4\" fill=\"#009af9\" fill-rule=\"evenodd\" fill-opacity=\"1\" stroke=\"#000000\" stroke-opacity=\"1\" stroke-width=\"2.4\"/>\n",
       "<circle clip-path=\"url(#clip032)\" cx=\"895.798\" cy=\"386.56\" r=\"14.4\" fill=\"#009af9\" fill-rule=\"evenodd\" fill-opacity=\"1\" stroke=\"#000000\" stroke-opacity=\"1\" stroke-width=\"2.4\"/>\n",
       "<circle clip-path=\"url(#clip032)\" cx=\"912.601\" cy=\"483.219\" r=\"14.4\" fill=\"#009af9\" fill-rule=\"evenodd\" fill-opacity=\"1\" stroke=\"#000000\" stroke-opacity=\"1\" stroke-width=\"2.4\"/>\n",
       "<circle clip-path=\"url(#clip032)\" cx=\"880.895\" cy=\"379.657\" r=\"14.4\" fill=\"#009af9\" fill-rule=\"evenodd\" fill-opacity=\"1\" stroke=\"#000000\" stroke-opacity=\"1\" stroke-width=\"2.4\"/>\n",
       "<circle clip-path=\"url(#clip032)\" cx=\"920.711\" cy=\"381.649\" r=\"14.4\" fill=\"#009af9\" fill-rule=\"evenodd\" fill-opacity=\"1\" stroke=\"#000000\" stroke-opacity=\"1\" stroke-width=\"2.4\"/>\n",
       "<circle clip-path=\"url(#clip032)\" cx=\"883.345\" cy=\"419.058\" r=\"14.4\" fill=\"#009af9\" fill-rule=\"evenodd\" fill-opacity=\"1\" stroke=\"#000000\" stroke-opacity=\"1\" stroke-width=\"2.4\"/>\n",
       "<circle clip-path=\"url(#clip032)\" cx=\"875.895\" cy=\"376.658\" r=\"14.4\" fill=\"#009af9\" fill-rule=\"evenodd\" fill-opacity=\"1\" stroke=\"#000000\" stroke-opacity=\"1\" stroke-width=\"2.4\"/>\n",
       "<circle clip-path=\"url(#clip032)\" cx=\"880.962\" cy=\"365.694\" r=\"14.4\" fill=\"#009af9\" fill-rule=\"evenodd\" fill-opacity=\"1\" stroke=\"#000000\" stroke-opacity=\"1\" stroke-width=\"2.4\"/>\n",
       "<circle clip-path=\"url(#clip032)\" cx=\"870.4\" cy=\"376.897\" r=\"14.4\" fill=\"#009af9\" fill-rule=\"evenodd\" fill-opacity=\"1\" stroke=\"#000000\" stroke-opacity=\"1\" stroke-width=\"2.4\"/>\n",
       "<circle clip-path=\"url(#clip032)\" cx=\"879.457\" cy=\"325.198\" r=\"14.4\" fill=\"#009af9\" fill-rule=\"evenodd\" fill-opacity=\"1\" stroke=\"#000000\" stroke-opacity=\"1\" stroke-width=\"2.4\"/>\n",
       "<circle clip-path=\"url(#clip032)\" cx=\"907.798\" cy=\"343.901\" r=\"14.4\" fill=\"#009af9\" fill-rule=\"evenodd\" fill-opacity=\"1\" stroke=\"#000000\" stroke-opacity=\"1\" stroke-width=\"2.4\"/>\n",
       "<circle clip-path=\"url(#clip032)\" cx=\"886.841\" cy=\"335.308\" r=\"14.4\" fill=\"#009af9\" fill-rule=\"evenodd\" fill-opacity=\"1\" stroke=\"#000000\" stroke-opacity=\"1\" stroke-width=\"2.4\"/>\n",
       "<circle clip-path=\"url(#clip032)\" cx=\"885.113\" cy=\"405.149\" r=\"14.4\" fill=\"#009af9\" fill-rule=\"evenodd\" fill-opacity=\"1\" stroke=\"#000000\" stroke-opacity=\"1\" stroke-width=\"2.4\"/>\n",
       "<circle clip-path=\"url(#clip032)\" cx=\"920.436\" cy=\"376.681\" r=\"14.4\" fill=\"#009af9\" fill-rule=\"evenodd\" fill-opacity=\"1\" stroke=\"#000000\" stroke-opacity=\"1\" stroke-width=\"2.4\"/>\n",
       "<circle clip-path=\"url(#clip032)\" cx=\"901.883\" cy=\"333.774\" r=\"14.4\" fill=\"#009af9\" fill-rule=\"evenodd\" fill-opacity=\"1\" stroke=\"#000000\" stroke-opacity=\"1\" stroke-width=\"2.4\"/>\n",
       "<circle clip-path=\"url(#clip032)\" cx=\"908.347\" cy=\"358.866\" r=\"14.4\" fill=\"#009af9\" fill-rule=\"evenodd\" fill-opacity=\"1\" stroke=\"#000000\" stroke-opacity=\"1\" stroke-width=\"2.4\"/>\n",
       "<circle clip-path=\"url(#clip032)\" cx=\"878.931\" cy=\"330.002\" r=\"14.4\" fill=\"#009af9\" fill-rule=\"evenodd\" fill-opacity=\"1\" stroke=\"#000000\" stroke-opacity=\"1\" stroke-width=\"2.4\"/>\n",
       "<circle clip-path=\"url(#clip032)\" cx=\"892.516\" cy=\"357.974\" r=\"14.4\" fill=\"#009af9\" fill-rule=\"evenodd\" fill-opacity=\"1\" stroke=\"#000000\" stroke-opacity=\"1\" stroke-width=\"2.4\"/>\n",
       "<circle clip-path=\"url(#clip032)\" cx=\"905.561\" cy=\"366.633\" r=\"14.4\" fill=\"#009af9\" fill-rule=\"evenodd\" fill-opacity=\"1\" stroke=\"#000000\" stroke-opacity=\"1\" stroke-width=\"2.4\"/>\n",
       "<circle clip-path=\"url(#clip032)\" cx=\"895.373\" cy=\"323.322\" r=\"14.4\" fill=\"#009af9\" fill-rule=\"evenodd\" fill-opacity=\"1\" stroke=\"#000000\" stroke-opacity=\"1\" stroke-width=\"2.4\"/>\n",
       "<circle clip-path=\"url(#clip032)\" cx=\"895.954\" cy=\"367.914\" r=\"14.4\" fill=\"#009af9\" fill-rule=\"evenodd\" fill-opacity=\"1\" stroke=\"#000000\" stroke-opacity=\"1\" stroke-width=\"2.4\"/>\n",
       "<circle clip-path=\"url(#clip032)\" cx=\"894.695\" cy=\"322.481\" r=\"14.4\" fill=\"#009af9\" fill-rule=\"evenodd\" fill-opacity=\"1\" stroke=\"#000000\" stroke-opacity=\"1\" stroke-width=\"2.4\"/>\n",
       "<circle clip-path=\"url(#clip032)\" cx=\"889.66\" cy=\"326.246\" r=\"14.4\" fill=\"#009af9\" fill-rule=\"evenodd\" fill-opacity=\"1\" stroke=\"#000000\" stroke-opacity=\"1\" stroke-width=\"2.4\"/>\n",
       "<circle clip-path=\"url(#clip032)\" cx=\"900.953\" cy=\"353.313\" r=\"14.4\" fill=\"#009af9\" fill-rule=\"evenodd\" fill-opacity=\"1\" stroke=\"#000000\" stroke-opacity=\"1\" stroke-width=\"2.4\"/>\n",
       "<circle clip-path=\"url(#clip032)\" cx=\"885.738\" cy=\"354.554\" r=\"14.4\" fill=\"#009af9\" fill-rule=\"evenodd\" fill-opacity=\"1\" stroke=\"#000000\" stroke-opacity=\"1\" stroke-width=\"2.4\"/>\n",
       "<circle clip-path=\"url(#clip032)\" cx=\"916.871\" cy=\"324.725\" r=\"14.4\" fill=\"#009af9\" fill-rule=\"evenodd\" fill-opacity=\"1\" stroke=\"#000000\" stroke-opacity=\"1\" stroke-width=\"2.4\"/>\n",
       "<circle clip-path=\"url(#clip032)\" cx=\"895.954\" cy=\"326.987\" r=\"14.4\" fill=\"#009af9\" fill-rule=\"evenodd\" fill-opacity=\"1\" stroke=\"#000000\" stroke-opacity=\"1\" stroke-width=\"2.4\"/>\n",
       "<circle clip-path=\"url(#clip032)\" cx=\"916.802\" cy=\"360.987\" r=\"14.4\" fill=\"#009af9\" fill-rule=\"evenodd\" fill-opacity=\"1\" stroke=\"#000000\" stroke-opacity=\"1\" stroke-width=\"2.4\"/>\n",
       "<circle clip-path=\"url(#clip032)\" cx=\"909.235\" cy=\"306.386\" r=\"14.4\" fill=\"#009af9\" fill-rule=\"evenodd\" fill-opacity=\"1\" stroke=\"#000000\" stroke-opacity=\"1\" stroke-width=\"2.4\"/>\n",
       "<circle clip-path=\"url(#clip032)\" cx=\"916.67\" cy=\"308.468\" r=\"14.4\" fill=\"#009af9\" fill-rule=\"evenodd\" fill-opacity=\"1\" stroke=\"#000000\" stroke-opacity=\"1\" stroke-width=\"2.4\"/>\n",
       "<circle clip-path=\"url(#clip032)\" cx=\"872.436\" cy=\"332.356\" r=\"14.4\" fill=\"#009af9\" fill-rule=\"evenodd\" fill-opacity=\"1\" stroke=\"#000000\" stroke-opacity=\"1\" stroke-width=\"2.4\"/>\n",
       "<circle clip-path=\"url(#clip032)\" cx=\"911.677\" cy=\"316.756\" r=\"14.4\" fill=\"#009af9\" fill-rule=\"evenodd\" fill-opacity=\"1\" stroke=\"#000000\" stroke-opacity=\"1\" stroke-width=\"2.4\"/>\n",
       "<circle clip-path=\"url(#clip032)\" cx=\"924.734\" cy=\"287.829\" r=\"14.4\" fill=\"#009af9\" fill-rule=\"evenodd\" fill-opacity=\"1\" stroke=\"#000000\" stroke-opacity=\"1\" stroke-width=\"2.4\"/>\n",
       "<circle clip-path=\"url(#clip032)\" cx=\"915.961\" cy=\"318.021\" r=\"14.4\" fill=\"#009af9\" fill-rule=\"evenodd\" fill-opacity=\"1\" stroke=\"#000000\" stroke-opacity=\"1\" stroke-width=\"2.4\"/>\n",
       "<circle clip-path=\"url(#clip032)\" cx=\"917.38\" cy=\"335.223\" r=\"14.4\" fill=\"#009af9\" fill-rule=\"evenodd\" fill-opacity=\"1\" stroke=\"#000000\" stroke-opacity=\"1\" stroke-width=\"2.4\"/>\n",
       "<circle clip-path=\"url(#clip032)\" cx=\"908.103\" cy=\"310.278\" r=\"14.4\" fill=\"#009af9\" fill-rule=\"evenodd\" fill-opacity=\"1\" stroke=\"#000000\" stroke-opacity=\"1\" stroke-width=\"2.4\"/>\n",
       "<circle clip-path=\"url(#clip032)\" cx=\"857.036\" cy=\"268.113\" r=\"14.4\" fill=\"#009af9\" fill-rule=\"evenodd\" fill-opacity=\"1\" stroke=\"#000000\" stroke-opacity=\"1\" stroke-width=\"2.4\"/>\n",
       "<circle clip-path=\"url(#clip032)\" cx=\"897.386\" cy=\"299.641\" r=\"14.4\" fill=\"#009af9\" fill-rule=\"evenodd\" fill-opacity=\"1\" stroke=\"#000000\" stroke-opacity=\"1\" stroke-width=\"2.4\"/>\n",
       "<circle clip-path=\"url(#clip032)\" cx=\"877.581\" cy=\"274.523\" r=\"14.4\" fill=\"#009af9\" fill-rule=\"evenodd\" fill-opacity=\"1\" stroke=\"#000000\" stroke-opacity=\"1\" stroke-width=\"2.4\"/>\n",
       "<circle clip-path=\"url(#clip032)\" cx=\"887.075\" cy=\"284.979\" r=\"14.4\" fill=\"#009af9\" fill-rule=\"evenodd\" fill-opacity=\"1\" stroke=\"#000000\" stroke-opacity=\"1\" stroke-width=\"2.4\"/>\n",
       "<circle clip-path=\"url(#clip032)\" cx=\"903.028\" cy=\"207.634\" r=\"14.4\" fill=\"#009af9\" fill-rule=\"evenodd\" fill-opacity=\"1\" stroke=\"#000000\" stroke-opacity=\"1\" stroke-width=\"2.4\"/>\n",
       "<circle clip-path=\"url(#clip032)\" cx=\"910.917\" cy=\"285.196\" r=\"14.4\" fill=\"#009af9\" fill-rule=\"evenodd\" fill-opacity=\"1\" stroke=\"#000000\" stroke-opacity=\"1\" stroke-width=\"2.4\"/>\n",
       "<circle clip-path=\"url(#clip032)\" cx=\"880.659\" cy=\"255.527\" r=\"14.4\" fill=\"#009af9\" fill-rule=\"evenodd\" fill-opacity=\"1\" stroke=\"#000000\" stroke-opacity=\"1\" stroke-width=\"2.4\"/>\n",
       "<circle clip-path=\"url(#clip032)\" cx=\"906.309\" cy=\"281.874\" r=\"14.4\" fill=\"#009af9\" fill-rule=\"evenodd\" fill-opacity=\"1\" stroke=\"#000000\" stroke-opacity=\"1\" stroke-width=\"2.4\"/>\n",
       "<circle clip-path=\"url(#clip032)\" cx=\"881.375\" cy=\"261.422\" r=\"14.4\" fill=\"#009af9\" fill-rule=\"evenodd\" fill-opacity=\"1\" stroke=\"#000000\" stroke-opacity=\"1\" stroke-width=\"2.4\"/>\n",
       "<circle clip-path=\"url(#clip032)\" cx=\"881.186\" cy=\"274.095\" r=\"14.4\" fill=\"#009af9\" fill-rule=\"evenodd\" fill-opacity=\"1\" stroke=\"#000000\" stroke-opacity=\"1\" stroke-width=\"2.4\"/>\n",
       "<circle clip-path=\"url(#clip032)\" cx=\"891.276\" cy=\"270.751\" r=\"14.4\" fill=\"#009af9\" fill-rule=\"evenodd\" fill-opacity=\"1\" stroke=\"#000000\" stroke-opacity=\"1\" stroke-width=\"2.4\"/>\n",
       "<circle clip-path=\"url(#clip032)\" cx=\"885.894\" cy=\"237.474\" r=\"14.4\" fill=\"#009af9\" fill-rule=\"evenodd\" fill-opacity=\"1\" stroke=\"#000000\" stroke-opacity=\"1\" stroke-width=\"2.4\"/>\n",
       "<circle clip-path=\"url(#clip032)\" cx=\"913.718\" cy=\"260.907\" r=\"14.4\" fill=\"#009af9\" fill-rule=\"evenodd\" fill-opacity=\"1\" stroke=\"#000000\" stroke-opacity=\"1\" stroke-width=\"2.4\"/>\n",
       "<circle clip-path=\"url(#clip032)\" cx=\"890.663\" cy=\"266.269\" r=\"14.4\" fill=\"#009af9\" fill-rule=\"evenodd\" fill-opacity=\"1\" stroke=\"#000000\" stroke-opacity=\"1\" stroke-width=\"2.4\"/>\n",
       "<circle clip-path=\"url(#clip032)\" cx=\"939.687\" cy=\"243.395\" r=\"14.4\" fill=\"#009af9\" fill-rule=\"evenodd\" fill-opacity=\"1\" stroke=\"#000000\" stroke-opacity=\"1\" stroke-width=\"2.4\"/>\n",
       "<circle clip-path=\"url(#clip032)\" cx=\"878.568\" cy=\"263.861\" r=\"14.4\" fill=\"#009af9\" fill-rule=\"evenodd\" fill-opacity=\"1\" stroke=\"#000000\" stroke-opacity=\"1\" stroke-width=\"2.4\"/>\n",
       "<circle clip-path=\"url(#clip032)\" cx=\"885.257\" cy=\"247.491\" r=\"14.4\" fill=\"#009af9\" fill-rule=\"evenodd\" fill-opacity=\"1\" stroke=\"#000000\" stroke-opacity=\"1\" stroke-width=\"2.4\"/>\n",
       "<circle clip-path=\"url(#clip032)\" cx=\"874.452\" cy=\"251.46\" r=\"14.4\" fill=\"#009af9\" fill-rule=\"evenodd\" fill-opacity=\"1\" stroke=\"#000000\" stroke-opacity=\"1\" stroke-width=\"2.4\"/>\n",
       "<circle clip-path=\"url(#clip032)\" cx=\"894.127\" cy=\"245.689\" r=\"14.4\" fill=\"#009af9\" fill-rule=\"evenodd\" fill-opacity=\"1\" stroke=\"#000000\" stroke-opacity=\"1\" stroke-width=\"2.4\"/>\n",
       "<circle clip-path=\"url(#clip032)\" cx=\"889.623\" cy=\"247.951\" r=\"14.4\" fill=\"#009af9\" fill-rule=\"evenodd\" fill-opacity=\"1\" stroke=\"#000000\" stroke-opacity=\"1\" stroke-width=\"2.4\"/>\n",
       "<circle clip-path=\"url(#clip032)\" cx=\"886.054\" cy=\"247.675\" r=\"14.4\" fill=\"#009af9\" fill-rule=\"evenodd\" fill-opacity=\"1\" stroke=\"#000000\" stroke-opacity=\"1\" stroke-width=\"2.4\"/>\n",
       "<circle clip-path=\"url(#clip032)\" cx=\"923.595\" cy=\"249.151\" r=\"14.4\" fill=\"#009af9\" fill-rule=\"evenodd\" fill-opacity=\"1\" stroke=\"#000000\" stroke-opacity=\"1\" stroke-width=\"2.4\"/>\n",
       "<circle clip-path=\"url(#clip032)\" cx=\"887.309\" cy=\"279.177\" r=\"14.4\" fill=\"#009af9\" fill-rule=\"evenodd\" fill-opacity=\"1\" stroke=\"#000000\" stroke-opacity=\"1\" stroke-width=\"2.4\"/>\n",
       "<circle clip-path=\"url(#clip032)\" cx=\"909.798\" cy=\"224.97\" r=\"14.4\" fill=\"#009af9\" fill-rule=\"evenodd\" fill-opacity=\"1\" stroke=\"#000000\" stroke-opacity=\"1\" stroke-width=\"2.4\"/>\n",
       "<circle clip-path=\"url(#clip032)\" cx=\"898.664\" cy=\"256.607\" r=\"14.4\" fill=\"#009af9\" fill-rule=\"evenodd\" fill-opacity=\"1\" stroke=\"#000000\" stroke-opacity=\"1\" stroke-width=\"2.4\"/>\n",
       "<circle clip-path=\"url(#clip032)\" cx=\"868.158\" cy=\"215.897\" r=\"14.4\" fill=\"#009af9\" fill-rule=\"evenodd\" fill-opacity=\"1\" stroke=\"#000000\" stroke-opacity=\"1\" stroke-width=\"2.4\"/>\n",
       "<path clip-path=\"url(#clip030)\" d=\"M161.623 185.122 L316.584 185.122 L316.584 81.4416 L161.623 81.4416  Z\" fill=\"#ffffff\" fill-rule=\"evenodd\" fill-opacity=\"1\"/>\n",
       "<polyline clip-path=\"url(#clip030)\" style=\"stroke:#000000; stroke-linecap:round; stroke-linejoin:round; stroke-width:4; stroke-opacity:1; fill:none\" points=\"161.623,185.122 316.584,185.122 316.584,81.4416 161.623,81.4416 161.623,185.122 \"/>\n",
       "<circle clip-path=\"url(#clip030)\" cx=\"207.192\" cy=\"133.282\" r=\"23.04\" fill=\"#009af9\" fill-rule=\"evenodd\" fill-opacity=\"1\" stroke=\"#000000\" stroke-opacity=\"1\" stroke-width=\"3.84\"/>\n",
       "<path clip-path=\"url(#clip030)\" d=\"M266.604 152.969 Q264.798 157.599 263.085 159.011 Q261.372 160.423 258.502 160.423 L255.099 160.423 L255.099 156.858 L257.599 156.858 Q259.358 156.858 260.331 156.024 Q261.303 155.191 262.483 152.089 L263.247 150.145 L252.761 124.636 L257.275 124.636 L265.377 144.913 L273.479 124.636 L277.993 124.636 L266.604 152.969 Z\" fill=\"#000000\" fill-rule=\"evenodd\" fill-opacity=\"1\" /><path clip-path=\"url(#clip030)\" d=\"M285.284 146.626 L292.923 146.626 L292.923 120.261 L284.613 121.927 L284.613 117.668 L292.877 116.002 L297.553 116.002 L297.553 146.626 L305.192 146.626 L305.192 150.562 L285.284 150.562 L285.284 146.626 Z\" fill=\"#000000\" fill-rule=\"evenodd\" fill-opacity=\"1\" /></svg>\n"
      ]
     },
     "execution_count": 172,
     "metadata": {},
     "output_type": "execute_result"
    }
   ],
   "source": [
    "p = _ps[1]\n",
    "w = 10\n",
    "s_noise=0.1\n",
    "dropout=0.1\n",
    "x = sensor_model_GPU(p, w, s_noise, dropout);\n",
    "plot(size=(300,300), aspect_ratio=:equal)\n",
    "scatter!(x.*p)"
   ]
  },
  {
   "cell_type": "markdown",
   "id": "4d675c2c",
   "metadata": {},
   "source": [
    "### static model"
   ]
  },
  {
   "cell_type": "code",
   "execution_count": 173,
   "id": "a4d7304e",
   "metadata": {},
   "outputs": [],
   "source": [
    "#nbx\n",
    "@gen function slam_kernel(t, state, us, x_noise, hd_noise, w, s_noise, dropout)\n",
    "    \n",
    "        p,_ = state\n",
    "        u = us[t]\n",
    "    \n",
    "        p  = {:pose}   ~ motion_model(p, u, x_noise, hd_noise)\n",
    "        x  = {:sensor} ~ sensor_model_GPU(p, w, s_noise, dropout) # GPU accelerated\n",
    "        \n",
    "    return (p, x)\n",
    "end\n",
    "\n",
    "slam_chain = Gen.Unfold(slam_kernel)\n",
    "Gen.@load_generated_functions"
   ]
  },
  {
   "cell_type": "code",
   "execution_count": 174,
   "id": "f77f181f",
   "metadata": {},
   "outputs": [],
   "source": [
    "#nbx\n",
    "\"\"\"\n",
    "    [(p,z),...] = static_slam_model(T, segs_, a_, us, motion_noise, sensor_noise, dropout, inds)\n",
    "\n",
    "Static SLAM model ...\n",
    "\"\"\"\n",
    "@gen (static) function static_slam_model(T, us, \n",
    "        p0, x0_noise, hd0_noise,  \n",
    "        x_noise, hd_noise, \n",
    "        w, s_noise, dropout)\n",
    "    \n",
    "    # Start the Markov chain; \n",
    "    # No motion, just the prior\n",
    "    p  = { :pose   } ~ pose_prior_model(p0, x0_noise, hd0_noise)\n",
    "    x  = { :sensor } ~ sensor_model_GPU(p, w, s_noise, dropout) # GPU accelerated\n",
    "    \n",
    "    # Unfold the MArkov chain\n",
    "    chain ~ slam_chain(T, (p, nothing), us, \n",
    "        x_noise, hd_noise, \n",
    "        w, s_noise, dropout)\n",
    "    \n",
    "    return [(p,x);chain]\n",
    "end\n",
    "\n",
    "Gen.@load_generated_functions"
   ]
  },
  {
   "cell_type": "code",
   "execution_count": 175,
   "id": "bf9e3ac7",
   "metadata": {},
   "outputs": [
    {
     "data": {
      "text/plain": [
       "get_first_x (generic function with 1 method)"
      ]
     },
     "execution_count": 175,
     "metadata": {},
     "output_type": "execute_result"
    }
   ],
   "source": [
    "get_pose(tr,t) = tr[][t][1]\n",
    "get_last_pose(tr) = tr[][end][1]\n",
    "get_first_pose(tr) = get_pose(tr,1)\n",
    "\n",
    "get_x(tr,t) = tr[][t][2]\n",
    "get_first_x(tr) = get_x(tr,1)"
   ]
  },
  {
   "cell_type": "markdown",
   "id": "cce71dc0",
   "metadata": {},
   "source": [
    "### extend"
   ]
  },
  {
   "cell_type": "code",
   "execution_count": 648,
   "id": "f1a551d0",
   "metadata": {},
   "outputs": [
    {
     "data": {
      "text/plain": [
       "extend (generic function with 2 methods)"
      ]
     },
     "execution_count": 648,
     "metadata": {},
     "output_type": "execute_result"
    }
   ],
   "source": [
    "function extend(tr, obs, grid_args)\n",
    "    args = get_args(tr)\n",
    "    t = args[1]\n",
    "    diffs = argdiffs([1;fill(0,length(args))])\n",
    "    \n",
    "    x = stack(obs[:chain => t+1 => :sensor => :x])\n",
    "    \n",
    "    p = get_last_pose(tr)\n",
    "    proposal_tr = simulate(iterated_proposal, (p, x, grid_args...));\n",
    "    sc = get_score(proposal_tr)\n",
    "    p′, = proposal_tr[];\n",
    "    \n",
    "    \n",
    "    ch = choicemap()\n",
    "    ch[:chain => t+1 => :pose => :x]  = p′.x\n",
    "    ch[:chain => t+1 => :pose => :hd]  = p′.hd\n",
    "        \n",
    "    tr′,w′,_,_ = Gen.update(tr,(t+1,args[2:end]...),diffs,merge(obs,ch))\n",
    "    \n",
    "    return tr′, w′ - sc\n",
    "    \n",
    "end"
   ]
  },
  {
   "cell_type": "code",
   "execution_count": 649,
   "id": "822f5c1b",
   "metadata": {},
   "outputs": [
    {
     "data": {
      "text/plain": [
       "constraints (generic function with 1 method)"
      ]
     },
     "execution_count": 649,
     "metadata": {},
     "output_type": "execute_result"
    }
   ],
   "source": [
    "function constraints(t::Int)\n",
    "    ch = choicemap()\n",
    "    if t==0\n",
    "        addr  = :sensor => :x\n",
    "    else\n",
    "        addr  = :chain => t => :sensor => :x\n",
    "    end\n",
    "    n = length(_zs[t+1])\n",
    "    x = polar_inv(_zs[t+1],_as)\n",
    "    ch[addr] = x\n",
    "    return ch\n",
    "end"
   ]
  },
  {
   "cell_type": "code",
   "execution_count": 650,
   "id": "a5dde131",
   "metadata": {},
   "outputs": [
    {
     "name": "stdout",
     "output_type": "stream",
     "text": [
      "  0.001814 seconds (1.25 k allocations: 76.594 KiB)\n"
     ]
    }
   ],
   "source": [
    "T = 0\n",
    "\n",
    "p0 = _ps[1]\n",
    "x0_noise = .0001\n",
    "hd0_noise = .00001\n",
    "\n",
    "x_noise = 0.1\n",
    "hd_noise = 10.\n",
    "\n",
    "wind = 30\n",
    "s_noise = 0.2\n",
    "dropout = 1e-6\n",
    "\n",
    "ch = constraints(0)\n",
    "\n",
    "args = (_us,         \n",
    "    p0, x0_noise, hd0_noise, # Pose prior model\n",
    "    x_noise, hd_noise,       # Motion model\n",
    "    wind, s_noise, dropout      # Sensor model\n",
    ")\n",
    "\n",
    "@time tr, w = generate(static_slam_model, (T,args...), ch);"
   ]
  },
  {
   "cell_type": "code",
   "execution_count": 651,
   "id": "a707c639",
   "metadata": {},
   "outputs": [],
   "source": [
    "for T=1:10\n",
    "\n",
    "    x   = stack(polar_inv(_zs[T+1],_as))\n",
    "\n",
    "    n = 5\n",
    "    w   = fill(60, n)\n",
    "    sig = fill(0.2,n)\n",
    "    dropout = fill(1e-9,n)\n",
    "\n",
    "    grid_k   = [4, 4, 4, 4, 4]\n",
    "    grid_dx  = [1., 0.4, 0.125, 0.125, 0.125]\n",
    "    grid_dhd = [90.0, 45, 22.5, 10, 10]\n",
    "\n",
    "    grid_args = (w, sig, dropout, grid_k, grid_dx, grid_dhd)\n",
    "\n",
    "\n",
    "    ch = constraints(T)\n",
    "\n",
    "    tr, dw = extend(tr, ch, grid_args);\n",
    "end"
   ]
  },
  {
   "cell_type": "code",
   "execution_count": 431,
   "id": "0195160f",
   "metadata": {},
   "outputs": [],
   "source": [
    "p0 = _ps[1]\n",
    "x0_noise = .0001\n",
    "hd0_noise = .00001\n",
    "\n",
    "x_noise  = 0.5\n",
    "hd_noise = 20.\n",
    "\n",
    "wind = 30\n",
    "s_noise = 0.2\n",
    "dropout = 1e-6\n",
    "\n",
    "args = (_us,         \n",
    "    p0, x0_noise, hd0_noise, # Pose prior model\n",
    "    x_noise, hd_noise,       # Motion model\n",
    "    wind, s_noise, dropout   # Sensor model\n",
    ");"
   ]
  },
  {
   "cell_type": "markdown",
   "id": "059384e3",
   "metadata": {},
   "source": [
    "### Simple posterior"
   ]
  },
  {
   "cell_type": "code",
   "execution_count": 652,
   "id": "246eff5a",
   "metadata": {},
   "outputs": [
    {
     "data": {
      "text/plain": [
       "naive_posterior (generic function with 2 methods)"
      ]
     },
     "execution_count": 652,
     "metadata": {},
     "output_type": "execute_result"
    }
   ],
   "source": [
    "function naive_posterior(T, N, args)\n",
    "\n",
    "    ch = choicemap()\n",
    "    for t=0:T\n",
    "        ch = merge(ch, constraints(t))\n",
    "    end\n",
    "    trs, ws, = importance_sampling(static_slam_model, (T,args...), ch, N);\n",
    "    \n",
    "    probs = exp.(ws .- logsumexp_cu(ws, 1))\n",
    "    i = categorical(probs)\n",
    "    tr = trs[i]\n",
    "    w  = ws[i]\n",
    "    \n",
    "    tr, w\n",
    "end"
   ]
  },
  {
   "cell_type": "code",
   "execution_count": 653,
   "id": "3543995f",
   "metadata": {},
   "outputs": [
    {
     "data": {
      "text/plain": [
       "simple_posterior (generic function with 2 methods)"
      ]
     },
     "execution_count": 653,
     "metadata": {},
     "output_type": "execute_result"
    }
   ],
   "source": [
    "function simple_posterior(T, N, args)\n",
    "    ch = constraints(0)\n",
    "    tr, w = generate(static_slam_model, (0,args...), ch);\n",
    "    \n",
    "    diffs = argdiffs([1;fill(0,length(args))])\n",
    "    for t=1:T\n",
    "        ch = constraints(t)        \n",
    "        trs = []\n",
    "        ws  = []\n",
    "        for i=1:N\n",
    "            tr_, w_, _, _ = Gen.update(tr, (t,args...), diffs, ch); \n",
    "            push!(trs, tr_)\n",
    "            push!(ws, w + w_)\n",
    "        end\n",
    "        probs = exp.(ws .- logsumexp_cu(ws, 1))\n",
    "        i = categorical(probs)\n",
    "        tr = trs[i]\n",
    "        w  = ws[i]\n",
    "    end\n",
    "    tr, w\n",
    "end"
   ]
  },
  {
   "cell_type": "code",
   "execution_count": 654,
   "id": "e46579a2",
   "metadata": {},
   "outputs": [
    {
     "data": {
      "image/svg+xml": [
       "<?xml version=\"1.0\" encoding=\"utf-8\"?>\n",
       "<svg xmlns=\"http://www.w3.org/2000/svg\" xmlns:xlink=\"http://www.w3.org/1999/xlink\" width=\"600\" height=\"600\" viewBox=\"0 0 2400 2400\">\n",
       "<defs>\n",
       "  <clipPath id=\"clip860\">\n",
       "    <rect x=\"0\" y=\"0\" width=\"2400\" height=\"2400\"/>\n",
       "  </clipPath>\n",
       "</defs>\n",
       "<path clip-path=\"url(#clip860)\" d=\"M0 2400 L2400 2400 L2400 0 L0 0  Z\" fill=\"#ffffff\" fill-rule=\"evenodd\" fill-opacity=\"1\"/>\n",
       "<defs>\n",
       "  <clipPath id=\"clip861\">\n",
       "    <rect x=\"480\" y=\"240\" width=\"1681\" height=\"1681\"/>\n",
       "  </clipPath>\n",
       "</defs>\n",
       "<path clip-path=\"url(#clip860)\" d=\"M184.191 2147.75 L2352.76 2147.75 L2352.76 160.66 L184.191 160.66  Z\" fill=\"#ffffff\" fill-rule=\"evenodd\" fill-opacity=\"1\"/>\n",
       "<defs>\n",
       "  <clipPath id=\"clip862\">\n",
       "    <rect x=\"184\" y=\"160\" width=\"2170\" height=\"1988\"/>\n",
       "  </clipPath>\n",
       "</defs>\n",
       "<polyline clip-path=\"url(#clip862)\" style=\"stroke:#000000; stroke-linecap:round; stroke-linejoin:round; stroke-width:2; stroke-opacity:0.1; fill:none\" points=\"445.866,2147.75 445.866,160.66 \"/>\n",
       "<polyline clip-path=\"url(#clip862)\" style=\"stroke:#000000; stroke-linecap:round; stroke-linejoin:round; stroke-width:2; stroke-opacity:0.1; fill:none\" points=\"862.002,2147.75 862.002,160.66 \"/>\n",
       "<polyline clip-path=\"url(#clip862)\" style=\"stroke:#000000; stroke-linecap:round; stroke-linejoin:round; stroke-width:2; stroke-opacity:0.1; fill:none\" points=\"1278.14,2147.75 1278.14,160.66 \"/>\n",
       "<polyline clip-path=\"url(#clip862)\" style=\"stroke:#000000; stroke-linecap:round; stroke-linejoin:round; stroke-width:2; stroke-opacity:0.1; fill:none\" points=\"1694.27,2147.75 1694.27,160.66 \"/>\n",
       "<polyline clip-path=\"url(#clip862)\" style=\"stroke:#000000; stroke-linecap:round; stroke-linejoin:round; stroke-width:2; stroke-opacity:0.1; fill:none\" points=\"2110.41,2147.75 2110.41,160.66 \"/>\n",
       "<polyline clip-path=\"url(#clip860)\" style=\"stroke:#000000; stroke-linecap:round; stroke-linejoin:round; stroke-width:4; stroke-opacity:1; fill:none\" points=\"184.191,2147.75 2352.76,2147.75 \"/>\n",
       "<polyline clip-path=\"url(#clip860)\" style=\"stroke:#000000; stroke-linecap:round; stroke-linejoin:round; stroke-width:4; stroke-opacity:1; fill:none\" points=\"445.866,2147.75 445.866,2130.79 \"/>\n",
       "<polyline clip-path=\"url(#clip860)\" style=\"stroke:#000000; stroke-linecap:round; stroke-linejoin:round; stroke-width:4; stroke-opacity:1; fill:none\" points=\"862.002,2147.75 862.002,2130.79 \"/>\n",
       "<polyline clip-path=\"url(#clip860)\" style=\"stroke:#000000; stroke-linecap:round; stroke-linejoin:round; stroke-width:4; stroke-opacity:1; fill:none\" points=\"1278.14,2147.75 1278.14,2130.79 \"/>\n",
       "<polyline clip-path=\"url(#clip860)\" style=\"stroke:#000000; stroke-linecap:round; stroke-linejoin:round; stroke-width:4; stroke-opacity:1; fill:none\" points=\"1694.27,2147.75 1694.27,2130.79 \"/>\n",
       "<polyline clip-path=\"url(#clip860)\" style=\"stroke:#000000; stroke-linecap:round; stroke-linejoin:round; stroke-width:4; stroke-opacity:1; fill:none\" points=\"2110.41,2147.75 2110.41,2130.79 \"/>\n",
       "<path clip-path=\"url(#clip860)\" d=\"M412.186 2175.59 L434.408 2175.59 L434.408 2177.58 L421.862 2210.15 L416.978 2210.15 L428.783 2179.53 L412.186 2179.53 L412.186 2175.59 Z\" fill=\"#000000\" fill-rule=\"evenodd\" fill-opacity=\"1\" /><path clip-path=\"url(#clip860)\" d=\"M443.528 2204.27 L448.413 2204.27 L448.413 2210.15 L443.528 2210.15 L443.528 2204.27 Z\" fill=\"#000000\" fill-rule=\"evenodd\" fill-opacity=\"1\" /><path clip-path=\"url(#clip860)\" d=\"M458.644 2175.59 L477 2175.59 L477 2179.53 L462.927 2179.53 L462.927 2188 Q463.945 2187.65 464.964 2187.49 Q465.982 2187.3 467.001 2187.3 Q472.788 2187.3 476.167 2190.48 Q479.547 2193.65 479.547 2199.06 Q479.547 2204.64 476.075 2207.74 Q472.602 2210.82 466.283 2210.82 Q464.107 2210.82 461.839 2210.45 Q459.593 2210.08 457.186 2209.34 L457.186 2204.64 Q459.269 2205.78 461.491 2206.33 Q463.714 2206.89 466.19 2206.89 Q470.195 2206.89 472.533 2204.78 Q474.871 2202.67 474.871 2199.06 Q474.871 2195.45 472.533 2193.35 Q470.195 2191.24 466.19 2191.24 Q464.315 2191.24 462.44 2191.66 Q460.589 2192.07 458.644 2192.95 L458.644 2175.59 Z\" fill=\"#000000\" fill-rule=\"evenodd\" fill-opacity=\"1\" /><path clip-path=\"url(#clip860)\" d=\"M814.074 2206.22 L821.713 2206.22 L821.713 2179.85 L813.403 2181.52 L813.403 2177.26 L821.666 2175.59 L826.342 2175.59 L826.342 2206.22 L833.981 2206.22 L833.981 2210.15 L814.074 2210.15 L814.074 2206.22 Z\" fill=\"#000000\" fill-rule=\"evenodd\" fill-opacity=\"1\" /><path clip-path=\"url(#clip860)\" d=\"M853.426 2178.67 Q849.814 2178.67 847.986 2182.24 Q846.18 2185.78 846.18 2192.91 Q846.18 2200.01 847.986 2203.58 Q849.814 2207.12 853.426 2207.12 Q857.06 2207.12 858.865 2203.58 Q860.694 2200.01 860.694 2192.91 Q860.694 2185.78 858.865 2182.24 Q857.06 2178.67 853.426 2178.67 M853.426 2174.97 Q859.236 2174.97 862.291 2179.57 Q865.37 2184.16 865.37 2192.91 Q865.37 2201.63 862.291 2206.24 Q859.236 2210.82 853.426 2210.82 Q847.615 2210.82 844.537 2206.24 Q841.481 2201.63 841.481 2192.91 Q841.481 2184.16 844.537 2179.57 Q847.615 2174.97 853.426 2174.97 Z\" fill=\"#000000\" fill-rule=\"evenodd\" fill-opacity=\"1\" /><path clip-path=\"url(#clip860)\" d=\"M873.587 2204.27 L878.472 2204.27 L878.472 2210.15 L873.587 2210.15 L873.587 2204.27 Z\" fill=\"#000000\" fill-rule=\"evenodd\" fill-opacity=\"1\" /><path clip-path=\"url(#clip860)\" d=\"M898.657 2178.67 Q895.046 2178.67 893.217 2182.24 Q891.411 2185.78 891.411 2192.91 Q891.411 2200.01 893.217 2203.58 Q895.046 2207.12 898.657 2207.12 Q902.291 2207.12 904.097 2203.58 Q905.925 2200.01 905.925 2192.91 Q905.925 2185.78 904.097 2182.24 Q902.291 2178.67 898.657 2178.67 M898.657 2174.97 Q904.467 2174.97 907.522 2179.57 Q910.601 2184.16 910.601 2192.91 Q910.601 2201.63 907.522 2206.24 Q904.467 2210.82 898.657 2210.82 Q892.847 2210.82 889.768 2206.24 Q886.712 2201.63 886.712 2192.91 Q886.712 2184.16 889.768 2179.57 Q892.847 2174.97 898.657 2174.97 Z\" fill=\"#000000\" fill-rule=\"evenodd\" fill-opacity=\"1\" /><path clip-path=\"url(#clip860)\" d=\"M1230.71 2206.22 L1238.35 2206.22 L1238.35 2179.85 L1230.04 2181.52 L1230.04 2177.26 L1238.3 2175.59 L1242.98 2175.59 L1242.98 2206.22 L1250.61 2206.22 L1250.61 2210.15 L1230.71 2210.15 L1230.71 2206.22 Z\" fill=\"#000000\" fill-rule=\"evenodd\" fill-opacity=\"1\" /><path clip-path=\"url(#clip860)\" d=\"M1264.09 2206.22 L1280.41 2206.22 L1280.41 2210.15 L1258.46 2210.15 L1258.46 2206.22 Q1261.12 2203.46 1265.71 2198.83 Q1270.31 2194.18 1271.49 2192.84 Q1273.74 2190.31 1274.62 2188.58 Q1275.52 2186.82 1275.52 2185.13 Q1275.52 2182.37 1273.58 2180.64 Q1271.66 2178.9 1268.55 2178.9 Q1266.35 2178.9 1263.9 2179.67 Q1261.47 2180.43 1258.69 2181.98 L1258.69 2177.26 Q1261.52 2176.12 1263.97 2175.55 Q1266.42 2174.97 1268.46 2174.97 Q1273.83 2174.97 1277.03 2177.65 Q1280.22 2180.34 1280.22 2184.83 Q1280.22 2186.96 1279.41 2188.88 Q1278.62 2190.78 1276.52 2193.37 Q1275.94 2194.04 1272.84 2197.26 Q1269.73 2200.45 1264.09 2206.22 Z\" fill=\"#000000\" fill-rule=\"evenodd\" fill-opacity=\"1\" /><path clip-path=\"url(#clip860)\" d=\"M1290.22 2204.27 L1295.1 2204.27 L1295.1 2210.15 L1290.22 2210.15 L1290.22 2204.27 Z\" fill=\"#000000\" fill-rule=\"evenodd\" fill-opacity=\"1\" /><path clip-path=\"url(#clip860)\" d=\"M1305.34 2175.59 L1323.69 2175.59 L1323.69 2179.53 L1309.62 2179.53 L1309.62 2188 Q1310.64 2187.65 1311.66 2187.49 Q1312.67 2187.3 1313.69 2187.3 Q1319.48 2187.3 1322.86 2190.48 Q1326.24 2193.65 1326.24 2199.06 Q1326.24 2204.64 1322.77 2207.74 Q1319.29 2210.82 1312.98 2210.82 Q1310.8 2210.82 1308.53 2210.45 Q1306.29 2210.08 1303.88 2209.34 L1303.88 2204.64 Q1305.96 2205.78 1308.18 2206.33 Q1310.41 2206.89 1312.88 2206.89 Q1316.89 2206.89 1319.23 2204.78 Q1321.56 2202.67 1321.56 2199.06 Q1321.56 2195.45 1319.23 2193.35 Q1316.89 2191.24 1312.88 2191.24 Q1311.01 2191.24 1309.13 2191.66 Q1307.28 2192.07 1305.34 2192.95 L1305.34 2175.59 Z\" fill=\"#000000\" fill-rule=\"evenodd\" fill-opacity=\"1\" /><path clip-path=\"url(#clip860)\" d=\"M1646.34 2206.22 L1653.98 2206.22 L1653.98 2179.85 L1645.67 2181.52 L1645.67 2177.26 L1653.94 2175.59 L1658.61 2175.59 L1658.61 2206.22 L1666.25 2206.22 L1666.25 2210.15 L1646.34 2210.15 L1646.34 2206.22 Z\" fill=\"#000000\" fill-rule=\"evenodd\" fill-opacity=\"1\" /><path clip-path=\"url(#clip860)\" d=\"M1675.74 2175.59 L1694.1 2175.59 L1694.1 2179.53 L1680.03 2179.53 L1680.03 2188 Q1681.04 2187.65 1682.06 2187.49 Q1683.08 2187.3 1684.1 2187.3 Q1689.89 2187.3 1693.27 2190.48 Q1696.65 2193.65 1696.65 2199.06 Q1696.65 2204.64 1693.17 2207.74 Q1689.7 2210.82 1683.38 2210.82 Q1681.21 2210.82 1678.94 2210.45 Q1676.69 2210.08 1674.28 2209.34 L1674.28 2204.64 Q1676.37 2205.78 1678.59 2206.33 Q1680.81 2206.89 1683.29 2206.89 Q1687.29 2206.89 1689.63 2204.78 Q1691.97 2202.67 1691.97 2199.06 Q1691.97 2195.45 1689.63 2193.35 Q1687.29 2191.24 1683.29 2191.24 Q1681.41 2191.24 1679.54 2191.66 Q1677.69 2192.07 1675.74 2192.95 L1675.74 2175.59 Z\" fill=\"#000000\" fill-rule=\"evenodd\" fill-opacity=\"1\" /><path clip-path=\"url(#clip860)\" d=\"M1705.86 2204.27 L1710.74 2204.27 L1710.74 2210.15 L1705.86 2210.15 L1705.86 2204.27 Z\" fill=\"#000000\" fill-rule=\"evenodd\" fill-opacity=\"1\" /><path clip-path=\"url(#clip860)\" d=\"M1730.93 2178.67 Q1727.32 2178.67 1725.49 2182.24 Q1723.68 2185.78 1723.68 2192.91 Q1723.68 2200.01 1725.49 2203.58 Q1727.32 2207.12 1730.93 2207.12 Q1734.56 2207.12 1736.37 2203.58 Q1738.2 2200.01 1738.2 2192.91 Q1738.2 2185.78 1736.37 2182.24 Q1734.56 2178.67 1730.93 2178.67 M1730.93 2174.97 Q1736.74 2174.97 1739.79 2179.57 Q1742.87 2184.16 1742.87 2192.91 Q1742.87 2201.63 1739.79 2206.24 Q1736.74 2210.82 1730.93 2210.82 Q1725.12 2210.82 1722.04 2206.24 Q1718.98 2201.63 1718.98 2192.91 Q1718.98 2184.16 1722.04 2179.57 Q1725.12 2174.97 1730.93 2174.97 Z\" fill=\"#000000\" fill-rule=\"evenodd\" fill-opacity=\"1\" /><path clip-path=\"url(#clip860)\" d=\"M2062.98 2206.22 L2070.62 2206.22 L2070.62 2179.85 L2062.31 2181.52 L2062.31 2177.26 L2070.57 2175.59 L2075.25 2175.59 L2075.25 2206.22 L2082.89 2206.22 L2082.89 2210.15 L2062.98 2210.15 L2062.98 2206.22 Z\" fill=\"#000000\" fill-rule=\"evenodd\" fill-opacity=\"1\" /><path clip-path=\"url(#clip860)\" d=\"M2091.15 2175.59 L2113.37 2175.59 L2113.37 2177.58 L2100.82 2210.15 L2095.94 2210.15 L2107.75 2179.53 L2091.15 2179.53 L2091.15 2175.59 Z\" fill=\"#000000\" fill-rule=\"evenodd\" fill-opacity=\"1\" /><path clip-path=\"url(#clip860)\" d=\"M2122.49 2204.27 L2127.38 2204.27 L2127.38 2210.15 L2122.49 2210.15 L2122.49 2204.27 Z\" fill=\"#000000\" fill-rule=\"evenodd\" fill-opacity=\"1\" /><path clip-path=\"url(#clip860)\" d=\"M2137.61 2175.59 L2155.96 2175.59 L2155.96 2179.53 L2141.89 2179.53 L2141.89 2188 Q2142.91 2187.65 2143.93 2187.49 Q2144.95 2187.3 2145.96 2187.3 Q2151.75 2187.3 2155.13 2190.48 Q2158.51 2193.65 2158.51 2199.06 Q2158.51 2204.64 2155.04 2207.74 Q2151.57 2210.82 2145.25 2210.82 Q2143.07 2210.82 2140.8 2210.45 Q2138.56 2210.08 2136.15 2209.34 L2136.15 2204.64 Q2138.23 2205.78 2140.45 2206.33 Q2142.68 2206.89 2145.15 2206.89 Q2149.16 2206.89 2151.5 2204.78 Q2153.83 2202.67 2153.83 2199.06 Q2153.83 2195.45 2151.5 2193.35 Q2149.16 2191.24 2145.15 2191.24 Q2143.28 2191.24 2141.4 2191.66 Q2139.55 2192.07 2137.61 2192.95 L2137.61 2175.59 Z\" fill=\"#000000\" fill-rule=\"evenodd\" fill-opacity=\"1\" /><polyline clip-path=\"url(#clip862)\" style=\"stroke:#000000; stroke-linecap:round; stroke-linejoin:round; stroke-width:2; stroke-opacity:0.1; fill:none\" points=\"184.191,1971.63 2352.76,1971.63 \"/>\n",
       "<polyline clip-path=\"url(#clip862)\" style=\"stroke:#000000; stroke-linecap:round; stroke-linejoin:round; stroke-width:2; stroke-opacity:0.1; fill:none\" points=\"184.191,1555.49 2352.76,1555.49 \"/>\n",
       "<polyline clip-path=\"url(#clip862)\" style=\"stroke:#000000; stroke-linecap:round; stroke-linejoin:round; stroke-width:2; stroke-opacity:0.1; fill:none\" points=\"184.191,1139.36 2352.76,1139.36 \"/>\n",
       "<polyline clip-path=\"url(#clip862)\" style=\"stroke:#000000; stroke-linecap:round; stroke-linejoin:round; stroke-width:2; stroke-opacity:0.1; fill:none\" points=\"184.191,723.221 2352.76,723.221 \"/>\n",
       "<polyline clip-path=\"url(#clip862)\" style=\"stroke:#000000; stroke-linecap:round; stroke-linejoin:round; stroke-width:2; stroke-opacity:0.1; fill:none\" points=\"184.191,307.085 2352.76,307.085 \"/>\n",
       "<polyline clip-path=\"url(#clip860)\" style=\"stroke:#000000; stroke-linecap:round; stroke-linejoin:round; stroke-width:4; stroke-opacity:1; fill:none\" points=\"184.191,2147.75 184.191,160.66 \"/>\n",
       "<polyline clip-path=\"url(#clip860)\" style=\"stroke:#000000; stroke-linecap:round; stroke-linejoin:round; stroke-width:4; stroke-opacity:1; fill:none\" points=\"184.191,1971.63 203.088,1971.63 \"/>\n",
       "<polyline clip-path=\"url(#clip860)\" style=\"stroke:#000000; stroke-linecap:round; stroke-linejoin:round; stroke-width:4; stroke-opacity:1; fill:none\" points=\"184.191,1555.49 203.088,1555.49 \"/>\n",
       "<polyline clip-path=\"url(#clip860)\" style=\"stroke:#000000; stroke-linecap:round; stroke-linejoin:round; stroke-width:4; stroke-opacity:1; fill:none\" points=\"184.191,1139.36 203.088,1139.36 \"/>\n",
       "<polyline clip-path=\"url(#clip860)\" style=\"stroke:#000000; stroke-linecap:round; stroke-linejoin:round; stroke-width:4; stroke-opacity:1; fill:none\" points=\"184.191,723.221 203.088,723.221 \"/>\n",
       "<polyline clip-path=\"url(#clip860)\" style=\"stroke:#000000; stroke-linecap:round; stroke-linejoin:round; stroke-width:4; stroke-opacity:1; fill:none\" points=\"184.191,307.085 203.088,307.085 \"/>\n",
       "<path clip-path=\"url(#clip860)\" d=\"M80.8299 1954.35 L103.052 1954.35 L103.052 1956.34 L90.5058 1988.91 L85.6216 1988.91 L97.4271 1958.28 L80.8299 1958.28 L80.8299 1954.35 Z\" fill=\"#000000\" fill-rule=\"evenodd\" fill-opacity=\"1\" /><path clip-path=\"url(#clip860)\" d=\"M112.172 1983.03 L117.057 1983.03 L117.057 1988.91 L112.172 1988.91 L112.172 1983.03 Z\" fill=\"#000000\" fill-rule=\"evenodd\" fill-opacity=\"1\" /><path clip-path=\"url(#clip860)\" d=\"M127.288 1954.35 L145.644 1954.35 L145.644 1958.28 L131.57 1958.28 L131.57 1966.75 Q132.589 1966.41 133.607 1966.25 Q134.626 1966.06 135.644 1966.06 Q141.431 1966.06 144.811 1969.23 Q148.191 1972.4 148.191 1977.82 Q148.191 1983.4 144.718 1986.5 Q141.246 1989.58 134.927 1989.58 Q132.751 1989.58 130.482 1989.21 Q128.237 1988.84 125.83 1988.1 L125.83 1983.4 Q127.913 1984.53 130.135 1985.09 Q132.357 1985.64 134.834 1985.64 Q138.839 1985.64 141.177 1983.54 Q143.515 1981.43 143.515 1977.82 Q143.515 1974.21 141.177 1972.1 Q138.839 1970 134.834 1970 Q132.959 1970 131.084 1970.41 Q129.232 1970.83 127.288 1971.71 L127.288 1954.35 Z\" fill=\"#000000\" fill-rule=\"evenodd\" fill-opacity=\"1\" /><path clip-path=\"url(#clip860)\" d=\"M51.6634 1568.84 L59.3023 1568.84 L59.3023 1542.47 L50.9921 1544.14 L50.9921 1539.88 L59.256 1538.21 L63.9319 1538.21 L63.9319 1568.84 L71.5707 1568.84 L71.5707 1572.77 L51.6634 1572.77 L51.6634 1568.84 Z\" fill=\"#000000\" fill-rule=\"evenodd\" fill-opacity=\"1\" /><path clip-path=\"url(#clip860)\" d=\"M91.0151 1541.29 Q87.404 1541.29 85.5753 1544.85 Q83.7697 1548.4 83.7697 1555.53 Q83.7697 1562.63 85.5753 1566.2 Q87.404 1569.74 91.0151 1569.74 Q94.6493 1569.74 96.4548 1566.2 Q98.2835 1562.63 98.2835 1555.53 Q98.2835 1548.4 96.4548 1544.85 Q94.6493 1541.29 91.0151 1541.29 M91.0151 1537.59 Q96.8252 1537.59 99.8808 1542.19 Q102.959 1546.78 102.959 1555.53 Q102.959 1564.25 99.8808 1568.86 Q96.8252 1573.44 91.0151 1573.44 Q85.2049 1573.44 82.1262 1568.86 Q79.0707 1564.25 79.0707 1555.53 Q79.0707 1546.78 82.1262 1542.19 Q85.2049 1537.59 91.0151 1537.59 Z\" fill=\"#000000\" fill-rule=\"evenodd\" fill-opacity=\"1\" /><path clip-path=\"url(#clip860)\" d=\"M111.177 1566.89 L116.061 1566.89 L116.061 1572.77 L111.177 1572.77 L111.177 1566.89 Z\" fill=\"#000000\" fill-rule=\"evenodd\" fill-opacity=\"1\" /><path clip-path=\"url(#clip860)\" d=\"M136.246 1541.29 Q132.635 1541.29 130.807 1544.85 Q129.001 1548.4 129.001 1555.53 Q129.001 1562.63 130.807 1566.2 Q132.635 1569.74 136.246 1569.74 Q139.881 1569.74 141.686 1566.2 Q143.515 1562.63 143.515 1555.53 Q143.515 1548.4 141.686 1544.85 Q139.881 1541.29 136.246 1541.29 M136.246 1537.59 Q142.056 1537.59 145.112 1542.19 Q148.191 1546.78 148.191 1555.53 Q148.191 1564.25 145.112 1568.86 Q142.056 1573.44 136.246 1573.44 Q130.436 1573.44 127.357 1568.86 Q124.302 1564.25 124.302 1555.53 Q124.302 1546.78 127.357 1542.19 Q130.436 1537.59 136.246 1537.59 Z\" fill=\"#000000\" fill-rule=\"evenodd\" fill-opacity=\"1\" /><path clip-path=\"url(#clip860)\" d=\"M52.6588 1152.7 L60.2976 1152.7 L60.2976 1126.34 L51.9875 1128 L51.9875 1123.74 L60.2513 1122.08 L64.9272 1122.08 L64.9272 1152.7 L72.5661 1152.7 L72.5661 1156.64 L52.6588 1156.64 L52.6588 1152.7 Z\" fill=\"#000000\" fill-rule=\"evenodd\" fill-opacity=\"1\" /><path clip-path=\"url(#clip860)\" d=\"M86.0382 1152.7 L102.358 1152.7 L102.358 1156.64 L80.4133 1156.64 L80.4133 1152.7 Q83.0753 1149.95 87.6586 1145.32 Q92.2651 1140.66 93.4456 1139.32 Q95.691 1136.8 96.5706 1135.06 Q97.4734 1133.3 97.4734 1131.61 Q97.4734 1128.86 95.5289 1127.12 Q93.6076 1125.39 90.5058 1125.39 Q88.3067 1125.39 85.8531 1126.15 Q83.4225 1126.91 80.6447 1128.46 L80.6447 1123.74 Q83.4688 1122.61 85.9225 1122.03 Q88.3762 1121.45 90.4132 1121.45 Q95.7836 1121.45 98.978 1124.14 Q102.172 1126.82 102.172 1131.31 Q102.172 1133.44 101.362 1135.36 Q100.575 1137.26 98.4687 1139.85 Q97.89 1140.53 94.7882 1143.74 Q91.6864 1146.94 86.0382 1152.7 Z\" fill=\"#000000\" fill-rule=\"evenodd\" fill-opacity=\"1\" /><path clip-path=\"url(#clip860)\" d=\"M112.172 1150.76 L117.057 1150.76 L117.057 1156.64 L112.172 1156.64 L112.172 1150.76 Z\" fill=\"#000000\" fill-rule=\"evenodd\" fill-opacity=\"1\" /><path clip-path=\"url(#clip860)\" d=\"M127.288 1122.08 L145.644 1122.08 L145.644 1126.01 L131.57 1126.01 L131.57 1134.48 Q132.589 1134.14 133.607 1133.97 Q134.626 1133.79 135.644 1133.79 Q141.431 1133.79 144.811 1136.96 Q148.191 1140.13 148.191 1145.55 Q148.191 1151.13 144.718 1154.23 Q141.246 1157.31 134.927 1157.31 Q132.751 1157.31 130.482 1156.94 Q128.237 1156.57 125.83 1155.83 L125.83 1151.13 Q127.913 1152.26 130.135 1152.82 Q132.357 1153.37 134.834 1153.37 Q138.839 1153.37 141.177 1151.27 Q143.515 1149.16 143.515 1145.55 Q143.515 1141.94 141.177 1139.83 Q138.839 1137.72 134.834 1137.72 Q132.959 1137.72 131.084 1138.14 Q129.232 1138.56 127.288 1139.44 L127.288 1122.08 Z\" fill=\"#000000\" fill-rule=\"evenodd\" fill-opacity=\"1\" /><path clip-path=\"url(#clip860)\" d=\"M51.6634 736.565 L59.3023 736.565 L59.3023 710.2 L50.9921 711.866 L50.9921 707.607 L59.256 705.941 L63.9319 705.941 L63.9319 736.565 L71.5707 736.565 L71.5707 740.501 L51.6634 740.501 L51.6634 736.565 Z\" fill=\"#000000\" fill-rule=\"evenodd\" fill-opacity=\"1\" /><path clip-path=\"url(#clip860)\" d=\"M81.0614 705.941 L99.4178 705.941 L99.4178 709.876 L85.3438 709.876 L85.3438 718.348 Q86.3623 718.001 87.3808 717.839 Q88.3993 717.653 89.4178 717.653 Q95.2049 717.653 98.5845 720.825 Q101.964 723.996 101.964 729.413 Q101.964 734.991 98.4919 738.093 Q95.0197 741.172 88.7003 741.172 Q86.5243 741.172 84.2558 740.801 Q82.0105 740.431 79.6031 739.69 L79.6031 734.991 Q81.6864 736.126 83.9086 736.681 Q86.1308 737.237 88.6077 737.237 Q92.6123 737.237 94.9502 735.13 Q97.2882 733.024 97.2882 729.413 Q97.2882 725.802 94.9502 723.695 Q92.6123 721.589 88.6077 721.589 Q86.7327 721.589 84.8577 722.005 Q83.0058 722.422 81.0614 723.302 L81.0614 705.941 Z\" fill=\"#000000\" fill-rule=\"evenodd\" fill-opacity=\"1\" /><path clip-path=\"url(#clip860)\" d=\"M111.177 734.621 L116.061 734.621 L116.061 740.501 L111.177 740.501 L111.177 734.621 Z\" fill=\"#000000\" fill-rule=\"evenodd\" fill-opacity=\"1\" /><path clip-path=\"url(#clip860)\" d=\"M136.246 709.019 Q132.635 709.019 130.807 712.584 Q129.001 716.126 129.001 723.255 Q129.001 730.362 130.807 733.927 Q132.635 737.468 136.246 737.468 Q139.881 737.468 141.686 733.927 Q143.515 730.362 143.515 723.255 Q143.515 716.126 141.686 712.584 Q139.881 709.019 136.246 709.019 M136.246 705.316 Q142.056 705.316 145.112 709.922 Q148.191 714.505 148.191 723.255 Q148.191 731.982 145.112 736.589 Q142.056 741.172 136.246 741.172 Q130.436 741.172 127.357 736.589 Q124.302 731.982 124.302 723.255 Q124.302 714.505 127.357 709.922 Q130.436 705.316 136.246 705.316 Z\" fill=\"#000000\" fill-rule=\"evenodd\" fill-opacity=\"1\" /><path clip-path=\"url(#clip860)\" d=\"M52.6588 320.43 L60.2976 320.43 L60.2976 294.064 L51.9875 295.731 L51.9875 291.472 L60.2513 289.805 L64.9272 289.805 L64.9272 320.43 L72.5661 320.43 L72.5661 324.365 L52.6588 324.365 L52.6588 320.43 Z\" fill=\"#000000\" fill-rule=\"evenodd\" fill-opacity=\"1\" /><path clip-path=\"url(#clip860)\" d=\"M80.8299 289.805 L103.052 289.805 L103.052 291.796 L90.5058 324.365 L85.6216 324.365 L97.4271 293.74 L80.8299 293.74 L80.8299 289.805 Z\" fill=\"#000000\" fill-rule=\"evenodd\" fill-opacity=\"1\" /><path clip-path=\"url(#clip860)\" d=\"M112.172 318.486 L117.057 318.486 L117.057 324.365 L112.172 324.365 L112.172 318.486 Z\" fill=\"#000000\" fill-rule=\"evenodd\" fill-opacity=\"1\" /><path clip-path=\"url(#clip860)\" d=\"M127.288 289.805 L145.644 289.805 L145.644 293.74 L131.57 293.74 L131.57 302.212 Q132.589 301.865 133.607 301.703 Q134.626 301.518 135.644 301.518 Q141.431 301.518 144.811 304.689 Q148.191 307.861 148.191 313.277 Q148.191 318.856 144.718 321.958 Q141.246 325.036 134.927 325.036 Q132.751 325.036 130.482 324.666 Q128.237 324.296 125.83 323.555 L125.83 318.856 Q127.913 319.99 130.135 320.546 Q132.357 321.101 134.834 321.101 Q138.839 321.101 141.177 318.995 Q143.515 316.888 143.515 313.277 Q143.515 309.666 141.177 307.56 Q138.839 305.453 134.834 305.453 Q132.959 305.453 131.084 305.87 Q129.232 306.287 127.288 307.166 L127.288 289.805 Z\" fill=\"#000000\" fill-rule=\"evenodd\" fill-opacity=\"1\" /><polyline clip-path=\"url(#clip862)\" style=\"stroke:#000000; stroke-linecap:round; stroke-linejoin:round; stroke-width:4; stroke-opacity:1; fill:none\" points=\"1401.31,3203.39 1399.65,3201.72 \"/>\n",
       "<polyline clip-path=\"url(#clip862)\" style=\"stroke:#000000; stroke-linecap:round; stroke-linejoin:round; stroke-width:4; stroke-opacity:1; fill:none\" points=\"1399.65,3201.72 1399.65,2276.24 \"/>\n",
       "<polyline clip-path=\"url(#clip862)\" style=\"stroke:#000000; stroke-linecap:round; stroke-linejoin:round; stroke-width:4; stroke-opacity:1; fill:none\" points=\"1399.65,2276.24 1412.97,2276.24 \"/>\n",
       "<polyline clip-path=\"url(#clip862)\" style=\"stroke:#000000; stroke-linecap:round; stroke-linejoin:round; stroke-width:4; stroke-opacity:1; fill:none\" points=\"1412.97,2276.24 1414.63,2274.57 \"/>\n",
       "<polyline clip-path=\"url(#clip862)\" style=\"stroke:#000000; stroke-linecap:round; stroke-linejoin:round; stroke-width:4; stroke-opacity:1; fill:none\" points=\"1414.63,2274.57 1414.63,2257.93 \"/>\n",
       "<polyline clip-path=\"url(#clip862)\" style=\"stroke:#000000; stroke-linecap:round; stroke-linejoin:round; stroke-width:4; stroke-opacity:1; fill:none\" points=\"1414.63,2257.93 1412.97,2256.26 \"/>\n",
       "<polyline clip-path=\"url(#clip862)\" style=\"stroke:#000000; stroke-linecap:round; stroke-linejoin:round; stroke-width:4; stroke-opacity:1; fill:none\" points=\"1412.97,2256.26 1234.86,2256.26 \"/>\n",
       "<polyline clip-path=\"url(#clip862)\" style=\"stroke:#000000; stroke-linecap:round; stroke-linejoin:round; stroke-width:4; stroke-opacity:1; fill:none\" points=\"1234.86,2256.26 1233.19,2254.6 \"/>\n",
       "<polyline clip-path=\"url(#clip862)\" style=\"stroke:#000000; stroke-linecap:round; stroke-linejoin:round; stroke-width:4; stroke-opacity:1; fill:none\" points=\"1233.19,2254.6 1233.19,1627.07 \"/>\n",
       "<polyline clip-path=\"url(#clip862)\" style=\"stroke:#000000; stroke-linecap:round; stroke-linejoin:round; stroke-width:4; stroke-opacity:1; fill:none\" points=\"1233.19,1627.07 1614.37,1627.07 \"/>\n",
       "<polyline clip-path=\"url(#clip862)\" style=\"stroke:#000000; stroke-linecap:round; stroke-linejoin:round; stroke-width:4; stroke-opacity:1; fill:none\" points=\"1614.37,1627.07 1616.04,1625.4 \"/>\n",
       "<polyline clip-path=\"url(#clip862)\" style=\"stroke:#000000; stroke-linecap:round; stroke-linejoin:round; stroke-width:4; stroke-opacity:1; fill:none\" points=\"1616.04,1625.4 1616.04,1608.76 \"/>\n",
       "<polyline clip-path=\"url(#clip862)\" style=\"stroke:#000000; stroke-linecap:round; stroke-linejoin:round; stroke-width:4; stroke-opacity:1; fill:none\" points=\"1616.04,1608.76 1614.37,1607.09 \"/>\n",
       "<polyline clip-path=\"url(#clip862)\" style=\"stroke:#000000; stroke-linecap:round; stroke-linejoin:round; stroke-width:4; stroke-opacity:1; fill:none\" points=\"1614.37,1607.09 683.896,1607.09 \"/>\n",
       "<polyline clip-path=\"url(#clip862)\" style=\"stroke:#000000; stroke-linecap:round; stroke-linejoin:round; stroke-width:4; stroke-opacity:1; fill:none\" points=\"683.896,1607.09 683.896,1580.46 \"/>\n",
       "<polyline clip-path=\"url(#clip862)\" style=\"stroke:#000000; stroke-linecap:round; stroke-linejoin:round; stroke-width:4; stroke-opacity:1; fill:none\" points=\"683.896,1580.46 682.231,1578.8 \"/>\n",
       "<polyline clip-path=\"url(#clip862)\" style=\"stroke:#000000; stroke-linecap:round; stroke-linejoin:round; stroke-width:4; stroke-opacity:1; fill:none\" points=\"682.231,1578.8 665.586,1578.8 \"/>\n",
       "<polyline clip-path=\"url(#clip862)\" style=\"stroke:#000000; stroke-linecap:round; stroke-linejoin:round; stroke-width:4; stroke-opacity:1; fill:none\" points=\"665.586,1578.8 663.921,1580.46 \"/>\n",
       "<polyline clip-path=\"url(#clip862)\" style=\"stroke:#000000; stroke-linecap:round; stroke-linejoin:round; stroke-width:4; stroke-opacity:1; fill:none\" points=\"663.921,1580.46 663.921,1607.09 \"/>\n",
       "<polyline clip-path=\"url(#clip862)\" style=\"stroke:#000000; stroke-linecap:round; stroke-linejoin:round; stroke-width:4; stroke-opacity:1; fill:none\" points=\"663.921,1607.09 192.856,1607.09 \"/>\n",
       "<polyline clip-path=\"url(#clip862)\" style=\"stroke:#000000; stroke-linecap:round; stroke-linejoin:round; stroke-width:4; stroke-opacity:1; fill:none\" points=\"192.856,1607.09 191.192,1605.43 \"/>\n",
       "<polyline clip-path=\"url(#clip862)\" style=\"stroke:#000000; stroke-linecap:round; stroke-linejoin:round; stroke-width:4; stroke-opacity:1; fill:none\" points=\"191.192,1605.43 189.527,1605.43 \"/>\n",
       "<polyline clip-path=\"url(#clip862)\" style=\"stroke:#000000; stroke-linecap:round; stroke-linejoin:round; stroke-width:4; stroke-opacity:1; fill:none\" points=\"189.527,1605.43 187.862,1607.09 \"/>\n",
       "<polyline clip-path=\"url(#clip862)\" style=\"stroke:#000000; stroke-linecap:round; stroke-linejoin:round; stroke-width:4; stroke-opacity:1; fill:none\" points=\"187.862,1607.09 134.597,1607.09 \"/>\n",
       "<polyline clip-path=\"url(#clip862)\" style=\"stroke:#000000; stroke-linecap:round; stroke-linejoin:round; stroke-width:4; stroke-opacity:1; fill:none\" points=\"134.597,1607.09 132.933,1608.76 \"/>\n",
       "<polyline clip-path=\"url(#clip862)\" style=\"stroke:#000000; stroke-linecap:round; stroke-linejoin:round; stroke-width:4; stroke-opacity:1; fill:none\" points=\"132.933,1608.76 132.933,1625.4 \"/>\n",
       "<polyline clip-path=\"url(#clip862)\" style=\"stroke:#000000; stroke-linecap:round; stroke-linejoin:round; stroke-width:4; stroke-opacity:1; fill:none\" points=\"132.933,1625.4 134.597,1627.07 \"/>\n",
       "<polyline clip-path=\"url(#clip862)\" style=\"stroke:#000000; stroke-linecap:round; stroke-linejoin:round; stroke-width:4; stroke-opacity:1; fill:none\" points=\"134.597,1627.07 174.546,1627.07 \"/>\n",
       "<polyline clip-path=\"url(#clip862)\" style=\"stroke:#000000; stroke-linecap:round; stroke-linejoin:round; stroke-width:4; stroke-opacity:1; fill:none\" points=\"174.546,1627.07 174.546,2256.26 \"/>\n",
       "<polyline clip-path=\"url(#clip862)\" style=\"stroke:#000000; stroke-linecap:round; stroke-linejoin:round; stroke-width:4; stroke-opacity:1; fill:none\" points=\"174.546,2256.26 -479.619,2256.26 \"/>\n",
       "<polyline clip-path=\"url(#clip862)\" style=\"stroke:#000000; stroke-linecap:round; stroke-linejoin:round; stroke-width:4; stroke-opacity:1; fill:none\" points=\"-479.619,2256.26 -481.283,2254.6 \"/>\n",
       "<polyline clip-path=\"url(#clip862)\" style=\"stroke:#000000; stroke-linecap:round; stroke-linejoin:round; stroke-width:4; stroke-opacity:1; fill:none\" points=\"-481.283,2254.6 -481.283,1710.29 \"/>\n",
       "<polyline clip-path=\"url(#clip862)\" style=\"stroke:#000000; stroke-linecap:round; stroke-linejoin:round; stroke-width:4; stroke-opacity:1; fill:none\" points=\"-481.283,1710.29 -51.8316,1710.29 \"/>\n",
       "<polyline clip-path=\"url(#clip862)\" style=\"stroke:#000000; stroke-linecap:round; stroke-linejoin:round; stroke-width:4; stroke-opacity:1; fill:none\" points=\"-51.8316,1710.29 -48.5025,1706.96 \"/>\n",
       "<polyline clip-path=\"url(#clip862)\" style=\"stroke:#000000; stroke-linecap:round; stroke-linejoin:round; stroke-width:4; stroke-opacity:1; fill:none\" points=\"-48.5025,1706.96 -48.5025,1627.07 \"/>\n",
       "<polyline clip-path=\"url(#clip862)\" style=\"stroke:#000000; stroke-linecap:round; stroke-linejoin:round; stroke-width:4; stroke-opacity:1; fill:none\" points=\"-48.5025,1627.07 -8.55352,1627.07 \"/>\n",
       "<polyline clip-path=\"url(#clip862)\" style=\"stroke:#000000; stroke-linecap:round; stroke-linejoin:round; stroke-width:4; stroke-opacity:1; fill:none\" points=\"-8.55352,1627.07 -6.88898,1625.4 \"/>\n",
       "<polyline clip-path=\"url(#clip862)\" style=\"stroke:#000000; stroke-linecap:round; stroke-linejoin:round; stroke-width:4; stroke-opacity:1; fill:none\" points=\"-6.88898,1625.4 -6.88898,1608.76 \"/>\n",
       "<polyline clip-path=\"url(#clip862)\" style=\"stroke:#000000; stroke-linecap:round; stroke-linejoin:round; stroke-width:4; stroke-opacity:1; fill:none\" points=\"-6.88898,1608.76 -8.55352,1607.09 \"/>\n",
       "<polyline clip-path=\"url(#clip862)\" style=\"stroke:#000000; stroke-linecap:round; stroke-linejoin:round; stroke-width:4; stroke-opacity:1; fill:none\" points=\"-8.55352,1607.09 -48.5025,1607.09 \"/>\n",
       "<polyline clip-path=\"url(#clip862)\" style=\"stroke:#000000; stroke-linecap:round; stroke-linejoin:round; stroke-width:4; stroke-opacity:1; fill:none\" points=\"-48.5025,1607.09 -48.5025,1532.19 \"/>\n",
       "<polyline clip-path=\"url(#clip862)\" style=\"stroke:#000000; stroke-linecap:round; stroke-linejoin:round; stroke-width:4; stroke-opacity:1; fill:none\" points=\"-48.5025,1532.19 -50.1671,1530.52 \"/>\n",
       "<polyline clip-path=\"url(#clip862)\" style=\"stroke:#000000; stroke-linecap:round; stroke-linejoin:round; stroke-width:4; stroke-opacity:1; fill:none\" points=\"-50.1671,1530.52 -66.8125,1530.52 \"/>\n",
       "<polyline clip-path=\"url(#clip862)\" style=\"stroke:#000000; stroke-linecap:round; stroke-linejoin:round; stroke-width:4; stroke-opacity:1; fill:none\" points=\"-66.8125,1530.52 -68.477,1532.19 \"/>\n",
       "<polyline clip-path=\"url(#clip862)\" style=\"stroke:#000000; stroke-linecap:round; stroke-linejoin:round; stroke-width:4; stroke-opacity:1; fill:none\" points=\"-68.477,1532.19 -68.477,1690.32 \"/>\n",
       "<polyline clip-path=\"url(#clip862)\" style=\"stroke:#000000; stroke-linecap:round; stroke-linejoin:round; stroke-width:4; stroke-opacity:1; fill:none\" points=\"-68.477,1690.32 -481.283,1690.32 \"/>\n",
       "<polyline clip-path=\"url(#clip862)\" style=\"stroke:#000000; stroke-linecap:round; stroke-linejoin:round; stroke-width:4; stroke-opacity:1; fill:none\" points=\"-481.283,1690.32 -481.283,1377.39 \"/>\n",
       "<polyline clip-path=\"url(#clip862)\" style=\"stroke:#000000; stroke-linecap:round; stroke-linejoin:round; stroke-width:4; stroke-opacity:1; fill:none\" points=\"-481.283,1377.39 -68.477,1377.39 \"/>\n",
       "<polyline clip-path=\"url(#clip862)\" style=\"stroke:#000000; stroke-linecap:round; stroke-linejoin:round; stroke-width:4; stroke-opacity:1; fill:none\" points=\"-68.477,1377.39 -68.477,1389.04 \"/>\n",
       "<polyline clip-path=\"url(#clip862)\" style=\"stroke:#000000; stroke-linecap:round; stroke-linejoin:round; stroke-width:4; stroke-opacity:1; fill:none\" points=\"-68.477,1389.04 -66.8125,1390.7 \"/>\n",
       "<polyline clip-path=\"url(#clip862)\" style=\"stroke:#000000; stroke-linecap:round; stroke-linejoin:round; stroke-width:4; stroke-opacity:1; fill:none\" points=\"-66.8125,1390.7 -50.1671,1390.7 \"/>\n",
       "<polyline clip-path=\"url(#clip862)\" style=\"stroke:#000000; stroke-linecap:round; stroke-linejoin:round; stroke-width:4; stroke-opacity:1; fill:none\" points=\"-50.1671,1390.7 -48.5025,1389.04 \"/>\n",
       "<polyline clip-path=\"url(#clip862)\" style=\"stroke:#000000; stroke-linecap:round; stroke-linejoin:round; stroke-width:4; stroke-opacity:1; fill:none\" points=\"-48.5025,1389.04 -48.5025,1377.39 \"/>\n",
       "<polyline clip-path=\"url(#clip862)\" style=\"stroke:#000000; stroke-linecap:round; stroke-linejoin:round; stroke-width:4; stroke-opacity:1; fill:none\" points=\"-48.5025,1377.39 82.9963,1377.39 \"/>\n",
       "<polyline clip-path=\"url(#clip862)\" style=\"stroke:#000000; stroke-linecap:round; stroke-linejoin:round; stroke-width:4; stroke-opacity:1; fill:none\" points=\"82.9963,1377.39 84.6608,1379.05 \"/>\n",
       "<polyline clip-path=\"url(#clip862)\" style=\"stroke:#000000; stroke-linecap:round; stroke-linejoin:round; stroke-width:4; stroke-opacity:1; fill:none\" points=\"84.6608,1379.05 84.6608,1380.71 \"/>\n",
       "<polyline clip-path=\"url(#clip862)\" style=\"stroke:#000000; stroke-linecap:round; stroke-linejoin:round; stroke-width:4; stroke-opacity:1; fill:none\" points=\"84.6608,1380.71 86.3254,1382.38 \"/>\n",
       "<polyline clip-path=\"url(#clip862)\" style=\"stroke:#000000; stroke-linecap:round; stroke-linejoin:round; stroke-width:4; stroke-opacity:1; fill:none\" points=\"86.3254,1382.38 89.6545,1382.38 \"/>\n",
       "<polyline clip-path=\"url(#clip862)\" style=\"stroke:#000000; stroke-linecap:round; stroke-linejoin:round; stroke-width:4; stroke-opacity:1; fill:none\" points=\"89.6545,1382.38 91.319,1380.71 \"/>\n",
       "<polyline clip-path=\"url(#clip862)\" style=\"stroke:#000000; stroke-linecap:round; stroke-linejoin:round; stroke-width:4; stroke-opacity:1; fill:none\" points=\"91.319,1380.71 92.9835,1380.71 \"/>\n",
       "<polyline clip-path=\"url(#clip862)\" style=\"stroke:#000000; stroke-linecap:round; stroke-linejoin:round; stroke-width:4; stroke-opacity:1; fill:none\" points=\"92.9835,1380.71 94.6481,1379.05 \"/>\n",
       "<polyline clip-path=\"url(#clip862)\" style=\"stroke:#000000; stroke-linecap:round; stroke-linejoin:round; stroke-width:4; stroke-opacity:1; fill:none\" points=\"94.6481,1379.05 96.3126,1379.05 \"/>\n",
       "<polyline clip-path=\"url(#clip862)\" style=\"stroke:#000000; stroke-linecap:round; stroke-linejoin:round; stroke-width:4; stroke-opacity:1; fill:none\" points=\"96.3126,1379.05 97.9772,1377.39 \"/>\n",
       "<polyline clip-path=\"url(#clip862)\" style=\"stroke:#000000; stroke-linecap:round; stroke-linejoin:round; stroke-width:4; stroke-opacity:1; fill:none\" points=\"97.9772,1377.39 99.6417,1377.39 \"/>\n",
       "<polyline clip-path=\"url(#clip862)\" style=\"stroke:#000000; stroke-linecap:round; stroke-linejoin:round; stroke-width:4; stroke-opacity:1; fill:none\" points=\"99.6417,1377.39 101.306,1375.72 \"/>\n",
       "<polyline clip-path=\"url(#clip862)\" style=\"stroke:#000000; stroke-linecap:round; stroke-linejoin:round; stroke-width:4; stroke-opacity:1; fill:none\" points=\"101.306,1375.72 102.971,1375.72 \"/>\n",
       "<polyline clip-path=\"url(#clip862)\" style=\"stroke:#000000; stroke-linecap:round; stroke-linejoin:round; stroke-width:4; stroke-opacity:1; fill:none\" points=\"102.971,1375.72 104.635,1374.06 \"/>\n",
       "<polyline clip-path=\"url(#clip862)\" style=\"stroke:#000000; stroke-linecap:round; stroke-linejoin:round; stroke-width:4; stroke-opacity:1; fill:none\" points=\"104.635,1374.06 101.306,1370.73 \"/>\n",
       "<polyline clip-path=\"url(#clip862)\" style=\"stroke:#000000; stroke-linecap:round; stroke-linejoin:round; stroke-width:4; stroke-opacity:1; fill:none\" points=\"101.306,1370.73 101.306,1359.08 \"/>\n",
       "<polyline clip-path=\"url(#clip862)\" style=\"stroke:#000000; stroke-linecap:round; stroke-linejoin:round; stroke-width:4; stroke-opacity:1; fill:none\" points=\"101.306,1359.08 99.6417,1357.41 \"/>\n",
       "<polyline clip-path=\"url(#clip862)\" style=\"stroke:#000000; stroke-linecap:round; stroke-linejoin:round; stroke-width:4; stroke-opacity:1; fill:none\" points=\"99.6417,1357.41 99.6417,961.25 \"/>\n",
       "<polyline clip-path=\"url(#clip862)\" style=\"stroke:#000000; stroke-linecap:round; stroke-linejoin:round; stroke-width:4; stroke-opacity:1; fill:none\" points=\"99.6417,961.25 272.754,961.25 \"/>\n",
       "<polyline clip-path=\"url(#clip862)\" style=\"stroke:#000000; stroke-linecap:round; stroke-linejoin:round; stroke-width:4; stroke-opacity:1; fill:none\" points=\"272.754,961.25 274.419,959.586 \"/>\n",
       "<polyline clip-path=\"url(#clip862)\" style=\"stroke:#000000; stroke-linecap:round; stroke-linejoin:round; stroke-width:4; stroke-opacity:1; fill:none\" points=\"274.419,959.586 274.419,942.94 \"/>\n",
       "<polyline clip-path=\"url(#clip862)\" style=\"stroke:#000000; stroke-linecap:round; stroke-linejoin:round; stroke-width:4; stroke-opacity:1; fill:none\" points=\"274.419,942.94 272.754,941.276 \"/>\n",
       "<polyline clip-path=\"url(#clip862)\" style=\"stroke:#000000; stroke-linecap:round; stroke-linejoin:round; stroke-width:4; stroke-opacity:1; fill:none\" points=\"272.754,941.276 -105.097,941.276 \"/>\n",
       "<polyline clip-path=\"url(#clip862)\" style=\"stroke:#000000; stroke-linecap:round; stroke-linejoin:round; stroke-width:4; stroke-opacity:1; fill:none\" points=\"-105.097,941.276 -106.761,942.94 \"/>\n",
       "<polyline clip-path=\"url(#clip862)\" style=\"stroke:#000000; stroke-linecap:round; stroke-linejoin:round; stroke-width:4; stroke-opacity:1; fill:none\" points=\"-106.761,942.94 -106.761,959.586 \"/>\n",
       "<polyline clip-path=\"url(#clip862)\" style=\"stroke:#000000; stroke-linecap:round; stroke-linejoin:round; stroke-width:4; stroke-opacity:1; fill:none\" points=\"-106.761,959.586 -105.097,961.25 \"/>\n",
       "<polyline clip-path=\"url(#clip862)\" style=\"stroke:#000000; stroke-linecap:round; stroke-linejoin:round; stroke-width:4; stroke-opacity:1; fill:none\" points=\"-105.097,961.25 81.3317,961.25 \"/>\n",
       "<polyline clip-path=\"url(#clip862)\" style=\"stroke:#000000; stroke-linecap:round; stroke-linejoin:round; stroke-width:4; stroke-opacity:1; fill:none\" points=\"81.3317,961.25 81.3317,1357.41 \"/>\n",
       "<polyline clip-path=\"url(#clip862)\" style=\"stroke:#000000; stroke-linecap:round; stroke-linejoin:round; stroke-width:4; stroke-opacity:1; fill:none\" points=\"81.3317,1357.41 -481.283,1357.41 \"/>\n",
       "<polyline clip-path=\"url(#clip862)\" style=\"stroke:#000000; stroke-linecap:round; stroke-linejoin:round; stroke-width:4; stroke-opacity:1; fill:none\" points=\"-481.283,1357.41 -481.283,961.25 \"/>\n",
       "<polyline clip-path=\"url(#clip862)\" style=\"stroke:#000000; stroke-linecap:round; stroke-linejoin:round; stroke-width:4; stroke-opacity:1; fill:none\" points=\"-481.283,961.25 -264.893,961.25 \"/>\n",
       "<polyline clip-path=\"url(#clip862)\" style=\"stroke:#000000; stroke-linecap:round; stroke-linejoin:round; stroke-width:4; stroke-opacity:1; fill:none\" points=\"-264.893,961.25 -263.228,959.586 \"/>\n",
       "<polyline clip-path=\"url(#clip862)\" style=\"stroke:#000000; stroke-linecap:round; stroke-linejoin:round; stroke-width:4; stroke-opacity:1; fill:none\" points=\"-263.228,959.586 -263.228,942.94 \"/>\n",
       "<polyline clip-path=\"url(#clip862)\" style=\"stroke:#000000; stroke-linecap:round; stroke-linejoin:round; stroke-width:4; stroke-opacity:1; fill:none\" points=\"-263.228,942.94 -264.893,941.276 \"/>\n",
       "<polyline clip-path=\"url(#clip862)\" style=\"stroke:#000000; stroke-linecap:round; stroke-linejoin:round; stroke-width:4; stroke-opacity:1; fill:none\" points=\"-264.893,941.276 -487.942,941.276 \"/>\n",
       "<polyline clip-path=\"url(#clip862)\" style=\"stroke:#000000; stroke-linecap:round; stroke-linejoin:round; stroke-width:4; stroke-opacity:1; fill:none\" points=\"-487.942,941.276 -489.606,939.611 \"/>\n",
       "<polyline clip-path=\"url(#clip862)\" style=\"stroke:#000000; stroke-linecap:round; stroke-linejoin:round; stroke-width:4; stroke-opacity:1; fill:none\" points=\"-489.606,939.611 -491.271,939.611 \"/>\n",
       "<polyline clip-path=\"url(#clip862)\" style=\"stroke:#000000; stroke-linecap:round; stroke-linejoin:round; stroke-width:4; stroke-opacity:1; fill:none\" points=\"-491.271,939.611 -494.6,936.282 \"/>\n",
       "<polyline clip-path=\"url(#clip862)\" style=\"stroke:#000000; stroke-linecap:round; stroke-linejoin:round; stroke-width:4; stroke-opacity:1; fill:none\" points=\"-494.6,936.282 -496.264,936.282 \"/>\n",
       "<polyline clip-path=\"url(#clip862)\" style=\"stroke:#000000; stroke-linecap:round; stroke-linejoin:round; stroke-width:4; stroke-opacity:1; fill:none\" points=\"-496.264,936.282 -499.593,932.953 \"/>\n",
       "<polyline clip-path=\"url(#clip862)\" style=\"stroke:#000000; stroke-linecap:round; stroke-linejoin:round; stroke-width:4; stroke-opacity:1; fill:none\" points=\"-499.593,932.953 -501.258,932.953 \"/>\n",
       "<polyline clip-path=\"url(#clip862)\" style=\"stroke:#000000; stroke-linecap:round; stroke-linejoin:round; stroke-width:4; stroke-opacity:1; fill:none\" points=\"-501.258,932.953 -504.587,929.624 \"/>\n",
       "<polyline clip-path=\"url(#clip862)\" style=\"stroke:#000000; stroke-linecap:round; stroke-linejoin:round; stroke-width:4; stroke-opacity:1; fill:none\" points=\"-504.587,929.624 -506.252,929.624 \"/>\n",
       "<polyline clip-path=\"url(#clip862)\" style=\"stroke:#000000; stroke-linecap:round; stroke-linejoin:round; stroke-width:4; stroke-opacity:1; fill:none\" points=\"-506.252,929.624 -509.581,926.295 \"/>\n",
       "<polyline clip-path=\"url(#clip862)\" style=\"stroke:#000000; stroke-linecap:round; stroke-linejoin:round; stroke-width:4; stroke-opacity:1; fill:none\" points=\"-509.581,926.295 -511.245,926.295 \"/>\n",
       "<polyline clip-path=\"url(#clip862)\" style=\"stroke:#000000; stroke-linecap:round; stroke-linejoin:round; stroke-width:4; stroke-opacity:1; fill:none\" points=\"-511.245,926.295 -514.574,922.966 \"/>\n",
       "<polyline clip-path=\"url(#clip862)\" style=\"stroke:#000000; stroke-linecap:round; stroke-linejoin:round; stroke-width:4; stroke-opacity:1; fill:none\" points=\"-514.574,922.966 -516.239,922.966 \"/>\n",
       "<polyline clip-path=\"url(#clip862)\" style=\"stroke:#000000; stroke-linecap:round; stroke-linejoin:round; stroke-width:4; stroke-opacity:1; fill:none\" points=\"-516.239,922.966 -517.903,921.301 \"/>\n",
       "<polyline clip-path=\"url(#clip862)\" style=\"stroke:#000000; stroke-linecap:round; stroke-linejoin:round; stroke-width:4; stroke-opacity:1; fill:none\" points=\"-517.903,921.301 -519.568,921.301 \"/>\n",
       "<polyline clip-path=\"url(#clip862)\" style=\"stroke:#000000; stroke-linecap:round; stroke-linejoin:round; stroke-width:4; stroke-opacity:1; fill:none\" points=\"-519.568,921.301 -522.897,917.972 \"/>\n",
       "<polyline clip-path=\"url(#clip862)\" style=\"stroke:#000000; stroke-linecap:round; stroke-linejoin:round; stroke-width:4; stroke-opacity:1; fill:none\" points=\"-522.897,917.972 -524.561,917.972 \"/>\n",
       "<polyline clip-path=\"url(#clip862)\" style=\"stroke:#000000; stroke-linecap:round; stroke-linejoin:round; stroke-width:4; stroke-opacity:1; fill:none\" points=\"-524.561,917.972 -527.891,914.643 \"/>\n",
       "<polyline clip-path=\"url(#clip862)\" style=\"stroke:#000000; stroke-linecap:round; stroke-linejoin:round; stroke-width:4; stroke-opacity:1; fill:none\" points=\"-527.891,914.643 -529.555,914.643 \"/>\n",
       "<polyline clip-path=\"url(#clip862)\" style=\"stroke:#000000; stroke-linecap:round; stroke-linejoin:round; stroke-width:4; stroke-opacity:1; fill:none\" points=\"-529.555,914.643 -532.884,911.314 \"/>\n",
       "<polyline clip-path=\"url(#clip862)\" style=\"stroke:#000000; stroke-linecap:round; stroke-linejoin:round; stroke-width:4; stroke-opacity:1; fill:none\" points=\"-532.884,911.314 -534.549,911.314 \"/>\n",
       "<polyline clip-path=\"url(#clip862)\" style=\"stroke:#000000; stroke-linecap:round; stroke-linejoin:round; stroke-width:4; stroke-opacity:1; fill:none\" points=\"-534.549,911.314 -537.878,907.985 \"/>\n",
       "<polyline clip-path=\"url(#clip862)\" style=\"stroke:#000000; stroke-linecap:round; stroke-linejoin:round; stroke-width:4; stroke-opacity:1; fill:none\" points=\"-537.878,907.985 -539.542,907.985 \"/>\n",
       "<polyline clip-path=\"url(#clip862)\" style=\"stroke:#000000; stroke-linecap:round; stroke-linejoin:round; stroke-width:4; stroke-opacity:1; fill:none\" points=\"-539.542,907.985 -542.871,904.656 \"/>\n",
       "<polyline clip-path=\"url(#clip862)\" style=\"stroke:#000000; stroke-linecap:round; stroke-linejoin:round; stroke-width:4; stroke-opacity:1; fill:none\" points=\"-542.871,904.656 -544.536,904.656 \"/>\n",
       "<polyline clip-path=\"url(#clip862)\" style=\"stroke:#000000; stroke-linecap:round; stroke-linejoin:round; stroke-width:4; stroke-opacity:1; fill:none\" points=\"-544.536,904.656 -547.865,901.327 \"/>\n",
       "<polyline clip-path=\"url(#clip862)\" style=\"stroke:#000000; stroke-linecap:round; stroke-linejoin:round; stroke-width:4; stroke-opacity:1; fill:none\" points=\"-547.865,901.327 -549.53,901.327 \"/>\n",
       "<polyline clip-path=\"url(#clip862)\" style=\"stroke:#000000; stroke-linecap:round; stroke-linejoin:round; stroke-width:4; stroke-opacity:1; fill:none\" points=\"-549.53,901.327 -552.859,897.997 \"/>\n",
       "<polyline clip-path=\"url(#clip862)\" style=\"stroke:#000000; stroke-linecap:round; stroke-linejoin:round; stroke-width:4; stroke-opacity:1; fill:none\" points=\"-552.859,897.997 -554.523,897.997 \"/>\n",
       "<polyline clip-path=\"url(#clip862)\" style=\"stroke:#000000; stroke-linecap:round; stroke-linejoin:round; stroke-width:4; stroke-opacity:1; fill:none\" points=\"-554.523,897.997 -557.852,894.668 \"/>\n",
       "<polyline clip-path=\"url(#clip862)\" style=\"stroke:#000000; stroke-linecap:round; stroke-linejoin:round; stroke-width:4; stroke-opacity:1; fill:none\" points=\"-557.852,894.668 -559.517,894.668 \"/>\n",
       "<polyline clip-path=\"url(#clip862)\" style=\"stroke:#000000; stroke-linecap:round; stroke-linejoin:round; stroke-width:4; stroke-opacity:1; fill:none\" points=\"-559.517,894.668 -562.846,891.339 \"/>\n",
       "<polyline clip-path=\"url(#clip862)\" style=\"stroke:#000000; stroke-linecap:round; stroke-linejoin:round; stroke-width:4; stroke-opacity:1; fill:none\" points=\"-562.846,891.339 -564.51,891.339 \"/>\n",
       "<polyline clip-path=\"url(#clip862)\" style=\"stroke:#000000; stroke-linecap:round; stroke-linejoin:round; stroke-width:4; stroke-opacity:1; fill:none\" points=\"-564.51,891.339 -567.84,888.01 \"/>\n",
       "<polyline clip-path=\"url(#clip862)\" style=\"stroke:#000000; stroke-linecap:round; stroke-linejoin:round; stroke-width:4; stroke-opacity:1; fill:none\" points=\"-567.84,888.01 -569.504,888.01 \"/>\n",
       "<polyline clip-path=\"url(#clip862)\" style=\"stroke:#000000; stroke-linecap:round; stroke-linejoin:round; stroke-width:4; stroke-opacity:1; fill:none\" points=\"-569.504,888.01 -572.833,884.681 \"/>\n",
       "<polyline clip-path=\"url(#clip862)\" style=\"stroke:#000000; stroke-linecap:round; stroke-linejoin:round; stroke-width:4; stroke-opacity:1; fill:none\" points=\"-572.833,884.681 -574.498,884.681 \"/>\n",
       "<polyline clip-path=\"url(#clip862)\" style=\"stroke:#000000; stroke-linecap:round; stroke-linejoin:round; stroke-width:4; stroke-opacity:1; fill:none\" points=\"-574.498,884.681 -577.827,881.352 \"/>\n",
       "<polyline clip-path=\"url(#clip862)\" style=\"stroke:#000000; stroke-linecap:round; stroke-linejoin:round; stroke-width:4; stroke-opacity:1; fill:none\" points=\"-577.827,881.352 -579.491,881.352 \"/>\n",
       "<polyline clip-path=\"url(#clip862)\" style=\"stroke:#000000; stroke-linecap:round; stroke-linejoin:round; stroke-width:4; stroke-opacity:1; fill:none\" points=\"-579.491,881.352 -582.82,878.023 \"/>\n",
       "<polyline clip-path=\"url(#clip862)\" style=\"stroke:#000000; stroke-linecap:round; stroke-linejoin:round; stroke-width:4; stroke-opacity:1; fill:none\" points=\"-582.82,878.023 -584.485,878.023 \"/>\n",
       "<polyline clip-path=\"url(#clip862)\" style=\"stroke:#000000; stroke-linecap:round; stroke-linejoin:round; stroke-width:4; stroke-opacity:1; fill:none\" points=\"-584.485,878.023 -587.814,874.694 \"/>\n",
       "<polyline clip-path=\"url(#clip862)\" style=\"stroke:#000000; stroke-linecap:round; stroke-linejoin:round; stroke-width:4; stroke-opacity:1; fill:none\" points=\"-587.814,874.694 -589.479,874.694 \"/>\n",
       "<polyline clip-path=\"url(#clip862)\" style=\"stroke:#000000; stroke-linecap:round; stroke-linejoin:round; stroke-width:4; stroke-opacity:1; fill:none\" points=\"-589.479,874.694 -591.143,873.029 \"/>\n",
       "<polyline clip-path=\"url(#clip862)\" style=\"stroke:#000000; stroke-linecap:round; stroke-linejoin:round; stroke-width:4; stroke-opacity:1; fill:none\" points=\"-591.143,873.029 -592.808,873.029 \"/>\n",
       "<polyline clip-path=\"url(#clip862)\" style=\"stroke:#000000; stroke-linecap:round; stroke-linejoin:round; stroke-width:4; stroke-opacity:1; fill:none\" points=\"-592.808,873.029 -596.137,869.7 \"/>\n",
       "<polyline clip-path=\"url(#clip862)\" style=\"stroke:#000000; stroke-linecap:round; stroke-linejoin:round; stroke-width:4; stroke-opacity:1; fill:none\" points=\"-596.137,869.7 -597.801,869.7 \"/>\n",
       "<polyline clip-path=\"url(#clip862)\" style=\"stroke:#000000; stroke-linecap:round; stroke-linejoin:round; stroke-width:4; stroke-opacity:1; fill:none\" points=\"-597.801,869.7 -601.13,866.371 \"/>\n",
       "<polyline clip-path=\"url(#clip862)\" style=\"stroke:#000000; stroke-linecap:round; stroke-linejoin:round; stroke-width:4; stroke-opacity:1; fill:none\" points=\"-601.13,866.371 -602.795,866.371 \"/>\n",
       "<polyline clip-path=\"url(#clip862)\" style=\"stroke:#000000; stroke-linecap:round; stroke-linejoin:round; stroke-width:4; stroke-opacity:1; fill:none\" points=\"-602.795,866.371 -606.124,863.042 \"/>\n",
       "<polyline clip-path=\"url(#clip862)\" style=\"stroke:#000000; stroke-linecap:round; stroke-linejoin:round; stroke-width:4; stroke-opacity:1; fill:none\" points=\"-606.124,863.042 -607.789,863.042 \"/>\n",
       "<polyline clip-path=\"url(#clip862)\" style=\"stroke:#000000; stroke-linecap:round; stroke-linejoin:round; stroke-width:4; stroke-opacity:1; fill:none\" points=\"-607.789,863.042 -611.118,859.713 \"/>\n",
       "<polyline clip-path=\"url(#clip862)\" style=\"stroke:#000000; stroke-linecap:round; stroke-linejoin:round; stroke-width:4; stroke-opacity:1; fill:none\" points=\"-611.118,859.713 -612.782,859.713 \"/>\n",
       "<polyline clip-path=\"url(#clip862)\" style=\"stroke:#000000; stroke-linecap:round; stroke-linejoin:round; stroke-width:4; stroke-opacity:1; fill:none\" points=\"-612.782,859.713 -616.111,856.384 \"/>\n",
       "<polyline clip-path=\"url(#clip862)\" style=\"stroke:#000000; stroke-linecap:round; stroke-linejoin:round; stroke-width:4; stroke-opacity:1; fill:none\" points=\"-616.111,856.384 -617.776,856.384 \"/>\n",
       "<polyline clip-path=\"url(#clip862)\" style=\"stroke:#000000; stroke-linecap:round; stroke-linejoin:round; stroke-width:4; stroke-opacity:1; fill:none\" points=\"-617.776,856.384 -621.105,853.055 \"/>\n",
       "<polyline clip-path=\"url(#clip862)\" style=\"stroke:#000000; stroke-linecap:round; stroke-linejoin:round; stroke-width:4; stroke-opacity:1; fill:none\" points=\"-621.105,853.055 -622.769,853.055 \"/>\n",
       "<polyline clip-path=\"url(#clip862)\" style=\"stroke:#000000; stroke-linecap:round; stroke-linejoin:round; stroke-width:4; stroke-opacity:1; fill:none\" points=\"-622.769,853.055 -626.099,849.726 \"/>\n",
       "<polyline clip-path=\"url(#clip862)\" style=\"stroke:#000000; stroke-linecap:round; stroke-linejoin:round; stroke-width:4; stroke-opacity:1; fill:none\" points=\"-626.099,849.726 -627.763,849.726 \"/>\n",
       "<polyline clip-path=\"url(#clip862)\" style=\"stroke:#000000; stroke-linecap:round; stroke-linejoin:round; stroke-width:4; stroke-opacity:1; fill:none\" points=\"-627.763,849.726 -631.092,846.397 \"/>\n",
       "<polyline clip-path=\"url(#clip862)\" style=\"stroke:#000000; stroke-linecap:round; stroke-linejoin:round; stroke-width:4; stroke-opacity:1; fill:none\" points=\"-631.092,846.397 -632.757,846.397 \"/>\n",
       "<polyline clip-path=\"url(#clip862)\" style=\"stroke:#000000; stroke-linecap:round; stroke-linejoin:round; stroke-width:4; stroke-opacity:1; fill:none\" points=\"-632.757,846.397 -636.086,843.068 \"/>\n",
       "<polyline clip-path=\"url(#clip862)\" style=\"stroke:#000000; stroke-linecap:round; stroke-linejoin:round; stroke-width:4; stroke-opacity:1; fill:none\" points=\"-636.086,843.068 -637.75,843.068 \"/>\n",
       "<polyline clip-path=\"url(#clip862)\" style=\"stroke:#000000; stroke-linecap:round; stroke-linejoin:round; stroke-width:4; stroke-opacity:1; fill:none\" points=\"-637.75,843.068 -641.079,839.739 \"/>\n",
       "<polyline clip-path=\"url(#clip862)\" style=\"stroke:#000000; stroke-linecap:round; stroke-linejoin:round; stroke-width:4; stroke-opacity:1; fill:none\" points=\"-641.079,839.739 -642.744,839.739 \"/>\n",
       "<polyline clip-path=\"url(#clip862)\" style=\"stroke:#000000; stroke-linecap:round; stroke-linejoin:round; stroke-width:4; stroke-opacity:1; fill:none\" points=\"-642.744,839.739 -646.073,836.409 \"/>\n",
       "<polyline clip-path=\"url(#clip862)\" style=\"stroke:#000000; stroke-linecap:round; stroke-linejoin:round; stroke-width:4; stroke-opacity:1; fill:none\" points=\"-646.073,836.409 -647.738,836.409 \"/>\n",
       "<polyline clip-path=\"url(#clip862)\" style=\"stroke:#000000; stroke-linecap:round; stroke-linejoin:round; stroke-width:4; stroke-opacity:1; fill:none\" points=\"-647.738,836.409 -651.067,833.08 \"/>\n",
       "<polyline clip-path=\"url(#clip862)\" style=\"stroke:#000000; stroke-linecap:round; stroke-linejoin:round; stroke-width:4; stroke-opacity:1; fill:none\" points=\"-651.067,833.08 -652.731,833.08 \"/>\n",
       "<polyline clip-path=\"url(#clip862)\" style=\"stroke:#000000; stroke-linecap:round; stroke-linejoin:round; stroke-width:4; stroke-opacity:1; fill:none\" points=\"-652.731,833.08 -656.06,829.751 \"/>\n",
       "<polyline clip-path=\"url(#clip862)\" style=\"stroke:#000000; stroke-linecap:round; stroke-linejoin:round; stroke-width:4; stroke-opacity:1; fill:none\" points=\"-656.06,829.751 -657.725,829.751 \"/>\n",
       "<polyline clip-path=\"url(#clip862)\" style=\"stroke:#000000; stroke-linecap:round; stroke-linejoin:round; stroke-width:4; stroke-opacity:1; fill:none\" points=\"-657.725,829.751 -661.054,826.422 \"/>\n",
       "<polyline clip-path=\"url(#clip862)\" style=\"stroke:#000000; stroke-linecap:round; stroke-linejoin:round; stroke-width:4; stroke-opacity:1; fill:none\" points=\"-661.054,826.422 -662.718,826.422 \"/>\n",
       "<polyline clip-path=\"url(#clip862)\" style=\"stroke:#000000; stroke-linecap:round; stroke-linejoin:round; stroke-width:4; stroke-opacity:1; fill:none\" points=\"-662.718,826.422 -664.383,824.758 \"/>\n",
       "<polyline clip-path=\"url(#clip862)\" style=\"stroke:#000000; stroke-linecap:round; stroke-linejoin:round; stroke-width:4; stroke-opacity:1; fill:none\" points=\"-664.383,824.758 -666.048,824.758 \"/>\n",
       "<polyline clip-path=\"url(#clip862)\" style=\"stroke:#000000; stroke-linecap:round; stroke-linejoin:round; stroke-width:4; stroke-opacity:1; fill:none\" points=\"-666.048,824.758 -669.377,821.429 \"/>\n",
       "<polyline clip-path=\"url(#clip862)\" style=\"stroke:#000000; stroke-linecap:round; stroke-linejoin:round; stroke-width:4; stroke-opacity:1; fill:none\" points=\"-669.377,821.429 -671.041,821.429 \"/>\n",
       "<polyline clip-path=\"url(#clip862)\" style=\"stroke:#000000; stroke-linecap:round; stroke-linejoin:round; stroke-width:4; stroke-opacity:1; fill:none\" points=\"-671.041,821.429 -674.37,818.099 \"/>\n",
       "<polyline clip-path=\"url(#clip862)\" style=\"stroke:#000000; stroke-linecap:round; stroke-linejoin:round; stroke-width:4; stroke-opacity:1; fill:none\" points=\"-674.37,818.099 -676.035,818.099 \"/>\n",
       "<polyline clip-path=\"url(#clip862)\" style=\"stroke:#000000; stroke-linecap:round; stroke-linejoin:round; stroke-width:4; stroke-opacity:1; fill:none\" points=\"-676.035,818.099 -679.364,814.77 \"/>\n",
       "<polyline clip-path=\"url(#clip862)\" style=\"stroke:#000000; stroke-linecap:round; stroke-linejoin:round; stroke-width:4; stroke-opacity:1; fill:none\" points=\"-679.364,814.77 -681.028,814.77 \"/>\n",
       "<polyline clip-path=\"url(#clip862)\" style=\"stroke:#000000; stroke-linecap:round; stroke-linejoin:round; stroke-width:4; stroke-opacity:1; fill:none\" points=\"-681.028,814.77 -684.358,811.441 \"/>\n",
       "<polyline clip-path=\"url(#clip862)\" style=\"stroke:#000000; stroke-linecap:round; stroke-linejoin:round; stroke-width:4; stroke-opacity:1; fill:none\" points=\"-684.358,811.441 -686.022,811.441 \"/>\n",
       "<polyline clip-path=\"url(#clip862)\" style=\"stroke:#000000; stroke-linecap:round; stroke-linejoin:round; stroke-width:4; stroke-opacity:1; fill:none\" points=\"-686.022,811.441 -689.351,808.112 \"/>\n",
       "<polyline clip-path=\"url(#clip862)\" style=\"stroke:#000000; stroke-linecap:round; stroke-linejoin:round; stroke-width:4; stroke-opacity:1; fill:none\" points=\"-689.351,808.112 -691.016,808.112 \"/>\n",
       "<polyline clip-path=\"url(#clip862)\" style=\"stroke:#000000; stroke-linecap:round; stroke-linejoin:round; stroke-width:4; stroke-opacity:1; fill:none\" points=\"-691.016,808.112 -694.345,804.783 \"/>\n",
       "<polyline clip-path=\"url(#clip862)\" style=\"stroke:#000000; stroke-linecap:round; stroke-linejoin:round; stroke-width:4; stroke-opacity:1; fill:none\" points=\"-694.345,804.783 -696.009,804.783 \"/>\n",
       "<polyline clip-path=\"url(#clip862)\" style=\"stroke:#000000; stroke-linecap:round; stroke-linejoin:round; stroke-width:4; stroke-opacity:1; fill:none\" points=\"-696.009,804.783 -699.338,801.454 \"/>\n",
       "<polyline clip-path=\"url(#clip862)\" style=\"stroke:#000000; stroke-linecap:round; stroke-linejoin:round; stroke-width:4; stroke-opacity:1; fill:none\" points=\"-699.338,801.454 -701.003,801.454 \"/>\n",
       "<polyline clip-path=\"url(#clip862)\" style=\"stroke:#000000; stroke-linecap:round; stroke-linejoin:round; stroke-width:4; stroke-opacity:1; fill:none\" points=\"-701.003,801.454 -704.332,798.125 \"/>\n",
       "<polyline clip-path=\"url(#clip862)\" style=\"stroke:#000000; stroke-linecap:round; stroke-linejoin:round; stroke-width:4; stroke-opacity:1; fill:none\" points=\"-704.332,798.125 -705.997,798.125 \"/>\n",
       "<polyline clip-path=\"url(#clip862)\" style=\"stroke:#000000; stroke-linecap:round; stroke-linejoin:round; stroke-width:4; stroke-opacity:1; fill:none\" points=\"-705.997,798.125 -709.326,794.796 \"/>\n",
       "<polyline clip-path=\"url(#clip862)\" style=\"stroke:#000000; stroke-linecap:round; stroke-linejoin:round; stroke-width:4; stroke-opacity:1; fill:none\" points=\"-709.326,794.796 -710.99,794.796 \"/>\n",
       "<polyline clip-path=\"url(#clip862)\" style=\"stroke:#000000; stroke-linecap:round; stroke-linejoin:round; stroke-width:4; stroke-opacity:1; fill:none\" points=\"-710.99,794.796 -714.319,791.467 \"/>\n",
       "<polyline clip-path=\"url(#clip862)\" style=\"stroke:#000000; stroke-linecap:round; stroke-linejoin:round; stroke-width:4; stroke-opacity:1; fill:none\" points=\"-714.319,791.467 -715.984,791.467 \"/>\n",
       "<polyline clip-path=\"url(#clip862)\" style=\"stroke:#000000; stroke-linecap:round; stroke-linejoin:round; stroke-width:4; stroke-opacity:1; fill:none\" points=\"-715.984,791.467 -719.313,788.138 \"/>\n",
       "<polyline clip-path=\"url(#clip862)\" style=\"stroke:#000000; stroke-linecap:round; stroke-linejoin:round; stroke-width:4; stroke-opacity:1; fill:none\" points=\"-719.313,788.138 -720.977,788.138 \"/>\n",
       "<polyline clip-path=\"url(#clip862)\" style=\"stroke:#000000; stroke-linecap:round; stroke-linejoin:round; stroke-width:4; stroke-opacity:1; fill:none\" points=\"-720.977,788.138 -724.307,784.809 \"/>\n",
       "<polyline clip-path=\"url(#clip862)\" style=\"stroke:#000000; stroke-linecap:round; stroke-linejoin:round; stroke-width:4; stroke-opacity:1; fill:none\" points=\"-724.307,784.809 -725.971,784.809 \"/>\n",
       "<polyline clip-path=\"url(#clip862)\" style=\"stroke:#000000; stroke-linecap:round; stroke-linejoin:round; stroke-width:4; stroke-opacity:1; fill:none\" points=\"-725.971,784.809 -729.3,781.48 \"/>\n",
       "<polyline clip-path=\"url(#clip862)\" style=\"stroke:#000000; stroke-linecap:round; stroke-linejoin:round; stroke-width:4; stroke-opacity:1; fill:none\" points=\"-729.3,781.48 -730.965,781.48 \"/>\n",
       "<polyline clip-path=\"url(#clip862)\" style=\"stroke:#000000; stroke-linecap:round; stroke-linejoin:round; stroke-width:4; stroke-opacity:1; fill:none\" points=\"-730.965,781.48 -734.294,778.15 \"/>\n",
       "<polyline clip-path=\"url(#clip862)\" style=\"stroke:#000000; stroke-linecap:round; stroke-linejoin:round; stroke-width:4; stroke-opacity:1; fill:none\" points=\"-734.294,778.15 -735.958,778.15 \"/>\n",
       "<polyline clip-path=\"url(#clip862)\" style=\"stroke:#000000; stroke-linecap:round; stroke-linejoin:round; stroke-width:4; stroke-opacity:1; fill:none\" points=\"-735.958,778.15 -737.623,776.486 \"/>\n",
       "<polyline clip-path=\"url(#clip862)\" style=\"stroke:#000000; stroke-linecap:round; stroke-linejoin:round; stroke-width:4; stroke-opacity:1; fill:none\" points=\"-737.623,776.486 -739.287,776.486 \"/>\n",
       "<polyline clip-path=\"url(#clip862)\" style=\"stroke:#000000; stroke-linecap:round; stroke-linejoin:round; stroke-width:4; stroke-opacity:1; fill:none\" points=\"-739.287,776.486 -742.616,773.157 \"/>\n",
       "<polyline clip-path=\"url(#clip862)\" style=\"stroke:#000000; stroke-linecap:round; stroke-linejoin:round; stroke-width:4; stroke-opacity:1; fill:none\" points=\"-742.616,773.157 -744.281,773.157 \"/>\n",
       "<polyline clip-path=\"url(#clip862)\" style=\"stroke:#000000; stroke-linecap:round; stroke-linejoin:round; stroke-width:4; stroke-opacity:1; fill:none\" points=\"-744.281,773.157 -747.61,769.828 \"/>\n",
       "<polyline clip-path=\"url(#clip862)\" style=\"stroke:#000000; stroke-linecap:round; stroke-linejoin:round; stroke-width:4; stroke-opacity:1; fill:none\" points=\"-747.61,769.828 -749.275,769.828 \"/>\n",
       "<polyline clip-path=\"url(#clip862)\" style=\"stroke:#000000; stroke-linecap:round; stroke-linejoin:round; stroke-width:4; stroke-opacity:1; fill:none\" points=\"-749.275,769.828 -752.604,766.499 \"/>\n",
       "<polyline clip-path=\"url(#clip862)\" style=\"stroke:#000000; stroke-linecap:round; stroke-linejoin:round; stroke-width:4; stroke-opacity:1; fill:none\" points=\"-752.604,766.499 -754.268,766.499 \"/>\n",
       "<polyline clip-path=\"url(#clip862)\" style=\"stroke:#000000; stroke-linecap:round; stroke-linejoin:round; stroke-width:4; stroke-opacity:1; fill:none\" points=\"-754.268,766.499 -757.597,763.17 \"/>\n",
       "<polyline clip-path=\"url(#clip862)\" style=\"stroke:#000000; stroke-linecap:round; stroke-linejoin:round; stroke-width:4; stroke-opacity:1; fill:none\" points=\"-757.597,763.17 -759.262,763.17 \"/>\n",
       "<polyline clip-path=\"url(#clip862)\" style=\"stroke:#000000; stroke-linecap:round; stroke-linejoin:round; stroke-width:4; stroke-opacity:1; fill:none\" points=\"-759.262,763.17 -762.591,759.84 \"/>\n",
       "<polyline clip-path=\"url(#clip862)\" style=\"stroke:#000000; stroke-linecap:round; stroke-linejoin:round; stroke-width:4; stroke-opacity:1; fill:none\" points=\"-762.591,759.84 -764.256,759.84 \"/>\n",
       "<polyline clip-path=\"url(#clip862)\" style=\"stroke:#000000; stroke-linecap:round; stroke-linejoin:round; stroke-width:4; stroke-opacity:1; fill:none\" points=\"-764.256,759.84 -767.585,756.511 \"/>\n",
       "<polyline clip-path=\"url(#clip862)\" style=\"stroke:#000000; stroke-linecap:round; stroke-linejoin:round; stroke-width:4; stroke-opacity:1; fill:none\" points=\"-767.585,756.511 -769.249,756.511 \"/>\n",
       "<polyline clip-path=\"url(#clip862)\" style=\"stroke:#000000; stroke-linecap:round; stroke-linejoin:round; stroke-width:4; stroke-opacity:1; fill:none\" points=\"-769.249,756.511 -772.578,753.182 \"/>\n",
       "<polyline clip-path=\"url(#clip862)\" style=\"stroke:#000000; stroke-linecap:round; stroke-linejoin:round; stroke-width:4; stroke-opacity:1; fill:none\" points=\"-772.578,753.182 -774.243,753.182 \"/>\n",
       "<polyline clip-path=\"url(#clip862)\" style=\"stroke:#000000; stroke-linecap:round; stroke-linejoin:round; stroke-width:4; stroke-opacity:1; fill:none\" points=\"-774.243,753.182 -777.572,749.853 \"/>\n",
       "<polyline clip-path=\"url(#clip862)\" style=\"stroke:#000000; stroke-linecap:round; stroke-linejoin:round; stroke-width:4; stroke-opacity:1; fill:none\" points=\"-777.572,749.853 -779.236,749.853 \"/>\n",
       "<polyline clip-path=\"url(#clip862)\" style=\"stroke:#000000; stroke-linecap:round; stroke-linejoin:round; stroke-width:4; stroke-opacity:1; fill:none\" points=\"-779.236,749.853 -782.565,746.524 \"/>\n",
       "<polyline clip-path=\"url(#clip862)\" style=\"stroke:#000000; stroke-linecap:round; stroke-linejoin:round; stroke-width:4; stroke-opacity:1; fill:none\" points=\"-782.565,746.524 -784.23,746.524 \"/>\n",
       "<polyline clip-path=\"url(#clip862)\" style=\"stroke:#000000; stroke-linecap:round; stroke-linejoin:round; stroke-width:4; stroke-opacity:1; fill:none\" points=\"-784.23,746.524 -785.895,744.86 \"/>\n",
       "<polyline clip-path=\"url(#clip862)\" style=\"stroke:#000000; stroke-linecap:round; stroke-linejoin:round; stroke-width:4; stroke-opacity:1; fill:none\" points=\"-785.895,744.86 -785.895,260.478 \"/>\n",
       "<polyline clip-path=\"url(#clip862)\" style=\"stroke:#000000; stroke-linecap:round; stroke-linejoin:round; stroke-width:4; stroke-opacity:1; fill:none\" points=\"-785.895,260.478 -784.23,258.813 \"/>\n",
       "<polyline clip-path=\"url(#clip862)\" style=\"stroke:#000000; stroke-linecap:round; stroke-linejoin:round; stroke-width:4; stroke-opacity:1; fill:none\" points=\"-784.23,258.813 -782.565,258.813 \"/>\n",
       "<polyline clip-path=\"url(#clip862)\" style=\"stroke:#000000; stroke-linecap:round; stroke-linejoin:round; stroke-width:4; stroke-opacity:1; fill:none\" points=\"-782.565,258.813 -779.236,255.484 \"/>\n",
       "<polyline clip-path=\"url(#clip862)\" style=\"stroke:#000000; stroke-linecap:round; stroke-linejoin:round; stroke-width:4; stroke-opacity:1; fill:none\" points=\"-779.236,255.484 -777.572,255.484 \"/>\n",
       "<polyline clip-path=\"url(#clip862)\" style=\"stroke:#000000; stroke-linecap:round; stroke-linejoin:round; stroke-width:4; stroke-opacity:1; fill:none\" points=\"-777.572,255.484 -774.243,252.155 \"/>\n",
       "<polyline clip-path=\"url(#clip862)\" style=\"stroke:#000000; stroke-linecap:round; stroke-linejoin:round; stroke-width:4; stroke-opacity:1; fill:none\" points=\"-774.243,252.155 -772.578,252.155 \"/>\n",
       "<polyline clip-path=\"url(#clip862)\" style=\"stroke:#000000; stroke-linecap:round; stroke-linejoin:round; stroke-width:4; stroke-opacity:1; fill:none\" points=\"-772.578,252.155 -769.249,248.826 \"/>\n",
       "<polyline clip-path=\"url(#clip862)\" style=\"stroke:#000000; stroke-linecap:round; stroke-linejoin:round; stroke-width:4; stroke-opacity:1; fill:none\" points=\"-769.249,248.826 -767.585,248.826 \"/>\n",
       "<polyline clip-path=\"url(#clip862)\" style=\"stroke:#000000; stroke-linecap:round; stroke-linejoin:round; stroke-width:4; stroke-opacity:1; fill:none\" points=\"-767.585,248.826 -764.256,245.497 \"/>\n",
       "<polyline clip-path=\"url(#clip862)\" style=\"stroke:#000000; stroke-linecap:round; stroke-linejoin:round; stroke-width:4; stroke-opacity:1; fill:none\" points=\"-764.256,245.497 -762.591,245.497 \"/>\n",
       "<polyline clip-path=\"url(#clip862)\" style=\"stroke:#000000; stroke-linecap:round; stroke-linejoin:round; stroke-width:4; stroke-opacity:1; fill:none\" points=\"-762.591,245.497 -759.262,242.168 \"/>\n",
       "<polyline clip-path=\"url(#clip862)\" style=\"stroke:#000000; stroke-linecap:round; stroke-linejoin:round; stroke-width:4; stroke-opacity:1; fill:none\" points=\"-759.262,242.168 -757.597,242.168 \"/>\n",
       "<polyline clip-path=\"url(#clip862)\" style=\"stroke:#000000; stroke-linecap:round; stroke-linejoin:round; stroke-width:4; stroke-opacity:1; fill:none\" points=\"-757.597,242.168 -754.268,238.839 \"/>\n",
       "<polyline clip-path=\"url(#clip862)\" style=\"stroke:#000000; stroke-linecap:round; stroke-linejoin:round; stroke-width:4; stroke-opacity:1; fill:none\" points=\"-754.268,238.839 -752.604,238.839 \"/>\n",
       "<polyline clip-path=\"url(#clip862)\" style=\"stroke:#000000; stroke-linecap:round; stroke-linejoin:round; stroke-width:4; stroke-opacity:1; fill:none\" points=\"-752.604,238.839 -749.275,235.51 \"/>\n",
       "<polyline clip-path=\"url(#clip862)\" style=\"stroke:#000000; stroke-linecap:round; stroke-linejoin:round; stroke-width:4; stroke-opacity:1; fill:none\" points=\"-749.275,235.51 -747.61,235.51 \"/>\n",
       "<polyline clip-path=\"url(#clip862)\" style=\"stroke:#000000; stroke-linecap:round; stroke-linejoin:round; stroke-width:4; stroke-opacity:1; fill:none\" points=\"-747.61,235.51 -744.281,232.181 \"/>\n",
       "<polyline clip-path=\"url(#clip862)\" style=\"stroke:#000000; stroke-linecap:round; stroke-linejoin:round; stroke-width:4; stroke-opacity:1; fill:none\" points=\"-744.281,232.181 -742.616,232.181 \"/>\n",
       "<polyline clip-path=\"url(#clip862)\" style=\"stroke:#000000; stroke-linecap:round; stroke-linejoin:round; stroke-width:4; stroke-opacity:1; fill:none\" points=\"-742.616,232.181 -739.287,228.852 \"/>\n",
       "<polyline clip-path=\"url(#clip862)\" style=\"stroke:#000000; stroke-linecap:round; stroke-linejoin:round; stroke-width:4; stroke-opacity:1; fill:none\" points=\"-739.287,228.852 -737.623,228.852 \"/>\n",
       "<polyline clip-path=\"url(#clip862)\" style=\"stroke:#000000; stroke-linecap:round; stroke-linejoin:round; stroke-width:4; stroke-opacity:1; fill:none\" points=\"-737.623,228.852 -734.294,225.523 \"/>\n",
       "<polyline clip-path=\"url(#clip862)\" style=\"stroke:#000000; stroke-linecap:round; stroke-linejoin:round; stroke-width:4; stroke-opacity:1; fill:none\" points=\"-734.294,225.523 -732.629,225.523 \"/>\n",
       "<polyline clip-path=\"url(#clip862)\" style=\"stroke:#000000; stroke-linecap:round; stroke-linejoin:round; stroke-width:4; stroke-opacity:1; fill:none\" points=\"-732.629,225.523 -729.3,222.193 \"/>\n",
       "<polyline clip-path=\"url(#clip862)\" style=\"stroke:#000000; stroke-linecap:round; stroke-linejoin:round; stroke-width:4; stroke-opacity:1; fill:none\" points=\"-729.3,222.193 -727.636,222.193 \"/>\n",
       "<polyline clip-path=\"url(#clip862)\" style=\"stroke:#000000; stroke-linecap:round; stroke-linejoin:round; stroke-width:4; stroke-opacity:1; fill:none\" points=\"-727.636,222.193 -724.307,218.864 \"/>\n",
       "<polyline clip-path=\"url(#clip862)\" style=\"stroke:#000000; stroke-linecap:round; stroke-linejoin:round; stroke-width:4; stroke-opacity:1; fill:none\" points=\"-724.307,218.864 -722.642,218.864 \"/>\n",
       "<polyline clip-path=\"url(#clip862)\" style=\"stroke:#000000; stroke-linecap:round; stroke-linejoin:round; stroke-width:4; stroke-opacity:1; fill:none\" points=\"-722.642,218.864 -719.313,215.535 \"/>\n",
       "<polyline clip-path=\"url(#clip862)\" style=\"stroke:#000000; stroke-linecap:round; stroke-linejoin:round; stroke-width:4; stroke-opacity:1; fill:none\" points=\"-719.313,215.535 -717.648,215.535 \"/>\n",
       "<polyline clip-path=\"url(#clip862)\" style=\"stroke:#000000; stroke-linecap:round; stroke-linejoin:round; stroke-width:4; stroke-opacity:1; fill:none\" points=\"-717.648,215.535 -714.319,212.206 \"/>\n",
       "<polyline clip-path=\"url(#clip862)\" style=\"stroke:#000000; stroke-linecap:round; stroke-linejoin:round; stroke-width:4; stroke-opacity:1; fill:none\" points=\"-714.319,212.206 -712.655,212.206 \"/>\n",
       "<polyline clip-path=\"url(#clip862)\" style=\"stroke:#000000; stroke-linecap:round; stroke-linejoin:round; stroke-width:4; stroke-opacity:1; fill:none\" points=\"-712.655,212.206 -709.326,208.877 \"/>\n",
       "<polyline clip-path=\"url(#clip862)\" style=\"stroke:#000000; stroke-linecap:round; stroke-linejoin:round; stroke-width:4; stroke-opacity:1; fill:none\" points=\"-709.326,208.877 -707.661,208.877 \"/>\n",
       "<polyline clip-path=\"url(#clip862)\" style=\"stroke:#000000; stroke-linecap:round; stroke-linejoin:round; stroke-width:4; stroke-opacity:1; fill:none\" points=\"-707.661,208.877 -704.332,205.548 \"/>\n",
       "<polyline clip-path=\"url(#clip862)\" style=\"stroke:#000000; stroke-linecap:round; stroke-linejoin:round; stroke-width:4; stroke-opacity:1; fill:none\" points=\"-704.332,205.548 -702.667,205.548 \"/>\n",
       "<polyline clip-path=\"url(#clip862)\" style=\"stroke:#000000; stroke-linecap:round; stroke-linejoin:round; stroke-width:4; stroke-opacity:1; fill:none\" points=\"-702.667,205.548 -699.338,202.219 \"/>\n",
       "<polyline clip-path=\"url(#clip862)\" style=\"stroke:#000000; stroke-linecap:round; stroke-linejoin:round; stroke-width:4; stroke-opacity:1; fill:none\" points=\"-699.338,202.219 -697.674,202.219 \"/>\n",
       "<polyline clip-path=\"url(#clip862)\" style=\"stroke:#000000; stroke-linecap:round; stroke-linejoin:round; stroke-width:4; stroke-opacity:1; fill:none\" points=\"-697.674,202.219 -694.345,198.89 \"/>\n",
       "<polyline clip-path=\"url(#clip862)\" style=\"stroke:#000000; stroke-linecap:round; stroke-linejoin:round; stroke-width:4; stroke-opacity:1; fill:none\" points=\"-694.345,198.89 -692.68,198.89 \"/>\n",
       "<polyline clip-path=\"url(#clip862)\" style=\"stroke:#000000; stroke-linecap:round; stroke-linejoin:round; stroke-width:4; stroke-opacity:1; fill:none\" points=\"-692.68,198.89 -689.351,195.561 \"/>\n",
       "<polyline clip-path=\"url(#clip862)\" style=\"stroke:#000000; stroke-linecap:round; stroke-linejoin:round; stroke-width:4; stroke-opacity:1; fill:none\" points=\"-689.351,195.561 -687.687,195.561 \"/>\n",
       "<polyline clip-path=\"url(#clip862)\" style=\"stroke:#000000; stroke-linecap:round; stroke-linejoin:round; stroke-width:4; stroke-opacity:1; fill:none\" points=\"-687.687,195.561 -684.358,192.232 \"/>\n",
       "<polyline clip-path=\"url(#clip862)\" style=\"stroke:#000000; stroke-linecap:round; stroke-linejoin:round; stroke-width:4; stroke-opacity:1; fill:none\" points=\"-684.358,192.232 -682.693,192.232 \"/>\n",
       "<polyline clip-path=\"url(#clip862)\" style=\"stroke:#000000; stroke-linecap:round; stroke-linejoin:round; stroke-width:4; stroke-opacity:1; fill:none\" points=\"-682.693,192.232 -679.364,188.903 \"/>\n",
       "<polyline clip-path=\"url(#clip862)\" style=\"stroke:#000000; stroke-linecap:round; stroke-linejoin:round; stroke-width:4; stroke-opacity:1; fill:none\" points=\"-679.364,188.903 -677.699,188.903 \"/>\n",
       "<polyline clip-path=\"url(#clip862)\" style=\"stroke:#000000; stroke-linecap:round; stroke-linejoin:round; stroke-width:4; stroke-opacity:1; fill:none\" points=\"-677.699,188.903 -674.37,185.574 \"/>\n",
       "<polyline clip-path=\"url(#clip862)\" style=\"stroke:#000000; stroke-linecap:round; stroke-linejoin:round; stroke-width:4; stroke-opacity:1; fill:none\" points=\"-674.37,185.574 -672.706,185.574 \"/>\n",
       "<polyline clip-path=\"url(#clip862)\" style=\"stroke:#000000; stroke-linecap:round; stroke-linejoin:round; stroke-width:4; stroke-opacity:1; fill:none\" points=\"-672.706,185.574 -669.377,182.244 \"/>\n",
       "<polyline clip-path=\"url(#clip862)\" style=\"stroke:#000000; stroke-linecap:round; stroke-linejoin:round; stroke-width:4; stroke-opacity:1; fill:none\" points=\"-669.377,182.244 -667.712,182.244 \"/>\n",
       "<polyline clip-path=\"url(#clip862)\" style=\"stroke:#000000; stroke-linecap:round; stroke-linejoin:round; stroke-width:4; stroke-opacity:1; fill:none\" points=\"-667.712,182.244 -664.383,178.915 \"/>\n",
       "<polyline clip-path=\"url(#clip862)\" style=\"stroke:#000000; stroke-linecap:round; stroke-linejoin:round; stroke-width:4; stroke-opacity:1; fill:none\" points=\"-664.383,178.915 -662.718,178.915 \"/>\n",
       "<polyline clip-path=\"url(#clip862)\" style=\"stroke:#000000; stroke-linecap:round; stroke-linejoin:round; stroke-width:4; stroke-opacity:1; fill:none\" points=\"-662.718,178.915 -659.389,175.586 \"/>\n",
       "<polyline clip-path=\"url(#clip862)\" style=\"stroke:#000000; stroke-linecap:round; stroke-linejoin:round; stroke-width:4; stroke-opacity:1; fill:none\" points=\"-659.389,175.586 -657.725,175.586 \"/>\n",
       "<polyline clip-path=\"url(#clip862)\" style=\"stroke:#000000; stroke-linecap:round; stroke-linejoin:round; stroke-width:4; stroke-opacity:1; fill:none\" points=\"-657.725,175.586 -654.396,172.257 \"/>\n",
       "<polyline clip-path=\"url(#clip862)\" style=\"stroke:#000000; stroke-linecap:round; stroke-linejoin:round; stroke-width:4; stroke-opacity:1; fill:none\" points=\"-654.396,172.257 -652.731,172.257 \"/>\n",
       "<polyline clip-path=\"url(#clip862)\" style=\"stroke:#000000; stroke-linecap:round; stroke-linejoin:round; stroke-width:4; stroke-opacity:1; fill:none\" points=\"-652.731,172.257 -651.067,170.593 \"/>\n",
       "<polyline clip-path=\"url(#clip862)\" style=\"stroke:#000000; stroke-linecap:round; stroke-linejoin:round; stroke-width:4; stroke-opacity:1; fill:none\" points=\"-651.067,170.593 -649.402,170.593 \"/>\n",
       "<polyline clip-path=\"url(#clip862)\" style=\"stroke:#000000; stroke-linecap:round; stroke-linejoin:round; stroke-width:4; stroke-opacity:1; fill:none\" points=\"-649.402,170.593 -646.073,167.264 \"/>\n",
       "<polyline clip-path=\"url(#clip862)\" style=\"stroke:#000000; stroke-linecap:round; stroke-linejoin:round; stroke-width:4; stroke-opacity:1; fill:none\" points=\"-646.073,167.264 -644.409,167.264 \"/>\n",
       "<polyline clip-path=\"url(#clip862)\" style=\"stroke:#000000; stroke-linecap:round; stroke-linejoin:round; stroke-width:4; stroke-opacity:1; fill:none\" points=\"-644.409,167.264 -641.079,163.935 \"/>\n",
       "<polyline clip-path=\"url(#clip862)\" style=\"stroke:#000000; stroke-linecap:round; stroke-linejoin:round; stroke-width:4; stroke-opacity:1; fill:none\" points=\"-641.079,163.935 -639.415,163.935 \"/>\n",
       "<polyline clip-path=\"url(#clip862)\" style=\"stroke:#000000; stroke-linecap:round; stroke-linejoin:round; stroke-width:4; stroke-opacity:1; fill:none\" points=\"-639.415,163.935 -636.086,160.605 \"/>\n",
       "<polyline clip-path=\"url(#clip862)\" style=\"stroke:#000000; stroke-linecap:round; stroke-linejoin:round; stroke-width:4; stroke-opacity:1; fill:none\" points=\"-636.086,160.605 -634.421,160.605 \"/>\n",
       "<polyline clip-path=\"url(#clip862)\" style=\"stroke:#000000; stroke-linecap:round; stroke-linejoin:round; stroke-width:4; stroke-opacity:1; fill:none\" points=\"-634.421,160.605 -631.092,157.276 \"/>\n",
       "<polyline clip-path=\"url(#clip862)\" style=\"stroke:#000000; stroke-linecap:round; stroke-linejoin:round; stroke-width:4; stroke-opacity:1; fill:none\" points=\"-631.092,157.276 -629.428,157.276 \"/>\n",
       "<polyline clip-path=\"url(#clip862)\" style=\"stroke:#000000; stroke-linecap:round; stroke-linejoin:round; stroke-width:4; stroke-opacity:1; fill:none\" points=\"-629.428,157.276 -626.099,153.947 \"/>\n",
       "<polyline clip-path=\"url(#clip862)\" style=\"stroke:#000000; stroke-linecap:round; stroke-linejoin:round; stroke-width:4; stroke-opacity:1; fill:none\" points=\"-626.099,153.947 -624.434,153.947 \"/>\n",
       "<polyline clip-path=\"url(#clip862)\" style=\"stroke:#000000; stroke-linecap:round; stroke-linejoin:round; stroke-width:4; stroke-opacity:1; fill:none\" points=\"-624.434,153.947 -621.105,150.618 \"/>\n",
       "<polyline clip-path=\"url(#clip862)\" style=\"stroke:#000000; stroke-linecap:round; stroke-linejoin:round; stroke-width:4; stroke-opacity:1; fill:none\" points=\"-621.105,150.618 -619.44,150.618 \"/>\n",
       "<polyline clip-path=\"url(#clip862)\" style=\"stroke:#000000; stroke-linecap:round; stroke-linejoin:round; stroke-width:4; stroke-opacity:1; fill:none\" points=\"-619.44,150.618 -616.111,147.289 \"/>\n",
       "<polyline clip-path=\"url(#clip862)\" style=\"stroke:#000000; stroke-linecap:round; stroke-linejoin:round; stroke-width:4; stroke-opacity:1; fill:none\" points=\"-616.111,147.289 -614.447,147.289 \"/>\n",
       "<polyline clip-path=\"url(#clip862)\" style=\"stroke:#000000; stroke-linecap:round; stroke-linejoin:round; stroke-width:4; stroke-opacity:1; fill:none\" points=\"-614.447,147.289 -611.118,143.96 \"/>\n",
       "<polyline clip-path=\"url(#clip862)\" style=\"stroke:#000000; stroke-linecap:round; stroke-linejoin:round; stroke-width:4; stroke-opacity:1; fill:none\" points=\"-611.118,143.96 -609.453,143.96 \"/>\n",
       "<polyline clip-path=\"url(#clip862)\" style=\"stroke:#000000; stroke-linecap:round; stroke-linejoin:round; stroke-width:4; stroke-opacity:1; fill:none\" points=\"-609.453,143.96 -606.124,140.631 \"/>\n",
       "<polyline clip-path=\"url(#clip862)\" style=\"stroke:#000000; stroke-linecap:round; stroke-linejoin:round; stroke-width:4; stroke-opacity:1; fill:none\" points=\"-606.124,140.631 -604.459,140.631 \"/>\n",
       "<polyline clip-path=\"url(#clip862)\" style=\"stroke:#000000; stroke-linecap:round; stroke-linejoin:round; stroke-width:4; stroke-opacity:1; fill:none\" points=\"-604.459,140.631 -601.13,137.302 \"/>\n",
       "<polyline clip-path=\"url(#clip862)\" style=\"stroke:#000000; stroke-linecap:round; stroke-linejoin:round; stroke-width:4; stroke-opacity:1; fill:none\" points=\"-601.13,137.302 -599.466,137.302 \"/>\n",
       "<polyline clip-path=\"url(#clip862)\" style=\"stroke:#000000; stroke-linecap:round; stroke-linejoin:round; stroke-width:4; stroke-opacity:1; fill:none\" points=\"-599.466,137.302 -596.137,133.973 \"/>\n",
       "<polyline clip-path=\"url(#clip862)\" style=\"stroke:#000000; stroke-linecap:round; stroke-linejoin:round; stroke-width:4; stroke-opacity:1; fill:none\" points=\"-596.137,133.973 -594.472,133.973 \"/>\n",
       "<polyline clip-path=\"url(#clip862)\" style=\"stroke:#000000; stroke-linecap:round; stroke-linejoin:round; stroke-width:4; stroke-opacity:1; fill:none\" points=\"-594.472,133.973 -591.143,130.644 \"/>\n",
       "<polyline clip-path=\"url(#clip862)\" style=\"stroke:#000000; stroke-linecap:round; stroke-linejoin:round; stroke-width:4; stroke-opacity:1; fill:none\" points=\"-591.143,130.644 -589.479,130.644 \"/>\n",
       "<polyline clip-path=\"url(#clip862)\" style=\"stroke:#000000; stroke-linecap:round; stroke-linejoin:round; stroke-width:4; stroke-opacity:1; fill:none\" points=\"-589.479,130.644 -586.15,127.315 \"/>\n",
       "<polyline clip-path=\"url(#clip862)\" style=\"stroke:#000000; stroke-linecap:round; stroke-linejoin:round; stroke-width:4; stroke-opacity:1; fill:none\" points=\"-586.15,127.315 -584.485,127.315 \"/>\n",
       "<polyline clip-path=\"url(#clip862)\" style=\"stroke:#000000; stroke-linecap:round; stroke-linejoin:round; stroke-width:4; stroke-opacity:1; fill:none\" points=\"-584.485,127.315 -581.156,123.986 \"/>\n",
       "<polyline clip-path=\"url(#clip862)\" style=\"stroke:#000000; stroke-linecap:round; stroke-linejoin:round; stroke-width:4; stroke-opacity:1; fill:none\" points=\"-581.156,123.986 -579.491,123.986 \"/>\n",
       "<polyline clip-path=\"url(#clip862)\" style=\"stroke:#000000; stroke-linecap:round; stroke-linejoin:round; stroke-width:4; stroke-opacity:1; fill:none\" points=\"-579.491,123.986 -576.162,120.656 \"/>\n",
       "<polyline clip-path=\"url(#clip862)\" style=\"stroke:#000000; stroke-linecap:round; stroke-linejoin:round; stroke-width:4; stroke-opacity:1; fill:none\" points=\"-576.162,120.656 -574.498,120.656 \"/>\n",
       "<polyline clip-path=\"url(#clip862)\" style=\"stroke:#000000; stroke-linecap:round; stroke-linejoin:round; stroke-width:4; stroke-opacity:1; fill:none\" points=\"-574.498,120.656 -571.169,117.327 \"/>\n",
       "<polyline clip-path=\"url(#clip862)\" style=\"stroke:#000000; stroke-linecap:round; stroke-linejoin:round; stroke-width:4; stroke-opacity:1; fill:none\" points=\"-571.169,117.327 -569.504,117.327 \"/>\n",
       "<polyline clip-path=\"url(#clip862)\" style=\"stroke:#000000; stroke-linecap:round; stroke-linejoin:round; stroke-width:4; stroke-opacity:1; fill:none\" points=\"-569.504,117.327 -566.175,113.998 \"/>\n",
       "<polyline clip-path=\"url(#clip862)\" style=\"stroke:#000000; stroke-linecap:round; stroke-linejoin:round; stroke-width:4; stroke-opacity:1; fill:none\" points=\"-566.175,113.998 -564.51,113.998 \"/>\n",
       "<polyline clip-path=\"url(#clip862)\" style=\"stroke:#000000; stroke-linecap:round; stroke-linejoin:round; stroke-width:4; stroke-opacity:1; fill:none\" points=\"-564.51,113.998 -561.181,110.669 \"/>\n",
       "<polyline clip-path=\"url(#clip862)\" style=\"stroke:#000000; stroke-linecap:round; stroke-linejoin:round; stroke-width:4; stroke-opacity:1; fill:none\" points=\"-561.181,110.669 -559.517,110.669 \"/>\n",
       "<polyline clip-path=\"url(#clip862)\" style=\"stroke:#000000; stroke-linecap:round; stroke-linejoin:round; stroke-width:4; stroke-opacity:1; fill:none\" points=\"-559.517,110.669 -556.188,107.34 \"/>\n",
       "<polyline clip-path=\"url(#clip862)\" style=\"stroke:#000000; stroke-linecap:round; stroke-linejoin:round; stroke-width:4; stroke-opacity:1; fill:none\" points=\"-556.188,107.34 -554.523,107.34 \"/>\n",
       "<polyline clip-path=\"url(#clip862)\" style=\"stroke:#000000; stroke-linecap:round; stroke-linejoin:round; stroke-width:4; stroke-opacity:1; fill:none\" points=\"-554.523,107.34 -551.194,104.011 \"/>\n",
       "<polyline clip-path=\"url(#clip862)\" style=\"stroke:#000000; stroke-linecap:round; stroke-linejoin:round; stroke-width:4; stroke-opacity:1; fill:none\" points=\"-551.194,104.011 -549.53,104.011 \"/>\n",
       "<polyline clip-path=\"url(#clip862)\" style=\"stroke:#000000; stroke-linecap:round; stroke-linejoin:round; stroke-width:4; stroke-opacity:1; fill:none\" points=\"-549.53,104.011 -546.201,100.682 \"/>\n",
       "<polyline clip-path=\"url(#clip862)\" style=\"stroke:#000000; stroke-linecap:round; stroke-linejoin:round; stroke-width:4; stroke-opacity:1; fill:none\" points=\"-546.201,100.682 -544.536,100.682 \"/>\n",
       "<polyline clip-path=\"url(#clip862)\" style=\"stroke:#000000; stroke-linecap:round; stroke-linejoin:round; stroke-width:4; stroke-opacity:1; fill:none\" points=\"-544.536,100.682 -541.207,97.3528 \"/>\n",
       "<polyline clip-path=\"url(#clip862)\" style=\"stroke:#000000; stroke-linecap:round; stroke-linejoin:round; stroke-width:4; stroke-opacity:1; fill:none\" points=\"-541.207,97.3528 -539.542,97.3528 \"/>\n",
       "<polyline clip-path=\"url(#clip862)\" style=\"stroke:#000000; stroke-linecap:round; stroke-linejoin:round; stroke-width:4; stroke-opacity:1; fill:none\" points=\"-539.542,97.3528 -536.213,94.0238 \"/>\n",
       "<polyline clip-path=\"url(#clip862)\" style=\"stroke:#000000; stroke-linecap:round; stroke-linejoin:round; stroke-width:4; stroke-opacity:1; fill:none\" points=\"-536.213,94.0238 -534.549,94.0238 \"/>\n",
       "<polyline clip-path=\"url(#clip862)\" style=\"stroke:#000000; stroke-linecap:round; stroke-linejoin:round; stroke-width:4; stroke-opacity:1; fill:none\" points=\"-534.549,94.0238 -531.22,90.6947 \"/>\n",
       "<polyline clip-path=\"url(#clip862)\" style=\"stroke:#000000; stroke-linecap:round; stroke-linejoin:round; stroke-width:4; stroke-opacity:1; fill:none\" points=\"-531.22,90.6947 -529.555,90.6947 \"/>\n",
       "<polyline clip-path=\"url(#clip862)\" style=\"stroke:#000000; stroke-linecap:round; stroke-linejoin:round; stroke-width:4; stroke-opacity:1; fill:none\" points=\"-529.555,90.6947 -526.226,87.3656 \"/>\n",
       "<polyline clip-path=\"url(#clip862)\" style=\"stroke:#000000; stroke-linecap:round; stroke-linejoin:round; stroke-width:4; stroke-opacity:1; fill:none\" points=\"-526.226,87.3656 -524.561,87.3656 \"/>\n",
       "<polyline clip-path=\"url(#clip862)\" style=\"stroke:#000000; stroke-linecap:round; stroke-linejoin:round; stroke-width:4; stroke-opacity:1; fill:none\" points=\"-524.561,87.3656 -521.232,84.0365 \"/>\n",
       "<polyline clip-path=\"url(#clip862)\" style=\"stroke:#000000; stroke-linecap:round; stroke-linejoin:round; stroke-width:4; stroke-opacity:1; fill:none\" points=\"-521.232,84.0365 -519.568,84.0365 \"/>\n",
       "<polyline clip-path=\"url(#clip862)\" style=\"stroke:#000000; stroke-linecap:round; stroke-linejoin:round; stroke-width:4; stroke-opacity:1; fill:none\" points=\"-519.568,84.0365 -516.239,80.7074 \"/>\n",
       "<polyline clip-path=\"url(#clip862)\" style=\"stroke:#000000; stroke-linecap:round; stroke-linejoin:round; stroke-width:4; stroke-opacity:1; fill:none\" points=\"-516.239,80.7074 -514.574,80.7074 \"/>\n",
       "<polyline clip-path=\"url(#clip862)\" style=\"stroke:#000000; stroke-linecap:round; stroke-linejoin:round; stroke-width:4; stroke-opacity:1; fill:none\" points=\"-514.574,80.7074 -511.245,77.3783 \"/>\n",
       "<polyline clip-path=\"url(#clip862)\" style=\"stroke:#000000; stroke-linecap:round; stroke-linejoin:round; stroke-width:4; stroke-opacity:1; fill:none\" points=\"-511.245,77.3783 -509.581,77.3783 \"/>\n",
       "<polyline clip-path=\"url(#clip862)\" style=\"stroke:#000000; stroke-linecap:round; stroke-linejoin:round; stroke-width:4; stroke-opacity:1; fill:none\" points=\"-509.581,77.3783 -506.252,74.0493 \"/>\n",
       "<polyline clip-path=\"url(#clip862)\" style=\"stroke:#000000; stroke-linecap:round; stroke-linejoin:round; stroke-width:4; stroke-opacity:1; fill:none\" points=\"-506.252,74.0493 -504.587,74.0493 \"/>\n",
       "<polyline clip-path=\"url(#clip862)\" style=\"stroke:#000000; stroke-linecap:round; stroke-linejoin:round; stroke-width:4; stroke-opacity:1; fill:none\" points=\"-504.587,74.0493 -501.258,70.7202 \"/>\n",
       "<polyline clip-path=\"url(#clip862)\" style=\"stroke:#000000; stroke-linecap:round; stroke-linejoin:round; stroke-width:4; stroke-opacity:1; fill:none\" points=\"-501.258,70.7202 -499.593,70.7202 \"/>\n",
       "<polyline clip-path=\"url(#clip862)\" style=\"stroke:#000000; stroke-linecap:round; stroke-linejoin:round; stroke-width:4; stroke-opacity:1; fill:none\" points=\"-499.593,70.7202 -496.264,67.3911 \"/>\n",
       "<polyline clip-path=\"url(#clip862)\" style=\"stroke:#000000; stroke-linecap:round; stroke-linejoin:round; stroke-width:4; stroke-opacity:1; fill:none\" points=\"-496.264,67.3911 -494.6,67.3911 \"/>\n",
       "<polyline clip-path=\"url(#clip862)\" style=\"stroke:#000000; stroke-linecap:round; stroke-linejoin:round; stroke-width:4; stroke-opacity:1; fill:none\" points=\"-494.6,67.3911 -491.271,64.062 \"/>\n",
       "<polyline clip-path=\"url(#clip862)\" style=\"stroke:#000000; stroke-linecap:round; stroke-linejoin:round; stroke-width:4; stroke-opacity:1; fill:none\" points=\"-491.271,64.062 662.257,64.062 \"/>\n",
       "<polyline clip-path=\"url(#clip862)\" style=\"stroke:#000000; stroke-linecap:round; stroke-linejoin:round; stroke-width:4; stroke-opacity:1; fill:none\" points=\"662.257,64.062 662.257,659.968 \"/>\n",
       "<polyline clip-path=\"url(#clip862)\" style=\"stroke:#000000; stroke-linecap:round; stroke-linejoin:round; stroke-width:4; stroke-opacity:1; fill:none\" points=\"662.257,659.968 663.921,661.633 \"/>\n",
       "<polyline clip-path=\"url(#clip862)\" style=\"stroke:#000000; stroke-linecap:round; stroke-linejoin:round; stroke-width:4; stroke-opacity:1; fill:none\" points=\"663.921,661.633 663.921,941.276 \"/>\n",
       "<polyline clip-path=\"url(#clip862)\" style=\"stroke:#000000; stroke-linecap:round; stroke-linejoin:round; stroke-width:4; stroke-opacity:1; fill:none\" points=\"663.921,941.276 582.359,941.276 \"/>\n",
       "<polyline clip-path=\"url(#clip862)\" style=\"stroke:#000000; stroke-linecap:round; stroke-linejoin:round; stroke-width:4; stroke-opacity:1; fill:none\" points=\"582.359,941.276 580.694,942.94 \"/>\n",
       "<polyline clip-path=\"url(#clip862)\" style=\"stroke:#000000; stroke-linecap:round; stroke-linejoin:round; stroke-width:4; stroke-opacity:1; fill:none\" points=\"580.694,942.94 580.694,959.586 \"/>\n",
       "<polyline clip-path=\"url(#clip862)\" style=\"stroke:#000000; stroke-linecap:round; stroke-linejoin:round; stroke-width:4; stroke-opacity:1; fill:none\" points=\"580.694,959.586 582.359,961.25 \"/>\n",
       "<polyline clip-path=\"url(#clip862)\" style=\"stroke:#000000; stroke-linecap:round; stroke-linejoin:round; stroke-width:4; stroke-opacity:1; fill:none\" points=\"582.359,961.25 663.921,961.25 \"/>\n",
       "<polyline clip-path=\"url(#clip862)\" style=\"stroke:#000000; stroke-linecap:round; stroke-linejoin:round; stroke-width:4; stroke-opacity:1; fill:none\" points=\"663.921,961.25 663.921,1410.68 \"/>\n",
       "<polyline clip-path=\"url(#clip862)\" style=\"stroke:#000000; stroke-linecap:round; stroke-linejoin:round; stroke-width:4; stroke-opacity:1; fill:none\" points=\"663.921,1410.68 665.586,1412.34 \"/>\n",
       "<polyline clip-path=\"url(#clip862)\" style=\"stroke:#000000; stroke-linecap:round; stroke-linejoin:round; stroke-width:4; stroke-opacity:1; fill:none\" points=\"665.586,1412.34 682.231,1412.34 \"/>\n",
       "<polyline clip-path=\"url(#clip862)\" style=\"stroke:#000000; stroke-linecap:round; stroke-linejoin:round; stroke-width:4; stroke-opacity:1; fill:none\" points=\"682.231,1412.34 683.896,1410.68 \"/>\n",
       "<polyline clip-path=\"url(#clip862)\" style=\"stroke:#000000; stroke-linecap:round; stroke-linejoin:round; stroke-width:4; stroke-opacity:1; fill:none\" points=\"683.896,1410.68 683.896,1377.39 \"/>\n",
       "<polyline clip-path=\"url(#clip862)\" style=\"stroke:#000000; stroke-linecap:round; stroke-linejoin:round; stroke-width:4; stroke-opacity:1; fill:none\" points=\"683.896,1377.39 1129.99,1377.39 \"/>\n",
       "<polyline clip-path=\"url(#clip862)\" style=\"stroke:#000000; stroke-linecap:round; stroke-linejoin:round; stroke-width:4; stroke-opacity:1; fill:none\" points=\"1129.99,1377.39 1131.66,1375.72 \"/>\n",
       "<polyline clip-path=\"url(#clip862)\" style=\"stroke:#000000; stroke-linecap:round; stroke-linejoin:round; stroke-width:4; stroke-opacity:1; fill:none\" points=\"1131.66,1375.72 1131.66,1359.08 \"/>\n",
       "<polyline clip-path=\"url(#clip862)\" style=\"stroke:#000000; stroke-linecap:round; stroke-linejoin:round; stroke-width:4; stroke-opacity:1; fill:none\" points=\"1131.66,1359.08 1129.99,1357.41 \"/>\n",
       "<polyline clip-path=\"url(#clip862)\" style=\"stroke:#000000; stroke-linecap:round; stroke-linejoin:round; stroke-width:4; stroke-opacity:1; fill:none\" points=\"1129.99,1357.41 683.896,1357.41 \"/>\n",
       "<polyline clip-path=\"url(#clip862)\" style=\"stroke:#000000; stroke-linecap:round; stroke-linejoin:round; stroke-width:4; stroke-opacity:1; fill:none\" points=\"683.896,1357.41 683.896,679.942 \"/>\n",
       "<polyline clip-path=\"url(#clip862)\" style=\"stroke:#000000; stroke-linecap:round; stroke-linejoin:round; stroke-width:4; stroke-opacity:1; fill:none\" points=\"683.896,679.942 1313.09,679.942 \"/>\n",
       "<polyline clip-path=\"url(#clip862)\" style=\"stroke:#000000; stroke-linecap:round; stroke-linejoin:round; stroke-width:4; stroke-opacity:1; fill:none\" points=\"1313.09,679.942 1313.09,1357.41 \"/>\n",
       "<polyline clip-path=\"url(#clip862)\" style=\"stroke:#000000; stroke-linecap:round; stroke-linejoin:round; stroke-width:4; stroke-opacity:1; fill:none\" points=\"1313.09,1357.41 1273.14,1357.41 \"/>\n",
       "<polyline clip-path=\"url(#clip862)\" style=\"stroke:#000000; stroke-linecap:round; stroke-linejoin:round; stroke-width:4; stroke-opacity:1; fill:none\" points=\"1273.14,1357.41 1271.48,1359.08 \"/>\n",
       "<polyline clip-path=\"url(#clip862)\" style=\"stroke:#000000; stroke-linecap:round; stroke-linejoin:round; stroke-width:4; stroke-opacity:1; fill:none\" points=\"1271.48,1359.08 1271.48,1375.72 \"/>\n",
       "<polyline clip-path=\"url(#clip862)\" style=\"stroke:#000000; stroke-linecap:round; stroke-linejoin:round; stroke-width:4; stroke-opacity:1; fill:none\" points=\"1271.48,1375.72 1273.14,1377.39 \"/>\n",
       "<polyline clip-path=\"url(#clip862)\" style=\"stroke:#000000; stroke-linecap:round; stroke-linejoin:round; stroke-width:4; stroke-opacity:1; fill:none\" points=\"1273.14,1377.39 1368.02,1377.39 \"/>\n",
       "<polyline clip-path=\"url(#clip862)\" style=\"stroke:#000000; stroke-linecap:round; stroke-linejoin:round; stroke-width:4; stroke-opacity:1; fill:none\" points=\"1368.02,1377.39 1369.69,1375.72 \"/>\n",
       "<polyline clip-path=\"url(#clip862)\" style=\"stroke:#000000; stroke-linecap:round; stroke-linejoin:round; stroke-width:4; stroke-opacity:1; fill:none\" points=\"1369.69,1375.72 1369.69,1359.08 \"/>\n",
       "<polyline clip-path=\"url(#clip862)\" style=\"stroke:#000000; stroke-linecap:round; stroke-linejoin:round; stroke-width:4; stroke-opacity:1; fill:none\" points=\"1369.69,1359.08 1368.02,1357.41 \"/>\n",
       "<polyline clip-path=\"url(#clip862)\" style=\"stroke:#000000; stroke-linecap:round; stroke-linejoin:round; stroke-width:4; stroke-opacity:1; fill:none\" points=\"1368.02,1357.41 1333.07,1357.41 \"/>\n",
       "<polyline clip-path=\"url(#clip862)\" style=\"stroke:#000000; stroke-linecap:round; stroke-linejoin:round; stroke-width:4; stroke-opacity:1; fill:none\" points=\"1333.07,1357.41 1333.07,679.942 \"/>\n",
       "<polyline clip-path=\"url(#clip862)\" style=\"stroke:#000000; stroke-linecap:round; stroke-linejoin:round; stroke-width:4; stroke-opacity:1; fill:none\" points=\"1333.07,679.942 1829.1,679.942 \"/>\n",
       "<polyline clip-path=\"url(#clip862)\" style=\"stroke:#000000; stroke-linecap:round; stroke-linejoin:round; stroke-width:4; stroke-opacity:1; fill:none\" points=\"1829.1,679.942 1829.1,1357.41 \"/>\n",
       "<polyline clip-path=\"url(#clip862)\" style=\"stroke:#000000; stroke-linecap:round; stroke-linejoin:round; stroke-width:4; stroke-opacity:1; fill:none\" points=\"1829.1,1357.41 1511.17,1357.41 \"/>\n",
       "<polyline clip-path=\"url(#clip862)\" style=\"stroke:#000000; stroke-linecap:round; stroke-linejoin:round; stroke-width:4; stroke-opacity:1; fill:none\" points=\"1511.17,1357.41 1509.51,1359.08 \"/>\n",
       "<polyline clip-path=\"url(#clip862)\" style=\"stroke:#000000; stroke-linecap:round; stroke-linejoin:round; stroke-width:4; stroke-opacity:1; fill:none\" points=\"1509.51,1359.08 1509.51,1375.72 \"/>\n",
       "<polyline clip-path=\"url(#clip862)\" style=\"stroke:#000000; stroke-linecap:round; stroke-linejoin:round; stroke-width:4; stroke-opacity:1; fill:none\" points=\"1509.51,1375.72 1511.17,1377.39 \"/>\n",
       "<polyline clip-path=\"url(#clip862)\" style=\"stroke:#000000; stroke-linecap:round; stroke-linejoin:round; stroke-width:4; stroke-opacity:1; fill:none\" points=\"1511.17,1377.39 1859.06,1377.39 \"/>\n",
       "<polyline clip-path=\"url(#clip862)\" style=\"stroke:#000000; stroke-linecap:round; stroke-linejoin:round; stroke-width:4; stroke-opacity:1; fill:none\" points=\"1859.06,1377.39 1860.73,1375.72 \"/>\n",
       "<polyline clip-path=\"url(#clip862)\" style=\"stroke:#000000; stroke-linecap:round; stroke-linejoin:round; stroke-width:4; stroke-opacity:1; fill:none\" points=\"1860.73,1375.72 1860.73,1359.08 \"/>\n",
       "<polyline clip-path=\"url(#clip862)\" style=\"stroke:#000000; stroke-linecap:round; stroke-linejoin:round; stroke-width:4; stroke-opacity:1; fill:none\" points=\"1860.73,1359.08 1859.06,1357.41 \"/>\n",
       "<polyline clip-path=\"url(#clip862)\" style=\"stroke:#000000; stroke-linecap:round; stroke-linejoin:round; stroke-width:4; stroke-opacity:1; fill:none\" points=\"1859.06,1357.41 1849.08,1357.41 \"/>\n",
       "<polyline clip-path=\"url(#clip862)\" style=\"stroke:#000000; stroke-linecap:round; stroke-linejoin:round; stroke-width:4; stroke-opacity:1; fill:none\" points=\"1849.08,1357.41 1849.08,679.942 \"/>\n",
       "<polyline clip-path=\"url(#clip862)\" style=\"stroke:#000000; stroke-linecap:round; stroke-linejoin:round; stroke-width:4; stroke-opacity:1; fill:none\" points=\"1849.08,679.942 2343.44,679.942 \"/>\n",
       "<polyline clip-path=\"url(#clip862)\" style=\"stroke:#000000; stroke-linecap:round; stroke-linejoin:round; stroke-width:4; stroke-opacity:1; fill:none\" points=\"2343.44,679.942 2343.44,1357.41 \"/>\n",
       "<polyline clip-path=\"url(#clip862)\" style=\"stroke:#000000; stroke-linecap:round; stroke-linejoin:round; stroke-width:4; stroke-opacity:1; fill:none\" points=\"2343.44,1357.41 2002.21,1357.41 \"/>\n",
       "<polyline clip-path=\"url(#clip862)\" style=\"stroke:#000000; stroke-linecap:round; stroke-linejoin:round; stroke-width:4; stroke-opacity:1; fill:none\" points=\"2002.21,1357.41 2000.55,1359.08 \"/>\n",
       "<polyline clip-path=\"url(#clip862)\" style=\"stroke:#000000; stroke-linecap:round; stroke-linejoin:round; stroke-width:4; stroke-opacity:1; fill:none\" points=\"2000.55,1359.08 2000.55,1375.72 \"/>\n",
       "<polyline clip-path=\"url(#clip862)\" style=\"stroke:#000000; stroke-linecap:round; stroke-linejoin:round; stroke-width:4; stroke-opacity:1; fill:none\" points=\"2000.55,1375.72 2002.21,1377.39 \"/>\n",
       "<polyline clip-path=\"url(#clip862)\" style=\"stroke:#000000; stroke-linecap:round; stroke-linejoin:round; stroke-width:4; stroke-opacity:1; fill:none\" points=\"2002.21,1377.39 2028.85,1377.39 \"/>\n",
       "<polyline clip-path=\"url(#clip862)\" style=\"stroke:#000000; stroke-linecap:round; stroke-linejoin:round; stroke-width:4; stroke-opacity:1; fill:none\" points=\"2028.85,1377.39 2028.85,1384.04 \"/>\n",
       "<polyline clip-path=\"url(#clip862)\" style=\"stroke:#000000; stroke-linecap:round; stroke-linejoin:round; stroke-width:4; stroke-opacity:1; fill:none\" points=\"2028.85,1384.04 2030.51,1385.71 \"/>\n",
       "<polyline clip-path=\"url(#clip862)\" style=\"stroke:#000000; stroke-linecap:round; stroke-linejoin:round; stroke-width:4; stroke-opacity:1; fill:none\" points=\"2030.51,1385.71 2047.16,1385.71 \"/>\n",
       "<polyline clip-path=\"url(#clip862)\" style=\"stroke:#000000; stroke-linecap:round; stroke-linejoin:round; stroke-width:4; stroke-opacity:1; fill:none\" points=\"2047.16,1385.71 2048.82,1384.04 \"/>\n",
       "<polyline clip-path=\"url(#clip862)\" style=\"stroke:#000000; stroke-linecap:round; stroke-linejoin:round; stroke-width:4; stroke-opacity:1; fill:none\" points=\"2048.82,1384.04 2048.82,1377.39 \"/>\n",
       "<polyline clip-path=\"url(#clip862)\" style=\"stroke:#000000; stroke-linecap:round; stroke-linejoin:round; stroke-width:4; stroke-opacity:1; fill:none\" points=\"2048.82,1377.39 2343.44,1377.39 \"/>\n",
       "<polyline clip-path=\"url(#clip862)\" style=\"stroke:#000000; stroke-linecap:round; stroke-linejoin:round; stroke-width:4; stroke-opacity:1; fill:none\" points=\"2343.44,1377.39 2343.44,1607.09 \"/>\n",
       "<polyline clip-path=\"url(#clip862)\" style=\"stroke:#000000; stroke-linecap:round; stroke-linejoin:round; stroke-width:4; stroke-opacity:1; fill:none\" points=\"2343.44,1607.09 2048.82,1607.09 \"/>\n",
       "<polyline clip-path=\"url(#clip862)\" style=\"stroke:#000000; stroke-linecap:round; stroke-linejoin:round; stroke-width:4; stroke-opacity:1; fill:none\" points=\"2048.82,1607.09 2048.82,1527.19 \"/>\n",
       "<polyline clip-path=\"url(#clip862)\" style=\"stroke:#000000; stroke-linecap:round; stroke-linejoin:round; stroke-width:4; stroke-opacity:1; fill:none\" points=\"2048.82,1527.19 2047.16,1525.53 \"/>\n",
       "<polyline clip-path=\"url(#clip862)\" style=\"stroke:#000000; stroke-linecap:round; stroke-linejoin:round; stroke-width:4; stroke-opacity:1; fill:none\" points=\"2047.16,1525.53 2030.51,1525.53 \"/>\n",
       "<polyline clip-path=\"url(#clip862)\" style=\"stroke:#000000; stroke-linecap:round; stroke-linejoin:round; stroke-width:4; stroke-opacity:1; fill:none\" points=\"2030.51,1525.53 2028.85,1527.19 \"/>\n",
       "<polyline clip-path=\"url(#clip862)\" style=\"stroke:#000000; stroke-linecap:round; stroke-linejoin:round; stroke-width:4; stroke-opacity:1; fill:none\" points=\"2028.85,1527.19 2028.85,1607.09 \"/>\n",
       "<polyline clip-path=\"url(#clip862)\" style=\"stroke:#000000; stroke-linecap:round; stroke-linejoin:round; stroke-width:4; stroke-opacity:1; fill:none\" points=\"2028.85,1607.09 2002.21,1607.09 \"/>\n",
       "<polyline clip-path=\"url(#clip862)\" style=\"stroke:#000000; stroke-linecap:round; stroke-linejoin:round; stroke-width:4; stroke-opacity:1; fill:none\" points=\"2002.21,1607.09 2000.55,1608.76 \"/>\n",
       "<polyline clip-path=\"url(#clip862)\" style=\"stroke:#000000; stroke-linecap:round; stroke-linejoin:round; stroke-width:4; stroke-opacity:1; fill:none\" points=\"2000.55,1608.76 2000.55,1625.4 \"/>\n",
       "<polyline clip-path=\"url(#clip862)\" style=\"stroke:#000000; stroke-linecap:round; stroke-linejoin:round; stroke-width:4; stroke-opacity:1; fill:none\" points=\"2000.55,1625.4 2002.21,1627.07 \"/>\n",
       "<polyline clip-path=\"url(#clip862)\" style=\"stroke:#000000; stroke-linecap:round; stroke-linejoin:round; stroke-width:4; stroke-opacity:1; fill:none\" points=\"2002.21,1627.07 2343.44,1627.07 \"/>\n",
       "<polyline clip-path=\"url(#clip862)\" style=\"stroke:#000000; stroke-linecap:round; stroke-linejoin:round; stroke-width:4; stroke-opacity:1; fill:none\" points=\"2343.44,1627.07 2343.44,2256.26 \"/>\n",
       "<polyline clip-path=\"url(#clip862)\" style=\"stroke:#000000; stroke-linecap:round; stroke-linejoin:round; stroke-width:4; stroke-opacity:1; fill:none\" points=\"2343.44,2256.26 1815.78,2256.26 \"/>\n",
       "<polyline clip-path=\"url(#clip862)\" style=\"stroke:#000000; stroke-linecap:round; stroke-linejoin:round; stroke-width:4; stroke-opacity:1; fill:none\" points=\"1815.78,2256.26 1815.78,1627.07 \"/>\n",
       "<polyline clip-path=\"url(#clip862)\" style=\"stroke:#000000; stroke-linecap:round; stroke-linejoin:round; stroke-width:4; stroke-opacity:1; fill:none\" points=\"1815.78,1627.07 1859.06,1627.07 \"/>\n",
       "<polyline clip-path=\"url(#clip862)\" style=\"stroke:#000000; stroke-linecap:round; stroke-linejoin:round; stroke-width:4; stroke-opacity:1; fill:none\" points=\"1859.06,1627.07 1860.73,1625.4 \"/>\n",
       "<polyline clip-path=\"url(#clip862)\" style=\"stroke:#000000; stroke-linecap:round; stroke-linejoin:round; stroke-width:4; stroke-opacity:1; fill:none\" points=\"1860.73,1625.4 1860.73,1608.76 \"/>\n",
       "<polyline clip-path=\"url(#clip862)\" style=\"stroke:#000000; stroke-linecap:round; stroke-linejoin:round; stroke-width:4; stroke-opacity:1; fill:none\" points=\"1860.73,1608.76 1859.06,1607.09 \"/>\n",
       "<polyline clip-path=\"url(#clip862)\" style=\"stroke:#000000; stroke-linecap:round; stroke-linejoin:round; stroke-width:4; stroke-opacity:1; fill:none\" points=\"1859.06,1607.09 1757.53,1607.09 \"/>\n",
       "<polyline clip-path=\"url(#clip862)\" style=\"stroke:#000000; stroke-linecap:round; stroke-linejoin:round; stroke-width:4; stroke-opacity:1; fill:none\" points=\"1757.53,1607.09 1755.86,1608.76 \"/>\n",
       "<polyline clip-path=\"url(#clip862)\" style=\"stroke:#000000; stroke-linecap:round; stroke-linejoin:round; stroke-width:4; stroke-opacity:1; fill:none\" points=\"1755.86,1608.76 1755.86,1625.4 \"/>\n",
       "<polyline clip-path=\"url(#clip862)\" style=\"stroke:#000000; stroke-linecap:round; stroke-linejoin:round; stroke-width:4; stroke-opacity:1; fill:none\" points=\"1755.86,1625.4 1757.53,1627.07 \"/>\n",
       "<polyline clip-path=\"url(#clip862)\" style=\"stroke:#000000; stroke-linecap:round; stroke-linejoin:round; stroke-width:4; stroke-opacity:1; fill:none\" points=\"1757.53,1627.07 1795.81,1627.07 \"/>\n",
       "<polyline clip-path=\"url(#clip862)\" style=\"stroke:#000000; stroke-linecap:round; stroke-linejoin:round; stroke-width:4; stroke-opacity:1; fill:none\" points=\"1795.81,1627.07 1795.81,1973.29 \"/>\n",
       "<polyline clip-path=\"url(#clip862)\" style=\"stroke:#000000; stroke-linecap:round; stroke-linejoin:round; stroke-width:4; stroke-opacity:1; fill:none\" points=\"1795.81,1973.29 1336.4,1973.29 \"/>\n",
       "<polyline clip-path=\"url(#clip862)\" style=\"stroke:#000000; stroke-linecap:round; stroke-linejoin:round; stroke-width:4; stroke-opacity:1; fill:none\" points=\"1336.4,1973.29 1334.73,1974.96 \"/>\n",
       "<polyline clip-path=\"url(#clip862)\" style=\"stroke:#000000; stroke-linecap:round; stroke-linejoin:round; stroke-width:4; stroke-opacity:1; fill:none\" points=\"1334.73,1974.96 1334.73,1989.94 \"/>\n",
       "<polyline clip-path=\"url(#clip862)\" style=\"stroke:#000000; stroke-linecap:round; stroke-linejoin:round; stroke-width:4; stroke-opacity:1; fill:none\" points=\"1334.73,1989.94 1336.4,1991.6 \"/>\n",
       "<polyline clip-path=\"url(#clip862)\" style=\"stroke:#000000; stroke-linecap:round; stroke-linejoin:round; stroke-width:4; stroke-opacity:1; fill:none\" points=\"1336.4,1991.6 1795.81,1991.6 \"/>\n",
       "<polyline clip-path=\"url(#clip862)\" style=\"stroke:#000000; stroke-linecap:round; stroke-linejoin:round; stroke-width:4; stroke-opacity:1; fill:none\" points=\"1795.81,1991.6 1795.81,2256.26 \"/>\n",
       "<polyline clip-path=\"url(#clip862)\" style=\"stroke:#000000; stroke-linecap:round; stroke-linejoin:round; stroke-width:4; stroke-opacity:1; fill:none\" points=\"1795.81,2256.26 1556.12,2256.26 \"/>\n",
       "<polyline clip-path=\"url(#clip862)\" style=\"stroke:#000000; stroke-linecap:round; stroke-linejoin:round; stroke-width:4; stroke-opacity:1; fill:none\" points=\"1556.12,2256.26 1554.45,2257.93 \"/>\n",
       "<polyline clip-path=\"url(#clip862)\" style=\"stroke:#000000; stroke-linecap:round; stroke-linejoin:round; stroke-width:4; stroke-opacity:1; fill:none\" points=\"1554.45,2257.93 1554.45,2274.57 \"/>\n",
       "<polyline clip-path=\"url(#clip862)\" style=\"stroke:#000000; stroke-linecap:round; stroke-linejoin:round; stroke-width:4; stroke-opacity:1; fill:none\" points=\"1554.45,2274.57 1556.12,2276.24 \"/>\n",
       "<polyline clip-path=\"url(#clip862)\" style=\"stroke:#000000; stroke-linecap:round; stroke-linejoin:round; stroke-width:4; stroke-opacity:1; fill:none\" points=\"1556.12,2276.24 2343.44,2276.24 \"/>\n",
       "<polyline clip-path=\"url(#clip862)\" style=\"stroke:#000000; stroke-linecap:round; stroke-linejoin:round; stroke-width:4; stroke-opacity:1; fill:none\" points=\"2343.44,2276.24 2343.44,3203.39 \"/>\n",
       "<polyline clip-path=\"url(#clip862)\" style=\"stroke:#000000; stroke-linecap:round; stroke-linejoin:round; stroke-width:4; stroke-opacity:1; fill:none\" points=\"2343.44,3203.39 1401.31,3203.39 \"/>\n",
       "<polyline clip-path=\"url(#clip862)\" style=\"stroke:#000000; stroke-linecap:round; stroke-linejoin:round; stroke-width:4; stroke-opacity:1; fill:none\" points=\"1401.31,3203.39 1401.31,3203.39 \"/>\n",
       "<polyline clip-path=\"url(#clip862)\" style=\"stroke:#ff0000; stroke-linecap:round; stroke-linejoin:round; stroke-width:28; stroke-opacity:1; fill:none\" points=\"1686.94,826.47 1605.84,845.184 \"/>\n",
       "<polyline clip-path=\"url(#clip862)\" style=\"stroke:#ff0000; stroke-linecap:round; stroke-linejoin:round; stroke-width:28; stroke-opacity:1; fill:none\" points=\"1589.77,848.893 1534.09,910.756 \"/>\n",
       "<polyline clip-path=\"url(#clip862)\" style=\"stroke:#ff0000; stroke-linecap:round; stroke-linejoin:round; stroke-width:28; stroke-opacity:1; fill:none\" points=\"1522.5,923.639 1522.5,1006.87 \"/>\n",
       "<polyline clip-path=\"url(#clip862)\" style=\"stroke:#ff0000; stroke-linecap:round; stroke-linejoin:round; stroke-width:28; stroke-opacity:1; fill:none\" points=\"1522.5,1020.81 1501.05,1101.23 \"/>\n",
       "<polyline clip-path=\"url(#clip862)\" style=\"stroke:#ff0000; stroke-linecap:round; stroke-linejoin:round; stroke-width:28; stroke-opacity:1; fill:none\" points=\"1492.6,1132.93 1475.45,1214.37 \"/>\n",
       "<polyline clip-path=\"url(#clip862)\" style=\"stroke:#ff0000; stroke-linecap:round; stroke-linejoin:round; stroke-width:28; stroke-opacity:1; fill:none\" points=\"1462.7,1274.94 1446.38,1356.56 \"/>\n",
       "<polyline clip-path=\"url(#clip862)\" style=\"stroke:#ff0000; stroke-linecap:round; stroke-linejoin:round; stroke-width:28; stroke-opacity:1; fill:none\" points=\"1440.28,1387.06 1390.34,1453.65 \"/>\n",
       "<polyline clip-path=\"url(#clip862)\" style=\"stroke:#ff0000; stroke-linecap:round; stroke-linejoin:round; stroke-width:28; stroke-opacity:1; fill:none\" points=\"1373,1476.76 1289.78,1476.76 \"/>\n",
       "<polyline clip-path=\"url(#clip862)\" style=\"stroke:#ff0000; stroke-linecap:round; stroke-linejoin:round; stroke-width:28; stroke-opacity:1; fill:none\" points=\"1133.82,1476.76 1051,1468.48 \"/>\n",
       "<polyline clip-path=\"url(#clip862)\" style=\"stroke:#ff0000; stroke-linecap:round; stroke-linejoin:round; stroke-width:28; stroke-opacity:1; fill:none\" points=\"984.326,1461.81 901.214,1466.18 \"/>\n",
       "<polyline clip-path=\"url(#clip862)\" style=\"stroke:#ff0000; stroke-linecap:round; stroke-linejoin:round; stroke-width:28; stroke-opacity:1; fill:none\" points=\"842.309,1469.28 759.082,1469.28 \"/>\n",
       "<polyline clip-path=\"url(#clip862)\" style=\"stroke:#0000ff; stroke-linecap:round; stroke-linejoin:round; stroke-width:8; stroke-opacity:0.2; fill:none\" points=\"1686.94,826.477 1604.65,845.893 1527.57,912.841 1525.07,1024.27 1494.07,1130.25 1453.54,1258.27 1455.84,1396.54 1386.61,1481.93 1142.31,1476.6 1006.7,1458.68 850.007,1478.89 \"/>\n",
       "<polyline clip-path=\"url(#clip862)\" style=\"stroke:#0000ff; stroke-linecap:round; stroke-linejoin:round; stroke-width:8; stroke-opacity:1; fill:none\" points=\"1686.94,826.477 1646.39,835.834 \"/>\n",
       "<polyline clip-path=\"url(#clip862)\" style=\"stroke:#0000ff; stroke-linecap:round; stroke-linejoin:round; stroke-width:8; stroke-opacity:1; fill:none\" points=\"1604.65,845.893 1575.83,875.916 \"/>\n",
       "<polyline clip-path=\"url(#clip862)\" style=\"stroke:#0000ff; stroke-linecap:round; stroke-linejoin:round; stroke-width:8; stroke-opacity:1; fill:none\" points=\"1527.57,912.841 1526.29,954.435 \"/>\n",
       "<polyline clip-path=\"url(#clip862)\" style=\"stroke:#0000ff; stroke-linecap:round; stroke-linejoin:round; stroke-width:8; stroke-opacity:1; fill:none\" points=\"1525.07,1024.27 1512.96,1064.08 \"/>\n",
       "<polyline clip-path=\"url(#clip862)\" style=\"stroke:#0000ff; stroke-linecap:round; stroke-linejoin:round; stroke-width:8; stroke-opacity:1; fill:none\" points=\"1494.07,1130.25 1485.96,1171.07 \"/>\n",
       "<polyline clip-path=\"url(#clip862)\" style=\"stroke:#0000ff; stroke-linecap:round; stroke-linejoin:round; stroke-width:8; stroke-opacity:1; fill:none\" points=\"1453.54,1258.27 1443.2,1298.58 \"/>\n",
       "<polyline clip-path=\"url(#clip862)\" style=\"stroke:#0000ff; stroke-linecap:round; stroke-linejoin:round; stroke-width:8; stroke-opacity:1; fill:none\" points=\"1455.84,1396.54 1430.66,1429.67 \"/>\n",
       "<polyline clip-path=\"url(#clip862)\" style=\"stroke:#0000ff; stroke-linecap:round; stroke-linejoin:round; stroke-width:8; stroke-opacity:1; fill:none\" points=\"1386.61,1481.93 1345.02,1483.14 \"/>\n",
       "<polyline clip-path=\"url(#clip862)\" style=\"stroke:#0000ff; stroke-linecap:round; stroke-linejoin:round; stroke-width:8; stroke-opacity:1; fill:none\" points=\"1142.31,1476.6 1100.84,1473.12 \"/>\n",
       "<polyline clip-path=\"url(#clip862)\" style=\"stroke:#0000ff; stroke-linecap:round; stroke-linejoin:round; stroke-width:8; stroke-opacity:1; fill:none\" points=\"1006.7,1458.68 965.107,1460.08 \"/>\n",
       "<polyline clip-path=\"url(#clip862)\" style=\"stroke:#0000ff; stroke-linecap:round; stroke-linejoin:round; stroke-width:8; stroke-opacity:1; fill:none\" points=\"850.007,1478.89 808.413,1480.14 \"/>\n",
       "</svg>\n"
      ]
     },
     "execution_count": 654,
     "metadata": {},
     "output_type": "execute_result"
    }
   ],
   "source": [
    "tr,w = simple_posterior(10, 10)\n",
    "\n",
    "ps = [r[1] for r in tr[]];\n",
    "xs = [r[2] for r in tr[]];\n",
    "\n",
    "mypl = plot(size=(600,600), legend=nothing; \n",
    "    xlim=(minimum([p.x[1] for p in ps])-4,maximum([p.x[1] for p in ps]) +4),\n",
    "    ylim=(minimum([p.x[2] for p in ps])-4,maximum([p.x[2] for p in ps]) +4),\n",
    "    aspect_ratio=:equal)\n",
    "plot!(_segs, c=:black)\n",
    "plot!(_ps[1:length(ps)],c=:red, r=0.5, linewidth=7)\n",
    "plot!([p.x for p in ps], c=:blue, linewidth=2, alpha=.2)\n",
    "plot!(ps, c=:blue, r=0.25, linewidth=2, alpha=1.)\n",
    "mypl"
   ]
  },
  {
   "cell_type": "code",
   "execution_count": 655,
   "id": "a2874cc1",
   "metadata": {},
   "outputs": [
    {
     "data": {
      "text/plain": [
       "smc_posterior (generic function with 2 methods)"
      ]
     },
     "execution_count": 655,
     "metadata": {},
     "output_type": "execute_result"
    }
   ],
   "source": [
    "function smc_posterior(S, args, grid_args)\n",
    "\n",
    "\n",
    "    ch = constraints(0)\n",
    "        \n",
    "    tr, log_p = generate(static_slam_model, (0,args...), ch);\n",
    "    for T=1:S\n",
    "\n",
    "        x   = stack(polar_inv(_zs[T+1],_as))\n",
    "        ch = constraints(T)\n",
    "\n",
    "        tr, dw = extend(tr, ch, grid_args);\n",
    "        log_p = log_p + dw\n",
    "    end\n",
    "    return tr,log_p\n",
    "end"
   ]
  },
  {
   "cell_type": "code",
   "execution_count": 388,
   "id": "85dd5276",
   "metadata": {},
   "outputs": [
    {
     "data": {
      "text/plain": [
       "Animation(\"/tmp/jl_53HxPq\", String[])"
      ]
     },
     "execution_count": 388,
     "metadata": {},
     "output_type": "execute_result"
    }
   ],
   "source": [
    "ani = Animation()"
   ]
  },
  {
   "cell_type": "markdown",
   "id": "e79ddf74",
   "metadata": {},
   "source": [
    "## Ani"
   ]
  },
  {
   "cell_type": "code",
   "execution_count": 672,
   "id": "74155ec1",
   "metadata": {},
   "outputs": [],
   "source": [
    "p0 = _ps[1]\n",
    "x0_noise  = .0001\n",
    "hd0_noise = .0001\n",
    "\n",
    "# Motion/Control noise\n",
    "x_noise  = 0.25\n",
    "hd_noise = 10.\n",
    "\n",
    "# Sensor args\n",
    "wind    = 10\n",
    "s_noise = 0.1\n",
    "dropout = 1e-8\n",
    "\n",
    "args = (_us,         \n",
    "    p0, x0_noise, hd0_noise, # Pose prior model\n",
    "    x_noise, hd_noise,       # Motion model\n",
    "    wind, s_noise, dropout   # Sensor model\n",
    ");"
   ]
  },
  {
   "cell_type": "code",
   "execution_count": 673,
   "id": "c885e6db",
   "metadata": {},
   "outputs": [],
   "source": [
    "n   = 5\n",
    "w   = fill(20, n)\n",
    "sig = fill(0.1,n)\n",
    "dropout = fill(1e-9,n)\n",
    "\n",
    "grid_k   = [4, 4, 4, 4, 4]\n",
    "grid_dx  = [1., 0.4, 0.125, 0.125, 0.125]\n",
    "grid_dhd = [90.0, 45, 22.5, 10, 10]\n",
    "\n",
    "grid_args = (w, sig, dropout, grid_k, grid_dx, grid_dhd);"
   ]
  },
  {
   "cell_type": "code",
   "execution_count": 682,
   "id": "d41f9a3a",
   "metadata": {},
   "outputs": [],
   "source": [
    "using Interact"
   ]
  },
  {
   "cell_type": "code",
   "execution_count": 683,
   "id": "a2d17685",
   "metadata": {},
   "outputs": [
    {
     "data": {
      "application/vnd.webio.node+json": {
       "children": [
        {
         "children": [
          {
           "children": [
            {
             "children": [
              {
               "children": [
                {
                 "children": [
                  "x"
                 ],
                 "instanceArgs": {
                  "namespace": "html",
                  "tag": "label"
                 },
                 "nodeType": "DOM",
                 "props": {
                  "className": "interact ",
                  "style": {
                   "padding": "5px 10px 0px 10px"
                  }
                 },
                 "type": "node"
                }
               ],
               "instanceArgs": {
                "namespace": "html",
                "tag": "div"
               },
               "nodeType": "DOM",
               "props": {
                "className": "interact-flex-row-left"
               },
               "type": "node"
              },
              {
               "children": [
                {
                 "children": [],
                 "instanceArgs": {
                  "namespace": "html",
                  "tag": "input"
                 },
                 "nodeType": "DOM",
                 "props": {
                  "attributes": {
                   "data-bind": "numericValue: index, valueUpdate: 'input', event: {change: function (){this.changes(this.changes()+1)}}",
                   "orient": "horizontal",
                   "type": "range"
                  },
                  "className": "slider slider is-fullwidth",
                  "max": 10,
                  "min": 1,
                  "step": 1,
                  "style": {}
                 },
                 "type": "node"
                }
               ],
               "instanceArgs": {
                "namespace": "html",
                "tag": "div"
               },
               "nodeType": "DOM",
               "props": {
                "className": "interact-flex-row-center"
               },
               "type": "node"
              },
              {
               "children": [
                {
                 "children": [],
                 "instanceArgs": {
                  "namespace": "html",
                  "tag": "p"
                 },
                 "nodeType": "DOM",
                 "props": {
                  "attributes": {
                   "data-bind": "text: formatted_val"
                  }
                 },
                 "type": "node"
                }
               ],
               "instanceArgs": {
                "namespace": "html",
                "tag": "div"
               },
               "nodeType": "DOM",
               "props": {
                "className": "interact-flex-row-right"
               },
               "type": "node"
              }
             ],
             "instanceArgs": {
              "namespace": "html",
              "tag": "div"
             },
             "nodeType": "DOM",
             "props": {
              "className": "interact-flex-row interact-widget"
             },
             "type": "node"
            }
           ],
           "instanceArgs": {
            "handlers": {
             "changes": [
              "(function (val){return (val!=this.model[\"changes\"]()) ? (this.valueFromJulia[\"changes\"]=true, this.model[\"changes\"](val)) : undefined})"
             ],
             "index": [
              "(function (val){return (val!=this.model[\"index\"]()) ? (this.valueFromJulia[\"index\"]=true, this.model[\"index\"](val)) : undefined})"
             ]
            },
            "id": "17594438832128882092",
            "imports": {
             "data": [
              {
               "name": "knockout",
               "type": "js",
               "url": "/assetserver/4b78a831658f9469be0fa90a874237d533cfc56e-knockout.js"
              },
              {
               "name": "knockout_punches",
               "type": "js",
               "url": "/assetserver/32cf81589ef7eb25886db6e5be297d237f8599ce-knockout_punches.js"
              },
              {
               "name": null,
               "type": "js",
               "url": "/assetserver/4c861182dd4c5b1a7b80754ca907d70e11c2410c-all.js"
              },
              {
               "name": null,
               "type": "css",
               "url": "/assetserver/55ec2ee389419b72c3c6088bc3fbe3d7187a5fc0-style.css"
              },
              {
               "name": null,
               "type": "css",
               "url": "/assetserver/bb71acf9697a201a164f98e5fab8a4f7b4f82041-bulma_confined.min.css"
              }
             ],
             "type": "async_block"
            },
            "mount_callbacks": [
             "function () {\n    var handler = (function (ko, koPunches) {\n    ko.punches.enableAll();\n    ko.bindingHandlers.numericValue = {\n        init: function(element, valueAccessor, allBindings, data, context) {\n            var stringified = ko.observable(ko.unwrap(valueAccessor()));\n            stringified.subscribe(function(value) {\n                var val = parseFloat(value);\n                if (!isNaN(val)) {\n                    valueAccessor()(val);\n                }\n            });\n            valueAccessor().subscribe(function(value) {\n                var str = JSON.stringify(value);\n                if ((str == \"0\") && ([\"-0\", \"-0.\"].indexOf(stringified()) >= 0))\n                     return;\n                 if ([\"null\", \"\"].indexOf(str) >= 0)\n                     return;\n                stringified(str);\n            });\n            ko.applyBindingsToNode(\n                element,\n                {\n                    value: stringified,\n                    valueUpdate: allBindings.get('valueUpdate'),\n                },\n                context,\n            );\n        }\n    };\n    var json_data = {\"formatted_vals\":[\"1\",\"2\",\"3\",\"4\",\"5\",\"6\",\"7\",\"8\",\"9\",\"10\"],\"changes\":WebIO.getval({\"name\":\"changes\",\"scope\":\"17594438832128882092\",\"id\":\"16743059885510990332\",\"type\":\"observable\"}),\"index\":WebIO.getval({\"name\":\"index\",\"scope\":\"17594438832128882092\",\"id\":\"12649167644844932098\",\"type\":\"observable\"})};\n    var self = this;\n    function AppViewModel() {\n        for (var key in json_data) {\n            var el = json_data[key];\n            this[key] = Array.isArray(el) ? ko.observableArray(el) : ko.observable(el);\n        }\n        \n        [this[\"formatted_val\"]=ko.computed(    function(){\n        return this.formatted_vals()[parseInt(this.index())-(1)];\n    }\n,this)]\n        [this[\"changes\"].subscribe((function (val){!(this.valueFromJulia[\"changes\"]) ? (WebIO.setval({\"name\":\"changes\",\"scope\":\"17594438832128882092\",\"id\":\"16743059885510990332\",\"type\":\"observable\"},val)) : undefined; return this.valueFromJulia[\"changes\"]=false}),self),this[\"index\"].subscribe((function (val){!(this.valueFromJulia[\"index\"]) ? (WebIO.setval({\"name\":\"index\",\"scope\":\"17594438832128882092\",\"id\":\"12649167644844932098\",\"type\":\"observable\"},val)) : undefined; return this.valueFromJulia[\"index\"]=false}),self)]\n        \n    }\n    self.model = new AppViewModel();\n    self.valueFromJulia = {};\n    for (var key in json_data) {\n        self.valueFromJulia[key] = false;\n    }\n    ko.applyBindings(self.model, self.dom);\n}\n);\n    (WebIO.importBlock({\"data\":[{\"name\":\"knockout\",\"type\":\"js\",\"url\":\"/assetserver/4b78a831658f9469be0fa90a874237d533cfc56e-knockout.js\"},{\"name\":\"knockout_punches\",\"type\":\"js\",\"url\":\"/assetserver/32cf81589ef7eb25886db6e5be297d237f8599ce-knockout_punches.js\"}],\"type\":\"async_block\"})).then((imports) => handler.apply(this, imports));\n}\n"
            ],
            "observables": {
             "changes": {
              "id": "16743059885510990332",
              "sync": false,
              "value": 0
             },
             "index": {
              "id": "12649167644844932098",
              "sync": true,
              "value": 5
             }
            },
            "systemjs_options": null
           },
           "nodeType": "Scope",
           "props": {},
           "type": "node"
          }
         ],
         "instanceArgs": {
          "namespace": "html",
          "tag": "div"
         },
         "nodeType": "DOM",
         "props": {
          "className": "field interact-widget"
         },
         "type": "node"
        },
        {
         "children": [
          {
           "children": [
            {
             "children": [
              {
               "children": [
                {
                 "children": [
                  "f"
                 ],
                 "instanceArgs": {
                  "namespace": "html",
                  "tag": "label"
                 },
                 "nodeType": "DOM",
                 "props": {
                  "className": "interact ",
                  "style": {
                   "padding": "5px 10px 0px 10px"
                  }
                 },
                 "type": "node"
                }
               ],
               "instanceArgs": {
                "namespace": "html",
                "tag": "div"
               },
               "nodeType": "DOM",
               "props": {
                "className": "interact-flex-row-left"
               },
               "type": "node"
              },
              {
               "children": [
                {
                 "children": [
                  {
                   "children": [
                    {
                     "children": [],
                     "instanceArgs": {
                      "namespace": "html",
                      "tag": "label"
                     },
                     "nodeType": "DOM",
                     "props": {
                      "attributes": {
                       "data-bind": "text : key"
                      }
                     },
                     "type": "node"
                    }
                   ],
                   "instanceArgs": {
                    "namespace": "html",
                    "tag": "span"
                   },
                   "nodeType": "DOM",
                   "props": {
                    "attributes": {
                     "data-bind": "click: function (){$root.update(val)}, css: {'is-primary is-selected' : $root.index() == val, 'interact-widget is-medium button ' : true}"
                    }
                   },
                   "type": "node"
                  }
                 ],
                 "instanceArgs": {
                  "namespace": "html",
                  "tag": "div"
                 },
                 "nodeType": "DOM",
                 "props": {
                  "attributes": {
                   "data-bind": "foreach : options_js"
                  },
                  "className": "buttons has-addons is-centered"
                 },
                 "type": "node"
                }
               ],
               "instanceArgs": {
                "namespace": "html",
                "tag": "div"
               },
               "nodeType": "DOM",
               "props": {
                "className": "interact-flex-row-center"
               },
               "type": "node"
              },
              {
               "children": [
                {
                 "children": [],
                 "instanceArgs": {
                  "namespace": "html",
                  "tag": "div"
                 },
                 "nodeType": "DOM",
                 "props": {},
                 "type": "node"
                }
               ],
               "instanceArgs": {
                "namespace": "html",
                "tag": "div"
               },
               "nodeType": "DOM",
               "props": {
                "className": "interact-flex-row-right"
               },
               "type": "node"
              }
             ],
             "instanceArgs": {
              "namespace": "html",
              "tag": "div"
             },
             "nodeType": "DOM",
             "props": {
              "className": "interact-flex-row interact-widget"
             },
             "type": "node"
            }
           ],
           "instanceArgs": {
            "handlers": {
             "index": [
              "(function (val){return (val!=this.model[\"index\"]()) ? (this.valueFromJulia[\"index\"]=true, this.model[\"index\"](val)) : undefined})"
             ],
             "options_js": [
              "(function (val){return (val!=this.model[\"options_js\"]()) ? (this.valueFromJulia[\"options_js\"]=true, this.model[\"options_js\"](val)) : undefined})"
             ]
            },
            "id": "16306609676850727722",
            "imports": {
             "data": [
              {
               "name": "knockout",
               "type": "js",
               "url": "/assetserver/4b78a831658f9469be0fa90a874237d533cfc56e-knockout.js"
              },
              {
               "name": "knockout_punches",
               "type": "js",
               "url": "/assetserver/32cf81589ef7eb25886db6e5be297d237f8599ce-knockout_punches.js"
              },
              {
               "name": null,
               "type": "js",
               "url": "/assetserver/4c861182dd4c5b1a7b80754ca907d70e11c2410c-all.js"
              },
              {
               "name": null,
               "type": "css",
               "url": "/assetserver/55ec2ee389419b72c3c6088bc3fbe3d7187a5fc0-style.css"
              },
              {
               "name": null,
               "type": "css",
               "url": "/assetserver/bb71acf9697a201a164f98e5fab8a4f7b4f82041-bulma_confined.min.css"
              }
             ],
             "type": "async_block"
            },
            "mount_callbacks": [
             "function () {\n    var handler = (function (ko, koPunches) {\n    ko.punches.enableAll();\n    ko.bindingHandlers.numericValue = {\n        init: function(element, valueAccessor, allBindings, data, context) {\n            var stringified = ko.observable(ko.unwrap(valueAccessor()));\n            stringified.subscribe(function(value) {\n                var val = parseFloat(value);\n                if (!isNaN(val)) {\n                    valueAccessor()(val);\n                }\n            });\n            valueAccessor().subscribe(function(value) {\n                var str = JSON.stringify(value);\n                if ((str == \"0\") && ([\"-0\", \"-0.\"].indexOf(stringified()) >= 0))\n                     return;\n                 if ([\"null\", \"\"].indexOf(str) >= 0)\n                     return;\n                stringified(str);\n            });\n            ko.applyBindingsToNode(\n                element,\n                {\n                    value: stringified,\n                    valueUpdate: allBindings.get('valueUpdate'),\n                },\n                context,\n            );\n        }\n    };\n    var json_data = {\"options_js\":WebIO.getval({\"name\":\"options_js\",\"scope\":\"16306609676850727722\",\"id\":\"17728077516814520622\",\"type\":\"observable\"}),\"index\":WebIO.getval({\"name\":\"index\",\"scope\":\"16306609676850727722\",\"id\":\"2848184459164756677\",\"type\":\"observable\"})};\n    var self = this;\n    function AppViewModel() {\n        for (var key in json_data) {\n            var el = json_data[key];\n            this[key] = Array.isArray(el) ? ko.observableArray(el) : ko.observable(el);\n        }\n        [this[\"update\"]=function (val) {this.index(val)}]\n        \n        [this[\"options_js\"].subscribe((function (val){!(this.valueFromJulia[\"options_js\"]) ? (WebIO.setval({\"name\":\"options_js\",\"scope\":\"16306609676850727722\",\"id\":\"17728077516814520622\",\"type\":\"observable\"},val)) : undefined; return this.valueFromJulia[\"options_js\"]=false}),self),this[\"index\"].subscribe((function (val){!(this.valueFromJulia[\"index\"]) ? (WebIO.setval({\"name\":\"index\",\"scope\":\"16306609676850727722\",\"id\":\"2848184459164756677\",\"type\":\"observable\"},val)) : undefined; return this.valueFromJulia[\"index\"]=false}),self)]\n        \n    }\n    self.model = new AppViewModel();\n    self.valueFromJulia = {};\n    for (var key in json_data) {\n        self.valueFromJulia[key] = false;\n    }\n    ko.applyBindings(self.model, self.dom);\n}\n);\n    (WebIO.importBlock({\"data\":[{\"name\":\"knockout\",\"type\":\"js\",\"url\":\"/assetserver/4b78a831658f9469be0fa90a874237d533cfc56e-knockout.js\"},{\"name\":\"knockout_punches\",\"type\":\"js\",\"url\":\"/assetserver/32cf81589ef7eb25886db6e5be297d237f8599ce-knockout_punches.js\"}],\"type\":\"async_block\"})).then((imports) => handler.apply(this, imports));\n}\n"
            ],
            "observables": {
             "index": {
              "id": "2848184459164756677",
              "sync": true,
              "value": 1
             },
             "options_js": {
              "id": "17728077516814520622",
              "sync": false,
              "value": [
               {
                "id": "idHpMj7b8g",
                "key": "sin",
                "val": 1
               },
               {
                "id": "idqmejM3uq",
                "key": "cos",
                "val": 2
               }
              ]
             }
            },
            "systemjs_options": null
           },
           "nodeType": "Scope",
           "props": {},
           "type": "node"
          }
         ],
         "instanceArgs": {
          "namespace": "html",
          "tag": "div"
         },
         "nodeType": "DOM",
         "props": {
          "className": "interact-widget"
         },
         "type": "node"
        },
        {
         "children": [
          {
           "children": [
            {
             "children": [
              {
               "children": [
                {
                 "children": [],
                 "instanceArgs": {
                  "namespace": "html",
                  "tag": "input"
                 },
                 "nodeType": "DOM",
                 "props": {
                  "attributes": {
                   "data-bind": "checked: value, valueUpdate: 'change', event: {change: function (){this.changes(this.changes()+1)}}",
                   "type": "checkbox"
                  },
                  "className": "switch ",
                  "id": "##3918",
                  "style": {}
                 },
                 "type": "node"
                },
                {
                 "children": [
                  "both"
                 ],
                 "instanceArgs": {
                  "namespace": "html",
                  "tag": "label"
                 },
                 "nodeType": "DOM",
                 "props": {
                  "attributes": {
                   "className": "",
                   "for": "##3918"
                  }
                 },
                 "type": "node"
                }
               ],
               "instanceArgs": {
                "namespace": "html",
                "tag": "div"
               },
               "nodeType": "DOM",
               "props": {
                "className": "field interact-widget"
               },
               "type": "node"
              }
             ],
             "instanceArgs": {
              "handlers": {
               "changes": [
                "(function (val){return (val!=this.model[\"changes\"]()) ? (this.valueFromJulia[\"changes\"]=true, this.model[\"changes\"](val)) : undefined})"
               ],
               "value": [
                "(function (val){return (val!=this.model[\"value\"]()) ? (this.valueFromJulia[\"value\"]=true, this.model[\"value\"](val)) : undefined})"
               ]
              },
              "id": "3771360879454874561",
              "imports": {
               "data": [
                {
                 "name": "knockout",
                 "type": "js",
                 "url": "/assetserver/4b78a831658f9469be0fa90a874237d533cfc56e-knockout.js"
                },
                {
                 "name": "knockout_punches",
                 "type": "js",
                 "url": "/assetserver/32cf81589ef7eb25886db6e5be297d237f8599ce-knockout_punches.js"
                },
                {
                 "name": null,
                 "type": "js",
                 "url": "/assetserver/4c861182dd4c5b1a7b80754ca907d70e11c2410c-all.js"
                },
                {
                 "name": null,
                 "type": "css",
                 "url": "/assetserver/55ec2ee389419b72c3c6088bc3fbe3d7187a5fc0-style.css"
                },
                {
                 "name": null,
                 "type": "css",
                 "url": "/assetserver/bb71acf9697a201a164f98e5fab8a4f7b4f82041-bulma_confined.min.css"
                }
               ],
               "type": "async_block"
              },
              "mount_callbacks": [
               "function () {\n    var handler = (function (ko, koPunches) {\n    ko.punches.enableAll();\n    ko.bindingHandlers.numericValue = {\n        init: function(element, valueAccessor, allBindings, data, context) {\n            var stringified = ko.observable(ko.unwrap(valueAccessor()));\n            stringified.subscribe(function(value) {\n                var val = parseFloat(value);\n                if (!isNaN(val)) {\n                    valueAccessor()(val);\n                }\n            });\n            valueAccessor().subscribe(function(value) {\n                var str = JSON.stringify(value);\n                if ((str == \"0\") && ([\"-0\", \"-0.\"].indexOf(stringified()) >= 0))\n                     return;\n                 if ([\"null\", \"\"].indexOf(str) >= 0)\n                     return;\n                stringified(str);\n            });\n            ko.applyBindingsToNode(\n                element,\n                {\n                    value: stringified,\n                    valueUpdate: allBindings.get('valueUpdate'),\n                },\n                context,\n            );\n        }\n    };\n    var json_data = {\"changes\":WebIO.getval({\"name\":\"changes\",\"scope\":\"3771360879454874561\",\"id\":\"17990658941097720758\",\"type\":\"observable\"}),\"value\":WebIO.getval({\"name\":\"value\",\"scope\":\"3771360879454874561\",\"id\":\"15658232593529612371\",\"type\":\"observable\"})};\n    var self = this;\n    function AppViewModel() {\n        for (var key in json_data) {\n            var el = json_data[key];\n            this[key] = Array.isArray(el) ? ko.observableArray(el) : ko.observable(el);\n        }\n        \n        \n        [this[\"changes\"].subscribe((function (val){!(this.valueFromJulia[\"changes\"]) ? (WebIO.setval({\"name\":\"changes\",\"scope\":\"3771360879454874561\",\"id\":\"17990658941097720758\",\"type\":\"observable\"},val)) : undefined; return this.valueFromJulia[\"changes\"]=false}),self),this[\"value\"].subscribe((function (val){!(this.valueFromJulia[\"value\"]) ? (WebIO.setval({\"name\":\"value\",\"scope\":\"3771360879454874561\",\"id\":\"15658232593529612371\",\"type\":\"observable\"},val)) : undefined; return this.valueFromJulia[\"value\"]=false}),self)]\n        \n    }\n    self.model = new AppViewModel();\n    self.valueFromJulia = {};\n    for (var key in json_data) {\n        self.valueFromJulia[key] = false;\n    }\n    ko.applyBindings(self.model, self.dom);\n}\n);\n    (WebIO.importBlock({\"data\":[{\"name\":\"knockout\",\"type\":\"js\",\"url\":\"/assetserver/4b78a831658f9469be0fa90a874237d533cfc56e-knockout.js\"},{\"name\":\"knockout_punches\",\"type\":\"js\",\"url\":\"/assetserver/32cf81589ef7eb25886db6e5be297d237f8599ce-knockout_punches.js\"}],\"type\":\"async_block\"})).then((imports) => handler.apply(this, imports));\n}\n"
              ],
              "observables": {
               "changes": {
                "id": "17990658941097720758",
                "sync": false,
                "value": 0
               },
               "value": {
                "id": "15658232593529612371",
                "sync": true,
                "value": false
               }
              },
              "systemjs_options": null
             },
             "nodeType": "Scope",
             "props": {},
             "type": "node"
            }
           ],
           "instanceArgs": {
            "namespace": "html",
            "tag": "div"
           },
           "nodeType": "DOM",
           "props": {
            "className": "field interact-widget"
           },
           "type": "node"
          }
         ],
         "instanceArgs": {
          "namespace": "html",
          "tag": "div"
         },
         "nodeType": "DOM",
         "props": {
          "className": "interact-flex-row interact-widget"
         },
         "type": "node"
        },
        {
         "children": [
          {
           "children": [],
           "instanceArgs": {
            "id": "16206218056898724773",
            "name": "obs-node"
           },
           "nodeType": "ObservableNode",
           "props": {},
           "type": "node"
          }
         ],
         "instanceArgs": {
          "handlers": {},
          "id": "3128407087222711263",
          "imports": {
           "data": [],
           "type": "async_block"
          },
          "mount_callbacks": [],
          "observables": {
           "obs-node": {
            "id": "16206218056898724773",
            "sync": false,
            "value": {
             "children": [
              {
               "children": [],
               "instanceArgs": {
                "namespace": "html",
                "tag": "div"
               },
               "nodeType": "DOM",
               "props": {
                "setInnerHtml": "<?xml version=\"1.0\" encoding=\"utf-8\"?>\n<svg xmlns=\"http://www.w3.org/2000/svg\" xmlns:xlink=\"http://www.w3.org/1999/xlink\" width=\"100\" height=\"100\" viewBox=\"0 0 400 400\">\n<defs>\n  <clipPath id=\"clip560\">\n    <rect x=\"0\" y=\"0\" width=\"400\" height=\"400\"/>\n  </clipPath>\n</defs>\n<path clip-path=\"url(#clip560)\" d=\"M0 400 L400 400 L400 0 L0 0  Z\" fill=\"#ffffff\" fill-rule=\"evenodd\" fill-opacity=\"1\"/>\n<defs>\n  <clipPath id=\"clip561\">\n    <rect x=\"80\" y=\"40\" width=\"281\" height=\"281\"/>\n  </clipPath>\n</defs>\n<path clip-path=\"url(#clip560)\" d=\"M92.1772 281.168 L352.756 281.168 L352.756 47.2441 L92.1772 47.2441  Z\" fill=\"#ffffff\" fill-rule=\"evenodd\" fill-opacity=\"1\"/>\n<defs>\n  <clipPath id=\"clip562\">\n    <rect x=\"92\" y=\"47\" width=\"262\" height=\"235\"/>\n  </clipPath>\n</defs>\n<polyline clip-path=\"url(#clip562)\" style=\"stroke:#000000; stroke-linecap:round; stroke-linejoin:round; stroke-width:2; stroke-opacity:0.1; fill:none\" points=\"98.3229,281.168 98.3229,47.2441 \"/>\n<polyline clip-path=\"url(#clip562)\" style=\"stroke:#000000; stroke-linecap:round; stroke-linejoin:round; stroke-width:2; stroke-opacity:0.1; fill:none\" points=\"159.78,281.168 159.78,47.2441 \"/>\n<polyline clip-path=\"url(#clip562)\" style=\"stroke:#000000; stroke-linecap:round; stroke-linejoin:round; stroke-width:2; stroke-opacity:0.1; fill:none\" points=\"221.237,281.168 221.237,47.2441 \"/>\n<polyline clip-path=\"url(#clip562)\" style=\"stroke:#000000; stroke-linecap:round; stroke-linejoin:round; stroke-width:2; stroke-opacity:0.1; fill:none\" points=\"282.695,281.168 282.695,47.2441 \"/>\n<polyline clip-path=\"url(#clip562)\" style=\"stroke:#000000; stroke-linecap:round; stroke-linejoin:round; stroke-width:2; stroke-opacity:0.1; fill:none\" points=\"344.152,281.168 344.152,47.2441 \"/>\n<polyline clip-path=\"url(#clip560)\" style=\"stroke:#000000; stroke-linecap:round; stroke-linejoin:round; stroke-width:4; stroke-opacity:1; fill:none\" points=\"92.1772,281.168 352.756,281.168 \"/>\n<polyline clip-path=\"url(#clip560)\" style=\"stroke:#000000; stroke-linecap:round; stroke-linejoin:round; stroke-width:4; stroke-opacity:1; fill:none\" points=\"98.3229,281.168 98.3229,262.27 \"/>\n<polyline clip-path=\"url(#clip560)\" style=\"stroke:#000000; stroke-linecap:round; stroke-linejoin:round; stroke-width:4; stroke-opacity:1; fill:none\" points=\"159.78,281.168 159.78,262.27 \"/>\n<polyline clip-path=\"url(#clip560)\" style=\"stroke:#000000; stroke-linecap:round; stroke-linejoin:round; stroke-width:4; stroke-opacity:1; fill:none\" points=\"221.237,281.168 221.237,262.27 \"/>\n<polyline clip-path=\"url(#clip560)\" style=\"stroke:#000000; stroke-linecap:round; stroke-linejoin:round; stroke-width:4; stroke-opacity:1; fill:none\" points=\"282.695,281.168 282.695,262.27 \"/>\n<polyline clip-path=\"url(#clip560)\" style=\"stroke:#000000; stroke-linecap:round; stroke-linejoin:round; stroke-width:4; stroke-opacity:1; fill:none\" points=\"344.152,281.168 344.152,262.27 \"/>\n<path clip-path=\"url(#clip560)\" d=\"M98.3229 296.087 Q94.7118 296.087 92.8831 299.651 Q91.0776 303.193 91.0776 310.323 Q91.0776 317.429 92.8831 320.994 Q94.7118 324.535 98.3229 324.535 Q101.957 324.535 103.763 320.994 Q105.591 317.429 105.591 310.323 Q105.591 303.193 103.763 299.651 Q101.957 296.087 98.3229 296.087 M98.3229 292.383 Q104.133 292.383 107.189 296.989 Q110.267 301.573 110.267 310.323 Q110.267 319.049 107.189 323.656 Q104.133 328.239 98.3229 328.239 Q92.5127 328.239 89.4341 323.656 Q86.3785 319.049 86.3785 310.323 Q86.3785 301.573 89.4341 296.989 Q92.5127 292.383 98.3229 292.383 Z\" fill=\"#000000\" fill-rule=\"evenodd\" fill-opacity=\"1\" /><path clip-path=\"url(#clip560)\" d=\"M134.479 293.008 L152.836 293.008 L152.836 296.943 L138.762 296.943 L138.762 305.415 Q139.78 305.068 140.799 304.906 Q141.817 304.721 142.836 304.721 Q148.623 304.721 152.002 307.892 Q155.382 311.063 155.382 316.48 Q155.382 322.059 151.91 325.16 Q148.438 328.239 142.118 328.239 Q139.942 328.239 137.674 327.869 Q135.428 327.498 133.021 326.758 L133.021 322.059 Q135.104 323.193 137.327 323.748 Q139.549 324.304 142.026 324.304 Q146.03 324.304 148.368 322.198 Q150.706 320.091 150.706 316.48 Q150.706 312.869 148.368 310.762 Q146.03 308.656 142.026 308.656 Q140.151 308.656 138.276 309.073 Q136.424 309.489 134.479 310.369 L134.479 293.008 Z\" fill=\"#000000\" fill-rule=\"evenodd\" fill-opacity=\"1\" /><path clip-path=\"url(#clip560)\" d=\"M174.595 296.087 Q170.984 296.087 169.155 299.651 Q167.35 303.193 167.35 310.323 Q167.35 317.429 169.155 320.994 Q170.984 324.535 174.595 324.535 Q178.229 324.535 180.035 320.994 Q181.863 317.429 181.863 310.323 Q181.863 303.193 180.035 299.651 Q178.229 296.087 174.595 296.087 M174.595 292.383 Q180.405 292.383 183.461 296.989 Q186.539 301.573 186.539 310.323 Q186.539 319.049 183.461 323.656 Q180.405 328.239 174.595 328.239 Q168.785 328.239 165.706 323.656 Q162.651 319.049 162.651 310.323 Q162.651 301.573 165.706 296.989 Q168.785 292.383 174.595 292.383 Z\" fill=\"#000000\" fill-rule=\"evenodd\" fill-opacity=\"1\" /><path clip-path=\"url(#clip560)\" d=\"M180.844 323.633 L188.483 323.633 L188.483 297.267 L180.173 298.934 L180.173 294.675 L188.437 293.008 L193.113 293.008 L193.113 323.633 L200.751 323.633 L200.751 327.568 L180.844 327.568 L180.844 323.633 Z\" fill=\"#000000\" fill-rule=\"evenodd\" fill-opacity=\"1\" /><path clip-path=\"url(#clip560)\" d=\"M220.196 296.087 Q216.585 296.087 214.756 299.651 Q212.95 303.193 212.95 310.323 Q212.95 317.429 214.756 320.994 Q216.585 324.535 220.196 324.535 Q223.83 324.535 225.636 320.994 Q227.464 317.429 227.464 310.323 Q227.464 303.193 225.636 299.651 Q223.83 296.087 220.196 296.087 M220.196 292.383 Q226.006 292.383 229.061 296.989 Q232.14 301.573 232.14 310.323 Q232.14 319.049 229.061 323.656 Q226.006 328.239 220.196 328.239 Q214.386 328.239 211.307 323.656 Q208.251 319.049 208.251 310.323 Q208.251 301.573 211.307 296.989 Q214.386 292.383 220.196 292.383 Z\" fill=\"#000000\" fill-rule=\"evenodd\" fill-opacity=\"1\" /><path clip-path=\"url(#clip560)\" d=\"M250.358 296.087 Q246.747 296.087 244.918 299.651 Q243.112 303.193 243.112 310.323 Q243.112 317.429 244.918 320.994 Q246.747 324.535 250.358 324.535 Q253.992 324.535 255.797 320.994 Q257.626 317.429 257.626 310.323 Q257.626 303.193 255.797 299.651 Q253.992 296.087 250.358 296.087 M250.358 292.383 Q256.168 292.383 259.223 296.989 Q262.302 301.573 262.302 310.323 Q262.302 319.049 259.223 323.656 Q256.168 328.239 250.358 328.239 Q244.547 328.239 241.469 323.656 Q238.413 319.049 238.413 310.323 Q238.413 301.573 241.469 296.989 Q244.547 292.383 250.358 292.383 Z\" fill=\"#000000\" fill-rule=\"evenodd\" fill-opacity=\"1\" /><path clip-path=\"url(#clip560)\" d=\"M242.301 323.633 L249.94 323.633 L249.94 297.267 L241.63 298.934 L241.63 294.675 L249.894 293.008 L254.57 293.008 L254.57 323.633 L262.209 323.633 L262.209 327.568 L242.301 327.568 L242.301 323.633 Z\" fill=\"#000000\" fill-rule=\"evenodd\" fill-opacity=\"1\" /><path clip-path=\"url(#clip560)\" d=\"M271.699 293.008 L290.056 293.008 L290.056 296.943 L275.982 296.943 L275.982 305.415 Q277 305.068 278.019 304.906 Q279.037 304.721 280.056 304.721 Q285.843 304.721 289.222 307.892 Q292.602 311.063 292.602 316.48 Q292.602 322.059 289.13 325.16 Q285.658 328.239 279.338 328.239 Q277.162 328.239 274.894 327.869 Q272.648 327.498 270.241 326.758 L270.241 322.059 Q272.324 323.193 274.547 323.748 Q276.769 324.304 279.246 324.304 Q283.25 324.304 285.588 322.198 Q287.926 320.091 287.926 316.48 Q287.926 312.869 285.588 310.762 Q283.25 308.656 279.246 308.656 Q277.371 308.656 275.496 309.073 Q273.644 309.489 271.699 310.369 L271.699 293.008 Z\" fill=\"#000000\" fill-rule=\"evenodd\" fill-opacity=\"1\" /><path clip-path=\"url(#clip560)\" d=\"M311.815 296.087 Q308.204 296.087 306.375 299.651 Q304.57 303.193 304.57 310.323 Q304.57 317.429 306.375 320.994 Q308.204 324.535 311.815 324.535 Q315.449 324.535 317.255 320.994 Q319.083 317.429 319.083 310.323 Q319.083 303.193 317.255 299.651 Q315.449 296.087 311.815 296.087 M311.815 292.383 Q317.625 292.383 320.681 296.989 Q323.759 301.573 323.759 310.323 Q323.759 319.049 320.681 323.656 Q317.625 328.239 311.815 328.239 Q306.005 328.239 302.926 323.656 Q299.87 319.049 299.87 310.323 Q299.87 301.573 302.926 296.989 Q306.005 292.383 311.815 292.383 Z\" fill=\"#000000\" fill-rule=\"evenodd\" fill-opacity=\"1\" /><path clip-path=\"url(#clip560)\" d=\"M307.844 323.633 L324.164 323.633 L324.164 327.568 L302.219 327.568 L302.219 323.633 Q304.881 320.878 309.465 316.248 Q314.071 311.596 315.252 310.253 Q317.497 307.73 318.377 305.994 Q319.279 304.235 319.279 302.545 Q319.279 299.79 317.335 298.054 Q315.414 296.318 312.312 296.318 Q310.113 296.318 307.659 297.082 Q305.228 297.846 302.451 299.397 L302.451 294.675 Q305.275 293.54 307.728 292.962 Q310.182 292.383 312.219 292.383 Q317.59 292.383 320.784 295.068 Q323.978 297.753 323.978 302.244 Q323.978 304.374 323.168 306.295 Q322.381 308.193 320.275 310.786 Q319.696 311.457 316.594 314.674 Q313.492 317.869 307.844 323.633 Z\" fill=\"#000000\" fill-rule=\"evenodd\" fill-opacity=\"1\" /><path clip-path=\"url(#clip560)\" d=\"M343.978 296.087 Q340.367 296.087 338.538 299.651 Q336.733 303.193 336.733 310.323 Q336.733 317.429 338.538 320.994 Q340.367 324.535 343.978 324.535 Q347.613 324.535 349.418 320.994 Q351.247 317.429 351.247 310.323 Q351.247 303.193 349.418 299.651 Q347.613 296.087 343.978 296.087 M343.978 292.383 Q349.788 292.383 352.844 296.989 Q355.923 301.573 355.923 310.323 Q355.923 319.049 352.844 323.656 Q349.788 328.239 343.978 328.239 Q338.168 328.239 335.089 323.656 Q332.034 319.049 332.034 310.323 Q332.034 301.573 335.089 296.989 Q338.168 292.383 343.978 292.383 Z\" fill=\"#000000\" fill-rule=\"evenodd\" fill-opacity=\"1\" /><path clip-path=\"url(#clip560)\" d=\"M374.14 296.087 Q370.529 296.087 368.7 299.651 Q366.895 303.193 366.895 310.323 Q366.895 317.429 368.7 320.994 Q370.529 324.535 374.14 324.535 Q377.774 324.535 379.58 320.994 Q381.409 317.429 381.409 310.323 Q381.409 303.193 379.58 299.651 Q377.774 296.087 374.14 296.087 M374.14 292.383 Q379.95 292.383 383.006 296.989 Q386.085 301.573 386.085 310.323 Q386.085 319.049 383.006 323.656 Q379.95 328.239 374.14 328.239 Q368.33 328.239 365.251 323.656 Q362.196 319.049 362.196 310.323 Q362.196 301.573 365.251 296.989 Q368.33 292.383 374.14 292.383 Z\" fill=\"#000000\" fill-rule=\"evenodd\" fill-opacity=\"1\" /><polyline clip-path=\"url(#clip562)\" style=\"stroke:#000000; stroke-linecap:round; stroke-linejoin:round; stroke-width:2; stroke-opacity:0.1; fill:none\" points=\"92.1772,274.547 352.756,274.547 \"/>\n<polyline clip-path=\"url(#clip562)\" style=\"stroke:#000000; stroke-linecap:round; stroke-linejoin:round; stroke-width:2; stroke-opacity:0.1; fill:none\" points=\"92.1772,230.411 352.756,230.411 \"/>\n<polyline clip-path=\"url(#clip562)\" style=\"stroke:#000000; stroke-linecap:round; stroke-linejoin:round; stroke-width:2; stroke-opacity:0.1; fill:none\" points=\"92.1772,186.274 352.756,186.274 \"/>\n<polyline clip-path=\"url(#clip562)\" style=\"stroke:#000000; stroke-linecap:round; stroke-linejoin:round; stroke-width:2; stroke-opacity:0.1; fill:none\" points=\"92.1772,142.138 352.756,142.138 \"/>\n<polyline clip-path=\"url(#clip562)\" style=\"stroke:#000000; stroke-linecap:round; stroke-linejoin:round; stroke-width:2; stroke-opacity:0.1; fill:none\" points=\"92.1772,98.0011 352.756,98.0011 \"/>\n<polyline clip-path=\"url(#clip562)\" style=\"stroke:#000000; stroke-linecap:round; stroke-linejoin:round; stroke-width:2; stroke-opacity:0.1; fill:none\" points=\"92.1772,53.8645 352.756,53.8645 \"/>\n<polyline clip-path=\"url(#clip560)\" style=\"stroke:#000000; stroke-linecap:round; stroke-linejoin:round; stroke-width:4; stroke-opacity:1; fill:none\" points=\"92.1772,281.168 92.1772,47.2441 \"/>\n<polyline clip-path=\"url(#clip560)\" style=\"stroke:#000000; stroke-linecap:round; stroke-linejoin:round; stroke-width:4; stroke-opacity:1; fill:none\" points=\"92.1772,274.547 111.075,274.547 \"/>\n<polyline clip-path=\"url(#clip560)\" style=\"stroke:#000000; stroke-linecap:round; stroke-linejoin:round; stroke-width:4; stroke-opacity:1; fill:none\" points=\"92.1772,230.411 111.075,230.411 \"/>\n<polyline clip-path=\"url(#clip560)\" style=\"stroke:#000000; stroke-linecap:round; stroke-linejoin:round; stroke-width:4; stroke-opacity:1; fill:none\" points=\"92.1772,186.274 111.075,186.274 \"/>\n<polyline clip-path=\"url(#clip560)\" style=\"stroke:#000000; stroke-linecap:round; stroke-linejoin:round; stroke-width:4; stroke-opacity:1; fill:none\" points=\"92.1772,142.138 111.075,142.138 \"/>\n<polyline clip-path=\"url(#clip560)\" style=\"stroke:#000000; stroke-linecap:round; stroke-linejoin:round; stroke-width:4; stroke-opacity:1; fill:none\" points=\"92.1772,98.0011 111.075,98.0011 \"/>\n<polyline clip-path=\"url(#clip560)\" style=\"stroke:#000000; stroke-linecap:round; stroke-linejoin:round; stroke-width:4; stroke-opacity:1; fill:none\" points=\"92.1772,53.8645 111.075,53.8645 \"/>\n<path clip-path=\"url(#clip560)\" d=\"M74.2328 260.346 Q70.6217 260.346 68.793 263.911 Q66.9875 267.453 66.9875 274.582 Q66.9875 281.689 68.793 285.253 Q70.6217 288.795 74.2328 288.795 Q77.867 288.795 79.6726 285.253 Q81.5013 281.689 81.5013 274.582 Q81.5013 267.453 79.6726 263.911 Q77.867 260.346 74.2328 260.346 M74.2328 256.642 Q80.0429 256.642 83.0985 261.249 Q86.1772 265.832 86.1772 274.582 Q86.1772 283.309 83.0985 287.915 Q80.0429 292.499 74.2328 292.499 Q68.4226 292.499 65.344 287.915 Q62.2884 283.309 62.2884 274.582 Q62.2884 265.832 65.344 261.249 Q68.4226 256.642 74.2328 256.642 Z\" fill=\"#000000\" fill-rule=\"evenodd\" fill-opacity=\"1\" /><path clip-path=\"url(#clip560)\" d=\"M66.2699 243.756 L73.9087 243.756 L73.9087 217.39 L65.5986 219.057 L65.5986 214.797 L73.8624 213.131 L78.5383 213.131 L78.5383 243.756 L86.1772 243.756 L86.1772 247.691 L66.2699 247.691 L66.2699 243.756 Z\" fill=\"#000000\" fill-rule=\"evenodd\" fill-opacity=\"1\" /><path clip-path=\"url(#clip560)\" d=\"M69.8578 199.619 L86.1772 199.619 L86.1772 203.554 L64.2328 203.554 L64.2328 199.619 Q66.8949 196.864 71.4782 192.235 Q76.0846 187.582 77.2652 186.24 Q79.5105 183.716 80.3902 181.98 Q81.2929 180.221 81.2929 178.531 Q81.2929 175.777 79.3485 174.041 Q77.4272 172.304 74.3254 172.304 Q72.1263 172.304 69.6726 173.068 Q67.2421 173.832 64.4643 175.383 L64.4643 170.661 Q67.2884 169.527 69.7421 168.948 Q72.1958 168.369 74.2328 168.369 Q79.6031 168.369 82.7976 171.054 Q85.992 173.74 85.992 178.23 Q85.992 180.36 85.1818 182.281 Q84.3948 184.179 82.2883 186.772 Q81.7096 187.443 78.6078 190.661 Q75.5059 193.855 69.8578 199.619 Z\" fill=\"#000000\" fill-rule=\"evenodd\" fill-opacity=\"1\" /><path clip-path=\"url(#clip560)\" d=\"M79.0476 140.784 Q82.404 141.501 84.279 143.77 Q86.1772 146.038 86.1772 149.371 Q86.1772 154.487 82.6587 157.288 Q79.1402 160.089 72.6587 160.089 Q70.4828 160.089 68.168 159.649 Q65.8764 159.232 63.4227 158.376 L63.4227 153.862 Q65.3671 154.996 67.6819 155.575 Q69.9967 156.154 72.5198 156.154 Q76.918 156.154 79.2096 154.418 Q81.5244 152.682 81.5244 149.371 Q81.5244 146.316 79.3717 144.603 Q77.242 142.867 73.4226 142.867 L69.3949 142.867 L69.3949 139.024 L73.6078 139.024 Q77.0569 139.024 78.8855 137.659 Q80.7142 136.27 80.7142 133.677 Q80.7142 131.015 78.8161 129.603 Q76.9411 128.168 73.4226 128.168 Q71.5013 128.168 69.3023 128.584 Q67.1032 129.001 64.4643 129.881 L64.4643 125.714 Q67.1264 124.973 69.4412 124.603 Q71.7791 124.233 73.8393 124.233 Q79.1633 124.233 82.2652 126.663 Q85.367 129.071 85.367 133.191 Q85.367 136.061 83.7235 138.052 Q82.08 140.02 79.0476 140.784 Z\" fill=\"#000000\" fill-rule=\"evenodd\" fill-opacity=\"1\" /><path clip-path=\"url(#clip560)\" d=\"M76.5939 84.7951 L64.7884 103.244 L76.5939 103.244 L76.5939 84.7951 M75.367 80.7211 L81.2466 80.7211 L81.2466 103.244 L86.1772 103.244 L86.1772 107.133 L81.2466 107.133 L81.2466 115.281 L76.5939 115.281 L76.5939 107.133 L60.9921 107.133 L60.9921 102.619 L75.367 80.7211 Z\" fill=\"#000000\" fill-rule=\"evenodd\" fill-opacity=\"1\" /><path clip-path=\"url(#clip560)\" d=\"M65.2745 36.5845 L83.6309 36.5845 L83.6309 40.5197 L69.5569 40.5197 L69.5569 48.9918 Q70.5754 48.6446 71.5939 48.4826 Q72.6124 48.2974 73.6309 48.2974 Q79.418 48.2974 82.7976 51.4687 Q86.1772 54.64 86.1772 60.0566 Q86.1772 65.6353 82.705 68.7371 Q79.2328 71.8158 72.9134 71.8158 Q70.7374 71.8158 68.4689 71.4454 Q66.2236 71.0751 63.8162 70.3343 L63.8162 65.6353 Q65.8995 66.7695 68.1217 67.3251 Q70.3439 67.8806 72.8208 67.8806 Q76.8254 67.8806 79.1633 65.7742 Q81.5013 63.6677 81.5013 60.0566 Q81.5013 56.4455 79.1633 54.339 Q76.8254 52.2326 72.8208 52.2326 Q70.9458 52.2326 69.0708 52.6492 Q67.2189 53.0659 65.2745 53.9455 L65.2745 36.5845 Z\" fill=\"#000000\" fill-rule=\"evenodd\" fill-opacity=\"1\" /><polyline clip-path=\"url(#clip562)\" style=\"stroke:#009af9; stroke-linecap:round; stroke-linejoin:round; stroke-width:4; stroke-opacity:1; fill:none\" points=\"99.552,274.547 100.781,272.341 102.01,270.134 103.239,267.928 104.469,265.722 105.698,263.518 106.927,261.314 108.156,259.112 109.385,256.912 110.614,254.713 111.843,252.516 113.073,250.321 114.302,248.129 115.531,245.939 116.76,243.753 117.989,241.569 119.218,239.389 120.448,237.212 121.677,235.039 122.906,232.869 124.135,230.704 125.364,228.544 126.593,226.388 127.822,224.237 129.052,222.09 130.281,219.95 131.51,217.814 132.739,215.684 133.968,213.56 135.197,211.443 136.426,209.331 137.656,207.226 138.885,205.128 140.114,203.037 141.343,200.952 142.572,198.876 143.801,196.806 145.03,194.745 146.26,192.692 147.489,190.646 148.718,188.609 149.947,186.581 151.176,184.562 152.405,182.551 153.634,180.55 154.864,178.558 156.093,176.576 157.322,174.603 158.551,172.641 159.78,170.688 161.009,168.746 162.238,166.815 163.468,164.894 164.697,162.985 165.926,161.086 167.155,159.199 168.384,157.324 169.613,155.46 170.842,153.608 172.072,151.768 173.301,149.94 174.53,148.125 175.759,146.323 176.988,144.533 178.217,142.757 179.446,140.993 180.676,139.243 181.905,137.506 183.134,135.784 184.363,134.075 185.592,132.38 186.821,130.699 188.05,129.032 189.28,127.381 190.509,125.744 191.738,124.121 192.967,122.514 194.196,120.922 195.425,119.346 196.654,117.785 197.884,116.239 199.113,114.71 200.342,113.196 201.571,111.699 202.8,110.217 204.029,108.753 205.259,107.305 206.488,105.873 207.717,104.459 208.946,103.061 210.175,101.681 211.404,100.317 212.633,98.9717 213.863,97.6436 215.092,96.3331 216.321,95.0405 217.55,93.7658 218.779,92.5092 220.008,91.2708 221.237,90.0508 222.467,88.8491 223.696,87.6661 224.925,86.5017 226.154,85.3562 227.383,84.2295 228.612,83.1219 229.841,82.0335 231.071,80.9643 232.3,79.9144 233.529,78.884 234.758,77.8732 235.987,76.882 237.216,75.9106 238.445,74.9591 239.675,74.0275 240.904,73.116 242.133,72.2246 243.362,71.3535 244.591,70.5027 245.82,69.6723 247.049,68.8623 248.279,68.073 249.508,67.3042 250.737,66.5562 251.966,65.8291 253.195,65.1227 254.424,64.4374 255.653,63.773 256.883,63.1297 258.112,62.5075 259.341,61.9066 260.57,61.3269 261.799,60.7686 263.028,60.2316 264.257,59.716 265.487,59.2219 266.716,58.7494 267.945,58.2985 269.174,57.8691 270.403,57.4615 271.632,57.0755 272.861,56.7113 274.091,56.3689 275.32,56.0483 276.549,55.7495 277.778,55.4726 279.007,55.2177 280.236,54.9846 281.465,54.7735 282.695,54.5844 283.924,54.4173 285.153,54.2722 286.382,54.1492 287.611,54.0481 288.84,53.9691 290.07,53.9122 291.299,53.8774 292.528,53.8646 293.757,53.8739 294.986,53.9052 296.215,53.9586 297.444,54.0341 298.674,54.1316 299.903,54.2512 301.132,54.3927 302.361,54.5563 303.59,54.7419 304.819,54.9495 306.048,55.1791 307.278,55.4306 308.507,55.7039 309.736,55.9992 310.965,56.3163 312.194,56.6553 313.423,57.016 314.652,57.3985 315.882,57.8027 317.111,58.2286 318.34,58.6761 319.569,59.1452 320.798,59.6359 322.027,60.148 323.256,60.6816 324.486,61.2366 325.715,61.8128 326.944,62.4104 328.173,63.0292 329.402,63.6691 330.631,64.3301 331.86,65.0122 333.09,65.7152 334.319,66.439 335.548,67.1837 336.777,67.9491 338.006,68.7352 339.235,69.5419 340.464,70.369 341.694,71.2166 342.923,72.0845 344.152,72.9727 345.381,73.881 \"/>\n<path clip-path=\"url(#clip560)\" d=\"M100.863 158.722 L179.351 158.722 L179.351 55.0416 L100.863 55.0416  Z\" fill=\"#ffffff\" fill-rule=\"evenodd\" fill-opacity=\"1\"/>\n<polyline clip-path=\"url(#clip560)\" style=\"stroke:#000000; stroke-linecap:round; stroke-linejoin:round; stroke-width:4; stroke-opacity:1; fill:none\" points=\"100.863,158.722 179.351,158.722 179.351,55.0416 100.863,55.0416 100.863,158.722 \"/>\n<polyline clip-path=\"url(#clip560)\" style=\"stroke:#009af9; stroke-linecap:round; stroke-linejoin:round; stroke-width:4; stroke-opacity:1; fill:none\" points=\"103.758,106.882 121.13,106.882 \"/>\n<path clip-path=\"url(#clip560)\" d=\"M137.868 126.569 Q136.063 131.199 134.35 132.611 Q132.637 134.023 129.766 134.023 L126.364 134.023 L126.364 130.458 L128.864 130.458 Q130.623 130.458 131.595 129.624 Q132.567 128.791 133.748 125.689 L134.512 123.745 L124.026 98.2358 L128.54 98.2358 L136.641 118.513 L144.743 98.2358 L149.257 98.2358 L137.868 126.569 Z\" fill=\"#000000\" fill-rule=\"evenodd\" fill-opacity=\"1\" /><path clip-path=\"url(#clip560)\" d=\"M156.549 120.226 L164.188 120.226 L164.188 93.8608 L155.877 95.5274 L155.877 91.2682 L164.141 89.6016 L168.817 89.6016 L168.817 120.226 L176.456 120.226 L176.456 124.162 L156.549 124.162 L156.549 120.226 Z\" fill=\"#000000\" fill-rule=\"evenodd\" fill-opacity=\"1\" /></svg>\n"
               },
               "type": "node"
              }
             ],
             "instanceArgs": {
              "namespace": "html",
              "tag": "div"
             },
             "nodeType": "DOM",
             "props": {
              "className": "interact-flex-row interact-widget"
             },
             "type": "node"
            }
           }
          },
          "systemjs_options": null
         },
         "nodeType": "Scope",
         "props": {},
         "type": "node"
        }
       ],
       "instanceArgs": {
        "namespace": "html",
        "tag": "div"
       },
       "nodeType": "DOM",
       "props": {},
       "type": "node"
      },
      "text/html": [
       "<div\n",
       "    class=\"webio-mountpoint\"\n",
       "    data-webio-mountpoint=\"7614706451503558504\"\n",
       ">\n",
       "    <script>\n",
       "    (function(){\n",
       "    // Some integrations (namely, IJulia/Jupyter) use an alternate render pathway than\n",
       "    // just putting the html on the page. If WebIO isn't defined, then it's pretty likely\n",
       "    // that we're in one of those situations and the integration just isn't installed\n",
       "    // correctly.\n",
       "    if (typeof window.WebIO === \"undefined\") {\n",
       "        document\n",
       "            .querySelector('[data-webio-mountpoint=\"7614706451503558504\"]')\n",
       "            .innerHTML = (\n",
       "                '<div style=\"padding: 1em; background-color: #f8d6da; border: 1px solid #f5c6cb; font-weight: bold;\">' +\n",
       "                '<p><strong>WebIO not detected.</strong></p>' +\n",
       "                '<p>Please read ' +\n",
       "                '<a href=\"https://juliagizmos.github.io/WebIO.jl/latest/troubleshooting/not-detected/\" target=\"_blank\">the troubleshooting guide</a> ' +\n",
       "                'for more information on how to resolve this issue.</p>' +\n",
       "                '<p><a href=\"https://juliagizmos.github.io/WebIO.jl/latest/troubleshooting/not-detected/\" target=\"_blank\">https://juliagizmos.github.io/WebIO.jl/latest/troubleshooting/not-detected/</a></p>' +\n",
       "                '</div>'\n",
       "            );\n",
       "        return;\n",
       "    }\n",
       "    WebIO.mount(\n",
       "        document.querySelector('[data-webio-mountpoint=\"7614706451503558504\"]'),\n",
       "        {\"props\":{},\"nodeType\":\"DOM\",\"type\":\"node\",\"instanceArgs\":{\"namespace\":\"html\",\"tag\":\"div\"},\"children\":[{\"props\":{\"className\":\"field interact-widget\"},\"nodeType\":\"DOM\",\"type\":\"node\",\"instanceArgs\":{\"namespace\":\"html\",\"tag\":\"div\"},\"children\":[{\"props\":{},\"nodeType\":\"Scope\",\"type\":\"node\",\"instanceArgs\":{\"imports\":{\"data\":[{\"name\":\"knockout\",\"type\":\"js\",\"url\":\"\\/assetserver\\/4b78a831658f9469be0fa90a874237d533cfc56e-knockout.js\"},{\"name\":\"knockout_punches\",\"type\":\"js\",\"url\":\"\\/assetserver\\/32cf81589ef7eb25886db6e5be297d237f8599ce-knockout_punches.js\"},{\"name\":null,\"type\":\"js\",\"url\":\"\\/assetserver\\/4c861182dd4c5b1a7b80754ca907d70e11c2410c-all.js\"},{\"name\":null,\"type\":\"css\",\"url\":\"\\/assetserver\\/55ec2ee389419b72c3c6088bc3fbe3d7187a5fc0-style.css\"},{\"name\":null,\"type\":\"css\",\"url\":\"\\/assetserver\\/bb71acf9697a201a164f98e5fab8a4f7b4f82041-bulma_confined.min.css\"}],\"type\":\"async_block\"},\"id\":\"17594438832128882092\",\"handlers\":{\"changes\":[\"(function (val){return (val!=this.model[\\\"changes\\\"]()) ? (this.valueFromJulia[\\\"changes\\\"]=true, this.model[\\\"changes\\\"](val)) : undefined})\"],\"index\":[\"(function (val){return (val!=this.model[\\\"index\\\"]()) ? (this.valueFromJulia[\\\"index\\\"]=true, this.model[\\\"index\\\"](val)) : undefined})\"]},\"systemjs_options\":null,\"mount_callbacks\":[\"function () {\\n    var handler = (function (ko, koPunches) {\\n    ko.punches.enableAll();\\n    ko.bindingHandlers.numericValue = {\\n        init: function(element, valueAccessor, allBindings, data, context) {\\n            var stringified = ko.observable(ko.unwrap(valueAccessor()));\\n            stringified.subscribe(function(value) {\\n                var val = parseFloat(value);\\n                if (!isNaN(val)) {\\n                    valueAccessor()(val);\\n                }\\n            });\\n            valueAccessor().subscribe(function(value) {\\n                var str = JSON.stringify(value);\\n                if ((str == \\\"0\\\") && ([\\\"-0\\\", \\\"-0.\\\"].indexOf(stringified()) >= 0))\\n                     return;\\n                 if ([\\\"null\\\", \\\"\\\"].indexOf(str) >= 0)\\n                     return;\\n                stringified(str);\\n            });\\n            ko.applyBindingsToNode(\\n                element,\\n                {\\n                    value: stringified,\\n                    valueUpdate: allBindings.get('valueUpdate'),\\n                },\\n                context,\\n            );\\n        }\\n    };\\n    var json_data = {\\\"formatted_vals\\\":[\\\"1\\\",\\\"2\\\",\\\"3\\\",\\\"4\\\",\\\"5\\\",\\\"6\\\",\\\"7\\\",\\\"8\\\",\\\"9\\\",\\\"10\\\"],\\\"changes\\\":WebIO.getval({\\\"name\\\":\\\"changes\\\",\\\"scope\\\":\\\"17594438832128882092\\\",\\\"id\\\":\\\"16743059885510990332\\\",\\\"type\\\":\\\"observable\\\"}),\\\"index\\\":WebIO.getval({\\\"name\\\":\\\"index\\\",\\\"scope\\\":\\\"17594438832128882092\\\",\\\"id\\\":\\\"12649167644844932098\\\",\\\"type\\\":\\\"observable\\\"})};\\n    var self = this;\\n    function AppViewModel() {\\n        for (var key in json_data) {\\n            var el = json_data[key];\\n            this[key] = Array.isArray(el) ? ko.observableArray(el) : ko.observable(el);\\n        }\\n        \\n        [this[\\\"formatted_val\\\"]=ko.computed(    function(){\\n        return this.formatted_vals()[parseInt(this.index())-(1)];\\n    }\\n,this)]\\n        [this[\\\"changes\\\"].subscribe((function (val){!(this.valueFromJulia[\\\"changes\\\"]) ? (WebIO.setval({\\\"name\\\":\\\"changes\\\",\\\"scope\\\":\\\"17594438832128882092\\\",\\\"id\\\":\\\"16743059885510990332\\\",\\\"type\\\":\\\"observable\\\"},val)) : undefined; return this.valueFromJulia[\\\"changes\\\"]=false}),self),this[\\\"index\\\"].subscribe((function (val){!(this.valueFromJulia[\\\"index\\\"]) ? (WebIO.setval({\\\"name\\\":\\\"index\\\",\\\"scope\\\":\\\"17594438832128882092\\\",\\\"id\\\":\\\"12649167644844932098\\\",\\\"type\\\":\\\"observable\\\"},val)) : undefined; return this.valueFromJulia[\\\"index\\\"]=false}),self)]\\n        \\n    }\\n    self.model = new AppViewModel();\\n    self.valueFromJulia = {};\\n    for (var key in json_data) {\\n        self.valueFromJulia[key] = false;\\n    }\\n    ko.applyBindings(self.model, self.dom);\\n}\\n);\\n    (WebIO.importBlock({\\\"data\\\":[{\\\"name\\\":\\\"knockout\\\",\\\"type\\\":\\\"js\\\",\\\"url\\\":\\\"\\/assetserver\\/4b78a831658f9469be0fa90a874237d533cfc56e-knockout.js\\\"},{\\\"name\\\":\\\"knockout_punches\\\",\\\"type\\\":\\\"js\\\",\\\"url\\\":\\\"\\/assetserver\\/32cf81589ef7eb25886db6e5be297d237f8599ce-knockout_punches.js\\\"}],\\\"type\\\":\\\"async_block\\\"})).then((imports) => handler.apply(this, imports));\\n}\\n\"],\"observables\":{\"changes\":{\"sync\":false,\"id\":\"16743059885510990332\",\"value\":0},\"index\":{\"sync\":true,\"id\":\"12649167644844932098\",\"value\":5}}},\"children\":[{\"props\":{\"className\":\"interact-flex-row interact-widget\"},\"nodeType\":\"DOM\",\"type\":\"node\",\"instanceArgs\":{\"namespace\":\"html\",\"tag\":\"div\"},\"children\":[{\"props\":{\"className\":\"interact-flex-row-left\"},\"nodeType\":\"DOM\",\"type\":\"node\",\"instanceArgs\":{\"namespace\":\"html\",\"tag\":\"div\"},\"children\":[{\"props\":{\"className\":\"interact \",\"style\":{\"padding\":\"5px 10px 0px 10px\"}},\"nodeType\":\"DOM\",\"type\":\"node\",\"instanceArgs\":{\"namespace\":\"html\",\"tag\":\"label\"},\"children\":[\"x\"]}]},{\"props\":{\"className\":\"interact-flex-row-center\"},\"nodeType\":\"DOM\",\"type\":\"node\",\"instanceArgs\":{\"namespace\":\"html\",\"tag\":\"div\"},\"children\":[{\"props\":{\"max\":10,\"min\":1,\"attributes\":{\"type\":\"range\",\"data-bind\":\"numericValue: index, valueUpdate: 'input', event: {change: function (){this.changes(this.changes()+1)}}\",\"orient\":\"horizontal\"},\"step\":1,\"className\":\"slider slider is-fullwidth\",\"style\":{}},\"nodeType\":\"DOM\",\"type\":\"node\",\"instanceArgs\":{\"namespace\":\"html\",\"tag\":\"input\"},\"children\":[]}]},{\"props\":{\"className\":\"interact-flex-row-right\"},\"nodeType\":\"DOM\",\"type\":\"node\",\"instanceArgs\":{\"namespace\":\"html\",\"tag\":\"div\"},\"children\":[{\"props\":{\"attributes\":{\"data-bind\":\"text: formatted_val\"}},\"nodeType\":\"DOM\",\"type\":\"node\",\"instanceArgs\":{\"namespace\":\"html\",\"tag\":\"p\"},\"children\":[]}]}]}]}]},{\"props\":{\"className\":\"interact-widget\"},\"nodeType\":\"DOM\",\"type\":\"node\",\"instanceArgs\":{\"namespace\":\"html\",\"tag\":\"div\"},\"children\":[{\"props\":{},\"nodeType\":\"Scope\",\"type\":\"node\",\"instanceArgs\":{\"imports\":{\"data\":[{\"name\":\"knockout\",\"type\":\"js\",\"url\":\"\\/assetserver\\/4b78a831658f9469be0fa90a874237d533cfc56e-knockout.js\"},{\"name\":\"knockout_punches\",\"type\":\"js\",\"url\":\"\\/assetserver\\/32cf81589ef7eb25886db6e5be297d237f8599ce-knockout_punches.js\"},{\"name\":null,\"type\":\"js\",\"url\":\"\\/assetserver\\/4c861182dd4c5b1a7b80754ca907d70e11c2410c-all.js\"},{\"name\":null,\"type\":\"css\",\"url\":\"\\/assetserver\\/55ec2ee389419b72c3c6088bc3fbe3d7187a5fc0-style.css\"},{\"name\":null,\"type\":\"css\",\"url\":\"\\/assetserver\\/bb71acf9697a201a164f98e5fab8a4f7b4f82041-bulma_confined.min.css\"}],\"type\":\"async_block\"},\"id\":\"16306609676850727722\",\"handlers\":{\"options_js\":[\"(function (val){return (val!=this.model[\\\"options_js\\\"]()) ? (this.valueFromJulia[\\\"options_js\\\"]=true, this.model[\\\"options_js\\\"](val)) : undefined})\"],\"index\":[\"(function (val){return (val!=this.model[\\\"index\\\"]()) ? (this.valueFromJulia[\\\"index\\\"]=true, this.model[\\\"index\\\"](val)) : undefined})\"]},\"systemjs_options\":null,\"mount_callbacks\":[\"function () {\\n    var handler = (function (ko, koPunches) {\\n    ko.punches.enableAll();\\n    ko.bindingHandlers.numericValue = {\\n        init: function(element, valueAccessor, allBindings, data, context) {\\n            var stringified = ko.observable(ko.unwrap(valueAccessor()));\\n            stringified.subscribe(function(value) {\\n                var val = parseFloat(value);\\n                if (!isNaN(val)) {\\n                    valueAccessor()(val);\\n                }\\n            });\\n            valueAccessor().subscribe(function(value) {\\n                var str = JSON.stringify(value);\\n                if ((str == \\\"0\\\") && ([\\\"-0\\\", \\\"-0.\\\"].indexOf(stringified()) >= 0))\\n                     return;\\n                 if ([\\\"null\\\", \\\"\\\"].indexOf(str) >= 0)\\n                     return;\\n                stringified(str);\\n            });\\n            ko.applyBindingsToNode(\\n                element,\\n                {\\n                    value: stringified,\\n                    valueUpdate: allBindings.get('valueUpdate'),\\n                },\\n                context,\\n            );\\n        }\\n    };\\n    var json_data = {\\\"options_js\\\":WebIO.getval({\\\"name\\\":\\\"options_js\\\",\\\"scope\\\":\\\"16306609676850727722\\\",\\\"id\\\":\\\"17728077516814520622\\\",\\\"type\\\":\\\"observable\\\"}),\\\"index\\\":WebIO.getval({\\\"name\\\":\\\"index\\\",\\\"scope\\\":\\\"16306609676850727722\\\",\\\"id\\\":\\\"2848184459164756677\\\",\\\"type\\\":\\\"observable\\\"})};\\n    var self = this;\\n    function AppViewModel() {\\n        for (var key in json_data) {\\n            var el = json_data[key];\\n            this[key] = Array.isArray(el) ? ko.observableArray(el) : ko.observable(el);\\n        }\\n        [this[\\\"update\\\"]=function (val) {this.index(val)}]\\n        \\n        [this[\\\"options_js\\\"].subscribe((function (val){!(this.valueFromJulia[\\\"options_js\\\"]) ? (WebIO.setval({\\\"name\\\":\\\"options_js\\\",\\\"scope\\\":\\\"16306609676850727722\\\",\\\"id\\\":\\\"17728077516814520622\\\",\\\"type\\\":\\\"observable\\\"},val)) : undefined; return this.valueFromJulia[\\\"options_js\\\"]=false}),self),this[\\\"index\\\"].subscribe((function (val){!(this.valueFromJulia[\\\"index\\\"]) ? (WebIO.setval({\\\"name\\\":\\\"index\\\",\\\"scope\\\":\\\"16306609676850727722\\\",\\\"id\\\":\\\"2848184459164756677\\\",\\\"type\\\":\\\"observable\\\"},val)) : undefined; return this.valueFromJulia[\\\"index\\\"]=false}),self)]\\n        \\n    }\\n    self.model = new AppViewModel();\\n    self.valueFromJulia = {};\\n    for (var key in json_data) {\\n        self.valueFromJulia[key] = false;\\n    }\\n    ko.applyBindings(self.model, self.dom);\\n}\\n);\\n    (WebIO.importBlock({\\\"data\\\":[{\\\"name\\\":\\\"knockout\\\",\\\"type\\\":\\\"js\\\",\\\"url\\\":\\\"\\/assetserver\\/4b78a831658f9469be0fa90a874237d533cfc56e-knockout.js\\\"},{\\\"name\\\":\\\"knockout_punches\\\",\\\"type\\\":\\\"js\\\",\\\"url\\\":\\\"\\/assetserver\\/32cf81589ef7eb25886db6e5be297d237f8599ce-knockout_punches.js\\\"}],\\\"type\\\":\\\"async_block\\\"})).then((imports) => handler.apply(this, imports));\\n}\\n\"],\"observables\":{\"options_js\":{\"sync\":false,\"id\":\"17728077516814520622\",\"value\":[{\"key\":\"sin\",\"val\":1,\"id\":\"idHpMj7b8g\"},{\"key\":\"cos\",\"val\":2,\"id\":\"idqmejM3uq\"}]},\"index\":{\"sync\":true,\"id\":\"2848184459164756677\",\"value\":1}}},\"children\":[{\"props\":{\"className\":\"interact-flex-row interact-widget\"},\"nodeType\":\"DOM\",\"type\":\"node\",\"instanceArgs\":{\"namespace\":\"html\",\"tag\":\"div\"},\"children\":[{\"props\":{\"className\":\"interact-flex-row-left\"},\"nodeType\":\"DOM\",\"type\":\"node\",\"instanceArgs\":{\"namespace\":\"html\",\"tag\":\"div\"},\"children\":[{\"props\":{\"className\":\"interact \",\"style\":{\"padding\":\"5px 10px 0px 10px\"}},\"nodeType\":\"DOM\",\"type\":\"node\",\"instanceArgs\":{\"namespace\":\"html\",\"tag\":\"label\"},\"children\":[\"f\"]}]},{\"props\":{\"className\":\"interact-flex-row-center\"},\"nodeType\":\"DOM\",\"type\":\"node\",\"instanceArgs\":{\"namespace\":\"html\",\"tag\":\"div\"},\"children\":[{\"props\":{\"attributes\":{\"data-bind\":\"foreach : options_js\"},\"className\":\"buttons has-addons is-centered\"},\"nodeType\":\"DOM\",\"type\":\"node\",\"instanceArgs\":{\"namespace\":\"html\",\"tag\":\"div\"},\"children\":[{\"props\":{\"attributes\":{\"data-bind\":\"click: function (){$root.update(val)}, css: {'is-primary is-selected' : $root.index() == val, 'interact-widget is-medium button ' : true}\"}},\"nodeType\":\"DOM\",\"type\":\"node\",\"instanceArgs\":{\"namespace\":\"html\",\"tag\":\"span\"},\"children\":[{\"props\":{\"attributes\":{\"data-bind\":\"text : key\"}},\"nodeType\":\"DOM\",\"type\":\"node\",\"instanceArgs\":{\"namespace\":\"html\",\"tag\":\"label\"},\"children\":[]}]}]}]},{\"props\":{\"className\":\"interact-flex-row-right\"},\"nodeType\":\"DOM\",\"type\":\"node\",\"instanceArgs\":{\"namespace\":\"html\",\"tag\":\"div\"},\"children\":[{\"props\":{},\"nodeType\":\"DOM\",\"type\":\"node\",\"instanceArgs\":{\"namespace\":\"html\",\"tag\":\"div\"},\"children\":[]}]}]}]}]},{\"props\":{\"className\":\"interact-flex-row interact-widget\"},\"nodeType\":\"DOM\",\"type\":\"node\",\"instanceArgs\":{\"namespace\":\"html\",\"tag\":\"div\"},\"children\":[{\"props\":{\"className\":\"field interact-widget\"},\"nodeType\":\"DOM\",\"type\":\"node\",\"instanceArgs\":{\"namespace\":\"html\",\"tag\":\"div\"},\"children\":[{\"props\":{},\"nodeType\":\"Scope\",\"type\":\"node\",\"instanceArgs\":{\"imports\":{\"data\":[{\"name\":\"knockout\",\"type\":\"js\",\"url\":\"\\/assetserver\\/4b78a831658f9469be0fa90a874237d533cfc56e-knockout.js\"},{\"name\":\"knockout_punches\",\"type\":\"js\",\"url\":\"\\/assetserver\\/32cf81589ef7eb25886db6e5be297d237f8599ce-knockout_punches.js\"},{\"name\":null,\"type\":\"js\",\"url\":\"\\/assetserver\\/4c861182dd4c5b1a7b80754ca907d70e11c2410c-all.js\"},{\"name\":null,\"type\":\"css\",\"url\":\"\\/assetserver\\/55ec2ee389419b72c3c6088bc3fbe3d7187a5fc0-style.css\"},{\"name\":null,\"type\":\"css\",\"url\":\"\\/assetserver\\/bb71acf9697a201a164f98e5fab8a4f7b4f82041-bulma_confined.min.css\"}],\"type\":\"async_block\"},\"id\":\"3771360879454874561\",\"handlers\":{\"changes\":[\"(function (val){return (val!=this.model[\\\"changes\\\"]()) ? (this.valueFromJulia[\\\"changes\\\"]=true, this.model[\\\"changes\\\"](val)) : undefined})\"],\"value\":[\"(function (val){return (val!=this.model[\\\"value\\\"]()) ? (this.valueFromJulia[\\\"value\\\"]=true, this.model[\\\"value\\\"](val)) : undefined})\"]},\"systemjs_options\":null,\"mount_callbacks\":[\"function () {\\n    var handler = (function (ko, koPunches) {\\n    ko.punches.enableAll();\\n    ko.bindingHandlers.numericValue = {\\n        init: function(element, valueAccessor, allBindings, data, context) {\\n            var stringified = ko.observable(ko.unwrap(valueAccessor()));\\n            stringified.subscribe(function(value) {\\n                var val = parseFloat(value);\\n                if (!isNaN(val)) {\\n                    valueAccessor()(val);\\n                }\\n            });\\n            valueAccessor().subscribe(function(value) {\\n                var str = JSON.stringify(value);\\n                if ((str == \\\"0\\\") && ([\\\"-0\\\", \\\"-0.\\\"].indexOf(stringified()) >= 0))\\n                     return;\\n                 if ([\\\"null\\\", \\\"\\\"].indexOf(str) >= 0)\\n                     return;\\n                stringified(str);\\n            });\\n            ko.applyBindingsToNode(\\n                element,\\n                {\\n                    value: stringified,\\n                    valueUpdate: allBindings.get('valueUpdate'),\\n                },\\n                context,\\n            );\\n        }\\n    };\\n    var json_data = {\\\"changes\\\":WebIO.getval({\\\"name\\\":\\\"changes\\\",\\\"scope\\\":\\\"3771360879454874561\\\",\\\"id\\\":\\\"17990658941097720758\\\",\\\"type\\\":\\\"observable\\\"}),\\\"value\\\":WebIO.getval({\\\"name\\\":\\\"value\\\",\\\"scope\\\":\\\"3771360879454874561\\\",\\\"id\\\":\\\"15658232593529612371\\\",\\\"type\\\":\\\"observable\\\"})};\\n    var self = this;\\n    function AppViewModel() {\\n        for (var key in json_data) {\\n            var el = json_data[key];\\n            this[key] = Array.isArray(el) ? ko.observableArray(el) : ko.observable(el);\\n        }\\n        \\n        \\n        [this[\\\"changes\\\"].subscribe((function (val){!(this.valueFromJulia[\\\"changes\\\"]) ? (WebIO.setval({\\\"name\\\":\\\"changes\\\",\\\"scope\\\":\\\"3771360879454874561\\\",\\\"id\\\":\\\"17990658941097720758\\\",\\\"type\\\":\\\"observable\\\"},val)) : undefined; return this.valueFromJulia[\\\"changes\\\"]=false}),self),this[\\\"value\\\"].subscribe((function (val){!(this.valueFromJulia[\\\"value\\\"]) ? (WebIO.setval({\\\"name\\\":\\\"value\\\",\\\"scope\\\":\\\"3771360879454874561\\\",\\\"id\\\":\\\"15658232593529612371\\\",\\\"type\\\":\\\"observable\\\"},val)) : undefined; return this.valueFromJulia[\\\"value\\\"]=false}),self)]\\n        \\n    }\\n    self.model = new AppViewModel();\\n    self.valueFromJulia = {};\\n    for (var key in json_data) {\\n        self.valueFromJulia[key] = false;\\n    }\\n    ko.applyBindings(self.model, self.dom);\\n}\\n);\\n    (WebIO.importBlock({\\\"data\\\":[{\\\"name\\\":\\\"knockout\\\",\\\"type\\\":\\\"js\\\",\\\"url\\\":\\\"\\/assetserver\\/4b78a831658f9469be0fa90a874237d533cfc56e-knockout.js\\\"},{\\\"name\\\":\\\"knockout_punches\\\",\\\"type\\\":\\\"js\\\",\\\"url\\\":\\\"\\/assetserver\\/32cf81589ef7eb25886db6e5be297d237f8599ce-knockout_punches.js\\\"}],\\\"type\\\":\\\"async_block\\\"})).then((imports) => handler.apply(this, imports));\\n}\\n\"],\"observables\":{\"changes\":{\"sync\":false,\"id\":\"17990658941097720758\",\"value\":0},\"value\":{\"sync\":true,\"id\":\"15658232593529612371\",\"value\":false}}},\"children\":[{\"props\":{\"className\":\"field interact-widget\"},\"nodeType\":\"DOM\",\"type\":\"node\",\"instanceArgs\":{\"namespace\":\"html\",\"tag\":\"div\"},\"children\":[{\"props\":{\"attributes\":{\"type\":\"checkbox\",\"data-bind\":\"checked: value, valueUpdate: 'change', event: {change: function (){this.changes(this.changes()+1)}}\"},\"id\":\"##3918\",\"className\":\"switch \",\"style\":{}},\"nodeType\":\"DOM\",\"type\":\"node\",\"instanceArgs\":{\"namespace\":\"html\",\"tag\":\"input\"},\"children\":[]},{\"props\":{\"attributes\":{\"className\":\"\",\"for\":\"##3918\"}},\"nodeType\":\"DOM\",\"type\":\"node\",\"instanceArgs\":{\"namespace\":\"html\",\"tag\":\"label\"},\"children\":[\"both\"]}]}]}]}]},{\"props\":{},\"nodeType\":\"Scope\",\"type\":\"node\",\"instanceArgs\":{\"imports\":{\"data\":[],\"type\":\"async_block\"},\"id\":\"13363692068253245781\",\"handlers\":{},\"systemjs_options\":null,\"mount_callbacks\":[],\"observables\":{\"obs-node\":{\"sync\":false,\"id\":\"49211175351407113\",\"value\":{\"props\":{\"className\":\"interact-flex-row interact-widget\"},\"nodeType\":\"DOM\",\"type\":\"node\",\"instanceArgs\":{\"namespace\":\"html\",\"tag\":\"div\"},\"children\":[{\"props\":{\"setInnerHtml\":\"<?xml version=\\\"1.0\\\" encoding=\\\"utf-8\\\"?>\\n<svg xmlns=\\\"http:\\/\\/www.w3.org\\/2000\\/svg\\\" xmlns:xlink=\\\"http:\\/\\/www.w3.org\\/1999\\/xlink\\\" width=\\\"100\\\" height=\\\"100\\\" viewBox=\\\"0 0 400 400\\\">\\n<defs>\\n  <clipPath id=\\\"clip520\\\">\\n    <rect x=\\\"0\\\" y=\\\"0\\\" width=\\\"400\\\" height=\\\"400\\\"\\/>\\n  <\\/clipPath>\\n<\\/defs>\\n<path clip-path=\\\"url(#clip520)\\\" d=\\\"M0 400 L400 400 L400 0 L0 0  Z\\\" fill=\\\"#ffffff\\\" fill-rule=\\\"evenodd\\\" fill-opacity=\\\"1\\\"\\/>\\n<defs>\\n  <clipPath id=\\\"clip521\\\">\\n    <rect x=\\\"80\\\" y=\\\"40\\\" width=\\\"281\\\" height=\\\"281\\\"\\/>\\n  <\\/clipPath>\\n<\\/defs>\\n<path clip-path=\\\"url(#clip520)\\\" d=\\\"M92.1772 281.168 L352.756 281.168 L352.756 47.2441 L92.1772 47.2441  Z\\\" fill=\\\"#ffffff\\\" fill-rule=\\\"evenodd\\\" fill-opacity=\\\"1\\\"\\/>\\n<defs>\\n  <clipPath id=\\\"clip522\\\">\\n    <rect x=\\\"92\\\" y=\\\"47\\\" width=\\\"262\\\" height=\\\"235\\\"\\/>\\n  <\\/clipPath>\\n<\\/defs>\\n<polyline clip-path=\\\"url(#clip522)\\\" style=\\\"stroke:#000000; stroke-linecap:round; stroke-linejoin:round; stroke-width:2; stroke-opacity:0.1; fill:none\\\" points=\\\"98.3229,281.168 98.3229,47.2441 \\\"\\/>\\n<polyline clip-path=\\\"url(#clip522)\\\" style=\\\"stroke:#000000; stroke-linecap:round; stroke-linejoin:round; stroke-width:2; stroke-opacity:0.1; fill:none\\\" points=\\\"159.78,281.168 159.78,47.2441 \\\"\\/>\\n<polyline clip-path=\\\"url(#clip522)\\\" style=\\\"stroke:#000000; stroke-linecap:round; stroke-linejoin:round; stroke-width:2; stroke-opacity:0.1; fill:none\\\" points=\\\"221.237,281.168 221.237,47.2441 \\\"\\/>\\n<polyline clip-path=\\\"url(#clip522)\\\" style=\\\"stroke:#000000; stroke-linecap:round; stroke-linejoin:round; stroke-width:2; stroke-opacity:0.1; fill:none\\\" points=\\\"282.695,281.168 282.695,47.2441 \\\"\\/>\\n<polyline clip-path=\\\"url(#clip522)\\\" style=\\\"stroke:#000000; stroke-linecap:round; stroke-linejoin:round; stroke-width:2; stroke-opacity:0.1; fill:none\\\" points=\\\"344.152,281.168 344.152,47.2441 \\\"\\/>\\n<polyline clip-path=\\\"url(#clip520)\\\" style=\\\"stroke:#000000; stroke-linecap:round; stroke-linejoin:round; stroke-width:4; stroke-opacity:1; fill:none\\\" points=\\\"92.1772,281.168 352.756,281.168 \\\"\\/>\\n<polyline clip-path=\\\"url(#clip520)\\\" style=\\\"stroke:#000000; stroke-linecap:round; stroke-linejoin:round; stroke-width:4; stroke-opacity:1; fill:none\\\" points=\\\"98.3229,281.168 98.3229,262.27 \\\"\\/>\\n<polyline clip-path=\\\"url(#clip520)\\\" style=\\\"stroke:#000000; stroke-linecap:round; stroke-linejoin:round; stroke-width:4; stroke-opacity:1; fill:none\\\" points=\\\"159.78,281.168 159.78,262.27 \\\"\\/>\\n<polyline clip-path=\\\"url(#clip520)\\\" style=\\\"stroke:#000000; stroke-linecap:round; stroke-linejoin:round; stroke-width:4; stroke-opacity:1; fill:none\\\" points=\\\"221.237,281.168 221.237,262.27 \\\"\\/>\\n<polyline clip-path=\\\"url(#clip520)\\\" style=\\\"stroke:#000000; stroke-linecap:round; stroke-linejoin:round; stroke-width:4; stroke-opacity:1; fill:none\\\" points=\\\"282.695,281.168 282.695,262.27 \\\"\\/>\\n<polyline clip-path=\\\"url(#clip520)\\\" style=\\\"stroke:#000000; stroke-linecap:round; stroke-linejoin:round; stroke-width:4; stroke-opacity:1; fill:none\\\" points=\\\"344.152,281.168 344.152,262.27 \\\"\\/>\\n<path clip-path=\\\"url(#clip520)\\\" d=\\\"M98.3229 296.087 Q94.7118 296.087 92.8831 299.651 Q91.0776 303.193 91.0776 310.323 Q91.0776 317.429 92.8831 320.994 Q94.7118 324.535 98.3229 324.535 Q101.957 324.535 103.763 320.994 Q105.591 317.429 105.591 310.323 Q105.591 303.193 103.763 299.651 Q101.957 296.087 98.3229 296.087 M98.3229 292.383 Q104.133 292.383 107.189 296.989 Q110.267 301.573 110.267 310.323 Q110.267 319.049 107.189 323.656 Q104.133 328.239 98.3229 328.239 Q92.5127 328.239 89.4341 323.656 Q86.3785 319.049 86.3785 310.323 Q86.3785 301.573 89.4341 296.989 Q92.5127 292.383 98.3229 292.383 Z\\\" fill=\\\"#000000\\\" fill-rule=\\\"evenodd\\\" fill-opacity=\\\"1\\\" \\/><path clip-path=\\\"url(#clip520)\\\" d=\\\"M134.479 293.008 L152.836 293.008 L152.836 296.943 L138.762 296.943 L138.762 305.415 Q139.78 305.068 140.799 304.906 Q141.817 304.721 142.836 304.721 Q148.623 304.721 152.002 307.892 Q155.382 311.063 155.382 316.48 Q155.382 322.059 151.91 325.16 Q148.438 328.239 142.118 328.239 Q139.942 328.239 137.674 327.869 Q135.428 327.498 133.021 326.758 L133.021 322.059 Q135.104 323.193 137.327 323.748 Q139.549 324.304 142.026 324.304 Q146.03 324.304 148.368 322.198 Q150.706 320.091 150.706 316.48 Q150.706 312.869 148.368 310.762 Q146.03 308.656 142.026 308.656 Q140.151 308.656 138.276 309.073 Q136.424 309.489 134.479 310.369 L134.479 293.008 Z\\\" fill=\\\"#000000\\\" fill-rule=\\\"evenodd\\\" fill-opacity=\\\"1\\\" \\/><path clip-path=\\\"url(#clip520)\\\" d=\\\"M174.595 296.087 Q170.984 296.087 169.155 299.651 Q167.35 303.193 167.35 310.323 Q167.35 317.429 169.155 320.994 Q170.984 324.535 174.595 324.535 Q178.229 324.535 180.035 320.994 Q181.863 317.429 181.863 310.323 Q181.863 303.193 180.035 299.651 Q178.229 296.087 174.595 296.087 M174.595 292.383 Q180.405 292.383 183.461 296.989 Q186.539 301.573 186.539 310.323 Q186.539 319.049 183.461 323.656 Q180.405 328.239 174.595 328.239 Q168.785 328.239 165.706 323.656 Q162.651 319.049 162.651 310.323 Q162.651 301.573 165.706 296.989 Q168.785 292.383 174.595 292.383 Z\\\" fill=\\\"#000000\\\" fill-rule=\\\"evenodd\\\" fill-opacity=\\\"1\\\" \\/><path clip-path=\\\"url(#clip520)\\\" d=\\\"M180.844 323.633 L188.483 323.633 L188.483 297.267 L180.173 298.934 L180.173 294.675 L188.437 293.008 L193.113 293.008 L193.113 323.633 L200.751 323.633 L200.751 327.568 L180.844 327.568 L180.844 323.633 Z\\\" fill=\\\"#000000\\\" fill-rule=\\\"evenodd\\\" fill-opacity=\\\"1\\\" \\/><path clip-path=\\\"url(#clip520)\\\" d=\\\"M220.196 296.087 Q216.585 296.087 214.756 299.651 Q212.95 303.193 212.95 310.323 Q212.95 317.429 214.756 320.994 Q216.585 324.535 220.196 324.535 Q223.83 324.535 225.636 320.994 Q227.464 317.429 227.464 310.323 Q227.464 303.193 225.636 299.651 Q223.83 296.087 220.196 296.087 M220.196 292.383 Q226.006 292.383 229.061 296.989 Q232.14 301.573 232.14 310.323 Q232.14 319.049 229.061 323.656 Q226.006 328.239 220.196 328.239 Q214.386 328.239 211.307 323.656 Q208.251 319.049 208.251 310.323 Q208.251 301.573 211.307 296.989 Q214.386 292.383 220.196 292.383 Z\\\" fill=\\\"#000000\\\" fill-rule=\\\"evenodd\\\" fill-opacity=\\\"1\\\" \\/><path clip-path=\\\"url(#clip520)\\\" d=\\\"M250.358 296.087 Q246.747 296.087 244.918 299.651 Q243.112 303.193 243.112 310.323 Q243.112 317.429 244.918 320.994 Q246.747 324.535 250.358 324.535 Q253.992 324.535 255.797 320.994 Q257.626 317.429 257.626 310.323 Q257.626 303.193 255.797 299.651 Q253.992 296.087 250.358 296.087 M250.358 292.383 Q256.168 292.383 259.223 296.989 Q262.302 301.573 262.302 310.323 Q262.302 319.049 259.223 323.656 Q256.168 328.239 250.358 328.239 Q244.547 328.239 241.469 323.656 Q238.413 319.049 238.413 310.323 Q238.413 301.573 241.469 296.989 Q244.547 292.383 250.358 292.383 Z\\\" fill=\\\"#000000\\\" fill-rule=\\\"evenodd\\\" fill-opacity=\\\"1\\\" \\/><path clip-path=\\\"url(#clip520)\\\" d=\\\"M242.301 323.633 L249.94 323.633 L249.94 297.267 L241.63 298.934 L241.63 294.675 L249.894 293.008 L254.57 293.008 L254.57 323.633 L262.209 323.633 L262.209 327.568 L242.301 327.568 L242.301 323.633 Z\\\" fill=\\\"#000000\\\" fill-rule=\\\"evenodd\\\" fill-opacity=\\\"1\\\" \\/><path clip-path=\\\"url(#clip520)\\\" d=\\\"M271.699 293.008 L290.056 293.008 L290.056 296.943 L275.982 296.943 L275.982 305.415 Q277 305.068 278.019 304.906 Q279.037 304.721 280.056 304.721 Q285.843 304.721 289.222 307.892 Q292.602 311.063 292.602 316.48 Q292.602 322.059 289.13 325.16 Q285.658 328.239 279.338 328.239 Q277.162 328.239 274.894 327.869 Q272.648 327.498 270.241 326.758 L270.241 322.059 Q272.324 323.193 274.547 323.748 Q276.769 324.304 279.246 324.304 Q283.25 324.304 285.588 322.198 Q287.926 320.091 287.926 316.48 Q287.926 312.869 285.588 310.762 Q283.25 308.656 279.246 308.656 Q277.371 308.656 275.496 309.073 Q273.644 309.489 271.699 310.369 L271.699 293.008 Z\\\" fill=\\\"#000000\\\" fill-rule=\\\"evenodd\\\" fill-opacity=\\\"1\\\" \\/><path clip-path=\\\"url(#clip520)\\\" d=\\\"M311.815 296.087 Q308.204 296.087 306.375 299.651 Q304.57 303.193 304.57 310.323 Q304.57 317.429 306.375 320.994 Q308.204 324.535 311.815 324.535 Q315.449 324.535 317.255 320.994 Q319.083 317.429 319.083 310.323 Q319.083 303.193 317.255 299.651 Q315.449 296.087 311.815 296.087 M311.815 292.383 Q317.625 292.383 320.681 296.989 Q323.759 301.573 323.759 310.323 Q323.759 319.049 320.681 323.656 Q317.625 328.239 311.815 328.239 Q306.005 328.239 302.926 323.656 Q299.87 319.049 299.87 310.323 Q299.87 301.573 302.926 296.989 Q306.005 292.383 311.815 292.383 Z\\\" fill=\\\"#000000\\\" fill-rule=\\\"evenodd\\\" fill-opacity=\\\"1\\\" \\/><path clip-path=\\\"url(#clip520)\\\" d=\\\"M307.844 323.633 L324.164 323.633 L324.164 327.568 L302.219 327.568 L302.219 323.633 Q304.881 320.878 309.465 316.248 Q314.071 311.596 315.252 310.253 Q317.497 307.73 318.377 305.994 Q319.279 304.235 319.279 302.545 Q319.279 299.79 317.335 298.054 Q315.414 296.318 312.312 296.318 Q310.113 296.318 307.659 297.082 Q305.228 297.846 302.451 299.397 L302.451 294.675 Q305.275 293.54 307.728 292.962 Q310.182 292.383 312.219 292.383 Q317.59 292.383 320.784 295.068 Q323.978 297.753 323.978 302.244 Q323.978 304.374 323.168 306.295 Q322.381 308.193 320.275 310.786 Q319.696 311.457 316.594 314.674 Q313.492 317.869 307.844 323.633 Z\\\" fill=\\\"#000000\\\" fill-rule=\\\"evenodd\\\" fill-opacity=\\\"1\\\" \\/><path clip-path=\\\"url(#clip520)\\\" d=\\\"M343.978 296.087 Q340.367 296.087 338.538 299.651 Q336.733 303.193 336.733 310.323 Q336.733 317.429 338.538 320.994 Q340.367 324.535 343.978 324.535 Q347.613 324.535 349.418 320.994 Q351.247 317.429 351.247 310.323 Q351.247 303.193 349.418 299.651 Q347.613 296.087 343.978 296.087 M343.978 292.383 Q349.788 292.383 352.844 296.989 Q355.923 301.573 355.923 310.323 Q355.923 319.049 352.844 323.656 Q349.788 328.239 343.978 328.239 Q338.168 328.239 335.089 323.656 Q332.034 319.049 332.034 310.323 Q332.034 301.573 335.089 296.989 Q338.168 292.383 343.978 292.383 Z\\\" fill=\\\"#000000\\\" fill-rule=\\\"evenodd\\\" fill-opacity=\\\"1\\\" \\/><path clip-path=\\\"url(#clip520)\\\" d=\\\"M374.14 296.087 Q370.529 296.087 368.7 299.651 Q366.895 303.193 366.895 310.323 Q366.895 317.429 368.7 320.994 Q370.529 324.535 374.14 324.535 Q377.774 324.535 379.58 320.994 Q381.409 317.429 381.409 310.323 Q381.409 303.193 379.58 299.651 Q377.774 296.087 374.14 296.087 M374.14 292.383 Q379.95 292.383 383.006 296.989 Q386.085 301.573 386.085 310.323 Q386.085 319.049 383.006 323.656 Q379.95 328.239 374.14 328.239 Q368.33 328.239 365.251 323.656 Q362.196 319.049 362.196 310.323 Q362.196 301.573 365.251 296.989 Q368.33 292.383 374.14 292.383 Z\\\" fill=\\\"#000000\\\" fill-rule=\\\"evenodd\\\" fill-opacity=\\\"1\\\" \\/><polyline clip-path=\\\"url(#clip522)\\\" style=\\\"stroke:#000000; stroke-linecap:round; stroke-linejoin:round; stroke-width:2; stroke-opacity:0.1; fill:none\\\" points=\\\"92.1772,274.547 352.756,274.547 \\\"\\/>\\n<polyline clip-path=\\\"url(#clip522)\\\" style=\\\"stroke:#000000; stroke-linecap:round; stroke-linejoin:round; stroke-width:2; stroke-opacity:0.1; fill:none\\\" points=\\\"92.1772,230.411 352.756,230.411 \\\"\\/>\\n<polyline clip-path=\\\"url(#clip522)\\\" style=\\\"stroke:#000000; stroke-linecap:round; stroke-linejoin:round; stroke-width:2; stroke-opacity:0.1; fill:none\\\" points=\\\"92.1772,186.274 352.756,186.274 \\\"\\/>\\n<polyline clip-path=\\\"url(#clip522)\\\" style=\\\"stroke:#000000; stroke-linecap:round; stroke-linejoin:round; stroke-width:2; stroke-opacity:0.1; fill:none\\\" points=\\\"92.1772,142.138 352.756,142.138 \\\"\\/>\\n<polyline clip-path=\\\"url(#clip522)\\\" style=\\\"stroke:#000000; stroke-linecap:round; stroke-linejoin:round; stroke-width:2; stroke-opacity:0.1; fill:none\\\" points=\\\"92.1772,98.0011 352.756,98.0011 \\\"\\/>\\n<polyline clip-path=\\\"url(#clip522)\\\" style=\\\"stroke:#000000; stroke-linecap:round; stroke-linejoin:round; stroke-width:2; stroke-opacity:0.1; fill:none\\\" points=\\\"92.1772,53.8645 352.756,53.8645 \\\"\\/>\\n<polyline clip-path=\\\"url(#clip520)\\\" style=\\\"stroke:#000000; stroke-linecap:round; stroke-linejoin:round; stroke-width:4; stroke-opacity:1; fill:none\\\" points=\\\"92.1772,281.168 92.1772,47.2441 \\\"\\/>\\n<polyline clip-path=\\\"url(#clip520)\\\" style=\\\"stroke:#000000; stroke-linecap:round; stroke-linejoin:round; stroke-width:4; stroke-opacity:1; fill:none\\\" points=\\\"92.1772,274.547 111.075,274.547 \\\"\\/>\\n<polyline clip-path=\\\"url(#clip520)\\\" style=\\\"stroke:#000000; stroke-linecap:round; stroke-linejoin:round; stroke-width:4; stroke-opacity:1; fill:none\\\" points=\\\"92.1772,230.411 111.075,230.411 \\\"\\/>\\n<polyline clip-path=\\\"url(#clip520)\\\" style=\\\"stroke:#000000; stroke-linecap:round; stroke-linejoin:round; stroke-width:4; stroke-opacity:1; fill:none\\\" points=\\\"92.1772,186.274 111.075,186.274 \\\"\\/>\\n<polyline clip-path=\\\"url(#clip520)\\\" style=\\\"stroke:#000000; stroke-linecap:round; stroke-linejoin:round; stroke-width:4; stroke-opacity:1; fill:none\\\" points=\\\"92.1772,142.138 111.075,142.138 \\\"\\/>\\n<polyline clip-path=\\\"url(#clip520)\\\" style=\\\"stroke:#000000; stroke-linecap:round; stroke-linejoin:round; stroke-width:4; stroke-opacity:1; fill:none\\\" points=\\\"92.1772,98.0011 111.075,98.0011 \\\"\\/>\\n<polyline clip-path=\\\"url(#clip520)\\\" style=\\\"stroke:#000000; stroke-linecap:round; stroke-linejoin:round; stroke-width:4; stroke-opacity:1; fill:none\\\" points=\\\"92.1772,53.8645 111.075,53.8645 \\\"\\/>\\n<path clip-path=\\\"url(#clip520)\\\" d=\\\"M74.2328 260.346 Q70.6217 260.346 68.793 263.911 Q66.9875 267.453 66.9875 274.582 Q66.9875 281.689 68.793 285.253 Q70.6217 288.795 74.2328 288.795 Q77.867 288.795 79.6726 285.253 Q81.5013 281.689 81.5013 274.582 Q81.5013 267.453 79.6726 263.911 Q77.867 260.346 74.2328 260.346 M74.2328 256.642 Q80.0429 256.642 83.0985 261.249 Q86.1772 265.832 86.1772 274.582 Q86.1772 283.309 83.0985 287.915 Q80.0429 292.499 74.2328 292.499 Q68.4226 292.499 65.344 287.915 Q62.2884 283.309 62.2884 274.582 Q62.2884 265.832 65.344 261.249 Q68.4226 256.642 74.2328 256.642 Z\\\" fill=\\\"#000000\\\" fill-rule=\\\"evenodd\\\" fill-opacity=\\\"1\\\" \\/><path clip-path=\\\"url(#clip520)\\\" d=\\\"M66.2699 243.756 L73.9087 243.756 L73.9087 217.39 L65.5986 219.057 L65.5986 214.797 L73.8624 213.131 L78.5383 213.131 L78.5383 243.756 L86.1772 243.756 L86.1772 247.691 L66.2699 247.691 L66.2699 243.756 Z\\\" fill=\\\"#000000\\\" fill-rule=\\\"evenodd\\\" fill-opacity=\\\"1\\\" \\/><path clip-path=\\\"url(#clip520)\\\" d=\\\"M69.8578 199.619 L86.1772 199.619 L86.1772 203.554 L64.2328 203.554 L64.2328 199.619 Q66.8949 196.864 71.4782 192.235 Q76.0846 187.582 77.2652 186.24 Q79.5105 183.716 80.3902 181.98 Q81.2929 180.221 81.2929 178.531 Q81.2929 175.777 79.3485 174.041 Q77.4272 172.304 74.3254 172.304 Q72.1263 172.304 69.6726 173.068 Q67.2421 173.832 64.4643 175.383 L64.4643 170.661 Q67.2884 169.527 69.7421 168.948 Q72.1958 168.369 74.2328 168.369 Q79.6031 168.369 82.7976 171.054 Q85.992 173.74 85.992 178.23 Q85.992 180.36 85.1818 182.281 Q84.3948 184.179 82.2883 186.772 Q81.7096 187.443 78.6078 190.661 Q75.5059 193.855 69.8578 199.619 Z\\\" fill=\\\"#000000\\\" fill-rule=\\\"evenodd\\\" fill-opacity=\\\"1\\\" \\/><path clip-path=\\\"url(#clip520)\\\" d=\\\"M79.0476 140.784 Q82.404 141.501 84.279 143.77 Q86.1772 146.038 86.1772 149.371 Q86.1772 154.487 82.6587 157.288 Q79.1402 160.089 72.6587 160.089 Q70.4828 160.089 68.168 159.649 Q65.8764 159.232 63.4227 158.376 L63.4227 153.862 Q65.3671 154.996 67.6819 155.575 Q69.9967 156.154 72.5198 156.154 Q76.918 156.154 79.2096 154.418 Q81.5244 152.682 81.5244 149.371 Q81.5244 146.316 79.3717 144.603 Q77.242 142.867 73.4226 142.867 L69.3949 142.867 L69.3949 139.024 L73.6078 139.024 Q77.0569 139.024 78.8855 137.659 Q80.7142 136.27 80.7142 133.677 Q80.7142 131.015 78.8161 129.603 Q76.9411 128.168 73.4226 128.168 Q71.5013 128.168 69.3023 128.584 Q67.1032 129.001 64.4643 129.881 L64.4643 125.714 Q67.1264 124.973 69.4412 124.603 Q71.7791 124.233 73.8393 124.233 Q79.1633 124.233 82.2652 126.663 Q85.367 129.071 85.367 133.191 Q85.367 136.061 83.7235 138.052 Q82.08 140.02 79.0476 140.784 Z\\\" fill=\\\"#000000\\\" fill-rule=\\\"evenodd\\\" fill-opacity=\\\"1\\\" \\/><path clip-path=\\\"url(#clip520)\\\" d=\\\"M76.5939 84.7951 L64.7884 103.244 L76.5939 103.244 L76.5939 84.7951 M75.367 80.7211 L81.2466 80.7211 L81.2466 103.244 L86.1772 103.244 L86.1772 107.133 L81.2466 107.133 L81.2466 115.281 L76.5939 115.281 L76.5939 107.133 L60.9921 107.133 L60.9921 102.619 L75.367 80.7211 Z\\\" fill=\\\"#000000\\\" fill-rule=\\\"evenodd\\\" fill-opacity=\\\"1\\\" \\/><path clip-path=\\\"url(#clip520)\\\" d=\\\"M65.2745 36.5845 L83.6309 36.5845 L83.6309 40.5197 L69.5569 40.5197 L69.5569 48.9918 Q70.5754 48.6446 71.5939 48.4826 Q72.6124 48.2974 73.6309 48.2974 Q79.418 48.2974 82.7976 51.4687 Q86.1772 54.64 86.1772 60.0566 Q86.1772 65.6353 82.705 68.7371 Q79.2328 71.8158 72.9134 71.8158 Q70.7374 71.8158 68.4689 71.4454 Q66.2236 71.0751 63.8162 70.3343 L63.8162 65.6353 Q65.8995 66.7695 68.1217 67.3251 Q70.3439 67.8806 72.8208 67.8806 Q76.8254 67.8806 79.1633 65.7742 Q81.5013 63.6677 81.5013 60.0566 Q81.5013 56.4455 79.1633 54.339 Q76.8254 52.2326 72.8208 52.2326 Q70.9458 52.2326 69.0708 52.6492 Q67.2189 53.0659 65.2745 53.9455 L65.2745 36.5845 Z\\\" fill=\\\"#000000\\\" fill-rule=\\\"evenodd\\\" fill-opacity=\\\"1\\\" \\/><polyline clip-path=\\\"url(#clip522)\\\" style=\\\"stroke:#009af9; stroke-linecap:round; stroke-linejoin:round; stroke-width:4; stroke-opacity:1; fill:none\\\" points=\\\"99.552,274.547 100.781,272.341 102.01,270.134 103.239,267.928 104.469,265.722 105.698,263.518 106.927,261.314 108.156,259.112 109.385,256.912 110.614,254.713 111.843,252.516 113.073,250.321 114.302,248.129 115.531,245.939 116.76,243.753 117.989,241.569 119.218,239.389 120.448,237.212 121.677,235.039 122.906,232.869 124.135,230.704 125.364,228.544 126.593,226.388 127.822,224.237 129.052,222.09 130.281,219.95 131.51,217.814 132.739,215.684 133.968,213.56 135.197,211.443 136.426,209.331 137.656,207.226 138.885,205.128 140.114,203.037 141.343,200.952 142.572,198.876 143.801,196.806 145.03,194.745 146.26,192.692 147.489,190.646 148.718,188.609 149.947,186.581 151.176,184.562 152.405,182.551 153.634,180.55 154.864,178.558 156.093,176.576 157.322,174.603 158.551,172.641 159.78,170.688 161.009,168.746 162.238,166.815 163.468,164.894 164.697,162.985 165.926,161.086 167.155,159.199 168.384,157.324 169.613,155.46 170.842,153.608 172.072,151.768 173.301,149.94 174.53,148.125 175.759,146.323 176.988,144.533 178.217,142.757 179.446,140.993 180.676,139.243 181.905,137.506 183.134,135.784 184.363,134.075 185.592,132.38 186.821,130.699 188.05,129.032 189.28,127.381 190.509,125.744 191.738,124.121 192.967,122.514 194.196,120.922 195.425,119.346 196.654,117.785 197.884,116.239 199.113,114.71 200.342,113.196 201.571,111.699 202.8,110.217 204.029,108.753 205.259,107.305 206.488,105.873 207.717,104.459 208.946,103.061 210.175,101.681 211.404,100.317 212.633,98.9717 213.863,97.6436 215.092,96.3331 216.321,95.0405 217.55,93.7658 218.779,92.5092 220.008,91.2708 221.237,90.0508 222.467,88.8491 223.696,87.6661 224.925,86.5017 226.154,85.3562 227.383,84.2295 228.612,83.1219 229.841,82.0335 231.071,80.9643 232.3,79.9144 233.529,78.884 234.758,77.8732 235.987,76.882 237.216,75.9106 238.445,74.9591 239.675,74.0275 240.904,73.116 242.133,72.2246 243.362,71.3535 244.591,70.5027 245.82,69.6723 247.049,68.8623 248.279,68.073 249.508,67.3042 250.737,66.5562 251.966,65.8291 253.195,65.1227 254.424,64.4374 255.653,63.773 256.883,63.1297 258.112,62.5075 259.341,61.9066 260.57,61.3269 261.799,60.7686 263.028,60.2316 264.257,59.716 265.487,59.2219 266.716,58.7494 267.945,58.2985 269.174,57.8691 270.403,57.4615 271.632,57.0755 272.861,56.7113 274.091,56.3689 275.32,56.0483 276.549,55.7495 277.778,55.4726 279.007,55.2177 280.236,54.9846 281.465,54.7735 282.695,54.5844 283.924,54.4173 285.153,54.2722 286.382,54.1492 287.611,54.0481 288.84,53.9691 290.07,53.9122 291.299,53.8774 292.528,53.8646 293.757,53.8739 294.986,53.9052 296.215,53.9586 297.444,54.0341 298.674,54.1316 299.903,54.2512 301.132,54.3927 302.361,54.5563 303.59,54.7419 304.819,54.9495 306.048,55.1791 307.278,55.4306 308.507,55.7039 309.736,55.9992 310.965,56.3163 312.194,56.6553 313.423,57.016 314.652,57.3985 315.882,57.8027 317.111,58.2286 318.34,58.6761 319.569,59.1452 320.798,59.6359 322.027,60.148 323.256,60.6816 324.486,61.2366 325.715,61.8128 326.944,62.4104 328.173,63.0292 329.402,63.6691 330.631,64.3301 331.86,65.0122 333.09,65.7152 334.319,66.439 335.548,67.1837 336.777,67.9491 338.006,68.7352 339.235,69.5419 340.464,70.369 341.694,71.2166 342.923,72.0845 344.152,72.9727 345.381,73.881 \\\"\\/>\\n<path clip-path=\\\"url(#clip520)\\\" d=\\\"M100.863 158.722 L179.351 158.722 L179.351 55.0416 L100.863 55.0416  Z\\\" fill=\\\"#ffffff\\\" fill-rule=\\\"evenodd\\\" fill-opacity=\\\"1\\\"\\/>\\n<polyline clip-path=\\\"url(#clip520)\\\" style=\\\"stroke:#000000; stroke-linecap:round; stroke-linejoin:round; stroke-width:4; stroke-opacity:1; fill:none\\\" points=\\\"100.863,158.722 179.351,158.722 179.351,55.0416 100.863,55.0416 100.863,158.722 \\\"\\/>\\n<polyline clip-path=\\\"url(#clip520)\\\" style=\\\"stroke:#009af9; stroke-linecap:round; stroke-linejoin:round; stroke-width:4; stroke-opacity:1; fill:none\\\" points=\\\"103.758,106.882 121.13,106.882 \\\"\\/>\\n<path clip-path=\\\"url(#clip520)\\\" d=\\\"M137.868 126.569 Q136.063 131.199 134.35 132.611 Q132.637 134.023 129.766 134.023 L126.364 134.023 L126.364 130.458 L128.864 130.458 Q130.623 130.458 131.595 129.624 Q132.567 128.791 133.748 125.689 L134.512 123.745 L124.026 98.2358 L128.54 98.2358 L136.641 118.513 L144.743 98.2358 L149.257 98.2358 L137.868 126.569 Z\\\" fill=\\\"#000000\\\" fill-rule=\\\"evenodd\\\" fill-opacity=\\\"1\\\" \\/><path clip-path=\\\"url(#clip520)\\\" d=\\\"M156.549 120.226 L164.188 120.226 L164.188 93.8608 L155.877 95.5274 L155.877 91.2682 L164.141 89.6016 L168.817 89.6016 L168.817 120.226 L176.456 120.226 L176.456 124.162 L156.549 124.162 L156.549 120.226 Z\\\" fill=\\\"#000000\\\" fill-rule=\\\"evenodd\\\" fill-opacity=\\\"1\\\" \\/><\\/svg>\\n\"},\"nodeType\":\"DOM\",\"type\":\"node\",\"instanceArgs\":{\"namespace\":\"html\",\"tag\":\"div\"},\"children\":[]}]}}}},\"children\":[{\"props\":{},\"nodeType\":\"ObservableNode\",\"type\":\"node\",\"instanceArgs\":{\"id\":\"49211175351407113\",\"name\":\"obs-node\"},\"children\":[]}]}]},\n",
       "        window,\n",
       "    );\n",
       "    })()\n",
       "    </script>\n",
       "</div>\n"
      ],
      "text/plain": [
       "Node{WebIO.DOM}(WebIO.DOM(:html, :div), Any[Node{WebIO.DOM}(WebIO.DOM(:html, :div), Any[Scope(Node{WebIO.DOM}(WebIO.DOM(:html, :div), Any[Node{WebIO.DOM}(WebIO.DOM(:html, :div), Any[Node{WebIO.DOM}(WebIO.DOM(:html, :label), Any[\"x\"], Dict{Symbol, Any}(:className => \"interact \", :style => Dict{Any, Any}(:padding => \"5px 10px 0px 10px\")))], Dict{Symbol, Any}(:className => \"interact-flex-row-left\")), Node{WebIO.DOM}(WebIO.DOM(:html, :div), Any[Node{WebIO.DOM}(WebIO.DOM(:html, :input), Any[], Dict{Symbol, Any}(:max => 10, :min => 1, :attributes => Dict{Any, Any}(:type => \"range\", Symbol(\"data-bind\") => \"numericValue: index, valueUpdate: 'input', event: {change: function (){this.changes(this.changes()+1)}}\", \"orient\" => \"horizontal\"), :step => 1, :className => \"slider slider is-fullwidth\", :style => Dict{Any, Any}()))], Dict{Symbol, Any}(:className => \"interact-flex-row-center\")), Node{WebIO.DOM}(WebIO.DOM(:html, :div), Any[Node{WebIO.DOM}(WebIO.DOM(:html, :p), Any[], Dict{Symbol, Any}(:attributes => Dict(\"data-bind\" => \"text: formatted_val\")))], Dict{Symbol, Any}(:className => \"interact-flex-row-right\"))], Dict{Symbol, Any}(:className => \"interact-flex-row interact-widget\")), Dict{String, Tuple{AbstractObservable, Union{Nothing, Bool}}}(\"changes\" => (Observable(0), nothing), \"index\" => (Observable(5), nothing)), Set{String}(), nothing, Asset[Asset(\"js\", \"knockout\", \"/home/ubuntu/.julia/packages/Knockout/HReiN/src/../assets/knockout.js\"), Asset(\"js\", \"knockout_punches\", \"/home/ubuntu/.julia/packages/Knockout/HReiN/src/../assets/knockout_punches.js\"), Asset(\"js\", nothing, \"/home/ubuntu/.julia/packages/InteractBase/Qhvxg/src/../assets/all.js\"), Asset(\"css\", nothing, \"/home/ubuntu/.julia/packages/InteractBase/Qhvxg/src/../assets/style.css\"), Asset(\"css\", nothing, \"/home/ubuntu/.julia/packages/Interact/PENUy/src/../assets/bulma_confined.min.css\")], Dict{Any, Any}(\"changes\" => Any[WebIO.JSString(\"(function (val){return (val!=this.model[\\\"changes\\\"]()) ? (this.valueFromJulia[\\\"changes\\\"]=true, this.model[\\\"changes\\\"](val)) : undefined})\")], \"index\" => Any[WebIO.JSString(\"(function (val){return (val!=this.model[\\\"index\\\"]()) ? (this.valueFromJulia[\\\"index\\\"]=true, this.model[\\\"index\\\"](val)) : undefined})\")]), WebIO.ConnectionPool(Channel{Any}(32), Set{AbstractConnection}(), Condition(Base.InvasiveLinkedList{Task}(Task (runnable) @0x00007fda7bbba400, Task (runnable) @0x00007fda7bbba400), Base.AlwaysLockedST(1))), WebIO.JSString[WebIO.JSString(\"function () {\\n    var handler = (function (ko, koPunches) {\\n    ko.punches.enableAll();\\n    ko.bindingHandlers.numericValue = {\\n        init: function(element, valueAccessor, allBindings, data, context) {\\n            var stringified = ko.observable(ko.unwrap(valueAccessor()));\\n            stringified.subscribe(function(value) {\\n                var val = parseFloat(value);\\n                if (!isNaN(val)) {\\n                    valueAccessor()(val);\\n                }\\n            });\\n            valueAccessor().subscribe(function(value) {\\n                var str = JSON.stringify(value);\\n                if ((str == \\\"0\\\") && ([\\\"-0\\\", \\\"-0.\\\"].indexOf(stringified()) >= 0))\\n                     return;\\n                 if ([\\\"null\\\", \\\"\\\"].indexOf(str) >= 0)\\n                     return;\\n                stringified(str);\\n            });\\n            ko.applyBindingsToNode(\\n                element,\\n                {\\n                    value: stringified,\\n                    valueUpdate: allBindings.get('valueUpdate'),\\n                },\\n                context,\\n            );\\n        }\\n    };\\n    var json_data = {\\\"formatted_vals\\\":[\\\"1\\\",\\\"2\\\",\\\"3\\\",\\\"4\\\",\\\"5\\\",\\\"6\\\",\\\"7\\\",\\\"8\\\",\\\"9\\\",\\\"10\\\"],\\\"changes\\\":WebIO.getval({\\\"name\\\":\\\"changes\\\",\\\"scope\\\":\\\"17594438832128882092\\\",\\\"id\\\":\\\"16743059885510990332\\\",\\\"type\\\":\\\"observable\\\"}),\\\"index\\\":WebIO.getval({\\\"name\\\":\\\"index\\\",\\\"scope\\\":\\\"17594438832128882092\\\",\\\"id\\\":\\\"12649167644844932098\\\",\\\"type\\\":\\\"observable\\\"})};\\n    var self = this;\\n    function AppViewModel() {\\n        for (var key in json_data) {\\n            var el = json_data[key];\\n            this[key] = Array.isArray(el) ? ko.observableArray(el) : ko.observable(el);\\n        }\\n        \\n        [this[\\\"formatted_val\\\"]=ko.computed(    function(){\\n        return this.formatted_vals()[parseInt(this.index())-(1)];\\n    }\\n,this)]\\n        [this[\\\"changes\\\"].subscribe((function (val){!(this.valueFromJulia[\\\"changes\\\"]) ? (WebIO.setval({\\\"name\\\":\\\"changes\\\",\\\"scope\\\":\\\"17594438832128882092\\\",\\\"id\\\":\\\"16743059885510990332\\\",\\\"type\\\":\\\"observable\\\"},val)) : undefined; return this.valueFromJulia[\\\"changes\\\"]=false}),self),this[\\\"index\\\"].subscribe((function (val){!(this.valueFromJulia[\\\"index\\\"]) ? (WebIO.setval({\\\"name\\\":\\\"index\\\",\\\"scope\\\":\\\"17594438832128882092\\\",\\\"id\\\":\\\"12649167644844932098\\\",\\\"type\\\":\\\"observable\\\"},val)) : undefined; return this.valueFromJulia[\\\"index\\\"]=false}),self)]\\n        \\n    }\\n    self.model = new AppViewModel();\\n    self.valueFromJulia = {};\\n    for (var key in json_data) {\\n        self.valueFromJulia[key] = false;\\n    }\\n    ko.applyBindings(self.model, self.dom);\\n}\\n);\\n    (WebIO.importBlock({\\\"data\\\":[{\\\"name\\\":\\\"knockout\\\",\\\"type\\\":\\\"js\\\",\\\"url\\\":\\\"/assetserver/4b78a831658f9469be0fa90a874237d533cfc56e-knockout.js\\\"},{\\\"name\\\":\\\"knockout_punches\\\",\\\"type\\\":\\\"js\\\",\\\"url\\\":\\\"/assetserver/32cf81589ef7eb25886db6e5be297d237f8599ce-knockout_punches.js\\\"}],\\\"type\\\":\\\"async_block\\\"})).then((imports) => handler.apply(this, imports));\\n}\\n\")])], Dict{Symbol, Any}(:className => \"field interact-widget\")), Node{WebIO.DOM}(WebIO.DOM(:html, :div), Any[Scope(Node{WebIO.DOM}(WebIO.DOM(:html, :div), Any[Node{WebIO.DOM}(WebIO.DOM(:html, :div), Any[Node{WebIO.DOM}(WebIO.DOM(:html, :label), Any[\"f\"], Dict{Symbol, Any}(:className => \"interact \", :style => Dict{Any, Any}(:padding => \"5px 10px 0px 10px\")))], Dict{Symbol, Any}(:className => \"interact-flex-row-left\")), Node{WebIO.DOM}(WebIO.DOM(:html, :div), Any[Node{WebIO.DOM}(WebIO.DOM(:html, :div), Any[Node{WebIO.DOM}(WebIO.DOM(:html, :span), Any[Node{WebIO.DOM}(WebIO.DOM(:html, :label), Any[], Dict{Symbol, Any}(:attributes => Dict(\"data-bind\" => \"text : key\")))], Dict{Symbol, Any}(:attributes => Dict(\"data-bind\" => \"click: function (){\\$root.update(val)}, css: {'is-primary is-selected' : \\$root.index() == val, 'interact-widget is-medium button ' : true}\")))], Dict{Symbol, Any}(:attributes => (\"data-bind\" => \"foreach : options_js\"), :className => \"buttons has-addons is-centered\"))], Dict{Symbol, Any}(:className => \"interact-flex-row-center\")), Node{WebIO.DOM}(WebIO.DOM(:html, :div), Any[Node{WebIO.DOM}(WebIO.DOM(:html, :div), Any[], Dict{Symbol, Any}())], Dict{Symbol, Any}(:className => \"interact-flex-row-right\"))], Dict{Symbol, Any}(:className => \"interact-flex-row interact-widget\")), Dict{String, Tuple{AbstractObservable, Union{Nothing, Bool}}}(\"options_js\" => (Observable(OrderedDict[OrderedDict{String, Any}(\"key\" => \"sin\", \"val\" => 1, \"id\" => \"idHpMj7b8g\"), OrderedDict{String, Any}(\"key\" => \"cos\", \"val\" => 2, \"id\" => \"idqmejM3uq\")]), nothing), \"index\" => (Observable{Any}(1), nothing)), Set{String}(), nothing, Asset[Asset(\"js\", \"knockout\", \"/home/ubuntu/.julia/packages/Knockout/HReiN/src/../assets/knockout.js\"), Asset(\"js\", \"knockout_punches\", \"/home/ubuntu/.julia/packages/Knockout/HReiN/src/../assets/knockout_punches.js\"), Asset(\"js\", nothing, \"/home/ubuntu/.julia/packages/InteractBase/Qhvxg/src/../assets/all.js\"), Asset(\"css\", nothing, \"/home/ubuntu/.julia/packages/InteractBase/Qhvxg/src/../assets/style.css\"), Asset(\"css\", nothing, \"/home/ubuntu/.julia/packages/Interact/PENUy/src/../assets/bulma_confined.min.css\")], Dict{Any, Any}(\"options_js\" => Any[WebIO.JSString(\"(function (val){return (val!=this.model[\\\"options_js\\\"]()) ? (this.valueFromJulia[\\\"options_js\\\"]=true, this.model[\\\"options_js\\\"](val)) : undefined})\")], \"index\" => Any[WebIO.JSString(\"(function (val){return (val!=this.model[\\\"index\\\"]()) ? (this.valueFromJulia[\\\"index\\\"]=true, this.model[\\\"index\\\"](val)) : undefined})\")]), WebIO.ConnectionPool(Channel{Any}(32), Set{AbstractConnection}(), Condition(Base.InvasiveLinkedList{Task}(Task (runnable) @0x00007fda7bbba850, Task (runnable) @0x00007fda7bbba850), Base.AlwaysLockedST(1))), WebIO.JSString[WebIO.JSString(\"function () {\\n    var handler = (function (ko, koPunches) {\\n    ko.punches.enableAll();\\n    ko.bindingHandlers.numericValue = {\\n        init: function(element, valueAccessor, allBindings, data, context) {\\n            var stringified = ko.observable(ko.unwrap(valueAccessor()));\\n            stringified.subscribe(function(value) {\\n                var val = parseFloat(value);\\n                if (!isNaN(val)) {\\n                    valueAccessor()(val);\\n                }\\n            });\\n            valueAccessor().subscribe(function(value) {\\n                var str = JSON.stringify(value);\\n                if ((str == \\\"0\\\") && ([\\\"-0\\\", \\\"-0.\\\"].indexOf(stringified()) >= 0))\\n                     return;\\n                 if ([\\\"null\\\", \\\"\\\"].indexOf(str) >= 0)\\n                     return;\\n                stringified(str);\\n            });\\n            ko.applyBindingsToNode(\\n                element,\\n                {\\n                    value: stringified,\\n                    valueUpdate: allBindings.get('valueUpdate'),\\n                },\\n                context,\\n            );\\n        }\\n    };\\n    var json_data = {\\\"options_js\\\":WebIO.getval({\\\"name\\\":\\\"options_js\\\",\\\"scope\\\":\\\"16306609676850727722\\\",\\\"id\\\":\\\"17728077516814520622\\\",\\\"type\\\":\\\"observable\\\"}),\\\"index\\\":WebIO.getval({\\\"name\\\":\\\"index\\\",\\\"scope\\\":\\\"16306609676850727722\\\",\\\"id\\\":\\\"2848184459164756677\\\",\\\"type\\\":\\\"observable\\\"})};\\n    var self = this;\\n    function AppViewModel() {\\n        for (var key in json_data) {\\n            var el = json_data[key];\\n            this[key] = Array.isArray(el) ? ko.observableArray(el) : ko.observable(el);\\n        }\\n        [this[\\\"update\\\"]=function (val) {this.index(val)}]\\n        \\n        [this[\\\"options_js\\\"].subscribe((function (val){!(this.valueFromJulia[\\\"options_js\\\"]) ? (WebIO.setval({\\\"name\\\":\\\"options_js\\\",\\\"scope\\\":\\\"16306609676850727722\\\",\\\"id\\\":\\\"17728077516814520622\\\",\\\"type\\\":\\\"observable\\\"},val)) : undefined; return this.valueFromJulia[\\\"options_js\\\"]=false}),self),this[\\\"index\\\"].subscribe((function (val){!(this.valueFromJulia[\\\"index\\\"]) ? (WebIO.setval({\\\"name\\\":\\\"index\\\",\\\"scope\\\":\\\"16306609676850727722\\\",\\\"id\\\":\\\"2848184459164756677\\\",\\\"type\\\":\\\"observable\\\"},val)) : undefined; return this.valueFromJulia[\\\"index\\\"]=false}),self)]\\n        \\n    }\\n    self.model = new AppViewModel();\\n    self.valueFromJulia = {};\\n    for (var key in json_data) {\\n        self.valueFromJulia[key] = false;\\n    }\\n    ko.applyBindings(self.model, self.dom);\\n}\\n);\\n    (WebIO.importBlock({\\\"data\\\":[{\\\"name\\\":\\\"knockout\\\",\\\"type\\\":\\\"js\\\",\\\"url\\\":\\\"/assetserver/4b78a831658f9469be0fa90a874237d533cfc56e-knockout.js\\\"},{\\\"name\\\":\\\"knockout_punches\\\",\\\"type\\\":\\\"js\\\",\\\"url\\\":\\\"/assetserver/32cf81589ef7eb25886db6e5be297d237f8599ce-knockout_punches.js\\\"}],\\\"type\\\":\\\"async_block\\\"})).then((imports) => handler.apply(this, imports));\\n}\\n\")])], Dict{Symbol, Any}(:className => \"interact-widget\")), Node{WebIO.DOM}(WebIO.DOM(:html, :div), Any[Node{WebIO.DOM}(WebIO.DOM(:html, :div), Any[Scope(Node{WebIO.DOM}(WebIO.DOM(:html, :div), Any[Node{WebIO.DOM}(WebIO.DOM(:html, :input), Any[], Dict{Symbol, Any}(:attributes => Dict{Any, Any}(:type => \"checkbox\", Symbol(\"data-bind\") => \"checked: value, valueUpdate: 'change', event: {change: function (){this.changes(this.changes()+1)}}\"), :id => \"##3918\", :className => \"switch \", :style => Dict{Any, Any}())), Node{WebIO.DOM}(WebIO.DOM(:html, :label), Any[\"both\"], Dict{Symbol, Any}(:attributes => Dict{SubString{String}, SubString{String}}(\"className\" => \"\", \"for\" => \"##3918\")))], Dict{Symbol, Any}(:className => \"field interact-widget\")), Dict{String, Tuple{AbstractObservable, Union{Nothing, Bool}}}(\"changes\" => (Observable(0), nothing), \"value\" => (Observable(false), nothing)), Set{String}(), nothing, Asset[Asset(\"js\", \"knockout\", \"/home/ubuntu/.julia/packages/Knockout/HReiN/src/../assets/knockout.js\"), Asset(\"js\", \"knockout_punches\", \"/home/ubuntu/.julia/packages/Knockout/HReiN/src/../assets/knockout_punches.js\"), Asset(\"js\", nothing, \"/home/ubuntu/.julia/packages/InteractBase/Qhvxg/src/../assets/all.js\"), Asset(\"css\", nothing, \"/home/ubuntu/.julia/packages/InteractBase/Qhvxg/src/../assets/style.css\"), Asset(\"css\", nothing, \"/home/ubuntu/.julia/packages/Interact/PENUy/src/../assets/bulma_confined.min.css\")], Dict{Any, Any}(\"changes\" => Any[WebIO.JSString(\"(function (val){return (val!=this.model[\\\"changes\\\"]()) ? (this.valueFromJulia[\\\"changes\\\"]=true, this.model[\\\"changes\\\"](val)) : undefined})\")], \"value\" => Any[WebIO.JSString(\"(function (val){return (val!=this.model[\\\"value\\\"]()) ? (this.valueFromJulia[\\\"value\\\"]=true, this.model[\\\"value\\\"](val)) : undefined})\")]), WebIO.ConnectionPool(Channel{Any}(32), Set{AbstractConnection}(), Condition(Base.InvasiveLinkedList{Task}(Task (runnable) @0x00007fda7bbbab30, Task (runnable) @0x00007fda7bbbab30), Base.AlwaysLockedST(1))), WebIO.JSString[WebIO.JSString(\"function () {\\n    var handler = (function (ko, koPunches) {\\n    ko.punches.enableAll();\\n    ko.bindingHandlers.numericValue = {\\n        init: function(element, valueAccessor, allBindings, data, context) {\\n            var stringified = ko.observable(ko.unwrap(valueAccessor()));\\n            stringified.subscribe(function(value) {\\n                var val = parseFloat(value);\\n                if (!isNaN(val)) {\\n                    valueAccessor()(val);\\n                }\\n            });\\n            valueAccessor().subscribe(function(value) {\\n                var str = JSON.stringify(value);\\n                if ((str == \\\"0\\\") && ([\\\"-0\\\", \\\"-0.\\\"].indexOf(stringified()) >= 0))\\n                     return;\\n                 if ([\\\"null\\\", \\\"\\\"].indexOf(str) >= 0)\\n                     return;\\n                stringified(str);\\n            });\\n            ko.applyBindingsToNode(\\n                element,\\n                {\\n                    value: stringified,\\n                    valueUpdate: allBindings.get('valueUpdate'),\\n                },\\n                context,\\n            );\\n        }\\n    };\\n    var json_data = {\\\"changes\\\":WebIO.getval({\\\"name\\\":\\\"changes\\\",\\\"scope\\\":\\\"3771360879454874561\\\",\\\"id\\\":\\\"17990658941097720758\\\",\\\"type\\\":\\\"observable\\\"}),\\\"value\\\":WebIO.getval({\\\"name\\\":\\\"value\\\",\\\"scope\\\":\\\"3771360879454874561\\\",\\\"id\\\":\\\"15658232593529612371\\\",\\\"type\\\":\\\"observable\\\"})};\\n    var self = this;\\n    function AppViewModel() {\\n        for (var key in json_data) {\\n            var el = json_data[key];\\n            this[key] = Array.isArray(el) ? ko.observableArray(el) : ko.observable(el);\\n        }\\n        \\n        \\n        [this[\\\"changes\\\"].subscribe((function (val){!(this.valueFromJulia[\\\"changes\\\"]) ? (WebIO.setval({\\\"name\\\":\\\"changes\\\",\\\"scope\\\":\\\"3771360879454874561\\\",\\\"id\\\":\\\"17990658941097720758\\\",\\\"type\\\":\\\"observable\\\"},val)) : undefined; return this.valueFromJulia[\\\"changes\\\"]=false}),self),this[\\\"value\\\"].subscribe((function (val){!(this.valueFromJulia[\\\"value\\\"]) ? (WebIO.setval({\\\"name\\\":\\\"value\\\",\\\"scope\\\":\\\"3771360879454874561\\\",\\\"id\\\":\\\"15658232593529612371\\\",\\\"type\\\":\\\"observable\\\"},val)) : undefined; return this.valueFromJulia[\\\"value\\\"]=false}),self)]\\n        \\n    }\\n    self.model = new AppViewModel();\\n    self.valueFromJulia = {};\\n    for (var key in json_data) {\\n        self.valueFromJulia[key] = false;\\n    }\\n    ko.applyBindings(self.model, self.dom);\\n}\\n);\\n    (WebIO.importBlock({\\\"data\\\":[{\\\"name\\\":\\\"knockout\\\",\\\"type\\\":\\\"js\\\",\\\"url\\\":\\\"/assetserver/4b78a831658f9469be0fa90a874237d533cfc56e-knockout.js\\\"},{\\\"name\\\":\\\"knockout_punches\\\",\\\"type\\\":\\\"js\\\",\\\"url\\\":\\\"/assetserver/32cf81589ef7eb25886db6e5be297d237f8599ce-knockout_punches.js\\\"}],\\\"type\\\":\\\"async_block\\\"})).then((imports) => handler.apply(this, imports));\\n}\\n\")])], Dict{Symbol, Any}(:className => \"field interact-widget\"))], Dict{Symbol, Any}(:className => \"interact-flex-row interact-widget\")), Observable(Node{WebIO.DOM}(WebIO.DOM(:html, :div), Any[Plot{Plots.GRBackend() n=1}], Dict{Symbol, Any}(:className => \"interact-flex-row interact-widget\")))], Dict{Symbol, Any}())"
      ]
     },
     "execution_count": 683,
     "metadata": {},
     "output_type": "execute_result"
    }
   ],
   "source": [
    "@manipulate for x=1:10, f = [sin, cos], both = false\n",
    "    plot(size=(100,100))\n",
    "    ts=0:0.01:2\n",
    "    plot!(x*f.(ts))\n",
    "end"
   ]
  },
  {
   "cell_type": "code",
   "execution_count": 676,
   "id": "e7614cb6",
   "metadata": {},
   "outputs": [
    {
     "name": "stdout",
     "output_type": "stream",
     "text": [
      "1-2-3-4-5-6-7-8-9-10-11-12-13-14-15-16-17-18-19-20-21-22-23-24-25-26-27-28-29-30-31-32-33-34-35-36-37-38-39-40-41-42-43-44-45-46-47-48-49-50-"
     ]
    }
   ],
   "source": [
    "T = 17\n",
    "trs= []\n",
    "ws = []\n",
    "for i=1:50\n",
    "    print(i, \"-\")\n",
    "    N = 10\n",
    "    tr,w = naive_posterior(T, N, args)\n",
    "#     tr,w = simple_posterior(T, N, args)\n",
    "#     tr,w = smc_posterior(T, args, grid_args)\n",
    "    push!(trs,tr)\n",
    "    push!(ws,w)\n",
    "end"
   ]
  },
  {
   "cell_type": "code",
   "execution_count": 675,
   "id": "430f30e6",
   "metadata": {},
   "outputs": [
    {
     "name": "stdout",
     "output_type": "stream",
     "text": [
      "1-"
     ]
    },
    {
     "name": "stderr",
     "output_type": "stream",
     "text": [
      "\u001b[36m\u001b[1m[ \u001b[22m\u001b[39m\u001b[36m\u001b[1mInfo: \u001b[22m\u001b[39mSaved animation to /home/ubuntu/workspace/probabilistic-slam-in-gen/notebooks/tmp.gif\n"
     ]
    },
    {
     "data": {
      "text/html": [
       "<img src=\"data:image/gif;base64,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\" />"
      ],
      "text/plain": [
       "Plots.AnimatedGif(\"/home/ubuntu/workspace/probabilistic-slam-in-gen/notebooks/tmp.gif\")"
      ]
     },
     "execution_count": 675,
     "metadata": {},
     "output_type": "execute_result"
    }
   ],
   "source": [
    "T = length(trs[1][])\n",
    "ani = Animation()\n",
    "n = 40\n",
    "# for i=1:length(trs)\n",
    "for i=1:1\n",
    "    print(i, \"-\")\n",
    "    mypl = plot(size=(500,500), legend=nothing; \n",
    "        xlim=(4,17),\n",
    "        ylim=(8,19),\n",
    "        aspect_ratio=:equal)\n",
    "    \n",
    "    plot!(_segs, c=:black, linewidth=2)\n",
    "\n",
    "\n",
    "\n",
    "    \n",
    "    ss = range(0,0.9,n)\n",
    "    for j=1:n\n",
    "\n",
    "        s= ss[j]\n",
    "        i_ = mod(i+j-1,length(trs))+1\n",
    "        tr = trs[i_]\n",
    "#     for (s,tr) in zip(range(0,1,n),trs[i:i+n])\n",
    "        ps = [r[1] for r in tr[]];\n",
    "        xs = [r[2] for r in tr[]];\n",
    "        \n",
    "        c = :lightgray\n",
    "#         scatter!(xs[end].*ps[end], c=col[1], markersize=3, markerstrokewidth=0, alpha=range(0,0.2,n)[j] )\n",
    "        plot!([p.x for p in ps], c=c, linewidth=1, alpha=range(0,0.8,n)[j] )\n",
    "        plot!(ps, c=c, r=0.25, linewidth=2, alpha=range(0,1.,n)[j] )\n",
    "    end\n",
    "    \n",
    "#     plot!(_ps[1:T],c=:red, r=0.5, linewidth=2)\n",
    "    \n",
    "    plot!(_ps[1:T],c=:black, r=0.5, linewidth=2)\n",
    "    \n",
    "    frame(ani, mypl)\n",
    "    \n",
    "end;\n",
    "\n",
    "gif(ani,fps=15)"
   ]
  },
  {
   "cell_type": "code",
   "execution_count": 595,
   "id": "e2758172",
   "metadata": {},
   "outputs": [
    {
     "name": "stderr",
     "output_type": "stream",
     "text": [
      "\u001b[36m\u001b[1m[ \u001b[22m\u001b[39m\u001b[36m\u001b[1mInfo: \u001b[22m\u001b[39mSaved animation to /home/ubuntu/workspace/probabilistic-slam-in-gen/notebooks/gifs/smc.gif\n"
     ]
    },
    {
     "data": {
      "text/html": [
       "<img src=\"data:image/gif;base64,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\" />"
      ],
      "text/plain": [
       "Plots.AnimatedGif(\"/home/ubuntu/workspace/probabilistic-slam-in-gen/notebooks/gifs/smc.gif\")"
      ]
     },
     "execution_count": 595,
     "metadata": {},
     "output_type": "execute_result"
    }
   ],
   "source": [
    "gif(ani, \"gifs/smc.gif\", fps=15)"
   ]
  },
  {
   "cell_type": "code",
   "execution_count": null,
   "id": "45760996",
   "metadata": {},
   "outputs": [],
   "source": []
  }
 ],
 "metadata": {
  "@webio": {
   "lastCommId": null,
   "lastKernelId": null
  },
  "kernelspec": {
   "display_name": "Julia 1.8.3",
   "language": "julia",
   "name": "julia-1.8"
  },
  "language_info": {
   "file_extension": ".jl",
   "mimetype": "application/julia",
   "name": "julia",
   "version": "1.8.3"
  },
  "toc": {
   "base_numbering": 1,
   "nav_menu": {},
   "number_sections": true,
   "sideBar": true,
   "skip_h1_title": true,
   "title_cell": "Table of Contents",
   "title_sidebar": "Contents",
   "toc_cell": false,
   "toc_position": {
    "height": "calc(100% - 180px)",
    "left": "10px",
    "top": "150px",
    "width": "308.76px"
   },
   "toc_section_display": true,
   "toc_window_display": true
  }
 },
 "nbformat": 4,
 "nbformat_minor": 5
}
