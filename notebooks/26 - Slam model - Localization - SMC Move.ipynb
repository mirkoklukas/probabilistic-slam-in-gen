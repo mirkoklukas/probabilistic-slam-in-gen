{
 "cells": [
  {
   "cell_type": "markdown",
   "id": "34e68de1",
   "metadata": {},
   "source": [
    "# Localization - Line Map - SMC Move"
   ]
  },
  {
   "cell_type": "code",
   "execution_count": 1,
   "id": "478276ec",
   "metadata": {},
   "outputs": [
    {
     "data": {
      "text/html": [
       "<style>.rendered_html.text_cell_render {max-width:700px; }</style>"
      ],
      "text/plain": [
       "HTML{String}(\"<style>.rendered_html.text_cell_render {max-width:700px; }</style>\")"
      ]
     },
     "metadata": {},
     "output_type": "display_data"
    }
   ],
   "source": [
    "display(HTML(\"<style>.rendered_html.text_cell_render {max-width:700px; }</style>\"));"
   ]
  },
  {
   "cell_type": "code",
   "execution_count": 4,
   "id": "a02a09a7",
   "metadata": {},
   "outputs": [],
   "source": [
    "#nbx --fname=\"src/smc_move.jl\"\n",
    "push!(LOAD_PATH, \"src\");\n",
    "using BenchmarkTools;\n",
    "using Colors, Plots;\n",
    "col = palette(:default);\n",
    "(cgrad::PlotUtils.ContinuousColorGradient)(xs::Vector{Vector{Float64}}) = [cgrad[x] for x in xs];\n",
    "(cgrad::PlotUtils.ContinuousColorGradient)(m::Matrix{Float64}) = reshape(cgrad[m[:]], size(m));\n",
    "using Gen\n",
    "using GridSlam\n",
    "using Geometry\n",
    "using MyUtils\n",
    "\n",
    "Base.Vector(p::Pose) = [p.x;p.hd];"
   ]
  },
  {
   "cell_type": "code",
   "execution_count": 5,
   "id": "d82cdc4e",
   "metadata": {},
   "outputs": [
    {
     "name": "stdout",
     "output_type": "stream",
     "text": [
      "Loading `data/data_3.jld2` ...\n",
      "\n",
      "\t_segs \tVector{Segment}\n",
      "\t_xs \tVector{Vector{Float64}}\n",
      "\t_hds \tVector{Float64}\n",
      "\t_ps \tVector{Pose}\n",
      "\t_dxs \tVector{Vector{Float64}}\n",
      "\t_dhds \tVector{Float64}\n",
      "\t_us \tVector{Tuple{Vector{Float64}, Float64}}\n",
      "\t_as \tVector{Float64}\n",
      "\t_zs \tVector{Any}\n",
      "\t_ss \tVector{Vector{Measurement}}\n",
      "\t_fov \tFloat64\n",
      "\t_zmax \tInt64\n",
      "\t_T \tInt64\n",
      "\n",
      "To take a look call `glimpse_at_data(_segs, _ps, _ss)`\n"
     ]
    },
    {
     "data": {
      "text/plain": [
       "glimpse_at_data (generic function with 2 methods)"
      ]
     },
     "execution_count": 5,
     "metadata": {},
     "output_type": "execute_result"
    }
   ],
   "source": [
    "#nbx\n",
    "include(\"src/unpack_data.jl\")"
   ]
  },
  {
   "cell_type": "code",
   "execution_count": 6,
   "id": "b1ef3fd4",
   "metadata": {},
   "outputs": [],
   "source": [
    "#nbx\n",
    "include(\"src/slam_stuff_and_utils.jl\");\n",
    "include(\"src/pose_prior_model.jl\");\n",
    "include(\"src/motion_model.jl\");"
   ]
  },
  {
   "cell_type": "code",
   "execution_count": 7,
   "id": "bb9a9cd9",
   "metadata": {},
   "outputs": [],
   "source": [
    "#nbx\n",
    "function Plots.plot!(p::Pose; r=0.5, args...)\n",
    "    plot!([p.x, p.x + r*unit_vec(p.hd)]; args...)\n",
    "end\n",
    "\n",
    "function Plots.plot!(ps::Vector{Pose}, cs::Vector{RGBA{Float64}}; r=0.5, args...)\n",
    "    for (p,c) in zip(ps,cs)\n",
    "        plot!([p.x, p.x + r*unit_vec(p.hd)];c=c, args...)\n",
    "    end\n",
    "end\n",
    "\n",
    "function Plots.plot!(ps::Vector{Pose}; r=0.5, args...)\n",
    "    for p in ps\n",
    "        plot!([p.x, p.x + r*unit_vec(p.hd)];args...)\n",
    "    end\n",
    "end"
   ]
  },
  {
   "cell_type": "markdown",
   "id": "aaa3ec2e",
   "metadata": {},
   "source": [
    "## SMC - Move"
   ]
  },
  {
   "cell_type": "code",
   "execution_count": 8,
   "id": "12764146",
   "metadata": {},
   "outputs": [],
   "source": [
    "#nbx\n",
    "using CUDA"
   ]
  },
  {
   "cell_type": "markdown",
   "id": "dfc01a95",
   "metadata": {},
   "source": [
    "### logsumexp"
   ]
  },
  {
   "cell_type": "code",
   "execution_count": 9,
   "id": "effd724c",
   "metadata": {},
   "outputs": [
    {
     "data": {
      "text/plain": [
       "logsumexp_cu (generic function with 1 method)"
      ]
     },
     "execution_count": 9,
     "metadata": {},
     "output_type": "execute_result"
    }
   ],
   "source": [
    "#nbx\n",
    "function logsumexp_cu(x, dim)\n",
    "    c = maximum(x)\n",
    "    return c .+ log.(sum(exp.(x .- c), dims=dim))\n",
    "end"
   ]
  },
  {
   "cell_type": "markdown",
   "id": "e1369cfc",
   "metadata": {},
   "source": [
    "### raycast"
   ]
  },
  {
   "cell_type": "code",
   "execution_count": 10,
   "id": "b8e3e235",
   "metadata": {},
   "outputs": [
    {
     "data": {
      "text/plain": [
       "cast_cu (generic function with 1 method)"
      ]
     },
     "execution_count": 10,
     "metadata": {},
     "output_type": "execute_result"
    }
   ],
   "source": [
    "#nbx\n",
    "include(\"src/cuda_raycaster_line_map.jl\");\n",
    "\n",
    "segs_ = CuArray(stack(Vector.(_segs)))\n",
    "\n",
    "# Todo: Change cast_v4! signature and put z_ in there \n",
    "#       and replace arg by num_a and fov....\n",
    "function cast_cu(ps_::CuArray; blockdims=(16,16))\n",
    "    n = size(segs_, 1)    \n",
    "    m = size(ps_,1)\n",
    "    z_ = Inf*CUDA.ones(m, n, 360)\n",
    "    z_ = cast_v4!(segs_,ps_,z_; blockdims=blockdims)\n",
    "    \n",
    "    return z_\n",
    "end"
   ]
  },
  {
   "cell_type": "markdown",
   "id": "5970980c",
   "metadata": {},
   "source": [
    "### Pose grid"
   ]
  },
  {
   "cell_type": "code",
   "execution_count": 12,
   "id": "e0076570",
   "metadata": {},
   "outputs": [
    {
     "data": {
      "text/plain": [
       "pose_grid"
      ]
     },
     "execution_count": 12,
     "metadata": {},
     "output_type": "execute_result"
    }
   ],
   "source": [
    "#nbx\n",
    "\"\"\"\n",
    "    ps_ = pose_grid(p, k, delta_x, delta_hd)\n",
    "\n",
    "Returns CuArray of pose vectors (k^2, 3).\n",
    "\"\"\"\n",
    "function pose_grid(p, k, delta_x, delta_hd)\n",
    "\n",
    "    dx1_ = CUDA.collect(CUDA.range(-delta_x,  delta_x, k))\n",
    "    dx2_ = CUDA.collect(CUDA.range(-delta_x,  delta_x, k))\n",
    "    dhd_ = CUDA.collect(CUDA.range(-delta_hd/360*π, delta_hd/360*π,k))\n",
    "    dx1_ = CuArray(dx1_)\n",
    "    dx2_ = CuArray(dx2_)\n",
    "    dhd_ = CuArray(dhd_)\n",
    "    dx1_ = CUDA.repeat(dx1_,  1, k, k)\n",
    "    dx2_ = CUDA.repeat(reshape(dx2_,1,k,1), k, 1, k)\n",
    "    dhd_ = CUDA.repeat(reshape(dhd_,1,1,k), k, k, 1)\n",
    "\n",
    "    ps_ = CUDA.cat(dx1_,dx2_, dhd_, dims=4)\n",
    "    ps_ = reshape(ps_, :,3)\n",
    "    ps_ = ps_ .+ reshape(CuArray(Vector(p)),1,3)\n",
    "    return ps_\n",
    "end"
   ]
  },
  {
   "cell_type": "code",
   "execution_count": 13,
   "id": "07f3328d",
   "metadata": {},
   "outputs": [
    {
     "name": "stdout",
     "output_type": "stream",
     "text": [
      "ps_: (1000, 3)\n",
      "  279.525 μs (396 allocations: 20.44 KiB)\n"
     ]
    }
   ],
   "source": [
    "p = _ps[1]\n",
    "delta_x  = 0.5\n",
    "delta_hd = 10\n",
    "k = 10\n",
    "ps_ = pose_grid(p,k,delta_x,delta_hd);\n",
    "println(\"ps_: $(size(ps_))\")\n",
    "@btime pose_grid($p,$k,$delta_x,$delta_hd) samples=1 evals=1;"
   ]
  },
  {
   "cell_type": "markdown",
   "id": "967ee973",
   "metadata": {},
   "source": [
    "Runtime:\n",
    "```julia\n",
    "ps_: (1000, 3)\n",
    "  158.146 μs (396 allocations: 20.44 KiB)\n",
    "```"
   ]
  },
  {
   "cell_type": "code",
   "execution_count": 14,
   "id": "d7938e88",
   "metadata": {},
   "outputs": [
    {
     "data": {
      "image/svg+xml": [
       "<?xml version=\"1.0\" encoding=\"utf-8\"?>\n",
       "<svg xmlns=\"http://www.w3.org/2000/svg\" xmlns:xlink=\"http://www.w3.org/1999/xlink\" width=\"200\" height=\"200\" viewBox=\"0 0 800 800\">\n",
       "<defs>\n",
       "  <clipPath id=\"clip340\">\n",
       "    <rect x=\"0\" y=\"0\" width=\"800\" height=\"800\"/>\n",
       "  </clipPath>\n",
       "</defs>\n",
       "<path clip-path=\"url(#clip340)\" d=\"M0 800 L800 800 L800 0 L0 0  Z\" fill=\"#ffffff\" fill-rule=\"evenodd\" fill-opacity=\"1\"/>\n",
       "<defs>\n",
       "  <clipPath id=\"clip341\">\n",
       "    <rect x=\"160\" y=\"80\" width=\"561\" height=\"561\"/>\n",
       "  </clipPath>\n",
       "</defs>\n",
       "<path clip-path=\"url(#clip340)\" d=\"M198.353 677.168 L752.756 677.168 L752.756 47.2441 L198.353 47.2441  Z\" fill=\"#ffffff\" fill-rule=\"evenodd\" fill-opacity=\"1\"/>\n",
       "<defs>\n",
       "  <clipPath id=\"clip342\">\n",
       "    <rect x=\"198\" y=\"47\" width=\"555\" height=\"631\"/>\n",
       "  </clipPath>\n",
       "</defs>\n",
       "<polyline clip-path=\"url(#clip342)\" style=\"stroke:#000000; stroke-linecap:round; stroke-linejoin:round; stroke-width:2; stroke-opacity:0.1; fill:none\" points=\"282.356,677.168 282.356,47.2441 \"/>\n",
       "<polyline clip-path=\"url(#clip342)\" style=\"stroke:#000000; stroke-linecap:round; stroke-linejoin:round; stroke-width:2; stroke-opacity:0.1; fill:none\" points=\"401.274,677.168 401.274,47.2441 \"/>\n",
       "<polyline clip-path=\"url(#clip342)\" style=\"stroke:#000000; stroke-linecap:round; stroke-linejoin:round; stroke-width:2; stroke-opacity:0.1; fill:none\" points=\"520.192,677.168 520.192,47.2441 \"/>\n",
       "<polyline clip-path=\"url(#clip342)\" style=\"stroke:#000000; stroke-linecap:round; stroke-linejoin:round; stroke-width:2; stroke-opacity:0.1; fill:none\" points=\"639.111,677.168 639.111,47.2441 \"/>\n",
       "<polyline clip-path=\"url(#clip340)\" style=\"stroke:#000000; stroke-linecap:round; stroke-linejoin:round; stroke-width:4; stroke-opacity:1; fill:none\" points=\"198.353,677.168 752.756,677.168 \"/>\n",
       "<polyline clip-path=\"url(#clip340)\" style=\"stroke:#000000; stroke-linecap:round; stroke-linejoin:round; stroke-width:4; stroke-opacity:1; fill:none\" points=\"282.356,677.168 282.356,658.27 \"/>\n",
       "<polyline clip-path=\"url(#clip340)\" style=\"stroke:#000000; stroke-linecap:round; stroke-linejoin:round; stroke-width:4; stroke-opacity:1; fill:none\" points=\"401.274,677.168 401.274,658.27 \"/>\n",
       "<polyline clip-path=\"url(#clip340)\" style=\"stroke:#000000; stroke-linecap:round; stroke-linejoin:round; stroke-width:4; stroke-opacity:1; fill:none\" points=\"520.192,677.168 520.192,658.27 \"/>\n",
       "<polyline clip-path=\"url(#clip340)\" style=\"stroke:#000000; stroke-linecap:round; stroke-linejoin:round; stroke-width:4; stroke-opacity:1; fill:none\" points=\"639.111,677.168 639.111,658.27 \"/>\n",
       "<path clip-path=\"url(#clip340)\" d=\"M219.347 722.833 L226.986 722.833 L226.986 696.467 L218.675 698.134 L218.675 693.875 L226.939 692.208 L231.615 692.208 L231.615 722.833 L239.254 722.833 L239.254 726.768 L219.347 726.768 L219.347 722.833 Z\" fill=\"#000000\" fill-rule=\"evenodd\" fill-opacity=\"1\" /><path clip-path=\"url(#clip340)\" d=\"M261.546 696.282 L249.74 714.731 L261.546 714.731 L261.546 696.282 M260.319 692.208 L266.198 692.208 L266.198 714.731 L271.129 714.731 L271.129 718.62 L266.198 718.62 L266.198 726.768 L261.546 726.768 L261.546 718.62 L245.944 718.62 L245.944 714.106 L260.319 692.208 Z\" fill=\"#000000\" fill-rule=\"evenodd\" fill-opacity=\"1\" /><path clip-path=\"url(#clip340)\" d=\"M278.86 720.888 L283.744 720.888 L283.744 726.768 L278.86 726.768 L278.86 720.888 Z\" fill=\"#000000\" fill-rule=\"evenodd\" fill-opacity=\"1\" /><path clip-path=\"url(#clip340)\" d=\"M293.976 692.208 L312.332 692.208 L312.332 696.143 L298.258 696.143 L298.258 704.615 Q299.277 704.268 300.295 704.106 Q301.314 703.921 302.332 703.921 Q308.119 703.921 311.499 707.092 Q314.879 710.263 314.879 715.68 Q314.879 721.259 311.406 724.36 Q307.934 727.439 301.615 727.439 Q299.439 727.439 297.17 727.069 Q294.925 726.698 292.518 725.958 L292.518 721.259 Q294.601 722.393 296.823 722.948 Q299.045 723.504 301.522 723.504 Q305.527 723.504 307.865 721.398 Q310.203 719.291 310.203 715.68 Q310.203 712.069 307.865 709.962 Q305.527 707.856 301.522 707.856 Q299.647 707.856 297.772 708.273 Q295.92 708.689 293.976 709.569 L293.976 692.208 Z\" fill=\"#000000\" fill-rule=\"evenodd\" fill-opacity=\"1\" /><path clip-path=\"url(#clip340)\" d=\"M334.091 695.287 Q330.48 695.287 328.652 698.851 Q326.846 702.393 326.846 709.523 Q326.846 716.629 328.652 720.194 Q330.48 723.735 334.091 723.735 Q337.726 723.735 339.531 720.194 Q341.36 716.629 341.36 709.523 Q341.36 702.393 339.531 698.851 Q337.726 695.287 334.091 695.287 M334.091 691.583 Q339.902 691.583 342.957 696.189 Q346.036 700.773 346.036 709.523 Q346.036 718.249 342.957 722.856 Q339.902 727.439 334.091 727.439 Q328.281 727.439 325.203 722.856 Q322.147 718.249 322.147 709.523 Q322.147 700.773 325.203 696.189 Q328.281 691.583 334.091 691.583 Z\" fill=\"#000000\" fill-rule=\"evenodd\" fill-opacity=\"1\" /><path clip-path=\"url(#clip340)\" d=\"M338.763 722.833 L346.402 722.833 L346.402 696.467 L338.091 698.134 L338.091 693.875 L346.355 692.208 L351.031 692.208 L351.031 722.833 L358.67 722.833 L358.67 726.768 L338.763 726.768 L338.763 722.833 Z\" fill=\"#000000\" fill-rule=\"evenodd\" fill-opacity=\"1\" /><path clip-path=\"url(#clip340)\" d=\"M380.962 696.282 L369.156 714.731 L380.962 714.731 L380.962 696.282 M379.735 692.208 L385.614 692.208 L385.614 714.731 L390.545 714.731 L390.545 718.62 L385.614 718.62 L385.614 726.768 L380.962 726.768 L380.962 718.62 L365.36 718.62 L365.36 714.106 L379.735 692.208 Z\" fill=\"#000000\" fill-rule=\"evenodd\" fill-opacity=\"1\" /><path clip-path=\"url(#clip340)\" d=\"M398.276 720.888 L403.16 720.888 L403.16 726.768 L398.276 726.768 L398.276 720.888 Z\" fill=\"#000000\" fill-rule=\"evenodd\" fill-opacity=\"1\" /><path clip-path=\"url(#clip340)\" d=\"M412.165 692.208 L434.387 692.208 L434.387 694.199 L421.841 726.768 L416.957 726.768 L428.762 696.143 L412.165 696.143 L412.165 692.208 Z\" fill=\"#000000\" fill-rule=\"evenodd\" fill-opacity=\"1\" /><path clip-path=\"url(#clip340)\" d=\"M443.554 692.208 L461.91 692.208 L461.91 696.143 L447.836 696.143 L447.836 704.615 Q448.855 704.268 449.873 704.106 Q450.892 703.921 451.91 703.921 Q457.697 703.921 461.077 707.092 Q464.456 710.263 464.456 715.68 Q464.456 721.259 460.984 724.36 Q457.512 727.439 451.193 727.439 Q449.017 727.439 446.748 727.069 Q444.503 726.698 442.095 725.958 L442.095 721.259 Q444.179 722.393 446.401 722.948 Q448.623 723.504 451.1 723.504 Q455.105 723.504 457.443 721.398 Q459.781 719.291 459.781 715.68 Q459.781 712.069 457.443 709.962 Q455.105 707.856 451.1 707.856 Q449.225 707.856 447.35 708.273 Q445.498 708.689 443.554 709.569 L443.554 692.208 Z\" fill=\"#000000\" fill-rule=\"evenodd\" fill-opacity=\"1\" /><path clip-path=\"url(#clip340)\" d=\"M457.183 722.833 L464.822 722.833 L464.822 696.467 L456.512 698.134 L456.512 693.875 L464.776 692.208 L469.452 692.208 L469.452 722.833 L477.091 722.833 L477.091 726.768 L457.183 726.768 L457.183 722.833 Z\" fill=\"#000000\" fill-rule=\"evenodd\" fill-opacity=\"1\" /><path clip-path=\"url(#clip340)\" d=\"M486.581 692.208 L504.938 692.208 L504.938 696.143 L490.864 696.143 L490.864 704.615 Q491.882 704.268 492.901 704.106 Q493.919 703.921 494.938 703.921 Q500.725 703.921 504.104 707.092 Q507.484 710.263 507.484 715.68 Q507.484 721.259 504.012 724.36 Q500.54 727.439 494.22 727.439 Q492.044 727.439 489.776 727.069 Q487.53 726.698 485.123 725.958 L485.123 721.259 Q487.206 722.393 489.428 722.948 Q491.651 723.504 494.128 723.504 Q498.132 723.504 500.47 721.398 Q502.808 719.291 502.808 715.68 Q502.808 712.069 500.47 709.962 Q498.132 707.856 494.128 707.856 Q492.253 707.856 490.378 708.273 Q488.526 708.689 486.581 709.569 L486.581 692.208 Z\" fill=\"#000000\" fill-rule=\"evenodd\" fill-opacity=\"1\" /><path clip-path=\"url(#clip340)\" d=\"M516.697 720.888 L521.581 720.888 L521.581 726.768 L516.697 726.768 L516.697 720.888 Z\" fill=\"#000000\" fill-rule=\"evenodd\" fill-opacity=\"1\" /><path clip-path=\"url(#clip340)\" d=\"M541.766 695.287 Q538.155 695.287 536.326 698.851 Q534.521 702.393 534.521 709.523 Q534.521 716.629 536.326 720.194 Q538.155 723.735 541.766 723.735 Q545.4 723.735 547.206 720.194 Q549.035 716.629 549.035 709.523 Q549.035 702.393 547.206 698.851 Q545.4 695.287 541.766 695.287 M541.766 691.583 Q547.576 691.583 550.632 696.189 Q553.711 700.773 553.711 709.523 Q553.711 718.249 550.632 722.856 Q547.576 727.439 541.766 727.439 Q535.956 727.439 532.877 722.856 Q529.822 718.249 529.822 709.523 Q529.822 700.773 532.877 696.189 Q535.956 691.583 541.766 691.583 Z\" fill=\"#000000\" fill-rule=\"evenodd\" fill-opacity=\"1\" /><path clip-path=\"url(#clip340)\" d=\"M571.928 695.287 Q568.317 695.287 566.488 698.851 Q564.683 702.393 564.683 709.523 Q564.683 716.629 566.488 720.194 Q568.317 723.735 571.928 723.735 Q575.562 723.735 577.368 720.194 Q579.197 716.629 579.197 709.523 Q579.197 702.393 577.368 698.851 Q575.562 695.287 571.928 695.287 M571.928 691.583 Q577.738 691.583 580.794 696.189 Q583.872 700.773 583.872 709.523 Q583.872 718.249 580.794 722.856 Q577.738 727.439 571.928 727.439 Q566.118 727.439 563.039 722.856 Q559.984 718.249 559.984 709.523 Q559.984 700.773 563.039 696.189 Q566.118 691.583 571.928 691.583 Z\" fill=\"#000000\" fill-rule=\"evenodd\" fill-opacity=\"1\" /><path clip-path=\"url(#clip340)\" d=\"M576.599 722.833 L584.238 722.833 L584.238 696.467 L575.928 698.134 L575.928 693.875 L584.192 692.208 L588.868 692.208 L588.868 722.833 L596.507 722.833 L596.507 726.768 L576.599 726.768 L576.599 722.833 Z\" fill=\"#000000\" fill-rule=\"evenodd\" fill-opacity=\"1\" /><path clip-path=\"url(#clip340)\" d=\"M605.997 692.208 L624.354 692.208 L624.354 696.143 L610.28 696.143 L610.28 704.615 Q611.298 704.268 612.317 704.106 Q613.335 703.921 614.354 703.921 Q620.141 703.921 623.52 707.092 Q626.9 710.263 626.9 715.68 Q626.9 721.259 623.428 724.36 Q619.956 727.439 613.636 727.439 Q611.46 727.439 609.192 727.069 Q606.946 726.698 604.539 725.958 L604.539 721.259 Q606.622 722.393 608.844 722.948 Q611.067 723.504 613.544 723.504 Q617.548 723.504 619.886 721.398 Q622.224 719.291 622.224 715.68 Q622.224 712.069 619.886 709.962 Q617.548 707.856 613.544 707.856 Q611.669 707.856 609.794 708.273 Q607.942 708.689 605.997 709.569 L605.997 692.208 Z\" fill=\"#000000\" fill-rule=\"evenodd\" fill-opacity=\"1\" /><path clip-path=\"url(#clip340)\" d=\"M636.113 720.888 L640.997 720.888 L640.997 726.768 L636.113 726.768 L636.113 720.888 Z\" fill=\"#000000\" fill-rule=\"evenodd\" fill-opacity=\"1\" /><path clip-path=\"url(#clip340)\" d=\"M655.21 722.833 L671.529 722.833 L671.529 726.768 L649.585 726.768 L649.585 722.833 Q652.247 720.078 656.83 715.448 Q661.437 710.796 662.617 709.453 Q664.863 706.93 665.742 705.194 Q666.645 703.435 666.645 701.745 Q666.645 698.99 664.701 697.254 Q662.779 695.518 659.678 695.518 Q657.478 695.518 655.025 696.282 Q652.594 697.046 649.816 698.597 L649.816 693.875 Q652.641 692.74 655.094 692.162 Q657.548 691.583 659.585 691.583 Q664.955 691.583 668.15 694.268 Q671.344 696.953 671.344 701.444 Q671.344 703.574 670.534 705.495 Q669.747 707.393 667.64 709.986 Q667.062 710.657 663.96 713.874 Q660.858 717.069 655.21 722.833 Z\" fill=\"#000000\" fill-rule=\"evenodd\" fill-opacity=\"1\" /><path clip-path=\"url(#clip340)\" d=\"M681.39 692.208 L699.747 692.208 L699.747 696.143 L685.673 696.143 L685.673 704.615 Q686.691 704.268 687.71 704.106 Q688.728 703.921 689.747 703.921 Q695.534 703.921 698.913 707.092 Q702.293 710.263 702.293 715.68 Q702.293 721.259 698.821 724.36 Q695.349 727.439 689.029 727.439 Q686.853 727.439 684.585 727.069 Q682.339 726.698 679.932 725.958 L679.932 721.259 Q682.015 722.393 684.238 722.948 Q686.46 723.504 688.937 723.504 Q692.941 723.504 695.279 721.398 Q697.617 719.291 697.617 715.68 Q697.617 712.069 695.279 709.962 Q692.941 707.856 688.937 707.856 Q687.062 707.856 685.187 708.273 Q683.335 708.689 681.39 709.569 L681.39 692.208 Z\" fill=\"#000000\" fill-rule=\"evenodd\" fill-opacity=\"1\" /><polyline clip-path=\"url(#clip342)\" style=\"stroke:#000000; stroke-linecap:round; stroke-linejoin:round; stroke-width:2; stroke-opacity:0.1; fill:none\" points=\"198.353,560.709 752.756,560.709 \"/>\n",
       "<polyline clip-path=\"url(#clip342)\" style=\"stroke:#000000; stroke-linecap:round; stroke-linejoin:round; stroke-width:2; stroke-opacity:0.1; fill:none\" points=\"198.353,422.453 752.756,422.453 \"/>\n",
       "<polyline clip-path=\"url(#clip342)\" style=\"stroke:#000000; stroke-linecap:round; stroke-linejoin:round; stroke-width:2; stroke-opacity:0.1; fill:none\" points=\"198.353,284.196 752.756,284.196 \"/>\n",
       "<polyline clip-path=\"url(#clip342)\" style=\"stroke:#000000; stroke-linecap:round; stroke-linejoin:round; stroke-width:2; stroke-opacity:0.1; fill:none\" points=\"198.353,145.94 752.756,145.94 \"/>\n",
       "<polyline clip-path=\"url(#clip340)\" style=\"stroke:#000000; stroke-linecap:round; stroke-linejoin:round; stroke-width:4; stroke-opacity:1; fill:none\" points=\"198.353,677.168 198.353,47.2441 \"/>\n",
       "<polyline clip-path=\"url(#clip340)\" style=\"stroke:#000000; stroke-linecap:round; stroke-linejoin:round; stroke-width:4; stroke-opacity:1; fill:none\" points=\"198.353,560.709 217.25,560.709 \"/>\n",
       "<polyline clip-path=\"url(#clip340)\" style=\"stroke:#000000; stroke-linecap:round; stroke-linejoin:round; stroke-width:4; stroke-opacity:1; fill:none\" points=\"198.353,422.453 217.25,422.453 \"/>\n",
       "<polyline clip-path=\"url(#clip340)\" style=\"stroke:#000000; stroke-linecap:round; stroke-linejoin:round; stroke-width:4; stroke-opacity:1; fill:none\" points=\"198.353,284.196 217.25,284.196 \"/>\n",
       "<polyline clip-path=\"url(#clip340)\" style=\"stroke:#000000; stroke-linecap:round; stroke-linejoin:round; stroke-width:4; stroke-opacity:1; fill:none\" points=\"198.353,145.94 217.25,145.94 \"/>\n",
       "<path clip-path=\"url(#clip340)\" d=\"M59.6634 574.054 L67.3023 574.054 L67.3023 547.688 L58.9921 549.355 L58.9921 545.095 L67.256 543.429 L71.9319 543.429 L71.9319 574.054 L79.5707 574.054 L79.5707 577.989 L59.6634 577.989 L59.6634 574.054 Z\" fill=\"#000000\" fill-rule=\"evenodd\" fill-opacity=\"1\" /><path clip-path=\"url(#clip340)\" d=\"M101.862 547.503 L90.0568 565.952 L101.862 565.952 L101.862 547.503 M100.635 543.429 L106.515 543.429 L106.515 565.952 L111.446 565.952 L111.446 569.841 L106.515 569.841 L106.515 577.989 L101.862 577.989 L101.862 569.841 L86.2605 569.841 L86.2605 565.327 L100.635 543.429 Z\" fill=\"#000000\" fill-rule=\"evenodd\" fill-opacity=\"1\" /><path clip-path=\"url(#clip340)\" d=\"M119.177 572.109 L124.061 572.109 L124.061 577.989 L119.177 577.989 L119.177 572.109 Z\" fill=\"#000000\" fill-rule=\"evenodd\" fill-opacity=\"1\" /><path clip-path=\"url(#clip340)\" d=\"M144.246 546.507 Q140.635 546.507 138.807 550.072 Q137.001 553.614 137.001 560.743 Q137.001 567.85 138.807 571.415 Q140.635 574.956 144.246 574.956 Q147.881 574.956 149.686 571.415 Q151.515 567.85 151.515 560.743 Q151.515 553.614 149.686 550.072 Q147.881 546.507 144.246 546.507 M144.246 542.804 Q150.056 542.804 153.112 547.41 Q156.191 551.994 156.191 560.743 Q156.191 569.47 153.112 574.077 Q150.056 578.66 144.246 578.66 Q138.436 578.66 135.357 574.077 Q132.302 569.47 132.302 560.743 Q132.302 551.994 135.357 547.41 Q138.436 542.804 144.246 542.804 Z\" fill=\"#000000\" fill-rule=\"evenodd\" fill-opacity=\"1\" /><path clip-path=\"url(#clip340)\" d=\"M174.408 546.507 Q170.797 546.507 168.968 550.072 Q167.163 553.614 167.163 560.743 Q167.163 567.85 168.968 571.415 Q170.797 574.956 174.408 574.956 Q178.042 574.956 179.848 571.415 Q181.677 567.85 181.677 560.743 Q181.677 553.614 179.848 550.072 Q178.042 546.507 174.408 546.507 M174.408 542.804 Q180.218 542.804 183.274 547.41 Q186.353 551.994 186.353 560.743 Q186.353 569.47 183.274 574.077 Q180.218 578.66 174.408 578.66 Q168.598 578.66 165.519 574.077 Q162.464 569.47 162.464 560.743 Q162.464 551.994 165.519 547.41 Q168.598 542.804 174.408 542.804 Z\" fill=\"#000000\" fill-rule=\"evenodd\" fill-opacity=\"1\" /><path clip-path=\"url(#clip340)\" d=\"M60.6588 435.797 L68.2976 435.797 L68.2976 409.432 L59.9875 411.098 L59.9875 406.839 L68.2513 405.173 L72.9272 405.173 L72.9272 435.797 L80.5661 435.797 L80.5661 439.733 L60.6588 439.733 L60.6588 435.797 Z\" fill=\"#000000\" fill-rule=\"evenodd\" fill-opacity=\"1\" /><path clip-path=\"url(#clip340)\" d=\"M102.858 409.247 L91.0521 427.696 L102.858 427.696 L102.858 409.247 M101.631 405.173 L107.51 405.173 L107.51 427.696 L112.441 427.696 L112.441 431.584 L107.51 431.584 L107.51 439.733 L102.858 439.733 L102.858 431.584 L87.2559 431.584 L87.2559 427.071 L101.631 405.173 Z\" fill=\"#000000\" fill-rule=\"evenodd\" fill-opacity=\"1\" /><path clip-path=\"url(#clip340)\" d=\"M120.172 433.853 L125.057 433.853 L125.057 439.733 L120.172 439.733 L120.172 433.853 Z\" fill=\"#000000\" fill-rule=\"evenodd\" fill-opacity=\"1\" /><path clip-path=\"url(#clip340)\" d=\"M139.269 435.797 L155.589 435.797 L155.589 439.733 L133.645 439.733 L133.645 435.797 Q136.307 433.043 140.89 428.413 Q145.496 423.76 146.677 422.418 Q148.922 419.895 149.802 418.159 Q150.705 416.399 150.705 414.709 Q150.705 411.955 148.76 410.219 Q146.839 408.483 143.737 408.483 Q141.538 408.483 139.084 409.247 Q136.654 410.01 133.876 411.561 L133.876 406.839 Q136.7 405.705 139.154 405.126 Q141.607 404.548 143.644 404.548 Q149.015 404.548 152.209 407.233 Q155.404 409.918 155.404 414.409 Q155.404 416.538 154.593 418.459 Q153.806 420.358 151.7 422.95 Q151.121 423.621 148.019 426.839 Q144.918 430.033 139.269 435.797 Z\" fill=\"#000000\" fill-rule=\"evenodd\" fill-opacity=\"1\" /><path clip-path=\"url(#clip340)\" d=\"M165.45 405.173 L183.806 405.173 L183.806 409.108 L169.732 409.108 L169.732 417.58 Q170.751 417.233 171.769 417.071 Q172.788 416.885 173.806 416.885 Q179.593 416.885 182.973 420.057 Q186.353 423.228 186.353 428.645 Q186.353 434.223 182.88 437.325 Q179.408 440.404 173.089 440.404 Q170.913 440.404 168.644 440.033 Q166.399 439.663 163.992 438.922 L163.992 434.223 Q166.075 435.358 168.297 435.913 Q170.519 436.469 172.996 436.469 Q177.001 436.469 179.339 434.362 Q181.677 432.256 181.677 428.645 Q181.677 425.034 179.339 422.927 Q177.001 420.821 172.996 420.821 Q171.121 420.821 169.246 421.237 Q167.394 421.654 165.45 422.534 L165.45 405.173 Z\" fill=\"#000000\" fill-rule=\"evenodd\" fill-opacity=\"1\" /><path clip-path=\"url(#clip340)\" d=\"M59.6634 297.541 L67.3023 297.541 L67.3023 271.176 L58.9921 272.842 L58.9921 268.583 L67.256 266.916 L71.9319 266.916 L71.9319 297.541 L79.5707 297.541 L79.5707 301.476 L59.6634 301.476 L59.6634 297.541 Z\" fill=\"#000000\" fill-rule=\"evenodd\" fill-opacity=\"1\" /><path clip-path=\"url(#clip340)\" d=\"M101.862 270.99 L90.0568 289.439 L101.862 289.439 L101.862 270.99 M100.635 266.916 L106.515 266.916 L106.515 289.439 L111.446 289.439 L111.446 293.328 L106.515 293.328 L106.515 301.476 L101.862 301.476 L101.862 293.328 L86.2605 293.328 L86.2605 288.814 L100.635 266.916 Z\" fill=\"#000000\" fill-rule=\"evenodd\" fill-opacity=\"1\" /><path clip-path=\"url(#clip340)\" d=\"M119.177 295.597 L124.061 295.597 L124.061 301.476 L119.177 301.476 L119.177 295.597 Z\" fill=\"#000000\" fill-rule=\"evenodd\" fill-opacity=\"1\" /><path clip-path=\"url(#clip340)\" d=\"M134.293 266.916 L152.649 266.916 L152.649 270.851 L138.575 270.851 L138.575 279.324 Q139.594 278.976 140.612 278.814 Q141.631 278.629 142.649 278.629 Q148.436 278.629 151.816 281.8 Q155.195 284.972 155.195 290.388 Q155.195 295.967 151.723 299.069 Q148.251 302.148 141.931 302.148 Q139.756 302.148 137.487 301.777 Q135.242 301.407 132.834 300.666 L132.834 295.967 Q134.918 297.101 137.14 297.657 Q139.362 298.212 141.839 298.212 Q145.844 298.212 148.181 296.106 Q150.519 293.999 150.519 290.388 Q150.519 286.777 148.181 284.671 Q145.844 282.564 141.839 282.564 Q139.964 282.564 138.089 282.981 Q136.237 283.398 134.293 284.277 L134.293 266.916 Z\" fill=\"#000000\" fill-rule=\"evenodd\" fill-opacity=\"1\" /><path clip-path=\"url(#clip340)\" d=\"M174.408 269.995 Q170.797 269.995 168.968 273.56 Q167.163 277.101 167.163 284.231 Q167.163 291.337 168.968 294.902 Q170.797 298.444 174.408 298.444 Q178.042 298.444 179.848 294.902 Q181.677 291.337 181.677 284.231 Q181.677 277.101 179.848 273.56 Q178.042 269.995 174.408 269.995 M174.408 266.291 Q180.218 266.291 183.274 270.898 Q186.353 275.481 186.353 284.231 Q186.353 292.958 183.274 297.564 Q180.218 302.148 174.408 302.148 Q168.598 302.148 165.519 297.564 Q162.464 292.958 162.464 284.231 Q162.464 275.481 165.519 270.898 Q168.598 266.291 174.408 266.291 Z\" fill=\"#000000\" fill-rule=\"evenodd\" fill-opacity=\"1\" /><path clip-path=\"url(#clip340)\" d=\"M60.6588 159.285 L68.2976 159.285 L68.2976 132.919 L59.9875 134.586 L59.9875 130.327 L68.2513 128.66 L72.9272 128.66 L72.9272 159.285 L80.5661 159.285 L80.5661 163.22 L60.6588 163.22 L60.6588 159.285 Z\" fill=\"#000000\" fill-rule=\"evenodd\" fill-opacity=\"1\" /><path clip-path=\"url(#clip340)\" d=\"M102.858 132.734 L91.0521 151.183 L102.858 151.183 L102.858 132.734 M101.631 128.66 L107.51 128.66 L107.51 151.183 L112.441 151.183 L112.441 155.072 L107.51 155.072 L107.51 163.22 L102.858 163.22 L102.858 155.072 L87.2559 155.072 L87.2559 150.558 L101.631 128.66 Z\" fill=\"#000000\" fill-rule=\"evenodd\" fill-opacity=\"1\" /><path clip-path=\"url(#clip340)\" d=\"M120.172 157.34 L125.057 157.34 L125.057 163.22 L120.172 163.22 L120.172 157.34 Z\" fill=\"#000000\" fill-rule=\"evenodd\" fill-opacity=\"1\" /><path clip-path=\"url(#clip340)\" d=\"M134.061 128.66 L156.283 128.66 L156.283 130.651 L143.737 163.22 L138.853 163.22 L150.658 132.595 L134.061 132.595 L134.061 128.66 Z\" fill=\"#000000\" fill-rule=\"evenodd\" fill-opacity=\"1\" /><path clip-path=\"url(#clip340)\" d=\"M165.45 128.66 L183.806 128.66 L183.806 132.595 L169.732 132.595 L169.732 141.067 Q170.751 140.72 171.769 140.558 Q172.788 140.373 173.806 140.373 Q179.593 140.373 182.973 143.544 Q186.353 146.715 186.353 152.132 Q186.353 157.711 182.88 160.813 Q179.408 163.891 173.089 163.891 Q170.913 163.891 168.644 163.521 Q166.399 163.151 163.992 162.41 L163.992 157.711 Q166.075 158.845 168.297 159.401 Q170.519 159.956 172.996 159.956 Q177.001 159.956 179.339 157.85 Q181.677 155.743 181.677 152.132 Q181.677 148.521 179.339 146.415 Q177.001 144.308 172.996 144.308 Q171.121 144.308 169.246 144.725 Q167.394 145.141 165.45 146.021 L165.45 128.66 Z\" fill=\"#000000\" fill-rule=\"evenodd\" fill-opacity=\"1\" /><polyline clip-path=\"url(#clip342)\" style=\"stroke:#0000ff; stroke-linecap:round; stroke-linejoin:round; stroke-width:4; stroke-opacity:1; fill:none\" points=\"261.392,627.23 214.478,618.097 \"/>\n",
       "<polyline clip-path=\"url(#clip342)\" style=\"stroke:#0000ff; stroke-linecap:round; stroke-linejoin:round; stroke-width:4; stroke-opacity:1; fill:none\" points=\"419.95,627.23 373.036,618.097 \"/>\n",
       "<polyline clip-path=\"url(#clip342)\" style=\"stroke:#0000ff; stroke-linecap:round; stroke-linejoin:round; stroke-width:4; stroke-opacity:1; fill:none\" points=\"578.507,627.23 531.593,618.097 \"/>\n",
       "<polyline clip-path=\"url(#clip342)\" style=\"stroke:#0000ff; stroke-linecap:round; stroke-linejoin:round; stroke-width:4; stroke-opacity:1; fill:none\" points=\"737.065,627.23 690.151,618.097 \"/>\n",
       "<polyline clip-path=\"url(#clip342)\" style=\"stroke:#0000ff; stroke-linecap:round; stroke-linejoin:round; stroke-width:4; stroke-opacity:1; fill:none\" points=\"261.392,442.888 214.478,433.755 \"/>\n",
       "<polyline clip-path=\"url(#clip342)\" style=\"stroke:#0000ff; stroke-linecap:round; stroke-linejoin:round; stroke-width:4; stroke-opacity:1; fill:none\" points=\"419.95,442.888 373.036,433.755 \"/>\n",
       "<polyline clip-path=\"url(#clip342)\" style=\"stroke:#0000ff; stroke-linecap:round; stroke-linejoin:round; stroke-width:4; stroke-opacity:1; fill:none\" points=\"578.507,442.888 531.593,433.755 \"/>\n",
       "<polyline clip-path=\"url(#clip342)\" style=\"stroke:#0000ff; stroke-linecap:round; stroke-linejoin:round; stroke-width:4; stroke-opacity:1; fill:none\" points=\"737.065,442.888 690.151,433.755 \"/>\n",
       "<polyline clip-path=\"url(#clip342)\" style=\"stroke:#0000ff; stroke-linecap:round; stroke-linejoin:round; stroke-width:4; stroke-opacity:1; fill:none\" points=\"261.392,258.546 214.478,249.414 \"/>\n",
       "<polyline clip-path=\"url(#clip342)\" style=\"stroke:#0000ff; stroke-linecap:round; stroke-linejoin:round; stroke-width:4; stroke-opacity:1; fill:none\" points=\"419.95,258.546 373.036,249.414 \"/>\n",
       "<polyline clip-path=\"url(#clip342)\" style=\"stroke:#0000ff; stroke-linecap:round; stroke-linejoin:round; stroke-width:4; stroke-opacity:1; fill:none\" points=\"578.507,258.546 531.593,249.414 \"/>\n",
       "<polyline clip-path=\"url(#clip342)\" style=\"stroke:#0000ff; stroke-linecap:round; stroke-linejoin:round; stroke-width:4; stroke-opacity:1; fill:none\" points=\"737.065,258.546 690.151,249.414 \"/>\n",
       "<polyline clip-path=\"url(#clip342)\" style=\"stroke:#0000ff; stroke-linecap:round; stroke-linejoin:round; stroke-width:4; stroke-opacity:1; fill:none\" points=\"261.392,74.2048 214.478,65.0721 \"/>\n",
       "<polyline clip-path=\"url(#clip342)\" style=\"stroke:#0000ff; stroke-linecap:round; stroke-linejoin:round; stroke-width:4; stroke-opacity:1; fill:none\" points=\"419.95,74.2048 373.036,65.0721 \"/>\n",
       "<polyline clip-path=\"url(#clip342)\" style=\"stroke:#0000ff; stroke-linecap:round; stroke-linejoin:round; stroke-width:4; stroke-opacity:1; fill:none\" points=\"578.507,74.2048 531.593,65.0721 \"/>\n",
       "<polyline clip-path=\"url(#clip342)\" style=\"stroke:#0000ff; stroke-linecap:round; stroke-linejoin:round; stroke-width:4; stroke-opacity:1; fill:none\" points=\"737.065,74.2048 690.151,65.0721 \"/>\n",
       "<polyline clip-path=\"url(#clip342)\" style=\"stroke:#0000ff; stroke-linecap:round; stroke-linejoin:round; stroke-width:4; stroke-opacity:1; fill:none\" points=\"261.392,627.23 214.043,632.525 \"/>\n",
       "<polyline clip-path=\"url(#clip342)\" style=\"stroke:#0000ff; stroke-linecap:round; stroke-linejoin:round; stroke-width:4; stroke-opacity:1; fill:none\" points=\"419.95,627.23 372.601,632.525 \"/>\n",
       "<polyline clip-path=\"url(#clip342)\" style=\"stroke:#0000ff; stroke-linecap:round; stroke-linejoin:round; stroke-width:4; stroke-opacity:1; fill:none\" points=\"578.507,627.23 531.159,632.525 \"/>\n",
       "<polyline clip-path=\"url(#clip342)\" style=\"stroke:#0000ff; stroke-linecap:round; stroke-linejoin:round; stroke-width:4; stroke-opacity:1; fill:none\" points=\"737.065,627.23 689.716,632.525 \"/>\n",
       "<polyline clip-path=\"url(#clip342)\" style=\"stroke:#0000ff; stroke-linecap:round; stroke-linejoin:round; stroke-width:4; stroke-opacity:1; fill:none\" points=\"261.392,442.888 214.043,448.183 \"/>\n",
       "<polyline clip-path=\"url(#clip342)\" style=\"stroke:#0000ff; stroke-linecap:round; stroke-linejoin:round; stroke-width:4; stroke-opacity:1; fill:none\" points=\"419.95,442.888 372.601,448.183 \"/>\n",
       "<polyline clip-path=\"url(#clip342)\" style=\"stroke:#0000ff; stroke-linecap:round; stroke-linejoin:round; stroke-width:4; stroke-opacity:1; fill:none\" points=\"578.507,442.888 531.159,448.183 \"/>\n",
       "<polyline clip-path=\"url(#clip342)\" style=\"stroke:#0000ff; stroke-linecap:round; stroke-linejoin:round; stroke-width:4; stroke-opacity:1; fill:none\" points=\"737.065,442.888 689.716,448.183 \"/>\n",
       "<polyline clip-path=\"url(#clip342)\" style=\"stroke:#0000ff; stroke-linecap:round; stroke-linejoin:round; stroke-width:4; stroke-opacity:1; fill:none\" points=\"261.392,258.546 214.043,263.842 \"/>\n",
       "<polyline clip-path=\"url(#clip342)\" style=\"stroke:#0000ff; stroke-linecap:round; stroke-linejoin:round; stroke-width:4; stroke-opacity:1; fill:none\" points=\"419.95,258.546 372.601,263.842 \"/>\n",
       "<polyline clip-path=\"url(#clip342)\" style=\"stroke:#0000ff; stroke-linecap:round; stroke-linejoin:round; stroke-width:4; stroke-opacity:1; fill:none\" points=\"578.507,258.546 531.159,263.842 \"/>\n",
       "<polyline clip-path=\"url(#clip342)\" style=\"stroke:#0000ff; stroke-linecap:round; stroke-linejoin:round; stroke-width:4; stroke-opacity:1; fill:none\" points=\"737.065,258.546 689.716,263.842 \"/>\n",
       "<polyline clip-path=\"url(#clip342)\" style=\"stroke:#0000ff; stroke-linecap:round; stroke-linejoin:round; stroke-width:4; stroke-opacity:1; fill:none\" points=\"261.392,74.2048 214.043,79.5001 \"/>\n",
       "<polyline clip-path=\"url(#clip342)\" style=\"stroke:#0000ff; stroke-linecap:round; stroke-linejoin:round; stroke-width:4; stroke-opacity:1; fill:none\" points=\"419.95,74.2048 372.601,79.5001 \"/>\n",
       "<polyline clip-path=\"url(#clip342)\" style=\"stroke:#0000ff; stroke-linecap:round; stroke-linejoin:round; stroke-width:4; stroke-opacity:1; fill:none\" points=\"578.507,74.2048 531.159,79.5001 \"/>\n",
       "<polyline clip-path=\"url(#clip342)\" style=\"stroke:#0000ff; stroke-linecap:round; stroke-linejoin:round; stroke-width:4; stroke-opacity:1; fill:none\" points=\"737.065,74.2048 689.716,79.5001 \"/>\n",
       "<polyline clip-path=\"url(#clip342)\" style=\"stroke:#0000ff; stroke-linecap:round; stroke-linejoin:round; stroke-width:4; stroke-opacity:1; fill:none\" points=\"261.392,627.23 216.835,646.592 \"/>\n",
       "<polyline clip-path=\"url(#clip342)\" style=\"stroke:#0000ff; stroke-linecap:round; stroke-linejoin:round; stroke-width:4; stroke-opacity:1; fill:none\" points=\"419.95,627.23 375.393,646.592 \"/>\n",
       "<polyline clip-path=\"url(#clip342)\" style=\"stroke:#0000ff; stroke-linecap:round; stroke-linejoin:round; stroke-width:4; stroke-opacity:1; fill:none\" points=\"578.507,627.23 533.951,646.592 \"/>\n",
       "<polyline clip-path=\"url(#clip342)\" style=\"stroke:#0000ff; stroke-linecap:round; stroke-linejoin:round; stroke-width:4; stroke-opacity:1; fill:none\" points=\"737.065,627.23 692.509,646.592 \"/>\n",
       "<polyline clip-path=\"url(#clip342)\" style=\"stroke:#0000ff; stroke-linecap:round; stroke-linejoin:round; stroke-width:4; stroke-opacity:1; fill:none\" points=\"261.392,442.888 216.835,462.251 \"/>\n",
       "<polyline clip-path=\"url(#clip342)\" style=\"stroke:#0000ff; stroke-linecap:round; stroke-linejoin:round; stroke-width:4; stroke-opacity:1; fill:none\" points=\"419.95,442.888 375.393,462.251 \"/>\n",
       "<polyline clip-path=\"url(#clip342)\" style=\"stroke:#0000ff; stroke-linecap:round; stroke-linejoin:round; stroke-width:4; stroke-opacity:1; fill:none\" points=\"578.507,442.888 533.951,462.251 \"/>\n",
       "<polyline clip-path=\"url(#clip342)\" style=\"stroke:#0000ff; stroke-linecap:round; stroke-linejoin:round; stroke-width:4; stroke-opacity:1; fill:none\" points=\"737.065,442.888 692.509,462.251 \"/>\n",
       "<polyline clip-path=\"url(#clip342)\" style=\"stroke:#0000ff; stroke-linecap:round; stroke-linejoin:round; stroke-width:4; stroke-opacity:1; fill:none\" points=\"261.392,258.546 216.835,277.909 \"/>\n",
       "<polyline clip-path=\"url(#clip342)\" style=\"stroke:#0000ff; stroke-linecap:round; stroke-linejoin:round; stroke-width:4; stroke-opacity:1; fill:none\" points=\"419.95,258.546 375.393,277.909 \"/>\n",
       "<polyline clip-path=\"url(#clip342)\" style=\"stroke:#0000ff; stroke-linecap:round; stroke-linejoin:round; stroke-width:4; stroke-opacity:1; fill:none\" points=\"578.507,258.546 533.951,277.909 \"/>\n",
       "<polyline clip-path=\"url(#clip342)\" style=\"stroke:#0000ff; stroke-linecap:round; stroke-linejoin:round; stroke-width:4; stroke-opacity:1; fill:none\" points=\"737.065,258.546 692.509,277.909 \"/>\n",
       "<polyline clip-path=\"url(#clip342)\" style=\"stroke:#0000ff; stroke-linecap:round; stroke-linejoin:round; stroke-width:4; stroke-opacity:1; fill:none\" points=\"261.392,74.2048 216.835,93.5673 \"/>\n",
       "<polyline clip-path=\"url(#clip342)\" style=\"stroke:#0000ff; stroke-linecap:round; stroke-linejoin:round; stroke-width:4; stroke-opacity:1; fill:none\" points=\"419.95,74.2048 375.393,93.5673 \"/>\n",
       "<polyline clip-path=\"url(#clip342)\" style=\"stroke:#0000ff; stroke-linecap:round; stroke-linejoin:round; stroke-width:4; stroke-opacity:1; fill:none\" points=\"578.507,74.2048 533.951,93.5673 \"/>\n",
       "<polyline clip-path=\"url(#clip342)\" style=\"stroke:#0000ff; stroke-linecap:round; stroke-linejoin:round; stroke-width:4; stroke-opacity:1; fill:none\" points=\"737.065,74.2048 692.509,93.5673 \"/>\n",
       "<polyline clip-path=\"url(#clip342)\" style=\"stroke:#0000ff; stroke-linecap:round; stroke-linejoin:round; stroke-width:4; stroke-opacity:1; fill:none\" points=\"261.392,627.23 222.664,659.34 \"/>\n",
       "<polyline clip-path=\"url(#clip342)\" style=\"stroke:#0000ff; stroke-linecap:round; stroke-linejoin:round; stroke-width:4; stroke-opacity:1; fill:none\" points=\"419.95,627.23 381.222,659.34 \"/>\n",
       "<polyline clip-path=\"url(#clip342)\" style=\"stroke:#0000ff; stroke-linecap:round; stroke-linejoin:round; stroke-width:4; stroke-opacity:1; fill:none\" points=\"578.507,627.23 539.78,659.34 \"/>\n",
       "<polyline clip-path=\"url(#clip342)\" style=\"stroke:#0000ff; stroke-linecap:round; stroke-linejoin:round; stroke-width:4; stroke-opacity:1; fill:none\" points=\"737.065,627.23 698.337,659.34 \"/>\n",
       "<polyline clip-path=\"url(#clip342)\" style=\"stroke:#0000ff; stroke-linecap:round; stroke-linejoin:round; stroke-width:4; stroke-opacity:1; fill:none\" points=\"261.392,442.888 222.664,474.998 \"/>\n",
       "<polyline clip-path=\"url(#clip342)\" style=\"stroke:#0000ff; stroke-linecap:round; stroke-linejoin:round; stroke-width:4; stroke-opacity:1; fill:none\" points=\"419.95,442.888 381.222,474.998 \"/>\n",
       "<polyline clip-path=\"url(#clip342)\" style=\"stroke:#0000ff; stroke-linecap:round; stroke-linejoin:round; stroke-width:4; stroke-opacity:1; fill:none\" points=\"578.507,442.888 539.78,474.998 \"/>\n",
       "<polyline clip-path=\"url(#clip342)\" style=\"stroke:#0000ff; stroke-linecap:round; stroke-linejoin:round; stroke-width:4; stroke-opacity:1; fill:none\" points=\"737.065,442.888 698.337,474.998 \"/>\n",
       "<polyline clip-path=\"url(#clip342)\" style=\"stroke:#0000ff; stroke-linecap:round; stroke-linejoin:round; stroke-width:4; stroke-opacity:1; fill:none\" points=\"261.392,258.546 222.664,290.657 \"/>\n",
       "<polyline clip-path=\"url(#clip342)\" style=\"stroke:#0000ff; stroke-linecap:round; stroke-linejoin:round; stroke-width:4; stroke-opacity:1; fill:none\" points=\"419.95,258.546 381.222,290.657 \"/>\n",
       "<polyline clip-path=\"url(#clip342)\" style=\"stroke:#0000ff; stroke-linecap:round; stroke-linejoin:round; stroke-width:4; stroke-opacity:1; fill:none\" points=\"578.507,258.546 539.78,290.657 \"/>\n",
       "<polyline clip-path=\"url(#clip342)\" style=\"stroke:#0000ff; stroke-linecap:round; stroke-linejoin:round; stroke-width:4; stroke-opacity:1; fill:none\" points=\"737.065,258.546 698.337,290.657 \"/>\n",
       "<polyline clip-path=\"url(#clip342)\" style=\"stroke:#0000ff; stroke-linecap:round; stroke-linejoin:round; stroke-width:4; stroke-opacity:1; fill:none\" points=\"261.392,74.2048 222.664,106.315 \"/>\n",
       "<polyline clip-path=\"url(#clip342)\" style=\"stroke:#0000ff; stroke-linecap:round; stroke-linejoin:round; stroke-width:4; stroke-opacity:1; fill:none\" points=\"419.95,74.2048 381.222,106.315 \"/>\n",
       "<polyline clip-path=\"url(#clip342)\" style=\"stroke:#0000ff; stroke-linecap:round; stroke-linejoin:round; stroke-width:4; stroke-opacity:1; fill:none\" points=\"578.507,74.2048 539.78,106.315 \"/>\n",
       "<polyline clip-path=\"url(#clip342)\" style=\"stroke:#0000ff; stroke-linecap:round; stroke-linejoin:round; stroke-width:4; stroke-opacity:1; fill:none\" points=\"737.065,74.2048 698.337,106.315 \"/>\n",
       "<polyline clip-path=\"url(#clip342)\" style=\"stroke:#ff0000; stroke-linecap:round; stroke-linejoin:round; stroke-width:8; stroke-opacity:1; fill:none\" points=\"499.229,350.717 452.879,363.153 \"/>\n",
       "</svg>\n"
      ]
     },
     "execution_count": 14,
     "metadata": {},
     "output_type": "execute_result"
    }
   ],
   "source": [
    "p        = _ps[1]\n",
    "delta_x  = 0.5\n",
    "delta_hd = 45\n",
    "k   = 4\n",
    "ps_ = pose_grid(p,k,delta_x,delta_hd);\n",
    "ps  = [Pose(p[1:2],p[3]) for p in eachrow(Array(ps_))]\n",
    "\n",
    "# -----------------------------\n",
    "mypl = plot(size=(200,200), legend=nothing)\n",
    "plot!(ps, c=:blue, r=0.1, linewidth=1)\n",
    "plot!(p, c=:red, r=0.1, linewidth=2)\n",
    "mypl"
   ]
  },
  {
   "cell_type": "markdown",
   "id": "0fe970a5",
   "metadata": {},
   "source": [
    "### sliding window"
   ]
  },
  {
   "cell_type": "code",
   "execution_count": 15,
   "id": "35f0307c",
   "metadata": {},
   "outputs": [],
   "source": [
    "#nbx\n",
    "\"\"\"\n",
    "    slw_kernel!(x, w::Int, y)\n",
    "\n",
    "CUDA kernel to compute sliding windows...\n",
    "Takes CuArrays of shape `(k,n)` and `(k,n,m=2w+1)` \n",
    "and fills the latter with ...\n",
    "\"\"\"\n",
    "function slw_kernel!(x, w::Int, y)\n",
    "    \n",
    "    m = 2*w + 1\n",
    "    \n",
    "    # Make sure the arrays are \n",
    "    # of the right shape\n",
    "    @assert ndims(x)  == 2\n",
    "    @assert ndims(y)  == ndims(x) + 1\n",
    "    @assert size(x,1) == size(y,1)\n",
    "    @assert size(x,2) == size(y,2)\n",
    "    @assert size(y,3) == m\n",
    "    \n",
    "    # Thread id's\n",
    "    ix = (blockIdx().x - 1) * blockDim().x + threadIdx().x\n",
    "    iy = (blockIdx().y - 1) * blockDim().y + threadIdx().y\n",
    "    iz = (blockIdx().z - 1) * blockDim().z + threadIdx().z\n",
    "    sx = gridDim().x * blockDim().x\n",
    "    sy = gridDim().y * blockDim().y\n",
    "    sz = gridDim().z * blockDim().z\n",
    "        \n",
    "    for j_pose = ix:sx:size(y,1), j_obs = iy:sy:size(y,2), j_mix = iz:sz:size(y,3)\n",
    "        # Transform `1:m` to `-w:w`\n",
    "        offset = j_mix-1-w\n",
    "        \n",
    "        # Wrap around, e.g. map `n+1` to `1`\n",
    "        # Note that we have `size(x,2) == size(y,2)`\n",
    "        j_mix_adj = mod(j_obs + offset - 1 , size(x,2)) + 1\n",
    "        \n",
    "        # Fill y's\n",
    "        @inbounds y[j_pose, j_obs, j_mix] = x[j_pose, j_mix_adj]\n",
    "    end\n",
    "    return\n",
    "end\n",
    "\n",
    "\"\"\"\n",
    "```julia\n",
    "    y = slw_cu!(x::CuArray, w::Int; blockdims=(8,8,4))\n",
    "```\n",
    "Computes sliding windows... takes a CuArray of shape `(k,n)` and returns a CuArray\n",
    "of shape `(k,n,m)`, where `m = 2w+1`....\n",
    "\"\"\"\n",
    "function slw_cu!(x::CuArray, w::Int; blockdims=(8,8,4))\n",
    "    \n",
    "    k = size(x, 1)\n",
    "    n = size(x, 2)\n",
    "    m = 2*w+1\n",
    "    \n",
    "    y = CUDA.ones(k,n,m)\n",
    "    \n",
    "    griddims = cuda_grid((k,n,m), blockdims)\n",
    "    CUDA.@sync begin\n",
    "        @cuda threads=blockdims blocks=griddims slw_kernel!(x, w, y)\n",
    "    end\n",
    "    \n",
    "    return y\n",
    "end;"
   ]
  },
  {
   "cell_type": "code",
   "execution_count": 16,
   "id": "cdbe499f",
   "metadata": {},
   "outputs": [
    {
     "name": "stdout",
     "output_type": "stream",
     "text": [
      "(10, 5)\n",
      "(10, 5, 3)\n"
     ]
    },
    {
     "data": {
      "text/plain": [
       "5-element CuArray{Float32, 1, CUDA.Mem.DeviceBuffer}:\n",
       " 1.0\n",
       " 2.0\n",
       " 3.0\n",
       " 4.0\n",
       " 5.0"
      ]
     },
     "execution_count": 16,
     "metadata": {},
     "output_type": "execute_result"
    }
   ],
   "source": [
    "w = 1\n",
    "zs = stack([collect(1.0:5.0)*10^(i-1) for i=1:10])\n",
    "zs_ = CuArray(zs)\n",
    "zs_tilde_ = slw_cu!(zs_,w)\n",
    "\n",
    "println(size(zs_))\n",
    "println(size(zs_tilde_))\n",
    "\n",
    "zs_tilde_[1,:,w+1] # this is the middle of the mixture window"
   ]
  },
  {
   "cell_type": "markdown",
   "id": "54330a79",
   "metadata": {},
   "source": [
    "### y_tilde"
   ]
  },
  {
   "cell_type": "code",
   "execution_count": 17,
   "id": "ab4762b9",
   "metadata": {},
   "outputs": [],
   "source": [
    "#nbx\n",
    "polar_inv_cu(z::CuArray, a::CuArray) = cat(z.*cos.(a), z.*sin.(a), dims=ndims(a)+1);"
   ]
  },
  {
   "cell_type": "code",
   "execution_count": 18,
   "id": "e8e687b3",
   "metadata": {},
   "outputs": [
    {
     "name": "stdout",
     "output_type": "stream",
     "text": [
      "(10, 5, 3)(1, 5, 3)\n"
     ]
    },
    {
     "data": {
      "text/plain": [
       "(10, 5, 3, 2)"
      ]
     },
     "execution_count": 18,
     "metadata": {},
     "output_type": "execute_result"
    }
   ],
   "source": [
    "a_ = CuArray(range(0,π, 5))\n",
    "a_tilde_ = slw_cu!(reshape(a_,1,:),w)\n",
    "\n",
    "println(size(zs_tilde_), size(a_tilde_))\n",
    "y_tilde_ = polar_inv_cu(zs_tilde_, a_tilde_)\n",
    "size(y_tilde_)"
   ]
  },
  {
   "cell_type": "code",
   "execution_count": 19,
   "id": "4541cacb",
   "metadata": {},
   "outputs": [],
   "source": [
    "#nbx\n",
    "\"\"\"\n",
    "    ys_tilde_ = get_ys_tilde_cu(zs_::CuArray, w::Int)    \n",
    "\n",
    "Takes depth measurements and returns \n",
    "the point clouds for the gaussian mixtures ...\n",
    "\"\"\"\n",
    "function get_ys_tilde_cu(zs_::CuArray, w::Int)    \n",
    "    a_ = CuArray(_as)\n",
    "\n",
    "    zs_tilde_ = slw_cu!(zs_, w)\n",
    "    as_tilde_ = slw_cu!(reshape(a_,1,:), w)\n",
    "    \n",
    "    ys_tilde_ = polar_inv_cu(zs_tilde_, as_tilde_)\n",
    "    \n",
    "    return ys_tilde_\n",
    "end;"
   ]
  },
  {
   "cell_type": "code",
   "execution_count": 20,
   "id": "c56bdc3d",
   "metadata": {},
   "outputs": [
    {
     "name": "stdout",
     "output_type": "stream",
     "text": [
      "ys_tilde: (64, 360, 11, 2)\n",
      "  335.861 μs (249 allocations: 13.38 KiB)\n"
     ]
    }
   ],
   "source": [
    "p        = _ps[1]\n",
    "grid_x  = 0.5\n",
    "grid_hd = 45\n",
    "grid_k   = 4\n",
    "ps_ = pose_grid(p,grid_k,grid_x,grid_hd);\n",
    "\n",
    "w = 5\n",
    "zs_       = cast_cu(ps_)\n",
    "ys_tilde_ = get_ys_tilde_cu(zs_, w);  \n",
    "println(\"ys_tilde: $(size(ys_tilde_))\")\n",
    "\n",
    "@btime get_ys_tilde_cu(zs_, w) samples=1 evals=1;  "
   ]
  },
  {
   "cell_type": "markdown",
   "id": "5e317e0a",
   "metadata": {},
   "source": [
    "```julia\n",
    "ys_tilde: (1000, 360, 11, 2)\n",
    "  583.812 μs (247 allocations: 13.34 KiB)\n",
    "```"
   ]
  },
  {
   "cell_type": "markdown",
   "id": "926f9aa1",
   "metadata": {},
   "source": [
    "### sensor_smc_logpdf_cu"
   ]
  },
  {
   "cell_type": "code",
   "execution_count": 21,
   "id": "be696988",
   "metadata": {},
   "outputs": [],
   "source": [
    "#nbx\n",
    "\"\"\"\n",
    "    log_p = gaussian_logpdf(x, mu, sig)\n",
    "\n",
    "Benchmarks in `33 - CUDA Accelerated Gen Distributions` ...\n",
    "\"\"\"\n",
    "function gaussian_logpdf(x, mu, sig)\n",
    "    d = (x .- mu).^2 ./ sig.^2\n",
    "    log_p = - log.(sqrt.(sig * 2 * π)) .- 1/2 * d\n",
    "    return log_p\n",
    "end;"
   ]
  },
  {
   "cell_type": "code",
   "execution_count": 22,
   "id": "b876452d",
   "metadata": {},
   "outputs": [
    {
     "name": "stdout",
     "output_type": "stream",
     "text": [
      "x,y,sig: (2, 2, 2)\n",
      "  3.606 μs (2 allocations: 176 bytes)\n",
      "  6.857 μs (7 allocations: 896 bytes)\n",
      "  725.722 μs (238 allocations: 18.36 KiB)\n"
     ]
    }
   ],
   "source": [
    "n = 2\n",
    "\n",
    "x   = rand(n,n,n)\n",
    "y   = rand(n,n,n)\n",
    "sig = ones(n,n,n)\n",
    "\n",
    "x_   = CuArray(x)\n",
    "y_   = CuArray(y)\n",
    "sig_ = CuArray(sig)\n",
    "\n",
    "function bench_broadcasting(x,y,sig) \n",
    "    logpdf.([normal], x, y, sig)\n",
    "end\n",
    "\n",
    "println(\"x,y,sig: $(size(x))\")\n",
    "\n",
    "@btime bench_broadcasting($x, $y, $sig) samples=1 evals=1;\n",
    "@btime gaussian_logpdf($x, $y, $sig)    samples=1 evals=1;\n",
    "@btime gaussian_logpdf($x_, $y_, $sig_) samples=1 evals=1;"
   ]
  },
  {
   "cell_type": "markdown",
   "id": "6fb0411b",
   "metadata": {},
   "source": [
    "Runtimes:\n",
    "```julia\n",
    "x,y,sig: (10, 10, 10)\n",
    "   14.148 μs (2 allocations: 7.98 KiB)\n",
    "   31.857 μs (7 allocations: 55.56 KiB)\n",
    "  133.492 μs (226 allocations: 17.25 KiB)\n",
    "\n",
    "x,y,sig: (100, 100, 100)\n",
    "   10.390 ms (3 allocations: 7.63 MiB)\n",
    "   27.895 ms (14 allocations: 53.41 MiB)\n",
    "  119.987 μs (226 allocations: 17.25 KiB)\n",
    "```"
   ]
  },
  {
   "cell_type": "markdown",
   "id": "a3d72988",
   "metadata": {},
   "source": [
    "Our sensor distribtution is given defined by\n",
    "\n",
    "$$\n",
    "   p(x_1,\\ldots,x_n \\mid p,M) = \\prod_i \\Big( (1-d)\\cdot g_i(x_i) + d \\cdot \\text{Anywhere} \\Big)\n",
    "$$\n",
    "\n",
    "\n",
    "For ease of notation we omit some of the parameters the terms depend on, i.e. $g_i(x) = g_i(x ; m, \\sigma, p,M)$ and $\\tilde{y}_{i,j} = \\tilde{y}_{i,j}(p,M)$....\n",
    "\n",
    "$$\n",
    "    g_i(x) = \\sum_j \\tfrac{1}{m} N\\big(x ; \\tilde{y}_{i,j}, \\sigma \\big)\n",
    "$$"
   ]
  },
  {
   "cell_type": "code",
   "execution_count": 23,
   "id": "0f3a5eda",
   "metadata": {},
   "outputs": [],
   "source": [
    "#nbx\n",
    "\"\"\"\n",
    "    log_p = sensor_smc_logpdf_cu(x::CuArray, ys_tilde::CuArray, sig, dropout)\n",
    "\n",
    "Evaluates the logpdf of an observation `x` (shape: `(n,2)`)\n",
    "with respect to a number of different gaussian mixtures stacked along\n",
    "the first dim of `ys_tilde` (k,n,m,2) ...\n",
    "\"\"\"\n",
    "function sensor_smc_logpdf_cu(x, ys_tilde, sig, dropout)\n",
    "\n",
    "    n = size(ys_tilde,2)\n",
    "    m = size(ys_tilde,3)\n",
    "    \n",
    "    xs = reshape(x, 1, n, 1, 2)\n",
    "    \n",
    "    # Line by line...\n",
    "    # 1. Compute 1D Gaussians - (n,m,2)\n",
    "    # 2. Convert to 2D gausians - (n,m)\n",
    "    # 3. Convert to mixture of m 2D gausians (GM) - (n,)\n",
    "    # 4. Convert to mixture of `GM` and `anywhere` (D) - (n,)\n",
    "    # 5. Convert to Product of D's - ()\n",
    "    log_p = gaussian_logpdf(xs, ys_tilde, sig)\n",
    "    log_p = sum(log_p, dims=4)[:,:,:,1] \n",
    "    log_p = logsumexp_cu(log_p .- log(m), 3)[:,:,1] \n",
    "    log_p_or_any = log.((1-dropout)*exp.(log_p) .+ dropout*1.0)\n",
    "    log_p = sum(log_p_or_any ,dims=2)[:,1]\n",
    "    \n",
    "    return log_p\n",
    "end;"
   ]
  },
  {
   "cell_type": "code",
   "execution_count": 24,
   "id": "75d72260",
   "metadata": {},
   "outputs": [
    {
     "name": "stdout",
     "output_type": "stream",
     "text": [
      "ys_tilde: (1000, 360, 361, 2)\n",
      "  10.477 s (49 allocations: 9.70 GiB)\n",
      "  30.274 ms (730 allocations: 41.58 KiB)\n"
     ]
    }
   ],
   "source": [
    "p        = _ps[1]\n",
    "delta_x  = 0.5\n",
    "delta_hd = 10\n",
    "k        = 10\n",
    "ps_ = pose_grid(p,k,delta_x,delta_hd);\n",
    "\n",
    "w   = 180\n",
    "zs_ = cast_cu(ps_)\n",
    "ys_tilde_ = get_ys_tilde_cu(zs_, w);  \n",
    "ys_tilde = Array(ys_tilde_)\n",
    "\n",
    "sig     = 1.0\n",
    "dropout = 0.1\n",
    "x       = stack(polar_inv(_zs[1],_as))\n",
    "x_      = CuArray(x)\n",
    "\n",
    "sensor_smc_logpdf_cu(x_, ys_tilde_, sig, dropout)\n",
    "\n",
    "println(\"ys_tilde: $(size(ys_tilde_))\")\n",
    "\n",
    "@btime sensor_smc_logpdf_cu($x, $ys_tilde, sig, dropout) samples=1 evals=1;\n",
    "@btime sensor_smc_logpdf_cu($x_, $ys_tilde_, sig, dropout) samples=1 evals=1;"
   ]
  },
  {
   "cell_type": "markdown",
   "id": "06a4f3a8",
   "metadata": {},
   "source": [
    "Runtimes:\n",
    "```julia\n",
    "ys_tilde: (64, 360, 11, 2)\n",
    "  364.570 μs (667 allocations: 38.58 KiB)\n",
    "\n",
    "ys_tilde: (1000, 360, 11, 2)\n",
    "  1.392 ms (695 allocations: 40.40 KiB)\n",
    "\n",
    "ys_tilde: (1000, 360, 41, 2)\n",
    "  4.111 ms (695 allocations: 40.30 KiB)\n",
    "\n",
    "# Full mixture\n",
    "ys_tilde: (1000, 360, 361, 2)\n",
    "  38.444 ms (814 allocations: 45.20 KiB)\n",
    "```"
   ]
  },
  {
   "cell_type": "markdown",
   "id": "8b828006",
   "metadata": {},
   "source": [
    "### Put it together"
   ]
  },
  {
   "cell_type": "code",
   "execution_count": 25,
   "id": "a89a4b4f",
   "metadata": {},
   "outputs": [
    {
     "data": {
      "text/plain": [
       "perturb (generic function with 1 method)"
      ]
     },
     "execution_count": 25,
     "metadata": {},
     "output_type": "execute_result"
    }
   ],
   "source": [
    "#nbx\n",
    "perturb(p::Pose, x_noise, hd_noise) = Pose(\n",
    "    p.x + [normal(0,x_noise); normal(0,x_noise)], \n",
    "    p.hd + normal(0, hd_noise/360*2π))"
   ]
  },
  {
   "cell_type": "markdown",
   "id": "b07866ae",
   "metadata": {},
   "source": [
    "#### Grid proposal"
   ]
  },
  {
   "cell_type": "code",
   "execution_count": 26,
   "id": "b5f2c6db",
   "metadata": {},
   "outputs": [
    {
     "data": {
      "text/plain": [
       "grid_proposals (generic function with 1 method)"
      ]
     },
     "execution_count": 26,
     "metadata": {},
     "output_type": "execute_result"
    }
   ],
   "source": [
    "#nbx\n",
    "function grid_proposals(p::Pose, x::Matrix, w::Int, sig::Float64, dropout, grid_k::Int, grid_dx, grid_dhd)\n",
    "    \n",
    "    # Compute poses to evaluate\n",
    "    ps_ = pose_grid(p, grid_k, grid_dx, grid_dhd)\n",
    "    \n",
    "    # Compute measurements and gm centers\n",
    "    zs_ = cast_cu(ps_; blockdims=(16,16));\n",
    "    ys_tilde_ = get_ys_tilde_cu(zs_, w);\n",
    "    \n",
    "    # Evaluate the gm's\n",
    "    x_ = CuArray(x)\n",
    "    log_p_ = sensor_smc_logpdf_cu(x_, ys_tilde_, sig, dropout);\n",
    "    \n",
    "    # Back to CPU\n",
    "    ps    = Vector.(eachrow(Array(ps_)))\n",
    "    log_p = Array(log_p_)\n",
    "\n",
    "    \n",
    "    # Sort by log prob\n",
    "    # and return \n",
    "    perm  = sortperm(log_p)\n",
    "    log_p = log_p[perm]\n",
    "    ps    = ps[perm]\n",
    "    \n",
    "    return ps, log_p\n",
    "end"
   ]
  },
  {
   "cell_type": "markdown",
   "id": "77a729af",
   "metadata": {},
   "source": [
    "#### Grid proposal - gen wrapper"
   ]
  },
  {
   "cell_type": "code",
   "execution_count": 27,
   "id": "eb5703a5",
   "metadata": {},
   "outputs": [
    {
     "data": {
      "text/plain": [
       "DynamicDSLFunction{Any}(Dict{Symbol, Any}(), Dict{Symbol, Any}(), Type[Pose, Matrix{Float64}, Int64, Float64, Float64, Int64, Float64, Float64], false, Union{Nothing, Some{Any}}[nothing, nothing, nothing, nothing, nothing, nothing, nothing, nothing], var\"##grid_proposal#1140\", Bool[0, 0, 0, 0, 0, 0, 0, 0], false)"
      ]
     },
     "execution_count": 27,
     "metadata": {},
     "output_type": "execute_result"
    }
   ],
   "source": [
    "#nbx\n",
    "function filter_infs(ps, log_p)\n",
    "    good = log_p .!= -Inf\n",
    "    return ps[good], log_p[good]\n",
    "end\n",
    "\n",
    "@dist function labeled_cat(labels, probs)\n",
    "    index = categorical(probs)\n",
    "    labels[index]\n",
    "end\n",
    "\n",
    "@gen function grid_proposal(p::Pose, x::Matrix{Float64}, \n",
    "                            w::Int, sig::Float64, dropout::Float64, \n",
    "                            grid_k::Int, grid_dx::Float64, grid_dhd::Float64)\n",
    "\n",
    "    ps, log_p = grid_proposals(p, x, w, sig, dropout, grid_k, grid_dx, grid_dhd)\n",
    "    ps, log_p = filter_infs(ps, log_p)\n",
    "    probs = exp.(log_p .- logsumexp(log_p))\n",
    "    j = categorical(probs)\n",
    "    p_vec = {:pose} ~ labeled_cat(ps, probs)\n",
    "    return Pose(p_vec), ps, log_p\n",
    "end"
   ]
  },
  {
   "cell_type": "code",
   "execution_count": 28,
   "id": "1fc4acd6",
   "metadata": {},
   "outputs": [
    {
     "data": {
      "image/svg+xml": [
       "<?xml version=\"1.0\" encoding=\"utf-8\"?>\n",
       "<svg xmlns=\"http://www.w3.org/2000/svg\" xmlns:xlink=\"http://www.w3.org/1999/xlink\" width=\"400\" height=\"400\" viewBox=\"0 0 1600 1600\">\n",
       "<defs>\n",
       "  <clipPath id=\"clip380\">\n",
       "    <rect x=\"0\" y=\"0\" width=\"1600\" height=\"1600\"/>\n",
       "  </clipPath>\n",
       "</defs>\n",
       "<path clip-path=\"url(#clip380)\" d=\"M0 1600 L1600 1600 L1600 0 L0 0  Z\" fill=\"#ffffff\" fill-rule=\"evenodd\" fill-opacity=\"1\"/>\n",
       "<defs>\n",
       "  <clipPath id=\"clip381\">\n",
       "    <rect x=\"320\" y=\"160\" width=\"1121\" height=\"1121\"/>\n",
       "  </clipPath>\n",
       "</defs>\n",
       "<path clip-path=\"url(#clip380)\" d=\"M176.191 1446.49 L1552.76 1446.49 L1552.76 69.9234 L176.191 69.9234  Z\" fill=\"#ffffff\" fill-rule=\"evenodd\" fill-opacity=\"1\"/>\n",
       "<defs>\n",
       "  <clipPath id=\"clip382\">\n",
       "    <rect x=\"176\" y=\"69\" width=\"1378\" height=\"1378\"/>\n",
       "  </clipPath>\n",
       "</defs>\n",
       "<polyline clip-path=\"url(#clip382)\" style=\"stroke:#000000; stroke-linecap:round; stroke-linejoin:round; stroke-width:2; stroke-opacity:0.1; fill:none\" points=\"215.987,1446.49 215.987,69.9234 \"/>\n",
       "<polyline clip-path=\"url(#clip382)\" style=\"stroke:#000000; stroke-linecap:round; stroke-linejoin:round; stroke-width:2; stroke-opacity:0.1; fill:none\" points=\"560.128,1446.49 560.128,69.9234 \"/>\n",
       "<polyline clip-path=\"url(#clip382)\" style=\"stroke:#000000; stroke-linecap:round; stroke-linejoin:round; stroke-width:2; stroke-opacity:0.1; fill:none\" points=\"904.269,1446.49 904.269,69.9234 \"/>\n",
       "<polyline clip-path=\"url(#clip382)\" style=\"stroke:#000000; stroke-linecap:round; stroke-linejoin:round; stroke-width:2; stroke-opacity:0.1; fill:none\" points=\"1248.41,1446.49 1248.41,69.9234 \"/>\n",
       "<polyline clip-path=\"url(#clip380)\" style=\"stroke:#000000; stroke-linecap:round; stroke-linejoin:round; stroke-width:4; stroke-opacity:1; fill:none\" points=\"176.191,1446.49 1552.76,1446.49 \"/>\n",
       "<polyline clip-path=\"url(#clip380)\" style=\"stroke:#000000; stroke-linecap:round; stroke-linejoin:round; stroke-width:4; stroke-opacity:1; fill:none\" points=\"215.987,1446.49 215.987,1428.19 \"/>\n",
       "<polyline clip-path=\"url(#clip380)\" style=\"stroke:#000000; stroke-linecap:round; stroke-linejoin:round; stroke-width:4; stroke-opacity:1; fill:none\" points=\"560.128,1446.49 560.128,1428.19 \"/>\n",
       "<polyline clip-path=\"url(#clip380)\" style=\"stroke:#000000; stroke-linecap:round; stroke-linejoin:round; stroke-width:4; stroke-opacity:1; fill:none\" points=\"904.269,1446.49 904.269,1428.19 \"/>\n",
       "<polyline clip-path=\"url(#clip380)\" style=\"stroke:#000000; stroke-linecap:round; stroke-linejoin:round; stroke-width:4; stroke-opacity:1; fill:none\" points=\"1248.41,1446.49 1248.41,1428.19 \"/>\n",
       "<path clip-path=\"url(#clip380)\" d=\"M168.059 1498.55 L175.697 1498.55 L175.697 1472.19 L167.387 1473.85 L167.387 1469.6 L175.651 1467.93 L180.327 1467.93 L180.327 1498.55 L187.966 1498.55 L187.966 1502.49 L168.059 1502.49 L168.059 1498.55 Z\" fill=\"#000000\" fill-rule=\"evenodd\" fill-opacity=\"1\" /><path clip-path=\"url(#clip380)\" d=\"M210.257 1472 L198.452 1490.45 L210.257 1490.45 L210.257 1472 M209.031 1467.93 L214.91 1467.93 L214.91 1490.45 L219.841 1490.45 L219.841 1494.34 L214.91 1494.34 L214.91 1502.49 L210.257 1502.49 L210.257 1494.34 L194.656 1494.34 L194.656 1489.83 L209.031 1467.93 Z\" fill=\"#000000\" fill-rule=\"evenodd\" fill-opacity=\"1\" /><path clip-path=\"url(#clip380)\" d=\"M227.572 1496.61 L232.456 1496.61 L232.456 1502.49 L227.572 1502.49 L227.572 1496.61 Z\" fill=\"#000000\" fill-rule=\"evenodd\" fill-opacity=\"1\" /><path clip-path=\"url(#clip380)\" d=\"M252.642 1471.01 Q249.03 1471.01 247.202 1474.57 Q245.396 1478.11 245.396 1485.24 Q245.396 1492.35 247.202 1495.91 Q249.03 1499.46 252.642 1499.46 Q256.276 1499.46 258.081 1495.91 Q259.91 1492.35 259.91 1485.24 Q259.91 1478.11 258.081 1474.57 Q256.276 1471.01 252.642 1471.01 M252.642 1467.3 Q258.452 1467.3 261.507 1471.91 Q264.586 1476.49 264.586 1485.24 Q264.586 1493.97 261.507 1498.58 Q258.452 1503.16 252.642 1503.16 Q246.831 1503.16 243.753 1498.58 Q240.697 1493.97 240.697 1485.24 Q240.697 1476.49 243.753 1471.91 Q246.831 1467.3 252.642 1467.3 Z\" fill=\"#000000\" fill-rule=\"evenodd\" fill-opacity=\"1\" /><path clip-path=\"url(#clip380)\" d=\"M512.698 1498.55 L520.336 1498.55 L520.336 1472.19 L512.026 1473.85 L512.026 1469.6 L520.29 1467.93 L524.966 1467.93 L524.966 1498.55 L532.605 1498.55 L532.605 1502.49 L512.698 1502.49 L512.698 1498.55 Z\" fill=\"#000000\" fill-rule=\"evenodd\" fill-opacity=\"1\" /><path clip-path=\"url(#clip380)\" d=\"M554.896 1472 L543.091 1490.45 L554.896 1490.45 L554.896 1472 M553.67 1467.93 L559.549 1467.93 L559.549 1490.45 L564.48 1490.45 L564.48 1494.34 L559.549 1494.34 L559.549 1502.49 L554.896 1502.49 L554.896 1494.34 L539.295 1494.34 L539.295 1489.83 L553.67 1467.93 Z\" fill=\"#000000\" fill-rule=\"evenodd\" fill-opacity=\"1\" /><path clip-path=\"url(#clip380)\" d=\"M572.211 1496.61 L577.095 1496.61 L577.095 1502.49 L572.211 1502.49 L572.211 1496.61 Z\" fill=\"#000000\" fill-rule=\"evenodd\" fill-opacity=\"1\" /><path clip-path=\"url(#clip380)\" d=\"M587.327 1467.93 L605.683 1467.93 L605.683 1471.86 L591.609 1471.86 L591.609 1480.34 Q592.628 1479.99 593.646 1479.83 Q594.665 1479.64 595.683 1479.64 Q601.47 1479.64 604.85 1482.81 Q608.23 1485.98 608.23 1491.4 Q608.23 1496.98 604.757 1500.08 Q601.285 1503.16 594.966 1503.16 Q592.79 1503.16 590.521 1502.79 Q588.276 1502.42 585.869 1501.68 L585.869 1496.98 Q587.952 1498.11 590.174 1498.67 Q592.396 1499.22 594.873 1499.22 Q598.878 1499.22 601.216 1497.12 Q603.554 1495.01 603.554 1491.4 Q603.554 1487.79 601.216 1485.68 Q598.878 1483.58 594.873 1483.58 Q592.998 1483.58 591.123 1483.99 Q589.271 1484.41 587.327 1485.29 L587.327 1467.93 Z\" fill=\"#000000\" fill-rule=\"evenodd\" fill-opacity=\"1\" /><path clip-path=\"url(#clip380)\" d=\"M856.341 1498.55 L863.98 1498.55 L863.98 1472.19 L855.67 1473.85 L855.67 1469.6 L863.934 1467.93 L868.61 1467.93 L868.61 1498.55 L876.249 1498.55 L876.249 1502.49 L856.341 1502.49 L856.341 1498.55 Z\" fill=\"#000000\" fill-rule=\"evenodd\" fill-opacity=\"1\" /><path clip-path=\"url(#clip380)\" d=\"M885.739 1467.93 L904.096 1467.93 L904.096 1471.86 L890.022 1471.86 L890.022 1480.34 Q891.04 1479.99 892.059 1479.83 Q893.077 1479.64 894.096 1479.64 Q899.883 1479.64 903.262 1482.81 Q906.642 1485.98 906.642 1491.4 Q906.642 1496.98 903.17 1500.08 Q899.697 1503.16 893.378 1503.16 Q891.202 1503.16 888.934 1502.79 Q886.688 1502.42 884.281 1501.68 L884.281 1496.98 Q886.364 1498.11 888.586 1498.67 Q890.809 1499.22 893.285 1499.22 Q897.29 1499.22 899.628 1497.12 Q901.966 1495.01 901.966 1491.4 Q901.966 1487.79 899.628 1485.68 Q897.29 1483.58 893.285 1483.58 Q891.411 1483.58 889.536 1483.99 Q887.684 1484.41 885.739 1485.29 L885.739 1467.93 Z\" fill=\"#000000\" fill-rule=\"evenodd\" fill-opacity=\"1\" /><path clip-path=\"url(#clip380)\" d=\"M915.855 1496.61 L920.739 1496.61 L920.739 1502.49 L915.855 1502.49 L915.855 1496.61 Z\" fill=\"#000000\" fill-rule=\"evenodd\" fill-opacity=\"1\" /><path clip-path=\"url(#clip380)\" d=\"M940.924 1471.01 Q937.313 1471.01 935.484 1474.57 Q933.679 1478.11 933.679 1485.24 Q933.679 1492.35 935.484 1495.91 Q937.313 1499.46 940.924 1499.46 Q944.558 1499.46 946.364 1495.91 Q948.193 1492.35 948.193 1485.24 Q948.193 1478.11 946.364 1474.57 Q944.558 1471.01 940.924 1471.01 M940.924 1467.3 Q946.734 1467.3 949.79 1471.91 Q952.869 1476.49 952.869 1485.24 Q952.869 1493.97 949.79 1498.58 Q946.734 1503.16 940.924 1503.16 Q935.114 1503.16 932.035 1498.58 Q928.98 1493.97 928.98 1485.24 Q928.98 1476.49 932.035 1471.91 Q935.114 1467.3 940.924 1467.3 Z\" fill=\"#000000\" fill-rule=\"evenodd\" fill-opacity=\"1\" /><path clip-path=\"url(#clip380)\" d=\"M1200.98 1498.55 L1208.62 1498.55 L1208.62 1472.19 L1200.31 1473.85 L1200.31 1469.6 L1208.57 1467.93 L1213.25 1467.93 L1213.25 1498.55 L1220.89 1498.55 L1220.89 1502.49 L1200.98 1502.49 L1200.98 1498.55 Z\" fill=\"#000000\" fill-rule=\"evenodd\" fill-opacity=\"1\" /><path clip-path=\"url(#clip380)\" d=\"M1230.38 1467.93 L1248.73 1467.93 L1248.73 1471.86 L1234.66 1471.86 L1234.66 1480.34 Q1235.68 1479.99 1236.7 1479.83 Q1237.72 1479.64 1238.73 1479.64 Q1244.52 1479.64 1247.9 1482.81 Q1251.28 1485.98 1251.28 1491.4 Q1251.28 1496.98 1247.81 1500.08 Q1244.34 1503.16 1238.02 1503.16 Q1235.84 1503.16 1233.57 1502.79 Q1231.33 1502.42 1228.92 1501.68 L1228.92 1496.98 Q1231 1498.11 1233.23 1498.67 Q1235.45 1499.22 1237.92 1499.22 Q1241.93 1499.22 1244.27 1497.12 Q1246.6 1495.01 1246.6 1491.4 Q1246.6 1487.79 1244.27 1485.68 Q1241.93 1483.58 1237.92 1483.58 Q1236.05 1483.58 1234.17 1483.99 Q1232.32 1484.41 1230.38 1485.29 L1230.38 1467.93 Z\" fill=\"#000000\" fill-rule=\"evenodd\" fill-opacity=\"1\" /><path clip-path=\"url(#clip380)\" d=\"M1260.49 1496.61 L1265.38 1496.61 L1265.38 1502.49 L1260.49 1502.49 L1260.49 1496.61 Z\" fill=\"#000000\" fill-rule=\"evenodd\" fill-opacity=\"1\" /><path clip-path=\"url(#clip380)\" d=\"M1275.61 1467.93 L1293.97 1467.93 L1293.97 1471.86 L1279.89 1471.86 L1279.89 1480.34 Q1280.91 1479.99 1281.93 1479.83 Q1282.95 1479.64 1283.97 1479.64 Q1289.75 1479.64 1293.13 1482.81 Q1296.51 1485.98 1296.51 1491.4 Q1296.51 1496.98 1293.04 1500.08 Q1289.57 1503.16 1283.25 1503.16 Q1281.07 1503.16 1278.8 1502.79 Q1276.56 1502.42 1274.15 1501.68 L1274.15 1496.98 Q1276.23 1498.11 1278.46 1498.67 Q1280.68 1499.22 1283.16 1499.22 Q1287.16 1499.22 1289.5 1497.12 Q1291.84 1495.01 1291.84 1491.4 Q1291.84 1487.79 1289.5 1485.68 Q1287.16 1483.58 1283.16 1483.58 Q1281.28 1483.58 1279.41 1483.99 Q1277.55 1484.41 1275.61 1485.29 L1275.61 1467.93 Z\" fill=\"#000000\" fill-rule=\"evenodd\" fill-opacity=\"1\" /><polyline clip-path=\"url(#clip382)\" style=\"stroke:#000000; stroke-linecap:round; stroke-linejoin:round; stroke-width:2; stroke-opacity:0.1; fill:none\" points=\"176.191,1308.9 1552.76,1308.9 \"/>\n",
       "<polyline clip-path=\"url(#clip382)\" style=\"stroke:#000000; stroke-linecap:round; stroke-linejoin:round; stroke-width:2; stroke-opacity:0.1; fill:none\" points=\"176.191,964.758 1552.76,964.758 \"/>\n",
       "<polyline clip-path=\"url(#clip382)\" style=\"stroke:#000000; stroke-linecap:round; stroke-linejoin:round; stroke-width:2; stroke-opacity:0.1; fill:none\" points=\"176.191,620.616 1552.76,620.616 \"/>\n",
       "<polyline clip-path=\"url(#clip382)\" style=\"stroke:#000000; stroke-linecap:round; stroke-linejoin:round; stroke-width:2; stroke-opacity:0.1; fill:none\" points=\"176.191,276.475 1552.76,276.475 \"/>\n",
       "<polyline clip-path=\"url(#clip380)\" style=\"stroke:#000000; stroke-linecap:round; stroke-linejoin:round; stroke-width:4; stroke-opacity:1; fill:none\" points=\"176.191,1446.49 176.191,69.9234 \"/>\n",
       "<polyline clip-path=\"url(#clip380)\" style=\"stroke:#000000; stroke-linecap:round; stroke-linejoin:round; stroke-width:4; stroke-opacity:1; fill:none\" points=\"176.191,1308.9 195.088,1308.9 \"/>\n",
       "<polyline clip-path=\"url(#clip380)\" style=\"stroke:#000000; stroke-linecap:round; stroke-linejoin:round; stroke-width:4; stroke-opacity:1; fill:none\" points=\"176.191,964.758 195.088,964.758 \"/>\n",
       "<polyline clip-path=\"url(#clip380)\" style=\"stroke:#000000; stroke-linecap:round; stroke-linejoin:round; stroke-width:4; stroke-opacity:1; fill:none\" points=\"176.191,620.616 195.088,620.616 \"/>\n",
       "<polyline clip-path=\"url(#clip380)\" style=\"stroke:#000000; stroke-linecap:round; stroke-linejoin:round; stroke-width:4; stroke-opacity:1; fill:none\" points=\"176.191,276.475 195.088,276.475 \"/>\n",
       "<path clip-path=\"url(#clip380)\" d=\"M56.6588 1322.24 L64.2976 1322.24 L64.2976 1295.88 L55.9875 1297.54 L55.9875 1293.29 L64.2513 1291.62 L68.9272 1291.62 L68.9272 1322.24 L76.5661 1322.24 L76.5661 1326.18 L56.6588 1326.18 L56.6588 1322.24 Z\" fill=\"#000000\" fill-rule=\"evenodd\" fill-opacity=\"1\" /><path clip-path=\"url(#clip380)\" d=\"M100.177 1307.54 Q103.534 1308.26 105.409 1310.53 Q107.307 1312.8 107.307 1316.13 Q107.307 1321.25 103.788 1324.05 Q100.27 1326.85 93.7882 1326.85 Q91.6123 1326.85 89.2975 1326.41 Q87.0058 1325.99 84.5522 1325.14 L84.5522 1320.62 Q86.4966 1321.76 88.8114 1322.34 Q91.1262 1322.92 93.6493 1322.92 Q98.0475 1322.92 100.339 1321.18 Q102.654 1319.44 102.654 1316.13 Q102.654 1313.08 100.501 1311.36 Q98.3715 1309.63 94.5521 1309.63 L90.5243 1309.63 L90.5243 1305.79 L94.7373 1305.79 Q98.1863 1305.79 100.015 1304.42 Q101.844 1303.03 101.844 1300.44 Q101.844 1297.78 99.9456 1296.36 Q98.0706 1294.93 94.5521 1294.93 Q92.6308 1294.93 90.4318 1295.35 Q88.2327 1295.76 85.5938 1296.64 L85.5938 1292.48 Q88.2558 1291.73 90.5706 1291.36 Q92.9086 1290.99 94.9688 1290.99 Q100.293 1290.99 103.395 1293.42 Q106.496 1295.83 106.496 1299.95 Q106.496 1302.82 104.853 1304.81 Q103.209 1306.78 100.177 1307.54 Z\" fill=\"#000000\" fill-rule=\"evenodd\" fill-opacity=\"1\" /><path clip-path=\"url(#clip380)\" d=\"M116.172 1320.3 L121.057 1320.3 L121.057 1326.18 L116.172 1326.18 L116.172 1320.3 Z\" fill=\"#000000\" fill-rule=\"evenodd\" fill-opacity=\"1\" /><path clip-path=\"url(#clip380)\" d=\"M131.288 1291.62 L149.644 1291.62 L149.644 1295.55 L135.57 1295.55 L135.57 1304.03 Q136.589 1303.68 137.607 1303.52 Q138.626 1303.33 139.644 1303.33 Q145.431 1303.33 148.811 1306.5 Q152.191 1309.67 152.191 1315.09 Q152.191 1320.67 148.718 1323.77 Q145.246 1326.85 138.927 1326.85 Q136.751 1326.85 134.482 1326.48 Q132.237 1326.11 129.83 1325.37 L129.83 1320.67 Q131.913 1321.8 134.135 1322.36 Q136.357 1322.92 138.834 1322.92 Q142.839 1322.92 145.177 1320.81 Q147.515 1318.7 147.515 1315.09 Q147.515 1311.48 145.177 1309.37 Q142.839 1307.27 138.834 1307.27 Q136.959 1307.27 135.084 1307.68 Q133.232 1308.1 131.288 1308.98 L131.288 1291.62 Z\" fill=\"#000000\" fill-rule=\"evenodd\" fill-opacity=\"1\" /><path clip-path=\"url(#clip380)\" d=\"M55.6634 978.103 L63.3023 978.103 L63.3023 951.737 L54.9921 953.404 L54.9921 949.144 L63.256 947.478 L67.9319 947.478 L67.9319 978.103 L75.5707 978.103 L75.5707 982.038 L55.6634 982.038 L55.6634 978.103 Z\" fill=\"#000000\" fill-rule=\"evenodd\" fill-opacity=\"1\" /><path clip-path=\"url(#clip380)\" d=\"M97.8623 951.552 L86.0568 970.001 L97.8623 970.001 L97.8623 951.552 M96.6354 947.478 L102.515 947.478 L102.515 970.001 L107.446 970.001 L107.446 973.89 L102.515 973.89 L102.515 982.038 L97.8623 982.038 L97.8623 973.89 L82.2605 973.89 L82.2605 969.376 L96.6354 947.478 Z\" fill=\"#000000\" fill-rule=\"evenodd\" fill-opacity=\"1\" /><path clip-path=\"url(#clip380)\" d=\"M115.177 976.158 L120.061 976.158 L120.061 982.038 L115.177 982.038 L115.177 976.158 Z\" fill=\"#000000\" fill-rule=\"evenodd\" fill-opacity=\"1\" /><path clip-path=\"url(#clip380)\" d=\"M140.246 950.556 Q136.635 950.556 134.807 954.121 Q133.001 957.663 133.001 964.792 Q133.001 971.899 134.807 975.464 Q136.635 979.005 140.246 979.005 Q143.881 979.005 145.686 975.464 Q147.515 971.899 147.515 964.792 Q147.515 957.663 145.686 954.121 Q143.881 950.556 140.246 950.556 M140.246 946.853 Q146.056 946.853 149.112 951.459 Q152.191 956.042 152.191 964.792 Q152.191 973.519 149.112 978.126 Q146.056 982.709 140.246 982.709 Q134.436 982.709 131.357 978.126 Q128.302 973.519 128.302 964.792 Q128.302 956.042 131.357 951.459 Q134.436 946.853 140.246 946.853 Z\" fill=\"#000000\" fill-rule=\"evenodd\" fill-opacity=\"1\" /><path clip-path=\"url(#clip380)\" d=\"M56.6588 633.961 L64.2976 633.961 L64.2976 607.596 L55.9875 609.262 L55.9875 605.003 L64.2513 603.336 L68.9272 603.336 L68.9272 633.961 L76.5661 633.961 L76.5661 637.896 L56.6588 637.896 L56.6588 633.961 Z\" fill=\"#000000\" fill-rule=\"evenodd\" fill-opacity=\"1\" /><path clip-path=\"url(#clip380)\" d=\"M98.8576 607.41 L87.0521 625.859 L98.8576 625.859 L98.8576 607.41 M97.6308 603.336 L103.51 603.336 L103.51 625.859 L108.441 625.859 L108.441 629.748 L103.51 629.748 L103.51 637.896 L98.8576 637.896 L98.8576 629.748 L83.2559 629.748 L83.2559 625.234 L97.6308 603.336 Z\" fill=\"#000000\" fill-rule=\"evenodd\" fill-opacity=\"1\" /><path clip-path=\"url(#clip380)\" d=\"M116.172 632.017 L121.057 632.017 L121.057 637.896 L116.172 637.896 L116.172 632.017 Z\" fill=\"#000000\" fill-rule=\"evenodd\" fill-opacity=\"1\" /><path clip-path=\"url(#clip380)\" d=\"M131.288 603.336 L149.644 603.336 L149.644 607.272 L135.57 607.272 L135.57 615.744 Q136.589 615.397 137.607 615.234 Q138.626 615.049 139.644 615.049 Q145.431 615.049 148.811 618.221 Q152.191 621.392 152.191 626.808 Q152.191 632.387 148.718 635.489 Q145.246 638.568 138.927 638.568 Q136.751 638.568 134.482 638.197 Q132.237 637.827 129.83 637.086 L129.83 632.387 Q131.913 633.521 134.135 634.077 Q136.357 634.633 138.834 634.633 Q142.839 634.633 145.177 632.526 Q147.515 630.42 147.515 626.808 Q147.515 623.197 145.177 621.091 Q142.839 618.984 138.834 618.984 Q136.959 618.984 135.084 619.401 Q133.232 619.818 131.288 620.697 L131.288 603.336 Z\" fill=\"#000000\" fill-rule=\"evenodd\" fill-opacity=\"1\" /><path clip-path=\"url(#clip380)\" d=\"M55.6634 289.82 L63.3023 289.82 L63.3023 263.454 L54.9921 265.121 L54.9921 260.862 L63.256 259.195 L67.9319 259.195 L67.9319 289.82 L75.5707 289.82 L75.5707 293.755 L55.6634 293.755 L55.6634 289.82 Z\" fill=\"#000000\" fill-rule=\"evenodd\" fill-opacity=\"1\" /><path clip-path=\"url(#clip380)\" d=\"M85.0614 259.195 L103.418 259.195 L103.418 263.13 L89.3438 263.13 L89.3438 271.602 Q90.3623 271.255 91.3808 271.093 Q92.3993 270.908 93.4178 270.908 Q99.2049 270.908 102.584 274.079 Q105.964 277.251 105.964 282.667 Q105.964 288.246 102.492 291.348 Q99.0197 294.426 92.7003 294.426 Q90.5243 294.426 88.2558 294.056 Q86.0105 293.686 83.6031 292.945 L83.6031 288.246 Q85.6864 289.38 87.9086 289.936 Q90.1308 290.491 92.6077 290.491 Q96.6123 290.491 98.9502 288.385 Q101.288 286.278 101.288 282.667 Q101.288 279.056 98.9502 276.95 Q96.6123 274.843 92.6077 274.843 Q90.7327 274.843 88.8577 275.26 Q87.0058 275.676 85.0614 276.556 L85.0614 259.195 Z\" fill=\"#000000\" fill-rule=\"evenodd\" fill-opacity=\"1\" /><path clip-path=\"url(#clip380)\" d=\"M115.177 287.875 L120.061 287.875 L120.061 293.755 L115.177 293.755 L115.177 287.875 Z\" fill=\"#000000\" fill-rule=\"evenodd\" fill-opacity=\"1\" /><path clip-path=\"url(#clip380)\" d=\"M140.246 262.274 Q136.635 262.274 134.807 265.839 Q133.001 269.38 133.001 276.51 Q133.001 283.616 134.807 287.181 Q136.635 290.723 140.246 290.723 Q143.881 290.723 145.686 287.181 Q147.515 283.616 147.515 276.51 Q147.515 269.38 145.686 265.839 Q143.881 262.274 140.246 262.274 M140.246 258.57 Q146.056 258.57 149.112 263.177 Q152.191 267.76 152.191 276.51 Q152.191 285.237 149.112 289.843 Q146.056 294.426 140.246 294.426 Q134.436 294.426 131.357 289.843 Q128.302 285.237 128.302 276.51 Q128.302 267.76 131.357 263.177 Q134.436 258.57 140.246 258.57 Z\" fill=\"#000000\" fill-rule=\"evenodd\" fill-opacity=\"1\" /><polyline clip-path=\"url(#clip382)\" style=\"stroke:#000000; stroke-linecap:round; stroke-linejoin:round; stroke-width:4; stroke-opacity:1; fill:none\" points=\"-307.108,10531.9 -313.991,10525 \"/>\n",
       "<polyline clip-path=\"url(#clip382)\" style=\"stroke:#000000; stroke-linecap:round; stroke-linejoin:round; stroke-width:4; stroke-opacity:1; fill:none\" points=\"-313.991,10525 -313.991,6698.15 \"/>\n",
       "<polyline clip-path=\"url(#clip382)\" style=\"stroke:#000000; stroke-linecap:round; stroke-linejoin:round; stroke-width:4; stroke-opacity:1; fill:none\" points=\"-313.991,6698.15 -258.928,6698.15 \"/>\n",
       "<polyline clip-path=\"url(#clip382)\" style=\"stroke:#000000; stroke-linecap:round; stroke-linejoin:round; stroke-width:4; stroke-opacity:1; fill:none\" points=\"-258.928,6698.15 -252.046,6691.27 \"/>\n",
       "<polyline clip-path=\"url(#clip382)\" style=\"stroke:#000000; stroke-linecap:round; stroke-linejoin:round; stroke-width:4; stroke-opacity:1; fill:none\" points=\"-252.046,6691.27 -252.046,6622.44 \"/>\n",
       "<polyline clip-path=\"url(#clip382)\" style=\"stroke:#000000; stroke-linecap:round; stroke-linejoin:round; stroke-width:4; stroke-opacity:1; fill:none\" points=\"-252.046,6622.44 -258.928,6615.56 \"/>\n",
       "<polyline clip-path=\"url(#clip382)\" style=\"stroke:#000000; stroke-linecap:round; stroke-linejoin:round; stroke-width:4; stroke-opacity:1; fill:none\" points=\"-258.928,6615.56 -995.391,6615.56 \"/>\n",
       "<polyline clip-path=\"url(#clip382)\" style=\"stroke:#000000; stroke-linecap:round; stroke-linejoin:round; stroke-width:4; stroke-opacity:1; fill:none\" points=\"-995.391,6615.56 -1002.27,6608.68 \"/>\n",
       "<polyline clip-path=\"url(#clip382)\" style=\"stroke:#000000; stroke-linecap:round; stroke-linejoin:round; stroke-width:4; stroke-opacity:1; fill:none\" points=\"-1002.27,6608.68 -1002.27,4013.85 \"/>\n",
       "<polyline clip-path=\"url(#clip382)\" style=\"stroke:#000000; stroke-linecap:round; stroke-linejoin:round; stroke-width:4; stroke-opacity:1; fill:none\" points=\"-1002.27,4013.85 573.894,4013.85 \"/>\n",
       "<polyline clip-path=\"url(#clip382)\" style=\"stroke:#000000; stroke-linecap:round; stroke-linejoin:round; stroke-width:4; stroke-opacity:1; fill:none\" points=\"573.894,4013.85 580.776,4006.97 \"/>\n",
       "<polyline clip-path=\"url(#clip382)\" style=\"stroke:#000000; stroke-linecap:round; stroke-linejoin:round; stroke-width:4; stroke-opacity:1; fill:none\" points=\"580.776,4006.97 580.776,3938.14 \"/>\n",
       "<polyline clip-path=\"url(#clip382)\" style=\"stroke:#000000; stroke-linecap:round; stroke-linejoin:round; stroke-width:4; stroke-opacity:1; fill:none\" points=\"580.776,3938.14 573.894,3931.26 \"/>\n",
       "<polyline clip-path=\"url(#clip382)\" style=\"stroke:#000000; stroke-linecap:round; stroke-linejoin:round; stroke-width:4; stroke-opacity:1; fill:none\" points=\"573.894,3931.26 -3273.61,3931.26 \"/>\n",
       "<polyline clip-path=\"url(#clip382)\" style=\"stroke:#000000; stroke-linecap:round; stroke-linejoin:round; stroke-width:4; stroke-opacity:1; fill:none\" points=\"-3273.61,3931.26 -3273.61,3821.13 \"/>\n",
       "<polyline clip-path=\"url(#clip382)\" style=\"stroke:#000000; stroke-linecap:round; stroke-linejoin:round; stroke-width:4; stroke-opacity:1; fill:none\" points=\"-3273.61,3821.13 -3280.49,3814.25 \"/>\n",
       "<polyline clip-path=\"url(#clip382)\" style=\"stroke:#000000; stroke-linecap:round; stroke-linejoin:round; stroke-width:4; stroke-opacity:1; fill:none\" points=\"-3280.49,3814.25 -3349.32,3814.25 \"/>\n",
       "<polyline clip-path=\"url(#clip382)\" style=\"stroke:#000000; stroke-linecap:round; stroke-linejoin:round; stroke-width:4; stroke-opacity:1; fill:none\" points=\"-3349.32,3814.25 -3356.2,3821.13 \"/>\n",
       "<polyline clip-path=\"url(#clip382)\" style=\"stroke:#000000; stroke-linecap:round; stroke-linejoin:round; stroke-width:4; stroke-opacity:1; fill:none\" points=\"-3356.2,3821.13 -3356.2,3931.26 \"/>\n",
       "<polyline clip-path=\"url(#clip382)\" style=\"stroke:#000000; stroke-linecap:round; stroke-linejoin:round; stroke-width:4; stroke-opacity:1; fill:none\" points=\"-3356.2,3931.26 -5304.04,3931.26 \"/>\n",
       "<polyline clip-path=\"url(#clip382)\" style=\"stroke:#000000; stroke-linecap:round; stroke-linejoin:round; stroke-width:4; stroke-opacity:1; fill:none\" points=\"-5304.04,3931.26 -5310.92,3924.37 \"/>\n",
       "<polyline clip-path=\"url(#clip382)\" style=\"stroke:#000000; stroke-linecap:round; stroke-linejoin:round; stroke-width:4; stroke-opacity:1; fill:none\" points=\"-5310.92,3924.37 -5317.81,3924.37 \"/>\n",
       "<polyline clip-path=\"url(#clip382)\" style=\"stroke:#000000; stroke-linecap:round; stroke-linejoin:round; stroke-width:4; stroke-opacity:1; fill:none\" points=\"-5317.81,3924.37 -5324.69,3931.26 \"/>\n",
       "<polyline clip-path=\"url(#clip382)\" style=\"stroke:#000000; stroke-linecap:round; stroke-linejoin:round; stroke-width:4; stroke-opacity:1; fill:none\" points=\"-5324.69,3931.26 -5544.94,3931.26 \"/>\n",
       "<polyline clip-path=\"url(#clip382)\" style=\"stroke:#000000; stroke-linecap:round; stroke-linejoin:round; stroke-width:4; stroke-opacity:1; fill:none\" points=\"-5544.94,3931.26 -5551.82,3938.14 \"/>\n",
       "<polyline clip-path=\"url(#clip382)\" style=\"stroke:#000000; stroke-linecap:round; stroke-linejoin:round; stroke-width:4; stroke-opacity:1; fill:none\" points=\"-5551.82,3938.14 -5551.82,4006.97 \"/>\n",
       "<polyline clip-path=\"url(#clip382)\" style=\"stroke:#000000; stroke-linecap:round; stroke-linejoin:round; stroke-width:4; stroke-opacity:1; fill:none\" points=\"-5551.82,4006.97 -5544.94,4013.85 \"/>\n",
       "<polyline clip-path=\"url(#clip382)\" style=\"stroke:#000000; stroke-linecap:round; stroke-linejoin:round; stroke-width:4; stroke-opacity:1; fill:none\" points=\"-5544.94,4013.85 -5379.75,4013.85 \"/>\n",
       "<polyline clip-path=\"url(#clip382)\" style=\"stroke:#000000; stroke-linecap:round; stroke-linejoin:round; stroke-width:4; stroke-opacity:1; fill:none\" points=\"-5379.75,4013.85 -5379.75,6615.56 \"/>\n",
       "<polyline clip-path=\"url(#clip382)\" style=\"stroke:#000000; stroke-linecap:round; stroke-linejoin:round; stroke-width:4; stroke-opacity:1; fill:none\" points=\"-5379.75,6615.56 -8084.7,6615.56 \"/>\n",
       "<polyline clip-path=\"url(#clip382)\" style=\"stroke:#000000; stroke-linecap:round; stroke-linejoin:round; stroke-width:4; stroke-opacity:1; fill:none\" points=\"-8084.7,6615.56 -8091.58,6608.68 \"/>\n",
       "<polyline clip-path=\"url(#clip382)\" style=\"stroke:#000000; stroke-linecap:round; stroke-linejoin:round; stroke-width:4; stroke-opacity:1; fill:none\" points=\"-8091.58,6608.68 -8091.58,4357.99 \"/>\n",
       "<polyline clip-path=\"url(#clip382)\" style=\"stroke:#000000; stroke-linecap:round; stroke-linejoin:round; stroke-width:4; stroke-opacity:1; fill:none\" points=\"-8091.58,4357.99 -6315.82,4357.99 \"/>\n",
       "<polyline clip-path=\"url(#clip382)\" style=\"stroke:#000000; stroke-linecap:round; stroke-linejoin:round; stroke-width:4; stroke-opacity:1; fill:none\" points=\"-6315.82,4357.99 -6302.05,4344.23 \"/>\n",
       "<polyline clip-path=\"url(#clip382)\" style=\"stroke:#000000; stroke-linecap:round; stroke-linejoin:round; stroke-width:4; stroke-opacity:1; fill:none\" points=\"-6302.05,4344.23 -6302.05,4013.85 \"/>\n",
       "<polyline clip-path=\"url(#clip382)\" style=\"stroke:#000000; stroke-linecap:round; stroke-linejoin:round; stroke-width:4; stroke-opacity:1; fill:none\" points=\"-6302.05,4013.85 -6136.86,4013.85 \"/>\n",
       "<polyline clip-path=\"url(#clip382)\" style=\"stroke:#000000; stroke-linecap:round; stroke-linejoin:round; stroke-width:4; stroke-opacity:1; fill:none\" points=\"-6136.86,4013.85 -6129.98,4006.97 \"/>\n",
       "<polyline clip-path=\"url(#clip382)\" style=\"stroke:#000000; stroke-linecap:round; stroke-linejoin:round; stroke-width:4; stroke-opacity:1; fill:none\" points=\"-6129.98,4006.97 -6129.98,3938.14 \"/>\n",
       "<polyline clip-path=\"url(#clip382)\" style=\"stroke:#000000; stroke-linecap:round; stroke-linejoin:round; stroke-width:4; stroke-opacity:1; fill:none\" points=\"-6129.98,3938.14 -6136.86,3931.26 \"/>\n",
       "<polyline clip-path=\"url(#clip382)\" style=\"stroke:#000000; stroke-linecap:round; stroke-linejoin:round; stroke-width:4; stroke-opacity:1; fill:none\" points=\"-6136.86,3931.26 -6302.05,3931.26 \"/>\n",
       "<polyline clip-path=\"url(#clip382)\" style=\"stroke:#000000; stroke-linecap:round; stroke-linejoin:round; stroke-width:4; stroke-opacity:1; fill:none\" points=\"-6302.05,3931.26 -6302.05,3621.53 \"/>\n",
       "<polyline clip-path=\"url(#clip382)\" style=\"stroke:#000000; stroke-linecap:round; stroke-linejoin:round; stroke-width:4; stroke-opacity:1; fill:none\" points=\"-6302.05,3621.53 -6308.93,3614.65 \"/>\n",
       "<polyline clip-path=\"url(#clip382)\" style=\"stroke:#000000; stroke-linecap:round; stroke-linejoin:round; stroke-width:4; stroke-opacity:1; fill:none\" points=\"-6308.93,3614.65 -6377.76,3614.65 \"/>\n",
       "<polyline clip-path=\"url(#clip382)\" style=\"stroke:#000000; stroke-linecap:round; stroke-linejoin:round; stroke-width:4; stroke-opacity:1; fill:none\" points=\"-6377.76,3614.65 -6384.64,3621.53 \"/>\n",
       "<polyline clip-path=\"url(#clip382)\" style=\"stroke:#000000; stroke-linecap:round; stroke-linejoin:round; stroke-width:4; stroke-opacity:1; fill:none\" points=\"-6384.64,3621.53 -6384.64,4275.4 \"/>\n",
       "<polyline clip-path=\"url(#clip382)\" style=\"stroke:#000000; stroke-linecap:round; stroke-linejoin:round; stroke-width:4; stroke-opacity:1; fill:none\" points=\"-6384.64,4275.4 -8091.58,4275.4 \"/>\n",
       "<polyline clip-path=\"url(#clip382)\" style=\"stroke:#000000; stroke-linecap:round; stroke-linejoin:round; stroke-width:4; stroke-opacity:1; fill:none\" points=\"-8091.58,4275.4 -8091.58,2981.43 \"/>\n",
       "<polyline clip-path=\"url(#clip382)\" style=\"stroke:#000000; stroke-linecap:round; stroke-linejoin:round; stroke-width:4; stroke-opacity:1; fill:none\" points=\"-8091.58,2981.43 -6384.64,2981.43 \"/>\n",
       "<polyline clip-path=\"url(#clip382)\" style=\"stroke:#000000; stroke-linecap:round; stroke-linejoin:round; stroke-width:4; stroke-opacity:1; fill:none\" points=\"-6384.64,2981.43 -6384.64,3029.61 \"/>\n",
       "<polyline clip-path=\"url(#clip382)\" style=\"stroke:#000000; stroke-linecap:round; stroke-linejoin:round; stroke-width:4; stroke-opacity:1; fill:none\" points=\"-6384.64,3029.61 -6377.76,3036.49 \"/>\n",
       "<polyline clip-path=\"url(#clip382)\" style=\"stroke:#000000; stroke-linecap:round; stroke-linejoin:round; stroke-width:4; stroke-opacity:1; fill:none\" points=\"-6377.76,3036.49 -6308.93,3036.49 \"/>\n",
       "<polyline clip-path=\"url(#clip382)\" style=\"stroke:#000000; stroke-linecap:round; stroke-linejoin:round; stroke-width:4; stroke-opacity:1; fill:none\" points=\"-6308.93,3036.49 -6302.05,3029.61 \"/>\n",
       "<polyline clip-path=\"url(#clip382)\" style=\"stroke:#000000; stroke-linecap:round; stroke-linejoin:round; stroke-width:4; stroke-opacity:1; fill:none\" points=\"-6302.05,3029.61 -6302.05,2981.43 \"/>\n",
       "<polyline clip-path=\"url(#clip382)\" style=\"stroke:#000000; stroke-linecap:round; stroke-linejoin:round; stroke-width:4; stroke-opacity:1; fill:none\" points=\"-6302.05,2981.43 -5758.31,2981.43 \"/>\n",
       "<polyline clip-path=\"url(#clip382)\" style=\"stroke:#000000; stroke-linecap:round; stroke-linejoin:round; stroke-width:4; stroke-opacity:1; fill:none\" points=\"-5758.31,2981.43 -5751.42,2988.31 \"/>\n",
       "<polyline clip-path=\"url(#clip382)\" style=\"stroke:#000000; stroke-linecap:round; stroke-linejoin:round; stroke-width:4; stroke-opacity:1; fill:none\" points=\"-5751.42,2988.31 -5751.42,2995.19 \"/>\n",
       "<polyline clip-path=\"url(#clip382)\" style=\"stroke:#000000; stroke-linecap:round; stroke-linejoin:round; stroke-width:4; stroke-opacity:1; fill:none\" points=\"-5751.42,2995.19 -5744.54,3002.07 \"/>\n",
       "<polyline clip-path=\"url(#clip382)\" style=\"stroke:#000000; stroke-linecap:round; stroke-linejoin:round; stroke-width:4; stroke-opacity:1; fill:none\" points=\"-5744.54,3002.07 -5730.78,3002.07 \"/>\n",
       "<polyline clip-path=\"url(#clip382)\" style=\"stroke:#000000; stroke-linecap:round; stroke-linejoin:round; stroke-width:4; stroke-opacity:1; fill:none\" points=\"-5730.78,3002.07 -5723.89,2995.19 \"/>\n",
       "<polyline clip-path=\"url(#clip382)\" style=\"stroke:#000000; stroke-linecap:round; stroke-linejoin:round; stroke-width:4; stroke-opacity:1; fill:none\" points=\"-5723.89,2995.19 -5717.01,2995.19 \"/>\n",
       "<polyline clip-path=\"url(#clip382)\" style=\"stroke:#000000; stroke-linecap:round; stroke-linejoin:round; stroke-width:4; stroke-opacity:1; fill:none\" points=\"-5717.01,2995.19 -5710.13,2988.31 \"/>\n",
       "<polyline clip-path=\"url(#clip382)\" style=\"stroke:#000000; stroke-linecap:round; stroke-linejoin:round; stroke-width:4; stroke-opacity:1; fill:none\" points=\"-5710.13,2988.31 -5703.24,2988.31 \"/>\n",
       "<polyline clip-path=\"url(#clip382)\" style=\"stroke:#000000; stroke-linecap:round; stroke-linejoin:round; stroke-width:4; stroke-opacity:1; fill:none\" points=\"-5703.24,2988.31 -5696.36,2981.43 \"/>\n",
       "<polyline clip-path=\"url(#clip382)\" style=\"stroke:#000000; stroke-linecap:round; stroke-linejoin:round; stroke-width:4; stroke-opacity:1; fill:none\" points=\"-5696.36,2981.43 -5689.48,2981.43 \"/>\n",
       "<polyline clip-path=\"url(#clip382)\" style=\"stroke:#000000; stroke-linecap:round; stroke-linejoin:round; stroke-width:4; stroke-opacity:1; fill:none\" points=\"-5689.48,2981.43 -5682.6,2974.54 \"/>\n",
       "<polyline clip-path=\"url(#clip382)\" style=\"stroke:#000000; stroke-linecap:round; stroke-linejoin:round; stroke-width:4; stroke-opacity:1; fill:none\" points=\"-5682.6,2974.54 -5675.71,2974.54 \"/>\n",
       "<polyline clip-path=\"url(#clip382)\" style=\"stroke:#000000; stroke-linecap:round; stroke-linejoin:round; stroke-width:4; stroke-opacity:1; fill:none\" points=\"-5675.71,2974.54 -5668.83,2967.66 \"/>\n",
       "<polyline clip-path=\"url(#clip382)\" style=\"stroke:#000000; stroke-linecap:round; stroke-linejoin:round; stroke-width:4; stroke-opacity:1; fill:none\" points=\"-5668.83,2967.66 -5682.6,2953.89 \"/>\n",
       "<polyline clip-path=\"url(#clip382)\" style=\"stroke:#000000; stroke-linecap:round; stroke-linejoin:round; stroke-width:4; stroke-opacity:1; fill:none\" points=\"-5682.6,2953.89 -5682.6,2905.71 \"/>\n",
       "<polyline clip-path=\"url(#clip382)\" style=\"stroke:#000000; stroke-linecap:round; stroke-linejoin:round; stroke-width:4; stroke-opacity:1; fill:none\" points=\"-5682.6,2905.71 -5689.48,2898.83 \"/>\n",
       "<polyline clip-path=\"url(#clip382)\" style=\"stroke:#000000; stroke-linecap:round; stroke-linejoin:round; stroke-width:4; stroke-opacity:1; fill:none\" points=\"-5689.48,2898.83 -5689.48,1260.72 \"/>\n",
       "<polyline clip-path=\"url(#clip382)\" style=\"stroke:#000000; stroke-linecap:round; stroke-linejoin:round; stroke-width:4; stroke-opacity:1; fill:none\" points=\"-5689.48,1260.72 -4973.66,1260.72 \"/>\n",
       "<polyline clip-path=\"url(#clip382)\" style=\"stroke:#000000; stroke-linecap:round; stroke-linejoin:round; stroke-width:4; stroke-opacity:1; fill:none\" points=\"-4973.66,1260.72 -4966.78,1253.84 \"/>\n",
       "<polyline clip-path=\"url(#clip382)\" style=\"stroke:#000000; stroke-linecap:round; stroke-linejoin:round; stroke-width:4; stroke-opacity:1; fill:none\" points=\"-4966.78,1253.84 -4966.78,1185.01 \"/>\n",
       "<polyline clip-path=\"url(#clip382)\" style=\"stroke:#000000; stroke-linecap:round; stroke-linejoin:round; stroke-width:4; stroke-opacity:1; fill:none\" points=\"-4966.78,1185.01 -4973.66,1178.13 \"/>\n",
       "<polyline clip-path=\"url(#clip382)\" style=\"stroke:#000000; stroke-linecap:round; stroke-linejoin:round; stroke-width:4; stroke-opacity:1; fill:none\" points=\"-4973.66,1178.13 -6536.07,1178.13 \"/>\n",
       "<polyline clip-path=\"url(#clip382)\" style=\"stroke:#000000; stroke-linecap:round; stroke-linejoin:round; stroke-width:4; stroke-opacity:1; fill:none\" points=\"-6536.07,1178.13 -6542.95,1185.01 \"/>\n",
       "<polyline clip-path=\"url(#clip382)\" style=\"stroke:#000000; stroke-linecap:round; stroke-linejoin:round; stroke-width:4; stroke-opacity:1; fill:none\" points=\"-6542.95,1185.01 -6542.95,1253.84 \"/>\n",
       "<polyline clip-path=\"url(#clip382)\" style=\"stroke:#000000; stroke-linecap:round; stroke-linejoin:round; stroke-width:4; stroke-opacity:1; fill:none\" points=\"-6542.95,1253.84 -6536.07,1260.72 \"/>\n",
       "<polyline clip-path=\"url(#clip382)\" style=\"stroke:#000000; stroke-linecap:round; stroke-linejoin:round; stroke-width:4; stroke-opacity:1; fill:none\" points=\"-6536.07,1260.72 -5765.19,1260.72 \"/>\n",
       "<polyline clip-path=\"url(#clip382)\" style=\"stroke:#000000; stroke-linecap:round; stroke-linejoin:round; stroke-width:4; stroke-opacity:1; fill:none\" points=\"-5765.19,1260.72 -5765.19,2898.83 \"/>\n",
       "<polyline clip-path=\"url(#clip382)\" style=\"stroke:#000000; stroke-linecap:round; stroke-linejoin:round; stroke-width:4; stroke-opacity:1; fill:none\" points=\"-5765.19,2898.83 -8091.58,2898.83 \"/>\n",
       "<polyline clip-path=\"url(#clip382)\" style=\"stroke:#000000; stroke-linecap:round; stroke-linejoin:round; stroke-width:4; stroke-opacity:1; fill:none\" points=\"-8091.58,2898.83 -8091.58,1260.72 \"/>\n",
       "<polyline clip-path=\"url(#clip382)\" style=\"stroke:#000000; stroke-linecap:round; stroke-linejoin:round; stroke-width:4; stroke-opacity:1; fill:none\" points=\"-8091.58,1260.72 -7196.82,1260.72 \"/>\n",
       "<polyline clip-path=\"url(#clip382)\" style=\"stroke:#000000; stroke-linecap:round; stroke-linejoin:round; stroke-width:4; stroke-opacity:1; fill:none\" points=\"-7196.82,1260.72 -7189.93,1253.84 \"/>\n",
       "<polyline clip-path=\"url(#clip382)\" style=\"stroke:#000000; stroke-linecap:round; stroke-linejoin:round; stroke-width:4; stroke-opacity:1; fill:none\" points=\"-7189.93,1253.84 -7189.93,1185.01 \"/>\n",
       "<polyline clip-path=\"url(#clip382)\" style=\"stroke:#000000; stroke-linecap:round; stroke-linejoin:round; stroke-width:4; stroke-opacity:1; fill:none\" points=\"-7189.93,1185.01 -7196.82,1178.13 \"/>\n",
       "<polyline clip-path=\"url(#clip382)\" style=\"stroke:#000000; stroke-linecap:round; stroke-linejoin:round; stroke-width:4; stroke-opacity:1; fill:none\" points=\"-7196.82,1178.13 -8119.12,1178.13 \"/>\n",
       "<polyline clip-path=\"url(#clip382)\" style=\"stroke:#000000; stroke-linecap:round; stroke-linejoin:round; stroke-width:4; stroke-opacity:1; fill:none\" points=\"-8119.12,1178.13 -8126,1171.24 \"/>\n",
       "<polyline clip-path=\"url(#clip382)\" style=\"stroke:#000000; stroke-linecap:round; stroke-linejoin:round; stroke-width:4; stroke-opacity:1; fill:none\" points=\"-8126,1171.24 -8132.88,1171.24 \"/>\n",
       "<polyline clip-path=\"url(#clip382)\" style=\"stroke:#000000; stroke-linecap:round; stroke-linejoin:round; stroke-width:4; stroke-opacity:1; fill:none\" points=\"-8132.88,1171.24 -8146.65,1157.48 \"/>\n",
       "<polyline clip-path=\"url(#clip382)\" style=\"stroke:#000000; stroke-linecap:round; stroke-linejoin:round; stroke-width:4; stroke-opacity:1; fill:none\" points=\"-8146.65,1157.48 -8153.53,1157.48 \"/>\n",
       "<polyline clip-path=\"url(#clip382)\" style=\"stroke:#000000; stroke-linecap:round; stroke-linejoin:round; stroke-width:4; stroke-opacity:1; fill:none\" points=\"-8153.53,1157.48 -8167.3,1143.71 \"/>\n",
       "<polyline clip-path=\"url(#clip382)\" style=\"stroke:#000000; stroke-linecap:round; stroke-linejoin:round; stroke-width:4; stroke-opacity:1; fill:none\" points=\"-8167.3,1143.71 -8174.18,1143.71 \"/>\n",
       "<polyline clip-path=\"url(#clip382)\" style=\"stroke:#000000; stroke-linecap:round; stroke-linejoin:round; stroke-width:4; stroke-opacity:1; fill:none\" points=\"-8174.18,1143.71 -8187.94,1129.95 \"/>\n",
       "<polyline clip-path=\"url(#clip382)\" style=\"stroke:#000000; stroke-linecap:round; stroke-linejoin:round; stroke-width:4; stroke-opacity:1; fill:none\" points=\"-8187.94,1129.95 -8194.83,1129.95 \"/>\n",
       "<polyline clip-path=\"url(#clip382)\" style=\"stroke:#000000; stroke-linecap:round; stroke-linejoin:round; stroke-width:4; stroke-opacity:1; fill:none\" points=\"-8194.83,1129.95 -8208.59,1116.18 \"/>\n",
       "<polyline clip-path=\"url(#clip382)\" style=\"stroke:#000000; stroke-linecap:round; stroke-linejoin:round; stroke-width:4; stroke-opacity:1; fill:none\" points=\"-8208.59,1116.18 -8215.48,1116.18 \"/>\n",
       "<polyline clip-path=\"url(#clip382)\" style=\"stroke:#000000; stroke-linecap:round; stroke-linejoin:round; stroke-width:4; stroke-opacity:1; fill:none\" points=\"-8215.48,1116.18 -8229.24,1102.41 \"/>\n",
       "<polyline clip-path=\"url(#clip382)\" style=\"stroke:#000000; stroke-linecap:round; stroke-linejoin:round; stroke-width:4; stroke-opacity:1; fill:none\" points=\"-8229.24,1102.41 -8236.12,1102.41 \"/>\n",
       "<polyline clip-path=\"url(#clip382)\" style=\"stroke:#000000; stroke-linecap:round; stroke-linejoin:round; stroke-width:4; stroke-opacity:1; fill:none\" points=\"-8236.12,1102.41 -8243.01,1095.53 \"/>\n",
       "<polyline clip-path=\"url(#clip382)\" style=\"stroke:#000000; stroke-linecap:round; stroke-linejoin:round; stroke-width:4; stroke-opacity:1; fill:none\" points=\"-8243.01,1095.53 -8249.89,1095.53 \"/>\n",
       "<polyline clip-path=\"url(#clip382)\" style=\"stroke:#000000; stroke-linecap:round; stroke-linejoin:round; stroke-width:4; stroke-opacity:1; fill:none\" points=\"-8249.89,1095.53 -8263.66,1081.77 \"/>\n",
       "<polyline clip-path=\"url(#clip382)\" style=\"stroke:#000000; stroke-linecap:round; stroke-linejoin:round; stroke-width:4; stroke-opacity:1; fill:none\" points=\"-8263.66,1081.77 -8270.54,1081.77 \"/>\n",
       "<polyline clip-path=\"url(#clip382)\" style=\"stroke:#000000; stroke-linecap:round; stroke-linejoin:round; stroke-width:4; stroke-opacity:1; fill:none\" points=\"-8270.54,1081.77 -8284.3,1068 \"/>\n",
       "<polyline clip-path=\"url(#clip382)\" style=\"stroke:#000000; stroke-linecap:round; stroke-linejoin:round; stroke-width:4; stroke-opacity:1; fill:none\" points=\"-8284.3,1068 -8291.19,1068 \"/>\n",
       "<polyline clip-path=\"url(#clip382)\" style=\"stroke:#000000; stroke-linecap:round; stroke-linejoin:round; stroke-width:4; stroke-opacity:1; fill:none\" points=\"-8291.19,1068 -8304.95,1054.23 \"/>\n",
       "<polyline clip-path=\"url(#clip382)\" style=\"stroke:#000000; stroke-linecap:round; stroke-linejoin:round; stroke-width:4; stroke-opacity:1; fill:none\" points=\"-8304.95,1054.23 -8311.83,1054.23 \"/>\n",
       "<polyline clip-path=\"url(#clip382)\" style=\"stroke:#000000; stroke-linecap:round; stroke-linejoin:round; stroke-width:4; stroke-opacity:1; fill:none\" points=\"-8311.83,1054.23 -8325.6,1040.47 \"/>\n",
       "<polyline clip-path=\"url(#clip382)\" style=\"stroke:#000000; stroke-linecap:round; stroke-linejoin:round; stroke-width:4; stroke-opacity:1; fill:none\" points=\"-8325.6,1040.47 -8332.48,1040.47 \"/>\n",
       "<polyline clip-path=\"url(#clip382)\" style=\"stroke:#000000; stroke-linecap:round; stroke-linejoin:round; stroke-width:4; stroke-opacity:1; fill:none\" points=\"-8332.48,1040.47 -8346.25,1026.7 \"/>\n",
       "<polyline clip-path=\"url(#clip382)\" style=\"stroke:#000000; stroke-linecap:round; stroke-linejoin:round; stroke-width:4; stroke-opacity:1; fill:none\" points=\"-8346.25,1026.7 -8353.13,1026.7 \"/>\n",
       "<polyline clip-path=\"url(#clip382)\" style=\"stroke:#000000; stroke-linecap:round; stroke-linejoin:round; stroke-width:4; stroke-opacity:1; fill:none\" points=\"-8353.13,1026.7 -8366.9,1012.94 \"/>\n",
       "<polyline clip-path=\"url(#clip382)\" style=\"stroke:#000000; stroke-linecap:round; stroke-linejoin:round; stroke-width:4; stroke-opacity:1; fill:none\" points=\"-8366.9,1012.94 -8373.78,1012.94 \"/>\n",
       "<polyline clip-path=\"url(#clip382)\" style=\"stroke:#000000; stroke-linecap:round; stroke-linejoin:round; stroke-width:4; stroke-opacity:1; fill:none\" points=\"-8373.78,1012.94 -8387.55,999.172 \"/>\n",
       "<polyline clip-path=\"url(#clip382)\" style=\"stroke:#000000; stroke-linecap:round; stroke-linejoin:round; stroke-width:4; stroke-opacity:1; fill:none\" points=\"-8387.55,999.172 -8394.43,999.172 \"/>\n",
       "<polyline clip-path=\"url(#clip382)\" style=\"stroke:#000000; stroke-linecap:round; stroke-linejoin:round; stroke-width:4; stroke-opacity:1; fill:none\" points=\"-8394.43,999.172 -8408.19,985.406 \"/>\n",
       "<polyline clip-path=\"url(#clip382)\" style=\"stroke:#000000; stroke-linecap:round; stroke-linejoin:round; stroke-width:4; stroke-opacity:1; fill:none\" points=\"-8408.19,985.406 -8415.08,985.406 \"/>\n",
       "<polyline clip-path=\"url(#clip382)\" style=\"stroke:#000000; stroke-linecap:round; stroke-linejoin:round; stroke-width:4; stroke-opacity:1; fill:none\" points=\"-8415.08,985.406 -8428.84,971.641 \"/>\n",
       "<polyline clip-path=\"url(#clip382)\" style=\"stroke:#000000; stroke-linecap:round; stroke-linejoin:round; stroke-width:4; stroke-opacity:1; fill:none\" points=\"-8428.84,971.641 -8435.73,971.641 \"/>\n",
       "<polyline clip-path=\"url(#clip382)\" style=\"stroke:#000000; stroke-linecap:round; stroke-linejoin:round; stroke-width:4; stroke-opacity:1; fill:none\" points=\"-8435.73,971.641 -8449.49,957.875 \"/>\n",
       "<polyline clip-path=\"url(#clip382)\" style=\"stroke:#000000; stroke-linecap:round; stroke-linejoin:round; stroke-width:4; stroke-opacity:1; fill:none\" points=\"-8449.49,957.875 -8456.37,957.875 \"/>\n",
       "<polyline clip-path=\"url(#clip382)\" style=\"stroke:#000000; stroke-linecap:round; stroke-linejoin:round; stroke-width:4; stroke-opacity:1; fill:none\" points=\"-8456.37,957.875 -8470.14,944.109 \"/>\n",
       "<polyline clip-path=\"url(#clip382)\" style=\"stroke:#000000; stroke-linecap:round; stroke-linejoin:round; stroke-width:4; stroke-opacity:1; fill:none\" points=\"-8470.14,944.109 -8477.02,944.109 \"/>\n",
       "<polyline clip-path=\"url(#clip382)\" style=\"stroke:#000000; stroke-linecap:round; stroke-linejoin:round; stroke-width:4; stroke-opacity:1; fill:none\" points=\"-8477.02,944.109 -8490.79,930.344 \"/>\n",
       "<polyline clip-path=\"url(#clip382)\" style=\"stroke:#000000; stroke-linecap:round; stroke-linejoin:round; stroke-width:4; stroke-opacity:1; fill:none\" points=\"-8490.79,930.344 -8497.67,930.344 \"/>\n",
       "<polyline clip-path=\"url(#clip382)\" style=\"stroke:#000000; stroke-linecap:round; stroke-linejoin:round; stroke-width:4; stroke-opacity:1; fill:none\" points=\"-8497.67,930.344 -8511.44,916.578 \"/>\n",
       "<polyline clip-path=\"url(#clip382)\" style=\"stroke:#000000; stroke-linecap:round; stroke-linejoin:round; stroke-width:4; stroke-opacity:1; fill:none\" points=\"-8511.44,916.578 -8518.32,916.578 \"/>\n",
       "<polyline clip-path=\"url(#clip382)\" style=\"stroke:#000000; stroke-linecap:round; stroke-linejoin:round; stroke-width:4; stroke-opacity:1; fill:none\" points=\"-8518.32,916.578 -8532.09,902.812 \"/>\n",
       "<polyline clip-path=\"url(#clip382)\" style=\"stroke:#000000; stroke-linecap:round; stroke-linejoin:round; stroke-width:4; stroke-opacity:1; fill:none\" points=\"-8532.09,902.812 -8538.97,902.812 \"/>\n",
       "<polyline clip-path=\"url(#clip382)\" style=\"stroke:#000000; stroke-linecap:round; stroke-linejoin:round; stroke-width:4; stroke-opacity:1; fill:none\" points=\"-8538.97,902.812 -8545.85,895.929 \"/>\n",
       "<polyline clip-path=\"url(#clip382)\" style=\"stroke:#000000; stroke-linecap:round; stroke-linejoin:round; stroke-width:4; stroke-opacity:1; fill:none\" points=\"-8545.85,895.929 -8552.73,895.929 \"/>\n",
       "<polyline clip-path=\"url(#clip382)\" style=\"stroke:#000000; stroke-linecap:round; stroke-linejoin:round; stroke-width:4; stroke-opacity:1; fill:none\" points=\"-8552.73,895.929 -8566.5,882.164 \"/>\n",
       "<polyline clip-path=\"url(#clip382)\" style=\"stroke:#000000; stroke-linecap:round; stroke-linejoin:round; stroke-width:4; stroke-opacity:1; fill:none\" points=\"-8566.5,882.164 -8573.38,882.164 \"/>\n",
       "<polyline clip-path=\"url(#clip382)\" style=\"stroke:#000000; stroke-linecap:round; stroke-linejoin:round; stroke-width:4; stroke-opacity:1; fill:none\" points=\"-8573.38,882.164 -8587.15,868.398 \"/>\n",
       "<polyline clip-path=\"url(#clip382)\" style=\"stroke:#000000; stroke-linecap:round; stroke-linejoin:round; stroke-width:4; stroke-opacity:1; fill:none\" points=\"-8587.15,868.398 -8594.03,868.398 \"/>\n",
       "<polyline clip-path=\"url(#clip382)\" style=\"stroke:#000000; stroke-linecap:round; stroke-linejoin:round; stroke-width:4; stroke-opacity:1; fill:none\" points=\"-8594.03,868.398 -8607.8,854.632 \"/>\n",
       "<polyline clip-path=\"url(#clip382)\" style=\"stroke:#000000; stroke-linecap:round; stroke-linejoin:round; stroke-width:4; stroke-opacity:1; fill:none\" points=\"-8607.8,854.632 -8614.68,854.632 \"/>\n",
       "<polyline clip-path=\"url(#clip382)\" style=\"stroke:#000000; stroke-linecap:round; stroke-linejoin:round; stroke-width:4; stroke-opacity:1; fill:none\" points=\"-8614.68,854.632 -8628.44,840.867 \"/>\n",
       "<polyline clip-path=\"url(#clip382)\" style=\"stroke:#000000; stroke-linecap:round; stroke-linejoin:round; stroke-width:4; stroke-opacity:1; fill:none\" points=\"-8628.44,840.867 -8635.33,840.867 \"/>\n",
       "<polyline clip-path=\"url(#clip382)\" style=\"stroke:#000000; stroke-linecap:round; stroke-linejoin:round; stroke-width:4; stroke-opacity:1; fill:none\" points=\"-8635.33,840.867 -8649.09,827.101 \"/>\n",
       "<polyline clip-path=\"url(#clip382)\" style=\"stroke:#000000; stroke-linecap:round; stroke-linejoin:round; stroke-width:4; stroke-opacity:1; fill:none\" points=\"-8649.09,827.101 -8655.98,827.101 \"/>\n",
       "<polyline clip-path=\"url(#clip382)\" style=\"stroke:#000000; stroke-linecap:round; stroke-linejoin:round; stroke-width:4; stroke-opacity:1; fill:none\" points=\"-8655.98,827.101 -8669.74,813.336 \"/>\n",
       "<polyline clip-path=\"url(#clip382)\" style=\"stroke:#000000; stroke-linecap:round; stroke-linejoin:round; stroke-width:4; stroke-opacity:1; fill:none\" points=\"-8669.74,813.336 -8676.62,813.336 \"/>\n",
       "<polyline clip-path=\"url(#clip382)\" style=\"stroke:#000000; stroke-linecap:round; stroke-linejoin:round; stroke-width:4; stroke-opacity:1; fill:none\" points=\"-8676.62,813.336 -8690.39,799.57 \"/>\n",
       "<polyline clip-path=\"url(#clip382)\" style=\"stroke:#000000; stroke-linecap:round; stroke-linejoin:round; stroke-width:4; stroke-opacity:1; fill:none\" points=\"-8690.39,799.57 -8697.27,799.57 \"/>\n",
       "<polyline clip-path=\"url(#clip382)\" style=\"stroke:#000000; stroke-linecap:round; stroke-linejoin:round; stroke-width:4; stroke-opacity:1; fill:none\" points=\"-8697.27,799.57 -8711.04,785.804 \"/>\n",
       "<polyline clip-path=\"url(#clip382)\" style=\"stroke:#000000; stroke-linecap:round; stroke-linejoin:round; stroke-width:4; stroke-opacity:1; fill:none\" points=\"-8711.04,785.804 -8717.92,785.804 \"/>\n",
       "<polyline clip-path=\"url(#clip382)\" style=\"stroke:#000000; stroke-linecap:round; stroke-linejoin:round; stroke-width:4; stroke-opacity:1; fill:none\" points=\"-8717.92,785.804 -8731.69,772.039 \"/>\n",
       "<polyline clip-path=\"url(#clip382)\" style=\"stroke:#000000; stroke-linecap:round; stroke-linejoin:round; stroke-width:4; stroke-opacity:1; fill:none\" points=\"-8731.69,772.039 -8738.57,772.039 \"/>\n",
       "<polyline clip-path=\"url(#clip382)\" style=\"stroke:#000000; stroke-linecap:round; stroke-linejoin:round; stroke-width:4; stroke-opacity:1; fill:none\" points=\"-8738.57,772.039 -8752.34,758.273 \"/>\n",
       "<polyline clip-path=\"url(#clip382)\" style=\"stroke:#000000; stroke-linecap:round; stroke-linejoin:round; stroke-width:4; stroke-opacity:1; fill:none\" points=\"-8752.34,758.273 -8759.22,758.273 \"/>\n",
       "<polyline clip-path=\"url(#clip382)\" style=\"stroke:#000000; stroke-linecap:round; stroke-linejoin:round; stroke-width:4; stroke-opacity:1; fill:none\" points=\"-8759.22,758.273 -8772.98,744.507 \"/>\n",
       "<polyline clip-path=\"url(#clip382)\" style=\"stroke:#000000; stroke-linecap:round; stroke-linejoin:round; stroke-width:4; stroke-opacity:1; fill:none\" points=\"-8772.98,744.507 -8779.87,744.507 \"/>\n",
       "<polyline clip-path=\"url(#clip382)\" style=\"stroke:#000000; stroke-linecap:round; stroke-linejoin:round; stroke-width:4; stroke-opacity:1; fill:none\" points=\"-8779.87,744.507 -8793.63,730.742 \"/>\n",
       "<polyline clip-path=\"url(#clip382)\" style=\"stroke:#000000; stroke-linecap:round; stroke-linejoin:round; stroke-width:4; stroke-opacity:1; fill:none\" points=\"-8793.63,730.742 -8800.52,730.742 \"/>\n",
       "<polyline clip-path=\"url(#clip382)\" style=\"stroke:#000000; stroke-linecap:round; stroke-linejoin:round; stroke-width:4; stroke-opacity:1; fill:none\" points=\"-8800.52,730.742 -8814.28,716.976 \"/>\n",
       "<polyline clip-path=\"url(#clip382)\" style=\"stroke:#000000; stroke-linecap:round; stroke-linejoin:round; stroke-width:4; stroke-opacity:1; fill:none\" points=\"-8814.28,716.976 -8821.16,716.976 \"/>\n",
       "<polyline clip-path=\"url(#clip382)\" style=\"stroke:#000000; stroke-linecap:round; stroke-linejoin:round; stroke-width:4; stroke-opacity:1; fill:none\" points=\"-8821.16,716.976 -8834.93,703.21 \"/>\n",
       "<polyline clip-path=\"url(#clip382)\" style=\"stroke:#000000; stroke-linecap:round; stroke-linejoin:round; stroke-width:4; stroke-opacity:1; fill:none\" points=\"-8834.93,703.21 -8841.81,703.21 \"/>\n",
       "<polyline clip-path=\"url(#clip382)\" style=\"stroke:#000000; stroke-linecap:round; stroke-linejoin:round; stroke-width:4; stroke-opacity:1; fill:none\" points=\"-8841.81,703.21 -8848.7,696.327 \"/>\n",
       "<polyline clip-path=\"url(#clip382)\" style=\"stroke:#000000; stroke-linecap:round; stroke-linejoin:round; stroke-width:4; stroke-opacity:1; fill:none\" points=\"-8848.7,696.327 -8855.58,696.327 \"/>\n",
       "<polyline clip-path=\"url(#clip382)\" style=\"stroke:#000000; stroke-linecap:round; stroke-linejoin:round; stroke-width:4; stroke-opacity:1; fill:none\" points=\"-8855.58,696.327 -8869.34,682.562 \"/>\n",
       "<polyline clip-path=\"url(#clip382)\" style=\"stroke:#000000; stroke-linecap:round; stroke-linejoin:round; stroke-width:4; stroke-opacity:1; fill:none\" points=\"-8869.34,682.562 -8876.23,682.562 \"/>\n",
       "<polyline clip-path=\"url(#clip382)\" style=\"stroke:#000000; stroke-linecap:round; stroke-linejoin:round; stroke-width:4; stroke-opacity:1; fill:none\" points=\"-8876.23,682.562 -8889.99,668.796 \"/>\n",
       "<polyline clip-path=\"url(#clip382)\" style=\"stroke:#000000; stroke-linecap:round; stroke-linejoin:round; stroke-width:4; stroke-opacity:1; fill:none\" points=\"-8889.99,668.796 -8896.88,668.796 \"/>\n",
       "<polyline clip-path=\"url(#clip382)\" style=\"stroke:#000000; stroke-linecap:round; stroke-linejoin:round; stroke-width:4; stroke-opacity:1; fill:none\" points=\"-8896.88,668.796 -8910.64,655.031 \"/>\n",
       "<polyline clip-path=\"url(#clip382)\" style=\"stroke:#000000; stroke-linecap:round; stroke-linejoin:round; stroke-width:4; stroke-opacity:1; fill:none\" points=\"-8910.64,655.031 -8917.52,655.031 \"/>\n",
       "<polyline clip-path=\"url(#clip382)\" style=\"stroke:#000000; stroke-linecap:round; stroke-linejoin:round; stroke-width:4; stroke-opacity:1; fill:none\" points=\"-8917.52,655.031 -8931.29,641.265 \"/>\n",
       "<polyline clip-path=\"url(#clip382)\" style=\"stroke:#000000; stroke-linecap:round; stroke-linejoin:round; stroke-width:4; stroke-opacity:1; fill:none\" points=\"-8931.29,641.265 -8938.17,641.265 \"/>\n",
       "<polyline clip-path=\"url(#clip382)\" style=\"stroke:#000000; stroke-linecap:round; stroke-linejoin:round; stroke-width:4; stroke-opacity:1; fill:none\" points=\"-8938.17,641.265 -8951.94,627.499 \"/>\n",
       "<polyline clip-path=\"url(#clip382)\" style=\"stroke:#000000; stroke-linecap:round; stroke-linejoin:round; stroke-width:4; stroke-opacity:1; fill:none\" points=\"-8951.94,627.499 -8958.82,627.499 \"/>\n",
       "<polyline clip-path=\"url(#clip382)\" style=\"stroke:#000000; stroke-linecap:round; stroke-linejoin:round; stroke-width:4; stroke-opacity:1; fill:none\" points=\"-8958.82,627.499 -8972.59,613.734 \"/>\n",
       "<polyline clip-path=\"url(#clip382)\" style=\"stroke:#000000; stroke-linecap:round; stroke-linejoin:round; stroke-width:4; stroke-opacity:1; fill:none\" points=\"-8972.59,613.734 -8979.47,613.734 \"/>\n",
       "<polyline clip-path=\"url(#clip382)\" style=\"stroke:#000000; stroke-linecap:round; stroke-linejoin:round; stroke-width:4; stroke-opacity:1; fill:none\" points=\"-8979.47,613.734 -8993.23,599.968 \"/>\n",
       "<polyline clip-path=\"url(#clip382)\" style=\"stroke:#000000; stroke-linecap:round; stroke-linejoin:round; stroke-width:4; stroke-opacity:1; fill:none\" points=\"-8993.23,599.968 -9000.12,599.968 \"/>\n",
       "<polyline clip-path=\"url(#clip382)\" style=\"stroke:#000000; stroke-linecap:round; stroke-linejoin:round; stroke-width:4; stroke-opacity:1; fill:none\" points=\"-9000.12,599.968 -9013.88,586.202 \"/>\n",
       "<polyline clip-path=\"url(#clip382)\" style=\"stroke:#000000; stroke-linecap:round; stroke-linejoin:round; stroke-width:4; stroke-opacity:1; fill:none\" points=\"-9013.88,586.202 -9020.77,586.202 \"/>\n",
       "<polyline clip-path=\"url(#clip382)\" style=\"stroke:#000000; stroke-linecap:round; stroke-linejoin:round; stroke-width:4; stroke-opacity:1; fill:none\" points=\"-9020.77,586.202 -9034.53,572.437 \"/>\n",
       "<polyline clip-path=\"url(#clip382)\" style=\"stroke:#000000; stroke-linecap:round; stroke-linejoin:round; stroke-width:4; stroke-opacity:1; fill:none\" points=\"-9034.53,572.437 -9041.41,572.437 \"/>\n",
       "<polyline clip-path=\"url(#clip382)\" style=\"stroke:#000000; stroke-linecap:round; stroke-linejoin:round; stroke-width:4; stroke-opacity:1; fill:none\" points=\"-9041.41,572.437 -9055.18,558.671 \"/>\n",
       "<polyline clip-path=\"url(#clip382)\" style=\"stroke:#000000; stroke-linecap:round; stroke-linejoin:round; stroke-width:4; stroke-opacity:1; fill:none\" points=\"-9055.18,558.671 -9062.06,558.671 \"/>\n",
       "<polyline clip-path=\"url(#clip382)\" style=\"stroke:#000000; stroke-linecap:round; stroke-linejoin:round; stroke-width:4; stroke-opacity:1; fill:none\" points=\"-9062.06,558.671 -9075.83,544.905 \"/>\n",
       "<polyline clip-path=\"url(#clip382)\" style=\"stroke:#000000; stroke-linecap:round; stroke-linejoin:round; stroke-width:4; stroke-opacity:1; fill:none\" points=\"-9075.83,544.905 -9082.71,544.905 \"/>\n",
       "<polyline clip-path=\"url(#clip382)\" style=\"stroke:#000000; stroke-linecap:round; stroke-linejoin:round; stroke-width:4; stroke-opacity:1; fill:none\" points=\"-9082.71,544.905 -9096.48,531.14 \"/>\n",
       "<polyline clip-path=\"url(#clip382)\" style=\"stroke:#000000; stroke-linecap:round; stroke-linejoin:round; stroke-width:4; stroke-opacity:1; fill:none\" points=\"-9096.48,531.14 -9103.36,531.14 \"/>\n",
       "<polyline clip-path=\"url(#clip382)\" style=\"stroke:#000000; stroke-linecap:round; stroke-linejoin:round; stroke-width:4; stroke-opacity:1; fill:none\" points=\"-9103.36,531.14 -9117.13,517.374 \"/>\n",
       "<polyline clip-path=\"url(#clip382)\" style=\"stroke:#000000; stroke-linecap:round; stroke-linejoin:round; stroke-width:4; stroke-opacity:1; fill:none\" points=\"-9117.13,517.374 -9124.01,517.374 \"/>\n",
       "<polyline clip-path=\"url(#clip382)\" style=\"stroke:#000000; stroke-linecap:round; stroke-linejoin:round; stroke-width:4; stroke-opacity:1; fill:none\" points=\"-9124.01,517.374 -9137.77,503.608 \"/>\n",
       "<polyline clip-path=\"url(#clip382)\" style=\"stroke:#000000; stroke-linecap:round; stroke-linejoin:round; stroke-width:4; stroke-opacity:1; fill:none\" points=\"-9137.77,503.608 -9144.66,503.608 \"/>\n",
       "<polyline clip-path=\"url(#clip382)\" style=\"stroke:#000000; stroke-linecap:round; stroke-linejoin:round; stroke-width:4; stroke-opacity:1; fill:none\" points=\"-9144.66,503.608 -9151.54,496.726 \"/>\n",
       "<polyline clip-path=\"url(#clip382)\" style=\"stroke:#000000; stroke-linecap:round; stroke-linejoin:round; stroke-width:4; stroke-opacity:1; fill:none\" points=\"-9151.54,496.726 -9158.42,496.726 \"/>\n",
       "<polyline clip-path=\"url(#clip382)\" style=\"stroke:#000000; stroke-linecap:round; stroke-linejoin:round; stroke-width:4; stroke-opacity:1; fill:none\" points=\"-9158.42,496.726 -9172.19,482.96 \"/>\n",
       "<polyline clip-path=\"url(#clip382)\" style=\"stroke:#000000; stroke-linecap:round; stroke-linejoin:round; stroke-width:4; stroke-opacity:1; fill:none\" points=\"-9172.19,482.96 -9179.07,482.96 \"/>\n",
       "<polyline clip-path=\"url(#clip382)\" style=\"stroke:#000000; stroke-linecap:round; stroke-linejoin:round; stroke-width:4; stroke-opacity:1; fill:none\" points=\"-9179.07,482.96 -9192.84,469.194 \"/>\n",
       "<polyline clip-path=\"url(#clip382)\" style=\"stroke:#000000; stroke-linecap:round; stroke-linejoin:round; stroke-width:4; stroke-opacity:1; fill:none\" points=\"-9192.84,469.194 -9199.72,469.194 \"/>\n",
       "<polyline clip-path=\"url(#clip382)\" style=\"stroke:#000000; stroke-linecap:round; stroke-linejoin:round; stroke-width:4; stroke-opacity:1; fill:none\" points=\"-9199.72,469.194 -9213.49,455.429 \"/>\n",
       "<polyline clip-path=\"url(#clip382)\" style=\"stroke:#000000; stroke-linecap:round; stroke-linejoin:round; stroke-width:4; stroke-opacity:1; fill:none\" points=\"-9213.49,455.429 -9220.37,455.429 \"/>\n",
       "<polyline clip-path=\"url(#clip382)\" style=\"stroke:#000000; stroke-linecap:round; stroke-linejoin:round; stroke-width:4; stroke-opacity:1; fill:none\" points=\"-9220.37,455.429 -9234.13,441.663 \"/>\n",
       "<polyline clip-path=\"url(#clip382)\" style=\"stroke:#000000; stroke-linecap:round; stroke-linejoin:round; stroke-width:4; stroke-opacity:1; fill:none\" points=\"-9234.13,441.663 -9241.02,441.663 \"/>\n",
       "<polyline clip-path=\"url(#clip382)\" style=\"stroke:#000000; stroke-linecap:round; stroke-linejoin:round; stroke-width:4; stroke-opacity:1; fill:none\" points=\"-9241.02,441.663 -9254.78,427.897 \"/>\n",
       "<polyline clip-path=\"url(#clip382)\" style=\"stroke:#000000; stroke-linecap:round; stroke-linejoin:round; stroke-width:4; stroke-opacity:1; fill:none\" points=\"-9254.78,427.897 -9261.66,427.897 \"/>\n",
       "<polyline clip-path=\"url(#clip382)\" style=\"stroke:#000000; stroke-linecap:round; stroke-linejoin:round; stroke-width:4; stroke-opacity:1; fill:none\" points=\"-9261.66,427.897 -9275.43,414.132 \"/>\n",
       "<polyline clip-path=\"url(#clip382)\" style=\"stroke:#000000; stroke-linecap:round; stroke-linejoin:round; stroke-width:4; stroke-opacity:1; fill:none\" points=\"-9275.43,414.132 -9282.31,414.132 \"/>\n",
       "<polyline clip-path=\"url(#clip382)\" style=\"stroke:#000000; stroke-linecap:round; stroke-linejoin:round; stroke-width:4; stroke-opacity:1; fill:none\" points=\"-9282.31,414.132 -9296.08,400.366 \"/>\n",
       "<polyline clip-path=\"url(#clip382)\" style=\"stroke:#000000; stroke-linecap:round; stroke-linejoin:round; stroke-width:4; stroke-opacity:1; fill:none\" points=\"-9296.08,400.366 -9302.96,400.366 \"/>\n",
       "<polyline clip-path=\"url(#clip382)\" style=\"stroke:#000000; stroke-linecap:round; stroke-linejoin:round; stroke-width:4; stroke-opacity:1; fill:none\" points=\"-9302.96,400.366 -9316.73,386.6 \"/>\n",
       "<polyline clip-path=\"url(#clip382)\" style=\"stroke:#000000; stroke-linecap:round; stroke-linejoin:round; stroke-width:4; stroke-opacity:1; fill:none\" points=\"-9316.73,386.6 -9323.61,386.6 \"/>\n",
       "<polyline clip-path=\"url(#clip382)\" style=\"stroke:#000000; stroke-linecap:round; stroke-linejoin:round; stroke-width:4; stroke-opacity:1; fill:none\" points=\"-9323.61,386.6 -9337.38,372.835 \"/>\n",
       "<polyline clip-path=\"url(#clip382)\" style=\"stroke:#000000; stroke-linecap:round; stroke-linejoin:round; stroke-width:4; stroke-opacity:1; fill:none\" points=\"-9337.38,372.835 -9344.26,372.835 \"/>\n",
       "<polyline clip-path=\"url(#clip382)\" style=\"stroke:#000000; stroke-linecap:round; stroke-linejoin:round; stroke-width:4; stroke-opacity:1; fill:none\" points=\"-9344.26,372.835 -9351.14,365.952 \"/>\n",
       "<polyline clip-path=\"url(#clip382)\" style=\"stroke:#000000; stroke-linecap:round; stroke-linejoin:round; stroke-width:4; stroke-opacity:1; fill:none\" points=\"-9351.14,365.952 -9351.14,-1636.95 \"/>\n",
       "<polyline clip-path=\"url(#clip382)\" style=\"stroke:#000000; stroke-linecap:round; stroke-linejoin:round; stroke-width:4; stroke-opacity:1; fill:none\" points=\"-9351.14,-1636.95 -9344.26,-1643.83 \"/>\n",
       "<polyline clip-path=\"url(#clip382)\" style=\"stroke:#000000; stroke-linecap:round; stroke-linejoin:round; stroke-width:4; stroke-opacity:1; fill:none\" points=\"-9344.26,-1643.83 -9337.38,-1643.83 \"/>\n",
       "<polyline clip-path=\"url(#clip382)\" style=\"stroke:#000000; stroke-linecap:round; stroke-linejoin:round; stroke-width:4; stroke-opacity:1; fill:none\" points=\"-9337.38,-1643.83 -9323.61,-1657.6 \"/>\n",
       "<polyline clip-path=\"url(#clip382)\" style=\"stroke:#000000; stroke-linecap:round; stroke-linejoin:round; stroke-width:4; stroke-opacity:1; fill:none\" points=\"-9323.61,-1657.6 -9316.73,-1657.6 \"/>\n",
       "<polyline clip-path=\"url(#clip382)\" style=\"stroke:#000000; stroke-linecap:round; stroke-linejoin:round; stroke-width:4; stroke-opacity:1; fill:none\" points=\"-9316.73,-1657.6 -9302.96,-1671.36 \"/>\n",
       "<polyline clip-path=\"url(#clip382)\" style=\"stroke:#000000; stroke-linecap:round; stroke-linejoin:round; stroke-width:4; stroke-opacity:1; fill:none\" points=\"-9302.96,-1671.36 -9296.08,-1671.36 \"/>\n",
       "<polyline clip-path=\"url(#clip382)\" style=\"stroke:#000000; stroke-linecap:round; stroke-linejoin:round; stroke-width:4; stroke-opacity:1; fill:none\" points=\"-9296.08,-1671.36 -9282.31,-1685.13 \"/>\n",
       "<polyline clip-path=\"url(#clip382)\" style=\"stroke:#000000; stroke-linecap:round; stroke-linejoin:round; stroke-width:4; stroke-opacity:1; fill:none\" points=\"-9282.31,-1685.13 -9275.43,-1685.13 \"/>\n",
       "<polyline clip-path=\"url(#clip382)\" style=\"stroke:#000000; stroke-linecap:round; stroke-linejoin:round; stroke-width:4; stroke-opacity:1; fill:none\" points=\"-9275.43,-1685.13 -9261.66,-1698.9 \"/>\n",
       "<polyline clip-path=\"url(#clip382)\" style=\"stroke:#000000; stroke-linecap:round; stroke-linejoin:round; stroke-width:4; stroke-opacity:1; fill:none\" points=\"-9261.66,-1698.9 -9254.78,-1698.9 \"/>\n",
       "<polyline clip-path=\"url(#clip382)\" style=\"stroke:#000000; stroke-linecap:round; stroke-linejoin:round; stroke-width:4; stroke-opacity:1; fill:none\" points=\"-9254.78,-1698.9 -9241.02,-1712.66 \"/>\n",
       "<polyline clip-path=\"url(#clip382)\" style=\"stroke:#000000; stroke-linecap:round; stroke-linejoin:round; stroke-width:4; stroke-opacity:1; fill:none\" points=\"-9241.02,-1712.66 -9234.13,-1712.66 \"/>\n",
       "<polyline clip-path=\"url(#clip382)\" style=\"stroke:#000000; stroke-linecap:round; stroke-linejoin:round; stroke-width:4; stroke-opacity:1; fill:none\" points=\"-9234.13,-1712.66 -9220.37,-1726.43 \"/>\n",
       "<polyline clip-path=\"url(#clip382)\" style=\"stroke:#000000; stroke-linecap:round; stroke-linejoin:round; stroke-width:4; stroke-opacity:1; fill:none\" points=\"-9220.37,-1726.43 -9213.49,-1726.43 \"/>\n",
       "<polyline clip-path=\"url(#clip382)\" style=\"stroke:#000000; stroke-linecap:round; stroke-linejoin:round; stroke-width:4; stroke-opacity:1; fill:none\" points=\"-9213.49,-1726.43 -9199.72,-1740.19 \"/>\n",
       "<polyline clip-path=\"url(#clip382)\" style=\"stroke:#000000; stroke-linecap:round; stroke-linejoin:round; stroke-width:4; stroke-opacity:1; fill:none\" points=\"-9199.72,-1740.19 -9192.84,-1740.19 \"/>\n",
       "<polyline clip-path=\"url(#clip382)\" style=\"stroke:#000000; stroke-linecap:round; stroke-linejoin:round; stroke-width:4; stroke-opacity:1; fill:none\" points=\"-9192.84,-1740.19 -9179.07,-1753.96 \"/>\n",
       "<polyline clip-path=\"url(#clip382)\" style=\"stroke:#000000; stroke-linecap:round; stroke-linejoin:round; stroke-width:4; stroke-opacity:1; fill:none\" points=\"-9179.07,-1753.96 -9172.19,-1753.96 \"/>\n",
       "<polyline clip-path=\"url(#clip382)\" style=\"stroke:#000000; stroke-linecap:round; stroke-linejoin:round; stroke-width:4; stroke-opacity:1; fill:none\" points=\"-9172.19,-1753.96 -9158.42,-1767.72 \"/>\n",
       "<polyline clip-path=\"url(#clip382)\" style=\"stroke:#000000; stroke-linecap:round; stroke-linejoin:round; stroke-width:4; stroke-opacity:1; fill:none\" points=\"-9158.42,-1767.72 -9151.54,-1767.72 \"/>\n",
       "<polyline clip-path=\"url(#clip382)\" style=\"stroke:#000000; stroke-linecap:round; stroke-linejoin:round; stroke-width:4; stroke-opacity:1; fill:none\" points=\"-9151.54,-1767.72 -9137.77,-1781.49 \"/>\n",
       "<polyline clip-path=\"url(#clip382)\" style=\"stroke:#000000; stroke-linecap:round; stroke-linejoin:round; stroke-width:4; stroke-opacity:1; fill:none\" points=\"-9137.77,-1781.49 -9130.89,-1781.49 \"/>\n",
       "<polyline clip-path=\"url(#clip382)\" style=\"stroke:#000000; stroke-linecap:round; stroke-linejoin:round; stroke-width:4; stroke-opacity:1; fill:none\" points=\"-9130.89,-1781.49 -9117.13,-1795.26 \"/>\n",
       "<polyline clip-path=\"url(#clip382)\" style=\"stroke:#000000; stroke-linecap:round; stroke-linejoin:round; stroke-width:4; stroke-opacity:1; fill:none\" points=\"-9117.13,-1795.26 -9110.24,-1795.26 \"/>\n",
       "<polyline clip-path=\"url(#clip382)\" style=\"stroke:#000000; stroke-linecap:round; stroke-linejoin:round; stroke-width:4; stroke-opacity:1; fill:none\" points=\"-9110.24,-1795.26 -9096.48,-1809.02 \"/>\n",
       "<polyline clip-path=\"url(#clip382)\" style=\"stroke:#000000; stroke-linecap:round; stroke-linejoin:round; stroke-width:4; stroke-opacity:1; fill:none\" points=\"-9096.48,-1809.02 -9089.59,-1809.02 \"/>\n",
       "<polyline clip-path=\"url(#clip382)\" style=\"stroke:#000000; stroke-linecap:round; stroke-linejoin:round; stroke-width:4; stroke-opacity:1; fill:none\" points=\"-9089.59,-1809.02 -9075.83,-1822.79 \"/>\n",
       "<polyline clip-path=\"url(#clip382)\" style=\"stroke:#000000; stroke-linecap:round; stroke-linejoin:round; stroke-width:4; stroke-opacity:1; fill:none\" points=\"-9075.83,-1822.79 -9068.95,-1822.79 \"/>\n",
       "<polyline clip-path=\"url(#clip382)\" style=\"stroke:#000000; stroke-linecap:round; stroke-linejoin:round; stroke-width:4; stroke-opacity:1; fill:none\" points=\"-9068.95,-1822.79 -9055.18,-1836.55 \"/>\n",
       "<polyline clip-path=\"url(#clip382)\" style=\"stroke:#000000; stroke-linecap:round; stroke-linejoin:round; stroke-width:4; stroke-opacity:1; fill:none\" points=\"-9055.18,-1836.55 -9048.3,-1836.55 \"/>\n",
       "<polyline clip-path=\"url(#clip382)\" style=\"stroke:#000000; stroke-linecap:round; stroke-linejoin:round; stroke-width:4; stroke-opacity:1; fill:none\" points=\"-9048.3,-1836.55 -9034.53,-1850.32 \"/>\n",
       "<polyline clip-path=\"url(#clip382)\" style=\"stroke:#000000; stroke-linecap:round; stroke-linejoin:round; stroke-width:4; stroke-opacity:1; fill:none\" points=\"-9034.53,-1850.32 -9027.65,-1850.32 \"/>\n",
       "<polyline clip-path=\"url(#clip382)\" style=\"stroke:#000000; stroke-linecap:round; stroke-linejoin:round; stroke-width:4; stroke-opacity:1; fill:none\" points=\"-9027.65,-1850.32 -9013.88,-1864.08 \"/>\n",
       "<polyline clip-path=\"url(#clip382)\" style=\"stroke:#000000; stroke-linecap:round; stroke-linejoin:round; stroke-width:4; stroke-opacity:1; fill:none\" points=\"-9013.88,-1864.08 -9007,-1864.08 \"/>\n",
       "<polyline clip-path=\"url(#clip382)\" style=\"stroke:#000000; stroke-linecap:round; stroke-linejoin:round; stroke-width:4; stroke-opacity:1; fill:none\" points=\"-9007,-1864.08 -8993.23,-1877.85 \"/>\n",
       "<polyline clip-path=\"url(#clip382)\" style=\"stroke:#000000; stroke-linecap:round; stroke-linejoin:round; stroke-width:4; stroke-opacity:1; fill:none\" points=\"-8993.23,-1877.85 -8986.35,-1877.85 \"/>\n",
       "<polyline clip-path=\"url(#clip382)\" style=\"stroke:#000000; stroke-linecap:round; stroke-linejoin:round; stroke-width:4; stroke-opacity:1; fill:none\" points=\"-8986.35,-1877.85 -8972.59,-1891.62 \"/>\n",
       "<polyline clip-path=\"url(#clip382)\" style=\"stroke:#000000; stroke-linecap:round; stroke-linejoin:round; stroke-width:4; stroke-opacity:1; fill:none\" points=\"-8972.59,-1891.62 -8965.7,-1891.62 \"/>\n",
       "<polyline clip-path=\"url(#clip382)\" style=\"stroke:#000000; stroke-linecap:round; stroke-linejoin:round; stroke-width:4; stroke-opacity:1; fill:none\" points=\"-8965.7,-1891.62 -8951.94,-1905.38 \"/>\n",
       "<polyline clip-path=\"url(#clip382)\" style=\"stroke:#000000; stroke-linecap:round; stroke-linejoin:round; stroke-width:4; stroke-opacity:1; fill:none\" points=\"-8951.94,-1905.38 -8945.05,-1905.38 \"/>\n",
       "<polyline clip-path=\"url(#clip382)\" style=\"stroke:#000000; stroke-linecap:round; stroke-linejoin:round; stroke-width:4; stroke-opacity:1; fill:none\" points=\"-8945.05,-1905.38 -8931.29,-1919.15 \"/>\n",
       "<polyline clip-path=\"url(#clip382)\" style=\"stroke:#000000; stroke-linecap:round; stroke-linejoin:round; stroke-width:4; stroke-opacity:1; fill:none\" points=\"-8931.29,-1919.15 -8924.41,-1919.15 \"/>\n",
       "<polyline clip-path=\"url(#clip382)\" style=\"stroke:#000000; stroke-linecap:round; stroke-linejoin:round; stroke-width:4; stroke-opacity:1; fill:none\" points=\"-8924.41,-1919.15 -8910.64,-1932.91 \"/>\n",
       "<polyline clip-path=\"url(#clip382)\" style=\"stroke:#000000; stroke-linecap:round; stroke-linejoin:round; stroke-width:4; stroke-opacity:1; fill:none\" points=\"-8910.64,-1932.91 -8903.76,-1932.91 \"/>\n",
       "<polyline clip-path=\"url(#clip382)\" style=\"stroke:#000000; stroke-linecap:round; stroke-linejoin:round; stroke-width:4; stroke-opacity:1; fill:none\" points=\"-8903.76,-1932.91 -8889.99,-1946.68 \"/>\n",
       "<polyline clip-path=\"url(#clip382)\" style=\"stroke:#000000; stroke-linecap:round; stroke-linejoin:round; stroke-width:4; stroke-opacity:1; fill:none\" points=\"-8889.99,-1946.68 -8883.11,-1946.68 \"/>\n",
       "<polyline clip-path=\"url(#clip382)\" style=\"stroke:#000000; stroke-linecap:round; stroke-linejoin:round; stroke-width:4; stroke-opacity:1; fill:none\" points=\"-8883.11,-1946.68 -8869.34,-1960.44 \"/>\n",
       "<polyline clip-path=\"url(#clip382)\" style=\"stroke:#000000; stroke-linecap:round; stroke-linejoin:round; stroke-width:4; stroke-opacity:1; fill:none\" points=\"-8869.34,-1960.44 -8862.46,-1960.44 \"/>\n",
       "<polyline clip-path=\"url(#clip382)\" style=\"stroke:#000000; stroke-linecap:round; stroke-linejoin:round; stroke-width:4; stroke-opacity:1; fill:none\" points=\"-8862.46,-1960.44 -8848.7,-1974.21 \"/>\n",
       "<polyline clip-path=\"url(#clip382)\" style=\"stroke:#000000; stroke-linecap:round; stroke-linejoin:round; stroke-width:4; stroke-opacity:1; fill:none\" points=\"-8848.7,-1974.21 -8841.81,-1974.21 \"/>\n",
       "<polyline clip-path=\"url(#clip382)\" style=\"stroke:#000000; stroke-linecap:round; stroke-linejoin:round; stroke-width:4; stroke-opacity:1; fill:none\" points=\"-8841.81,-1974.21 -8828.05,-1987.97 \"/>\n",
       "<polyline clip-path=\"url(#clip382)\" style=\"stroke:#000000; stroke-linecap:round; stroke-linejoin:round; stroke-width:4; stroke-opacity:1; fill:none\" points=\"-8828.05,-1987.97 -8821.16,-1987.97 \"/>\n",
       "<polyline clip-path=\"url(#clip382)\" style=\"stroke:#000000; stroke-linecap:round; stroke-linejoin:round; stroke-width:4; stroke-opacity:1; fill:none\" points=\"-8821.16,-1987.97 -8807.4,-2001.74 \"/>\n",
       "<polyline clip-path=\"url(#clip382)\" style=\"stroke:#000000; stroke-linecap:round; stroke-linejoin:round; stroke-width:4; stroke-opacity:1; fill:none\" points=\"-8807.4,-2001.74 -8800.52,-2001.74 \"/>\n",
       "<polyline clip-path=\"url(#clip382)\" style=\"stroke:#000000; stroke-linecap:round; stroke-linejoin:round; stroke-width:4; stroke-opacity:1; fill:none\" points=\"-8800.52,-2001.74 -8793.63,-2008.62 \"/>\n",
       "<polyline clip-path=\"url(#clip382)\" style=\"stroke:#000000; stroke-linecap:round; stroke-linejoin:round; stroke-width:4; stroke-opacity:1; fill:none\" points=\"-8793.63,-2008.62 -8786.75,-2008.62 \"/>\n",
       "<polyline clip-path=\"url(#clip382)\" style=\"stroke:#000000; stroke-linecap:round; stroke-linejoin:round; stroke-width:4; stroke-opacity:1; fill:none\" points=\"-8786.75,-2008.62 -8772.98,-2022.39 \"/>\n",
       "<polyline clip-path=\"url(#clip382)\" style=\"stroke:#000000; stroke-linecap:round; stroke-linejoin:round; stroke-width:4; stroke-opacity:1; fill:none\" points=\"-8772.98,-2022.39 -8766.1,-2022.39 \"/>\n",
       "<polyline clip-path=\"url(#clip382)\" style=\"stroke:#000000; stroke-linecap:round; stroke-linejoin:round; stroke-width:4; stroke-opacity:1; fill:none\" points=\"-8766.1,-2022.39 -8752.34,-2036.15 \"/>\n",
       "<polyline clip-path=\"url(#clip382)\" style=\"stroke:#000000; stroke-linecap:round; stroke-linejoin:round; stroke-width:4; stroke-opacity:1; fill:none\" points=\"-8752.34,-2036.15 -8745.45,-2036.15 \"/>\n",
       "<polyline clip-path=\"url(#clip382)\" style=\"stroke:#000000; stroke-linecap:round; stroke-linejoin:round; stroke-width:4; stroke-opacity:1; fill:none\" points=\"-8745.45,-2036.15 -8731.69,-2049.92 \"/>\n",
       "<polyline clip-path=\"url(#clip382)\" style=\"stroke:#000000; stroke-linecap:round; stroke-linejoin:round; stroke-width:4; stroke-opacity:1; fill:none\" points=\"-8731.69,-2049.92 -8724.8,-2049.92 \"/>\n",
       "<polyline clip-path=\"url(#clip382)\" style=\"stroke:#000000; stroke-linecap:round; stroke-linejoin:round; stroke-width:4; stroke-opacity:1; fill:none\" points=\"-8724.8,-2049.92 -8711.04,-2063.69 \"/>\n",
       "<polyline clip-path=\"url(#clip382)\" style=\"stroke:#000000; stroke-linecap:round; stroke-linejoin:round; stroke-width:4; stroke-opacity:1; fill:none\" points=\"-8711.04,-2063.69 -8704.16,-2063.69 \"/>\n",
       "<polyline clip-path=\"url(#clip382)\" style=\"stroke:#000000; stroke-linecap:round; stroke-linejoin:round; stroke-width:4; stroke-opacity:1; fill:none\" points=\"-8704.16,-2063.69 -8690.39,-2077.45 \"/>\n",
       "<polyline clip-path=\"url(#clip382)\" style=\"stroke:#000000; stroke-linecap:round; stroke-linejoin:round; stroke-width:4; stroke-opacity:1; fill:none\" points=\"-8690.39,-2077.45 -8683.51,-2077.45 \"/>\n",
       "<polyline clip-path=\"url(#clip382)\" style=\"stroke:#000000; stroke-linecap:round; stroke-linejoin:round; stroke-width:4; stroke-opacity:1; fill:none\" points=\"-8683.51,-2077.45 -8669.74,-2091.22 \"/>\n",
       "<polyline clip-path=\"url(#clip382)\" style=\"stroke:#000000; stroke-linecap:round; stroke-linejoin:round; stroke-width:4; stroke-opacity:1; fill:none\" points=\"-8669.74,-2091.22 -8662.86,-2091.22 \"/>\n",
       "<polyline clip-path=\"url(#clip382)\" style=\"stroke:#000000; stroke-linecap:round; stroke-linejoin:round; stroke-width:4; stroke-opacity:1; fill:none\" points=\"-8662.86,-2091.22 -8649.09,-2104.98 \"/>\n",
       "<polyline clip-path=\"url(#clip382)\" style=\"stroke:#000000; stroke-linecap:round; stroke-linejoin:round; stroke-width:4; stroke-opacity:1; fill:none\" points=\"-8649.09,-2104.98 -8642.21,-2104.98 \"/>\n",
       "<polyline clip-path=\"url(#clip382)\" style=\"stroke:#000000; stroke-linecap:round; stroke-linejoin:round; stroke-width:4; stroke-opacity:1; fill:none\" points=\"-8642.21,-2104.98 -8628.44,-2118.75 \"/>\n",
       "<polyline clip-path=\"url(#clip382)\" style=\"stroke:#000000; stroke-linecap:round; stroke-linejoin:round; stroke-width:4; stroke-opacity:1; fill:none\" points=\"-8628.44,-2118.75 -8621.56,-2118.75 \"/>\n",
       "<polyline clip-path=\"url(#clip382)\" style=\"stroke:#000000; stroke-linecap:round; stroke-linejoin:round; stroke-width:4; stroke-opacity:1; fill:none\" points=\"-8621.56,-2118.75 -8607.8,-2132.51 \"/>\n",
       "<polyline clip-path=\"url(#clip382)\" style=\"stroke:#000000; stroke-linecap:round; stroke-linejoin:round; stroke-width:4; stroke-opacity:1; fill:none\" points=\"-8607.8,-2132.51 -8600.91,-2132.51 \"/>\n",
       "<polyline clip-path=\"url(#clip382)\" style=\"stroke:#000000; stroke-linecap:round; stroke-linejoin:round; stroke-width:4; stroke-opacity:1; fill:none\" points=\"-8600.91,-2132.51 -8587.15,-2146.28 \"/>\n",
       "<polyline clip-path=\"url(#clip382)\" style=\"stroke:#000000; stroke-linecap:round; stroke-linejoin:round; stroke-width:4; stroke-opacity:1; fill:none\" points=\"-8587.15,-2146.28 -8580.27,-2146.28 \"/>\n",
       "<polyline clip-path=\"url(#clip382)\" style=\"stroke:#000000; stroke-linecap:round; stroke-linejoin:round; stroke-width:4; stroke-opacity:1; fill:none\" points=\"-8580.27,-2146.28 -8566.5,-2160.05 \"/>\n",
       "<polyline clip-path=\"url(#clip382)\" style=\"stroke:#000000; stroke-linecap:round; stroke-linejoin:round; stroke-width:4; stroke-opacity:1; fill:none\" points=\"-8566.5,-2160.05 -8559.62,-2160.05 \"/>\n",
       "<polyline clip-path=\"url(#clip382)\" style=\"stroke:#000000; stroke-linecap:round; stroke-linejoin:round; stroke-width:4; stroke-opacity:1; fill:none\" points=\"-8559.62,-2160.05 -8545.85,-2173.81 \"/>\n",
       "<polyline clip-path=\"url(#clip382)\" style=\"stroke:#000000; stroke-linecap:round; stroke-linejoin:round; stroke-width:4; stroke-opacity:1; fill:none\" points=\"-8545.85,-2173.81 -8538.97,-2173.81 \"/>\n",
       "<polyline clip-path=\"url(#clip382)\" style=\"stroke:#000000; stroke-linecap:round; stroke-linejoin:round; stroke-width:4; stroke-opacity:1; fill:none\" points=\"-8538.97,-2173.81 -8525.2,-2187.58 \"/>\n",
       "<polyline clip-path=\"url(#clip382)\" style=\"stroke:#000000; stroke-linecap:round; stroke-linejoin:round; stroke-width:4; stroke-opacity:1; fill:none\" points=\"-8525.2,-2187.58 -8518.32,-2187.58 \"/>\n",
       "<polyline clip-path=\"url(#clip382)\" style=\"stroke:#000000; stroke-linecap:round; stroke-linejoin:round; stroke-width:4; stroke-opacity:1; fill:none\" points=\"-8518.32,-2187.58 -8504.55,-2201.34 \"/>\n",
       "<polyline clip-path=\"url(#clip382)\" style=\"stroke:#000000; stroke-linecap:round; stroke-linejoin:round; stroke-width:4; stroke-opacity:1; fill:none\" points=\"-8504.55,-2201.34 -8497.67,-2201.34 \"/>\n",
       "<polyline clip-path=\"url(#clip382)\" style=\"stroke:#000000; stroke-linecap:round; stroke-linejoin:round; stroke-width:4; stroke-opacity:1; fill:none\" points=\"-8497.67,-2201.34 -8483.91,-2215.11 \"/>\n",
       "<polyline clip-path=\"url(#clip382)\" style=\"stroke:#000000; stroke-linecap:round; stroke-linejoin:round; stroke-width:4; stroke-opacity:1; fill:none\" points=\"-8483.91,-2215.11 -8477.02,-2215.11 \"/>\n",
       "<polyline clip-path=\"url(#clip382)\" style=\"stroke:#000000; stroke-linecap:round; stroke-linejoin:round; stroke-width:4; stroke-opacity:1; fill:none\" points=\"-8477.02,-2215.11 -8463.26,-2228.87 \"/>\n",
       "<polyline clip-path=\"url(#clip382)\" style=\"stroke:#000000; stroke-linecap:round; stroke-linejoin:round; stroke-width:4; stroke-opacity:1; fill:none\" points=\"-8463.26,-2228.87 -8456.37,-2228.87 \"/>\n",
       "<polyline clip-path=\"url(#clip382)\" style=\"stroke:#000000; stroke-linecap:round; stroke-linejoin:round; stroke-width:4; stroke-opacity:1; fill:none\" points=\"-8456.37,-2228.87 -8442.61,-2242.64 \"/>\n",
       "<polyline clip-path=\"url(#clip382)\" style=\"stroke:#000000; stroke-linecap:round; stroke-linejoin:round; stroke-width:4; stroke-opacity:1; fill:none\" points=\"-8442.61,-2242.64 -8435.73,-2242.64 \"/>\n",
       "<polyline clip-path=\"url(#clip382)\" style=\"stroke:#000000; stroke-linecap:round; stroke-linejoin:round; stroke-width:4; stroke-opacity:1; fill:none\" points=\"-8435.73,-2242.64 -8421.96,-2256.4 \"/>\n",
       "<polyline clip-path=\"url(#clip382)\" style=\"stroke:#000000; stroke-linecap:round; stroke-linejoin:round; stroke-width:4; stroke-opacity:1; fill:none\" points=\"-8421.96,-2256.4 -8415.08,-2256.4 \"/>\n",
       "<polyline clip-path=\"url(#clip382)\" style=\"stroke:#000000; stroke-linecap:round; stroke-linejoin:round; stroke-width:4; stroke-opacity:1; fill:none\" points=\"-8415.08,-2256.4 -8401.31,-2270.17 \"/>\n",
       "<polyline clip-path=\"url(#clip382)\" style=\"stroke:#000000; stroke-linecap:round; stroke-linejoin:round; stroke-width:4; stroke-opacity:1; fill:none\" points=\"-8401.31,-2270.17 -8394.43,-2270.17 \"/>\n",
       "<polyline clip-path=\"url(#clip382)\" style=\"stroke:#000000; stroke-linecap:round; stroke-linejoin:round; stroke-width:4; stroke-opacity:1; fill:none\" points=\"-8394.43,-2270.17 -8380.66,-2283.94 \"/>\n",
       "<polyline clip-path=\"url(#clip382)\" style=\"stroke:#000000; stroke-linecap:round; stroke-linejoin:round; stroke-width:4; stroke-opacity:1; fill:none\" points=\"-8380.66,-2283.94 -8373.78,-2283.94 \"/>\n",
       "<polyline clip-path=\"url(#clip382)\" style=\"stroke:#000000; stroke-linecap:round; stroke-linejoin:round; stroke-width:4; stroke-opacity:1; fill:none\" points=\"-8373.78,-2283.94 -8360.01,-2297.7 \"/>\n",
       "<polyline clip-path=\"url(#clip382)\" style=\"stroke:#000000; stroke-linecap:round; stroke-linejoin:round; stroke-width:4; stroke-opacity:1; fill:none\" points=\"-8360.01,-2297.7 -8353.13,-2297.7 \"/>\n",
       "<polyline clip-path=\"url(#clip382)\" style=\"stroke:#000000; stroke-linecap:round; stroke-linejoin:round; stroke-width:4; stroke-opacity:1; fill:none\" points=\"-8353.13,-2297.7 -8339.37,-2311.47 \"/>\n",
       "<polyline clip-path=\"url(#clip382)\" style=\"stroke:#000000; stroke-linecap:round; stroke-linejoin:round; stroke-width:4; stroke-opacity:1; fill:none\" points=\"-8339.37,-2311.47 -8332.48,-2311.47 \"/>\n",
       "<polyline clip-path=\"url(#clip382)\" style=\"stroke:#000000; stroke-linecap:round; stroke-linejoin:round; stroke-width:4; stroke-opacity:1; fill:none\" points=\"-8332.48,-2311.47 -8318.72,-2325.23 \"/>\n",
       "<polyline clip-path=\"url(#clip382)\" style=\"stroke:#000000; stroke-linecap:round; stroke-linejoin:round; stroke-width:4; stroke-opacity:1; fill:none\" points=\"-8318.72,-2325.23 -8311.83,-2325.23 \"/>\n",
       "<polyline clip-path=\"url(#clip382)\" style=\"stroke:#000000; stroke-linecap:round; stroke-linejoin:round; stroke-width:4; stroke-opacity:1; fill:none\" points=\"-8311.83,-2325.23 -8298.07,-2339 \"/>\n",
       "<polyline clip-path=\"url(#clip382)\" style=\"stroke:#000000; stroke-linecap:round; stroke-linejoin:round; stroke-width:4; stroke-opacity:1; fill:none\" points=\"-8298.07,-2339 -8291.19,-2339 \"/>\n",
       "<polyline clip-path=\"url(#clip382)\" style=\"stroke:#000000; stroke-linecap:round; stroke-linejoin:round; stroke-width:4; stroke-opacity:1; fill:none\" points=\"-8291.19,-2339 -8277.42,-2352.76 \"/>\n",
       "<polyline clip-path=\"url(#clip382)\" style=\"stroke:#000000; stroke-linecap:round; stroke-linejoin:round; stroke-width:4; stroke-opacity:1; fill:none\" points=\"-8277.42,-2352.76 -8270.54,-2352.76 \"/>\n",
       "<polyline clip-path=\"url(#clip382)\" style=\"stroke:#000000; stroke-linecap:round; stroke-linejoin:round; stroke-width:4; stroke-opacity:1; fill:none\" points=\"-8270.54,-2352.76 -8256.77,-2366.53 \"/>\n",
       "<polyline clip-path=\"url(#clip382)\" style=\"stroke:#000000; stroke-linecap:round; stroke-linejoin:round; stroke-width:4; stroke-opacity:1; fill:none\" points=\"-8256.77,-2366.53 -8249.89,-2366.53 \"/>\n",
       "<polyline clip-path=\"url(#clip382)\" style=\"stroke:#000000; stroke-linecap:round; stroke-linejoin:round; stroke-width:4; stroke-opacity:1; fill:none\" points=\"-8249.89,-2366.53 -8236.12,-2380.3 \"/>\n",
       "<polyline clip-path=\"url(#clip382)\" style=\"stroke:#000000; stroke-linecap:round; stroke-linejoin:round; stroke-width:4; stroke-opacity:1; fill:none\" points=\"-8236.12,-2380.3 -8229.24,-2380.3 \"/>\n",
       "<polyline clip-path=\"url(#clip382)\" style=\"stroke:#000000; stroke-linecap:round; stroke-linejoin:round; stroke-width:4; stroke-opacity:1; fill:none\" points=\"-8229.24,-2380.3 -8215.48,-2394.06 \"/>\n",
       "<polyline clip-path=\"url(#clip382)\" style=\"stroke:#000000; stroke-linecap:round; stroke-linejoin:round; stroke-width:4; stroke-opacity:1; fill:none\" points=\"-8215.48,-2394.06 -8208.59,-2394.06 \"/>\n",
       "<polyline clip-path=\"url(#clip382)\" style=\"stroke:#000000; stroke-linecap:round; stroke-linejoin:round; stroke-width:4; stroke-opacity:1; fill:none\" points=\"-8208.59,-2394.06 -8194.83,-2407.83 \"/>\n",
       "<polyline clip-path=\"url(#clip382)\" style=\"stroke:#000000; stroke-linecap:round; stroke-linejoin:round; stroke-width:4; stroke-opacity:1; fill:none\" points=\"-8194.83,-2407.83 -8187.94,-2407.83 \"/>\n",
       "<polyline clip-path=\"url(#clip382)\" style=\"stroke:#000000; stroke-linecap:round; stroke-linejoin:round; stroke-width:4; stroke-opacity:1; fill:none\" points=\"-8187.94,-2407.83 -8174.18,-2421.59 \"/>\n",
       "<polyline clip-path=\"url(#clip382)\" style=\"stroke:#000000; stroke-linecap:round; stroke-linejoin:round; stroke-width:4; stroke-opacity:1; fill:none\" points=\"-8174.18,-2421.59 -8167.3,-2421.59 \"/>\n",
       "<polyline clip-path=\"url(#clip382)\" style=\"stroke:#000000; stroke-linecap:round; stroke-linejoin:round; stroke-width:4; stroke-opacity:1; fill:none\" points=\"-8167.3,-2421.59 -8153.53,-2435.36 \"/>\n",
       "<polyline clip-path=\"url(#clip382)\" style=\"stroke:#000000; stroke-linecap:round; stroke-linejoin:round; stroke-width:4; stroke-opacity:1; fill:none\" points=\"-8153.53,-2435.36 -8146.65,-2435.36 \"/>\n",
       "<polyline clip-path=\"url(#clip382)\" style=\"stroke:#000000; stroke-linecap:round; stroke-linejoin:round; stroke-width:4; stroke-opacity:1; fill:none\" points=\"-8146.65,-2435.36 -8132.88,-2449.12 \"/>\n",
       "<polyline clip-path=\"url(#clip382)\" style=\"stroke:#000000; stroke-linecap:round; stroke-linejoin:round; stroke-width:4; stroke-opacity:1; fill:none\" points=\"-8132.88,-2449.12 -3363.08,-2449.12 \"/>\n",
       "<polyline clip-path=\"url(#clip382)\" style=\"stroke:#000000; stroke-linecap:round; stroke-linejoin:round; stroke-width:4; stroke-opacity:1; fill:none\" points=\"-3363.08,-2449.12 -3363.08,14.9277 \"/>\n",
       "<polyline clip-path=\"url(#clip382)\" style=\"stroke:#000000; stroke-linecap:round; stroke-linejoin:round; stroke-width:4; stroke-opacity:1; fill:none\" points=\"-3363.08,14.9277 -3356.2,21.8105 \"/>\n",
       "<polyline clip-path=\"url(#clip382)\" style=\"stroke:#000000; stroke-linecap:round; stroke-linejoin:round; stroke-width:4; stroke-opacity:1; fill:none\" points=\"-3356.2,21.8105 -3356.2,1178.13 \"/>\n",
       "<polyline clip-path=\"url(#clip382)\" style=\"stroke:#000000; stroke-linecap:round; stroke-linejoin:round; stroke-width:4; stroke-opacity:1; fill:none\" points=\"-3356.2,1178.13 -3693.46,1178.13 \"/>\n",
       "<polyline clip-path=\"url(#clip382)\" style=\"stroke:#000000; stroke-linecap:round; stroke-linejoin:round; stroke-width:4; stroke-opacity:1; fill:none\" points=\"-3693.46,1178.13 -3700.34,1185.01 \"/>\n",
       "<polyline clip-path=\"url(#clip382)\" style=\"stroke:#000000; stroke-linecap:round; stroke-linejoin:round; stroke-width:4; stroke-opacity:1; fill:none\" points=\"-3700.34,1185.01 -3700.34,1253.84 \"/>\n",
       "<polyline clip-path=\"url(#clip382)\" style=\"stroke:#000000; stroke-linecap:round; stroke-linejoin:round; stroke-width:4; stroke-opacity:1; fill:none\" points=\"-3700.34,1253.84 -3693.46,1260.72 \"/>\n",
       "<polyline clip-path=\"url(#clip382)\" style=\"stroke:#000000; stroke-linecap:round; stroke-linejoin:round; stroke-width:4; stroke-opacity:1; fill:none\" points=\"-3693.46,1260.72 -3356.2,1260.72 \"/>\n",
       "<polyline clip-path=\"url(#clip382)\" style=\"stroke:#000000; stroke-linecap:round; stroke-linejoin:round; stroke-width:4; stroke-opacity:1; fill:none\" points=\"-3356.2,1260.72 -3356.2,3119.08 \"/>\n",
       "<polyline clip-path=\"url(#clip382)\" style=\"stroke:#000000; stroke-linecap:round; stroke-linejoin:round; stroke-width:4; stroke-opacity:1; fill:none\" points=\"-3356.2,3119.08 -3349.32,3125.97 \"/>\n",
       "<polyline clip-path=\"url(#clip382)\" style=\"stroke:#000000; stroke-linecap:round; stroke-linejoin:round; stroke-width:4; stroke-opacity:1; fill:none\" points=\"-3349.32,3125.97 -3280.49,3125.97 \"/>\n",
       "<polyline clip-path=\"url(#clip382)\" style=\"stroke:#000000; stroke-linecap:round; stroke-linejoin:round; stroke-width:4; stroke-opacity:1; fill:none\" points=\"-3280.49,3125.97 -3273.61,3119.08 \"/>\n",
       "<polyline clip-path=\"url(#clip382)\" style=\"stroke:#000000; stroke-linecap:round; stroke-linejoin:round; stroke-width:4; stroke-opacity:1; fill:none\" points=\"-3273.61,3119.08 -3273.61,2981.43 \"/>\n",
       "<polyline clip-path=\"url(#clip382)\" style=\"stroke:#000000; stroke-linecap:round; stroke-linejoin:round; stroke-width:4; stroke-opacity:1; fill:none\" points=\"-3273.61,2981.43 -1429.01,2981.43 \"/>\n",
       "<polyline clip-path=\"url(#clip382)\" style=\"stroke:#000000; stroke-linecap:round; stroke-linejoin:round; stroke-width:4; stroke-opacity:1; fill:none\" points=\"-1429.01,2981.43 -1422.13,2974.54 \"/>\n",
       "<polyline clip-path=\"url(#clip382)\" style=\"stroke:#000000; stroke-linecap:round; stroke-linejoin:round; stroke-width:4; stroke-opacity:1; fill:none\" points=\"-1422.13,2974.54 -1422.13,2905.71 \"/>\n",
       "<polyline clip-path=\"url(#clip382)\" style=\"stroke:#000000; stroke-linecap:round; stroke-linejoin:round; stroke-width:4; stroke-opacity:1; fill:none\" points=\"-1422.13,2905.71 -1429.01,2898.83 \"/>\n",
       "<polyline clip-path=\"url(#clip382)\" style=\"stroke:#000000; stroke-linecap:round; stroke-linejoin:round; stroke-width:4; stroke-opacity:1; fill:none\" points=\"-1429.01,2898.83 -3273.61,2898.83 \"/>\n",
       "<polyline clip-path=\"url(#clip382)\" style=\"stroke:#000000; stroke-linecap:round; stroke-linejoin:round; stroke-width:4; stroke-opacity:1; fill:none\" points=\"-3273.61,2898.83 -3273.61,97.5216 \"/>\n",
       "<polyline clip-path=\"url(#clip382)\" style=\"stroke:#000000; stroke-linecap:round; stroke-linejoin:round; stroke-width:4; stroke-opacity:1; fill:none\" points=\"-3273.61,97.5216 -671.898,97.5216 \"/>\n",
       "<polyline clip-path=\"url(#clip382)\" style=\"stroke:#000000; stroke-linecap:round; stroke-linejoin:round; stroke-width:4; stroke-opacity:1; fill:none\" points=\"-671.898,97.5216 -671.898,2898.83 \"/>\n",
       "<polyline clip-path=\"url(#clip382)\" style=\"stroke:#000000; stroke-linecap:round; stroke-linejoin:round; stroke-width:4; stroke-opacity:1; fill:none\" points=\"-671.898,2898.83 -837.086,2898.83 \"/>\n",
       "<polyline clip-path=\"url(#clip382)\" style=\"stroke:#000000; stroke-linecap:round; stroke-linejoin:round; stroke-width:4; stroke-opacity:1; fill:none\" points=\"-837.086,2898.83 -843.969,2905.71 \"/>\n",
       "<polyline clip-path=\"url(#clip382)\" style=\"stroke:#000000; stroke-linecap:round; stroke-linejoin:round; stroke-width:4; stroke-opacity:1; fill:none\" points=\"-843.969,2905.71 -843.969,2974.54 \"/>\n",
       "<polyline clip-path=\"url(#clip382)\" style=\"stroke:#000000; stroke-linecap:round; stroke-linejoin:round; stroke-width:4; stroke-opacity:1; fill:none\" points=\"-843.969,2974.54 -837.086,2981.43 \"/>\n",
       "<polyline clip-path=\"url(#clip382)\" style=\"stroke:#000000; stroke-linecap:round; stroke-linejoin:round; stroke-width:4; stroke-opacity:1; fill:none\" points=\"-837.086,2981.43 -444.765,2981.43 \"/>\n",
       "<polyline clip-path=\"url(#clip382)\" style=\"stroke:#000000; stroke-linecap:round; stroke-linejoin:round; stroke-width:4; stroke-opacity:1; fill:none\" points=\"-444.765,2981.43 -437.882,2974.54 \"/>\n",
       "<polyline clip-path=\"url(#clip382)\" style=\"stroke:#000000; stroke-linecap:round; stroke-linejoin:round; stroke-width:4; stroke-opacity:1; fill:none\" points=\"-437.882,2974.54 -437.882,2905.71 \"/>\n",
       "<polyline clip-path=\"url(#clip382)\" style=\"stroke:#000000; stroke-linecap:round; stroke-linejoin:round; stroke-width:4; stroke-opacity:1; fill:none\" points=\"-437.882,2905.71 -444.765,2898.83 \"/>\n",
       "<polyline clip-path=\"url(#clip382)\" style=\"stroke:#000000; stroke-linecap:round; stroke-linejoin:round; stroke-width:4; stroke-opacity:1; fill:none\" points=\"-444.765,2898.83 -589.304,2898.83 \"/>\n",
       "<polyline clip-path=\"url(#clip382)\" style=\"stroke:#000000; stroke-linecap:round; stroke-linejoin:round; stroke-width:4; stroke-opacity:1; fill:none\" points=\"-589.304,2898.83 -589.304,97.5216 \"/>\n",
       "<polyline clip-path=\"url(#clip382)\" style=\"stroke:#000000; stroke-linecap:round; stroke-linejoin:round; stroke-width:4; stroke-opacity:1; fill:none\" points=\"-589.304,97.5216 1461.78,97.5216 \"/>\n",
       "<polyline clip-path=\"url(#clip382)\" style=\"stroke:#000000; stroke-linecap:round; stroke-linejoin:round; stroke-width:4; stroke-opacity:1; fill:none\" points=\"1461.78,97.5216 1461.78,2898.83 \"/>\n",
       "<polyline clip-path=\"url(#clip382)\" style=\"stroke:#000000; stroke-linecap:round; stroke-linejoin:round; stroke-width:4; stroke-opacity:1; fill:none\" points=\"1461.78,2898.83 147.158,2898.83 \"/>\n",
       "<polyline clip-path=\"url(#clip382)\" style=\"stroke:#000000; stroke-linecap:round; stroke-linejoin:round; stroke-width:4; stroke-opacity:1; fill:none\" points=\"147.158,2898.83 140.276,2905.71 \"/>\n",
       "<polyline clip-path=\"url(#clip382)\" style=\"stroke:#000000; stroke-linecap:round; stroke-linejoin:round; stroke-width:4; stroke-opacity:1; fill:none\" points=\"140.276,2905.71 140.276,2974.54 \"/>\n",
       "<polyline clip-path=\"url(#clip382)\" style=\"stroke:#000000; stroke-linecap:round; stroke-linejoin:round; stroke-width:4; stroke-opacity:1; fill:none\" points=\"140.276,2974.54 147.158,2981.43 \"/>\n",
       "<polyline clip-path=\"url(#clip382)\" style=\"stroke:#000000; stroke-linecap:round; stroke-linejoin:round; stroke-width:4; stroke-opacity:1; fill:none\" points=\"147.158,2981.43 1585.67,2981.43 \"/>\n",
       "<polyline clip-path=\"url(#clip382)\" style=\"stroke:#000000; stroke-linecap:round; stroke-linejoin:round; stroke-width:4; stroke-opacity:1; fill:none\" points=\"1585.67,2981.43 1592.55,2974.54 \"/>\n",
       "<polyline clip-path=\"url(#clip382)\" style=\"stroke:#000000; stroke-linecap:round; stroke-linejoin:round; stroke-width:4; stroke-opacity:1; fill:none\" points=\"1592.55,2974.54 1592.55,2905.71 \"/>\n",
       "<polyline clip-path=\"url(#clip382)\" style=\"stroke:#000000; stroke-linecap:round; stroke-linejoin:round; stroke-width:4; stroke-opacity:1; fill:none\" points=\"1592.55,2905.71 1585.67,2898.83 \"/>\n",
       "<polyline clip-path=\"url(#clip382)\" style=\"stroke:#000000; stroke-linecap:round; stroke-linejoin:round; stroke-width:4; stroke-opacity:1; fill:none\" points=\"1585.67,2898.83 1544.37,2898.83 \"/>\n",
       "<polyline clip-path=\"url(#clip382)\" style=\"stroke:#000000; stroke-linecap:round; stroke-linejoin:round; stroke-width:4; stroke-opacity:1; fill:none\" points=\"1544.37,2898.83 1544.37,97.5216 \"/>\n",
       "<polyline clip-path=\"url(#clip382)\" style=\"stroke:#000000; stroke-linecap:round; stroke-linejoin:round; stroke-width:4; stroke-opacity:1; fill:none\" points=\"1544.37,97.5216 3588.57,97.5216 \"/>\n",
       "<polyline clip-path=\"url(#clip382)\" style=\"stroke:#000000; stroke-linecap:round; stroke-linejoin:round; stroke-width:4; stroke-opacity:1; fill:none\" points=\"3588.57,97.5216 3588.57,2898.83 \"/>\n",
       "<polyline clip-path=\"url(#clip382)\" style=\"stroke:#000000; stroke-linecap:round; stroke-linejoin:round; stroke-width:4; stroke-opacity:1; fill:none\" points=\"3588.57,2898.83 2177.59,2898.83 \"/>\n",
       "<polyline clip-path=\"url(#clip382)\" style=\"stroke:#000000; stroke-linecap:round; stroke-linejoin:round; stroke-width:4; stroke-opacity:1; fill:none\" points=\"2177.59,2898.83 2170.71,2905.71 \"/>\n",
       "<polyline clip-path=\"url(#clip382)\" style=\"stroke:#000000; stroke-linecap:round; stroke-linejoin:round; stroke-width:4; stroke-opacity:1; fill:none\" points=\"2170.71,2905.71 2170.71,2974.54 \"/>\n",
       "<polyline clip-path=\"url(#clip382)\" style=\"stroke:#000000; stroke-linecap:round; stroke-linejoin:round; stroke-width:4; stroke-opacity:1; fill:none\" points=\"2170.71,2974.54 2177.59,2981.43 \"/>\n",
       "<polyline clip-path=\"url(#clip382)\" style=\"stroke:#000000; stroke-linecap:round; stroke-linejoin:round; stroke-width:4; stroke-opacity:1; fill:none\" points=\"2177.59,2981.43 2287.72,2981.43 \"/>\n",
       "<polyline clip-path=\"url(#clip382)\" style=\"stroke:#000000; stroke-linecap:round; stroke-linejoin:round; stroke-width:4; stroke-opacity:1; fill:none\" points=\"2287.72,2981.43 2287.72,3008.96 \"/>\n",
       "<polyline clip-path=\"url(#clip382)\" style=\"stroke:#000000; stroke-linecap:round; stroke-linejoin:round; stroke-width:4; stroke-opacity:1; fill:none\" points=\"2287.72,3008.96 2294.6,3015.84 \"/>\n",
       "<polyline clip-path=\"url(#clip382)\" style=\"stroke:#000000; stroke-linecap:round; stroke-linejoin:round; stroke-width:4; stroke-opacity:1; fill:none\" points=\"2294.6,3015.84 2363.43,3015.84 \"/>\n",
       "<polyline clip-path=\"url(#clip382)\" style=\"stroke:#000000; stroke-linecap:round; stroke-linejoin:round; stroke-width:4; stroke-opacity:1; fill:none\" points=\"2363.43,3015.84 2370.31,3008.96 \"/>\n",
       "<polyline clip-path=\"url(#clip382)\" style=\"stroke:#000000; stroke-linecap:round; stroke-linejoin:round; stroke-width:4; stroke-opacity:1; fill:none\" points=\"2370.31,3008.96 2370.31,2981.43 \"/>\n",
       "<polyline clip-path=\"url(#clip382)\" style=\"stroke:#000000; stroke-linecap:round; stroke-linejoin:round; stroke-width:4; stroke-opacity:1; fill:none\" points=\"2370.31,2981.43 3588.57,2981.43 \"/>\n",
       "<polyline clip-path=\"url(#clip382)\" style=\"stroke:#000000; stroke-linecap:round; stroke-linejoin:round; stroke-width:4; stroke-opacity:1; fill:none\" points=\"3588.57,2981.43 3588.57,3931.26 \"/>\n",
       "<polyline clip-path=\"url(#clip382)\" style=\"stroke:#000000; stroke-linecap:round; stroke-linejoin:round; stroke-width:4; stroke-opacity:1; fill:none\" points=\"3588.57,3931.26 2370.31,3931.26 \"/>\n",
       "<polyline clip-path=\"url(#clip382)\" style=\"stroke:#000000; stroke-linecap:round; stroke-linejoin:round; stroke-width:4; stroke-opacity:1; fill:none\" points=\"2370.31,3931.26 2370.31,3600.88 \"/>\n",
       "<polyline clip-path=\"url(#clip382)\" style=\"stroke:#000000; stroke-linecap:round; stroke-linejoin:round; stroke-width:4; stroke-opacity:1; fill:none\" points=\"2370.31,3600.88 2363.43,3594 \"/>\n",
       "<polyline clip-path=\"url(#clip382)\" style=\"stroke:#000000; stroke-linecap:round; stroke-linejoin:round; stroke-width:4; stroke-opacity:1; fill:none\" points=\"2363.43,3594 2294.6,3594 \"/>\n",
       "<polyline clip-path=\"url(#clip382)\" style=\"stroke:#000000; stroke-linecap:round; stroke-linejoin:round; stroke-width:4; stroke-opacity:1; fill:none\" points=\"2294.6,3594 2287.72,3600.88 \"/>\n",
       "<polyline clip-path=\"url(#clip382)\" style=\"stroke:#000000; stroke-linecap:round; stroke-linejoin:round; stroke-width:4; stroke-opacity:1; fill:none\" points=\"2287.72,3600.88 2287.72,3931.26 \"/>\n",
       "<polyline clip-path=\"url(#clip382)\" style=\"stroke:#000000; stroke-linecap:round; stroke-linejoin:round; stroke-width:4; stroke-opacity:1; fill:none\" points=\"2287.72,3931.26 2177.59,3931.26 \"/>\n",
       "<polyline clip-path=\"url(#clip382)\" style=\"stroke:#000000; stroke-linecap:round; stroke-linejoin:round; stroke-width:4; stroke-opacity:1; fill:none\" points=\"2177.59,3931.26 2170.71,3938.14 \"/>\n",
       "<polyline clip-path=\"url(#clip382)\" style=\"stroke:#000000; stroke-linecap:round; stroke-linejoin:round; stroke-width:4; stroke-opacity:1; fill:none\" points=\"2170.71,3938.14 2170.71,4006.97 \"/>\n",
       "<polyline clip-path=\"url(#clip382)\" style=\"stroke:#000000; stroke-linecap:round; stroke-linejoin:round; stroke-width:4; stroke-opacity:1; fill:none\" points=\"2170.71,4006.97 2177.59,4013.85 \"/>\n",
       "<polyline clip-path=\"url(#clip382)\" style=\"stroke:#000000; stroke-linecap:round; stroke-linejoin:round; stroke-width:4; stroke-opacity:1; fill:none\" points=\"2177.59,4013.85 3588.57,4013.85 \"/>\n",
       "<polyline clip-path=\"url(#clip382)\" style=\"stroke:#000000; stroke-linecap:round; stroke-linejoin:round; stroke-width:4; stroke-opacity:1; fill:none\" points=\"3588.57,4013.85 3588.57,6615.56 \"/>\n",
       "<polyline clip-path=\"url(#clip382)\" style=\"stroke:#000000; stroke-linecap:round; stroke-linejoin:round; stroke-width:4; stroke-opacity:1; fill:none\" points=\"3588.57,6615.56 1406.72,6615.56 \"/>\n",
       "<polyline clip-path=\"url(#clip382)\" style=\"stroke:#000000; stroke-linecap:round; stroke-linejoin:round; stroke-width:4; stroke-opacity:1; fill:none\" points=\"1406.72,6615.56 1406.72,4013.85 \"/>\n",
       "<polyline clip-path=\"url(#clip382)\" style=\"stroke:#000000; stroke-linecap:round; stroke-linejoin:round; stroke-width:4; stroke-opacity:1; fill:none\" points=\"1406.72,4013.85 1585.67,4013.85 \"/>\n",
       "<polyline clip-path=\"url(#clip382)\" style=\"stroke:#000000; stroke-linecap:round; stroke-linejoin:round; stroke-width:4; stroke-opacity:1; fill:none\" points=\"1585.67,4013.85 1592.55,4006.97 \"/>\n",
       "<polyline clip-path=\"url(#clip382)\" style=\"stroke:#000000; stroke-linecap:round; stroke-linejoin:round; stroke-width:4; stroke-opacity:1; fill:none\" points=\"1592.55,4006.97 1592.55,3938.14 \"/>\n",
       "<polyline clip-path=\"url(#clip382)\" style=\"stroke:#000000; stroke-linecap:round; stroke-linejoin:round; stroke-width:4; stroke-opacity:1; fill:none\" points=\"1592.55,3938.14 1585.67,3931.26 \"/>\n",
       "<polyline clip-path=\"url(#clip382)\" style=\"stroke:#000000; stroke-linecap:round; stroke-linejoin:round; stroke-width:4; stroke-opacity:1; fill:none\" points=\"1585.67,3931.26 1165.82,3931.26 \"/>\n",
       "<polyline clip-path=\"url(#clip382)\" style=\"stroke:#000000; stroke-linecap:round; stroke-linejoin:round; stroke-width:4; stroke-opacity:1; fill:none\" points=\"1165.82,3931.26 1158.93,3938.14 \"/>\n",
       "<polyline clip-path=\"url(#clip382)\" style=\"stroke:#000000; stroke-linecap:round; stroke-linejoin:round; stroke-width:4; stroke-opacity:1; fill:none\" points=\"1158.93,3938.14 1158.93,4006.97 \"/>\n",
       "<polyline clip-path=\"url(#clip382)\" style=\"stroke:#000000; stroke-linecap:round; stroke-linejoin:round; stroke-width:4; stroke-opacity:1; fill:none\" points=\"1158.93,4006.97 1165.82,4013.85 \"/>\n",
       "<polyline clip-path=\"url(#clip382)\" style=\"stroke:#000000; stroke-linecap:round; stroke-linejoin:round; stroke-width:4; stroke-opacity:1; fill:none\" points=\"1165.82,4013.85 1324.12,4013.85 \"/>\n",
       "<polyline clip-path=\"url(#clip382)\" style=\"stroke:#000000; stroke-linecap:round; stroke-linejoin:round; stroke-width:4; stroke-opacity:1; fill:none\" points=\"1324.12,4013.85 1324.12,5445.48 \"/>\n",
       "<polyline clip-path=\"url(#clip382)\" style=\"stroke:#000000; stroke-linecap:round; stroke-linejoin:round; stroke-width:4; stroke-opacity:1; fill:none\" points=\"1324.12,5445.48 -575.538,5445.48 \"/>\n",
       "<polyline clip-path=\"url(#clip382)\" style=\"stroke:#000000; stroke-linecap:round; stroke-linejoin:round; stroke-width:4; stroke-opacity:1; fill:none\" points=\"-575.538,5445.48 -582.421,5452.36 \"/>\n",
       "<polyline clip-path=\"url(#clip382)\" style=\"stroke:#000000; stroke-linecap:round; stroke-linejoin:round; stroke-width:4; stroke-opacity:1; fill:none\" points=\"-582.421,5452.36 -582.421,5514.31 \"/>\n",
       "<polyline clip-path=\"url(#clip382)\" style=\"stroke:#000000; stroke-linecap:round; stroke-linejoin:round; stroke-width:4; stroke-opacity:1; fill:none\" points=\"-582.421,5514.31 -575.538,5521.19 \"/>\n",
       "<polyline clip-path=\"url(#clip382)\" style=\"stroke:#000000; stroke-linecap:round; stroke-linejoin:round; stroke-width:4; stroke-opacity:1; fill:none\" points=\"-575.538,5521.19 1324.12,5521.19 \"/>\n",
       "<polyline clip-path=\"url(#clip382)\" style=\"stroke:#000000; stroke-linecap:round; stroke-linejoin:round; stroke-width:4; stroke-opacity:1; fill:none\" points=\"1324.12,5521.19 1324.12,6615.56 \"/>\n",
       "<polyline clip-path=\"url(#clip382)\" style=\"stroke:#000000; stroke-linecap:round; stroke-linejoin:round; stroke-width:4; stroke-opacity:1; fill:none\" points=\"1324.12,6615.56 332.995,6615.56 \"/>\n",
       "<polyline clip-path=\"url(#clip382)\" style=\"stroke:#000000; stroke-linecap:round; stroke-linejoin:round; stroke-width:4; stroke-opacity:1; fill:none\" points=\"332.995,6615.56 326.112,6622.44 \"/>\n",
       "<polyline clip-path=\"url(#clip382)\" style=\"stroke:#000000; stroke-linecap:round; stroke-linejoin:round; stroke-width:4; stroke-opacity:1; fill:none\" points=\"326.112,6622.44 326.112,6691.27 \"/>\n",
       "<polyline clip-path=\"url(#clip382)\" style=\"stroke:#000000; stroke-linecap:round; stroke-linejoin:round; stroke-width:4; stroke-opacity:1; fill:none\" points=\"326.112,6691.27 332.995,6698.15 \"/>\n",
       "<polyline clip-path=\"url(#clip382)\" style=\"stroke:#000000; stroke-linecap:round; stroke-linejoin:round; stroke-width:4; stroke-opacity:1; fill:none\" points=\"332.995,6698.15 3588.57,6698.15 \"/>\n",
       "<polyline clip-path=\"url(#clip382)\" style=\"stroke:#000000; stroke-linecap:round; stroke-linejoin:round; stroke-width:4; stroke-opacity:1; fill:none\" points=\"3588.57,6698.15 3588.57,10531.9 \"/>\n",
       "<polyline clip-path=\"url(#clip382)\" style=\"stroke:#000000; stroke-linecap:round; stroke-linejoin:round; stroke-width:4; stroke-opacity:1; fill:none\" points=\"3588.57,10531.9 -307.108,10531.9 \"/>\n",
       "<polyline clip-path=\"url(#clip382)\" style=\"stroke:#000000; stroke-linecap:round; stroke-linejoin:round; stroke-width:4; stroke-opacity:1; fill:none\" points=\"-307.108,10531.9 -307.108,10531.9 \"/>\n",
       "<polyline clip-path=\"url(#clip382)\" style=\"stroke:#440154; stroke-linecap:round; stroke-linejoin:round; stroke-width:16; stroke-opacity:1; fill:none\" points=\"1208.61,1102.35 1131.58,1140.65 \"/>\n",
       "<polyline clip-path=\"url(#clip382)\" style=\"stroke:#45085c; stroke-linecap:round; stroke-linejoin:round; stroke-width:16; stroke-opacity:1; fill:none\" points=\"520.332,414.065 448.639,366.503 \"/>\n",
       "<polyline clip-path=\"url(#clip382)\" style=\"stroke:#460b5e; stroke-linecap:round; stroke-linejoin:round; stroke-width:16; stroke-opacity:1; fill:none\" points=\"1208.61,1102.35 1161.05,1174.04 \"/>\n",
       "<polyline clip-path=\"url(#clip382)\" style=\"stroke:#481d6f; stroke-linecap:round; stroke-linejoin:round; stroke-width:16; stroke-opacity:1; fill:none\" points=\"1208.61,414.065 1161.05,485.758 \"/>\n",
       "<polyline clip-path=\"url(#clip382)\" style=\"stroke:#481e70; stroke-linecap:round; stroke-linejoin:round; stroke-width:16; stroke-opacity:1; fill:none\" points=\"520.332,643.492 448.639,595.93 \"/>\n",
       "<polyline clip-path=\"url(#clip382)\" style=\"stroke:#482374; stroke-linecap:round; stroke-linejoin:round; stroke-width:16; stroke-opacity:1; fill:none\" points=\"520.332,414.065 434.463,408.722 \"/>\n",
       "<polyline clip-path=\"url(#clip382)\" style=\"stroke:#482475; stroke-linecap:round; stroke-linejoin:round; stroke-width:16; stroke-opacity:1; fill:none\" points=\"520.332,872.92 448.639,825.358 \"/>\n",
       "<polyline clip-path=\"url(#clip382)\" style=\"stroke:#472576; stroke-linecap:round; stroke-linejoin:round; stroke-width:16; stroke-opacity:1; fill:none\" points=\"520.332,1102.35 434.463,1097 \"/>\n",
       "<polyline clip-path=\"url(#clip382)\" style=\"stroke:#472676; stroke-linecap:round; stroke-linejoin:round; stroke-width:16; stroke-opacity:1; fill:none\" points=\"520.332,1102.35 448.639,1054.79 \"/>\n",
       "<polyline clip-path=\"url(#clip382)\" style=\"stroke:#472b7a; stroke-linecap:round; stroke-linejoin:round; stroke-width:16; stroke-opacity:1; fill:none\" points=\"1208.61,872.92 1161.05,944.613 \"/>\n",
       "<polyline clip-path=\"url(#clip382)\" style=\"stroke:#46317e; stroke-linecap:round; stroke-linejoin:round; stroke-width:16; stroke-opacity:1; fill:none\" points=\"1208.61,414.065 1136.92,366.503 \"/>\n",
       "<polyline clip-path=\"url(#clip382)\" style=\"stroke:#45337f; stroke-linecap:round; stroke-linejoin:round; stroke-width:16; stroke-opacity:1; fill:none\" points=\"979.187,1102.35 931.625,1174.04 \"/>\n",
       "<polyline clip-path=\"url(#clip382)\" style=\"stroke:#433a83; stroke-linecap:round; stroke-linejoin:round; stroke-width:16; stroke-opacity:1; fill:none\" points=\"749.76,414.065 678.066,366.503 \"/>\n",
       "<polyline clip-path=\"url(#clip382)\" style=\"stroke:#433c84; stroke-linecap:round; stroke-linejoin:round; stroke-width:16; stroke-opacity:1; fill:none\" points=\"1208.61,643.492 1161.05,715.186 \"/>\n",
       "<polyline clip-path=\"url(#clip382)\" style=\"stroke:#414186; stroke-linecap:round; stroke-linejoin:round; stroke-width:16; stroke-opacity:1; fill:none\" points=\"749.76,1102.35 702.198,1174.04 \"/>\n",
       "<polyline clip-path=\"url(#clip382)\" style=\"stroke:#3f4788; stroke-linecap:round; stroke-linejoin:round; stroke-width:16; stroke-opacity:1; fill:none\" points=\"520.332,1102.35 472.77,1174.04 \"/>\n",
       "<polyline clip-path=\"url(#clip382)\" style=\"stroke:#3d4a89; stroke-linecap:round; stroke-linejoin:round; stroke-width:16; stroke-opacity:1; fill:none\" points=\"1208.61,872.92 1131.58,911.227 \"/>\n",
       "<polyline clip-path=\"url(#clip382)\" style=\"stroke:#3d4b89; stroke-linecap:round; stroke-linejoin:round; stroke-width:16; stroke-opacity:1; fill:none\" points=\"1208.61,414.065 1131.58,452.372 \"/>\n",
       "<polyline clip-path=\"url(#clip382)\" style=\"stroke:#39538b; stroke-linecap:round; stroke-linejoin:round; stroke-width:16; stroke-opacity:1; fill:none\" points=\"979.187,414.065 907.494,366.503 \"/>\n",
       "<polyline clip-path=\"url(#clip382)\" style=\"stroke:#39538b; stroke-linecap:round; stroke-linejoin:round; stroke-width:16; stroke-opacity:1; fill:none\" points=\"979.187,414.065 931.625,485.758 \"/>\n",
       "<polyline clip-path=\"url(#clip382)\" style=\"stroke:#39558b; stroke-linecap:round; stroke-linejoin:round; stroke-width:16; stroke-opacity:1; fill:none\" points=\"520.332,1102.35 443.295,1140.65 \"/>\n",
       "<polyline clip-path=\"url(#clip382)\" style=\"stroke:#37598c; stroke-linecap:round; stroke-linejoin:round; stroke-width:16; stroke-opacity:1; fill:none\" points=\"979.187,872.92 931.625,944.613 \"/>\n",
       "<polyline clip-path=\"url(#clip382)\" style=\"stroke:#365a8c; stroke-linecap:round; stroke-linejoin:round; stroke-width:16; stroke-opacity:1; fill:none\" points=\"1208.61,643.492 1136.92,595.93 \"/>\n",
       "<polyline clip-path=\"url(#clip382)\" style=\"stroke:#345e8c; stroke-linecap:round; stroke-linejoin:round; stroke-width:16; stroke-opacity:1; fill:none\" points=\"749.76,643.492 678.066,595.93 \"/>\n",
       "<polyline clip-path=\"url(#clip382)\" style=\"stroke:#30688d; stroke-linecap:round; stroke-linejoin:round; stroke-width:16; stroke-opacity:1; fill:none\" points=\"1208.61,414.065 1122.75,408.722 \"/>\n",
       "<polyline clip-path=\"url(#clip382)\" style=\"stroke:#2f698d; stroke-linecap:round; stroke-linejoin:round; stroke-width:16; stroke-opacity:1; fill:none\" points=\"520.332,643.492 434.463,638.149 \"/>\n",
       "<polyline clip-path=\"url(#clip382)\" style=\"stroke:#2e6c8e; stroke-linecap:round; stroke-linejoin:round; stroke-width:16; stroke-opacity:1; fill:none\" points=\"520.332,872.92 434.463,867.577 \"/>\n",
       "<polyline clip-path=\"url(#clip382)\" style=\"stroke:#2d6e8e; stroke-linecap:round; stroke-linejoin:round; stroke-width:16; stroke-opacity:1; fill:none\" points=\"979.187,1102.35 902.151,1140.65 \"/>\n",
       "<polyline clip-path=\"url(#clip382)\" style=\"stroke:#2d6e8e; stroke-linecap:round; stroke-linejoin:round; stroke-width:16; stroke-opacity:1; fill:none\" points=\"979.187,643.492 931.625,715.186 \"/>\n",
       "<polyline clip-path=\"url(#clip382)\" style=\"stroke:#2d6e8e; stroke-linecap:round; stroke-linejoin:round; stroke-width:16; stroke-opacity:1; fill:none\" points=\"749.76,872.92 678.066,825.358 \"/>\n",
       "<polyline clip-path=\"url(#clip382)\" style=\"stroke:#2d6e8e; stroke-linecap:round; stroke-linejoin:round; stroke-width:16; stroke-opacity:1; fill:none\" points=\"749.76,414.065 663.89,408.722 \"/>\n",
       "<polyline clip-path=\"url(#clip382)\" style=\"stroke:#2d6f8e; stroke-linecap:round; stroke-linejoin:round; stroke-width:16; stroke-opacity:1; fill:none\" points=\"749.76,872.92 702.198,944.613 \"/>\n",
       "<polyline clip-path=\"url(#clip382)\" style=\"stroke:#2c718e; stroke-linecap:round; stroke-linejoin:round; stroke-width:16; stroke-opacity:1; fill:none\" points=\"749.76,1102.35 678.066,1054.79 \"/>\n",
       "<polyline clip-path=\"url(#clip382)\" style=\"stroke:#2a758e; stroke-linecap:round; stroke-linejoin:round; stroke-width:16; stroke-opacity:1; fill:none\" points=\"1208.61,643.492 1131.58,681.8 \"/>\n",
       "<polyline clip-path=\"url(#clip382)\" style=\"stroke:#29788e; stroke-linecap:round; stroke-linejoin:round; stroke-width:16; stroke-opacity:1; fill:none\" points=\"1208.61,872.92 1136.92,825.358 \"/>\n",
       "<polyline clip-path=\"url(#clip382)\" style=\"stroke:#29798e; stroke-linecap:round; stroke-linejoin:round; stroke-width:16; stroke-opacity:1; fill:none\" points=\"749.76,414.065 702.198,485.758 \"/>\n",
       "<polyline clip-path=\"url(#clip382)\" style=\"stroke:#287a8e; stroke-linecap:round; stroke-linejoin:round; stroke-width:16; stroke-opacity:1; fill:none\" points=\"979.187,643.492 907.494,595.93 \"/>\n",
       "<polyline clip-path=\"url(#clip382)\" style=\"stroke:#287a8e; stroke-linecap:round; stroke-linejoin:round; stroke-width:16; stroke-opacity:1; fill:none\" points=\"520.332,872.92 472.77,944.613 \"/>\n",
       "<polyline clip-path=\"url(#clip382)\" style=\"stroke:#228b8d; stroke-linecap:round; stroke-linejoin:round; stroke-width:16; stroke-opacity:1; fill:none\" points=\"749.76,1102.35 663.89,1097 \"/>\n",
       "<polyline clip-path=\"url(#clip382)\" style=\"stroke:#218c8d; stroke-linecap:round; stroke-linejoin:round; stroke-width:16; stroke-opacity:1; fill:none\" points=\"749.76,643.492 702.198,715.186 \"/>\n",
       "<polyline clip-path=\"url(#clip382)\" style=\"stroke:#218d8c; stroke-linecap:round; stroke-linejoin:round; stroke-width:16; stroke-opacity:1; fill:none\" points=\"1208.61,1102.35 1136.92,1054.79 \"/>\n",
       "<polyline clip-path=\"url(#clip382)\" style=\"stroke:#20918c; stroke-linecap:round; stroke-linejoin:round; stroke-width:16; stroke-opacity:1; fill:none\" points=\"749.76,1102.35 672.723,1140.65 \"/>\n",
       "<polyline clip-path=\"url(#clip382)\" style=\"stroke:#1f928b; stroke-linecap:round; stroke-linejoin:round; stroke-width:16; stroke-opacity:1; fill:none\" points=\"979.187,872.92 907.494,825.358 \"/>\n",
       "<polyline clip-path=\"url(#clip382)\" style=\"stroke:#1f958b; stroke-linecap:round; stroke-linejoin:round; stroke-width:16; stroke-opacity:1; fill:none\" points=\"520.332,414.065 472.77,485.758 \"/>\n",
       "<polyline clip-path=\"url(#clip382)\" style=\"stroke:#1f968b; stroke-linecap:round; stroke-linejoin:round; stroke-width:16; stroke-opacity:1; fill:none\" points=\"979.187,414.065 893.318,408.722 \"/>\n",
       "<polyline clip-path=\"url(#clip382)\" style=\"stroke:#1e968a; stroke-linecap:round; stroke-linejoin:round; stroke-width:16; stroke-opacity:1; fill:none\" points=\"1208.61,1102.35 1122.75,1097 \"/>\n",
       "<polyline clip-path=\"url(#clip382)\" style=\"stroke:#1e9f88; stroke-linecap:round; stroke-linejoin:round; stroke-width:16; stroke-opacity:1; fill:none\" points=\"979.187,1102.35 907.494,1054.79 \"/>\n",
       "<polyline clip-path=\"url(#clip382)\" style=\"stroke:#1ea087; stroke-linecap:round; stroke-linejoin:round; stroke-width:16; stroke-opacity:1; fill:none\" points=\"520.332,643.492 472.77,715.186 \"/>\n",
       "<polyline clip-path=\"url(#clip382)\" style=\"stroke:#21a684; stroke-linecap:round; stroke-linejoin:round; stroke-width:16; stroke-opacity:1; fill:none\" points=\"979.187,414.065 902.151,452.372 \"/>\n",
       "<polyline clip-path=\"url(#clip382)\" style=\"stroke:#22a883; stroke-linecap:round; stroke-linejoin:round; stroke-width:16; stroke-opacity:1; fill:none\" points=\"1208.61,643.492 1122.75,638.149 \"/>\n",
       "<polyline clip-path=\"url(#clip382)\" style=\"stroke:#24aa82; stroke-linecap:round; stroke-linejoin:round; stroke-width:16; stroke-opacity:1; fill:none\" points=\"520.332,872.92 443.295,911.227 \"/>\n",
       "<polyline clip-path=\"url(#clip382)\" style=\"stroke:#28ae7f; stroke-linecap:round; stroke-linejoin:round; stroke-width:16; stroke-opacity:1; fill:none\" points=\"979.187,872.92 902.151,911.227 \"/>\n",
       "<polyline clip-path=\"url(#clip382)\" style=\"stroke:#2eb37c; stroke-linecap:round; stroke-linejoin:round; stroke-width:16; stroke-opacity:1; fill:none\" points=\"749.76,643.492 663.89,638.149 \"/>\n",
       "<polyline clip-path=\"url(#clip382)\" style=\"stroke:#2fb37b; stroke-linecap:round; stroke-linejoin:round; stroke-width:16; stroke-opacity:1; fill:none\" points=\"520.332,414.065 443.295,452.372 \"/>\n",
       "<polyline clip-path=\"url(#clip382)\" style=\"stroke:#40bd72; stroke-linecap:round; stroke-linejoin:round; stroke-width:16; stroke-opacity:1; fill:none\" points=\"1208.61,872.92 1122.75,867.577 \"/>\n",
       "<polyline clip-path=\"url(#clip382)\" style=\"stroke:#47c06e; stroke-linecap:round; stroke-linejoin:round; stroke-width:16; stroke-opacity:1; fill:none\" points=\"749.76,872.92 663.89,867.577 \"/>\n",
       "<polyline clip-path=\"url(#clip382)\" style=\"stroke:#4dc26b; stroke-linecap:round; stroke-linejoin:round; stroke-width:16; stroke-opacity:1; fill:none\" points=\"979.187,1102.35 893.318,1097 \"/>\n",
       "<polyline clip-path=\"url(#clip382)\" style=\"stroke:#77d052; stroke-linecap:round; stroke-linejoin:round; stroke-width:16; stroke-opacity:1; fill:none\" points=\"749.76,414.065 672.723,452.372 \"/>\n",
       "<polyline clip-path=\"url(#clip382)\" style=\"stroke:#77d052; stroke-linecap:round; stroke-linejoin:round; stroke-width:16; stroke-opacity:1; fill:none\" points=\"979.187,643.492 902.151,681.8 \"/>\n",
       "<polyline clip-path=\"url(#clip382)\" style=\"stroke:#84d44a; stroke-linecap:round; stroke-linejoin:round; stroke-width:16; stroke-opacity:1; fill:none\" points=\"749.76,872.92 672.723,911.227 \"/>\n",
       "<polyline clip-path=\"url(#clip382)\" style=\"stroke:#84d44a; stroke-linecap:round; stroke-linejoin:round; stroke-width:16; stroke-opacity:1; fill:none\" points=\"979.187,643.492 893.318,638.149 \"/>\n",
       "<polyline clip-path=\"url(#clip382)\" style=\"stroke:#8dd644; stroke-linecap:round; stroke-linejoin:round; stroke-width:16; stroke-opacity:1; fill:none\" points=\"520.332,643.492 443.295,681.8 \"/>\n",
       "<polyline clip-path=\"url(#clip382)\" style=\"stroke:#c2df23; stroke-linecap:round; stroke-linejoin:round; stroke-width:16; stroke-opacity:1; fill:none\" points=\"979.187,872.92 893.318,867.577 \"/>\n",
       "<polyline clip-path=\"url(#clip382)\" style=\"stroke:#fde724; stroke-linecap:round; stroke-linejoin:round; stroke-width:16; stroke-opacity:1; fill:none\" points=\"749.76,643.492 672.723,681.8 \"/>\n",
       "<polyline clip-path=\"url(#clip382)\" style=\"stroke:#ff0000; stroke-linecap:round; stroke-linejoin:round; stroke-width:12; stroke-opacity:1; fill:none\" points=\"873.936,703.407 790.104,722.753 \"/>\n",
       "</svg>\n"
      ]
     },
     "execution_count": 28,
     "metadata": {},
     "output_type": "execute_result"
    }
   ],
   "source": [
    "t  = 1\n",
    "\n",
    "p0  = _ps[t]\n",
    "x   = stack(polar_inv(_zs[t],_as))\n",
    "\n",
    "w   = 5\n",
    "sig = 0.1\n",
    "dropout = 1e-9\n",
    "\n",
    "grid_dx  = 0.5\n",
    "grid_dhd = 90.0\n",
    "grid_k  = 4\n",
    "\n",
    "p = perturb(p0, 0.1, 10)\n",
    "p1, ps, log_p = grid_proposal(p, x, w, sig, dropout, grid_k, grid_dx, grid_dhd);\n",
    "\n",
    "\n",
    "cs = peak_to_peak(log_p)\n",
    "# ---------------\n",
    "mypl = plot(size=(400,400), legend=nothing; yxlims(p.x,1)..., aspect_ratio=:equal)\n",
    "plot!(_segs, c=:black)\n",
    "# scatter!([p.x .+ 0.1*[cos(p.hd);sin(p.hd)] for p in ps], zcolor=log_p)\n",
    "plot!(Pose.(ps), cgrad(:viridis)[cs], r=0.125, linewidth=4)\n",
    "plot!(p0,c=:red, r=0.125, linewidth=3)\n",
    "mypl"
   ]
  },
  {
   "cell_type": "markdown",
   "id": "79d4a7be",
   "metadata": {},
   "source": [
    "#### Iterated proposal - gen"
   ]
  },
  {
   "cell_type": "code",
   "execution_count": 29,
   "id": "21af40fc",
   "metadata": {},
   "outputs": [],
   "source": [
    "#nbx\n",
    "@gen function iterated_proposal(p::Pose, x::Matrix, \n",
    "                                w::Vector{Int}, sig::Vector{Float64}, dropout::Vector{Float64}, \n",
    "                                grid_k::Vector{Int}, grid_dx::Vector{Float64}, grid_dhd::Vector{Float64})\n",
    "    \n",
    "    n = length(w)\n",
    "    \n",
    "    ps = Pose[]\n",
    "    log_ps = []\n",
    "    for i=1:n\n",
    "        args = (p, x, w[i], sig[i], dropout[i], grid_k[i], grid_dx[i], grid_dhd[i])\n",
    "        p, _, log_p = {  i => :p } ~ grid_proposal(args...)\n",
    "        push!(ps, p)\n",
    "        push!(log_ps, log_p)\n",
    "    end\n",
    "    return p, ps, log_ps\n",
    "end;"
   ]
  },
  {
   "cell_type": "code",
   "execution_count": 30,
   "id": "3750d9d0",
   "metadata": {},
   "outputs": [
    {
     "data": {
      "image/svg+xml": [
       "<?xml version=\"1.0\" encoding=\"utf-8\"?>\n",
       "<svg xmlns=\"http://www.w3.org/2000/svg\" xmlns:xlink=\"http://www.w3.org/1999/xlink\" width=\"400\" height=\"400\" viewBox=\"0 0 1600 1600\">\n",
       "<defs>\n",
       "  <clipPath id=\"clip420\">\n",
       "    <rect x=\"0\" y=\"0\" width=\"1600\" height=\"1600\"/>\n",
       "  </clipPath>\n",
       "</defs>\n",
       "<path clip-path=\"url(#clip420)\" d=\"M0 1600 L1600 1600 L1600 0 L0 0  Z\" fill=\"#ffffff\" fill-rule=\"evenodd\" fill-opacity=\"1\"/>\n",
       "<defs>\n",
       "  <clipPath id=\"clip421\">\n",
       "    <rect x=\"320\" y=\"160\" width=\"1121\" height=\"1121\"/>\n",
       "  </clipPath>\n",
       "</defs>\n",
       "<path clip-path=\"url(#clip420)\" d=\"M131.446 1468.86 L1552.76 1468.86 L1552.76 47.5508 L131.446 47.5508  Z\" fill=\"#ffffff\" fill-rule=\"evenodd\" fill-opacity=\"1\"/>\n",
       "<defs>\n",
       "  <clipPath id=\"clip422\">\n",
       "    <rect x=\"131\" y=\"47\" width=\"1422\" height=\"1422\"/>\n",
       "  </clipPath>\n",
       "</defs>\n",
       "<polyline clip-path=\"url(#clip422)\" style=\"stroke:#000000; stroke-linecap:round; stroke-linejoin:round; stroke-width:2; stroke-opacity:0.1; fill:none\" points=\"141.885,1468.86 141.885,47.5508 \"/>\n",
       "<polyline clip-path=\"url(#clip422)\" style=\"stroke:#000000; stroke-linecap:round; stroke-linejoin:round; stroke-width:2; stroke-opacity:0.1; fill:none\" points=\"378.77,1468.86 378.77,47.5508 \"/>\n",
       "<polyline clip-path=\"url(#clip422)\" style=\"stroke:#000000; stroke-linecap:round; stroke-linejoin:round; stroke-width:2; stroke-opacity:0.1; fill:none\" points=\"615.656,1468.86 615.656,47.5508 \"/>\n",
       "<polyline clip-path=\"url(#clip422)\" style=\"stroke:#000000; stroke-linecap:round; stroke-linejoin:round; stroke-width:2; stroke-opacity:0.1; fill:none\" points=\"852.541,1468.86 852.541,47.5508 \"/>\n",
       "<polyline clip-path=\"url(#clip422)\" style=\"stroke:#000000; stroke-linecap:round; stroke-linejoin:round; stroke-width:2; stroke-opacity:0.1; fill:none\" points=\"1089.43,1468.86 1089.43,47.5508 \"/>\n",
       "<polyline clip-path=\"url(#clip422)\" style=\"stroke:#000000; stroke-linecap:round; stroke-linejoin:round; stroke-width:2; stroke-opacity:0.1; fill:none\" points=\"1326.31,1468.86 1326.31,47.5508 \"/>\n",
       "<polyline clip-path=\"url(#clip420)\" style=\"stroke:#000000; stroke-linecap:round; stroke-linejoin:round; stroke-width:4; stroke-opacity:1; fill:none\" points=\"131.446,1468.86 1552.76,1468.86 \"/>\n",
       "<polyline clip-path=\"url(#clip420)\" style=\"stroke:#000000; stroke-linecap:round; stroke-linejoin:round; stroke-width:4; stroke-opacity:1; fill:none\" points=\"141.885,1468.86 141.885,1449.97 \"/>\n",
       "<polyline clip-path=\"url(#clip420)\" style=\"stroke:#000000; stroke-linecap:round; stroke-linejoin:round; stroke-width:4; stroke-opacity:1; fill:none\" points=\"378.77,1468.86 378.77,1449.97 \"/>\n",
       "<polyline clip-path=\"url(#clip420)\" style=\"stroke:#000000; stroke-linecap:round; stroke-linejoin:round; stroke-width:4; stroke-opacity:1; fill:none\" points=\"615.656,1468.86 615.656,1449.97 \"/>\n",
       "<polyline clip-path=\"url(#clip420)\" style=\"stroke:#000000; stroke-linecap:round; stroke-linejoin:round; stroke-width:4; stroke-opacity:1; fill:none\" points=\"852.541,1468.86 852.541,1449.97 \"/>\n",
       "<polyline clip-path=\"url(#clip420)\" style=\"stroke:#000000; stroke-linecap:round; stroke-linejoin:round; stroke-width:4; stroke-opacity:1; fill:none\" points=\"1089.43,1468.86 1089.43,1449.97 \"/>\n",
       "<polyline clip-path=\"url(#clip420)\" style=\"stroke:#000000; stroke-linecap:round; stroke-linejoin:round; stroke-width:4; stroke-opacity:1; fill:none\" points=\"1326.31,1468.86 1326.31,1449.97 \"/>\n",
       "<path clip-path=\"url(#clip420)\" d=\"M117.372 1520.93 L125.011 1520.93 L125.011 1494.56 L116.7 1496.23 L116.7 1491.97 L124.964 1490.3 L129.64 1490.3 L129.64 1520.93 L137.279 1520.93 L137.279 1524.86 L117.372 1524.86 L117.372 1520.93 Z\" fill=\"#000000\" fill-rule=\"evenodd\" fill-opacity=\"1\" /><path clip-path=\"url(#clip420)\" d=\"M150.751 1520.93 L167.07 1520.93 L167.07 1524.86 L145.126 1524.86 L145.126 1520.93 Q147.788 1518.17 152.371 1513.54 Q156.978 1508.89 158.158 1507.55 Q160.404 1505.02 161.283 1503.29 Q162.186 1501.53 162.186 1499.84 Q162.186 1497.08 160.242 1495.35 Q158.321 1493.61 155.219 1493.61 Q153.02 1493.61 150.566 1494.38 Q148.135 1495.14 145.358 1496.69 L145.358 1491.97 Q148.182 1490.83 150.635 1490.25 Q153.089 1489.68 155.126 1489.68 Q160.496 1489.68 163.691 1492.36 Q166.885 1495.05 166.885 1499.54 Q166.885 1501.67 166.075 1503.59 Q165.288 1505.49 163.182 1508.08 Q162.603 1508.75 159.501 1511.97 Q156.399 1515.16 150.751 1520.93 Z\" fill=\"#000000\" fill-rule=\"evenodd\" fill-opacity=\"1\" /><path clip-path=\"url(#clip420)\" d=\"M353.782 1520.93 L361.421 1520.93 L361.421 1494.56 L353.111 1496.23 L353.111 1491.97 L361.375 1490.3 L366.051 1490.3 L366.051 1520.93 L373.689 1520.93 L373.689 1524.86 L353.782 1524.86 L353.782 1520.93 Z\" fill=\"#000000\" fill-rule=\"evenodd\" fill-opacity=\"1\" /><path clip-path=\"url(#clip420)\" d=\"M397.3 1506.23 Q400.657 1506.94 402.532 1509.21 Q404.43 1511.48 404.43 1514.81 Q404.43 1519.93 400.912 1522.73 Q397.393 1525.53 390.912 1525.53 Q388.736 1525.53 386.421 1525.09 Q384.129 1524.68 381.676 1523.82 L381.676 1519.31 Q383.62 1520.44 385.935 1521.02 Q388.25 1521.6 390.773 1521.6 Q395.171 1521.6 397.463 1519.86 Q399.777 1518.13 399.777 1514.81 Q399.777 1511.76 397.625 1510.05 Q395.495 1508.31 391.675 1508.31 L387.648 1508.31 L387.648 1504.47 L391.861 1504.47 Q395.31 1504.47 397.138 1503.1 Q398.967 1501.71 398.967 1499.12 Q398.967 1496.46 397.069 1495.05 Q395.194 1493.61 391.675 1493.61 Q389.754 1493.61 387.555 1494.03 Q385.356 1494.44 382.717 1495.32 L382.717 1491.16 Q385.379 1490.42 387.694 1490.05 Q390.032 1489.68 392.092 1489.68 Q397.416 1489.68 400.518 1492.11 Q403.62 1494.51 403.62 1498.63 Q403.62 1501.5 401.976 1503.5 Q400.333 1505.46 397.3 1506.23 Z\" fill=\"#000000\" fill-rule=\"evenodd\" fill-opacity=\"1\" /><path clip-path=\"url(#clip420)\" d=\"M590.1 1520.93 L597.739 1520.93 L597.739 1494.56 L589.429 1496.23 L589.429 1491.97 L597.693 1490.3 L602.369 1490.3 L602.369 1520.93 L610.007 1520.93 L610.007 1524.86 L590.1 1524.86 L590.1 1520.93 Z\" fill=\"#000000\" fill-rule=\"evenodd\" fill-opacity=\"1\" /><path clip-path=\"url(#clip420)\" d=\"M632.299 1494.38 L620.493 1512.82 L632.299 1512.82 L632.299 1494.38 M631.072 1490.3 L636.952 1490.3 L636.952 1512.82 L641.882 1512.82 L641.882 1516.71 L636.952 1516.71 L636.952 1524.86 L632.299 1524.86 L632.299 1516.71 L616.697 1516.71 L616.697 1512.2 L631.072 1490.3 Z\" fill=\"#000000\" fill-rule=\"evenodd\" fill-opacity=\"1\" /><path clip-path=\"url(#clip420)\" d=\"M827.726 1520.93 L835.365 1520.93 L835.365 1494.56 L827.055 1496.23 L827.055 1491.97 L835.318 1490.3 L839.994 1490.3 L839.994 1520.93 L847.633 1520.93 L847.633 1524.86 L827.726 1524.86 L827.726 1520.93 Z\" fill=\"#000000\" fill-rule=\"evenodd\" fill-opacity=\"1\" /><path clip-path=\"url(#clip420)\" d=\"M857.124 1490.3 L875.48 1490.3 L875.48 1494.24 L861.406 1494.24 L861.406 1502.71 Q862.425 1502.36 863.443 1502.2 Q864.462 1502.01 865.48 1502.01 Q871.267 1502.01 874.647 1505.19 Q878.027 1508.36 878.027 1513.77 Q878.027 1519.35 874.554 1522.45 Q871.082 1525.53 864.763 1525.53 Q862.587 1525.53 860.318 1525.16 Q858.073 1524.79 855.666 1524.05 L855.666 1519.35 Q857.749 1520.49 859.971 1521.04 Q862.193 1521.6 864.67 1521.6 Q868.675 1521.6 871.013 1519.49 Q873.351 1517.38 873.351 1513.77 Q873.351 1510.16 871.013 1508.06 Q868.675 1505.95 864.67 1505.95 Q862.795 1505.95 860.92 1506.37 Q859.068 1506.78 857.124 1507.66 L857.124 1490.3 Z\" fill=\"#000000\" fill-rule=\"evenodd\" fill-opacity=\"1\" /><path clip-path=\"url(#clip420)\" d=\"M1064.03 1520.93 L1071.67 1520.93 L1071.67 1494.56 L1063.36 1496.23 L1063.36 1491.97 L1071.62 1490.3 L1076.3 1490.3 L1076.3 1520.93 L1083.94 1520.93 L1083.94 1524.86 L1064.03 1524.86 L1064.03 1520.93 Z\" fill=\"#000000\" fill-rule=\"evenodd\" fill-opacity=\"1\" /><path clip-path=\"url(#clip420)\" d=\"M1103.96 1505.72 Q1100.81 1505.72 1098.96 1507.87 Q1097.13 1510.02 1097.13 1513.77 Q1097.13 1517.5 1098.96 1519.68 Q1100.81 1521.83 1103.96 1521.83 Q1107.11 1521.83 1108.94 1519.68 Q1110.79 1517.5 1110.79 1513.77 Q1110.79 1510.02 1108.94 1507.87 Q1107.11 1505.72 1103.96 1505.72 M1113.24 1491.07 L1113.24 1495.32 Q1111.49 1494.49 1109.68 1494.05 Q1107.9 1493.61 1106.14 1493.61 Q1101.51 1493.61 1099.06 1496.74 Q1096.62 1499.86 1096.28 1506.18 Q1097.64 1504.17 1099.7 1503.1 Q1101.76 1502.01 1104.24 1502.01 Q1109.45 1502.01 1112.46 1505.19 Q1115.49 1508.33 1115.49 1513.77 Q1115.49 1519.1 1112.34 1522.31 Q1109.19 1525.53 1103.96 1525.53 Q1097.97 1525.53 1094.8 1520.95 Q1091.62 1516.34 1091.62 1507.62 Q1091.62 1499.42 1095.51 1494.56 Q1099.4 1489.68 1105.95 1489.68 Q1107.71 1489.68 1109.49 1490.02 Q1111.3 1490.37 1113.24 1491.07 Z\" fill=\"#000000\" fill-rule=\"evenodd\" fill-opacity=\"1\" /><path clip-path=\"url(#clip420)\" d=\"M1301.45 1520.93 L1309.09 1520.93 L1309.09 1494.56 L1300.78 1496.23 L1300.78 1491.97 L1309.04 1490.3 L1313.72 1490.3 L1313.72 1520.93 L1321.36 1520.93 L1321.36 1524.86 L1301.45 1524.86 L1301.45 1520.93 Z\" fill=\"#000000\" fill-rule=\"evenodd\" fill-opacity=\"1\" /><path clip-path=\"url(#clip420)\" d=\"M1329.62 1490.3 L1351.84 1490.3 L1351.84 1492.29 L1339.3 1524.86 L1334.41 1524.86 L1346.22 1494.24 L1329.62 1494.24 L1329.62 1490.3 Z\" fill=\"#000000\" fill-rule=\"evenodd\" fill-opacity=\"1\" /><polyline clip-path=\"url(#clip422)\" style=\"stroke:#000000; stroke-linecap:round; stroke-linejoin:round; stroke-width:2; stroke-opacity:0.1; fill:none\" points=\"131.446,1321.92 1552.76,1321.92 \"/>\n",
       "<polyline clip-path=\"url(#clip422)\" style=\"stroke:#000000; stroke-linecap:round; stroke-linejoin:round; stroke-width:2; stroke-opacity:0.1; fill:none\" points=\"131.446,1085.04 1552.76,1085.04 \"/>\n",
       "<polyline clip-path=\"url(#clip422)\" style=\"stroke:#000000; stroke-linecap:round; stroke-linejoin:round; stroke-width:2; stroke-opacity:0.1; fill:none\" points=\"131.446,848.155 1552.76,848.155 \"/>\n",
       "<polyline clip-path=\"url(#clip422)\" style=\"stroke:#000000; stroke-linecap:round; stroke-linejoin:round; stroke-width:2; stroke-opacity:0.1; fill:none\" points=\"131.446,611.27 1552.76,611.27 \"/>\n",
       "<polyline clip-path=\"url(#clip422)\" style=\"stroke:#000000; stroke-linecap:round; stroke-linejoin:round; stroke-width:2; stroke-opacity:0.1; fill:none\" points=\"131.446,374.385 1552.76,374.385 \"/>\n",
       "<polyline clip-path=\"url(#clip422)\" style=\"stroke:#000000; stroke-linecap:round; stroke-linejoin:round; stroke-width:2; stroke-opacity:0.1; fill:none\" points=\"131.446,137.499 1552.76,137.499 \"/>\n",
       "<polyline clip-path=\"url(#clip420)\" style=\"stroke:#000000; stroke-linecap:round; stroke-linejoin:round; stroke-width:4; stroke-opacity:1; fill:none\" points=\"131.446,1468.86 131.446,47.5508 \"/>\n",
       "<polyline clip-path=\"url(#clip420)\" style=\"stroke:#000000; stroke-linecap:round; stroke-linejoin:round; stroke-width:4; stroke-opacity:1; fill:none\" points=\"131.446,1321.92 150.343,1321.92 \"/>\n",
       "<polyline clip-path=\"url(#clip420)\" style=\"stroke:#000000; stroke-linecap:round; stroke-linejoin:round; stroke-width:4; stroke-opacity:1; fill:none\" points=\"131.446,1085.04 150.343,1085.04 \"/>\n",
       "<polyline clip-path=\"url(#clip420)\" style=\"stroke:#000000; stroke-linecap:round; stroke-linejoin:round; stroke-width:4; stroke-opacity:1; fill:none\" points=\"131.446,848.155 150.343,848.155 \"/>\n",
       "<polyline clip-path=\"url(#clip420)\" style=\"stroke:#000000; stroke-linecap:round; stroke-linejoin:round; stroke-width:4; stroke-opacity:1; fill:none\" points=\"131.446,611.27 150.343,611.27 \"/>\n",
       "<polyline clip-path=\"url(#clip420)\" style=\"stroke:#000000; stroke-linecap:round; stroke-linejoin:round; stroke-width:4; stroke-opacity:1; fill:none\" points=\"131.446,374.385 150.343,374.385 \"/>\n",
       "<polyline clip-path=\"url(#clip420)\" style=\"stroke:#000000; stroke-linecap:round; stroke-linejoin:round; stroke-width:4; stroke-opacity:1; fill:none\" points=\"131.446,137.499 150.343,137.499 \"/>\n",
       "<path clip-path=\"url(#clip420)\" d=\"M57.7467 1335.27 L65.3856 1335.27 L65.3856 1308.9 L57.0754 1310.57 L57.0754 1306.31 L65.3393 1304.64 L70.0152 1304.64 L70.0152 1335.27 L77.654 1335.27 L77.654 1339.2 L57.7467 1339.2 L57.7467 1335.27 Z\" fill=\"#000000\" fill-rule=\"evenodd\" fill-opacity=\"1\" /><path clip-path=\"url(#clip420)\" d=\"M91.1262 1335.27 L107.446 1335.27 L107.446 1339.2 L85.5012 1339.2 L85.5012 1335.27 Q88.1632 1332.51 92.7466 1327.89 Q97.353 1323.23 98.5336 1321.89 Q100.779 1319.37 101.659 1317.63 Q102.561 1315.87 102.561 1314.18 Q102.561 1311.43 100.617 1309.69 Q98.6956 1307.95 95.5938 1307.95 Q93.3947 1307.95 90.941 1308.72 Q88.5105 1309.48 85.7327 1311.03 L85.7327 1306.31 Q88.5568 1305.18 91.0105 1304.6 Q93.4641 1304.02 95.5012 1304.02 Q100.872 1304.02 104.066 1306.7 Q107.26 1309.39 107.26 1313.88 Q107.26 1316.01 106.45 1317.93 Q105.663 1319.83 103.557 1322.42 Q102.978 1323.09 99.8761 1326.31 Q96.7743 1329.51 91.1262 1335.27 Z\" fill=\"#000000\" fill-rule=\"evenodd\" fill-opacity=\"1\" /><path clip-path=\"url(#clip420)\" d=\"M56.7977 1098.38 L64.4365 1098.38 L64.4365 1072.02 L56.1264 1073.69 L56.1264 1069.43 L64.3902 1067.76 L69.0661 1067.76 L69.0661 1098.38 L76.705 1098.38 L76.705 1102.32 L56.7977 1102.32 L56.7977 1098.38 Z\" fill=\"#000000\" fill-rule=\"evenodd\" fill-opacity=\"1\" /><path clip-path=\"url(#clip420)\" d=\"M100.316 1083.69 Q103.672 1084.4 105.547 1086.67 Q107.446 1088.94 107.446 1092.27 Q107.446 1097.39 103.927 1100.19 Q100.409 1102.99 93.9271 1102.99 Q91.7512 1102.99 89.4364 1102.55 Q87.1447 1102.13 84.691 1101.28 L84.691 1096.76 Q86.6355 1097.9 88.9503 1098.48 Q91.2651 1099.06 93.7882 1099.06 Q98.1863 1099.06 100.478 1097.32 Q102.793 1095.58 102.793 1092.27 Q102.793 1089.22 100.64 1087.5 Q98.5104 1085.77 94.691 1085.77 L90.6632 1085.77 L90.6632 1081.93 L94.8762 1081.93 Q98.3252 1081.93 100.154 1080.56 Q101.983 1079.17 101.983 1076.58 Q101.983 1073.92 100.084 1072.51 Q98.2095 1071.07 94.691 1071.07 Q92.7697 1071.07 90.5706 1071.49 Q88.3716 1071.9 85.7327 1072.78 L85.7327 1068.62 Q88.3947 1067.88 90.7095 1067.51 Q93.0475 1067.13 95.1077 1067.13 Q100.432 1067.13 103.534 1069.57 Q106.635 1071.97 106.635 1076.09 Q106.635 1078.96 104.992 1080.95 Q103.348 1082.92 100.316 1083.69 Z\" fill=\"#000000\" fill-rule=\"evenodd\" fill-opacity=\"1\" /><path clip-path=\"url(#clip420)\" d=\"M55.6634 861.499 L63.3023 861.499 L63.3023 835.134 L54.9921 836.801 L54.9921 832.541 L63.256 830.875 L67.9319 830.875 L67.9319 861.499 L75.5707 861.499 L75.5707 865.435 L55.6634 865.435 L55.6634 861.499 Z\" fill=\"#000000\" fill-rule=\"evenodd\" fill-opacity=\"1\" /><path clip-path=\"url(#clip420)\" d=\"M97.8623 834.949 L86.0568 853.398 L97.8623 853.398 L97.8623 834.949 M96.6354 830.875 L102.515 830.875 L102.515 853.398 L107.446 853.398 L107.446 857.287 L102.515 857.287 L102.515 865.435 L97.8623 865.435 L97.8623 857.287 L82.2605 857.287 L82.2605 852.773 L96.6354 830.875 Z\" fill=\"#000000\" fill-rule=\"evenodd\" fill-opacity=\"1\" /><path clip-path=\"url(#clip420)\" d=\"M57.1449 624.614 L64.7837 624.614 L64.7837 598.249 L56.4736 599.915 L56.4736 595.656 L64.7374 593.99 L69.4133 593.99 L69.4133 624.614 L77.0522 624.614 L77.0522 628.55 L57.1449 628.55 L57.1449 624.614 Z\" fill=\"#000000\" fill-rule=\"evenodd\" fill-opacity=\"1\" /><path clip-path=\"url(#clip420)\" d=\"M86.5429 593.99 L104.899 593.99 L104.899 597.925 L90.8253 597.925 L90.8253 606.397 Q91.8438 606.05 92.8623 605.888 Q93.8808 605.702 94.8993 605.702 Q100.686 605.702 104.066 608.874 Q107.446 612.045 107.446 617.462 Q107.446 623.04 103.973 626.142 Q100.501 629.221 94.1817 629.221 Q92.0058 629.221 89.7373 628.85 Q87.492 628.48 85.0846 627.739 L85.0846 623.04 Q87.1679 624.175 89.3901 624.73 Q91.6123 625.286 94.0891 625.286 Q98.0937 625.286 100.432 623.179 Q102.77 621.073 102.77 617.462 Q102.77 613.851 100.432 611.744 Q98.0937 609.638 94.0891 609.638 Q92.2141 609.638 90.3392 610.054 Q88.4873 610.471 86.5429 611.351 L86.5429 593.99 Z\" fill=\"#000000\" fill-rule=\"evenodd\" fill-opacity=\"1\" /><path clip-path=\"url(#clip420)\" d=\"M55.9875 387.729 L63.6263 387.729 L63.6263 361.364 L55.3162 363.03 L55.3162 358.771 L63.58 357.105 L68.2559 357.105 L68.2559 387.729 L75.8948 387.729 L75.8948 391.665 L55.9875 391.665 L55.9875 387.729 Z\" fill=\"#000000\" fill-rule=\"evenodd\" fill-opacity=\"1\" /><path clip-path=\"url(#clip420)\" d=\"M95.9178 372.521 Q92.7697 372.521 90.9179 374.674 Q89.0892 376.827 89.0892 380.577 Q89.0892 384.303 90.9179 386.479 Q92.7697 388.632 95.9178 388.632 Q99.066 388.632 100.895 386.479 Q102.746 384.303 102.746 380.577 Q102.746 376.827 100.895 374.674 Q99.066 372.521 95.9178 372.521 M105.2 357.868 L105.2 362.128 Q103.441 361.294 101.635 360.854 Q99.853 360.415 98.0937 360.415 Q93.4641 360.415 91.0105 363.54 Q88.5799 366.665 88.2327 372.984 Q89.5984 370.97 91.6586 369.905 Q93.7188 368.817 96.1956 368.817 Q101.404 368.817 104.413 371.989 Q107.446 375.137 107.446 380.577 Q107.446 385.901 104.297 389.118 Q101.149 392.336 95.9178 392.336 Q89.9225 392.336 86.7512 387.752 Q83.5799 383.146 83.5799 374.419 Q83.5799 366.225 87.4688 361.364 Q91.3577 356.48 97.9086 356.48 Q99.6678 356.48 101.45 356.827 Q103.256 357.174 105.2 357.868 Z\" fill=\"#000000\" fill-rule=\"evenodd\" fill-opacity=\"1\" /><path clip-path=\"url(#clip420)\" d=\"M57.0523 150.844 L64.6911 150.844 L64.6911 124.479 L56.381 126.145 L56.381 121.886 L64.6449 120.219 L69.3208 120.219 L69.3208 150.844 L76.9596 150.844 L76.9596 154.779 L57.0523 154.779 L57.0523 150.844 Z\" fill=\"#000000\" fill-rule=\"evenodd\" fill-opacity=\"1\" /><path clip-path=\"url(#clip420)\" d=\"M85.2234 120.219 L107.446 120.219 L107.446 122.21 L94.8993 154.779 L90.0151 154.779 L101.821 124.155 L85.2234 124.155 L85.2234 120.219 Z\" fill=\"#000000\" fill-rule=\"evenodd\" fill-opacity=\"1\" /><polyline clip-path=\"url(#clip422)\" style=\"stroke:#000000; stroke-linecap:round; stroke-linejoin:round; stroke-width:4; stroke-opacity:1; fill:none\" points=\"435.623,4140.86 433.254,4138.49 \"/>\n",
       "<polyline clip-path=\"url(#clip422)\" style=\"stroke:#000000; stroke-linecap:round; stroke-linejoin:round; stroke-width:4; stroke-opacity:1; fill:none\" points=\"433.254,4138.49 433.254,2821.41 \"/>\n",
       "<polyline clip-path=\"url(#clip422)\" style=\"stroke:#000000; stroke-linecap:round; stroke-linejoin:round; stroke-width:4; stroke-opacity:1; fill:none\" points=\"433.254,2821.41 452.205,2821.41 \"/>\n",
       "<polyline clip-path=\"url(#clip422)\" style=\"stroke:#000000; stroke-linecap:round; stroke-linejoin:round; stroke-width:4; stroke-opacity:1; fill:none\" points=\"452.205,2821.41 454.574,2819.04 \"/>\n",
       "<polyline clip-path=\"url(#clip422)\" style=\"stroke:#000000; stroke-linecap:round; stroke-linejoin:round; stroke-width:4; stroke-opacity:1; fill:none\" points=\"454.574,2819.04 454.574,2795.35 \"/>\n",
       "<polyline clip-path=\"url(#clip422)\" style=\"stroke:#000000; stroke-linecap:round; stroke-linejoin:round; stroke-width:4; stroke-opacity:1; fill:none\" points=\"454.574,2795.35 452.205,2792.98 \"/>\n",
       "<polyline clip-path=\"url(#clip422)\" style=\"stroke:#000000; stroke-linecap:round; stroke-linejoin:round; stroke-width:4; stroke-opacity:1; fill:none\" points=\"452.205,2792.98 198.738,2792.98 \"/>\n",
       "<polyline clip-path=\"url(#clip422)\" style=\"stroke:#000000; stroke-linecap:round; stroke-linejoin:round; stroke-width:4; stroke-opacity:1; fill:none\" points=\"198.738,2792.98 196.369,2790.61 \"/>\n",
       "<polyline clip-path=\"url(#clip422)\" style=\"stroke:#000000; stroke-linecap:round; stroke-linejoin:round; stroke-width:4; stroke-opacity:1; fill:none\" points=\"196.369,2790.61 196.369,1897.56 \"/>\n",
       "<polyline clip-path=\"url(#clip422)\" style=\"stroke:#000000; stroke-linecap:round; stroke-linejoin:round; stroke-width:4; stroke-opacity:1; fill:none\" points=\"196.369,1897.56 738.836,1897.56 \"/>\n",
       "<polyline clip-path=\"url(#clip422)\" style=\"stroke:#000000; stroke-linecap:round; stroke-linejoin:round; stroke-width:4; stroke-opacity:1; fill:none\" points=\"738.836,1897.56 741.205,1895.19 \"/>\n",
       "<polyline clip-path=\"url(#clip422)\" style=\"stroke:#000000; stroke-linecap:round; stroke-linejoin:round; stroke-width:4; stroke-opacity:1; fill:none\" points=\"741.205,1895.19 741.205,1871.5 \"/>\n",
       "<polyline clip-path=\"url(#clip422)\" style=\"stroke:#000000; stroke-linecap:round; stroke-linejoin:round; stroke-width:4; stroke-opacity:1; fill:none\" points=\"741.205,1871.5 738.836,1869.13 \"/>\n",
       "<polyline clip-path=\"url(#clip422)\" style=\"stroke:#000000; stroke-linecap:round; stroke-linejoin:round; stroke-width:4; stroke-opacity:1; fill:none\" points=\"738.836,1869.13 -585.352,1869.13 \"/>\n",
       "<polyline clip-path=\"url(#clip422)\" style=\"stroke:#000000; stroke-linecap:round; stroke-linejoin:round; stroke-width:4; stroke-opacity:1; fill:none\" points=\"-585.352,1869.13 -585.352,1831.23 \"/>\n",
       "<polyline clip-path=\"url(#clip422)\" style=\"stroke:#000000; stroke-linecap:round; stroke-linejoin:round; stroke-width:4; stroke-opacity:1; fill:none\" points=\"-585.352,1831.23 -587.721,1828.86 \"/>\n",
       "<polyline clip-path=\"url(#clip422)\" style=\"stroke:#000000; stroke-linecap:round; stroke-linejoin:round; stroke-width:4; stroke-opacity:1; fill:none\" points=\"-587.721,1828.86 -611.409,1828.86 \"/>\n",
       "<polyline clip-path=\"url(#clip422)\" style=\"stroke:#000000; stroke-linecap:round; stroke-linejoin:round; stroke-width:4; stroke-opacity:1; fill:none\" points=\"-611.409,1828.86 -613.778,1831.23 \"/>\n",
       "<polyline clip-path=\"url(#clip422)\" style=\"stroke:#000000; stroke-linecap:round; stroke-linejoin:round; stroke-width:4; stroke-opacity:1; fill:none\" points=\"-613.778,1831.23 -613.778,1869.13 \"/>\n",
       "<polyline clip-path=\"url(#clip422)\" style=\"stroke:#000000; stroke-linecap:round; stroke-linejoin:round; stroke-width:4; stroke-opacity:1; fill:none\" points=\"-613.778,1869.13 -1284.16,1869.13 \"/>\n",
       "<polyline clip-path=\"url(#clip422)\" style=\"stroke:#000000; stroke-linecap:round; stroke-linejoin:round; stroke-width:4; stroke-opacity:1; fill:none\" points=\"-1284.16,1869.13 -1286.53,1866.76 \"/>\n",
       "<polyline clip-path=\"url(#clip422)\" style=\"stroke:#000000; stroke-linecap:round; stroke-linejoin:round; stroke-width:4; stroke-opacity:1; fill:none\" points=\"-1286.53,1866.76 -1288.9,1866.76 \"/>\n",
       "<polyline clip-path=\"url(#clip422)\" style=\"stroke:#000000; stroke-linecap:round; stroke-linejoin:round; stroke-width:4; stroke-opacity:1; fill:none\" points=\"-1288.9,1866.76 -1291.27,1869.13 \"/>\n",
       "<polyline clip-path=\"url(#clip422)\" style=\"stroke:#000000; stroke-linecap:round; stroke-linejoin:round; stroke-width:4; stroke-opacity:1; fill:none\" points=\"-1291.27,1869.13 -1367.07,1869.13 \"/>\n",
       "<polyline clip-path=\"url(#clip422)\" style=\"stroke:#000000; stroke-linecap:round; stroke-linejoin:round; stroke-width:4; stroke-opacity:1; fill:none\" points=\"-1367.07,1869.13 -1369.44,1871.5 \"/>\n",
       "<polyline clip-path=\"url(#clip422)\" style=\"stroke:#000000; stroke-linecap:round; stroke-linejoin:round; stroke-width:4; stroke-opacity:1; fill:none\" points=\"-1369.44,1871.5 -1369.44,1895.19 \"/>\n",
       "<polyline clip-path=\"url(#clip422)\" style=\"stroke:#000000; stroke-linecap:round; stroke-linejoin:round; stroke-width:4; stroke-opacity:1; fill:none\" points=\"-1369.44,1895.19 -1367.07,1897.56 \"/>\n",
       "<polyline clip-path=\"url(#clip422)\" style=\"stroke:#000000; stroke-linecap:round; stroke-linejoin:round; stroke-width:4; stroke-opacity:1; fill:none\" points=\"-1367.07,1897.56 -1310.22,1897.56 \"/>\n",
       "<polyline clip-path=\"url(#clip422)\" style=\"stroke:#000000; stroke-linecap:round; stroke-linejoin:round; stroke-width:4; stroke-opacity:1; fill:none\" points=\"-1310.22,1897.56 -1310.22,2792.98 \"/>\n",
       "<polyline clip-path=\"url(#clip422)\" style=\"stroke:#000000; stroke-linecap:round; stroke-linejoin:round; stroke-width:4; stroke-opacity:1; fill:none\" points=\"-1310.22,2792.98 -2241.18,2792.98 \"/>\n",
       "<polyline clip-path=\"url(#clip422)\" style=\"stroke:#000000; stroke-linecap:round; stroke-linejoin:round; stroke-width:4; stroke-opacity:1; fill:none\" points=\"-2241.18,2792.98 -2243.55,2790.61 \"/>\n",
       "<polyline clip-path=\"url(#clip422)\" style=\"stroke:#000000; stroke-linecap:round; stroke-linejoin:round; stroke-width:4; stroke-opacity:1; fill:none\" points=\"-2243.55,2790.61 -2243.55,2016 \"/>\n",
       "<polyline clip-path=\"url(#clip422)\" style=\"stroke:#000000; stroke-linecap:round; stroke-linejoin:round; stroke-width:4; stroke-opacity:1; fill:none\" points=\"-2243.55,2016 -1632.38,2016 \"/>\n",
       "<polyline clip-path=\"url(#clip422)\" style=\"stroke:#000000; stroke-linecap:round; stroke-linejoin:round; stroke-width:4; stroke-opacity:1; fill:none\" points=\"-1632.38,2016 -1627.65,2011.26 \"/>\n",
       "<polyline clip-path=\"url(#clip422)\" style=\"stroke:#000000; stroke-linecap:round; stroke-linejoin:round; stroke-width:4; stroke-opacity:1; fill:none\" points=\"-1627.65,2011.26 -1627.65,1897.56 \"/>\n",
       "<polyline clip-path=\"url(#clip422)\" style=\"stroke:#000000; stroke-linecap:round; stroke-linejoin:round; stroke-width:4; stroke-opacity:1; fill:none\" points=\"-1627.65,1897.56 -1570.79,1897.56 \"/>\n",
       "<polyline clip-path=\"url(#clip422)\" style=\"stroke:#000000; stroke-linecap:round; stroke-linejoin:round; stroke-width:4; stroke-opacity:1; fill:none\" points=\"-1570.79,1897.56 -1568.42,1895.19 \"/>\n",
       "<polyline clip-path=\"url(#clip422)\" style=\"stroke:#000000; stroke-linecap:round; stroke-linejoin:round; stroke-width:4; stroke-opacity:1; fill:none\" points=\"-1568.42,1895.19 -1568.42,1871.5 \"/>\n",
       "<polyline clip-path=\"url(#clip422)\" style=\"stroke:#000000; stroke-linecap:round; stroke-linejoin:round; stroke-width:4; stroke-opacity:1; fill:none\" points=\"-1568.42,1871.5 -1570.79,1869.13 \"/>\n",
       "<polyline clip-path=\"url(#clip422)\" style=\"stroke:#000000; stroke-linecap:round; stroke-linejoin:round; stroke-width:4; stroke-opacity:1; fill:none\" points=\"-1570.79,1869.13 -1627.65,1869.13 \"/>\n",
       "<polyline clip-path=\"url(#clip422)\" style=\"stroke:#000000; stroke-linecap:round; stroke-linejoin:round; stroke-width:4; stroke-opacity:1; fill:none\" points=\"-1627.65,1869.13 -1627.65,1762.53 \"/>\n",
       "<polyline clip-path=\"url(#clip422)\" style=\"stroke:#000000; stroke-linecap:round; stroke-linejoin:round; stroke-width:4; stroke-opacity:1; fill:none\" points=\"-1627.65,1762.53 -1630.01,1760.16 \"/>\n",
       "<polyline clip-path=\"url(#clip422)\" style=\"stroke:#000000; stroke-linecap:round; stroke-linejoin:round; stroke-width:4; stroke-opacity:1; fill:none\" points=\"-1630.01,1760.16 -1653.7,1760.16 \"/>\n",
       "<polyline clip-path=\"url(#clip422)\" style=\"stroke:#000000; stroke-linecap:round; stroke-linejoin:round; stroke-width:4; stroke-opacity:1; fill:none\" points=\"-1653.7,1760.16 -1656.07,1762.53 \"/>\n",
       "<polyline clip-path=\"url(#clip422)\" style=\"stroke:#000000; stroke-linecap:round; stroke-linejoin:round; stroke-width:4; stroke-opacity:1; fill:none\" points=\"-1656.07,1762.53 -1656.07,1987.57 \"/>\n",
       "<polyline clip-path=\"url(#clip422)\" style=\"stroke:#000000; stroke-linecap:round; stroke-linejoin:round; stroke-width:4; stroke-opacity:1; fill:none\" points=\"-1656.07,1987.57 -2243.55,1987.57 \"/>\n",
       "<polyline clip-path=\"url(#clip422)\" style=\"stroke:#000000; stroke-linecap:round; stroke-linejoin:round; stroke-width:4; stroke-opacity:1; fill:none\" points=\"-2243.55,1987.57 -2243.55,1542.23 \"/>\n",
       "<polyline clip-path=\"url(#clip422)\" style=\"stroke:#000000; stroke-linecap:round; stroke-linejoin:round; stroke-width:4; stroke-opacity:1; fill:none\" points=\"-2243.55,1542.23 -1656.07,1542.23 \"/>\n",
       "<polyline clip-path=\"url(#clip422)\" style=\"stroke:#000000; stroke-linecap:round; stroke-linejoin:round; stroke-width:4; stroke-opacity:1; fill:none\" points=\"-1656.07,1542.23 -1656.07,1558.81 \"/>\n",
       "<polyline clip-path=\"url(#clip422)\" style=\"stroke:#000000; stroke-linecap:round; stroke-linejoin:round; stroke-width:4; stroke-opacity:1; fill:none\" points=\"-1656.07,1558.81 -1653.7,1561.18 \"/>\n",
       "<polyline clip-path=\"url(#clip422)\" style=\"stroke:#000000; stroke-linecap:round; stroke-linejoin:round; stroke-width:4; stroke-opacity:1; fill:none\" points=\"-1653.7,1561.18 -1630.01,1561.18 \"/>\n",
       "<polyline clip-path=\"url(#clip422)\" style=\"stroke:#000000; stroke-linecap:round; stroke-linejoin:round; stroke-width:4; stroke-opacity:1; fill:none\" points=\"-1630.01,1561.18 -1627.65,1558.81 \"/>\n",
       "<polyline clip-path=\"url(#clip422)\" style=\"stroke:#000000; stroke-linecap:round; stroke-linejoin:round; stroke-width:4; stroke-opacity:1; fill:none\" points=\"-1627.65,1558.81 -1627.65,1542.23 \"/>\n",
       "<polyline clip-path=\"url(#clip422)\" style=\"stroke:#000000; stroke-linecap:round; stroke-linejoin:round; stroke-width:4; stroke-opacity:1; fill:none\" points=\"-1627.65,1542.23 -1440.51,1542.23 \"/>\n",
       "<polyline clip-path=\"url(#clip422)\" style=\"stroke:#000000; stroke-linecap:round; stroke-linejoin:round; stroke-width:4; stroke-opacity:1; fill:none\" points=\"-1440.51,1542.23 -1438.14,1544.6 \"/>\n",
       "<polyline clip-path=\"url(#clip422)\" style=\"stroke:#000000; stroke-linecap:round; stroke-linejoin:round; stroke-width:4; stroke-opacity:1; fill:none\" points=\"-1438.14,1544.6 -1438.14,1546.97 \"/>\n",
       "<polyline clip-path=\"url(#clip422)\" style=\"stroke:#000000; stroke-linecap:round; stroke-linejoin:round; stroke-width:4; stroke-opacity:1; fill:none\" points=\"-1438.14,1546.97 -1435.77,1549.33 \"/>\n",
       "<polyline clip-path=\"url(#clip422)\" style=\"stroke:#000000; stroke-linecap:round; stroke-linejoin:round; stroke-width:4; stroke-opacity:1; fill:none\" points=\"-1435.77,1549.33 -1431.03,1549.33 \"/>\n",
       "<polyline clip-path=\"url(#clip422)\" style=\"stroke:#000000; stroke-linecap:round; stroke-linejoin:round; stroke-width:4; stroke-opacity:1; fill:none\" points=\"-1431.03,1549.33 -1428.66,1546.97 \"/>\n",
       "<polyline clip-path=\"url(#clip422)\" style=\"stroke:#000000; stroke-linecap:round; stroke-linejoin:round; stroke-width:4; stroke-opacity:1; fill:none\" points=\"-1428.66,1546.97 -1426.29,1546.97 \"/>\n",
       "<polyline clip-path=\"url(#clip422)\" style=\"stroke:#000000; stroke-linecap:round; stroke-linejoin:round; stroke-width:4; stroke-opacity:1; fill:none\" points=\"-1426.29,1546.97 -1423.92,1544.6 \"/>\n",
       "<polyline clip-path=\"url(#clip422)\" style=\"stroke:#000000; stroke-linecap:round; stroke-linejoin:round; stroke-width:4; stroke-opacity:1; fill:none\" points=\"-1423.92,1544.6 -1421.56,1544.6 \"/>\n",
       "<polyline clip-path=\"url(#clip422)\" style=\"stroke:#000000; stroke-linecap:round; stroke-linejoin:round; stroke-width:4; stroke-opacity:1; fill:none\" points=\"-1421.56,1544.6 -1419.19,1542.23 \"/>\n",
       "<polyline clip-path=\"url(#clip422)\" style=\"stroke:#000000; stroke-linecap:round; stroke-linejoin:round; stroke-width:4; stroke-opacity:1; fill:none\" points=\"-1419.19,1542.23 -1416.82,1542.23 \"/>\n",
       "<polyline clip-path=\"url(#clip422)\" style=\"stroke:#000000; stroke-linecap:round; stroke-linejoin:round; stroke-width:4; stroke-opacity:1; fill:none\" points=\"-1416.82,1542.23 -1414.45,1539.86 \"/>\n",
       "<polyline clip-path=\"url(#clip422)\" style=\"stroke:#000000; stroke-linecap:round; stroke-linejoin:round; stroke-width:4; stroke-opacity:1; fill:none\" points=\"-1414.45,1539.86 -1412.08,1539.86 \"/>\n",
       "<polyline clip-path=\"url(#clip422)\" style=\"stroke:#000000; stroke-linecap:round; stroke-linejoin:round; stroke-width:4; stroke-opacity:1; fill:none\" points=\"-1412.08,1539.86 -1409.71,1537.49 \"/>\n",
       "<polyline clip-path=\"url(#clip422)\" style=\"stroke:#000000; stroke-linecap:round; stroke-linejoin:round; stroke-width:4; stroke-opacity:1; fill:none\" points=\"-1409.71,1537.49 -1414.45,1532.75 \"/>\n",
       "<polyline clip-path=\"url(#clip422)\" style=\"stroke:#000000; stroke-linecap:round; stroke-linejoin:round; stroke-width:4; stroke-opacity:1; fill:none\" points=\"-1414.45,1532.75 -1414.45,1516.17 \"/>\n",
       "<polyline clip-path=\"url(#clip422)\" style=\"stroke:#000000; stroke-linecap:round; stroke-linejoin:round; stroke-width:4; stroke-opacity:1; fill:none\" points=\"-1414.45,1516.17 -1416.82,1513.8 \"/>\n",
       "<polyline clip-path=\"url(#clip422)\" style=\"stroke:#000000; stroke-linecap:round; stroke-linejoin:round; stroke-width:4; stroke-opacity:1; fill:none\" points=\"-1416.82,1513.8 -1416.82,950.015 \"/>\n",
       "<polyline clip-path=\"url(#clip422)\" style=\"stroke:#000000; stroke-linecap:round; stroke-linejoin:round; stroke-width:4; stroke-opacity:1; fill:none\" points=\"-1416.82,950.015 -1170.46,950.015 \"/>\n",
       "<polyline clip-path=\"url(#clip422)\" style=\"stroke:#000000; stroke-linecap:round; stroke-linejoin:round; stroke-width:4; stroke-opacity:1; fill:none\" points=\"-1170.46,950.015 -1168.09,947.646 \"/>\n",
       "<polyline clip-path=\"url(#clip422)\" style=\"stroke:#000000; stroke-linecap:round; stroke-linejoin:round; stroke-width:4; stroke-opacity:1; fill:none\" points=\"-1168.09,947.646 -1168.09,923.958 \"/>\n",
       "<polyline clip-path=\"url(#clip422)\" style=\"stroke:#000000; stroke-linecap:round; stroke-linejoin:round; stroke-width:4; stroke-opacity:1; fill:none\" points=\"-1168.09,923.958 -1170.46,921.589 \"/>\n",
       "<polyline clip-path=\"url(#clip422)\" style=\"stroke:#000000; stroke-linecap:round; stroke-linejoin:round; stroke-width:4; stroke-opacity:1; fill:none\" points=\"-1170.46,921.589 -1708.19,921.589 \"/>\n",
       "<polyline clip-path=\"url(#clip422)\" style=\"stroke:#000000; stroke-linecap:round; stroke-linejoin:round; stroke-width:4; stroke-opacity:1; fill:none\" points=\"-1708.19,921.589 -1710.56,923.958 \"/>\n",
       "<polyline clip-path=\"url(#clip422)\" style=\"stroke:#000000; stroke-linecap:round; stroke-linejoin:round; stroke-width:4; stroke-opacity:1; fill:none\" points=\"-1710.56,923.958 -1710.56,947.646 \"/>\n",
       "<polyline clip-path=\"url(#clip422)\" style=\"stroke:#000000; stroke-linecap:round; stroke-linejoin:round; stroke-width:4; stroke-opacity:1; fill:none\" points=\"-1710.56,947.646 -1708.19,950.015 \"/>\n",
       "<polyline clip-path=\"url(#clip422)\" style=\"stroke:#000000; stroke-linecap:round; stroke-linejoin:round; stroke-width:4; stroke-opacity:1; fill:none\" points=\"-1708.19,950.015 -1442.88,950.015 \"/>\n",
       "<polyline clip-path=\"url(#clip422)\" style=\"stroke:#000000; stroke-linecap:round; stroke-linejoin:round; stroke-width:4; stroke-opacity:1; fill:none\" points=\"-1442.88,950.015 -1442.88,1513.8 \"/>\n",
       "<polyline clip-path=\"url(#clip422)\" style=\"stroke:#000000; stroke-linecap:round; stroke-linejoin:round; stroke-width:4; stroke-opacity:1; fill:none\" points=\"-1442.88,1513.8 -2243.55,1513.8 \"/>\n",
       "<polyline clip-path=\"url(#clip422)\" style=\"stroke:#000000; stroke-linecap:round; stroke-linejoin:round; stroke-width:4; stroke-opacity:1; fill:none\" points=\"-2243.55,1513.8 -2243.55,950.015 \"/>\n",
       "<polyline clip-path=\"url(#clip422)\" style=\"stroke:#000000; stroke-linecap:round; stroke-linejoin:round; stroke-width:4; stroke-opacity:1; fill:none\" points=\"-2243.55,950.015 -1935.6,950.015 \"/>\n",
       "<polyline clip-path=\"url(#clip422)\" style=\"stroke:#000000; stroke-linecap:round; stroke-linejoin:round; stroke-width:4; stroke-opacity:1; fill:none\" points=\"-1935.6,950.015 -1933.23,947.646 \"/>\n",
       "<polyline clip-path=\"url(#clip422)\" style=\"stroke:#000000; stroke-linecap:round; stroke-linejoin:round; stroke-width:4; stroke-opacity:1; fill:none\" points=\"-1933.23,947.646 -1933.23,923.958 \"/>\n",
       "<polyline clip-path=\"url(#clip422)\" style=\"stroke:#000000; stroke-linecap:round; stroke-linejoin:round; stroke-width:4; stroke-opacity:1; fill:none\" points=\"-1933.23,923.958 -1935.6,921.589 \"/>\n",
       "<polyline clip-path=\"url(#clip422)\" style=\"stroke:#000000; stroke-linecap:round; stroke-linejoin:round; stroke-width:4; stroke-opacity:1; fill:none\" points=\"-1935.6,921.589 -2253.02,921.589 \"/>\n",
       "<polyline clip-path=\"url(#clip422)\" style=\"stroke:#000000; stroke-linecap:round; stroke-linejoin:round; stroke-width:4; stroke-opacity:1; fill:none\" points=\"-2253.02,921.589 -2255.39,919.22 \"/>\n",
       "<polyline clip-path=\"url(#clip422)\" style=\"stroke:#000000; stroke-linecap:round; stroke-linejoin:round; stroke-width:4; stroke-opacity:1; fill:none\" points=\"-2255.39,919.22 -2257.76,919.22 \"/>\n",
       "<polyline clip-path=\"url(#clip422)\" style=\"stroke:#000000; stroke-linecap:round; stroke-linejoin:round; stroke-width:4; stroke-opacity:1; fill:none\" points=\"-2257.76,919.22 -2262.5,914.482 \"/>\n",
       "<polyline clip-path=\"url(#clip422)\" style=\"stroke:#000000; stroke-linecap:round; stroke-linejoin:round; stroke-width:4; stroke-opacity:1; fill:none\" points=\"-2262.5,914.482 -2264.87,914.482 \"/>\n",
       "<polyline clip-path=\"url(#clip422)\" style=\"stroke:#000000; stroke-linecap:round; stroke-linejoin:round; stroke-width:4; stroke-opacity:1; fill:none\" points=\"-2264.87,914.482 -2269.6,909.745 \"/>\n",
       "<polyline clip-path=\"url(#clip422)\" style=\"stroke:#000000; stroke-linecap:round; stroke-linejoin:round; stroke-width:4; stroke-opacity:1; fill:none\" points=\"-2269.6,909.745 -2271.97,909.745 \"/>\n",
       "<polyline clip-path=\"url(#clip422)\" style=\"stroke:#000000; stroke-linecap:round; stroke-linejoin:round; stroke-width:4; stroke-opacity:1; fill:none\" points=\"-2271.97,909.745 -2276.71,905.007 \"/>\n",
       "<polyline clip-path=\"url(#clip422)\" style=\"stroke:#000000; stroke-linecap:round; stroke-linejoin:round; stroke-width:4; stroke-opacity:1; fill:none\" points=\"-2276.71,905.007 -2279.08,905.007 \"/>\n",
       "<polyline clip-path=\"url(#clip422)\" style=\"stroke:#000000; stroke-linecap:round; stroke-linejoin:round; stroke-width:4; stroke-opacity:1; fill:none\" points=\"-2279.08,905.007 -2283.82,900.269 \"/>\n",
       "<polyline clip-path=\"url(#clip422)\" style=\"stroke:#000000; stroke-linecap:round; stroke-linejoin:round; stroke-width:4; stroke-opacity:1; fill:none\" points=\"-2283.82,900.269 -2286.19,900.269 \"/>\n",
       "<polyline clip-path=\"url(#clip422)\" style=\"stroke:#000000; stroke-linecap:round; stroke-linejoin:round; stroke-width:4; stroke-opacity:1; fill:none\" points=\"-2286.19,900.269 -2290.92,895.532 \"/>\n",
       "<polyline clip-path=\"url(#clip422)\" style=\"stroke:#000000; stroke-linecap:round; stroke-linejoin:round; stroke-width:4; stroke-opacity:1; fill:none\" points=\"-2290.92,895.532 -2293.29,895.532 \"/>\n",
       "<polyline clip-path=\"url(#clip422)\" style=\"stroke:#000000; stroke-linecap:round; stroke-linejoin:round; stroke-width:4; stroke-opacity:1; fill:none\" points=\"-2293.29,895.532 -2295.66,893.163 \"/>\n",
       "<polyline clip-path=\"url(#clip422)\" style=\"stroke:#000000; stroke-linecap:round; stroke-linejoin:round; stroke-width:4; stroke-opacity:1; fill:none\" points=\"-2295.66,893.163 -2298.03,893.163 \"/>\n",
       "<polyline clip-path=\"url(#clip422)\" style=\"stroke:#000000; stroke-linecap:round; stroke-linejoin:round; stroke-width:4; stroke-opacity:1; fill:none\" points=\"-2298.03,893.163 -2302.77,888.425 \"/>\n",
       "<polyline clip-path=\"url(#clip422)\" style=\"stroke:#000000; stroke-linecap:round; stroke-linejoin:round; stroke-width:4; stroke-opacity:1; fill:none\" points=\"-2302.77,888.425 -2305.14,888.425 \"/>\n",
       "<polyline clip-path=\"url(#clip422)\" style=\"stroke:#000000; stroke-linecap:round; stroke-linejoin:round; stroke-width:4; stroke-opacity:1; fill:none\" points=\"-2305.14,888.425 -2309.87,883.687 \"/>\n",
       "<polyline clip-path=\"url(#clip422)\" style=\"stroke:#000000; stroke-linecap:round; stroke-linejoin:round; stroke-width:4; stroke-opacity:1; fill:none\" points=\"-2309.87,883.687 -2312.24,883.687 \"/>\n",
       "<polyline clip-path=\"url(#clip422)\" style=\"stroke:#000000; stroke-linecap:round; stroke-linejoin:round; stroke-width:4; stroke-opacity:1; fill:none\" points=\"-2312.24,883.687 -2316.98,878.95 \"/>\n",
       "<polyline clip-path=\"url(#clip422)\" style=\"stroke:#000000; stroke-linecap:round; stroke-linejoin:round; stroke-width:4; stroke-opacity:1; fill:none\" points=\"-2316.98,878.95 -2319.35,878.95 \"/>\n",
       "<polyline clip-path=\"url(#clip422)\" style=\"stroke:#000000; stroke-linecap:round; stroke-linejoin:round; stroke-width:4; stroke-opacity:1; fill:none\" points=\"-2319.35,878.95 -2324.09,874.212 \"/>\n",
       "<polyline clip-path=\"url(#clip422)\" style=\"stroke:#000000; stroke-linecap:round; stroke-linejoin:round; stroke-width:4; stroke-opacity:1; fill:none\" points=\"-2324.09,874.212 -2326.46,874.212 \"/>\n",
       "<polyline clip-path=\"url(#clip422)\" style=\"stroke:#000000; stroke-linecap:round; stroke-linejoin:round; stroke-width:4; stroke-opacity:1; fill:none\" points=\"-2326.46,874.212 -2331.19,869.474 \"/>\n",
       "<polyline clip-path=\"url(#clip422)\" style=\"stroke:#000000; stroke-linecap:round; stroke-linejoin:round; stroke-width:4; stroke-opacity:1; fill:none\" points=\"-2331.19,869.474 -2333.56,869.474 \"/>\n",
       "<polyline clip-path=\"url(#clip422)\" style=\"stroke:#000000; stroke-linecap:round; stroke-linejoin:round; stroke-width:4; stroke-opacity:1; fill:none\" points=\"-2333.56,869.474 -2338.3,864.737 \"/>\n",
       "<polyline clip-path=\"url(#clip422)\" style=\"stroke:#000000; stroke-linecap:round; stroke-linejoin:round; stroke-width:4; stroke-opacity:1; fill:none\" points=\"-2338.3,864.737 -2340.67,864.737 \"/>\n",
       "<polyline clip-path=\"url(#clip422)\" style=\"stroke:#000000; stroke-linecap:round; stroke-linejoin:round; stroke-width:4; stroke-opacity:1; fill:none\" points=\"-2340.67,864.737 -2345.41,859.999 \"/>\n",
       "<polyline clip-path=\"url(#clip422)\" style=\"stroke:#000000; stroke-linecap:round; stroke-linejoin:round; stroke-width:4; stroke-opacity:1; fill:none\" points=\"-2345.41,859.999 -2347.78,859.999 \"/>\n",
       "<polyline clip-path=\"url(#clip422)\" style=\"stroke:#000000; stroke-linecap:round; stroke-linejoin:round; stroke-width:4; stroke-opacity:1; fill:none\" points=\"-2347.78,859.999 -2352.51,855.261 \"/>\n",
       "<polyline clip-path=\"url(#clip422)\" style=\"stroke:#000000; stroke-linecap:round; stroke-linejoin:round; stroke-width:4; stroke-opacity:1; fill:none\" points=\"-2352.51,855.261 -2354.88,855.261 \"/>\n",
       "<polyline clip-path=\"url(#clip422)\" style=\"stroke:#000000; stroke-linecap:round; stroke-linejoin:round; stroke-width:4; stroke-opacity:1; fill:none\" points=\"-2354.88,855.261 -2359.62,850.523 \"/>\n",
       "<polyline clip-path=\"url(#clip422)\" style=\"stroke:#000000; stroke-linecap:round; stroke-linejoin:round; stroke-width:4; stroke-opacity:1; fill:none\" points=\"-2359.62,850.523 -2361.99,850.523 \"/>\n",
       "<polyline clip-path=\"url(#clip422)\" style=\"stroke:#000000; stroke-linecap:round; stroke-linejoin:round; stroke-width:4; stroke-opacity:1; fill:none\" points=\"-2361.99,850.523 -2366.73,845.786 \"/>\n",
       "<polyline clip-path=\"url(#clip422)\" style=\"stroke:#000000; stroke-linecap:round; stroke-linejoin:round; stroke-width:4; stroke-opacity:1; fill:none\" points=\"-2366.73,845.786 -2369.1,845.786 \"/>\n",
       "<polyline clip-path=\"url(#clip422)\" style=\"stroke:#000000; stroke-linecap:round; stroke-linejoin:round; stroke-width:4; stroke-opacity:1; fill:none\" points=\"-2369.1,845.786 -2373.83,841.048 \"/>\n",
       "<polyline clip-path=\"url(#clip422)\" style=\"stroke:#000000; stroke-linecap:round; stroke-linejoin:round; stroke-width:4; stroke-opacity:1; fill:none\" points=\"-2373.83,841.048 -2376.2,841.048 \"/>\n",
       "<polyline clip-path=\"url(#clip422)\" style=\"stroke:#000000; stroke-linecap:round; stroke-linejoin:round; stroke-width:4; stroke-opacity:1; fill:none\" points=\"-2376.2,841.048 -2380.94,836.31 \"/>\n",
       "<polyline clip-path=\"url(#clip422)\" style=\"stroke:#000000; stroke-linecap:round; stroke-linejoin:round; stroke-width:4; stroke-opacity:1; fill:none\" points=\"-2380.94,836.31 -2383.31,836.31 \"/>\n",
       "<polyline clip-path=\"url(#clip422)\" style=\"stroke:#000000; stroke-linecap:round; stroke-linejoin:round; stroke-width:4; stroke-opacity:1; fill:none\" points=\"-2383.31,836.31 -2388.05,831.573 \"/>\n",
       "<polyline clip-path=\"url(#clip422)\" style=\"stroke:#000000; stroke-linecap:round; stroke-linejoin:round; stroke-width:4; stroke-opacity:1; fill:none\" points=\"-2388.05,831.573 -2390.42,831.573 \"/>\n",
       "<polyline clip-path=\"url(#clip422)\" style=\"stroke:#000000; stroke-linecap:round; stroke-linejoin:round; stroke-width:4; stroke-opacity:1; fill:none\" points=\"-2390.42,831.573 -2395.15,826.835 \"/>\n",
       "<polyline clip-path=\"url(#clip422)\" style=\"stroke:#000000; stroke-linecap:round; stroke-linejoin:round; stroke-width:4; stroke-opacity:1; fill:none\" points=\"-2395.15,826.835 -2397.52,826.835 \"/>\n",
       "<polyline clip-path=\"url(#clip422)\" style=\"stroke:#000000; stroke-linecap:round; stroke-linejoin:round; stroke-width:4; stroke-opacity:1; fill:none\" points=\"-2397.52,826.835 -2399.89,824.466 \"/>\n",
       "<polyline clip-path=\"url(#clip422)\" style=\"stroke:#000000; stroke-linecap:round; stroke-linejoin:round; stroke-width:4; stroke-opacity:1; fill:none\" points=\"-2399.89,824.466 -2402.26,824.466 \"/>\n",
       "<polyline clip-path=\"url(#clip422)\" style=\"stroke:#000000; stroke-linecap:round; stroke-linejoin:round; stroke-width:4; stroke-opacity:1; fill:none\" points=\"-2402.26,824.466 -2407,819.728 \"/>\n",
       "<polyline clip-path=\"url(#clip422)\" style=\"stroke:#000000; stroke-linecap:round; stroke-linejoin:round; stroke-width:4; stroke-opacity:1; fill:none\" points=\"-2407,819.728 -2409.37,819.728 \"/>\n",
       "<polyline clip-path=\"url(#clip422)\" style=\"stroke:#000000; stroke-linecap:round; stroke-linejoin:round; stroke-width:4; stroke-opacity:1; fill:none\" points=\"-2409.37,819.728 -2414.1,814.991 \"/>\n",
       "<polyline clip-path=\"url(#clip422)\" style=\"stroke:#000000; stroke-linecap:round; stroke-linejoin:round; stroke-width:4; stroke-opacity:1; fill:none\" points=\"-2414.1,814.991 -2416.47,814.991 \"/>\n",
       "<polyline clip-path=\"url(#clip422)\" style=\"stroke:#000000; stroke-linecap:round; stroke-linejoin:round; stroke-width:4; stroke-opacity:1; fill:none\" points=\"-2416.47,814.991 -2421.21,810.253 \"/>\n",
       "<polyline clip-path=\"url(#clip422)\" style=\"stroke:#000000; stroke-linecap:round; stroke-linejoin:round; stroke-width:4; stroke-opacity:1; fill:none\" points=\"-2421.21,810.253 -2423.58,810.253 \"/>\n",
       "<polyline clip-path=\"url(#clip422)\" style=\"stroke:#000000; stroke-linecap:round; stroke-linejoin:round; stroke-width:4; stroke-opacity:1; fill:none\" points=\"-2423.58,810.253 -2428.32,805.515 \"/>\n",
       "<polyline clip-path=\"url(#clip422)\" style=\"stroke:#000000; stroke-linecap:round; stroke-linejoin:round; stroke-width:4; stroke-opacity:1; fill:none\" points=\"-2428.32,805.515 -2430.69,805.515 \"/>\n",
       "<polyline clip-path=\"url(#clip422)\" style=\"stroke:#000000; stroke-linecap:round; stroke-linejoin:round; stroke-width:4; stroke-opacity:1; fill:none\" points=\"-2430.69,805.515 -2435.42,800.778 \"/>\n",
       "<polyline clip-path=\"url(#clip422)\" style=\"stroke:#000000; stroke-linecap:round; stroke-linejoin:round; stroke-width:4; stroke-opacity:1; fill:none\" points=\"-2435.42,800.778 -2437.79,800.778 \"/>\n",
       "<polyline clip-path=\"url(#clip422)\" style=\"stroke:#000000; stroke-linecap:round; stroke-linejoin:round; stroke-width:4; stroke-opacity:1; fill:none\" points=\"-2437.79,800.778 -2442.53,796.04 \"/>\n",
       "<polyline clip-path=\"url(#clip422)\" style=\"stroke:#000000; stroke-linecap:round; stroke-linejoin:round; stroke-width:4; stroke-opacity:1; fill:none\" points=\"-2442.53,796.04 -2444.9,796.04 \"/>\n",
       "<polyline clip-path=\"url(#clip422)\" style=\"stroke:#000000; stroke-linecap:round; stroke-linejoin:round; stroke-width:4; stroke-opacity:1; fill:none\" points=\"-2444.9,796.04 -2449.64,791.302 \"/>\n",
       "<polyline clip-path=\"url(#clip422)\" style=\"stroke:#000000; stroke-linecap:round; stroke-linejoin:round; stroke-width:4; stroke-opacity:1; fill:none\" points=\"-2449.64,791.302 -2452.01,791.302 \"/>\n",
       "<polyline clip-path=\"url(#clip422)\" style=\"stroke:#000000; stroke-linecap:round; stroke-linejoin:round; stroke-width:4; stroke-opacity:1; fill:none\" points=\"-2452.01,791.302 -2456.74,786.565 \"/>\n",
       "<polyline clip-path=\"url(#clip422)\" style=\"stroke:#000000; stroke-linecap:round; stroke-linejoin:round; stroke-width:4; stroke-opacity:1; fill:none\" points=\"-2456.74,786.565 -2459.11,786.565 \"/>\n",
       "<polyline clip-path=\"url(#clip422)\" style=\"stroke:#000000; stroke-linecap:round; stroke-linejoin:round; stroke-width:4; stroke-opacity:1; fill:none\" points=\"-2459.11,786.565 -2463.85,781.827 \"/>\n",
       "<polyline clip-path=\"url(#clip422)\" style=\"stroke:#000000; stroke-linecap:round; stroke-linejoin:round; stroke-width:4; stroke-opacity:1; fill:none\" points=\"-2463.85,781.827 -2466.22,781.827 \"/>\n",
       "<polyline clip-path=\"url(#clip422)\" style=\"stroke:#000000; stroke-linecap:round; stroke-linejoin:round; stroke-width:4; stroke-opacity:1; fill:none\" points=\"-2466.22,781.827 -2470.96,777.089 \"/>\n",
       "<polyline clip-path=\"url(#clip422)\" style=\"stroke:#000000; stroke-linecap:round; stroke-linejoin:round; stroke-width:4; stroke-opacity:1; fill:none\" points=\"-2470.96,777.089 -2473.33,777.089 \"/>\n",
       "<polyline clip-path=\"url(#clip422)\" style=\"stroke:#000000; stroke-linecap:round; stroke-linejoin:round; stroke-width:4; stroke-opacity:1; fill:none\" points=\"-2473.33,777.089 -2478.06,772.351 \"/>\n",
       "<polyline clip-path=\"url(#clip422)\" style=\"stroke:#000000; stroke-linecap:round; stroke-linejoin:round; stroke-width:4; stroke-opacity:1; fill:none\" points=\"-2478.06,772.351 -2480.43,772.351 \"/>\n",
       "<polyline clip-path=\"url(#clip422)\" style=\"stroke:#000000; stroke-linecap:round; stroke-linejoin:round; stroke-width:4; stroke-opacity:1; fill:none\" points=\"-2480.43,772.351 -2485.17,767.614 \"/>\n",
       "<polyline clip-path=\"url(#clip422)\" style=\"stroke:#000000; stroke-linecap:round; stroke-linejoin:round; stroke-width:4; stroke-opacity:1; fill:none\" points=\"-2485.17,767.614 -2487.54,767.614 \"/>\n",
       "<polyline clip-path=\"url(#clip422)\" style=\"stroke:#000000; stroke-linecap:round; stroke-linejoin:round; stroke-width:4; stroke-opacity:1; fill:none\" points=\"-2487.54,767.614 -2492.28,762.876 \"/>\n",
       "<polyline clip-path=\"url(#clip422)\" style=\"stroke:#000000; stroke-linecap:round; stroke-linejoin:round; stroke-width:4; stroke-opacity:1; fill:none\" points=\"-2492.28,762.876 -2494.65,762.876 \"/>\n",
       "<polyline clip-path=\"url(#clip422)\" style=\"stroke:#000000; stroke-linecap:round; stroke-linejoin:round; stroke-width:4; stroke-opacity:1; fill:none\" points=\"-2494.65,762.876 -2499.38,758.138 \"/>\n",
       "<polyline clip-path=\"url(#clip422)\" style=\"stroke:#000000; stroke-linecap:round; stroke-linejoin:round; stroke-width:4; stroke-opacity:1; fill:none\" points=\"-2499.38,758.138 -2501.75,758.138 \"/>\n",
       "<polyline clip-path=\"url(#clip422)\" style=\"stroke:#000000; stroke-linecap:round; stroke-linejoin:round; stroke-width:4; stroke-opacity:1; fill:none\" points=\"-2501.75,758.138 -2504.12,755.769 \"/>\n",
       "<polyline clip-path=\"url(#clip422)\" style=\"stroke:#000000; stroke-linecap:round; stroke-linejoin:round; stroke-width:4; stroke-opacity:1; fill:none\" points=\"-2504.12,755.769 -2506.49,755.769 \"/>\n",
       "<polyline clip-path=\"url(#clip422)\" style=\"stroke:#000000; stroke-linecap:round; stroke-linejoin:round; stroke-width:4; stroke-opacity:1; fill:none\" points=\"-2506.49,755.769 -2511.23,751.032 \"/>\n",
       "<polyline clip-path=\"url(#clip422)\" style=\"stroke:#000000; stroke-linecap:round; stroke-linejoin:round; stroke-width:4; stroke-opacity:1; fill:none\" points=\"-2511.23,751.032 -2513.6,751.032 \"/>\n",
       "<polyline clip-path=\"url(#clip422)\" style=\"stroke:#000000; stroke-linecap:round; stroke-linejoin:round; stroke-width:4; stroke-opacity:1; fill:none\" points=\"-2513.6,751.032 -2518.33,746.294 \"/>\n",
       "<polyline clip-path=\"url(#clip422)\" style=\"stroke:#000000; stroke-linecap:round; stroke-linejoin:round; stroke-width:4; stroke-opacity:1; fill:none\" points=\"-2518.33,746.294 -2520.7,746.294 \"/>\n",
       "<polyline clip-path=\"url(#clip422)\" style=\"stroke:#000000; stroke-linecap:round; stroke-linejoin:round; stroke-width:4; stroke-opacity:1; fill:none\" points=\"-2520.7,746.294 -2525.44,741.556 \"/>\n",
       "<polyline clip-path=\"url(#clip422)\" style=\"stroke:#000000; stroke-linecap:round; stroke-linejoin:round; stroke-width:4; stroke-opacity:1; fill:none\" points=\"-2525.44,741.556 -2527.81,741.556 \"/>\n",
       "<polyline clip-path=\"url(#clip422)\" style=\"stroke:#000000; stroke-linecap:round; stroke-linejoin:round; stroke-width:4; stroke-opacity:1; fill:none\" points=\"-2527.81,741.556 -2532.55,736.819 \"/>\n",
       "<polyline clip-path=\"url(#clip422)\" style=\"stroke:#000000; stroke-linecap:round; stroke-linejoin:round; stroke-width:4; stroke-opacity:1; fill:none\" points=\"-2532.55,736.819 -2534.92,736.819 \"/>\n",
       "<polyline clip-path=\"url(#clip422)\" style=\"stroke:#000000; stroke-linecap:round; stroke-linejoin:round; stroke-width:4; stroke-opacity:1; fill:none\" points=\"-2534.92,736.819 -2539.65,732.081 \"/>\n",
       "<polyline clip-path=\"url(#clip422)\" style=\"stroke:#000000; stroke-linecap:round; stroke-linejoin:round; stroke-width:4; stroke-opacity:1; fill:none\" points=\"-2539.65,732.081 -2542.02,732.081 \"/>\n",
       "<polyline clip-path=\"url(#clip422)\" style=\"stroke:#000000; stroke-linecap:round; stroke-linejoin:round; stroke-width:4; stroke-opacity:1; fill:none\" points=\"-2542.02,732.081 -2546.76,727.343 \"/>\n",
       "<polyline clip-path=\"url(#clip422)\" style=\"stroke:#000000; stroke-linecap:round; stroke-linejoin:round; stroke-width:4; stroke-opacity:1; fill:none\" points=\"-2546.76,727.343 -2549.13,727.343 \"/>\n",
       "<polyline clip-path=\"url(#clip422)\" style=\"stroke:#000000; stroke-linecap:round; stroke-linejoin:round; stroke-width:4; stroke-opacity:1; fill:none\" points=\"-2549.13,727.343 -2553.87,722.606 \"/>\n",
       "<polyline clip-path=\"url(#clip422)\" style=\"stroke:#000000; stroke-linecap:round; stroke-linejoin:round; stroke-width:4; stroke-opacity:1; fill:none\" points=\"-2553.87,722.606 -2556.24,722.606 \"/>\n",
       "<polyline clip-path=\"url(#clip422)\" style=\"stroke:#000000; stroke-linecap:round; stroke-linejoin:round; stroke-width:4; stroke-opacity:1; fill:none\" points=\"-2556.24,722.606 -2560.97,717.868 \"/>\n",
       "<polyline clip-path=\"url(#clip422)\" style=\"stroke:#000000; stroke-linecap:round; stroke-linejoin:round; stroke-width:4; stroke-opacity:1; fill:none\" points=\"-2560.97,717.868 -2563.34,717.868 \"/>\n",
       "<polyline clip-path=\"url(#clip422)\" style=\"stroke:#000000; stroke-linecap:round; stroke-linejoin:round; stroke-width:4; stroke-opacity:1; fill:none\" points=\"-2563.34,717.868 -2568.08,713.13 \"/>\n",
       "<polyline clip-path=\"url(#clip422)\" style=\"stroke:#000000; stroke-linecap:round; stroke-linejoin:round; stroke-width:4; stroke-opacity:1; fill:none\" points=\"-2568.08,713.13 -2570.45,713.13 \"/>\n",
       "<polyline clip-path=\"url(#clip422)\" style=\"stroke:#000000; stroke-linecap:round; stroke-linejoin:round; stroke-width:4; stroke-opacity:1; fill:none\" points=\"-2570.45,713.13 -2575.19,708.392 \"/>\n",
       "<polyline clip-path=\"url(#clip422)\" style=\"stroke:#000000; stroke-linecap:round; stroke-linejoin:round; stroke-width:4; stroke-opacity:1; fill:none\" points=\"-2575.19,708.392 -2577.56,708.392 \"/>\n",
       "<polyline clip-path=\"url(#clip422)\" style=\"stroke:#000000; stroke-linecap:round; stroke-linejoin:round; stroke-width:4; stroke-opacity:1; fill:none\" points=\"-2577.56,708.392 -2582.29,703.655 \"/>\n",
       "<polyline clip-path=\"url(#clip422)\" style=\"stroke:#000000; stroke-linecap:round; stroke-linejoin:round; stroke-width:4; stroke-opacity:1; fill:none\" points=\"-2582.29,703.655 -2584.66,703.655 \"/>\n",
       "<polyline clip-path=\"url(#clip422)\" style=\"stroke:#000000; stroke-linecap:round; stroke-linejoin:round; stroke-width:4; stroke-opacity:1; fill:none\" points=\"-2584.66,703.655 -2589.4,698.917 \"/>\n",
       "<polyline clip-path=\"url(#clip422)\" style=\"stroke:#000000; stroke-linecap:round; stroke-linejoin:round; stroke-width:4; stroke-opacity:1; fill:none\" points=\"-2589.4,698.917 -2591.77,698.917 \"/>\n",
       "<polyline clip-path=\"url(#clip422)\" style=\"stroke:#000000; stroke-linecap:round; stroke-linejoin:round; stroke-width:4; stroke-opacity:1; fill:none\" points=\"-2591.77,698.917 -2596.51,694.179 \"/>\n",
       "<polyline clip-path=\"url(#clip422)\" style=\"stroke:#000000; stroke-linecap:round; stroke-linejoin:round; stroke-width:4; stroke-opacity:1; fill:none\" points=\"-2596.51,694.179 -2598.87,694.179 \"/>\n",
       "<polyline clip-path=\"url(#clip422)\" style=\"stroke:#000000; stroke-linecap:round; stroke-linejoin:round; stroke-width:4; stroke-opacity:1; fill:none\" points=\"-2598.87,694.179 -2603.61,689.442 \"/>\n",
       "<polyline clip-path=\"url(#clip422)\" style=\"stroke:#000000; stroke-linecap:round; stroke-linejoin:round; stroke-width:4; stroke-opacity:1; fill:none\" points=\"-2603.61,689.442 -2605.98,689.442 \"/>\n",
       "<polyline clip-path=\"url(#clip422)\" style=\"stroke:#000000; stroke-linecap:round; stroke-linejoin:round; stroke-width:4; stroke-opacity:1; fill:none\" points=\"-2605.98,689.442 -2608.35,687.073 \"/>\n",
       "<polyline clip-path=\"url(#clip422)\" style=\"stroke:#000000; stroke-linecap:round; stroke-linejoin:round; stroke-width:4; stroke-opacity:1; fill:none\" points=\"-2608.35,687.073 -2610.72,687.073 \"/>\n",
       "<polyline clip-path=\"url(#clip422)\" style=\"stroke:#000000; stroke-linecap:round; stroke-linejoin:round; stroke-width:4; stroke-opacity:1; fill:none\" points=\"-2610.72,687.073 -2615.46,682.335 \"/>\n",
       "<polyline clip-path=\"url(#clip422)\" style=\"stroke:#000000; stroke-linecap:round; stroke-linejoin:round; stroke-width:4; stroke-opacity:1; fill:none\" points=\"-2615.46,682.335 -2617.83,682.335 \"/>\n",
       "<polyline clip-path=\"url(#clip422)\" style=\"stroke:#000000; stroke-linecap:round; stroke-linejoin:round; stroke-width:4; stroke-opacity:1; fill:none\" points=\"-2617.83,682.335 -2622.56,677.597 \"/>\n",
       "<polyline clip-path=\"url(#clip422)\" style=\"stroke:#000000; stroke-linecap:round; stroke-linejoin:round; stroke-width:4; stroke-opacity:1; fill:none\" points=\"-2622.56,677.597 -2624.93,677.597 \"/>\n",
       "<polyline clip-path=\"url(#clip422)\" style=\"stroke:#000000; stroke-linecap:round; stroke-linejoin:round; stroke-width:4; stroke-opacity:1; fill:none\" points=\"-2624.93,677.597 -2629.67,672.86 \"/>\n",
       "<polyline clip-path=\"url(#clip422)\" style=\"stroke:#000000; stroke-linecap:round; stroke-linejoin:round; stroke-width:4; stroke-opacity:1; fill:none\" points=\"-2629.67,672.86 -2632.04,672.86 \"/>\n",
       "<polyline clip-path=\"url(#clip422)\" style=\"stroke:#000000; stroke-linecap:round; stroke-linejoin:round; stroke-width:4; stroke-opacity:1; fill:none\" points=\"-2632.04,672.86 -2636.78,668.122 \"/>\n",
       "<polyline clip-path=\"url(#clip422)\" style=\"stroke:#000000; stroke-linecap:round; stroke-linejoin:round; stroke-width:4; stroke-opacity:1; fill:none\" points=\"-2636.78,668.122 -2639.15,668.122 \"/>\n",
       "<polyline clip-path=\"url(#clip422)\" style=\"stroke:#000000; stroke-linecap:round; stroke-linejoin:round; stroke-width:4; stroke-opacity:1; fill:none\" points=\"-2639.15,668.122 -2643.88,663.384 \"/>\n",
       "<polyline clip-path=\"url(#clip422)\" style=\"stroke:#000000; stroke-linecap:round; stroke-linejoin:round; stroke-width:4; stroke-opacity:1; fill:none\" points=\"-2643.88,663.384 -2646.25,663.384 \"/>\n",
       "<polyline clip-path=\"url(#clip422)\" style=\"stroke:#000000; stroke-linecap:round; stroke-linejoin:round; stroke-width:4; stroke-opacity:1; fill:none\" points=\"-2646.25,663.384 -2650.99,658.647 \"/>\n",
       "<polyline clip-path=\"url(#clip422)\" style=\"stroke:#000000; stroke-linecap:round; stroke-linejoin:round; stroke-width:4; stroke-opacity:1; fill:none\" points=\"-2650.99,658.647 -2653.36,658.647 \"/>\n",
       "<polyline clip-path=\"url(#clip422)\" style=\"stroke:#000000; stroke-linecap:round; stroke-linejoin:round; stroke-width:4; stroke-opacity:1; fill:none\" points=\"-2653.36,658.647 -2658.1,653.909 \"/>\n",
       "<polyline clip-path=\"url(#clip422)\" style=\"stroke:#000000; stroke-linecap:round; stroke-linejoin:round; stroke-width:4; stroke-opacity:1; fill:none\" points=\"-2658.1,653.909 -2660.46,653.909 \"/>\n",
       "<polyline clip-path=\"url(#clip422)\" style=\"stroke:#000000; stroke-linecap:round; stroke-linejoin:round; stroke-width:4; stroke-opacity:1; fill:none\" points=\"-2660.46,653.909 -2665.2,649.171 \"/>\n",
       "<polyline clip-path=\"url(#clip422)\" style=\"stroke:#000000; stroke-linecap:round; stroke-linejoin:round; stroke-width:4; stroke-opacity:1; fill:none\" points=\"-2665.2,649.171 -2667.57,649.171 \"/>\n",
       "<polyline clip-path=\"url(#clip422)\" style=\"stroke:#000000; stroke-linecap:round; stroke-linejoin:round; stroke-width:4; stroke-opacity:1; fill:none\" points=\"-2667.57,649.171 -2672.31,644.433 \"/>\n",
       "<polyline clip-path=\"url(#clip422)\" style=\"stroke:#000000; stroke-linecap:round; stroke-linejoin:round; stroke-width:4; stroke-opacity:1; fill:none\" points=\"-2672.31,644.433 -2674.68,644.433 \"/>\n",
       "<polyline clip-path=\"url(#clip422)\" style=\"stroke:#000000; stroke-linecap:round; stroke-linejoin:round; stroke-width:4; stroke-opacity:1; fill:none\" points=\"-2674.68,644.433 -2677.05,642.065 \"/>\n",
       "<polyline clip-path=\"url(#clip422)\" style=\"stroke:#000000; stroke-linecap:round; stroke-linejoin:round; stroke-width:4; stroke-opacity:1; fill:none\" points=\"-2677.05,642.065 -2677.05,-47.2709 \"/>\n",
       "<polyline clip-path=\"url(#clip422)\" style=\"stroke:#000000; stroke-linecap:round; stroke-linejoin:round; stroke-width:4; stroke-opacity:1; fill:none\" points=\"-2677.05,-47.2709 -2674.68,-49.6398 \"/>\n",
       "<polyline clip-path=\"url(#clip422)\" style=\"stroke:#000000; stroke-linecap:round; stroke-linejoin:round; stroke-width:4; stroke-opacity:1; fill:none\" points=\"-2674.68,-49.6398 -2672.31,-49.6398 \"/>\n",
       "<polyline clip-path=\"url(#clip422)\" style=\"stroke:#000000; stroke-linecap:round; stroke-linejoin:round; stroke-width:4; stroke-opacity:1; fill:none\" points=\"-2672.31,-49.6398 -2667.57,-54.3775 \"/>\n",
       "<polyline clip-path=\"url(#clip422)\" style=\"stroke:#000000; stroke-linecap:round; stroke-linejoin:round; stroke-width:4; stroke-opacity:1; fill:none\" points=\"-2667.57,-54.3775 -2665.2,-54.3775 \"/>\n",
       "<polyline clip-path=\"url(#clip422)\" style=\"stroke:#000000; stroke-linecap:round; stroke-linejoin:round; stroke-width:4; stroke-opacity:1; fill:none\" points=\"-2665.2,-54.3775 -2660.46,-59.1152 \"/>\n",
       "<polyline clip-path=\"url(#clip422)\" style=\"stroke:#000000; stroke-linecap:round; stroke-linejoin:round; stroke-width:4; stroke-opacity:1; fill:none\" points=\"-2660.46,-59.1152 -2658.1,-59.1152 \"/>\n",
       "<polyline clip-path=\"url(#clip422)\" style=\"stroke:#000000; stroke-linecap:round; stroke-linejoin:round; stroke-width:4; stroke-opacity:1; fill:none\" points=\"-2658.1,-59.1152 -2653.36,-63.8529 \"/>\n",
       "<polyline clip-path=\"url(#clip422)\" style=\"stroke:#000000; stroke-linecap:round; stroke-linejoin:round; stroke-width:4; stroke-opacity:1; fill:none\" points=\"-2653.36,-63.8529 -2650.99,-63.8529 \"/>\n",
       "<polyline clip-path=\"url(#clip422)\" style=\"stroke:#000000; stroke-linecap:round; stroke-linejoin:round; stroke-width:4; stroke-opacity:1; fill:none\" points=\"-2650.99,-63.8529 -2646.25,-68.5906 \"/>\n",
       "<polyline clip-path=\"url(#clip422)\" style=\"stroke:#000000; stroke-linecap:round; stroke-linejoin:round; stroke-width:4; stroke-opacity:1; fill:none\" points=\"-2646.25,-68.5906 -2643.88,-68.5906 \"/>\n",
       "<polyline clip-path=\"url(#clip422)\" style=\"stroke:#000000; stroke-linecap:round; stroke-linejoin:round; stroke-width:4; stroke-opacity:1; fill:none\" points=\"-2643.88,-68.5906 -2639.15,-73.3283 \"/>\n",
       "<polyline clip-path=\"url(#clip422)\" style=\"stroke:#000000; stroke-linecap:round; stroke-linejoin:round; stroke-width:4; stroke-opacity:1; fill:none\" points=\"-2639.15,-73.3283 -2636.78,-73.3283 \"/>\n",
       "<polyline clip-path=\"url(#clip422)\" style=\"stroke:#000000; stroke-linecap:round; stroke-linejoin:round; stroke-width:4; stroke-opacity:1; fill:none\" points=\"-2636.78,-73.3283 -2632.04,-78.066 \"/>\n",
       "<polyline clip-path=\"url(#clip422)\" style=\"stroke:#000000; stroke-linecap:round; stroke-linejoin:round; stroke-width:4; stroke-opacity:1; fill:none\" points=\"-2632.04,-78.066 -2629.67,-78.066 \"/>\n",
       "<polyline clip-path=\"url(#clip422)\" style=\"stroke:#000000; stroke-linecap:round; stroke-linejoin:round; stroke-width:4; stroke-opacity:1; fill:none\" points=\"-2629.67,-78.066 -2624.93,-82.8037 \"/>\n",
       "<polyline clip-path=\"url(#clip422)\" style=\"stroke:#000000; stroke-linecap:round; stroke-linejoin:round; stroke-width:4; stroke-opacity:1; fill:none\" points=\"-2624.93,-82.8037 -2622.56,-82.8037 \"/>\n",
       "<polyline clip-path=\"url(#clip422)\" style=\"stroke:#000000; stroke-linecap:round; stroke-linejoin:round; stroke-width:4; stroke-opacity:1; fill:none\" points=\"-2622.56,-82.8037 -2617.83,-87.5414 \"/>\n",
       "<polyline clip-path=\"url(#clip422)\" style=\"stroke:#000000; stroke-linecap:round; stroke-linejoin:round; stroke-width:4; stroke-opacity:1; fill:none\" points=\"-2617.83,-87.5414 -2615.46,-87.5414 \"/>\n",
       "<polyline clip-path=\"url(#clip422)\" style=\"stroke:#000000; stroke-linecap:round; stroke-linejoin:round; stroke-width:4; stroke-opacity:1; fill:none\" points=\"-2615.46,-87.5414 -2610.72,-92.2791 \"/>\n",
       "<polyline clip-path=\"url(#clip422)\" style=\"stroke:#000000; stroke-linecap:round; stroke-linejoin:round; stroke-width:4; stroke-opacity:1; fill:none\" points=\"-2610.72,-92.2791 -2608.35,-92.2791 \"/>\n",
       "<polyline clip-path=\"url(#clip422)\" style=\"stroke:#000000; stroke-linecap:round; stroke-linejoin:round; stroke-width:4; stroke-opacity:1; fill:none\" points=\"-2608.35,-92.2791 -2603.61,-97.0168 \"/>\n",
       "<polyline clip-path=\"url(#clip422)\" style=\"stroke:#000000; stroke-linecap:round; stroke-linejoin:round; stroke-width:4; stroke-opacity:1; fill:none\" points=\"-2603.61,-97.0168 -2601.24,-97.0168 \"/>\n",
       "<polyline clip-path=\"url(#clip422)\" style=\"stroke:#000000; stroke-linecap:round; stroke-linejoin:round; stroke-width:4; stroke-opacity:1; fill:none\" points=\"-2601.24,-97.0168 -2596.51,-101.754 \"/>\n",
       "<polyline clip-path=\"url(#clip422)\" style=\"stroke:#000000; stroke-linecap:round; stroke-linejoin:round; stroke-width:4; stroke-opacity:1; fill:none\" points=\"-2596.51,-101.754 -2594.14,-101.754 \"/>\n",
       "<polyline clip-path=\"url(#clip422)\" style=\"stroke:#000000; stroke-linecap:round; stroke-linejoin:round; stroke-width:4; stroke-opacity:1; fill:none\" points=\"-2594.14,-101.754 -2589.4,-106.492 \"/>\n",
       "<polyline clip-path=\"url(#clip422)\" style=\"stroke:#000000; stroke-linecap:round; stroke-linejoin:round; stroke-width:4; stroke-opacity:1; fill:none\" points=\"-2589.4,-106.492 -2587.03,-106.492 \"/>\n",
       "<polyline clip-path=\"url(#clip422)\" style=\"stroke:#000000; stroke-linecap:round; stroke-linejoin:round; stroke-width:4; stroke-opacity:1; fill:none\" points=\"-2587.03,-106.492 -2582.29,-111.23 \"/>\n",
       "<polyline clip-path=\"url(#clip422)\" style=\"stroke:#000000; stroke-linecap:round; stroke-linejoin:round; stroke-width:4; stroke-opacity:1; fill:none\" points=\"-2582.29,-111.23 -2579.92,-111.23 \"/>\n",
       "<polyline clip-path=\"url(#clip422)\" style=\"stroke:#000000; stroke-linecap:round; stroke-linejoin:round; stroke-width:4; stroke-opacity:1; fill:none\" points=\"-2579.92,-111.23 -2575.19,-115.968 \"/>\n",
       "<polyline clip-path=\"url(#clip422)\" style=\"stroke:#000000; stroke-linecap:round; stroke-linejoin:round; stroke-width:4; stroke-opacity:1; fill:none\" points=\"-2575.19,-115.968 -2572.82,-115.968 \"/>\n",
       "<polyline clip-path=\"url(#clip422)\" style=\"stroke:#000000; stroke-linecap:round; stroke-linejoin:round; stroke-width:4; stroke-opacity:1; fill:none\" points=\"-2572.82,-115.968 -2568.08,-120.705 \"/>\n",
       "<polyline clip-path=\"url(#clip422)\" style=\"stroke:#000000; stroke-linecap:round; stroke-linejoin:round; stroke-width:4; stroke-opacity:1; fill:none\" points=\"-2568.08,-120.705 -2565.71,-120.705 \"/>\n",
       "<polyline clip-path=\"url(#clip422)\" style=\"stroke:#000000; stroke-linecap:round; stroke-linejoin:round; stroke-width:4; stroke-opacity:1; fill:none\" points=\"-2565.71,-120.705 -2560.97,-125.443 \"/>\n",
       "<polyline clip-path=\"url(#clip422)\" style=\"stroke:#000000; stroke-linecap:round; stroke-linejoin:round; stroke-width:4; stroke-opacity:1; fill:none\" points=\"-2560.97,-125.443 -2558.6,-125.443 \"/>\n",
       "<polyline clip-path=\"url(#clip422)\" style=\"stroke:#000000; stroke-linecap:round; stroke-linejoin:round; stroke-width:4; stroke-opacity:1; fill:none\" points=\"-2558.6,-125.443 -2553.87,-130.181 \"/>\n",
       "<polyline clip-path=\"url(#clip422)\" style=\"stroke:#000000; stroke-linecap:round; stroke-linejoin:round; stroke-width:4; stroke-opacity:1; fill:none\" points=\"-2553.87,-130.181 -2551.5,-130.181 \"/>\n",
       "<polyline clip-path=\"url(#clip422)\" style=\"stroke:#000000; stroke-linecap:round; stroke-linejoin:round; stroke-width:4; stroke-opacity:1; fill:none\" points=\"-2551.5,-130.181 -2546.76,-134.918 \"/>\n",
       "<polyline clip-path=\"url(#clip422)\" style=\"stroke:#000000; stroke-linecap:round; stroke-linejoin:round; stroke-width:4; stroke-opacity:1; fill:none\" points=\"-2546.76,-134.918 -2544.39,-134.918 \"/>\n",
       "<polyline clip-path=\"url(#clip422)\" style=\"stroke:#000000; stroke-linecap:round; stroke-linejoin:round; stroke-width:4; stroke-opacity:1; fill:none\" points=\"-2544.39,-134.918 -2539.65,-139.656 \"/>\n",
       "<polyline clip-path=\"url(#clip422)\" style=\"stroke:#000000; stroke-linecap:round; stroke-linejoin:round; stroke-width:4; stroke-opacity:1; fill:none\" points=\"-2539.65,-139.656 -2537.28,-139.656 \"/>\n",
       "<polyline clip-path=\"url(#clip422)\" style=\"stroke:#000000; stroke-linecap:round; stroke-linejoin:round; stroke-width:4; stroke-opacity:1; fill:none\" points=\"-2537.28,-139.656 -2532.55,-144.394 \"/>\n",
       "<polyline clip-path=\"url(#clip422)\" style=\"stroke:#000000; stroke-linecap:round; stroke-linejoin:round; stroke-width:4; stroke-opacity:1; fill:none\" points=\"-2532.55,-144.394 -2530.18,-144.394 \"/>\n",
       "<polyline clip-path=\"url(#clip422)\" style=\"stroke:#000000; stroke-linecap:round; stroke-linejoin:round; stroke-width:4; stroke-opacity:1; fill:none\" points=\"-2530.18,-144.394 -2525.44,-149.131 \"/>\n",
       "<polyline clip-path=\"url(#clip422)\" style=\"stroke:#000000; stroke-linecap:round; stroke-linejoin:round; stroke-width:4; stroke-opacity:1; fill:none\" points=\"-2525.44,-149.131 -2523.07,-149.131 \"/>\n",
       "<polyline clip-path=\"url(#clip422)\" style=\"stroke:#000000; stroke-linecap:round; stroke-linejoin:round; stroke-width:4; stroke-opacity:1; fill:none\" points=\"-2523.07,-149.131 -2518.33,-153.869 \"/>\n",
       "<polyline clip-path=\"url(#clip422)\" style=\"stroke:#000000; stroke-linecap:round; stroke-linejoin:round; stroke-width:4; stroke-opacity:1; fill:none\" points=\"-2518.33,-153.869 -2515.96,-153.869 \"/>\n",
       "<polyline clip-path=\"url(#clip422)\" style=\"stroke:#000000; stroke-linecap:round; stroke-linejoin:round; stroke-width:4; stroke-opacity:1; fill:none\" points=\"-2515.96,-153.869 -2511.23,-158.607 \"/>\n",
       "<polyline clip-path=\"url(#clip422)\" style=\"stroke:#000000; stroke-linecap:round; stroke-linejoin:round; stroke-width:4; stroke-opacity:1; fill:none\" points=\"-2511.23,-158.607 -2508.86,-158.607 \"/>\n",
       "<polyline clip-path=\"url(#clip422)\" style=\"stroke:#000000; stroke-linecap:round; stroke-linejoin:round; stroke-width:4; stroke-opacity:1; fill:none\" points=\"-2508.86,-158.607 -2504.12,-163.345 \"/>\n",
       "<polyline clip-path=\"url(#clip422)\" style=\"stroke:#000000; stroke-linecap:round; stroke-linejoin:round; stroke-width:4; stroke-opacity:1; fill:none\" points=\"-2504.12,-163.345 -2501.75,-163.345 \"/>\n",
       "<polyline clip-path=\"url(#clip422)\" style=\"stroke:#000000; stroke-linecap:round; stroke-linejoin:round; stroke-width:4; stroke-opacity:1; fill:none\" points=\"-2501.75,-163.345 -2497.01,-168.082 \"/>\n",
       "<polyline clip-path=\"url(#clip422)\" style=\"stroke:#000000; stroke-linecap:round; stroke-linejoin:round; stroke-width:4; stroke-opacity:1; fill:none\" points=\"-2497.01,-168.082 -2494.65,-168.082 \"/>\n",
       "<polyline clip-path=\"url(#clip422)\" style=\"stroke:#000000; stroke-linecap:round; stroke-linejoin:round; stroke-width:4; stroke-opacity:1; fill:none\" points=\"-2494.65,-168.082 -2489.91,-172.82 \"/>\n",
       "<polyline clip-path=\"url(#clip422)\" style=\"stroke:#000000; stroke-linecap:round; stroke-linejoin:round; stroke-width:4; stroke-opacity:1; fill:none\" points=\"-2489.91,-172.82 -2487.54,-172.82 \"/>\n",
       "<polyline clip-path=\"url(#clip422)\" style=\"stroke:#000000; stroke-linecap:round; stroke-linejoin:round; stroke-width:4; stroke-opacity:1; fill:none\" points=\"-2487.54,-172.82 -2485.17,-175.189 \"/>\n",
       "<polyline clip-path=\"url(#clip422)\" style=\"stroke:#000000; stroke-linecap:round; stroke-linejoin:round; stroke-width:4; stroke-opacity:1; fill:none\" points=\"-2485.17,-175.189 -2482.8,-175.189 \"/>\n",
       "<polyline clip-path=\"url(#clip422)\" style=\"stroke:#000000; stroke-linecap:round; stroke-linejoin:round; stroke-width:4; stroke-opacity:1; fill:none\" points=\"-2482.8,-175.189 -2478.06,-179.927 \"/>\n",
       "<polyline clip-path=\"url(#clip422)\" style=\"stroke:#000000; stroke-linecap:round; stroke-linejoin:round; stroke-width:4; stroke-opacity:1; fill:none\" points=\"-2478.06,-179.927 -2475.69,-179.927 \"/>\n",
       "<polyline clip-path=\"url(#clip422)\" style=\"stroke:#000000; stroke-linecap:round; stroke-linejoin:round; stroke-width:4; stroke-opacity:1; fill:none\" points=\"-2475.69,-179.927 -2470.96,-184.664 \"/>\n",
       "<polyline clip-path=\"url(#clip422)\" style=\"stroke:#000000; stroke-linecap:round; stroke-linejoin:round; stroke-width:4; stroke-opacity:1; fill:none\" points=\"-2470.96,-184.664 -2468.59,-184.664 \"/>\n",
       "<polyline clip-path=\"url(#clip422)\" style=\"stroke:#000000; stroke-linecap:round; stroke-linejoin:round; stroke-width:4; stroke-opacity:1; fill:none\" points=\"-2468.59,-184.664 -2463.85,-189.402 \"/>\n",
       "<polyline clip-path=\"url(#clip422)\" style=\"stroke:#000000; stroke-linecap:round; stroke-linejoin:round; stroke-width:4; stroke-opacity:1; fill:none\" points=\"-2463.85,-189.402 -2461.48,-189.402 \"/>\n",
       "<polyline clip-path=\"url(#clip422)\" style=\"stroke:#000000; stroke-linecap:round; stroke-linejoin:round; stroke-width:4; stroke-opacity:1; fill:none\" points=\"-2461.48,-189.402 -2456.74,-194.14 \"/>\n",
       "<polyline clip-path=\"url(#clip422)\" style=\"stroke:#000000; stroke-linecap:round; stroke-linejoin:round; stroke-width:4; stroke-opacity:1; fill:none\" points=\"-2456.74,-194.14 -2454.37,-194.14 \"/>\n",
       "<polyline clip-path=\"url(#clip422)\" style=\"stroke:#000000; stroke-linecap:round; stroke-linejoin:round; stroke-width:4; stroke-opacity:1; fill:none\" points=\"-2454.37,-194.14 -2449.64,-198.877 \"/>\n",
       "<polyline clip-path=\"url(#clip422)\" style=\"stroke:#000000; stroke-linecap:round; stroke-linejoin:round; stroke-width:4; stroke-opacity:1; fill:none\" points=\"-2449.64,-198.877 -2447.27,-198.877 \"/>\n",
       "<polyline clip-path=\"url(#clip422)\" style=\"stroke:#000000; stroke-linecap:round; stroke-linejoin:round; stroke-width:4; stroke-opacity:1; fill:none\" points=\"-2447.27,-198.877 -2442.53,-203.615 \"/>\n",
       "<polyline clip-path=\"url(#clip422)\" style=\"stroke:#000000; stroke-linecap:round; stroke-linejoin:round; stroke-width:4; stroke-opacity:1; fill:none\" points=\"-2442.53,-203.615 -2440.16,-203.615 \"/>\n",
       "<polyline clip-path=\"url(#clip422)\" style=\"stroke:#000000; stroke-linecap:round; stroke-linejoin:round; stroke-width:4; stroke-opacity:1; fill:none\" points=\"-2440.16,-203.615 -2435.42,-208.353 \"/>\n",
       "<polyline clip-path=\"url(#clip422)\" style=\"stroke:#000000; stroke-linecap:round; stroke-linejoin:round; stroke-width:4; stroke-opacity:1; fill:none\" points=\"-2435.42,-208.353 -2433.06,-208.353 \"/>\n",
       "<polyline clip-path=\"url(#clip422)\" style=\"stroke:#000000; stroke-linecap:round; stroke-linejoin:round; stroke-width:4; stroke-opacity:1; fill:none\" points=\"-2433.06,-208.353 -2428.32,-213.09 \"/>\n",
       "<polyline clip-path=\"url(#clip422)\" style=\"stroke:#000000; stroke-linecap:round; stroke-linejoin:round; stroke-width:4; stroke-opacity:1; fill:none\" points=\"-2428.32,-213.09 -2425.95,-213.09 \"/>\n",
       "<polyline clip-path=\"url(#clip422)\" style=\"stroke:#000000; stroke-linecap:round; stroke-linejoin:round; stroke-width:4; stroke-opacity:1; fill:none\" points=\"-2425.95,-213.09 -2421.21,-217.828 \"/>\n",
       "<polyline clip-path=\"url(#clip422)\" style=\"stroke:#000000; stroke-linecap:round; stroke-linejoin:round; stroke-width:4; stroke-opacity:1; fill:none\" points=\"-2421.21,-217.828 -2418.84,-217.828 \"/>\n",
       "<polyline clip-path=\"url(#clip422)\" style=\"stroke:#000000; stroke-linecap:round; stroke-linejoin:round; stroke-width:4; stroke-opacity:1; fill:none\" points=\"-2418.84,-217.828 -2414.1,-222.566 \"/>\n",
       "<polyline clip-path=\"url(#clip422)\" style=\"stroke:#000000; stroke-linecap:round; stroke-linejoin:round; stroke-width:4; stroke-opacity:1; fill:none\" points=\"-2414.1,-222.566 -2411.74,-222.566 \"/>\n",
       "<polyline clip-path=\"url(#clip422)\" style=\"stroke:#000000; stroke-linecap:round; stroke-linejoin:round; stroke-width:4; stroke-opacity:1; fill:none\" points=\"-2411.74,-222.566 -2407,-227.304 \"/>\n",
       "<polyline clip-path=\"url(#clip422)\" style=\"stroke:#000000; stroke-linecap:round; stroke-linejoin:round; stroke-width:4; stroke-opacity:1; fill:none\" points=\"-2407,-227.304 -2404.63,-227.304 \"/>\n",
       "<polyline clip-path=\"url(#clip422)\" style=\"stroke:#000000; stroke-linecap:round; stroke-linejoin:round; stroke-width:4; stroke-opacity:1; fill:none\" points=\"-2404.63,-227.304 -2399.89,-232.041 \"/>\n",
       "<polyline clip-path=\"url(#clip422)\" style=\"stroke:#000000; stroke-linecap:round; stroke-linejoin:round; stroke-width:4; stroke-opacity:1; fill:none\" points=\"-2399.89,-232.041 -2397.52,-232.041 \"/>\n",
       "<polyline clip-path=\"url(#clip422)\" style=\"stroke:#000000; stroke-linecap:round; stroke-linejoin:round; stroke-width:4; stroke-opacity:1; fill:none\" points=\"-2397.52,-232.041 -2392.78,-236.779 \"/>\n",
       "<polyline clip-path=\"url(#clip422)\" style=\"stroke:#000000; stroke-linecap:round; stroke-linejoin:round; stroke-width:4; stroke-opacity:1; fill:none\" points=\"-2392.78,-236.779 -2390.42,-236.779 \"/>\n",
       "<polyline clip-path=\"url(#clip422)\" style=\"stroke:#000000; stroke-linecap:round; stroke-linejoin:round; stroke-width:4; stroke-opacity:1; fill:none\" points=\"-2390.42,-236.779 -2385.68,-241.517 \"/>\n",
       "<polyline clip-path=\"url(#clip422)\" style=\"stroke:#000000; stroke-linecap:round; stroke-linejoin:round; stroke-width:4; stroke-opacity:1; fill:none\" points=\"-2385.68,-241.517 -2383.31,-241.517 \"/>\n",
       "<polyline clip-path=\"url(#clip422)\" style=\"stroke:#000000; stroke-linecap:round; stroke-linejoin:round; stroke-width:4; stroke-opacity:1; fill:none\" points=\"-2383.31,-241.517 -2378.57,-246.254 \"/>\n",
       "<polyline clip-path=\"url(#clip422)\" style=\"stroke:#000000; stroke-linecap:round; stroke-linejoin:round; stroke-width:4; stroke-opacity:1; fill:none\" points=\"-2378.57,-246.254 -2376.2,-246.254 \"/>\n",
       "<polyline clip-path=\"url(#clip422)\" style=\"stroke:#000000; stroke-linecap:round; stroke-linejoin:round; stroke-width:4; stroke-opacity:1; fill:none\" points=\"-2376.2,-246.254 -2371.47,-250.992 \"/>\n",
       "<polyline clip-path=\"url(#clip422)\" style=\"stroke:#000000; stroke-linecap:round; stroke-linejoin:round; stroke-width:4; stroke-opacity:1; fill:none\" points=\"-2371.47,-250.992 -2369.1,-250.992 \"/>\n",
       "<polyline clip-path=\"url(#clip422)\" style=\"stroke:#000000; stroke-linecap:round; stroke-linejoin:round; stroke-width:4; stroke-opacity:1; fill:none\" points=\"-2369.1,-250.992 -2364.36,-255.73 \"/>\n",
       "<polyline clip-path=\"url(#clip422)\" style=\"stroke:#000000; stroke-linecap:round; stroke-linejoin:round; stroke-width:4; stroke-opacity:1; fill:none\" points=\"-2364.36,-255.73 -2361.99,-255.73 \"/>\n",
       "<polyline clip-path=\"url(#clip422)\" style=\"stroke:#000000; stroke-linecap:round; stroke-linejoin:round; stroke-width:4; stroke-opacity:1; fill:none\" points=\"-2361.99,-255.73 -2357.25,-260.467 \"/>\n",
       "<polyline clip-path=\"url(#clip422)\" style=\"stroke:#000000; stroke-linecap:round; stroke-linejoin:round; stroke-width:4; stroke-opacity:1; fill:none\" points=\"-2357.25,-260.467 -2354.88,-260.467 \"/>\n",
       "<polyline clip-path=\"url(#clip422)\" style=\"stroke:#000000; stroke-linecap:round; stroke-linejoin:round; stroke-width:4; stroke-opacity:1; fill:none\" points=\"-2354.88,-260.467 -2350.15,-265.205 \"/>\n",
       "<polyline clip-path=\"url(#clip422)\" style=\"stroke:#000000; stroke-linecap:round; stroke-linejoin:round; stroke-width:4; stroke-opacity:1; fill:none\" points=\"-2350.15,-265.205 -2347.78,-265.205 \"/>\n",
       "<polyline clip-path=\"url(#clip422)\" style=\"stroke:#000000; stroke-linecap:round; stroke-linejoin:round; stroke-width:4; stroke-opacity:1; fill:none\" points=\"-2347.78,-265.205 -2343.04,-269.943 \"/>\n",
       "<polyline clip-path=\"url(#clip422)\" style=\"stroke:#000000; stroke-linecap:round; stroke-linejoin:round; stroke-width:4; stroke-opacity:1; fill:none\" points=\"-2343.04,-269.943 -2340.67,-269.943 \"/>\n",
       "<polyline clip-path=\"url(#clip422)\" style=\"stroke:#000000; stroke-linecap:round; stroke-linejoin:round; stroke-width:4; stroke-opacity:1; fill:none\" points=\"-2340.67,-269.943 -2335.93,-274.681 \"/>\n",
       "<polyline clip-path=\"url(#clip422)\" style=\"stroke:#000000; stroke-linecap:round; stroke-linejoin:round; stroke-width:4; stroke-opacity:1; fill:none\" points=\"-2335.93,-274.681 -2333.56,-274.681 \"/>\n",
       "<polyline clip-path=\"url(#clip422)\" style=\"stroke:#000000; stroke-linecap:round; stroke-linejoin:round; stroke-width:4; stroke-opacity:1; fill:none\" points=\"-2333.56,-274.681 -2328.83,-279.418 \"/>\n",
       "<polyline clip-path=\"url(#clip422)\" style=\"stroke:#000000; stroke-linecap:round; stroke-linejoin:round; stroke-width:4; stroke-opacity:1; fill:none\" points=\"-2328.83,-279.418 -2326.46,-279.418 \"/>\n",
       "<polyline clip-path=\"url(#clip422)\" style=\"stroke:#000000; stroke-linecap:round; stroke-linejoin:round; stroke-width:4; stroke-opacity:1; fill:none\" points=\"-2326.46,-279.418 -2321.72,-284.156 \"/>\n",
       "<polyline clip-path=\"url(#clip422)\" style=\"stroke:#000000; stroke-linecap:round; stroke-linejoin:round; stroke-width:4; stroke-opacity:1; fill:none\" points=\"-2321.72,-284.156 -2319.35,-284.156 \"/>\n",
       "<polyline clip-path=\"url(#clip422)\" style=\"stroke:#000000; stroke-linecap:round; stroke-linejoin:round; stroke-width:4; stroke-opacity:1; fill:none\" points=\"-2319.35,-284.156 -2314.61,-288.894 \"/>\n",
       "<polyline clip-path=\"url(#clip422)\" style=\"stroke:#000000; stroke-linecap:round; stroke-linejoin:round; stroke-width:4; stroke-opacity:1; fill:none\" points=\"-2314.61,-288.894 -2312.24,-288.894 \"/>\n",
       "<polyline clip-path=\"url(#clip422)\" style=\"stroke:#000000; stroke-linecap:round; stroke-linejoin:round; stroke-width:4; stroke-opacity:1; fill:none\" points=\"-2312.24,-288.894 -2307.51,-293.631 \"/>\n",
       "<polyline clip-path=\"url(#clip422)\" style=\"stroke:#000000; stroke-linecap:round; stroke-linejoin:round; stroke-width:4; stroke-opacity:1; fill:none\" points=\"-2307.51,-293.631 -2305.14,-293.631 \"/>\n",
       "<polyline clip-path=\"url(#clip422)\" style=\"stroke:#000000; stroke-linecap:round; stroke-linejoin:round; stroke-width:4; stroke-opacity:1; fill:none\" points=\"-2305.14,-293.631 -2300.4,-298.369 \"/>\n",
       "<polyline clip-path=\"url(#clip422)\" style=\"stroke:#000000; stroke-linecap:round; stroke-linejoin:round; stroke-width:4; stroke-opacity:1; fill:none\" points=\"-2300.4,-298.369 -2298.03,-298.369 \"/>\n",
       "<polyline clip-path=\"url(#clip422)\" style=\"stroke:#000000; stroke-linecap:round; stroke-linejoin:round; stroke-width:4; stroke-opacity:1; fill:none\" points=\"-2298.03,-298.369 -2293.29,-303.107 \"/>\n",
       "<polyline clip-path=\"url(#clip422)\" style=\"stroke:#000000; stroke-linecap:round; stroke-linejoin:round; stroke-width:4; stroke-opacity:1; fill:none\" points=\"-2293.29,-303.107 -2290.92,-303.107 \"/>\n",
       "<polyline clip-path=\"url(#clip422)\" style=\"stroke:#000000; stroke-linecap:round; stroke-linejoin:round; stroke-width:4; stroke-opacity:1; fill:none\" points=\"-2290.92,-303.107 -2286.19,-307.844 \"/>\n",
       "<polyline clip-path=\"url(#clip422)\" style=\"stroke:#000000; stroke-linecap:round; stroke-linejoin:round; stroke-width:4; stroke-opacity:1; fill:none\" points=\"-2286.19,-307.844 -2283.82,-307.844 \"/>\n",
       "<polyline clip-path=\"url(#clip422)\" style=\"stroke:#000000; stroke-linecap:round; stroke-linejoin:round; stroke-width:4; stroke-opacity:1; fill:none\" points=\"-2283.82,-307.844 -2279.08,-312.582 \"/>\n",
       "<polyline clip-path=\"url(#clip422)\" style=\"stroke:#000000; stroke-linecap:round; stroke-linejoin:round; stroke-width:4; stroke-opacity:1; fill:none\" points=\"-2279.08,-312.582 -2276.71,-312.582 \"/>\n",
       "<polyline clip-path=\"url(#clip422)\" style=\"stroke:#000000; stroke-linecap:round; stroke-linejoin:round; stroke-width:4; stroke-opacity:1; fill:none\" points=\"-2276.71,-312.582 -2271.97,-317.32 \"/>\n",
       "<polyline clip-path=\"url(#clip422)\" style=\"stroke:#000000; stroke-linecap:round; stroke-linejoin:round; stroke-width:4; stroke-opacity:1; fill:none\" points=\"-2271.97,-317.32 -2269.6,-317.32 \"/>\n",
       "<polyline clip-path=\"url(#clip422)\" style=\"stroke:#000000; stroke-linecap:round; stroke-linejoin:round; stroke-width:4; stroke-opacity:1; fill:none\" points=\"-2269.6,-317.32 -2264.87,-322.058 \"/>\n",
       "<polyline clip-path=\"url(#clip422)\" style=\"stroke:#000000; stroke-linecap:round; stroke-linejoin:round; stroke-width:4; stroke-opacity:1; fill:none\" points=\"-2264.87,-322.058 -2262.5,-322.058 \"/>\n",
       "<polyline clip-path=\"url(#clip422)\" style=\"stroke:#000000; stroke-linecap:round; stroke-linejoin:round; stroke-width:4; stroke-opacity:1; fill:none\" points=\"-2262.5,-322.058 -2257.76,-326.795 \"/>\n",
       "<polyline clip-path=\"url(#clip422)\" style=\"stroke:#000000; stroke-linecap:round; stroke-linejoin:round; stroke-width:4; stroke-opacity:1; fill:none\" points=\"-2257.76,-326.795 -616.147,-326.795 \"/>\n",
       "<polyline clip-path=\"url(#clip422)\" style=\"stroke:#000000; stroke-linecap:round; stroke-linejoin:round; stroke-width:4; stroke-opacity:1; fill:none\" points=\"-616.147,-326.795 -616.147,521.253 \"/>\n",
       "<polyline clip-path=\"url(#clip422)\" style=\"stroke:#000000; stroke-linecap:round; stroke-linejoin:round; stroke-width:4; stroke-opacity:1; fill:none\" points=\"-616.147,521.253 -613.778,523.622 \"/>\n",
       "<polyline clip-path=\"url(#clip422)\" style=\"stroke:#000000; stroke-linecap:round; stroke-linejoin:round; stroke-width:4; stroke-opacity:1; fill:none\" points=\"-613.778,523.622 -613.778,921.589 \"/>\n",
       "<polyline clip-path=\"url(#clip422)\" style=\"stroke:#000000; stroke-linecap:round; stroke-linejoin:round; stroke-width:4; stroke-opacity:1; fill:none\" points=\"-613.778,921.589 -729.852,921.589 \"/>\n",
       "<polyline clip-path=\"url(#clip422)\" style=\"stroke:#000000; stroke-linecap:round; stroke-linejoin:round; stroke-width:4; stroke-opacity:1; fill:none\" points=\"-729.852,921.589 -732.22,923.958 \"/>\n",
       "<polyline clip-path=\"url(#clip422)\" style=\"stroke:#000000; stroke-linecap:round; stroke-linejoin:round; stroke-width:4; stroke-opacity:1; fill:none\" points=\"-732.22,923.958 -732.22,947.646 \"/>\n",
       "<polyline clip-path=\"url(#clip422)\" style=\"stroke:#000000; stroke-linecap:round; stroke-linejoin:round; stroke-width:4; stroke-opacity:1; fill:none\" points=\"-732.22,947.646 -729.852,950.015 \"/>\n",
       "<polyline clip-path=\"url(#clip422)\" style=\"stroke:#000000; stroke-linecap:round; stroke-linejoin:round; stroke-width:4; stroke-opacity:1; fill:none\" points=\"-729.852,950.015 -613.778,950.015 \"/>\n",
       "<polyline clip-path=\"url(#clip422)\" style=\"stroke:#000000; stroke-linecap:round; stroke-linejoin:round; stroke-width:4; stroke-opacity:1; fill:none\" points=\"-613.778,950.015 -613.778,1589.6 \"/>\n",
       "<polyline clip-path=\"url(#clip422)\" style=\"stroke:#000000; stroke-linecap:round; stroke-linejoin:round; stroke-width:4; stroke-opacity:1; fill:none\" points=\"-613.778,1589.6 -611.409,1591.97 \"/>\n",
       "<polyline clip-path=\"url(#clip422)\" style=\"stroke:#000000; stroke-linecap:round; stroke-linejoin:round; stroke-width:4; stroke-opacity:1; fill:none\" points=\"-611.409,1591.97 -587.721,1591.97 \"/>\n",
       "<polyline clip-path=\"url(#clip422)\" style=\"stroke:#000000; stroke-linecap:round; stroke-linejoin:round; stroke-width:4; stroke-opacity:1; fill:none\" points=\"-587.721,1591.97 -585.352,1589.6 \"/>\n",
       "<polyline clip-path=\"url(#clip422)\" style=\"stroke:#000000; stroke-linecap:round; stroke-linejoin:round; stroke-width:4; stroke-opacity:1; fill:none\" points=\"-585.352,1589.6 -585.352,1542.23 \"/>\n",
       "<polyline clip-path=\"url(#clip422)\" style=\"stroke:#000000; stroke-linecap:round; stroke-linejoin:round; stroke-width:4; stroke-opacity:1; fill:none\" points=\"-585.352,1542.23 49.5002,1542.23 \"/>\n",
       "<polyline clip-path=\"url(#clip422)\" style=\"stroke:#000000; stroke-linecap:round; stroke-linejoin:round; stroke-width:4; stroke-opacity:1; fill:none\" points=\"49.5002,1542.23 51.8691,1539.86 \"/>\n",
       "<polyline clip-path=\"url(#clip422)\" style=\"stroke:#000000; stroke-linecap:round; stroke-linejoin:round; stroke-width:4; stroke-opacity:1; fill:none\" points=\"51.8691,1539.86 51.8691,1516.17 \"/>\n",
       "<polyline clip-path=\"url(#clip422)\" style=\"stroke:#000000; stroke-linecap:round; stroke-linejoin:round; stroke-width:4; stroke-opacity:1; fill:none\" points=\"51.8691,1516.17 49.5002,1513.8 \"/>\n",
       "<polyline clip-path=\"url(#clip422)\" style=\"stroke:#000000; stroke-linecap:round; stroke-linejoin:round; stroke-width:4; stroke-opacity:1; fill:none\" points=\"49.5002,1513.8 -585.352,1513.8 \"/>\n",
       "<polyline clip-path=\"url(#clip422)\" style=\"stroke:#000000; stroke-linecap:round; stroke-linejoin:round; stroke-width:4; stroke-opacity:1; fill:none\" points=\"-585.352,1513.8 -585.352,549.679 \"/>\n",
       "<polyline clip-path=\"url(#clip422)\" style=\"stroke:#000000; stroke-linecap:round; stroke-linejoin:round; stroke-width:4; stroke-opacity:1; fill:none\" points=\"-585.352,549.679 310.074,549.679 \"/>\n",
       "<polyline clip-path=\"url(#clip422)\" style=\"stroke:#000000; stroke-linecap:round; stroke-linejoin:round; stroke-width:4; stroke-opacity:1; fill:none\" points=\"310.074,549.679 310.074,1513.8 \"/>\n",
       "<polyline clip-path=\"url(#clip422)\" style=\"stroke:#000000; stroke-linecap:round; stroke-linejoin:round; stroke-width:4; stroke-opacity:1; fill:none\" points=\"310.074,1513.8 253.221,1513.8 \"/>\n",
       "<polyline clip-path=\"url(#clip422)\" style=\"stroke:#000000; stroke-linecap:round; stroke-linejoin:round; stroke-width:4; stroke-opacity:1; fill:none\" points=\"253.221,1513.8 250.853,1516.17 \"/>\n",
       "<polyline clip-path=\"url(#clip422)\" style=\"stroke:#000000; stroke-linecap:round; stroke-linejoin:round; stroke-width:4; stroke-opacity:1; fill:none\" points=\"250.853,1516.17 250.853,1539.86 \"/>\n",
       "<polyline clip-path=\"url(#clip422)\" style=\"stroke:#000000; stroke-linecap:round; stroke-linejoin:round; stroke-width:4; stroke-opacity:1; fill:none\" points=\"250.853,1539.86 253.221,1542.23 \"/>\n",
       "<polyline clip-path=\"url(#clip422)\" style=\"stroke:#000000; stroke-linecap:round; stroke-linejoin:round; stroke-width:4; stroke-opacity:1; fill:none\" points=\"253.221,1542.23 388.246,1542.23 \"/>\n",
       "<polyline clip-path=\"url(#clip422)\" style=\"stroke:#000000; stroke-linecap:round; stroke-linejoin:round; stroke-width:4; stroke-opacity:1; fill:none\" points=\"388.246,1542.23 390.615,1539.86 \"/>\n",
       "<polyline clip-path=\"url(#clip422)\" style=\"stroke:#000000; stroke-linecap:round; stroke-linejoin:round; stroke-width:4; stroke-opacity:1; fill:none\" points=\"390.615,1539.86 390.615,1516.17 \"/>\n",
       "<polyline clip-path=\"url(#clip422)\" style=\"stroke:#000000; stroke-linecap:round; stroke-linejoin:round; stroke-width:4; stroke-opacity:1; fill:none\" points=\"390.615,1516.17 388.246,1513.8 \"/>\n",
       "<polyline clip-path=\"url(#clip422)\" style=\"stroke:#000000; stroke-linecap:round; stroke-linejoin:round; stroke-width:4; stroke-opacity:1; fill:none\" points=\"388.246,1513.8 338.5,1513.8 \"/>\n",
       "<polyline clip-path=\"url(#clip422)\" style=\"stroke:#000000; stroke-linecap:round; stroke-linejoin:round; stroke-width:4; stroke-opacity:1; fill:none\" points=\"338.5,1513.8 338.5,549.679 \"/>\n",
       "<polyline clip-path=\"url(#clip422)\" style=\"stroke:#000000; stroke-linecap:round; stroke-linejoin:round; stroke-width:4; stroke-opacity:1; fill:none\" points=\"338.5,549.679 1044.42,549.679 \"/>\n",
       "<polyline clip-path=\"url(#clip422)\" style=\"stroke:#000000; stroke-linecap:round; stroke-linejoin:round; stroke-width:4; stroke-opacity:1; fill:none\" points=\"1044.42,549.679 1044.42,1513.8 \"/>\n",
       "<polyline clip-path=\"url(#clip422)\" style=\"stroke:#000000; stroke-linecap:round; stroke-linejoin:round; stroke-width:4; stroke-opacity:1; fill:none\" points=\"1044.42,1513.8 591.967,1513.8 \"/>\n",
       "<polyline clip-path=\"url(#clip422)\" style=\"stroke:#000000; stroke-linecap:round; stroke-linejoin:round; stroke-width:4; stroke-opacity:1; fill:none\" points=\"591.967,1513.8 589.598,1516.17 \"/>\n",
       "<polyline clip-path=\"url(#clip422)\" style=\"stroke:#000000; stroke-linecap:round; stroke-linejoin:round; stroke-width:4; stroke-opacity:1; fill:none\" points=\"589.598,1516.17 589.598,1539.86 \"/>\n",
       "<polyline clip-path=\"url(#clip422)\" style=\"stroke:#000000; stroke-linecap:round; stroke-linejoin:round; stroke-width:4; stroke-opacity:1; fill:none\" points=\"589.598,1539.86 591.967,1542.23 \"/>\n",
       "<polyline clip-path=\"url(#clip422)\" style=\"stroke:#000000; stroke-linecap:round; stroke-linejoin:round; stroke-width:4; stroke-opacity:1; fill:none\" points=\"591.967,1542.23 1087.06,1542.23 \"/>\n",
       "<polyline clip-path=\"url(#clip422)\" style=\"stroke:#000000; stroke-linecap:round; stroke-linejoin:round; stroke-width:4; stroke-opacity:1; fill:none\" points=\"1087.06,1542.23 1089.43,1539.86 \"/>\n",
       "<polyline clip-path=\"url(#clip422)\" style=\"stroke:#000000; stroke-linecap:round; stroke-linejoin:round; stroke-width:4; stroke-opacity:1; fill:none\" points=\"1089.43,1539.86 1089.43,1516.17 \"/>\n",
       "<polyline clip-path=\"url(#clip422)\" style=\"stroke:#000000; stroke-linecap:round; stroke-linejoin:round; stroke-width:4; stroke-opacity:1; fill:none\" points=\"1089.43,1516.17 1087.06,1513.8 \"/>\n",
       "<polyline clip-path=\"url(#clip422)\" style=\"stroke:#000000; stroke-linecap:round; stroke-linejoin:round; stroke-width:4; stroke-opacity:1; fill:none\" points=\"1087.06,1513.8 1072.84,1513.8 \"/>\n",
       "<polyline clip-path=\"url(#clip422)\" style=\"stroke:#000000; stroke-linecap:round; stroke-linejoin:round; stroke-width:4; stroke-opacity:1; fill:none\" points=\"1072.84,1513.8 1072.84,549.679 \"/>\n",
       "<polyline clip-path=\"url(#clip422)\" style=\"stroke:#000000; stroke-linecap:round; stroke-linejoin:round; stroke-width:4; stroke-opacity:1; fill:none\" points=\"1072.84,549.679 1776.39,549.679 \"/>\n",
       "<polyline clip-path=\"url(#clip422)\" style=\"stroke:#000000; stroke-linecap:round; stroke-linejoin:round; stroke-width:4; stroke-opacity:1; fill:none\" points=\"1776.39,549.679 1776.39,1513.8 \"/>\n",
       "<polyline clip-path=\"url(#clip422)\" style=\"stroke:#000000; stroke-linecap:round; stroke-linejoin:round; stroke-width:4; stroke-opacity:1; fill:none\" points=\"1776.39,1513.8 1290.78,1513.8 \"/>\n",
       "<polyline clip-path=\"url(#clip422)\" style=\"stroke:#000000; stroke-linecap:round; stroke-linejoin:round; stroke-width:4; stroke-opacity:1; fill:none\" points=\"1290.78,1513.8 1288.41,1516.17 \"/>\n",
       "<polyline clip-path=\"url(#clip422)\" style=\"stroke:#000000; stroke-linecap:round; stroke-linejoin:round; stroke-width:4; stroke-opacity:1; fill:none\" points=\"1288.41,1516.17 1288.41,1539.86 \"/>\n",
       "<polyline clip-path=\"url(#clip422)\" style=\"stroke:#000000; stroke-linecap:round; stroke-linejoin:round; stroke-width:4; stroke-opacity:1; fill:none\" points=\"1288.41,1539.86 1290.78,1542.23 \"/>\n",
       "<polyline clip-path=\"url(#clip422)\" style=\"stroke:#000000; stroke-linecap:round; stroke-linejoin:round; stroke-width:4; stroke-opacity:1; fill:none\" points=\"1290.78,1542.23 1328.68,1542.23 \"/>\n",
       "<polyline clip-path=\"url(#clip422)\" style=\"stroke:#000000; stroke-linecap:round; stroke-linejoin:round; stroke-width:4; stroke-opacity:1; fill:none\" points=\"1328.68,1542.23 1328.68,1551.7 \"/>\n",
       "<polyline clip-path=\"url(#clip422)\" style=\"stroke:#000000; stroke-linecap:round; stroke-linejoin:round; stroke-width:4; stroke-opacity:1; fill:none\" points=\"1328.68,1551.7 1331.05,1554.07 \"/>\n",
       "<polyline clip-path=\"url(#clip422)\" style=\"stroke:#000000; stroke-linecap:round; stroke-linejoin:round; stroke-width:4; stroke-opacity:1; fill:none\" points=\"1331.05,1554.07 1354.74,1554.07 \"/>\n",
       "<polyline clip-path=\"url(#clip422)\" style=\"stroke:#000000; stroke-linecap:round; stroke-linejoin:round; stroke-width:4; stroke-opacity:1; fill:none\" points=\"1354.74,1554.07 1357.11,1551.7 \"/>\n",
       "<polyline clip-path=\"url(#clip422)\" style=\"stroke:#000000; stroke-linecap:round; stroke-linejoin:round; stroke-width:4; stroke-opacity:1; fill:none\" points=\"1357.11,1551.7 1357.11,1542.23 \"/>\n",
       "<polyline clip-path=\"url(#clip422)\" style=\"stroke:#000000; stroke-linecap:round; stroke-linejoin:round; stroke-width:4; stroke-opacity:1; fill:none\" points=\"1357.11,1542.23 1776.39,1542.23 \"/>\n",
       "<polyline clip-path=\"url(#clip422)\" style=\"stroke:#000000; stroke-linecap:round; stroke-linejoin:round; stroke-width:4; stroke-opacity:1; fill:none\" points=\"1776.39,1542.23 1776.39,1869.13 \"/>\n",
       "<polyline clip-path=\"url(#clip422)\" style=\"stroke:#000000; stroke-linecap:round; stroke-linejoin:round; stroke-width:4; stroke-opacity:1; fill:none\" points=\"1776.39,1869.13 1357.11,1869.13 \"/>\n",
       "<polyline clip-path=\"url(#clip422)\" style=\"stroke:#000000; stroke-linecap:round; stroke-linejoin:round; stroke-width:4; stroke-opacity:1; fill:none\" points=\"1357.11,1869.13 1357.11,1755.42 \"/>\n",
       "<polyline clip-path=\"url(#clip422)\" style=\"stroke:#000000; stroke-linecap:round; stroke-linejoin:round; stroke-width:4; stroke-opacity:1; fill:none\" points=\"1357.11,1755.42 1354.74,1753.06 \"/>\n",
       "<polyline clip-path=\"url(#clip422)\" style=\"stroke:#000000; stroke-linecap:round; stroke-linejoin:round; stroke-width:4; stroke-opacity:1; fill:none\" points=\"1354.74,1753.06 1331.05,1753.06 \"/>\n",
       "<polyline clip-path=\"url(#clip422)\" style=\"stroke:#000000; stroke-linecap:round; stroke-linejoin:round; stroke-width:4; stroke-opacity:1; fill:none\" points=\"1331.05,1753.06 1328.68,1755.42 \"/>\n",
       "<polyline clip-path=\"url(#clip422)\" style=\"stroke:#000000; stroke-linecap:round; stroke-linejoin:round; stroke-width:4; stroke-opacity:1; fill:none\" points=\"1328.68,1755.42 1328.68,1869.13 \"/>\n",
       "<polyline clip-path=\"url(#clip422)\" style=\"stroke:#000000; stroke-linecap:round; stroke-linejoin:round; stroke-width:4; stroke-opacity:1; fill:none\" points=\"1328.68,1869.13 1290.78,1869.13 \"/>\n",
       "<polyline clip-path=\"url(#clip422)\" style=\"stroke:#000000; stroke-linecap:round; stroke-linejoin:round; stroke-width:4; stroke-opacity:1; fill:none\" points=\"1290.78,1869.13 1288.41,1871.5 \"/>\n",
       "<polyline clip-path=\"url(#clip422)\" style=\"stroke:#000000; stroke-linecap:round; stroke-linejoin:round; stroke-width:4; stroke-opacity:1; fill:none\" points=\"1288.41,1871.5 1288.41,1895.19 \"/>\n",
       "<polyline clip-path=\"url(#clip422)\" style=\"stroke:#000000; stroke-linecap:round; stroke-linejoin:round; stroke-width:4; stroke-opacity:1; fill:none\" points=\"1288.41,1895.19 1290.78,1897.56 \"/>\n",
       "<polyline clip-path=\"url(#clip422)\" style=\"stroke:#000000; stroke-linecap:round; stroke-linejoin:round; stroke-width:4; stroke-opacity:1; fill:none\" points=\"1290.78,1897.56 1776.39,1897.56 \"/>\n",
       "<polyline clip-path=\"url(#clip422)\" style=\"stroke:#000000; stroke-linecap:round; stroke-linejoin:round; stroke-width:4; stroke-opacity:1; fill:none\" points=\"1776.39,1897.56 1776.39,2792.98 \"/>\n",
       "<polyline clip-path=\"url(#clip422)\" style=\"stroke:#000000; stroke-linecap:round; stroke-linejoin:round; stroke-width:4; stroke-opacity:1; fill:none\" points=\"1776.39,2792.98 1025.47,2792.98 \"/>\n",
       "<polyline clip-path=\"url(#clip422)\" style=\"stroke:#000000; stroke-linecap:round; stroke-linejoin:round; stroke-width:4; stroke-opacity:1; fill:none\" points=\"1025.47,2792.98 1025.47,1897.56 \"/>\n",
       "<polyline clip-path=\"url(#clip422)\" style=\"stroke:#000000; stroke-linecap:round; stroke-linejoin:round; stroke-width:4; stroke-opacity:1; fill:none\" points=\"1025.47,1897.56 1087.06,1897.56 \"/>\n",
       "<polyline clip-path=\"url(#clip422)\" style=\"stroke:#000000; stroke-linecap:round; stroke-linejoin:round; stroke-width:4; stroke-opacity:1; fill:none\" points=\"1087.06,1897.56 1089.43,1895.19 \"/>\n",
       "<polyline clip-path=\"url(#clip422)\" style=\"stroke:#000000; stroke-linecap:round; stroke-linejoin:round; stroke-width:4; stroke-opacity:1; fill:none\" points=\"1089.43,1895.19 1089.43,1871.5 \"/>\n",
       "<polyline clip-path=\"url(#clip422)\" style=\"stroke:#000000; stroke-linecap:round; stroke-linejoin:round; stroke-width:4; stroke-opacity:1; fill:none\" points=\"1089.43,1871.5 1087.06,1869.13 \"/>\n",
       "<polyline clip-path=\"url(#clip422)\" style=\"stroke:#000000; stroke-linecap:round; stroke-linejoin:round; stroke-width:4; stroke-opacity:1; fill:none\" points=\"1087.06,1869.13 942.557,1869.13 \"/>\n",
       "<polyline clip-path=\"url(#clip422)\" style=\"stroke:#000000; stroke-linecap:round; stroke-linejoin:round; stroke-width:4; stroke-opacity:1; fill:none\" points=\"942.557,1869.13 940.188,1871.5 \"/>\n",
       "<polyline clip-path=\"url(#clip422)\" style=\"stroke:#000000; stroke-linecap:round; stroke-linejoin:round; stroke-width:4; stroke-opacity:1; fill:none\" points=\"940.188,1871.5 940.188,1895.19 \"/>\n",
       "<polyline clip-path=\"url(#clip422)\" style=\"stroke:#000000; stroke-linecap:round; stroke-linejoin:round; stroke-width:4; stroke-opacity:1; fill:none\" points=\"940.188,1895.19 942.557,1897.56 \"/>\n",
       "<polyline clip-path=\"url(#clip422)\" style=\"stroke:#000000; stroke-linecap:round; stroke-linejoin:round; stroke-width:4; stroke-opacity:1; fill:none\" points=\"942.557,1897.56 997.04,1897.56 \"/>\n",
       "<polyline clip-path=\"url(#clip422)\" style=\"stroke:#000000; stroke-linecap:round; stroke-linejoin:round; stroke-width:4; stroke-opacity:1; fill:none\" points=\"997.04,1897.56 997.04,2390.28 \"/>\n",
       "<polyline clip-path=\"url(#clip422)\" style=\"stroke:#000000; stroke-linecap:round; stroke-linejoin:round; stroke-width:4; stroke-opacity:1; fill:none\" points=\"997.04,2390.28 343.238,2390.28 \"/>\n",
       "<polyline clip-path=\"url(#clip422)\" style=\"stroke:#000000; stroke-linecap:round; stroke-linejoin:round; stroke-width:4; stroke-opacity:1; fill:none\" points=\"343.238,2390.28 340.869,2392.65 \"/>\n",
       "<polyline clip-path=\"url(#clip422)\" style=\"stroke:#000000; stroke-linecap:round; stroke-linejoin:round; stroke-width:4; stroke-opacity:1; fill:none\" points=\"340.869,2392.65 340.869,2413.96 \"/>\n",
       "<polyline clip-path=\"url(#clip422)\" style=\"stroke:#000000; stroke-linecap:round; stroke-linejoin:round; stroke-width:4; stroke-opacity:1; fill:none\" points=\"340.869,2413.96 343.238,2416.33 \"/>\n",
       "<polyline clip-path=\"url(#clip422)\" style=\"stroke:#000000; stroke-linecap:round; stroke-linejoin:round; stroke-width:4; stroke-opacity:1; fill:none\" points=\"343.238,2416.33 997.04,2416.33 \"/>\n",
       "<polyline clip-path=\"url(#clip422)\" style=\"stroke:#000000; stroke-linecap:round; stroke-linejoin:round; stroke-width:4; stroke-opacity:1; fill:none\" points=\"997.04,2416.33 997.04,2792.98 \"/>\n",
       "<polyline clip-path=\"url(#clip422)\" style=\"stroke:#000000; stroke-linecap:round; stroke-linejoin:round; stroke-width:4; stroke-opacity:1; fill:none\" points=\"997.04,2792.98 655.926,2792.98 \"/>\n",
       "<polyline clip-path=\"url(#clip422)\" style=\"stroke:#000000; stroke-linecap:round; stroke-linejoin:round; stroke-width:4; stroke-opacity:1; fill:none\" points=\"655.926,2792.98 653.557,2795.35 \"/>\n",
       "<polyline clip-path=\"url(#clip422)\" style=\"stroke:#000000; stroke-linecap:round; stroke-linejoin:round; stroke-width:4; stroke-opacity:1; fill:none\" points=\"653.557,2795.35 653.557,2819.04 \"/>\n",
       "<polyline clip-path=\"url(#clip422)\" style=\"stroke:#000000; stroke-linecap:round; stroke-linejoin:round; stroke-width:4; stroke-opacity:1; fill:none\" points=\"653.557,2819.04 655.926,2821.41 \"/>\n",
       "<polyline clip-path=\"url(#clip422)\" style=\"stroke:#000000; stroke-linecap:round; stroke-linejoin:round; stroke-width:4; stroke-opacity:1; fill:none\" points=\"655.926,2821.41 1776.39,2821.41 \"/>\n",
       "<polyline clip-path=\"url(#clip422)\" style=\"stroke:#000000; stroke-linecap:round; stroke-linejoin:round; stroke-width:4; stroke-opacity:1; fill:none\" points=\"1776.39,2821.41 1776.39,4140.86 \"/>\n",
       "<polyline clip-path=\"url(#clip422)\" style=\"stroke:#000000; stroke-linecap:round; stroke-linejoin:round; stroke-width:4; stroke-opacity:1; fill:none\" points=\"1776.39,4140.86 435.623,4140.86 \"/>\n",
       "<polyline clip-path=\"url(#clip422)\" style=\"stroke:#000000; stroke-linecap:round; stroke-linejoin:round; stroke-width:4; stroke-opacity:1; fill:none\" points=\"435.623,4140.86 435.623,4140.86 \"/>\n",
       "<polyline clip-path=\"url(#clip422)\" style=\"stroke:#ff0000; stroke-linecap:round; stroke-linejoin:round; stroke-width:28; stroke-opacity:1; fill:none\" points=\"842.101,758.206 726.691,784.839 \"/>\n",
       "<polyline clip-path=\"url(#clip422)\" style=\"stroke:#0000ff; stroke-linecap:round; stroke-linejoin:round; stroke-width:8; stroke-opacity:0.2; fill:none\" points=\"808.565,843.356 828.305,784.135 857.916,774.265 843.11,759.46 \"/>\n",
       "<polyline clip-path=\"url(#clip422)\" style=\"stroke:#0000ff; stroke-linecap:round; stroke-linejoin:round; stroke-width:8; stroke-opacity:1; fill:none\" points=\"808.565,843.356 749.645,849.324 \"/>\n",
       "<polyline clip-path=\"url(#clip422)\" style=\"stroke:#0000ff; stroke-linecap:round; stroke-linejoin:round; stroke-width:8; stroke-opacity:1; fill:none\" points=\"828.305,784.135 770.668,797.743 \"/>\n",
       "<polyline clip-path=\"url(#clip422)\" style=\"stroke:#0000ff; stroke-linecap:round; stroke-linejoin:round; stroke-width:8; stroke-opacity:1; fill:none\" points=\"857.916,774.265 799.512,784.074 \"/>\n",
       "<polyline clip-path=\"url(#clip422)\" style=\"stroke:#0000ff; stroke-linecap:round; stroke-linejoin:round; stroke-width:8; stroke-opacity:1; fill:none\" points=\"843.11,759.46 785.415,772.815 \"/>\n",
       "</svg>\n"
      ]
     },
     "execution_count": 30,
     "metadata": {},
     "output_type": "execute_result"
    }
   ],
   "source": [
    "t  = 1\n",
    "\n",
    "p0  = _ps[t]\n",
    "x   = stack(polar_inv(_zs[t],_as))\n",
    "\n",
    "n = 4\n",
    "w   = fill(10, n)\n",
    "sig = [0.2, 0.1, 0.1, 0.1]\n",
    "dropout = fill(1e-9,n)\n",
    "\n",
    "grid_k   = [4, 4, 4, 4]\n",
    "grid_dx  = [1., 0.25, 0.125, 0.0625 ]\n",
    "grid_dhd = [90.0, 45, 22.5, 7]\n",
    "\n",
    "\n",
    "p = perturb(p0, 0.1, 10)\n",
    "p, qs, log_qs = iterated_proposal(p, x, w, sig, dropout, grid_k, grid_dx, grid_dhd);\n",
    "\n",
    "\n",
    "# ---------------\n",
    "mypl = plot(size=(400,400), legend=nothing; yxlims(p0.x,3)..., aspect_ratio=:equal)\n",
    "plot!(_segs, c=:black)\n",
    "plot!(p0,c=:red, r=0.5, linewidth=7)\n",
    "plot!([q.x for q in qs], c=:blue, linewidth=2, alpha=.2)\n",
    "plot!(qs, c=:blue, r=0.25, linewidth=2, alpha=1.)\n",
    "mypl"
   ]
  },
  {
   "cell_type": "markdown",
   "id": "c6b3415d",
   "metadata": {},
   "source": [
    "## SLAM Model"
   ]
  },
  {
   "cell_type": "code",
   "execution_count": 31,
   "id": "8f3e5aa4",
   "metadata": {},
   "outputs": [
    {
     "data": {
      "text/plain": [
       "argdiffs (generic function with 1 method)"
      ]
     },
     "execution_count": 31,
     "metadata": {},
     "output_type": "execute_result"
    }
   ],
   "source": [
    "#nbx\n",
    "include(\"src/gen_utils.jl\")"
   ]
  },
  {
   "cell_type": "markdown",
   "id": "5ef2de36",
   "metadata": {},
   "source": [
    "General structure:\n",
    "```julia\n",
    "motion_model(p::Pose, u::Control, motion_args...)\n",
    "sensor_model(p::Pose, m::MAP, sensor_args...)\n",
    "```\n",
    "Here:\n",
    "```julia\n",
    "sensor_model(p::Pose, sensor_args...)\n",
    "```"
   ]
  },
  {
   "cell_type": "markdown",
   "id": "03f28672",
   "metadata": {},
   "source": [
    "```julia\n",
    "\n",
    "    prior     chain \n",
    "     0          1        2          t-1\n",
    "\n",
    "               u[1] --- u[2]  ...  u[t-1]\n",
    "                |        |          |\n",
    "    p[1] - - - p[2] --- p[3]  ...  p[t]\n",
    "     |          |        |          |\n",
    "    y[1]       y[2]     y[3]  ...  y[t] \n",
    "```"
   ]
  },
  {
   "cell_type": "markdown",
   "id": "c9716d53",
   "metadata": {},
   "source": [
    "### sensor model"
   ]
  },
  {
   "cell_type": "markdown",
   "id": "4239f725",
   "metadata": {},
   "source": [
    "#### sensor_logpf"
   ]
  },
  {
   "cell_type": "code",
   "execution_count": 32,
   "id": "e76b86a8",
   "metadata": {},
   "outputs": [
    {
     "data": {
      "text/plain": [
       "sensor_logpdf_cu (generic function with 1 method)"
      ]
     },
     "execution_count": 32,
     "metadata": {},
     "output_type": "execute_result"
    }
   ],
   "source": [
    "#nbx\n",
    "function sensor_logpdf_cu(x::CuArray, y_tilde::CuArray, sig, dropout)\n",
    "    n = size(y_tilde,1)\n",
    "    m = size(y_tilde,2)\n",
    "    \n",
    "    @assert size(x,1) == size(y_tilde,1)\n",
    "    \n",
    "    x = reshape(x, n, 1, 2)\n",
    "    \n",
    "    # Compute 1D Gaussians - (n,m,2)\n",
    "    # Convert to 2D gausians - (n,m)\n",
    "    # Convert to mixture of m 2D gausians (GM) - (n,)\n",
    "    # Convert to mixture of `GM` and `anywhere` (D) - (n,)\n",
    "    # Convert to Product of D's - ()\n",
    "    log_p = gaussian_logpdf(x, y_tilde, sig)\n",
    "    log_p = sum(log_p, dims=3)[:,:,1] \n",
    "    log_p = logsumexp_cu(log_p .- log(m), 2)[:,1] \n",
    "    log_p_or_any_ = log.((1-dropout)*exp.(log_p) .+ dropout*1.0)\n",
    "    log_p = sum(log_p_or_any_)\n",
    "    return log_p\n",
    "end"
   ]
  },
  {
   "cell_type": "markdown",
   "id": "4b2329f4",
   "metadata": {},
   "source": [
    "#### sensor dist"
   ]
  },
  {
   "cell_type": "code",
   "execution_count": 33,
   "id": "4f85d776",
   "metadata": {},
   "outputs": [],
   "source": [
    "#nbx\n",
    "struct SensorDistribution_CUDA <: Distribution{Vector{Vector{Float64}}} \n",
    "end\n",
    "\n",
    "const sensordist_cu = SensorDistribution_CUDA()\n",
    "\n",
    "function Gen.logpdf(::SensorDistribution_CUDA, x, y_tilde_::CuArray, sig, dropout)\n",
    "    x_ = CuArray(stack(x))\n",
    "    return sensor_logpdf_cu(x_, y_tilde_, sig, dropout)\n",
    "end\n",
    "function Gen.random(::SensorDistribution_CUDA, y_tilde_::CuArray, sig, dropout)\n",
    "    n = size(y_tilde_,1)\n",
    "    m = size(y_tilde_,2)\n",
    "\n",
    "    x = Vector{Float64}[]\n",
    "    for i=1:n\n",
    "        if bernoulli(dropout)\n",
    "            x_i = [Inf;Inf]\n",
    "        else\n",
    "            j = rand(1:m)\n",
    "            y = Array(y_tilde_[i,j,:])\n",
    "            x_i = diagnormal(y, [sig;sig])\n",
    "\n",
    "        end\n",
    "        push!(x, x_i)\n",
    "    end\n",
    "    return x\n",
    "end\n",
    "\n",
    "(D::SensorDistribution_CUDA)(args...) = Gen.random(D, args...)\n",
    "Gen.has_output_grad(::SensorDistribution_CUDA)    = false\n",
    "Gen.has_argument_grads(::SensorDistribution_CUDA) = (false, false);"
   ]
  },
  {
   "cell_type": "markdown",
   "id": "da893392",
   "metadata": {},
   "source": [
    "#### sensor model"
   ]
  },
  {
   "cell_type": "code",
   "execution_count": 34,
   "id": "bcee7c9d",
   "metadata": {},
   "outputs": [
    {
     "data": {
      "text/plain": [
       "DynamicDSLFunction{Any}(Dict{Symbol, Any}(), Dict{Symbol, Any}(), Type[Any, Any, Any, Any], false, Union{Nothing, Some{Any}}[nothing, nothing, nothing, nothing], var\"##sensor_model_GPU#1144\", Bool[0, 0, 0, 0], false)"
      ]
     },
     "execution_count": 34,
     "metadata": {},
     "output_type": "execute_result"
    }
   ],
   "source": [
    "#nbx\n",
    "@gen function sensor_model_GPU(p, w, s_noise, dropout)\n",
    "    p_ = CuArray(Vector(p))\n",
    "    zs_      = cast_cu(reshape(p_, 1,3))\n",
    "    y_tilde_ = get_ys_tilde_cu(zs_, w)[1,:,:,:];\n",
    "    \n",
    "    x ~ sensordist_cu(y_tilde_, s_noise, dropout)\n",
    "    return x\n",
    "end"
   ]
  },
  {
   "cell_type": "code",
   "execution_count": 35,
   "id": "293a5ff7",
   "metadata": {},
   "outputs": [
    {
     "data": {
      "image/svg+xml": [
       "<?xml version=\"1.0\" encoding=\"utf-8\"?>\n",
       "<svg xmlns=\"http://www.w3.org/2000/svg\" xmlns:xlink=\"http://www.w3.org/1999/xlink\" width=\"300\" height=\"300\" viewBox=\"0 0 1200 1200\">\n",
       "<defs>\n",
       "  <clipPath id=\"clip460\">\n",
       "    <rect x=\"0\" y=\"0\" width=\"1200\" height=\"1200\"/>\n",
       "  </clipPath>\n",
       "</defs>\n",
       "<path clip-path=\"url(#clip460)\" d=\"M0 1200 L1200 1200 L1200 0 L0 0  Z\" fill=\"#ffffff\" fill-rule=\"evenodd\" fill-opacity=\"1\"/>\n",
       "<defs>\n",
       "  <clipPath id=\"clip461\">\n",
       "    <rect x=\"240\" y=\"120\" width=\"841\" height=\"841\"/>\n",
       "  </clipPath>\n",
       "</defs>\n",
       "<path clip-path=\"url(#clip460)\" d=\"M127.446 1073.17 L1152.76 1073.17 L1152.76 47.2441 L127.446 47.2441  Z\" fill=\"#ffffff\" fill-rule=\"evenodd\" fill-opacity=\"1\"/>\n",
       "<defs>\n",
       "  <clipPath id=\"clip462\">\n",
       "    <rect x=\"127\" y=\"47\" width=\"1026\" height=\"1027\"/>\n",
       "  </clipPath>\n",
       "</defs>\n",
       "<polyline clip-path=\"url(#clip462)\" style=\"stroke:#000000; stroke-linecap:round; stroke-linejoin:round; stroke-width:2; stroke-opacity:0.1; fill:none\" points=\"285.85,1073.17 285.85,47.2441 \"/>\n",
       "<polyline clip-path=\"url(#clip462)\" style=\"stroke:#000000; stroke-linecap:round; stroke-linejoin:round; stroke-width:2; stroke-opacity:0.1; fill:none\" points=\"446.786,1073.17 446.786,47.2441 \"/>\n",
       "<polyline clip-path=\"url(#clip462)\" style=\"stroke:#000000; stroke-linecap:round; stroke-linejoin:round; stroke-width:2; stroke-opacity:0.1; fill:none\" points=\"607.722,1073.17 607.722,47.2441 \"/>\n",
       "<polyline clip-path=\"url(#clip462)\" style=\"stroke:#000000; stroke-linecap:round; stroke-linejoin:round; stroke-width:2; stroke-opacity:0.1; fill:none\" points=\"768.658,1073.17 768.658,47.2441 \"/>\n",
       "<polyline clip-path=\"url(#clip462)\" style=\"stroke:#000000; stroke-linecap:round; stroke-linejoin:round; stroke-width:2; stroke-opacity:0.1; fill:none\" points=\"929.594,1073.17 929.594,47.2441 \"/>\n",
       "<polyline clip-path=\"url(#clip462)\" style=\"stroke:#000000; stroke-linecap:round; stroke-linejoin:round; stroke-width:2; stroke-opacity:0.1; fill:none\" points=\"1090.53,1073.17 1090.53,47.2441 \"/>\n",
       "<polyline clip-path=\"url(#clip460)\" style=\"stroke:#000000; stroke-linecap:round; stroke-linejoin:round; stroke-width:4; stroke-opacity:1; fill:none\" points=\"127.446,1073.17 1152.76,1073.17 \"/>\n",
       "<polyline clip-path=\"url(#clip460)\" style=\"stroke:#000000; stroke-linecap:round; stroke-linejoin:round; stroke-width:4; stroke-opacity:1; fill:none\" points=\"285.85,1073.17 285.85,1054.27 \"/>\n",
       "<polyline clip-path=\"url(#clip460)\" style=\"stroke:#000000; stroke-linecap:round; stroke-linejoin:round; stroke-width:4; stroke-opacity:1; fill:none\" points=\"446.786,1073.17 446.786,1054.27 \"/>\n",
       "<polyline clip-path=\"url(#clip460)\" style=\"stroke:#000000; stroke-linecap:round; stroke-linejoin:round; stroke-width:4; stroke-opacity:1; fill:none\" points=\"607.722,1073.17 607.722,1054.27 \"/>\n",
       "<polyline clip-path=\"url(#clip460)\" style=\"stroke:#000000; stroke-linecap:round; stroke-linejoin:round; stroke-width:4; stroke-opacity:1; fill:none\" points=\"768.658,1073.17 768.658,1054.27 \"/>\n",
       "<polyline clip-path=\"url(#clip460)\" style=\"stroke:#000000; stroke-linecap:round; stroke-linejoin:round; stroke-width:4; stroke-opacity:1; fill:none\" points=\"929.594,1073.17 929.594,1054.27 \"/>\n",
       "<polyline clip-path=\"url(#clip460)\" style=\"stroke:#000000; stroke-linecap:round; stroke-linejoin:round; stroke-width:4; stroke-opacity:1; fill:none\" points=\"1090.53,1073.17 1090.53,1054.27 \"/>\n",
       "<path clip-path=\"url(#clip460)\" d=\"M261.336 1122.03 L268.975 1122.03 L268.975 1095.67 L260.665 1097.33 L260.665 1093.07 L268.928 1091.41 L273.604 1091.41 L273.604 1122.03 L281.243 1122.03 L281.243 1125.97 L261.336 1125.97 L261.336 1122.03 Z\" fill=\"#000000\" fill-rule=\"evenodd\" fill-opacity=\"1\" /><path clip-path=\"url(#clip460)\" d=\"M294.715 1122.03 L311.035 1122.03 L311.035 1125.97 L289.09 1125.97 L289.09 1122.03 Q291.752 1119.28 296.336 1114.65 Q300.942 1110 302.123 1108.65 Q304.368 1106.13 305.248 1104.39 Q306.15 1102.63 306.15 1100.94 Q306.15 1098.19 304.206 1096.45 Q302.285 1094.72 299.183 1094.72 Q296.984 1094.72 294.53 1095.48 Q292.1 1096.25 289.322 1097.8 L289.322 1093.07 Q292.146 1091.94 294.6 1091.36 Q297.053 1090.78 299.09 1090.78 Q304.461 1090.78 307.655 1093.47 Q310.849 1096.15 310.849 1100.64 Q310.849 1102.77 310.039 1104.69 Q309.252 1106.59 307.146 1109.19 Q306.567 1109.86 303.465 1113.07 Q300.363 1116.27 294.715 1122.03 Z\" fill=\"#000000\" fill-rule=\"evenodd\" fill-opacity=\"1\" /><path clip-path=\"url(#clip460)\" d=\"M421.797 1122.03 L429.436 1122.03 L429.436 1095.67 L421.126 1097.33 L421.126 1093.07 L429.39 1091.41 L434.066 1091.41 L434.066 1122.03 L441.705 1122.03 L441.705 1125.97 L421.797 1125.97 L421.797 1122.03 Z\" fill=\"#000000\" fill-rule=\"evenodd\" fill-opacity=\"1\" /><path clip-path=\"url(#clip460)\" d=\"M465.316 1107.33 Q468.672 1108.05 470.547 1110.32 Q472.445 1112.59 472.445 1115.92 Q472.445 1121.04 468.927 1123.84 Q465.408 1126.64 458.927 1126.64 Q456.751 1126.64 454.436 1126.2 Q452.144 1125.78 449.691 1124.93 L449.691 1120.41 Q451.635 1121.55 453.95 1122.13 Q456.265 1122.7 458.788 1122.7 Q463.186 1122.7 465.478 1120.97 Q467.792 1119.23 467.792 1115.92 Q467.792 1112.87 465.64 1111.15 Q463.51 1109.42 459.691 1109.42 L455.663 1109.42 L455.663 1105.57 L459.876 1105.57 Q463.325 1105.57 465.154 1104.21 Q466.982 1102.82 466.982 1100.23 Q466.982 1097.57 465.084 1096.15 Q463.209 1094.72 459.691 1094.72 Q457.769 1094.72 455.57 1095.13 Q453.371 1095.55 450.732 1096.43 L450.732 1092.26 Q453.394 1091.52 455.709 1091.15 Q458.047 1090.78 460.107 1090.78 Q465.431 1090.78 468.533 1093.21 Q471.635 1095.62 471.635 1099.74 Q471.635 1102.61 469.992 1104.6 Q468.348 1106.57 465.316 1107.33 Z\" fill=\"#000000\" fill-rule=\"evenodd\" fill-opacity=\"1\" /><path clip-path=\"url(#clip460)\" d=\"M582.166 1122.03 L589.805 1122.03 L589.805 1095.67 L581.495 1097.33 L581.495 1093.07 L589.759 1091.41 L594.435 1091.41 L594.435 1122.03 L602.073 1122.03 L602.073 1125.97 L582.166 1125.97 L582.166 1122.03 Z\" fill=\"#000000\" fill-rule=\"evenodd\" fill-opacity=\"1\" /><path clip-path=\"url(#clip460)\" d=\"M624.365 1095.48 L612.56 1113.93 L624.365 1113.93 L624.365 1095.48 M623.138 1091.41 L629.018 1091.41 L629.018 1113.93 L633.948 1113.93 L633.948 1117.82 L629.018 1117.82 L629.018 1125.97 L624.365 1125.97 L624.365 1117.82 L608.763 1117.82 L608.763 1113.31 L623.138 1091.41 Z\" fill=\"#000000\" fill-rule=\"evenodd\" fill-opacity=\"1\" /><path clip-path=\"url(#clip460)\" d=\"M743.843 1122.03 L751.482 1122.03 L751.482 1095.67 L743.172 1097.33 L743.172 1093.07 L751.435 1091.41 L756.111 1091.41 L756.111 1122.03 L763.75 1122.03 L763.75 1125.97 L743.843 1125.97 L743.843 1122.03 Z\" fill=\"#000000\" fill-rule=\"evenodd\" fill-opacity=\"1\" /><path clip-path=\"url(#clip460)\" d=\"M773.241 1091.41 L791.597 1091.41 L791.597 1095.34 L777.523 1095.34 L777.523 1103.82 Q778.542 1103.47 779.56 1103.31 Q780.579 1103.12 781.597 1103.12 Q787.384 1103.12 790.764 1106.29 Q794.144 1109.46 794.144 1114.88 Q794.144 1120.46 790.671 1123.56 Q787.199 1126.64 780.88 1126.64 Q778.704 1126.64 776.435 1126.27 Q774.19 1125.9 771.783 1125.16 L771.783 1120.46 Q773.866 1121.59 776.088 1122.15 Q778.31 1122.7 780.787 1122.7 Q784.792 1122.7 787.13 1120.6 Q789.468 1118.49 789.468 1114.88 Q789.468 1111.27 787.13 1109.16 Q784.792 1107.06 780.787 1107.06 Q778.912 1107.06 777.037 1107.47 Q775.185 1107.89 773.241 1108.77 L773.241 1091.41 Z\" fill=\"#000000\" fill-rule=\"evenodd\" fill-opacity=\"1\" /><path clip-path=\"url(#clip460)\" d=\"M904.2 1122.03 L911.839 1122.03 L911.839 1095.67 L903.529 1097.33 L903.529 1093.07 L911.793 1091.41 L916.469 1091.41 L916.469 1122.03 L924.108 1122.03 L924.108 1125.97 L904.2 1125.97 L904.2 1122.03 Z\" fill=\"#000000\" fill-rule=\"evenodd\" fill-opacity=\"1\" /><path clip-path=\"url(#clip460)\" d=\"M944.131 1106.82 Q940.982 1106.82 939.131 1108.98 Q937.302 1111.13 937.302 1114.88 Q937.302 1118.61 939.131 1120.78 Q940.982 1122.94 944.131 1122.94 Q947.279 1122.94 949.107 1120.78 Q950.959 1118.61 950.959 1114.88 Q950.959 1111.13 949.107 1108.98 Q947.279 1106.82 944.131 1106.82 M953.413 1092.17 L953.413 1096.43 Q951.654 1095.6 949.848 1095.16 Q948.066 1094.72 946.306 1094.72 Q941.677 1094.72 939.223 1097.84 Q936.793 1100.97 936.445 1107.29 Q937.811 1105.27 939.871 1104.21 Q941.932 1103.12 944.408 1103.12 Q949.617 1103.12 952.626 1106.29 Q955.658 1109.44 955.658 1114.88 Q955.658 1120.2 952.51 1123.42 Q949.362 1126.64 944.131 1126.64 Q938.135 1126.64 934.964 1122.06 Q931.793 1117.45 931.793 1108.72 Q931.793 1100.53 935.682 1095.67 Q939.57 1090.78 946.121 1090.78 Q947.881 1090.78 949.663 1091.13 Q951.469 1091.48 953.413 1092.17 Z\" fill=\"#000000\" fill-rule=\"evenodd\" fill-opacity=\"1\" /><path clip-path=\"url(#clip460)\" d=\"M1065.67 1122.03 L1073.31 1122.03 L1073.31 1095.67 L1065 1097.33 L1065 1093.07 L1073.26 1091.41 L1077.94 1091.41 L1077.94 1122.03 L1085.58 1122.03 L1085.58 1125.97 L1065.67 1125.97 L1065.67 1122.03 Z\" fill=\"#000000\" fill-rule=\"evenodd\" fill-opacity=\"1\" /><path clip-path=\"url(#clip460)\" d=\"M1093.84 1091.41 L1116.06 1091.41 L1116.06 1093.4 L1103.52 1125.97 L1098.63 1125.97 L1110.44 1095.34 L1093.84 1095.34 L1093.84 1091.41 Z\" fill=\"#000000\" fill-rule=\"evenodd\" fill-opacity=\"1\" /><polyline clip-path=\"url(#clip462)\" style=\"stroke:#000000; stroke-linecap:round; stroke-linejoin:round; stroke-width:2; stroke-opacity:0.1; fill:none\" points=\"127.446,961.804 1152.76,961.804 \"/>\n",
       "<polyline clip-path=\"url(#clip462)\" style=\"stroke:#000000; stroke-linecap:round; stroke-linejoin:round; stroke-width:2; stroke-opacity:0.1; fill:none\" points=\"127.446,800.868 1152.76,800.868 \"/>\n",
       "<polyline clip-path=\"url(#clip462)\" style=\"stroke:#000000; stroke-linecap:round; stroke-linejoin:round; stroke-width:2; stroke-opacity:0.1; fill:none\" points=\"127.446,639.932 1152.76,639.932 \"/>\n",
       "<polyline clip-path=\"url(#clip462)\" style=\"stroke:#000000; stroke-linecap:round; stroke-linejoin:round; stroke-width:2; stroke-opacity:0.1; fill:none\" points=\"127.446,478.996 1152.76,478.996 \"/>\n",
       "<polyline clip-path=\"url(#clip462)\" style=\"stroke:#000000; stroke-linecap:round; stroke-linejoin:round; stroke-width:2; stroke-opacity:0.1; fill:none\" points=\"127.446,318.06 1152.76,318.06 \"/>\n",
       "<polyline clip-path=\"url(#clip462)\" style=\"stroke:#000000; stroke-linecap:round; stroke-linejoin:round; stroke-width:2; stroke-opacity:0.1; fill:none\" points=\"127.446,157.124 1152.76,157.124 \"/>\n",
       "<polyline clip-path=\"url(#clip460)\" style=\"stroke:#000000; stroke-linecap:round; stroke-linejoin:round; stroke-width:4; stroke-opacity:1; fill:none\" points=\"127.446,1073.17 127.446,47.2441 \"/>\n",
       "<polyline clip-path=\"url(#clip460)\" style=\"stroke:#000000; stroke-linecap:round; stroke-linejoin:round; stroke-width:4; stroke-opacity:1; fill:none\" points=\"127.446,961.804 146.343,961.804 \"/>\n",
       "<polyline clip-path=\"url(#clip460)\" style=\"stroke:#000000; stroke-linecap:round; stroke-linejoin:round; stroke-width:4; stroke-opacity:1; fill:none\" points=\"127.446,800.868 146.343,800.868 \"/>\n",
       "<polyline clip-path=\"url(#clip460)\" style=\"stroke:#000000; stroke-linecap:round; stroke-linejoin:round; stroke-width:4; stroke-opacity:1; fill:none\" points=\"127.446,639.932 146.343,639.932 \"/>\n",
       "<polyline clip-path=\"url(#clip460)\" style=\"stroke:#000000; stroke-linecap:round; stroke-linejoin:round; stroke-width:4; stroke-opacity:1; fill:none\" points=\"127.446,478.996 146.343,478.996 \"/>\n",
       "<polyline clip-path=\"url(#clip460)\" style=\"stroke:#000000; stroke-linecap:round; stroke-linejoin:round; stroke-width:4; stroke-opacity:1; fill:none\" points=\"127.446,318.06 146.343,318.06 \"/>\n",
       "<polyline clip-path=\"url(#clip460)\" style=\"stroke:#000000; stroke-linecap:round; stroke-linejoin:round; stroke-width:4; stroke-opacity:1; fill:none\" points=\"127.446,157.124 146.343,157.124 \"/>\n",
       "<path clip-path=\"url(#clip460)\" d=\"M58.1495 975.149 L65.7884 975.149 L65.7884 948.783 L57.4782 950.45 L57.4782 946.19 L65.7421 944.524 L70.418 944.524 L70.418 975.149 L78.0568 975.149 L78.0568 979.084 L58.1495 979.084 L58.1495 975.149 Z\" fill=\"#000000\" fill-rule=\"evenodd\" fill-opacity=\"1\" /><path clip-path=\"url(#clip460)\" d=\"M97.5012 947.602 Q93.8901 947.602 92.0614 951.167 Q90.2558 954.709 90.2558 961.838 Q90.2558 968.945 92.0614 972.51 Q93.8901 976.051 97.5012 976.051 Q101.135 976.051 102.941 972.51 Q104.77 968.945 104.77 961.838 Q104.77 954.709 102.941 951.167 Q101.135 947.602 97.5012 947.602 M97.5012 943.899 Q103.311 943.899 106.367 948.505 Q109.446 953.089 109.446 961.838 Q109.446 970.565 106.367 975.172 Q103.311 979.755 97.5012 979.755 Q91.691 979.755 88.6123 975.172 Q85.5568 970.565 85.5568 961.838 Q85.5568 953.089 88.6123 948.505 Q91.691 943.899 97.5012 943.899 Z\" fill=\"#000000\" fill-rule=\"evenodd\" fill-opacity=\"1\" /><path clip-path=\"url(#clip460)\" d=\"M59.3764 814.213 L67.0152 814.213 L67.0152 787.847 L58.7051 789.514 L58.7051 785.254 L66.9689 783.588 L71.6448 783.588 L71.6448 814.213 L79.2837 814.213 L79.2837 818.148 L59.3764 818.148 L59.3764 814.213 Z\" fill=\"#000000\" fill-rule=\"evenodd\" fill-opacity=\"1\" /><path clip-path=\"url(#clip460)\" d=\"M89.5382 814.213 L97.1771 814.213 L97.1771 787.847 L88.867 789.514 L88.867 785.254 L97.1308 783.588 L101.807 783.588 L101.807 814.213 L109.446 814.213 L109.446 818.148 L89.5382 818.148 L89.5382 814.213 Z\" fill=\"#000000\" fill-rule=\"evenodd\" fill-opacity=\"1\" /><path clip-path=\"url(#clip460)\" d=\"M59.7467 653.277 L67.3856 653.277 L67.3856 626.911 L59.0754 628.578 L59.0754 624.318 L67.3393 622.652 L72.0152 622.652 L72.0152 653.277 L79.654 653.277 L79.654 657.212 L59.7467 657.212 L59.7467 653.277 Z\" fill=\"#000000\" fill-rule=\"evenodd\" fill-opacity=\"1\" /><path clip-path=\"url(#clip460)\" d=\"M93.1262 653.277 L109.446 653.277 L109.446 657.212 L87.5012 657.212 L87.5012 653.277 Q90.1632 650.522 94.7466 645.892 Q99.353 641.24 100.534 639.897 Q102.779 637.374 103.659 635.638 Q104.561 633.879 104.561 632.189 Q104.561 629.434 102.617 627.698 Q100.696 625.962 97.5938 625.962 Q95.3947 625.962 92.941 626.726 Q90.5105 627.49 87.7327 629.041 L87.7327 624.318 Q90.5568 623.184 93.0105 622.605 Q95.4641 622.027 97.5012 622.027 Q102.872 622.027 106.066 624.712 Q109.26 627.397 109.26 631.888 Q109.26 634.017 108.45 635.939 Q107.663 637.837 105.557 640.429 Q104.978 641.101 101.876 644.318 Q98.7743 647.513 93.1262 653.277 Z\" fill=\"#000000\" fill-rule=\"evenodd\" fill-opacity=\"1\" /><path clip-path=\"url(#clip460)\" d=\"M58.7977 492.341 L66.4365 492.341 L66.4365 465.975 L58.1264 467.642 L58.1264 463.382 L66.3902 461.716 L71.0661 461.716 L71.0661 492.341 L78.705 492.341 L78.705 496.276 L58.7977 496.276 L58.7977 492.341 Z\" fill=\"#000000\" fill-rule=\"evenodd\" fill-opacity=\"1\" /><path clip-path=\"url(#clip460)\" d=\"M102.316 477.642 Q105.672 478.359 107.547 480.628 Q109.446 482.896 109.446 486.229 Q109.446 491.345 105.927 494.146 Q102.409 496.947 95.9271 496.947 Q93.7512 496.947 91.4364 496.507 Q89.1447 496.091 86.691 495.234 L86.691 490.72 Q88.6355 491.854 90.9503 492.433 Q93.2651 493.012 95.7882 493.012 Q100.186 493.012 102.478 491.276 Q104.793 489.54 104.793 486.229 Q104.793 483.174 102.64 481.461 Q100.51 479.725 96.691 479.725 L92.6632 479.725 L92.6632 475.882 L96.8762 475.882 Q100.325 475.882 102.154 474.517 Q103.983 473.128 103.983 470.535 Q103.983 467.873 102.084 466.461 Q100.209 465.026 96.691 465.026 Q94.7697 465.026 92.5706 465.443 Q90.3716 465.859 87.7327 466.739 L87.7327 462.572 Q90.3947 461.831 92.7095 461.461 Q95.0475 461.091 97.1077 461.091 Q102.432 461.091 105.534 463.521 Q108.635 465.929 108.635 470.049 Q108.635 472.919 106.992 474.91 Q105.348 476.878 102.316 477.642 Z\" fill=\"#000000\" fill-rule=\"evenodd\" fill-opacity=\"1\" /><path clip-path=\"url(#clip460)\" d=\"M57.6634 331.405 L65.3023 331.405 L65.3023 305.039 L56.9921 306.706 L56.9921 302.446 L65.256 300.78 L69.9319 300.78 L69.9319 331.405 L77.5707 331.405 L77.5707 335.34 L57.6634 335.34 L57.6634 331.405 Z\" fill=\"#000000\" fill-rule=\"evenodd\" fill-opacity=\"1\" /><path clip-path=\"url(#clip460)\" d=\"M99.8623 304.854 L88.0568 323.303 L99.8623 323.303 L99.8623 304.854 M98.6354 300.78 L104.515 300.78 L104.515 323.303 L109.446 323.303 L109.446 327.192 L104.515 327.192 L104.515 335.34 L99.8623 335.34 L99.8623 327.192 L84.2605 327.192 L84.2605 322.678 L98.6354 300.78 Z\" fill=\"#000000\" fill-rule=\"evenodd\" fill-opacity=\"1\" /><path clip-path=\"url(#clip460)\" d=\"M59.1449 170.469 L66.7837 170.469 L66.7837 144.103 L58.4736 145.77 L58.4736 141.51 L66.7374 139.844 L71.4133 139.844 L71.4133 170.469 L79.0522 170.469 L79.0522 174.404 L59.1449 174.404 L59.1449 170.469 Z\" fill=\"#000000\" fill-rule=\"evenodd\" fill-opacity=\"1\" /><path clip-path=\"url(#clip460)\" d=\"M88.5429 139.844 L106.899 139.844 L106.899 143.779 L92.8253 143.779 L92.8253 152.251 Q93.8438 151.904 94.8623 151.742 Q95.8808 151.557 96.8993 151.557 Q102.686 151.557 106.066 154.728 Q109.446 157.899 109.446 163.316 Q109.446 168.895 105.973 171.996 Q102.501 175.075 96.1817 175.075 Q94.0058 175.075 91.7373 174.705 Q89.492 174.334 87.0846 173.594 L87.0846 168.895 Q89.1679 170.029 91.3901 170.584 Q93.6123 171.14 96.0891 171.14 Q100.094 171.14 102.432 169.033 Q104.77 166.927 104.77 163.316 Q104.77 159.705 102.432 157.598 Q100.094 155.492 96.0891 155.492 Q94.2141 155.492 92.3392 155.908 Q90.4873 156.325 88.5429 157.205 L88.5429 139.844 Z\" fill=\"#000000\" fill-rule=\"evenodd\" fill-opacity=\"1\" /><circle clip-path=\"url(#clip462)\" cx=\"888.599\" cy=\"198.466\" r=\"14.4\" fill=\"#009af9\" fill-rule=\"evenodd\" fill-opacity=\"1\" stroke=\"#000000\" stroke-opacity=\"1\" stroke-width=\"2.4\"/>\n",
       "<circle clip-path=\"url(#clip462)\" cx=\"882.154\" cy=\"211.402\" r=\"14.4\" fill=\"#009af9\" fill-rule=\"evenodd\" fill-opacity=\"1\" stroke=\"#000000\" stroke-opacity=\"1\" stroke-width=\"2.4\"/>\n",
       "<circle clip-path=\"url(#clip462)\" cx=\"879.248\" cy=\"244.32\" r=\"14.4\" fill=\"#009af9\" fill-rule=\"evenodd\" fill-opacity=\"1\" stroke=\"#000000\" stroke-opacity=\"1\" stroke-width=\"2.4\"/>\n",
       "<circle clip-path=\"url(#clip462)\" cx=\"886.399\" cy=\"210.104\" r=\"14.4\" fill=\"#009af9\" fill-rule=\"evenodd\" fill-opacity=\"1\" stroke=\"#000000\" stroke-opacity=\"1\" stroke-width=\"2.4\"/>\n",
       "<circle clip-path=\"url(#clip462)\" cx=\"906.968\" cy=\"242.285\" r=\"14.4\" fill=\"#009af9\" fill-rule=\"evenodd\" fill-opacity=\"1\" stroke=\"#000000\" stroke-opacity=\"1\" stroke-width=\"2.4\"/>\n",
       "<circle clip-path=\"url(#clip462)\" cx=\"923.996\" cy=\"230.094\" r=\"14.4\" fill=\"#009af9\" fill-rule=\"evenodd\" fill-opacity=\"1\" stroke=\"#000000\" stroke-opacity=\"1\" stroke-width=\"2.4\"/>\n",
       "<circle clip-path=\"url(#clip462)\" cx=\"916.671\" cy=\"225.602\" r=\"14.4\" fill=\"#009af9\" fill-rule=\"evenodd\" fill-opacity=\"1\" stroke=\"#000000\" stroke-opacity=\"1\" stroke-width=\"2.4\"/>\n",
       "<circle clip-path=\"url(#clip462)\" cx=\"888.476\" cy=\"220.404\" r=\"14.4\" fill=\"#009af9\" fill-rule=\"evenodd\" fill-opacity=\"1\" stroke=\"#000000\" stroke-opacity=\"1\" stroke-width=\"2.4\"/>\n",
       "<circle clip-path=\"url(#clip462)\" cx=\"879.655\" cy=\"193.657\" r=\"14.4\" fill=\"#009af9\" fill-rule=\"evenodd\" fill-opacity=\"1\" stroke=\"#000000\" stroke-opacity=\"1\" stroke-width=\"2.4\"/>\n",
       "<circle clip-path=\"url(#clip462)\" cx=\"871.093\" cy=\"191.738\" r=\"14.4\" fill=\"#009af9\" fill-rule=\"evenodd\" fill-opacity=\"1\" stroke=\"#000000\" stroke-opacity=\"1\" stroke-width=\"2.4\"/>\n",
       "<circle clip-path=\"url(#clip462)\" cx=\"880.186\" cy=\"218.114\" r=\"14.4\" fill=\"#009af9\" fill-rule=\"evenodd\" fill-opacity=\"1\" stroke=\"#000000\" stroke-opacity=\"1\" stroke-width=\"2.4\"/>\n",
       "<circle clip-path=\"url(#clip462)\" cx=\"881.032\" cy=\"180.19\" r=\"14.4\" fill=\"#009af9\" fill-rule=\"evenodd\" fill-opacity=\"1\" stroke=\"#000000\" stroke-opacity=\"1\" stroke-width=\"2.4\"/>\n",
       "<circle clip-path=\"url(#clip462)\" cx=\"897.942\" cy=\"168.751\" r=\"14.4\" fill=\"#009af9\" fill-rule=\"evenodd\" fill-opacity=\"1\" stroke=\"#000000\" stroke-opacity=\"1\" stroke-width=\"2.4\"/>\n",
       "<circle clip-path=\"url(#clip462)\" cx=\"853.069\" cy=\"172.472\" r=\"14.4\" fill=\"#009af9\" fill-rule=\"evenodd\" fill-opacity=\"1\" stroke=\"#000000\" stroke-opacity=\"1\" stroke-width=\"2.4\"/>\n",
       "<circle clip-path=\"url(#clip462)\" cx=\"908.741\" cy=\"167.204\" r=\"14.4\" fill=\"#009af9\" fill-rule=\"evenodd\" fill-opacity=\"1\" stroke=\"#000000\" stroke-opacity=\"1\" stroke-width=\"2.4\"/>\n",
       "<circle clip-path=\"url(#clip462)\" cx=\"912.472\" cy=\"157.365\" r=\"14.4\" fill=\"#009af9\" fill-rule=\"evenodd\" fill-opacity=\"1\" stroke=\"#000000\" stroke-opacity=\"1\" stroke-width=\"2.4\"/>\n",
       "<circle clip-path=\"url(#clip462)\" cx=\"884.306\" cy=\"196.695\" r=\"14.4\" fill=\"#009af9\" fill-rule=\"evenodd\" fill-opacity=\"1\" stroke=\"#000000\" stroke-opacity=\"1\" stroke-width=\"2.4\"/>\n",
       "<circle clip-path=\"url(#clip462)\" cx=\"923.995\" cy=\"151.843\" r=\"14.4\" fill=\"#009af9\" fill-rule=\"evenodd\" fill-opacity=\"1\" stroke=\"#000000\" stroke-opacity=\"1\" stroke-width=\"2.4\"/>\n",
       "<circle clip-path=\"url(#clip462)\" cx=\"894.162\" cy=\"159.84\" r=\"14.4\" fill=\"#009af9\" fill-rule=\"evenodd\" fill-opacity=\"1\" stroke=\"#000000\" stroke-opacity=\"1\" stroke-width=\"2.4\"/>\n",
       "<circle clip-path=\"url(#clip462)\" cx=\"874.468\" cy=\"168.621\" r=\"14.4\" fill=\"#009af9\" fill-rule=\"evenodd\" fill-opacity=\"1\" stroke=\"#000000\" stroke-opacity=\"1\" stroke-width=\"2.4\"/>\n",
       "<circle clip-path=\"url(#clip462)\" cx=\"880.686\" cy=\"186.701\" r=\"14.4\" fill=\"#009af9\" fill-rule=\"evenodd\" fill-opacity=\"1\" stroke=\"#000000\" stroke-opacity=\"1\" stroke-width=\"2.4\"/>\n",
       "<circle clip-path=\"url(#clip462)\" cx=\"891.114\" cy=\"136.291\" r=\"14.4\" fill=\"#009af9\" fill-rule=\"evenodd\" fill-opacity=\"1\" stroke=\"#000000\" stroke-opacity=\"1\" stroke-width=\"2.4\"/>\n",
       "<circle clip-path=\"url(#clip462)\" cx=\"912.47\" cy=\"186.302\" r=\"14.4\" fill=\"#009af9\" fill-rule=\"evenodd\" fill-opacity=\"1\" stroke=\"#000000\" stroke-opacity=\"1\" stroke-width=\"2.4\"/>\n",
       "<circle clip-path=\"url(#clip462)\" cx=\"882.52\" cy=\"135.421\" r=\"14.4\" fill=\"#009af9\" fill-rule=\"evenodd\" fill-opacity=\"1\" stroke=\"#000000\" stroke-opacity=\"1\" stroke-width=\"2.4\"/>\n",
       "<circle clip-path=\"url(#clip462)\" cx=\"905.267\" cy=\"130.918\" r=\"14.4\" fill=\"#009af9\" fill-rule=\"evenodd\" fill-opacity=\"1\" stroke=\"#000000\" stroke-opacity=\"1\" stroke-width=\"2.4\"/>\n",
       "<circle clip-path=\"url(#clip462)\" cx=\"895.634\" cy=\"125.54\" r=\"14.4\" fill=\"#009af9\" fill-rule=\"evenodd\" fill-opacity=\"1\" stroke=\"#000000\" stroke-opacity=\"1\" stroke-width=\"2.4\"/>\n",
       "<circle clip-path=\"url(#clip462)\" cx=\"876.139\" cy=\"84.2377\" r=\"14.4\" fill=\"#009af9\" fill-rule=\"evenodd\" fill-opacity=\"1\" stroke=\"#000000\" stroke-opacity=\"1\" stroke-width=\"2.4\"/>\n",
       "<circle clip-path=\"url(#clip462)\" cx=\"898.645\" cy=\"125.266\" r=\"14.4\" fill=\"#009af9\" fill-rule=\"evenodd\" fill-opacity=\"1\" stroke=\"#000000\" stroke-opacity=\"1\" stroke-width=\"2.4\"/>\n",
       "<circle clip-path=\"url(#clip462)\" cx=\"904.128\" cy=\"114.342\" r=\"14.4\" fill=\"#009af9\" fill-rule=\"evenodd\" fill-opacity=\"1\" stroke=\"#000000\" stroke-opacity=\"1\" stroke-width=\"2.4\"/>\n",
       "<circle clip-path=\"url(#clip462)\" cx=\"863.945\" cy=\"94.8685\" r=\"14.4\" fill=\"#009af9\" fill-rule=\"evenodd\" fill-opacity=\"1\" stroke=\"#000000\" stroke-opacity=\"1\" stroke-width=\"2.4\"/>\n",
       "<circle clip-path=\"url(#clip462)\" cx=\"897.29\" cy=\"110.946\" r=\"14.4\" fill=\"#009af9\" fill-rule=\"evenodd\" fill-opacity=\"1\" stroke=\"#000000\" stroke-opacity=\"1\" stroke-width=\"2.4\"/>\n",
       "<circle clip-path=\"url(#clip462)\" cx=\"915.13\" cy=\"122.287\" r=\"14.4\" fill=\"#009af9\" fill-rule=\"evenodd\" fill-opacity=\"1\" stroke=\"#000000\" stroke-opacity=\"1\" stroke-width=\"2.4\"/>\n",
       "<circle clip-path=\"url(#clip462)\" cx=\"883.346\" cy=\"142.623\" r=\"14.4\" fill=\"#009af9\" fill-rule=\"evenodd\" fill-opacity=\"1\" stroke=\"#000000\" stroke-opacity=\"1\" stroke-width=\"2.4\"/>\n",
       "<circle clip-path=\"url(#clip462)\" cx=\"870.343\" cy=\"114.756\" r=\"14.4\" fill=\"#009af9\" fill-rule=\"evenodd\" fill-opacity=\"1\" stroke=\"#000000\" stroke-opacity=\"1\" stroke-width=\"2.4\"/>\n",
       "<circle clip-path=\"url(#clip462)\" cx=\"894.709\" cy=\"104.557\" r=\"14.4\" fill=\"#009af9\" fill-rule=\"evenodd\" fill-opacity=\"1\" stroke=\"#000000\" stroke-opacity=\"1\" stroke-width=\"2.4\"/>\n",
       "<circle clip-path=\"url(#clip462)\" cx=\"823.199\" cy=\"112.209\" r=\"14.4\" fill=\"#009af9\" fill-rule=\"evenodd\" fill-opacity=\"1\" stroke=\"#000000\" stroke-opacity=\"1\" stroke-width=\"2.4\"/>\n",
       "<circle clip-path=\"url(#clip462)\" cx=\"845.57\" cy=\"117.655\" r=\"14.4\" fill=\"#009af9\" fill-rule=\"evenodd\" fill-opacity=\"1\" stroke=\"#000000\" stroke-opacity=\"1\" stroke-width=\"2.4\"/>\n",
       "<circle clip-path=\"url(#clip462)\" cx=\"890.218\" cy=\"106.477\" r=\"14.4\" fill=\"#009af9\" fill-rule=\"evenodd\" fill-opacity=\"1\" stroke=\"#000000\" stroke-opacity=\"1\" stroke-width=\"2.4\"/>\n",
       "<circle clip-path=\"url(#clip462)\" cx=\"896.562\" cy=\"136.922\" r=\"14.4\" fill=\"#009af9\" fill-rule=\"evenodd\" fill-opacity=\"1\" stroke=\"#000000\" stroke-opacity=\"1\" stroke-width=\"2.4\"/>\n",
       "<circle clip-path=\"url(#clip462)\" cx=\"833.418\" cy=\"120.611\" r=\"14.4\" fill=\"#009af9\" fill-rule=\"evenodd\" fill-opacity=\"1\" stroke=\"#000000\" stroke-opacity=\"1\" stroke-width=\"2.4\"/>\n",
       "<circle clip-path=\"url(#clip462)\" cx=\"870.267\" cy=\"108.314\" r=\"14.4\" fill=\"#009af9\" fill-rule=\"evenodd\" fill-opacity=\"1\" stroke=\"#000000\" stroke-opacity=\"1\" stroke-width=\"2.4\"/>\n",
       "<circle clip-path=\"url(#clip462)\" cx=\"839.908\" cy=\"135.754\" r=\"14.4\" fill=\"#009af9\" fill-rule=\"evenodd\" fill-opacity=\"1\" stroke=\"#000000\" stroke-opacity=\"1\" stroke-width=\"2.4\"/>\n",
       "<circle clip-path=\"url(#clip462)\" cx=\"880.669\" cy=\"115.257\" r=\"14.4\" fill=\"#009af9\" fill-rule=\"evenodd\" fill-opacity=\"1\" stroke=\"#000000\" stroke-opacity=\"1\" stroke-width=\"2.4\"/>\n",
       "<circle clip-path=\"url(#clip462)\" cx=\"872.295\" cy=\"115.589\" r=\"14.4\" fill=\"#009af9\" fill-rule=\"evenodd\" fill-opacity=\"1\" stroke=\"#000000\" stroke-opacity=\"1\" stroke-width=\"2.4\"/>\n",
       "<circle clip-path=\"url(#clip462)\" cx=\"802.743\" cy=\"100.035\" r=\"14.4\" fill=\"#009af9\" fill-rule=\"evenodd\" fill-opacity=\"1\" stroke=\"#000000\" stroke-opacity=\"1\" stroke-width=\"2.4\"/>\n",
       "<circle clip-path=\"url(#clip462)\" cx=\"834.651\" cy=\"111.625\" r=\"14.4\" fill=\"#009af9\" fill-rule=\"evenodd\" fill-opacity=\"1\" stroke=\"#000000\" stroke-opacity=\"1\" stroke-width=\"2.4\"/>\n",
       "<circle clip-path=\"url(#clip462)\" cx=\"806.607\" cy=\"113.203\" r=\"14.4\" fill=\"#009af9\" fill-rule=\"evenodd\" fill-opacity=\"1\" stroke=\"#000000\" stroke-opacity=\"1\" stroke-width=\"2.4\"/>\n",
       "<circle clip-path=\"url(#clip462)\" cx=\"834.487\" cy=\"132.622\" r=\"14.4\" fill=\"#009af9\" fill-rule=\"evenodd\" fill-opacity=\"1\" stroke=\"#000000\" stroke-opacity=\"1\" stroke-width=\"2.4\"/>\n",
       "<circle clip-path=\"url(#clip462)\" cx=\"814.749\" cy=\"133.919\" r=\"14.4\" fill=\"#009af9\" fill-rule=\"evenodd\" fill-opacity=\"1\" stroke=\"#000000\" stroke-opacity=\"1\" stroke-width=\"2.4\"/>\n",
       "<circle clip-path=\"url(#clip462)\" cx=\"796.017\" cy=\"128.738\" r=\"14.4\" fill=\"#009af9\" fill-rule=\"evenodd\" fill-opacity=\"1\" stroke=\"#000000\" stroke-opacity=\"1\" stroke-width=\"2.4\"/>\n",
       "<circle clip-path=\"url(#clip462)\" cx=\"804.192\" cy=\"133.546\" r=\"14.4\" fill=\"#009af9\" fill-rule=\"evenodd\" fill-opacity=\"1\" stroke=\"#000000\" stroke-opacity=\"1\" stroke-width=\"2.4\"/>\n",
       "<circle clip-path=\"url(#clip462)\" cx=\"789.602\" cy=\"146.157\" r=\"14.4\" fill=\"#009af9\" fill-rule=\"evenodd\" fill-opacity=\"1\" stroke=\"#000000\" stroke-opacity=\"1\" stroke-width=\"2.4\"/>\n",
       "<circle clip-path=\"url(#clip462)\" cx=\"817.971\" cy=\"76.2797\" r=\"14.4\" fill=\"#009af9\" fill-rule=\"evenodd\" fill-opacity=\"1\" stroke=\"#000000\" stroke-opacity=\"1\" stroke-width=\"2.4\"/>\n",
       "<circle clip-path=\"url(#clip462)\" cx=\"830.846\" cy=\"108.164\" r=\"14.4\" fill=\"#009af9\" fill-rule=\"evenodd\" fill-opacity=\"1\" stroke=\"#000000\" stroke-opacity=\"1\" stroke-width=\"2.4\"/>\n",
       "<circle clip-path=\"url(#clip462)\" cx=\"833.285\" cy=\"121.671\" r=\"14.4\" fill=\"#009af9\" fill-rule=\"evenodd\" fill-opacity=\"1\" stroke=\"#000000\" stroke-opacity=\"1\" stroke-width=\"2.4\"/>\n",
       "<circle clip-path=\"url(#clip462)\" cx=\"790.895\" cy=\"84.9334\" r=\"14.4\" fill=\"#009af9\" fill-rule=\"evenodd\" fill-opacity=\"1\" stroke=\"#000000\" stroke-opacity=\"1\" stroke-width=\"2.4\"/>\n",
       "<circle clip-path=\"url(#clip462)\" cx=\"795.509\" cy=\"99.9103\" r=\"14.4\" fill=\"#009af9\" fill-rule=\"evenodd\" fill-opacity=\"1\" stroke=\"#000000\" stroke-opacity=\"1\" stroke-width=\"2.4\"/>\n",
       "<circle clip-path=\"url(#clip462)\" cx=\"802.245\" cy=\"103.444\" r=\"14.4\" fill=\"#009af9\" fill-rule=\"evenodd\" fill-opacity=\"1\" stroke=\"#000000\" stroke-opacity=\"1\" stroke-width=\"2.4\"/>\n",
       "<circle clip-path=\"url(#clip462)\" cx=\"749.643\" cy=\"102.95\" r=\"14.4\" fill=\"#009af9\" fill-rule=\"evenodd\" fill-opacity=\"1\" stroke=\"#000000\" stroke-opacity=\"1\" stroke-width=\"2.4\"/>\n",
       "<circle clip-path=\"url(#clip462)\" cx=\"792.86\" cy=\"110.449\" r=\"14.4\" fill=\"#009af9\" fill-rule=\"evenodd\" fill-opacity=\"1\" stroke=\"#000000\" stroke-opacity=\"1\" stroke-width=\"2.4\"/>\n",
       "<circle clip-path=\"url(#clip462)\" cx=\"769.609\" cy=\"137.041\" r=\"14.4\" fill=\"#009af9\" fill-rule=\"evenodd\" fill-opacity=\"1\" stroke=\"#000000\" stroke-opacity=\"1\" stroke-width=\"2.4\"/>\n",
       "<circle clip-path=\"url(#clip462)\" cx=\"761.594\" cy=\"108.204\" r=\"14.4\" fill=\"#009af9\" fill-rule=\"evenodd\" fill-opacity=\"1\" stroke=\"#000000\" stroke-opacity=\"1\" stroke-width=\"2.4\"/>\n",
       "<circle clip-path=\"url(#clip462)\" cx=\"765.678\" cy=\"107.652\" r=\"14.4\" fill=\"#009af9\" fill-rule=\"evenodd\" fill-opacity=\"1\" stroke=\"#000000\" stroke-opacity=\"1\" stroke-width=\"2.4\"/>\n",
       "<circle clip-path=\"url(#clip462)\" cx=\"804.401\" cy=\"144.027\" r=\"14.4\" fill=\"#009af9\" fill-rule=\"evenodd\" fill-opacity=\"1\" stroke=\"#000000\" stroke-opacity=\"1\" stroke-width=\"2.4\"/>\n",
       "<circle clip-path=\"url(#clip462)\" cx=\"784.35\" cy=\"132.242\" r=\"14.4\" fill=\"#009af9\" fill-rule=\"evenodd\" fill-opacity=\"1\" stroke=\"#000000\" stroke-opacity=\"1\" stroke-width=\"2.4\"/>\n",
       "<circle clip-path=\"url(#clip462)\" cx=\"741.209\" cy=\"127.509\" r=\"14.4\" fill=\"#009af9\" fill-rule=\"evenodd\" fill-opacity=\"1\" stroke=\"#000000\" stroke-opacity=\"1\" stroke-width=\"2.4\"/>\n",
       "<circle clip-path=\"url(#clip462)\" cx=\"754.065\" cy=\"101.753\" r=\"14.4\" fill=\"#009af9\" fill-rule=\"evenodd\" fill-opacity=\"1\" stroke=\"#000000\" stroke-opacity=\"1\" stroke-width=\"2.4\"/>\n",
       "<circle clip-path=\"url(#clip462)\" cx=\"804.729\" cy=\"89.2351\" r=\"14.4\" fill=\"#009af9\" fill-rule=\"evenodd\" fill-opacity=\"1\" stroke=\"#000000\" stroke-opacity=\"1\" stroke-width=\"2.4\"/>\n",
       "<circle clip-path=\"url(#clip462)\" cx=\"745.767\" cy=\"104.665\" r=\"14.4\" fill=\"#009af9\" fill-rule=\"evenodd\" fill-opacity=\"1\" stroke=\"#000000\" stroke-opacity=\"1\" stroke-width=\"2.4\"/>\n",
       "<circle clip-path=\"url(#clip462)\" cx=\"731.152\" cy=\"113.647\" r=\"14.4\" fill=\"#009af9\" fill-rule=\"evenodd\" fill-opacity=\"1\" stroke=\"#000000\" stroke-opacity=\"1\" stroke-width=\"2.4\"/>\n",
       "<circle clip-path=\"url(#clip462)\" cx=\"769.298\" cy=\"117.115\" r=\"14.4\" fill=\"#009af9\" fill-rule=\"evenodd\" fill-opacity=\"1\" stroke=\"#000000\" stroke-opacity=\"1\" stroke-width=\"2.4\"/>\n",
       "<circle clip-path=\"url(#clip462)\" cx=\"741.916\" cy=\"125.255\" r=\"14.4\" fill=\"#009af9\" fill-rule=\"evenodd\" fill-opacity=\"1\" stroke=\"#000000\" stroke-opacity=\"1\" stroke-width=\"2.4\"/>\n",
       "<circle clip-path=\"url(#clip462)\" cx=\"740.185\" cy=\"88.9442\" r=\"14.4\" fill=\"#009af9\" fill-rule=\"evenodd\" fill-opacity=\"1\" stroke=\"#000000\" stroke-opacity=\"1\" stroke-width=\"2.4\"/>\n",
       "<circle clip-path=\"url(#clip462)\" cx=\"746.288\" cy=\"108.396\" r=\"14.4\" fill=\"#009af9\" fill-rule=\"evenodd\" fill-opacity=\"1\" stroke=\"#000000\" stroke-opacity=\"1\" stroke-width=\"2.4\"/>\n",
       "<circle clip-path=\"url(#clip462)\" cx=\"757.723\" cy=\"100.548\" r=\"14.4\" fill=\"#009af9\" fill-rule=\"evenodd\" fill-opacity=\"1\" stroke=\"#000000\" stroke-opacity=\"1\" stroke-width=\"2.4\"/>\n",
       "<circle clip-path=\"url(#clip462)\" cx=\"727.614\" cy=\"152.328\" r=\"14.4\" fill=\"#009af9\" fill-rule=\"evenodd\" fill-opacity=\"1\" stroke=\"#000000\" stroke-opacity=\"1\" stroke-width=\"2.4\"/>\n",
       "<circle clip-path=\"url(#clip462)\" cx=\"768.351\" cy=\"127.952\" r=\"14.4\" fill=\"#009af9\" fill-rule=\"evenodd\" fill-opacity=\"1\" stroke=\"#000000\" stroke-opacity=\"1\" stroke-width=\"2.4\"/>\n",
       "<circle clip-path=\"url(#clip462)\" cx=\"701.851\" cy=\"115.207\" r=\"14.4\" fill=\"#009af9\" fill-rule=\"evenodd\" fill-opacity=\"1\" stroke=\"#000000\" stroke-opacity=\"1\" stroke-width=\"2.4\"/>\n",
       "<circle clip-path=\"url(#clip462)\" cx=\"749.363\" cy=\"141.807\" r=\"14.4\" fill=\"#009af9\" fill-rule=\"evenodd\" fill-opacity=\"1\" stroke=\"#000000\" stroke-opacity=\"1\" stroke-width=\"2.4\"/>\n",
       "<circle clip-path=\"url(#clip462)\" cx=\"762.233\" cy=\"103.448\" r=\"14.4\" fill=\"#009af9\" fill-rule=\"evenodd\" fill-opacity=\"1\" stroke=\"#000000\" stroke-opacity=\"1\" stroke-width=\"2.4\"/>\n",
       "<circle clip-path=\"url(#clip462)\" cx=\"751.989\" cy=\"122.164\" r=\"14.4\" fill=\"#009af9\" fill-rule=\"evenodd\" fill-opacity=\"1\" stroke=\"#000000\" stroke-opacity=\"1\" stroke-width=\"2.4\"/>\n",
       "<circle clip-path=\"url(#clip462)\" cx=\"694.668\" cy=\"102.377\" r=\"14.4\" fill=\"#009af9\" fill-rule=\"evenodd\" fill-opacity=\"1\" stroke=\"#000000\" stroke-opacity=\"1\" stroke-width=\"2.4\"/>\n",
       "<circle clip-path=\"url(#clip462)\" cx=\"711.523\" cy=\"114.904\" r=\"14.4\" fill=\"#009af9\" fill-rule=\"evenodd\" fill-opacity=\"1\" stroke=\"#000000\" stroke-opacity=\"1\" stroke-width=\"2.4\"/>\n",
       "<circle clip-path=\"url(#clip462)\" cx=\"733.2\" cy=\"102.338\" r=\"14.4\" fill=\"#009af9\" fill-rule=\"evenodd\" fill-opacity=\"1\" stroke=\"#000000\" stroke-opacity=\"1\" stroke-width=\"2.4\"/>\n",
       "<circle clip-path=\"url(#clip462)\" cx=\"702.671\" cy=\"121.483\" r=\"14.4\" fill=\"#009af9\" fill-rule=\"evenodd\" fill-opacity=\"1\" stroke=\"#000000\" stroke-opacity=\"1\" stroke-width=\"2.4\"/>\n",
       "<circle clip-path=\"url(#clip462)\" cx=\"668.623\" cy=\"82.2579\" r=\"14.4\" fill=\"#009af9\" fill-rule=\"evenodd\" fill-opacity=\"1\" stroke=\"#000000\" stroke-opacity=\"1\" stroke-width=\"2.4\"/>\n",
       "<circle clip-path=\"url(#clip462)\" cx=\"671.649\" cy=\"116.757\" r=\"14.4\" fill=\"#009af9\" fill-rule=\"evenodd\" fill-opacity=\"1\" stroke=\"#000000\" stroke-opacity=\"1\" stroke-width=\"2.4\"/>\n",
       "<circle clip-path=\"url(#clip462)\" cx=\"705.284\" cy=\"106.482\" r=\"14.4\" fill=\"#009af9\" fill-rule=\"evenodd\" fill-opacity=\"1\" stroke=\"#000000\" stroke-opacity=\"1\" stroke-width=\"2.4\"/>\n",
       "<circle clip-path=\"url(#clip462)\" cx=\"726.037\" cy=\"131.321\" r=\"14.4\" fill=\"#009af9\" fill-rule=\"evenodd\" fill-opacity=\"1\" stroke=\"#000000\" stroke-opacity=\"1\" stroke-width=\"2.4\"/>\n",
       "<circle clip-path=\"url(#clip462)\" cx=\"670.025\" cy=\"120.758\" r=\"14.4\" fill=\"#009af9\" fill-rule=\"evenodd\" fill-opacity=\"1\" stroke=\"#000000\" stroke-opacity=\"1\" stroke-width=\"2.4\"/>\n",
       "<circle clip-path=\"url(#clip462)\" cx=\"690.134\" cy=\"111.82\" r=\"14.4\" fill=\"#009af9\" fill-rule=\"evenodd\" fill-opacity=\"1\" stroke=\"#000000\" stroke-opacity=\"1\" stroke-width=\"2.4\"/>\n",
       "<circle clip-path=\"url(#clip462)\" cx=\"717.957\" cy=\"90.9344\" r=\"14.4\" fill=\"#009af9\" fill-rule=\"evenodd\" fill-opacity=\"1\" stroke=\"#000000\" stroke-opacity=\"1\" stroke-width=\"2.4\"/>\n",
       "<circle clip-path=\"url(#clip462)\" cx=\"685.238\" cy=\"77.4856\" r=\"14.4\" fill=\"#009af9\" fill-rule=\"evenodd\" fill-opacity=\"1\" stroke=\"#000000\" stroke-opacity=\"1\" stroke-width=\"2.4\"/>\n",
       "<circle clip-path=\"url(#clip462)\" cx=\"668.912\" cy=\"109.652\" r=\"14.4\" fill=\"#009af9\" fill-rule=\"evenodd\" fill-opacity=\"1\" stroke=\"#000000\" stroke-opacity=\"1\" stroke-width=\"2.4\"/>\n",
       "<circle clip-path=\"url(#clip462)\" cx=\"664.484\" cy=\"131.872\" r=\"14.4\" fill=\"#009af9\" fill-rule=\"evenodd\" fill-opacity=\"1\" stroke=\"#000000\" stroke-opacity=\"1\" stroke-width=\"2.4\"/>\n",
       "<circle clip-path=\"url(#clip462)\" cx=\"657.67\" cy=\"123.365\" r=\"14.4\" fill=\"#009af9\" fill-rule=\"evenodd\" fill-opacity=\"1\" stroke=\"#000000\" stroke-opacity=\"1\" stroke-width=\"2.4\"/>\n",
       "<circle clip-path=\"url(#clip462)\" cx=\"698.053\" cy=\"89.031\" r=\"14.4\" fill=\"#009af9\" fill-rule=\"evenodd\" fill-opacity=\"1\" stroke=\"#000000\" stroke-opacity=\"1\" stroke-width=\"2.4\"/>\n",
       "<circle clip-path=\"url(#clip462)\" cx=\"658.208\" cy=\"110.371\" r=\"14.4\" fill=\"#009af9\" fill-rule=\"evenodd\" fill-opacity=\"1\" stroke=\"#000000\" stroke-opacity=\"1\" stroke-width=\"2.4\"/>\n",
       "<circle clip-path=\"url(#clip462)\" cx=\"695.164\" cy=\"121.168\" r=\"14.4\" fill=\"#009af9\" fill-rule=\"evenodd\" fill-opacity=\"1\" stroke=\"#000000\" stroke-opacity=\"1\" stroke-width=\"2.4\"/>\n",
       "<circle clip-path=\"url(#clip462)\" cx=\"673.323\" cy=\"94.5881\" r=\"14.4\" fill=\"#009af9\" fill-rule=\"evenodd\" fill-opacity=\"1\" stroke=\"#000000\" stroke-opacity=\"1\" stroke-width=\"2.4\"/>\n",
       "<circle clip-path=\"url(#clip462)\" cx=\"640.868\" cy=\"115.239\" r=\"14.4\" fill=\"#009af9\" fill-rule=\"evenodd\" fill-opacity=\"1\" stroke=\"#000000\" stroke-opacity=\"1\" stroke-width=\"2.4\"/>\n",
       "<circle clip-path=\"url(#clip462)\" cx=\"661.271\" cy=\"139.416\" r=\"14.4\" fill=\"#009af9\" fill-rule=\"evenodd\" fill-opacity=\"1\" stroke=\"#000000\" stroke-opacity=\"1\" stroke-width=\"2.4\"/>\n",
       "<circle clip-path=\"url(#clip462)\" cx=\"608.492\" cy=\"98.2637\" r=\"14.4\" fill=\"#009af9\" fill-rule=\"evenodd\" fill-opacity=\"1\" stroke=\"#000000\" stroke-opacity=\"1\" stroke-width=\"2.4\"/>\n",
       "<circle clip-path=\"url(#clip462)\" cx=\"643.97\" cy=\"135.682\" r=\"14.4\" fill=\"#009af9\" fill-rule=\"evenodd\" fill-opacity=\"1\" stroke=\"#000000\" stroke-opacity=\"1\" stroke-width=\"2.4\"/>\n",
       "<circle clip-path=\"url(#clip462)\" cx=\"678.194\" cy=\"107.588\" r=\"14.4\" fill=\"#009af9\" fill-rule=\"evenodd\" fill-opacity=\"1\" stroke=\"#000000\" stroke-opacity=\"1\" stroke-width=\"2.4\"/>\n",
       "<circle clip-path=\"url(#clip462)\" cx=\"578.122\" cy=\"96.9101\" r=\"14.4\" fill=\"#009af9\" fill-rule=\"evenodd\" fill-opacity=\"1\" stroke=\"#000000\" stroke-opacity=\"1\" stroke-width=\"2.4\"/>\n",
       "<circle clip-path=\"url(#clip462)\" cx=\"647.719\" cy=\"135\" r=\"14.4\" fill=\"#009af9\" fill-rule=\"evenodd\" fill-opacity=\"1\" stroke=\"#000000\" stroke-opacity=\"1\" stroke-width=\"2.4\"/>\n",
       "<circle clip-path=\"url(#clip462)\" cx=\"574.363\" cy=\"112.799\" r=\"14.4\" fill=\"#009af9\" fill-rule=\"evenodd\" fill-opacity=\"1\" stroke=\"#000000\" stroke-opacity=\"1\" stroke-width=\"2.4\"/>\n",
       "<circle clip-path=\"url(#clip462)\" cx=\"609.08\" cy=\"108.689\" r=\"14.4\" fill=\"#009af9\" fill-rule=\"evenodd\" fill-opacity=\"1\" stroke=\"#000000\" stroke-opacity=\"1\" stroke-width=\"2.4\"/>\n",
       "<circle clip-path=\"url(#clip462)\" cx=\"578.833\" cy=\"105.374\" r=\"14.4\" fill=\"#009af9\" fill-rule=\"evenodd\" fill-opacity=\"1\" stroke=\"#000000\" stroke-opacity=\"1\" stroke-width=\"2.4\"/>\n",
       "<circle clip-path=\"url(#clip462)\" cx=\"621.778\" cy=\"138.8\" r=\"14.4\" fill=\"#009af9\" fill-rule=\"evenodd\" fill-opacity=\"1\" stroke=\"#000000\" stroke-opacity=\"1\" stroke-width=\"2.4\"/>\n",
       "<circle clip-path=\"url(#clip462)\" cx=\"536.937\" cy=\"100.197\" r=\"14.4\" fill=\"#009af9\" fill-rule=\"evenodd\" fill-opacity=\"1\" stroke=\"#000000\" stroke-opacity=\"1\" stroke-width=\"2.4\"/>\n",
       "<circle clip-path=\"url(#clip462)\" cx=\"510.516\" cy=\"93.5717\" r=\"14.4\" fill=\"#009af9\" fill-rule=\"evenodd\" fill-opacity=\"1\" stroke=\"#000000\" stroke-opacity=\"1\" stroke-width=\"2.4\"/>\n",
       "<circle clip-path=\"url(#clip462)\" cx=\"581.706\" cy=\"111.658\" r=\"14.4\" fill=\"#009af9\" fill-rule=\"evenodd\" fill-opacity=\"1\" stroke=\"#000000\" stroke-opacity=\"1\" stroke-width=\"2.4\"/>\n",
       "<circle clip-path=\"url(#clip462)\" cx=\"625.766\" cy=\"98.0912\" r=\"14.4\" fill=\"#009af9\" fill-rule=\"evenodd\" fill-opacity=\"1\" stroke=\"#000000\" stroke-opacity=\"1\" stroke-width=\"2.4\"/>\n",
       "<circle clip-path=\"url(#clip462)\" cx=\"494.444\" cy=\"99.8979\" r=\"14.4\" fill=\"#009af9\" fill-rule=\"evenodd\" fill-opacity=\"1\" stroke=\"#000000\" stroke-opacity=\"1\" stroke-width=\"2.4\"/>\n",
       "<circle clip-path=\"url(#clip462)\" cx=\"500.68\" cy=\"98.9974\" r=\"14.4\" fill=\"#009af9\" fill-rule=\"evenodd\" fill-opacity=\"1\" stroke=\"#000000\" stroke-opacity=\"1\" stroke-width=\"2.4\"/>\n",
       "<circle clip-path=\"url(#clip462)\" cx=\"441.555\" cy=\"117.44\" r=\"14.4\" fill=\"#009af9\" fill-rule=\"evenodd\" fill-opacity=\"1\" stroke=\"#000000\" stroke-opacity=\"1\" stroke-width=\"2.4\"/>\n",
       "<circle clip-path=\"url(#clip462)\" cx=\"600.623\" cy=\"99.8807\" r=\"14.4\" fill=\"#009af9\" fill-rule=\"evenodd\" fill-opacity=\"1\" stroke=\"#000000\" stroke-opacity=\"1\" stroke-width=\"2.4\"/>\n",
       "<circle clip-path=\"url(#clip462)\" cx=\"497.001\" cy=\"114.388\" r=\"14.4\" fill=\"#009af9\" fill-rule=\"evenodd\" fill-opacity=\"1\" stroke=\"#000000\" stroke-opacity=\"1\" stroke-width=\"2.4\"/>\n",
       "<circle clip-path=\"url(#clip462)\" cx=\"531.973\" cy=\"132.996\" r=\"14.4\" fill=\"#009af9\" fill-rule=\"evenodd\" fill-opacity=\"1\" stroke=\"#000000\" stroke-opacity=\"1\" stroke-width=\"2.4\"/>\n",
       "<circle clip-path=\"url(#clip462)\" cx=\"419.693\" cy=\"141.144\" r=\"14.4\" fill=\"#009af9\" fill-rule=\"evenodd\" fill-opacity=\"1\" stroke=\"#000000\" stroke-opacity=\"1\" stroke-width=\"2.4\"/>\n",
       "<circle clip-path=\"url(#clip462)\" cx=\"537.768\" cy=\"109.497\" r=\"14.4\" fill=\"#009af9\" fill-rule=\"evenodd\" fill-opacity=\"1\" stroke=\"#000000\" stroke-opacity=\"1\" stroke-width=\"2.4\"/>\n",
       "<circle clip-path=\"url(#clip462)\" cx=\"420.982\" cy=\"128.77\" r=\"14.4\" fill=\"#009af9\" fill-rule=\"evenodd\" fill-opacity=\"1\" stroke=\"#000000\" stroke-opacity=\"1\" stroke-width=\"2.4\"/>\n",
       "<circle clip-path=\"url(#clip462)\" cx=\"493.155\" cy=\"132.277\" r=\"14.4\" fill=\"#009af9\" fill-rule=\"evenodd\" fill-opacity=\"1\" stroke=\"#000000\" stroke-opacity=\"1\" stroke-width=\"2.4\"/>\n",
       "<circle clip-path=\"url(#clip462)\" cx=\"435.011\" cy=\"114.341\" r=\"14.4\" fill=\"#009af9\" fill-rule=\"evenodd\" fill-opacity=\"1\" stroke=\"#000000\" stroke-opacity=\"1\" stroke-width=\"2.4\"/>\n",
       "<circle clip-path=\"url(#clip462)\" cx=\"521.588\" cy=\"127.213\" r=\"14.4\" fill=\"#009af9\" fill-rule=\"evenodd\" fill-opacity=\"1\" stroke=\"#000000\" stroke-opacity=\"1\" stroke-width=\"2.4\"/>\n",
       "<circle clip-path=\"url(#clip462)\" cx=\"536.042\" cy=\"99.0495\" r=\"14.4\" fill=\"#009af9\" fill-rule=\"evenodd\" fill-opacity=\"1\" stroke=\"#000000\" stroke-opacity=\"1\" stroke-width=\"2.4\"/>\n",
       "<circle clip-path=\"url(#clip462)\" cx=\"426.567\" cy=\"181.32\" r=\"14.4\" fill=\"#009af9\" fill-rule=\"evenodd\" fill-opacity=\"1\" stroke=\"#000000\" stroke-opacity=\"1\" stroke-width=\"2.4\"/>\n",
       "<circle clip-path=\"url(#clip462)\" cx=\"422.079\" cy=\"133.314\" r=\"14.4\" fill=\"#009af9\" fill-rule=\"evenodd\" fill-opacity=\"1\" stroke=\"#000000\" stroke-opacity=\"1\" stroke-width=\"2.4\"/>\n",
       "<circle clip-path=\"url(#clip462)\" cx=\"482.658\" cy=\"110.615\" r=\"14.4\" fill=\"#009af9\" fill-rule=\"evenodd\" fill-opacity=\"1\" stroke=\"#000000\" stroke-opacity=\"1\" stroke-width=\"2.4\"/>\n",
       "<circle clip-path=\"url(#clip462)\" cx=\"429.044\" cy=\"183.746\" r=\"14.4\" fill=\"#009af9\" fill-rule=\"evenodd\" fill-opacity=\"1\" stroke=\"#000000\" stroke-opacity=\"1\" stroke-width=\"2.4\"/>\n",
       "<circle clip-path=\"url(#clip462)\" cx=\"407.015\" cy=\"169.285\" r=\"14.4\" fill=\"#009af9\" fill-rule=\"evenodd\" fill-opacity=\"1\" stroke=\"#000000\" stroke-opacity=\"1\" stroke-width=\"2.4\"/>\n",
       "<circle clip-path=\"url(#clip462)\" cx=\"442.143\" cy=\"229.423\" r=\"14.4\" fill=\"#009af9\" fill-rule=\"evenodd\" fill-opacity=\"1\" stroke=\"#000000\" stroke-opacity=\"1\" stroke-width=\"2.4\"/>\n",
       "<circle clip-path=\"url(#clip462)\" cx=\"403.249\" cy=\"204.152\" r=\"14.4\" fill=\"#009af9\" fill-rule=\"evenodd\" fill-opacity=\"1\" stroke=\"#000000\" stroke-opacity=\"1\" stroke-width=\"2.4\"/>\n",
       "<circle clip-path=\"url(#clip462)\" cx=\"419.851\" cy=\"184.78\" r=\"14.4\" fill=\"#009af9\" fill-rule=\"evenodd\" fill-opacity=\"1\" stroke=\"#000000\" stroke-opacity=\"1\" stroke-width=\"2.4\"/>\n",
       "<circle clip-path=\"url(#clip462)\" cx=\"418.451\" cy=\"147.787\" r=\"14.4\" fill=\"#009af9\" fill-rule=\"evenodd\" fill-opacity=\"1\" stroke=\"#000000\" stroke-opacity=\"1\" stroke-width=\"2.4\"/>\n",
       "<circle clip-path=\"url(#clip462)\" cx=\"400.364\" cy=\"203.08\" r=\"14.4\" fill=\"#009af9\" fill-rule=\"evenodd\" fill-opacity=\"1\" stroke=\"#000000\" stroke-opacity=\"1\" stroke-width=\"2.4\"/>\n",
       "<circle clip-path=\"url(#clip462)\" cx=\"412.901\" cy=\"190.921\" r=\"14.4\" fill=\"#009af9\" fill-rule=\"evenodd\" fill-opacity=\"1\" stroke=\"#000000\" stroke-opacity=\"1\" stroke-width=\"2.4\"/>\n",
       "<circle clip-path=\"url(#clip462)\" cx=\"409.558\" cy=\"152.518\" r=\"14.4\" fill=\"#009af9\" fill-rule=\"evenodd\" fill-opacity=\"1\" stroke=\"#000000\" stroke-opacity=\"1\" stroke-width=\"2.4\"/>\n",
       "<circle clip-path=\"url(#clip462)\" cx=\"440.202\" cy=\"231.69\" r=\"14.4\" fill=\"#009af9\" fill-rule=\"evenodd\" fill-opacity=\"1\" stroke=\"#000000\" stroke-opacity=\"1\" stroke-width=\"2.4\"/>\n",
       "<circle clip-path=\"url(#clip462)\" cx=\"420.974\" cy=\"263.588\" r=\"14.4\" fill=\"#009af9\" fill-rule=\"evenodd\" fill-opacity=\"1\" stroke=\"#000000\" stroke-opacity=\"1\" stroke-width=\"2.4\"/>\n",
       "<circle clip-path=\"url(#clip462)\" cx=\"463.994\" cy=\"220.993\" r=\"14.4\" fill=\"#009af9\" fill-rule=\"evenodd\" fill-opacity=\"1\" stroke=\"#000000\" stroke-opacity=\"1\" stroke-width=\"2.4\"/>\n",
       "<circle clip-path=\"url(#clip462)\" cx=\"412.816\" cy=\"237.431\" r=\"14.4\" fill=\"#009af9\" fill-rule=\"evenodd\" fill-opacity=\"1\" stroke=\"#000000\" stroke-opacity=\"1\" stroke-width=\"2.4\"/>\n",
       "<circle clip-path=\"url(#clip462)\" cx=\"395.958\" cy=\"286.308\" r=\"14.4\" fill=\"#009af9\" fill-rule=\"evenodd\" fill-opacity=\"1\" stroke=\"#000000\" stroke-opacity=\"1\" stroke-width=\"2.4\"/>\n",
       "<circle clip-path=\"url(#clip462)\" cx=\"429.952\" cy=\"240.17\" r=\"14.4\" fill=\"#009af9\" fill-rule=\"evenodd\" fill-opacity=\"1\" stroke=\"#000000\" stroke-opacity=\"1\" stroke-width=\"2.4\"/>\n",
       "<circle clip-path=\"url(#clip462)\" cx=\"453.673\" cy=\"300.257\" r=\"14.4\" fill=\"#009af9\" fill-rule=\"evenodd\" fill-opacity=\"1\" stroke=\"#000000\" stroke-opacity=\"1\" stroke-width=\"2.4\"/>\n",
       "<circle clip-path=\"url(#clip462)\" cx=\"457.031\" cy=\"291.299\" r=\"14.4\" fill=\"#009af9\" fill-rule=\"evenodd\" fill-opacity=\"1\" stroke=\"#000000\" stroke-opacity=\"1\" stroke-width=\"2.4\"/>\n",
       "<circle clip-path=\"url(#clip462)\" cx=\"437.809\" cy=\"254.697\" r=\"14.4\" fill=\"#009af9\" fill-rule=\"evenodd\" fill-opacity=\"1\" stroke=\"#000000\" stroke-opacity=\"1\" stroke-width=\"2.4\"/>\n",
       "<circle clip-path=\"url(#clip462)\" cx=\"427.395\" cy=\"292.32\" r=\"14.4\" fill=\"#009af9\" fill-rule=\"evenodd\" fill-opacity=\"1\" stroke=\"#000000\" stroke-opacity=\"1\" stroke-width=\"2.4\"/>\n",
       "<circle clip-path=\"url(#clip462)\" cx=\"398.382\" cy=\"202.047\" r=\"14.4\" fill=\"#009af9\" fill-rule=\"evenodd\" fill-opacity=\"1\" stroke=\"#000000\" stroke-opacity=\"1\" stroke-width=\"2.4\"/>\n",
       "<circle clip-path=\"url(#clip462)\" cx=\"410.001\" cy=\"244.563\" r=\"14.4\" fill=\"#009af9\" fill-rule=\"evenodd\" fill-opacity=\"1\" stroke=\"#000000\" stroke-opacity=\"1\" stroke-width=\"2.4\"/>\n",
       "<circle clip-path=\"url(#clip462)\" cx=\"413.746\" cy=\"258.393\" r=\"14.4\" fill=\"#009af9\" fill-rule=\"evenodd\" fill-opacity=\"1\" stroke=\"#000000\" stroke-opacity=\"1\" stroke-width=\"2.4\"/>\n",
       "<circle clip-path=\"url(#clip462)\" cx=\"423.22\" cy=\"353.105\" r=\"14.4\" fill=\"#009af9\" fill-rule=\"evenodd\" fill-opacity=\"1\" stroke=\"#000000\" stroke-opacity=\"1\" stroke-width=\"2.4\"/>\n",
       "<circle clip-path=\"url(#clip462)\" cx=\"445.906\" cy=\"285.57\" r=\"14.4\" fill=\"#009af9\" fill-rule=\"evenodd\" fill-opacity=\"1\" stroke=\"#000000\" stroke-opacity=\"1\" stroke-width=\"2.4\"/>\n",
       "<circle clip-path=\"url(#clip462)\" cx=\"455.921\" cy=\"302.45\" r=\"14.4\" fill=\"#009af9\" fill-rule=\"evenodd\" fill-opacity=\"1\" stroke=\"#000000\" stroke-opacity=\"1\" stroke-width=\"2.4\"/>\n",
       "<circle clip-path=\"url(#clip462)\" cx=\"427.173\" cy=\"319.191\" r=\"14.4\" fill=\"#009af9\" fill-rule=\"evenodd\" fill-opacity=\"1\" stroke=\"#000000\" stroke-opacity=\"1\" stroke-width=\"2.4\"/>\n",
       "<circle clip-path=\"url(#clip462)\" cx=\"407.736\" cy=\"320.102\" r=\"14.4\" fill=\"#009af9\" fill-rule=\"evenodd\" fill-opacity=\"1\" stroke=\"#000000\" stroke-opacity=\"1\" stroke-width=\"2.4\"/>\n",
       "<circle clip-path=\"url(#clip462)\" cx=\"410.88\" cy=\"279.865\" r=\"14.4\" fill=\"#009af9\" fill-rule=\"evenodd\" fill-opacity=\"1\" stroke=\"#000000\" stroke-opacity=\"1\" stroke-width=\"2.4\"/>\n",
       "<circle clip-path=\"url(#clip462)\" cx=\"401.963\" cy=\"356.873\" r=\"14.4\" fill=\"#009af9\" fill-rule=\"evenodd\" fill-opacity=\"1\" stroke=\"#000000\" stroke-opacity=\"1\" stroke-width=\"2.4\"/>\n",
       "<circle clip-path=\"url(#clip462)\" cx=\"432.372\" cy=\"389.019\" r=\"14.4\" fill=\"#009af9\" fill-rule=\"evenodd\" fill-opacity=\"1\" stroke=\"#000000\" stroke-opacity=\"1\" stroke-width=\"2.4\"/>\n",
       "<circle clip-path=\"url(#clip462)\" cx=\"448.207\" cy=\"301.134\" r=\"14.4\" fill=\"#009af9\" fill-rule=\"evenodd\" fill-opacity=\"1\" stroke=\"#000000\" stroke-opacity=\"1\" stroke-width=\"2.4\"/>\n",
       "<circle clip-path=\"url(#clip462)\" cx=\"432.446\" cy=\"291.234\" r=\"14.4\" fill=\"#009af9\" fill-rule=\"evenodd\" fill-opacity=\"1\" stroke=\"#000000\" stroke-opacity=\"1\" stroke-width=\"2.4\"/>\n",
       "<circle clip-path=\"url(#clip462)\" cx=\"417.574\" cy=\"287.583\" r=\"14.4\" fill=\"#009af9\" fill-rule=\"evenodd\" fill-opacity=\"1\" stroke=\"#000000\" stroke-opacity=\"1\" stroke-width=\"2.4\"/>\n",
       "<circle clip-path=\"url(#clip462)\" cx=\"425.357\" cy=\"355.277\" r=\"14.4\" fill=\"#009af9\" fill-rule=\"evenodd\" fill-opacity=\"1\" stroke=\"#000000\" stroke-opacity=\"1\" stroke-width=\"2.4\"/>\n",
       "<circle clip-path=\"url(#clip462)\" cx=\"435.718\" cy=\"419.149\" r=\"14.4\" fill=\"#009af9\" fill-rule=\"evenodd\" fill-opacity=\"1\" stroke=\"#000000\" stroke-opacity=\"1\" stroke-width=\"2.4\"/>\n",
       "<circle clip-path=\"url(#clip462)\" cx=\"417.878\" cy=\"389.987\" r=\"14.4\" fill=\"#009af9\" fill-rule=\"evenodd\" fill-opacity=\"1\" stroke=\"#000000\" stroke-opacity=\"1\" stroke-width=\"2.4\"/>\n",
       "<circle clip-path=\"url(#clip462)\" cx=\"418.63\" cy=\"342.245\" r=\"14.4\" fill=\"#009af9\" fill-rule=\"evenodd\" fill-opacity=\"1\" stroke=\"#000000\" stroke-opacity=\"1\" stroke-width=\"2.4\"/>\n",
       "<circle clip-path=\"url(#clip462)\" cx=\"428.884\" cy=\"327.326\" r=\"14.4\" fill=\"#009af9\" fill-rule=\"evenodd\" fill-opacity=\"1\" stroke=\"#000000\" stroke-opacity=\"1\" stroke-width=\"2.4\"/>\n",
       "<circle clip-path=\"url(#clip462)\" cx=\"433.358\" cy=\"395.839\" r=\"14.4\" fill=\"#009af9\" fill-rule=\"evenodd\" fill-opacity=\"1\" stroke=\"#000000\" stroke-opacity=\"1\" stroke-width=\"2.4\"/>\n",
       "<circle clip-path=\"url(#clip462)\" cx=\"387.3\" cy=\"389.242\" r=\"14.4\" fill=\"#009af9\" fill-rule=\"evenodd\" fill-opacity=\"1\" stroke=\"#000000\" stroke-opacity=\"1\" stroke-width=\"2.4\"/>\n",
       "<circle clip-path=\"url(#clip462)\" cx=\"434.749\" cy=\"419.218\" r=\"14.4\" fill=\"#009af9\" fill-rule=\"evenodd\" fill-opacity=\"1\" stroke=\"#000000\" stroke-opacity=\"1\" stroke-width=\"2.4\"/>\n",
       "<circle clip-path=\"url(#clip462)\" cx=\"421.029\" cy=\"422.688\" r=\"14.4\" fill=\"#009af9\" fill-rule=\"evenodd\" fill-opacity=\"1\" stroke=\"#000000\" stroke-opacity=\"1\" stroke-width=\"2.4\"/>\n",
       "<circle clip-path=\"url(#clip462)\" cx=\"436.365\" cy=\"396.959\" r=\"14.4\" fill=\"#009af9\" fill-rule=\"evenodd\" fill-opacity=\"1\" stroke=\"#000000\" stroke-opacity=\"1\" stroke-width=\"2.4\"/>\n",
       "<circle clip-path=\"url(#clip462)\" cx=\"435.005\" cy=\"499.18\" r=\"14.4\" fill=\"#009af9\" fill-rule=\"evenodd\" fill-opacity=\"1\" stroke=\"#000000\" stroke-opacity=\"1\" stroke-width=\"2.4\"/>\n",
       "<circle clip-path=\"url(#clip462)\" cx=\"421.768\" cy=\"447.847\" r=\"14.4\" fill=\"#009af9\" fill-rule=\"evenodd\" fill-opacity=\"1\" stroke=\"#000000\" stroke-opacity=\"1\" stroke-width=\"2.4\"/>\n",
       "<circle clip-path=\"url(#clip462)\" cx=\"426.73\" cy=\"364.68\" r=\"14.4\" fill=\"#009af9\" fill-rule=\"evenodd\" fill-opacity=\"1\" stroke=\"#000000\" stroke-opacity=\"1\" stroke-width=\"2.4\"/>\n",
       "<circle clip-path=\"url(#clip462)\" cx=\"444.438\" cy=\"462.087\" r=\"14.4\" fill=\"#009af9\" fill-rule=\"evenodd\" fill-opacity=\"1\" stroke=\"#000000\" stroke-opacity=\"1\" stroke-width=\"2.4\"/>\n",
       "<circle clip-path=\"url(#clip462)\" cx=\"421.006\" cy=\"456.977\" r=\"14.4\" fill=\"#009af9\" fill-rule=\"evenodd\" fill-opacity=\"1\" stroke=\"#000000\" stroke-opacity=\"1\" stroke-width=\"2.4\"/>\n",
       "<circle clip-path=\"url(#clip462)\" cx=\"428.593\" cy=\"526.14\" r=\"14.4\" fill=\"#009af9\" fill-rule=\"evenodd\" fill-opacity=\"1\" stroke=\"#000000\" stroke-opacity=\"1\" stroke-width=\"2.4\"/>\n",
       "<circle clip-path=\"url(#clip462)\" cx=\"433.229\" cy=\"500.642\" r=\"14.4\" fill=\"#009af9\" fill-rule=\"evenodd\" fill-opacity=\"1\" stroke=\"#000000\" stroke-opacity=\"1\" stroke-width=\"2.4\"/>\n",
       "<circle clip-path=\"url(#clip462)\" cx=\"415.431\" cy=\"541.768\" r=\"14.4\" fill=\"#009af9\" fill-rule=\"evenodd\" fill-opacity=\"1\" stroke=\"#000000\" stroke-opacity=\"1\" stroke-width=\"2.4\"/>\n",
       "<circle clip-path=\"url(#clip462)\" cx=\"454.432\" cy=\"422.296\" r=\"14.4\" fill=\"#009af9\" fill-rule=\"evenodd\" fill-opacity=\"1\" stroke=\"#000000\" stroke-opacity=\"1\" stroke-width=\"2.4\"/>\n",
       "<circle clip-path=\"url(#clip462)\" cx=\"390.244\" cy=\"545.289\" r=\"14.4\" fill=\"#009af9\" fill-rule=\"evenodd\" fill-opacity=\"1\" stroke=\"#000000\" stroke-opacity=\"1\" stroke-width=\"2.4\"/>\n",
       "<circle clip-path=\"url(#clip462)\" cx=\"408.975\" cy=\"508.006\" r=\"14.4\" fill=\"#009af9\" fill-rule=\"evenodd\" fill-opacity=\"1\" stroke=\"#000000\" stroke-opacity=\"1\" stroke-width=\"2.4\"/>\n",
       "<circle clip-path=\"url(#clip462)\" cx=\"397.928\" cy=\"460.03\" r=\"14.4\" fill=\"#009af9\" fill-rule=\"evenodd\" fill-opacity=\"1\" stroke=\"#000000\" stroke-opacity=\"1\" stroke-width=\"2.4\"/>\n",
       "<circle clip-path=\"url(#clip462)\" cx=\"419.687\" cy=\"620.675\" r=\"14.4\" fill=\"#009af9\" fill-rule=\"evenodd\" fill-opacity=\"1\" stroke=\"#000000\" stroke-opacity=\"1\" stroke-width=\"2.4\"/>\n",
       "<circle clip-path=\"url(#clip462)\" cx=\"454.575\" cy=\"569.148\" r=\"14.4\" fill=\"#009af9\" fill-rule=\"evenodd\" fill-opacity=\"1\" stroke=\"#000000\" stroke-opacity=\"1\" stroke-width=\"2.4\"/>\n",
       "<circle clip-path=\"url(#clip462)\" cx=\"408.71\" cy=\"523.698\" r=\"14.4\" fill=\"#009af9\" fill-rule=\"evenodd\" fill-opacity=\"1\" stroke=\"#000000\" stroke-opacity=\"1\" stroke-width=\"2.4\"/>\n",
       "<circle clip-path=\"url(#clip462)\" cx=\"408.976\" cy=\"702.33\" r=\"14.4\" fill=\"#009af9\" fill-rule=\"evenodd\" fill-opacity=\"1\" stroke=\"#000000\" stroke-opacity=\"1\" stroke-width=\"2.4\"/>\n",
       "<circle clip-path=\"url(#clip462)\" cx=\"438.361\" cy=\"708.016\" r=\"14.4\" fill=\"#009af9\" fill-rule=\"evenodd\" fill-opacity=\"1\" stroke=\"#000000\" stroke-opacity=\"1\" stroke-width=\"2.4\"/>\n",
       "<circle clip-path=\"url(#clip462)\" cx=\"420.289\" cy=\"693.907\" r=\"14.4\" fill=\"#009af9\" fill-rule=\"evenodd\" fill-opacity=\"1\" stroke=\"#000000\" stroke-opacity=\"1\" stroke-width=\"2.4\"/>\n",
       "<circle clip-path=\"url(#clip462)\" cx=\"418.057\" cy=\"519.767\" r=\"14.4\" fill=\"#009af9\" fill-rule=\"evenodd\" fill-opacity=\"1\" stroke=\"#000000\" stroke-opacity=\"1\" stroke-width=\"2.4\"/>\n",
       "<circle clip-path=\"url(#clip462)\" cx=\"438.925\" cy=\"738.299\" r=\"14.4\" fill=\"#009af9\" fill-rule=\"evenodd\" fill-opacity=\"1\" stroke=\"#000000\" stroke-opacity=\"1\" stroke-width=\"2.4\"/>\n",
       "<circle clip-path=\"url(#clip462)\" cx=\"440.315\" cy=\"543.419\" r=\"14.4\" fill=\"#009af9\" fill-rule=\"evenodd\" fill-opacity=\"1\" stroke=\"#000000\" stroke-opacity=\"1\" stroke-width=\"2.4\"/>\n",
       "<circle clip-path=\"url(#clip462)\" cx=\"418.656\" cy=\"679.02\" r=\"14.4\" fill=\"#009af9\" fill-rule=\"evenodd\" fill-opacity=\"1\" stroke=\"#000000\" stroke-opacity=\"1\" stroke-width=\"2.4\"/>\n",
       "<circle clip-path=\"url(#clip462)\" cx=\"341.186\" cy=\"1039.83\" r=\"14.4\" fill=\"#009af9\" fill-rule=\"evenodd\" fill-opacity=\"1\" stroke=\"#000000\" stroke-opacity=\"1\" stroke-width=\"2.4\"/>\n",
       "<circle clip-path=\"url(#clip462)\" cx=\"400.373\" cy=\"643.544\" r=\"14.4\" fill=\"#009af9\" fill-rule=\"evenodd\" fill-opacity=\"1\" stroke=\"#000000\" stroke-opacity=\"1\" stroke-width=\"2.4\"/>\n",
       "<circle clip-path=\"url(#clip462)\" cx=\"409.262\" cy=\"679.772\" r=\"14.4\" fill=\"#009af9\" fill-rule=\"evenodd\" fill-opacity=\"1\" stroke=\"#000000\" stroke-opacity=\"1\" stroke-width=\"2.4\"/>\n",
       "<circle clip-path=\"url(#clip462)\" cx=\"435.577\" cy=\"609.747\" r=\"14.4\" fill=\"#009af9\" fill-rule=\"evenodd\" fill-opacity=\"1\" stroke=\"#000000\" stroke-opacity=\"1\" stroke-width=\"2.4\"/>\n",
       "<circle clip-path=\"url(#clip462)\" cx=\"405.592\" cy=\"622.062\" r=\"14.4\" fill=\"#009af9\" fill-rule=\"evenodd\" fill-opacity=\"1\" stroke=\"#000000\" stroke-opacity=\"1\" stroke-width=\"2.4\"/>\n",
       "<circle clip-path=\"url(#clip462)\" cx=\"400.782\" cy=\"613.501\" r=\"14.4\" fill=\"#009af9\" fill-rule=\"evenodd\" fill-opacity=\"1\" stroke=\"#000000\" stroke-opacity=\"1\" stroke-width=\"2.4\"/>\n",
       "<circle clip-path=\"url(#clip462)\" cx=\"445.055\" cy=\"736.013\" r=\"14.4\" fill=\"#009af9\" fill-rule=\"evenodd\" fill-opacity=\"1\" stroke=\"#000000\" stroke-opacity=\"1\" stroke-width=\"2.4\"/>\n",
       "<circle clip-path=\"url(#clip462)\" cx=\"344.76\" cy=\"1000.76\" r=\"14.4\" fill=\"#009af9\" fill-rule=\"evenodd\" fill-opacity=\"1\" stroke=\"#000000\" stroke-opacity=\"1\" stroke-width=\"2.4\"/>\n",
       "<circle clip-path=\"url(#clip462)\" cx=\"423.845\" cy=\"1002.99\" r=\"14.4\" fill=\"#009af9\" fill-rule=\"evenodd\" fill-opacity=\"1\" stroke=\"#000000\" stroke-opacity=\"1\" stroke-width=\"2.4\"/>\n",
       "<circle clip-path=\"url(#clip462)\" cx=\"449.329\" cy=\"780.899\" r=\"14.4\" fill=\"#009af9\" fill-rule=\"evenodd\" fill-opacity=\"1\" stroke=\"#000000\" stroke-opacity=\"1\" stroke-width=\"2.4\"/>\n",
       "<circle clip-path=\"url(#clip462)\" cx=\"437.713\" cy=\"1019.88\" r=\"14.4\" fill=\"#009af9\" fill-rule=\"evenodd\" fill-opacity=\"1\" stroke=\"#000000\" stroke-opacity=\"1\" stroke-width=\"2.4\"/>\n",
       "<circle clip-path=\"url(#clip462)\" cx=\"413.723\" cy=\"1008\" r=\"14.4\" fill=\"#009af9\" fill-rule=\"evenodd\" fill-opacity=\"1\" stroke=\"#000000\" stroke-opacity=\"1\" stroke-width=\"2.4\"/>\n",
       "<circle clip-path=\"url(#clip462)\" cx=\"481.436\" cy=\"1005.32\" r=\"14.4\" fill=\"#009af9\" fill-rule=\"evenodd\" fill-opacity=\"1\" stroke=\"#000000\" stroke-opacity=\"1\" stroke-width=\"2.4\"/>\n",
       "<circle clip-path=\"url(#clip462)\" cx=\"614.134\" cy=\"773.258\" r=\"14.4\" fill=\"#009af9\" fill-rule=\"evenodd\" fill-opacity=\"1\" stroke=\"#000000\" stroke-opacity=\"1\" stroke-width=\"2.4\"/>\n",
       "<circle clip-path=\"url(#clip462)\" cx=\"485.892\" cy=\"1005.92\" r=\"14.4\" fill=\"#009af9\" fill-rule=\"evenodd\" fill-opacity=\"1\" stroke=\"#000000\" stroke-opacity=\"1\" stroke-width=\"2.4\"/>\n",
       "<circle clip-path=\"url(#clip462)\" cx=\"446.235\" cy=\"1004.87\" r=\"14.4\" fill=\"#009af9\" fill-rule=\"evenodd\" fill-opacity=\"1\" stroke=\"#000000\" stroke-opacity=\"1\" stroke-width=\"2.4\"/>\n",
       "<circle clip-path=\"url(#clip462)\" cx=\"647.227\" cy=\"799.796\" r=\"14.4\" fill=\"#009af9\" fill-rule=\"evenodd\" fill-opacity=\"1\" stroke=\"#000000\" stroke-opacity=\"1\" stroke-width=\"2.4\"/>\n",
       "<circle clip-path=\"url(#clip462)\" cx=\"626.213\" cy=\"769.682\" r=\"14.4\" fill=\"#009af9\" fill-rule=\"evenodd\" fill-opacity=\"1\" stroke=\"#000000\" stroke-opacity=\"1\" stroke-width=\"2.4\"/>\n",
       "<circle clip-path=\"url(#clip462)\" cx=\"501.508\" cy=\"1040.97\" r=\"14.4\" fill=\"#009af9\" fill-rule=\"evenodd\" fill-opacity=\"1\" stroke=\"#000000\" stroke-opacity=\"1\" stroke-width=\"2.4\"/>\n",
       "<circle clip-path=\"url(#clip462)\" cx=\"718.791\" cy=\"758.497\" r=\"14.4\" fill=\"#009af9\" fill-rule=\"evenodd\" fill-opacity=\"1\" stroke=\"#000000\" stroke-opacity=\"1\" stroke-width=\"2.4\"/>\n",
       "<circle clip-path=\"url(#clip462)\" cx=\"600.737\" cy=\"758.094\" r=\"14.4\" fill=\"#009af9\" fill-rule=\"evenodd\" fill-opacity=\"1\" stroke=\"#000000\" stroke-opacity=\"1\" stroke-width=\"2.4\"/>\n",
       "<circle clip-path=\"url(#clip462)\" cx=\"616.477\" cy=\"776.041\" r=\"14.4\" fill=\"#009af9\" fill-rule=\"evenodd\" fill-opacity=\"1\" stroke=\"#000000\" stroke-opacity=\"1\" stroke-width=\"2.4\"/>\n",
       "<circle clip-path=\"url(#clip462)\" cx=\"634.783\" cy=\"758.173\" r=\"14.4\" fill=\"#009af9\" fill-rule=\"evenodd\" fill-opacity=\"1\" stroke=\"#000000\" stroke-opacity=\"1\" stroke-width=\"2.4\"/>\n",
       "<circle clip-path=\"url(#clip462)\" cx=\"652.116\" cy=\"782.634\" r=\"14.4\" fill=\"#009af9\" fill-rule=\"evenodd\" fill-opacity=\"1\" stroke=\"#000000\" stroke-opacity=\"1\" stroke-width=\"2.4\"/>\n",
       "<circle clip-path=\"url(#clip462)\" cx=\"663.781\" cy=\"777.168\" r=\"14.4\" fill=\"#009af9\" fill-rule=\"evenodd\" fill-opacity=\"1\" stroke=\"#000000\" stroke-opacity=\"1\" stroke-width=\"2.4\"/>\n",
       "<circle clip-path=\"url(#clip462)\" cx=\"480.747\" cy=\"1044.13\" r=\"14.4\" fill=\"#009af9\" fill-rule=\"evenodd\" fill-opacity=\"1\" stroke=\"#000000\" stroke-opacity=\"1\" stroke-width=\"2.4\"/>\n",
       "<circle clip-path=\"url(#clip462)\" cx=\"688.246\" cy=\"784.853\" r=\"14.4\" fill=\"#009af9\" fill-rule=\"evenodd\" fill-opacity=\"1\" stroke=\"#000000\" stroke-opacity=\"1\" stroke-width=\"2.4\"/>\n",
       "<circle clip-path=\"url(#clip462)\" cx=\"583.708\" cy=\"774.161\" r=\"14.4\" fill=\"#009af9\" fill-rule=\"evenodd\" fill-opacity=\"1\" stroke=\"#000000\" stroke-opacity=\"1\" stroke-width=\"2.4\"/>\n",
       "<circle clip-path=\"url(#clip462)\" cx=\"741.738\" cy=\"768.171\" r=\"14.4\" fill=\"#009af9\" fill-rule=\"evenodd\" fill-opacity=\"1\" stroke=\"#000000\" stroke-opacity=\"1\" stroke-width=\"2.4\"/>\n",
       "<circle clip-path=\"url(#clip462)\" cx=\"690.798\" cy=\"766.592\" r=\"14.4\" fill=\"#009af9\" fill-rule=\"evenodd\" fill-opacity=\"1\" stroke=\"#000000\" stroke-opacity=\"1\" stroke-width=\"2.4\"/>\n",
       "<circle clip-path=\"url(#clip462)\" cx=\"768.274\" cy=\"755.13\" r=\"14.4\" fill=\"#009af9\" fill-rule=\"evenodd\" fill-opacity=\"1\" stroke=\"#000000\" stroke-opacity=\"1\" stroke-width=\"2.4\"/>\n",
       "<circle clip-path=\"url(#clip462)\" cx=\"776.094\" cy=\"792.195\" r=\"14.4\" fill=\"#009af9\" fill-rule=\"evenodd\" fill-opacity=\"1\" stroke=\"#000000\" stroke-opacity=\"1\" stroke-width=\"2.4\"/>\n",
       "<circle clip-path=\"url(#clip462)\" cx=\"773.82\" cy=\"788.03\" r=\"14.4\" fill=\"#009af9\" fill-rule=\"evenodd\" fill-opacity=\"1\" stroke=\"#000000\" stroke-opacity=\"1\" stroke-width=\"2.4\"/>\n",
       "<circle clip-path=\"url(#clip462)\" cx=\"719.961\" cy=\"759.192\" r=\"14.4\" fill=\"#009af9\" fill-rule=\"evenodd\" fill-opacity=\"1\" stroke=\"#000000\" stroke-opacity=\"1\" stroke-width=\"2.4\"/>\n",
       "<circle clip-path=\"url(#clip462)\" cx=\"723.494\" cy=\"767.546\" r=\"14.4\" fill=\"#009af9\" fill-rule=\"evenodd\" fill-opacity=\"1\" stroke=\"#000000\" stroke-opacity=\"1\" stroke-width=\"2.4\"/>\n",
       "<circle clip-path=\"url(#clip462)\" cx=\"718.672\" cy=\"740.755\" r=\"14.4\" fill=\"#009af9\" fill-rule=\"evenodd\" fill-opacity=\"1\" stroke=\"#000000\" stroke-opacity=\"1\" stroke-width=\"2.4\"/>\n",
       "<circle clip-path=\"url(#clip462)\" cx=\"845.945\" cy=\"746.507\" r=\"14.4\" fill=\"#009af9\" fill-rule=\"evenodd\" fill-opacity=\"1\" stroke=\"#000000\" stroke-opacity=\"1\" stroke-width=\"2.4\"/>\n",
       "<circle clip-path=\"url(#clip462)\" cx=\"758.846\" cy=\"789.784\" r=\"14.4\" fill=\"#009af9\" fill-rule=\"evenodd\" fill-opacity=\"1\" stroke=\"#000000\" stroke-opacity=\"1\" stroke-width=\"2.4\"/>\n",
       "<circle clip-path=\"url(#clip462)\" cx=\"725.331\" cy=\"758.891\" r=\"14.4\" fill=\"#009af9\" fill-rule=\"evenodd\" fill-opacity=\"1\" stroke=\"#000000\" stroke-opacity=\"1\" stroke-width=\"2.4\"/>\n",
       "<circle clip-path=\"url(#clip462)\" cx=\"787.812\" cy=\"753.271\" r=\"14.4\" fill=\"#009af9\" fill-rule=\"evenodd\" fill-opacity=\"1\" stroke=\"#000000\" stroke-opacity=\"1\" stroke-width=\"2.4\"/>\n",
       "<circle clip-path=\"url(#clip462)\" cx=\"878.141\" cy=\"776.678\" r=\"14.4\" fill=\"#009af9\" fill-rule=\"evenodd\" fill-opacity=\"1\" stroke=\"#000000\" stroke-opacity=\"1\" stroke-width=\"2.4\"/>\n",
       "<circle clip-path=\"url(#clip462)\" cx=\"894.666\" cy=\"788.268\" r=\"14.4\" fill=\"#009af9\" fill-rule=\"evenodd\" fill-opacity=\"1\" stroke=\"#000000\" stroke-opacity=\"1\" stroke-width=\"2.4\"/>\n",
       "<circle clip-path=\"url(#clip462)\" cx=\"891.083\" cy=\"782.609\" r=\"14.4\" fill=\"#009af9\" fill-rule=\"evenodd\" fill-opacity=\"1\" stroke=\"#000000\" stroke-opacity=\"1\" stroke-width=\"2.4\"/>\n",
       "<circle clip-path=\"url(#clip462)\" cx=\"791.459\" cy=\"742.542\" r=\"14.4\" fill=\"#009af9\" fill-rule=\"evenodd\" fill-opacity=\"1\" stroke=\"#000000\" stroke-opacity=\"1\" stroke-width=\"2.4\"/>\n",
       "<circle clip-path=\"url(#clip462)\" cx=\"834.876\" cy=\"798.023\" r=\"14.4\" fill=\"#009af9\" fill-rule=\"evenodd\" fill-opacity=\"1\" stroke=\"#000000\" stroke-opacity=\"1\" stroke-width=\"2.4\"/>\n",
       "<circle clip-path=\"url(#clip462)\" cx=\"843.429\" cy=\"764.829\" r=\"14.4\" fill=\"#009af9\" fill-rule=\"evenodd\" fill-opacity=\"1\" stroke=\"#000000\" stroke-opacity=\"1\" stroke-width=\"2.4\"/>\n",
       "<circle clip-path=\"url(#clip462)\" cx=\"889.236\" cy=\"606.342\" r=\"14.4\" fill=\"#009af9\" fill-rule=\"evenodd\" fill-opacity=\"1\" stroke=\"#000000\" stroke-opacity=\"1\" stroke-width=\"2.4\"/>\n",
       "<circle clip-path=\"url(#clip462)\" cx=\"852.269\" cy=\"771.44\" r=\"14.4\" fill=\"#009af9\" fill-rule=\"evenodd\" fill-opacity=\"1\" stroke=\"#000000\" stroke-opacity=\"1\" stroke-width=\"2.4\"/>\n",
       "<circle clip-path=\"url(#clip462)\" cx=\"872.457\" cy=\"736.01\" r=\"14.4\" fill=\"#009af9\" fill-rule=\"evenodd\" fill-opacity=\"1\" stroke=\"#000000\" stroke-opacity=\"1\" stroke-width=\"2.4\"/>\n",
       "<circle clip-path=\"url(#clip462)\" cx=\"863.953\" cy=\"647.664\" r=\"14.4\" fill=\"#009af9\" fill-rule=\"evenodd\" fill-opacity=\"1\" stroke=\"#000000\" stroke-opacity=\"1\" stroke-width=\"2.4\"/>\n",
       "<circle clip-path=\"url(#clip462)\" cx=\"903.921\" cy=\"679.743\" r=\"14.4\" fill=\"#009af9\" fill-rule=\"evenodd\" fill-opacity=\"1\" stroke=\"#000000\" stroke-opacity=\"1\" stroke-width=\"2.4\"/>\n",
       "<circle clip-path=\"url(#clip462)\" cx=\"828.937\" cy=\"790.853\" r=\"14.4\" fill=\"#009af9\" fill-rule=\"evenodd\" fill-opacity=\"1\" stroke=\"#000000\" stroke-opacity=\"1\" stroke-width=\"2.4\"/>\n",
       "<circle clip-path=\"url(#clip462)\" cx=\"854.74\" cy=\"765.206\" r=\"14.4\" fill=\"#009af9\" fill-rule=\"evenodd\" fill-opacity=\"1\" stroke=\"#000000\" stroke-opacity=\"1\" stroke-width=\"2.4\"/>\n",
       "<circle clip-path=\"url(#clip462)\" cx=\"889.331\" cy=\"794.589\" r=\"14.4\" fill=\"#009af9\" fill-rule=\"evenodd\" fill-opacity=\"1\" stroke=\"#000000\" stroke-opacity=\"1\" stroke-width=\"2.4\"/>\n",
       "<circle clip-path=\"url(#clip462)\" cx=\"912.247\" cy=\"562.624\" r=\"14.4\" fill=\"#009af9\" fill-rule=\"evenodd\" fill-opacity=\"1\" stroke=\"#000000\" stroke-opacity=\"1\" stroke-width=\"2.4\"/>\n",
       "<circle clip-path=\"url(#clip462)\" cx=\"881.367\" cy=\"543.549\" r=\"14.4\" fill=\"#009af9\" fill-rule=\"evenodd\" fill-opacity=\"1\" stroke=\"#000000\" stroke-opacity=\"1\" stroke-width=\"2.4\"/>\n",
       "<circle clip-path=\"url(#clip462)\" cx=\"894.186\" cy=\"640.331\" r=\"14.4\" fill=\"#009af9\" fill-rule=\"evenodd\" fill-opacity=\"1\" stroke=\"#000000\" stroke-opacity=\"1\" stroke-width=\"2.4\"/>\n",
       "<circle clip-path=\"url(#clip462)\" cx=\"899.366\" cy=\"470.463\" r=\"14.4\" fill=\"#009af9\" fill-rule=\"evenodd\" fill-opacity=\"1\" stroke=\"#000000\" stroke-opacity=\"1\" stroke-width=\"2.4\"/>\n",
       "<circle clip-path=\"url(#clip462)\" cx=\"869.161\" cy=\"703.224\" r=\"14.4\" fill=\"#009af9\" fill-rule=\"evenodd\" fill-opacity=\"1\" stroke=\"#000000\" stroke-opacity=\"1\" stroke-width=\"2.4\"/>\n",
       "<circle clip-path=\"url(#clip462)\" cx=\"867.861\" cy=\"544.842\" r=\"14.4\" fill=\"#009af9\" fill-rule=\"evenodd\" fill-opacity=\"1\" stroke=\"#000000\" stroke-opacity=\"1\" stroke-width=\"2.4\"/>\n",
       "<circle clip-path=\"url(#clip462)\" cx=\"887.961\" cy=\"604.546\" r=\"14.4\" fill=\"#009af9\" fill-rule=\"evenodd\" fill-opacity=\"1\" stroke=\"#000000\" stroke-opacity=\"1\" stroke-width=\"2.4\"/>\n",
       "<circle clip-path=\"url(#clip462)\" cx=\"893.007\" cy=\"582.635\" r=\"14.4\" fill=\"#009af9\" fill-rule=\"evenodd\" fill-opacity=\"1\" stroke=\"#000000\" stroke-opacity=\"1\" stroke-width=\"2.4\"/>\n",
       "<circle clip-path=\"url(#clip462)\" cx=\"895.628\" cy=\"504.83\" r=\"14.4\" fill=\"#009af9\" fill-rule=\"evenodd\" fill-opacity=\"1\" stroke=\"#000000\" stroke-opacity=\"1\" stroke-width=\"2.4\"/>\n",
       "<circle clip-path=\"url(#clip462)\" cx=\"900.508\" cy=\"467.912\" r=\"14.4\" fill=\"#009af9\" fill-rule=\"evenodd\" fill-opacity=\"1\" stroke=\"#000000\" stroke-opacity=\"1\" stroke-width=\"2.4\"/>\n",
       "<circle clip-path=\"url(#clip462)\" cx=\"884.562\" cy=\"448.298\" r=\"14.4\" fill=\"#009af9\" fill-rule=\"evenodd\" fill-opacity=\"1\" stroke=\"#000000\" stroke-opacity=\"1\" stroke-width=\"2.4\"/>\n",
       "<circle clip-path=\"url(#clip462)\" cx=\"892.612\" cy=\"464.45\" r=\"14.4\" fill=\"#009af9\" fill-rule=\"evenodd\" fill-opacity=\"1\" stroke=\"#000000\" stroke-opacity=\"1\" stroke-width=\"2.4\"/>\n",
       "<circle clip-path=\"url(#clip462)\" cx=\"893.268\" cy=\"429.889\" r=\"14.4\" fill=\"#009af9\" fill-rule=\"evenodd\" fill-opacity=\"1\" stroke=\"#000000\" stroke-opacity=\"1\" stroke-width=\"2.4\"/>\n",
       "<circle clip-path=\"url(#clip462)\" cx=\"883.567\" cy=\"579.63\" r=\"14.4\" fill=\"#009af9\" fill-rule=\"evenodd\" fill-opacity=\"1\" stroke=\"#000000\" stroke-opacity=\"1\" stroke-width=\"2.4\"/>\n",
       "<circle clip-path=\"url(#clip462)\" cx=\"874.376\" cy=\"401.286\" r=\"14.4\" fill=\"#009af9\" fill-rule=\"evenodd\" fill-opacity=\"1\" stroke=\"#000000\" stroke-opacity=\"1\" stroke-width=\"2.4\"/>\n",
       "<circle clip-path=\"url(#clip462)\" cx=\"910.971\" cy=\"450.862\" r=\"14.4\" fill=\"#009af9\" fill-rule=\"evenodd\" fill-opacity=\"1\" stroke=\"#000000\" stroke-opacity=\"1\" stroke-width=\"2.4\"/>\n",
       "<circle clip-path=\"url(#clip462)\" cx=\"888.352\" cy=\"419.544\" r=\"14.4\" fill=\"#009af9\" fill-rule=\"evenodd\" fill-opacity=\"1\" stroke=\"#000000\" stroke-opacity=\"1\" stroke-width=\"2.4\"/>\n",
       "<circle clip-path=\"url(#clip462)\" cx=\"893.829\" cy=\"401.817\" r=\"14.4\" fill=\"#009af9\" fill-rule=\"evenodd\" fill-opacity=\"1\" stroke=\"#000000\" stroke-opacity=\"1\" stroke-width=\"2.4\"/>\n",
       "<circle clip-path=\"url(#clip462)\" cx=\"859.205\" cy=\"458.703\" r=\"14.4\" fill=\"#009af9\" fill-rule=\"evenodd\" fill-opacity=\"1\" stroke=\"#000000\" stroke-opacity=\"1\" stroke-width=\"2.4\"/>\n",
       "<circle clip-path=\"url(#clip462)\" cx=\"894.454\" cy=\"478.99\" r=\"14.4\" fill=\"#009af9\" fill-rule=\"evenodd\" fill-opacity=\"1\" stroke=\"#000000\" stroke-opacity=\"1\" stroke-width=\"2.4\"/>\n",
       "<circle clip-path=\"url(#clip462)\" cx=\"906.266\" cy=\"432.417\" r=\"14.4\" fill=\"#009af9\" fill-rule=\"evenodd\" fill-opacity=\"1\" stroke=\"#000000\" stroke-opacity=\"1\" stroke-width=\"2.4\"/>\n",
       "<circle clip-path=\"url(#clip462)\" cx=\"899.522\" cy=\"395.399\" r=\"14.4\" fill=\"#009af9\" fill-rule=\"evenodd\" fill-opacity=\"1\" stroke=\"#000000\" stroke-opacity=\"1\" stroke-width=\"2.4\"/>\n",
       "<circle clip-path=\"url(#clip462)\" cx=\"905.64\" cy=\"430.694\" r=\"14.4\" fill=\"#009af9\" fill-rule=\"evenodd\" fill-opacity=\"1\" stroke=\"#000000\" stroke-opacity=\"1\" stroke-width=\"2.4\"/>\n",
       "<circle clip-path=\"url(#clip462)\" cx=\"896.171\" cy=\"376.871\" r=\"14.4\" fill=\"#009af9\" fill-rule=\"evenodd\" fill-opacity=\"1\" stroke=\"#000000\" stroke-opacity=\"1\" stroke-width=\"2.4\"/>\n",
       "<circle clip-path=\"url(#clip462)\" cx=\"876.254\" cy=\"390.011\" r=\"14.4\" fill=\"#009af9\" fill-rule=\"evenodd\" fill-opacity=\"1\" stroke=\"#000000\" stroke-opacity=\"1\" stroke-width=\"2.4\"/>\n",
       "<circle clip-path=\"url(#clip462)\" cx=\"898.104\" cy=\"342.895\" r=\"14.4\" fill=\"#009af9\" fill-rule=\"evenodd\" fill-opacity=\"1\" stroke=\"#000000\" stroke-opacity=\"1\" stroke-width=\"2.4\"/>\n",
       "<circle clip-path=\"url(#clip462)\" cx=\"890.713\" cy=\"375.758\" r=\"14.4\" fill=\"#009af9\" fill-rule=\"evenodd\" fill-opacity=\"1\" stroke=\"#000000\" stroke-opacity=\"1\" stroke-width=\"2.4\"/>\n",
       "<circle clip-path=\"url(#clip462)\" cx=\"881.235\" cy=\"374.42\" r=\"14.4\" fill=\"#009af9\" fill-rule=\"evenodd\" fill-opacity=\"1\" stroke=\"#000000\" stroke-opacity=\"1\" stroke-width=\"2.4\"/>\n",
       "<circle clip-path=\"url(#clip462)\" cx=\"922.504\" cy=\"359.538\" r=\"14.4\" fill=\"#009af9\" fill-rule=\"evenodd\" fill-opacity=\"1\" stroke=\"#000000\" stroke-opacity=\"1\" stroke-width=\"2.4\"/>\n",
       "<circle clip-path=\"url(#clip462)\" cx=\"869.954\" cy=\"342.057\" r=\"14.4\" fill=\"#009af9\" fill-rule=\"evenodd\" fill-opacity=\"1\" stroke=\"#000000\" stroke-opacity=\"1\" stroke-width=\"2.4\"/>\n",
       "<circle clip-path=\"url(#clip462)\" cx=\"917.992\" cy=\"408.217\" r=\"14.4\" fill=\"#009af9\" fill-rule=\"evenodd\" fill-opacity=\"1\" stroke=\"#000000\" stroke-opacity=\"1\" stroke-width=\"2.4\"/>\n",
       "<circle clip-path=\"url(#clip462)\" cx=\"926.041\" cy=\"382.851\" r=\"14.4\" fill=\"#009af9\" fill-rule=\"evenodd\" fill-opacity=\"1\" stroke=\"#000000\" stroke-opacity=\"1\" stroke-width=\"2.4\"/>\n",
       "<circle clip-path=\"url(#clip462)\" cx=\"900.175\" cy=\"318.289\" r=\"14.4\" fill=\"#009af9\" fill-rule=\"evenodd\" fill-opacity=\"1\" stroke=\"#000000\" stroke-opacity=\"1\" stroke-width=\"2.4\"/>\n",
       "<circle clip-path=\"url(#clip462)\" cx=\"910.861\" cy=\"356.291\" r=\"14.4\" fill=\"#009af9\" fill-rule=\"evenodd\" fill-opacity=\"1\" stroke=\"#000000\" stroke-opacity=\"1\" stroke-width=\"2.4\"/>\n",
       "<circle clip-path=\"url(#clip462)\" cx=\"893.371\" cy=\"325.579\" r=\"14.4\" fill=\"#009af9\" fill-rule=\"evenodd\" fill-opacity=\"1\" stroke=\"#000000\" stroke-opacity=\"1\" stroke-width=\"2.4\"/>\n",
       "<circle clip-path=\"url(#clip462)\" cx=\"887.977\" cy=\"381.314\" r=\"14.4\" fill=\"#009af9\" fill-rule=\"evenodd\" fill-opacity=\"1\" stroke=\"#000000\" stroke-opacity=\"1\" stroke-width=\"2.4\"/>\n",
       "<circle clip-path=\"url(#clip462)\" cx=\"919.764\" cy=\"368.665\" r=\"14.4\" fill=\"#009af9\" fill-rule=\"evenodd\" fill-opacity=\"1\" stroke=\"#000000\" stroke-opacity=\"1\" stroke-width=\"2.4\"/>\n",
       "<circle clip-path=\"url(#clip462)\" cx=\"888.678\" cy=\"365.562\" r=\"14.4\" fill=\"#009af9\" fill-rule=\"evenodd\" fill-opacity=\"1\" stroke=\"#000000\" stroke-opacity=\"1\" stroke-width=\"2.4\"/>\n",
       "<circle clip-path=\"url(#clip462)\" cx=\"923.965\" cy=\"328.335\" r=\"14.4\" fill=\"#009af9\" fill-rule=\"evenodd\" fill-opacity=\"1\" stroke=\"#000000\" stroke-opacity=\"1\" stroke-width=\"2.4\"/>\n",
       "<circle clip-path=\"url(#clip462)\" cx=\"883.499\" cy=\"320.059\" r=\"14.4\" fill=\"#009af9\" fill-rule=\"evenodd\" fill-opacity=\"1\" stroke=\"#000000\" stroke-opacity=\"1\" stroke-width=\"2.4\"/>\n",
       "<circle clip-path=\"url(#clip462)\" cx=\"905.913\" cy=\"307.585\" r=\"14.4\" fill=\"#009af9\" fill-rule=\"evenodd\" fill-opacity=\"1\" stroke=\"#000000\" stroke-opacity=\"1\" stroke-width=\"2.4\"/>\n",
       "<circle clip-path=\"url(#clip462)\" cx=\"884.877\" cy=\"306.957\" r=\"14.4\" fill=\"#009af9\" fill-rule=\"evenodd\" fill-opacity=\"1\" stroke=\"#000000\" stroke-opacity=\"1\" stroke-width=\"2.4\"/>\n",
       "<circle clip-path=\"url(#clip462)\" cx=\"919.796\" cy=\"358.192\" r=\"14.4\" fill=\"#009af9\" fill-rule=\"evenodd\" fill-opacity=\"1\" stroke=\"#000000\" stroke-opacity=\"1\" stroke-width=\"2.4\"/>\n",
       "<circle clip-path=\"url(#clip462)\" cx=\"918.367\" cy=\"318.989\" r=\"14.4\" fill=\"#009af9\" fill-rule=\"evenodd\" fill-opacity=\"1\" stroke=\"#000000\" stroke-opacity=\"1\" stroke-width=\"2.4\"/>\n",
       "<circle clip-path=\"url(#clip462)\" cx=\"913.38\" cy=\"306.364\" r=\"14.4\" fill=\"#009af9\" fill-rule=\"evenodd\" fill-opacity=\"1\" stroke=\"#000000\" stroke-opacity=\"1\" stroke-width=\"2.4\"/>\n",
       "<circle clip-path=\"url(#clip462)\" cx=\"879.722\" cy=\"302.607\" r=\"14.4\" fill=\"#009af9\" fill-rule=\"evenodd\" fill-opacity=\"1\" stroke=\"#000000\" stroke-opacity=\"1\" stroke-width=\"2.4\"/>\n",
       "<circle clip-path=\"url(#clip462)\" cx=\"908.403\" cy=\"280.445\" r=\"14.4\" fill=\"#009af9\" fill-rule=\"evenodd\" fill-opacity=\"1\" stroke=\"#000000\" stroke-opacity=\"1\" stroke-width=\"2.4\"/>\n",
       "<circle clip-path=\"url(#clip462)\" cx=\"900.231\" cy=\"324.507\" r=\"14.4\" fill=\"#009af9\" fill-rule=\"evenodd\" fill-opacity=\"1\" stroke=\"#000000\" stroke-opacity=\"1\" stroke-width=\"2.4\"/>\n",
       "<circle clip-path=\"url(#clip462)\" cx=\"899.34\" cy=\"283.487\" r=\"14.4\" fill=\"#009af9\" fill-rule=\"evenodd\" fill-opacity=\"1\" stroke=\"#000000\" stroke-opacity=\"1\" stroke-width=\"2.4\"/>\n",
       "<circle clip-path=\"url(#clip462)\" cx=\"879.535\" cy=\"341.18\" r=\"14.4\" fill=\"#009af9\" fill-rule=\"evenodd\" fill-opacity=\"1\" stroke=\"#000000\" stroke-opacity=\"1\" stroke-width=\"2.4\"/>\n",
       "<circle clip-path=\"url(#clip462)\" cx=\"905.603\" cy=\"300.315\" r=\"14.4\" fill=\"#009af9\" fill-rule=\"evenodd\" fill-opacity=\"1\" stroke=\"#000000\" stroke-opacity=\"1\" stroke-width=\"2.4\"/>\n",
       "<circle clip-path=\"url(#clip462)\" cx=\"887.438\" cy=\"300.86\" r=\"14.4\" fill=\"#009af9\" fill-rule=\"evenodd\" fill-opacity=\"1\" stroke=\"#000000\" stroke-opacity=\"1\" stroke-width=\"2.4\"/>\n",
       "<circle clip-path=\"url(#clip462)\" cx=\"939.015\" cy=\"312.33\" r=\"14.4\" fill=\"#009af9\" fill-rule=\"evenodd\" fill-opacity=\"1\" stroke=\"#000000\" stroke-opacity=\"1\" stroke-width=\"2.4\"/>\n",
       "<circle clip-path=\"url(#clip462)\" cx=\"900.682\" cy=\"271.372\" r=\"14.4\" fill=\"#009af9\" fill-rule=\"evenodd\" fill-opacity=\"1\" stroke=\"#000000\" stroke-opacity=\"1\" stroke-width=\"2.4\"/>\n",
       "<circle clip-path=\"url(#clip462)\" cx=\"898.836\" cy=\"318.962\" r=\"14.4\" fill=\"#009af9\" fill-rule=\"evenodd\" fill-opacity=\"1\" stroke=\"#000000\" stroke-opacity=\"1\" stroke-width=\"2.4\"/>\n",
       "<circle clip-path=\"url(#clip462)\" cx=\"898.836\" cy=\"280.365\" r=\"14.4\" fill=\"#009af9\" fill-rule=\"evenodd\" fill-opacity=\"1\" stroke=\"#000000\" stroke-opacity=\"1\" stroke-width=\"2.4\"/>\n",
       "<circle clip-path=\"url(#clip462)\" cx=\"883.635\" cy=\"270.805\" r=\"14.4\" fill=\"#009af9\" fill-rule=\"evenodd\" fill-opacity=\"1\" stroke=\"#000000\" stroke-opacity=\"1\" stroke-width=\"2.4\"/>\n",
       "<circle clip-path=\"url(#clip462)\" cx=\"918.368\" cy=\"269.391\" r=\"14.4\" fill=\"#009af9\" fill-rule=\"evenodd\" fill-opacity=\"1\" stroke=\"#000000\" stroke-opacity=\"1\" stroke-width=\"2.4\"/>\n",
       "<circle clip-path=\"url(#clip462)\" cx=\"905.529\" cy=\"268.146\" r=\"14.4\" fill=\"#009af9\" fill-rule=\"evenodd\" fill-opacity=\"1\" stroke=\"#000000\" stroke-opacity=\"1\" stroke-width=\"2.4\"/>\n",
       "<circle clip-path=\"url(#clip462)\" cx=\"887.937\" cy=\"289.8\" r=\"14.4\" fill=\"#009af9\" fill-rule=\"evenodd\" fill-opacity=\"1\" stroke=\"#000000\" stroke-opacity=\"1\" stroke-width=\"2.4\"/>\n",
       "<circle clip-path=\"url(#clip462)\" cx=\"900.859\" cy=\"285.689\" r=\"14.4\" fill=\"#009af9\" fill-rule=\"evenodd\" fill-opacity=\"1\" stroke=\"#000000\" stroke-opacity=\"1\" stroke-width=\"2.4\"/>\n",
       "<circle clip-path=\"url(#clip462)\" cx=\"881.199\" cy=\"249.771\" r=\"14.4\" fill=\"#009af9\" fill-rule=\"evenodd\" fill-opacity=\"1\" stroke=\"#000000\" stroke-opacity=\"1\" stroke-width=\"2.4\"/>\n",
       "<circle clip-path=\"url(#clip462)\" cx=\"918.936\" cy=\"270.852\" r=\"14.4\" fill=\"#009af9\" fill-rule=\"evenodd\" fill-opacity=\"1\" stroke=\"#000000\" stroke-opacity=\"1\" stroke-width=\"2.4\"/>\n",
       "<circle clip-path=\"url(#clip462)\" cx=\"898.384\" cy=\"275.745\" r=\"14.4\" fill=\"#009af9\" fill-rule=\"evenodd\" fill-opacity=\"1\" stroke=\"#000000\" stroke-opacity=\"1\" stroke-width=\"2.4\"/>\n",
       "<circle clip-path=\"url(#clip462)\" cx=\"906.028\" cy=\"253.313\" r=\"14.4\" fill=\"#009af9\" fill-rule=\"evenodd\" fill-opacity=\"1\" stroke=\"#000000\" stroke-opacity=\"1\" stroke-width=\"2.4\"/>\n",
       "<circle clip-path=\"url(#clip462)\" cx=\"905.323\" cy=\"273.012\" r=\"14.4\" fill=\"#009af9\" fill-rule=\"evenodd\" fill-opacity=\"1\" stroke=\"#000000\" stroke-opacity=\"1\" stroke-width=\"2.4\"/>\n",
       "<circle clip-path=\"url(#clip462)\" cx=\"892.517\" cy=\"242.857\" r=\"14.4\" fill=\"#009af9\" fill-rule=\"evenodd\" fill-opacity=\"1\" stroke=\"#000000\" stroke-opacity=\"1\" stroke-width=\"2.4\"/>\n",
       "<circle clip-path=\"url(#clip462)\" cx=\"912.555\" cy=\"239.49\" r=\"14.4\" fill=\"#009af9\" fill-rule=\"evenodd\" fill-opacity=\"1\" stroke=\"#000000\" stroke-opacity=\"1\" stroke-width=\"2.4\"/>\n",
       "<circle clip-path=\"url(#clip462)\" cx=\"889.703\" cy=\"247.218\" r=\"14.4\" fill=\"#009af9\" fill-rule=\"evenodd\" fill-opacity=\"1\" stroke=\"#000000\" stroke-opacity=\"1\" stroke-width=\"2.4\"/>\n",
       "<circle clip-path=\"url(#clip462)\" cx=\"874.72\" cy=\"218.448\" r=\"14.4\" fill=\"#009af9\" fill-rule=\"evenodd\" fill-opacity=\"1\" stroke=\"#000000\" stroke-opacity=\"1\" stroke-width=\"2.4\"/>\n",
       "<circle clip-path=\"url(#clip462)\" cx=\"883.899\" cy=\"207.331\" r=\"14.4\" fill=\"#009af9\" fill-rule=\"evenodd\" fill-opacity=\"1\" stroke=\"#000000\" stroke-opacity=\"1\" stroke-width=\"2.4\"/>\n",
       "<circle clip-path=\"url(#clip462)\" cx=\"899.976\" cy=\"197.473\" r=\"14.4\" fill=\"#009af9\" fill-rule=\"evenodd\" fill-opacity=\"1\" stroke=\"#000000\" stroke-opacity=\"1\" stroke-width=\"2.4\"/>\n",
       "<circle clip-path=\"url(#clip462)\" cx=\"903.624\" cy=\"223.918\" r=\"14.4\" fill=\"#009af9\" fill-rule=\"evenodd\" fill-opacity=\"1\" stroke=\"#000000\" stroke-opacity=\"1\" stroke-width=\"2.4\"/>\n",
       "<circle clip-path=\"url(#clip462)\" cx=\"865.781\" cy=\"203.623\" r=\"14.4\" fill=\"#009af9\" fill-rule=\"evenodd\" fill-opacity=\"1\" stroke=\"#000000\" stroke-opacity=\"1\" stroke-width=\"2.4\"/>\n",
       "<circle clip-path=\"url(#clip462)\" cx=\"890.608\" cy=\"221.8\" r=\"14.4\" fill=\"#009af9\" fill-rule=\"evenodd\" fill-opacity=\"1\" stroke=\"#000000\" stroke-opacity=\"1\" stroke-width=\"2.4\"/>\n",
       "<circle clip-path=\"url(#clip462)\" cx=\"904.253\" cy=\"242.433\" r=\"14.4\" fill=\"#009af9\" fill-rule=\"evenodd\" fill-opacity=\"1\" stroke=\"#000000\" stroke-opacity=\"1\" stroke-width=\"2.4\"/>\n",
       "<circle clip-path=\"url(#clip462)\" cx=\"914.182\" cy=\"220.016\" r=\"14.4\" fill=\"#009af9\" fill-rule=\"evenodd\" fill-opacity=\"1\" stroke=\"#000000\" stroke-opacity=\"1\" stroke-width=\"2.4\"/>\n",
       "<path clip-path=\"url(#clip460)\" d=\"M161.623 185.122 L316.584 185.122 L316.584 81.4416 L161.623 81.4416  Z\" fill=\"#ffffff\" fill-rule=\"evenodd\" fill-opacity=\"1\"/>\n",
       "<polyline clip-path=\"url(#clip460)\" style=\"stroke:#000000; stroke-linecap:round; stroke-linejoin:round; stroke-width:4; stroke-opacity:1; fill:none\" points=\"161.623,185.122 316.584,185.122 316.584,81.4416 161.623,81.4416 161.623,185.122 \"/>\n",
       "<circle clip-path=\"url(#clip460)\" cx=\"207.192\" cy=\"133.282\" r=\"23.04\" fill=\"#009af9\" fill-rule=\"evenodd\" fill-opacity=\"1\" stroke=\"#000000\" stroke-opacity=\"1\" stroke-width=\"3.84\"/>\n",
       "<path clip-path=\"url(#clip460)\" d=\"M266.604 152.969 Q264.798 157.599 263.085 159.011 Q261.372 160.423 258.502 160.423 L255.099 160.423 L255.099 156.858 L257.599 156.858 Q259.358 156.858 260.331 156.024 Q261.303 155.191 262.483 152.089 L263.247 150.145 L252.761 124.636 L257.275 124.636 L265.377 144.913 L273.479 124.636 L277.993 124.636 L266.604 152.969 Z\" fill=\"#000000\" fill-rule=\"evenodd\" fill-opacity=\"1\" /><path clip-path=\"url(#clip460)\" d=\"M285.284 146.626 L292.923 146.626 L292.923 120.261 L284.613 121.927 L284.613 117.668 L292.877 116.002 L297.553 116.002 L297.553 146.626 L305.192 146.626 L305.192 150.562 L285.284 150.562 L285.284 146.626 Z\" fill=\"#000000\" fill-rule=\"evenodd\" fill-opacity=\"1\" /></svg>\n"
      ]
     },
     "execution_count": 35,
     "metadata": {},
     "output_type": "execute_result"
    }
   ],
   "source": [
    "p = _ps[1]\n",
    "w = 10\n",
    "s_noise=0.1\n",
    "dropout=0.1\n",
    "x = sensor_model_GPU(p, w, s_noise, dropout);\n",
    "plot(size=(300,300), aspect_ratio=:equal)\n",
    "scatter!(x.*p)"
   ]
  },
  {
   "cell_type": "markdown",
   "id": "4d675c2c",
   "metadata": {},
   "source": [
    "### static model"
   ]
  },
  {
   "cell_type": "code",
   "execution_count": 38,
   "id": "a4d7304e",
   "metadata": {},
   "outputs": [],
   "source": [
    "#nbx\n",
    "@gen function slam_kernel(t, state, us, x_noise, hd_noise, w, s_noise, dropout)\n",
    "    \n",
    "        p,_ = state\n",
    "        u = us[t]\n",
    "    \n",
    "        p  = {:pose}   ~ motion_model(p, u, x_noise, hd_noise)\n",
    "        x  = {:sensor} ~ sensor_model_GPU(p, w, s_noise, dropout) # GPU accelerated\n",
    "        \n",
    "    return (p, x)\n",
    "end\n",
    "\n",
    "slam_chain = Gen.Unfold(slam_kernel)\n",
    "Gen.@load_generated_functions"
   ]
  },
  {
   "cell_type": "code",
   "execution_count": 39,
   "id": "f77f181f",
   "metadata": {},
   "outputs": [],
   "source": [
    "#nbx\n",
    "\"\"\"\n",
    "    [(p,z),...] = static_slam_model(T, segs_, a_, us, motion_noise, sensor_noise, dropout, inds)\n",
    "\n",
    "Static SLAM model ...\n",
    "\"\"\"\n",
    "@gen (static) function static_slam_model(T, us, \n",
    "        p0, x0_noise, hd0_noise,  \n",
    "        x_noise, hd_noise, \n",
    "        w, s_noise, dropout)\n",
    "    \n",
    "    # Start the Markov chain; \n",
    "    # No motion, just the prior\n",
    "    p  = { :pose   } ~ pose_prior_model(p0, x0_noise, hd0_noise)\n",
    "    x  = { :sensor } ~ sensor_model_GPU(p, w, s_noise, dropout) # GPU accelerated\n",
    "    \n",
    "    # Unfold the MArkov chain\n",
    "    chain ~ slam_chain(T, (p, nothing), us, \n",
    "        x_noise, hd_noise, \n",
    "        w, s_noise, dropout)\n",
    "    \n",
    "    return [(p,x);chain]\n",
    "end\n",
    "\n",
    "Gen.@load_generated_functions"
   ]
  },
  {
   "cell_type": "code",
   "execution_count": 40,
   "id": "bf9e3ac7",
   "metadata": {},
   "outputs": [
    {
     "data": {
      "text/plain": [
       "get_first_x (generic function with 1 method)"
      ]
     },
     "execution_count": 40,
     "metadata": {},
     "output_type": "execute_result"
    }
   ],
   "source": [
    "#nbx\n",
    "get_pose(tr,t)     = tr[][t][1]\n",
    "get_last_pose(tr)  = tr[][end][1]\n",
    "get_first_pose(tr) = get_pose(tr,1)\n",
    "\n",
    "get_x(tr,t)     = tr[][t][2]\n",
    "get_first_x(tr) = get_x(tr,1)"
   ]
  },
  {
   "cell_type": "markdown",
   "id": "cce71dc0",
   "metadata": {},
   "source": [
    "### extend"
   ]
  },
  {
   "cell_type": "code",
   "execution_count": 43,
   "id": "f1a551d0",
   "metadata": {},
   "outputs": [
    {
     "data": {
      "text/plain": [
       "extend (generic function with 1 method)"
      ]
     },
     "execution_count": 43,
     "metadata": {},
     "output_type": "execute_result"
    }
   ],
   "source": [
    "#nbx\n",
    "function extend(tr, obs, grid_args)\n",
    "\n",
    "    args  = get_args(tr)    \n",
    "    diffs = argdiffs([1;fill(0,length(args))])\n",
    "    t = args[1]    \n",
    "    x = stack(obs[:chain => t+1 => :sensor => :x])\n",
    "    \n",
    "    p = get_last_pose(tr)\n",
    "    proposal_tr = simulate(iterated_proposal, (p, x, grid_args...));\n",
    "    proposal_sc = get_score(proposal_tr)\n",
    "    p′, = proposal_tr[];\n",
    "    \n",
    "    \n",
    "    ch = choicemap()\n",
    "    ch[:chain => t+1 => :pose => :x]  = p′.x\n",
    "    ch[:chain => t+1 => :pose => :hd]  = p′.hd\n",
    "        \n",
    "    tr′,w′,_,_ = Gen.update(tr,(t+1,args[2:end]...),diffs,merge(obs,ch))\n",
    "    \n",
    "    return tr′, w′ - proposal_sc\n",
    "    \n",
    "end"
   ]
  },
  {
   "cell_type": "code",
   "execution_count": 44,
   "id": "822f5c1b",
   "metadata": {},
   "outputs": [
    {
     "data": {
      "text/plain": [
       "constraints (generic function with 1 method)"
      ]
     },
     "execution_count": 44,
     "metadata": {},
     "output_type": "execute_result"
    }
   ],
   "source": [
    "#nbx\n",
    "function constraints(t::Int)\n",
    "    ch = choicemap()\n",
    "    if t==0\n",
    "        addr  = :sensor => :x\n",
    "    else\n",
    "        addr  = :chain => t => :sensor => :x\n",
    "    end\n",
    "    n = length(_zs[t+1])\n",
    "    x = polar_inv(_zs[t+1],_as)\n",
    "    ch[addr] = x\n",
    "    return ch\n",
    "end"
   ]
  },
  {
   "cell_type": "code",
   "execution_count": 46,
   "id": "a5dde131",
   "metadata": {},
   "outputs": [
    {
     "name": "stdout",
     "output_type": "stream",
     "text": [
      "  0.001507 seconds (1.25 k allocations: 76.625 KiB)\n"
     ]
    }
   ],
   "source": [
    "T = 0\n",
    "\n",
    "p0 = _ps[1]\n",
    "x0_noise = .0001\n",
    "hd0_noise = .00001\n",
    "\n",
    "x_noise = 0.1\n",
    "hd_noise = 10.\n",
    "\n",
    "wind = 30\n",
    "s_noise = 0.2\n",
    "dropout = 1e-6\n",
    "\n",
    "ch = constraints(0)\n",
    "\n",
    "args = (_us,         \n",
    "    p0, x0_noise, hd0_noise, # Pose prior model\n",
    "    x_noise, hd_noise,       # Motion model\n",
    "    wind, s_noise, dropout   # Sensor model\n",
    ")\n",
    "\n",
    "@time tr, w = generate(static_slam_model, (T,args...), ch);"
   ]
  },
  {
   "cell_type": "code",
   "execution_count": 47,
   "id": "a707c639",
   "metadata": {},
   "outputs": [],
   "source": [
    "for T=1:10\n",
    "\n",
    "    x   = stack(polar_inv(_zs[T+1],_as))\n",
    "\n",
    "    n = 5\n",
    "    w   = fill(60, n)\n",
    "    sig = fill(0.2,n)\n",
    "    dropout = fill(1e-9,n)\n",
    "\n",
    "    grid_k   = [4, 4, 4, 4, 4]\n",
    "    grid_dx  = [1., 0.4, 0.125, 0.125, 0.125]\n",
    "    grid_dhd = [90.0, 45, 22.5, 10, 10]\n",
    "\n",
    "    grid_args = (w, sig, dropout, grid_k, grid_dx, grid_dhd)\n",
    "\n",
    "\n",
    "    ch = constraints(T)\n",
    "\n",
    "    tr, dw = extend(tr, ch, grid_args);\n",
    "end"
   ]
  },
  {
   "cell_type": "code",
   "execution_count": 106,
   "id": "0195160f",
   "metadata": {},
   "outputs": [],
   "source": [
    "# p0 = _ps[1]\n",
    "# x0_noise = .0001\n",
    "# hd0_noise = .00001\n",
    "\n",
    "# x_noise  = 0.5\n",
    "# hd_noise = 20.\n",
    "\n",
    "# wind = 30\n",
    "# s_noise = 0.2\n",
    "# dropout = 1e-6\n",
    "\n",
    "# args = (_us,         \n",
    "#     p0, x0_noise, hd0_noise, # Pose prior model\n",
    "#     x_noise, hd_noise,       # Motion model\n",
    "#     wind, s_noise, dropout   # Sensor model\n",
    "# );"
   ]
  },
  {
   "cell_type": "markdown",
   "id": "059384e3",
   "metadata": {},
   "source": [
    "### naive posterior"
   ]
  },
  {
   "cell_type": "code",
   "execution_count": 48,
   "id": "246eff5a",
   "metadata": {},
   "outputs": [
    {
     "data": {
      "text/plain": [
       "naive_posterior (generic function with 1 method)"
      ]
     },
     "execution_count": 48,
     "metadata": {},
     "output_type": "execute_result"
    }
   ],
   "source": [
    "function naive_posterior(T, N, args)\n",
    "\n",
    "    ch = choicemap()\n",
    "    for t=0:T\n",
    "        ch = merge(ch, constraints(t))\n",
    "    end\n",
    "    \n",
    "    trs, ws, = importance_sampling(static_slam_model, (T,args...), ch, N);\n",
    "    \n",
    "    probs = exp.(ws .- logsumexp_cu(ws, 1))\n",
    "    i = categorical(probs)\n",
    "    tr = trs[i]\n",
    "    w  = ws[i]\n",
    "    \n",
    "    tr, w\n",
    "end"
   ]
  },
  {
   "cell_type": "markdown",
   "id": "d5524af8",
   "metadata": {},
   "source": [
    "### Simple Particle filter"
   ]
  },
  {
   "cell_type": "code",
   "execution_count": null,
   "id": "d35cbe6b",
   "metadata": {},
   "outputs": [],
   "source": []
  },
  {
   "cell_type": "code",
   "execution_count": 49,
   "id": "3543995f",
   "metadata": {},
   "outputs": [
    {
     "data": {
      "text/plain": [
       "simple_posterior (generic function with 1 method)"
      ]
     },
     "execution_count": 49,
     "metadata": {},
     "output_type": "execute_result"
    }
   ],
   "source": [
    "function simple_posterior(T, N, args)\n",
    "    ch = constraints(0)\n",
    "    tr, w = generate(static_slam_model, (0,args...), ch);\n",
    "    \n",
    "    trs = fill(tr, N)\n",
    "    ws  = fill(w,N)\n",
    "    \n",
    "    diffs = argdiffs([1;fill(0,length(args))])\n",
    "    for t=1:T\n",
    "        ch = constraints(t)        \n",
    "        for i=1:N\n",
    "            tr, dw, _, _ = Gen.update(trs[i], (t,args...), diffs, ch); \n",
    "            trs[i] = tr\n",
    "            ws[i] += dw \n",
    "        end\n",
    "        probs = exp.(ws .- logsumexp_cu(ws, 1))\n",
    "#         i = argmax(probs)\n",
    "#         inds = Distributions.rand(Distributions.Categorical(probs), (N,))\n",
    "#         trs = trs[inds]\n",
    "#         ws = zeros(N)\n",
    "    end\n",
    "    \n",
    "    probs = exp.(ws .- logsumexp_cu(ws, 1))\n",
    "    i = categorical(probs)\n",
    "#     i = argmax(probs)\n",
    "    tr = trs[i]\n",
    "    w  = ws[i]\n",
    "    tr, w\n",
    "end"
   ]
  },
  {
   "cell_type": "markdown",
   "id": "93d07213",
   "metadata": {},
   "source": [
    "### SMC posterior"
   ]
  },
  {
   "cell_type": "code",
   "execution_count": 50,
   "id": "a2874cc1",
   "metadata": {},
   "outputs": [
    {
     "data": {
      "text/plain": [
       "smc_posterior (generic function with 1 method)"
      ]
     },
     "execution_count": 50,
     "metadata": {},
     "output_type": "execute_result"
    }
   ],
   "source": [
    "function smc_posterior(T, args, grid_args)\n",
    "\n",
    "\n",
    "    ch = constraints(0)\n",
    "        \n",
    "    tr, w = generate(static_slam_model, (0,args...), ch);\n",
    "    for t=1:T\n",
    "\n",
    "        x   = stack(polar_inv(_zs[t+1],_as))\n",
    "        ch = constraints(t)\n",
    "        \n",
    "        # Similar to \"SimpleExtendingTraceTranslator\"\n",
    "        # Grid \"search\" happens within that func\n",
    "        tr, dw = extend(tr, ch, grid_args);\n",
    "        w = w + dw\n",
    "    end\n",
    "    return tr, w\n",
    "end"
   ]
  },
  {
   "cell_type": "markdown",
   "id": "e79ddf74",
   "metadata": {},
   "source": [
    "## Ani"
   ]
  },
  {
   "cell_type": "code",
   "execution_count": 51,
   "id": "43606d88",
   "metadata": {},
   "outputs": [
    {
     "data": {
      "text/plain": [
       "perturb (generic function with 4 methods)"
      ]
     },
     "execution_count": 51,
     "metadata": {},
     "output_type": "execute_result"
    }
   ],
   "source": [
    "function perturb(us::Vector{Tuple{Vector{Float64}, Float64}}, x_noise=0.1, hd_noise=10.0)\n",
    "   us_tilde = [(\n",
    "            u[1]+diagnormal([0;0],[x_noise;x_noise]),\n",
    "            u[2]+normal(0,hd_noise/360*2π))\n",
    "        for u in us\n",
    "    ]\n",
    "    return us_tilde\n",
    "end"
   ]
  },
  {
   "cell_type": "code",
   "execution_count": 52,
   "id": "74155ec1",
   "metadata": {},
   "outputs": [],
   "source": [
    "p0 = _ps[1]\n",
    "x0_noise  = .0001\n",
    "hd0_noise = .0001\n",
    "\n",
    "# Motion/Control noise\n",
    "x_noise  = 0.25\n",
    "hd_noise = 10.\n",
    "\n",
    "# Sensor args\n",
    "wind    = 10\n",
    "s_noise = 0.1\n",
    "dropout = 1e-8\n",
    "\n",
    "args = (\n",
    "    _us,         \n",
    "    p0, x0_noise, hd0_noise, # Pose prior model\n",
    "    x_noise, hd_noise,       # Motion model\n",
    "    wind, s_noise, dropout   # Sensor model\n",
    ");\n",
    "\n",
    "get_model_args(x_noise, hd_noise, wind, s_noise) = (\n",
    "    perturb(_us, x_noise, hd_noise),         \n",
    "    p0, x0_noise, hd0_noise, # Pose prior model\n",
    "    x_noise, hd_noise,       # Motion model\n",
    "    wind, s_noise, dropout   # Sensor model\n",
    ");"
   ]
  },
  {
   "cell_type": "code",
   "execution_count": 53,
   "id": "c885e6db",
   "metadata": {},
   "outputs": [],
   "source": [
    "n   = 5\n",
    "w   = fill(20, n)\n",
    "sig = fill(0.1,n)\n",
    "fill(dropout,n)\n",
    "\n",
    "grid_k   = [4, 4, 4, 4, 4]\n",
    "grid_dx  = [1., 0.4, 0.125, 0.125, 0.125]\n",
    "grid_dhd = [90.0, 45, 22.5, 10, 10]\n",
    "\n",
    "grid_args = (w, sig, dropout, grid_k, grid_dx, grid_dhd);\n",
    "\n",
    "get_grid_args(n, k, w,sig) = (\n",
    "    fill(w, n), \n",
    "    fill(sig, n), \n",
    "    fill(1e-9,n), \n",
    "    fill(k, n), \n",
    "    collect(range(1.0, 0.125, n)),\n",
    "    collect(range(90.0, 10., n))\n",
    ");"
   ]
  },
  {
   "cell_type": "code",
   "execution_count": 54,
   "id": "b6ab89d6",
   "metadata": {},
   "outputs": [],
   "source": [
    "args = get_model_args(0.1, 5.0, 10, 0.2)\n",
    "grid_args = get_grid_args(4, 4, 10, 0.2)\n",
    "\n",
    "naive_posterior(1, 10, args);\n",
    "simple_posterior(1, 10, args);\n",
    "smc_posterior(1, args, grid_args);"
   ]
  },
  {
   "cell_type": "code",
   "execution_count": 55,
   "id": "d41f9a3a",
   "metadata": {},
   "outputs": [
    {
     "data": {
      "application/vnd.webio.node+json": {
       "children": [],
       "instanceArgs": {
        "namespace": "html",
        "tag": "div"
       },
       "nodeType": "DOM",
       "props": {},
       "type": "node"
      },
      "text/html": [
       "<div style=\"padding: 1em; background-color: #f8d6da; border: 1px solid #f5c6cb; font-weight: bold;\">\n",
       "<p>The WebIO Jupyter extension was not detected. See the\n",
       "<a href=\"https://juliagizmos.github.io/WebIO.jl/latest/providers/ijulia/\" target=\"_blank\">\n",
       "    WebIO Jupyter integration documentation\n",
       "</a>\n",
       "for more information.\n",
       "</div>\n"
      ],
      "text/plain": [
       "WebIO._IJuliaInit()"
      ]
     },
     "metadata": {
      "application/vnd.webio.node+json": {
       "kernelId": "6f2bdd22-6166-40b9-990e-86828e82b2dd"
      }
     },
     "output_type": "display_data"
    }
   ],
   "source": [
    "using Interact\n"
   ]
  },
  {
   "cell_type": "markdown",
   "id": "6f2d595e",
   "metadata": {},
   "source": [
    "## Interact"
   ]
  },
  {
   "cell_type": "code",
   "execution_count": 56,
   "id": "5968581b",
   "metadata": {},
   "outputs": [
    {
     "data": {
      "text/plain": [
       "plot_it (generic function with 1 method)"
      ]
     },
     "execution_count": 56,
     "metadata": {},
     "output_type": "execute_result"
    }
   ],
   "source": [
    "function plot_it(\n",
    "        posterior, show_u, show_x,\n",
    "        n,T,N, \n",
    "        x_noise, hd_noise, \n",
    "        mix_w, s_noise, \n",
    "        grid_n, grid_k, grid_w, grid_s_noise\n",
    "        )\n",
    "    args = get_model_args(x_noise, hd_noise, mix_w, s_noise);\n",
    "    grid_args = get_grid_args(grid_n, grid_k, grid_w, grid_s_noise);\n",
    "    \n",
    "    trs = []\n",
    "    for i=1:n\n",
    "        print(i)\n",
    "        if posterior == :naive\n",
    "            tr,w = naive_posterior(T, N, args)\n",
    "        elseif posterior == :pf\n",
    "            tr,w = simple_posterior(T, N, args)\n",
    "        elseif posterior == :smc\n",
    "            tr,w = smc_posterior(T, args, grid_args)\n",
    "        end\n",
    "        push!(trs,tr)\n",
    "    end\n",
    "    \n",
    "    \n",
    "\n",
    "    ani = Animation()\n",
    "    for i=1:length(trs)\n",
    "        \n",
    "        mypl = plot(\n",
    "            size=(500,500), legend=nothing, \n",
    "            title=\"$(posterior)\\nσₓ = $(x_noise)\\nσᵣ = $(hd_noise)\"; \n",
    "            xlim=(4,17),\n",
    "            ylim=(8,19),\n",
    "            aspect_ratio=:equal)\n",
    "\n",
    "        plot!(_segs, c=:black, linewidth=2)\n",
    "\n",
    "        if show_x\n",
    "            tt = T\n",
    "            x_true = polar_inv(_zs[tt],_as)\n",
    "            scatter!(x_true.*_ps[tt], c=:red, markersize=2, markerstrokewidth=0, alpha=0.5 )\n",
    "        end\n",
    "        \n",
    "        n=14\n",
    "        ss = range(0,0.9,n)\n",
    "        for j=1:n\n",
    "\n",
    "            s= ss[j]\n",
    "            i_ = mod(i+j-1,length(trs))+1\n",
    "            tr = trs[i_]\n",
    "\n",
    "            ps = [r[1] for r in tr[]];\n",
    "            xs = [r[2] for r in tr[]];\n",
    "\n",
    "            c = :lightgray\n",
    "            plot!([p.x for p in ps], c=c, linewidth=1, alpha=range(0,0.8,n)[j] )\n",
    "            plot!(ps, c=c, r=0.25, linewidth=2, alpha=range(0,1.,n)[j] )\n",
    "        end\n",
    "\n",
    "\n",
    "        plot!(_ps[1:T+1],c=:black, r=0.5, linewidth=2)\n",
    "        \n",
    "        if show_x\n",
    "            tt = T\n",
    "            plot!([_ps[tt]],c=:red, r=0.5, linewidth=3)\n",
    "        end\n",
    "        \n",
    "        if show_u\n",
    "            pus = [Pose(p.x+u[1],p.hd+u[2]) for (p,u) in zip(_ps[2:end],args[1])]\n",
    "            for tt in 1:T\n",
    "                plot!([_ps[1+tt].x,pus[tt].x],c=:green, r=0.25, linewidth=2, alpha=0.5)\n",
    "            end\n",
    "            plot!(pus[1:T],c=:green, r=0.25, linewidth=2)\n",
    "        end\n",
    "\n",
    "\n",
    "        frame(ani, mypl)\n",
    "    end\n",
    "    \n",
    "    gif(ani, fps=15)\n",
    "end"
   ]
  },
  {
   "cell_type": "code",
   "execution_count": 66,
   "id": "bbdb7e16",
   "metadata": {},
   "outputs": [],
   "source": [
    "1"
   ]
  },
  {
   "cell_type": "code",
   "execution_count": 64,
   "id": "be1a47d8",
   "metadata": {},
   "outputs": [],
   "source": [
    "n = slider(1:20:60, value=1, label=\"# samples\")\n",
    "T = slider(5:20, value=5, label=\"T\")\n",
    "N = slider(1:50:250, value=1, label=\"# particles\")\n",
    "show_u = toggle(label = \"show u\", value=false)\n",
    "show_x = toggle(label = \"show obs\", value=false)\n",
    "posterior = togglebuttons([:naive, :pf, :smc])\n",
    "\n",
    "x_noise  = slider(range(0.001,0.5,5), label=\"n=x_noise\")\n",
    "hd_noise = slider(range(0.001,45.,5), label=\"hd_noise\")\n",
    "mix_w    = slider( 1:5:50, label=\"mixture size\")\n",
    "s_noise  = slider(range(0.01,1.0,10), label=\"s_noise\")\n",
    "\n",
    "grid_n = slider(1:10,label=\"grid iters\")\n",
    "grid_k = slider(2:10,label=\"grid shape\")\n",
    "grid_w = slider(1:5:50,label=\"grid mixture size\")\n",
    "grid_s_noise = slider(range(0.01,1.0,10),label=\"grid s_noise\")\n",
    "\n",
    "sample = button(\"Sample\")\n",
    "\n",
    "plt = Interact.@map (&sample;  plot_it(\n",
    "        posterior[], show_u[], show_x[],\n",
    "        n[],T[],N[], \n",
    "        x_noise[], hd_noise[], \n",
    "        mix_w[], s_noise[], \n",
    "        grid_n[], grid_k[], grid_w[], grid_s_noise[]\n",
    "        )\n",
    ")\n",
    "\n",
    "vbox(\n",
    "    sample,\n",
    "    hbox(posterior),\n",
    "    hbox(show_u, show_x),\n",
    "    hbox(n,T,N),\n",
    "    hbox(x_noise, hd_noise, mix_w, s_noise),\n",
    "    hbox(grid_n, grid_k,grid_w,grid_s_noise),\n",
    "    plt\n",
    ")"
   ]
  },
  {
   "cell_type": "code",
   "execution_count": 141,
   "id": "a2d17685",
   "metadata": {
    "scrolled": false
   },
   "outputs": [
    {
     "name": "stdout",
     "output_type": "stream",
     "text": [
      "1\n",
      "1"
     ]
    },
    {
     "name": "stderr",
     "output_type": "stream",
     "text": [
      "\u001b[36m\u001b[1m[ \u001b[22m\u001b[39m\u001b[36m\u001b[1mInfo: \u001b[22m\u001b[39mSaved animation to /home/ubuntu/workspace/probabilistic-slam-in-gen/notebooks/_gifs/_vkm_2/loc_naive.gif\n"
     ]
    },
    {
     "data": {
      "application/vnd.webio.node+json": {
       "children": [
        {
         "children": [
          {
           "children": [
            {
             "children": [
              {
               "children": [
                {
                 "children": [
                  "n"
                 ],
                 "instanceArgs": {
                  "namespace": "html",
                  "tag": "label"
                 },
                 "nodeType": "DOM",
                 "props": {
                  "className": "interact ",
                  "style": {
                   "padding": "5px 10px 0px 10px"
                  }
                 },
                 "type": "node"
                }
               ],
               "instanceArgs": {
                "namespace": "html",
                "tag": "div"
               },
               "nodeType": "DOM",
               "props": {
                "className": "interact-flex-row-left"
               },
               "type": "node"
              },
              {
               "children": [
                {
                 "children": [],
                 "instanceArgs": {
                  "namespace": "html",
                  "tag": "input"
                 },
                 "nodeType": "DOM",
                 "props": {
                  "attributes": {
                   "data-bind": "numericValue: index, valueUpdate: 'input', event: {change: function (){this.changes(this.changes()+1)}}",
                   "orient": "horizontal",
                   "type": "range"
                  },
                  "className": "slider slider is-fullwidth",
                  "max": 3,
                  "min": 1,
                  "step": 1,
                  "style": {}
                 },
                 "type": "node"
                }
               ],
               "instanceArgs": {
                "namespace": "html",
                "tag": "div"
               },
               "nodeType": "DOM",
               "props": {
                "className": "interact-flex-row-center"
               },
               "type": "node"
              },
              {
               "children": [
                {
                 "children": [],
                 "instanceArgs": {
                  "namespace": "html",
                  "tag": "p"
                 },
                 "nodeType": "DOM",
                 "props": {
                  "attributes": {
                   "data-bind": "text: formatted_val"
                  }
                 },
                 "type": "node"
                }
               ],
               "instanceArgs": {
                "namespace": "html",
                "tag": "div"
               },
               "nodeType": "DOM",
               "props": {
                "className": "interact-flex-row-right"
               },
               "type": "node"
              }
             ],
             "instanceArgs": {
              "namespace": "html",
              "tag": "div"
             },
             "nodeType": "DOM",
             "props": {
              "className": "interact-flex-row interact-widget"
             },
             "type": "node"
            }
           ],
           "instanceArgs": {
            "handlers": {
             "changes": [
              "(function (val){return (val!=this.model[\"changes\"]()) ? (this.valueFromJulia[\"changes\"]=true, this.model[\"changes\"](val)) : undefined})"
             ],
             "index": [
              "(function (val){return (val!=this.model[\"index\"]()) ? (this.valueFromJulia[\"index\"]=true, this.model[\"index\"](val)) : undefined})"
             ]
            },
            "id": "16385328324342212876",
            "imports": {
             "data": [
              {
               "name": "knockout",
               "type": "js",
               "url": "/assetserver/4b78a831658f9469be0fa90a874237d533cfc56e-knockout.js"
              },
              {
               "name": "knockout_punches",
               "type": "js",
               "url": "/assetserver/32cf81589ef7eb25886db6e5be297d237f8599ce-knockout_punches.js"
              },
              {
               "name": null,
               "type": "js",
               "url": "/assetserver/4c861182dd4c5b1a7b80754ca907d70e11c2410c-all.js"
              },
              {
               "name": null,
               "type": "css",
               "url": "/assetserver/55ec2ee389419b72c3c6088bc3fbe3d7187a5fc0-style.css"
              },
              {
               "name": null,
               "type": "css",
               "url": "/assetserver/bb71acf9697a201a164f98e5fab8a4f7b4f82041-bulma_confined.min.css"
              }
             ],
             "type": "async_block"
            },
            "mount_callbacks": [
             "function () {\n    var handler = (function (ko, koPunches) {\n    ko.punches.enableAll();\n    ko.bindingHandlers.numericValue = {\n        init: function(element, valueAccessor, allBindings, data, context) {\n            var stringified = ko.observable(ko.unwrap(valueAccessor()));\n            stringified.subscribe(function(value) {\n                var val = parseFloat(value);\n                if (!isNaN(val)) {\n                    valueAccessor()(val);\n                }\n            });\n            valueAccessor().subscribe(function(value) {\n                var str = JSON.stringify(value);\n                if ((str == \"0\") && ([\"-0\", \"-0.\"].indexOf(stringified()) >= 0))\n                     return;\n                 if ([\"null\", \"\"].indexOf(str) >= 0)\n                     return;\n                stringified(str);\n            });\n            ko.applyBindingsToNode(\n                element,\n                {\n                    value: stringified,\n                    valueUpdate: allBindings.get('valueUpdate'),\n                },\n                context,\n            );\n        }\n    };\n    var json_data = {\"formatted_vals\":[\"1\",\"21\",\"41\"],\"changes\":WebIO.getval({\"name\":\"changes\",\"scope\":\"16385328324342212876\",\"id\":\"6134814117290500317\",\"type\":\"observable\"}),\"index\":WebIO.getval({\"name\":\"index\",\"scope\":\"16385328324342212876\",\"id\":\"12004230819449100993\",\"type\":\"observable\"})};\n    var self = this;\n    function AppViewModel() {\n        for (var key in json_data) {\n            var el = json_data[key];\n            this[key] = Array.isArray(el) ? ko.observableArray(el) : ko.observable(el);\n        }\n        \n        [this[\"formatted_val\"]=ko.computed(    function(){\n        return this.formatted_vals()[parseInt(this.index())-(1)];\n    }\n,this)]\n        [this[\"changes\"].subscribe((function (val){!(this.valueFromJulia[\"changes\"]) ? (WebIO.setval({\"name\":\"changes\",\"scope\":\"16385328324342212876\",\"id\":\"6134814117290500317\",\"type\":\"observable\"},val)) : undefined; return this.valueFromJulia[\"changes\"]=false}),self),this[\"index\"].subscribe((function (val){!(this.valueFromJulia[\"index\"]) ? (WebIO.setval({\"name\":\"index\",\"scope\":\"16385328324342212876\",\"id\":\"12004230819449100993\",\"type\":\"observable\"},val)) : undefined; return this.valueFromJulia[\"index\"]=false}),self)]\n        \n    }\n    self.model = new AppViewModel();\n    self.valueFromJulia = {};\n    for (var key in json_data) {\n        self.valueFromJulia[key] = false;\n    }\n    ko.applyBindings(self.model, self.dom);\n}\n);\n    (WebIO.importBlock({\"data\":[{\"name\":\"knockout\",\"type\":\"js\",\"url\":\"/assetserver/4b78a831658f9469be0fa90a874237d533cfc56e-knockout.js\"},{\"name\":\"knockout_punches\",\"type\":\"js\",\"url\":\"/assetserver/32cf81589ef7eb25886db6e5be297d237f8599ce-knockout_punches.js\"}],\"type\":\"async_block\"})).then((imports) => handler.apply(this, imports));\n}\n"
            ],
            "observables": {
             "changes": {
              "id": "6134814117290500317",
              "sync": false,
              "value": 0
             },
             "index": {
              "id": "12004230819449100993",
              "sync": true,
              "value": 1
             }
            },
            "systemjs_options": null
           },
           "nodeType": "Scope",
           "props": {},
           "type": "node"
          }
         ],
         "instanceArgs": {
          "namespace": "html",
          "tag": "div"
         },
         "nodeType": "DOM",
         "props": {
          "className": "field interact-widget"
         },
         "type": "node"
        },
        {
         "children": [
          {
           "children": [
            {
             "children": [
              {
               "children": [
                {
                 "children": [
                  "T"
                 ],
                 "instanceArgs": {
                  "namespace": "html",
                  "tag": "label"
                 },
                 "nodeType": "DOM",
                 "props": {
                  "className": "interact ",
                  "style": {
                   "padding": "5px 10px 0px 10px"
                  }
                 },
                 "type": "node"
                }
               ],
               "instanceArgs": {
                "namespace": "html",
                "tag": "div"
               },
               "nodeType": "DOM",
               "props": {
                "className": "interact-flex-row-left"
               },
               "type": "node"
              },
              {
               "children": [
                {
                 "children": [],
                 "instanceArgs": {
                  "namespace": "html",
                  "tag": "input"
                 },
                 "nodeType": "DOM",
                 "props": {
                  "attributes": {
                   "data-bind": "numericValue: index, valueUpdate: 'input', event: {change: function (){this.changes(this.changes()+1)}}",
                   "orient": "horizontal",
                   "type": "range"
                  },
                  "className": "slider slider is-fullwidth",
                  "max": 20,
                  "min": 5,
                  "step": 1,
                  "style": {}
                 },
                 "type": "node"
                }
               ],
               "instanceArgs": {
                "namespace": "html",
                "tag": "div"
               },
               "nodeType": "DOM",
               "props": {
                "className": "interact-flex-row-center"
               },
               "type": "node"
              },
              {
               "children": [
                {
                 "children": [],
                 "instanceArgs": {
                  "namespace": "html",
                  "tag": "p"
                 },
                 "nodeType": "DOM",
                 "props": {
                  "attributes": {
                   "data-bind": "text: formatted_val"
                  }
                 },
                 "type": "node"
                }
               ],
               "instanceArgs": {
                "namespace": "html",
                "tag": "div"
               },
               "nodeType": "DOM",
               "props": {
                "className": "interact-flex-row-right"
               },
               "type": "node"
              }
             ],
             "instanceArgs": {
              "namespace": "html",
              "tag": "div"
             },
             "nodeType": "DOM",
             "props": {
              "className": "interact-flex-row interact-widget"
             },
             "type": "node"
            }
           ],
           "instanceArgs": {
            "handlers": {
             "changes": [
              "(function (val){return (val!=this.model[\"changes\"]()) ? (this.valueFromJulia[\"changes\"]=true, this.model[\"changes\"](val)) : undefined})"
             ],
             "index": [
              "(function (val){return (val!=this.model[\"index\"]()) ? (this.valueFromJulia[\"index\"]=true, this.model[\"index\"](val)) : undefined})"
             ]
            },
            "id": "1478858329027725300",
            "imports": {
             "data": [
              {
               "name": "knockout",
               "type": "js",
               "url": "/assetserver/4b78a831658f9469be0fa90a874237d533cfc56e-knockout.js"
              },
              {
               "name": "knockout_punches",
               "type": "js",
               "url": "/assetserver/32cf81589ef7eb25886db6e5be297d237f8599ce-knockout_punches.js"
              },
              {
               "name": null,
               "type": "js",
               "url": "/assetserver/4c861182dd4c5b1a7b80754ca907d70e11c2410c-all.js"
              },
              {
               "name": null,
               "type": "css",
               "url": "/assetserver/55ec2ee389419b72c3c6088bc3fbe3d7187a5fc0-style.css"
              },
              {
               "name": null,
               "type": "css",
               "url": "/assetserver/bb71acf9697a201a164f98e5fab8a4f7b4f82041-bulma_confined.min.css"
              }
             ],
             "type": "async_block"
            },
            "mount_callbacks": [
             "function () {\n    var handler = (function (ko, koPunches) {\n    ko.punches.enableAll();\n    ko.bindingHandlers.numericValue = {\n        init: function(element, valueAccessor, allBindings, data, context) {\n            var stringified = ko.observable(ko.unwrap(valueAccessor()));\n            stringified.subscribe(function(value) {\n                var val = parseFloat(value);\n                if (!isNaN(val)) {\n                    valueAccessor()(val);\n                }\n            });\n            valueAccessor().subscribe(function(value) {\n                var str = JSON.stringify(value);\n                if ((str == \"0\") && ([\"-0\", \"-0.\"].indexOf(stringified()) >= 0))\n                     return;\n                 if ([\"null\", \"\"].indexOf(str) >= 0)\n                     return;\n                stringified(str);\n            });\n            ko.applyBindingsToNode(\n                element,\n                {\n                    value: stringified,\n                    valueUpdate: allBindings.get('valueUpdate'),\n                },\n                context,\n            );\n        }\n    };\n    var json_data = {\"formatted_vals\":[\"5\",\"6\",\"7\",\"8\",\"9\",\"10\",\"11\",\"12\",\"13\",\"14\",\"15\",\"16\",\"17\",\"18\",\"19\",\"20\"],\"changes\":WebIO.getval({\"name\":\"changes\",\"scope\":\"1478858329027725300\",\"id\":\"3222589582879499564\",\"type\":\"observable\"}),\"index\":WebIO.getval({\"name\":\"index\",\"scope\":\"1478858329027725300\",\"id\":\"17180665068616041524\",\"type\":\"observable\"})};\n    var self = this;\n    function AppViewModel() {\n        for (var key in json_data) {\n            var el = json_data[key];\n            this[key] = Array.isArray(el) ? ko.observableArray(el) : ko.observable(el);\n        }\n        \n        [this[\"formatted_val\"]=ko.computed(    function(){\n        return this.formatted_vals()[parseInt(this.index())-(5)];\n    }\n,this)]\n        [this[\"changes\"].subscribe((function (val){!(this.valueFromJulia[\"changes\"]) ? (WebIO.setval({\"name\":\"changes\",\"scope\":\"1478858329027725300\",\"id\":\"3222589582879499564\",\"type\":\"observable\"},val)) : undefined; return this.valueFromJulia[\"changes\"]=false}),self),this[\"index\"].subscribe((function (val){!(this.valueFromJulia[\"index\"]) ? (WebIO.setval({\"name\":\"index\",\"scope\":\"1478858329027725300\",\"id\":\"17180665068616041524\",\"type\":\"observable\"},val)) : undefined; return this.valueFromJulia[\"index\"]=false}),self)]\n        \n    }\n    self.model = new AppViewModel();\n    self.valueFromJulia = {};\n    for (var key in json_data) {\n        self.valueFromJulia[key] = false;\n    }\n    ko.applyBindings(self.model, self.dom);\n}\n);\n    (WebIO.importBlock({\"data\":[{\"name\":\"knockout\",\"type\":\"js\",\"url\":\"/assetserver/4b78a831658f9469be0fa90a874237d533cfc56e-knockout.js\"},{\"name\":\"knockout_punches\",\"type\":\"js\",\"url\":\"/assetserver/32cf81589ef7eb25886db6e5be297d237f8599ce-knockout_punches.js\"}],\"type\":\"async_block\"})).then((imports) => handler.apply(this, imports));\n}\n"
            ],
            "observables": {
             "changes": {
              "id": "3222589582879499564",
              "sync": false,
              "value": 0
             },
             "index": {
              "id": "17180665068616041524",
              "sync": true,
              "value": 12
             }
            },
            "systemjs_options": null
           },
           "nodeType": "Scope",
           "props": {},
           "type": "node"
          }
         ],
         "instanceArgs": {
          "namespace": "html",
          "tag": "div"
         },
         "nodeType": "DOM",
         "props": {
          "className": "field interact-widget"
         },
         "type": "node"
        },
        {
         "children": [
          {
           "children": [
            {
             "children": [
              {
               "children": [
                {
                 "children": [
                  "N"
                 ],
                 "instanceArgs": {
                  "namespace": "html",
                  "tag": "label"
                 },
                 "nodeType": "DOM",
                 "props": {
                  "className": "interact ",
                  "style": {
                   "padding": "5px 10px 0px 10px"
                  }
                 },
                 "type": "node"
                }
               ],
               "instanceArgs": {
                "namespace": "html",
                "tag": "div"
               },
               "nodeType": "DOM",
               "props": {
                "className": "interact-flex-row-left"
               },
               "type": "node"
              },
              {
               "children": [
                {
                 "children": [],
                 "instanceArgs": {
                  "namespace": "html",
                  "tag": "input"
                 },
                 "nodeType": "DOM",
                 "props": {
                  "attributes": {
                   "data-bind": "numericValue: index, valueUpdate: 'input', event: {change: function (){this.changes(this.changes()+1)}}",
                   "orient": "horizontal",
                   "type": "range"
                  },
                  "className": "slider slider is-fullwidth",
                  "max": 5,
                  "min": 1,
                  "step": 1,
                  "style": {}
                 },
                 "type": "node"
                }
               ],
               "instanceArgs": {
                "namespace": "html",
                "tag": "div"
               },
               "nodeType": "DOM",
               "props": {
                "className": "interact-flex-row-center"
               },
               "type": "node"
              },
              {
               "children": [
                {
                 "children": [],
                 "instanceArgs": {
                  "namespace": "html",
                  "tag": "p"
                 },
                 "nodeType": "DOM",
                 "props": {
                  "attributes": {
                   "data-bind": "text: formatted_val"
                  }
                 },
                 "type": "node"
                }
               ],
               "instanceArgs": {
                "namespace": "html",
                "tag": "div"
               },
               "nodeType": "DOM",
               "props": {
                "className": "interact-flex-row-right"
               },
               "type": "node"
              }
             ],
             "instanceArgs": {
              "namespace": "html",
              "tag": "div"
             },
             "nodeType": "DOM",
             "props": {
              "className": "interact-flex-row interact-widget"
             },
             "type": "node"
            }
           ],
           "instanceArgs": {
            "handlers": {
             "changes": [
              "(function (val){return (val!=this.model[\"changes\"]()) ? (this.valueFromJulia[\"changes\"]=true, this.model[\"changes\"](val)) : undefined})"
             ],
             "index": [
              "(function (val){return (val!=this.model[\"index\"]()) ? (this.valueFromJulia[\"index\"]=true, this.model[\"index\"](val)) : undefined})"
             ]
            },
            "id": "1627845131073083714",
            "imports": {
             "data": [
              {
               "name": "knockout",
               "type": "js",
               "url": "/assetserver/4b78a831658f9469be0fa90a874237d533cfc56e-knockout.js"
              },
              {
               "name": "knockout_punches",
               "type": "js",
               "url": "/assetserver/32cf81589ef7eb25886db6e5be297d237f8599ce-knockout_punches.js"
              },
              {
               "name": null,
               "type": "js",
               "url": "/assetserver/4c861182dd4c5b1a7b80754ca907d70e11c2410c-all.js"
              },
              {
               "name": null,
               "type": "css",
               "url": "/assetserver/55ec2ee389419b72c3c6088bc3fbe3d7187a5fc0-style.css"
              },
              {
               "name": null,
               "type": "css",
               "url": "/assetserver/bb71acf9697a201a164f98e5fab8a4f7b4f82041-bulma_confined.min.css"
              }
             ],
             "type": "async_block"
            },
            "mount_callbacks": [
             "function () {\n    var handler = (function (ko, koPunches) {\n    ko.punches.enableAll();\n    ko.bindingHandlers.numericValue = {\n        init: function(element, valueAccessor, allBindings, data, context) {\n            var stringified = ko.observable(ko.unwrap(valueAccessor()));\n            stringified.subscribe(function(value) {\n                var val = parseFloat(value);\n                if (!isNaN(val)) {\n                    valueAccessor()(val);\n                }\n            });\n            valueAccessor().subscribe(function(value) {\n                var str = JSON.stringify(value);\n                if ((str == \"0\") && ([\"-0\", \"-0.\"].indexOf(stringified()) >= 0))\n                     return;\n                 if ([\"null\", \"\"].indexOf(str) >= 0)\n                     return;\n                stringified(str);\n            });\n            ko.applyBindingsToNode(\n                element,\n                {\n                    value: stringified,\n                    valueUpdate: allBindings.get('valueUpdate'),\n                },\n                context,\n            );\n        }\n    };\n    var json_data = {\"formatted_vals\":[\"1\",\"51\",\"101\",\"151\",\"201\"],\"changes\":WebIO.getval({\"name\":\"changes\",\"scope\":\"1627845131073083714\",\"id\":\"15513433893230360505\",\"type\":\"observable\"}),\"index\":WebIO.getval({\"name\":\"index\",\"scope\":\"1627845131073083714\",\"id\":\"5200263741161125602\",\"type\":\"observable\"})};\n    var self = this;\n    function AppViewModel() {\n        for (var key in json_data) {\n            var el = json_data[key];\n            this[key] = Array.isArray(el) ? ko.observableArray(el) : ko.observable(el);\n        }\n        \n        [this[\"formatted_val\"]=ko.computed(    function(){\n        return this.formatted_vals()[parseInt(this.index())-(1)];\n    }\n,this)]\n        [this[\"changes\"].subscribe((function (val){!(this.valueFromJulia[\"changes\"]) ? (WebIO.setval({\"name\":\"changes\",\"scope\":\"1627845131073083714\",\"id\":\"15513433893230360505\",\"type\":\"observable\"},val)) : undefined; return this.valueFromJulia[\"changes\"]=false}),self),this[\"index\"].subscribe((function (val){!(this.valueFromJulia[\"index\"]) ? (WebIO.setval({\"name\":\"index\",\"scope\":\"1627845131073083714\",\"id\":\"5200263741161125602\",\"type\":\"observable\"},val)) : undefined; return this.valueFromJulia[\"index\"]=false}),self)]\n        \n    }\n    self.model = new AppViewModel();\n    self.valueFromJulia = {};\n    for (var key in json_data) {\n        self.valueFromJulia[key] = false;\n    }\n    ko.applyBindings(self.model, self.dom);\n}\n);\n    (WebIO.importBlock({\"data\":[{\"name\":\"knockout\",\"type\":\"js\",\"url\":\"/assetserver/4b78a831658f9469be0fa90a874237d533cfc56e-knockout.js\"},{\"name\":\"knockout_punches\",\"type\":\"js\",\"url\":\"/assetserver/32cf81589ef7eb25886db6e5be297d237f8599ce-knockout_punches.js\"}],\"type\":\"async_block\"})).then((imports) => handler.apply(this, imports));\n}\n"
            ],
            "observables": {
             "changes": {
              "id": "15513433893230360505",
              "sync": false,
              "value": 0
             },
             "index": {
              "id": "5200263741161125602",
              "sync": true,
              "value": 1
             }
            },
            "systemjs_options": null
           },
           "nodeType": "Scope",
           "props": {},
           "type": "node"
          }
         ],
         "instanceArgs": {
          "namespace": "html",
          "tag": "div"
         },
         "nodeType": "DOM",
         "props": {
          "className": "field interact-widget"
         },
         "type": "node"
        },
        {
         "children": [
          {
           "children": [
            {
             "children": [
              {
               "children": [
                {
                 "children": [
                  "show_u"
                 ],
                 "instanceArgs": {
                  "namespace": "html",
                  "tag": "label"
                 },
                 "nodeType": "DOM",
                 "props": {
                  "className": "interact ",
                  "style": {
                   "padding": "5px 10px 0px 10px"
                  }
                 },
                 "type": "node"
                }
               ],
               "instanceArgs": {
                "namespace": "html",
                "tag": "div"
               },
               "nodeType": "DOM",
               "props": {
                "className": "interact-flex-row-left"
               },
               "type": "node"
              },
              {
               "children": [
                {
                 "children": [
                  {
                   "children": [
                    {
                     "children": [],
                     "instanceArgs": {
                      "namespace": "html",
                      "tag": "label"
                     },
                     "nodeType": "DOM",
                     "props": {
                      "attributes": {
                       "data-bind": "text : key"
                      }
                     },
                     "type": "node"
                    }
                   ],
                   "instanceArgs": {
                    "namespace": "html",
                    "tag": "span"
                   },
                   "nodeType": "DOM",
                   "props": {
                    "attributes": {
                     "data-bind": "click: function (){$root.update(val)}, css: {'is-primary is-selected' : $root.index() == val, 'interact-widget is-medium button ' : true}"
                    }
                   },
                   "type": "node"
                  }
                 ],
                 "instanceArgs": {
                  "namespace": "html",
                  "tag": "div"
                 },
                 "nodeType": "DOM",
                 "props": {
                  "attributes": {
                   "data-bind": "foreach : options_js"
                  },
                  "className": "buttons has-addons is-centered"
                 },
                 "type": "node"
                }
               ],
               "instanceArgs": {
                "namespace": "html",
                "tag": "div"
               },
               "nodeType": "DOM",
               "props": {
                "className": "interact-flex-row-center"
               },
               "type": "node"
              },
              {
               "children": [
                {
                 "children": [],
                 "instanceArgs": {
                  "namespace": "html",
                  "tag": "div"
                 },
                 "nodeType": "DOM",
                 "props": {},
                 "type": "node"
                }
               ],
               "instanceArgs": {
                "namespace": "html",
                "tag": "div"
               },
               "nodeType": "DOM",
               "props": {
                "className": "interact-flex-row-right"
               },
               "type": "node"
              }
             ],
             "instanceArgs": {
              "namespace": "html",
              "tag": "div"
             },
             "nodeType": "DOM",
             "props": {
              "className": "interact-flex-row interact-widget"
             },
             "type": "node"
            }
           ],
           "instanceArgs": {
            "handlers": {
             "index": [
              "(function (val){return (val!=this.model[\"index\"]()) ? (this.valueFromJulia[\"index\"]=true, this.model[\"index\"](val)) : undefined})"
             ],
             "options_js": [
              "(function (val){return (val!=this.model[\"options_js\"]()) ? (this.valueFromJulia[\"options_js\"]=true, this.model[\"options_js\"](val)) : undefined})"
             ]
            },
            "id": "14631260428548808978",
            "imports": {
             "data": [
              {
               "name": "knockout",
               "type": "js",
               "url": "/assetserver/4b78a831658f9469be0fa90a874237d533cfc56e-knockout.js"
              },
              {
               "name": "knockout_punches",
               "type": "js",
               "url": "/assetserver/32cf81589ef7eb25886db6e5be297d237f8599ce-knockout_punches.js"
              },
              {
               "name": null,
               "type": "js",
               "url": "/assetserver/4c861182dd4c5b1a7b80754ca907d70e11c2410c-all.js"
              },
              {
               "name": null,
               "type": "css",
               "url": "/assetserver/55ec2ee389419b72c3c6088bc3fbe3d7187a5fc0-style.css"
              },
              {
               "name": null,
               "type": "css",
               "url": "/assetserver/bb71acf9697a201a164f98e5fab8a4f7b4f82041-bulma_confined.min.css"
              }
             ],
             "type": "async_block"
            },
            "mount_callbacks": [
             "function () {\n    var handler = (function (ko, koPunches) {\n    ko.punches.enableAll();\n    ko.bindingHandlers.numericValue = {\n        init: function(element, valueAccessor, allBindings, data, context) {\n            var stringified = ko.observable(ko.unwrap(valueAccessor()));\n            stringified.subscribe(function(value) {\n                var val = parseFloat(value);\n                if (!isNaN(val)) {\n                    valueAccessor()(val);\n                }\n            });\n            valueAccessor().subscribe(function(value) {\n                var str = JSON.stringify(value);\n                if ((str == \"0\") && ([\"-0\", \"-0.\"].indexOf(stringified()) >= 0))\n                     return;\n                 if ([\"null\", \"\"].indexOf(str) >= 0)\n                     return;\n                stringified(str);\n            });\n            ko.applyBindingsToNode(\n                element,\n                {\n                    value: stringified,\n                    valueUpdate: allBindings.get('valueUpdate'),\n                },\n                context,\n            );\n        }\n    };\n    var json_data = {\"options_js\":WebIO.getval({\"name\":\"options_js\",\"scope\":\"14631260428548808978\",\"id\":\"3209249045069274140\",\"type\":\"observable\"}),\"index\":WebIO.getval({\"name\":\"index\",\"scope\":\"14631260428548808978\",\"id\":\"14810485808273590835\",\"type\":\"observable\"})};\n    var self = this;\n    function AppViewModel() {\n        for (var key in json_data) {\n            var el = json_data[key];\n            this[key] = Array.isArray(el) ? ko.observableArray(el) : ko.observable(el);\n        }\n        [this[\"update\"]=function (val) {this.index(val)}]\n        \n        [this[\"options_js\"].subscribe((function (val){!(this.valueFromJulia[\"options_js\"]) ? (WebIO.setval({\"name\":\"options_js\",\"scope\":\"14631260428548808978\",\"id\":\"3209249045069274140\",\"type\":\"observable\"},val)) : undefined; return this.valueFromJulia[\"options_js\"]=false}),self),this[\"index\"].subscribe((function (val){!(this.valueFromJulia[\"index\"]) ? (WebIO.setval({\"name\":\"index\",\"scope\":\"14631260428548808978\",\"id\":\"14810485808273590835\",\"type\":\"observable\"},val)) : undefined; return this.valueFromJulia[\"index\"]=false}),self)]\n        \n    }\n    self.model = new AppViewModel();\n    self.valueFromJulia = {};\n    for (var key in json_data) {\n        self.valueFromJulia[key] = false;\n    }\n    ko.applyBindings(self.model, self.dom);\n}\n);\n    (WebIO.importBlock({\"data\":[{\"name\":\"knockout\",\"type\":\"js\",\"url\":\"/assetserver/4b78a831658f9469be0fa90a874237d533cfc56e-knockout.js\"},{\"name\":\"knockout_punches\",\"type\":\"js\",\"url\":\"/assetserver/32cf81589ef7eb25886db6e5be297d237f8599ce-knockout_punches.js\"}],\"type\":\"async_block\"})).then((imports) => handler.apply(this, imports));\n}\n"
            ],
            "observables": {
             "index": {
              "id": "14810485808273590835",
              "sync": true,
              "value": 1
             },
             "options_js": {
              "id": "3209249045069274140",
              "sync": false,
              "value": [
               {
                "id": "id6oJyY6RY",
                "key": "false",
                "val": 1
               },
               {
                "id": "idEBwno6Gh",
                "key": "true",
                "val": 2
               }
              ]
             }
            },
            "systemjs_options": null
           },
           "nodeType": "Scope",
           "props": {},
           "type": "node"
          }
         ],
         "instanceArgs": {
          "namespace": "html",
          "tag": "div"
         },
         "nodeType": "DOM",
         "props": {
          "className": "interact-widget"
         },
         "type": "node"
        },
        {
         "children": [
          {
           "children": [
            {
             "children": [
              {
               "children": [
                {
                 "children": [
                  "show_x"
                 ],
                 "instanceArgs": {
                  "namespace": "html",
                  "tag": "label"
                 },
                 "nodeType": "DOM",
                 "props": {
                  "className": "interact ",
                  "style": {
                   "padding": "5px 10px 0px 10px"
                  }
                 },
                 "type": "node"
                }
               ],
               "instanceArgs": {
                "namespace": "html",
                "tag": "div"
               },
               "nodeType": "DOM",
               "props": {
                "className": "interact-flex-row-left"
               },
               "type": "node"
              },
              {
               "children": [
                {
                 "children": [
                  {
                   "children": [
                    {
                     "children": [],
                     "instanceArgs": {
                      "namespace": "html",
                      "tag": "label"
                     },
                     "nodeType": "DOM",
                     "props": {
                      "attributes": {
                       "data-bind": "text : key"
                      }
                     },
                     "type": "node"
                    }
                   ],
                   "instanceArgs": {
                    "namespace": "html",
                    "tag": "span"
                   },
                   "nodeType": "DOM",
                   "props": {
                    "attributes": {
                     "data-bind": "click: function (){$root.update(val)}, css: {'is-primary is-selected' : $root.index() == val, 'interact-widget is-medium button ' : true}"
                    }
                   },
                   "type": "node"
                  }
                 ],
                 "instanceArgs": {
                  "namespace": "html",
                  "tag": "div"
                 },
                 "nodeType": "DOM",
                 "props": {
                  "attributes": {
                   "data-bind": "foreach : options_js"
                  },
                  "className": "buttons has-addons is-centered"
                 },
                 "type": "node"
                }
               ],
               "instanceArgs": {
                "namespace": "html",
                "tag": "div"
               },
               "nodeType": "DOM",
               "props": {
                "className": "interact-flex-row-center"
               },
               "type": "node"
              },
              {
               "children": [
                {
                 "children": [],
                 "instanceArgs": {
                  "namespace": "html",
                  "tag": "div"
                 },
                 "nodeType": "DOM",
                 "props": {},
                 "type": "node"
                }
               ],
               "instanceArgs": {
                "namespace": "html",
                "tag": "div"
               },
               "nodeType": "DOM",
               "props": {
                "className": "interact-flex-row-right"
               },
               "type": "node"
              }
             ],
             "instanceArgs": {
              "namespace": "html",
              "tag": "div"
             },
             "nodeType": "DOM",
             "props": {
              "className": "interact-flex-row interact-widget"
             },
             "type": "node"
            }
           ],
           "instanceArgs": {
            "handlers": {
             "index": [
              "(function (val){return (val!=this.model[\"index\"]()) ? (this.valueFromJulia[\"index\"]=true, this.model[\"index\"](val)) : undefined})"
             ],
             "options_js": [
              "(function (val){return (val!=this.model[\"options_js\"]()) ? (this.valueFromJulia[\"options_js\"]=true, this.model[\"options_js\"](val)) : undefined})"
             ]
            },
            "id": "17272942041563878570",
            "imports": {
             "data": [
              {
               "name": "knockout",
               "type": "js",
               "url": "/assetserver/4b78a831658f9469be0fa90a874237d533cfc56e-knockout.js"
              },
              {
               "name": "knockout_punches",
               "type": "js",
               "url": "/assetserver/32cf81589ef7eb25886db6e5be297d237f8599ce-knockout_punches.js"
              },
              {
               "name": null,
               "type": "js",
               "url": "/assetserver/4c861182dd4c5b1a7b80754ca907d70e11c2410c-all.js"
              },
              {
               "name": null,
               "type": "css",
               "url": "/assetserver/55ec2ee389419b72c3c6088bc3fbe3d7187a5fc0-style.css"
              },
              {
               "name": null,
               "type": "css",
               "url": "/assetserver/bb71acf9697a201a164f98e5fab8a4f7b4f82041-bulma_confined.min.css"
              }
             ],
             "type": "async_block"
            },
            "mount_callbacks": [
             "function () {\n    var handler = (function (ko, koPunches) {\n    ko.punches.enableAll();\n    ko.bindingHandlers.numericValue = {\n        init: function(element, valueAccessor, allBindings, data, context) {\n            var stringified = ko.observable(ko.unwrap(valueAccessor()));\n            stringified.subscribe(function(value) {\n                var val = parseFloat(value);\n                if (!isNaN(val)) {\n                    valueAccessor()(val);\n                }\n            });\n            valueAccessor().subscribe(function(value) {\n                var str = JSON.stringify(value);\n                if ((str == \"0\") && ([\"-0\", \"-0.\"].indexOf(stringified()) >= 0))\n                     return;\n                 if ([\"null\", \"\"].indexOf(str) >= 0)\n                     return;\n                stringified(str);\n            });\n            ko.applyBindingsToNode(\n                element,\n                {\n                    value: stringified,\n                    valueUpdate: allBindings.get('valueUpdate'),\n                },\n                context,\n            );\n        }\n    };\n    var json_data = {\"options_js\":WebIO.getval({\"name\":\"options_js\",\"scope\":\"17272942041563878570\",\"id\":\"15795740227566885204\",\"type\":\"observable\"}),\"index\":WebIO.getval({\"name\":\"index\",\"scope\":\"17272942041563878570\",\"id\":\"10491694567189980683\",\"type\":\"observable\"})};\n    var self = this;\n    function AppViewModel() {\n        for (var key in json_data) {\n            var el = json_data[key];\n            this[key] = Array.isArray(el) ? ko.observableArray(el) : ko.observable(el);\n        }\n        [this[\"update\"]=function (val) {this.index(val)}]\n        \n        [this[\"options_js\"].subscribe((function (val){!(this.valueFromJulia[\"options_js\"]) ? (WebIO.setval({\"name\":\"options_js\",\"scope\":\"17272942041563878570\",\"id\":\"15795740227566885204\",\"type\":\"observable\"},val)) : undefined; return this.valueFromJulia[\"options_js\"]=false}),self),this[\"index\"].subscribe((function (val){!(this.valueFromJulia[\"index\"]) ? (WebIO.setval({\"name\":\"index\",\"scope\":\"17272942041563878570\",\"id\":\"10491694567189980683\",\"type\":\"observable\"},val)) : undefined; return this.valueFromJulia[\"index\"]=false}),self)]\n        \n    }\n    self.model = new AppViewModel();\n    self.valueFromJulia = {};\n    for (var key in json_data) {\n        self.valueFromJulia[key] = false;\n    }\n    ko.applyBindings(self.model, self.dom);\n}\n);\n    (WebIO.importBlock({\"data\":[{\"name\":\"knockout\",\"type\":\"js\",\"url\":\"/assetserver/4b78a831658f9469be0fa90a874237d533cfc56e-knockout.js\"},{\"name\":\"knockout_punches\",\"type\":\"js\",\"url\":\"/assetserver/32cf81589ef7eb25886db6e5be297d237f8599ce-knockout_punches.js\"}],\"type\":\"async_block\"})).then((imports) => handler.apply(this, imports));\n}\n"
            ],
            "observables": {
             "index": {
              "id": "10491694567189980683",
              "sync": true,
              "value": 1
             },
             "options_js": {
              "id": "15795740227566885204",
              "sync": false,
              "value": [
               {
                "id": "iddrxnmSEk",
                "key": "false",
                "val": 1
               },
               {
                "id": "idw1w37RkJ",
                "key": "true",
                "val": 2
               }
              ]
             }
            },
            "systemjs_options": null
           },
           "nodeType": "Scope",
           "props": {},
           "type": "node"
          }
         ],
         "instanceArgs": {
          "namespace": "html",
          "tag": "div"
         },
         "nodeType": "DOM",
         "props": {
          "className": "interact-widget"
         },
         "type": "node"
        },
        {
         "children": [
          {
           "children": [
            {
             "children": [
              {
               "children": [
                {
                 "children": [
                  "which_x_n"
                 ],
                 "instanceArgs": {
                  "namespace": "html",
                  "tag": "label"
                 },
                 "nodeType": "DOM",
                 "props": {
                  "className": "interact ",
                  "style": {
                   "padding": "5px 10px 0px 10px"
                  }
                 },
                 "type": "node"
                }
               ],
               "instanceArgs": {
                "namespace": "html",
                "tag": "div"
               },
               "nodeType": "DOM",
               "props": {
                "className": "interact-flex-row-left"
               },
               "type": "node"
              },
              {
               "children": [
                {
                 "children": [],
                 "instanceArgs": {
                  "namespace": "html",
                  "tag": "input"
                 },
                 "nodeType": "DOM",
                 "props": {
                  "attributes": {
                   "data-bind": "numericValue: index, valueUpdate: 'input', event: {change: function (){this.changes(this.changes()+1)}}",
                   "orient": "horizontal",
                   "type": "range"
                  },
                  "className": "slider slider is-fullwidth",
                  "max": 10,
                  "min": 1,
                  "step": 1,
                  "style": {}
                 },
                 "type": "node"
                }
               ],
               "instanceArgs": {
                "namespace": "html",
                "tag": "div"
               },
               "nodeType": "DOM",
               "props": {
                "className": "interact-flex-row-center"
               },
               "type": "node"
              },
              {
               "children": [
                {
                 "children": [],
                 "instanceArgs": {
                  "namespace": "html",
                  "tag": "p"
                 },
                 "nodeType": "DOM",
                 "props": {
                  "attributes": {
                   "data-bind": "text: formatted_val"
                  }
                 },
                 "type": "node"
                }
               ],
               "instanceArgs": {
                "namespace": "html",
                "tag": "div"
               },
               "nodeType": "DOM",
               "props": {
                "className": "interact-flex-row-right"
               },
               "type": "node"
              }
             ],
             "instanceArgs": {
              "namespace": "html",
              "tag": "div"
             },
             "nodeType": "DOM",
             "props": {
              "className": "interact-flex-row interact-widget"
             },
             "type": "node"
            }
           ],
           "instanceArgs": {
            "handlers": {
             "changes": [
              "(function (val){return (val!=this.model[\"changes\"]()) ? (this.valueFromJulia[\"changes\"]=true, this.model[\"changes\"](val)) : undefined})"
             ],
             "index": [
              "(function (val){return (val!=this.model[\"index\"]()) ? (this.valueFromJulia[\"index\"]=true, this.model[\"index\"](val)) : undefined})"
             ]
            },
            "id": "16665232917260484549",
            "imports": {
             "data": [
              {
               "name": "knockout",
               "type": "js",
               "url": "/assetserver/4b78a831658f9469be0fa90a874237d533cfc56e-knockout.js"
              },
              {
               "name": "knockout_punches",
               "type": "js",
               "url": "/assetserver/32cf81589ef7eb25886db6e5be297d237f8599ce-knockout_punches.js"
              },
              {
               "name": null,
               "type": "js",
               "url": "/assetserver/4c861182dd4c5b1a7b80754ca907d70e11c2410c-all.js"
              },
              {
               "name": null,
               "type": "css",
               "url": "/assetserver/55ec2ee389419b72c3c6088bc3fbe3d7187a5fc0-style.css"
              },
              {
               "name": null,
               "type": "css",
               "url": "/assetserver/bb71acf9697a201a164f98e5fab8a4f7b4f82041-bulma_confined.min.css"
              }
             ],
             "type": "async_block"
            },
            "mount_callbacks": [
             "function () {\n    var handler = (function (ko, koPunches) {\n    ko.punches.enableAll();\n    ko.bindingHandlers.numericValue = {\n        init: function(element, valueAccessor, allBindings, data, context) {\n            var stringified = ko.observable(ko.unwrap(valueAccessor()));\n            stringified.subscribe(function(value) {\n                var val = parseFloat(value);\n                if (!isNaN(val)) {\n                    valueAccessor()(val);\n                }\n            });\n            valueAccessor().subscribe(function(value) {\n                var str = JSON.stringify(value);\n                if ((str == \"0\") && ([\"-0\", \"-0.\"].indexOf(stringified()) >= 0))\n                     return;\n                 if ([\"null\", \"\"].indexOf(str) >= 0)\n                     return;\n                stringified(str);\n            });\n            ko.applyBindingsToNode(\n                element,\n                {\n                    value: stringified,\n                    valueUpdate: allBindings.get('valueUpdate'),\n                },\n                context,\n            );\n        }\n    };\n    var json_data = {\"formatted_vals\":[\"1\",\"2\",\"3\",\"4\",\"5\",\"6\",\"7\",\"8\",\"9\",\"10\"],\"changes\":WebIO.getval({\"name\":\"changes\",\"scope\":\"16665232917260484549\",\"id\":\"2638450998569916043\",\"type\":\"observable\"}),\"index\":WebIO.getval({\"name\":\"index\",\"scope\":\"16665232917260484549\",\"id\":\"12355367337627201708\",\"type\":\"observable\"})};\n    var self = this;\n    function AppViewModel() {\n        for (var key in json_data) {\n            var el = json_data[key];\n            this[key] = Array.isArray(el) ? ko.observableArray(el) : ko.observable(el);\n        }\n        \n        [this[\"formatted_val\"]=ko.computed(    function(){\n        return this.formatted_vals()[parseInt(this.index())-(1)];\n    }\n,this)]\n        [this[\"changes\"].subscribe((function (val){!(this.valueFromJulia[\"changes\"]) ? (WebIO.setval({\"name\":\"changes\",\"scope\":\"16665232917260484549\",\"id\":\"2638450998569916043\",\"type\":\"observable\"},val)) : undefined; return this.valueFromJulia[\"changes\"]=false}),self),this[\"index\"].subscribe((function (val){!(this.valueFromJulia[\"index\"]) ? (WebIO.setval({\"name\":\"index\",\"scope\":\"16665232917260484549\",\"id\":\"12355367337627201708\",\"type\":\"observable\"},val)) : undefined; return this.valueFromJulia[\"index\"]=false}),self)]\n        \n    }\n    self.model = new AppViewModel();\n    self.valueFromJulia = {};\n    for (var key in json_data) {\n        self.valueFromJulia[key] = false;\n    }\n    ko.applyBindings(self.model, self.dom);\n}\n);\n    (WebIO.importBlock({\"data\":[{\"name\":\"knockout\",\"type\":\"js\",\"url\":\"/assetserver/4b78a831658f9469be0fa90a874237d533cfc56e-knockout.js\"},{\"name\":\"knockout_punches\",\"type\":\"js\",\"url\":\"/assetserver/32cf81589ef7eb25886db6e5be297d237f8599ce-knockout_punches.js\"}],\"type\":\"async_block\"})).then((imports) => handler.apply(this, imports));\n}\n"
            ],
            "observables": {
             "changes": {
              "id": "2638450998569916043",
              "sync": false,
              "value": 0
             },
             "index": {
              "id": "12355367337627201708",
              "sync": true,
              "value": 5
             }
            },
            "systemjs_options": null
           },
           "nodeType": "Scope",
           "props": {},
           "type": "node"
          }
         ],
         "instanceArgs": {
          "namespace": "html",
          "tag": "div"
         },
         "nodeType": "DOM",
         "props": {
          "className": "field interact-widget"
         },
         "type": "node"
        },
        {
         "children": [
          {
           "children": [
            {
             "children": [
              {
               "children": [
                {
                 "children": [
                  "which_x_t"
                 ],
                 "instanceArgs": {
                  "namespace": "html",
                  "tag": "label"
                 },
                 "nodeType": "DOM",
                 "props": {
                  "className": "interact ",
                  "style": {
                   "padding": "5px 10px 0px 10px"
                  }
                 },
                 "type": "node"
                }
               ],
               "instanceArgs": {
                "namespace": "html",
                "tag": "div"
               },
               "nodeType": "DOM",
               "props": {
                "className": "interact-flex-row-left"
               },
               "type": "node"
              },
              {
               "children": [
                {
                 "children": [],
                 "instanceArgs": {
                  "namespace": "html",
                  "tag": "input"
                 },
                 "nodeType": "DOM",
                 "props": {
                  "attributes": {
                   "data-bind": "numericValue: index, valueUpdate: 'input', event: {change: function (){this.changes(this.changes()+1)}}",
                   "orient": "horizontal",
                   "type": "range"
                  },
                  "className": "slider slider is-fullwidth",
                  "max": 20,
                  "min": 1,
                  "step": 1,
                  "style": {}
                 },
                 "type": "node"
                }
               ],
               "instanceArgs": {
                "namespace": "html",
                "tag": "div"
               },
               "nodeType": "DOM",
               "props": {
                "className": "interact-flex-row-center"
               },
               "type": "node"
              },
              {
               "children": [
                {
                 "children": [],
                 "instanceArgs": {
                  "namespace": "html",
                  "tag": "p"
                 },
                 "nodeType": "DOM",
                 "props": {
                  "attributes": {
                   "data-bind": "text: formatted_val"
                  }
                 },
                 "type": "node"
                }
               ],
               "instanceArgs": {
                "namespace": "html",
                "tag": "div"
               },
               "nodeType": "DOM",
               "props": {
                "className": "interact-flex-row-right"
               },
               "type": "node"
              }
             ],
             "instanceArgs": {
              "namespace": "html",
              "tag": "div"
             },
             "nodeType": "DOM",
             "props": {
              "className": "interact-flex-row interact-widget"
             },
             "type": "node"
            }
           ],
           "instanceArgs": {
            "handlers": {
             "changes": [
              "(function (val){return (val!=this.model[\"changes\"]()) ? (this.valueFromJulia[\"changes\"]=true, this.model[\"changes\"](val)) : undefined})"
             ],
             "index": [
              "(function (val){return (val!=this.model[\"index\"]()) ? (this.valueFromJulia[\"index\"]=true, this.model[\"index\"](val)) : undefined})"
             ]
            },
            "id": "2963198513970113925",
            "imports": {
             "data": [
              {
               "name": "knockout",
               "type": "js",
               "url": "/assetserver/4b78a831658f9469be0fa90a874237d533cfc56e-knockout.js"
              },
              {
               "name": "knockout_punches",
               "type": "js",
               "url": "/assetserver/32cf81589ef7eb25886db6e5be297d237f8599ce-knockout_punches.js"
              },
              {
               "name": null,
               "type": "js",
               "url": "/assetserver/4c861182dd4c5b1a7b80754ca907d70e11c2410c-all.js"
              },
              {
               "name": null,
               "type": "css",
               "url": "/assetserver/55ec2ee389419b72c3c6088bc3fbe3d7187a5fc0-style.css"
              },
              {
               "name": null,
               "type": "css",
               "url": "/assetserver/bb71acf9697a201a164f98e5fab8a4f7b4f82041-bulma_confined.min.css"
              }
             ],
             "type": "async_block"
            },
            "mount_callbacks": [
             "function () {\n    var handler = (function (ko, koPunches) {\n    ko.punches.enableAll();\n    ko.bindingHandlers.numericValue = {\n        init: function(element, valueAccessor, allBindings, data, context) {\n            var stringified = ko.observable(ko.unwrap(valueAccessor()));\n            stringified.subscribe(function(value) {\n                var val = parseFloat(value);\n                if (!isNaN(val)) {\n                    valueAccessor()(val);\n                }\n            });\n            valueAccessor().subscribe(function(value) {\n                var str = JSON.stringify(value);\n                if ((str == \"0\") && ([\"-0\", \"-0.\"].indexOf(stringified()) >= 0))\n                     return;\n                 if ([\"null\", \"\"].indexOf(str) >= 0)\n                     return;\n                stringified(str);\n            });\n            ko.applyBindingsToNode(\n                element,\n                {\n                    value: stringified,\n                    valueUpdate: allBindings.get('valueUpdate'),\n                },\n                context,\n            );\n        }\n    };\n    var json_data = {\"formatted_vals\":[\"1\",\"2\",\"3\",\"4\",\"5\",\"6\",\"7\",\"8\",\"9\",\"10\",\"11\",\"12\",\"13\",\"14\",\"15\",\"16\",\"17\",\"18\",\"19\",\"20\"],\"changes\":WebIO.getval({\"name\":\"changes\",\"scope\":\"2963198513970113925\",\"id\":\"3230261944937962618\",\"type\":\"observable\"}),\"index\":WebIO.getval({\"name\":\"index\",\"scope\":\"2963198513970113925\",\"id\":\"3086135982869530797\",\"type\":\"observable\"})};\n    var self = this;\n    function AppViewModel() {\n        for (var key in json_data) {\n            var el = json_data[key];\n            this[key] = Array.isArray(el) ? ko.observableArray(el) : ko.observable(el);\n        }\n        \n        [this[\"formatted_val\"]=ko.computed(    function(){\n        return this.formatted_vals()[parseInt(this.index())-(1)];\n    }\n,this)]\n        [this[\"changes\"].subscribe((function (val){!(this.valueFromJulia[\"changes\"]) ? (WebIO.setval({\"name\":\"changes\",\"scope\":\"2963198513970113925\",\"id\":\"3230261944937962618\",\"type\":\"observable\"},val)) : undefined; return this.valueFromJulia[\"changes\"]=false}),self),this[\"index\"].subscribe((function (val){!(this.valueFromJulia[\"index\"]) ? (WebIO.setval({\"name\":\"index\",\"scope\":\"2963198513970113925\",\"id\":\"3086135982869530797\",\"type\":\"observable\"},val)) : undefined; return this.valueFromJulia[\"index\"]=false}),self)]\n        \n    }\n    self.model = new AppViewModel();\n    self.valueFromJulia = {};\n    for (var key in json_data) {\n        self.valueFromJulia[key] = false;\n    }\n    ko.applyBindings(self.model, self.dom);\n}\n);\n    (WebIO.importBlock({\"data\":[{\"name\":\"knockout\",\"type\":\"js\",\"url\":\"/assetserver/4b78a831658f9469be0fa90a874237d533cfc56e-knockout.js\"},{\"name\":\"knockout_punches\",\"type\":\"js\",\"url\":\"/assetserver/32cf81589ef7eb25886db6e5be297d237f8599ce-knockout_punches.js\"}],\"type\":\"async_block\"})).then((imports) => handler.apply(this, imports));\n}\n"
            ],
            "observables": {
             "changes": {
              "id": "3230261944937962618",
              "sync": false,
              "value": 0
             },
             "index": {
              "id": "3086135982869530797",
              "sync": true,
              "value": 10
             }
            },
            "systemjs_options": null
           },
           "nodeType": "Scope",
           "props": {},
           "type": "node"
          }
         ],
         "instanceArgs": {
          "namespace": "html",
          "tag": "div"
         },
         "nodeType": "DOM",
         "props": {
          "className": "field interact-widget"
         },
         "type": "node"
        },
        {
         "children": [
          {
           "children": [
            {
             "children": [
              {
               "children": [
                {
                 "children": [
                  "posterior"
                 ],
                 "instanceArgs": {
                  "namespace": "html",
                  "tag": "label"
                 },
                 "nodeType": "DOM",
                 "props": {
                  "className": "interact ",
                  "style": {
                   "padding": "5px 10px 0px 10px"
                  }
                 },
                 "type": "node"
                }
               ],
               "instanceArgs": {
                "namespace": "html",
                "tag": "div"
               },
               "nodeType": "DOM",
               "props": {
                "className": "interact-flex-row-left"
               },
               "type": "node"
              },
              {
               "children": [
                {
                 "children": [
                  {
                   "children": [
                    {
                     "children": [],
                     "instanceArgs": {
                      "namespace": "html",
                      "tag": "label"
                     },
                     "nodeType": "DOM",
                     "props": {
                      "attributes": {
                       "data-bind": "text : key"
                      }
                     },
                     "type": "node"
                    }
                   ],
                   "instanceArgs": {
                    "namespace": "html",
                    "tag": "span"
                   },
                   "nodeType": "DOM",
                   "props": {
                    "attributes": {
                     "data-bind": "click: function (){$root.update(val)}, css: {'is-primary is-selected' : $root.index() == val, 'interact-widget is-medium button ' : true}"
                    }
                   },
                   "type": "node"
                  }
                 ],
                 "instanceArgs": {
                  "namespace": "html",
                  "tag": "div"
                 },
                 "nodeType": "DOM",
                 "props": {
                  "attributes": {
                   "data-bind": "foreach : options_js"
                  },
                  "className": "buttons has-addons is-centered"
                 },
                 "type": "node"
                }
               ],
               "instanceArgs": {
                "namespace": "html",
                "tag": "div"
               },
               "nodeType": "DOM",
               "props": {
                "className": "interact-flex-row-center"
               },
               "type": "node"
              },
              {
               "children": [
                {
                 "children": [],
                 "instanceArgs": {
                  "namespace": "html",
                  "tag": "div"
                 },
                 "nodeType": "DOM",
                 "props": {},
                 "type": "node"
                }
               ],
               "instanceArgs": {
                "namespace": "html",
                "tag": "div"
               },
               "nodeType": "DOM",
               "props": {
                "className": "interact-flex-row-right"
               },
               "type": "node"
              }
             ],
             "instanceArgs": {
              "namespace": "html",
              "tag": "div"
             },
             "nodeType": "DOM",
             "props": {
              "className": "interact-flex-row interact-widget"
             },
             "type": "node"
            }
           ],
           "instanceArgs": {
            "handlers": {
             "index": [
              "(function (val){return (val!=this.model[\"index\"]()) ? (this.valueFromJulia[\"index\"]=true, this.model[\"index\"](val)) : undefined})"
             ],
             "options_js": [
              "(function (val){return (val!=this.model[\"options_js\"]()) ? (this.valueFromJulia[\"options_js\"]=true, this.model[\"options_js\"](val)) : undefined})"
             ]
            },
            "id": "2205015225413654115",
            "imports": {
             "data": [
              {
               "name": "knockout",
               "type": "js",
               "url": "/assetserver/4b78a831658f9469be0fa90a874237d533cfc56e-knockout.js"
              },
              {
               "name": "knockout_punches",
               "type": "js",
               "url": "/assetserver/32cf81589ef7eb25886db6e5be297d237f8599ce-knockout_punches.js"
              },
              {
               "name": null,
               "type": "js",
               "url": "/assetserver/4c861182dd4c5b1a7b80754ca907d70e11c2410c-all.js"
              },
              {
               "name": null,
               "type": "css",
               "url": "/assetserver/55ec2ee389419b72c3c6088bc3fbe3d7187a5fc0-style.css"
              },
              {
               "name": null,
               "type": "css",
               "url": "/assetserver/bb71acf9697a201a164f98e5fab8a4f7b4f82041-bulma_confined.min.css"
              }
             ],
             "type": "async_block"
            },
            "mount_callbacks": [
             "function () {\n    var handler = (function (ko, koPunches) {\n    ko.punches.enableAll();\n    ko.bindingHandlers.numericValue = {\n        init: function(element, valueAccessor, allBindings, data, context) {\n            var stringified = ko.observable(ko.unwrap(valueAccessor()));\n            stringified.subscribe(function(value) {\n                var val = parseFloat(value);\n                if (!isNaN(val)) {\n                    valueAccessor()(val);\n                }\n            });\n            valueAccessor().subscribe(function(value) {\n                var str = JSON.stringify(value);\n                if ((str == \"0\") && ([\"-0\", \"-0.\"].indexOf(stringified()) >= 0))\n                     return;\n                 if ([\"null\", \"\"].indexOf(str) >= 0)\n                     return;\n                stringified(str);\n            });\n            ko.applyBindingsToNode(\n                element,\n                {\n                    value: stringified,\n                    valueUpdate: allBindings.get('valueUpdate'),\n                },\n                context,\n            );\n        }\n    };\n    var json_data = {\"options_js\":WebIO.getval({\"name\":\"options_js\",\"scope\":\"2205015225413654115\",\"id\":\"14155361305859611612\",\"type\":\"observable\"}),\"index\":WebIO.getval({\"name\":\"index\",\"scope\":\"2205015225413654115\",\"id\":\"6230163439282016821\",\"type\":\"observable\"})};\n    var self = this;\n    function AppViewModel() {\n        for (var key in json_data) {\n            var el = json_data[key];\n            this[key] = Array.isArray(el) ? ko.observableArray(el) : ko.observable(el);\n        }\n        [this[\"update\"]=function (val) {this.index(val)}]\n        \n        [this[\"options_js\"].subscribe((function (val){!(this.valueFromJulia[\"options_js\"]) ? (WebIO.setval({\"name\":\"options_js\",\"scope\":\"2205015225413654115\",\"id\":\"14155361305859611612\",\"type\":\"observable\"},val)) : undefined; return this.valueFromJulia[\"options_js\"]=false}),self),this[\"index\"].subscribe((function (val){!(this.valueFromJulia[\"index\"]) ? (WebIO.setval({\"name\":\"index\",\"scope\":\"2205015225413654115\",\"id\":\"6230163439282016821\",\"type\":\"observable\"},val)) : undefined; return this.valueFromJulia[\"index\"]=false}),self)]\n        \n    }\n    self.model = new AppViewModel();\n    self.valueFromJulia = {};\n    for (var key in json_data) {\n        self.valueFromJulia[key] = false;\n    }\n    ko.applyBindings(self.model, self.dom);\n}\n);\n    (WebIO.importBlock({\"data\":[{\"name\":\"knockout\",\"type\":\"js\",\"url\":\"/assetserver/4b78a831658f9469be0fa90a874237d533cfc56e-knockout.js\"},{\"name\":\"knockout_punches\",\"type\":\"js\",\"url\":\"/assetserver/32cf81589ef7eb25886db6e5be297d237f8599ce-knockout_punches.js\"}],\"type\":\"async_block\"})).then((imports) => handler.apply(this, imports));\n}\n"
            ],
            "observables": {
             "index": {
              "id": "6230163439282016821",
              "sync": true,
              "value": 1
             },
             "options_js": {
              "id": "14155361305859611612",
              "sync": false,
              "value": [
               {
                "id": "id0sYJobzH",
                "key": "naive",
                "val": 1
               },
               {
                "id": "idfZdRWU2k",
                "key": "pf",
                "val": 2
               },
               {
                "id": "idhfnRHeiL",
                "key": "smc",
                "val": 3
               }
              ]
             }
            },
            "systemjs_options": null
           },
           "nodeType": "Scope",
           "props": {},
           "type": "node"
          }
         ],
         "instanceArgs": {
          "namespace": "html",
          "tag": "div"
         },
         "nodeType": "DOM",
         "props": {
          "className": "interact-widget"
         },
         "type": "node"
        },
        {
         "children": [
          {
           "children": [
            {
             "children": [
              {
               "children": [
                {
                 "children": [
                  "x_noise"
                 ],
                 "instanceArgs": {
                  "namespace": "html",
                  "tag": "label"
                 },
                 "nodeType": "DOM",
                 "props": {
                  "className": "interact ",
                  "style": {
                   "padding": "5px 10px 0px 10px"
                  }
                 },
                 "type": "node"
                }
               ],
               "instanceArgs": {
                "namespace": "html",
                "tag": "div"
               },
               "nodeType": "DOM",
               "props": {
                "className": "interact-flex-row-left"
               },
               "type": "node"
              },
              {
               "children": [
                {
                 "children": [],
                 "instanceArgs": {
                  "namespace": "html",
                  "tag": "input"
                 },
                 "nodeType": "DOM",
                 "props": {
                  "attributes": {
                   "data-bind": "numericValue: index, valueUpdate: 'input', event: {change: function (){this.changes(this.changes()+1)}}",
                   "orient": "horizontal",
                   "type": "range"
                  },
                  "className": "slider slider is-fullwidth",
                  "max": 5,
                  "min": 1,
                  "step": 1,
                  "style": {}
                 },
                 "type": "node"
                }
               ],
               "instanceArgs": {
                "namespace": "html",
                "tag": "div"
               },
               "nodeType": "DOM",
               "props": {
                "className": "interact-flex-row-center"
               },
               "type": "node"
              },
              {
               "children": [
                {
                 "children": [],
                 "instanceArgs": {
                  "namespace": "html",
                  "tag": "p"
                 },
                 "nodeType": "DOM",
                 "props": {
                  "attributes": {
                   "data-bind": "text: formatted_val"
                  }
                 },
                 "type": "node"
                }
               ],
               "instanceArgs": {
                "namespace": "html",
                "tag": "div"
               },
               "nodeType": "DOM",
               "props": {
                "className": "interact-flex-row-right"
               },
               "type": "node"
              }
             ],
             "instanceArgs": {
              "namespace": "html",
              "tag": "div"
             },
             "nodeType": "DOM",
             "props": {
              "className": "interact-flex-row interact-widget"
             },
             "type": "node"
            }
           ],
           "instanceArgs": {
            "handlers": {
             "changes": [
              "(function (val){return (val!=this.model[\"changes\"]()) ? (this.valueFromJulia[\"changes\"]=true, this.model[\"changes\"](val)) : undefined})"
             ],
             "index": [
              "(function (val){return (val!=this.model[\"index\"]()) ? (this.valueFromJulia[\"index\"]=true, this.model[\"index\"](val)) : undefined})"
             ]
            },
            "id": "17207508262023326168",
            "imports": {
             "data": [
              {
               "name": "knockout",
               "type": "js",
               "url": "/assetserver/4b78a831658f9469be0fa90a874237d533cfc56e-knockout.js"
              },
              {
               "name": "knockout_punches",
               "type": "js",
               "url": "/assetserver/32cf81589ef7eb25886db6e5be297d237f8599ce-knockout_punches.js"
              },
              {
               "name": null,
               "type": "js",
               "url": "/assetserver/4c861182dd4c5b1a7b80754ca907d70e11c2410c-all.js"
              },
              {
               "name": null,
               "type": "css",
               "url": "/assetserver/55ec2ee389419b72c3c6088bc3fbe3d7187a5fc0-style.css"
              },
              {
               "name": null,
               "type": "css",
               "url": "/assetserver/bb71acf9697a201a164f98e5fab8a4f7b4f82041-bulma_confined.min.css"
              }
             ],
             "type": "async_block"
            },
            "mount_callbacks": [
             "function () {\n    var handler = (function (ko, koPunches) {\n    ko.punches.enableAll();\n    ko.bindingHandlers.numericValue = {\n        init: function(element, valueAccessor, allBindings, data, context) {\n            var stringified = ko.observable(ko.unwrap(valueAccessor()));\n            stringified.subscribe(function(value) {\n                var val = parseFloat(value);\n                if (!isNaN(val)) {\n                    valueAccessor()(val);\n                }\n            });\n            valueAccessor().subscribe(function(value) {\n                var str = JSON.stringify(value);\n                if ((str == \"0\") && ([\"-0\", \"-0.\"].indexOf(stringified()) >= 0))\n                     return;\n                 if ([\"null\", \"\"].indexOf(str) >= 0)\n                     return;\n                stringified(str);\n            });\n            ko.applyBindingsToNode(\n                element,\n                {\n                    value: stringified,\n                    valueUpdate: allBindings.get('valueUpdate'),\n                },\n                context,\n            );\n        }\n    };\n    var json_data = {\"formatted_vals\":[\"0.001\",\"0.12575\",\"0.2505\",\"0.37525\",\"0.5\"],\"changes\":WebIO.getval({\"name\":\"changes\",\"scope\":\"17207508262023326168\",\"id\":\"15743238388404370294\",\"type\":\"observable\"}),\"index\":WebIO.getval({\"name\":\"index\",\"scope\":\"17207508262023326168\",\"id\":\"3745832531667463249\",\"type\":\"observable\"})};\n    var self = this;\n    function AppViewModel() {\n        for (var key in json_data) {\n            var el = json_data[key];\n            this[key] = Array.isArray(el) ? ko.observableArray(el) : ko.observable(el);\n        }\n        \n        [this[\"formatted_val\"]=ko.computed(    function(){\n        return this.formatted_vals()[parseInt(this.index())-(1)];\n    }\n,this)]\n        [this[\"changes\"].subscribe((function (val){!(this.valueFromJulia[\"changes\"]) ? (WebIO.setval({\"name\":\"changes\",\"scope\":\"17207508262023326168\",\"id\":\"15743238388404370294\",\"type\":\"observable\"},val)) : undefined; return this.valueFromJulia[\"changes\"]=false}),self),this[\"index\"].subscribe((function (val){!(this.valueFromJulia[\"index\"]) ? (WebIO.setval({\"name\":\"index\",\"scope\":\"17207508262023326168\",\"id\":\"3745832531667463249\",\"type\":\"observable\"},val)) : undefined; return this.valueFromJulia[\"index\"]=false}),self)]\n        \n    }\n    self.model = new AppViewModel();\n    self.valueFromJulia = {};\n    for (var key in json_data) {\n        self.valueFromJulia[key] = false;\n    }\n    ko.applyBindings(self.model, self.dom);\n}\n);\n    (WebIO.importBlock({\"data\":[{\"name\":\"knockout\",\"type\":\"js\",\"url\":\"/assetserver/4b78a831658f9469be0fa90a874237d533cfc56e-knockout.js\"},{\"name\":\"knockout_punches\",\"type\":\"js\",\"url\":\"/assetserver/32cf81589ef7eb25886db6e5be297d237f8599ce-knockout_punches.js\"}],\"type\":\"async_block\"})).then((imports) => handler.apply(this, imports));\n}\n"
            ],
            "observables": {
             "changes": {
              "id": "15743238388404370294",
              "sync": false,
              "value": 0
             },
             "index": {
              "id": "3745832531667463249",
              "sync": true,
              "value": 3
             }
            },
            "systemjs_options": null
           },
           "nodeType": "Scope",
           "props": {},
           "type": "node"
          }
         ],
         "instanceArgs": {
          "namespace": "html",
          "tag": "div"
         },
         "nodeType": "DOM",
         "props": {
          "className": "field interact-widget"
         },
         "type": "node"
        },
        {
         "children": [
          {
           "children": [
            {
             "children": [
              {
               "children": [
                {
                 "children": [
                  "hd_noise"
                 ],
                 "instanceArgs": {
                  "namespace": "html",
                  "tag": "label"
                 },
                 "nodeType": "DOM",
                 "props": {
                  "className": "interact ",
                  "style": {
                   "padding": "5px 10px 0px 10px"
                  }
                 },
                 "type": "node"
                }
               ],
               "instanceArgs": {
                "namespace": "html",
                "tag": "div"
               },
               "nodeType": "DOM",
               "props": {
                "className": "interact-flex-row-left"
               },
               "type": "node"
              },
              {
               "children": [
                {
                 "children": [],
                 "instanceArgs": {
                  "namespace": "html",
                  "tag": "input"
                 },
                 "nodeType": "DOM",
                 "props": {
                  "attributes": {
                   "data-bind": "numericValue: index, valueUpdate: 'input', event: {change: function (){this.changes(this.changes()+1)}}",
                   "orient": "horizontal",
                   "type": "range"
                  },
                  "className": "slider slider is-fullwidth",
                  "max": 5,
                  "min": 1,
                  "step": 1,
                  "style": {}
                 },
                 "type": "node"
                }
               ],
               "instanceArgs": {
                "namespace": "html",
                "tag": "div"
               },
               "nodeType": "DOM",
               "props": {
                "className": "interact-flex-row-center"
               },
               "type": "node"
              },
              {
               "children": [
                {
                 "children": [],
                 "instanceArgs": {
                  "namespace": "html",
                  "tag": "p"
                 },
                 "nodeType": "DOM",
                 "props": {
                  "attributes": {
                   "data-bind": "text: formatted_val"
                  }
                 },
                 "type": "node"
                }
               ],
               "instanceArgs": {
                "namespace": "html",
                "tag": "div"
               },
               "nodeType": "DOM",
               "props": {
                "className": "interact-flex-row-right"
               },
               "type": "node"
              }
             ],
             "instanceArgs": {
              "namespace": "html",
              "tag": "div"
             },
             "nodeType": "DOM",
             "props": {
              "className": "interact-flex-row interact-widget"
             },
             "type": "node"
            }
           ],
           "instanceArgs": {
            "handlers": {
             "changes": [
              "(function (val){return (val!=this.model[\"changes\"]()) ? (this.valueFromJulia[\"changes\"]=true, this.model[\"changes\"](val)) : undefined})"
             ],
             "index": [
              "(function (val){return (val!=this.model[\"index\"]()) ? (this.valueFromJulia[\"index\"]=true, this.model[\"index\"](val)) : undefined})"
             ]
            },
            "id": "6464152132385314041",
            "imports": {
             "data": [
              {
               "name": "knockout",
               "type": "js",
               "url": "/assetserver/4b78a831658f9469be0fa90a874237d533cfc56e-knockout.js"
              },
              {
               "name": "knockout_punches",
               "type": "js",
               "url": "/assetserver/32cf81589ef7eb25886db6e5be297d237f8599ce-knockout_punches.js"
              },
              {
               "name": null,
               "type": "js",
               "url": "/assetserver/4c861182dd4c5b1a7b80754ca907d70e11c2410c-all.js"
              },
              {
               "name": null,
               "type": "css",
               "url": "/assetserver/55ec2ee389419b72c3c6088bc3fbe3d7187a5fc0-style.css"
              },
              {
               "name": null,
               "type": "css",
               "url": "/assetserver/bb71acf9697a201a164f98e5fab8a4f7b4f82041-bulma_confined.min.css"
              }
             ],
             "type": "async_block"
            },
            "mount_callbacks": [
             "function () {\n    var handler = (function (ko, koPunches) {\n    ko.punches.enableAll();\n    ko.bindingHandlers.numericValue = {\n        init: function(element, valueAccessor, allBindings, data, context) {\n            var stringified = ko.observable(ko.unwrap(valueAccessor()));\n            stringified.subscribe(function(value) {\n                var val = parseFloat(value);\n                if (!isNaN(val)) {\n                    valueAccessor()(val);\n                }\n            });\n            valueAccessor().subscribe(function(value) {\n                var str = JSON.stringify(value);\n                if ((str == \"0\") && ([\"-0\", \"-0.\"].indexOf(stringified()) >= 0))\n                     return;\n                 if ([\"null\", \"\"].indexOf(str) >= 0)\n                     return;\n                stringified(str);\n            });\n            ko.applyBindingsToNode(\n                element,\n                {\n                    value: stringified,\n                    valueUpdate: allBindings.get('valueUpdate'),\n                },\n                context,\n            );\n        }\n    };\n    var json_data = {\"formatted_vals\":[\"0.001\",\"11.2508\",\"22.5005\",\"33.7503\",\"45.0\"],\"changes\":WebIO.getval({\"name\":\"changes\",\"scope\":\"6464152132385314041\",\"id\":\"8270686193358413989\",\"type\":\"observable\"}),\"index\":WebIO.getval({\"name\":\"index\",\"scope\":\"6464152132385314041\",\"id\":\"3558497023182308851\",\"type\":\"observable\"})};\n    var self = this;\n    function AppViewModel() {\n        for (var key in json_data) {\n            var el = json_data[key];\n            this[key] = Array.isArray(el) ? ko.observableArray(el) : ko.observable(el);\n        }\n        \n        [this[\"formatted_val\"]=ko.computed(    function(){\n        return this.formatted_vals()[parseInt(this.index())-(1)];\n    }\n,this)]\n        [this[\"changes\"].subscribe((function (val){!(this.valueFromJulia[\"changes\"]) ? (WebIO.setval({\"name\":\"changes\",\"scope\":\"6464152132385314041\",\"id\":\"8270686193358413989\",\"type\":\"observable\"},val)) : undefined; return this.valueFromJulia[\"changes\"]=false}),self),this[\"index\"].subscribe((function (val){!(this.valueFromJulia[\"index\"]) ? (WebIO.setval({\"name\":\"index\",\"scope\":\"6464152132385314041\",\"id\":\"3558497023182308851\",\"type\":\"observable\"},val)) : undefined; return this.valueFromJulia[\"index\"]=false}),self)]\n        \n    }\n    self.model = new AppViewModel();\n    self.valueFromJulia = {};\n    for (var key in json_data) {\n        self.valueFromJulia[key] = false;\n    }\n    ko.applyBindings(self.model, self.dom);\n}\n);\n    (WebIO.importBlock({\"data\":[{\"name\":\"knockout\",\"type\":\"js\",\"url\":\"/assetserver/4b78a831658f9469be0fa90a874237d533cfc56e-knockout.js\"},{\"name\":\"knockout_punches\",\"type\":\"js\",\"url\":\"/assetserver/32cf81589ef7eb25886db6e5be297d237f8599ce-knockout_punches.js\"}],\"type\":\"async_block\"})).then((imports) => handler.apply(this, imports));\n}\n"
            ],
            "observables": {
             "changes": {
              "id": "8270686193358413989",
              "sync": false,
              "value": 0
             },
             "index": {
              "id": "3558497023182308851",
              "sync": true,
              "value": 3
             }
            },
            "systemjs_options": null
           },
           "nodeType": "Scope",
           "props": {},
           "type": "node"
          }
         ],
         "instanceArgs": {
          "namespace": "html",
          "tag": "div"
         },
         "nodeType": "DOM",
         "props": {
          "className": "field interact-widget"
         },
         "type": "node"
        },
        {
         "children": [
          {
           "children": [
            {
             "children": [
              {
               "children": [
                {
                 "children": [
                  "mix_w"
                 ],
                 "instanceArgs": {
                  "namespace": "html",
                  "tag": "label"
                 },
                 "nodeType": "DOM",
                 "props": {
                  "className": "interact ",
                  "style": {
                   "padding": "5px 10px 0px 10px"
                  }
                 },
                 "type": "node"
                }
               ],
               "instanceArgs": {
                "namespace": "html",
                "tag": "div"
               },
               "nodeType": "DOM",
               "props": {
                "className": "interact-flex-row-left"
               },
               "type": "node"
              },
              {
               "children": [
                {
                 "children": [],
                 "instanceArgs": {
                  "namespace": "html",
                  "tag": "input"
                 },
                 "nodeType": "DOM",
                 "props": {
                  "attributes": {
                   "data-bind": "numericValue: index, valueUpdate: 'input', event: {change: function (){this.changes(this.changes()+1)}}",
                   "orient": "horizontal",
                   "type": "range"
                  },
                  "className": "slider slider is-fullwidth",
                  "max": 10,
                  "min": 1,
                  "step": 1,
                  "style": {}
                 },
                 "type": "node"
                }
               ],
               "instanceArgs": {
                "namespace": "html",
                "tag": "div"
               },
               "nodeType": "DOM",
               "props": {
                "className": "interact-flex-row-center"
               },
               "type": "node"
              },
              {
               "children": [
                {
                 "children": [],
                 "instanceArgs": {
                  "namespace": "html",
                  "tag": "p"
                 },
                 "nodeType": "DOM",
                 "props": {
                  "attributes": {
                   "data-bind": "text: formatted_val"
                  }
                 },
                 "type": "node"
                }
               ],
               "instanceArgs": {
                "namespace": "html",
                "tag": "div"
               },
               "nodeType": "DOM",
               "props": {
                "className": "interact-flex-row-right"
               },
               "type": "node"
              }
             ],
             "instanceArgs": {
              "namespace": "html",
              "tag": "div"
             },
             "nodeType": "DOM",
             "props": {
              "className": "interact-flex-row interact-widget"
             },
             "type": "node"
            }
           ],
           "instanceArgs": {
            "handlers": {
             "changes": [
              "(function (val){return (val!=this.model[\"changes\"]()) ? (this.valueFromJulia[\"changes\"]=true, this.model[\"changes\"](val)) : undefined})"
             ],
             "index": [
              "(function (val){return (val!=this.model[\"index\"]()) ? (this.valueFromJulia[\"index\"]=true, this.model[\"index\"](val)) : undefined})"
             ]
            },
            "id": "17989771529542327364",
            "imports": {
             "data": [
              {
               "name": "knockout",
               "type": "js",
               "url": "/assetserver/4b78a831658f9469be0fa90a874237d533cfc56e-knockout.js"
              },
              {
               "name": "knockout_punches",
               "type": "js",
               "url": "/assetserver/32cf81589ef7eb25886db6e5be297d237f8599ce-knockout_punches.js"
              },
              {
               "name": null,
               "type": "js",
               "url": "/assetserver/4c861182dd4c5b1a7b80754ca907d70e11c2410c-all.js"
              },
              {
               "name": null,
               "type": "css",
               "url": "/assetserver/55ec2ee389419b72c3c6088bc3fbe3d7187a5fc0-style.css"
              },
              {
               "name": null,
               "type": "css",
               "url": "/assetserver/bb71acf9697a201a164f98e5fab8a4f7b4f82041-bulma_confined.min.css"
              }
             ],
             "type": "async_block"
            },
            "mount_callbacks": [
             "function () {\n    var handler = (function (ko, koPunches) {\n    ko.punches.enableAll();\n    ko.bindingHandlers.numericValue = {\n        init: function(element, valueAccessor, allBindings, data, context) {\n            var stringified = ko.observable(ko.unwrap(valueAccessor()));\n            stringified.subscribe(function(value) {\n                var val = parseFloat(value);\n                if (!isNaN(val)) {\n                    valueAccessor()(val);\n                }\n            });\n            valueAccessor().subscribe(function(value) {\n                var str = JSON.stringify(value);\n                if ((str == \"0\") && ([\"-0\", \"-0.\"].indexOf(stringified()) >= 0))\n                     return;\n                 if ([\"null\", \"\"].indexOf(str) >= 0)\n                     return;\n                stringified(str);\n            });\n            ko.applyBindingsToNode(\n                element,\n                {\n                    value: stringified,\n                    valueUpdate: allBindings.get('valueUpdate'),\n                },\n                context,\n            );\n        }\n    };\n    var json_data = {\"formatted_vals\":[\"1\",\"6\",\"11\",\"16\",\"21\",\"26\",\"31\",\"36\",\"41\",\"46\"],\"changes\":WebIO.getval({\"name\":\"changes\",\"scope\":\"17989771529542327364\",\"id\":\"13637239570841406098\",\"type\":\"observable\"}),\"index\":WebIO.getval({\"name\":\"index\",\"scope\":\"17989771529542327364\",\"id\":\"5466375458924710819\",\"type\":\"observable\"})};\n    var self = this;\n    function AppViewModel() {\n        for (var key in json_data) {\n            var el = json_data[key];\n            this[key] = Array.isArray(el) ? ko.observableArray(el) : ko.observable(el);\n        }\n        \n        [this[\"formatted_val\"]=ko.computed(    function(){\n        return this.formatted_vals()[parseInt(this.index())-(1)];\n    }\n,this)]\n        [this[\"changes\"].subscribe((function (val){!(this.valueFromJulia[\"changes\"]) ? (WebIO.setval({\"name\":\"changes\",\"scope\":\"17989771529542327364\",\"id\":\"13637239570841406098\",\"type\":\"observable\"},val)) : undefined; return this.valueFromJulia[\"changes\"]=false}),self),this[\"index\"].subscribe((function (val){!(this.valueFromJulia[\"index\"]) ? (WebIO.setval({\"name\":\"index\",\"scope\":\"17989771529542327364\",\"id\":\"5466375458924710819\",\"type\":\"observable\"},val)) : undefined; return this.valueFromJulia[\"index\"]=false}),self)]\n        \n    }\n    self.model = new AppViewModel();\n    self.valueFromJulia = {};\n    for (var key in json_data) {\n        self.valueFromJulia[key] = false;\n    }\n    ko.applyBindings(self.model, self.dom);\n}\n);\n    (WebIO.importBlock({\"data\":[{\"name\":\"knockout\",\"type\":\"js\",\"url\":\"/assetserver/4b78a831658f9469be0fa90a874237d533cfc56e-knockout.js\"},{\"name\":\"knockout_punches\",\"type\":\"js\",\"url\":\"/assetserver/32cf81589ef7eb25886db6e5be297d237f8599ce-knockout_punches.js\"}],\"type\":\"async_block\"})).then((imports) => handler.apply(this, imports));\n}\n"
            ],
            "observables": {
             "changes": {
              "id": "13637239570841406098",
              "sync": false,
              "value": 0
             },
             "index": {
              "id": "5466375458924710819",
              "sync": true,
              "value": 5
             }
            },
            "systemjs_options": null
           },
           "nodeType": "Scope",
           "props": {},
           "type": "node"
          }
         ],
         "instanceArgs": {
          "namespace": "html",
          "tag": "div"
         },
         "nodeType": "DOM",
         "props": {
          "className": "field interact-widget"
         },
         "type": "node"
        },
        {
         "children": [
          {
           "children": [
            {
             "children": [
              {
               "children": [
                {
                 "children": [
                  "s_noise"
                 ],
                 "instanceArgs": {
                  "namespace": "html",
                  "tag": "label"
                 },
                 "nodeType": "DOM",
                 "props": {
                  "className": "interact ",
                  "style": {
                   "padding": "5px 10px 0px 10px"
                  }
                 },
                 "type": "node"
                }
               ],
               "instanceArgs": {
                "namespace": "html",
                "tag": "div"
               },
               "nodeType": "DOM",
               "props": {
                "className": "interact-flex-row-left"
               },
               "type": "node"
              },
              {
               "children": [
                {
                 "children": [],
                 "instanceArgs": {
                  "namespace": "html",
                  "tag": "input"
                 },
                 "nodeType": "DOM",
                 "props": {
                  "attributes": {
                   "data-bind": "numericValue: index, valueUpdate: 'input', event: {change: function (){this.changes(this.changes()+1)}}",
                   "orient": "horizontal",
                   "type": "range"
                  },
                  "className": "slider slider is-fullwidth",
                  "max": 10,
                  "min": 1,
                  "step": 1,
                  "style": {}
                 },
                 "type": "node"
                }
               ],
               "instanceArgs": {
                "namespace": "html",
                "tag": "div"
               },
               "nodeType": "DOM",
               "props": {
                "className": "interact-flex-row-center"
               },
               "type": "node"
              },
              {
               "children": [
                {
                 "children": [],
                 "instanceArgs": {
                  "namespace": "html",
                  "tag": "p"
                 },
                 "nodeType": "DOM",
                 "props": {
                  "attributes": {
                   "data-bind": "text: formatted_val"
                  }
                 },
                 "type": "node"
                }
               ],
               "instanceArgs": {
                "namespace": "html",
                "tag": "div"
               },
               "nodeType": "DOM",
               "props": {
                "className": "interact-flex-row-right"
               },
               "type": "node"
              }
             ],
             "instanceArgs": {
              "namespace": "html",
              "tag": "div"
             },
             "nodeType": "DOM",
             "props": {
              "className": "interact-flex-row interact-widget"
             },
             "type": "node"
            }
           ],
           "instanceArgs": {
            "handlers": {
             "changes": [
              "(function (val){return (val!=this.model[\"changes\"]()) ? (this.valueFromJulia[\"changes\"]=true, this.model[\"changes\"](val)) : undefined})"
             ],
             "index": [
              "(function (val){return (val!=this.model[\"index\"]()) ? (this.valueFromJulia[\"index\"]=true, this.model[\"index\"](val)) : undefined})"
             ]
            },
            "id": "14528206746972488032",
            "imports": {
             "data": [
              {
               "name": "knockout",
               "type": "js",
               "url": "/assetserver/4b78a831658f9469be0fa90a874237d533cfc56e-knockout.js"
              },
              {
               "name": "knockout_punches",
               "type": "js",
               "url": "/assetserver/32cf81589ef7eb25886db6e5be297d237f8599ce-knockout_punches.js"
              },
              {
               "name": null,
               "type": "js",
               "url": "/assetserver/4c861182dd4c5b1a7b80754ca907d70e11c2410c-all.js"
              },
              {
               "name": null,
               "type": "css",
               "url": "/assetserver/55ec2ee389419b72c3c6088bc3fbe3d7187a5fc0-style.css"
              },
              {
               "name": null,
               "type": "css",
               "url": "/assetserver/bb71acf9697a201a164f98e5fab8a4f7b4f82041-bulma_confined.min.css"
              }
             ],
             "type": "async_block"
            },
            "mount_callbacks": [
             "function () {\n    var handler = (function (ko, koPunches) {\n    ko.punches.enableAll();\n    ko.bindingHandlers.numericValue = {\n        init: function(element, valueAccessor, allBindings, data, context) {\n            var stringified = ko.observable(ko.unwrap(valueAccessor()));\n            stringified.subscribe(function(value) {\n                var val = parseFloat(value);\n                if (!isNaN(val)) {\n                    valueAccessor()(val);\n                }\n            });\n            valueAccessor().subscribe(function(value) {\n                var str = JSON.stringify(value);\n                if ((str == \"0\") && ([\"-0\", \"-0.\"].indexOf(stringified()) >= 0))\n                     return;\n                 if ([\"null\", \"\"].indexOf(str) >= 0)\n                     return;\n                stringified(str);\n            });\n            ko.applyBindingsToNode(\n                element,\n                {\n                    value: stringified,\n                    valueUpdate: allBindings.get('valueUpdate'),\n                },\n                context,\n            );\n        }\n    };\n    var json_data = {\"formatted_vals\":[\"0.01\",\"0.12\",\"0.23\",\"0.34\",\"0.45\",\"0.56\",\"0.67\",\"0.78\",\"0.89\",\"1.0\"],\"changes\":WebIO.getval({\"name\":\"changes\",\"scope\":\"14528206746972488032\",\"id\":\"14866675834646597711\",\"type\":\"observable\"}),\"index\":WebIO.getval({\"name\":\"index\",\"scope\":\"14528206746972488032\",\"id\":\"6329127300525171036\",\"type\":\"observable\"})};\n    var self = this;\n    function AppViewModel() {\n        for (var key in json_data) {\n            var el = json_data[key];\n            this[key] = Array.isArray(el) ? ko.observableArray(el) : ko.observable(el);\n        }\n        \n        [this[\"formatted_val\"]=ko.computed(    function(){\n        return this.formatted_vals()[parseInt(this.index())-(1)];\n    }\n,this)]\n        [this[\"changes\"].subscribe((function (val){!(this.valueFromJulia[\"changes\"]) ? (WebIO.setval({\"name\":\"changes\",\"scope\":\"14528206746972488032\",\"id\":\"14866675834646597711\",\"type\":\"observable\"},val)) : undefined; return this.valueFromJulia[\"changes\"]=false}),self),this[\"index\"].subscribe((function (val){!(this.valueFromJulia[\"index\"]) ? (WebIO.setval({\"name\":\"index\",\"scope\":\"14528206746972488032\",\"id\":\"6329127300525171036\",\"type\":\"observable\"},val)) : undefined; return this.valueFromJulia[\"index\"]=false}),self)]\n        \n    }\n    self.model = new AppViewModel();\n    self.valueFromJulia = {};\n    for (var key in json_data) {\n        self.valueFromJulia[key] = false;\n    }\n    ko.applyBindings(self.model, self.dom);\n}\n);\n    (WebIO.importBlock({\"data\":[{\"name\":\"knockout\",\"type\":\"js\",\"url\":\"/assetserver/4b78a831658f9469be0fa90a874237d533cfc56e-knockout.js\"},{\"name\":\"knockout_punches\",\"type\":\"js\",\"url\":\"/assetserver/32cf81589ef7eb25886db6e5be297d237f8599ce-knockout_punches.js\"}],\"type\":\"async_block\"})).then((imports) => handler.apply(this, imports));\n}\n"
            ],
            "observables": {
             "changes": {
              "id": "14866675834646597711",
              "sync": false,
              "value": 0
             },
             "index": {
              "id": "6329127300525171036",
              "sync": true,
              "value": 5
             }
            },
            "systemjs_options": null
           },
           "nodeType": "Scope",
           "props": {},
           "type": "node"
          }
         ],
         "instanceArgs": {
          "namespace": "html",
          "tag": "div"
         },
         "nodeType": "DOM",
         "props": {
          "className": "field interact-widget"
         },
         "type": "node"
        },
        {
         "children": [
          {
           "children": [
            {
             "children": [
              {
               "children": [
                {
                 "children": [
                  "grid_n"
                 ],
                 "instanceArgs": {
                  "namespace": "html",
                  "tag": "label"
                 },
                 "nodeType": "DOM",
                 "props": {
                  "className": "interact ",
                  "style": {
                   "padding": "5px 10px 0px 10px"
                  }
                 },
                 "type": "node"
                }
               ],
               "instanceArgs": {
                "namespace": "html",
                "tag": "div"
               },
               "nodeType": "DOM",
               "props": {
                "className": "interact-flex-row-left"
               },
               "type": "node"
              },
              {
               "children": [
                {
                 "children": [],
                 "instanceArgs": {
                  "namespace": "html",
                  "tag": "input"
                 },
                 "nodeType": "DOM",
                 "props": {
                  "attributes": {
                   "data-bind": "numericValue: index, valueUpdate: 'input', event: {change: function (){this.changes(this.changes()+1)}}",
                   "orient": "horizontal",
                   "type": "range"
                  },
                  "className": "slider slider is-fullwidth",
                  "max": 10,
                  "min": 1,
                  "step": 1,
                  "style": {}
                 },
                 "type": "node"
                }
               ],
               "instanceArgs": {
                "namespace": "html",
                "tag": "div"
               },
               "nodeType": "DOM",
               "props": {
                "className": "interact-flex-row-center"
               },
               "type": "node"
              },
              {
               "children": [
                {
                 "children": [],
                 "instanceArgs": {
                  "namespace": "html",
                  "tag": "p"
                 },
                 "nodeType": "DOM",
                 "props": {
                  "attributes": {
                   "data-bind": "text: formatted_val"
                  }
                 },
                 "type": "node"
                }
               ],
               "instanceArgs": {
                "namespace": "html",
                "tag": "div"
               },
               "nodeType": "DOM",
               "props": {
                "className": "interact-flex-row-right"
               },
               "type": "node"
              }
             ],
             "instanceArgs": {
              "namespace": "html",
              "tag": "div"
             },
             "nodeType": "DOM",
             "props": {
              "className": "interact-flex-row interact-widget"
             },
             "type": "node"
            }
           ],
           "instanceArgs": {
            "handlers": {
             "changes": [
              "(function (val){return (val!=this.model[\"changes\"]()) ? (this.valueFromJulia[\"changes\"]=true, this.model[\"changes\"](val)) : undefined})"
             ],
             "index": [
              "(function (val){return (val!=this.model[\"index\"]()) ? (this.valueFromJulia[\"index\"]=true, this.model[\"index\"](val)) : undefined})"
             ]
            },
            "id": "3673388560178951148",
            "imports": {
             "data": [
              {
               "name": "knockout",
               "type": "js",
               "url": "/assetserver/4b78a831658f9469be0fa90a874237d533cfc56e-knockout.js"
              },
              {
               "name": "knockout_punches",
               "type": "js",
               "url": "/assetserver/32cf81589ef7eb25886db6e5be297d237f8599ce-knockout_punches.js"
              },
              {
               "name": null,
               "type": "js",
               "url": "/assetserver/4c861182dd4c5b1a7b80754ca907d70e11c2410c-all.js"
              },
              {
               "name": null,
               "type": "css",
               "url": "/assetserver/55ec2ee389419b72c3c6088bc3fbe3d7187a5fc0-style.css"
              },
              {
               "name": null,
               "type": "css",
               "url": "/assetserver/bb71acf9697a201a164f98e5fab8a4f7b4f82041-bulma_confined.min.css"
              }
             ],
             "type": "async_block"
            },
            "mount_callbacks": [
             "function () {\n    var handler = (function (ko, koPunches) {\n    ko.punches.enableAll();\n    ko.bindingHandlers.numericValue = {\n        init: function(element, valueAccessor, allBindings, data, context) {\n            var stringified = ko.observable(ko.unwrap(valueAccessor()));\n            stringified.subscribe(function(value) {\n                var val = parseFloat(value);\n                if (!isNaN(val)) {\n                    valueAccessor()(val);\n                }\n            });\n            valueAccessor().subscribe(function(value) {\n                var str = JSON.stringify(value);\n                if ((str == \"0\") && ([\"-0\", \"-0.\"].indexOf(stringified()) >= 0))\n                     return;\n                 if ([\"null\", \"\"].indexOf(str) >= 0)\n                     return;\n                stringified(str);\n            });\n            ko.applyBindingsToNode(\n                element,\n                {\n                    value: stringified,\n                    valueUpdate: allBindings.get('valueUpdate'),\n                },\n                context,\n            );\n        }\n    };\n    var json_data = {\"formatted_vals\":[\"1\",\"2\",\"3\",\"4\",\"5\",\"6\",\"7\",\"8\",\"9\",\"10\"],\"changes\":WebIO.getval({\"name\":\"changes\",\"scope\":\"3673388560178951148\",\"id\":\"10396463575851316101\",\"type\":\"observable\"}),\"index\":WebIO.getval({\"name\":\"index\",\"scope\":\"3673388560178951148\",\"id\":\"14397460879361996835\",\"type\":\"observable\"})};\n    var self = this;\n    function AppViewModel() {\n        for (var key in json_data) {\n            var el = json_data[key];\n            this[key] = Array.isArray(el) ? ko.observableArray(el) : ko.observable(el);\n        }\n        \n        [this[\"formatted_val\"]=ko.computed(    function(){\n        return this.formatted_vals()[parseInt(this.index())-(1)];\n    }\n,this)]\n        [this[\"changes\"].subscribe((function (val){!(this.valueFromJulia[\"changes\"]) ? (WebIO.setval({\"name\":\"changes\",\"scope\":\"3673388560178951148\",\"id\":\"10396463575851316101\",\"type\":\"observable\"},val)) : undefined; return this.valueFromJulia[\"changes\"]=false}),self),this[\"index\"].subscribe((function (val){!(this.valueFromJulia[\"index\"]) ? (WebIO.setval({\"name\":\"index\",\"scope\":\"3673388560178951148\",\"id\":\"14397460879361996835\",\"type\":\"observable\"},val)) : undefined; return this.valueFromJulia[\"index\"]=false}),self)]\n        \n    }\n    self.model = new AppViewModel();\n    self.valueFromJulia = {};\n    for (var key in json_data) {\n        self.valueFromJulia[key] = false;\n    }\n    ko.applyBindings(self.model, self.dom);\n}\n);\n    (WebIO.importBlock({\"data\":[{\"name\":\"knockout\",\"type\":\"js\",\"url\":\"/assetserver/4b78a831658f9469be0fa90a874237d533cfc56e-knockout.js\"},{\"name\":\"knockout_punches\",\"type\":\"js\",\"url\":\"/assetserver/32cf81589ef7eb25886db6e5be297d237f8599ce-knockout_punches.js\"}],\"type\":\"async_block\"})).then((imports) => handler.apply(this, imports));\n}\n"
            ],
            "observables": {
             "changes": {
              "id": "10396463575851316101",
              "sync": false,
              "value": 0
             },
             "index": {
              "id": "14397460879361996835",
              "sync": true,
              "value": 5
             }
            },
            "systemjs_options": null
           },
           "nodeType": "Scope",
           "props": {},
           "type": "node"
          }
         ],
         "instanceArgs": {
          "namespace": "html",
          "tag": "div"
         },
         "nodeType": "DOM",
         "props": {
          "className": "field interact-widget"
         },
         "type": "node"
        },
        {
         "children": [
          {
           "children": [
            {
             "children": [
              {
               "children": [
                {
                 "children": [
                  "grid_k"
                 ],
                 "instanceArgs": {
                  "namespace": "html",
                  "tag": "label"
                 },
                 "nodeType": "DOM",
                 "props": {
                  "className": "interact ",
                  "style": {
                   "padding": "5px 10px 0px 10px"
                  }
                 },
                 "type": "node"
                }
               ],
               "instanceArgs": {
                "namespace": "html",
                "tag": "div"
               },
               "nodeType": "DOM",
               "props": {
                "className": "interact-flex-row-left"
               },
               "type": "node"
              },
              {
               "children": [
                {
                 "children": [],
                 "instanceArgs": {
                  "namespace": "html",
                  "tag": "input"
                 },
                 "nodeType": "DOM",
                 "props": {
                  "attributes": {
                   "data-bind": "numericValue: index, valueUpdate: 'input', event: {change: function (){this.changes(this.changes()+1)}}",
                   "orient": "horizontal",
                   "type": "range"
                  },
                  "className": "slider slider is-fullwidth",
                  "max": 10,
                  "min": 2,
                  "step": 1,
                  "style": {}
                 },
                 "type": "node"
                }
               ],
               "instanceArgs": {
                "namespace": "html",
                "tag": "div"
               },
               "nodeType": "DOM",
               "props": {
                "className": "interact-flex-row-center"
               },
               "type": "node"
              },
              {
               "children": [
                {
                 "children": [],
                 "instanceArgs": {
                  "namespace": "html",
                  "tag": "p"
                 },
                 "nodeType": "DOM",
                 "props": {
                  "attributes": {
                   "data-bind": "text: formatted_val"
                  }
                 },
                 "type": "node"
                }
               ],
               "instanceArgs": {
                "namespace": "html",
                "tag": "div"
               },
               "nodeType": "DOM",
               "props": {
                "className": "interact-flex-row-right"
               },
               "type": "node"
              }
             ],
             "instanceArgs": {
              "namespace": "html",
              "tag": "div"
             },
             "nodeType": "DOM",
             "props": {
              "className": "interact-flex-row interact-widget"
             },
             "type": "node"
            }
           ],
           "instanceArgs": {
            "handlers": {
             "changes": [
              "(function (val){return (val!=this.model[\"changes\"]()) ? (this.valueFromJulia[\"changes\"]=true, this.model[\"changes\"](val)) : undefined})"
             ],
             "index": [
              "(function (val){return (val!=this.model[\"index\"]()) ? (this.valueFromJulia[\"index\"]=true, this.model[\"index\"](val)) : undefined})"
             ]
            },
            "id": "12266068664632075953",
            "imports": {
             "data": [
              {
               "name": "knockout",
               "type": "js",
               "url": "/assetserver/4b78a831658f9469be0fa90a874237d533cfc56e-knockout.js"
              },
              {
               "name": "knockout_punches",
               "type": "js",
               "url": "/assetserver/32cf81589ef7eb25886db6e5be297d237f8599ce-knockout_punches.js"
              },
              {
               "name": null,
               "type": "js",
               "url": "/assetserver/4c861182dd4c5b1a7b80754ca907d70e11c2410c-all.js"
              },
              {
               "name": null,
               "type": "css",
               "url": "/assetserver/55ec2ee389419b72c3c6088bc3fbe3d7187a5fc0-style.css"
              },
              {
               "name": null,
               "type": "css",
               "url": "/assetserver/bb71acf9697a201a164f98e5fab8a4f7b4f82041-bulma_confined.min.css"
              }
             ],
             "type": "async_block"
            },
            "mount_callbacks": [
             "function () {\n    var handler = (function (ko, koPunches) {\n    ko.punches.enableAll();\n    ko.bindingHandlers.numericValue = {\n        init: function(element, valueAccessor, allBindings, data, context) {\n            var stringified = ko.observable(ko.unwrap(valueAccessor()));\n            stringified.subscribe(function(value) {\n                var val = parseFloat(value);\n                if (!isNaN(val)) {\n                    valueAccessor()(val);\n                }\n            });\n            valueAccessor().subscribe(function(value) {\n                var str = JSON.stringify(value);\n                if ((str == \"0\") && ([\"-0\", \"-0.\"].indexOf(stringified()) >= 0))\n                     return;\n                 if ([\"null\", \"\"].indexOf(str) >= 0)\n                     return;\n                stringified(str);\n            });\n            ko.applyBindingsToNode(\n                element,\n                {\n                    value: stringified,\n                    valueUpdate: allBindings.get('valueUpdate'),\n                },\n                context,\n            );\n        }\n    };\n    var json_data = {\"formatted_vals\":[\"2\",\"3\",\"4\",\"5\",\"6\",\"7\",\"8\",\"9\",\"10\"],\"changes\":WebIO.getval({\"name\":\"changes\",\"scope\":\"12266068664632075953\",\"id\":\"14867078706874053701\",\"type\":\"observable\"}),\"index\":WebIO.getval({\"name\":\"index\",\"scope\":\"12266068664632075953\",\"id\":\"5791100556740637270\",\"type\":\"observable\"})};\n    var self = this;\n    function AppViewModel() {\n        for (var key in json_data) {\n            var el = json_data[key];\n            this[key] = Array.isArray(el) ? ko.observableArray(el) : ko.observable(el);\n        }\n        \n        [this[\"formatted_val\"]=ko.computed(    function(){\n        return this.formatted_vals()[parseInt(this.index())-(2)];\n    }\n,this)]\n        [this[\"changes\"].subscribe((function (val){!(this.valueFromJulia[\"changes\"]) ? (WebIO.setval({\"name\":\"changes\",\"scope\":\"12266068664632075953\",\"id\":\"14867078706874053701\",\"type\":\"observable\"},val)) : undefined; return this.valueFromJulia[\"changes\"]=false}),self),this[\"index\"].subscribe((function (val){!(this.valueFromJulia[\"index\"]) ? (WebIO.setval({\"name\":\"index\",\"scope\":\"12266068664632075953\",\"id\":\"5791100556740637270\",\"type\":\"observable\"},val)) : undefined; return this.valueFromJulia[\"index\"]=false}),self)]\n        \n    }\n    self.model = new AppViewModel();\n    self.valueFromJulia = {};\n    for (var key in json_data) {\n        self.valueFromJulia[key] = false;\n    }\n    ko.applyBindings(self.model, self.dom);\n}\n);\n    (WebIO.importBlock({\"data\":[{\"name\":\"knockout\",\"type\":\"js\",\"url\":\"/assetserver/4b78a831658f9469be0fa90a874237d533cfc56e-knockout.js\"},{\"name\":\"knockout_punches\",\"type\":\"js\",\"url\":\"/assetserver/32cf81589ef7eb25886db6e5be297d237f8599ce-knockout_punches.js\"}],\"type\":\"async_block\"})).then((imports) => handler.apply(this, imports));\n}\n"
            ],
            "observables": {
             "changes": {
              "id": "14867078706874053701",
              "sync": false,
              "value": 0
             },
             "index": {
              "id": "5791100556740637270",
              "sync": true,
              "value": 6
             }
            },
            "systemjs_options": null
           },
           "nodeType": "Scope",
           "props": {},
           "type": "node"
          }
         ],
         "instanceArgs": {
          "namespace": "html",
          "tag": "div"
         },
         "nodeType": "DOM",
         "props": {
          "className": "field interact-widget"
         },
         "type": "node"
        },
        {
         "children": [
          {
           "children": [
            {
             "children": [
              {
               "children": [
                {
                 "children": [
                  "grid_w"
                 ],
                 "instanceArgs": {
                  "namespace": "html",
                  "tag": "label"
                 },
                 "nodeType": "DOM",
                 "props": {
                  "className": "interact ",
                  "style": {
                   "padding": "5px 10px 0px 10px"
                  }
                 },
                 "type": "node"
                }
               ],
               "instanceArgs": {
                "namespace": "html",
                "tag": "div"
               },
               "nodeType": "DOM",
               "props": {
                "className": "interact-flex-row-left"
               },
               "type": "node"
              },
              {
               "children": [
                {
                 "children": [],
                 "instanceArgs": {
                  "namespace": "html",
                  "tag": "input"
                 },
                 "nodeType": "DOM",
                 "props": {
                  "attributes": {
                   "data-bind": "numericValue: index, valueUpdate: 'input', event: {change: function (){this.changes(this.changes()+1)}}",
                   "orient": "horizontal",
                   "type": "range"
                  },
                  "className": "slider slider is-fullwidth",
                  "max": 10,
                  "min": 1,
                  "step": 1,
                  "style": {}
                 },
                 "type": "node"
                }
               ],
               "instanceArgs": {
                "namespace": "html",
                "tag": "div"
               },
               "nodeType": "DOM",
               "props": {
                "className": "interact-flex-row-center"
               },
               "type": "node"
              },
              {
               "children": [
                {
                 "children": [],
                 "instanceArgs": {
                  "namespace": "html",
                  "tag": "p"
                 },
                 "nodeType": "DOM",
                 "props": {
                  "attributes": {
                   "data-bind": "text: formatted_val"
                  }
                 },
                 "type": "node"
                }
               ],
               "instanceArgs": {
                "namespace": "html",
                "tag": "div"
               },
               "nodeType": "DOM",
               "props": {
                "className": "interact-flex-row-right"
               },
               "type": "node"
              }
             ],
             "instanceArgs": {
              "namespace": "html",
              "tag": "div"
             },
             "nodeType": "DOM",
             "props": {
              "className": "interact-flex-row interact-widget"
             },
             "type": "node"
            }
           ],
           "instanceArgs": {
            "handlers": {
             "changes": [
              "(function (val){return (val!=this.model[\"changes\"]()) ? (this.valueFromJulia[\"changes\"]=true, this.model[\"changes\"](val)) : undefined})"
             ],
             "index": [
              "(function (val){return (val!=this.model[\"index\"]()) ? (this.valueFromJulia[\"index\"]=true, this.model[\"index\"](val)) : undefined})"
             ]
            },
            "id": "2928548521688923081",
            "imports": {
             "data": [
              {
               "name": "knockout",
               "type": "js",
               "url": "/assetserver/4b78a831658f9469be0fa90a874237d533cfc56e-knockout.js"
              },
              {
               "name": "knockout_punches",
               "type": "js",
               "url": "/assetserver/32cf81589ef7eb25886db6e5be297d237f8599ce-knockout_punches.js"
              },
              {
               "name": null,
               "type": "js",
               "url": "/assetserver/4c861182dd4c5b1a7b80754ca907d70e11c2410c-all.js"
              },
              {
               "name": null,
               "type": "css",
               "url": "/assetserver/55ec2ee389419b72c3c6088bc3fbe3d7187a5fc0-style.css"
              },
              {
               "name": null,
               "type": "css",
               "url": "/assetserver/bb71acf9697a201a164f98e5fab8a4f7b4f82041-bulma_confined.min.css"
              }
             ],
             "type": "async_block"
            },
            "mount_callbacks": [
             "function () {\n    var handler = (function (ko, koPunches) {\n    ko.punches.enableAll();\n    ko.bindingHandlers.numericValue = {\n        init: function(element, valueAccessor, allBindings, data, context) {\n            var stringified = ko.observable(ko.unwrap(valueAccessor()));\n            stringified.subscribe(function(value) {\n                var val = parseFloat(value);\n                if (!isNaN(val)) {\n                    valueAccessor()(val);\n                }\n            });\n            valueAccessor().subscribe(function(value) {\n                var str = JSON.stringify(value);\n                if ((str == \"0\") && ([\"-0\", \"-0.\"].indexOf(stringified()) >= 0))\n                     return;\n                 if ([\"null\", \"\"].indexOf(str) >= 0)\n                     return;\n                stringified(str);\n            });\n            ko.applyBindingsToNode(\n                element,\n                {\n                    value: stringified,\n                    valueUpdate: allBindings.get('valueUpdate'),\n                },\n                context,\n            );\n        }\n    };\n    var json_data = {\"formatted_vals\":[\"1\",\"6\",\"11\",\"16\",\"21\",\"26\",\"31\",\"36\",\"41\",\"46\"],\"changes\":WebIO.getval({\"name\":\"changes\",\"scope\":\"2928548521688923081\",\"id\":\"11040795841207543401\",\"type\":\"observable\"}),\"index\":WebIO.getval({\"name\":\"index\",\"scope\":\"2928548521688923081\",\"id\":\"7177452608964947839\",\"type\":\"observable\"})};\n    var self = this;\n    function AppViewModel() {\n        for (var key in json_data) {\n            var el = json_data[key];\n            this[key] = Array.isArray(el) ? ko.observableArray(el) : ko.observable(el);\n        }\n        \n        [this[\"formatted_val\"]=ko.computed(    function(){\n        return this.formatted_vals()[parseInt(this.index())-(1)];\n    }\n,this)]\n        [this[\"changes\"].subscribe((function (val){!(this.valueFromJulia[\"changes\"]) ? (WebIO.setval({\"name\":\"changes\",\"scope\":\"2928548521688923081\",\"id\":\"11040795841207543401\",\"type\":\"observable\"},val)) : undefined; return this.valueFromJulia[\"changes\"]=false}),self),this[\"index\"].subscribe((function (val){!(this.valueFromJulia[\"index\"]) ? (WebIO.setval({\"name\":\"index\",\"scope\":\"2928548521688923081\",\"id\":\"7177452608964947839\",\"type\":\"observable\"},val)) : undefined; return this.valueFromJulia[\"index\"]=false}),self)]\n        \n    }\n    self.model = new AppViewModel();\n    self.valueFromJulia = {};\n    for (var key in json_data) {\n        self.valueFromJulia[key] = false;\n    }\n    ko.applyBindings(self.model, self.dom);\n}\n);\n    (WebIO.importBlock({\"data\":[{\"name\":\"knockout\",\"type\":\"js\",\"url\":\"/assetserver/4b78a831658f9469be0fa90a874237d533cfc56e-knockout.js\"},{\"name\":\"knockout_punches\",\"type\":\"js\",\"url\":\"/assetserver/32cf81589ef7eb25886db6e5be297d237f8599ce-knockout_punches.js\"}],\"type\":\"async_block\"})).then((imports) => handler.apply(this, imports));\n}\n"
            ],
            "observables": {
             "changes": {
              "id": "11040795841207543401",
              "sync": false,
              "value": 0
             },
             "index": {
              "id": "7177452608964947839",
              "sync": true,
              "value": 5
             }
            },
            "systemjs_options": null
           },
           "nodeType": "Scope",
           "props": {},
           "type": "node"
          }
         ],
         "instanceArgs": {
          "namespace": "html",
          "tag": "div"
         },
         "nodeType": "DOM",
         "props": {
          "className": "field interact-widget"
         },
         "type": "node"
        },
        {
         "children": [
          {
           "children": [
            {
             "children": [
              {
               "children": [
                {
                 "children": [
                  "grid_s_noise"
                 ],
                 "instanceArgs": {
                  "namespace": "html",
                  "tag": "label"
                 },
                 "nodeType": "DOM",
                 "props": {
                  "className": "interact ",
                  "style": {
                   "padding": "5px 10px 0px 10px"
                  }
                 },
                 "type": "node"
                }
               ],
               "instanceArgs": {
                "namespace": "html",
                "tag": "div"
               },
               "nodeType": "DOM",
               "props": {
                "className": "interact-flex-row-left"
               },
               "type": "node"
              },
              {
               "children": [
                {
                 "children": [],
                 "instanceArgs": {
                  "namespace": "html",
                  "tag": "input"
                 },
                 "nodeType": "DOM",
                 "props": {
                  "attributes": {
                   "data-bind": "numericValue: index, valueUpdate: 'input', event: {change: function (){this.changes(this.changes()+1)}}",
                   "orient": "horizontal",
                   "type": "range"
                  },
                  "className": "slider slider is-fullwidth",
                  "max": 10,
                  "min": 1,
                  "step": 1,
                  "style": {}
                 },
                 "type": "node"
                }
               ],
               "instanceArgs": {
                "namespace": "html",
                "tag": "div"
               },
               "nodeType": "DOM",
               "props": {
                "className": "interact-flex-row-center"
               },
               "type": "node"
              },
              {
               "children": [
                {
                 "children": [],
                 "instanceArgs": {
                  "namespace": "html",
                  "tag": "p"
                 },
                 "nodeType": "DOM",
                 "props": {
                  "attributes": {
                   "data-bind": "text: formatted_val"
                  }
                 },
                 "type": "node"
                }
               ],
               "instanceArgs": {
                "namespace": "html",
                "tag": "div"
               },
               "nodeType": "DOM",
               "props": {
                "className": "interact-flex-row-right"
               },
               "type": "node"
              }
             ],
             "instanceArgs": {
              "namespace": "html",
              "tag": "div"
             },
             "nodeType": "DOM",
             "props": {
              "className": "interact-flex-row interact-widget"
             },
             "type": "node"
            }
           ],
           "instanceArgs": {
            "handlers": {
             "changes": [
              "(function (val){return (val!=this.model[\"changes\"]()) ? (this.valueFromJulia[\"changes\"]=true, this.model[\"changes\"](val)) : undefined})"
             ],
             "index": [
              "(function (val){return (val!=this.model[\"index\"]()) ? (this.valueFromJulia[\"index\"]=true, this.model[\"index\"](val)) : undefined})"
             ]
            },
            "id": "2925215358630221232",
            "imports": {
             "data": [
              {
               "name": "knockout",
               "type": "js",
               "url": "/assetserver/4b78a831658f9469be0fa90a874237d533cfc56e-knockout.js"
              },
              {
               "name": "knockout_punches",
               "type": "js",
               "url": "/assetserver/32cf81589ef7eb25886db6e5be297d237f8599ce-knockout_punches.js"
              },
              {
               "name": null,
               "type": "js",
               "url": "/assetserver/4c861182dd4c5b1a7b80754ca907d70e11c2410c-all.js"
              },
              {
               "name": null,
               "type": "css",
               "url": "/assetserver/55ec2ee389419b72c3c6088bc3fbe3d7187a5fc0-style.css"
              },
              {
               "name": null,
               "type": "css",
               "url": "/assetserver/bb71acf9697a201a164f98e5fab8a4f7b4f82041-bulma_confined.min.css"
              }
             ],
             "type": "async_block"
            },
            "mount_callbacks": [
             "function () {\n    var handler = (function (ko, koPunches) {\n    ko.punches.enableAll();\n    ko.bindingHandlers.numericValue = {\n        init: function(element, valueAccessor, allBindings, data, context) {\n            var stringified = ko.observable(ko.unwrap(valueAccessor()));\n            stringified.subscribe(function(value) {\n                var val = parseFloat(value);\n                if (!isNaN(val)) {\n                    valueAccessor()(val);\n                }\n            });\n            valueAccessor().subscribe(function(value) {\n                var str = JSON.stringify(value);\n                if ((str == \"0\") && ([\"-0\", \"-0.\"].indexOf(stringified()) >= 0))\n                     return;\n                 if ([\"null\", \"\"].indexOf(str) >= 0)\n                     return;\n                stringified(str);\n            });\n            ko.applyBindingsToNode(\n                element,\n                {\n                    value: stringified,\n                    valueUpdate: allBindings.get('valueUpdate'),\n                },\n                context,\n            );\n        }\n    };\n    var json_data = {\"formatted_vals\":[\"0.01\",\"0.12\",\"0.23\",\"0.34\",\"0.45\",\"0.56\",\"0.67\",\"0.78\",\"0.89\",\"1.0\"],\"changes\":WebIO.getval({\"name\":\"changes\",\"scope\":\"2925215358630221232\",\"id\":\"2830025736425862510\",\"type\":\"observable\"}),\"index\":WebIO.getval({\"name\":\"index\",\"scope\":\"2925215358630221232\",\"id\":\"10249383898199816129\",\"type\":\"observable\"})};\n    var self = this;\n    function AppViewModel() {\n        for (var key in json_data) {\n            var el = json_data[key];\n            this[key] = Array.isArray(el) ? ko.observableArray(el) : ko.observable(el);\n        }\n        \n        [this[\"formatted_val\"]=ko.computed(    function(){\n        return this.formatted_vals()[parseInt(this.index())-(1)];\n    }\n,this)]\n        [this[\"changes\"].subscribe((function (val){!(this.valueFromJulia[\"changes\"]) ? (WebIO.setval({\"name\":\"changes\",\"scope\":\"2925215358630221232\",\"id\":\"2830025736425862510\",\"type\":\"observable\"},val)) : undefined; return this.valueFromJulia[\"changes\"]=false}),self),this[\"index\"].subscribe((function (val){!(this.valueFromJulia[\"index\"]) ? (WebIO.setval({\"name\":\"index\",\"scope\":\"2925215358630221232\",\"id\":\"10249383898199816129\",\"type\":\"observable\"},val)) : undefined; return this.valueFromJulia[\"index\"]=false}),self)]\n        \n    }\n    self.model = new AppViewModel();\n    self.valueFromJulia = {};\n    for (var key in json_data) {\n        self.valueFromJulia[key] = false;\n    }\n    ko.applyBindings(self.model, self.dom);\n}\n);\n    (WebIO.importBlock({\"data\":[{\"name\":\"knockout\",\"type\":\"js\",\"url\":\"/assetserver/4b78a831658f9469be0fa90a874237d533cfc56e-knockout.js\"},{\"name\":\"knockout_punches\",\"type\":\"js\",\"url\":\"/assetserver/32cf81589ef7eb25886db6e5be297d237f8599ce-knockout_punches.js\"}],\"type\":\"async_block\"})).then((imports) => handler.apply(this, imports));\n}\n"
            ],
            "observables": {
             "changes": {
              "id": "2830025736425862510",
              "sync": false,
              "value": 0
             },
             "index": {
              "id": "10249383898199816129",
              "sync": true,
              "value": 5
             }
            },
            "systemjs_options": null
           },
           "nodeType": "Scope",
           "props": {},
           "type": "node"
          }
         ],
         "instanceArgs": {
          "namespace": "html",
          "tag": "div"
         },
         "nodeType": "DOM",
         "props": {
          "className": "field interact-widget"
         },
         "type": "node"
        },
        {
         "children": [
          {
           "children": [],
           "instanceArgs": {
            "id": "6551001444837281641",
            "name": "obs-node"
           },
           "nodeType": "ObservableNode",
           "props": {},
           "type": "node"
          }
         ],
         "instanceArgs": {
          "handlers": {},
          "id": "1501502630300541603",
          "imports": {
           "data": [],
           "type": "async_block"
          },
          "mount_callbacks": [],
          "observables": {
           "obs-node": {
            "id": "6551001444837281641",
            "sync": false,
            "value": {
             "children": [
              {
               "children": [],
               "instanceArgs": {
                "namespace": "html",
                "tag": "div"
               },
               "nodeType": "DOM",
               "props": {
                "setInnerHtml": "<img src=\"data:image/gif;base64,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\" />"
               },
               "type": "node"
              }
             ],
             "instanceArgs": {
              "namespace": "html",
              "tag": "div"
             },
             "nodeType": "DOM",
             "props": {
              "className": "interact-flex-row interact-widget"
             },
             "type": "node"
            }
           }
          },
          "systemjs_options": null
         },
         "nodeType": "Scope",
         "props": {},
         "type": "node"
        }
       ],
       "instanceArgs": {
        "namespace": "html",
        "tag": "div"
       },
       "nodeType": "DOM",
       "props": {},
       "type": "node"
      },
      "text/html": [
       "<div\n",
       "    class=\"webio-mountpoint\"\n",
       "    data-webio-mountpoint=\"4249399651537005785\"\n",
       ">\n",
       "    <script>\n",
       "    (function(){\n",
       "    // Some integrations (namely, IJulia/Jupyter) use an alternate render pathway than\n",
       "    // just putting the html on the page. If WebIO isn't defined, then it's pretty likely\n",
       "    // that we're in one of those situations and the integration just isn't installed\n",
       "    // correctly.\n",
       "    if (typeof window.WebIO === \"undefined\") {\n",
       "        document\n",
       "            .querySelector('[data-webio-mountpoint=\"4249399651537005785\"]')\n",
       "            .innerHTML = (\n",
       "                '<div style=\"padding: 1em; background-color: #f8d6da; border: 1px solid #f5c6cb; font-weight: bold;\">' +\n",
       "                '<p><strong>WebIO not detected.</strong></p>' +\n",
       "                '<p>Please read ' +\n",
       "                '<a href=\"https://juliagizmos.github.io/WebIO.jl/latest/troubleshooting/not-detected/\" target=\"_blank\">the troubleshooting guide</a> ' +\n",
       "                'for more information on how to resolve this issue.</p>' +\n",
       "                '<p><a href=\"https://juliagizmos.github.io/WebIO.jl/latest/troubleshooting/not-detected/\" target=\"_blank\">https://juliagizmos.github.io/WebIO.jl/latest/troubleshooting/not-detected/</a></p>' +\n",
       "                '</div>'\n",
       "            );\n",
       "        return;\n",
       "    }\n",
       "    WebIO.mount(\n",
       "        document.querySelector('[data-webio-mountpoint=\"4249399651537005785\"]'),\n",
       "        {\"props\":{},\"nodeType\":\"DOM\",\"type\":\"node\",\"instanceArgs\":{\"namespace\":\"html\",\"tag\":\"div\"},\"children\":[{\"props\":{\"className\":\"field interact-widget\"},\"nodeType\":\"DOM\",\"type\":\"node\",\"instanceArgs\":{\"namespace\":\"html\",\"tag\":\"div\"},\"children\":[{\"props\":{},\"nodeType\":\"Scope\",\"type\":\"node\",\"instanceArgs\":{\"imports\":{\"data\":[{\"name\":\"knockout\",\"type\":\"js\",\"url\":\"\\/assetserver\\/4b78a831658f9469be0fa90a874237d533cfc56e-knockout.js\"},{\"name\":\"knockout_punches\",\"type\":\"js\",\"url\":\"\\/assetserver\\/32cf81589ef7eb25886db6e5be297d237f8599ce-knockout_punches.js\"},{\"name\":null,\"type\":\"js\",\"url\":\"\\/assetserver\\/4c861182dd4c5b1a7b80754ca907d70e11c2410c-all.js\"},{\"name\":null,\"type\":\"css\",\"url\":\"\\/assetserver\\/55ec2ee389419b72c3c6088bc3fbe3d7187a5fc0-style.css\"},{\"name\":null,\"type\":\"css\",\"url\":\"\\/assetserver\\/bb71acf9697a201a164f98e5fab8a4f7b4f82041-bulma_confined.min.css\"}],\"type\":\"async_block\"},\"id\":\"16385328324342212876\",\"handlers\":{\"changes\":[\"(function (val){return (val!=this.model[\\\"changes\\\"]()) ? (this.valueFromJulia[\\\"changes\\\"]=true, this.model[\\\"changes\\\"](val)) : undefined})\"],\"index\":[\"(function (val){return (val!=this.model[\\\"index\\\"]()) ? (this.valueFromJulia[\\\"index\\\"]=true, this.model[\\\"index\\\"](val)) : undefined})\"]},\"systemjs_options\":null,\"mount_callbacks\":[\"function () {\\n    var handler = (function (ko, koPunches) {\\n    ko.punches.enableAll();\\n    ko.bindingHandlers.numericValue = {\\n        init: function(element, valueAccessor, allBindings, data, context) {\\n            var stringified = ko.observable(ko.unwrap(valueAccessor()));\\n            stringified.subscribe(function(value) {\\n                var val = parseFloat(value);\\n                if (!isNaN(val)) {\\n                    valueAccessor()(val);\\n                }\\n            });\\n            valueAccessor().subscribe(function(value) {\\n                var str = JSON.stringify(value);\\n                if ((str == \\\"0\\\") && ([\\\"-0\\\", \\\"-0.\\\"].indexOf(stringified()) >= 0))\\n                     return;\\n                 if ([\\\"null\\\", \\\"\\\"].indexOf(str) >= 0)\\n                     return;\\n                stringified(str);\\n            });\\n            ko.applyBindingsToNode(\\n                element,\\n                {\\n                    value: stringified,\\n                    valueUpdate: allBindings.get('valueUpdate'),\\n                },\\n                context,\\n            );\\n        }\\n    };\\n    var json_data = {\\\"formatted_vals\\\":[\\\"1\\\",\\\"21\\\",\\\"41\\\"],\\\"changes\\\":WebIO.getval({\\\"name\\\":\\\"changes\\\",\\\"scope\\\":\\\"16385328324342212876\\\",\\\"id\\\":\\\"6134814117290500317\\\",\\\"type\\\":\\\"observable\\\"}),\\\"index\\\":WebIO.getval({\\\"name\\\":\\\"index\\\",\\\"scope\\\":\\\"16385328324342212876\\\",\\\"id\\\":\\\"12004230819449100993\\\",\\\"type\\\":\\\"observable\\\"})};\\n    var self = this;\\n    function AppViewModel() {\\n        for (var key in json_data) {\\n            var el = json_data[key];\\n            this[key] = Array.isArray(el) ? ko.observableArray(el) : ko.observable(el);\\n        }\\n        \\n        [this[\\\"formatted_val\\\"]=ko.computed(    function(){\\n        return this.formatted_vals()[parseInt(this.index())-(1)];\\n    }\\n,this)]\\n        [this[\\\"changes\\\"].subscribe((function (val){!(this.valueFromJulia[\\\"changes\\\"]) ? (WebIO.setval({\\\"name\\\":\\\"changes\\\",\\\"scope\\\":\\\"16385328324342212876\\\",\\\"id\\\":\\\"6134814117290500317\\\",\\\"type\\\":\\\"observable\\\"},val)) : undefined; return this.valueFromJulia[\\\"changes\\\"]=false}),self),this[\\\"index\\\"].subscribe((function (val){!(this.valueFromJulia[\\\"index\\\"]) ? (WebIO.setval({\\\"name\\\":\\\"index\\\",\\\"scope\\\":\\\"16385328324342212876\\\",\\\"id\\\":\\\"12004230819449100993\\\",\\\"type\\\":\\\"observable\\\"},val)) : undefined; return this.valueFromJulia[\\\"index\\\"]=false}),self)]\\n        \\n    }\\n    self.model = new AppViewModel();\\n    self.valueFromJulia = {};\\n    for (var key in json_data) {\\n        self.valueFromJulia[key] = false;\\n    }\\n    ko.applyBindings(self.model, self.dom);\\n}\\n);\\n    (WebIO.importBlock({\\\"data\\\":[{\\\"name\\\":\\\"knockout\\\",\\\"type\\\":\\\"js\\\",\\\"url\\\":\\\"\\/assetserver\\/4b78a831658f9469be0fa90a874237d533cfc56e-knockout.js\\\"},{\\\"name\\\":\\\"knockout_punches\\\",\\\"type\\\":\\\"js\\\",\\\"url\\\":\\\"\\/assetserver\\/32cf81589ef7eb25886db6e5be297d237f8599ce-knockout_punches.js\\\"}],\\\"type\\\":\\\"async_block\\\"})).then((imports) => handler.apply(this, imports));\\n}\\n\"],\"observables\":{\"changes\":{\"sync\":false,\"id\":\"6134814117290500317\",\"value\":0},\"index\":{\"sync\":true,\"id\":\"12004230819449100993\",\"value\":1}}},\"children\":[{\"props\":{\"className\":\"interact-flex-row interact-widget\"},\"nodeType\":\"DOM\",\"type\":\"node\",\"instanceArgs\":{\"namespace\":\"html\",\"tag\":\"div\"},\"children\":[{\"props\":{\"className\":\"interact-flex-row-left\"},\"nodeType\":\"DOM\",\"type\":\"node\",\"instanceArgs\":{\"namespace\":\"html\",\"tag\":\"div\"},\"children\":[{\"props\":{\"className\":\"interact \",\"style\":{\"padding\":\"5px 10px 0px 10px\"}},\"nodeType\":\"DOM\",\"type\":\"node\",\"instanceArgs\":{\"namespace\":\"html\",\"tag\":\"label\"},\"children\":[\"n\"]}]},{\"props\":{\"className\":\"interact-flex-row-center\"},\"nodeType\":\"DOM\",\"type\":\"node\",\"instanceArgs\":{\"namespace\":\"html\",\"tag\":\"div\"},\"children\":[{\"props\":{\"max\":3,\"min\":1,\"attributes\":{\"type\":\"range\",\"data-bind\":\"numericValue: index, valueUpdate: 'input', event: {change: function (){this.changes(this.changes()+1)}}\",\"orient\":\"horizontal\"},\"step\":1,\"className\":\"slider slider is-fullwidth\",\"style\":{}},\"nodeType\":\"DOM\",\"type\":\"node\",\"instanceArgs\":{\"namespace\":\"html\",\"tag\":\"input\"},\"children\":[]}]},{\"props\":{\"className\":\"interact-flex-row-right\"},\"nodeType\":\"DOM\",\"type\":\"node\",\"instanceArgs\":{\"namespace\":\"html\",\"tag\":\"div\"},\"children\":[{\"props\":{\"attributes\":{\"data-bind\":\"text: formatted_val\"}},\"nodeType\":\"DOM\",\"type\":\"node\",\"instanceArgs\":{\"namespace\":\"html\",\"tag\":\"p\"},\"children\":[]}]}]}]}]},{\"props\":{\"className\":\"field interact-widget\"},\"nodeType\":\"DOM\",\"type\":\"node\",\"instanceArgs\":{\"namespace\":\"html\",\"tag\":\"div\"},\"children\":[{\"props\":{},\"nodeType\":\"Scope\",\"type\":\"node\",\"instanceArgs\":{\"imports\":{\"data\":[{\"name\":\"knockout\",\"type\":\"js\",\"url\":\"\\/assetserver\\/4b78a831658f9469be0fa90a874237d533cfc56e-knockout.js\"},{\"name\":\"knockout_punches\",\"type\":\"js\",\"url\":\"\\/assetserver\\/32cf81589ef7eb25886db6e5be297d237f8599ce-knockout_punches.js\"},{\"name\":null,\"type\":\"js\",\"url\":\"\\/assetserver\\/4c861182dd4c5b1a7b80754ca907d70e11c2410c-all.js\"},{\"name\":null,\"type\":\"css\",\"url\":\"\\/assetserver\\/55ec2ee389419b72c3c6088bc3fbe3d7187a5fc0-style.css\"},{\"name\":null,\"type\":\"css\",\"url\":\"\\/assetserver\\/bb71acf9697a201a164f98e5fab8a4f7b4f82041-bulma_confined.min.css\"}],\"type\":\"async_block\"},\"id\":\"1478858329027725300\",\"handlers\":{\"changes\":[\"(function (val){return (val!=this.model[\\\"changes\\\"]()) ? (this.valueFromJulia[\\\"changes\\\"]=true, this.model[\\\"changes\\\"](val)) : undefined})\"],\"index\":[\"(function (val){return (val!=this.model[\\\"index\\\"]()) ? (this.valueFromJulia[\\\"index\\\"]=true, this.model[\\\"index\\\"](val)) : undefined})\"]},\"systemjs_options\":null,\"mount_callbacks\":[\"function () {\\n    var handler = (function (ko, koPunches) {\\n    ko.punches.enableAll();\\n    ko.bindingHandlers.numericValue = {\\n        init: function(element, valueAccessor, allBindings, data, context) {\\n            var stringified = ko.observable(ko.unwrap(valueAccessor()));\\n            stringified.subscribe(function(value) {\\n                var val = parseFloat(value);\\n                if (!isNaN(val)) {\\n                    valueAccessor()(val);\\n                }\\n            });\\n            valueAccessor().subscribe(function(value) {\\n                var str = JSON.stringify(value);\\n                if ((str == \\\"0\\\") && ([\\\"-0\\\", \\\"-0.\\\"].indexOf(stringified()) >= 0))\\n                     return;\\n                 if ([\\\"null\\\", \\\"\\\"].indexOf(str) >= 0)\\n                     return;\\n                stringified(str);\\n            });\\n            ko.applyBindingsToNode(\\n                element,\\n                {\\n                    value: stringified,\\n                    valueUpdate: allBindings.get('valueUpdate'),\\n                },\\n                context,\\n            );\\n        }\\n    };\\n    var json_data = {\\\"formatted_vals\\\":[\\\"5\\\",\\\"6\\\",\\\"7\\\",\\\"8\\\",\\\"9\\\",\\\"10\\\",\\\"11\\\",\\\"12\\\",\\\"13\\\",\\\"14\\\",\\\"15\\\",\\\"16\\\",\\\"17\\\",\\\"18\\\",\\\"19\\\",\\\"20\\\"],\\\"changes\\\":WebIO.getval({\\\"name\\\":\\\"changes\\\",\\\"scope\\\":\\\"1478858329027725300\\\",\\\"id\\\":\\\"3222589582879499564\\\",\\\"type\\\":\\\"observable\\\"}),\\\"index\\\":WebIO.getval({\\\"name\\\":\\\"index\\\",\\\"scope\\\":\\\"1478858329027725300\\\",\\\"id\\\":\\\"17180665068616041524\\\",\\\"type\\\":\\\"observable\\\"})};\\n    var self = this;\\n    function AppViewModel() {\\n        for (var key in json_data) {\\n            var el = json_data[key];\\n            this[key] = Array.isArray(el) ? ko.observableArray(el) : ko.observable(el);\\n        }\\n        \\n        [this[\\\"formatted_val\\\"]=ko.computed(    function(){\\n        return this.formatted_vals()[parseInt(this.index())-(5)];\\n    }\\n,this)]\\n        [this[\\\"changes\\\"].subscribe((function (val){!(this.valueFromJulia[\\\"changes\\\"]) ? (WebIO.setval({\\\"name\\\":\\\"changes\\\",\\\"scope\\\":\\\"1478858329027725300\\\",\\\"id\\\":\\\"3222589582879499564\\\",\\\"type\\\":\\\"observable\\\"},val)) : undefined; return this.valueFromJulia[\\\"changes\\\"]=false}),self),this[\\\"index\\\"].subscribe((function (val){!(this.valueFromJulia[\\\"index\\\"]) ? (WebIO.setval({\\\"name\\\":\\\"index\\\",\\\"scope\\\":\\\"1478858329027725300\\\",\\\"id\\\":\\\"17180665068616041524\\\",\\\"type\\\":\\\"observable\\\"},val)) : undefined; return this.valueFromJulia[\\\"index\\\"]=false}),self)]\\n        \\n    }\\n    self.model = new AppViewModel();\\n    self.valueFromJulia = {};\\n    for (var key in json_data) {\\n        self.valueFromJulia[key] = false;\\n    }\\n    ko.applyBindings(self.model, self.dom);\\n}\\n);\\n    (WebIO.importBlock({\\\"data\\\":[{\\\"name\\\":\\\"knockout\\\",\\\"type\\\":\\\"js\\\",\\\"url\\\":\\\"\\/assetserver\\/4b78a831658f9469be0fa90a874237d533cfc56e-knockout.js\\\"},{\\\"name\\\":\\\"knockout_punches\\\",\\\"type\\\":\\\"js\\\",\\\"url\\\":\\\"\\/assetserver\\/32cf81589ef7eb25886db6e5be297d237f8599ce-knockout_punches.js\\\"}],\\\"type\\\":\\\"async_block\\\"})).then((imports) => handler.apply(this, imports));\\n}\\n\"],\"observables\":{\"changes\":{\"sync\":false,\"id\":\"3222589582879499564\",\"value\":0},\"index\":{\"sync\":true,\"id\":\"17180665068616041524\",\"value\":12}}},\"children\":[{\"props\":{\"className\":\"interact-flex-row interact-widget\"},\"nodeType\":\"DOM\",\"type\":\"node\",\"instanceArgs\":{\"namespace\":\"html\",\"tag\":\"div\"},\"children\":[{\"props\":{\"className\":\"interact-flex-row-left\"},\"nodeType\":\"DOM\",\"type\":\"node\",\"instanceArgs\":{\"namespace\":\"html\",\"tag\":\"div\"},\"children\":[{\"props\":{\"className\":\"interact \",\"style\":{\"padding\":\"5px 10px 0px 10px\"}},\"nodeType\":\"DOM\",\"type\":\"node\",\"instanceArgs\":{\"namespace\":\"html\",\"tag\":\"label\"},\"children\":[\"T\"]}]},{\"props\":{\"className\":\"interact-flex-row-center\"},\"nodeType\":\"DOM\",\"type\":\"node\",\"instanceArgs\":{\"namespace\":\"html\",\"tag\":\"div\"},\"children\":[{\"props\":{\"max\":20,\"min\":5,\"attributes\":{\"type\":\"range\",\"data-bind\":\"numericValue: index, valueUpdate: 'input', event: {change: function (){this.changes(this.changes()+1)}}\",\"orient\":\"horizontal\"},\"step\":1,\"className\":\"slider slider is-fullwidth\",\"style\":{}},\"nodeType\":\"DOM\",\"type\":\"node\",\"instanceArgs\":{\"namespace\":\"html\",\"tag\":\"input\"},\"children\":[]}]},{\"props\":{\"className\":\"interact-flex-row-right\"},\"nodeType\":\"DOM\",\"type\":\"node\",\"instanceArgs\":{\"namespace\":\"html\",\"tag\":\"div\"},\"children\":[{\"props\":{\"attributes\":{\"data-bind\":\"text: formatted_val\"}},\"nodeType\":\"DOM\",\"type\":\"node\",\"instanceArgs\":{\"namespace\":\"html\",\"tag\":\"p\"},\"children\":[]}]}]}]}]},{\"props\":{\"className\":\"field interact-widget\"},\"nodeType\":\"DOM\",\"type\":\"node\",\"instanceArgs\":{\"namespace\":\"html\",\"tag\":\"div\"},\"children\":[{\"props\":{},\"nodeType\":\"Scope\",\"type\":\"node\",\"instanceArgs\":{\"imports\":{\"data\":[{\"name\":\"knockout\",\"type\":\"js\",\"url\":\"\\/assetserver\\/4b78a831658f9469be0fa90a874237d533cfc56e-knockout.js\"},{\"name\":\"knockout_punches\",\"type\":\"js\",\"url\":\"\\/assetserver\\/32cf81589ef7eb25886db6e5be297d237f8599ce-knockout_punches.js\"},{\"name\":null,\"type\":\"js\",\"url\":\"\\/assetserver\\/4c861182dd4c5b1a7b80754ca907d70e11c2410c-all.js\"},{\"name\":null,\"type\":\"css\",\"url\":\"\\/assetserver\\/55ec2ee389419b72c3c6088bc3fbe3d7187a5fc0-style.css\"},{\"name\":null,\"type\":\"css\",\"url\":\"\\/assetserver\\/bb71acf9697a201a164f98e5fab8a4f7b4f82041-bulma_confined.min.css\"}],\"type\":\"async_block\"},\"id\":\"1627845131073083714\",\"handlers\":{\"changes\":[\"(function (val){return (val!=this.model[\\\"changes\\\"]()) ? (this.valueFromJulia[\\\"changes\\\"]=true, this.model[\\\"changes\\\"](val)) : undefined})\"],\"index\":[\"(function (val){return (val!=this.model[\\\"index\\\"]()) ? (this.valueFromJulia[\\\"index\\\"]=true, this.model[\\\"index\\\"](val)) : undefined})\"]},\"systemjs_options\":null,\"mount_callbacks\":[\"function () {\\n    var handler = (function (ko, koPunches) {\\n    ko.punches.enableAll();\\n    ko.bindingHandlers.numericValue = {\\n        init: function(element, valueAccessor, allBindings, data, context) {\\n            var stringified = ko.observable(ko.unwrap(valueAccessor()));\\n            stringified.subscribe(function(value) {\\n                var val = parseFloat(value);\\n                if (!isNaN(val)) {\\n                    valueAccessor()(val);\\n                }\\n            });\\n            valueAccessor().subscribe(function(value) {\\n                var str = JSON.stringify(value);\\n                if ((str == \\\"0\\\") && ([\\\"-0\\\", \\\"-0.\\\"].indexOf(stringified()) >= 0))\\n                     return;\\n                 if ([\\\"null\\\", \\\"\\\"].indexOf(str) >= 0)\\n                     return;\\n                stringified(str);\\n            });\\n            ko.applyBindingsToNode(\\n                element,\\n                {\\n                    value: stringified,\\n                    valueUpdate: allBindings.get('valueUpdate'),\\n                },\\n                context,\\n            );\\n        }\\n    };\\n    var json_data = {\\\"formatted_vals\\\":[\\\"1\\\",\\\"51\\\",\\\"101\\\",\\\"151\\\",\\\"201\\\"],\\\"changes\\\":WebIO.getval({\\\"name\\\":\\\"changes\\\",\\\"scope\\\":\\\"1627845131073083714\\\",\\\"id\\\":\\\"15513433893230360505\\\",\\\"type\\\":\\\"observable\\\"}),\\\"index\\\":WebIO.getval({\\\"name\\\":\\\"index\\\",\\\"scope\\\":\\\"1627845131073083714\\\",\\\"id\\\":\\\"5200263741161125602\\\",\\\"type\\\":\\\"observable\\\"})};\\n    var self = this;\\n    function AppViewModel() {\\n        for (var key in json_data) {\\n            var el = json_data[key];\\n            this[key] = Array.isArray(el) ? ko.observableArray(el) : ko.observable(el);\\n        }\\n        \\n        [this[\\\"formatted_val\\\"]=ko.computed(    function(){\\n        return this.formatted_vals()[parseInt(this.index())-(1)];\\n    }\\n,this)]\\n        [this[\\\"changes\\\"].subscribe((function (val){!(this.valueFromJulia[\\\"changes\\\"]) ? (WebIO.setval({\\\"name\\\":\\\"changes\\\",\\\"scope\\\":\\\"1627845131073083714\\\",\\\"id\\\":\\\"15513433893230360505\\\",\\\"type\\\":\\\"observable\\\"},val)) : undefined; return this.valueFromJulia[\\\"changes\\\"]=false}),self),this[\\\"index\\\"].subscribe((function (val){!(this.valueFromJulia[\\\"index\\\"]) ? (WebIO.setval({\\\"name\\\":\\\"index\\\",\\\"scope\\\":\\\"1627845131073083714\\\",\\\"id\\\":\\\"5200263741161125602\\\",\\\"type\\\":\\\"observable\\\"},val)) : undefined; return this.valueFromJulia[\\\"index\\\"]=false}),self)]\\n        \\n    }\\n    self.model = new AppViewModel();\\n    self.valueFromJulia = {};\\n    for (var key in json_data) {\\n        self.valueFromJulia[key] = false;\\n    }\\n    ko.applyBindings(self.model, self.dom);\\n}\\n);\\n    (WebIO.importBlock({\\\"data\\\":[{\\\"name\\\":\\\"knockout\\\",\\\"type\\\":\\\"js\\\",\\\"url\\\":\\\"\\/assetserver\\/4b78a831658f9469be0fa90a874237d533cfc56e-knockout.js\\\"},{\\\"name\\\":\\\"knockout_punches\\\",\\\"type\\\":\\\"js\\\",\\\"url\\\":\\\"\\/assetserver\\/32cf81589ef7eb25886db6e5be297d237f8599ce-knockout_punches.js\\\"}],\\\"type\\\":\\\"async_block\\\"})).then((imports) => handler.apply(this, imports));\\n}\\n\"],\"observables\":{\"changes\":{\"sync\":false,\"id\":\"15513433893230360505\",\"value\":0},\"index\":{\"sync\":true,\"id\":\"5200263741161125602\",\"value\":1}}},\"children\":[{\"props\":{\"className\":\"interact-flex-row interact-widget\"},\"nodeType\":\"DOM\",\"type\":\"node\",\"instanceArgs\":{\"namespace\":\"html\",\"tag\":\"div\"},\"children\":[{\"props\":{\"className\":\"interact-flex-row-left\"},\"nodeType\":\"DOM\",\"type\":\"node\",\"instanceArgs\":{\"namespace\":\"html\",\"tag\":\"div\"},\"children\":[{\"props\":{\"className\":\"interact \",\"style\":{\"padding\":\"5px 10px 0px 10px\"}},\"nodeType\":\"DOM\",\"type\":\"node\",\"instanceArgs\":{\"namespace\":\"html\",\"tag\":\"label\"},\"children\":[\"N\"]}]},{\"props\":{\"className\":\"interact-flex-row-center\"},\"nodeType\":\"DOM\",\"type\":\"node\",\"instanceArgs\":{\"namespace\":\"html\",\"tag\":\"div\"},\"children\":[{\"props\":{\"max\":5,\"min\":1,\"attributes\":{\"type\":\"range\",\"data-bind\":\"numericValue: index, valueUpdate: 'input', event: {change: function (){this.changes(this.changes()+1)}}\",\"orient\":\"horizontal\"},\"step\":1,\"className\":\"slider slider is-fullwidth\",\"style\":{}},\"nodeType\":\"DOM\",\"type\":\"node\",\"instanceArgs\":{\"namespace\":\"html\",\"tag\":\"input\"},\"children\":[]}]},{\"props\":{\"className\":\"interact-flex-row-right\"},\"nodeType\":\"DOM\",\"type\":\"node\",\"instanceArgs\":{\"namespace\":\"html\",\"tag\":\"div\"},\"children\":[{\"props\":{\"attributes\":{\"data-bind\":\"text: formatted_val\"}},\"nodeType\":\"DOM\",\"type\":\"node\",\"instanceArgs\":{\"namespace\":\"html\",\"tag\":\"p\"},\"children\":[]}]}]}]}]},{\"props\":{\"className\":\"interact-widget\"},\"nodeType\":\"DOM\",\"type\":\"node\",\"instanceArgs\":{\"namespace\":\"html\",\"tag\":\"div\"},\"children\":[{\"props\":{},\"nodeType\":\"Scope\",\"type\":\"node\",\"instanceArgs\":{\"imports\":{\"data\":[{\"name\":\"knockout\",\"type\":\"js\",\"url\":\"\\/assetserver\\/4b78a831658f9469be0fa90a874237d533cfc56e-knockout.js\"},{\"name\":\"knockout_punches\",\"type\":\"js\",\"url\":\"\\/assetserver\\/32cf81589ef7eb25886db6e5be297d237f8599ce-knockout_punches.js\"},{\"name\":null,\"type\":\"js\",\"url\":\"\\/assetserver\\/4c861182dd4c5b1a7b80754ca907d70e11c2410c-all.js\"},{\"name\":null,\"type\":\"css\",\"url\":\"\\/assetserver\\/55ec2ee389419b72c3c6088bc3fbe3d7187a5fc0-style.css\"},{\"name\":null,\"type\":\"css\",\"url\":\"\\/assetserver\\/bb71acf9697a201a164f98e5fab8a4f7b4f82041-bulma_confined.min.css\"}],\"type\":\"async_block\"},\"id\":\"14631260428548808978\",\"handlers\":{\"options_js\":[\"(function (val){return (val!=this.model[\\\"options_js\\\"]()) ? (this.valueFromJulia[\\\"options_js\\\"]=true, this.model[\\\"options_js\\\"](val)) : undefined})\"],\"index\":[\"(function (val){return (val!=this.model[\\\"index\\\"]()) ? (this.valueFromJulia[\\\"index\\\"]=true, this.model[\\\"index\\\"](val)) : undefined})\"]},\"systemjs_options\":null,\"mount_callbacks\":[\"function () {\\n    var handler = (function (ko, koPunches) {\\n    ko.punches.enableAll();\\n    ko.bindingHandlers.numericValue = {\\n        init: function(element, valueAccessor, allBindings, data, context) {\\n            var stringified = ko.observable(ko.unwrap(valueAccessor()));\\n            stringified.subscribe(function(value) {\\n                var val = parseFloat(value);\\n                if (!isNaN(val)) {\\n                    valueAccessor()(val);\\n                }\\n            });\\n            valueAccessor().subscribe(function(value) {\\n                var str = JSON.stringify(value);\\n                if ((str == \\\"0\\\") && ([\\\"-0\\\", \\\"-0.\\\"].indexOf(stringified()) >= 0))\\n                     return;\\n                 if ([\\\"null\\\", \\\"\\\"].indexOf(str) >= 0)\\n                     return;\\n                stringified(str);\\n            });\\n            ko.applyBindingsToNode(\\n                element,\\n                {\\n                    value: stringified,\\n                    valueUpdate: allBindings.get('valueUpdate'),\\n                },\\n                context,\\n            );\\n        }\\n    };\\n    var json_data = {\\\"options_js\\\":WebIO.getval({\\\"name\\\":\\\"options_js\\\",\\\"scope\\\":\\\"14631260428548808978\\\",\\\"id\\\":\\\"3209249045069274140\\\",\\\"type\\\":\\\"observable\\\"}),\\\"index\\\":WebIO.getval({\\\"name\\\":\\\"index\\\",\\\"scope\\\":\\\"14631260428548808978\\\",\\\"id\\\":\\\"14810485808273590835\\\",\\\"type\\\":\\\"observable\\\"})};\\n    var self = this;\\n    function AppViewModel() {\\n        for (var key in json_data) {\\n            var el = json_data[key];\\n            this[key] = Array.isArray(el) ? ko.observableArray(el) : ko.observable(el);\\n        }\\n        [this[\\\"update\\\"]=function (val) {this.index(val)}]\\n        \\n        [this[\\\"options_js\\\"].subscribe((function (val){!(this.valueFromJulia[\\\"options_js\\\"]) ? (WebIO.setval({\\\"name\\\":\\\"options_js\\\",\\\"scope\\\":\\\"14631260428548808978\\\",\\\"id\\\":\\\"3209249045069274140\\\",\\\"type\\\":\\\"observable\\\"},val)) : undefined; return this.valueFromJulia[\\\"options_js\\\"]=false}),self),this[\\\"index\\\"].subscribe((function (val){!(this.valueFromJulia[\\\"index\\\"]) ? (WebIO.setval({\\\"name\\\":\\\"index\\\",\\\"scope\\\":\\\"14631260428548808978\\\",\\\"id\\\":\\\"14810485808273590835\\\",\\\"type\\\":\\\"observable\\\"},val)) : undefined; return this.valueFromJulia[\\\"index\\\"]=false}),self)]\\n        \\n    }\\n    self.model = new AppViewModel();\\n    self.valueFromJulia = {};\\n    for (var key in json_data) {\\n        self.valueFromJulia[key] = false;\\n    }\\n    ko.applyBindings(self.model, self.dom);\\n}\\n);\\n    (WebIO.importBlock({\\\"data\\\":[{\\\"name\\\":\\\"knockout\\\",\\\"type\\\":\\\"js\\\",\\\"url\\\":\\\"\\/assetserver\\/4b78a831658f9469be0fa90a874237d533cfc56e-knockout.js\\\"},{\\\"name\\\":\\\"knockout_punches\\\",\\\"type\\\":\\\"js\\\",\\\"url\\\":\\\"\\/assetserver\\/32cf81589ef7eb25886db6e5be297d237f8599ce-knockout_punches.js\\\"}],\\\"type\\\":\\\"async_block\\\"})).then((imports) => handler.apply(this, imports));\\n}\\n\"],\"observables\":{\"options_js\":{\"sync\":false,\"id\":\"3209249045069274140\",\"value\":[{\"key\":\"false\",\"val\":1,\"id\":\"id6oJyY6RY\"},{\"key\":\"true\",\"val\":2,\"id\":\"idEBwno6Gh\"}]},\"index\":{\"sync\":true,\"id\":\"14810485808273590835\",\"value\":1}}},\"children\":[{\"props\":{\"className\":\"interact-flex-row interact-widget\"},\"nodeType\":\"DOM\",\"type\":\"node\",\"instanceArgs\":{\"namespace\":\"html\",\"tag\":\"div\"},\"children\":[{\"props\":{\"className\":\"interact-flex-row-left\"},\"nodeType\":\"DOM\",\"type\":\"node\",\"instanceArgs\":{\"namespace\":\"html\",\"tag\":\"div\"},\"children\":[{\"props\":{\"className\":\"interact \",\"style\":{\"padding\":\"5px 10px 0px 10px\"}},\"nodeType\":\"DOM\",\"type\":\"node\",\"instanceArgs\":{\"namespace\":\"html\",\"tag\":\"label\"},\"children\":[\"show_u\"]}]},{\"props\":{\"className\":\"interact-flex-row-center\"},\"nodeType\":\"DOM\",\"type\":\"node\",\"instanceArgs\":{\"namespace\":\"html\",\"tag\":\"div\"},\"children\":[{\"props\":{\"attributes\":{\"data-bind\":\"foreach : options_js\"},\"className\":\"buttons has-addons is-centered\"},\"nodeType\":\"DOM\",\"type\":\"node\",\"instanceArgs\":{\"namespace\":\"html\",\"tag\":\"div\"},\"children\":[{\"props\":{\"attributes\":{\"data-bind\":\"click: function (){$root.update(val)}, css: {'is-primary is-selected' : $root.index() == val, 'interact-widget is-medium button ' : true}\"}},\"nodeType\":\"DOM\",\"type\":\"node\",\"instanceArgs\":{\"namespace\":\"html\",\"tag\":\"span\"},\"children\":[{\"props\":{\"attributes\":{\"data-bind\":\"text : key\"}},\"nodeType\":\"DOM\",\"type\":\"node\",\"instanceArgs\":{\"namespace\":\"html\",\"tag\":\"label\"},\"children\":[]}]}]}]},{\"props\":{\"className\":\"interact-flex-row-right\"},\"nodeType\":\"DOM\",\"type\":\"node\",\"instanceArgs\":{\"namespace\":\"html\",\"tag\":\"div\"},\"children\":[{\"props\":{},\"nodeType\":\"DOM\",\"type\":\"node\",\"instanceArgs\":{\"namespace\":\"html\",\"tag\":\"div\"},\"children\":[]}]}]}]}]},{\"props\":{\"className\":\"interact-widget\"},\"nodeType\":\"DOM\",\"type\":\"node\",\"instanceArgs\":{\"namespace\":\"html\",\"tag\":\"div\"},\"children\":[{\"props\":{},\"nodeType\":\"Scope\",\"type\":\"node\",\"instanceArgs\":{\"imports\":{\"data\":[{\"name\":\"knockout\",\"type\":\"js\",\"url\":\"\\/assetserver\\/4b78a831658f9469be0fa90a874237d533cfc56e-knockout.js\"},{\"name\":\"knockout_punches\",\"type\":\"js\",\"url\":\"\\/assetserver\\/32cf81589ef7eb25886db6e5be297d237f8599ce-knockout_punches.js\"},{\"name\":null,\"type\":\"js\",\"url\":\"\\/assetserver\\/4c861182dd4c5b1a7b80754ca907d70e11c2410c-all.js\"},{\"name\":null,\"type\":\"css\",\"url\":\"\\/assetserver\\/55ec2ee389419b72c3c6088bc3fbe3d7187a5fc0-style.css\"},{\"name\":null,\"type\":\"css\",\"url\":\"\\/assetserver\\/bb71acf9697a201a164f98e5fab8a4f7b4f82041-bulma_confined.min.css\"}],\"type\":\"async_block\"},\"id\":\"17272942041563878570\",\"handlers\":{\"options_js\":[\"(function (val){return (val!=this.model[\\\"options_js\\\"]()) ? (this.valueFromJulia[\\\"options_js\\\"]=true, this.model[\\\"options_js\\\"](val)) : undefined})\"],\"index\":[\"(function (val){return (val!=this.model[\\\"index\\\"]()) ? (this.valueFromJulia[\\\"index\\\"]=true, this.model[\\\"index\\\"](val)) : undefined})\"]},\"systemjs_options\":null,\"mount_callbacks\":[\"function () {\\n    var handler = (function (ko, koPunches) {\\n    ko.punches.enableAll();\\n    ko.bindingHandlers.numericValue = {\\n        init: function(element, valueAccessor, allBindings, data, context) {\\n            var stringified = ko.observable(ko.unwrap(valueAccessor()));\\n            stringified.subscribe(function(value) {\\n                var val = parseFloat(value);\\n                if (!isNaN(val)) {\\n                    valueAccessor()(val);\\n                }\\n            });\\n            valueAccessor().subscribe(function(value) {\\n                var str = JSON.stringify(value);\\n                if ((str == \\\"0\\\") && ([\\\"-0\\\", \\\"-0.\\\"].indexOf(stringified()) >= 0))\\n                     return;\\n                 if ([\\\"null\\\", \\\"\\\"].indexOf(str) >= 0)\\n                     return;\\n                stringified(str);\\n            });\\n            ko.applyBindingsToNode(\\n                element,\\n                {\\n                    value: stringified,\\n                    valueUpdate: allBindings.get('valueUpdate'),\\n                },\\n                context,\\n            );\\n        }\\n    };\\n    var json_data = {\\\"options_js\\\":WebIO.getval({\\\"name\\\":\\\"options_js\\\",\\\"scope\\\":\\\"17272942041563878570\\\",\\\"id\\\":\\\"15795740227566885204\\\",\\\"type\\\":\\\"observable\\\"}),\\\"index\\\":WebIO.getval({\\\"name\\\":\\\"index\\\",\\\"scope\\\":\\\"17272942041563878570\\\",\\\"id\\\":\\\"10491694567189980683\\\",\\\"type\\\":\\\"observable\\\"})};\\n    var self = this;\\n    function AppViewModel() {\\n        for (var key in json_data) {\\n            var el = json_data[key];\\n            this[key] = Array.isArray(el) ? ko.observableArray(el) : ko.observable(el);\\n        }\\n        [this[\\\"update\\\"]=function (val) {this.index(val)}]\\n        \\n        [this[\\\"options_js\\\"].subscribe((function (val){!(this.valueFromJulia[\\\"options_js\\\"]) ? (WebIO.setval({\\\"name\\\":\\\"options_js\\\",\\\"scope\\\":\\\"17272942041563878570\\\",\\\"id\\\":\\\"15795740227566885204\\\",\\\"type\\\":\\\"observable\\\"},val)) : undefined; return this.valueFromJulia[\\\"options_js\\\"]=false}),self),this[\\\"index\\\"].subscribe((function (val){!(this.valueFromJulia[\\\"index\\\"]) ? (WebIO.setval({\\\"name\\\":\\\"index\\\",\\\"scope\\\":\\\"17272942041563878570\\\",\\\"id\\\":\\\"10491694567189980683\\\",\\\"type\\\":\\\"observable\\\"},val)) : undefined; return this.valueFromJulia[\\\"index\\\"]=false}),self)]\\n        \\n    }\\n    self.model = new AppViewModel();\\n    self.valueFromJulia = {};\\n    for (var key in json_data) {\\n        self.valueFromJulia[key] = false;\\n    }\\n    ko.applyBindings(self.model, self.dom);\\n}\\n);\\n    (WebIO.importBlock({\\\"data\\\":[{\\\"name\\\":\\\"knockout\\\",\\\"type\\\":\\\"js\\\",\\\"url\\\":\\\"\\/assetserver\\/4b78a831658f9469be0fa90a874237d533cfc56e-knockout.js\\\"},{\\\"name\\\":\\\"knockout_punches\\\",\\\"type\\\":\\\"js\\\",\\\"url\\\":\\\"\\/assetserver\\/32cf81589ef7eb25886db6e5be297d237f8599ce-knockout_punches.js\\\"}],\\\"type\\\":\\\"async_block\\\"})).then((imports) => handler.apply(this, imports));\\n}\\n\"],\"observables\":{\"options_js\":{\"sync\":false,\"id\":\"15795740227566885204\",\"value\":[{\"key\":\"false\",\"val\":1,\"id\":\"iddrxnmSEk\"},{\"key\":\"true\",\"val\":2,\"id\":\"idw1w37RkJ\"}]},\"index\":{\"sync\":true,\"id\":\"10491694567189980683\",\"value\":1}}},\"children\":[{\"props\":{\"className\":\"interact-flex-row interact-widget\"},\"nodeType\":\"DOM\",\"type\":\"node\",\"instanceArgs\":{\"namespace\":\"html\",\"tag\":\"div\"},\"children\":[{\"props\":{\"className\":\"interact-flex-row-left\"},\"nodeType\":\"DOM\",\"type\":\"node\",\"instanceArgs\":{\"namespace\":\"html\",\"tag\":\"div\"},\"children\":[{\"props\":{\"className\":\"interact \",\"style\":{\"padding\":\"5px 10px 0px 10px\"}},\"nodeType\":\"DOM\",\"type\":\"node\",\"instanceArgs\":{\"namespace\":\"html\",\"tag\":\"label\"},\"children\":[\"show_x\"]}]},{\"props\":{\"className\":\"interact-flex-row-center\"},\"nodeType\":\"DOM\",\"type\":\"node\",\"instanceArgs\":{\"namespace\":\"html\",\"tag\":\"div\"},\"children\":[{\"props\":{\"attributes\":{\"data-bind\":\"foreach : options_js\"},\"className\":\"buttons has-addons is-centered\"},\"nodeType\":\"DOM\",\"type\":\"node\",\"instanceArgs\":{\"namespace\":\"html\",\"tag\":\"div\"},\"children\":[{\"props\":{\"attributes\":{\"data-bind\":\"click: function (){$root.update(val)}, css: {'is-primary is-selected' : $root.index() == val, 'interact-widget is-medium button ' : true}\"}},\"nodeType\":\"DOM\",\"type\":\"node\",\"instanceArgs\":{\"namespace\":\"html\",\"tag\":\"span\"},\"children\":[{\"props\":{\"attributes\":{\"data-bind\":\"text : key\"}},\"nodeType\":\"DOM\",\"type\":\"node\",\"instanceArgs\":{\"namespace\":\"html\",\"tag\":\"label\"},\"children\":[]}]}]}]},{\"props\":{\"className\":\"interact-flex-row-right\"},\"nodeType\":\"DOM\",\"type\":\"node\",\"instanceArgs\":{\"namespace\":\"html\",\"tag\":\"div\"},\"children\":[{\"props\":{},\"nodeType\":\"DOM\",\"type\":\"node\",\"instanceArgs\":{\"namespace\":\"html\",\"tag\":\"div\"},\"children\":[]}]}]}]}]},{\"props\":{\"className\":\"field interact-widget\"},\"nodeType\":\"DOM\",\"type\":\"node\",\"instanceArgs\":{\"namespace\":\"html\",\"tag\":\"div\"},\"children\":[{\"props\":{},\"nodeType\":\"Scope\",\"type\":\"node\",\"instanceArgs\":{\"imports\":{\"data\":[{\"name\":\"knockout\",\"type\":\"js\",\"url\":\"\\/assetserver\\/4b78a831658f9469be0fa90a874237d533cfc56e-knockout.js\"},{\"name\":\"knockout_punches\",\"type\":\"js\",\"url\":\"\\/assetserver\\/32cf81589ef7eb25886db6e5be297d237f8599ce-knockout_punches.js\"},{\"name\":null,\"type\":\"js\",\"url\":\"\\/assetserver\\/4c861182dd4c5b1a7b80754ca907d70e11c2410c-all.js\"},{\"name\":null,\"type\":\"css\",\"url\":\"\\/assetserver\\/55ec2ee389419b72c3c6088bc3fbe3d7187a5fc0-style.css\"},{\"name\":null,\"type\":\"css\",\"url\":\"\\/assetserver\\/bb71acf9697a201a164f98e5fab8a4f7b4f82041-bulma_confined.min.css\"}],\"type\":\"async_block\"},\"id\":\"16665232917260484549\",\"handlers\":{\"changes\":[\"(function (val){return (val!=this.model[\\\"changes\\\"]()) ? (this.valueFromJulia[\\\"changes\\\"]=true, this.model[\\\"changes\\\"](val)) : undefined})\"],\"index\":[\"(function (val){return (val!=this.model[\\\"index\\\"]()) ? (this.valueFromJulia[\\\"index\\\"]=true, this.model[\\\"index\\\"](val)) : undefined})\"]},\"systemjs_options\":null,\"mount_callbacks\":[\"function () {\\n    var handler = (function (ko, koPunches) {\\n    ko.punches.enableAll();\\n    ko.bindingHandlers.numericValue = {\\n        init: function(element, valueAccessor, allBindings, data, context) {\\n            var stringified = ko.observable(ko.unwrap(valueAccessor()));\\n            stringified.subscribe(function(value) {\\n                var val = parseFloat(value);\\n                if (!isNaN(val)) {\\n                    valueAccessor()(val);\\n                }\\n            });\\n            valueAccessor().subscribe(function(value) {\\n                var str = JSON.stringify(value);\\n                if ((str == \\\"0\\\") && ([\\\"-0\\\", \\\"-0.\\\"].indexOf(stringified()) >= 0))\\n                     return;\\n                 if ([\\\"null\\\", \\\"\\\"].indexOf(str) >= 0)\\n                     return;\\n                stringified(str);\\n            });\\n            ko.applyBindingsToNode(\\n                element,\\n                {\\n                    value: stringified,\\n                    valueUpdate: allBindings.get('valueUpdate'),\\n                },\\n                context,\\n            );\\n        }\\n    };\\n    var json_data = {\\\"formatted_vals\\\":[\\\"1\\\",\\\"2\\\",\\\"3\\\",\\\"4\\\",\\\"5\\\",\\\"6\\\",\\\"7\\\",\\\"8\\\",\\\"9\\\",\\\"10\\\"],\\\"changes\\\":WebIO.getval({\\\"name\\\":\\\"changes\\\",\\\"scope\\\":\\\"16665232917260484549\\\",\\\"id\\\":\\\"2638450998569916043\\\",\\\"type\\\":\\\"observable\\\"}),\\\"index\\\":WebIO.getval({\\\"name\\\":\\\"index\\\",\\\"scope\\\":\\\"16665232917260484549\\\",\\\"id\\\":\\\"12355367337627201708\\\",\\\"type\\\":\\\"observable\\\"})};\\n    var self = this;\\n    function AppViewModel() {\\n        for (var key in json_data) {\\n            var el = json_data[key];\\n            this[key] = Array.isArray(el) ? ko.observableArray(el) : ko.observable(el);\\n        }\\n        \\n        [this[\\\"formatted_val\\\"]=ko.computed(    function(){\\n        return this.formatted_vals()[parseInt(this.index())-(1)];\\n    }\\n,this)]\\n        [this[\\\"changes\\\"].subscribe((function (val){!(this.valueFromJulia[\\\"changes\\\"]) ? (WebIO.setval({\\\"name\\\":\\\"changes\\\",\\\"scope\\\":\\\"16665232917260484549\\\",\\\"id\\\":\\\"2638450998569916043\\\",\\\"type\\\":\\\"observable\\\"},val)) : undefined; return this.valueFromJulia[\\\"changes\\\"]=false}),self),this[\\\"index\\\"].subscribe((function (val){!(this.valueFromJulia[\\\"index\\\"]) ? (WebIO.setval({\\\"name\\\":\\\"index\\\",\\\"scope\\\":\\\"16665232917260484549\\\",\\\"id\\\":\\\"12355367337627201708\\\",\\\"type\\\":\\\"observable\\\"},val)) : undefined; return this.valueFromJulia[\\\"index\\\"]=false}),self)]\\n        \\n    }\\n    self.model = new AppViewModel();\\n    self.valueFromJulia = {};\\n    for (var key in json_data) {\\n        self.valueFromJulia[key] = false;\\n    }\\n    ko.applyBindings(self.model, self.dom);\\n}\\n);\\n    (WebIO.importBlock({\\\"data\\\":[{\\\"name\\\":\\\"knockout\\\",\\\"type\\\":\\\"js\\\",\\\"url\\\":\\\"\\/assetserver\\/4b78a831658f9469be0fa90a874237d533cfc56e-knockout.js\\\"},{\\\"name\\\":\\\"knockout_punches\\\",\\\"type\\\":\\\"js\\\",\\\"url\\\":\\\"\\/assetserver\\/32cf81589ef7eb25886db6e5be297d237f8599ce-knockout_punches.js\\\"}],\\\"type\\\":\\\"async_block\\\"})).then((imports) => handler.apply(this, imports));\\n}\\n\"],\"observables\":{\"changes\":{\"sync\":false,\"id\":\"2638450998569916043\",\"value\":0},\"index\":{\"sync\":true,\"id\":\"12355367337627201708\",\"value\":5}}},\"children\":[{\"props\":{\"className\":\"interact-flex-row interact-widget\"},\"nodeType\":\"DOM\",\"type\":\"node\",\"instanceArgs\":{\"namespace\":\"html\",\"tag\":\"div\"},\"children\":[{\"props\":{\"className\":\"interact-flex-row-left\"},\"nodeType\":\"DOM\",\"type\":\"node\",\"instanceArgs\":{\"namespace\":\"html\",\"tag\":\"div\"},\"children\":[{\"props\":{\"className\":\"interact \",\"style\":{\"padding\":\"5px 10px 0px 10px\"}},\"nodeType\":\"DOM\",\"type\":\"node\",\"instanceArgs\":{\"namespace\":\"html\",\"tag\":\"label\"},\"children\":[\"which_x_n\"]}]},{\"props\":{\"className\":\"interact-flex-row-center\"},\"nodeType\":\"DOM\",\"type\":\"node\",\"instanceArgs\":{\"namespace\":\"html\",\"tag\":\"div\"},\"children\":[{\"props\":{\"max\":10,\"min\":1,\"attributes\":{\"type\":\"range\",\"data-bind\":\"numericValue: index, valueUpdate: 'input', event: {change: function (){this.changes(this.changes()+1)}}\",\"orient\":\"horizontal\"},\"step\":1,\"className\":\"slider slider is-fullwidth\",\"style\":{}},\"nodeType\":\"DOM\",\"type\":\"node\",\"instanceArgs\":{\"namespace\":\"html\",\"tag\":\"input\"},\"children\":[]}]},{\"props\":{\"className\":\"interact-flex-row-right\"},\"nodeType\":\"DOM\",\"type\":\"node\",\"instanceArgs\":{\"namespace\":\"html\",\"tag\":\"div\"},\"children\":[{\"props\":{\"attributes\":{\"data-bind\":\"text: formatted_val\"}},\"nodeType\":\"DOM\",\"type\":\"node\",\"instanceArgs\":{\"namespace\":\"html\",\"tag\":\"p\"},\"children\":[]}]}]}]}]},{\"props\":{\"className\":\"field interact-widget\"},\"nodeType\":\"DOM\",\"type\":\"node\",\"instanceArgs\":{\"namespace\":\"html\",\"tag\":\"div\"},\"children\":[{\"props\":{},\"nodeType\":\"Scope\",\"type\":\"node\",\"instanceArgs\":{\"imports\":{\"data\":[{\"name\":\"knockout\",\"type\":\"js\",\"url\":\"\\/assetserver\\/4b78a831658f9469be0fa90a874237d533cfc56e-knockout.js\"},{\"name\":\"knockout_punches\",\"type\":\"js\",\"url\":\"\\/assetserver\\/32cf81589ef7eb25886db6e5be297d237f8599ce-knockout_punches.js\"},{\"name\":null,\"type\":\"js\",\"url\":\"\\/assetserver\\/4c861182dd4c5b1a7b80754ca907d70e11c2410c-all.js\"},{\"name\":null,\"type\":\"css\",\"url\":\"\\/assetserver\\/55ec2ee389419b72c3c6088bc3fbe3d7187a5fc0-style.css\"},{\"name\":null,\"type\":\"css\",\"url\":\"\\/assetserver\\/bb71acf9697a201a164f98e5fab8a4f7b4f82041-bulma_confined.min.css\"}],\"type\":\"async_block\"},\"id\":\"2963198513970113925\",\"handlers\":{\"changes\":[\"(function (val){return (val!=this.model[\\\"changes\\\"]()) ? (this.valueFromJulia[\\\"changes\\\"]=true, this.model[\\\"changes\\\"](val)) : undefined})\"],\"index\":[\"(function (val){return (val!=this.model[\\\"index\\\"]()) ? (this.valueFromJulia[\\\"index\\\"]=true, this.model[\\\"index\\\"](val)) : undefined})\"]},\"systemjs_options\":null,\"mount_callbacks\":[\"function () {\\n    var handler = (function (ko, koPunches) {\\n    ko.punches.enableAll();\\n    ko.bindingHandlers.numericValue = {\\n        init: function(element, valueAccessor, allBindings, data, context) {\\n            var stringified = ko.observable(ko.unwrap(valueAccessor()));\\n            stringified.subscribe(function(value) {\\n                var val = parseFloat(value);\\n                if (!isNaN(val)) {\\n                    valueAccessor()(val);\\n                }\\n            });\\n            valueAccessor().subscribe(function(value) {\\n                var str = JSON.stringify(value);\\n                if ((str == \\\"0\\\") && ([\\\"-0\\\", \\\"-0.\\\"].indexOf(stringified()) >= 0))\\n                     return;\\n                 if ([\\\"null\\\", \\\"\\\"].indexOf(str) >= 0)\\n                     return;\\n                stringified(str);\\n            });\\n            ko.applyBindingsToNode(\\n                element,\\n                {\\n                    value: stringified,\\n                    valueUpdate: allBindings.get('valueUpdate'),\\n                },\\n                context,\\n            );\\n        }\\n    };\\n    var json_data = {\\\"formatted_vals\\\":[\\\"1\\\",\\\"2\\\",\\\"3\\\",\\\"4\\\",\\\"5\\\",\\\"6\\\",\\\"7\\\",\\\"8\\\",\\\"9\\\",\\\"10\\\",\\\"11\\\",\\\"12\\\",\\\"13\\\",\\\"14\\\",\\\"15\\\",\\\"16\\\",\\\"17\\\",\\\"18\\\",\\\"19\\\",\\\"20\\\"],\\\"changes\\\":WebIO.getval({\\\"name\\\":\\\"changes\\\",\\\"scope\\\":\\\"2963198513970113925\\\",\\\"id\\\":\\\"3230261944937962618\\\",\\\"type\\\":\\\"observable\\\"}),\\\"index\\\":WebIO.getval({\\\"name\\\":\\\"index\\\",\\\"scope\\\":\\\"2963198513970113925\\\",\\\"id\\\":\\\"3086135982869530797\\\",\\\"type\\\":\\\"observable\\\"})};\\n    var self = this;\\n    function AppViewModel() {\\n        for (var key in json_data) {\\n            var el = json_data[key];\\n            this[key] = Array.isArray(el) ? ko.observableArray(el) : ko.observable(el);\\n        }\\n        \\n        [this[\\\"formatted_val\\\"]=ko.computed(    function(){\\n        return this.formatted_vals()[parseInt(this.index())-(1)];\\n    }\\n,this)]\\n        [this[\\\"changes\\\"].subscribe((function (val){!(this.valueFromJulia[\\\"changes\\\"]) ? (WebIO.setval({\\\"name\\\":\\\"changes\\\",\\\"scope\\\":\\\"2963198513970113925\\\",\\\"id\\\":\\\"3230261944937962618\\\",\\\"type\\\":\\\"observable\\\"},val)) : undefined; return this.valueFromJulia[\\\"changes\\\"]=false}),self),this[\\\"index\\\"].subscribe((function (val){!(this.valueFromJulia[\\\"index\\\"]) ? (WebIO.setval({\\\"name\\\":\\\"index\\\",\\\"scope\\\":\\\"2963198513970113925\\\",\\\"id\\\":\\\"3086135982869530797\\\",\\\"type\\\":\\\"observable\\\"},val)) : undefined; return this.valueFromJulia[\\\"index\\\"]=false}),self)]\\n        \\n    }\\n    self.model = new AppViewModel();\\n    self.valueFromJulia = {};\\n    for (var key in json_data) {\\n        self.valueFromJulia[key] = false;\\n    }\\n    ko.applyBindings(self.model, self.dom);\\n}\\n);\\n    (WebIO.importBlock({\\\"data\\\":[{\\\"name\\\":\\\"knockout\\\",\\\"type\\\":\\\"js\\\",\\\"url\\\":\\\"\\/assetserver\\/4b78a831658f9469be0fa90a874237d533cfc56e-knockout.js\\\"},{\\\"name\\\":\\\"knockout_punches\\\",\\\"type\\\":\\\"js\\\",\\\"url\\\":\\\"\\/assetserver\\/32cf81589ef7eb25886db6e5be297d237f8599ce-knockout_punches.js\\\"}],\\\"type\\\":\\\"async_block\\\"})).then((imports) => handler.apply(this, imports));\\n}\\n\"],\"observables\":{\"changes\":{\"sync\":false,\"id\":\"3230261944937962618\",\"value\":0},\"index\":{\"sync\":true,\"id\":\"3086135982869530797\",\"value\":10}}},\"children\":[{\"props\":{\"className\":\"interact-flex-row interact-widget\"},\"nodeType\":\"DOM\",\"type\":\"node\",\"instanceArgs\":{\"namespace\":\"html\",\"tag\":\"div\"},\"children\":[{\"props\":{\"className\":\"interact-flex-row-left\"},\"nodeType\":\"DOM\",\"type\":\"node\",\"instanceArgs\":{\"namespace\":\"html\",\"tag\":\"div\"},\"children\":[{\"props\":{\"className\":\"interact \",\"style\":{\"padding\":\"5px 10px 0px 10px\"}},\"nodeType\":\"DOM\",\"type\":\"node\",\"instanceArgs\":{\"namespace\":\"html\",\"tag\":\"label\"},\"children\":[\"which_x_t\"]}]},{\"props\":{\"className\":\"interact-flex-row-center\"},\"nodeType\":\"DOM\",\"type\":\"node\",\"instanceArgs\":{\"namespace\":\"html\",\"tag\":\"div\"},\"children\":[{\"props\":{\"max\":20,\"min\":1,\"attributes\":{\"type\":\"range\",\"data-bind\":\"numericValue: index, valueUpdate: 'input', event: {change: function (){this.changes(this.changes()+1)}}\",\"orient\":\"horizontal\"},\"step\":1,\"className\":\"slider slider is-fullwidth\",\"style\":{}},\"nodeType\":\"DOM\",\"type\":\"node\",\"instanceArgs\":{\"namespace\":\"html\",\"tag\":\"input\"},\"children\":[]}]},{\"props\":{\"className\":\"interact-flex-row-right\"},\"nodeType\":\"DOM\",\"type\":\"node\",\"instanceArgs\":{\"namespace\":\"html\",\"tag\":\"div\"},\"children\":[{\"props\":{\"attributes\":{\"data-bind\":\"text: formatted_val\"}},\"nodeType\":\"DOM\",\"type\":\"node\",\"instanceArgs\":{\"namespace\":\"html\",\"tag\":\"p\"},\"children\":[]}]}]}]}]},{\"props\":{\"className\":\"interact-widget\"},\"nodeType\":\"DOM\",\"type\":\"node\",\"instanceArgs\":{\"namespace\":\"html\",\"tag\":\"div\"},\"children\":[{\"props\":{},\"nodeType\":\"Scope\",\"type\":\"node\",\"instanceArgs\":{\"imports\":{\"data\":[{\"name\":\"knockout\",\"type\":\"js\",\"url\":\"\\/assetserver\\/4b78a831658f9469be0fa90a874237d533cfc56e-knockout.js\"},{\"name\":\"knockout_punches\",\"type\":\"js\",\"url\":\"\\/assetserver\\/32cf81589ef7eb25886db6e5be297d237f8599ce-knockout_punches.js\"},{\"name\":null,\"type\":\"js\",\"url\":\"\\/assetserver\\/4c861182dd4c5b1a7b80754ca907d70e11c2410c-all.js\"},{\"name\":null,\"type\":\"css\",\"url\":\"\\/assetserver\\/55ec2ee389419b72c3c6088bc3fbe3d7187a5fc0-style.css\"},{\"name\":null,\"type\":\"css\",\"url\":\"\\/assetserver\\/bb71acf9697a201a164f98e5fab8a4f7b4f82041-bulma_confined.min.css\"}],\"type\":\"async_block\"},\"id\":\"2205015225413654115\",\"handlers\":{\"options_js\":[\"(function (val){return (val!=this.model[\\\"options_js\\\"]()) ? (this.valueFromJulia[\\\"options_js\\\"]=true, this.model[\\\"options_js\\\"](val)) : undefined})\"],\"index\":[\"(function (val){return (val!=this.model[\\\"index\\\"]()) ? (this.valueFromJulia[\\\"index\\\"]=true, this.model[\\\"index\\\"](val)) : undefined})\"]},\"systemjs_options\":null,\"mount_callbacks\":[\"function () {\\n    var handler = (function (ko, koPunches) {\\n    ko.punches.enableAll();\\n    ko.bindingHandlers.numericValue = {\\n        init: function(element, valueAccessor, allBindings, data, context) {\\n            var stringified = ko.observable(ko.unwrap(valueAccessor()));\\n            stringified.subscribe(function(value) {\\n                var val = parseFloat(value);\\n                if (!isNaN(val)) {\\n                    valueAccessor()(val);\\n                }\\n            });\\n            valueAccessor().subscribe(function(value) {\\n                var str = JSON.stringify(value);\\n                if ((str == \\\"0\\\") && ([\\\"-0\\\", \\\"-0.\\\"].indexOf(stringified()) >= 0))\\n                     return;\\n                 if ([\\\"null\\\", \\\"\\\"].indexOf(str) >= 0)\\n                     return;\\n                stringified(str);\\n            });\\n            ko.applyBindingsToNode(\\n                element,\\n                {\\n                    value: stringified,\\n                    valueUpdate: allBindings.get('valueUpdate'),\\n                },\\n                context,\\n            );\\n        }\\n    };\\n    var json_data = {\\\"options_js\\\":WebIO.getval({\\\"name\\\":\\\"options_js\\\",\\\"scope\\\":\\\"2205015225413654115\\\",\\\"id\\\":\\\"14155361305859611612\\\",\\\"type\\\":\\\"observable\\\"}),\\\"index\\\":WebIO.getval({\\\"name\\\":\\\"index\\\",\\\"scope\\\":\\\"2205015225413654115\\\",\\\"id\\\":\\\"6230163439282016821\\\",\\\"type\\\":\\\"observable\\\"})};\\n    var self = this;\\n    function AppViewModel() {\\n        for (var key in json_data) {\\n            var el = json_data[key];\\n            this[key] = Array.isArray(el) ? ko.observableArray(el) : ko.observable(el);\\n        }\\n        [this[\\\"update\\\"]=function (val) {this.index(val)}]\\n        \\n        [this[\\\"options_js\\\"].subscribe((function (val){!(this.valueFromJulia[\\\"options_js\\\"]) ? (WebIO.setval({\\\"name\\\":\\\"options_js\\\",\\\"scope\\\":\\\"2205015225413654115\\\",\\\"id\\\":\\\"14155361305859611612\\\",\\\"type\\\":\\\"observable\\\"},val)) : undefined; return this.valueFromJulia[\\\"options_js\\\"]=false}),self),this[\\\"index\\\"].subscribe((function (val){!(this.valueFromJulia[\\\"index\\\"]) ? (WebIO.setval({\\\"name\\\":\\\"index\\\",\\\"scope\\\":\\\"2205015225413654115\\\",\\\"id\\\":\\\"6230163439282016821\\\",\\\"type\\\":\\\"observable\\\"},val)) : undefined; return this.valueFromJulia[\\\"index\\\"]=false}),self)]\\n        \\n    }\\n    self.model = new AppViewModel();\\n    self.valueFromJulia = {};\\n    for (var key in json_data) {\\n        self.valueFromJulia[key] = false;\\n    }\\n    ko.applyBindings(self.model, self.dom);\\n}\\n);\\n    (WebIO.importBlock({\\\"data\\\":[{\\\"name\\\":\\\"knockout\\\",\\\"type\\\":\\\"js\\\",\\\"url\\\":\\\"\\/assetserver\\/4b78a831658f9469be0fa90a874237d533cfc56e-knockout.js\\\"},{\\\"name\\\":\\\"knockout_punches\\\",\\\"type\\\":\\\"js\\\",\\\"url\\\":\\\"\\/assetserver\\/32cf81589ef7eb25886db6e5be297d237f8599ce-knockout_punches.js\\\"}],\\\"type\\\":\\\"async_block\\\"})).then((imports) => handler.apply(this, imports));\\n}\\n\"],\"observables\":{\"options_js\":{\"sync\":false,\"id\":\"14155361305859611612\",\"value\":[{\"key\":\"naive\",\"val\":1,\"id\":\"id0sYJobzH\"},{\"key\":\"pf\",\"val\":2,\"id\":\"idfZdRWU2k\"},{\"key\":\"smc\",\"val\":3,\"id\":\"idhfnRHeiL\"}]},\"index\":{\"sync\":true,\"id\":\"6230163439282016821\",\"value\":1}}},\"children\":[{\"props\":{\"className\":\"interact-flex-row interact-widget\"},\"nodeType\":\"DOM\",\"type\":\"node\",\"instanceArgs\":{\"namespace\":\"html\",\"tag\":\"div\"},\"children\":[{\"props\":{\"className\":\"interact-flex-row-left\"},\"nodeType\":\"DOM\",\"type\":\"node\",\"instanceArgs\":{\"namespace\":\"html\",\"tag\":\"div\"},\"children\":[{\"props\":{\"className\":\"interact \",\"style\":{\"padding\":\"5px 10px 0px 10px\"}},\"nodeType\":\"DOM\",\"type\":\"node\",\"instanceArgs\":{\"namespace\":\"html\",\"tag\":\"label\"},\"children\":[\"posterior\"]}]},{\"props\":{\"className\":\"interact-flex-row-center\"},\"nodeType\":\"DOM\",\"type\":\"node\",\"instanceArgs\":{\"namespace\":\"html\",\"tag\":\"div\"},\"children\":[{\"props\":{\"attributes\":{\"data-bind\":\"foreach : options_js\"},\"className\":\"buttons has-addons is-centered\"},\"nodeType\":\"DOM\",\"type\":\"node\",\"instanceArgs\":{\"namespace\":\"html\",\"tag\":\"div\"},\"children\":[{\"props\":{\"attributes\":{\"data-bind\":\"click: function (){$root.update(val)}, css: {'is-primary is-selected' : $root.index() == val, 'interact-widget is-medium button ' : true}\"}},\"nodeType\":\"DOM\",\"type\":\"node\",\"instanceArgs\":{\"namespace\":\"html\",\"tag\":\"span\"},\"children\":[{\"props\":{\"attributes\":{\"data-bind\":\"text : key\"}},\"nodeType\":\"DOM\",\"type\":\"node\",\"instanceArgs\":{\"namespace\":\"html\",\"tag\":\"label\"},\"children\":[]}]}]}]},{\"props\":{\"className\":\"interact-flex-row-right\"},\"nodeType\":\"DOM\",\"type\":\"node\",\"instanceArgs\":{\"namespace\":\"html\",\"tag\":\"div\"},\"children\":[{\"props\":{},\"nodeType\":\"DOM\",\"type\":\"node\",\"instanceArgs\":{\"namespace\":\"html\",\"tag\":\"div\"},\"children\":[]}]}]}]}]},{\"props\":{\"className\":\"field interact-widget\"},\"nodeType\":\"DOM\",\"type\":\"node\",\"instanceArgs\":{\"namespace\":\"html\",\"tag\":\"div\"},\"children\":[{\"props\":{},\"nodeType\":\"Scope\",\"type\":\"node\",\"instanceArgs\":{\"imports\":{\"data\":[{\"name\":\"knockout\",\"type\":\"js\",\"url\":\"\\/assetserver\\/4b78a831658f9469be0fa90a874237d533cfc56e-knockout.js\"},{\"name\":\"knockout_punches\",\"type\":\"js\",\"url\":\"\\/assetserver\\/32cf81589ef7eb25886db6e5be297d237f8599ce-knockout_punches.js\"},{\"name\":null,\"type\":\"js\",\"url\":\"\\/assetserver\\/4c861182dd4c5b1a7b80754ca907d70e11c2410c-all.js\"},{\"name\":null,\"type\":\"css\",\"url\":\"\\/assetserver\\/55ec2ee389419b72c3c6088bc3fbe3d7187a5fc0-style.css\"},{\"name\":null,\"type\":\"css\",\"url\":\"\\/assetserver\\/bb71acf9697a201a164f98e5fab8a4f7b4f82041-bulma_confined.min.css\"}],\"type\":\"async_block\"},\"id\":\"17207508262023326168\",\"handlers\":{\"changes\":[\"(function (val){return (val!=this.model[\\\"changes\\\"]()) ? (this.valueFromJulia[\\\"changes\\\"]=true, this.model[\\\"changes\\\"](val)) : undefined})\"],\"index\":[\"(function (val){return (val!=this.model[\\\"index\\\"]()) ? (this.valueFromJulia[\\\"index\\\"]=true, this.model[\\\"index\\\"](val)) : undefined})\"]},\"systemjs_options\":null,\"mount_callbacks\":[\"function () {\\n    var handler = (function (ko, koPunches) {\\n    ko.punches.enableAll();\\n    ko.bindingHandlers.numericValue = {\\n        init: function(element, valueAccessor, allBindings, data, context) {\\n            var stringified = ko.observable(ko.unwrap(valueAccessor()));\\n            stringified.subscribe(function(value) {\\n                var val = parseFloat(value);\\n                if (!isNaN(val)) {\\n                    valueAccessor()(val);\\n                }\\n            });\\n            valueAccessor().subscribe(function(value) {\\n                var str = JSON.stringify(value);\\n                if ((str == \\\"0\\\") && ([\\\"-0\\\", \\\"-0.\\\"].indexOf(stringified()) >= 0))\\n                     return;\\n                 if ([\\\"null\\\", \\\"\\\"].indexOf(str) >= 0)\\n                     return;\\n                stringified(str);\\n            });\\n            ko.applyBindingsToNode(\\n                element,\\n                {\\n                    value: stringified,\\n                    valueUpdate: allBindings.get('valueUpdate'),\\n                },\\n                context,\\n            );\\n        }\\n    };\\n    var json_data = {\\\"formatted_vals\\\":[\\\"0.001\\\",\\\"0.12575\\\",\\\"0.2505\\\",\\\"0.37525\\\",\\\"0.5\\\"],\\\"changes\\\":WebIO.getval({\\\"name\\\":\\\"changes\\\",\\\"scope\\\":\\\"17207508262023326168\\\",\\\"id\\\":\\\"15743238388404370294\\\",\\\"type\\\":\\\"observable\\\"}),\\\"index\\\":WebIO.getval({\\\"name\\\":\\\"index\\\",\\\"scope\\\":\\\"17207508262023326168\\\",\\\"id\\\":\\\"3745832531667463249\\\",\\\"type\\\":\\\"observable\\\"})};\\n    var self = this;\\n    function AppViewModel() {\\n        for (var key in json_data) {\\n            var el = json_data[key];\\n            this[key] = Array.isArray(el) ? ko.observableArray(el) : ko.observable(el);\\n        }\\n        \\n        [this[\\\"formatted_val\\\"]=ko.computed(    function(){\\n        return this.formatted_vals()[parseInt(this.index())-(1)];\\n    }\\n,this)]\\n        [this[\\\"changes\\\"].subscribe((function (val){!(this.valueFromJulia[\\\"changes\\\"]) ? (WebIO.setval({\\\"name\\\":\\\"changes\\\",\\\"scope\\\":\\\"17207508262023326168\\\",\\\"id\\\":\\\"15743238388404370294\\\",\\\"type\\\":\\\"observable\\\"},val)) : undefined; return this.valueFromJulia[\\\"changes\\\"]=false}),self),this[\\\"index\\\"].subscribe((function (val){!(this.valueFromJulia[\\\"index\\\"]) ? (WebIO.setval({\\\"name\\\":\\\"index\\\",\\\"scope\\\":\\\"17207508262023326168\\\",\\\"id\\\":\\\"3745832531667463249\\\",\\\"type\\\":\\\"observable\\\"},val)) : undefined; return this.valueFromJulia[\\\"index\\\"]=false}),self)]\\n        \\n    }\\n    self.model = new AppViewModel();\\n    self.valueFromJulia = {};\\n    for (var key in json_data) {\\n        self.valueFromJulia[key] = false;\\n    }\\n    ko.applyBindings(self.model, self.dom);\\n}\\n);\\n    (WebIO.importBlock({\\\"data\\\":[{\\\"name\\\":\\\"knockout\\\",\\\"type\\\":\\\"js\\\",\\\"url\\\":\\\"\\/assetserver\\/4b78a831658f9469be0fa90a874237d533cfc56e-knockout.js\\\"},{\\\"name\\\":\\\"knockout_punches\\\",\\\"type\\\":\\\"js\\\",\\\"url\\\":\\\"\\/assetserver\\/32cf81589ef7eb25886db6e5be297d237f8599ce-knockout_punches.js\\\"}],\\\"type\\\":\\\"async_block\\\"})).then((imports) => handler.apply(this, imports));\\n}\\n\"],\"observables\":{\"changes\":{\"sync\":false,\"id\":\"15743238388404370294\",\"value\":0},\"index\":{\"sync\":true,\"id\":\"3745832531667463249\",\"value\":3}}},\"children\":[{\"props\":{\"className\":\"interact-flex-row interact-widget\"},\"nodeType\":\"DOM\",\"type\":\"node\",\"instanceArgs\":{\"namespace\":\"html\",\"tag\":\"div\"},\"children\":[{\"props\":{\"className\":\"interact-flex-row-left\"},\"nodeType\":\"DOM\",\"type\":\"node\",\"instanceArgs\":{\"namespace\":\"html\",\"tag\":\"div\"},\"children\":[{\"props\":{\"className\":\"interact \",\"style\":{\"padding\":\"5px 10px 0px 10px\"}},\"nodeType\":\"DOM\",\"type\":\"node\",\"instanceArgs\":{\"namespace\":\"html\",\"tag\":\"label\"},\"children\":[\"x_noise\"]}]},{\"props\":{\"className\":\"interact-flex-row-center\"},\"nodeType\":\"DOM\",\"type\":\"node\",\"instanceArgs\":{\"namespace\":\"html\",\"tag\":\"div\"},\"children\":[{\"props\":{\"max\":5,\"min\":1,\"attributes\":{\"type\":\"range\",\"data-bind\":\"numericValue: index, valueUpdate: 'input', event: {change: function (){this.changes(this.changes()+1)}}\",\"orient\":\"horizontal\"},\"step\":1,\"className\":\"slider slider is-fullwidth\",\"style\":{}},\"nodeType\":\"DOM\",\"type\":\"node\",\"instanceArgs\":{\"namespace\":\"html\",\"tag\":\"input\"},\"children\":[]}]},{\"props\":{\"className\":\"interact-flex-row-right\"},\"nodeType\":\"DOM\",\"type\":\"node\",\"instanceArgs\":{\"namespace\":\"html\",\"tag\":\"div\"},\"children\":[{\"props\":{\"attributes\":{\"data-bind\":\"text: formatted_val\"}},\"nodeType\":\"DOM\",\"type\":\"node\",\"instanceArgs\":{\"namespace\":\"html\",\"tag\":\"p\"},\"children\":[]}]}]}]}]},{\"props\":{\"className\":\"field interact-widget\"},\"nodeType\":\"DOM\",\"type\":\"node\",\"instanceArgs\":{\"namespace\":\"html\",\"tag\":\"div\"},\"children\":[{\"props\":{},\"nodeType\":\"Scope\",\"type\":\"node\",\"instanceArgs\":{\"imports\":{\"data\":[{\"name\":\"knockout\",\"type\":\"js\",\"url\":\"\\/assetserver\\/4b78a831658f9469be0fa90a874237d533cfc56e-knockout.js\"},{\"name\":\"knockout_punches\",\"type\":\"js\",\"url\":\"\\/assetserver\\/32cf81589ef7eb25886db6e5be297d237f8599ce-knockout_punches.js\"},{\"name\":null,\"type\":\"js\",\"url\":\"\\/assetserver\\/4c861182dd4c5b1a7b80754ca907d70e11c2410c-all.js\"},{\"name\":null,\"type\":\"css\",\"url\":\"\\/assetserver\\/55ec2ee389419b72c3c6088bc3fbe3d7187a5fc0-style.css\"},{\"name\":null,\"type\":\"css\",\"url\":\"\\/assetserver\\/bb71acf9697a201a164f98e5fab8a4f7b4f82041-bulma_confined.min.css\"}],\"type\":\"async_block\"},\"id\":\"6464152132385314041\",\"handlers\":{\"changes\":[\"(function (val){return (val!=this.model[\\\"changes\\\"]()) ? (this.valueFromJulia[\\\"changes\\\"]=true, this.model[\\\"changes\\\"](val)) : undefined})\"],\"index\":[\"(function (val){return (val!=this.model[\\\"index\\\"]()) ? (this.valueFromJulia[\\\"index\\\"]=true, this.model[\\\"index\\\"](val)) : undefined})\"]},\"systemjs_options\":null,\"mount_callbacks\":[\"function () {\\n    var handler = (function (ko, koPunches) {\\n    ko.punches.enableAll();\\n    ko.bindingHandlers.numericValue = {\\n        init: function(element, valueAccessor, allBindings, data, context) {\\n            var stringified = ko.observable(ko.unwrap(valueAccessor()));\\n            stringified.subscribe(function(value) {\\n                var val = parseFloat(value);\\n                if (!isNaN(val)) {\\n                    valueAccessor()(val);\\n                }\\n            });\\n            valueAccessor().subscribe(function(value) {\\n                var str = JSON.stringify(value);\\n                if ((str == \\\"0\\\") && ([\\\"-0\\\", \\\"-0.\\\"].indexOf(stringified()) >= 0))\\n                     return;\\n                 if ([\\\"null\\\", \\\"\\\"].indexOf(str) >= 0)\\n                     return;\\n                stringified(str);\\n            });\\n            ko.applyBindingsToNode(\\n                element,\\n                {\\n                    value: stringified,\\n                    valueUpdate: allBindings.get('valueUpdate'),\\n                },\\n                context,\\n            );\\n        }\\n    };\\n    var json_data = {\\\"formatted_vals\\\":[\\\"0.001\\\",\\\"11.2508\\\",\\\"22.5005\\\",\\\"33.7503\\\",\\\"45.0\\\"],\\\"changes\\\":WebIO.getval({\\\"name\\\":\\\"changes\\\",\\\"scope\\\":\\\"6464152132385314041\\\",\\\"id\\\":\\\"8270686193358413989\\\",\\\"type\\\":\\\"observable\\\"}),\\\"index\\\":WebIO.getval({\\\"name\\\":\\\"index\\\",\\\"scope\\\":\\\"6464152132385314041\\\",\\\"id\\\":\\\"3558497023182308851\\\",\\\"type\\\":\\\"observable\\\"})};\\n    var self = this;\\n    function AppViewModel() {\\n        for (var key in json_data) {\\n            var el = json_data[key];\\n            this[key] = Array.isArray(el) ? ko.observableArray(el) : ko.observable(el);\\n        }\\n        \\n        [this[\\\"formatted_val\\\"]=ko.computed(    function(){\\n        return this.formatted_vals()[parseInt(this.index())-(1)];\\n    }\\n,this)]\\n        [this[\\\"changes\\\"].subscribe((function (val){!(this.valueFromJulia[\\\"changes\\\"]) ? (WebIO.setval({\\\"name\\\":\\\"changes\\\",\\\"scope\\\":\\\"6464152132385314041\\\",\\\"id\\\":\\\"8270686193358413989\\\",\\\"type\\\":\\\"observable\\\"},val)) : undefined; return this.valueFromJulia[\\\"changes\\\"]=false}),self),this[\\\"index\\\"].subscribe((function (val){!(this.valueFromJulia[\\\"index\\\"]) ? (WebIO.setval({\\\"name\\\":\\\"index\\\",\\\"scope\\\":\\\"6464152132385314041\\\",\\\"id\\\":\\\"3558497023182308851\\\",\\\"type\\\":\\\"observable\\\"},val)) : undefined; return this.valueFromJulia[\\\"index\\\"]=false}),self)]\\n        \\n    }\\n    self.model = new AppViewModel();\\n    self.valueFromJulia = {};\\n    for (var key in json_data) {\\n        self.valueFromJulia[key] = false;\\n    }\\n    ko.applyBindings(self.model, self.dom);\\n}\\n);\\n    (WebIO.importBlock({\\\"data\\\":[{\\\"name\\\":\\\"knockout\\\",\\\"type\\\":\\\"js\\\",\\\"url\\\":\\\"\\/assetserver\\/4b78a831658f9469be0fa90a874237d533cfc56e-knockout.js\\\"},{\\\"name\\\":\\\"knockout_punches\\\",\\\"type\\\":\\\"js\\\",\\\"url\\\":\\\"\\/assetserver\\/32cf81589ef7eb25886db6e5be297d237f8599ce-knockout_punches.js\\\"}],\\\"type\\\":\\\"async_block\\\"})).then((imports) => handler.apply(this, imports));\\n}\\n\"],\"observables\":{\"changes\":{\"sync\":false,\"id\":\"8270686193358413989\",\"value\":0},\"index\":{\"sync\":true,\"id\":\"3558497023182308851\",\"value\":3}}},\"children\":[{\"props\":{\"className\":\"interact-flex-row interact-widget\"},\"nodeType\":\"DOM\",\"type\":\"node\",\"instanceArgs\":{\"namespace\":\"html\",\"tag\":\"div\"},\"children\":[{\"props\":{\"className\":\"interact-flex-row-left\"},\"nodeType\":\"DOM\",\"type\":\"node\",\"instanceArgs\":{\"namespace\":\"html\",\"tag\":\"div\"},\"children\":[{\"props\":{\"className\":\"interact \",\"style\":{\"padding\":\"5px 10px 0px 10px\"}},\"nodeType\":\"DOM\",\"type\":\"node\",\"instanceArgs\":{\"namespace\":\"html\",\"tag\":\"label\"},\"children\":[\"hd_noise\"]}]},{\"props\":{\"className\":\"interact-flex-row-center\"},\"nodeType\":\"DOM\",\"type\":\"node\",\"instanceArgs\":{\"namespace\":\"html\",\"tag\":\"div\"},\"children\":[{\"props\":{\"max\":5,\"min\":1,\"attributes\":{\"type\":\"range\",\"data-bind\":\"numericValue: index, valueUpdate: 'input', event: {change: function (){this.changes(this.changes()+1)}}\",\"orient\":\"horizontal\"},\"step\":1,\"className\":\"slider slider is-fullwidth\",\"style\":{}},\"nodeType\":\"DOM\",\"type\":\"node\",\"instanceArgs\":{\"namespace\":\"html\",\"tag\":\"input\"},\"children\":[]}]},{\"props\":{\"className\":\"interact-flex-row-right\"},\"nodeType\":\"DOM\",\"type\":\"node\",\"instanceArgs\":{\"namespace\":\"html\",\"tag\":\"div\"},\"children\":[{\"props\":{\"attributes\":{\"data-bind\":\"text: formatted_val\"}},\"nodeType\":\"DOM\",\"type\":\"node\",\"instanceArgs\":{\"namespace\":\"html\",\"tag\":\"p\"},\"children\":[]}]}]}]}]},{\"props\":{\"className\":\"field interact-widget\"},\"nodeType\":\"DOM\",\"type\":\"node\",\"instanceArgs\":{\"namespace\":\"html\",\"tag\":\"div\"},\"children\":[{\"props\":{},\"nodeType\":\"Scope\",\"type\":\"node\",\"instanceArgs\":{\"imports\":{\"data\":[{\"name\":\"knockout\",\"type\":\"js\",\"url\":\"\\/assetserver\\/4b78a831658f9469be0fa90a874237d533cfc56e-knockout.js\"},{\"name\":\"knockout_punches\",\"type\":\"js\",\"url\":\"\\/assetserver\\/32cf81589ef7eb25886db6e5be297d237f8599ce-knockout_punches.js\"},{\"name\":null,\"type\":\"js\",\"url\":\"\\/assetserver\\/4c861182dd4c5b1a7b80754ca907d70e11c2410c-all.js\"},{\"name\":null,\"type\":\"css\",\"url\":\"\\/assetserver\\/55ec2ee389419b72c3c6088bc3fbe3d7187a5fc0-style.css\"},{\"name\":null,\"type\":\"css\",\"url\":\"\\/assetserver\\/bb71acf9697a201a164f98e5fab8a4f7b4f82041-bulma_confined.min.css\"}],\"type\":\"async_block\"},\"id\":\"17989771529542327364\",\"handlers\":{\"changes\":[\"(function (val){return (val!=this.model[\\\"changes\\\"]()) ? (this.valueFromJulia[\\\"changes\\\"]=true, this.model[\\\"changes\\\"](val)) : undefined})\"],\"index\":[\"(function (val){return (val!=this.model[\\\"index\\\"]()) ? (this.valueFromJulia[\\\"index\\\"]=true, this.model[\\\"index\\\"](val)) : undefined})\"]},\"systemjs_options\":null,\"mount_callbacks\":[\"function () {\\n    var handler = (function (ko, koPunches) {\\n    ko.punches.enableAll();\\n    ko.bindingHandlers.numericValue = {\\n        init: function(element, valueAccessor, allBindings, data, context) {\\n            var stringified = ko.observable(ko.unwrap(valueAccessor()));\\n            stringified.subscribe(function(value) {\\n                var val = parseFloat(value);\\n                if (!isNaN(val)) {\\n                    valueAccessor()(val);\\n                }\\n            });\\n            valueAccessor().subscribe(function(value) {\\n                var str = JSON.stringify(value);\\n                if ((str == \\\"0\\\") && ([\\\"-0\\\", \\\"-0.\\\"].indexOf(stringified()) >= 0))\\n                     return;\\n                 if ([\\\"null\\\", \\\"\\\"].indexOf(str) >= 0)\\n                     return;\\n                stringified(str);\\n            });\\n            ko.applyBindingsToNode(\\n                element,\\n                {\\n                    value: stringified,\\n                    valueUpdate: allBindings.get('valueUpdate'),\\n                },\\n                context,\\n            );\\n        }\\n    };\\n    var json_data = {\\\"formatted_vals\\\":[\\\"1\\\",\\\"6\\\",\\\"11\\\",\\\"16\\\",\\\"21\\\",\\\"26\\\",\\\"31\\\",\\\"36\\\",\\\"41\\\",\\\"46\\\"],\\\"changes\\\":WebIO.getval({\\\"name\\\":\\\"changes\\\",\\\"scope\\\":\\\"17989771529542327364\\\",\\\"id\\\":\\\"13637239570841406098\\\",\\\"type\\\":\\\"observable\\\"}),\\\"index\\\":WebIO.getval({\\\"name\\\":\\\"index\\\",\\\"scope\\\":\\\"17989771529542327364\\\",\\\"id\\\":\\\"5466375458924710819\\\",\\\"type\\\":\\\"observable\\\"})};\\n    var self = this;\\n    function AppViewModel() {\\n        for (var key in json_data) {\\n            var el = json_data[key];\\n            this[key] = Array.isArray(el) ? ko.observableArray(el) : ko.observable(el);\\n        }\\n        \\n        [this[\\\"formatted_val\\\"]=ko.computed(    function(){\\n        return this.formatted_vals()[parseInt(this.index())-(1)];\\n    }\\n,this)]\\n        [this[\\\"changes\\\"].subscribe((function (val){!(this.valueFromJulia[\\\"changes\\\"]) ? (WebIO.setval({\\\"name\\\":\\\"changes\\\",\\\"scope\\\":\\\"17989771529542327364\\\",\\\"id\\\":\\\"13637239570841406098\\\",\\\"type\\\":\\\"observable\\\"},val)) : undefined; return this.valueFromJulia[\\\"changes\\\"]=false}),self),this[\\\"index\\\"].subscribe((function (val){!(this.valueFromJulia[\\\"index\\\"]) ? (WebIO.setval({\\\"name\\\":\\\"index\\\",\\\"scope\\\":\\\"17989771529542327364\\\",\\\"id\\\":\\\"5466375458924710819\\\",\\\"type\\\":\\\"observable\\\"},val)) : undefined; return this.valueFromJulia[\\\"index\\\"]=false}),self)]\\n        \\n    }\\n    self.model = new AppViewModel();\\n    self.valueFromJulia = {};\\n    for (var key in json_data) {\\n        self.valueFromJulia[key] = false;\\n    }\\n    ko.applyBindings(self.model, self.dom);\\n}\\n);\\n    (WebIO.importBlock({\\\"data\\\":[{\\\"name\\\":\\\"knockout\\\",\\\"type\\\":\\\"js\\\",\\\"url\\\":\\\"\\/assetserver\\/4b78a831658f9469be0fa90a874237d533cfc56e-knockout.js\\\"},{\\\"name\\\":\\\"knockout_punches\\\",\\\"type\\\":\\\"js\\\",\\\"url\\\":\\\"\\/assetserver\\/32cf81589ef7eb25886db6e5be297d237f8599ce-knockout_punches.js\\\"}],\\\"type\\\":\\\"async_block\\\"})).then((imports) => handler.apply(this, imports));\\n}\\n\"],\"observables\":{\"changes\":{\"sync\":false,\"id\":\"13637239570841406098\",\"value\":0},\"index\":{\"sync\":true,\"id\":\"5466375458924710819\",\"value\":5}}},\"children\":[{\"props\":{\"className\":\"interact-flex-row interact-widget\"},\"nodeType\":\"DOM\",\"type\":\"node\",\"instanceArgs\":{\"namespace\":\"html\",\"tag\":\"div\"},\"children\":[{\"props\":{\"className\":\"interact-flex-row-left\"},\"nodeType\":\"DOM\",\"type\":\"node\",\"instanceArgs\":{\"namespace\":\"html\",\"tag\":\"div\"},\"children\":[{\"props\":{\"className\":\"interact \",\"style\":{\"padding\":\"5px 10px 0px 10px\"}},\"nodeType\":\"DOM\",\"type\":\"node\",\"instanceArgs\":{\"namespace\":\"html\",\"tag\":\"label\"},\"children\":[\"mix_w\"]}]},{\"props\":{\"className\":\"interact-flex-row-center\"},\"nodeType\":\"DOM\",\"type\":\"node\",\"instanceArgs\":{\"namespace\":\"html\",\"tag\":\"div\"},\"children\":[{\"props\":{\"max\":10,\"min\":1,\"attributes\":{\"type\":\"range\",\"data-bind\":\"numericValue: index, valueUpdate: 'input', event: {change: function (){this.changes(this.changes()+1)}}\",\"orient\":\"horizontal\"},\"step\":1,\"className\":\"slider slider is-fullwidth\",\"style\":{}},\"nodeType\":\"DOM\",\"type\":\"node\",\"instanceArgs\":{\"namespace\":\"html\",\"tag\":\"input\"},\"children\":[]}]},{\"props\":{\"className\":\"interact-flex-row-right\"},\"nodeType\":\"DOM\",\"type\":\"node\",\"instanceArgs\":{\"namespace\":\"html\",\"tag\":\"div\"},\"children\":[{\"props\":{\"attributes\":{\"data-bind\":\"text: formatted_val\"}},\"nodeType\":\"DOM\",\"type\":\"node\",\"instanceArgs\":{\"namespace\":\"html\",\"tag\":\"p\"},\"children\":[]}]}]}]}]},{\"props\":{\"className\":\"field interact-widget\"},\"nodeType\":\"DOM\",\"type\":\"node\",\"instanceArgs\":{\"namespace\":\"html\",\"tag\":\"div\"},\"children\":[{\"props\":{},\"nodeType\":\"Scope\",\"type\":\"node\",\"instanceArgs\":{\"imports\":{\"data\":[{\"name\":\"knockout\",\"type\":\"js\",\"url\":\"\\/assetserver\\/4b78a831658f9469be0fa90a874237d533cfc56e-knockout.js\"},{\"name\":\"knockout_punches\",\"type\":\"js\",\"url\":\"\\/assetserver\\/32cf81589ef7eb25886db6e5be297d237f8599ce-knockout_punches.js\"},{\"name\":null,\"type\":\"js\",\"url\":\"\\/assetserver\\/4c861182dd4c5b1a7b80754ca907d70e11c2410c-all.js\"},{\"name\":null,\"type\":\"css\",\"url\":\"\\/assetserver\\/55ec2ee389419b72c3c6088bc3fbe3d7187a5fc0-style.css\"},{\"name\":null,\"type\":\"css\",\"url\":\"\\/assetserver\\/bb71acf9697a201a164f98e5fab8a4f7b4f82041-bulma_confined.min.css\"}],\"type\":\"async_block\"},\"id\":\"14528206746972488032\",\"handlers\":{\"changes\":[\"(function (val){return (val!=this.model[\\\"changes\\\"]()) ? (this.valueFromJulia[\\\"changes\\\"]=true, this.model[\\\"changes\\\"](val)) : undefined})\"],\"index\":[\"(function (val){return (val!=this.model[\\\"index\\\"]()) ? (this.valueFromJulia[\\\"index\\\"]=true, this.model[\\\"index\\\"](val)) : undefined})\"]},\"systemjs_options\":null,\"mount_callbacks\":[\"function () {\\n    var handler = (function (ko, koPunches) {\\n    ko.punches.enableAll();\\n    ko.bindingHandlers.numericValue = {\\n        init: function(element, valueAccessor, allBindings, data, context) {\\n            var stringified = ko.observable(ko.unwrap(valueAccessor()));\\n            stringified.subscribe(function(value) {\\n                var val = parseFloat(value);\\n                if (!isNaN(val)) {\\n                    valueAccessor()(val);\\n                }\\n            });\\n            valueAccessor().subscribe(function(value) {\\n                var str = JSON.stringify(value);\\n                if ((str == \\\"0\\\") && ([\\\"-0\\\", \\\"-0.\\\"].indexOf(stringified()) >= 0))\\n                     return;\\n                 if ([\\\"null\\\", \\\"\\\"].indexOf(str) >= 0)\\n                     return;\\n                stringified(str);\\n            });\\n            ko.applyBindingsToNode(\\n                element,\\n                {\\n                    value: stringified,\\n                    valueUpdate: allBindings.get('valueUpdate'),\\n                },\\n                context,\\n            );\\n        }\\n    };\\n    var json_data = {\\\"formatted_vals\\\":[\\\"0.01\\\",\\\"0.12\\\",\\\"0.23\\\",\\\"0.34\\\",\\\"0.45\\\",\\\"0.56\\\",\\\"0.67\\\",\\\"0.78\\\",\\\"0.89\\\",\\\"1.0\\\"],\\\"changes\\\":WebIO.getval({\\\"name\\\":\\\"changes\\\",\\\"scope\\\":\\\"14528206746972488032\\\",\\\"id\\\":\\\"14866675834646597711\\\",\\\"type\\\":\\\"observable\\\"}),\\\"index\\\":WebIO.getval({\\\"name\\\":\\\"index\\\",\\\"scope\\\":\\\"14528206746972488032\\\",\\\"id\\\":\\\"6329127300525171036\\\",\\\"type\\\":\\\"observable\\\"})};\\n    var self = this;\\n    function AppViewModel() {\\n        for (var key in json_data) {\\n            var el = json_data[key];\\n            this[key] = Array.isArray(el) ? ko.observableArray(el) : ko.observable(el);\\n        }\\n        \\n        [this[\\\"formatted_val\\\"]=ko.computed(    function(){\\n        return this.formatted_vals()[parseInt(this.index())-(1)];\\n    }\\n,this)]\\n        [this[\\\"changes\\\"].subscribe((function (val){!(this.valueFromJulia[\\\"changes\\\"]) ? (WebIO.setval({\\\"name\\\":\\\"changes\\\",\\\"scope\\\":\\\"14528206746972488032\\\",\\\"id\\\":\\\"14866675834646597711\\\",\\\"type\\\":\\\"observable\\\"},val)) : undefined; return this.valueFromJulia[\\\"changes\\\"]=false}),self),this[\\\"index\\\"].subscribe((function (val){!(this.valueFromJulia[\\\"index\\\"]) ? (WebIO.setval({\\\"name\\\":\\\"index\\\",\\\"scope\\\":\\\"14528206746972488032\\\",\\\"id\\\":\\\"6329127300525171036\\\",\\\"type\\\":\\\"observable\\\"},val)) : undefined; return this.valueFromJulia[\\\"index\\\"]=false}),self)]\\n        \\n    }\\n    self.model = new AppViewModel();\\n    self.valueFromJulia = {};\\n    for (var key in json_data) {\\n        self.valueFromJulia[key] = false;\\n    }\\n    ko.applyBindings(self.model, self.dom);\\n}\\n);\\n    (WebIO.importBlock({\\\"data\\\":[{\\\"name\\\":\\\"knockout\\\",\\\"type\\\":\\\"js\\\",\\\"url\\\":\\\"\\/assetserver\\/4b78a831658f9469be0fa90a874237d533cfc56e-knockout.js\\\"},{\\\"name\\\":\\\"knockout_punches\\\",\\\"type\\\":\\\"js\\\",\\\"url\\\":\\\"\\/assetserver\\/32cf81589ef7eb25886db6e5be297d237f8599ce-knockout_punches.js\\\"}],\\\"type\\\":\\\"async_block\\\"})).then((imports) => handler.apply(this, imports));\\n}\\n\"],\"observables\":{\"changes\":{\"sync\":false,\"id\":\"14866675834646597711\",\"value\":0},\"index\":{\"sync\":true,\"id\":\"6329127300525171036\",\"value\":5}}},\"children\":[{\"props\":{\"className\":\"interact-flex-row interact-widget\"},\"nodeType\":\"DOM\",\"type\":\"node\",\"instanceArgs\":{\"namespace\":\"html\",\"tag\":\"div\"},\"children\":[{\"props\":{\"className\":\"interact-flex-row-left\"},\"nodeType\":\"DOM\",\"type\":\"node\",\"instanceArgs\":{\"namespace\":\"html\",\"tag\":\"div\"},\"children\":[{\"props\":{\"className\":\"interact \",\"style\":{\"padding\":\"5px 10px 0px 10px\"}},\"nodeType\":\"DOM\",\"type\":\"node\",\"instanceArgs\":{\"namespace\":\"html\",\"tag\":\"label\"},\"children\":[\"s_noise\"]}]},{\"props\":{\"className\":\"interact-flex-row-center\"},\"nodeType\":\"DOM\",\"type\":\"node\",\"instanceArgs\":{\"namespace\":\"html\",\"tag\":\"div\"},\"children\":[{\"props\":{\"max\":10,\"min\":1,\"attributes\":{\"type\":\"range\",\"data-bind\":\"numericValue: index, valueUpdate: 'input', event: {change: function (){this.changes(this.changes()+1)}}\",\"orient\":\"horizontal\"},\"step\":1,\"className\":\"slider slider is-fullwidth\",\"style\":{}},\"nodeType\":\"DOM\",\"type\":\"node\",\"instanceArgs\":{\"namespace\":\"html\",\"tag\":\"input\"},\"children\":[]}]},{\"props\":{\"className\":\"interact-flex-row-right\"},\"nodeType\":\"DOM\",\"type\":\"node\",\"instanceArgs\":{\"namespace\":\"html\",\"tag\":\"div\"},\"children\":[{\"props\":{\"attributes\":{\"data-bind\":\"text: formatted_val\"}},\"nodeType\":\"DOM\",\"type\":\"node\",\"instanceArgs\":{\"namespace\":\"html\",\"tag\":\"p\"},\"children\":[]}]}]}]}]},{\"props\":{\"className\":\"field interact-widget\"},\"nodeType\":\"DOM\",\"type\":\"node\",\"instanceArgs\":{\"namespace\":\"html\",\"tag\":\"div\"},\"children\":[{\"props\":{},\"nodeType\":\"Scope\",\"type\":\"node\",\"instanceArgs\":{\"imports\":{\"data\":[{\"name\":\"knockout\",\"type\":\"js\",\"url\":\"\\/assetserver\\/4b78a831658f9469be0fa90a874237d533cfc56e-knockout.js\"},{\"name\":\"knockout_punches\",\"type\":\"js\",\"url\":\"\\/assetserver\\/32cf81589ef7eb25886db6e5be297d237f8599ce-knockout_punches.js\"},{\"name\":null,\"type\":\"js\",\"url\":\"\\/assetserver\\/4c861182dd4c5b1a7b80754ca907d70e11c2410c-all.js\"},{\"name\":null,\"type\":\"css\",\"url\":\"\\/assetserver\\/55ec2ee389419b72c3c6088bc3fbe3d7187a5fc0-style.css\"},{\"name\":null,\"type\":\"css\",\"url\":\"\\/assetserver\\/bb71acf9697a201a164f98e5fab8a4f7b4f82041-bulma_confined.min.css\"}],\"type\":\"async_block\"},\"id\":\"3673388560178951148\",\"handlers\":{\"changes\":[\"(function (val){return (val!=this.model[\\\"changes\\\"]()) ? (this.valueFromJulia[\\\"changes\\\"]=true, this.model[\\\"changes\\\"](val)) : undefined})\"],\"index\":[\"(function (val){return (val!=this.model[\\\"index\\\"]()) ? (this.valueFromJulia[\\\"index\\\"]=true, this.model[\\\"index\\\"](val)) : undefined})\"]},\"systemjs_options\":null,\"mount_callbacks\":[\"function () {\\n    var handler = (function (ko, koPunches) {\\n    ko.punches.enableAll();\\n    ko.bindingHandlers.numericValue = {\\n        init: function(element, valueAccessor, allBindings, data, context) {\\n            var stringified = ko.observable(ko.unwrap(valueAccessor()));\\n            stringified.subscribe(function(value) {\\n                var val = parseFloat(value);\\n                if (!isNaN(val)) {\\n                    valueAccessor()(val);\\n                }\\n            });\\n            valueAccessor().subscribe(function(value) {\\n                var str = JSON.stringify(value);\\n                if ((str == \\\"0\\\") && ([\\\"-0\\\", \\\"-0.\\\"].indexOf(stringified()) >= 0))\\n                     return;\\n                 if ([\\\"null\\\", \\\"\\\"].indexOf(str) >= 0)\\n                     return;\\n                stringified(str);\\n            });\\n            ko.applyBindingsToNode(\\n                element,\\n                {\\n                    value: stringified,\\n                    valueUpdate: allBindings.get('valueUpdate'),\\n                },\\n                context,\\n            );\\n        }\\n    };\\n    var json_data = {\\\"formatted_vals\\\":[\\\"1\\\",\\\"2\\\",\\\"3\\\",\\\"4\\\",\\\"5\\\",\\\"6\\\",\\\"7\\\",\\\"8\\\",\\\"9\\\",\\\"10\\\"],\\\"changes\\\":WebIO.getval({\\\"name\\\":\\\"changes\\\",\\\"scope\\\":\\\"3673388560178951148\\\",\\\"id\\\":\\\"10396463575851316101\\\",\\\"type\\\":\\\"observable\\\"}),\\\"index\\\":WebIO.getval({\\\"name\\\":\\\"index\\\",\\\"scope\\\":\\\"3673388560178951148\\\",\\\"id\\\":\\\"14397460879361996835\\\",\\\"type\\\":\\\"observable\\\"})};\\n    var self = this;\\n    function AppViewModel() {\\n        for (var key in json_data) {\\n            var el = json_data[key];\\n            this[key] = Array.isArray(el) ? ko.observableArray(el) : ko.observable(el);\\n        }\\n        \\n        [this[\\\"formatted_val\\\"]=ko.computed(    function(){\\n        return this.formatted_vals()[parseInt(this.index())-(1)];\\n    }\\n,this)]\\n        [this[\\\"changes\\\"].subscribe((function (val){!(this.valueFromJulia[\\\"changes\\\"]) ? (WebIO.setval({\\\"name\\\":\\\"changes\\\",\\\"scope\\\":\\\"3673388560178951148\\\",\\\"id\\\":\\\"10396463575851316101\\\",\\\"type\\\":\\\"observable\\\"},val)) : undefined; return this.valueFromJulia[\\\"changes\\\"]=false}),self),this[\\\"index\\\"].subscribe((function (val){!(this.valueFromJulia[\\\"index\\\"]) ? (WebIO.setval({\\\"name\\\":\\\"index\\\",\\\"scope\\\":\\\"3673388560178951148\\\",\\\"id\\\":\\\"14397460879361996835\\\",\\\"type\\\":\\\"observable\\\"},val)) : undefined; return this.valueFromJulia[\\\"index\\\"]=false}),self)]\\n        \\n    }\\n    self.model = new AppViewModel();\\n    self.valueFromJulia = {};\\n    for (var key in json_data) {\\n        self.valueFromJulia[key] = false;\\n    }\\n    ko.applyBindings(self.model, self.dom);\\n}\\n);\\n    (WebIO.importBlock({\\\"data\\\":[{\\\"name\\\":\\\"knockout\\\",\\\"type\\\":\\\"js\\\",\\\"url\\\":\\\"\\/assetserver\\/4b78a831658f9469be0fa90a874237d533cfc56e-knockout.js\\\"},{\\\"name\\\":\\\"knockout_punches\\\",\\\"type\\\":\\\"js\\\",\\\"url\\\":\\\"\\/assetserver\\/32cf81589ef7eb25886db6e5be297d237f8599ce-knockout_punches.js\\\"}],\\\"type\\\":\\\"async_block\\\"})).then((imports) => handler.apply(this, imports));\\n}\\n\"],\"observables\":{\"changes\":{\"sync\":false,\"id\":\"10396463575851316101\",\"value\":0},\"index\":{\"sync\":true,\"id\":\"14397460879361996835\",\"value\":5}}},\"children\":[{\"props\":{\"className\":\"interact-flex-row interact-widget\"},\"nodeType\":\"DOM\",\"type\":\"node\",\"instanceArgs\":{\"namespace\":\"html\",\"tag\":\"div\"},\"children\":[{\"props\":{\"className\":\"interact-flex-row-left\"},\"nodeType\":\"DOM\",\"type\":\"node\",\"instanceArgs\":{\"namespace\":\"html\",\"tag\":\"div\"},\"children\":[{\"props\":{\"className\":\"interact \",\"style\":{\"padding\":\"5px 10px 0px 10px\"}},\"nodeType\":\"DOM\",\"type\":\"node\",\"instanceArgs\":{\"namespace\":\"html\",\"tag\":\"label\"},\"children\":[\"grid_n\"]}]},{\"props\":{\"className\":\"interact-flex-row-center\"},\"nodeType\":\"DOM\",\"type\":\"node\",\"instanceArgs\":{\"namespace\":\"html\",\"tag\":\"div\"},\"children\":[{\"props\":{\"max\":10,\"min\":1,\"attributes\":{\"type\":\"range\",\"data-bind\":\"numericValue: index, valueUpdate: 'input', event: {change: function (){this.changes(this.changes()+1)}}\",\"orient\":\"horizontal\"},\"step\":1,\"className\":\"slider slider is-fullwidth\",\"style\":{}},\"nodeType\":\"DOM\",\"type\":\"node\",\"instanceArgs\":{\"namespace\":\"html\",\"tag\":\"input\"},\"children\":[]}]},{\"props\":{\"className\":\"interact-flex-row-right\"},\"nodeType\":\"DOM\",\"type\":\"node\",\"instanceArgs\":{\"namespace\":\"html\",\"tag\":\"div\"},\"children\":[{\"props\":{\"attributes\":{\"data-bind\":\"text: formatted_val\"}},\"nodeType\":\"DOM\",\"type\":\"node\",\"instanceArgs\":{\"namespace\":\"html\",\"tag\":\"p\"},\"children\":[]}]}]}]}]},{\"props\":{\"className\":\"field interact-widget\"},\"nodeType\":\"DOM\",\"type\":\"node\",\"instanceArgs\":{\"namespace\":\"html\",\"tag\":\"div\"},\"children\":[{\"props\":{},\"nodeType\":\"Scope\",\"type\":\"node\",\"instanceArgs\":{\"imports\":{\"data\":[{\"name\":\"knockout\",\"type\":\"js\",\"url\":\"\\/assetserver\\/4b78a831658f9469be0fa90a874237d533cfc56e-knockout.js\"},{\"name\":\"knockout_punches\",\"type\":\"js\",\"url\":\"\\/assetserver\\/32cf81589ef7eb25886db6e5be297d237f8599ce-knockout_punches.js\"},{\"name\":null,\"type\":\"js\",\"url\":\"\\/assetserver\\/4c861182dd4c5b1a7b80754ca907d70e11c2410c-all.js\"},{\"name\":null,\"type\":\"css\",\"url\":\"\\/assetserver\\/55ec2ee389419b72c3c6088bc3fbe3d7187a5fc0-style.css\"},{\"name\":null,\"type\":\"css\",\"url\":\"\\/assetserver\\/bb71acf9697a201a164f98e5fab8a4f7b4f82041-bulma_confined.min.css\"}],\"type\":\"async_block\"},\"id\":\"12266068664632075953\",\"handlers\":{\"changes\":[\"(function (val){return (val!=this.model[\\\"changes\\\"]()) ? (this.valueFromJulia[\\\"changes\\\"]=true, this.model[\\\"changes\\\"](val)) : undefined})\"],\"index\":[\"(function (val){return (val!=this.model[\\\"index\\\"]()) ? (this.valueFromJulia[\\\"index\\\"]=true, this.model[\\\"index\\\"](val)) : undefined})\"]},\"systemjs_options\":null,\"mount_callbacks\":[\"function () {\\n    var handler = (function (ko, koPunches) {\\n    ko.punches.enableAll();\\n    ko.bindingHandlers.numericValue = {\\n        init: function(element, valueAccessor, allBindings, data, context) {\\n            var stringified = ko.observable(ko.unwrap(valueAccessor()));\\n            stringified.subscribe(function(value) {\\n                var val = parseFloat(value);\\n                if (!isNaN(val)) {\\n                    valueAccessor()(val);\\n                }\\n            });\\n            valueAccessor().subscribe(function(value) {\\n                var str = JSON.stringify(value);\\n                if ((str == \\\"0\\\") && ([\\\"-0\\\", \\\"-0.\\\"].indexOf(stringified()) >= 0))\\n                     return;\\n                 if ([\\\"null\\\", \\\"\\\"].indexOf(str) >= 0)\\n                     return;\\n                stringified(str);\\n            });\\n            ko.applyBindingsToNode(\\n                element,\\n                {\\n                    value: stringified,\\n                    valueUpdate: allBindings.get('valueUpdate'),\\n                },\\n                context,\\n            );\\n        }\\n    };\\n    var json_data = {\\\"formatted_vals\\\":[\\\"2\\\",\\\"3\\\",\\\"4\\\",\\\"5\\\",\\\"6\\\",\\\"7\\\",\\\"8\\\",\\\"9\\\",\\\"10\\\"],\\\"changes\\\":WebIO.getval({\\\"name\\\":\\\"changes\\\",\\\"scope\\\":\\\"12266068664632075953\\\",\\\"id\\\":\\\"14867078706874053701\\\",\\\"type\\\":\\\"observable\\\"}),\\\"index\\\":WebIO.getval({\\\"name\\\":\\\"index\\\",\\\"scope\\\":\\\"12266068664632075953\\\",\\\"id\\\":\\\"5791100556740637270\\\",\\\"type\\\":\\\"observable\\\"})};\\n    var self = this;\\n    function AppViewModel() {\\n        for (var key in json_data) {\\n            var el = json_data[key];\\n            this[key] = Array.isArray(el) ? ko.observableArray(el) : ko.observable(el);\\n        }\\n        \\n        [this[\\\"formatted_val\\\"]=ko.computed(    function(){\\n        return this.formatted_vals()[parseInt(this.index())-(2)];\\n    }\\n,this)]\\n        [this[\\\"changes\\\"].subscribe((function (val){!(this.valueFromJulia[\\\"changes\\\"]) ? (WebIO.setval({\\\"name\\\":\\\"changes\\\",\\\"scope\\\":\\\"12266068664632075953\\\",\\\"id\\\":\\\"14867078706874053701\\\",\\\"type\\\":\\\"observable\\\"},val)) : undefined; return this.valueFromJulia[\\\"changes\\\"]=false}),self),this[\\\"index\\\"].subscribe((function (val){!(this.valueFromJulia[\\\"index\\\"]) ? (WebIO.setval({\\\"name\\\":\\\"index\\\",\\\"scope\\\":\\\"12266068664632075953\\\",\\\"id\\\":\\\"5791100556740637270\\\",\\\"type\\\":\\\"observable\\\"},val)) : undefined; return this.valueFromJulia[\\\"index\\\"]=false}),self)]\\n        \\n    }\\n    self.model = new AppViewModel();\\n    self.valueFromJulia = {};\\n    for (var key in json_data) {\\n        self.valueFromJulia[key] = false;\\n    }\\n    ko.applyBindings(self.model, self.dom);\\n}\\n);\\n    (WebIO.importBlock({\\\"data\\\":[{\\\"name\\\":\\\"knockout\\\",\\\"type\\\":\\\"js\\\",\\\"url\\\":\\\"\\/assetserver\\/4b78a831658f9469be0fa90a874237d533cfc56e-knockout.js\\\"},{\\\"name\\\":\\\"knockout_punches\\\",\\\"type\\\":\\\"js\\\",\\\"url\\\":\\\"\\/assetserver\\/32cf81589ef7eb25886db6e5be297d237f8599ce-knockout_punches.js\\\"}],\\\"type\\\":\\\"async_block\\\"})).then((imports) => handler.apply(this, imports));\\n}\\n\"],\"observables\":{\"changes\":{\"sync\":false,\"id\":\"14867078706874053701\",\"value\":0},\"index\":{\"sync\":true,\"id\":\"5791100556740637270\",\"value\":6}}},\"children\":[{\"props\":{\"className\":\"interact-flex-row interact-widget\"},\"nodeType\":\"DOM\",\"type\":\"node\",\"instanceArgs\":{\"namespace\":\"html\",\"tag\":\"div\"},\"children\":[{\"props\":{\"className\":\"interact-flex-row-left\"},\"nodeType\":\"DOM\",\"type\":\"node\",\"instanceArgs\":{\"namespace\":\"html\",\"tag\":\"div\"},\"children\":[{\"props\":{\"className\":\"interact \",\"style\":{\"padding\":\"5px 10px 0px 10px\"}},\"nodeType\":\"DOM\",\"type\":\"node\",\"instanceArgs\":{\"namespace\":\"html\",\"tag\":\"label\"},\"children\":[\"grid_k\"]}]},{\"props\":{\"className\":\"interact-flex-row-center\"},\"nodeType\":\"DOM\",\"type\":\"node\",\"instanceArgs\":{\"namespace\":\"html\",\"tag\":\"div\"},\"children\":[{\"props\":{\"max\":10,\"min\":2,\"attributes\":{\"type\":\"range\",\"data-bind\":\"numericValue: index, valueUpdate: 'input', event: {change: function (){this.changes(this.changes()+1)}}\",\"orient\":\"horizontal\"},\"step\":1,\"className\":\"slider slider is-fullwidth\",\"style\":{}},\"nodeType\":\"DOM\",\"type\":\"node\",\"instanceArgs\":{\"namespace\":\"html\",\"tag\":\"input\"},\"children\":[]}]},{\"props\":{\"className\":\"interact-flex-row-right\"},\"nodeType\":\"DOM\",\"type\":\"node\",\"instanceArgs\":{\"namespace\":\"html\",\"tag\":\"div\"},\"children\":[{\"props\":{\"attributes\":{\"data-bind\":\"text: formatted_val\"}},\"nodeType\":\"DOM\",\"type\":\"node\",\"instanceArgs\":{\"namespace\":\"html\",\"tag\":\"p\"},\"children\":[]}]}]}]}]},{\"props\":{\"className\":\"field interact-widget\"},\"nodeType\":\"DOM\",\"type\":\"node\",\"instanceArgs\":{\"namespace\":\"html\",\"tag\":\"div\"},\"children\":[{\"props\":{},\"nodeType\":\"Scope\",\"type\":\"node\",\"instanceArgs\":{\"imports\":{\"data\":[{\"name\":\"knockout\",\"type\":\"js\",\"url\":\"\\/assetserver\\/4b78a831658f9469be0fa90a874237d533cfc56e-knockout.js\"},{\"name\":\"knockout_punches\",\"type\":\"js\",\"url\":\"\\/assetserver\\/32cf81589ef7eb25886db6e5be297d237f8599ce-knockout_punches.js\"},{\"name\":null,\"type\":\"js\",\"url\":\"\\/assetserver\\/4c861182dd4c5b1a7b80754ca907d70e11c2410c-all.js\"},{\"name\":null,\"type\":\"css\",\"url\":\"\\/assetserver\\/55ec2ee389419b72c3c6088bc3fbe3d7187a5fc0-style.css\"},{\"name\":null,\"type\":\"css\",\"url\":\"\\/assetserver\\/bb71acf9697a201a164f98e5fab8a4f7b4f82041-bulma_confined.min.css\"}],\"type\":\"async_block\"},\"id\":\"2928548521688923081\",\"handlers\":{\"changes\":[\"(function (val){return (val!=this.model[\\\"changes\\\"]()) ? (this.valueFromJulia[\\\"changes\\\"]=true, this.model[\\\"changes\\\"](val)) : undefined})\"],\"index\":[\"(function (val){return (val!=this.model[\\\"index\\\"]()) ? (this.valueFromJulia[\\\"index\\\"]=true, this.model[\\\"index\\\"](val)) : undefined})\"]},\"systemjs_options\":null,\"mount_callbacks\":[\"function () {\\n    var handler = (function (ko, koPunches) {\\n    ko.punches.enableAll();\\n    ko.bindingHandlers.numericValue = {\\n        init: function(element, valueAccessor, allBindings, data, context) {\\n            var stringified = ko.observable(ko.unwrap(valueAccessor()));\\n            stringified.subscribe(function(value) {\\n                var val = parseFloat(value);\\n                if (!isNaN(val)) {\\n                    valueAccessor()(val);\\n                }\\n            });\\n            valueAccessor().subscribe(function(value) {\\n                var str = JSON.stringify(value);\\n                if ((str == \\\"0\\\") && ([\\\"-0\\\", \\\"-0.\\\"].indexOf(stringified()) >= 0))\\n                     return;\\n                 if ([\\\"null\\\", \\\"\\\"].indexOf(str) >= 0)\\n                     return;\\n                stringified(str);\\n            });\\n            ko.applyBindingsToNode(\\n                element,\\n                {\\n                    value: stringified,\\n                    valueUpdate: allBindings.get('valueUpdate'),\\n                },\\n                context,\\n            );\\n        }\\n    };\\n    var json_data = {\\\"formatted_vals\\\":[\\\"1\\\",\\\"6\\\",\\\"11\\\",\\\"16\\\",\\\"21\\\",\\\"26\\\",\\\"31\\\",\\\"36\\\",\\\"41\\\",\\\"46\\\"],\\\"changes\\\":WebIO.getval({\\\"name\\\":\\\"changes\\\",\\\"scope\\\":\\\"2928548521688923081\\\",\\\"id\\\":\\\"11040795841207543401\\\",\\\"type\\\":\\\"observable\\\"}),\\\"index\\\":WebIO.getval({\\\"name\\\":\\\"index\\\",\\\"scope\\\":\\\"2928548521688923081\\\",\\\"id\\\":\\\"7177452608964947839\\\",\\\"type\\\":\\\"observable\\\"})};\\n    var self = this;\\n    function AppViewModel() {\\n        for (var key in json_data) {\\n            var el = json_data[key];\\n            this[key] = Array.isArray(el) ? ko.observableArray(el) : ko.observable(el);\\n        }\\n        \\n        [this[\\\"formatted_val\\\"]=ko.computed(    function(){\\n        return this.formatted_vals()[parseInt(this.index())-(1)];\\n    }\\n,this)]\\n        [this[\\\"changes\\\"].subscribe((function (val){!(this.valueFromJulia[\\\"changes\\\"]) ? (WebIO.setval({\\\"name\\\":\\\"changes\\\",\\\"scope\\\":\\\"2928548521688923081\\\",\\\"id\\\":\\\"11040795841207543401\\\",\\\"type\\\":\\\"observable\\\"},val)) : undefined; return this.valueFromJulia[\\\"changes\\\"]=false}),self),this[\\\"index\\\"].subscribe((function (val){!(this.valueFromJulia[\\\"index\\\"]) ? (WebIO.setval({\\\"name\\\":\\\"index\\\",\\\"scope\\\":\\\"2928548521688923081\\\",\\\"id\\\":\\\"7177452608964947839\\\",\\\"type\\\":\\\"observable\\\"},val)) : undefined; return this.valueFromJulia[\\\"index\\\"]=false}),self)]\\n        \\n    }\\n    self.model = new AppViewModel();\\n    self.valueFromJulia = {};\\n    for (var key in json_data) {\\n        self.valueFromJulia[key] = false;\\n    }\\n    ko.applyBindings(self.model, self.dom);\\n}\\n);\\n    (WebIO.importBlock({\\\"data\\\":[{\\\"name\\\":\\\"knockout\\\",\\\"type\\\":\\\"js\\\",\\\"url\\\":\\\"\\/assetserver\\/4b78a831658f9469be0fa90a874237d533cfc56e-knockout.js\\\"},{\\\"name\\\":\\\"knockout_punches\\\",\\\"type\\\":\\\"js\\\",\\\"url\\\":\\\"\\/assetserver\\/32cf81589ef7eb25886db6e5be297d237f8599ce-knockout_punches.js\\\"}],\\\"type\\\":\\\"async_block\\\"})).then((imports) => handler.apply(this, imports));\\n}\\n\"],\"observables\":{\"changes\":{\"sync\":false,\"id\":\"11040795841207543401\",\"value\":0},\"index\":{\"sync\":true,\"id\":\"7177452608964947839\",\"value\":5}}},\"children\":[{\"props\":{\"className\":\"interact-flex-row interact-widget\"},\"nodeType\":\"DOM\",\"type\":\"node\",\"instanceArgs\":{\"namespace\":\"html\",\"tag\":\"div\"},\"children\":[{\"props\":{\"className\":\"interact-flex-row-left\"},\"nodeType\":\"DOM\",\"type\":\"node\",\"instanceArgs\":{\"namespace\":\"html\",\"tag\":\"div\"},\"children\":[{\"props\":{\"className\":\"interact \",\"style\":{\"padding\":\"5px 10px 0px 10px\"}},\"nodeType\":\"DOM\",\"type\":\"node\",\"instanceArgs\":{\"namespace\":\"html\",\"tag\":\"label\"},\"children\":[\"grid_w\"]}]},{\"props\":{\"className\":\"interact-flex-row-center\"},\"nodeType\":\"DOM\",\"type\":\"node\",\"instanceArgs\":{\"namespace\":\"html\",\"tag\":\"div\"},\"children\":[{\"props\":{\"max\":10,\"min\":1,\"attributes\":{\"type\":\"range\",\"data-bind\":\"numericValue: index, valueUpdate: 'input', event: {change: function (){this.changes(this.changes()+1)}}\",\"orient\":\"horizontal\"},\"step\":1,\"className\":\"slider slider is-fullwidth\",\"style\":{}},\"nodeType\":\"DOM\",\"type\":\"node\",\"instanceArgs\":{\"namespace\":\"html\",\"tag\":\"input\"},\"children\":[]}]},{\"props\":{\"className\":\"interact-flex-row-right\"},\"nodeType\":\"DOM\",\"type\":\"node\",\"instanceArgs\":{\"namespace\":\"html\",\"tag\":\"div\"},\"children\":[{\"props\":{\"attributes\":{\"data-bind\":\"text: formatted_val\"}},\"nodeType\":\"DOM\",\"type\":\"node\",\"instanceArgs\":{\"namespace\":\"html\",\"tag\":\"p\"},\"children\":[]}]}]}]}]},{\"props\":{\"className\":\"field interact-widget\"},\"nodeType\":\"DOM\",\"type\":\"node\",\"instanceArgs\":{\"namespace\":\"html\",\"tag\":\"div\"},\"children\":[{\"props\":{},\"nodeType\":\"Scope\",\"type\":\"node\",\"instanceArgs\":{\"imports\":{\"data\":[{\"name\":\"knockout\",\"type\":\"js\",\"url\":\"\\/assetserver\\/4b78a831658f9469be0fa90a874237d533cfc56e-knockout.js\"},{\"name\":\"knockout_punches\",\"type\":\"js\",\"url\":\"\\/assetserver\\/32cf81589ef7eb25886db6e5be297d237f8599ce-knockout_punches.js\"},{\"name\":null,\"type\":\"js\",\"url\":\"\\/assetserver\\/4c861182dd4c5b1a7b80754ca907d70e11c2410c-all.js\"},{\"name\":null,\"type\":\"css\",\"url\":\"\\/assetserver\\/55ec2ee389419b72c3c6088bc3fbe3d7187a5fc0-style.css\"},{\"name\":null,\"type\":\"css\",\"url\":\"\\/assetserver\\/bb71acf9697a201a164f98e5fab8a4f7b4f82041-bulma_confined.min.css\"}],\"type\":\"async_block\"},\"id\":\"2925215358630221232\",\"handlers\":{\"changes\":[\"(function (val){return (val!=this.model[\\\"changes\\\"]()) ? (this.valueFromJulia[\\\"changes\\\"]=true, this.model[\\\"changes\\\"](val)) : undefined})\"],\"index\":[\"(function (val){return (val!=this.model[\\\"index\\\"]()) ? (this.valueFromJulia[\\\"index\\\"]=true, this.model[\\\"index\\\"](val)) : undefined})\"]},\"systemjs_options\":null,\"mount_callbacks\":[\"function () {\\n    var handler = (function (ko, koPunches) {\\n    ko.punches.enableAll();\\n    ko.bindingHandlers.numericValue = {\\n        init: function(element, valueAccessor, allBindings, data, context) {\\n            var stringified = ko.observable(ko.unwrap(valueAccessor()));\\n            stringified.subscribe(function(value) {\\n                var val = parseFloat(value);\\n                if (!isNaN(val)) {\\n                    valueAccessor()(val);\\n                }\\n            });\\n            valueAccessor().subscribe(function(value) {\\n                var str = JSON.stringify(value);\\n                if ((str == \\\"0\\\") && ([\\\"-0\\\", \\\"-0.\\\"].indexOf(stringified()) >= 0))\\n                     return;\\n                 if ([\\\"null\\\", \\\"\\\"].indexOf(str) >= 0)\\n                     return;\\n                stringified(str);\\n            });\\n            ko.applyBindingsToNode(\\n                element,\\n                {\\n                    value: stringified,\\n                    valueUpdate: allBindings.get('valueUpdate'),\\n                },\\n                context,\\n            );\\n        }\\n    };\\n    var json_data = {\\\"formatted_vals\\\":[\\\"0.01\\\",\\\"0.12\\\",\\\"0.23\\\",\\\"0.34\\\",\\\"0.45\\\",\\\"0.56\\\",\\\"0.67\\\",\\\"0.78\\\",\\\"0.89\\\",\\\"1.0\\\"],\\\"changes\\\":WebIO.getval({\\\"name\\\":\\\"changes\\\",\\\"scope\\\":\\\"2925215358630221232\\\",\\\"id\\\":\\\"2830025736425862510\\\",\\\"type\\\":\\\"observable\\\"}),\\\"index\\\":WebIO.getval({\\\"name\\\":\\\"index\\\",\\\"scope\\\":\\\"2925215358630221232\\\",\\\"id\\\":\\\"10249383898199816129\\\",\\\"type\\\":\\\"observable\\\"})};\\n    var self = this;\\n    function AppViewModel() {\\n        for (var key in json_data) {\\n            var el = json_data[key];\\n            this[key] = Array.isArray(el) ? ko.observableArray(el) : ko.observable(el);\\n        }\\n        \\n        [this[\\\"formatted_val\\\"]=ko.computed(    function(){\\n        return this.formatted_vals()[parseInt(this.index())-(1)];\\n    }\\n,this)]\\n        [this[\\\"changes\\\"].subscribe((function (val){!(this.valueFromJulia[\\\"changes\\\"]) ? (WebIO.setval({\\\"name\\\":\\\"changes\\\",\\\"scope\\\":\\\"2925215358630221232\\\",\\\"id\\\":\\\"2830025736425862510\\\",\\\"type\\\":\\\"observable\\\"},val)) : undefined; return this.valueFromJulia[\\\"changes\\\"]=false}),self),this[\\\"index\\\"].subscribe((function (val){!(this.valueFromJulia[\\\"index\\\"]) ? (WebIO.setval({\\\"name\\\":\\\"index\\\",\\\"scope\\\":\\\"2925215358630221232\\\",\\\"id\\\":\\\"10249383898199816129\\\",\\\"type\\\":\\\"observable\\\"},val)) : undefined; return this.valueFromJulia[\\\"index\\\"]=false}),self)]\\n        \\n    }\\n    self.model = new AppViewModel();\\n    self.valueFromJulia = {};\\n    for (var key in json_data) {\\n        self.valueFromJulia[key] = false;\\n    }\\n    ko.applyBindings(self.model, self.dom);\\n}\\n);\\n    (WebIO.importBlock({\\\"data\\\":[{\\\"name\\\":\\\"knockout\\\",\\\"type\\\":\\\"js\\\",\\\"url\\\":\\\"\\/assetserver\\/4b78a831658f9469be0fa90a874237d533cfc56e-knockout.js\\\"},{\\\"name\\\":\\\"knockout_punches\\\",\\\"type\\\":\\\"js\\\",\\\"url\\\":\\\"\\/assetserver\\/32cf81589ef7eb25886db6e5be297d237f8599ce-knockout_punches.js\\\"}],\\\"type\\\":\\\"async_block\\\"})).then((imports) => handler.apply(this, imports));\\n}\\n\"],\"observables\":{\"changes\":{\"sync\":false,\"id\":\"2830025736425862510\",\"value\":0},\"index\":{\"sync\":true,\"id\":\"10249383898199816129\",\"value\":5}}},\"children\":[{\"props\":{\"className\":\"interact-flex-row interact-widget\"},\"nodeType\":\"DOM\",\"type\":\"node\",\"instanceArgs\":{\"namespace\":\"html\",\"tag\":\"div\"},\"children\":[{\"props\":{\"className\":\"interact-flex-row-left\"},\"nodeType\":\"DOM\",\"type\":\"node\",\"instanceArgs\":{\"namespace\":\"html\",\"tag\":\"div\"},\"children\":[{\"props\":{\"className\":\"interact \",\"style\":{\"padding\":\"5px 10px 0px 10px\"}},\"nodeType\":\"DOM\",\"type\":\"node\",\"instanceArgs\":{\"namespace\":\"html\",\"tag\":\"label\"},\"children\":[\"grid_s_noise\"]}]},{\"props\":{\"className\":\"interact-flex-row-center\"},\"nodeType\":\"DOM\",\"type\":\"node\",\"instanceArgs\":{\"namespace\":\"html\",\"tag\":\"div\"},\"children\":[{\"props\":{\"max\":10,\"min\":1,\"attributes\":{\"type\":\"range\",\"data-bind\":\"numericValue: index, valueUpdate: 'input', event: {change: function (){this.changes(this.changes()+1)}}\",\"orient\":\"horizontal\"},\"step\":1,\"className\":\"slider slider is-fullwidth\",\"style\":{}},\"nodeType\":\"DOM\",\"type\":\"node\",\"instanceArgs\":{\"namespace\":\"html\",\"tag\":\"input\"},\"children\":[]}]},{\"props\":{\"className\":\"interact-flex-row-right\"},\"nodeType\":\"DOM\",\"type\":\"node\",\"instanceArgs\":{\"namespace\":\"html\",\"tag\":\"div\"},\"children\":[{\"props\":{\"attributes\":{\"data-bind\":\"text: formatted_val\"}},\"nodeType\":\"DOM\",\"type\":\"node\",\"instanceArgs\":{\"namespace\":\"html\",\"tag\":\"p\"},\"children\":[]}]}]}]}]},{\"props\":{},\"nodeType\":\"Scope\",\"type\":\"node\",\"instanceArgs\":{\"imports\":{\"data\":[],\"type\":\"async_block\"},\"id\":\"3443323325010981151\",\"handlers\":{},\"systemjs_options\":null,\"mount_callbacks\":[],\"observables\":{\"obs-node\":{\"sync\":false,\"id\":\"10607884457020739938\",\"value\":{\"props\":{\"className\":\"interact-flex-row interact-widget\"},\"nodeType\":\"DOM\",\"type\":\"node\",\"instanceArgs\":{\"namespace\":\"html\",\"tag\":\"div\"},\"children\":[{\"props\":{\"setInnerHtml\":\"<img src=\\\"data:image\\/gif;base64,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\\\" \\/>\"},\"nodeType\":\"DOM\",\"type\":\"node\",\"instanceArgs\":{\"namespace\":\"html\",\"tag\":\"div\"},\"children\":[]}]}}}},\"children\":[{\"props\":{},\"nodeType\":\"ObservableNode\",\"type\":\"node\",\"instanceArgs\":{\"id\":\"10607884457020739938\",\"name\":\"obs-node\"},\"children\":[]}]}]},\n",
       "        window,\n",
       "    );\n",
       "    })()\n",
       "    </script>\n",
       "</div>\n"
      ],
      "text/plain": [
       "Node{WebIO.DOM}(WebIO.DOM(:html, :div), Any[Node{WebIO.DOM}(WebIO.DOM(:html, :div), Any[Scope(Node{WebIO.DOM}(WebIO.DOM(:html, :div), Any[Node{WebIO.DOM}(WebIO.DOM(:html, :div), Any[Node{WebIO.DOM}(WebIO.DOM(:html, :label), Any[\"n\"], Dict{Symbol, Any}(:className => \"interact \", :style => Dict{Any, Any}(:padding => \"5px 10px 0px 10px\")))], Dict{Symbol, Any}(:className => \"interact-flex-row-left\")), Node{WebIO.DOM}(WebIO.DOM(:html, :div), Any[Node{WebIO.DOM}(WebIO.DOM(:html, :input), Any[], Dict{Symbol, Any}(:max => 3, :min => 1, :attributes => Dict{Any, Any}(:type => \"range\", Symbol(\"data-bind\") => \"numericValue: index, valueUpdate: 'input', event: {change: function (){this.changes(this.changes()+1)}}\", \"orient\" => \"horizontal\"), :step => 1, :className => \"slider slider is-fullwidth\", :style => Dict{Any, Any}()))], Dict{Symbol, Any}(:className => \"interact-flex-row-center\")), Node{WebIO.DOM}(WebIO.DOM(:html, :div), Any[Node{WebIO.DOM}(WebIO.DOM(:html, :p), Any[], Dict{Symbol, Any}(:attributes => Dict(\"data-bind\" => \"text: formatted_val\")))], Dict{Symbol, Any}(:className => \"interact-flex-row-right\"))], Dict{Symbol, Any}(:className => \"interact-flex-row interact-widget\")), Dict{String, Tuple{AbstractObservable, Union{Nothing, Bool}}}(\"changes\" => (Observable(0), nothing), \"index\" => (Observable{Any}(1), nothing)), Set{String}(), nothing, Asset[Asset(\"js\", \"knockout\", \"/home/ubuntu/.julia/packages/Knockout/HReiN/src/../assets/knockout.js\"), Asset(\"js\", \"knockout_punches\", \"/home/ubuntu/.julia/packages/Knockout/HReiN/src/../assets/knockout_punches.js\"), Asset(\"js\", nothing, \"/home/ubuntu/.julia/packages/InteractBase/Qhvxg/src/../assets/all.js\"), Asset(\"css\", nothing, \"/home/ubuntu/.julia/packages/InteractBase/Qhvxg/src/../assets/style.css\"), Asset(\"css\", nothing, \"/home/ubuntu/.julia/packages/Interact/PENUy/src/../assets/bulma_confined.min.css\")], Dict{Any, Any}(\"changes\" => Any[WebIO.JSString(\"(function (val){return (val!=this.model[\\\"changes\\\"]()) ? (this.valueFromJulia[\\\"changes\\\"]=true, this.model[\\\"changes\\\"](val)) : undefined})\")], \"index\" => Any[WebIO.JSString(\"(function (val){return (val!=this.model[\\\"index\\\"]()) ? (this.valueFromJulia[\\\"index\\\"]=true, this.model[\\\"index\\\"](val)) : undefined})\")]), WebIO.ConnectionPool(Channel{Any}(32), Set{AbstractConnection}(), Condition(Base.InvasiveLinkedList{Task}(Task (runnable) @0x00007f5c897e85d0, Task (runnable) @0x00007f5c897e85d0), Base.AlwaysLockedST(1))), WebIO.JSString[WebIO.JSString(\"function () {\\n    var handler = (function (ko, koPunches) {\\n    ko.punches.enableAll();\\n    ko.bindingHandlers.numericValue = {\\n        init: function(element, valueAccessor, allBindings, data, context) {\\n            var stringified = ko.observable(ko.unwrap(valueAccessor()));\\n            stringified.subscribe(function(value) {\\n                var val = parseFloat(value);\\n                if (!isNaN(val)) {\\n                    valueAccessor()(val);\\n                }\\n            });\\n            valueAccessor().subscribe(function(value) {\\n                var str = JSON.stringify(value);\\n                if ((str == \\\"0\\\") && ([\\\"-0\\\", \\\"-0.\\\"].indexOf(stringified()) >= 0))\\n                     return;\\n                 if ([\\\"null\\\", \\\"\\\"].indexOf(str) >= 0)\\n                     return;\\n                stringified(str);\\n            });\\n            ko.applyBindingsToNode(\\n                element,\\n                {\\n                    value: stringified,\\n                    valueUpdate: allBindings.get('valueUpdate'),\\n                },\\n                context,\\n            );\\n        }\\n    };\\n    var json_data = {\\\"formatted_vals\\\":[\\\"1\\\",\\\"21\\\",\\\"41\\\"],\\\"changes\\\":WebIO.getval({\\\"name\\\":\\\"changes\\\",\\\"scope\\\":\\\"16385328324342212876\\\",\\\"id\\\":\\\"6134814117290500317\\\",\\\"type\\\":\\\"observable\\\"}),\\\"index\\\":WebIO.getval({\\\"name\\\":\\\"index\\\",\\\"scope\\\":\\\"16385328324342212876\\\",\\\"id\\\":\\\"12004230819449100993\\\",\\\"type\\\":\\\"observable\\\"})};\\n    var self = this;\\n    function AppViewModel() {\\n        for (var key in json_data) {\\n            var el = json_data[key];\\n            this[key] = Array.isArray(el) ? ko.observableArray(el) : ko.observable(el);\\n        }\\n        \\n        [this[\\\"formatted_val\\\"]=ko.computed(    function(){\\n        return this.formatted_vals()[parseInt(this.index())-(1)];\\n    }\\n,this)]\\n        [this[\\\"changes\\\"].subscribe((function (val){!(this.valueFromJulia[\\\"changes\\\"]) ? (WebIO.setval({\\\"name\\\":\\\"changes\\\",\\\"scope\\\":\\\"16385328324342212876\\\",\\\"id\\\":\\\"6134814117290500317\\\",\\\"type\\\":\\\"observable\\\"},val)) : undefined; return this.valueFromJulia[\\\"changes\\\"]=false}),self),this[\\\"index\\\"].subscribe((function (val){!(this.valueFromJulia[\\\"index\\\"]) ? (WebIO.setval({\\\"name\\\":\\\"index\\\",\\\"scope\\\":\\\"16385328324342212876\\\",\\\"id\\\":\\\"12004230819449100993\\\",\\\"type\\\":\\\"observable\\\"},val)) : undefined; return this.valueFromJulia[\\\"index\\\"]=false}),self)]\\n        \\n    }\\n    self.model = new AppViewModel();\\n    self.valueFromJulia = {};\\n    for (var key in json_data) {\\n        self.valueFromJulia[key] = false;\\n    }\\n    ko.applyBindings(self.model, self.dom);\\n}\\n);\\n    (WebIO.importBlock({\\\"data\\\":[{\\\"name\\\":\\\"knockout\\\",\\\"type\\\":\\\"js\\\",\\\"url\\\":\\\"/assetserver/4b78a831658f9469be0fa90a874237d533cfc56e-knockout.js\\\"},{\\\"name\\\":\\\"knockout_punches\\\",\\\"type\\\":\\\"js\\\",\\\"url\\\":\\\"/assetserver/32cf81589ef7eb25886db6e5be297d237f8599ce-knockout_punches.js\\\"}],\\\"type\\\":\\\"async_block\\\"})).then((imports) => handler.apply(this, imports));\\n}\\n\")])], Dict{Symbol, Any}(:className => \"field interact-widget\")), Node{WebIO.DOM}(WebIO.DOM(:html, :div), Any[Scope(Node{WebIO.DOM}(WebIO.DOM(:html, :div), Any[Node{WebIO.DOM}(WebIO.DOM(:html, :div), Any[Node{WebIO.DOM}(WebIO.DOM(:html, :label), Any[\"T\"], Dict{Symbol, Any}(:className => \"interact \", :style => Dict{Any, Any}(:padding => \"5px 10px 0px 10px\")))], Dict{Symbol, Any}(:className => \"interact-flex-row-left\")), Node{WebIO.DOM}(WebIO.DOM(:html, :div), Any[Node{WebIO.DOM}(WebIO.DOM(:html, :input), Any[], Dict{Symbol, Any}(:max => 20, :min => 5, :attributes => Dict{Any, Any}(:type => \"range\", Symbol(\"data-bind\") => \"numericValue: index, valueUpdate: 'input', event: {change: function (){this.changes(this.changes()+1)}}\", \"orient\" => \"horizontal\"), :step => 1, :className => \"slider slider is-fullwidth\", :style => Dict{Any, Any}()))], Dict{Symbol, Any}(:className => \"interact-flex-row-center\")), Node{WebIO.DOM}(WebIO.DOM(:html, :div), Any[Node{WebIO.DOM}(WebIO.DOM(:html, :p), Any[], Dict{Symbol, Any}(:attributes => Dict(\"data-bind\" => \"text: formatted_val\")))], Dict{Symbol, Any}(:className => \"interact-flex-row-right\"))], Dict{Symbol, Any}(:className => \"interact-flex-row interact-widget\")), Dict{String, Tuple{AbstractObservable, Union{Nothing, Bool}}}(\"changes\" => (Observable(0), nothing), \"index\" => (Observable(12), nothing)), Set{String}(), nothing, Asset[Asset(\"js\", \"knockout\", \"/home/ubuntu/.julia/packages/Knockout/HReiN/src/../assets/knockout.js\"), Asset(\"js\", \"knockout_punches\", \"/home/ubuntu/.julia/packages/Knockout/HReiN/src/../assets/knockout_punches.js\"), Asset(\"js\", nothing, \"/home/ubuntu/.julia/packages/InteractBase/Qhvxg/src/../assets/all.js\"), Asset(\"css\", nothing, \"/home/ubuntu/.julia/packages/InteractBase/Qhvxg/src/../assets/style.css\"), Asset(\"css\", nothing, \"/home/ubuntu/.julia/packages/Interact/PENUy/src/../assets/bulma_confined.min.css\")], Dict{Any, Any}(\"changes\" => Any[WebIO.JSString(\"(function (val){return (val!=this.model[\\\"changes\\\"]()) ? (this.valueFromJulia[\\\"changes\\\"]=true, this.model[\\\"changes\\\"](val)) : undefined})\")], \"index\" => Any[WebIO.JSString(\"(function (val){return (val!=this.model[\\\"index\\\"]()) ? (this.valueFromJulia[\\\"index\\\"]=true, this.model[\\\"index\\\"](val)) : undefined})\")]), WebIO.ConnectionPool(Channel{Any}(32), Set{AbstractConnection}(), Condition(Base.InvasiveLinkedList{Task}(Task (runnable) @0x00007f5c897e8a20, Task (runnable) @0x00007f5c897e8a20), Base.AlwaysLockedST(1))), WebIO.JSString[WebIO.JSString(\"function () {\\n    var handler = (function (ko, koPunches) {\\n    ko.punches.enableAll();\\n    ko.bindingHandlers.numericValue = {\\n        init: function(element, valueAccessor, allBindings, data, context) {\\n            var stringified = ko.observable(ko.unwrap(valueAccessor()));\\n            stringified.subscribe(function(value) {\\n                var val = parseFloat(value);\\n                if (!isNaN(val)) {\\n                    valueAccessor()(val);\\n                }\\n            });\\n            valueAccessor().subscribe(function(value) {\\n                var str = JSON.stringify(value);\\n                if ((str == \\\"0\\\") && ([\\\"-0\\\", \\\"-0.\\\"].indexOf(stringified()) >= 0))\\n                     return;\\n                 if ([\\\"null\\\", \\\"\\\"].indexOf(str) >= 0)\\n                     return;\\n                stringified(str);\\n            });\\n            ko.applyBindingsToNode(\\n                element,\\n                {\\n                    value: stringified,\\n                    valueUpdate: allBindings.get('valueUpdate'),\\n                },\\n                context,\\n            );\\n        }\\n    };\\n    var json_data = {\\\"formatted_vals\\\":[\\\"5\\\",\\\"6\\\",\\\"7\\\",\\\"8\\\",\\\"9\\\",\\\"10\\\",\\\"11\\\",\\\"12\\\",\\\"13\\\",\\\"14\\\",\\\"15\\\",\\\"16\\\",\\\"17\\\",\\\"18\\\",\\\"19\\\",\\\"20\\\"],\\\"changes\\\":WebIO.getval({\\\"name\\\":\\\"changes\\\",\\\"scope\\\":\\\"1478858329027725300\\\",\\\"id\\\":\\\"3222589582879499564\\\",\\\"type\\\":\\\"observable\\\"}),\\\"index\\\":WebIO.getval({\\\"name\\\":\\\"index\\\",\\\"scope\\\":\\\"1478858329027725300\\\",\\\"id\\\":\\\"17180665068616041524\\\",\\\"type\\\":\\\"observable\\\"})};\\n    var self = this;\\n    function AppViewModel() {\\n        for (var key in json_data) {\\n            var el = json_data[key];\\n            this[key] = Array.isArray(el) ? ko.observableArray(el) : ko.observable(el);\\n        }\\n        \\n        [this[\\\"formatted_val\\\"]=ko.computed(    function(){\\n        return this.formatted_vals()[parseInt(this.index())-(5)];\\n    }\\n,this)]\\n        [this[\\\"changes\\\"].subscribe((function (val){!(this.valueFromJulia[\\\"changes\\\"]) ? (WebIO.setval({\\\"name\\\":\\\"changes\\\",\\\"scope\\\":\\\"1478858329027725300\\\",\\\"id\\\":\\\"3222589582879499564\\\",\\\"type\\\":\\\"observable\\\"},val)) : undefined; return this.valueFromJulia[\\\"changes\\\"]=false}),self),this[\\\"index\\\"].subscribe((function (val){!(this.valueFromJulia[\\\"index\\\"]) ? (WebIO.setval({\\\"name\\\":\\\"index\\\",\\\"scope\\\":\\\"1478858329027725300\\\",\\\"id\\\":\\\"17180665068616041524\\\",\\\"type\\\":\\\"observable\\\"},val)) : undefined; return this.valueFromJulia[\\\"index\\\"]=false}),self)]\\n        \\n    }\\n    self.model = new AppViewModel();\\n    self.valueFromJulia = {};\\n    for (var key in json_data) {\\n        self.valueFromJulia[key] = false;\\n    }\\n    ko.applyBindings(self.model, self.dom);\\n}\\n);\\n    (WebIO.importBlock({\\\"data\\\":[{\\\"name\\\":\\\"knockout\\\",\\\"type\\\":\\\"js\\\",\\\"url\\\":\\\"/assetserver/4b78a831658f9469be0fa90a874237d533cfc56e-knockout.js\\\"},{\\\"name\\\":\\\"knockout_punches\\\",\\\"type\\\":\\\"js\\\",\\\"url\\\":\\\"/assetserver/32cf81589ef7eb25886db6e5be297d237f8599ce-knockout_punches.js\\\"}],\\\"type\\\":\\\"async_block\\\"})).then((imports) => handler.apply(this, imports));\\n}\\n\")])], Dict{Symbol, Any}(:className => \"field interact-widget\")), Node{WebIO.DOM}(WebIO.DOM(:html, :div), Any[Scope(Node{WebIO.DOM}(WebIO.DOM(:html, :div), Any[Node{WebIO.DOM}(WebIO.DOM(:html, :div), Any[Node{WebIO.DOM}(WebIO.DOM(:html, :label), Any[\"N\"], Dict{Symbol, Any}(:className => \"interact \", :style => Dict{Any, Any}(:padding => \"5px 10px 0px 10px\")))], Dict{Symbol, Any}(:className => \"interact-flex-row-left\")), Node{WebIO.DOM}(WebIO.DOM(:html, :div), Any[Node{WebIO.DOM}(WebIO.DOM(:html, :input), Any[], Dict{Symbol, Any}(:max => 5, :min => 1, :attributes => Dict{Any, Any}(:type => \"range\", Symbol(\"data-bind\") => \"numericValue: index, valueUpdate: 'input', event: {change: function (){this.changes(this.changes()+1)}}\", \"orient\" => \"horizontal\"), :step => 1, :className => \"slider slider is-fullwidth\", :style => Dict{Any, Any}()))], Dict{Symbol, Any}(:className => \"interact-flex-row-center\")), Node{WebIO.DOM}(WebIO.DOM(:html, :div), Any[Node{WebIO.DOM}(WebIO.DOM(:html, :p), Any[], Dict{Symbol, Any}(:attributes => Dict(\"data-bind\" => \"text: formatted_val\")))], Dict{Symbol, Any}(:className => \"interact-flex-row-right\"))], Dict{Symbol, Any}(:className => \"interact-flex-row interact-widget\")), Dict{String, Tuple{AbstractObservable, Union{Nothing, Bool}}}(\"changes\" => (Observable(0), nothing), \"index\" => (Observable{Any}(1), nothing)), Set{String}(), nothing, Asset[Asset(\"js\", \"knockout\", \"/home/ubuntu/.julia/packages/Knockout/HReiN/src/../assets/knockout.js\"), Asset(\"js\", \"knockout_punches\", \"/home/ubuntu/.julia/packages/Knockout/HReiN/src/../assets/knockout_punches.js\"), Asset(\"js\", nothing, \"/home/ubuntu/.julia/packages/InteractBase/Qhvxg/src/../assets/all.js\"), Asset(\"css\", nothing, \"/home/ubuntu/.julia/packages/InteractBase/Qhvxg/src/../assets/style.css\"), Asset(\"css\", nothing, \"/home/ubuntu/.julia/packages/Interact/PENUy/src/../assets/bulma_confined.min.css\")], Dict{Any, Any}(\"changes\" => Any[WebIO.JSString(\"(function (val){return (val!=this.model[\\\"changes\\\"]()) ? (this.valueFromJulia[\\\"changes\\\"]=true, this.model[\\\"changes\\\"](val)) : undefined})\")], \"index\" => Any[WebIO.JSString(\"(function (val){return (val!=this.model[\\\"index\\\"]()) ? (this.valueFromJulia[\\\"index\\\"]=true, this.model[\\\"index\\\"](val)) : undefined})\")]), WebIO.ConnectionPool(Channel{Any}(32), Set{AbstractConnection}(), Condition(Base.InvasiveLinkedList{Task}(Task (runnable) @0x00007f5c897e8e70, Task (runnable) @0x00007f5c897e8e70), Base.AlwaysLockedST(1))), WebIO.JSString[WebIO.JSString(\"function () {\\n    var handler = (function (ko, koPunches) {\\n    ko.punches.enableAll();\\n    ko.bindingHandlers.numericValue = {\\n        init: function(element, valueAccessor, allBindings, data, context) {\\n            var stringified = ko.observable(ko.unwrap(valueAccessor()));\\n            stringified.subscribe(function(value) {\\n                var val = parseFloat(value);\\n                if (!isNaN(val)) {\\n                    valueAccessor()(val);\\n                }\\n            });\\n            valueAccessor().subscribe(function(value) {\\n                var str = JSON.stringify(value);\\n                if ((str == \\\"0\\\") && ([\\\"-0\\\", \\\"-0.\\\"].indexOf(stringified()) >= 0))\\n                     return;\\n                 if ([\\\"null\\\", \\\"\\\"].indexOf(str) >= 0)\\n                     return;\\n                stringified(str);\\n            });\\n            ko.applyBindingsToNode(\\n                element,\\n                {\\n                    value: stringified,\\n                    valueUpdate: allBindings.get('valueUpdate'),\\n                },\\n                context,\\n            );\\n        }\\n    };\\n    var json_data = {\\\"formatted_vals\\\":[\\\"1\\\",\\\"51\\\",\\\"101\\\",\\\"151\\\",\\\"201\\\"],\\\"changes\\\":WebIO.getval({\\\"name\\\":\\\"changes\\\",\\\"scope\\\":\\\"1627845131073083714\\\",\\\"id\\\":\\\"15513433893230360505\\\",\\\"type\\\":\\\"observable\\\"}),\\\"index\\\":WebIO.getval({\\\"name\\\":\\\"index\\\",\\\"scope\\\":\\\"1627845131073083714\\\",\\\"id\\\":\\\"5200263741161125602\\\",\\\"type\\\":\\\"observable\\\"})};\\n    var self = this;\\n    function AppViewModel() {\\n        for (var key in json_data) {\\n            var el = json_data[key];\\n            this[key] = Array.isArray(el) ? ko.observableArray(el) : ko.observable(el);\\n        }\\n        \\n        [this[\\\"formatted_val\\\"]=ko.computed(    function(){\\n        return this.formatted_vals()[parseInt(this.index())-(1)];\\n    }\\n,this)]\\n        [this[\\\"changes\\\"].subscribe((function (val){!(this.valueFromJulia[\\\"changes\\\"]) ? (WebIO.setval({\\\"name\\\":\\\"changes\\\",\\\"scope\\\":\\\"1627845131073083714\\\",\\\"id\\\":\\\"15513433893230360505\\\",\\\"type\\\":\\\"observable\\\"},val)) : undefined; return this.valueFromJulia[\\\"changes\\\"]=false}),self),this[\\\"index\\\"].subscribe((function (val){!(this.valueFromJulia[\\\"index\\\"]) ? (WebIO.setval({\\\"name\\\":\\\"index\\\",\\\"scope\\\":\\\"1627845131073083714\\\",\\\"id\\\":\\\"5200263741161125602\\\",\\\"type\\\":\\\"observable\\\"},val)) : undefined; return this.valueFromJulia[\\\"index\\\"]=false}),self)]\\n        \\n    }\\n    self.model = new AppViewModel();\\n    self.valueFromJulia = {};\\n    for (var key in json_data) {\\n        self.valueFromJulia[key] = false;\\n    }\\n    ko.applyBindings(self.model, self.dom);\\n}\\n);\\n    (WebIO.importBlock({\\\"data\\\":[{\\\"name\\\":\\\"knockout\\\",\\\"type\\\":\\\"js\\\",\\\"url\\\":\\\"/assetserver/4b78a831658f9469be0fa90a874237d533cfc56e-knockout.js\\\"},{\\\"name\\\":\\\"knockout_punches\\\",\\\"type\\\":\\\"js\\\",\\\"url\\\":\\\"/assetserver/32cf81589ef7eb25886db6e5be297d237f8599ce-knockout_punches.js\\\"}],\\\"type\\\":\\\"async_block\\\"})).then((imports) => handler.apply(this, imports));\\n}\\n\")])], Dict{Symbol, Any}(:className => \"field interact-widget\")), Node{WebIO.DOM}(WebIO.DOM(:html, :div), Any[Scope(Node{WebIO.DOM}(WebIO.DOM(:html, :div), Any[Node{WebIO.DOM}(WebIO.DOM(:html, :div), Any[Node{WebIO.DOM}(WebIO.DOM(:html, :label), Any[\"show_u\"], Dict{Symbol, Any}(:className => \"interact \", :style => Dict{Any, Any}(:padding => \"5px 10px 0px 10px\")))], Dict{Symbol, Any}(:className => \"interact-flex-row-left\")), Node{WebIO.DOM}(WebIO.DOM(:html, :div), Any[Node{WebIO.DOM}(WebIO.DOM(:html, :div), Any[Node{WebIO.DOM}(WebIO.DOM(:html, :span), Any[Node{WebIO.DOM}(WebIO.DOM(:html, :label), Any[], Dict{Symbol, Any}(:attributes => Dict(\"data-bind\" => \"text : key\")))], Dict{Symbol, Any}(:attributes => Dict(\"data-bind\" => \"click: function (){\\$root.update(val)}, css: {'is-primary is-selected' : \\$root.index() == val, 'interact-widget is-medium button ' : true}\")))], Dict{Symbol, Any}(:attributes => (\"data-bind\" => \"foreach : options_js\"), :className => \"buttons has-addons is-centered\"))], Dict{Symbol, Any}(:className => \"interact-flex-row-center\")), Node{WebIO.DOM}(WebIO.DOM(:html, :div), Any[Node{WebIO.DOM}(WebIO.DOM(:html, :div), Any[], Dict{Symbol, Any}())], Dict{Symbol, Any}(:className => \"interact-flex-row-right\"))], Dict{Symbol, Any}(:className => \"interact-flex-row interact-widget\")), Dict{String, Tuple{AbstractObservable, Union{Nothing, Bool}}}(\"options_js\" => (Observable(OrderedDict[OrderedDict{String, Any}(\"key\" => \"false\", \"val\" => 1, \"id\" => \"id6oJyY6RY\"), OrderedDict{String, Any}(\"key\" => \"true\", \"val\" => 2, \"id\" => \"idEBwno6Gh\")]), nothing), \"index\" => (Observable{Any}(1), nothing)), Set{String}(), nothing, Asset[Asset(\"js\", \"knockout\", \"/home/ubuntu/.julia/packages/Knockout/HReiN/src/../assets/knockout.js\"), Asset(\"js\", \"knockout_punches\", \"/home/ubuntu/.julia/packages/Knockout/HReiN/src/../assets/knockout_punches.js\"), Asset(\"js\", nothing, \"/home/ubuntu/.julia/packages/InteractBase/Qhvxg/src/../assets/all.js\"), Asset(\"css\", nothing, \"/home/ubuntu/.julia/packages/InteractBase/Qhvxg/src/../assets/style.css\"), Asset(\"css\", nothing, \"/home/ubuntu/.julia/packages/Interact/PENUy/src/../assets/bulma_confined.min.css\")], Dict{Any, Any}(\"options_js\" => Any[WebIO.JSString(\"(function (val){return (val!=this.model[\\\"options_js\\\"]()) ? (this.valueFromJulia[\\\"options_js\\\"]=true, this.model[\\\"options_js\\\"](val)) : undefined})\")], \"index\" => Any[WebIO.JSString(\"(function (val){return (val!=this.model[\\\"index\\\"]()) ? (this.valueFromJulia[\\\"index\\\"]=true, this.model[\\\"index\\\"](val)) : undefined})\")]), WebIO.ConnectionPool(Channel{Any}(32), Set{AbstractConnection}(), Condition(Base.InvasiveLinkedList{Task}(Task (runnable) @0x00007f5c897e9150, Task (runnable) @0x00007f5c897e9150), Base.AlwaysLockedST(1))), WebIO.JSString[WebIO.JSString(\"function () {\\n    var handler = (function (ko, koPunches) {\\n    ko.punches.enableAll();\\n    ko.bindingHandlers.numericValue = {\\n        init: function(element, valueAccessor, allBindings, data, context) {\\n            var stringified = ko.observable(ko.unwrap(valueAccessor()));\\n            stringified.subscribe(function(value) {\\n                var val = parseFloat(value);\\n                if (!isNaN(val)) {\\n                    valueAccessor()(val);\\n                }\\n            });\\n            valueAccessor().subscribe(function(value) {\\n                var str = JSON.stringify(value);\\n                if ((str == \\\"0\\\") && ([\\\"-0\\\", \\\"-0.\\\"].indexOf(stringified()) >= 0))\\n                     return;\\n                 if ([\\\"null\\\", \\\"\\\"].indexOf(str) >= 0)\\n                     return;\\n                stringified(str);\\n            });\\n            ko.applyBindingsToNode(\\n                element,\\n                {\\n                    value: stringified,\\n                    valueUpdate: allBindings.get('valueUpdate'),\\n                },\\n                context,\\n            );\\n        }\\n    };\\n    var json_data = {\\\"options_js\\\":WebIO.getval({\\\"name\\\":\\\"options_js\\\",\\\"scope\\\":\\\"14631260428548808978\\\",\\\"id\\\":\\\"3209249045069274140\\\",\\\"type\\\":\\\"observable\\\"}),\\\"index\\\":WebIO.getval({\\\"name\\\":\\\"index\\\",\\\"scope\\\":\\\"14631260428548808978\\\",\\\"id\\\":\\\"14810485808273590835\\\",\\\"type\\\":\\\"observable\\\"})};\\n    var self = this;\\n    function AppViewModel() {\\n        for (var key in json_data) {\\n            var el = json_data[key];\\n            this[key] = Array.isArray(el) ? ko.observableArray(el) : ko.observable(el);\\n        }\\n        [this[\\\"update\\\"]=function (val) {this.index(val)}]\\n        \\n        [this[\\\"options_js\\\"].subscribe((function (val){!(this.valueFromJulia[\\\"options_js\\\"]) ? (WebIO.setval({\\\"name\\\":\\\"options_js\\\",\\\"scope\\\":\\\"14631260428548808978\\\",\\\"id\\\":\\\"3209249045069274140\\\",\\\"type\\\":\\\"observable\\\"},val)) : undefined; return this.valueFromJulia[\\\"options_js\\\"]=false}),self),this[\\\"index\\\"].subscribe((function (val){!(this.valueFromJulia[\\\"index\\\"]) ? (WebIO.setval({\\\"name\\\":\\\"index\\\",\\\"scope\\\":\\\"14631260428548808978\\\",\\\"id\\\":\\\"14810485808273590835\\\",\\\"type\\\":\\\"observable\\\"},val)) : undefined; return this.valueFromJulia[\\\"index\\\"]=false}),self)]\\n        \\n    }\\n    self.model = new AppViewModel();\\n    self.valueFromJulia = {};\\n    for (var key in json_data) {\\n        self.valueFromJulia[key] = false;\\n    }\\n    ko.applyBindings(self.model, self.dom);\\n}\\n);\\n    (WebIO.importBlock({\\\"data\\\":[{\\\"name\\\":\\\"knockout\\\",\\\"type\\\":\\\"js\\\",\\\"url\\\":\\\"/assetserver/4b78a831658f9469be0fa90a874237d533cfc56e-knockout.js\\\"},{\\\"name\\\":\\\"knockout_punches\\\",\\\"type\\\":\\\"js\\\",\\\"url\\\":\\\"/assetserver/32cf81589ef7eb25886db6e5be297d237f8599ce-knockout_punches.js\\\"}],\\\"type\\\":\\\"async_block\\\"})).then((imports) => handler.apply(this, imports));\\n}\\n\")])], Dict{Symbol, Any}(:className => \"interact-widget\")), Node{WebIO.DOM}(WebIO.DOM(:html, :div), Any[Scope(Node{WebIO.DOM}(WebIO.DOM(:html, :div), Any[Node{WebIO.DOM}(WebIO.DOM(:html, :div), Any[Node{WebIO.DOM}(WebIO.DOM(:html, :label), Any[\"show_x\"], Dict{Symbol, Any}(:className => \"interact \", :style => Dict{Any, Any}(:padding => \"5px 10px 0px 10px\")))], Dict{Symbol, Any}(:className => \"interact-flex-row-left\")), Node{WebIO.DOM}(WebIO.DOM(:html, :div), Any[Node{WebIO.DOM}(WebIO.DOM(:html, :div), Any[Node{WebIO.DOM}(WebIO.DOM(:html, :span), Any[Node{WebIO.DOM}(WebIO.DOM(:html, :label), Any[], Dict{Symbol, Any}(:attributes => Dict(\"data-bind\" => \"text : key\")))], Dict{Symbol, Any}(:attributes => Dict(\"data-bind\" => \"click: function (){\\$root.update(val)}, css: {'is-primary is-selected' : \\$root.index() == val, 'interact-widget is-medium button ' : true}\")))], Dict{Symbol, Any}(:attributes => (\"data-bind\" => \"foreach : options_js\"), :className => \"buttons has-addons is-centered\"))], Dict{Symbol, Any}(:className => \"interact-flex-row-center\")), Node{WebIO.DOM}(WebIO.DOM(:html, :div), Any[Node{WebIO.DOM}(WebIO.DOM(:html, :div), Any[], Dict{Symbol, Any}())], Dict{Symbol, Any}(:className => \"interact-flex-row-right\"))], Dict{Symbol, Any}(:className => \"interact-flex-row interact-widget\")), Dict{String, Tuple{AbstractObservable, Union{Nothing, Bool}}}(\"options_js\" => (Observable(OrderedDict[OrderedDict{String, Any}(\"key\" => \"false\", \"val\" => 1, \"id\" => \"iddrxnmSEk\"), OrderedDict{String, Any}(\"key\" => \"true\", \"val\" => 2, \"id\" => \"idw1w37RkJ\")]), nothing), \"index\" => (Observable{Any}(1), nothing)), Set{String}(), nothing, Asset[Asset(\"js\", \"knockout\", \"/home/ubuntu/.julia/packages/Knockout/HReiN/src/../assets/knockout.js\"), Asset(\"js\", \"knockout_punches\", \"/home/ubuntu/.julia/packages/Knockout/HReiN/src/../assets/knockout_punches.js\"), Asset(\"js\", nothing, \"/home/ubuntu/.julia/packages/InteractBase/Qhvxg/src/../assets/all.js\"), Asset(\"css\", nothing, \"/home/ubuntu/.julia/packages/InteractBase/Qhvxg/src/../assets/style.css\"), Asset(\"css\", nothing, \"/home/ubuntu/.julia/packages/Interact/PENUy/src/../assets/bulma_confined.min.css\")], Dict{Any, Any}(\"options_js\" => Any[WebIO.JSString(\"(function (val){return (val!=this.model[\\\"options_js\\\"]()) ? (this.valueFromJulia[\\\"options_js\\\"]=true, this.model[\\\"options_js\\\"](val)) : undefined})\")], \"index\" => Any[WebIO.JSString(\"(function (val){return (val!=this.model[\\\"index\\\"]()) ? (this.valueFromJulia[\\\"index\\\"]=true, this.model[\\\"index\\\"](val)) : undefined})\")]), WebIO.ConnectionPool(Channel{Any}(32), Set{AbstractConnection}(), Condition(Base.InvasiveLinkedList{Task}(Task (runnable) @0x00007f5c897e95a0, Task (runnable) @0x00007f5c897e95a0), Base.AlwaysLockedST(1))), WebIO.JSString[WebIO.JSString(\"function () {\\n    var handler = (function (ko, koPunches) {\\n    ko.punches.enableAll();\\n    ko.bindingHandlers.numericValue = {\\n        init: function(element, valueAccessor, allBindings, data, context) {\\n            var stringified = ko.observable(ko.unwrap(valueAccessor()));\\n            stringified.subscribe(function(value) {\\n                var val = parseFloat(value);\\n                if (!isNaN(val)) {\\n                    valueAccessor()(val);\\n                }\\n            });\\n            valueAccessor().subscribe(function(value) {\\n                var str = JSON.stringify(value);\\n                if ((str == \\\"0\\\") && ([\\\"-0\\\", \\\"-0.\\\"].indexOf(stringified()) >= 0))\\n                     return;\\n                 if ([\\\"null\\\", \\\"\\\"].indexOf(str) >= 0)\\n                     return;\\n                stringified(str);\\n            });\\n            ko.applyBindingsToNode(\\n                element,\\n                {\\n                    value: stringified,\\n                    valueUpdate: allBindings.get('valueUpdate'),\\n                },\\n                context,\\n            );\\n        }\\n    };\\n    var json_data = {\\\"options_js\\\":WebIO.getval({\\\"name\\\":\\\"options_js\\\",\\\"scope\\\":\\\"17272942041563878570\\\",\\\"id\\\":\\\"15795740227566885204\\\",\\\"type\\\":\\\"observable\\\"}),\\\"index\\\":WebIO.getval({\\\"name\\\":\\\"index\\\",\\\"scope\\\":\\\"17272942041563878570\\\",\\\"id\\\":\\\"10491694567189980683\\\",\\\"type\\\":\\\"observable\\\"})};\\n    var self = this;\\n    function AppViewModel() {\\n        for (var key in json_data) {\\n            var el = json_data[key];\\n            this[key] = Array.isArray(el) ? ko.observableArray(el) : ko.observable(el);\\n        }\\n        [this[\\\"update\\\"]=function (val) {this.index(val)}]\\n        \\n        [this[\\\"options_js\\\"].subscribe((function (val){!(this.valueFromJulia[\\\"options_js\\\"]) ? (WebIO.setval({\\\"name\\\":\\\"options_js\\\",\\\"scope\\\":\\\"17272942041563878570\\\",\\\"id\\\":\\\"15795740227566885204\\\",\\\"type\\\":\\\"observable\\\"},val)) : undefined; return this.valueFromJulia[\\\"options_js\\\"]=false}),self),this[\\\"index\\\"].subscribe((function (val){!(this.valueFromJulia[\\\"index\\\"]) ? (WebIO.setval({\\\"name\\\":\\\"index\\\",\\\"scope\\\":\\\"17272942041563878570\\\",\\\"id\\\":\\\"10491694567189980683\\\",\\\"type\\\":\\\"observable\\\"},val)) : undefined; return this.valueFromJulia[\\\"index\\\"]=false}),self)]\\n        \\n    }\\n    self.model = new AppViewModel();\\n    self.valueFromJulia = {};\\n    for (var key in json_data) {\\n        self.valueFromJulia[key] = false;\\n    }\\n    ko.applyBindings(self.model, self.dom);\\n}\\n);\\n    (WebIO.importBlock({\\\"data\\\":[{\\\"name\\\":\\\"knockout\\\",\\\"type\\\":\\\"js\\\",\\\"url\\\":\\\"/assetserver/4b78a831658f9469be0fa90a874237d533cfc56e-knockout.js\\\"},{\\\"name\\\":\\\"knockout_punches\\\",\\\"type\\\":\\\"js\\\",\\\"url\\\":\\\"/assetserver/32cf81589ef7eb25886db6e5be297d237f8599ce-knockout_punches.js\\\"}],\\\"type\\\":\\\"async_block\\\"})).then((imports) => handler.apply(this, imports));\\n}\\n\")])], Dict{Symbol, Any}(:className => \"interact-widget\")), Node{WebIO.DOM}(WebIO.DOM(:html, :div), Any[Scope(Node{WebIO.DOM}(WebIO.DOM(:html, :div), Any[Node{WebIO.DOM}(WebIO.DOM(:html, :div), Any[Node{WebIO.DOM}(WebIO.DOM(:html, :label), Any[\"which_x_n\"], Dict{Symbol, Any}(:className => \"interact \", :style => Dict{Any, Any}(:padding => \"5px 10px 0px 10px\")))], Dict{Symbol, Any}(:className => \"interact-flex-row-left\")), Node{WebIO.DOM}(WebIO.DOM(:html, :div), Any[Node{WebIO.DOM}(WebIO.DOM(:html, :input), Any[], Dict{Symbol, Any}(:max => 10, :min => 1, :attributes => Dict{Any, Any}(:type => \"range\", Symbol(\"data-bind\") => \"numericValue: index, valueUpdate: 'input', event: {change: function (){this.changes(this.changes()+1)}}\", \"orient\" => \"horizontal\"), :step => 1, :className => \"slider slider is-fullwidth\", :style => Dict{Any, Any}()))], Dict{Symbol, Any}(:className => \"interact-flex-row-center\")), Node{WebIO.DOM}(WebIO.DOM(:html, :div), Any[Node{WebIO.DOM}(WebIO.DOM(:html, :p), Any[], Dict{Symbol, Any}(:attributes => Dict(\"data-bind\" => \"text: formatted_val\")))], Dict{Symbol, Any}(:className => \"interact-flex-row-right\"))], Dict{Symbol, Any}(:className => \"interact-flex-row interact-widget\")), Dict{String, Tuple{AbstractObservable, Union{Nothing, Bool}}}(\"changes\" => (Observable(0), nothing), \"index\" => (Observable(5), nothing)), Set{String}(), nothing, Asset[Asset(\"js\", \"knockout\", \"/home/ubuntu/.julia/packages/Knockout/HReiN/src/../assets/knockout.js\"), Asset(\"js\", \"knockout_punches\", \"/home/ubuntu/.julia/packages/Knockout/HReiN/src/../assets/knockout_punches.js\"), Asset(\"js\", nothing, \"/home/ubuntu/.julia/packages/InteractBase/Qhvxg/src/../assets/all.js\"), Asset(\"css\", nothing, \"/home/ubuntu/.julia/packages/InteractBase/Qhvxg/src/../assets/style.css\"), Asset(\"css\", nothing, \"/home/ubuntu/.julia/packages/Interact/PENUy/src/../assets/bulma_confined.min.css\")], Dict{Any, Any}(\"changes\" => Any[WebIO.JSString(\"(function (val){return (val!=this.model[\\\"changes\\\"]()) ? (this.valueFromJulia[\\\"changes\\\"]=true, this.model[\\\"changes\\\"](val)) : undefined})\")], \"index\" => Any[WebIO.JSString(\"(function (val){return (val!=this.model[\\\"index\\\"]()) ? (this.valueFromJulia[\\\"index\\\"]=true, this.model[\\\"index\\\"](val)) : undefined})\")]), WebIO.ConnectionPool(Channel{Any}(32), Set{AbstractConnection}(), Condition(Base.InvasiveLinkedList{Task}(Task (runnable) @0x00007f5c897e99f0, Task (runnable) @0x00007f5c897e99f0), Base.AlwaysLockedST(1))), WebIO.JSString[WebIO.JSString(\"function () {\\n    var handler = (function (ko, koPunches) {\\n    ko.punches.enableAll();\\n    ko.bindingHandlers.numericValue = {\\n        init: function(element, valueAccessor, allBindings, data, context) {\\n            var stringified = ko.observable(ko.unwrap(valueAccessor()));\\n            stringified.subscribe(function(value) {\\n                var val = parseFloat(value);\\n                if (!isNaN(val)) {\\n                    valueAccessor()(val);\\n                }\\n            });\\n            valueAccessor().subscribe(function(value) {\\n                var str = JSON.stringify(value);\\n                if ((str == \\\"0\\\") && ([\\\"-0\\\", \\\"-0.\\\"].indexOf(stringified()) >= 0))\\n                     return;\\n                 if ([\\\"null\\\", \\\"\\\"].indexOf(str) >= 0)\\n                     return;\\n                stringified(str);\\n            });\\n            ko.applyBindingsToNode(\\n                element,\\n                {\\n                    value: stringified,\\n                    valueUpdate: allBindings.get('valueUpdate'),\\n                },\\n                context,\\n            );\\n        }\\n    };\\n    var json_data = {\\\"formatted_vals\\\":[\\\"1\\\",\\\"2\\\",\\\"3\\\",\\\"4\\\",\\\"5\\\",\\\"6\\\",\\\"7\\\",\\\"8\\\",\\\"9\\\",\\\"10\\\"],\\\"changes\\\":WebIO.getval({\\\"name\\\":\\\"changes\\\",\\\"scope\\\":\\\"16665232917260484549\\\",\\\"id\\\":\\\"2638450998569916043\\\",\\\"type\\\":\\\"observable\\\"}),\\\"index\\\":WebIO.getval({\\\"name\\\":\\\"index\\\",\\\"scope\\\":\\\"16665232917260484549\\\",\\\"id\\\":\\\"12355367337627201708\\\",\\\"type\\\":\\\"observable\\\"})};\\n    var self = this;\\n    function AppViewModel() {\\n        for (var key in json_data) {\\n            var el = json_data[key];\\n            this[key] = Array.isArray(el) ? ko.observableArray(el) : ko.observable(el);\\n        }\\n        \\n        [this[\\\"formatted_val\\\"]=ko.computed(    function(){\\n        return this.formatted_vals()[parseInt(this.index())-(1)];\\n    }\\n,this)]\\n        [this[\\\"changes\\\"].subscribe((function (val){!(this.valueFromJulia[\\\"changes\\\"]) ? (WebIO.setval({\\\"name\\\":\\\"changes\\\",\\\"scope\\\":\\\"16665232917260484549\\\",\\\"id\\\":\\\"2638450998569916043\\\",\\\"type\\\":\\\"observable\\\"},val)) : undefined; return this.valueFromJulia[\\\"changes\\\"]=false}),self),this[\\\"index\\\"].subscribe((function (val){!(this.valueFromJulia[\\\"index\\\"]) ? (WebIO.setval({\\\"name\\\":\\\"index\\\",\\\"scope\\\":\\\"16665232917260484549\\\",\\\"id\\\":\\\"12355367337627201708\\\",\\\"type\\\":\\\"observable\\\"},val)) : undefined; return this.valueFromJulia[\\\"index\\\"]=false}),self)]\\n        \\n    }\\n    self.model = new AppViewModel();\\n    self.valueFromJulia = {};\\n    for (var key in json_data) {\\n        self.valueFromJulia[key] = false;\\n    }\\n    ko.applyBindings(self.model, self.dom);\\n}\\n);\\n    (WebIO.importBlock({\\\"data\\\":[{\\\"name\\\":\\\"knockout\\\",\\\"type\\\":\\\"js\\\",\\\"url\\\":\\\"/assetserver/4b78a831658f9469be0fa90a874237d533cfc56e-knockout.js\\\"},{\\\"name\\\":\\\"knockout_punches\\\",\\\"type\\\":\\\"js\\\",\\\"url\\\":\\\"/assetserver/32cf81589ef7eb25886db6e5be297d237f8599ce-knockout_punches.js\\\"}],\\\"type\\\":\\\"async_block\\\"})).then((imports) => handler.apply(this, imports));\\n}\\n\")])], Dict{Symbol, Any}(:className => \"field interact-widget\")), Node{WebIO.DOM}(WebIO.DOM(:html, :div), Any[Scope(Node{WebIO.DOM}(WebIO.DOM(:html, :div), Any[Node{WebIO.DOM}(WebIO.DOM(:html, :div), Any[Node{WebIO.DOM}(WebIO.DOM(:html, :label), Any[\"which_x_t\"], Dict{Symbol, Any}(:className => \"interact \", :style => Dict{Any, Any}(:padding => \"5px 10px 0px 10px\")))], Dict{Symbol, Any}(:className => \"interact-flex-row-left\")), Node{WebIO.DOM}(WebIO.DOM(:html, :div), Any[Node{WebIO.DOM}(WebIO.DOM(:html, :input), Any[], Dict{Symbol, Any}(:max => 20, :min => 1, :attributes => Dict{Any, Any}(:type => \"range\", Symbol(\"data-bind\") => \"numericValue: index, valueUpdate: 'input', event: {change: function (){this.changes(this.changes()+1)}}\", \"orient\" => \"horizontal\"), :step => 1, :className => \"slider slider is-fullwidth\", :style => Dict{Any, Any}()))], Dict{Symbol, Any}(:className => \"interact-flex-row-center\")), Node{WebIO.DOM}(WebIO.DOM(:html, :div), Any[Node{WebIO.DOM}(WebIO.DOM(:html, :p), Any[], Dict{Symbol, Any}(:attributes => Dict(\"data-bind\" => \"text: formatted_val\")))], Dict{Symbol, Any}(:className => \"interact-flex-row-right\"))], Dict{Symbol, Any}(:className => \"interact-flex-row interact-widget\")), Dict{String, Tuple{AbstractObservable, Union{Nothing, Bool}}}(\"changes\" => (Observable(0), nothing), \"index\" => (Observable(10), nothing)), Set{String}(), nothing, Asset[Asset(\"js\", \"knockout\", \"/home/ubuntu/.julia/packages/Knockout/HReiN/src/../assets/knockout.js\"), Asset(\"js\", \"knockout_punches\", \"/home/ubuntu/.julia/packages/Knockout/HReiN/src/../assets/knockout_punches.js\"), Asset(\"js\", nothing, \"/home/ubuntu/.julia/packages/InteractBase/Qhvxg/src/../assets/all.js\"), Asset(\"css\", nothing, \"/home/ubuntu/.julia/packages/InteractBase/Qhvxg/src/../assets/style.css\"), Asset(\"css\", nothing, \"/home/ubuntu/.julia/packages/Interact/PENUy/src/../assets/bulma_confined.min.css\")], Dict{Any, Any}(\"changes\" => Any[WebIO.JSString(\"(function (val){return (val!=this.model[\\\"changes\\\"]()) ? (this.valueFromJulia[\\\"changes\\\"]=true, this.model[\\\"changes\\\"](val)) : undefined})\")], \"index\" => Any[WebIO.JSString(\"(function (val){return (val!=this.model[\\\"index\\\"]()) ? (this.valueFromJulia[\\\"index\\\"]=true, this.model[\\\"index\\\"](val)) : undefined})\")]), WebIO.ConnectionPool(Channel{Any}(32), Set{AbstractConnection}(), Condition(Base.InvasiveLinkedList{Task}(Task (runnable) @0x00007f5c897eb990, Task (runnable) @0x00007f5c897eb990), Base.AlwaysLockedST(1))), WebIO.JSString[WebIO.JSString(\"function () {\\n    var handler = (function (ko, koPunches) {\\n    ko.punches.enableAll();\\n    ko.bindingHandlers.numericValue = {\\n        init: function(element, valueAccessor, allBindings, data, context) {\\n            var stringified = ko.observable(ko.unwrap(valueAccessor()));\\n            stringified.subscribe(function(value) {\\n                var val = parseFloat(value);\\n                if (!isNaN(val)) {\\n                    valueAccessor()(val);\\n                }\\n            });\\n            valueAccessor().subscribe(function(value) {\\n                var str = JSON.stringify(value);\\n                if ((str == \\\"0\\\") && ([\\\"-0\\\", \\\"-0.\\\"].indexOf(stringified()) >= 0))\\n                     return;\\n                 if ([\\\"null\\\", \\\"\\\"].indexOf(str) >= 0)\\n                     return;\\n                stringified(str);\\n            });\\n            ko.applyBindingsToNode(\\n                element,\\n                {\\n                    value: stringified,\\n                    valueUpdate: allBindings.get('valueUpdate'),\\n                },\\n                context,\\n            );\\n        }\\n    };\\n    var json_data = {\\\"formatted_vals\\\":[\\\"1\\\",\\\"2\\\",\\\"3\\\",\\\"4\\\",\\\"5\\\",\\\"6\\\",\\\"7\\\",\\\"8\\\",\\\"9\\\",\\\"10\\\",\\\"11\\\",\\\"12\\\",\\\"13\\\",\\\"14\\\",\\\"15\\\",\\\"16\\\",\\\"17\\\",\\\"18\\\",\\\"19\\\",\\\"20\\\"],\\\"changes\\\":WebIO.getval({\\\"name\\\":\\\"changes\\\",\\\"scope\\\":\\\"2963198513970113925\\\",\\\"id\\\":\\\"3230261944937962618\\\",\\\"type\\\":\\\"observable\\\"}),\\\"index\\\":WebIO.getval({\\\"name\\\":\\\"index\\\",\\\"scope\\\":\\\"2963198513970113925\\\",\\\"id\\\":\\\"3086135982869530797\\\",\\\"type\\\":\\\"observable\\\"})};\\n    var self = this;\\n    function AppViewModel() {\\n        for (var key in json_data) {\\n            var el = json_data[key];\\n            this[key] = Array.isArray(el) ? ko.observableArray(el) : ko.observable(el);\\n        }\\n        \\n        [this[\\\"formatted_val\\\"]=ko.computed(    function(){\\n        return this.formatted_vals()[parseInt(this.index())-(1)];\\n    }\\n,this)]\\n        [this[\\\"changes\\\"].subscribe((function (val){!(this.valueFromJulia[\\\"changes\\\"]) ? (WebIO.setval({\\\"name\\\":\\\"changes\\\",\\\"scope\\\":\\\"2963198513970113925\\\",\\\"id\\\":\\\"3230261944937962618\\\",\\\"type\\\":\\\"observable\\\"},val)) : undefined; return this.valueFromJulia[\\\"changes\\\"]=false}),self),this[\\\"index\\\"].subscribe((function (val){!(this.valueFromJulia[\\\"index\\\"]) ? (WebIO.setval({\\\"name\\\":\\\"index\\\",\\\"scope\\\":\\\"2963198513970113925\\\",\\\"id\\\":\\\"3086135982869530797\\\",\\\"type\\\":\\\"observable\\\"},val)) : undefined; return this.valueFromJulia[\\\"index\\\"]=false}),self)]\\n        \\n    }\\n    self.model = new AppViewModel();\\n    self.valueFromJulia = {};\\n    for (var key in json_data) {\\n        self.valueFromJulia[key] = false;\\n    }\\n    ko.applyBindings(self.model, self.dom);\\n}\\n);\\n    (WebIO.importBlock({\\\"data\\\":[{\\\"name\\\":\\\"knockout\\\",\\\"type\\\":\\\"js\\\",\\\"url\\\":\\\"/assetserver/4b78a831658f9469be0fa90a874237d533cfc56e-knockout.js\\\"},{\\\"name\\\":\\\"knockout_punches\\\",\\\"type\\\":\\\"js\\\",\\\"url\\\":\\\"/assetserver/32cf81589ef7eb25886db6e5be297d237f8599ce-knockout_punches.js\\\"}],\\\"type\\\":\\\"async_block\\\"})).then((imports) => handler.apply(this, imports));\\n}\\n\")])], Dict{Symbol, Any}(:className => \"field interact-widget\")), Node{WebIO.DOM}(WebIO.DOM(:html, :div), Any[Scope(Node{WebIO.DOM}(WebIO.DOM(:html, :div), Any[Node{WebIO.DOM}(WebIO.DOM(:html, :div), Any[Node{WebIO.DOM}(WebIO.DOM(:html, :label), Any[\"posterior\"], Dict{Symbol, Any}(:className => \"interact \", :style => Dict{Any, Any}(:padding => \"5px 10px 0px 10px\")))], Dict{Symbol, Any}(:className => \"interact-flex-row-left\")), Node{WebIO.DOM}(WebIO.DOM(:html, :div), Any[Node{WebIO.DOM}(WebIO.DOM(:html, :div), Any[Node{WebIO.DOM}(WebIO.DOM(:html, :span), Any[Node{WebIO.DOM}(WebIO.DOM(:html, :label), Any[], Dict{Symbol, Any}(:attributes => Dict(\"data-bind\" => \"text : key\")))], Dict{Symbol, Any}(:attributes => Dict(\"data-bind\" => \"click: function (){\\$root.update(val)}, css: {'is-primary is-selected' : \\$root.index() == val, 'interact-widget is-medium button ' : true}\")))], Dict{Symbol, Any}(:attributes => (\"data-bind\" => \"foreach : options_js\"), :className => \"buttons has-addons is-centered\"))], Dict{Symbol, Any}(:className => \"interact-flex-row-center\")), Node{WebIO.DOM}(WebIO.DOM(:html, :div), Any[Node{WebIO.DOM}(WebIO.DOM(:html, :div), Any[], Dict{Symbol, Any}())], Dict{Symbol, Any}(:className => \"interact-flex-row-right\"))], Dict{Symbol, Any}(:className => \"interact-flex-row interact-widget\")), Dict{String, Tuple{AbstractObservable, Union{Nothing, Bool}}}(\"options_js\" => (Observable(OrderedDict[OrderedDict{String, Any}(\"key\" => \"naive\", \"val\" => 1, \"id\" => \"id0sYJobzH\"), OrderedDict{String, Any}(\"key\" => \"pf\", \"val\" => 2, \"id\" => \"idfZdRWU2k\"), OrderedDict{String, Any}(\"key\" => \"smc\", \"val\" => 3, \"id\" => \"idhfnRHeiL\")]), nothing), \"index\" => (Observable{Any}(1), nothing)), Set{String}(), nothing, Asset[Asset(\"js\", \"knockout\", \"/home/ubuntu/.julia/packages/Knockout/HReiN/src/../assets/knockout.js\"), Asset(\"js\", \"knockout_punches\", \"/home/ubuntu/.julia/packages/Knockout/HReiN/src/../assets/knockout_punches.js\"), Asset(\"js\", nothing, \"/home/ubuntu/.julia/packages/InteractBase/Qhvxg/src/../assets/all.js\"), Asset(\"css\", nothing, \"/home/ubuntu/.julia/packages/InteractBase/Qhvxg/src/../assets/style.css\"), Asset(\"css\", nothing, \"/home/ubuntu/.julia/packages/Interact/PENUy/src/../assets/bulma_confined.min.css\")], Dict{Any, Any}(\"options_js\" => Any[WebIO.JSString(\"(function (val){return (val!=this.model[\\\"options_js\\\"]()) ? (this.valueFromJulia[\\\"options_js\\\"]=true, this.model[\\\"options_js\\\"](val)) : undefined})\")], \"index\" => Any[WebIO.JSString(\"(function (val){return (val!=this.model[\\\"index\\\"]()) ? (this.valueFromJulia[\\\"index\\\"]=true, this.model[\\\"index\\\"](val)) : undefined})\")]), WebIO.ConnectionPool(Channel{Any}(32), Set{AbstractConnection}(), Condition(Base.InvasiveLinkedList{Task}(Task (runnable) @0x00007f5c897ebc70, Task (runnable) @0x00007f5c897ebc70), Base.AlwaysLockedST(1))), WebIO.JSString[WebIO.JSString(\"function () {\\n    var handler = (function (ko, koPunches) {\\n    ko.punches.enableAll();\\n    ko.bindingHandlers.numericValue = {\\n        init: function(element, valueAccessor, allBindings, data, context) {\\n            var stringified = ko.observable(ko.unwrap(valueAccessor()));\\n            stringified.subscribe(function(value) {\\n                var val = parseFloat(value);\\n                if (!isNaN(val)) {\\n                    valueAccessor()(val);\\n                }\\n            });\\n            valueAccessor().subscribe(function(value) {\\n                var str = JSON.stringify(value);\\n                if ((str == \\\"0\\\") && ([\\\"-0\\\", \\\"-0.\\\"].indexOf(stringified()) >= 0))\\n                     return;\\n                 if ([\\\"null\\\", \\\"\\\"].indexOf(str) >= 0)\\n                     return;\\n                stringified(str);\\n            });\\n            ko.applyBindingsToNode(\\n                element,\\n                {\\n                    value: stringified,\\n                    valueUpdate: allBindings.get('valueUpdate'),\\n                },\\n                context,\\n            );\\n        }\\n    };\\n    var json_data = {\\\"options_js\\\":WebIO.getval({\\\"name\\\":\\\"options_js\\\",\\\"scope\\\":\\\"2205015225413654115\\\",\\\"id\\\":\\\"14155361305859611612\\\",\\\"type\\\":\\\"observable\\\"}),\\\"index\\\":WebIO.getval({\\\"name\\\":\\\"index\\\",\\\"scope\\\":\\\"2205015225413654115\\\",\\\"id\\\":\\\"6230163439282016821\\\",\\\"type\\\":\\\"observable\\\"})};\\n    var self = this;\\n    function AppViewModel() {\\n        for (var key in json_data) {\\n            var el = json_data[key];\\n            this[key] = Array.isArray(el) ? ko.observableArray(el) : ko.observable(el);\\n        }\\n        [this[\\\"update\\\"]=function (val) {this.index(val)}]\\n        \\n        [this[\\\"options_js\\\"].subscribe((function (val){!(this.valueFromJulia[\\\"options_js\\\"]) ? (WebIO.setval({\\\"name\\\":\\\"options_js\\\",\\\"scope\\\":\\\"2205015225413654115\\\",\\\"id\\\":\\\"14155361305859611612\\\",\\\"type\\\":\\\"observable\\\"},val)) : undefined; return this.valueFromJulia[\\\"options_js\\\"]=false}),self),this[\\\"index\\\"].subscribe((function (val){!(this.valueFromJulia[\\\"index\\\"]) ? (WebIO.setval({\\\"name\\\":\\\"index\\\",\\\"scope\\\":\\\"2205015225413654115\\\",\\\"id\\\":\\\"6230163439282016821\\\",\\\"type\\\":\\\"observable\\\"},val)) : undefined; return this.valueFromJulia[\\\"index\\\"]=false}),self)]\\n        \\n    }\\n    self.model = new AppViewModel();\\n    self.valueFromJulia = {};\\n    for (var key in json_data) {\\n        self.valueFromJulia[key] = false;\\n    }\\n    ko.applyBindings(self.model, self.dom);\\n}\\n);\\n    (WebIO.importBlock({\\\"data\\\":[{\\\"name\\\":\\\"knockout\\\",\\\"type\\\":\\\"js\\\",\\\"url\\\":\\\"/assetserver/4b78a831658f9469be0fa90a874237d533cfc56e-knockout.js\\\"},{\\\"name\\\":\\\"knockout_punches\\\",\\\"type\\\":\\\"js\\\",\\\"url\\\":\\\"/assetserver/32cf81589ef7eb25886db6e5be297d237f8599ce-knockout_punches.js\\\"}],\\\"type\\\":\\\"async_block\\\"})).then((imports) => handler.apply(this, imports));\\n}\\n\")])], Dict{Symbol, Any}(:className => \"interact-widget\")), Node{WebIO.DOM}(WebIO.DOM(:html, :div), Any[Scope(Node{WebIO.DOM}(WebIO.DOM(:html, :div), Any[Node{WebIO.DOM}(WebIO.DOM(:html, :div), Any[Node{WebIO.DOM}(WebIO.DOM(:html, :label), Any[\"x_noise\"], Dict{Symbol, Any}(:className => \"interact \", :style => Dict{Any, Any}(:padding => \"5px 10px 0px 10px\")))], Dict{Symbol, Any}(:className => \"interact-flex-row-left\")), Node{WebIO.DOM}(WebIO.DOM(:html, :div), Any[Node{WebIO.DOM}(WebIO.DOM(:html, :input), Any[], Dict{Symbol, Any}(:max => 5, :min => 1, :attributes => Dict{Any, Any}(:type => \"range\", Symbol(\"data-bind\") => \"numericValue: index, valueUpdate: 'input', event: {change: function (){this.changes(this.changes()+1)}}\", \"orient\" => \"horizontal\"), :step => 1, :className => \"slider slider is-fullwidth\", :style => Dict{Any, Any}()))], Dict{Symbol, Any}(:className => \"interact-flex-row-center\")), Node{WebIO.DOM}(WebIO.DOM(:html, :div), Any[Node{WebIO.DOM}(WebIO.DOM(:html, :p), Any[], Dict{Symbol, Any}(:attributes => Dict(\"data-bind\" => \"text: formatted_val\")))], Dict{Symbol, Any}(:className => \"interact-flex-row-right\"))], Dict{Symbol, Any}(:className => \"interact-flex-row interact-widget\")), Dict{String, Tuple{AbstractObservable, Union{Nothing, Bool}}}(\"changes\" => (Observable(0), nothing), \"index\" => (Observable{Any}(3), nothing)), Set{String}(), nothing, Asset[Asset(\"js\", \"knockout\", \"/home/ubuntu/.julia/packages/Knockout/HReiN/src/../assets/knockout.js\"), Asset(\"js\", \"knockout_punches\", \"/home/ubuntu/.julia/packages/Knockout/HReiN/src/../assets/knockout_punches.js\"), Asset(\"js\", nothing, \"/home/ubuntu/.julia/packages/InteractBase/Qhvxg/src/../assets/all.js\"), Asset(\"css\", nothing, \"/home/ubuntu/.julia/packages/InteractBase/Qhvxg/src/../assets/style.css\"), Asset(\"css\", nothing, \"/home/ubuntu/.julia/packages/Interact/PENUy/src/../assets/bulma_confined.min.css\")], Dict{Any, Any}(\"changes\" => Any[WebIO.JSString(\"(function (val){return (val!=this.model[\\\"changes\\\"]()) ? (this.valueFromJulia[\\\"changes\\\"]=true, this.model[\\\"changes\\\"](val)) : undefined})\")], \"index\" => Any[WebIO.JSString(\"(function (val){return (val!=this.model[\\\"index\\\"]()) ? (this.valueFromJulia[\\\"index\\\"]=true, this.model[\\\"index\\\"](val)) : undefined})\")]), WebIO.ConnectionPool(Channel{Any}(32), Set{AbstractConnection}(), Condition(Base.InvasiveLinkedList{Task}(Task (runnable) @0x00007f5c89c348b0, Task (runnable) @0x00007f5c89c348b0), Base.AlwaysLockedST(1))), WebIO.JSString[WebIO.JSString(\"function () {\\n    var handler = (function (ko, koPunches) {\\n    ko.punches.enableAll();\\n    ko.bindingHandlers.numericValue = {\\n        init: function(element, valueAccessor, allBindings, data, context) {\\n            var stringified = ko.observable(ko.unwrap(valueAccessor()));\\n            stringified.subscribe(function(value) {\\n                var val = parseFloat(value);\\n                if (!isNaN(val)) {\\n                    valueAccessor()(val);\\n                }\\n            });\\n            valueAccessor().subscribe(function(value) {\\n                var str = JSON.stringify(value);\\n                if ((str == \\\"0\\\") && ([\\\"-0\\\", \\\"-0.\\\"].indexOf(stringified()) >= 0))\\n                     return;\\n                 if ([\\\"null\\\", \\\"\\\"].indexOf(str) >= 0)\\n                     return;\\n                stringified(str);\\n            });\\n            ko.applyBindingsToNode(\\n                element,\\n                {\\n                    value: stringified,\\n                    valueUpdate: allBindings.get('valueUpdate'),\\n                },\\n                context,\\n            );\\n        }\\n    };\\n    var json_data = {\\\"formatted_vals\\\":[\\\"0.001\\\",\\\"0.12575\\\",\\\"0.2505\\\",\\\"0.37525\\\",\\\"0.5\\\"],\\\"changes\\\":WebIO.getval({\\\"name\\\":\\\"changes\\\",\\\"scope\\\":\\\"17207508262023326168\\\",\\\"id\\\":\\\"15743238388404370294\\\",\\\"type\\\":\\\"observable\\\"}),\\\"index\\\":WebIO.getval({\\\"name\\\":\\\"index\\\",\\\"scope\\\":\\\"17207508262023326168\\\",\\\"id\\\":\\\"3745832531667463249\\\",\\\"type\\\":\\\"observable\\\"})};\\n    var self = this;\\n    function AppViewModel() {\\n        for (var key in json_data) {\\n            var el = json_data[key];\\n            this[key] = Array.isArray(el) ? ko.observableArray(el) : ko.observable(el);\\n        }\\n        \\n        [this[\\\"formatted_val\\\"]=ko.computed(    function(){\\n        return this.formatted_vals()[parseInt(this.index())-(1)];\\n    }\\n,this)]\\n        [this[\\\"changes\\\"].subscribe((function (val){!(this.valueFromJulia[\\\"changes\\\"]) ? (WebIO.setval({\\\"name\\\":\\\"changes\\\",\\\"scope\\\":\\\"17207508262023326168\\\",\\\"id\\\":\\\"15743238388404370294\\\",\\\"type\\\":\\\"observable\\\"},val)) : undefined; return this.valueFromJulia[\\\"changes\\\"]=false}),self),this[\\\"index\\\"].subscribe((function (val){!(this.valueFromJulia[\\\"index\\\"]) ? (WebIO.setval({\\\"name\\\":\\\"index\\\",\\\"scope\\\":\\\"17207508262023326168\\\",\\\"id\\\":\\\"3745832531667463249\\\",\\\"type\\\":\\\"observable\\\"},val)) : undefined; return this.valueFromJulia[\\\"index\\\"]=false}),self)]\\n        \\n    }\\n    self.model = new AppViewModel();\\n    self.valueFromJulia = {};\\n    for (var key in json_data) {\\n        self.valueFromJulia[key] = false;\\n    }\\n    ko.applyBindings(self.model, self.dom);\\n}\\n);\\n    (WebIO.importBlock({\\\"data\\\":[{\\\"name\\\":\\\"knockout\\\",\\\"type\\\":\\\"js\\\",\\\"url\\\":\\\"/assetserver/4b78a831658f9469be0fa90a874237d533cfc56e-knockout.js\\\"},{\\\"name\\\":\\\"knockout_punches\\\",\\\"type\\\":\\\"js\\\",\\\"url\\\":\\\"/assetserver/32cf81589ef7eb25886db6e5be297d237f8599ce-knockout_punches.js\\\"}],\\\"type\\\":\\\"async_block\\\"})).then((imports) => handler.apply(this, imports));\\n}\\n\")])], Dict{Symbol, Any}(:className => \"field interact-widget\")), Node{WebIO.DOM}(WebIO.DOM(:html, :div), Any[Scope(Node{WebIO.DOM}(WebIO.DOM(:html, :div), Any[Node{WebIO.DOM}(WebIO.DOM(:html, :div), Any[Node{WebIO.DOM}(WebIO.DOM(:html, :label), Any[\"hd_noise\"], Dict{Symbol, Any}(:className => \"interact \", :style => Dict{Any, Any}(:padding => \"5px 10px 0px 10px\")))], Dict{Symbol, Any}(:className => \"interact-flex-row-left\")), Node{WebIO.DOM}(WebIO.DOM(:html, :div), Any[Node{WebIO.DOM}(WebIO.DOM(:html, :input), Any[], Dict{Symbol, Any}(:max => 5, :min => 1, :attributes => Dict{Any, Any}(:type => \"range\", Symbol(\"data-bind\") => \"numericValue: index, valueUpdate: 'input', event: {change: function (){this.changes(this.changes()+1)}}\", \"orient\" => \"horizontal\"), :step => 1, :className => \"slider slider is-fullwidth\", :style => Dict{Any, Any}()))], Dict{Symbol, Any}(:className => \"interact-flex-row-center\")), Node{WebIO.DOM}(WebIO.DOM(:html, :div), Any[Node{WebIO.DOM}(WebIO.DOM(:html, :p), Any[], Dict{Symbol, Any}(:attributes => Dict(\"data-bind\" => \"text: formatted_val\")))], Dict{Symbol, Any}(:className => \"interact-flex-row-right\"))], Dict{Symbol, Any}(:className => \"interact-flex-row interact-widget\")), Dict{String, Tuple{AbstractObservable, Union{Nothing, Bool}}}(\"changes\" => (Observable(0), nothing), \"index\" => (Observable{Any}(3), nothing)), Set{String}(), nothing, Asset[Asset(\"js\", \"knockout\", \"/home/ubuntu/.julia/packages/Knockout/HReiN/src/../assets/knockout.js\"), Asset(\"js\", \"knockout_punches\", \"/home/ubuntu/.julia/packages/Knockout/HReiN/src/../assets/knockout_punches.js\"), Asset(\"js\", nothing, \"/home/ubuntu/.julia/packages/InteractBase/Qhvxg/src/../assets/all.js\"), Asset(\"css\", nothing, \"/home/ubuntu/.julia/packages/InteractBase/Qhvxg/src/../assets/style.css\"), Asset(\"css\", nothing, \"/home/ubuntu/.julia/packages/Interact/PENUy/src/../assets/bulma_confined.min.css\")], Dict{Any, Any}(\"changes\" => Any[WebIO.JSString(\"(function (val){return (val!=this.model[\\\"changes\\\"]()) ? (this.valueFromJulia[\\\"changes\\\"]=true, this.model[\\\"changes\\\"](val)) : undefined})\")], \"index\" => Any[WebIO.JSString(\"(function (val){return (val!=this.model[\\\"index\\\"]()) ? (this.valueFromJulia[\\\"index\\\"]=true, this.model[\\\"index\\\"](val)) : undefined})\")]), WebIO.ConnectionPool(Channel{Any}(32), Set{AbstractConnection}(), Condition(Base.InvasiveLinkedList{Task}(Task (runnable) @0x00007f5c89c35710, Task (runnable) @0x00007f5c89c35710), Base.AlwaysLockedST(1))), WebIO.JSString[WebIO.JSString(\"function () {\\n    var handler = (function (ko, koPunches) {\\n    ko.punches.enableAll();\\n    ko.bindingHandlers.numericValue = {\\n        init: function(element, valueAccessor, allBindings, data, context) {\\n            var stringified = ko.observable(ko.unwrap(valueAccessor()));\\n            stringified.subscribe(function(value) {\\n                var val = parseFloat(value);\\n                if (!isNaN(val)) {\\n                    valueAccessor()(val);\\n                }\\n            });\\n            valueAccessor().subscribe(function(value) {\\n                var str = JSON.stringify(value);\\n                if ((str == \\\"0\\\") && ([\\\"-0\\\", \\\"-0.\\\"].indexOf(stringified()) >= 0))\\n                     return;\\n                 if ([\\\"null\\\", \\\"\\\"].indexOf(str) >= 0)\\n                     return;\\n                stringified(str);\\n            });\\n            ko.applyBindingsToNode(\\n                element,\\n                {\\n                    value: stringified,\\n                    valueUpdate: allBindings.get('valueUpdate'),\\n                },\\n                context,\\n            );\\n        }\\n    };\\n    var json_data = {\\\"formatted_vals\\\":[\\\"0.001\\\",\\\"11.2508\\\",\\\"22.5005\\\",\\\"33.7503\\\",\\\"45.0\\\"],\\\"changes\\\":WebIO.getval({\\\"name\\\":\\\"changes\\\",\\\"scope\\\":\\\"6464152132385314041\\\",\\\"id\\\":\\\"8270686193358413989\\\",\\\"type\\\":\\\"observable\\\"}),\\\"index\\\":WebIO.getval({\\\"name\\\":\\\"index\\\",\\\"scope\\\":\\\"6464152132385314041\\\",\\\"id\\\":\\\"3558497023182308851\\\",\\\"type\\\":\\\"observable\\\"})};\\n    var self = this;\\n    function AppViewModel() {\\n        for (var key in json_data) {\\n            var el = json_data[key];\\n            this[key] = Array.isArray(el) ? ko.observableArray(el) : ko.observable(el);\\n        }\\n        \\n        [this[\\\"formatted_val\\\"]=ko.computed(    function(){\\n        return this.formatted_vals()[parseInt(this.index())-(1)];\\n    }\\n,this)]\\n        [this[\\\"changes\\\"].subscribe((function (val){!(this.valueFromJulia[\\\"changes\\\"]) ? (WebIO.setval({\\\"name\\\":\\\"changes\\\",\\\"scope\\\":\\\"6464152132385314041\\\",\\\"id\\\":\\\"8270686193358413989\\\",\\\"type\\\":\\\"observable\\\"},val)) : undefined; return this.valueFromJulia[\\\"changes\\\"]=false}),self),this[\\\"index\\\"].subscribe((function (val){!(this.valueFromJulia[\\\"index\\\"]) ? (WebIO.setval({\\\"name\\\":\\\"index\\\",\\\"scope\\\":\\\"6464152132385314041\\\",\\\"id\\\":\\\"3558497023182308851\\\",\\\"type\\\":\\\"observable\\\"},val)) : undefined; return this.valueFromJulia[\\\"index\\\"]=false}),self)]\\n        \\n    }\\n    self.model = new AppViewModel();\\n    self.valueFromJulia = {};\\n    for (var key in json_data) {\\n        self.valueFromJulia[key] = false;\\n    }\\n    ko.applyBindings(self.model, self.dom);\\n}\\n);\\n    (WebIO.importBlock({\\\"data\\\":[{\\\"name\\\":\\\"knockout\\\",\\\"type\\\":\\\"js\\\",\\\"url\\\":\\\"/assetserver/4b78a831658f9469be0fa90a874237d533cfc56e-knockout.js\\\"},{\\\"name\\\":\\\"knockout_punches\\\",\\\"type\\\":\\\"js\\\",\\\"url\\\":\\\"/assetserver/32cf81589ef7eb25886db6e5be297d237f8599ce-knockout_punches.js\\\"}],\\\"type\\\":\\\"async_block\\\"})).then((imports) => handler.apply(this, imports));\\n}\\n\")])], Dict{Symbol, Any}(:className => \"field interact-widget\")), Node{WebIO.DOM}(WebIO.DOM(:html, :div), Any[Scope(Node{WebIO.DOM}(WebIO.DOM(:html, :div), Any[Node{WebIO.DOM}(WebIO.DOM(:html, :div), Any[Node{WebIO.DOM}(WebIO.DOM(:html, :label), Any[\"mix_w\"], Dict{Symbol, Any}(:className => \"interact \", :style => Dict{Any, Any}(:padding => \"5px 10px 0px 10px\")))], Dict{Symbol, Any}(:className => \"interact-flex-row-left\")), Node{WebIO.DOM}(WebIO.DOM(:html, :div), Any[Node{WebIO.DOM}(WebIO.DOM(:html, :input), Any[], Dict{Symbol, Any}(:max => 10, :min => 1, :attributes => Dict{Any, Any}(:type => \"range\", Symbol(\"data-bind\") => \"numericValue: index, valueUpdate: 'input', event: {change: function (){this.changes(this.changes()+1)}}\", \"orient\" => \"horizontal\"), :step => 1, :className => \"slider slider is-fullwidth\", :style => Dict{Any, Any}()))], Dict{Symbol, Any}(:className => \"interact-flex-row-center\")), Node{WebIO.DOM}(WebIO.DOM(:html, :div), Any[Node{WebIO.DOM}(WebIO.DOM(:html, :p), Any[], Dict{Symbol, Any}(:attributes => Dict(\"data-bind\" => \"text: formatted_val\")))], Dict{Symbol, Any}(:className => \"interact-flex-row-right\"))], Dict{Symbol, Any}(:className => \"interact-flex-row interact-widget\")), Dict{String, Tuple{AbstractObservable, Union{Nothing, Bool}}}(\"changes\" => (Observable(0), nothing), \"index\" => (Observable{Any}(5), nothing)), Set{String}(), nothing, Asset[Asset(\"js\", \"knockout\", \"/home/ubuntu/.julia/packages/Knockout/HReiN/src/../assets/knockout.js\"), Asset(\"js\", \"knockout_punches\", \"/home/ubuntu/.julia/packages/Knockout/HReiN/src/../assets/knockout_punches.js\"), Asset(\"js\", nothing, \"/home/ubuntu/.julia/packages/InteractBase/Qhvxg/src/../assets/all.js\"), Asset(\"css\", nothing, \"/home/ubuntu/.julia/packages/InteractBase/Qhvxg/src/../assets/style.css\"), Asset(\"css\", nothing, \"/home/ubuntu/.julia/packages/Interact/PENUy/src/../assets/bulma_confined.min.css\")], Dict{Any, Any}(\"changes\" => Any[WebIO.JSString(\"(function (val){return (val!=this.model[\\\"changes\\\"]()) ? (this.valueFromJulia[\\\"changes\\\"]=true, this.model[\\\"changes\\\"](val)) : undefined})\")], \"index\" => Any[WebIO.JSString(\"(function (val){return (val!=this.model[\\\"index\\\"]()) ? (this.valueFromJulia[\\\"index\\\"]=true, this.model[\\\"index\\\"](val)) : undefined})\")]), WebIO.ConnectionPool(Channel{Any}(32), Set{AbstractConnection}(), Condition(Base.InvasiveLinkedList{Task}(Task (runnable) @0x00007f5c89c35b60, Task (runnable) @0x00007f5c89c35b60), Base.AlwaysLockedST(1))), WebIO.JSString[WebIO.JSString(\"function () {\\n    var handler = (function (ko, koPunches) {\\n    ko.punches.enableAll();\\n    ko.bindingHandlers.numericValue = {\\n        init: function(element, valueAccessor, allBindings, data, context) {\\n            var stringified = ko.observable(ko.unwrap(valueAccessor()));\\n            stringified.subscribe(function(value) {\\n                var val = parseFloat(value);\\n                if (!isNaN(val)) {\\n                    valueAccessor()(val);\\n                }\\n            });\\n            valueAccessor().subscribe(function(value) {\\n                var str = JSON.stringify(value);\\n                if ((str == \\\"0\\\") && ([\\\"-0\\\", \\\"-0.\\\"].indexOf(stringified()) >= 0))\\n                     return;\\n                 if ([\\\"null\\\", \\\"\\\"].indexOf(str) >= 0)\\n                     return;\\n                stringified(str);\\n            });\\n            ko.applyBindingsToNode(\\n                element,\\n                {\\n                    value: stringified,\\n                    valueUpdate: allBindings.get('valueUpdate'),\\n                },\\n                context,\\n            );\\n        }\\n    };\\n    var json_data = {\\\"formatted_vals\\\":[\\\"1\\\",\\\"6\\\",\\\"11\\\",\\\"16\\\",\\\"21\\\",\\\"26\\\",\\\"31\\\",\\\"36\\\",\\\"41\\\",\\\"46\\\"],\\\"changes\\\":WebIO.getval({\\\"name\\\":\\\"changes\\\",\\\"scope\\\":\\\"17989771529542327364\\\",\\\"id\\\":\\\"13637239570841406098\\\",\\\"type\\\":\\\"observable\\\"}),\\\"index\\\":WebIO.getval({\\\"name\\\":\\\"index\\\",\\\"scope\\\":\\\"17989771529542327364\\\",\\\"id\\\":\\\"5466375458924710819\\\",\\\"type\\\":\\\"observable\\\"})};\\n    var self = this;\\n    function AppViewModel() {\\n        for (var key in json_data) {\\n            var el = json_data[key];\\n            this[key] = Array.isArray(el) ? ko.observableArray(el) : ko.observable(el);\\n        }\\n        \\n        [this[\\\"formatted_val\\\"]=ko.computed(    function(){\\n        return this.formatted_vals()[parseInt(this.index())-(1)];\\n    }\\n,this)]\\n        [this[\\\"changes\\\"].subscribe((function (val){!(this.valueFromJulia[\\\"changes\\\"]) ? (WebIO.setval({\\\"name\\\":\\\"changes\\\",\\\"scope\\\":\\\"17989771529542327364\\\",\\\"id\\\":\\\"13637239570841406098\\\",\\\"type\\\":\\\"observable\\\"},val)) : undefined; return this.valueFromJulia[\\\"changes\\\"]=false}),self),this[\\\"index\\\"].subscribe((function (val){!(this.valueFromJulia[\\\"index\\\"]) ? (WebIO.setval({\\\"name\\\":\\\"index\\\",\\\"scope\\\":\\\"17989771529542327364\\\",\\\"id\\\":\\\"5466375458924710819\\\",\\\"type\\\":\\\"observable\\\"},val)) : undefined; return this.valueFromJulia[\\\"index\\\"]=false}),self)]\\n        \\n    }\\n    self.model = new AppViewModel();\\n    self.valueFromJulia = {};\\n    for (var key in json_data) {\\n        self.valueFromJulia[key] = false;\\n    }\\n    ko.applyBindings(self.model, self.dom);\\n}\\n);\\n    (WebIO.importBlock({\\\"data\\\":[{\\\"name\\\":\\\"knockout\\\",\\\"type\\\":\\\"js\\\",\\\"url\\\":\\\"/assetserver/4b78a831658f9469be0fa90a874237d533cfc56e-knockout.js\\\"},{\\\"name\\\":\\\"knockout_punches\\\",\\\"type\\\":\\\"js\\\",\\\"url\\\":\\\"/assetserver/32cf81589ef7eb25886db6e5be297d237f8599ce-knockout_punches.js\\\"}],\\\"type\\\":\\\"async_block\\\"})).then((imports) => handler.apply(this, imports));\\n}\\n\")])], Dict{Symbol, Any}(:className => \"field interact-widget\")), Node{WebIO.DOM}(WebIO.DOM(:html, :div), Any[Scope(Node{WebIO.DOM}(WebIO.DOM(:html, :div), Any[Node{WebIO.DOM}(WebIO.DOM(:html, :div), Any[Node{WebIO.DOM}(WebIO.DOM(:html, :label), Any[\"s_noise\"], Dict{Symbol, Any}(:className => \"interact \", :style => Dict{Any, Any}(:padding => \"5px 10px 0px 10px\")))], Dict{Symbol, Any}(:className => \"interact-flex-row-left\")), Node{WebIO.DOM}(WebIO.DOM(:html, :div), Any[Node{WebIO.DOM}(WebIO.DOM(:html, :input), Any[], Dict{Symbol, Any}(:max => 10, :min => 1, :attributes => Dict{Any, Any}(:type => \"range\", Symbol(\"data-bind\") => \"numericValue: index, valueUpdate: 'input', event: {change: function (){this.changes(this.changes()+1)}}\", \"orient\" => \"horizontal\"), :step => 1, :className => \"slider slider is-fullwidth\", :style => Dict{Any, Any}()))], Dict{Symbol, Any}(:className => \"interact-flex-row-center\")), Node{WebIO.DOM}(WebIO.DOM(:html, :div), Any[Node{WebIO.DOM}(WebIO.DOM(:html, :p), Any[], Dict{Symbol, Any}(:attributes => Dict(\"data-bind\" => \"text: formatted_val\")))], Dict{Symbol, Any}(:className => \"interact-flex-row-right\"))], Dict{Symbol, Any}(:className => \"interact-flex-row interact-widget\")), Dict{String, Tuple{AbstractObservable, Union{Nothing, Bool}}}(\"changes\" => (Observable(0), nothing), \"index\" => (Observable{Any}(5), nothing)), Set{String}(), nothing, Asset[Asset(\"js\", \"knockout\", \"/home/ubuntu/.julia/packages/Knockout/HReiN/src/../assets/knockout.js\"), Asset(\"js\", \"knockout_punches\", \"/home/ubuntu/.julia/packages/Knockout/HReiN/src/../assets/knockout_punches.js\"), Asset(\"js\", nothing, \"/home/ubuntu/.julia/packages/InteractBase/Qhvxg/src/../assets/all.js\"), Asset(\"css\", nothing, \"/home/ubuntu/.julia/packages/InteractBase/Qhvxg/src/../assets/style.css\"), Asset(\"css\", nothing, \"/home/ubuntu/.julia/packages/Interact/PENUy/src/../assets/bulma_confined.min.css\")], Dict{Any, Any}(\"changes\" => Any[WebIO.JSString(\"(function (val){return (val!=this.model[\\\"changes\\\"]()) ? (this.valueFromJulia[\\\"changes\\\"]=true, this.model[\\\"changes\\\"](val)) : undefined})\")], \"index\" => Any[WebIO.JSString(\"(function (val){return (val!=this.model[\\\"index\\\"]()) ? (this.valueFromJulia[\\\"index\\\"]=true, this.model[\\\"index\\\"](val)) : undefined})\")]), WebIO.ConnectionPool(Channel{Any}(32), Set{AbstractConnection}(), Condition(Base.InvasiveLinkedList{Task}(Task (runnable) @0x00007f5c89c37990, Task (runnable) @0x00007f5c89c37990), Base.AlwaysLockedST(1))), WebIO.JSString[WebIO.JSString(\"function () {\\n    var handler = (function (ko, koPunches) {\\n    ko.punches.enableAll();\\n    ko.bindingHandlers.numericValue = {\\n        init: function(element, valueAccessor, allBindings, data, context) {\\n            var stringified = ko.observable(ko.unwrap(valueAccessor()));\\n            stringified.subscribe(function(value) {\\n                var val = parseFloat(value);\\n                if (!isNaN(val)) {\\n                    valueAccessor()(val);\\n                }\\n            });\\n            valueAccessor().subscribe(function(value) {\\n                var str = JSON.stringify(value);\\n                if ((str == \\\"0\\\") && ([\\\"-0\\\", \\\"-0.\\\"].indexOf(stringified()) >= 0))\\n                     return;\\n                 if ([\\\"null\\\", \\\"\\\"].indexOf(str) >= 0)\\n                     return;\\n                stringified(str);\\n            });\\n            ko.applyBindingsToNode(\\n                element,\\n                {\\n                    value: stringified,\\n                    valueUpdate: allBindings.get('valueUpdate'),\\n                },\\n                context,\\n            );\\n        }\\n    };\\n    var json_data = {\\\"formatted_vals\\\":[\\\"0.01\\\",\\\"0.12\\\",\\\"0.23\\\",\\\"0.34\\\",\\\"0.45\\\",\\\"0.56\\\",\\\"0.67\\\",\\\"0.78\\\",\\\"0.89\\\",\\\"1.0\\\"],\\\"changes\\\":WebIO.getval({\\\"name\\\":\\\"changes\\\",\\\"scope\\\":\\\"14528206746972488032\\\",\\\"id\\\":\\\"14866675834646597711\\\",\\\"type\\\":\\\"observable\\\"}),\\\"index\\\":WebIO.getval({\\\"name\\\":\\\"index\\\",\\\"scope\\\":\\\"14528206746972488032\\\",\\\"id\\\":\\\"6329127300525171036\\\",\\\"type\\\":\\\"observable\\\"})};\\n    var self = this;\\n    function AppViewModel() {\\n        for (var key in json_data) {\\n            var el = json_data[key];\\n            this[key] = Array.isArray(el) ? ko.observableArray(el) : ko.observable(el);\\n        }\\n        \\n        [this[\\\"formatted_val\\\"]=ko.computed(    function(){\\n        return this.formatted_vals()[parseInt(this.index())-(1)];\\n    }\\n,this)]\\n        [this[\\\"changes\\\"].subscribe((function (val){!(this.valueFromJulia[\\\"changes\\\"]) ? (WebIO.setval({\\\"name\\\":\\\"changes\\\",\\\"scope\\\":\\\"14528206746972488032\\\",\\\"id\\\":\\\"14866675834646597711\\\",\\\"type\\\":\\\"observable\\\"},val)) : undefined; return this.valueFromJulia[\\\"changes\\\"]=false}),self),this[\\\"index\\\"].subscribe((function (val){!(this.valueFromJulia[\\\"index\\\"]) ? (WebIO.setval({\\\"name\\\":\\\"index\\\",\\\"scope\\\":\\\"14528206746972488032\\\",\\\"id\\\":\\\"6329127300525171036\\\",\\\"type\\\":\\\"observable\\\"},val)) : undefined; return this.valueFromJulia[\\\"index\\\"]=false}),self)]\\n        \\n    }\\n    self.model = new AppViewModel();\\n    self.valueFromJulia = {};\\n    for (var key in json_data) {\\n        self.valueFromJulia[key] = false;\\n    }\\n    ko.applyBindings(self.model, self.dom);\\n}\\n);\\n    (WebIO.importBlock({\\\"data\\\":[{\\\"name\\\":\\\"knockout\\\",\\\"type\\\":\\\"js\\\",\\\"url\\\":\\\"/assetserver/4b78a831658f9469be0fa90a874237d533cfc56e-knockout.js\\\"},{\\\"name\\\":\\\"knockout_punches\\\",\\\"type\\\":\\\"js\\\",\\\"url\\\":\\\"/assetserver/32cf81589ef7eb25886db6e5be297d237f8599ce-knockout_punches.js\\\"}],\\\"type\\\":\\\"async_block\\\"})).then((imports) => handler.apply(this, imports));\\n}\\n\")])], Dict{Symbol, Any}(:className => \"field interact-widget\")), Node{WebIO.DOM}(WebIO.DOM(:html, :div), Any[Scope(Node{WebIO.DOM}(WebIO.DOM(:html, :div), Any[Node{WebIO.DOM}(WebIO.DOM(:html, :div), Any[Node{WebIO.DOM}(WebIO.DOM(:html, :label), Any[\"grid_n\"], Dict{Symbol, Any}(:className => \"interact \", :style => Dict{Any, Any}(:padding => \"5px 10px 0px 10px\")))], Dict{Symbol, Any}(:className => \"interact-flex-row-left\")), Node{WebIO.DOM}(WebIO.DOM(:html, :div), Any[Node{WebIO.DOM}(WebIO.DOM(:html, :input), Any[], Dict{Symbol, Any}(:max => 10, :min => 1, :attributes => Dict{Any, Any}(:type => \"range\", Symbol(\"data-bind\") => \"numericValue: index, valueUpdate: 'input', event: {change: function (){this.changes(this.changes()+1)}}\", \"orient\" => \"horizontal\"), :step => 1, :className => \"slider slider is-fullwidth\", :style => Dict{Any, Any}()))], Dict{Symbol, Any}(:className => \"interact-flex-row-center\")), Node{WebIO.DOM}(WebIO.DOM(:html, :div), Any[Node{WebIO.DOM}(WebIO.DOM(:html, :p), Any[], Dict{Symbol, Any}(:attributes => Dict(\"data-bind\" => \"text: formatted_val\")))], Dict{Symbol, Any}(:className => \"interact-flex-row-right\"))], Dict{Symbol, Any}(:className => \"interact-flex-row interact-widget\")), Dict{String, Tuple{AbstractObservable, Union{Nothing, Bool}}}(\"changes\" => (Observable(0), nothing), \"index\" => (Observable(5), nothing)), Set{String}(), nothing, Asset[Asset(\"js\", \"knockout\", \"/home/ubuntu/.julia/packages/Knockout/HReiN/src/../assets/knockout.js\"), Asset(\"js\", \"knockout_punches\", \"/home/ubuntu/.julia/packages/Knockout/HReiN/src/../assets/knockout_punches.js\"), Asset(\"js\", nothing, \"/home/ubuntu/.julia/packages/InteractBase/Qhvxg/src/../assets/all.js\"), Asset(\"css\", nothing, \"/home/ubuntu/.julia/packages/InteractBase/Qhvxg/src/../assets/style.css\"), Asset(\"css\", nothing, \"/home/ubuntu/.julia/packages/Interact/PENUy/src/../assets/bulma_confined.min.css\")], Dict{Any, Any}(\"changes\" => Any[WebIO.JSString(\"(function (val){return (val!=this.model[\\\"changes\\\"]()) ? (this.valueFromJulia[\\\"changes\\\"]=true, this.model[\\\"changes\\\"](val)) : undefined})\")], \"index\" => Any[WebIO.JSString(\"(function (val){return (val!=this.model[\\\"index\\\"]()) ? (this.valueFromJulia[\\\"index\\\"]=true, this.model[\\\"index\\\"](val)) : undefined})\")]), WebIO.ConnectionPool(Channel{Any}(32), Set{AbstractConnection}(), Condition(Base.InvasiveLinkedList{Task}(Task (runnable) @0x00007f5c8b88c5d0, Task (runnable) @0x00007f5c8b88c5d0), Base.AlwaysLockedST(1))), WebIO.JSString[WebIO.JSString(\"function () {\\n    var handler = (function (ko, koPunches) {\\n    ko.punches.enableAll();\\n    ko.bindingHandlers.numericValue = {\\n        init: function(element, valueAccessor, allBindings, data, context) {\\n            var stringified = ko.observable(ko.unwrap(valueAccessor()));\\n            stringified.subscribe(function(value) {\\n                var val = parseFloat(value);\\n                if (!isNaN(val)) {\\n                    valueAccessor()(val);\\n                }\\n            });\\n            valueAccessor().subscribe(function(value) {\\n                var str = JSON.stringify(value);\\n                if ((str == \\\"0\\\") && ([\\\"-0\\\", \\\"-0.\\\"].indexOf(stringified()) >= 0))\\n                     return;\\n                 if ([\\\"null\\\", \\\"\\\"].indexOf(str) >= 0)\\n                     return;\\n                stringified(str);\\n            });\\n            ko.applyBindingsToNode(\\n                element,\\n                {\\n                    value: stringified,\\n                    valueUpdate: allBindings.get('valueUpdate'),\\n                },\\n                context,\\n            );\\n        }\\n    };\\n    var json_data = {\\\"formatted_vals\\\":[\\\"1\\\",\\\"2\\\",\\\"3\\\",\\\"4\\\",\\\"5\\\",\\\"6\\\",\\\"7\\\",\\\"8\\\",\\\"9\\\",\\\"10\\\"],\\\"changes\\\":WebIO.getval({\\\"name\\\":\\\"changes\\\",\\\"scope\\\":\\\"3673388560178951148\\\",\\\"id\\\":\\\"10396463575851316101\\\",\\\"type\\\":\\\"observable\\\"}),\\\"index\\\":WebIO.getval({\\\"name\\\":\\\"index\\\",\\\"scope\\\":\\\"3673388560178951148\\\",\\\"id\\\":\\\"14397460879361996835\\\",\\\"type\\\":\\\"observable\\\"})};\\n    var self = this;\\n    function AppViewModel() {\\n        for (var key in json_data) {\\n            var el = json_data[key];\\n            this[key] = Array.isArray(el) ? ko.observableArray(el) : ko.observable(el);\\n        }\\n        \\n        [this[\\\"formatted_val\\\"]=ko.computed(    function(){\\n        return this.formatted_vals()[parseInt(this.index())-(1)];\\n    }\\n,this)]\\n        [this[\\\"changes\\\"].subscribe((function (val){!(this.valueFromJulia[\\\"changes\\\"]) ? (WebIO.setval({\\\"name\\\":\\\"changes\\\",\\\"scope\\\":\\\"3673388560178951148\\\",\\\"id\\\":\\\"10396463575851316101\\\",\\\"type\\\":\\\"observable\\\"},val)) : undefined; return this.valueFromJulia[\\\"changes\\\"]=false}),self),this[\\\"index\\\"].subscribe((function (val){!(this.valueFromJulia[\\\"index\\\"]) ? (WebIO.setval({\\\"name\\\":\\\"index\\\",\\\"scope\\\":\\\"3673388560178951148\\\",\\\"id\\\":\\\"14397460879361996835\\\",\\\"type\\\":\\\"observable\\\"},val)) : undefined; return this.valueFromJulia[\\\"index\\\"]=false}),self)]\\n        \\n    }\\n    self.model = new AppViewModel();\\n    self.valueFromJulia = {};\\n    for (var key in json_data) {\\n        self.valueFromJulia[key] = false;\\n    }\\n    ko.applyBindings(self.model, self.dom);\\n}\\n);\\n    (WebIO.importBlock({\\\"data\\\":[{\\\"name\\\":\\\"knockout\\\",\\\"type\\\":\\\"js\\\",\\\"url\\\":\\\"/assetserver/4b78a831658f9469be0fa90a874237d533cfc56e-knockout.js\\\"},{\\\"name\\\":\\\"knockout_punches\\\",\\\"type\\\":\\\"js\\\",\\\"url\\\":\\\"/assetserver/32cf81589ef7eb25886db6e5be297d237f8599ce-knockout_punches.js\\\"}],\\\"type\\\":\\\"async_block\\\"})).then((imports) => handler.apply(this, imports));\\n}\\n\")])], Dict{Symbol, Any}(:className => \"field interact-widget\")), Node{WebIO.DOM}(WebIO.DOM(:html, :div), Any[Scope(Node{WebIO.DOM}(WebIO.DOM(:html, :div), Any[Node{WebIO.DOM}(WebIO.DOM(:html, :div), Any[Node{WebIO.DOM}(WebIO.DOM(:html, :label), Any[\"grid_k\"], Dict{Symbol, Any}(:className => \"interact \", :style => Dict{Any, Any}(:padding => \"5px 10px 0px 10px\")))], Dict{Symbol, Any}(:className => \"interact-flex-row-left\")), Node{WebIO.DOM}(WebIO.DOM(:html, :div), Any[Node{WebIO.DOM}(WebIO.DOM(:html, :input), Any[], Dict{Symbol, Any}(:max => 10, :min => 2, :attributes => Dict{Any, Any}(:type => \"range\", Symbol(\"data-bind\") => \"numericValue: index, valueUpdate: 'input', event: {change: function (){this.changes(this.changes()+1)}}\", \"orient\" => \"horizontal\"), :step => 1, :className => \"slider slider is-fullwidth\", :style => Dict{Any, Any}()))], Dict{Symbol, Any}(:className => \"interact-flex-row-center\")), Node{WebIO.DOM}(WebIO.DOM(:html, :div), Any[Node{WebIO.DOM}(WebIO.DOM(:html, :p), Any[], Dict{Symbol, Any}(:attributes => Dict(\"data-bind\" => \"text: formatted_val\")))], Dict{Symbol, Any}(:className => \"interact-flex-row-right\"))], Dict{Symbol, Any}(:className => \"interact-flex-row interact-widget\")), Dict{String, Tuple{AbstractObservable, Union{Nothing, Bool}}}(\"changes\" => (Observable(0), nothing), \"index\" => (Observable(6), nothing)), Set{String}(), nothing, Asset[Asset(\"js\", \"knockout\", \"/home/ubuntu/.julia/packages/Knockout/HReiN/src/../assets/knockout.js\"), Asset(\"js\", \"knockout_punches\", \"/home/ubuntu/.julia/packages/Knockout/HReiN/src/../assets/knockout_punches.js\"), Asset(\"js\", nothing, \"/home/ubuntu/.julia/packages/InteractBase/Qhvxg/src/../assets/all.js\"), Asset(\"css\", nothing, \"/home/ubuntu/.julia/packages/InteractBase/Qhvxg/src/../assets/style.css\"), Asset(\"css\", nothing, \"/home/ubuntu/.julia/packages/Interact/PENUy/src/../assets/bulma_confined.min.css\")], Dict{Any, Any}(\"changes\" => Any[WebIO.JSString(\"(function (val){return (val!=this.model[\\\"changes\\\"]()) ? (this.valueFromJulia[\\\"changes\\\"]=true, this.model[\\\"changes\\\"](val)) : undefined})\")], \"index\" => Any[WebIO.JSString(\"(function (val){return (val!=this.model[\\\"index\\\"]()) ? (this.valueFromJulia[\\\"index\\\"]=true, this.model[\\\"index\\\"](val)) : undefined})\")]), WebIO.ConnectionPool(Channel{Any}(32), Set{AbstractConnection}(), Condition(Base.InvasiveLinkedList{Task}(Task (runnable) @0x00007f5c8b88d150, Task (runnable) @0x00007f5c8b88d150), Base.AlwaysLockedST(1))), WebIO.JSString[WebIO.JSString(\"function () {\\n    var handler = (function (ko, koPunches) {\\n    ko.punches.enableAll();\\n    ko.bindingHandlers.numericValue = {\\n        init: function(element, valueAccessor, allBindings, data, context) {\\n            var stringified = ko.observable(ko.unwrap(valueAccessor()));\\n            stringified.subscribe(function(value) {\\n                var val = parseFloat(value);\\n                if (!isNaN(val)) {\\n                    valueAccessor()(val);\\n                }\\n            });\\n            valueAccessor().subscribe(function(value) {\\n                var str = JSON.stringify(value);\\n                if ((str == \\\"0\\\") && ([\\\"-0\\\", \\\"-0.\\\"].indexOf(stringified()) >= 0))\\n                     return;\\n                 if ([\\\"null\\\", \\\"\\\"].indexOf(str) >= 0)\\n                     return;\\n                stringified(str);\\n            });\\n            ko.applyBindingsToNode(\\n                element,\\n                {\\n                    value: stringified,\\n                    valueUpdate: allBindings.get('valueUpdate'),\\n                },\\n                context,\\n            );\\n        }\\n    };\\n    var json_data = {\\\"formatted_vals\\\":[\\\"2\\\",\\\"3\\\",\\\"4\\\",\\\"5\\\",\\\"6\\\",\\\"7\\\",\\\"8\\\",\\\"9\\\",\\\"10\\\"],\\\"changes\\\":WebIO.getval({\\\"name\\\":\\\"changes\\\",\\\"scope\\\":\\\"12266068664632075953\\\",\\\"id\\\":\\\"14867078706874053701\\\",\\\"type\\\":\\\"observable\\\"}),\\\"index\\\":WebIO.getval({\\\"name\\\":\\\"index\\\",\\\"scope\\\":\\\"12266068664632075953\\\",\\\"id\\\":\\\"5791100556740637270\\\",\\\"type\\\":\\\"observable\\\"})};\\n    var self = this;\\n    function AppViewModel() {\\n        for (var key in json_data) {\\n            var el = json_data[key];\\n            this[key] = Array.isArray(el) ? ko.observableArray(el) : ko.observable(el);\\n        }\\n        \\n        [this[\\\"formatted_val\\\"]=ko.computed(    function(){\\n        return this.formatted_vals()[parseInt(this.index())-(2)];\\n    }\\n,this)]\\n        [this[\\\"changes\\\"].subscribe((function (val){!(this.valueFromJulia[\\\"changes\\\"]) ? (WebIO.setval({\\\"name\\\":\\\"changes\\\",\\\"scope\\\":\\\"12266068664632075953\\\",\\\"id\\\":\\\"14867078706874053701\\\",\\\"type\\\":\\\"observable\\\"},val)) : undefined; return this.valueFromJulia[\\\"changes\\\"]=false}),self),this[\\\"index\\\"].subscribe((function (val){!(this.valueFromJulia[\\\"index\\\"]) ? (WebIO.setval({\\\"name\\\":\\\"index\\\",\\\"scope\\\":\\\"12266068664632075953\\\",\\\"id\\\":\\\"5791100556740637270\\\",\\\"type\\\":\\\"observable\\\"},val)) : undefined; return this.valueFromJulia[\\\"index\\\"]=false}),self)]\\n        \\n    }\\n    self.model = new AppViewModel();\\n    self.valueFromJulia = {};\\n    for (var key in json_data) {\\n        self.valueFromJulia[key] = false;\\n    }\\n    ko.applyBindings(self.model, self.dom);\\n}\\n);\\n    (WebIO.importBlock({\\\"data\\\":[{\\\"name\\\":\\\"knockout\\\",\\\"type\\\":\\\"js\\\",\\\"url\\\":\\\"/assetserver/4b78a831658f9469be0fa90a874237d533cfc56e-knockout.js\\\"},{\\\"name\\\":\\\"knockout_punches\\\",\\\"type\\\":\\\"js\\\",\\\"url\\\":\\\"/assetserver/32cf81589ef7eb25886db6e5be297d237f8599ce-knockout_punches.js\\\"}],\\\"type\\\":\\\"async_block\\\"})).then((imports) => handler.apply(this, imports));\\n}\\n\")])], Dict{Symbol, Any}(:className => \"field interact-widget\")), Node{WebIO.DOM}(WebIO.DOM(:html, :div), Any[Scope(Node{WebIO.DOM}(WebIO.DOM(:html, :div), Any[Node{WebIO.DOM}(WebIO.DOM(:html, :div), Any[Node{WebIO.DOM}(WebIO.DOM(:html, :label), Any[\"grid_w\"], Dict{Symbol, Any}(:className => \"interact \", :style => Dict{Any, Any}(:padding => \"5px 10px 0px 10px\")))], Dict{Symbol, Any}(:className => \"interact-flex-row-left\")), Node{WebIO.DOM}(WebIO.DOM(:html, :div), Any[Node{WebIO.DOM}(WebIO.DOM(:html, :input), Any[], Dict{Symbol, Any}(:max => 10, :min => 1, :attributes => Dict{Any, Any}(:type => \"range\", Symbol(\"data-bind\") => \"numericValue: index, valueUpdate: 'input', event: {change: function (){this.changes(this.changes()+1)}}\", \"orient\" => \"horizontal\"), :step => 1, :className => \"slider slider is-fullwidth\", :style => Dict{Any, Any}()))], Dict{Symbol, Any}(:className => \"interact-flex-row-center\")), Node{WebIO.DOM}(WebIO.DOM(:html, :div), Any[Node{WebIO.DOM}(WebIO.DOM(:html, :p), Any[], Dict{Symbol, Any}(:attributes => Dict(\"data-bind\" => \"text: formatted_val\")))], Dict{Symbol, Any}(:className => \"interact-flex-row-right\"))], Dict{Symbol, Any}(:className => \"interact-flex-row interact-widget\")), Dict{String, Tuple{AbstractObservable, Union{Nothing, Bool}}}(\"changes\" => (Observable(0), nothing), \"index\" => (Observable{Any}(5), nothing)), Set{String}(), nothing, Asset[Asset(\"js\", \"knockout\", \"/home/ubuntu/.julia/packages/Knockout/HReiN/src/../assets/knockout.js\"), Asset(\"js\", \"knockout_punches\", \"/home/ubuntu/.julia/packages/Knockout/HReiN/src/../assets/knockout_punches.js\"), Asset(\"js\", nothing, \"/home/ubuntu/.julia/packages/InteractBase/Qhvxg/src/../assets/all.js\"), Asset(\"css\", nothing, \"/home/ubuntu/.julia/packages/InteractBase/Qhvxg/src/../assets/style.css\"), Asset(\"css\", nothing, \"/home/ubuntu/.julia/packages/Interact/PENUy/src/../assets/bulma_confined.min.css\")], Dict{Any, Any}(\"changes\" => Any[WebIO.JSString(\"(function (val){return (val!=this.model[\\\"changes\\\"]()) ? (this.valueFromJulia[\\\"changes\\\"]=true, this.model[\\\"changes\\\"](val)) : undefined})\")], \"index\" => Any[WebIO.JSString(\"(function (val){return (val!=this.model[\\\"index\\\"]()) ? (this.valueFromJulia[\\\"index\\\"]=true, this.model[\\\"index\\\"](val)) : undefined})\")]), WebIO.ConnectionPool(Channel{Any}(32), Set{AbstractConnection}(), Condition(Base.InvasiveLinkedList{Task}(Task (runnable) @0x00007f5c8b88d880, Task (runnable) @0x00007f5c8b88d880), Base.AlwaysLockedST(1))), WebIO.JSString[WebIO.JSString(\"function () {\\n    var handler = (function (ko, koPunches) {\\n    ko.punches.enableAll();\\n    ko.bindingHandlers.numericValue = {\\n        init: function(element, valueAccessor, allBindings, data, context) {\\n            var stringified = ko.observable(ko.unwrap(valueAccessor()));\\n            stringified.subscribe(function(value) {\\n                var val = parseFloat(value);\\n                if (!isNaN(val)) {\\n                    valueAccessor()(val);\\n                }\\n            });\\n            valueAccessor().subscribe(function(value) {\\n                var str = JSON.stringify(value);\\n                if ((str == \\\"0\\\") && ([\\\"-0\\\", \\\"-0.\\\"].indexOf(stringified()) >= 0))\\n                     return;\\n                 if ([\\\"null\\\", \\\"\\\"].indexOf(str) >= 0)\\n                     return;\\n                stringified(str);\\n            });\\n            ko.applyBindingsToNode(\\n                element,\\n                {\\n                    value: stringified,\\n                    valueUpdate: allBindings.get('valueUpdate'),\\n                },\\n                context,\\n            );\\n        }\\n    };\\n    var json_data = {\\\"formatted_vals\\\":[\\\"1\\\",\\\"6\\\",\\\"11\\\",\\\"16\\\",\\\"21\\\",\\\"26\\\",\\\"31\\\",\\\"36\\\",\\\"41\\\",\\\"46\\\"],\\\"changes\\\":WebIO.getval({\\\"name\\\":\\\"changes\\\",\\\"scope\\\":\\\"2928548521688923081\\\",\\\"id\\\":\\\"11040795841207543401\\\",\\\"type\\\":\\\"observable\\\"}),\\\"index\\\":WebIO.getval({\\\"name\\\":\\\"index\\\",\\\"scope\\\":\\\"2928548521688923081\\\",\\\"id\\\":\\\"7177452608964947839\\\",\\\"type\\\":\\\"observable\\\"})};\\n    var self = this;\\n    function AppViewModel() {\\n        for (var key in json_data) {\\n            var el = json_data[key];\\n            this[key] = Array.isArray(el) ? ko.observableArray(el) : ko.observable(el);\\n        }\\n        \\n        [this[\\\"formatted_val\\\"]=ko.computed(    function(){\\n        return this.formatted_vals()[parseInt(this.index())-(1)];\\n    }\\n,this)]\\n        [this[\\\"changes\\\"].subscribe((function (val){!(this.valueFromJulia[\\\"changes\\\"]) ? (WebIO.setval({\\\"name\\\":\\\"changes\\\",\\\"scope\\\":\\\"2928548521688923081\\\",\\\"id\\\":\\\"11040795841207543401\\\",\\\"type\\\":\\\"observable\\\"},val)) : undefined; return this.valueFromJulia[\\\"changes\\\"]=false}),self),this[\\\"index\\\"].subscribe((function (val){!(this.valueFromJulia[\\\"index\\\"]) ? (WebIO.setval({\\\"name\\\":\\\"index\\\",\\\"scope\\\":\\\"2928548521688923081\\\",\\\"id\\\":\\\"7177452608964947839\\\",\\\"type\\\":\\\"observable\\\"},val)) : undefined; return this.valueFromJulia[\\\"index\\\"]=false}),self)]\\n        \\n    }\\n    self.model = new AppViewModel();\\n    self.valueFromJulia = {};\\n    for (var key in json_data) {\\n        self.valueFromJulia[key] = false;\\n    }\\n    ko.applyBindings(self.model, self.dom);\\n}\\n);\\n    (WebIO.importBlock({\\\"data\\\":[{\\\"name\\\":\\\"knockout\\\",\\\"type\\\":\\\"js\\\",\\\"url\\\":\\\"/assetserver/4b78a831658f9469be0fa90a874237d533cfc56e-knockout.js\\\"},{\\\"name\\\":\\\"knockout_punches\\\",\\\"type\\\":\\\"js\\\",\\\"url\\\":\\\"/assetserver/32cf81589ef7eb25886db6e5be297d237f8599ce-knockout_punches.js\\\"}],\\\"type\\\":\\\"async_block\\\"})).then((imports) => handler.apply(this, imports));\\n}\\n\")])], Dict{Symbol, Any}(:className => \"field interact-widget\")), Node{WebIO.DOM}(WebIO.DOM(:html, :div), Any[Scope(Node{WebIO.DOM}(WebIO.DOM(:html, :div), Any[Node{WebIO.DOM}(WebIO.DOM(:html, :div), Any[Node{WebIO.DOM}(WebIO.DOM(:html, :label), Any[\"grid_s_noise\"], Dict{Symbol, Any}(:className => \"interact \", :style => Dict{Any, Any}(:padding => \"5px 10px 0px 10px\")))], Dict{Symbol, Any}(:className => \"interact-flex-row-left\")), Node{WebIO.DOM}(WebIO.DOM(:html, :div), Any[Node{WebIO.DOM}(WebIO.DOM(:html, :input), Any[], Dict{Symbol, Any}(:max => 10, :min => 1, :attributes => Dict{Any, Any}(:type => \"range\", Symbol(\"data-bind\") => \"numericValue: index, valueUpdate: 'input', event: {change: function (){this.changes(this.changes()+1)}}\", \"orient\" => \"horizontal\"), :step => 1, :className => \"slider slider is-fullwidth\", :style => Dict{Any, Any}()))], Dict{Symbol, Any}(:className => \"interact-flex-row-center\")), Node{WebIO.DOM}(WebIO.DOM(:html, :div), Any[Node{WebIO.DOM}(WebIO.DOM(:html, :p), Any[], Dict{Symbol, Any}(:attributes => Dict(\"data-bind\" => \"text: formatted_val\")))], Dict{Symbol, Any}(:className => \"interact-flex-row-right\"))], Dict{Symbol, Any}(:className => \"interact-flex-row interact-widget\")), Dict{String, Tuple{AbstractObservable, Union{Nothing, Bool}}}(\"changes\" => (Observable(0), nothing), \"index\" => (Observable{Any}(5), nothing)), Set{String}(), nothing, Asset[Asset(\"js\", \"knockout\", \"/home/ubuntu/.julia/packages/Knockout/HReiN/src/../assets/knockout.js\"), Asset(\"js\", \"knockout_punches\", \"/home/ubuntu/.julia/packages/Knockout/HReiN/src/../assets/knockout_punches.js\"), Asset(\"js\", nothing, \"/home/ubuntu/.julia/packages/InteractBase/Qhvxg/src/../assets/all.js\"), Asset(\"css\", nothing, \"/home/ubuntu/.julia/packages/InteractBase/Qhvxg/src/../assets/style.css\"), Asset(\"css\", nothing, \"/home/ubuntu/.julia/packages/Interact/PENUy/src/../assets/bulma_confined.min.css\")], Dict{Any, Any}(\"changes\" => Any[WebIO.JSString(\"(function (val){return (val!=this.model[\\\"changes\\\"]()) ? (this.valueFromJulia[\\\"changes\\\"]=true, this.model[\\\"changes\\\"](val)) : undefined})\")], \"index\" => Any[WebIO.JSString(\"(function (val){return (val!=this.model[\\\"index\\\"]()) ? (this.valueFromJulia[\\\"index\\\"]=true, this.model[\\\"index\\\"](val)) : undefined})\")]), WebIO.ConnectionPool(Channel{Any}(32), Set{AbstractConnection}(), Condition(Base.InvasiveLinkedList{Task}(Task (runnable) @0x00007f5c8b88fb00, Task (runnable) @0x00007f5c8b88fb00), Base.AlwaysLockedST(1))), WebIO.JSString[WebIO.JSString(\"function () {\\n    var handler = (function (ko, koPunches) {\\n    ko.punches.enableAll();\\n    ko.bindingHandlers.numericValue = {\\n        init: function(element, valueAccessor, allBindings, data, context) {\\n            var stringified = ko.observable(ko.unwrap(valueAccessor()));\\n            stringified.subscribe(function(value) {\\n                var val = parseFloat(value);\\n                if (!isNaN(val)) {\\n                    valueAccessor()(val);\\n                }\\n            });\\n            valueAccessor().subscribe(function(value) {\\n                var str = JSON.stringify(value);\\n                if ((str == \\\"0\\\") && ([\\\"-0\\\", \\\"-0.\\\"].indexOf(stringified()) >= 0))\\n                     return;\\n                 if ([\\\"null\\\", \\\"\\\"].indexOf(str) >= 0)\\n                     return;\\n                stringified(str);\\n            });\\n            ko.applyBindingsToNode(\\n                element,\\n                {\\n                    value: stringified,\\n                    valueUpdate: allBindings.get('valueUpdate'),\\n                },\\n                context,\\n            );\\n        }\\n    };\\n    var json_data = {\\\"formatted_vals\\\":[\\\"0.01\\\",\\\"0.12\\\",\\\"0.23\\\",\\\"0.34\\\",\\\"0.45\\\",\\\"0.56\\\",\\\"0.67\\\",\\\"0.78\\\",\\\"0.89\\\",\\\"1.0\\\"],\\\"changes\\\":WebIO.getval({\\\"name\\\":\\\"changes\\\",\\\"scope\\\":\\\"2925215358630221232\\\",\\\"id\\\":\\\"2830025736425862510\\\",\\\"type\\\":\\\"observable\\\"}),\\\"index\\\":WebIO.getval({\\\"name\\\":\\\"index\\\",\\\"scope\\\":\\\"2925215358630221232\\\",\\\"id\\\":\\\"10249383898199816129\\\",\\\"type\\\":\\\"observable\\\"})};\\n    var self = this;\\n    function AppViewModel() {\\n        for (var key in json_data) {\\n            var el = json_data[key];\\n            this[key] = Array.isArray(el) ? ko.observableArray(el) : ko.observable(el);\\n        }\\n        \\n        [this[\\\"formatted_val\\\"]=ko.computed(    function(){\\n        return this.formatted_vals()[parseInt(this.index())-(1)];\\n    }\\n,this)]\\n        [this[\\\"changes\\\"].subscribe((function (val){!(this.valueFromJulia[\\\"changes\\\"]) ? (WebIO.setval({\\\"name\\\":\\\"changes\\\",\\\"scope\\\":\\\"2925215358630221232\\\",\\\"id\\\":\\\"2830025736425862510\\\",\\\"type\\\":\\\"observable\\\"},val)) : undefined; return this.valueFromJulia[\\\"changes\\\"]=false}),self),this[\\\"index\\\"].subscribe((function (val){!(this.valueFromJulia[\\\"index\\\"]) ? (WebIO.setval({\\\"name\\\":\\\"index\\\",\\\"scope\\\":\\\"2925215358630221232\\\",\\\"id\\\":\\\"10249383898199816129\\\",\\\"type\\\":\\\"observable\\\"},val)) : undefined; return this.valueFromJulia[\\\"index\\\"]=false}),self)]\\n        \\n    }\\n    self.model = new AppViewModel();\\n    self.valueFromJulia = {};\\n    for (var key in json_data) {\\n        self.valueFromJulia[key] = false;\\n    }\\n    ko.applyBindings(self.model, self.dom);\\n}\\n);\\n    (WebIO.importBlock({\\\"data\\\":[{\\\"name\\\":\\\"knockout\\\",\\\"type\\\":\\\"js\\\",\\\"url\\\":\\\"/assetserver/4b78a831658f9469be0fa90a874237d533cfc56e-knockout.js\\\"},{\\\"name\\\":\\\"knockout_punches\\\",\\\"type\\\":\\\"js\\\",\\\"url\\\":\\\"/assetserver/32cf81589ef7eb25886db6e5be297d237f8599ce-knockout_punches.js\\\"}],\\\"type\\\":\\\"async_block\\\"})).then((imports) => handler.apply(this, imports));\\n}\\n\")])], Dict{Symbol, Any}(:className => \"field interact-widget\")), Observable(Node{WebIO.DOM}(WebIO.DOM(:html, :div), Any[Plots.AnimatedGif(\"/home/ubuntu/workspace/probabilistic-slam-in-gen/notebooks/_gifs/_vkm_2/loc_naive.gif\")], Dict{Symbol, Any}(:className => \"interact-flex-row interact-widget\")))], Dict{Symbol, Any}())"
      ]
     },
     "execution_count": 141,
     "metadata": {
      "application/vnd.webio.node+json": {
       "kernelId": "bc6eeea2-3d0a-423f-acc7-e3db04fd1f37"
      }
     },
     "output_type": "execute_result"
    },
    {
     "name": "stdout",
     "output_type": "stream",
     "text": [
      "1\n",
      "1"
     ]
    },
    {
     "name": "stderr",
     "output_type": "stream",
     "text": [
      "\u001b[36m\u001b[1m[ \u001b[22m\u001b[39m\u001b[36m\u001b[1mInfo: \u001b[22m\u001b[39mSaved animation to /home/ubuntu/workspace/probabilistic-slam-in-gen/notebooks/_gifs/_vkm_2/loc_pf.gif\n"
     ]
    },
    {
     "name": "stdout",
     "output_type": "stream",
     "text": [
      "1\n",
      "1"
     ]
    },
    {
     "name": "stderr",
     "output_type": "stream",
     "text": [
      "\u001b[36m\u001b[1m[ \u001b[22m\u001b[39m\u001b[36m\u001b[1mInfo: \u001b[22m\u001b[39mSaved animation to /home/ubuntu/workspace/probabilistic-slam-in-gen/notebooks/_gifs/_vkm_2/loc_pf.gif\n"
     ]
    },
    {
     "name": "stdout",
     "output_type": "stream",
     "text": [
      "123456789101112131415161718192021\n",
      "123456789101112131415161718192021"
     ]
    },
    {
     "name": "stderr",
     "output_type": "stream",
     "text": [
      "\u001b[36m\u001b[1m[ \u001b[22m\u001b[39m\u001b[36m\u001b[1mInfo: \u001b[22m\u001b[39mSaved animation to /home/ubuntu/workspace/probabilistic-slam-in-gen/notebooks/_gifs/_vkm_2/loc_pf.gif\n"
     ]
    },
    {
     "name": "stdout",
     "output_type": "stream",
     "text": [
      "123456789101112131415161718192021\n",
      "123456789101112131415161718192021"
     ]
    },
    {
     "name": "stderr",
     "output_type": "stream",
     "text": [
      "\u001b[36m\u001b[1m[ \u001b[22m\u001b[39m\u001b[36m\u001b[1mInfo: \u001b[22m\u001b[39mSaved animation to /home/ubuntu/workspace/probabilistic-slam-in-gen/notebooks/_gifs/_vkm_2/loc_smc.gif\n"
     ]
    }
   ],
   "source": [
    "ani = Animation()\n",
    "frames=[]\n",
    "\n",
    "\n",
    "\n",
    "@manipulate for n=slider(1:20:60, value=1, label=\"n\"),\n",
    "                T=5:20,\n",
    "                N=slider(1:50:250, value=1, label=\"N\"),\n",
    "                show_u=[false, true],\n",
    "                show_x=[false, true],\n",
    "                which_x_n=1:10,\n",
    "                which_x_t=1:20,\n",
    "                posterior=[:naive, :pf, :smc],\n",
    "                x_noise  = range(0.001,0.5,5),\n",
    "                hd_noise = range(0.001,45.,5),\n",
    "                mix_w   = 1:5:50,\n",
    "                s_noise = range(0.01,1.0,10),\n",
    "                grid_n=1:10,\n",
    "                grid_k=2:10,\n",
    "                grid_w=1:5:50,\n",
    "                grid_s_noise=range(0.01,1.0,10)\n",
    "    \n",
    "    args = get_model_args(x_noise, hd_noise, mix_w, s_noise);\n",
    "    grid_args = get_grid_args(grid_n, grid_k, grid_w, grid_s_noise);\n",
    "    \n",
    "    trs = []\n",
    "    for i=1:n\n",
    "        print(i)\n",
    "        if posterior == :naive\n",
    "            tr,w = naive_posterior(T, N, args)\n",
    "        elseif posterior == :pf\n",
    "            tr,w = simple_posterior(T, N, args)\n",
    "        elseif posterior == :smc\n",
    "            tr,w = smc_posterior(T, args, grid_args)\n",
    "        end\n",
    "        push!(trs,tr)\n",
    "    end\n",
    "\n",
    "    mypl = plot(size=(500,500), legend=nothing; \n",
    "        xlim=(4,17),\n",
    "        ylim=(8,19),\n",
    "        aspect_ratio=:equal)\n",
    "    \n",
    "ani_new = Animation()\n",
    "println()\n",
    "n=14\n",
    "for i=1:length(trs)\n",
    "# for i=1:1\n",
    "    print(i)\n",
    "    mypl = plot(size=(500,500), legend=nothing, title=\"$(posterior)\\nσₓ = $(x_noise)\\nσᵣ = $(hd_noise)\"; \n",
    "        xlim=(4,17),\n",
    "        ylim=(8,19),\n",
    "        aspect_ratio=:equal)\n",
    "    \n",
    "    plot!(_segs, c=:black, linewidth=2)\n",
    "\n",
    "\n",
    "    \n",
    "    if show_x\n",
    "            tt = which_x_t\n",
    "            nn = which_x_n\n",
    "       x_true = polar_inv(_zs[tt],_as)\n",
    "        scatter!(x_true.*_ps[tt], c=:red, markersize=2, markerstrokewidth=0, alpha=0.5 )\n",
    "    end\n",
    "    ss = range(0,0.9,n)\n",
    "    for j=1:n\n",
    "\n",
    "        s= ss[j]\n",
    "        i_ = mod(i+j-1,length(trs))+1\n",
    "        tr = trs[i_]\n",
    "\n",
    "        ps = [r[1] for r in tr[]];\n",
    "        xs = [r[2] for r in tr[]];\n",
    "        \n",
    "        c = :lightgray\n",
    "            \n",
    "#         for l=1:30:360\n",
    "#         for (a,b) in zip(x_true,xs[end])\n",
    "#                 plot!([x_true[l]*_ps[T],xs[end][l]*ps[end]], c=:red, alpha=range(0,0.2,n)[j])\n",
    "#         end\n",
    "#             scatter!(xs[end].*ps[end], c=col[1], markersize=1, markerstrokewidth=0, alpha=range(0,0.2,n)[j] )\n",
    "#         scatter!(xs[end].*ps[end], c=col[1], markersize=3, markerstrokewidth=0, alpha=range(0,0.2,n)[j] )\n",
    "            \n",
    "        plot!([p.x for p in ps], c=c, linewidth=1, alpha=range(0,0.8,n)[j] )\n",
    "        plot!(ps, c=c, r=0.25, linewidth=2, alpha=range(0,1.,n)[j] )\n",
    "    end\n",
    "    \n",
    "\n",
    "    \n",
    "    plot!(_ps[1:T+1],c=:black, r=0.5, linewidth=2)\n",
    "    if show_x\n",
    "            tt = which_x_t\n",
    "            nn = which_x_n\n",
    "\n",
    "        plot!([_ps[tt]],c=:red, r=0.5, linewidth=3)\n",
    "    end\n",
    "    if show_u\n",
    "            pus = [Pose(p.x+u[1],p.hd+u[2]) for (p,u) in zip(_ps[2:end],args[1])]\n",
    "        \n",
    "        for tt in 1:T\n",
    "            plot!([_ps[1+tt].x,pus[tt].x],c=:green, r=0.25, linewidth=2, alpha=0.5)\n",
    "        end\n",
    "        plot!(pus[1:T],c=:green, r=0.25, linewidth=2)\n",
    "    end\n",
    "        \n",
    "    \n",
    "    frame(ani_new, mypl)\n",
    "        mypl\n",
    "    \n",
    "end\n",
    "#     mypl\n",
    "    ani = ani_new\n",
    "    gif(ani, \"_gifs/_vkm_2/loc_$(posterior).gif\", fps=15)\n",
    "end"
   ]
  },
  {
   "cell_type": "code",
   "execution_count": null,
   "id": "67b618c8",
   "metadata": {},
   "outputs": [],
   "source": [
    "x = 0.5\n",
    "\n",
    "\n",
    "function func(args...)\n",
    "    global x\n",
    "    x += π/4\n",
    "end\n",
    "update = button(\"Sample\")\n"
   ]
  },
  {
   "cell_type": "code",
   "execution_count": null,
   "id": "57f55a11",
   "metadata": {},
   "outputs": [],
   "source": [
    "@manipulate for f = [sin, cos], both = false\n",
    "\n",
    "end"
   ]
  },
  {
   "cell_type": "code",
   "execution_count": 676,
   "id": "e7614cb6",
   "metadata": {},
   "outputs": [
    {
     "name": "stdout",
     "output_type": "stream",
     "text": [
      "1-2-3-4-5-6-7-8-9-10-11-12-13-14-15-16-17-18-19-20-21-22-23-24-25-26-27-28-29-30-31-32-33-34-35-36-37-38-39-40-41-42-43-44-45-46-47-48-49-50-"
     ]
    }
   ],
   "source": [
    "T = 17\n",
    "trs= []\n",
    "ws = []\n",
    "for i=1:50\n",
    "    print(i, \"-\")\n",
    "    N = 10\n",
    "    tr,w = naive_posterior(T, N, args)\n",
    "#     tr,w = simple_posterior(T, N, args)\n",
    "#     tr,w = smc_posterior(T, args, grid_args)\n",
    "    push!(trs,tr)\n",
    "    push!(ws,w)\n",
    "end"
   ]
  },
  {
   "cell_type": "code",
   "execution_count": 675,
   "id": "430f30e6",
   "metadata": {},
   "outputs": [
    {
     "name": "stdout",
     "output_type": "stream",
     "text": [
      "1-"
     ]
    },
    {
     "name": "stderr",
     "output_type": "stream",
     "text": [
      "\u001b[36m\u001b[1m[ \u001b[22m\u001b[39m\u001b[36m\u001b[1mInfo: \u001b[22m\u001b[39mSaved animation to /home/ubuntu/workspace/probabilistic-slam-in-gen/notebooks/tmp.gif\n"
     ]
    },
    {
     "data": {
      "text/html": [
       "<img src=\"data:image/gif;base64,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\" />"
      ],
      "text/plain": [
       "Plots.AnimatedGif(\"/home/ubuntu/workspace/probabilistic-slam-in-gen/notebooks/tmp.gif\")"
      ]
     },
     "execution_count": 675,
     "metadata": {},
     "output_type": "execute_result"
    }
   ],
   "source": [
    "T = length(trs[1][])\n",
    "ani = Animation()\n",
    "n = 40\n",
    "# for i=1:length(trs)\n",
    "for i=1:1\n",
    "    print(i, \"-\")\n",
    "    mypl = plot(size=(500,500), legend=nothing; \n",
    "        xlim=(4,17),\n",
    "        ylim=(8,19),\n",
    "        aspect_ratio=:equal)\n",
    "    \n",
    "    plot!(_segs, c=:black, linewidth=2)\n",
    "\n",
    "\n",
    "\n",
    "    \n",
    "    ss = range(0,0.9,n)\n",
    "    for j=1:n\n",
    "\n",
    "        s= ss[j]\n",
    "        i_ = mod(i+j-1,length(trs))+1\n",
    "        tr = trs[i_]\n",
    "#     for (s,tr) in zip(range(0,1,n),trs[i:i+n])\n",
    "        ps = [r[1] for r in tr[]];\n",
    "        xs = [r[2] for r in tr[]];\n",
    "        \n",
    "        c = :lightgray\n",
    "#         scatter!(xs[end].*ps[end], c=col[1], markersize=3, markerstrokewidth=0, alpha=range(0,0.2,n)[j] )\n",
    "        plot!([p.x for p in ps], c=c, linewidth=1, alpha=range(0,0.8,n)[j] )\n",
    "        plot!(ps, c=c, r=0.25, linewidth=2, alpha=range(0,1.,n)[j] )\n",
    "    end\n",
    "    \n",
    "#     plot!(_ps[1:T],c=:red, r=0.5, linewidth=2)\n",
    "    \n",
    "    plot!(_ps[1:T],c=:black, r=0.5, linewidth=2)\n",
    "    \n",
    "    frame(ani, mypl)\n",
    "    \n",
    "end;\n",
    "\n",
    "gif(ani,fps=15)"
   ]
  },
  {
   "cell_type": "code",
   "execution_count": 595,
   "id": "e2758172",
   "metadata": {},
   "outputs": [
    {
     "name": "stderr",
     "output_type": "stream",
     "text": [
      "\u001b[36m\u001b[1m[ \u001b[22m\u001b[39m\u001b[36m\u001b[1mInfo: \u001b[22m\u001b[39mSaved animation to /home/ubuntu/workspace/probabilistic-slam-in-gen/notebooks/gifs/smc.gif\n"
     ]
    },
    {
     "data": {
      "text/html": [
       "<img src=\"data:image/gif;base64,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\" />"
      ],
      "text/plain": [
       "Plots.AnimatedGif(\"/home/ubuntu/workspace/probabilistic-slam-in-gen/notebooks/gifs/smc.gif\")"
      ]
     },
     "execution_count": 595,
     "metadata": {},
     "output_type": "execute_result"
    }
   ],
   "source": [
    "gif(ani, \"gifs/smc.gif\", fps=15)"
   ]
  },
  {
   "cell_type": "code",
   "execution_count": null,
   "id": "45760996",
   "metadata": {},
   "outputs": [],
   "source": []
  }
 ],
 "metadata": {
  "@webio": {
   "lastCommId": "2eb6ccc0f554417c9c09a2707c447e58",
   "lastKernelId": "6f2bdd22-6166-40b9-990e-86828e82b2dd"
  },
  "kernelspec": {
   "display_name": "Julia 1.8.3",
   "language": "julia",
   "name": "julia-1.8"
  },
  "language_info": {
   "file_extension": ".jl",
   "mimetype": "application/julia",
   "name": "julia",
   "version": "1.8.3"
  },
  "toc": {
   "base_numbering": 1,
   "nav_menu": {},
   "number_sections": true,
   "sideBar": true,
   "skip_h1_title": true,
   "title_cell": "Table of Contents",
   "title_sidebar": "Contents",
   "toc_cell": false,
   "toc_position": {
    "height": "713px",
    "left": "23px",
    "top": "111.141px",
    "width": "308.75px"
   },
   "toc_section_display": true,
   "toc_window_display": true
  }
 },
 "nbformat": 4,
 "nbformat_minor": 5
}
