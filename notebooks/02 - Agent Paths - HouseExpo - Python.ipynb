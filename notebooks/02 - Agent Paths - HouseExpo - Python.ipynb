{
 "cells": [
  {
   "cell_type": "code",
   "execution_count": 5,
   "id": "b3dea980",
   "metadata": {},
   "outputs": [
    {
     "name": "stdout",
     "output_type": "stream",
     "text": [
      "The autoreload extension is already loaded. To reload it, use:\n",
      "  %reload_ext autoreload\n"
     ]
    },
    {
     "data": {
      "text/html": [
       "<style>.rendered_html.text_cell_render {max-width:600px; }</style>"
      ],
      "text/plain": [
       "<IPython.core.display.HTML object>"
      ]
     },
     "metadata": {},
     "output_type": "display_data"
    }
   ],
   "source": [
    "%load_ext autoreload\n",
    "%autoreload 2\n",
    "%matplotlib inline\n",
    "from IPython.display import display, HTML\n",
    "from ipywidgets import interact, FloatSlider, IntSlider, Button, Output \n",
    "display(HTML(\"<style>.rendered_html.text_cell_render {max-width:600px; }</style>\")) "
   ]
  },
  {
   "cell_type": "markdown",
   "id": "3c54e6d1",
   "metadata": {},
   "source": [
    "# Agent paths\n",
    "\n",
    "Resourses and useful links:\n",
    "\n",
    " - ..."
   ]
  },
  {
   "cell_type": "code",
   "execution_count": 7,
   "id": "a81a9251",
   "metadata": {},
   "outputs": [],
   "source": [
    "import matplotlib.pyplot as plt\n",
    "import numpy as np\n",
    "from nbx.fileio import load, dump, ls\n",
    "from pathlib import Path"
   ]
  },
  {
   "cell_type": "code",
   "execution_count": 8,
   "id": "d46faf2e",
   "metadata": {},
   "outputs": [
    {
     "data": {
      "text/plain": [
       "['0004d52d1aeeb8ae6de39d6bd993e992.json',\n",
       " '0004dd3cb11e50530676f77b55262d38.json',\n",
       " '000514ade3bcc292a613a4c2755a5050.json',\n",
       " '00052c0562bde7790f8354e6123ae7ff.json',\n",
       " '000539881d82c92e43ff2e471a97fcf9.json',\n",
       " '0005b92a9ed6349df155a462947bfdfe.json',\n",
       " '00065ecbdd7300d35ef4328ffe871505.json',\n",
       " '000cf80f9ff74db95a46cd3a269a6e7c.json',\n",
       " '000d0395709d2a16e195c6f0189155c4.json',\n",
       " '000d939dc2257995adcb27483b04ad04.json']"
      ]
     },
     "execution_count": 8,
     "metadata": {},
     "output_type": "execute_result"
    }
   ],
   "source": [
    "data_path = Path(\"data\")\n",
    "ls(data_path/\"_house_expo_json\").files[:10]"
   ]
  },
  {
   "cell_type": "code",
   "execution_count": 10,
   "id": "3b7d7f09",
   "metadata": {
    "scrolled": false
   },
   "outputs": [
    {
     "name": "stdout",
     "output_type": "stream",
     "text": [
      "0\n"
     ]
    },
    {
     "data": {
      "image/png": "[encoded data removed]",
      "text/plain": [
       "<Figure size 200x200 with 1 Axes>"
      ]
     },
     "metadata": {},
     "output_type": "display_data"
    },
    {
     "name": "stdout",
     "output_type": "stream",
     "text": [
      "1\n"
     ]
    },
    {
     "data": {
      "image/png": "[encoded data removed]",
      "text/plain": [
       "<Figure size 200x200 with 1 Axes>"
      ]
     },
     "metadata": {},
     "output_type": "display_data"
    }
   ],
   "source": [
    "for i in range(0,2):\n",
    "    env_name = ls(data_path/\"_house_expo_json\").files[i]\n",
    "    d = load(data_path/\"_house_expo_json\"/env_name)\n",
    "    print(i)\n",
    "    verts = d['verts']\n",
    "    verts.append(verts[0])\n",
    "\n",
    "    plt.figure(figsize=(2,2))\n",
    "    plt.gca().set_aspect(1)\n",
    "    plt.plot(*np.array(d['verts']).T);\n",
    "    plt.show()"
   ]
  },
  {
   "cell_type": "code",
   "execution_count": 11,
   "id": "df7d6c93",
   "metadata": {
    "scrolled": false
   },
   "outputs": [
    {
     "name": "stdout",
     "output_type": "stream",
     "text": [
      "dict_keys(['verts', 'id', 'room_category', 'room_num', 'bbox'])\n"
     ]
    },
    {
     "data": {
      "image/png": "[encoded data removed]",
      "text/plain": [
       "<Figure size 200x200 with 1 Axes>"
      ]
     },
     "metadata": {},
     "output_type": "display_data"
    }
   ],
   "source": [
    "env_name = ls(data_path/\"_house_expo_json\").files[0]\n",
    "d = load(data_path/\"_house_expo_json\"/env_name)\n",
    "print(d.keys())\n",
    "\n",
    "verts = d['verts']\n",
    "verts.append(verts[0])\n",
    "\n",
    "plt.figure(figsize=(2,2))\n",
    "plt.gca().set_aspect(1)\n",
    "plt.plot(*np.array(d['verts']).T);"
   ]
  },
  {
   "cell_type": "markdown",
   "id": "2b93361f",
   "metadata": {},
   "source": [
    "# Construct a path interactively"
   ]
  },
  {
   "cell_type": "code",
   "execution_count": 12,
   "id": "542bd1ed",
   "metadata": {},
   "outputs": [
    {
     "data": {
      "text/plain": [
       "9"
      ]
     },
     "execution_count": 12,
     "metadata": {},
     "output_type": "execute_result"
    },
    {
     "name": "stdout",
     "output_type": "stream",
     "text": [
      "#paths = #1...\n",
      "#paths = #2...\n"
     ]
    }
   ],
   "source": [
    "# Not `%matplotlib inline`\n",
    "%matplotlib tk \n",
    "# Code adapted from:\n",
    "# https://stackoverflow.com/questions/25521120/store-mouse-click-event-coordinates-with-matplotlib\n",
    "import numpy as np\n",
    "import matplotlib.pyplot as plt\n",
    "import json\n",
    "\n",
    "x = np.arange(-10,10)\n",
    "y = x**2\n",
    "\n",
    "fig = plt.figure(figsize=(8,8))\n",
    "ax = fig.add_subplot(111)\n",
    "ax.set_aspect(1)\n",
    "\n",
    "ax.plot(*np.array(d[\"verts\"]).T)\n",
    "scatter = ax.scatter([],[])\n",
    "scatter.set_color(f\"C1\")\n",
    "\n",
    "paths = [[]]\n",
    "recording = True\n",
    "c = 0\n",
    "\n",
    "def onclick(event):\n",
    "    x, y = event.xdata, event.ydata\n",
    "    # print(f\"x = {x}, y = {y}\")\n",
    "\n",
    "    global paths\n",
    "    global fig, ax, c;\n",
    "    \n",
    "    if recording:\n",
    "        paths[-1].append((x, y))\n",
    "        scatter.set_offsets(np.array(paths[-1]))\n",
    "        fig.canvas.draw()\n",
    "\n",
    "def press(event):\n",
    "    global recording, c;\n",
    "\n",
    "    if event.key == \"enter\":\n",
    "        print(f\"#paths = #{len(paths)}...\")\n",
    "        if len(paths[-1]) > 0:\n",
    "            paths.append([])\n",
    "        \n",
    "fig.canvas.mpl_connect(\"key_press_event\", press)\n",
    "fig.canvas.mpl_connect(\"button_press_event\", onclick)"
   ]
  },
  {
   "cell_type": "code",
   "execution_count": null,
   "id": "3e9c6f16",
   "metadata": {},
   "outputs": [],
   "source": [
    "%matplotlib inline\n",
    "plt.figure(figsize=(4,4))\n",
    "plt.gca().set_aspect(1)\n",
    "plt.plot(*np.array(d['verts']).T);\n",
    "for path in paths:\n",
    "    plt.plot(*np.array(path).T, marker=\".\")"
   ]
  },
  {
   "cell_type": "code",
   "execution_count": 11,
   "id": "f7e77759",
   "metadata": {},
   "outputs": [],
   "source": [
    "fname = \"path_data.json\"\n",
    "dump(dict(env_name=env_name, paths=paths, verts=verts), data_path/fname )"
   ]
  },
  {
   "cell_type": "code",
   "execution_count": null,
   "id": "03644e31",
   "metadata": {},
   "outputs": [],
   "source": []
  }
 ],
 "metadata": {
  "@webio": {
   "lastCommId": null,
   "lastKernelId": null
  },
  "kernelspec": {
   "display_name": "Python 3 (ipykernel)",
   "language": "python",
   "name": "python3"
  },
  "language_info": {
   "codemirror_mode": {
    "name": "ipython",
    "version": 3
   },
   "file_extension": ".py",
   "mimetype": "text/x-python",
   "name": "python",
   "nbconvert_exporter": "python",
   "pygments_lexer": "ipython3",
   "version": "3.7.12"
  },
  "toc": {
   "base_numbering": 1,
   "nav_menu": {},
   "number_sections": true,
   "sideBar": true,
   "skip_h1_title": false,
   "title_cell": "Table of Contents",
   "title_sidebar": "Contents",
   "toc_cell": false,
   "toc_position": {
    "height": "calc(100% - 180px)",
    "left": "10px",
    "top": "150px",
    "width": "460.188px"
   },
   "toc_section_display": true,
   "toc_window_display": true
  }
 },
 "nbformat": 4,
 "nbformat_minor": 5
}
